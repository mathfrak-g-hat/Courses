{
 "cells": [
  {
   "cell_type": "markdown",
   "id": "68c27442",
   "metadata": {},
   "source": [
    "# CSV Files in Python\n",
    "\n",
    "## A. J. Zerouali (21/07/27)\n",
    "\n",
    "This is Lecture 130 of Section 17, in Pierian Data's Python Bootcamp. The library used here is Python's built-in CSV library (it's just called **csv**), which does the raw basics: opening, reading, converting to lists, writing and saving.\n"
   ]
  },
  {
   "cell_type": "code",
   "execution_count": 1,
   "id": "438d4ef7",
   "metadata": {},
   "outputs": [],
   "source": [
    "import csv"
   ]
  },
  {
   "cell_type": "markdown",
   "id": "2bf1ce51",
   "metadata": {},
   "source": [
    "There are several other Python libraries for CSV processing:\n",
    "\n",
    "* The most relevant one for data science is Pandas, which contains some functions for data visualization.\n",
    "\n",
    "* Openpyxl which is compatible with the more sophisticated functionalities of MS Excel. With Python's CSV and Pandas, only raw data can be included in the CSVs, but Openpyxl allows to do more.\n",
    "\n",
    "* There's also Google's library to work with Google Spreadsheets, which is not limited to Python.\n"
   ]
  },
  {
   "cell_type": "markdown",
   "id": "b043399d",
   "metadata": {},
   "source": [
    "## Opening CSVs\n",
    "\n",
    "* Opening a CSV file is done with Python's usual  **open(*file_path_name*)**, except that to avoid encoding errors, one specifies an encoding with the **encoding = 'utf-8'** argument. Note that if the CSV is not in English, we may have to use other encodings."
   ]
  },
  {
   "cell_type": "code",
   "execution_count": 24,
   "id": "b272ceed",
   "metadata": {},
   "outputs": [],
   "source": [
    "data_clients_csv = open('example_data_clients.csv', encoding = 'utf-8')"
   ]
  },
  {
   "cell_type": "markdown",
   "id": "e43602c8",
   "metadata": {},
   "source": [
    "* To convert the file contents into a Python CSV object, we first use **csv.reader(*file_contents*, delimiter = ',')**. Here, the delimiter parameter is to read the data properly if the separator is not ',', e.g. if the file uses ';' or '\\t' (tabs) instead. \n",
    "\n",
    "* **Important:** The function **csv.reader()** creates a **reader object which only reads opened file**.\n",
    "\n",
    "* The conversion of the data in the CSV is done using the **list()** function on the reader:"
   ]
  },
  {
   "cell_type": "code",
   "execution_count": 25,
   "id": "efab7b45",
   "metadata": {},
   "outputs": [
    {
     "data": {
      "text/plain": [
       "_csv.reader"
      ]
     },
     "execution_count": 25,
     "metadata": {},
     "output_type": "execute_result"
    }
   ],
   "source": [
    "data_clients = csv.reader(data_clients_csv, delimiter = ',')\n",
    "type(data_clients)"
   ]
  },
  {
   "cell_type": "code",
   "execution_count": 26,
   "id": "624bbb64",
   "metadata": {},
   "outputs": [
    {
     "name": "stdout",
     "output_type": "stream",
     "text": [
      "['id', 'first_name', 'last_name', 'email', 'gender', 'ip_address', 'city']\n",
      "['1', 'Joseph', 'Zaniolini', 'jzaniolini0@simplemachines.org', 'Male', '163.168.68.132', 'Pedro Leopoldo']\n",
      "['2', 'Freida', 'Drillingcourt', 'fdrillingcourt1@umich.edu', 'Female', '97.212.102.79', 'Buri']\n",
      "['3', 'Nanni', 'Herity', 'nherity2@statcounter.com', 'Female', '145.151.178.98', 'Claver']\n",
      "['4', 'Orazio', 'Frayling', 'ofrayling3@economist.com', 'Male', '25.199.143.143', 'Kungur']\n",
      "['5', 'Julianne', 'Murrison', 'jmurrison4@cbslocal.com', 'Female', '10.186.243.144', 'Sainte-Luce-sur-Loire']\n"
     ]
    }
   ],
   "source": [
    "data_clients_lst = list(data_clients)\n",
    "\n",
    "for row in range(6):\n",
    "    print(data_clients_lst[row])"
   ]
  },
  {
   "cell_type": "markdown",
   "id": "2d4f2121",
   "metadata": {},
   "source": [
    "* The first line of a CSV is always the labels of the columns (which are separated by the delimiter obviously)."
   ]
  },
  {
   "cell_type": "code",
   "execution_count": 27,
   "id": "59b5a188",
   "metadata": {},
   "outputs": [
    {
     "data": {
      "text/plain": [
       "['id', 'first_name', 'last_name', 'email', 'gender', 'ip_address', 'city']"
      ]
     },
     "execution_count": 27,
     "metadata": {},
     "output_type": "execute_result"
    }
   ],
   "source": [
    "data_clients_lst[0]"
   ]
  },
  {
   "cell_type": "code",
   "execution_count": 28,
   "id": "080c492e",
   "metadata": {},
   "outputs": [],
   "source": [
    "data_clients_csv.close()"
   ]
  },
  {
   "cell_type": "markdown",
   "id": "a3f018c5",
   "metadata": {},
   "source": [
    "* Once we get the list (of lists) of rows in the CSV file, we can essentially manipulate the data with the usual Python functions. For example, let's make a new list with the full names and cities of the clients:"
   ]
  },
  {
   "cell_type": "code",
   "execution_count": 31,
   "id": "fc46026e",
   "metadata": {},
   "outputs": [],
   "source": [
    "data_clients_names = [['Full Name', 'City']]\n",
    "\n",
    "for row in range(1,len(data_clients_lst)):\n",
    "    data_clients_names.append([ data_clients_lst[row][1]+' '+data_clients_lst[row][2], \\\n",
    "                                data_clients_lst[row][6] ])"
   ]
  },
  {
   "cell_type": "code",
   "execution_count": 33,
   "id": "15e8767b",
   "metadata": {},
   "outputs": [
    {
     "name": "stdout",
     "output_type": "stream",
     "text": [
      "['Full Name', 'City']\n",
      "['Joseph Zaniolini', 'Pedro Leopoldo']\n",
      "['Freida Drillingcourt', 'Buri']\n",
      "['Nanni Herity', 'Claver']\n",
      "['Orazio Frayling', 'Kungur']\n",
      "['Julianne Murrison', 'Sainte-Luce-sur-Loire']\n"
     ]
    }
   ],
   "source": [
    "for row in data_clients_names[0:6]:\n",
    "    print(row)\n"
   ]
  },
  {
   "cell_type": "markdown",
   "id": "764c2d49",
   "metadata": {},
   "source": [
    "## Writing CSVs\n",
    "\n",
    "* Writing a CSV file uses the **csv.writer()** function. First we open a new file in write or append mode, we enter the appropriate encoding, and specify that the new lines are indicated by *empty strings* in the new CSV (see help on open())."
   ]
  },
  {
   "cell_type": "code",
   "execution_count": 41,
   "id": "98032b55",
   "metadata": {},
   "outputs": [],
   "source": [
    "# Open/create the file in which we'll save the data\n",
    "file_clients_names = open('example_data_clients_names_cities.csv', mode = 'w', encoding='utf-8', newline = '')\n"
   ]
  },
  {
   "cell_type": "markdown",
   "id": "22d3e055",
   "metadata": {},
   "source": [
    "* Next, create a writer object. The first argument is the file (variable) in which we'll write the rows, and we also specify the delimiter. "
   ]
  },
  {
   "cell_type": "code",
   "execution_count": 42,
   "id": "2dc6151a",
   "metadata": {},
   "outputs": [],
   "source": [
    "csv_writer = csv.writer(file_clients_names, delimiter = ',')"
   ]
  },
  {
   "cell_type": "markdown",
   "id": "afed212f",
   "metadata": {},
   "source": [
    "* The actual writing is done with the **.writerow(*row_list*)** or **.writerows(*list_rows*)**:"
   ]
  },
  {
   "cell_type": "code",
   "execution_count": 43,
   "id": "c22c7b3f",
   "metadata": {},
   "outputs": [],
   "source": [
    "csv_writer.writerows(data_clients_names)"
   ]
  },
  {
   "cell_type": "code",
   "execution_count": 44,
   "id": "ad0e069d",
   "metadata": {},
   "outputs": [],
   "source": [
    "file_clients_names.close()"
   ]
  }
 ],
 "metadata": {
  "kernelspec": {
   "display_name": "Python 3",
   "language": "python",
   "name": "python3"
  },
  "language_info": {
   "codemirror_mode": {
    "name": "ipython",
    "version": 3
   },
   "file_extension": ".py",
   "mimetype": "text/x-python",
   "name": "python",
   "nbconvert_exporter": "python",
   "pygments_lexer": "ipython3",
   "version": "3.8.8"
  }
 },
 "nbformat": 4,
 "nbformat_minor": 5
}
