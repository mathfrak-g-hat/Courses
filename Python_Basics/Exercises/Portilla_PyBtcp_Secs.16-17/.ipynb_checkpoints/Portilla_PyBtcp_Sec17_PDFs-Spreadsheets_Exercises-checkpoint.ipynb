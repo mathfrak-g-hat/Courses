{
 "cells": [
  {
   "cell_type": "markdown",
   "metadata": {},
   "source": [
    "# PDFs and Spreadsheets Puzzle Exercise\n",
    "\n",
    "## A. J. Zerouali (21/07/27)\n",
    "\n",
    "Let's test your skills, the files needed for this puzzle exercise\n",
    "\n",
    "You will need to work with two files for this exercise and solve the following tasks:\n",
    "\n",
    "* Task One: Use Python to extract the Google Drive link from the .csv file. (Hint: Its along the diagonal from top left to bottom right).\n",
    "* Task Two: Download the PDF from the Google Drive link (we already downloaded it for you just in case you can't download from Google Drive) and find the phone number that is in the document. Note: There are different ways of formatting a phone number!"
   ]
  },
  {
   "cell_type": "code",
   "execution_count": 1,
   "metadata": {},
   "outputs": [],
   "source": [
    "import csv\n",
    "import PyPDF2"
   ]
  },
  {
   "cell_type": "markdown",
   "metadata": {},
   "source": [
    "## Task One: Grab the Google Drive Link from .csv File"
   ]
  },
  {
   "cell_type": "markdown",
   "metadata": {},
   "source": [
    "Homeboy Portilla be playin' games man. The characters are on the diagonal of this array in the CSV.\n",
    "\n",
    "1) Open the file with the appropriate reading parameters (i.e. mode and encoding).\n",
    "\n",
    "2) Create the CSV reader and convert to a list.\n",
    "\n",
    "3) Extract the link."
   ]
  },
  {
   "cell_type": "code",
   "execution_count": 2,
   "metadata": {},
   "outputs": [],
   "source": [
    "# Open file\n",
    "link_csv = open('find_the_link.csv', mode = 'r', encoding = 'utf-8')\n",
    "\n",
    "# Create reader\n",
    "csv_reader = csv.reader(link_csv, delimiter = ',')\n",
    "\n",
    "# Convert to list\n",
    "csv_content = list(csv_reader)"
   ]
  },
  {
   "cell_type": "code",
   "execution_count": 3,
   "metadata": {},
   "outputs": [],
   "source": [
    "link_csv.close()"
   ]
  },
  {
   "cell_type": "code",
   "execution_count": 6,
   "metadata": {},
   "outputs": [
    {
     "name": "stdout",
     "output_type": "stream",
     "text": [
      "https://drive.google.com/open?id=1G6SEgg018UB4_4xsAJJ5TdzrhmXipr4Q\n"
     ]
    }
   ],
   "source": [
    "# Link string initialization\n",
    "link_str = ''\n",
    "\n",
    "# extract link on diagonal of data\n",
    "for i in range(len(csv_content)):\n",
    "    link_str += csv_content[i][i]\n",
    "    \n",
    "print(link_str)"
   ]
  },
  {
   "cell_type": "markdown",
   "metadata": {},
   "source": [
    "I would normally use wget to download the file at the link above, but my browsers have been acting weird lately. I'll avoid creating any additional vulnerabilities through Jupyter..."
   ]
  },
  {
   "cell_type": "markdown",
   "metadata": {
    "collapsed": true
   },
   "source": [
    "### Answer:"
   ]
  },
  {
   "cell_type": "code",
   "execution_count": 14,
   "metadata": {},
   "outputs": [
    {
     "data": {
      "text/plain": [
       "'https://drive.google.com/open?id=1G6SEgg018UB4_4xsAJJ5TdzrhmXipr4Q'"
      ]
     },
     "execution_count": 14,
     "metadata": {},
     "output_type": "execute_result"
    }
   ],
   "source": [
    "# THe correct result is shown below, if you can't download from Google Drive, \n",
    "# we added the PDF file to the Exercise_Files folder already"
   ]
  },
  {
   "cell_type": "markdown",
   "metadata": {},
   "source": [
    "_____________"
   ]
  },
  {
   "cell_type": "markdown",
   "metadata": {},
   "source": [
    "## Task Two: Download the PDF from the Google Drive link and find the phone number that is in the document. "
   ]
  },
  {
   "cell_type": "markdown",
   "metadata": {},
   "source": [
    "Here we'll proceed as follows:\n",
    "\n",
    "1) Open the file \"Find_the_Phone_Number\".\n",
    "\n",
    "2) Create a reader obj. using PyPDF2.\n",
    "\n",
    "3) Store the pages from the pdf into the reader.\n",
    "\n",
    "4) Loop over pages to extract text and search for \"phone\" and \"number\"\n",
    "\n",
    "Answer: We find the number 505-503-4455."
   ]
  },
  {
   "cell_type": "code",
   "execution_count": 9,
   "metadata": {},
   "outputs": [],
   "source": [
    "# Open pdf file in 'rb'\n",
    "dl_pdf_file = open('Find_the_Phone_Number.pdf', mode = 'rb')\n",
    "\n",
    "# Create reader\n",
    "pdf_reader = PyPDF2.PdfFileReader(dl_pdf_file)\n"
   ]
  },
  {
   "cell_type": "code",
   "execution_count": 10,
   "metadata": {},
   "outputs": [
    {
     "data": {
      "text/plain": [
       "17"
      ]
     },
     "execution_count": 10,
     "metadata": {},
     "output_type": "execute_result"
    }
   ],
   "source": [
    "pdf_reader.numPages"
   ]
  },
  {
   "cell_type": "code",
   "execution_count": 21,
   "metadata": {},
   "outputs": [
    {
     "name": "stdout",
     "output_type": "stream",
     "text": [
      "\n",
      "FOUND 'phone' ON PAGE 13:\n",
      "\n",
      "\n",
      "Technologically savvy can you slack\n",
      " \n",
      "it to me? drink from the firehose, synergestic \n",
      "actionables. Obviously this is a no\n",
      "-\n",
      "brainer, so what about scaling components to a \n",
      "global audience?, so dunder mifflin regroup. We need to get all stakeholders up to \n",
      "speed and in the right place knowledge is \n",
      "power circle back around, yet horsehead offer \n",
      "red flag we need this overall to be busier and more active hit the ground running. Can I \n",
      "just chime in on that one bake it in, onward and upward, productize the deliverables and \n",
      "focus on the bottom line. Deploy\n",
      ". Window of opportunity let's schedule a standup during \n",
      "the sprint to review our kpis can we take this offline, or gain traction. Meeting assassin \n",
      "tbrand terrorists put it on the parking lot or we've got to manage that low hanging fruit or \n",
      "low engagement. \n",
      "Meeting assassin hire the best yet we need distributors to evangelize \n",
      "the new line to local markets, or corporate synergy nor face time. What do you feel you \n",
      "would bring to the table if you were hired for this position synergestic actionables yet \n",
      "work flow\n",
      "s , nor marketing computer development html roi feedback team website what \n",
      "do you feel you would bring to the table if you were hired for this position dear hiring \n",
      "manager:. Can you ballpark the cost per unit for me. Five\n",
      "-\n",
      "year strategic plan shotgun \n",
      "approa\n",
      "ch, it just needs more cowbell. Out of the loop player\n",
      "-\n",
      "coach. What's our go to \n",
      "market strategy?.\n",
      " \n",
      " \n",
      " \n",
      "Not the long pole in my tent beef up, or accountable talk yet bleeding edge, so sorry i \n",
      "didn't get your email. All hands on deck we need to harvest synergy e\n",
      "ffects, big data \n",
      "what's the status on the deliverables for eow? Can you call Saul Goodman for me? His \n",
      "phone number is 505.503.4455. So horsehead offer. Talk to the slides no scraps hit the \n",
      "floor window\n",
      "-\n",
      "licker. Nail it down who's responsible for the ask for\n",
      " \n",
      "this request? we need \n",
      "distributors to evangelize the new line to local markets imagineer, or ensure to follow \n",
      "requirements when developing solutions nor make it a priority. Out of scope drink from \n",
      "the firehose, or shoot me an email nor we don't need to bo\n",
      "il the ocean here strategic fit, \n",
      "nor prairie dogging. Bottleneck mice quick\n",
      "-\n",
      "win to be inspired is to become creative, \n",
      "innovative and energized we want this philosophy to trickle down to all our stakeholders \n",
      "or synergestic actionables. I don't want to drain\n",
      " \n",
      "the whole swamp, i just want to shoot \n",
      "some alligators cannibalize, and define the underlying principles that drive decisions \n",
      "and strategy for your design language so I just wanted to give you a heads\n",
      "-\n",
      "up, or \n",
      "churning anomalies but ultimate measure of succe\n",
      "ss yet first\n",
      "-\n",
      "order optimal strategies. If \n",
      "you want to motivate these clowns, try less carrot and more stick drill down focus on the \n",
      "customer journey feature creep after I ran into Helen at a restaurant, I realized she was \n",
      "just office pretty not a hill to d\n",
      "ie on yet pro\n",
      "-\n",
      "sumer software. Come up with something \n",
      "buzzworthy can you put it on my calendar? gage [sic] where the industry is heading and \n",
      "\n",
      "ask, yet in this space so criti\n",
      "cality horsehead offer. Gain traction onward and upward, \n",
      "productize the deliverables and focus on the bottom line for pro\n",
      "-\n",
      "sumer software, we just \n",
      "need to put these last issues to bed, and we have to leverage up the messaging forcing \n",
      "\n"
     ]
    }
   ],
   "source": [
    "for i_page in range(pdf_reader.numPages-1):\n",
    "    temp_page = pdf_reader.getPage(i_page)\n",
    "    if ('phone' in temp_page.extractText().lower()):\n",
    "        print(f'\\nFOUND \\'phone\\' ON PAGE {i_page}:\\n')\n",
    "        print(temp_page.extractText())\n",
    "    elif ('number' in temp_page.extractText().lower()):\n",
    "        print(f'\\nFOUND \\'NUMBER\\' ON PAGE {i_page}:\\n')\n",
    "        print(temp_page.extractText())\n",
    "    "
   ]
  },
  {
   "cell_type": "markdown",
   "metadata": {
    "collapsed": true
   },
   "source": [
    "### Answer:"
   ]
  },
  {
   "cell_type": "code",
   "execution_count": 1,
   "metadata": {
    "collapsed": true
   },
   "outputs": [],
   "source": [
    "# You should get this phone number\n",
    "# 505 503 4455"
   ]
  }
 ],
 "metadata": {
  "anaconda-cloud": {},
  "kernelspec": {
   "display_name": "Python 3",
   "language": "python",
   "name": "python3"
  },
  "language_info": {
   "codemirror_mode": {
    "name": "ipython",
    "version": 3
   },
   "file_extension": ".py",
   "mimetype": "text/x-python",
   "name": "python",
   "nbconvert_exporter": "python",
   "pygments_lexer": "ipython3",
   "version": "3.8.8"
  }
 },
 "nbformat": 4,
 "nbformat_minor": 2
}
