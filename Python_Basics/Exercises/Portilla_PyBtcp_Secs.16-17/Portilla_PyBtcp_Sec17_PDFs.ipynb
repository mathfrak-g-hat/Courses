{
 "cells": [
  {
   "cell_type": "markdown",
   "id": "68c27442",
   "metadata": {},
   "source": [
    "# PDF Files in Python\n",
    "\n",
    "## A. J. Zerouali (21/07/27)\n",
    "\n",
    "This is Lecture 131 of Section 17, in Pierian Data's Python Bootcamp. "
   ]
  },
  {
   "cell_type": "code",
   "execution_count": 1,
   "id": "438d4ef7",
   "metadata": {},
   "outputs": [],
   "source": [
    "import PyPDF2"
   ]
  },
  {
   "cell_type": "markdown",
   "id": "2bf1ce51",
   "metadata": {},
   "source": [
    "Working with PDF files in Python is quite tricky. \n"
   ]
  },
  {
   "cell_type": "markdown",
   "id": "b043399d",
   "metadata": {},
   "source": [
    "## Opening PDFs\n",
    "\n",
    "* Opening a CSV file is done with Python's usual  **open(*file_path_name*)**, except that to avoid encoding errors, one specifies an encoding with the **encoding = 'utf-8'** argument. Note that if the CSV is not in English, we may have to use other encodings."
   ]
  },
  {
   "cell_type": "code",
   "execution_count": 3,
   "id": "b272ceed",
   "metadata": {},
   "outputs": [],
   "source": [
    "# Open in read-binary mode\n",
    "biz_prop_pdf = open('Working_Business_Proposal.pdf', mode = 'rb')"
   ]
  },
  {
   "cell_type": "code",
   "execution_count": 4,
   "id": "d7ea6f5c",
   "metadata": {},
   "outputs": [
    {
     "name": "stdout",
     "output_type": "stream",
     "text": [
      "Number of pages in biz_prop_pdf is: 5\n"
     ]
    }
   ],
   "source": [
    "pdf_reader = PyPDF2.PdfFileReader(biz_prop_pdf)\n",
    "print(f'Number of pages in biz_prop_pdf is: {pdf_reader.numPages}')"
   ]
  },
  {
   "cell_type": "code",
   "execution_count": 6,
   "id": "fc2e715d",
   "metadata": {},
   "outputs": [
    {
     "name": "stdout",
     "output_type": "stream",
     "text": [
      "Quickly communicate enabled technology and turnkey leadership skills. \n",
      "Uniquely enable accurate supply chains rather than frictionless \n",
      "technology. Globally network focused materials vis-a-vis cost effective \n",
      "manufactured products. \n",
      "BUSINESS PROPOSAL\n",
      "!5\n"
     ]
    }
   ],
   "source": [
    "# Pages are objects of their own here. One of their attributes is the text\n",
    "pdf_ex_p5 = pdf_reader.getPage(4)\n",
    "print(pdf_ex_p5.extractText())"
   ]
  },
  {
   "cell_type": "code",
   "execution_count": 7,
   "id": "31959923",
   "metadata": {},
   "outputs": [],
   "source": [
    "biz_prop_pdf.close()"
   ]
  },
  {
   "cell_type": "markdown",
   "id": "6ac75561",
   "metadata": {},
   "source": [
    "**Note:** Even after closing the file, the page object still contains the extracted content."
   ]
  },
  {
   "cell_type": "code",
   "execution_count": 8,
   "id": "9851b888",
   "metadata": {},
   "outputs": [
    {
     "name": "stdout",
     "output_type": "stream",
     "text": [
      "Quickly communicate enabled technology and turnkey leadership skills. \n",
      "Uniquely enable accurate supply chains rather than frictionless \n",
      "technology. Globally network focused materials vis-a-vis cost effective \n",
      "manufactured products. \n",
      "BUSINESS PROPOSAL\n",
      "!5\n"
     ]
    }
   ],
   "source": [
    "print(pdf_ex_p5.extractText())"
   ]
  },
  {
   "cell_type": "markdown",
   "id": "1861b3ce",
   "metadata": {},
   "source": [
    "## Writing PDFs\n",
    "\n",
    "* Will focus on adding a page to a pdf file. Writing is also tricky."
   ]
  },
  {
   "cell_type": "markdown",
   "id": "319397f0",
   "metadata": {},
   "source": [
    "We'll copy the first 2 pages of 'Working_Business_Proposal.pdf' into a new file, 'Example_pdf_file.pdf'. "
   ]
  },
  {
   "cell_type": "code",
   "execution_count": 23,
   "id": "ba91dbe7",
   "metadata": {},
   "outputs": [],
   "source": [
    "# Open the two files\n",
    "biz_prop_pdf = open('Working_Business_Proposal.pdf', mode = 'rb')\n",
    "new_pdf_example = open('Example_pdf_file.pdf', mode = 'wb')\n",
    "# Create reader for biz_prop_pdf\n",
    "pdf_reader = PyPDF2.PdfFileReader(biz_prop_pdf)"
   ]
  },
  {
   "cell_type": "markdown",
   "id": "4a0ddc6d",
   "metadata": {},
   "source": [
    "Next, make a list with 2 pages, add these to a writer, and then write to *new_pdf_example* using **.write()** method."
   ]
  },
  {
   "cell_type": "code",
   "execution_count": 24,
   "id": "1ee3b5ef",
   "metadata": {},
   "outputs": [],
   "source": [
    "temp_pages = []\n",
    "temp_pages.append(pdf_reader.getPage(0))\n",
    "temp_pages.append(pdf_reader.getPage(1))"
   ]
  },
  {
   "cell_type": "code",
   "execution_count": 25,
   "id": "450c5807",
   "metadata": {},
   "outputs": [],
   "source": [
    "pdf_writer = PyPDF2.PdfFileWriter()\n",
    "pdf_writer.addPage(temp_pages[0])\n",
    "pdf_writer.addPage(temp_pages[1])\n",
    "pdf_writer.write(new_pdf_example)"
   ]
  },
  {
   "cell_type": "markdown",
   "id": "a988b364",
   "metadata": {},
   "source": [
    "Close the files at the end. Note that if one of the PDFs is opened by another program, Python will not have permission to open it, and vice versa."
   ]
  },
  {
   "cell_type": "code",
   "execution_count": 26,
   "id": "76039320",
   "metadata": {},
   "outputs": [],
   "source": [
    "new_pdf_example.close()"
   ]
  },
  {
   "cell_type": "code",
   "execution_count": 27,
   "id": "81b3a479",
   "metadata": {},
   "outputs": [],
   "source": [
    "biz_prop_pdf.close()"
   ]
  }
 ],
 "metadata": {
  "kernelspec": {
   "display_name": "Python 3",
   "language": "python",
   "name": "python3"
  },
  "language_info": {
   "codemirror_mode": {
    "name": "ipython",
    "version": 3
   },
   "file_extension": ".py",
   "mimetype": "text/x-python",
   "name": "python",
   "nbconvert_exporter": "python",
   "pygments_lexer": "ipython3",
   "version": "3.8.8"
  }
 },
 "nbformat": 4,
 "nbformat_minor": 5
}
