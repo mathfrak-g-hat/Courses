{
 "cells": [
  {
   "cell_type": "markdown",
   "id": "ee07d2ea",
   "metadata": {},
   "source": [
    "* Example if/elif/else *"
   ]
  },
  {
   "cell_type": "code",
   "execution_count": null,
   "id": "7dea3115",
   "metadata": {},
   "outputs": [],
   "source": [
    "loc = \"Office\"\n",
    "\n",
    "if (loc == 'Home'):\n",
    "    print('I am at home. How can I help you?')\n",
    "elif (loc == 'Office'):\n",
    "    print('I am at currently at the office. Could you call me back?')\n",
    "elif (loc == 'Store'):\n",
    "    print('I am doing some shopping right now.')\n",
    "else:\n",
    "    print('I am out right now. What\\'s up?')"
   ]
  },
  {
   "cell_type": "markdown",
   "id": "f02050ce",
   "metadata": {},
   "source": [
    "* Examples of for loops *"
   ]
  },
  {
   "cell_type": "code",
   "execution_count": 14,
   "id": "520e058b",
   "metadata": {},
   "outputs": [
    {
     "name": "stdout",
     "output_type": "stream",
     "text": [
      "Here iter_range =  range(1, 5, 2)\n",
      "and type(iter_range)= <class 'range'>\n",
      "Begin for loop\n",
      "i = 1\n",
      "i = 3\n",
      "End of for loop\n"
     ]
    }
   ],
   "source": [
    "iter_range = range(1,5,2)\n",
    "print('Here iter_range = ', iter_range)\n",
    "print('and type(iter_range)=', type(iter_range))\n",
    "\n",
    "print('Begin for loop')\n",
    "for i in iter_range:\n",
    "    print('i =', i)\n",
    "    \n",
    "print('End of for loop')"
   ]
  },
  {
   "cell_type": "code",
   "execution_count": 8,
   "id": "dbf19a2e",
   "metadata": {},
   "outputs": [
    {
     "data": {
      "text/plain": [
       "range(1, 5)"
      ]
     },
     "execution_count": 8,
     "metadata": {},
     "output_type": "execute_result"
    }
   ],
   "source": [
    "iter_range"
   ]
  },
  {
   "cell_type": "code",
   "execution_count": 11,
   "id": "428023ee",
   "metadata": {},
   "outputs": [
    {
     "name": "stdout",
     "output_type": "stream",
     "text": [
      "Here we loop over the list iter_range [1, 2, 3, 4, 5]\n",
      "and type(iter_range)= <class 'list'>\n",
      "Begin for loop\n",
      "i = 1\n",
      "i = 2\n",
      "i = 3\n",
      "i = 4\n",
      "i = 5\n",
      "End of for loop\n"
     ]
    }
   ],
   "source": [
    "# iter_range = range(1,5)\n",
    "iter_range = [1,2,3,4,5]\n",
    "print('Here we loop over the list iter_range', iter_range)\n",
    "print('and type(iter_range)=', type(iter_range))\n",
    "\n",
    "print('Begin for loop')\n",
    "for i in iter_range:\n",
    "    print('i =', i)\n",
    "    \n",
    "print('End of for loop')"
   ]
  },
  {
   "cell_type": "code",
   "execution_count": 12,
   "id": "650d6349",
   "metadata": {},
   "outputs": [
    {
     "name": "stdout",
     "output_type": "stream",
     "text": [
      "Here we loop over the list iter_range ['This iterable', 'business', 'in Python', 'is screwy']\n",
      "and type(iter_range)= <class 'list'>\n",
      "Begin for loop\n",
      "i = This iterable\n",
      "i = business\n",
      "i = in Python\n",
      "i = is screwy\n",
      "End of for loop\n"
     ]
    }
   ],
   "source": [
    "iter_range = ['This iterable','business','in Python','is screwy']\n",
    "print('Here we loop over the list iter_range', iter_range)\n",
    "print('and type(iter_range)=', type(iter_range))\n",
    "\n",
    "print('Begin for loop')\n",
    "for i in iter_range:\n",
    "    print('i =', i)\n",
    "    \n",
    "print('End of for loop')"
   ]
  },
  {
   "cell_type": "code",
   "execution_count": 20,
   "id": "273680f1",
   "metadata": {},
   "outputs": [
    {
     "name": "stdout",
     "output_type": "stream",
     "text": [
      "F_ 0  =  0\n",
      "F_ 1  =  1\n",
      "F_ 2  =  1\n",
      "F_ 3  =  2\n",
      "F_ 4  =  3\n",
      "F_ 5  =  5\n",
      "F_ 6  =  8\n",
      "F_ 7  =  13\n"
     ]
    }
   ],
   "source": [
    "# First 7+1 terms of the Fibonacci sequence\n",
    "# F_0, F_1 = 0,1\n",
    "\n",
    "for i in range(0,7+1):\n",
    "    if i==0:\n",
    "        F_i, F_im1, F_im2 = 0,0,0\n",
    "    elif i==1: \n",
    "        F_i =1\n",
    "    else:\n",
    "        # Compute i-th term of sequence \n",
    "        F_i = F_im1+F_im2\n",
    "        \n",
    "    # Print i-th term of sequence \n",
    "    print('F_',i,' = ',F_i)\n",
    "    # Re-initialize temp variables\n",
    "    #F_im2 = F_im1\n",
    "    #F_im1 = F_i\n",
    "    F_im2, F_im1 = F_im1, F_i\n",
    "    "
   ]
  },
  {
   "cell_type": "code",
   "execution_count": 16,
   "id": "89915f21",
   "metadata": {},
   "outputs": [
    {
     "data": {
      "text/plain": [
       "1"
      ]
     },
     "execution_count": 16,
     "metadata": {},
     "output_type": "execute_result"
    }
   ],
   "source": [
    "F_0\n",
    "F_1"
   ]
  },
  {
   "cell_type": "code",
   "execution_count": 17,
   "id": "c5195a89",
   "metadata": {},
   "outputs": [
    {
     "data": {
      "text/plain": [
       "0"
      ]
     },
     "execution_count": 17,
     "metadata": {},
     "output_type": "execute_result"
    }
   ],
   "source": [
    "F_0"
   ]
  },
  {
   "cell_type": "code",
   "execution_count": 21,
   "id": "d39464d6",
   "metadata": {},
   "outputs": [
    {
     "name": "stdout",
     "output_type": "stream",
     "text": [
      "H\n",
      "e\n",
      "l\n",
      "l\n",
      "o\n",
      " \n",
      "w\n",
      "o\n",
      "r\n",
      "l\n",
      "d\n",
      "!\n"
     ]
    }
   ],
   "source": [
    "for i in 'Hello world!':\n",
    "    print(i)"
   ]
  },
  {
   "cell_type": "code",
   "execution_count": null,
   "id": "a4fbd11c",
   "metadata": {},
   "outputs": [],
   "source": []
  }
 ],
 "metadata": {
  "kernelspec": {
   "display_name": "Python 3",
   "language": "python",
   "name": "python3"
  },
  "language_info": {
   "codemirror_mode": {
    "name": "ipython",
    "version": 3
   },
   "file_extension": ".py",
   "mimetype": "text/x-python",
   "name": "python",
   "nbconvert_exporter": "python",
   "pygments_lexer": "ipython3",
   "version": "3.8.8"
  }
 },
 "nbformat": 4,
 "nbformat_minor": 5
}
