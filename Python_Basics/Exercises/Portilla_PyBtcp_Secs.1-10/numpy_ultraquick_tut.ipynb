{
 "cells": [
  {
   "cell_type": "markdown",
   "metadata": {
    "id": "r0W43-x75tEx"
   },
   "source": [
    "**NumPy Ultra Quick Tutorial**\n",
    "\n",
    "A. J. Zerouali\n",
    "\n",
    "2021/05/26\n",
    "\n",
    "This is my notebook for Google's NumPy ultra quick refresher, found in the prerequisites of their machine learning Crash Course. The purpose is to familiarize myself the basic manipulations of tensor objects in Python.\n"
   ]
  },
  {
   "cell_type": "code",
   "execution_count": 5,
   "metadata": {
    "executionInfo": {
     "elapsed": 1942,
     "status": "ok",
     "timestamp": 1622139810085,
     "user": {
      "displayName": "mathfrak g_hat",
      "photoUrl": "",
      "userId": "06658507957460233836"
     },
     "user_tz": 420
    },
    "id": "8HeomLzJp55b"
   },
   "outputs": [],
   "source": [
    "#import tensorflow\n",
    "import numpy as np\n",
    "import pandas as pd\n",
    "#import matplotlib.pyplot as plt"
   ]
  },
  {
   "cell_type": "markdown",
   "metadata": {
    "id": "eRAScqOA5_Vh"
   },
   "source": [
    "**Populating arrays with specific numbers**"
   ]
  },
  {
   "cell_type": "code",
   "execution_count": 6,
   "metadata": {
    "executionInfo": {
     "elapsed": 36,
     "status": "ok",
     "timestamp": 1622139810086,
     "user": {
      "displayName": "mathfrak g_hat",
      "photoUrl": "",
      "userId": "06658507957460233836"
     },
     "user_tz": 420
    },
    "id": "5SBln6PJqaiW"
   },
   "outputs": [],
   "source": [
    "\n",
    "vector_row = np.array([1, 2, 3, 4]) # This makes row vectors. How do you make column vectors?\n",
    "vector_col = np.array([[1], [2], [3], [4]]) # This seems to make column vectors"
   ]
  },
  {
   "cell_type": "code",
   "execution_count": 7,
   "metadata": {
    "colab": {
     "base_uri": "https://localhost:8080/"
    },
    "executionInfo": {
     "elapsed": 33,
     "status": "ok",
     "timestamp": 1622139810086,
     "user": {
      "displayName": "mathfrak g_hat",
      "photoUrl": "",
      "userId": "06658507957460233836"
     },
     "user_tz": 420
    },
    "id": "2NPO0P0K3tIU",
    "outputId": "88004e10-a1f8-457a-b34b-c3144f91a85b"
   },
   "outputs": [
    {
     "name": "stdout",
     "output_type": "stream",
     "text": [
      "[1 2 3 4]\n",
      "[[1]\n",
      " [2]\n",
      " [3]\n",
      " [4]]\n"
     ]
    }
   ],
   "source": [
    "print(vector_row)\n",
    "print(vector_col) # The output is ugly for this one"
   ]
  },
  {
   "cell_type": "code",
   "execution_count": 8,
   "metadata": {
    "colab": {
     "base_uri": "https://localhost:8080/"
    },
    "executionInfo": {
     "elapsed": 27,
     "status": "ok",
     "timestamp": 1622139810087,
     "user": {
      "displayName": "mathfrak g_hat",
      "photoUrl": "",
      "userId": "06658507957460233836"
     },
     "user_tz": 420
    },
    "id": "BCw0vBwY32IK",
    "outputId": "bb774cb4-5fe6-4f16-d9a0-26791f1e9932"
   },
   "outputs": [
    {
     "name": "stdout",
     "output_type": "stream",
     "text": [
      "[[ 0 -1  0]\n",
      " [ 1  0  0]\n",
      " [ 1  0  0]]\n"
     ]
    }
   ],
   "source": [
    "matrix_3x3 = np.array([[0, -1, 0], [1, 0, 0], [1, 0, 0]])\n",
    "print(matrix_3x3)"
   ]
  },
  {
   "cell_type": "markdown",
   "metadata": {
    "id": "v8_iaYTV7HG5"
   },
   "source": [
    "**Remark:**\n",
    "\n",
    "A little like Matlab in that you needn't declare/specify the type of variable before assigning values. "
   ]
  },
  {
   "cell_type": "markdown",
   "metadata": {
    "id": "4StMdFT774tY"
   },
   "source": [
    "**The \"help\" function**\n",
    "\n",
    "Here's how you call for help in Python:"
   ]
  },
  {
   "cell_type": "code",
   "execution_count": 9,
   "metadata": {
    "colab": {
     "base_uri": "https://localhost:8080/"
    },
    "executionInfo": {
     "elapsed": 23,
     "status": "ok",
     "timestamp": 1622139810088,
     "user": {
      "displayName": "mathfrak g_hat",
      "photoUrl": "",
      "userId": "06658507957460233836"
     },
     "user_tz": 420
    },
    "id": "YXJ-HabP79xQ",
    "outputId": "ab694b39-d7cc-4586-b596-f6e43d9254b9"
   },
   "outputs": [
    {
     "name": "stdout",
     "output_type": "stream",
     "text": [
      "Help on built-in function array in module numpy:\n",
      "\n",
      "array(...)\n",
      "    array(object, dtype=None, *, copy=True, order='K', subok=False, ndmin=0,\n",
      "          like=None)\n",
      "    \n",
      "    Create an array.\n",
      "    \n",
      "    Parameters\n",
      "    ----------\n",
      "    object : array_like\n",
      "        An array, any object exposing the array interface, an object whose\n",
      "        __array__ method returns an array, or any (nested) sequence.\n",
      "    dtype : data-type, optional\n",
      "        The desired data-type for the array.  If not given, then the type will\n",
      "        be determined as the minimum type required to hold the objects in the\n",
      "        sequence.\n",
      "    copy : bool, optional\n",
      "        If true (default), then the object is copied.  Otherwise, a copy will\n",
      "        only be made if __array__ returns a copy, if obj is a nested sequence,\n",
      "        or if a copy is needed to satisfy any of the other requirements\n",
      "        (`dtype`, `order`, etc.).\n",
      "    order : {'K', 'A', 'C', 'F'}, optional\n",
      "        Specify the memory layout of the array. If object is not an array, the\n",
      "        newly created array will be in C order (row major) unless 'F' is\n",
      "        specified, in which case it will be in Fortran order (column major).\n",
      "        If object is an array the following holds.\n",
      "    \n",
      "        ===== ========= ===================================================\n",
      "        order  no copy                     copy=True\n",
      "        ===== ========= ===================================================\n",
      "        'K'   unchanged F & C order preserved, otherwise most similar order\n",
      "        'A'   unchanged F order if input is F and not C, otherwise C order\n",
      "        'C'   C order   C order\n",
      "        'F'   F order   F order\n",
      "        ===== ========= ===================================================\n",
      "    \n",
      "        When ``copy=False`` and a copy is made for other reasons, the result is\n",
      "        the same as if ``copy=True``, with some exceptions for `A`, see the\n",
      "        Notes section. The default order is 'K'.\n",
      "    subok : bool, optional\n",
      "        If True, then sub-classes will be passed-through, otherwise\n",
      "        the returned array will be forced to be a base-class array (default).\n",
      "    ndmin : int, optional\n",
      "        Specifies the minimum number of dimensions that the resulting\n",
      "        array should have.  Ones will be pre-pended to the shape as\n",
      "        needed to meet this requirement.\n",
      "    like : array_like\n",
      "        Reference object to allow the creation of arrays which are not\n",
      "        NumPy arrays. If an array-like passed in as ``like`` supports\n",
      "        the ``__array_function__`` protocol, the result will be defined\n",
      "        by it. In this case, it ensures the creation of an array object\n",
      "        compatible with that passed in via this argument.\n",
      "    \n",
      "        .. note::\n",
      "            The ``like`` keyword is an experimental feature pending on\n",
      "            acceptance of :ref:`NEP 35 <NEP35>`.\n",
      "    \n",
      "        .. versionadded:: 1.20.0\n",
      "    \n",
      "    Returns\n",
      "    -------\n",
      "    out : ndarray\n",
      "        An array object satisfying the specified requirements.\n",
      "    \n",
      "    See Also\n",
      "    --------\n",
      "    empty_like : Return an empty array with shape and type of input.\n",
      "    ones_like : Return an array of ones with shape and type of input.\n",
      "    zeros_like : Return an array of zeros with shape and type of input.\n",
      "    full_like : Return a new array with shape of input filled with value.\n",
      "    empty : Return a new uninitialized array.\n",
      "    ones : Return a new array setting values to one.\n",
      "    zeros : Return a new array setting values to zero.\n",
      "    full : Return a new array of given shape filled with value.\n",
      "    \n",
      "    \n",
      "    Notes\n",
      "    -----\n",
      "    When order is 'A' and `object` is an array in neither 'C' nor 'F' order,\n",
      "    and a copy is forced by a change in dtype, then the order of the result is\n",
      "    not necessarily 'C' as expected. This is likely a bug.\n",
      "    \n",
      "    Examples\n",
      "    --------\n",
      "    >>> np.array([1, 2, 3])\n",
      "    array([1, 2, 3])\n",
      "    \n",
      "    Upcasting:\n",
      "    \n",
      "    >>> np.array([1, 2, 3.0])\n",
      "    array([ 1.,  2.,  3.])\n",
      "    \n",
      "    More than one dimension:\n",
      "    \n",
      "    >>> np.array([[1, 2], [3, 4]])\n",
      "    array([[1, 2],\n",
      "           [3, 4]])\n",
      "    \n",
      "    Minimum dimensions 2:\n",
      "    \n",
      "    >>> np.array([1, 2, 3], ndmin=2)\n",
      "    array([[1, 2, 3]])\n",
      "    \n",
      "    Type provided:\n",
      "    \n",
      "    >>> np.array([1, 2, 3], dtype=complex)\n",
      "    array([ 1.+0.j,  2.+0.j,  3.+0.j])\n",
      "    \n",
      "    Data-type consisting of more than one element:\n",
      "    \n",
      "    >>> x = np.array([(1,2),(3,4)],dtype=[('a','<i4'),('b','<i4')])\n",
      "    >>> x['a']\n",
      "    array([1, 3])\n",
      "    \n",
      "    Creating an array from sub-classes:\n",
      "    \n",
      "    >>> np.array(np.mat('1 2; 3 4'))\n",
      "    array([[1, 2],\n",
      "           [3, 4]])\n",
      "    \n",
      "    >>> np.array(np.mat('1 2; 3 4'), subok=True)\n",
      "    matrix([[1, 2],\n",
      "            [3, 4]])\n",
      "\n"
     ]
    }
   ],
   "source": [
    "help(np.array)"
   ]
  },
  {
   "cell_type": "markdown",
   "metadata": {
    "id": "VwKv8bCp6kEp"
   },
   "source": [
    "**Arrays with sequences and random numbers**"
   ]
  },
  {
   "cell_type": "code",
   "execution_count": 10,
   "metadata": {
    "colab": {
     "base_uri": "https://localhost:8080/"
    },
    "executionInfo": {
     "elapsed": 20,
     "status": "ok",
     "timestamp": 1622139810088,
     "user": {
      "displayName": "mathfrak g_hat",
      "photoUrl": "",
      "userId": "06658507957460233836"
     },
     "user_tz": 420
    },
    "id": "s697najL3_LZ",
    "outputId": "429183cb-347b-4005-b533-7fdaf610eb8c"
   },
   "outputs": [
    {
     "name": "stdout",
     "output_type": "stream",
     "text": [
      "[-1  0  1  2]\n"
     ]
    }
   ],
   "source": [
    "# Sequences of numbers: np.arange\n",
    "print(np.arange(-1, 3)) # By default, the step is 1, and the obtained array doesn't include upper-bound. \n",
    "\n",
    "\n",
    "# \"arange\" is a fancier version of \"range\"\n",
    "#print(range(-1,3))"
   ]
  },
  {
   "cell_type": "code",
   "execution_count": 11,
   "metadata": {
    "colab": {
     "base_uri": "https://localhost:8080/"
    },
    "executionInfo": {
     "elapsed": 16,
     "status": "ok",
     "timestamp": 1622139810089,
     "user": {
      "displayName": "mathfrak g_hat",
      "photoUrl": "",
      "userId": "06658507957460233836"
     },
     "user_tz": 420
    },
    "id": "m0c5cj-L7pPS",
    "outputId": "21a0c6c8-252f-46e3-e700-99742faf2375"
   },
   "outputs": [
    {
     "name": "stdout",
     "output_type": "stream",
     "text": [
      "Help on built-in function arange in module numpy:\n",
      "\n",
      "arange(...)\n",
      "    arange([start,] stop[, step,], dtype=None, *, like=None)\n",
      "    \n",
      "    Return evenly spaced values within a given interval.\n",
      "    \n",
      "    Values are generated within the half-open interval ``[start, stop)``\n",
      "    (in other words, the interval including `start` but excluding `stop`).\n",
      "    For integer arguments the function is equivalent to the Python built-in\n",
      "    `range` function, but returns an ndarray rather than a list.\n",
      "    \n",
      "    When using a non-integer step, such as 0.1, the results will often not\n",
      "    be consistent.  It is better to use `numpy.linspace` for these cases.\n",
      "    \n",
      "    Parameters\n",
      "    ----------\n",
      "    start : integer or real, optional\n",
      "        Start of interval.  The interval includes this value.  The default\n",
      "        start value is 0.\n",
      "    stop : integer or real\n",
      "        End of interval.  The interval does not include this value, except\n",
      "        in some cases where `step` is not an integer and floating point\n",
      "        round-off affects the length of `out`.\n",
      "    step : integer or real, optional\n",
      "        Spacing between values.  For any output `out`, this is the distance\n",
      "        between two adjacent values, ``out[i+1] - out[i]``.  The default\n",
      "        step size is 1.  If `step` is specified as a position argument,\n",
      "        `start` must also be given.\n",
      "    dtype : dtype\n",
      "        The type of the output array.  If `dtype` is not given, infer the data\n",
      "        type from the other input arguments.\n",
      "    like : array_like\n",
      "        Reference object to allow the creation of arrays which are not\n",
      "        NumPy arrays. If an array-like passed in as ``like`` supports\n",
      "        the ``__array_function__`` protocol, the result will be defined\n",
      "        by it. In this case, it ensures the creation of an array object\n",
      "        compatible with that passed in via this argument.\n",
      "    \n",
      "        .. note::\n",
      "            The ``like`` keyword is an experimental feature pending on\n",
      "            acceptance of :ref:`NEP 35 <NEP35>`.\n",
      "    \n",
      "        .. versionadded:: 1.20.0\n",
      "    \n",
      "    Returns\n",
      "    -------\n",
      "    arange : ndarray\n",
      "        Array of evenly spaced values.\n",
      "    \n",
      "        For floating point arguments, the length of the result is\n",
      "        ``ceil((stop - start)/step)``.  Because of floating point overflow,\n",
      "        this rule may result in the last element of `out` being greater\n",
      "        than `stop`.\n",
      "    \n",
      "    See Also\n",
      "    --------\n",
      "    numpy.linspace : Evenly spaced numbers with careful handling of endpoints.\n",
      "    numpy.ogrid: Arrays of evenly spaced numbers in N-dimensions.\n",
      "    numpy.mgrid: Grid-shaped arrays of evenly spaced numbers in N-dimensions.\n",
      "    \n",
      "    Examples\n",
      "    --------\n",
      "    >>> np.arange(3)\n",
      "    array([0, 1, 2])\n",
      "    >>> np.arange(3.0)\n",
      "    array([ 0.,  1.,  2.])\n",
      "    >>> np.arange(3,7)\n",
      "    array([3, 4, 5, 6])\n",
      "    >>> np.arange(3,7,2)\n",
      "    array([3, 5])\n",
      "\n"
     ]
    }
   ],
   "source": [
    "help(np.arange) # Let's see how this one is used..."
   ]
  },
  {
   "cell_type": "code",
   "execution_count": 12,
   "metadata": {
    "colab": {
     "base_uri": "https://localhost:8080/"
    },
    "executionInfo": {
     "elapsed": 14,
     "status": "ok",
     "timestamp": 1622139810501,
     "user": {
      "displayName": "mathfrak g_hat",
      "photoUrl": "",
      "userId": "06658507957460233836"
     },
     "user_tz": 420
    },
    "id": "CFoQgM0U71Lx",
    "outputId": "fa1ed87b-8baa-4d0c-c1bb-8886e94894f0"
   },
   "outputs": [
    {
     "name": "stdout",
     "output_type": "stream",
     "text": [
      "np.arange((-0.1, 1.1, 0.1)) =  [-0.1  0.   0.1  0.2  0.3  0.4  0.5  0.6  0.7  0.8  0.9  1.   1.1]\n"
     ]
    }
   ],
   "source": [
    "vect_3 = np.arange(-0.1, 1.1, 0.1) # When you specify a step it seems to include the upper-bound (2nd argument)\n",
    "print(\"np.arange((-0.1, 1.1, 0.1)) = \",vect_3)"
   ]
  },
  {
   "cell_type": "code",
   "execution_count": 13,
   "metadata": {
    "colab": {
     "base_uri": "https://localhost:8080/"
    },
    "executionInfo": {
     "elapsed": 12,
     "status": "ok",
     "timestamp": 1622139810501,
     "user": {
      "displayName": "mathfrak g_hat",
      "photoUrl": "",
      "userId": "06658507957460233836"
     },
     "user_tz": 420
    },
    "id": "95kJiSWy9ZZh",
    "outputId": "86bc7e36-c509-4746-ac5b-402a5d1dbd31"
   },
   "outputs": [
    {
     "name": "stdout",
     "output_type": "stream",
     "text": [
      "numpy.random.randint(low=0, high=100, size=(10))=  [24 63 82 32 51 37 40 14 98 20]\n",
      "numpy.random.randint(low=0, high=100, size=(3,3)) =  [[12 47 63]\n",
      " [21 38 69]\n",
      " [49 11 61]]\n"
     ]
    }
   ],
   "source": [
    "# Random numbers: np.random.\n",
    "# Remark: The help for numpy.random is humongous. It's a very sophisticated library of functions actually.\n",
    "# help(np.random)\n",
    "\n",
    "# np.randint(high=m, low=M, size=s) will generate an array of size s (could be a tensor) with numbers in [m, M-1]\n",
    "print(\"numpy.random.randint(low=0, high=100, size=(10))= \", np.random.randint(low=0, high=100, size=(10)))\n",
    "print(\"numpy.random.randint(low=0, high=100, size=(3,3)) = \", np.random.randint(low=0, high=100, size=(3,3)))"
   ]
  },
  {
   "cell_type": "code",
   "execution_count": 14,
   "metadata": {
    "colab": {
     "base_uri": "https://localhost:8080/"
    },
    "executionInfo": {
     "elapsed": 11,
     "status": "ok",
     "timestamp": 1622139810502,
     "user": {
      "displayName": "mathfrak g_hat",
      "photoUrl": "",
      "userId": "06658507957460233836"
     },
     "user_tz": 420
    },
    "id": "OscyP5YbE7U5",
    "outputId": "8aeae2f5-6b0a-44f0-bd60-9260e9f74d9d"
   },
   "outputs": [
    {
     "name": "stdout",
     "output_type": "stream",
     "text": [
      "np.random.random(3) = [0.56114427 0.05688494 0.4110396 ]\n"
     ]
    }
   ],
   "source": [
    "# np.random.random(s) will generate a vector with s floats in [0, 1[\n",
    "print(\"np.random.random(3) =\", np.random.random(3))"
   ]
  },
  {
   "cell_type": "markdown",
   "metadata": {
    "id": "aaGQ1iKAJmuX"
   },
   "source": [
    "**Linear Algebra Manipulations**\n",
    "\n",
    "Here's one difference with Matlab: Python doesn't return an error if we try to add/multiply tensors of different sizes (why though?). There's a built-in \"broadcasting\" method that resizes the variables to usable shapes."
   ]
  },
  {
   "cell_type": "code",
   "execution_count": 15,
   "metadata": {
    "colab": {
     "base_uri": "https://localhost:8080/"
    },
    "executionInfo": {
     "elapsed": 10,
     "status": "ok",
     "timestamp": 1622139810503,
     "user": {
      "displayName": "mathfrak g_hat",
      "photoUrl": "",
      "userId": "06658507957460233836"
     },
     "user_tz": 420
    },
    "id": "yWCRI0dGIk3Q",
    "outputId": "3c53c6c4-e06b-460c-b2a8-8c16a1621db4"
   },
   "outputs": [
    {
     "name": "stdout",
     "output_type": "stream",
     "text": [
      "cos(pi/2) =  6.123233995736766e-17\n",
      "sin(pi/2) =  1.0\n",
      "tan(pi/4) =  0.9999999999999999\n",
      "tan(-pi/2) =  -1.633123935319537e+16\n"
     ]
    }
   ],
   "source": [
    "# Below are some tests with basic trig functions in NumPy\n",
    "#help(np.sin)\n",
    "pi=np.pi\n",
    "print(\"cos(pi/2) = \", np.cos(pi/2)) # Doesn't return 0... stupid numerical approximations\n",
    "print(\"sin(pi/2) = \", np.sin(pi/2))\n",
    "print(\"tan(pi/4) = \", np.tan(pi/4))\n",
    "print(\"tan(-pi/2) = \", np.tan(-pi/2))"
   ]
  },
  {
   "cell_type": "code",
   "execution_count": 16,
   "metadata": {
    "executionInfo": {
     "elapsed": 8,
     "status": "ok",
     "timestamp": 1622139810504,
     "user": {
      "displayName": "mathfrak g_hat",
      "photoUrl": "",
      "userId": "06658507957460233836"
     },
     "user_tz": 420
    },
    "id": "_HevCl7XKxAQ"
   },
   "outputs": [],
   "source": [
    "# Some basic matrix operations. I'm keeping the pi = np.pi used above\n",
    "xy_Rot_pi = np.array([[np.cos(pi), np.sin(pi), 0], [np.sin(pi), np.cos(pi), 0], [0, 0, 1]])\n",
    "e_1 = np.array([[1], [0], [0]])\n",
    "e_2 = np.array([[0], [1], [0]])\n",
    "e_3 = np.array([[0], [0], [1]])\n",
    "#print(\"Broadcasting doesn't preserve the size of matrices:\")\n",
    "#print(\"xy_Rot_pi*e_1 =\", xy_Rot_pi*e_1) # Broadcasting doesn't preserve the size of matrices\n",
    "#print(\"If we want the correct mathematical output:\")\n",
    "#print(\"xy_Rot_pi*e_1 =\", xy_Rot_pi*e_1)\n",
    "# Amine says that you should use \".dot()\", as below:\n",
    "#print(\"xy_Rot_pi .* e_1 =\", xy_Rot_pi .dot(e_1))"
   ]
  },
  {
   "cell_type": "code",
   "execution_count": 17,
   "metadata": {
    "executionInfo": {
     "elapsed": 156,
     "status": "ok",
     "timestamp": 1622140024991,
     "user": {
      "displayName": "mathfrak g_hat",
      "photoUrl": "",
      "userId": "06658507957460233836"
     },
     "user_tz": 420
    },
    "id": "7SU4_cWjNaew"
   },
   "outputs": [],
   "source": [
    "import decimal\n",
    "decimal.getcontext().prec=3"
   ]
  },
  {
   "cell_type": "code",
   "execution_count": 19,
   "metadata": {
    "colab": {
     "base_uri": "https://localhost:8080/"
    },
    "executionInfo": {
     "elapsed": 232,
     "status": "ok",
     "timestamp": 1622140031991,
     "user": {
      "displayName": "mathfrak g_hat",
      "photoUrl": "",
      "userId": "06658507957460233836"
     },
     "user_tz": 420
    },
    "id": "ZR1yDsp0FHcL",
    "outputId": "61697eda-6a87-4abe-86e1-167c84ca254a"
   },
   "outputs": [
    {
     "name": "stdout",
     "output_type": "stream",
     "text": [
      "6.283185307179586\n"
     ]
    }
   ],
   "source": [
    "print(2*pi)"
   ]
  },
  {
   "cell_type": "code",
   "execution_count": null,
   "metadata": {
    "id": "NLzscaeYFJIa"
   },
   "outputs": [],
   "source": []
  }
 ],
 "metadata": {
  "colab": {
   "authorship_tag": "ABX9TyNTsHSzZ8YtpaLqCWbxrel1",
   "collapsed_sections": [],
   "name": "numpy_ultraquick_tut.ipynb",
   "provenance": []
  },
  "kernelspec": {
   "display_name": "Python 3",
   "language": "python",
   "name": "python3"
  },
  "language_info": {
   "codemirror_mode": {
    "name": "ipython",
    "version": 3
   },
   "file_extension": ".py",
   "mimetype": "text/x-python",
   "name": "python",
   "nbconvert_exporter": "python",
   "pygments_lexer": "ipython3",
   "version": "3.8.8"
  }
 },
 "nbformat": 4,
 "nbformat_minor": 1
}
