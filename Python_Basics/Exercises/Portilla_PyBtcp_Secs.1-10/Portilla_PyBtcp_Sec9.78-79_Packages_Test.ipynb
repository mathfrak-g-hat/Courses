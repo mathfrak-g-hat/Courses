{
 "cells": [
  {
   "cell_type": "markdown",
   "id": "02757fbc",
   "metadata": {},
   "source": [
    "## Inclusions"
   ]
  },
  {
   "cell_type": "code",
   "execution_count": 1,
   "id": "dd65037e",
   "metadata": {},
   "outputs": [],
   "source": [
    "import ZAJTestPackage"
   ]
  },
  {
   "cell_type": "code",
   "execution_count": 3,
   "id": "c71f522a",
   "metadata": {},
   "outputs": [],
   "source": [
    "import ZAJTestPackage.TestSubPack1"
   ]
  },
  {
   "cell_type": "code",
   "execution_count": 4,
   "id": "88bf9cca",
   "metadata": {},
   "outputs": [
    {
     "name": "stdout",
     "output_type": "stream",
     "text": [
      "Help on package ZAJTestPackage.TestSubPack1 in ZAJTestPackage:\n",
      "\n",
      "NAME\n",
      "    ZAJTestPackage.TestSubPack1\n",
      "\n",
      "PACKAGE CONTENTS\n",
      "    TestSubmodZAJ1\n",
      "\n",
      "FILE\n",
      "    c:\\users\\zaj20\\documents\\python\\first steps\\zajtestpackage\\testsubpack1\\__init__.py\n",
      "\n",
      "\n"
     ]
    }
   ],
   "source": [
    "help(ZAJTestPackage.TestSubPack1)"
   ]
  },
  {
   "cell_type": "markdown",
   "id": "1655c168",
   "metadata": {},
   "source": [
    "### Checking factorial"
   ]
  },
  {
   "cell_type": "code",
   "execution_count": 20,
   "id": "451ae430",
   "metadata": {},
   "outputs": [],
   "source": [
    "from ZAJTestPackage.TestSubPack1.TestSubmodZAJ1 import factorial"
   ]
  },
  {
   "cell_type": "code",
   "execution_count": 23,
   "id": "e6038db7",
   "metadata": {},
   "outputs": [
    {
     "name": "stdout",
     "output_type": "stream",
     "text": [
      "0! = 1\n",
      "5! = 120\n"
     ]
    }
   ],
   "source": [
    "print(f'0! = {factorial(0)}')\n",
    "print(f'5! = {factorial(5)}')"
   ]
  },
  {
   "cell_type": "code",
   "execution_count": null,
   "id": "c3d5b33f",
   "metadata": {},
   "outputs": [],
   "source": []
  },
  {
   "cell_type": "markdown",
   "id": "af4c3560",
   "metadata": {},
   "source": [
    "### Checking \"sigma\""
   ]
  },
  {
   "cell_type": "code",
   "execution_count": 2,
   "id": "cc17ae37",
   "metadata": {},
   "outputs": [],
   "source": [
    "from ZAJTestPackage.TestSubPack2.TestSubmodZAJ2 import sigma as sigma"
   ]
  },
  {
   "cell_type": "code",
   "execution_count": 50,
   "id": "1ec831a9",
   "metadata": {},
   "outputs": [
    {
     "name": "stdout",
     "output_type": "stream",
     "text": [
      "Help on function sigma in module ZAJTestPackage.TestSubPack2.TestSubmodZAJ2:\n",
      "\n",
      "sigma(in_list)\n",
      "\n"
     ]
    }
   ],
   "source": [
    "help(sigma)"
   ]
  },
  {
   "cell_type": "code",
   "execution_count": 25,
   "id": "fbb5e2ee",
   "metadata": {},
   "outputs": [
    {
     "name": "stdout",
     "output_type": "stream",
     "text": [
      "Error: List contains something other than numbers\n"
     ]
    }
   ],
   "source": [
    "sigma([' ',1])"
   ]
  },
  {
   "cell_type": "code",
   "execution_count": 3,
   "id": "946e812c",
   "metadata": {},
   "outputs": [
    {
     "data": {
      "text/plain": [
       "21"
      ]
     },
     "execution_count": 3,
     "metadata": {},
     "output_type": "execute_result"
    }
   ],
   "source": [
    "sigma([1,2,3,4,5,6])"
   ]
  },
  {
   "cell_type": "markdown",
   "id": "88b6860d",
   "metadata": {},
   "source": [
    "## Checking functions in TestCountPermute.py"
   ]
  },
  {
   "cell_type": "code",
   "execution_count": 5,
   "id": "00ad73a5",
   "metadata": {
    "scrolled": true
   },
   "outputs": [],
   "source": [
    "import ZAJTestPackage\n",
    "import ZAJTestPackage.TestCountPermute\n",
    "from ZAJTestPackage.TestCountPermute import n_choose_k\n",
    "from ZAJTestPackage.TestCountPermute import binomial_complicated"
   ]
  },
  {
   "cell_type": "code",
   "execution_count": 6,
   "id": "4fd1be49",
   "metadata": {},
   "outputs": [
    {
     "name": "stdout",
     "output_type": "stream",
     "text": [
      "Help on function n_choose_k in module ZAJTestPackage.TestCountPermute:\n",
      "\n",
      "n_choose_k(n, k)\n",
      "\n"
     ]
    }
   ],
   "source": [
    "help(n_choose_k)"
   ]
  },
  {
   "cell_type": "code",
   "execution_count": 7,
   "id": "a97f6b34",
   "metadata": {},
   "outputs": [
    {
     "data": {
      "text/plain": [
       "6.0"
      ]
     },
     "execution_count": 7,
     "metadata": {},
     "output_type": "execute_result"
    }
   ],
   "source": [
    "n_choose_k(4,2)"
   ]
  },
  {
   "cell_type": "code",
   "execution_count": 8,
   "id": "66bc6024",
   "metadata": {},
   "outputs": [
    {
     "data": {
      "text/plain": [
       "-1.0"
      ]
     },
     "execution_count": 8,
     "metadata": {},
     "output_type": "execute_result"
    }
   ],
   "source": [
    "binomial_complicated(1,-2,5)"
   ]
  },
  {
   "cell_type": "code",
   "execution_count": 9,
   "id": "44d244f6",
   "metadata": {},
   "outputs": [
    {
     "data": {
      "text/plain": [
       "<module 'ZAJTestPackage.TestCountPermute' from 'C:\\\\Users\\\\zaj20\\\\Documents\\\\Python\\\\First steps\\\\ZAJTestPackage\\\\TestCountPermute.py'>"
      ]
     },
     "execution_count": 9,
     "metadata": {},
     "output_type": "execute_result"
    }
   ],
   "source": [
    "ZAJTestPackage.TestCountPermute"
   ]
  },
  {
   "cell_type": "code",
   "execution_count": 10,
   "id": "91c0288a",
   "metadata": {},
   "outputs": [
    {
     "data": {
      "text/plain": [
       "<module 'ZAJTestPackage.TestSubPack1.TestSubmodZAJ1' from 'C:\\\\Users\\\\zaj20\\\\Documents\\\\Python\\\\First steps\\\\ZAJTestPackage\\\\TestSubPack1\\\\TestSubmodZAJ1.py'>"
      ]
     },
     "execution_count": 10,
     "metadata": {},
     "output_type": "execute_result"
    }
   ],
   "source": [
    "ZAJTestPackage.TestSubPack1.TestSubmodZAJ1 "
   ]
  },
  {
   "cell_type": "markdown",
   "id": "49c9f186",
   "metadata": {},
   "source": [
    "### Debug for n_choose_k and binomial_complicated"
   ]
  },
  {
   "cell_type": "code",
   "execution_count": 13,
   "id": "af346eb6",
   "metadata": {},
   "outputs": [],
   "source": [
    "import ZAJTestPackage.TestSubPack1.TestSubmodZAJ1\n",
    "from ZAJTestPackage.TestSubPack1.TestSubmodZAJ1 import factorial as factorial\n",
    "import ZAJTestPackage.TestSubPack2.TestSubmodZAJ2\n",
    "from ZAJTestPackage.TestSubPack2.TestSubmodZAJ2 import sigma as sigma\n",
    "\n",
    "def n_choose_k(n,k):\n",
    "    return factorial(n)/(factorial(k)*factorial(n-k))\n",
    "\n",
    "def binomial_complicated(a,b,n):\n",
    "    summands = []\n",
    "    for k in range(n+1):\n",
    "        summands.append(n_choose_k(n,k)*(a**k)*(b**(n-k)))\n",
    "    s_out = sigma(summands)\n",
    "    return s_out"
   ]
  },
  {
   "cell_type": "code",
   "execution_count": 10,
   "id": "3e63b13a",
   "metadata": {},
   "outputs": [
    {
     "data": {
      "text/plain": [
       "6.0"
      ]
     },
     "execution_count": 10,
     "metadata": {},
     "output_type": "execute_result"
    }
   ],
   "source": [
    "n_choose_k(4,2)"
   ]
  },
  {
   "cell_type": "code",
   "execution_count": 15,
   "id": "f75a2639",
   "metadata": {},
   "outputs": [
    {
     "data": {
      "text/plain": [
       "0.0"
      ]
     },
     "execution_count": 15,
     "metadata": {},
     "output_type": "execute_result"
    }
   ],
   "source": [
    "binomial_complicated(1,-1,30)"
   ]
  },
  {
   "cell_type": "markdown",
   "id": "a52fb60c",
   "metadata": {},
   "source": [
    "___________________________________\n",
    "\n",
    "### Another test"
   ]
  },
  {
   "cell_type": "markdown",
   "id": "bcb51e1a",
   "metadata": {},
   "source": [
    "a) Look at the folders to locate (sub)modules"
   ]
  },
  {
   "cell_type": "code",
   "execution_count": 2,
   "id": "40ff0d93",
   "metadata": {
    "scrolled": true
   },
   "outputs": [
    {
     "data": {
      "text/plain": [
       "['.ipynb_checkpoints',\n",
       " 'desktop.ini',\n",
       " 'Factorial.py',\n",
       " 'File_IO_Portilla_28.py',\n",
       " 'IO_Example_0.txt',\n",
       " 'IO_Example_1.txt',\n",
       " 'numpy_ultraquick_tut.ipynb',\n",
       " 'Portilla_PyBtcp_Sec3.28_Files_IO-Files.ipynb',\n",
       " 'Portilla_PyBtcp_Sec3.30_Data_Structures_Assessment_Test.ipynb',\n",
       " 'Portilla_PyBtcp_Sec5.34-38_Python-Statements.ipynb',\n",
       " 'Portilla_PyBtcp_Sec5.39_Statements Assessment Test.ipynb',\n",
       " 'Portilla_PyBtcp_Sec6.50_Function_Practice_Exercises.ipynb',\n",
       " 'Portilla_PyBtcp_Sec6.55-56_Tests.ipynb',\n",
       " 'Portilla_PyBtcp_Sec6.57_Functions-Methods_Homework.ipynb',\n",
       " 'Portilla_PyBtcp_Sec7_Milestone Project 1 - Assignment.ipynb',\n",
       " 'Portilla_PyBtcp_Sec7_Mlstn-Proj-1_Tic-Tac-Toe.ipynb',\n",
       " 'Portilla_PyBtcp_Sec7_Warmup_Proj_Exercises.ipynb',\n",
       " 'Portilla_PyBtcp_Sec8.68-72_Object_Oriented_Programming.ipynb',\n",
       " 'Portilla_PyBtcp_Sec8.68-72_OOP_Tests_AJZ.ipynb',\n",
       " 'Portilla_PyBtcp_Sec8.73-74_Object_Oriented_Programming_Homework.ipynb',\n",
       " 'Portilla_PyBtcp_Sec8.75-76_OOP_Challenge.ipynb',\n",
       " 'Portilla_PyBtcp_Sec9.78-79_Packages_Test.ipynb',\n",
       " 'Portilla_Sec.9_Modules-Packages',\n",
       " 'Strings_tests.ipynb',\n",
       " 'untitled1.txt',\n",
       " 'ZAJTestPackage']"
      ]
     },
     "execution_count": 2,
     "metadata": {},
     "output_type": "execute_result"
    }
   ],
   "source": [
    "import os\n",
    "os.listdir()"
   ]
  },
  {
   "cell_type": "code",
   "execution_count": 3,
   "id": "4192e3f6",
   "metadata": {},
   "outputs": [
    {
     "data": {
      "text/plain": [
       "['TestCountPermute.py',\n",
       " 'TestSubPack1',\n",
       " 'TestSubPack2',\n",
       " '__init__.py',\n",
       " '__pycache__']"
      ]
     },
     "execution_count": 3,
     "metadata": {},
     "output_type": "execute_result"
    }
   ],
   "source": [
    "os.chdir(\"ZAJTestPackage\")\n",
    "os.listdir()"
   ]
  },
  {
   "cell_type": "markdown",
   "id": "a2d2c273",
   "metadata": {},
   "source": [
    "Next, I will try to import the n_choose_k and binomial_complicated *functions* from the TestCountPermute.py *module* inside the ZAJTestPackage *package*. I'll record several syntax errors below"
   ]
  },
  {
   "cell_type": "markdown",
   "id": "083ffa53",
   "metadata": {},
   "source": [
    "**Test 1:** If I try to import the functions directly using the \".\"s, I get the following error:"
   ]
  },
  {
   "cell_type": "code",
   "execution_count": 5,
   "id": "e1456bbb",
   "metadata": {
    "scrolled": true
   },
   "outputs": [
    {
     "ename": "ModuleNotFoundError",
     "evalue": "No module named 'ZAJTestPackage.TestCountPermute.n_choose_k'; 'ZAJTestPackage.TestCountPermute' is not a package",
     "output_type": "error",
     "traceback": [
      "\u001b[1;31m---------------------------------------------------------------------------\u001b[0m",
      "\u001b[1;31mModuleNotFoundError\u001b[0m                       Traceback (most recent call last)",
      "\u001b[1;32m<ipython-input-5-f3cd4d8f0223>\u001b[0m in \u001b[0;36m<module>\u001b[1;34m\u001b[0m\n\u001b[1;32m----> 1\u001b[1;33m \u001b[1;32mimport\u001b[0m \u001b[0mZAJTestPackage\u001b[0m\u001b[1;33m.\u001b[0m\u001b[0mTestCountPermute\u001b[0m\u001b[1;33m.\u001b[0m\u001b[0mn_choose_k\u001b[0m \u001b[1;32mas\u001b[0m \u001b[0mn_choose_k\u001b[0m\u001b[1;33m\u001b[0m\u001b[1;33m\u001b[0m\u001b[0m\n\u001b[0m\u001b[0;32m      2\u001b[0m \u001b[1;32mimport\u001b[0m \u001b[0mZAJTestPackage\u001b[0m\u001b[1;33m.\u001b[0m\u001b[0mTestCountPermute\u001b[0m\u001b[1;33m.\u001b[0m\u001b[0mbinomial_complicated\u001b[0m \u001b[1;32mas\u001b[0m \u001b[0mbinomial_formula\u001b[0m\u001b[1;33m\u001b[0m\u001b[1;33m\u001b[0m\u001b[0m\n",
      "\u001b[1;31mModuleNotFoundError\u001b[0m: No module named 'ZAJTestPackage.TestCountPermute.n_choose_k'; 'ZAJTestPackage.TestCountPermute' is not a package"
     ]
    }
   ],
   "source": [
    "import ZAJTestPackage.TestCountPermute.n_choose_k as n_choose_k\n",
    "import ZAJTestPackage.TestCountPermute.binomial_complicated as binomial_formula\n"
   ]
  },
  {
   "cell_type": "markdown",
   "id": "dc0c1709",
   "metadata": {},
   "source": [
    "**Test 2:** If I try to import functions from the module using the full hierarchy again, I get an error"
   ]
  },
  {
   "cell_type": "code",
   "execution_count": 8,
   "id": "94136b8c",
   "metadata": {
    "scrolled": true
   },
   "outputs": [
    {
     "ename": "SyntaxError",
     "evalue": "invalid syntax (<ipython-input-8-dddd09d6586b>, line 1)",
     "output_type": "error",
     "traceback": [
      "\u001b[1;36m  File \u001b[1;32m\"<ipython-input-8-dddd09d6586b>\"\u001b[1;36m, line \u001b[1;32m1\u001b[0m\n\u001b[1;33m    from ZAJTestPackage.TestCountPermute import ZAJTestPackage.TestCountPermute.n_choose_k as n_choose_k\u001b[0m\n\u001b[1;37m                                                              ^\u001b[0m\n\u001b[1;31mSyntaxError\u001b[0m\u001b[1;31m:\u001b[0m invalid syntax\n"
     ]
    }
   ],
   "source": [
    "from ZAJTestPackage.TestCountPermute import ZAJTestPackage.TestCountPermute.n_choose_k as n_choose_k\n",
    "from ZAJTestPackage.TestCountPermute import ZAJTestPackage.TestCountPermute.binomial_complicated as binomial_formula\n"
   ]
  },
  {
   "cell_type": "markdown",
   "id": "5abc17ee",
   "metadata": {},
   "source": [
    "**Test 3:** The correct way of importing my functions under new names this seems to be the following:"
   ]
  },
  {
   "cell_type": "code",
   "execution_count": 1,
   "id": "1447c4a7",
   "metadata": {},
   "outputs": [],
   "source": [
    "from ZAJTestPackage.TestCountPermute import n_choose_k as n_C_k\n",
    "from ZAJTestPackage.TestCountPermute import binomial_complicated as binomial_formula\n"
   ]
  },
  {
   "cell_type": "code",
   "execution_count": 2,
   "id": "11ca2407",
   "metadata": {},
   "outputs": [
    {
     "name": "stdout",
     "output_type": "stream",
     "text": [
      "4_choose_2 = n_C_k(4,2)=6.0\n",
      "(1+1)^5 = binomial_formula(1,1,5)=32.0\n"
     ]
    }
   ],
   "source": [
    "print(f'4_choose_2 = n_C_k(4,2)={n_C_k(4,2)}')\n",
    "print(f'(1+1)^5 = binomial_formula(1,1,5)={binomial_formula(1,1,5)}')"
   ]
  },
  {
   "cell_type": "markdown",
   "id": "e33a07a1",
   "metadata": {},
   "source": [
    "**Important**: Note that TestCountPermute.py starts with the following lines:\n",
    " \n",
    "from ZAJTestPackage.TestSubPack1.TestSubmodZAJ1 import factorial as factorial\n",
    "\n",
    "from ZAJTestPackage.TestSubPack2.TestSubmodZAJ2 import sigma as sigma\n",
    "\n",
    "The n_choose_k function uses factorial, while binomial_complicated uses sigma."
   ]
  },
  {
   "cell_type": "markdown",
   "id": "1ce3f726",
   "metadata": {},
   "source": [
    "_________________________________"
   ]
  },
  {
   "cell_type": "markdown",
   "id": "4748b327",
   "metadata": {},
   "source": [
    "### Useful commands in Python prompt\n",
    "\n",
    "The os package contains commands that replace the \"dir\" and \"cd\" commands of cmd.exe. Repectively, these are:\n",
    "\n",
    "- Current working directory: os.getcwd()\n",
    "- Change directory: os.chdir(\"C:\\\\New_Directory_Address\")\n"
   ]
  },
  {
   "cell_type": "code",
   "execution_count": null,
   "id": "3f49e279",
   "metadata": {},
   "outputs": [],
   "source": []
  }
 ],
 "metadata": {
  "kernelspec": {
   "display_name": "Python 3",
   "language": "python",
   "name": "python3"
  },
  "language_info": {
   "codemirror_mode": {
    "name": "ipython",
    "version": 3
   },
   "file_extension": ".py",
   "mimetype": "text/x-python",
   "name": "python",
   "nbconvert_exporter": "python",
   "pygments_lexer": "ipython3",
   "version": "3.8.8"
  }
 },
 "nbformat": 4,
 "nbformat_minor": 5
}
