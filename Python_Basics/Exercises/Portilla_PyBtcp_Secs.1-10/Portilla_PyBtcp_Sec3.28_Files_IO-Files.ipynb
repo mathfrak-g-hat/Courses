{
 "cells": [
  {
   "cell_type": "code",
   "execution_count": 2,
   "id": "217a7ee6",
   "metadata": {},
   "outputs": [],
   "source": [
    "txtFile = open(\"Basics_Files_Portilla_Bootcamp_28_IO-Files_Example_0.txt\")"
   ]
  },
  {
   "cell_type": "code",
   "execution_count": 3,
   "id": "db47d089",
   "metadata": {},
   "outputs": [
    {
     "data": {
      "text/plain": [
       "_io.TextIOWrapper"
      ]
     },
     "execution_count": 3,
     "metadata": {},
     "output_type": "execute_result"
    }
   ],
   "source": [
    "type(txtFile)"
   ]
  },
  {
   "cell_type": "code",
   "execution_count": 4,
   "id": "c4894669",
   "metadata": {},
   "outputs": [
    {
     "data": {
      "text/plain": [
       "'C:\\\\Users\\\\zaj20\\\\Documents\\\\Python\\\\First steps'"
      ]
     },
     "execution_count": 4,
     "metadata": {},
     "output_type": "execute_result"
    }
   ],
   "source": [
    "pwd"
   ]
  },
  {
   "cell_type": "code",
   "execution_count": null,
   "id": "c0131023",
   "metadata": {},
   "outputs": [],
   "source": []
  }
 ],
 "metadata": {
  "kernelspec": {
   "display_name": "Python 3",
   "language": "python",
   "name": "python3"
  },
  "language_info": {
   "codemirror_mode": {
    "name": "ipython",
    "version": 3
   },
   "file_extension": ".py",
   "mimetype": "text/x-python",
   "name": "python",
   "nbconvert_exporter": "python",
   "pygments_lexer": "ipython3",
   "version": "3.8.8"
  }
 },
 "nbformat": 4,
 "nbformat_minor": 5
}
