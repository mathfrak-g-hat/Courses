{
 "cells": [
  {
   "cell_type": "markdown",
   "id": "01faec88",
   "metadata": {},
   "source": [
    "# Tic-Tac-Toe Game\n",
    "### Ahmed J. Zerouali (2021/06/01)\n",
    "\n",
    "\n",
    "This is my version of the Tic-Tac-Toe game (Milestone project 1 of Pierian Data's Python Bootcamp).\n",
    "\n",
    "The main object we'll be working with is the game board, which is a nested list of depth 3:\n",
    "\n",
    "    board = [ [[(-1,-1), 's'], [(-1,0), 's'], [(-1,1), 's']], # Left column of board\n",
    "              [[(0,-1), 's'], [(0,0), 's'], [(0,1), 's']],    # Middle column\n",
    "              [[(1,-1), 's'], [(1,0), 's'], [(1,1), 's']] ]   # Right column\n",
    "\n",
    "Above:\n",
    "- Each square of the board is of the form [(x,y), 'symbol'], and is a list of depth 3.\n",
    "- The coordinates of each square are specified by a tuple (x,y) (since immutable), chosen so that the central square has coordinates (0,0).\n",
    "- Each row of the board is a list of depth 2. These are organized from left to right, bottom to top.\n",
    "\n",
    "### Useful notes:\n",
    "(1) For a decreasing for-loop can use range(Max, Min-1, -1).\n",
    "\n",
    "(2) To write instructions on more than one line in Python, add '\\\\' before continuing on next line.\n"
   ]
  },
  {
   "cell_type": "code",
   "execution_count": null,
   "id": "0a00077d",
   "metadata": {},
   "outputs": [],
   "source": [
    "# Useful Note 1: For a decreasing for-loop can use range(Max, Min-1, -1)\n",
    "iterable = [i for i in range(1,-1 -1 ,-1)]; print(iterable)"
   ]
  },
  {
   "cell_type": "code",
   "execution_count": 9,
   "id": "44340c46",
   "metadata": {},
   "outputs": [],
   "source": [
    "def initialize_board():\n",
    "    # Creates a new empty board\n",
    "    \n",
    "    # Create a list [x, y, 'str'] where: (this has to be clarified)\n",
    "    # * The coordinates (x,y) designate the coordinates on the board\n",
    "    # * x and y take values in {-1,0,1}\n",
    "    # * 'str' = ' ' for the initialization (i.e. just a space)\n",
    "    \n",
    "    new_board = []\n",
    "    for i in range(-1,2):\n",
    "        new_column = []\n",
    "        for j in range(-1,2):\n",
    "            new_column.append([(i,j), ' '])\n",
    "        new_board.append(new_column)\n",
    "            \n",
    "    return new_board"
   ]
  },
  {
   "cell_type": "code",
   "execution_count": 10,
   "id": "70885144",
   "metadata": {},
   "outputs": [
    {
     "name": "stdout",
     "output_type": "stream",
     "text": [
      "[[[(-1, -1), ' '], [(-1, 0), ' '], [(-1, 1), ' ']], [[(0, -1), ' '], [(0, 0), ' '], [(0, 1), ' ']], [[(1, -1), ' '], [(1, 0), ' '], [(1, 1), ' ']]]\n"
     ]
    }
   ],
   "source": [
    "test_board = initialize_board()\n",
    "print(test_board)"
   ]
  },
  {
   "cell_type": "code",
   "execution_count": null,
   "id": "107ea115",
   "metadata": {},
   "outputs": [],
   "source": [
    "test_board[1][0][1]"
   ]
  },
  {
   "cell_type": "code",
   "execution_count": 11,
   "id": "c1a88422",
   "metadata": {},
   "outputs": [],
   "source": [
    "def print_board(cur_board):\n",
    "    # Prints the cur_board onto screen. Returns None.\n",
    "    # Note: The board list is organized from bottom to top, so we need to be careful here.\n",
    "    \n",
    "    # Should be 2 for loops. Squares on the board should be delimited by the '|' character\n",
    "    \n",
    "    # Upper boundary\n",
    "    print('____________')\n",
    "    \n",
    "    # The board\n",
    "    for j in range(1,-1-1,-1): # Loop over rows\n",
    "        board_row_j = ''\n",
    "        for i in range(-1,2): # Loop over column\n",
    "            board_row_j = board_row_j + ' '+cur_board[i+1][j+1][1]+' |'\n",
    "    \n",
    "        print(board_row_j+'\\n'+'____________')\n",
    "    \n",
    "    # Lower boundary\n",
    "    # print('____________')\n",
    "    \n",
    "    return None"
   ]
  },
  {
   "cell_type": "code",
   "execution_count": 12,
   "id": "1954cb50",
   "metadata": {},
   "outputs": [
    {
     "name": "stdout",
     "output_type": "stream",
     "text": [
      "____________\n",
      " X | O | X |\n",
      "____________\n",
      " O | X | O |\n",
      "____________\n",
      " O | X | O |\n",
      "____________\n"
     ]
    }
   ],
   "source": [
    "test_board = [ [[(-1,-1), 'O'], [(-1,0), 'O'], [(-1,1), 'X']], # Left column of board\n",
    "          [[(0,-1), 'X'], [(0,0), 'X'], [(0,1), 'O']],    # Middle column\n",
    "          [[(1,-1), 'O'], [(1,0), 'O'], [(1,1), 'X']] ]   # Right column\n",
    "print_board(test_board)"
   ]
  },
  {
   "cell_type": "code",
   "execution_count": null,
   "id": "b07a1146",
   "metadata": {},
   "outputs": [],
   "source": [
    "test_board[2][2][1]"
   ]
  },
  {
   "cell_type": "code",
   "execution_count": 13,
   "id": "ba645336",
   "metadata": {},
   "outputs": [],
   "source": [
    "def check_board_winner(player_str, cur_board, n_moves):\n",
    "    # Checks if player_str ('X' or 'O') has won the game. Returns player_str or 'No winner'.\n",
    "    # Arguments:\n",
    "    # 1) player_str is the current player\n",
    "    # 2) cur_board is the current game board\n",
    "    # 3) n_moves is the number of moves played before the function call. Returns 'No winner' \n",
    "    #    by default if n_moves < 5 (Need at least 5 moves to have a winner).\n",
    "    \n",
    "    # Should also be a double for loop.\n",
    "    \n",
    "    # Checks if one of the two players won the game, returns 'winner' string, either 'X', 'O' or 'No winner' (old version)\n",
    "    \n",
    "    winner = 'No winner'\n",
    "    \n",
    "    if n_moves >= 5:\n",
    "        # Vertical configurations\n",
    "        for i in range(3):\n",
    "            if (cur_board[i][0][1] == player_str) \\\n",
    "            and (cur_board[i][1][1] == player_str) \\\n",
    "            and (cur_board[i][2][1] == player_str):\n",
    "                winner = player_str\n",
    "\n",
    "        # Horizontal configurations\n",
    "        for i in range(3):\n",
    "            if (cur_board[0][i][1] == player_str) \\\n",
    "            and (cur_board[1][i][1] == player_str) \\\n",
    "            and (cur_board[2][i][1] == player_str):\n",
    "                winner = player_str\n",
    "\n",
    "        # Diagonal configurations\n",
    "        if ( (cur_board[0][0][1] == player_str) \\\n",
    "            and (cur_board[1][1][1] == player_str) \\\n",
    "            and (cur_board[2][2][1] == player_str) ) \\\n",
    "        or ((cur_board[0][2][1] == player_str) \\\n",
    "            and (cur_board[1][1][1] == player_str) \\\n",
    "            and (cur_board[2][0][1] == player_str)):\n",
    "            winner = player_str\n",
    "    \n",
    "    return winner\n",
    "    "
   ]
  },
  {
   "cell_type": "markdown",
   "id": "db8f0e34",
   "metadata": {},
   "source": [
    "## Some tests\n",
    "\n",
    "This is to debug the functions above. We'll test a couple of configurations and see if player 'O' or player 'X' won."
   ]
  },
  {
   "cell_type": "code",
   "execution_count": null,
   "id": "b92549bd",
   "metadata": {
    "scrolled": true
   },
   "outputs": [],
   "source": [
    "test_board = [ [[(-1,-1), 'O'], [(-1,0), 'O'], [(-1,1), 'O']], # Left column of board\n",
    "          [[(0,-1), 'X'], [(0,0), 'X'], [(0,1), 'O']],    # Middle column\n",
    "          [[(1,-1), 'O'], [(1,0), 'O'], [(1,1), 'X']] ]   # Right column\n",
    "print_board(test_board)\n",
    "winner = 'No winner'\n",
    "player_O_wins = check_board_winner('O', test_board, 9)\n",
    "player_X_wins = check_board_winner('X', test_board, 9)\n",
    "# Test output\n",
    "if player_O_wins == 'O':\n",
    "    winner = player_O_wins\n",
    "elif player_X_wins == 'X':\n",
    "    winner = player_X_wins\n",
    "print('The winner is: '+winner)"
   ]
  },
  {
   "cell_type": "code",
   "execution_count": null,
   "id": "8cbedf7d",
   "metadata": {
    "scrolled": true
   },
   "outputs": [],
   "source": [
    "test_board = [ [[(-1,-1), 'O'], [(-1,0), 'O'], [(-1,1), 'X']], # Left column of board\n",
    "          [[(0,-1), 'O'], [(0,0), 'X'], [(0,1), 'O']],    # Middle column\n",
    "          [[(1,-1), 'X'], [(1,0), 'X'], [(1,1), 'O']] ]   # Right column\n",
    "print_board(test_board)\n",
    "winner = 'No winner'\n",
    "player_O_wins = check_board_winner('O', test_board, 9)\n",
    "player_X_wins = check_board_winner('X', test_board, 9)\n",
    "# Test output\n",
    "if player_O_wins == 'O':\n",
    "    winner = player_O_wins\n",
    "elif player_X_wins == 'X':\n",
    "    winner = player_X_wins\n",
    "print('The winner is: '+winner)"
   ]
  },
  {
   "cell_type": "markdown",
   "id": "4af67a40",
   "metadata": {},
   "source": [
    "## Player input function\n",
    "\n",
    "One of the two main functions of the game."
   ]
  },
  {
   "cell_type": "code",
   "execution_count": 14,
   "id": "6875764a",
   "metadata": {},
   "outputs": [],
   "source": [
    "def player_input(player_str, cur_board, n_moves, winner_exists):\n",
    "    # Arguments:\n",
    "    # 1) player_str is the current player\n",
    "    # 2) cur_board is the current game board\n",
    "    # 3) n_moves is the number of previously played moves\n",
    "    # 4) winner_exists (Boolean) \n",
    "    # Output:\n",
    "    # (new_board, new_n_moves, new_winner_exists)\n",
    "    \n",
    "    # DESCRIPTION: This function executes the following instructions:\n",
    "    # 1) Asks player player_str ('X' or 'O') to input a tuple (x,y) for his next move.\n",
    "    # 2) Checks if the input has: (i) Valid coordinates in {-1,0,1}; (ii) Specified square is empty (contains space ' ')\n",
    "    # 3) If both conditions in (2) are true, adds player_str to the specified square, and increments n_moves.\n",
    "    # 4) Calls print_board(cur_board). This is just for the display.\n",
    "    # 5) Calls check_board_winner(player_str, cur_board, n_moves)\n",
    "    # This doesn't seem to work\n",
    "    \n",
    "    # Initializations\n",
    "    new_board = cur_board\n",
    "    new_n_moves = n_moves\n",
    "    in_col, in_row = -3, -4\n",
    "    valid_input = False\n",
    "    \n",
    "    # First check that there's no winner yet and less than 9 moves\n",
    "    if (not winner_exists) and (n_moves<9): \n",
    "        print(' \\n ')\n",
    "        print('It\\'s Player '+player_str +'\\'s turn.')\n",
    "        \n",
    "        # Instructions (1) and (2) of the description:\n",
    "        while not valid_input:\n",
    "             # Input\n",
    "            print('Please enter the coordinates (x,y) of your next square. \\\n",
    "            \\n(x,y must be -1, 0 or 1, and the square must be empty.)\\n')\n",
    "            in_col = int(input('Column: '))\n",
    "            in_row = int(input('Row: '))\n",
    "            \n",
    "            if (-1<=in_col<=1) and (-1<=in_row<=1) and (cur_board[in_col+1][in_row+1][1]==' '):\n",
    "                if (cur_board[in_col+1][in_row+1][1]==' '):\n",
    "                    valid_input = True\n",
    "                else:\n",
    "                    print('Sorry, this square taken!')\n",
    "            else:\n",
    "                print('Sorry, your coordinates are incorrect.')\n",
    "        \n",
    "        # Instruction (3) of the description (IMPORTANT: This changes the output)\n",
    "        new_board[in_col+1][in_row+1][1] = player_str\n",
    "        new_n_moves = new_n_moves+1\n",
    "        \n",
    "        # Instruction (4): Print the new board\n",
    "        print_board(new_board)\n",
    "        \n",
    "        # Instruction (5): Check if this is a winning move (IMPORTANT: Modifies winner_exists input)\n",
    "        if check_board_winner(player_str, new_board, new_n_moves)==player_str:\n",
    "            winner_exists = True\n",
    "            print('Player '+player_str+' wins!')\n",
    "\n",
    "    else:\n",
    "        print('ERROR: Either there is a winner or the board is full.')\n",
    "\n",
    "    # Output\n",
    "    print('PLAYER INPUT EXECUTED SUCCESSFULLY')\n",
    "    return (new_board, new_n_moves, winner_exists)\n",
    "    "
   ]
  },
  {
   "cell_type": "code",
   "execution_count": 15,
   "id": "207ac6dc",
   "metadata": {
    "scrolled": true
   },
   "outputs": [
    {
     "name": "stdout",
     "output_type": "stream",
     "text": [
      "____________\n",
      "   |   |   |\n",
      "____________\n",
      "   |   |   |\n",
      "____________\n",
      "   |   |   |\n",
      "____________\n",
      " \n",
      " \n",
      "It's Player X's turn.\n",
      "Please enter the coordinates (x,y) of your next square.             \n",
      "(x,y must be -1, 0 or 1, and the square must be empty.)\n",
      "\n",
      "Column: 0\n",
      "Row: 0\n",
      "____________\n",
      "   |   |   |\n",
      "____________\n",
      "   | X |   |\n",
      "____________\n",
      "   |   |   |\n",
      "____________\n",
      "PLAYER INPUT EXECUTED SUCCESSFULLY\n",
      "test_n_moves =  1\n",
      "test_winner =  False\n",
      " \n",
      " \n",
      "It's Player O's turn.\n",
      "Please enter the coordinates (x,y) of your next square.             \n",
      "(x,y must be -1, 0 or 1, and the square must be empty.)\n",
      "\n",
      "Column: 1.5\n"
     ]
    },
    {
     "ename": "ValueError",
     "evalue": "invalid literal for int() with base 10: '1.5'",
     "output_type": "error",
     "traceback": [
      "\u001b[1;31m---------------------------------------------------------------------------\u001b[0m",
      "\u001b[1;31mValueError\u001b[0m                                Traceback (most recent call last)",
      "\u001b[1;32m<ipython-input-15-be20d7a9f716>\u001b[0m in \u001b[0;36m<module>\u001b[1;34m\u001b[0m\n\u001b[0;32m     25\u001b[0m \u001b[1;33m\u001b[0m\u001b[0m\n\u001b[0;32m     26\u001b[0m     \u001b[1;31m# Main function\u001b[0m\u001b[1;33m\u001b[0m\u001b[1;33m\u001b[0m\u001b[1;33m\u001b[0m\u001b[0m\n\u001b[1;32m---> 27\u001b[1;33m     \u001b[1;33m(\u001b[0m\u001b[0mtest_board_1\u001b[0m\u001b[1;33m,\u001b[0m \u001b[0mtest_n_moves\u001b[0m\u001b[1;33m,\u001b[0m \u001b[0mtest_winner\u001b[0m\u001b[1;33m)\u001b[0m \u001b[1;33m=\u001b[0m \u001b[0mplayer_input\u001b[0m\u001b[1;33m(\u001b[0m\u001b[0mtest_player\u001b[0m\u001b[1;33m,\u001b[0m \u001b[0mtest_board_1\u001b[0m\u001b[1;33m,\u001b[0m \u001b[0mtest_n_moves\u001b[0m\u001b[1;33m,\u001b[0m \u001b[0mtest_winner\u001b[0m\u001b[1;33m)\u001b[0m\u001b[1;33m\u001b[0m\u001b[1;33m\u001b[0m\u001b[0m\n\u001b[0m\u001b[0;32m     28\u001b[0m     \u001b[0mprint\u001b[0m\u001b[1;33m(\u001b[0m\u001b[1;34m'test_n_moves = '\u001b[0m\u001b[1;33m,\u001b[0m \u001b[0mtest_n_moves\u001b[0m\u001b[1;33m)\u001b[0m\u001b[1;33m\u001b[0m\u001b[1;33m\u001b[0m\u001b[0m\n\u001b[0;32m     29\u001b[0m     \u001b[0mprint\u001b[0m\u001b[1;33m(\u001b[0m\u001b[1;34m'test_winner = '\u001b[0m\u001b[1;33m,\u001b[0m\u001b[0mtest_winner\u001b[0m \u001b[1;33m)\u001b[0m\u001b[1;33m\u001b[0m\u001b[1;33m\u001b[0m\u001b[0m\n",
      "\u001b[1;32m<ipython-input-14-266a80fa4197>\u001b[0m in \u001b[0;36mplayer_input\u001b[1;34m(player_str, cur_board, n_moves, winner_exists)\u001b[0m\n\u001b[0;32m     32\u001b[0m             print('Please enter the coordinates (x,y) of your next square. \\\n\u001b[0;32m     33\u001b[0m             \\n(x,y must be -1, 0 or 1, and the square must be empty.)\\n')\n\u001b[1;32m---> 34\u001b[1;33m             \u001b[0min_col\u001b[0m \u001b[1;33m=\u001b[0m \u001b[0mint\u001b[0m\u001b[1;33m(\u001b[0m\u001b[0minput\u001b[0m\u001b[1;33m(\u001b[0m\u001b[1;34m'Column: '\u001b[0m\u001b[1;33m)\u001b[0m\u001b[1;33m)\u001b[0m\u001b[1;33m\u001b[0m\u001b[1;33m\u001b[0m\u001b[0m\n\u001b[0m\u001b[0;32m     35\u001b[0m             \u001b[0min_row\u001b[0m \u001b[1;33m=\u001b[0m \u001b[0mint\u001b[0m\u001b[1;33m(\u001b[0m\u001b[0minput\u001b[0m\u001b[1;33m(\u001b[0m\u001b[1;34m'Row: '\u001b[0m\u001b[1;33m)\u001b[0m\u001b[1;33m)\u001b[0m\u001b[1;33m\u001b[0m\u001b[1;33m\u001b[0m\u001b[0m\n\u001b[0;32m     36\u001b[0m \u001b[1;33m\u001b[0m\u001b[0m\n",
      "\u001b[1;31mValueError\u001b[0m: invalid literal for int() with base 10: '1.5'"
     ]
    }
   ],
   "source": [
    "# Debug for player input\n",
    "\n",
    "# Initializations\n",
    "test_board_0 = initialize_board()\n",
    "test_n_moves = 0\n",
    "test_winner = False\n",
    "test_player = 'X'\n",
    "\n",
    "# Show empty board\n",
    "test_board_1 = test_board_0\n",
    "print_board(test_board_1)\n",
    "\n",
    "# Game\n",
    "while (not test_winner) and (test_n_moves<9):\n",
    "    # Which player's turn\n",
    "    if test_n_moves>0:\n",
    "        if test_player == 'X':\n",
    "            test_player = 'O'\n",
    "        elif test_player == 'O':\n",
    "            test_player = 'X'\n",
    "        else:\n",
    "            print('There\\'s a problem, shutdown.')\n",
    "            break\n",
    "            \n",
    "        \n",
    "    # Main function\n",
    "    (test_board_1, test_n_moves, test_winner) = player_input(test_player, test_board_1, test_n_moves, test_winner)\n",
    "    print('test_n_moves = ', test_n_moves)\n",
    "    print('test_winner = ',test_winner )\n",
    "    \n",
    "print('Game over. Go home.')\n",
    "\n"
   ]
  },
  {
   "cell_type": "code",
   "execution_count": null,
   "id": "be7eedbf",
   "metadata": {},
   "outputs": [],
   "source": []
  }
 ],
 "metadata": {
  "kernelspec": {
   "display_name": "Python 3",
   "language": "python",
   "name": "python3"
  },
  "language_info": {
   "codemirror_mode": {
    "name": "ipython",
    "version": 3
   },
   "file_extension": ".py",
   "mimetype": "text/x-python",
   "name": "python",
   "nbconvert_exporter": "python",
   "pygments_lexer": "ipython3",
   "version": "3.8.8"
  }
 },
 "nbformat": 4,
 "nbformat_minor": 5
}
