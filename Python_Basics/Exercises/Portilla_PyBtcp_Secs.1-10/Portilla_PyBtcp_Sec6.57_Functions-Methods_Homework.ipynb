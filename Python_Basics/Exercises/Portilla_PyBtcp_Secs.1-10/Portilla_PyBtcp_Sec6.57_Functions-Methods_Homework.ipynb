{
 "cells": [
  {
   "cell_type": "markdown",
   "metadata": {},
   "source": [
    "___\n",
    "\n",
    "<a href='https://www.udemy.com/user/joseportilla/'><img src='../Pierian_Data_Logo.png'/></a>\n",
    "___\n",
    "<center><em>Content Copyright by Pierian Data</em></center>"
   ]
  },
  {
   "cell_type": "markdown",
   "metadata": {},
   "source": [
    "# Functions and Methods Homework \n",
    "\n",
    "Complete the following questions:\n",
    "____\n",
    "**Write a function that computes the volume of a sphere given its radius.**\n",
    "<p>The volume of a sphere is given as $$\\frac{4}{3} πr^3$$</p>"
   ]
  },
  {
   "cell_type": "code",
   "execution_count": 1,
   "metadata": {},
   "outputs": [],
   "source": [
    "def vol(rad):\n",
    "    p = 3.141592653589793\n",
    "    return (4*p*(rad**3))/3"
   ]
  },
  {
   "cell_type": "code",
   "execution_count": 2,
   "metadata": {},
   "outputs": [
    {
     "data": {
      "text/plain": [
       "33.510321638291124"
      ]
     },
     "execution_count": 2,
     "metadata": {},
     "output_type": "execute_result"
    }
   ],
   "source": [
    "# Check\n",
    "vol(2)"
   ]
  },
  {
   "cell_type": "markdown",
   "metadata": {},
   "source": [
    "___\n",
    "**Write a function that checks whether a number is in a given range (inclusive of high and low)**"
   ]
  },
  {
   "cell_type": "code",
   "execution_count": 3,
   "metadata": {},
   "outputs": [],
   "source": [
    "def ran_check(num,low,high):\n",
    "    if low<= num<= high:\n",
    "        print(num, 'is between ',low,' and ', high)\n",
    "        return True\n",
    "    else:\n",
    "        print(num, 'is not between ',low,' and ', high)\n",
    "        return False"
   ]
  },
  {
   "cell_type": "code",
   "execution_count": 4,
   "metadata": {},
   "outputs": [
    {
     "name": "stdout",
     "output_type": "stream",
     "text": [
      "5 is between  2  and  7\n"
     ]
    },
    {
     "data": {
      "text/plain": [
       "True"
      ]
     },
     "execution_count": 4,
     "metadata": {},
     "output_type": "execute_result"
    }
   ],
   "source": [
    "# Check\n",
    "ran_check(5,2,7)"
   ]
  },
  {
   "cell_type": "markdown",
   "metadata": {},
   "source": [
    "If you only wanted to return a boolean:"
   ]
  },
  {
   "cell_type": "code",
   "execution_count": 5,
   "metadata": {},
   "outputs": [],
   "source": [
    "def ran_bool(num,low,high):\n",
    "    if low<= num<= high:\n",
    "        print(num, 'is between ',low,' and ', high)\n",
    "        return True\n",
    "    else:\n",
    "        print(num, 'is not between ',low,' and ', high)\n",
    "        return False"
   ]
  },
  {
   "cell_type": "code",
   "execution_count": 6,
   "metadata": {},
   "outputs": [
    {
     "name": "stdout",
     "output_type": "stream",
     "text": [
      "3 is between  1  and  10\n"
     ]
    },
    {
     "data": {
      "text/plain": [
       "True"
      ]
     },
     "execution_count": 6,
     "metadata": {},
     "output_type": "execute_result"
    }
   ],
   "source": [
    "ran_bool(3,1,10)"
   ]
  },
  {
   "cell_type": "markdown",
   "metadata": {},
   "source": [
    "____\n",
    "**Write a Python function that accepts a string and calculates the number of upper case letters and lower case letters.**\n",
    "\n",
    "    Sample String : 'Hello Mr. Rogers, how are you this fine Tuesday?'\n",
    "    Expected Output : \n",
    "    No. of Upper case characters : 4\n",
    "    No. of Lower case Characters : 33\n",
    "\n",
    "HINT: Two string methods that might prove useful: **.isupper()** and **.islower()**\n",
    "\n",
    "If you feel ambitious, explore the Collections module to solve this problem!"
   ]
  },
  {
   "cell_type": "code",
   "execution_count": 7,
   "metadata": {},
   "outputs": [],
   "source": [
    "def up_low(s):\n",
    "    \n",
    "    # Initializations\n",
    "    n_upper = 0\n",
    "    n_lower = 0\n",
    "    \n",
    "    #Count\n",
    "    for i in range(len(s)):\n",
    "        if (s[i] != ' ') and s[i].isupper():\n",
    "            n_upper = n_upper +1\n",
    "        elif (s[i] != ' ') and s[i].islower():\n",
    "            n_lower = n_lower +1\n",
    "           \n",
    "    # Output\n",
    "    print('Original String : '+s)\n",
    "    print('No. of Upper case characters :  ', n_upper)\n",
    "    print('No. of Lower case characters :  ', n_lower)\n",
    "            "
   ]
  },
  {
   "cell_type": "code",
   "execution_count": 8,
   "metadata": {},
   "outputs": [
    {
     "name": "stdout",
     "output_type": "stream",
     "text": [
      "Original String : Hello Mr. Rogers, how are you this fine Tuesday?\n",
      "No. of Upper case characters :   4\n",
      "No. of Lower case characters :   33\n"
     ]
    }
   ],
   "source": [
    "s = 'Hello Mr. Rogers, how are you this fine Tuesday?'\n",
    "up_low(s)"
   ]
  },
  {
   "cell_type": "markdown",
   "metadata": {},
   "source": [
    "##### Example of up_low(s)\n",
    "\n",
    "s = 'Hello Mr. Rogers, how are you this fine Tuesday?'\n",
    "up_low(s)\n",
    "\n",
    "Original String :  Hello Mr. Rogers, how are you this fine Tuesday?\n",
    "No. of Upper case characters :  4\n",
    "No. of Lower case Characters :  33"
   ]
  },
  {
   "cell_type": "code",
   "execution_count": 17,
   "metadata": {},
   "outputs": [
    {
     "name": "stdout",
     "output_type": "stream",
     "text": [
      "0\n",
      "0\n",
      "[1, 2, 3, 4, 5]\n"
     ]
    }
   ],
   "source": [
    "# Number of elements in a list?\n",
    "test_list = [1,2,3,4,5]\n",
    "test_list_1 = []\n",
    "#test_list_len = test_list.count(1)\n",
    "print( test_list.count(6))\n",
    "print( test_list_1.count(6))\n",
    "set_test_list = set(test_list)\n",
    "test_list_2 = list(set_test_list)\n",
    "print(test_list_2)"
   ]
  },
  {
   "cell_type": "markdown",
   "metadata": {},
   "source": [
    "____\n",
    "**Write a Python function that takes a list and returns a new list with unique elements of the first list.**\n",
    "\n",
    "    Sample List : [1,1,1,1,2,2,3,3,3,3,4,5]\n",
    "    Unique List : [1, 2, 3, 4, 5]"
   ]
  },
  {
   "cell_type": "code",
   "execution_count": 24,
   "metadata": {},
   "outputs": [],
   "source": [
    "# I think we have to use the .count() method for lists in this one. Lists don't seem to have a length f'n in Python\n",
    "# \n",
    "\n",
    "def unique_list(lst):\n",
    "    # METHOD 1: Brute force\n",
    "    # Initialization\n",
    "    #new_lst = []\n",
    "    #for i in lst:\n",
    "    #    if new_lst.count(i) == 0:\n",
    "    #        new_lst.append(i)\n",
    "            \n",
    "    # METHOD 2: 2-line sol'n\n",
    "    new_lst = list(set(lst))\n",
    "    \n",
    "    return new_lst\n",
    "        "
   ]
  },
  {
   "cell_type": "code",
   "execution_count": 25,
   "metadata": {},
   "outputs": [
    {
     "data": {
      "text/plain": [
       "[1, 2, 3, 4, 5]"
      ]
     },
     "execution_count": 25,
     "metadata": {},
     "output_type": "execute_result"
    }
   ],
   "source": [
    "unique_list([1,1,1,1,2,2,3,3,3,3,4,5])"
   ]
  },
  {
   "cell_type": "markdown",
   "metadata": {},
   "source": [
    "____\n",
    "**Write a Python function to multiply all the numbers in a list.**\n",
    "\n",
    "    Sample List : [1, 2, 3, -4]\n",
    "    Expected Output : -24"
   ]
  },
  {
   "cell_type": "code",
   "execution_count": 26,
   "metadata": {},
   "outputs": [],
   "source": [
    "def multiply(numbers):  \n",
    "    # First, check list contains only int's and floats\n",
    "    numbers_only = True\n",
    "    for i in numbers:\n",
    "        if not (type(i)==int or type(i)==float):\n",
    "            numbers_only = False\n",
    "            \n",
    "            \n",
    "    # Main loop if list contains numbers only\n",
    "    if numbers_only:\n",
    "        numbers_prod = 1\n",
    "        for i in numbers:\n",
    "            numbers_prod = numbers_prod * i\n",
    "       # Output\n",
    "        return numbers_prod\n",
    "    else:\n",
    "        print('Input doesn\\'t contain numbers only')\n",
    "        return None"
   ]
  },
  {
   "cell_type": "code",
   "execution_count": 30,
   "metadata": {},
   "outputs": [
    {
     "name": "stdout",
     "output_type": "stream",
     "text": [
      "multiply([1,2,3,-4]) =  -24\n",
      "multiply([2,4,8,16]) =  1024\n"
     ]
    }
   ],
   "source": [
    "print('multiply([1,2,3,-4]) = ', multiply([1,2,3,-4]))\n",
    "print('multiply([2,4,8,16]) = ', multiply([2,4,8,16]))"
   ]
  },
  {
   "cell_type": "code",
   "execution_count": 28,
   "metadata": {},
   "outputs": [
    {
     "name": "stdout",
     "output_type": "stream",
     "text": [
      "Input doesn't contain numbers only\n"
     ]
    }
   ],
   "source": [
    "multiply([1,'Michael jackson',3,-4])"
   ]
  },
  {
   "cell_type": "markdown",
   "metadata": {},
   "source": [
    "____\n",
    "**Write a Python function that checks whether a word or phrase is palindrome or not.**\n",
    "\n",
    "Note: A palindrome is word, phrase, or sequence that reads the same backward as forward, e.g., madam,kayak,racecar, or a phrase \"nurses run\". Hint: You may want to check out the .replace() method in a string to help out with dealing with spaces. Also google search how to reverse a string in Python, there are some clever ways to do it with slicing notation."
   ]
  },
  {
   "cell_type": "code",
   "execution_count": 41,
   "metadata": {},
   "outputs": [
    {
     "name": "stdout",
     "output_type": "stream",
     "text": [
      "New s =someteststring\n"
     ]
    }
   ],
   "source": [
    "# Note 1: The str() function converts data structures into their string representations\n",
    "# Note 2 - ONE MY MISTAKES: When using a decreasing for loop, don't forget Python's convention that the last number isn't\n",
    "#                           included in the counting (i.e. for i in range(Max, min-1, -1))\n",
    "s = 'Some test string'\n",
    "s = s.replace(' ','') \n",
    "s = s.lower()\n",
    "print('New s ='+s)\n"
   ]
  },
  {
   "cell_type": "code",
   "execution_count": 49,
   "metadata": {},
   "outputs": [],
   "source": [
    "def palindrome(s):\n",
    "    \n",
    "    # Suppress spaces from input and put in lower caps\n",
    "    s_nospc = s.replace(' ','')\n",
    "    s_nospc = s_nospc.lower()\n",
    "    \n",
    "    # Reverse the input string first\n",
    "    s_reverse = ''\n",
    "    for i in range(len(s_nospc)-1,-1,-1):\n",
    "        s_reverse =  s_reverse + s_nospc[i]\n",
    "    \n",
    "    # Compare:\n",
    "    if s_reverse == s_nospc:\n",
    "        return True\n",
    "    else:\n",
    "        return False\n",
    "    "
   ]
  },
  {
   "cell_type": "code",
   "execution_count": 48,
   "metadata": {},
   "outputs": [
    {
     "name": "stdout",
     "output_type": "stream",
     "text": [
      "After formatting: s_nospc = helleh\n",
      "After loop, get s_reverse = helle\n"
     ]
    }
   ],
   "source": [
    "### DEBUG FOR PALINDROME F'N\n",
    "s = 'helleh'\n",
    "# Suppress spaces from input and put in lower caps\n",
    "s_nospc = s.replace(' ','')\n",
    "s_nospc = s_nospc.lower()\n",
    "print('After formatting: s_nospc = '+s_nospc)\n",
    "s_reverse = ''\n",
    "for i in range(len(s_nospc)-1,0,-1):\n",
    "    s_reverse =  s_reverse + s_nospc[i]\n",
    "print('After loop, get s_reverse = '+s_reverse)"
   ]
  },
  {
   "cell_type": "code",
   "execution_count": 50,
   "metadata": {},
   "outputs": [
    {
     "data": {
      "text/plain": [
       "True"
      ]
     },
     "execution_count": 50,
     "metadata": {},
     "output_type": "execute_result"
    }
   ],
   "source": [
    "palindrome('helleh')"
   ]
  },
  {
   "cell_type": "code",
   "execution_count": 51,
   "metadata": {},
   "outputs": [
    {
     "data": {
      "text/plain": [
       "True"
      ]
     },
     "execution_count": 51,
     "metadata": {},
     "output_type": "execute_result"
    }
   ],
   "source": [
    "palindrome('nurses run')"
   ]
  },
  {
   "cell_type": "markdown",
   "metadata": {},
   "source": [
    "____\n",
    "#### Hard:\n",
    "\n",
    "**Write a Python function to check whether a string is pangram or not. (Assume the string passed in does not have any punctuation)**\n",
    "\n",
    "    Note : Pangrams are words or sentences containing every letter of the alphabet at least once.\n",
    "    For example : \"The quick brown fox jumps over the lazy dog\"\n",
    "\n",
    "Hint: You may want to use .replace() method to get rid of spaces.\n",
    "\n",
    "Hint: Look at the [string module](https://stackoverflow.com/questions/16060899/alphabet-range-in-python)\n",
    "\n",
    "Hint: In case you want to use [set comparisons](https://medium.com/better-programming/a-visual-guide-to-set-comparisons-in-python-6ab7edb9ec41)"
   ]
  },
  {
   "cell_type": "code",
   "execution_count": 53,
   "metadata": {},
   "outputs": [
    {
     "data": {
      "text/plain": [
       "'abcdefghijklmnopqrstuvwxyz'"
      ]
     },
     "execution_count": 53,
     "metadata": {},
     "output_type": "execute_result"
    }
   ],
   "source": [
    "## Inclusion of string and \n",
    "import string\n",
    "string.ascii_lowercase"
   ]
  },
  {
   "cell_type": "code",
   "execution_count": 66,
   "metadata": {},
   "outputs": [
    {
     "name": "stdout",
     "output_type": "stream",
     "text": [
      "Initial string: Some test list\n",
      "After formatting: sometestlist\n",
      "After turning into a list and sorting: test_list =  ['e', 'e', 'i', 'l', 'm', 'o', 's', 's', 's', 't', 't', 't']\n",
      "After converting to a set, back to a list, and then sorting: test_list_2 =  ['e', 'i', 'l', 'm', 'o', 's', 't']\n",
      "Convert back to a string: test_str = eilmost\n"
     ]
    }
   ],
   "source": [
    "# General approach for ispangram (Version 0)\n",
    "\n",
    "test_str = 'Some test list'\n",
    "print('Initial string: '+test_str)\n",
    "# Format\n",
    "test_str = test_str.replace(' ','')\n",
    "test_str = test_str.lower()\n",
    "print('After formatting: '+test_str)\n",
    "# Turn into a list and sort\n",
    "test_list = list(test_str)\n",
    "test_list.sort()\n",
    "print('After turning into a list and sorting: test_list = ', test_list)\n",
    "# Turn into a set\n",
    "test_set = set(test_list)\n",
    "test_list_2 = list(test_set)\n",
    "test_list_2.sort()\n",
    "print('After converting to a set, back to a list, and then sorting: test_list_2 = ', test_list_2)\n",
    "\n",
    "test_str = ''\n",
    "for i in test_list_2:\n",
    "    test_str = test_str+i\n",
    "print('Convert back to a string: test_str = '+test_str)"
   ]
  },
  {
   "cell_type": "code",
   "execution_count": 69,
   "metadata": {},
   "outputs": [
    {
     "name": "stdout",
     "output_type": "stream",
     "text": [
      "At end of step (1): str_wk = thequickbrownfoxjumpsoverthelazydog\n",
      "At end of step (2): str_wk_list =  ['s', 'h', 'i', 'm', 'r', 'w', 'q', 'g', 'n', 'k', 'y', 'e', 'p', 'd', 'z', 'u', 'l', 'o', 'x', 'b', 'v', 't', 'j', 'a', 'f', 'c']\n",
      "At end of step (3): str_wk_list =  ['a', 'b', 'c', 'd', 'e', 'f', 'g', 'h', 'i', 'j', 'k', 'l', 'm', 'n', 'o', 'p', 'q', 'r', 's', 't', 'u', 'v', 'w', 'x', 'y', 'z']\n",
      "At end of step (4): str_wk_list = abcdefghijklmnopqrstuvwxyz\n",
      "The string 'The quick brown fox jumps over the lazy dog' IS a pangram\n"
     ]
    }
   ],
   "source": [
    "# General approach for ispangram (Version 1)\n",
    "alphabet = string.ascii_lowercase\n",
    "str_in = 'The quick brown fox jumps over the lazy dog'\n",
    "# 1) Format input string (remove spaces and put in lower caps)\n",
    "str_wk = str_in.replace(' ','')\n",
    "str_wk = str_wk.lower()\n",
    "print('At end of step (1): str_wk = '+str_wk)\n",
    "    \n",
    "# 2) Suppress repeated characters: Turn str_wk into a list, then into a set, and back into a list\n",
    "str_wk_list = list(set(list(str_wk)))\n",
    "print('At end of step (2): str_wk_list = ',str_wk_list)\n",
    "    \n",
    "# 3) Sort the list of letters alphabetically\n",
    "str_wk_list.sort()\n",
    "print('At end of step (3): str_wk_list = ',str_wk_list)\n",
    "    \n",
    "# 4) Recompose str_wk with non-repeating letters sorted alphabetically\n",
    "str_wk = ''\n",
    "for i in str_wk_list:\n",
    "    str_wk = str_wk +i\n",
    "    \n",
    "print('At end of step (4): str_wk_list = '+str_wk)\n",
    "    \n",
    "# 5) Now test if equal to 'alphabet'\n",
    "if str_wk==alphabet:\n",
    "    print('The string \\''+str_in+'\\' IS a pangram')\n",
    "else:\n",
    "    print('The string \\''+str_in+'\\' is NOT a pangram')\n"
   ]
  },
  {
   "cell_type": "code",
   "execution_count": 70,
   "metadata": {},
   "outputs": [],
   "source": [
    "def ispangram(str_in, alphabet=string.ascii_lowercase):\n",
    "    \n",
    "    # 1) Format input string (remove spaces and put in lower caps)\n",
    "    str_wk = str_in.replace(' ','')\n",
    "    str_wk = str_wk.lower()\n",
    "    \n",
    "    # 2) Suppress repeated characters: Turn str_wk into a list, then into a set, and back into a list\n",
    "    str_wk_list = list(set(list(str_wk)))\n",
    "    \n",
    "    # 3) Sort the list of letters alphabetically\n",
    "    str_wk_list.sort()\n",
    "    \n",
    "    # 4) Recompose str_wk with non-repeating letters sorted alphabetically\n",
    "    str_wk = ''\n",
    "    for i in str_wk_list:\n",
    "        str_wk = str_wk +i\n",
    "    \n",
    "    # 5) Now test if equal to 'alphabet'\n",
    "    if str_wk==alphabet:\n",
    "        return True\n",
    "    else:\n",
    "        return False\n",
    "    "
   ]
  },
  {
   "cell_type": "code",
   "execution_count": 71,
   "metadata": {},
   "outputs": [
    {
     "data": {
      "text/plain": [
       "True"
      ]
     },
     "execution_count": 71,
     "metadata": {},
     "output_type": "execute_result"
    }
   ],
   "source": [
    "ispangram(\"The quick brown fox jumps over the lazy dog\")"
   ]
  },
  {
   "cell_type": "code",
   "execution_count": 72,
   "metadata": {},
   "outputs": [
    {
     "data": {
      "text/plain": [
       "False"
      ]
     },
     "execution_count": 72,
     "metadata": {},
     "output_type": "execute_result"
    }
   ],
   "source": [
    "ispangram(\"This ain\\'t a pangram\")"
   ]
  },
  {
   "cell_type": "markdown",
   "metadata": {
    "collapsed": true
   },
   "source": [
    "#### Great Job!\n",
    "\n",
    "Thanks..."
   ]
  },
  {
   "cell_type": "code",
   "execution_count": null,
   "metadata": {},
   "outputs": [],
   "source": []
  }
 ],
 "metadata": {
  "kernelspec": {
   "display_name": "Python 3",
   "language": "python",
   "name": "python3"
  },
  "language_info": {
   "codemirror_mode": {
    "name": "ipython",
    "version": 3
   },
   "file_extension": ".py",
   "mimetype": "text/x-python",
   "name": "python",
   "nbconvert_exporter": "python",
   "pygments_lexer": "ipython3",
   "version": "3.8.8"
  }
 },
 "nbformat": 4,
 "nbformat_minor": 1
}
