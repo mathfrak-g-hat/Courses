{
 "cells": [
  {
   "cell_type": "markdown",
   "metadata": {},
   "source": [
    "___\n",
    "\n",
    "<a href='https://www.udemy.com/user/joseportilla/'><img src='../Pierian_Data_Logo.png'/></a>\n",
    "___\n",
    "<center><em>Content Copyright by Pierian Data</em></center>"
   ]
  },
  {
   "cell_type": "markdown",
   "metadata": {},
   "source": [
    "# Object Oriented Programming\n",
    "## A. J. Zerouali (2021/06/05)\n",
    "## Homework Assignment\n",
    "\n",
    "### Remark:\n",
    "\n",
    "I'm modifying the vocabulary used in this notebook. My mathematician's OCD doesn't accept incorrect terms.\n",
    "\n",
    "## Problem 1\n",
    "Fill in the **LineSeg** class methods to accept coordinates as a pair of tuples and return the slope and **length** of the **line segment**."
   ]
  },
  {
   "cell_type": "markdown",
   "metadata": {},
   "source": [
    "#### Example Output (Original cells)"
   ]
  },
  {
   "cell_type": "code",
   "execution_count": null,
   "metadata": {
    "scrolled": true
   },
   "outputs": [],
   "source": [
    "# EXAMPLE OUTPUT\n",
    "\n",
    "coordinate1 = (3,2)\n",
    "coordinate2 = (8,10)\n",
    "\n",
    "li = Line(coordinate1,coordinate2)"
   ]
  },
  {
   "cell_type": "code",
   "execution_count": 3,
   "metadata": {},
   "outputs": [
    {
     "data": {
      "text/plain": [
       "9.433981132056603"
      ]
     },
     "execution_count": 3,
     "metadata": {},
     "output_type": "execute_result"
    }
   ],
   "source": [
    "li.distance()"
   ]
  },
  {
   "cell_type": "code",
   "execution_count": 4,
   "metadata": {},
   "outputs": [
    {
     "data": {
      "text/plain": [
       "1.6"
      ]
     },
     "execution_count": 4,
     "metadata": {},
     "output_type": "execute_result"
    }
   ],
   "source": [
    "li.slope()"
   ]
  },
  {
   "cell_type": "markdown",
   "metadata": {},
   "source": [
    "________\n"
   ]
  },
  {
   "cell_type": "code",
   "execution_count": 8,
   "metadata": {},
   "outputs": [],
   "source": [
    "class LineSeg:\n",
    "    \n",
    "    def __init__(self,pt1_coord=(0,0),pt2_coord=(1,0)):\n",
    "        \n",
    "        #Basic attributes\n",
    "        self.pt1_coord = pt1_coord\n",
    "        self.pt2_coord = pt2_coord\n",
    "        \n",
    "    # Was a good idea to overload len() for the length of a segment, but it's reserved to int's\n",
    "    #def __len__(self): # Returns Euclidian distance between the two inputs\n",
    "    #    return ((self.pt2_coord[0]-self.pt1_coord[0])**2+(self.pt2_coord[1]-self.pt1_coord[1])**2)**(0.5)\n",
    "    \n",
    "    # Method that returns Euclidian distance between the two inputs\n",
    "    def lenth(self): \n",
    "        return ((self.pt2_coord[0]-self.pt1_coord[0])**2+(self.pt2_coord[1]-self.pt1_coord[1])**2)**(0.5)\n",
    "    \n",
    "    # Returns slope of line supporting the segment\n",
    "    def slope(self):\n",
    "        return ((self.pt2_coord[1]-self.pt1_coord[1])/(self.pt2_coord[0]-self.pt1_coord[0]))"
   ]
  },
  {
   "cell_type": "code",
   "execution_count": 9,
   "metadata": {
    "scrolled": true
   },
   "outputs": [
    {
     "data": {
      "text/plain": [
       "(8, 10)"
      ]
     },
     "execution_count": 9,
     "metadata": {},
     "output_type": "execute_result"
    }
   ],
   "source": [
    "# EXAMPLE OUTPUT\n",
    "\n",
    "coordinate1 = (3,2)\n",
    "coordinate2 = (8,10)\n",
    "\n",
    "seg = LineSeg(coordinate1,coordinate2)\n",
    "seg.pt1_coord\n",
    "seg.pt2_coord"
   ]
  },
  {
   "cell_type": "code",
   "execution_count": 10,
   "metadata": {},
   "outputs": [
    {
     "data": {
      "text/plain": [
       "9.433981132056603"
      ]
     },
     "execution_count": 10,
     "metadata": {},
     "output_type": "execute_result"
    }
   ],
   "source": [
    "seg.lenth()"
   ]
  },
  {
   "cell_type": "code",
   "execution_count": 12,
   "metadata": {},
   "outputs": [
    {
     "data": {
      "text/plain": [
       "1.6"
      ]
     },
     "execution_count": 12,
     "metadata": {},
     "output_type": "execute_result"
    }
   ],
   "source": [
    "seg.slope()"
   ]
  },
  {
   "cell_type": "code",
   "execution_count": 15,
   "metadata": {},
   "outputs": [
    {
     "name": "stdout",
     "output_type": "stream",
     "text": [
      "seg_2.pt1_coord = (0, 0)\n",
      "seg_2.pt2_coord = (1, 0)\n"
     ]
    }
   ],
   "source": [
    "seg_2 = LineSeg()\n",
    "print(f'seg_2.pt1_coord = {seg_2.pt1_coord}')\n",
    "print(f'seg_2.pt2_coord = {seg_2.pt2_coord}')\n"
   ]
  },
  {
   "cell_type": "markdown",
   "metadata": {},
   "source": [
    "________\n"
   ]
  },
  {
   "cell_type": "markdown",
   "metadata": {},
   "source": [
    "## Problem 2\n",
    "\n",
    "Fill in the class Cylinder\n",
    "\n",
    "#### Example Output (Original Notebook, do not modify)"
   ]
  },
  {
   "cell_type": "code",
   "execution_count": 5,
   "metadata": {
    "collapsed": true
   },
   "outputs": [],
   "source": [
    "class Cylinder:\n",
    "    \n",
    "    def __init__(self,height=1,radius=1):\n",
    "        pass\n",
    "        \n",
    "    def volume(self):\n",
    "        pass\n",
    "    \n",
    "    def surface_area(self):\n",
    "        pass"
   ]
  },
  {
   "cell_type": "code",
   "execution_count": 6,
   "metadata": {
    "collapsed": true
   },
   "outputs": [],
   "source": [
    "# EXAMPLE OUTPUT\n",
    "c = Cylinder(2,3)"
   ]
  },
  {
   "cell_type": "code",
   "execution_count": 7,
   "metadata": {},
   "outputs": [
    {
     "data": {
      "text/plain": [
       "56.52"
      ]
     },
     "execution_count": 7,
     "metadata": {},
     "output_type": "execute_result"
    }
   ],
   "source": [
    "c.volume()"
   ]
  },
  {
   "cell_type": "code",
   "execution_count": 8,
   "metadata": {
    "scrolled": true
   },
   "outputs": [
    {
     "data": {
      "text/plain": [
       "94.2"
      ]
     },
     "execution_count": 8,
     "metadata": {},
     "output_type": "execute_result"
    }
   ],
   "source": [
    "c.surface_area()"
   ]
  },
  {
   "cell_type": "markdown",
   "metadata": {},
   "source": [
    "________\n"
   ]
  },
  {
   "cell_type": "code",
   "execution_count": 10,
   "metadata": {},
   "outputs": [],
   "source": [
    "class Cylinder:\n",
    "    \n",
    "    # I want this to be a class object attribute\n",
    "    # Has to come before __init__ in the definition\n",
    "    # Any reference to it has to be with \"self\" however\n",
    "    pi = 3.14159265359\n",
    "    \n",
    "    def __init__(self,height=1,radius=1):\n",
    "        \n",
    "        # Basic attributes\n",
    "        self.height = height\n",
    "        self.radius = radius\n",
    "                \n",
    "    def volume(self):\n",
    "        return self.pi*(self.radius**2)*self.height\n",
    "    \n",
    "    def surface_area(self):\n",
    "        return ( 2*(self.pi*(self.radius**2))+ (2*self.pi*self.radius*self.height))"
   ]
  },
  {
   "cell_type": "code",
   "execution_count": 11,
   "metadata": {},
   "outputs": [],
   "source": [
    "# EXAMPLE OUTPUT\n",
    "c = Cylinder(2,3)"
   ]
  },
  {
   "cell_type": "code",
   "execution_count": 12,
   "metadata": {},
   "outputs": [
    {
     "data": {
      "text/plain": [
       "56.54866776462"
      ]
     },
     "execution_count": 12,
     "metadata": {},
     "output_type": "execute_result"
    }
   ],
   "source": [
    "c.volume()"
   ]
  },
  {
   "cell_type": "code",
   "execution_count": 13,
   "metadata": {
    "scrolled": true
   },
   "outputs": [
    {
     "data": {
      "text/plain": [
       "94.24777960770001"
      ]
     },
     "execution_count": 13,
     "metadata": {},
     "output_type": "execute_result"
    }
   ],
   "source": [
    "c.surface_area()"
   ]
  },
  {
   "cell_type": "code",
   "execution_count": 14,
   "metadata": {},
   "outputs": [],
   "source": [
    "c0 = Cylinder()"
   ]
  },
  {
   "cell_type": "code",
   "execution_count": 15,
   "metadata": {},
   "outputs": [
    {
     "name": "stdout",
     "output_type": "stream",
     "text": [
      "c0.volume()= 3.14159265359\n",
      "c0.surface_area()= 12.56637061436\n"
     ]
    }
   ],
   "source": [
    "print(f'c0.volume()= {c0.volume()}')\n",
    "print(f'c0.surface_area()= {c0.surface_area()}')"
   ]
  },
  {
   "cell_type": "code",
   "execution_count": null,
   "metadata": {},
   "outputs": [],
   "source": []
  }
 ],
 "metadata": {
  "kernelspec": {
   "display_name": "Python 3",
   "language": "python",
   "name": "python3"
  },
  "language_info": {
   "codemirror_mode": {
    "name": "ipython",
    "version": 3
   },
   "file_extension": ".py",
   "mimetype": "text/x-python",
   "name": "python",
   "nbconvert_exporter": "python",
   "pygments_lexer": "ipython3",
   "version": "3.8.8"
  }
 },
 "nbformat": 4,
 "nbformat_minor": 1
}
