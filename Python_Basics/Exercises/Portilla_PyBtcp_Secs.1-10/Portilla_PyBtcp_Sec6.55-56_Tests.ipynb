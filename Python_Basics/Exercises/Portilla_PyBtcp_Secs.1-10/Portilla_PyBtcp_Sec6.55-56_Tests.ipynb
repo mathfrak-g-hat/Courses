{
 "cells": [
  {
   "cell_type": "markdown",
   "id": "f50f3a66",
   "metadata": {},
   "source": [
    "# Tests for Lectures 55 and 56\n",
    "\n",
    "### A. J. Zerouali (2021/06/05)\n",
    "\n",
    "A couple of cells to practice the contents of:\n",
    "\n",
    "- Lecture 55: Map and filter functions, Lambda Expressions\n",
    "\n",
    "- Lecture 56: Nested statements and scope"
   ]
  },
  {
   "cell_type": "code",
   "execution_count": 20,
   "id": "39dcbadc",
   "metadata": {},
   "outputs": [],
   "source": [
    "def is_even(in_int):\n",
    "    if type(in_int)!=int :\n",
    "        print('Error: Input not an integer')\n",
    "        return False\n",
    "    else:\n",
    "        if (in_int%2==0):\n",
    "            return True\n",
    "        else:\n",
    "            return False"
   ]
  },
  {
   "cell_type": "code",
   "execution_count": 21,
   "id": "3564e049",
   "metadata": {},
   "outputs": [
    {
     "data": {
      "text/plain": [
       "True"
      ]
     },
     "execution_count": 21,
     "metadata": {},
     "output_type": "execute_result"
    }
   ],
   "source": [
    "is_even(-1984)"
   ]
  },
  {
   "cell_type": "code",
   "execution_count": 39,
   "id": "c311aa72",
   "metadata": {},
   "outputs": [
    {
     "name": "stdout",
     "output_type": "stream",
     "text": [
      "<map object at 0x0000024EB22CCDF0>\n"
     ]
    }
   ],
   "source": [
    "iter_tuple = (-1,-2,-3,-4,5,6,7)\n",
    "map_out=map(is_even,iter_tuple) # is_even returns True if an integer is even and false otherwise\n",
    "print(map_out)"
   ]
  },
  {
   "cell_type": "code",
   "execution_count": 40,
   "id": "510b1622",
   "metadata": {},
   "outputs": [
    {
     "name": "stdout",
     "output_type": "stream",
     "text": [
      "[False, True, False, True, False, True, False]\n"
     ]
    }
   ],
   "source": [
    "print(list(map_out))"
   ]
  },
  {
   "cell_type": "code",
   "execution_count": 35,
   "id": "0421c48e",
   "metadata": {},
   "outputs": [
    {
     "name": "stdout",
     "output_type": "stream",
     "text": [
      "[-2, -4, 6]\n"
     ]
    }
   ],
   "source": [
    "filter_out = filter(is_even, iter_tuple)\n",
    "print(list(filter_out))"
   ]
  },
  {
   "cell_type": "code",
   "execution_count": 28,
   "id": "6e143309",
   "metadata": {},
   "outputs": [
    {
     "data": {
      "text/plain": [
       "<filter at 0x24eb22cc1c0>"
      ]
     },
     "execution_count": 28,
     "metadata": {},
     "output_type": "execute_result"
    }
   ],
   "source": [
    "filter_out"
   ]
  },
  {
   "cell_type": "code",
   "execution_count": 42,
   "id": "b7b4d05a",
   "metadata": {},
   "outputs": [
    {
     "name": "stdout",
     "output_type": "stream",
     "text": [
      "[False, True, False, True, False, True, False]\n",
      "False\n",
      "True\n",
      "False\n",
      "True\n",
      "False\n",
      "True\n",
      "False\n"
     ]
    }
   ],
   "source": [
    "iter_tuple = (-1,-2,-3,-4,5,6,7)\n",
    "map_out=map(is_even,iter_tuple)\n",
    "print(list(map_out))\n",
    "\n",
    "for i in map(is_even, iter_tuple):\n",
    "    print(i)"
   ]
  },
  {
   "cell_type": "code",
   "execution_count": 43,
   "id": "13088b84",
   "metadata": {},
   "outputs": [
    {
     "name": "stdout",
     "output_type": "stream",
     "text": [
      "-2\n",
      "-4\n",
      "6\n",
      "Hola??\n"
     ]
    }
   ],
   "source": [
    "for i in filter(is_even, iter_tuple):\n",
    "    print(i)\n",
    "    \n",
    "print('Hola??')"
   ]
  },
  {
   "cell_type": "code",
   "execution_count": 27,
   "id": "042c93a2",
   "metadata": {},
   "outputs": [
    {
     "name": "stdout",
     "output_type": "stream",
     "text": [
      "Hello\n"
     ]
    }
   ],
   "source": [
    "print('Hello')"
   ]
  },
  {
   "cell_type": "code",
   "execution_count": 44,
   "id": "01f5ac55",
   "metadata": {},
   "outputs": [],
   "source": [
    "num_sq = lambda in_int: in_int**2"
   ]
  },
  {
   "cell_type": "code",
   "execution_count": 45,
   "id": "38836ae2",
   "metadata": {},
   "outputs": [
    {
     "data": {
      "text/plain": [
       "16"
      ]
     },
     "execution_count": 45,
     "metadata": {},
     "output_type": "execute_result"
    }
   ],
   "source": [
    "num_sq(4)"
   ]
  },
  {
   "cell_type": "code",
   "execution_count": 46,
   "id": "3f8a4563",
   "metadata": {},
   "outputs": [
    {
     "data": {
      "text/plain": [
       "25"
      ]
     },
     "execution_count": 46,
     "metadata": {},
     "output_type": "execute_result"
    }
   ],
   "source": [
    "num_sq(5)"
   ]
  },
  {
   "cell_type": "code",
   "execution_count": 49,
   "id": "bb0ab6b3",
   "metadata": {},
   "outputs": [
    {
     "data": {
      "text/plain": [
       "[-2, -4, 6]"
      ]
     },
     "execution_count": 49,
     "metadata": {},
     "output_type": "execute_result"
    }
   ],
   "source": [
    "list(filter(lambda in_int: (in_int%2==0), iter_tuple))"
   ]
  },
  {
   "cell_type": "code",
   "execution_count": null,
   "id": "f8c39530",
   "metadata": {},
   "outputs": [],
   "source": []
  }
 ],
 "metadata": {
  "kernelspec": {
   "display_name": "Python 3",
   "language": "python",
   "name": "python3"
  },
  "language_info": {
   "codemirror_mode": {
    "name": "ipython",
    "version": 3
   },
   "file_extension": ".py",
   "mimetype": "text/x-python",
   "name": "python",
   "nbconvert_exporter": "python",
   "pygments_lexer": "ipython3",
   "version": "3.8.8"
  }
 },
 "nbformat": 4,
 "nbformat_minor": 5
}
