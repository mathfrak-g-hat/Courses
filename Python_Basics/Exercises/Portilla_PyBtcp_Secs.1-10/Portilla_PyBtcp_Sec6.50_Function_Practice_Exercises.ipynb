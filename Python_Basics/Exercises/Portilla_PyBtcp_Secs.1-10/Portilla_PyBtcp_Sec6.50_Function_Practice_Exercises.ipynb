{
 "cells": [
  {
   "cell_type": "markdown",
   "metadata": {
    "id": "-hXQQxJYHRuu"
   },
   "source": [
    "___\n",
    "\n",
    "<a href='https://www.udemy.com/user/joseportilla/'><img src='../Pierian_Data_Logo.png'/></a>\n",
    "___\n",
    "<center><em>Content Copyright by Pierian Data</em></center>"
   ]
  },
  {
   "cell_type": "markdown",
   "metadata": {
    "id": "idmsuYO6HRux"
   },
   "source": [
    "# Function Practice Exercises\n",
    "\n",
    "Problems are arranged in increasing difficulty:\n",
    "* Warmup - these can be solved using basic comparisons and methods\n",
    "* Level 1 - these may involve if/then conditional statements and simple methods\n",
    "* Level 2 - these may require iterating over sequences, usually with some kind of loop\n",
    "* Challenging - these will take some creativity to solve"
   ]
  },
  {
   "cell_type": "markdown",
   "metadata": {
    "id": "1V1R7w3xHRuy"
   },
   "source": [
    "## WARMUP SECTION:"
   ]
  },
  {
   "cell_type": "markdown",
   "metadata": {
    "id": "pWipB9KTHRuy"
   },
   "source": [
    "#### LESSER OF TWO EVENS: Write a function that returns the lesser of two given numbers *if* both numbers are even, but returns the greater if one or both numbers are odd\n",
    "    lesser_of_two_evens(2,4) --> 2\n",
    "    lesser_of_two_evens(2,5) --> 5"
   ]
  },
  {
   "cell_type": "code",
   "execution_count": null,
   "metadata": {
    "id": "ULz7FWATHRuy"
   },
   "outputs": [],
   "source": [
    "def lesser_of_two_evens(a,b):\n",
    "    '''\n",
    "       Function that returns the lesser of two given numbers if both numbers are even,\\n\n",
    "       but returns the greater if one or both numbers are odd\n",
    "    '''\n",
    "    # Ordering input\n",
    "    g,l = 0,0\n",
    "    if a>=b:\n",
    "        g,l = a,b\n",
    "    else:\n",
    "        g,l = b,a\n",
    "    # Return output\n",
    "    if (a%2,b%2) == (0,0):\n",
    "        print('Both numbers even, lowest is {}'.format(l))\n",
    "        return l\n",
    "    else:\n",
    "        print('One number is odd, greatest is {}'.format(g))\n",
    "        return g\n",
    "    #pass"
   ]
  },
  {
   "cell_type": "code",
   "execution_count": null,
   "metadata": {
    "id": "M5HY4JpgHRuz",
    "outputId": "7eb442e8-1590-4f83-c9c2-1d60c7621776"
   },
   "outputs": [
    {
     "name": "stdout",
     "output_type": "stream",
     "text": [
      "Help on function lesser_of_two_evens in module __main__:\n",
      "\n",
      "lesser_of_two_evens(a, b)\n",
      "    Function that returns the lesser of two given numbers if both numbers are even,\n",
      "    \n",
      "    but returns the greater if one or both numbers are odd\n",
      "\n"
     ]
    }
   ],
   "source": [
    "help(lesser_of_two_evens)"
   ]
  },
  {
   "cell_type": "code",
   "execution_count": null,
   "metadata": {
    "id": "9KkmgBd5HRu0",
    "outputId": "307206e5-3ff7-4561-8365-cd503ef70881"
   },
   "outputs": [
    {
     "name": "stdout",
     "output_type": "stream",
     "text": [
      "Both numbers even, lowest is 2\n"
     ]
    },
    {
     "data": {
      "text/plain": [
       "2"
      ]
     },
     "execution_count": 2,
     "metadata": {
      "tags": []
     },
     "output_type": "execute_result"
    }
   ],
   "source": [
    "# Check\n",
    "lesser_of_two_evens(2,4)"
   ]
  },
  {
   "cell_type": "code",
   "execution_count": null,
   "metadata": {
    "id": "D7sJbTIjHRu1",
    "outputId": "a8c98790-7c6a-4f18-89f6-0d74263c2005"
   },
   "outputs": [
    {
     "name": "stdout",
     "output_type": "stream",
     "text": [
      "One number is odd, greatest is 5\n"
     ]
    },
    {
     "data": {
      "text/plain": [
       "5"
      ]
     },
     "execution_count": 4,
     "metadata": {
      "tags": []
     },
     "output_type": "execute_result"
    }
   ],
   "source": [
    "# Check\n",
    "lesser_of_two_evens(2,5)"
   ]
  },
  {
   "cell_type": "code",
   "execution_count": null,
   "metadata": {
    "id": "ezijZT4GHRu1",
    "outputId": "78fc25b6-80e3-42b6-b5bc-fbccb795e7b1"
   },
   "outputs": [
    {
     "name": "stdout",
     "output_type": "stream",
     "text": [
      "One number is odd, greatest is -3\n"
     ]
    },
    {
     "data": {
      "text/plain": [
       "-3"
      ]
     },
     "execution_count": 5,
     "metadata": {
      "tags": []
     },
     "output_type": "execute_result"
    }
   ],
   "source": [
    "lesser_of_two_evens(-3,-5)"
   ]
  },
  {
   "cell_type": "markdown",
   "metadata": {
    "id": "EG5b0tmjHRu1"
   },
   "source": [
    "#### ANIMAL CRACKERS: Write a function takes a two-word string and returns True if both words begin with same letter\n",
    "    animal_crackers('Levelheaded Llama') --> True\n",
    "    animal_crackers('Crazy Kangaroo') --> False"
   ]
  },
  {
   "cell_type": "code",
   "execution_count": null,
   "metadata": {
    "id": "5nhfDtqGHRu2"
   },
   "outputs": [],
   "source": [
    "def animal_crackers(text):\n",
    "    list_text = text.split()\n",
    "    if len(list_text) != 2:\n",
    "        print('Error: Input string doesn\\'t contain 2 words.')\n",
    "        return False\n",
    "    else:\n",
    "        if list_text[0][0] == list_text[1][0]:\n",
    "            return True\n",
    "        else:\n",
    "            return False\n",
    "        \n",
    "#strVar = 'Levelheaded Llama'\n",
    "#print(len(list(strVar.spl)))"
   ]
  },
  {
   "cell_type": "code",
   "execution_count": null,
   "metadata": {
    "id": "iC4b78XTHRu2",
    "outputId": "7497e26c-195b-4464-d484-5aaa23e5207d"
   },
   "outputs": [
    {
     "data": {
      "text/plain": [
       "True"
      ]
     },
     "execution_count": 12,
     "metadata": {
      "tags": []
     },
     "output_type": "execute_result"
    }
   ],
   "source": [
    "# Check\n",
    "animal_crackers('Levelheaded Llama')"
   ]
  },
  {
   "cell_type": "code",
   "execution_count": null,
   "metadata": {
    "id": "DCdkYSMMHRu2",
    "outputId": "9c56970b-643b-4675-b1a5-de106139fbb5"
   },
   "outputs": [
    {
     "data": {
      "text/plain": [
       "False"
      ]
     },
     "execution_count": 14,
     "metadata": {
      "tags": []
     },
     "output_type": "execute_result"
    }
   ],
   "source": [
    "# Check\n",
    "animal_crackers('Crazy Kangaroo')"
   ]
  },
  {
   "cell_type": "code",
   "execution_count": null,
   "metadata": {
    "id": "fpYAh6cRHRu3",
    "outputId": "1be731c7-e199-4d59-d83b-09b25382a375"
   },
   "outputs": [
    {
     "name": "stdout",
     "output_type": "stream",
     "text": [
      "Error: Input string doesn't contain 2 words.\n"
     ]
    },
    {
     "data": {
      "text/plain": [
       "False"
      ]
     },
     "execution_count": 15,
     "metadata": {
      "tags": []
     },
     "output_type": "execute_result"
    }
   ],
   "source": [
    "animal_crackers('Levelheaded Llama cunt')"
   ]
  },
  {
   "cell_type": "markdown",
   "metadata": {
    "id": "QbCN6KSFHRu3"
   },
   "source": [
    "#### MAKES TWENTY: Given two integers, return True if the sum of the integers is 20 *or* if one of the integers is 20. If not, return False\n",
    "\n",
    "    makes_twenty(20,10) --> True\n",
    "    makes_twenty(12,8) --> True\n",
    "    makes_twenty(2,3) --> False"
   ]
  },
  {
   "cell_type": "code",
   "execution_count": null,
   "metadata": {
    "id": "uUIIZubJHRu3"
   },
   "outputs": [],
   "source": [
    "def makes_twenty(n1,n2):\n",
    "    if (n1 == 20) or (n2 == 20) or ((n1+n2) == 20):\n",
    "        return True\n",
    "    else:\n",
    "        return False"
   ]
  },
  {
   "cell_type": "code",
   "execution_count": null,
   "metadata": {
    "id": "FO_WsxbpHRu3",
    "outputId": "0bbfa236-ff0d-4f72-f2f4-e2759308efa1"
   },
   "outputs": [
    {
     "data": {
      "text/plain": [
       "True"
      ]
     },
     "execution_count": 18,
     "metadata": {
      "tags": []
     },
     "output_type": "execute_result"
    }
   ],
   "source": [
    "# Check\n",
    "makes_twenty(20,10)"
   ]
  },
  {
   "cell_type": "code",
   "execution_count": null,
   "metadata": {
    "id": "y8dGyQKMHRu4",
    "outputId": "9761e30e-27d9-4ab0-b03e-f121f30074cf"
   },
   "outputs": [
    {
     "data": {
      "text/plain": [
       "True"
      ]
     },
     "execution_count": 19,
     "metadata": {
      "tags": []
     },
     "output_type": "execute_result"
    }
   ],
   "source": [
    "# Check\n",
    "makes_twenty(2,18)"
   ]
  },
  {
   "cell_type": "code",
   "execution_count": null,
   "metadata": {
    "id": "cADA1csKHRu4",
    "outputId": "c8c9394d-6f03-48b6-a451-d3029bd87491"
   },
   "outputs": [
    {
     "data": {
      "text/plain": [
       "False"
      ]
     },
     "execution_count": 20,
     "metadata": {
      "tags": []
     },
     "output_type": "execute_result"
    }
   ],
   "source": [
    "# Check\n",
    "makes_twenty(2,3)"
   ]
  },
  {
   "cell_type": "markdown",
   "metadata": {
    "id": "eFZTdcgrHRu4"
   },
   "source": [
    "# LEVEL 1 PROBLEMS"
   ]
  },
  {
   "cell_type": "markdown",
   "metadata": {
    "id": "Os6wHKVpHRu4"
   },
   "source": [
    "#### OLD MACDONALD: Write a function that capitalizes the first and fourth letters of a name\n",
    "     \n",
    "    old_macdonald('macdonald') --> MacDonald\n",
    "    \n",
    "Note: `'macdonald'.capitalize()` returns `'Macdonald'`"
   ]
  },
  {
   "cell_type": "code",
   "execution_count": null,
   "metadata": {
    "id": "8AuIYBlrHRu4"
   },
   "outputs": [],
   "source": [
    "def old_macdonald(name):\n",
    "    # output_str = '' # Need this?\n",
    "    if len(name)<4:\n",
    "        print('Input name contains less than 4 letters')\n",
    "        return name[0].upper()+name[1:]\n",
    "    else:\n",
    "        return name[0].upper()+name[1:3]+name[3].upper()+name[4:]\n",
    "    "
   ]
  },
  {
   "cell_type": "code",
   "execution_count": null,
   "metadata": {
    "id": "OQmjga80HRu5",
    "outputId": "74e484f0-5239-4c28-c92a-111db7794030"
   },
   "outputs": [
    {
     "data": {
      "text/plain": [
       "'MacDonald'"
      ]
     },
     "execution_count": 24,
     "metadata": {
      "tags": []
     },
     "output_type": "execute_result"
    }
   ],
   "source": [
    "# Check\n",
    "old_macdonald('macdonald')"
   ]
  },
  {
   "cell_type": "markdown",
   "metadata": {
    "id": "JL2le4PYHRu5"
   },
   "source": [
    "#### MASTER YODA: Given a sentence, return a sentence with the words reversed\n",
    "\n",
    "    master_yoda('I am home') --> 'home am I'\n",
    "    master_yoda('We are ready') --> 'ready are We'\n",
    "    \n",
    "Note: The .join() method may be useful here. The .join() method allows you to join together strings in a list with some connector string. For example, some uses of the .join() method:\n",
    "\n",
    "    >>> \"--\".join(['a','b','c'])\n",
    "    >>> 'a--b--c'\n",
    "\n",
    "This means if you had a list of words you wanted to turn back into a sentence, you could just join them with a single space string:\n",
    "\n",
    "    >>> \" \".join(['Hello','world'])\n",
    "    >>> \"Hello world\""
   ]
  },
  {
   "cell_type": "code",
   "execution_count": null,
   "metadata": {
    "id": "aygkmGItHRu5"
   },
   "outputs": [],
   "source": [
    "def master_yoda(text):\n",
    "    list_text = text.split()\n",
    "    n_words_text = len(list_text)\n",
    "        \n",
    "    out_str = list_text[n_words_text -1]\n",
    "    i = n_words_text -2 \n",
    "    while i>=0:\n",
    "        out_str = out_str + ' ' + list_text[i]\n",
    "        i= i-1\n",
    "    return out_str\n",
    "    "
   ]
  },
  {
   "cell_type": "code",
   "execution_count": null,
   "metadata": {
    "id": "jSLmCwRIHRu5",
    "outputId": "5908407c-ada1-4ab1-8fa8-1ca55a7ae278"
   },
   "outputs": [
    {
     "data": {
      "text/plain": [
       "'home am I'"
      ]
     },
     "execution_count": 29,
     "metadata": {
      "tags": []
     },
     "output_type": "execute_result"
    }
   ],
   "source": [
    "# Check\n",
    "master_yoda('I am home')"
   ]
  },
  {
   "cell_type": "code",
   "execution_count": null,
   "metadata": {
    "id": "yHKmBmTKHRu6",
    "outputId": "a48a6fdf-6b53-4c2e-b845-06938f5b5806"
   },
   "outputs": [
    {
     "data": {
      "text/plain": [
       "'ready are We'"
      ]
     },
     "execution_count": 31,
     "metadata": {
      "tags": []
     },
     "output_type": "execute_result"
    }
   ],
   "source": [
    "# Check\n",
    "master_yoda('We are ready')"
   ]
  },
  {
   "cell_type": "code",
   "execution_count": null,
   "metadata": {
    "id": "GfpggPIbHRu6",
    "outputId": "3727ee0a-a1d4-47c9-b2af-cadcc39bac1b"
   },
   "outputs": [
    {
     "data": {
      "text/plain": [
       "'humble extremely am too I'"
      ]
     },
     "execution_count": 32,
     "metadata": {
      "tags": []
     },
     "output_type": "execute_result"
    }
   ],
   "source": [
    "# Check\n",
    "master_yoda('I too am extremely humble')"
   ]
  },
  {
   "cell_type": "markdown",
   "metadata": {
    "id": "MoB0ZI87HRu6"
   },
   "source": [
    "#### ALMOST THERE: Given an integer n, return True if n is within 10 of either 100 or 200\n",
    "\n",
    "    almost_there(90) --> True\n",
    "    almost_there(104) --> True\n",
    "    almost_there(150) --> False\n",
    "    almost_there(209) --> True\n",
    "    \n",
    "NOTE: `abs(num)` returns the absolute value of a number"
   ]
  },
  {
   "cell_type": "code",
   "execution_count": null,
   "metadata": {
    "id": "GRDCr0PNHRu6"
   },
   "outputs": [],
   "source": [
    "def almost_there(n):\n",
    "    if (abs(n-100)<=10) or (abs(n-200)<=10):\n",
    "        return True\n",
    "    else:\n",
    "        return False"
   ]
  },
  {
   "cell_type": "code",
   "execution_count": null,
   "metadata": {
    "id": "ZLc03NOlHRu7",
    "outputId": "6107dd47-6b53-4824-ba4d-d9102a513aa7"
   },
   "outputs": [
    {
     "data": {
      "text/plain": [
       "True"
      ]
     },
     "execution_count": 35,
     "metadata": {
      "tags": []
     },
     "output_type": "execute_result"
    }
   ],
   "source": [
    "# Check\n",
    "almost_there(104)"
   ]
  },
  {
   "cell_type": "code",
   "execution_count": null,
   "metadata": {
    "id": "SEV1snQsHRu7",
    "outputId": "4b4cd507-d7d3-4d71-a01d-2bba7140865b"
   },
   "outputs": [
    {
     "data": {
      "text/plain": [
       "False"
      ]
     },
     "execution_count": 36,
     "metadata": {
      "tags": []
     },
     "output_type": "execute_result"
    }
   ],
   "source": [
    "# Check\n",
    "almost_there(150)"
   ]
  },
  {
   "cell_type": "code",
   "execution_count": null,
   "metadata": {
    "id": "yD4X8eMzHRu7",
    "outputId": "8537c986-edec-41aa-d0f7-1981149bd1b4"
   },
   "outputs": [
    {
     "data": {
      "text/plain": [
       "True"
      ]
     },
     "execution_count": 37,
     "metadata": {
      "tags": []
     },
     "output_type": "execute_result"
    }
   ],
   "source": [
    "# Check\n",
    "almost_there(209)"
   ]
  },
  {
   "cell_type": "markdown",
   "metadata": {
    "id": "hoh9CSWMHRu8"
   },
   "source": [
    "# LEVEL 2 PROBLEMS"
   ]
  },
  {
   "cell_type": "markdown",
   "metadata": {
    "id": "9pWHGcCgHRu8"
   },
   "source": [
    "#### FIND 33: \n",
    "\n",
    "Given a list of ints, return True if the array contains a 3 next to a 3 somewhere.\n",
    "\n",
    "    has_33([1, 3, 3]) → True\n",
    "    has_33([1, 3, 1, 3]) → False\n",
    "    has_33([3, 1, 3]) → False"
   ]
  },
  {
   "cell_type": "code",
   "execution_count": null,
   "metadata": {
    "id": "KMZgENUJHRu8"
   },
   "outputs": [],
   "source": [
    "def has_33(nums):\n",
    "    found_33 = False\n",
    "    len_nums = len(nums)\n",
    "    i=0\n",
    "    while (not found_33) and i<(len_nums-1):\n",
    "        if nums[i]==3:\n",
    "            if nums[i+1]==3:\n",
    "                found_33 = True\n",
    "        i = i+1\n",
    "    \n",
    "    \n",
    "    return found_33"
   ]
  },
  {
   "cell_type": "code",
   "execution_count": null,
   "metadata": {
    "id": "-nBLDhlfHRu8",
    "outputId": "5af0d7b8-7ed9-43ee-ef2a-4682ea4367ba"
   },
   "outputs": [
    {
     "data": {
      "text/plain": [
       "True"
      ]
     },
     "execution_count": 53,
     "metadata": {
      "tags": []
     },
     "output_type": "execute_result"
    }
   ],
   "source": [
    "# Check\n",
    "has_33([1, 3, 3])"
   ]
  },
  {
   "cell_type": "code",
   "execution_count": null,
   "metadata": {
    "id": "ToCUKd87HRu9",
    "outputId": "5b7592e1-62e3-41eb-d1dd-9a8433b7bd3e"
   },
   "outputs": [
    {
     "data": {
      "text/plain": [
       "True"
      ]
     },
     "execution_count": 54,
     "metadata": {
      "tags": []
     },
     "output_type": "execute_result"
    }
   ],
   "source": [
    "has_33([1, 1,1,1,1,3,1, 3,3,1,4,5,5])"
   ]
  },
  {
   "cell_type": "code",
   "execution_count": null,
   "metadata": {
    "id": "FzAWHChuHRu9",
    "outputId": "518c06af-9be3-4300-ce90-b96123b3f3bd"
   },
   "outputs": [
    {
     "data": {
      "text/plain": [
       "False"
      ]
     },
     "execution_count": 55,
     "metadata": {
      "tags": []
     },
     "output_type": "execute_result"
    }
   ],
   "source": [
    "# Check\n",
    "has_33([1, 3, 1, 3])"
   ]
  },
  {
   "cell_type": "code",
   "execution_count": null,
   "metadata": {
    "id": "pTd14HwwHRu9",
    "outputId": "e150bd92-2448-47a4-e108-0d26ac604b4a"
   },
   "outputs": [
    {
     "data": {
      "text/plain": [
       "False"
      ]
     },
     "execution_count": 56,
     "metadata": {
      "tags": []
     },
     "output_type": "execute_result"
    }
   ],
   "source": [
    "# Check\n",
    "has_33([3, 1, 3])"
   ]
  },
  {
   "cell_type": "markdown",
   "metadata": {
    "id": "uOnWZR0fHRu9"
   },
   "source": [
    "#### PAPER DOLL: Given a string, return a string where for every character in the original there are three characters\n",
    "    paper_doll('Hello') --> 'HHHeeellllllooo'\n",
    "    paper_doll('Mississippi') --> 'MMMiiissssssiiippppppiii'"
   ]
  },
  {
   "cell_type": "code",
   "execution_count": null,
   "metadata": {
    "id": "amlKztdyHRu9"
   },
   "outputs": [],
   "source": [
    "def paper_doll(text):\n",
    "    out_str = ''\n",
    "    for i in text:\n",
    "        for j in range(3):\n",
    "            out_str = out_str + i\n",
    "    return out_str"
   ]
  },
  {
   "cell_type": "code",
   "execution_count": null,
   "metadata": {
    "id": "7BEXOegqHRu-",
    "outputId": "d050e25b-da70-41e2-cf37-eccc166a260d"
   },
   "outputs": [
    {
     "data": {
      "text/plain": [
       "True"
      ]
     },
     "execution_count": 63,
     "metadata": {
      "tags": []
     },
     "output_type": "execute_result"
    }
   ],
   "source": [
    "# Check\n",
    "paper_doll('Hello') == 'HHHeeellllllooo'"
   ]
  },
  {
   "cell_type": "code",
   "execution_count": null,
   "metadata": {
    "id": "KD9_kwYcHRu-",
    "outputId": "c4906921-cba9-47e9-bed6-8fef4ab3a3d3"
   },
   "outputs": [
    {
     "data": {
      "text/plain": [
       "'MMMiiissssssiiissssssiiippppppiii'"
      ]
     },
     "execution_count": 67,
     "metadata": {
      "tags": []
     },
     "output_type": "execute_result"
    }
   ],
   "source": [
    "# Check\n",
    "paper_doll('Mississippi')"
   ]
  },
  {
   "cell_type": "markdown",
   "metadata": {
    "id": "M-FklQXkHRu-"
   },
   "source": [
    "#### BLACKJACK: Given three integers between 1 and 11, if their sum is less than or equal to 21, return their sum. If their sum exceeds 21 *and* there's an eleven, reduce the total sum by 10. Finally, if the sum (even after adjustment) exceeds 21, return 'BUST'\n",
    "    blackjack(5,6,7) --> 18\n",
    "    blackjack(9,9,9) --> 'BUST'\n",
    "    blackjack(9,9,11) --> 19"
   ]
  },
  {
   "cell_type": "code",
   "execution_count": null,
   "metadata": {
    "id": "qNVuakVVHRu-"
   },
   "outputs": [],
   "source": [
    "def blackjack(a,b,c):\n",
    "    if not ((1<=a<=11) and (1<=b<=11) and (1<=c<=11)):\n",
    "        return 'Error'\n",
    "    else:\n",
    "        have_11 = ( (a==11) or (b==11) or (c==11) )\n",
    "        sigma = a+b+c\n",
    "        if sigma <= 21:\n",
    "            return sigma\n",
    "        elif have_11 and ((sigma -10)<=21):\n",
    "            return sigma-10\n",
    "        else:\n",
    "            return 'BUST'\n",
    "                "
   ]
  },
  {
   "cell_type": "code",
   "execution_count": null,
   "metadata": {
    "id": "_tUcPy5KHRu-",
    "outputId": "bac39061-4f04-4353-c891-60192d252a59"
   },
   "outputs": [
    {
     "data": {
      "text/plain": [
       "18"
      ]
     },
     "execution_count": 69,
     "metadata": {
      "tags": []
     },
     "output_type": "execute_result"
    }
   ],
   "source": [
    "# Check\n",
    "blackjack(5,6,7)"
   ]
  },
  {
   "cell_type": "code",
   "execution_count": null,
   "metadata": {
    "id": "zWZfmJfZHRu_",
    "outputId": "d51f705c-7e42-4aaa-a1af-f1527192b812"
   },
   "outputs": [
    {
     "data": {
      "text/plain": [
       "'BUST'"
      ]
     },
     "execution_count": 70,
     "metadata": {
      "tags": []
     },
     "output_type": "execute_result"
    }
   ],
   "source": [
    "# Check\n",
    "blackjack(9,9,9)"
   ]
  },
  {
   "cell_type": "code",
   "execution_count": null,
   "metadata": {
    "id": "zD56krAWHRu_",
    "outputId": "1ff5ad81-60d7-40e4-f3ab-28541f9ac760",
    "scrolled": true
   },
   "outputs": [
    {
     "data": {
      "text/plain": [
       "19"
      ]
     },
     "execution_count": 74,
     "metadata": {
      "tags": []
     },
     "output_type": "execute_result"
    }
   ],
   "source": [
    "# Check\n",
    "blackjack(9,9,11)"
   ]
  },
  {
   "cell_type": "code",
   "execution_count": null,
   "metadata": {
    "id": "XUJwVeUXHRu_",
    "outputId": "41253d85-6059-4d94-b341-a7357cff7d1f"
   },
   "outputs": [
    {
     "data": {
      "text/plain": [
       "'Error'"
      ]
     },
     "execution_count": 75,
     "metadata": {
      "tags": []
     },
     "output_type": "execute_result"
    }
   ],
   "source": [
    "# Check\n",
    "blackjack(9,19,11)"
   ]
  },
  {
   "cell_type": "markdown",
   "metadata": {
    "id": "TPXKxanyHRu_"
   },
   "source": [
    "#### SUMMER OF '69: Return the sum of the numbers in the array, except ignore sections of numbers starting with a 6 and extending to the next 9 (every 6 will be followed by at least one 9). Return 0 for no numbers.\n",
    " \n",
    "    summer_69([1, 3, 5]) --> 9\n",
    "    summer_69([4, 5, 6, 7, 8, 9]) --> 9\n",
    "    summer_69([2, 1, 6, 9, 11]) --> 14"
   ]
  },
  {
   "cell_type": "markdown",
   "metadata": {
    "id": "fxRcx7lvHRu_"
   },
   "source": [
    "#### Some tests\n",
    "\n",
    "Draft of draft. Making sure that I use the list methods properly"
   ]
  },
  {
   "cell_type": "code",
   "execution_count": null,
   "metadata": {
    "id": "4GsMwMg5HRvA",
    "outputId": "1f75896f-dcfc-4ee7-b806-1284c08c9bcd"
   },
   "outputs": [
    {
     "name": "stdout",
     "output_type": "stream",
     "text": [
      "2\n"
     ]
    }
   ],
   "source": [
    "test_list = [1,2,3,4,5,2,3,3,4,4,4,5,5,5,5]\n",
    "#test_list.count(3)\n",
    "test_list.index(3)\n",
    "print(test_list.index(3))"
   ]
  },
  {
   "cell_type": "code",
   "execution_count": null,
   "metadata": {
    "id": "aDPixhbIHRvA",
    "outputId": "accca1b5-1011-40d2-e286-f6d27def9acc"
   },
   "outputs": [
    {
     "name": "stdout",
     "output_type": "stream",
     "text": [
      "[4, 5, 2, 3, 3, 4, 4, 4, 5, 5, 5, 5]\n"
     ]
    }
   ],
   "source": [
    "#test_list_1 = test_list[test_list.index(3)+1:len(test_list)]\n",
    "test_list_1 = test_list[test_list.index(3)+1:]\n",
    "print(test_list_1)"
   ]
  },
  {
   "cell_type": "code",
   "execution_count": null,
   "metadata": {
    "id": "86MkXK87HRvA",
    "outputId": "1990f6e5-fd7b-43a8-9719-1d7b57f84f00"
   },
   "outputs": [
    {
     "name": "stdout",
     "output_type": "stream",
     "text": [
      "[3, 8, 12]\n"
     ]
    },
    {
     "ename": "NameError",
     "evalue": "name 'temp_list' is not defined",
     "output_type": "error",
     "traceback": [
      "\u001b[1;31m---------------------------------------------------------------------------\u001b[0m",
      "\u001b[1;31mNameError\u001b[0m                                 Traceback (most recent call last)",
      "\u001b[1;32m<ipython-input-21-2ed0dd024993>\u001b[0m in \u001b[0;36m<module>\u001b[1;34m\u001b[0m\n\u001b[0;32m     17\u001b[0m \u001b[0mprint\u001b[0m\u001b[1;33m(\u001b[0m\u001b[0mind_6s\u001b[0m\u001b[1;33m)\u001b[0m\u001b[1;33m\u001b[0m\u001b[1;33m\u001b[0m\u001b[0m\n\u001b[0;32m     18\u001b[0m \u001b[1;33m\u001b[0m\u001b[0m\n\u001b[1;32m---> 19\u001b[1;33m \u001b[0mtemp_list\u001b[0m\u001b[1;33m.\u001b[0m\u001b[0mpop\u001b[0m\u001b[1;33m(\u001b[0m\u001b[1;33m[\u001b[0m\u001b[1;36m7\u001b[0m\u001b[1;33m,\u001b[0m\u001b[1;36m8\u001b[0m\u001b[1;33m,\u001b[0m\u001b[1;36m6\u001b[0m\u001b[1;33m]\u001b[0m\u001b[1;33m)\u001b[0m\u001b[1;33m\u001b[0m\u001b[1;33m\u001b[0m\u001b[0m\n\u001b[0m",
      "\u001b[1;31mNameError\u001b[0m: name 'temp_list' is not defined"
     ]
    }
   ],
   "source": [
    "#sum(test_list_1)\n",
    "#test_list_1[0]\n",
    "#sum([])\n",
    "\n",
    "in_list = [1,2,3,6,4,5,7,8,6, 10,12, 13, 6, 9,7] # Contains 6's at indices [3, 8, 12]\n",
    "tmp_list = in_list\n",
    "ind_6s = []\n",
    "\n",
    "#for i in range(in_list.count(6)):\n",
    "#    ind_6s.append(i+tmp_list.index(6)) # Record position of (i+1)-th six\n",
    "#    tmp_list = tmp_list[tmp_list.index(6)+1:] # Shorten tmp_list\n",
    "\n",
    "for i in range(len(in_list)):\n",
    "    if in_list[i]==6:\n",
    "        ind_6s.append(i)\n",
    "    \n",
    "print(ind_6s)\n",
    "\n",
    "temp_list.pop([7,8,6])"
   ]
  },
  {
   "cell_type": "code",
   "execution_count": null,
   "metadata": {
    "id": "b1y1zgDNHRvA"
   },
   "outputs": [],
   "source": []
  },
  {
   "cell_type": "markdown",
   "metadata": {
    "id": "fYtVNyvHHRvA"
   },
   "source": [
    "# Summer of 69 function\n",
    "\n",
    "## Debug version\n",
    "\n",
    "I believe that this is a pretty sophisticated version that checks many conditions on the input list.\n"
   ]
  },
  {
   "cell_type": "code",
   "execution_count": 49,
   "metadata": {
    "colab": {
     "base_uri": "https://localhost:8080/"
    },
    "executionInfo": {
     "elapsed": 143,
     "status": "ok",
     "timestamp": 1622769550479,
     "user": {
      "displayName": "mathfrak g_hat",
      "photoUrl": "",
      "userId": "06658507957460233836"
     },
     "user_tz": 420
    },
    "id": "my2SdE_qHRvA",
    "outputId": "4f77c11b-f581-45b5-b19f-ecde12a58629"
   },
   "outputs": [
    {
     "name": "stdout",
     "output_type": "stream",
     "text": [
      "We got: ind_6s =  [2]  and ind_69 =  [3]\n",
      "At j=0, sum_69_in_list =  3\n",
      "sum_69( [2, 1, 6, 9, 11] ) =  14\n",
      "j =  0\n",
      "n_6s =  1\n",
      "(j == (n_6s-1)) =  True\n"
     ]
    }
   ],
   "source": [
    "#def summer_69(in_list):\n",
    "  #'''\n",
    "  #    Return the sum of the numbers in the array, except ignore sections of \\n\n",
    "  #    numbers starting with a 6 and extending to the next 9 (every 6 will be followed by at least one 9). \\n\n",
    "  #    Return 0 for no numbers.\n",
    "  #'''\n",
    "\n",
    "## Debug only comment-out when done...\n",
    "in_debug = True\n",
    "#in_list = [9,1,2,6,8,5,6,2,3,9] # Testing summer_69([9,1,2,6,8,5,6,2,3,9])\n",
    "#in_list = [10,12,100,6,7,9,1,9,2,6,8,5,6,2,3,9]\n",
    "#in_list =  [2, 1, 6, 9, 11]\n",
    "#in_list = [4, 5, 6, 7, 8, 9]\n",
    "#in_list = [6,1,2,9,3,4, 5, 6, 7,9, 8, 9,10]\n",
    "#in_list = [6,1,2,9,3,4, 5, 6, 7,9, 8, 9,10,11,12,13,6,14,15,9,1,2,3,4,9]\n",
    "in_list = [2, 1, 6, 9, 11]\n",
    "if in_debug:\n",
    "\n",
    "    # Initializations\n",
    "    len_in_list = len(in_list)\n",
    "    n_6s = in_list.count(6)\n",
    "    n_9s = in_list.count(9)\n",
    "    ## Debug only, comment-out when done...\n",
    "    \n",
    "    # Check if all elements of in_list are int's\n",
    "    all_int = True\n",
    "    i=0\n",
    "    while all_int and i<len_in_list:\n",
    "        if type(in_list[i]) != int:\n",
    "            all_int = False\n",
    "        i+=1\n",
    "    \n",
    "    # Main instructions\n",
    "    if not all_int:\n",
    "        print('ERROR: Input list contains non-integer values.')\n",
    "        #return 0\n",
    "        ## Debug only, comment-out when done...\n",
    "        print(0)\n",
    "    else:\n",
    "        # Presence and positions of sixes and nines in in_list\n",
    "        \n",
    "        # Return sum(in_list) if there are no sixes\n",
    "        if (n_6s == 0):\n",
    "            #return sum(in_list)\n",
    "            ## Debug only, comment-out when done...\n",
    "            print(sum(in_list))\n",
    "        \n",
    "        # If there are sixes, but strictly less nines than sixes, return an error\n",
    "        elif (n_6s>0) and (n_6s>n_9s):\n",
    "            print('ERROR: There are less nines than sixes in the input list.')\n",
    "            #return 0\n",
    "            ## Debug only, comment-out when done...\n",
    "            print(0)\n",
    "        \n",
    "        # The acceptable case\n",
    "        elif (0 < n_6s <= n_9s):\n",
    "            # Find the indices of sixes and nines\n",
    "            ## Positions of sixes\n",
    "            ind_6s = []\n",
    "            for i in range(len(in_list)):\n",
    "                if in_list[i]==6:\n",
    "                    ind_6s.append(i)\n",
    "                    \n",
    "            ## Record indices of nines immediately following a six\n",
    "            ind_69 = []\n",
    "            for i in range(n_6s):\n",
    "                if ind_6s[i]<len(in_list)-1:               # Ensure (i+1)-th six isn't last character of in_list\n",
    "                    found_next_6 = False                   # Boolean for finding the (i+2)-th six\n",
    "                    found_next_9 = False                   # Boolean for finding a nine following (i+1)-th six\n",
    "                    j = ind_6s[i]+1                        # Start the while loop just after the (i+1)=th six in in_list\n",
    "                    while (not found_next_9) and (not found_next_6) and j<len(in_list): # Loop from position of (i+1)-th six\n",
    "                        if in_list[j]==9:\n",
    "                            found_next_9 = True                  # Break while loop if next 9 was found\n",
    "                            ind_69.append(j)                     # Record position of the nine following (i+1)-th six\n",
    "                        elif in_list[j] ==6:\n",
    "                            found_next_6 = True                  # Break while loop if 6 found before next 9\n",
    "                        j+=1                               # Increment j\n",
    "            \n",
    "            ## Check that every six is followed by a nine. Print error if not the case\n",
    "            if len(ind_6s)!= len(ind_69):\n",
    "                print('ERROR: Not every six is followed by a nine.')\n",
    "                #return 0\n",
    "                ## Debug only, comment-out when done...\n",
    "                print(0)\n",
    "\n",
    "            # Compute required sum\n",
    "            else:\n",
    "                sum_69_in_list =0\n",
    "\n",
    "                ## Sum all elements of in_list before first six\n",
    "                j =0\n",
    "                sum_69_in_list = sum_69_in_list + sum(in_list[0:ind_6s[j]])\n",
    "\n",
    "                ## Debug only, remove when done...\n",
    "                print('We got: ind_6s = ',ind_6s,' and ind_69 = ', ind_69)\n",
    "                print('At j=0, sum_69_in_list = ', sum_69_in_list)\n",
    "\n",
    "                \n",
    "                ## Sum all ADMISSIBLE elements of in_list before last nine following a 6\n",
    "                if n_6s>1:\n",
    "                  while j<(n_6s-1):\n",
    "                    \n",
    "\n",
    "                    ## Debug only, remove when done...\n",
    "                    print('In while loop, with j = ',j)\n",
    "                    print('We got: ind_69[j]+1 = ', ind_69[j]+1,' and ind_6s[j+1] = ', ind_6s[j+1])\n",
    "\n",
    "                    sum_69_in_list = sum_69_in_list + sum(in_list[ind_69[j]+1:ind_6s[j+1]])\n",
    "\n",
    "                    ## Debug only, remove when done...\n",
    "                    print('Here: sum_69_in_list = ',sum_69_in_list)\n",
    "\n",
    "                    j += 1 # Increment ind_6s index counter\n",
    "                    \n",
    "                \n",
    "                ## Sum all elements of in_list after last nine following a six\n",
    "                sum_69_in_list = sum_69_in_list + sum(in_list[ind_69[j]+1:]) # Here, j = (n_6s-1)\n",
    "\n",
    "                # Return output\n",
    "                #return sum_69_in_list \n",
    "                ## Debug only, comment-out when done...\n",
    "                print('sum_69(',in_list,') = ',sum_69_in_list)\n",
    "                print('j = ', j)\n",
    "                print('n_6s = ', n_6s)\n",
    "                print('(j == (n_6s-1)) = ', (j==(n_6s-1)))\n",
    "\n"
   ]
  },
  {
   "cell_type": "code",
   "execution_count": 8,
   "metadata": {
    "colab": {
     "base_uri": "https://localhost:8080/"
    },
    "executionInfo": {
     "elapsed": 136,
     "status": "ok",
     "timestamp": 1622764029094,
     "user": {
      "displayName": "mathfrak g_hat",
      "photoUrl": "",
      "userId": "06658507957460233836"
     },
     "user_tz": 420
    },
    "id": "sPU7ZTBEP4Xr",
    "outputId": "495ef698-85dc-41ae-ee2e-06d412d5ece7"
   },
   "outputs": [
    {
     "name": "stdout",
     "output_type": "stream",
     "text": [
      "[10, 12, 100, 6, 7, 9, 1, 9, 2, 6, 8, 5, 6, 2, 3, 9]\n",
      "sum(in_list[0:ind_6s[0]]) =  122\n",
      "[6, 1, 2, 3, 4, 9, 7, 8, 9, 10]\n",
      "sum(in_list_2[0:0]) =  0\n"
     ]
    }
   ],
   "source": [
    "print(in_list)\n",
    "print('sum(in_list[0:ind_6s[0]]) = ',sum(in_list[0:ind_6s[0]]))\n",
    "in_list_2 = [6,1,2,3,4,9,7,8,9,10]\n",
    "print(in_list_2)\n",
    "print('sum(in_list_2[0:0]) = ',sum(in_list_2[0:0])) # Seems to work even if first six is the very first entry of in_list"
   ]
  },
  {
   "cell_type": "code",
   "execution_count": null,
   "metadata": {
    "id": "8SrZZlCSHRvB",
    "outputId": "b547fc9a-018c-456c-b924-145740862531"
   },
   "outputs": [
    {
     "name": "stdout",
     "output_type": "stream",
     "text": [
      "found_next_9 =  True\n",
      "n_6s =  3\n",
      "ind_6s =  [3, 9, 12]\n",
      "ind_69 =  [5, 15]\n",
      "j =  16\n"
     ]
    }
   ],
   "source": [
    "print('found_next_9 = ', found_next_9)\n",
    "print('n_6s = ', n_6s)\n",
    "print('ind_6s = ', ind_6s)\n",
    "print('ind_69 = ', ind_69)\n",
    "print('j = ', j)\n"
   ]
  },
  {
   "cell_type": "code",
   "execution_count": 13,
   "metadata": {
    "executionInfo": {
     "elapsed": 135,
     "status": "ok",
     "timestamp": 1622765087916,
     "user": {
      "displayName": "mathfrak g_hat",
      "photoUrl": "",
      "userId": "06658507957460233836"
     },
     "user_tz": 420
    },
    "id": "xV_NwgQXVat2"
   },
   "outputs": [],
   "source": []
  },
  {
   "cell_type": "markdown",
   "metadata": {
    "id": "Wv_xwx0wVhqW"
   },
   "source": [
    "## Final version\n",
    "\n",
    "The summer_69 function, clean version"
   ]
  },
  {
   "cell_type": "code",
   "execution_count": 1,
   "metadata": {
    "executionInfo": {
     "elapsed": 179,
     "status": "ok",
     "timestamp": 1622770405099,
     "user": {
      "displayName": "mathfrak g_hat",
      "photoUrl": "",
      "userId": "06658507957460233836"
     },
     "user_tz": 420
    },
    "id": "dZFL6Y91bqi6"
   },
   "outputs": [],
   "source": [
    "def summer_69(in_list):\n",
    "  '''\n",
    "    Returns the sum of the numbers in the array, except ignores sections of \\n\n",
    "    numbers starting with a 6 and extending to the next 9 (every 6 will be followed by at least one 9).\\n\n",
    "    Returns 0 for no numbers.\n",
    "  '''\n",
    "  # Initializations\n",
    "  len_in_list = len(in_list)\n",
    "  n_6s = in_list.count(6)\n",
    "  n_9s = in_list.count(9)\n",
    "    \n",
    "  # Check if all elements of in_list are int's\n",
    "  all_int = True\n",
    "  i=0\n",
    "  while all_int and i<len_in_list:\n",
    "    if type(in_list[i]) != int:\n",
    "      all_int = False\n",
    "    i+=1\n",
    "\n",
    "  # Main instructions\n",
    "  if not all_int:\n",
    "    print('ERROR: Input list contains non-integer values.')\n",
    "    return 0\n",
    "    \n",
    "  else:\n",
    "    # Presence and positions of sixes and nines in in_list\n",
    "        \n",
    "    # Return sum(in_list) if there are no sixes\n",
    "    if (n_6s == 0):\n",
    "      return sum(in_list)\n",
    "        \n",
    "    # If there are sixes, but strictly less nines than sixes, return an error\n",
    "    elif (n_6s>0) and (n_6s>n_9s):\n",
    "      print('ERROR: There are less nines than sixes in the input list.')\n",
    "      return 0\n",
    "        \n",
    "    # The acceptable case\n",
    "    elif (0 < n_6s <= n_9s):\n",
    "\n",
    "      # Find the indices of sixes and nines\n",
    "      ## Positions of sixes\n",
    "      ind_6s = []\n",
    "      for i in range(len(in_list)):\n",
    "        if in_list[i]==6:\n",
    "          ind_6s.append(i)\n",
    "\n",
    "      ## Record indices of nines immediately following a six\n",
    "      ind_69 = []\n",
    "      for i in range(n_6s):\n",
    "        if ind_6s[i]<len(in_list)-1:               # Ensure (i+1)-th six isn't last character of in_list\n",
    "          found_next_6 = False                   # Boolean for finding the (i+2)-th six\n",
    "          found_next_9 = False                   # Boolean for finding a nine following (i+1)-th six\n",
    "          j = ind_6s[i]+1                        # Start the while loop just after the (i+1)=th six in in_list\n",
    "          while (not found_next_9) and (not found_next_6) and j<len(in_list): # Loop from position of (i+1)-th six\n",
    "            if in_list[j]==9:\n",
    "              found_next_9 = True                  # Break while loop if next 9 was found\n",
    "              ind_69.append(j)                     # Record position of the nine following (i+1)-th six\n",
    "            elif in_list[j] ==6:\n",
    "              found_next_6 = True                  # Break while loop if 6 found before next 9\n",
    "            j+=1                               # Increment j\n",
    "            \n",
    "      ## Check that every six is followed by a nine. Print error if not the case\n",
    "      if len(ind_6s)!= len(ind_69):\n",
    "        print('ERROR: Not every six is followed by a nine.')\n",
    "        return 0\n",
    "          \n",
    "      # Compute required sum\n",
    "      else:\n",
    "        sum_69_in_list =0\n",
    "        ## Sum all elements of in_list before first six\n",
    "        j =0\n",
    "        sum_69_in_list = sum_69_in_list + sum(in_list[0:ind_6s[j]])\n",
    "                \n",
    "        ## Sum all ADMISSIBLE elements of in_list before last nine following a 6\n",
    "        if n_6s>1:\n",
    "          while j<(n_6s-1):\n",
    "            sum_69_in_list = sum_69_in_list + sum(in_list[ind_69[j]+1:ind_6s[j+1]])\n",
    "            j += 1 # Increment ind_6s index counter\n",
    "\n",
    "        ## Sum all elements of in_list after last nine following a six\n",
    "        sum_69_in_list = sum_69_in_list + sum(in_list[ind_69[j]+1:]) # Here, j = (n_6s-1)\n",
    "        # Return output\n",
    "        return sum_69_in_list \n"
   ]
  },
  {
   "cell_type": "code",
   "execution_count": 2,
   "metadata": {
    "colab": {
     "base_uri": "https://localhost:8080/"
    },
    "executionInfo": {
     "elapsed": 139,
     "status": "ok",
     "timestamp": 1622769476388,
     "user": {
      "displayName": "mathfrak g_hat",
      "photoUrl": "",
      "userId": "06658507957460233836"
     },
     "user_tz": 420
    },
    "id": "4fQMEplaHRvC",
    "outputId": "9431daa0-d25c-4a4d-800c-5f6541058454"
   },
   "outputs": [
    {
     "name": "stdout",
     "output_type": "stream",
     "text": [
      "ERROR: Input list contains non-integer values.\n",
      "ERROR: There are less nines than sixes in the input list.\n",
      "ERROR: Not every six is followed by a nine.\n"
     ]
    },
    {
     "data": {
      "text/plain": [
       "0"
      ]
     },
     "execution_count": 2,
     "metadata": {},
     "output_type": "execute_result"
    }
   ],
   "source": [
    "# Test for errors in summer_69\n",
    "summer_69([1,2,3,' ', 0,9])\n",
    "summer_69([1,2,6,8,5,6,2,3,9])\n",
    "summer_69([9,1,2,6,8,5,6,2,3,9])"
   ]
  },
  {
   "cell_type": "code",
   "execution_count": 3,
   "metadata": {
    "colab": {
     "base_uri": "https://localhost:8080/"
    },
    "executionInfo": {
     "elapsed": 132,
     "status": "ok",
     "timestamp": 1622770408475,
     "user": {
      "displayName": "mathfrak g_hat",
      "photoUrl": "",
      "userId": "06658507957460233836"
     },
     "user_tz": 420
    },
    "id": "xTrxvxA3pvc6",
    "outputId": "28636b7b-0c58-43ed-d7d9-ea8c2b41d3af"
   },
   "outputs": [
    {
     "name": "stdout",
     "output_type": "stream",
     "text": [
      "Help on function summer_69 in module __main__:\n",
      "\n",
      "summer_69(in_list)\n",
      "    Returns the sum of the numbers in the array, except ignores sections of \n",
      "    \n",
      "    numbers starting with a 6 and extending to the next 9 (every 6 will be followed by at least one 9).\n",
      "    \n",
      "    Returns 0 for no numbers.\n",
      "\n"
     ]
    }
   ],
   "source": [
    "help(summer_69)"
   ]
  },
  {
   "cell_type": "code",
   "execution_count": 4,
   "metadata": {
    "colab": {
     "base_uri": "https://localhost:8080/"
    },
    "executionInfo": {
     "elapsed": 130,
     "status": "ok",
     "timestamp": 1622769481227,
     "user": {
      "displayName": "mathfrak g_hat",
      "photoUrl": "",
      "userId": "06658507957460233836"
     },
     "user_tz": 420
    },
    "id": "xS5JtM7qHRvC",
    "outputId": "84c9669b-c867-4b4c-e4a2-022ba848bc5a"
   },
   "outputs": [
    {
     "data": {
      "text/plain": [
       "24"
      ]
     },
     "execution_count": 4,
     "metadata": {},
     "output_type": "execute_result"
    }
   ],
   "source": [
    "summer_69([1,2,3,4,5,9])"
   ]
  },
  {
   "cell_type": "code",
   "execution_count": 5,
   "metadata": {
    "colab": {
     "base_uri": "https://localhost:8080/"
    },
    "executionInfo": {
     "elapsed": 137,
     "status": "ok",
     "timestamp": 1622769484871,
     "user": {
      "displayName": "mathfrak g_hat",
      "photoUrl": "",
      "userId": "06658507957460233836"
     },
     "user_tz": 420
    },
    "id": "MYL32PMdHRvC",
    "outputId": "107bcf87-c39e-4dbf-e1fb-fec0aa22e166"
   },
   "outputs": [
    {
     "data": {
      "text/plain": [
       "9"
      ]
     },
     "execution_count": 5,
     "metadata": {},
     "output_type": "execute_result"
    }
   ],
   "source": [
    "# Check\n",
    "summer_69([1, 3, 5])"
   ]
  },
  {
   "cell_type": "code",
   "execution_count": 6,
   "metadata": {
    "colab": {
     "base_uri": "https://localhost:8080/"
    },
    "executionInfo": {
     "elapsed": 133,
     "status": "ok",
     "timestamp": 1622769491386,
     "user": {
      "displayName": "mathfrak g_hat",
      "photoUrl": "",
      "userId": "06658507957460233836"
     },
     "user_tz": 420
    },
    "id": "n5vgdKnwHRvD",
    "outputId": "d00beeb7-ad29-4a45-d938-7cd41eb41a8f"
   },
   "outputs": [
    {
     "data": {
      "text/plain": [
       "9"
      ]
     },
     "execution_count": 6,
     "metadata": {},
     "output_type": "execute_result"
    }
   ],
   "source": [
    "# Check\n",
    "summer_69([4, 5, 6, 7, 8, 9])"
   ]
  },
  {
   "cell_type": "code",
   "execution_count": 7,
   "metadata": {
    "colab": {
     "base_uri": "https://localhost:8080/"
    },
    "executionInfo": {
     "elapsed": 137,
     "status": "ok",
     "timestamp": 1622769599330,
     "user": {
      "displayName": "mathfrak g_hat",
      "photoUrl": "",
      "userId": "06658507957460233836"
     },
     "user_tz": 420
    },
    "id": "8oW2x1DlHRvD",
    "outputId": "9af4af16-e7d7-49dd-bc81-b2aee4654fc6"
   },
   "outputs": [
    {
     "data": {
      "text/plain": [
       "14"
      ]
     },
     "execution_count": 7,
     "metadata": {},
     "output_type": "execute_result"
    }
   ],
   "source": [
    "# Check\n",
    "summer_69([2, 1, 6, 9, 11])"
   ]
  },
  {
   "cell_type": "code",
   "execution_count": 8,
   "metadata": {
    "colab": {
     "base_uri": "https://localhost:8080/"
    },
    "executionInfo": {
     "elapsed": 150,
     "status": "ok",
     "timestamp": 1622769602099,
     "user": {
      "displayName": "mathfrak g_hat",
      "photoUrl": "",
      "userId": "06658507957460233836"
     },
     "user_tz": 420
    },
    "id": "dQd9u-9LhNF-",
    "outputId": "d9b82346-e250-4dae-9a04-a7fb5304f229"
   },
   "outputs": [
    {
     "data": {
      "text/plain": [
       "94"
      ]
     },
     "execution_count": 8,
     "metadata": {},
     "output_type": "execute_result"
    }
   ],
   "source": [
    "summer_69([6,1,2,9,3,4, 5, 6, 7,9, 8, 9,10,11,12,13,6,14,15,9,1,2,3,4,9])"
   ]
  },
  {
   "cell_type": "code",
   "execution_count": 9,
   "metadata": {
    "colab": {
     "base_uri": "https://localhost:8080/"
    },
    "executionInfo": {
     "elapsed": 148,
     "status": "ok",
     "timestamp": 1622769656396,
     "user": {
      "displayName": "mathfrak g_hat",
      "photoUrl": "",
      "userId": "06658507957460233836"
     },
     "user_tz": 420
    },
    "id": "WHT3yt1zm7bT",
    "outputId": "0c868c4d-d1c5-4f2a-bd1c-0dc843bc368c"
   },
   "outputs": [
    {
     "data": {
      "text/plain": [
       "39"
      ]
     },
     "execution_count": 9,
     "metadata": {},
     "output_type": "execute_result"
    }
   ],
   "source": [
    "summer_69([6,1,2,9,3,4, 5, 6, 7,9, 8, 9,10])"
   ]
  },
  {
   "cell_type": "markdown",
   "metadata": {
    "id": "RjzHqVH3HRvD"
   },
   "source": [
    "# CHALLENGING PROBLEMS"
   ]
  },
  {
   "cell_type": "markdown",
   "metadata": {
    "id": "H65HoCqDHRvE"
   },
   "source": [
    "#### SPY GAME: Write a function that takes in a list of integers and returns True if it contains 007 in order\n",
    "\n",
    "     spy_game([1,2,4,0,0,7,5]) --> True\n",
    "     spy_game([1,0,2,4,0,5,7]) --> True\n",
    "     spy_game([1,7,2,0,4,5,0]) --> False\n"
   ]
  },
  {
   "cell_type": "code",
   "execution_count": 9,
   "metadata": {
    "executionInfo": {
     "elapsed": 132,
     "status": "ok",
     "timestamp": 1622772177383,
     "user": {
      "displayName": "mathfrak g_hat",
      "photoUrl": "",
      "userId": "06658507957460233836"
     },
     "user_tz": 420
    },
    "id": "3N68y45hHRvE"
   },
   "outputs": [],
   "source": [
    "def spy_game(in_list):\n",
    "#debug = True\n",
    "#in_list = [1,2,4,0,0,7,5] \n",
    "#in_list = [1,7,2,0,4,5,0]\n",
    "#if debug:\n",
    "  # Initializations\n",
    "  len_in_list = len(in_list)\n",
    "  n_0s = in_list.count(0)\n",
    "  n_7s = in_list.count(7)\n",
    "    \n",
    "  # Check if all elements of in_list are int's\n",
    "  all_int = True\n",
    "  i=0\n",
    "  while all_int and i<len_in_list:\n",
    "    if type(in_list[i]) != int:\n",
    "      all_int = False\n",
    "    i+=1\n",
    "  \n",
    "  # Print error if not all entries are integers\n",
    "  if not all_int:\n",
    "    print('ERROR: Input list contains non-integer values.')\n",
    "    return False\n",
    "    # DEBUG ONLY\n",
    "    #print(False)\n",
    "\n",
    "  # If all elements of in_list are integers \n",
    "  else:\n",
    "    # Case of no sevens in in_list\n",
    "    if (n_7s == 0):\n",
    "      print('No sevens in given list')\n",
    "      return False\n",
    "      # DEBUG ONLY\n",
    "      #print(False)\n",
    "\n",
    "    # Case of not enough zeroes\n",
    "    elif (n_7s >0) and (n_0s <2):\n",
    "      print('Not enough zeroes in given list')\n",
    "      return False\n",
    "      # DEBUG ONLY\n",
    "      #print(False)\n",
    "    \n",
    "    # Case of at least 1 seven and 2 zeroes\n",
    "    elif (n_7s >0) and (n_0s >= 2):\n",
    "      \n",
    "      # Find indices of the sevens\n",
    "      ind_7s = []\n",
    "      for i in range(len(in_list)):\n",
    "        if in_list[i]==7:\n",
    "          ind_7s.append(i)\n",
    "\n",
    "      # Main search\n",
    "      found_007 = False\n",
    "      i = 0\n",
    "      while (not found_007) and (i< n_7s):\n",
    "        if i==0:\n",
    "            if (in_list[0:ind_7s[i]].count(0) >= 2):\n",
    "                found_007 = True\n",
    "        elif (i>0):\n",
    "            if (in_list[ind_7s[i-1]+1:ind_7s[i]].count(0) >= 2):\n",
    "                found_007 = True\n",
    "        i += 1\n",
    "\n",
    "      return found_007\n"
   ]
  },
  {
   "cell_type": "code",
   "execution_count": 10,
   "metadata": {
    "colab": {
     "base_uri": "https://localhost:8080/"
    },
    "executionInfo": {
     "elapsed": 174,
     "status": "ok",
     "timestamp": 1622772180438,
     "user": {
      "displayName": "mathfrak g_hat",
      "photoUrl": "",
      "userId": "06658507957460233836"
     },
     "user_tz": 420
    },
    "id": "Vf5Lbr6hHRvE",
    "outputId": "39d20bae-0854-4fc5-d7ce-aeaa38b7f7b8"
   },
   "outputs": [
    {
     "data": {
      "text/plain": [
       "True"
      ]
     },
     "execution_count": 10,
     "metadata": {},
     "output_type": "execute_result"
    }
   ],
   "source": [
    "# Check (true)\n",
    "spy_game([1,2,4,0,0,7,5])"
   ]
  },
  {
   "cell_type": "code",
   "execution_count": 11,
   "metadata": {
    "colab": {
     "base_uri": "https://localhost:8080/"
    },
    "executionInfo": {
     "elapsed": 135,
     "status": "ok",
     "timestamp": 1622772182575,
     "user": {
      "displayName": "mathfrak g_hat",
      "photoUrl": "",
      "userId": "06658507957460233836"
     },
     "user_tz": 420
    },
    "id": "XCDcbl5SHRvF",
    "outputId": "5870fbe1-f03b-4108-a8f2-419f253e1fc2"
   },
   "outputs": [
    {
     "data": {
      "text/plain": [
       "True"
      ]
     },
     "execution_count": 11,
     "metadata": {},
     "output_type": "execute_result"
    }
   ],
   "source": [
    "# Check (true)\n",
    "spy_game([1,0,2,4,0,5,7])"
   ]
  },
  {
   "cell_type": "code",
   "execution_count": 12,
   "metadata": {
    "colab": {
     "base_uri": "https://localhost:8080/"
    },
    "executionInfo": {
     "elapsed": 132,
     "status": "ok",
     "timestamp": 1622772184417,
     "user": {
      "displayName": "mathfrak g_hat",
      "photoUrl": "",
      "userId": "06658507957460233836"
     },
     "user_tz": 420
    },
    "id": "ZqDsl2tAHRvF",
    "outputId": "2a540016-9237-4145-a9d0-f841f034219e"
   },
   "outputs": [
    {
     "data": {
      "text/plain": [
       "False"
      ]
     },
     "execution_count": 12,
     "metadata": {},
     "output_type": "execute_result"
    }
   ],
   "source": [
    "# Check (false)\n",
    "spy_game([1,7,2,0,4,5,0])"
   ]
  },
  {
   "cell_type": "code",
   "execution_count": 15,
   "metadata": {},
   "outputs": [
    {
     "data": {
      "text/plain": [
       "False"
      ]
     },
     "execution_count": 15,
     "metadata": {},
     "output_type": "execute_result"
    }
   ],
   "source": [
    "# Check (false)\n",
    "spy_game([1,0,7,2,0,4,7,5,0,4,5,7,13,12])"
   ]
  },
  {
   "cell_type": "code",
   "execution_count": 16,
   "metadata": {},
   "outputs": [
    {
     "data": {
      "text/plain": [
       "True"
      ]
     },
     "execution_count": 16,
     "metadata": {},
     "output_type": "execute_result"
    }
   ],
   "source": [
    "# Check (false)\n",
    "spy_game([1,7,0,2,0,4,7,5,0,4,5,0,7,13,12])"
   ]
  },
  {
   "cell_type": "markdown",
   "metadata": {
    "id": "HuwyBd0FHRvF"
   },
   "source": [
    "#### COUNT PRIMES: Write a function that returns the *number* of prime numbers that exist up to and including a given number\n",
    "    count_primes(100) --> 25\n",
    "\n",
    "By convention, 0 and 1 are not prime."
   ]
  },
  {
   "cell_type": "code",
   "execution_count": 2,
   "metadata": {},
   "outputs": [],
   "source": [
    "# I'll start with a subroutine that tests whether a positive number is a prime. Returns true or false\n",
    "def is_prime(in_int):\n",
    "    # Check that input is a non-negative integer\n",
    "    if (type(in_int)!=int) or (in_int<0):\n",
    "        print('ERROR: Input is not a non-negative integer')\n",
    "        return False\n",
    "    # When input is a non-negative integer\n",
    "    else:\n",
    "        # Check if input =0,1\n",
    "        if (in_int == 0) or (in_int==1):\n",
    "            return False\n",
    "        # Check if input =2,3\n",
    "        elif (in_int == 2) or (in_int==3):\n",
    "            return True\n",
    "        # Check if input is even\n",
    "        elif (in_int>2) and (in_int%2==0):\n",
    "            return False\n",
    "        # When input is an odd number greater than 2 (all primes greater than 2 are odd)\n",
    "        elif (in_int>2) and (in_int%2==1):\n",
    "            # Find L such that in_input = N = 2L+1\n",
    "            L = int((in_int-1)/2)\n",
    "            # Loop over all odd numbers lower than in_int\n",
    "            input_is_prime = True\n",
    "            ## Faster version\n",
    "            i=1\n",
    "            while (i in range(1,L)) and (input_is_prime):\n",
    "                if (in_int%(2*i+1)==0):\n",
    "                    input_is_prime = False\n",
    "                i +=1\n",
    "            ## Naive version\n",
    "            #for i in range(1,L):\n",
    "            #    if (in_int%(2*i+1)==0):\n",
    "            #        input_is_prime = False\n",
    "            return input_is_prime\n",
    "                \n",
    "        \n",
    "            "
   ]
  },
  {
   "cell_type": "code",
   "execution_count": 28,
   "metadata": {
    "scrolled": true
   },
   "outputs": [
    {
     "name": "stdout",
     "output_type": "stream",
     "text": [
      "is_prime(2) =  True\n",
      "is_prime(3) =  True\n",
      "is_prime(5) =  True\n",
      "is_prime(7) =  True\n",
      "is_prime(11) =  True\n",
      "is_prime(13) =  True\n",
      "is_prime(17) =  True\n",
      "is_prime(19) =  True\n",
      "is_prime(53) =  True\n",
      "is_prime(57) =  False\n",
      "is_prime(59) =  True\n"
     ]
    }
   ],
   "source": [
    "print('is_prime(2) = ',is_prime(2))\n",
    "print('is_prime(3) = ',is_prime(3))\n",
    "print('is_prime(5) = ',is_prime(5))\n",
    "print('is_prime(7) = ',is_prime(7))\n",
    "print('is_prime(11) = ',is_prime(11))\n",
    "print('is_prime(13) = ',is_prime(13))\n",
    "print('is_prime(17) = ',is_prime(17))\n",
    "print('is_prime(19) = ',is_prime(19))\n",
    "print('is_prime(53) = ',is_prime(53))\n",
    "print('is_prime(57) = ',is_prime(57))\n",
    "print('is_prime(59) = ',is_prime(59))"
   ]
  },
  {
   "cell_type": "code",
   "execution_count": 3,
   "metadata": {},
   "outputs": [
    {
     "name": "stdout",
     "output_type": "stream",
     "text": [
      "is_prime(1331) =  False\n",
      "is_prime(104729) =  True\n"
     ]
    }
   ],
   "source": [
    "print('is_prime(1331) = ',is_prime(1331))\n",
    "# 104729 is the closest prime to 10000\n",
    "print('is_prime(104729) = ',is_prime(104729))\n"
   ]
  },
  {
   "cell_type": "code",
   "execution_count": 31,
   "metadata": {
    "id": "tyw7gMVNHRvF"
   },
   "outputs": [],
   "source": [
    "# I'll write a function that counts the number of primes and actually gives them\n",
    "def count_primes(in_int):\n",
    "    # Check that input is a non-negative integer\n",
    "    if (type(in_int)!=int) or (in_int<0):\n",
    "        print('ERROR: Input is not a non-negative integer')\n",
    "        return 0\n",
    "    # When input is a non-negative integer\n",
    "    else:\n",
    "        n_primes_lower_input = 0\n",
    "        primes_lower_input = []\n",
    "        # Main loop\n",
    "        for i in range(2,in_int+1):\n",
    "            if is_prime(i):\n",
    "                n_primes_lower_input += 1\n",
    "                primes_lower_input.append(i)\n",
    "        # Return output\n",
    "        return (n_primes_lower_input, primes_lower_input)\n",
    "        \n",
    "    \n",
    "                "
   ]
  },
  {
   "cell_type": "code",
   "execution_count": 33,
   "metadata": {
    "id": "HS3-XHb8HRvF",
    "scrolled": true
   },
   "outputs": [
    {
     "name": "stdout",
     "output_type": "stream",
     "text": [
      "n_primes =  25\n"
     ]
    }
   ],
   "source": [
    "# Check\n",
    "(n_primes,primes)=count_primes(100)\n",
    "print('n_primes = ', n_primes)"
   ]
  },
  {
   "cell_type": "code",
   "execution_count": 34,
   "metadata": {},
   "outputs": [
    {
     "name": "stdout",
     "output_type": "stream",
     "text": [
      "n_primes =  1229\n"
     ]
    }
   ],
   "source": [
    "# Check\n",
    "(n_primes,primes)=count_primes(10000) # Should return 1229\n",
    "print('n_primes = ', n_primes)"
   ]
  },
  {
   "cell_type": "markdown",
   "metadata": {
    "id": "tf9OjQQNHRvF"
   },
   "source": [
    "### Just for fun:\n",
    "#### PRINT BIG: Write a function that takes in a single letter, and returns a 5x5 representation of that letter\n",
    "    print_big('a')\n",
    "    \n",
    "    out:   *  \n",
    "          * *\n",
    "         *****\n",
    "         *   *\n",
    "         *   *\n",
    "HINT: Consider making a dictionary of possible patterns, and mapping the alphabet to specific 5-line combinations of patterns. <br>For purposes of this exercise, it's ok if your dictionary stops at \"E\"."
   ]
  },
  {
   "cell_type": "code",
   "execution_count": 16,
   "metadata": {},
   "outputs": [
    {
     "name": "stdout",
     "output_type": "stream",
     "text": [
      "['A', 'B', 'C', 'D', 'E']\n",
      "F in lst =  False\n",
      "a in lst =  False\n"
     ]
    },
    {
     "data": {
      "text/plain": [
       "True"
      ]
     },
     "execution_count": 16,
     "metadata": {},
     "output_type": "execute_result"
    }
   ],
   "source": [
    "lst = list('ABCDE')\n",
    "print(lst)\n",
    "print('F in lst = ' ,('F' in lst))\n",
    "print('a in lst = ' ,('a' in lst))\n",
    "big_letters = {'A': '  A  \\n A A \\n AAA \\nA   A\\nA   A', \\\n",
    "                   'B': 'BBBB \\nB   B\\nBBBB \\nB   B\\nBBBB ', \\\n",
    "                   'C': '  CCC\\n C   \\nC    \\n C   \\n  CCC', \\\n",
    "                   'D': 'DDD  \\nD  D \\nD   D\\nD  D \\nDDD  ', \\\n",
    "                   'E': 'EEEEE\\nE\\nEEEEE\\nE\\nEEEEE'}\n",
    "#print(big_letters['A'])\n",
    "#print(big_letters['B'])\n",
    "#print(big_letters['C'])\n",
    "#print(big_letters['D'])\n",
    "#print(big_letters['E'])\n",
    "'A' in big_letters.keys()\n"
   ]
  },
  {
   "cell_type": "code",
   "execution_count": 17,
   "metadata": {
    "id": "jIlwyiYRHRvG"
   },
   "outputs": [],
   "source": [
    "def print_big(in_letter):\n",
    "    # Initializations\n",
    "    in_let_cap = in_letter.upper()\n",
    "    big_letters = {'A': '  A  \\n A A \\n AAA \\nA   A\\nA   A', \\\n",
    "                   'B': 'BBBB \\nB   B\\nBBBB \\nB   B\\nBBBB ', \\\n",
    "                   'C': '  CCC\\n C   \\nC    \\n C   \\n  CCC', \\\n",
    "                   'D': 'DDD  \\nD  D \\nD   D\\nD  D \\nDDD  ', \\\n",
    "                   'E': 'EEEEE\\nE\\nEEEEE\\nE\\nEEEEE'}\n",
    "    \n",
    "    if (not (in_let_cap in big_letters.keys())):\n",
    "        print('ERROR: Input isn\\'t a valid letter')\n",
    "    else:\n",
    "        print(big_letters[in_let_cap])\n",
    "    \n",
    "    return None"
   ]
  },
  {
   "cell_type": "code",
   "execution_count": 19,
   "metadata": {
    "id": "9VJyNIYSHRvG"
   },
   "outputs": [
    {
     "name": "stdout",
     "output_type": "stream",
     "text": [
      "  A  \n",
      " A A \n",
      " AAA \n",
      "A   A\n",
      "A   A\n",
      "BBBB \n",
      "B   B\n",
      "BBBB \n",
      "B   B\n",
      "BBBB \n",
      "  CCC\n",
      " C   \n",
      "C    \n",
      " C   \n",
      "  CCC\n",
      "DDD  \n",
      "D  D \n",
      "D   D\n",
      "D  D \n",
      "DDD  \n",
      "EEEEE\n",
      "E\n",
      "EEEEE\n",
      "E\n",
      "EEEEE\n",
      "ERROR: Input isn't a valid letter\n"
     ]
    }
   ],
   "source": [
    "print_big('a')\n",
    "print_big('b')\n",
    "print_big('c')\n",
    "print_big('d')\n",
    "print_big('e')\n",
    "print_big('f')"
   ]
  },
  {
   "cell_type": "markdown",
   "metadata": {
    "id": "gS4wMzJsHRvG"
   },
   "source": [
    "## Great Job!"
   ]
  }
 ],
 "metadata": {
  "colab": {
   "collapsed_sections": [
    "Os6wHKVpHRu4",
    "JL2le4PYHRu5",
    "MoB0ZI87HRu6",
    "9pWHGcCgHRu8",
    "uOnWZR0fHRu9",
    "M-FklQXkHRu-",
    "TPXKxanyHRu_",
    "fxRcx7lvHRu_",
    "HuwyBd0FHRvF"
   ],
   "name": "TEMP_ONLINE_Portilla_PyBtcp_Sec6.50_Function_Practice_Exercises.ipynb",
   "provenance": []
  },
  "kernelspec": {
   "display_name": "Python 3",
   "language": "python",
   "name": "python3"
  },
  "language_info": {
   "codemirror_mode": {
    "name": "ipython",
    "version": 3
   },
   "file_extension": ".py",
   "mimetype": "text/x-python",
   "name": "python",
   "nbconvert_exporter": "python",
   "pygments_lexer": "ipython3",
   "version": "3.8.8"
  }
 },
 "nbformat": 4,
 "nbformat_minor": 1
}
