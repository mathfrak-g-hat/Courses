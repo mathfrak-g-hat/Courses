{
 "cells": [
  {
   "cell_type": "markdown",
   "metadata": {},
   "source": [
    "___\n",
    "\n",
    "<a href='https://www.udemy.com/user/joseportilla/'><img src='../Pierian_Data_Logo.png'/></a>\n",
    "___\n",
    "<center><em>Content Copyright by Pierian Data</em></center>"
   ]
  },
  {
   "cell_type": "markdown",
   "metadata": {},
   "source": [
    "# Web Scraping Exercises \n",
    "\n",
    "### Ahmed J Zerouali (21/06/25)\n",
    "\n"
   ]
  },
  {
   "cell_type": "markdown",
   "metadata": {},
   "source": [
    "### **Exercise 0: Basics**\n",
    "\n",
    "**TASK: Import any libraries you think you'll need to scrape a website.**"
   ]
  },
  {
   "cell_type": "code",
   "execution_count": 1,
   "metadata": {},
   "outputs": [],
   "source": [
    "import requests\n",
    "import lxml\n",
    "import bs4"
   ]
  },
  {
   "cell_type": "markdown",
   "metadata": {},
   "source": [
    "### **Exercise 1: The first page**\n",
    "\n",
    "A series of warmup tasks to study the data structure of quotes.toscrape.com.\n",
    "\n",
    "**TASK 1: Use requests library and BeautifulSoup to connect to http://quotes.toscrape.com/ and get the HMTL text from the homepage.**"
   ]
  },
  {
   "cell_type": "code",
   "execution_count": 2,
   "metadata": {},
   "outputs": [],
   "source": [
    "## See (a) below. Should execute all cells in scrap before this part. ##\n",
    "# Scrape first page\n",
    "ini_req = requests.get(\"https://quotes.toscrape.com/\")\n",
    "# Convert first page to HTML\n",
    "fp_html = bs4.BeautifulSoup(ini_req.text,\"lxml\")\n"
   ]
  },
  {
   "cell_type": "code",
   "execution_count": 32,
   "metadata": {
    "collapsed": true
   },
   "outputs": [
    {
     "data": {
      "text/plain": [
       "'<!DOCTYPE html>\\n<html lang=\"en\">\\n<head>\\n\\t<meta charset=\"UTF-8\">\\n\\t<title>Quotes to Scrape</title>\\n    <link rel=\"stylesheet\" href=\"/static/bootstrap.min.css\">\\n    <link rel=\"stylesheet\" href=\"/static/main.css\">\\n</head>\\n<body>\\n    <div class=\"container\">\\n        <div class=\"row header-box\">\\n            <div class=\"col-md-8\">\\n                <h1>\\n                    <a href=\"/\" style=\"text-decoration: none\">Quotes to Scrape</a>\\n                </h1>\\n            </div>\\n            <div class=\"col-md-4\">\\n                <p>\\n                \\n                    <a href=\"/login\">Login</a>\\n                \\n                </p>\\n            </div>\\n        </div>\\n    \\n\\n<div class=\"row\">\\n    <div class=\"col-md-8\">\\n\\n    <div class=\"quote\" itemscope itemtype=\"http://schema.org/CreativeWork\">\\n        <span class=\"text\" itemprop=\"text\">“The world as we have created it is a process of our thinking. It cannot be changed without changing our thinking.”</span>\\n        <span>by <small class=\"author\" itemprop=\"author\">Albert Einstein</small>\\n        <a href=\"/author/Albert-Einstein\">(about)</a>\\n        </span>\\n        <div class=\"tags\">\\n            Tags:\\n            <meta class=\"keywords\" itemprop=\"keywords\" content=\"change,deep-thoughts,thinking,world\" /    > \\n            \\n            <a class=\"tag\" href=\"/tag/change/page/1/\">change</a>\\n            \\n            <a class=\"tag\" href=\"/tag/deep-thoughts/page/1/\">deep-thoughts</a>\\n            \\n            <a class=\"tag\" href=\"/tag/thinking/page/1/\">thinking</a>\\n            \\n            <a class=\"tag\" href=\"/tag/world/page/1/\">world</a>\\n            \\n        </div>\\n    </div>\\n\\n    <div class=\"quote\" itemscope itemtype=\"http://schema.org/CreativeWork\">\\n        <span class=\"text\" itemprop=\"text\">“It is our choices, Harry, that show what we truly are, far more than our abilities.”</span>\\n        <span>by <small class=\"author\" itemprop=\"author\">J.K. Rowling</small>\\n        <a href=\"/author/J-K-Rowling\">(about)</a>\\n        </span>\\n        <div class=\"tags\">\\n            Tags:\\n            <meta class=\"keywords\" itemprop=\"keywords\" content=\"abilities,choices\" /    > \\n            \\n            <a class=\"tag\" href=\"/tag/abilities/page/1/\">abilities</a>\\n            \\n            <a class=\"tag\" href=\"/tag/choices/page/1/\">choices</a>\\n            \\n        </div>\\n    </div>\\n\\n    <div class=\"quote\" itemscope itemtype=\"http://schema.org/CreativeWork\">\\n        <span class=\"text\" itemprop=\"text\">“There are only two ways to live your life. One is as though nothing is a miracle. The other is as though everything is a miracle.”</span>\\n        <span>by <small class=\"author\" itemprop=\"author\">Albert Einstein</small>\\n        <a href=\"/author/Albert-Einstein\">(about)</a>\\n        </span>\\n        <div class=\"tags\">\\n            Tags:\\n            <meta class=\"keywords\" itemprop=\"keywords\" content=\"inspirational,life,live,miracle,miracles\" /    > \\n            \\n            <a class=\"tag\" href=\"/tag/inspirational/page/1/\">inspirational</a>\\n            \\n            <a class=\"tag\" href=\"/tag/life/page/1/\">life</a>\\n            \\n            <a class=\"tag\" href=\"/tag/live/page/1/\">live</a>\\n            \\n            <a class=\"tag\" href=\"/tag/miracle/page/1/\">miracle</a>\\n            \\n            <a class=\"tag\" href=\"/tag/miracles/page/1/\">miracles</a>\\n            \\n        </div>\\n    </div>\\n\\n    <div class=\"quote\" itemscope itemtype=\"http://schema.org/CreativeWork\">\\n        <span class=\"text\" itemprop=\"text\">“The person, be it gentleman or lady, who has not pleasure in a good novel, must be intolerably stupid.”</span>\\n        <span>by <small class=\"author\" itemprop=\"author\">Jane Austen</small>\\n        <a href=\"/author/Jane-Austen\">(about)</a>\\n        </span>\\n        <div class=\"tags\">\\n            Tags:\\n            <meta class=\"keywords\" itemprop=\"keywords\" content=\"aliteracy,books,classic,humor\" /    > \\n            \\n            <a class=\"tag\" href=\"/tag/aliteracy/page/1/\">aliteracy</a>\\n            \\n            <a class=\"tag\" href=\"/tag/books/page/1/\">books</a>\\n            \\n            <a class=\"tag\" href=\"/tag/classic/page/1/\">classic</a>\\n            \\n            <a class=\"tag\" href=\"/tag/humor/page/1/\">humor</a>\\n            \\n        </div>\\n    </div>\\n\\n    <div class=\"quote\" itemscope itemtype=\"http://schema.org/CreativeWork\">\\n        <span class=\"text\" itemprop=\"text\">“Imperfection is beauty, madness is genius and it&#39;s better to be absolutely ridiculous than absolutely boring.”</span>\\n        <span>by <small class=\"author\" itemprop=\"author\">Marilyn Monroe</small>\\n        <a href=\"/author/Marilyn-Monroe\">(about)</a>\\n        </span>\\n        <div class=\"tags\">\\n            Tags:\\n            <meta class=\"keywords\" itemprop=\"keywords\" content=\"be-yourself,inspirational\" /    > \\n            \\n            <a class=\"tag\" href=\"/tag/be-yourself/page/1/\">be-yourself</a>\\n            \\n            <a class=\"tag\" href=\"/tag/inspirational/page/1/\">inspirational</a>\\n            \\n        </div>\\n    </div>\\n\\n    <div class=\"quote\" itemscope itemtype=\"http://schema.org/CreativeWork\">\\n        <span class=\"text\" itemprop=\"text\">“Try not to become a man of success. Rather become a man of value.”</span>\\n        <span>by <small class=\"author\" itemprop=\"author\">Albert Einstein</small>\\n        <a href=\"/author/Albert-Einstein\">(about)</a>\\n        </span>\\n        <div class=\"tags\">\\n            Tags:\\n            <meta class=\"keywords\" itemprop=\"keywords\" content=\"adulthood,success,value\" /    > \\n            \\n            <a class=\"tag\" href=\"/tag/adulthood/page/1/\">adulthood</a>\\n            \\n            <a class=\"tag\" href=\"/tag/success/page/1/\">success</a>\\n            \\n            <a class=\"tag\" href=\"/tag/value/page/1/\">value</a>\\n            \\n        </div>\\n    </div>\\n\\n    <div class=\"quote\" itemscope itemtype=\"http://schema.org/CreativeWork\">\\n        <span class=\"text\" itemprop=\"text\">“It is better to be hated for what you are than to be loved for what you are not.”</span>\\n        <span>by <small class=\"author\" itemprop=\"author\">André Gide</small>\\n        <a href=\"/author/Andre-Gide\">(about)</a>\\n        </span>\\n        <div class=\"tags\">\\n            Tags:\\n            <meta class=\"keywords\" itemprop=\"keywords\" content=\"life,love\" /    > \\n            \\n            <a class=\"tag\" href=\"/tag/life/page/1/\">life</a>\\n            \\n            <a class=\"tag\" href=\"/tag/love/page/1/\">love</a>\\n            \\n        </div>\\n    </div>\\n\\n    <div class=\"quote\" itemscope itemtype=\"http://schema.org/CreativeWork\">\\n        <span class=\"text\" itemprop=\"text\">“I have not failed. I&#39;ve just found 10,000 ways that won&#39;t work.”</span>\\n        <span>by <small class=\"author\" itemprop=\"author\">Thomas A. Edison</small>\\n        <a href=\"/author/Thomas-A-Edison\">(about)</a>\\n        </span>\\n        <div class=\"tags\">\\n            Tags:\\n            <meta class=\"keywords\" itemprop=\"keywords\" content=\"edison,failure,inspirational,paraphrased\" /    > \\n            \\n            <a class=\"tag\" href=\"/tag/edison/page/1/\">edison</a>\\n            \\n            <a class=\"tag\" href=\"/tag/failure/page/1/\">failure</a>\\n            \\n            <a class=\"tag\" href=\"/tag/inspirational/page/1/\">inspirational</a>\\n            \\n            <a class=\"tag\" href=\"/tag/paraphrased/page/1/\">paraphrased</a>\\n            \\n        </div>\\n    </div>\\n\\n    <div class=\"quote\" itemscope itemtype=\"http://schema.org/CreativeWork\">\\n        <span class=\"text\" itemprop=\"text\">“A woman is like a tea bag; you never know how strong it is until it&#39;s in hot water.”</span>\\n        <span>by <small class=\"author\" itemprop=\"author\">Eleanor Roosevelt</small>\\n        <a href=\"/author/Eleanor-Roosevelt\">(about)</a>\\n        </span>\\n        <div class=\"tags\">\\n            Tags:\\n            <meta class=\"keywords\" itemprop=\"keywords\" content=\"misattributed-eleanor-roosevelt\" /    > \\n            \\n            <a class=\"tag\" href=\"/tag/misattributed-eleanor-roosevelt/page/1/\">misattributed-eleanor-roosevelt</a>\\n            \\n        </div>\\n    </div>\\n\\n    <div class=\"quote\" itemscope itemtype=\"http://schema.org/CreativeWork\">\\n        <span class=\"text\" itemprop=\"text\">“A day without sunshine is like, you know, night.”</span>\\n        <span>by <small class=\"author\" itemprop=\"author\">Steve Martin</small>\\n        <a href=\"/author/Steve-Martin\">(about)</a>\\n        </span>\\n        <div class=\"tags\">\\n            Tags:\\n            <meta class=\"keywords\" itemprop=\"keywords\" content=\"humor,obvious,simile\" /    > \\n            \\n            <a class=\"tag\" href=\"/tag/humor/page/1/\">humor</a>\\n            \\n            <a class=\"tag\" href=\"/tag/obvious/page/1/\">obvious</a>\\n            \\n            <a class=\"tag\" href=\"/tag/simile/page/1/\">simile</a>\\n            \\n        </div>\\n    </div>\\n\\n    <nav>\\n        <ul class=\"pager\">\\n            \\n            \\n            <li class=\"next\">\\n                <a href=\"/page/2/\">Next <span aria-hidden=\"true\">&rarr;</span></a>\\n            </li>\\n            \\n        </ul>\\n    </nav>\\n    </div>\\n    <div class=\"col-md-4 tags-box\">\\n        \\n            <h2>Top Ten tags</h2>\\n            \\n            <span class=\"tag-item\">\\n            <a class=\"tag\" style=\"font-size: 28px\" href=\"/tag/love/\">love</a>\\n            </span>\\n            \\n            <span class=\"tag-item\">\\n            <a class=\"tag\" style=\"font-size: 26px\" href=\"/tag/inspirational/\">inspirational</a>\\n            </span>\\n            \\n            <span class=\"tag-item\">\\n            <a class=\"tag\" style=\"font-size: 26px\" href=\"/tag/life/\">life</a>\\n            </span>\\n            \\n            <span class=\"tag-item\">\\n            <a class=\"tag\" style=\"font-size: 24px\" href=\"/tag/humor/\">humor</a>\\n            </span>\\n            \\n            <span class=\"tag-item\">\\n            <a class=\"tag\" style=\"font-size: 22px\" href=\"/tag/books/\">books</a>\\n            </span>\\n            \\n            <span class=\"tag-item\">\\n            <a class=\"tag\" style=\"font-size: 14px\" href=\"/tag/reading/\">reading</a>\\n            </span>\\n            \\n            <span class=\"tag-item\">\\n            <a class=\"tag\" style=\"font-size: 10px\" href=\"/tag/friendship/\">friendship</a>\\n            </span>\\n            \\n            <span class=\"tag-item\">\\n            <a class=\"tag\" style=\"font-size: 8px\" href=\"/tag/friends/\">friends</a>\\n            </span>\\n            \\n            <span class=\"tag-item\">\\n            <a class=\"tag\" style=\"font-size: 8px\" href=\"/tag/truth/\">truth</a>\\n            </span>\\n            \\n            <span class=\"tag-item\">\\n            <a class=\"tag\" style=\"font-size: 6px\" href=\"/tag/simile/\">simile</a>\\n            </span>\\n            \\n        \\n    </div>\\n</div>\\n\\n    </div>\\n    <footer class=\"footer\">\\n        <div class=\"container\">\\n            <p class=\"text-muted\">\\n                Quotes by: <a href=\"https://www.goodreads.com/quotes\">GoodReads.com</a>\\n            </p>\\n            <p class=\"copyright\">\\n                Made with <span class=\\'sh-red\\'>❤</span> by <a href=\"https://scrapinghub.com\">Scrapinghub</a>\\n            </p>\\n        </div>\\n    </footer>\\n</body>\\n</html>'"
      ]
     },
     "execution_count": 32,
     "metadata": {},
     "output_type": "execute_result"
    }
   ],
   "source": []
  },
  {
   "cell_type": "markdown",
   "metadata": {},
   "source": [
    "**TASK 2: Get the names of all the authors on the first page.**"
   ]
  },
  {
   "cell_type": "code",
   "execution_count": 3,
   "metadata": {},
   "outputs": [
    {
     "name": "stdout",
     "output_type": "stream",
     "text": [
      "['Albert Einstein', 'J.K. Rowling', 'Albert Einstein', 'Jane Austen', 'Marilyn Monroe', 'Albert Einstein', 'André Gide', 'Thomas A. Edison', 'Eleanor Roosevelt', 'Steve Martin']\n"
     ]
    }
   ],
   "source": [
    "# See (a) below for where fp_html and quote_lst come from\n",
    "# Recall that we have to study the structure of one quote, see (b) for example_quote = quote_lst[0]\n",
    "# Part (c) below is how we get the author of a quote:\n",
    "# example_author = example_quote.select(\".author\")[0].getText()\n",
    "\n",
    "quote_lst = fp_html.select(\".quote\")\n",
    "fp_authors = []\n",
    "\n",
    "for q in quote_lst:\n",
    "    fp_authors.append(q.select(\".author\")[0].getText())\n",
    "    \n",
    "print(fp_authors)   \n",
    "    "
   ]
  },
  {
   "cell_type": "code",
   "execution_count": 37,
   "metadata": {},
   "outputs": [
    {
     "data": {
      "text/plain": [
       "{'Albert Einstein',\n",
       " 'André Gide',\n",
       " 'Eleanor Roosevelt',\n",
       " 'J.K. Rowling',\n",
       " 'Jane Austen',\n",
       " 'Marilyn Monroe',\n",
       " 'Steve Martin',\n",
       " 'Thomas A. Edison'}"
      ]
     },
     "execution_count": 37,
     "metadata": {},
     "output_type": "execute_result"
    }
   ],
   "source": [
    "authors"
   ]
  },
  {
   "cell_type": "markdown",
   "metadata": {},
   "source": [
    "**TASK 3: Create a list of all the quotes on the first page.**"
   ]
  },
  {
   "cell_type": "code",
   "execution_count": 4,
   "metadata": {},
   "outputs": [
    {
     "name": "stdout",
     "output_type": "stream",
     "text": [
      "“The world as we have created it is a process of our thinking. It cannot be changed without changing our thinking.”\n",
      "“It is our choices, Harry, that show what we truly are, far more than our abilities.”\n",
      "“There are only two ways to live your life. One is as though nothing is a miracle. The other is as though everything is a miracle.”\n",
      "“The person, be it gentleman or lady, who has not pleasure in a good novel, must be intolerably stupid.”\n",
      "“Imperfection is beauty, madness is genius and it's better to be absolutely ridiculous than absolutely boring.”\n",
      "“Try not to become a man of success. Rather become a man of value.”\n",
      "“It is better to be hated for what you are than to be loved for what you are not.”\n",
      "“I have not failed. I've just found 10,000 ways that won't work.”\n",
      "“A woman is like a tea bag; you never know how strong it is until it's in hot water.”\n",
      "“A day without sunshine is like, you know, night.”\n"
     ]
    }
   ],
   "source": [
    "# See (e) below for how we arrive at the following sequence of calls:\n",
    "# example_quote.select(\".text\")[0].getText()\n",
    "fp_quotes = []\n",
    "for q in quote_lst:\n",
    "    fp_quotes.append(q.select(\".text\")[0].getText())\n",
    "    \n",
    "for q in fp_quotes:\n",
    "    print(q)\n"
   ]
  },
  {
   "cell_type": "code",
   "execution_count": 15,
   "metadata": {},
   "outputs": [
    {
     "data": {
      "text/plain": [
       "['“The world as we have created it is a process of our thinking. It cannot be changed without changing our thinking.”',\n",
       " '“It is our choices, Harry, that show what we truly are, far more than our abilities.”',\n",
       " '“There are only two ways to live your life. One is as though nothing is a miracle. The other is as though everything is a miracle.”',\n",
       " '“The person, be it gentleman or lady, who has not pleasure in a good novel, must be intolerably stupid.”',\n",
       " \"“Imperfection is beauty, madness is genius and it's better to be absolutely ridiculous than absolutely boring.”\",\n",
       " '“Try not to become a man of success. Rather become a man of value.”',\n",
       " '“It is better to be hated for what you are than to be loved for what you are not.”',\n",
       " \"“I have not failed. I've just found 10,000 ways that won't work.”\",\n",
       " \"“A woman is like a tea bag; you never know how strong it is until it's in hot water.”\",\n",
       " '“A day without sunshine is like, you know, night.”']"
      ]
     },
     "execution_count": 15,
     "metadata": {},
     "output_type": "execute_result"
    }
   ],
   "source": [
    "quotes"
   ]
  },
  {
   "cell_type": "markdown",
   "metadata": {},
   "source": [
    "**TASK 4: Inspect the site and use Beautiful Soup to extract the top ten tags from the requests text shown on the top right from the home page (e.g Love,Inspirational,Life, etc...). HINT: Keep in mind there are also tags underneath each quote, try to find a class only present in the top right tags, perhaps check the span.**"
   ]
  },
  {
   "cell_type": "code",
   "execution_count": 7,
   "metadata": {},
   "outputs": [],
   "source": [
    "# Div class I'm looking for \"col-md-4 tags-box\"\n",
    "top_10_tags_div = fp_html.select(\".col-md-4.tags-box\")[0]"
   ]
  },
  {
   "cell_type": "code",
   "execution_count": 9,
   "metadata": {},
   "outputs": [
    {
     "name": "stdout",
     "output_type": "stream",
     "text": [
      "love\n",
      "inspirational\n",
      "life\n",
      "humor\n",
      "books\n",
      "reading\n",
      "friendship\n",
      "friends\n",
      "truth\n",
      "simile\n"
     ]
    }
   ],
   "source": [
    "top_10_tags_div_a = top_10_tags_div.find_all(\"a\")\n",
    "top_10_tags_lst = []\n",
    "for a in top_10_tags_div_a:\n",
    "    top_10_tags_lst.append(a.getText())\n",
    "\n",
    "for t in top_10_tags_lst:\n",
    "    print(t)"
   ]
  },
  {
   "cell_type": "code",
   "execution_count": 86,
   "metadata": {},
   "outputs": [
    {
     "data": {
      "text/plain": [
       "True"
      ]
     },
     "execution_count": 86,
     "metadata": {},
     "output_type": "execute_result"
    }
   ],
   "source": [
    "\"love\" in top_10_tags_lst"
   ]
  },
  {
   "cell_type": "markdown",
   "metadata": {},
   "source": [
    "## **Exercise 2: All pages of website**\n",
    "\n",
    "Notice how there is more than one page, and subsequent pages look like this http://quotes.toscrape.com/page/2/. \n",
    "\n",
    "**Use what you know about for loops and string concatenation to loop through all the pages and get all the unique authors on the website.**\n",
    "\n",
    "Keep in mind there are many ways to achieve this, also note that you will need to somehow figure out how to check that your loop is on the last page with quotes. For debugging purposes, I will let you know that there are only 10 pages, so the last page is http://quotes.toscrape.com/page/10/, but try to create a loop that is robust enough that it wouldn't matter to know the amount of pages beforehand, perhaps use try/except for this, its up to you!"
   ]
  },
  {
   "cell_type": "code",
   "execution_count": 15,
   "metadata": {
    "scrolled": true
   },
   "outputs": [
    {
     "name": "stdout",
     "output_type": "stream",
     "text": [
      "Page number is n_page=1,\n",
      "Number of quotes is len(page_quote_lst) = 10\n",
      "Found a new author: Albert Einstein\n",
      "Found a new author: J.K. Rowling\n",
      "Found a new author: Jane Austen\n",
      "Found a new author: Marilyn Monroe\n",
      "Found a new author: André Gide\n",
      "Found a new author: Thomas A. Edison\n",
      "Found a new author: Eleanor Roosevelt\n",
      "Found a new author: Steve Martin\n",
      "Page number is n_page=2,\n",
      "Number of quotes is len(page_quote_lst) = 10\n",
      "Found a new author: Bob Marley\n",
      "Found a new author: Dr. Seuss\n",
      "Found a new author: Douglas Adams\n",
      "Found a new author: Elie Wiesel\n",
      "Found a new author: Friedrich Nietzsche\n",
      "Found a new author: Mark Twain\n",
      "Found a new author: Allen Saunders\n",
      "Page number is n_page=3,\n",
      "Number of quotes is len(page_quote_lst) = 10\n",
      "Found a new author: Pablo Neruda\n",
      "Found a new author: Ralph Waldo Emerson\n",
      "Found a new author: Mother Teresa\n",
      "Found a new author: Garrison Keillor\n",
      "Found a new author: Jim Henson\n",
      "Page number is n_page=4,\n",
      "Number of quotes is len(page_quote_lst) = 10\n",
      "Found a new author: Charles M. Schulz\n",
      "Found a new author: William Nicholson\n",
      "Found a new author: Jorge Luis Borges\n",
      "Found a new author: George Eliot\n",
      "Page number is n_page=5,\n",
      "Number of quotes is len(page_quote_lst) = 10\n",
      "Found a new author: George R.R. Martin\n",
      "Found a new author: C.S. Lewis\n",
      "Found a new author: Martin Luther King Jr.\n",
      "Found a new author: James Baldwin\n",
      "Page number is n_page=6,\n",
      "Number of quotes is len(page_quote_lst) = 10\n",
      "Found a new author: Haruki Murakami\n",
      "Found a new author: Alexandre Dumas fils\n",
      "Found a new author: Stephenie Meyer\n",
      "Found a new author: Ernest Hemingway\n",
      "Found a new author: Helen Keller\n",
      "Found a new author: George Bernard Shaw\n",
      "Page number is n_page=7,\n",
      "Number of quotes is len(page_quote_lst) = 10\n",
      "Found a new author: Charles Bukowski\n",
      "Found a new author: Suzanne Collins\n",
      "Found a new author: J.R.R. Tolkien\n",
      "Page number is n_page=8,\n",
      "Number of quotes is len(page_quote_lst) = 10\n",
      "Found a new author: Alfred Tennyson\n",
      "Found a new author: Terry Pratchett\n",
      "Found a new author: J.D. Salinger\n",
      "Found a new author: George Carlin\n",
      "Found a new author: John Lennon\n",
      "Found a new author: W.C. Fields\n",
      "Found a new author: Ayn Rand\n",
      "Page number is n_page=9,\n",
      "Number of quotes is len(page_quote_lst) = 10\n",
      "Page number is n_page=10,\n",
      "Number of quotes is len(page_quote_lst) = 10\n",
      "Found a new author: Jimi Hendrix\n",
      "Found a new author: J.M. Barrie\n",
      "Found a new author: E.E. Cummings\n",
      "Found a new author: Khaled Hosseini\n",
      "Found a new author: Harper Lee\n",
      "Found a new author: Madeleine L'Engle\n",
      "Page number is n_page=11,\n",
      "Number of quotes is len(page_quote_lst) = 0\n",
      "Page 11 of quotes.toscrape.com has no quotes.\n"
     ]
    }
   ],
   "source": [
    "## We want all authors\n",
    "\n",
    "## Initializations ##\n",
    "# Page number\n",
    "n_page = 1\n",
    "# While loop Boolean\n",
    "page_exists = True\n",
    "# Author list\n",
    "authors_lst = []\n",
    "\n",
    "while page_exists:\n",
    "    page_url = f\"https://quotes.toscrape.com/page/{n_page}/\"\n",
    "    \n",
    "    # Scrape page and parse with lxml\n",
    "    page_request = requests.get(page_url)\n",
    "    page_html = bs4.BeautifulSoup(page_request.text,\"lxml\")\n",
    "    \n",
    "    # Extract all quotes from page. \n",
    "    ## The length of this list will give the stopping condition of the while loop\n",
    "    page_quote_lst = page_html.select(\".quote\")\n",
    "    \n",
    "    ### DEBUG\n",
    "    print(f\"Page number is n_page={n_page},\")\n",
    "    print(f\"Number of quotes is len(page_quote_lst) = {len(page_quote_lst)}\")\n",
    "    \n",
    "    if len(page_quote_lst) != 0:\n",
    "        # For each quote in the list\n",
    "        for quote in page_quote_lst:\n",
    "            # Check rating and add to titles_rated3_lst if 3 star\n",
    "            temp_author = quote.select(\".author\")[0].getText()\n",
    "            if not ( temp_author in authors_lst ):\n",
    "                \n",
    "                authors_lst.append(temp_author)\n",
    "                ### DEBUG\n",
    "                print(f\"Found a new author: {temp_author}\")\n",
    "            \n",
    "        # Increment page number\n",
    "        n_page += 1 \n",
    "        \n",
    "    else:\n",
    "        page_exists = False\n",
    "        print(f\"Page {n_page} of quotes.toscrape.com has no quotes.\")\n"
   ]
  },
  {
   "cell_type": "code",
   "execution_count": null,
   "metadata": {},
   "outputs": [],
   "source": []
  },
  {
   "cell_type": "code",
   "execution_count": null,
   "metadata": {},
   "outputs": [],
   "source": []
  },
  {
   "cell_type": "code",
   "execution_count": 16,
   "metadata": {},
   "outputs": [
    {
     "name": "stdout",
     "output_type": "stream",
     "text": [
      "List of quote authors on quotes.toscrape.com:\n",
      "\n",
      "- Albert Einstein\n",
      "- J.K. Rowling\n",
      "- Jane Austen\n",
      "- Marilyn Monroe\n",
      "- André Gide\n",
      "- Thomas A. Edison\n",
      "- Eleanor Roosevelt\n",
      "- Steve Martin\n",
      "- Bob Marley\n",
      "- Dr. Seuss\n",
      "- Douglas Adams\n",
      "- Elie Wiesel\n",
      "- Friedrich Nietzsche\n",
      "- Mark Twain\n",
      "- Allen Saunders\n",
      "- Pablo Neruda\n",
      "- Ralph Waldo Emerson\n",
      "- Mother Teresa\n",
      "- Garrison Keillor\n",
      "- Jim Henson\n",
      "- Charles M. Schulz\n",
      "- William Nicholson\n",
      "- Jorge Luis Borges\n",
      "- George Eliot\n",
      "- George R.R. Martin\n",
      "- C.S. Lewis\n",
      "- Martin Luther King Jr.\n",
      "- James Baldwin\n",
      "- Haruki Murakami\n",
      "- Alexandre Dumas fils\n",
      "- Stephenie Meyer\n",
      "- Ernest Hemingway\n",
      "- Helen Keller\n",
      "- George Bernard Shaw\n",
      "- Charles Bukowski\n",
      "- Suzanne Collins\n",
      "- J.R.R. Tolkien\n",
      "- Alfred Tennyson\n",
      "- Terry Pratchett\n",
      "- J.D. Salinger\n",
      "- George Carlin\n",
      "- John Lennon\n",
      "- W.C. Fields\n",
      "- Ayn Rand\n",
      "- Jimi Hendrix\n",
      "- J.M. Barrie\n",
      "- E.E. Cummings\n",
      "- Khaled Hosseini\n",
      "- Harper Lee\n",
      "- Madeleine L'Engle\n"
     ]
    }
   ],
   "source": [
    "# Print result. Should get 10 pages of quotes\n",
    "print(\"List of quote authors on quotes.toscrape.com:\\n\")\n",
    "for auth in authors_lst:\n",
    "    print(f\"- {auth}\")"
   ]
  },
  {
   "cell_type": "markdown",
   "metadata": {},
   "source": [
    "There are lots of other potential solutions that are even more robust and flexible, the main idea is the same though, use a while loop to cycle through potential pages and have a break condition based on the invalid page."
   ]
  },
  {
   "cell_type": "markdown",
   "metadata": {},
   "source": [
    "____________________________________"
   ]
  },
  {
   "cell_type": "markdown",
   "metadata": {},
   "source": [
    "## Scrap work:\n",
    "\n",
    "This part is the scrap work necessary to understand the data structures of this website."
   ]
  },
  {
   "cell_type": "code",
   "execution_count": 4,
   "metadata": {},
   "outputs": [],
   "source": [
    "# Scrape first page and non-existent page\n",
    "ini_req = requests.get(\"https://quotes.toscrape.com/\")\n",
    "nep_req = requests.get(\"https://quotes.toscrape.com/page/100/\")\n",
    "# Convert first page to HTML\n",
    "fp_html = bs4.BeautifulSoup(ini_req.text,\"lxml\")\n",
    "nep_html = bs4.BeautifulSoup(nep_req.text,\"lxml\")"
   ]
  },
  {
   "cell_type": "markdown",
   "metadata": {},
   "source": [
    "**a) HTML of first page**"
   ]
  },
  {
   "cell_type": "code",
   "execution_count": 3,
   "metadata": {},
   "outputs": [
    {
     "name": "stdout",
     "output_type": "stream",
     "text": [
      "<!DOCTYPE html>\n",
      "<html lang=\"en\">\n",
      " <head>\n",
      "  <meta charset=\"utf-8\"/>\n",
      "  <title>\n",
      "   Quotes to Scrape\n",
      "  </title>\n",
      "  <link href=\"/static/bootstrap.min.css\" rel=\"stylesheet\"/>\n",
      "  <link href=\"/static/main.css\" rel=\"stylesheet\"/>\n",
      " </head>\n",
      " <body>\n",
      "  <div class=\"container\">\n",
      "   <div class=\"row header-box\">\n",
      "    <div class=\"col-md-8\">\n",
      "     <h1>\n",
      "      <a href=\"/\" style=\"text-decoration: none\">\n",
      "       Quotes to Scrape\n",
      "      </a>\n",
      "     </h1>\n",
      "    </div>\n",
      "    <div class=\"col-md-4\">\n",
      "     <p>\n",
      "      <a href=\"/login\">\n",
      "       Login\n",
      "      </a>\n",
      "     </p>\n",
      "    </div>\n",
      "   </div>\n",
      "   <div class=\"row\">\n",
      "    <div class=\"col-md-8\">\n",
      "     <div class=\"quote\" itemscope=\"\" itemtype=\"http://schema.org/CreativeWork\">\n",
      "      <span class=\"text\" itemprop=\"text\">\n",
      "       “The world as we have created it is a process of our thinking. It cannot be changed without changing our thinking.”\n",
      "      </span>\n",
      "      <span>\n",
      "       by\n",
      "       <small class=\"author\" itemprop=\"author\">\n",
      "        Albert Einstein\n",
      "       </small>\n",
      "       <a href=\"/author/Albert-Einstein\">\n",
      "        (about)\n",
      "       </a>\n",
      "      </span>\n",
      "      <div class=\"tags\">\n",
      "       Tags:\n",
      "       <meta class=\"keywords\" content=\"change,deep-thoughts,thinking,world\" itemprop=\"keywords\"/>\n",
      "       <a class=\"tag\" href=\"/tag/change/page/1/\">\n",
      "        change\n",
      "       </a>\n",
      "       <a class=\"tag\" href=\"/tag/deep-thoughts/page/1/\">\n",
      "        deep-thoughts\n",
      "       </a>\n",
      "       <a class=\"tag\" href=\"/tag/thinking/page/1/\">\n",
      "        thinking\n",
      "       </a>\n",
      "       <a class=\"tag\" href=\"/tag/world/page/1/\">\n",
      "        world\n",
      "       </a>\n",
      "      </div>\n",
      "     </div>\n",
      "     <div class=\"quote\" itemscope=\"\" itemtype=\"http://schema.org/CreativeWork\">\n",
      "      <span class=\"text\" itemprop=\"text\">\n",
      "       “It is our choices, Harry, that show what we truly are, far more than our abilities.”\n",
      "      </span>\n",
      "      <span>\n",
      "       by\n",
      "       <small class=\"author\" itemprop=\"author\">\n",
      "        J.K. Rowling\n",
      "       </small>\n",
      "       <a href=\"/author/J-K-Rowling\">\n",
      "        (about)\n",
      "       </a>\n",
      "      </span>\n",
      "      <div class=\"tags\">\n",
      "       Tags:\n",
      "       <meta class=\"keywords\" content=\"abilities,choices\" itemprop=\"keywords\"/>\n",
      "       <a class=\"tag\" href=\"/tag/abilities/page/1/\">\n",
      "        abilities\n",
      "       </a>\n",
      "       <a class=\"tag\" href=\"/tag/choices/page/1/\">\n",
      "        choices\n",
      "       </a>\n",
      "      </div>\n",
      "     </div>\n",
      "     <div class=\"quote\" itemscope=\"\" itemtype=\"http://schema.org/CreativeWork\">\n",
      "      <span class=\"text\" itemprop=\"text\">\n",
      "       “There are only two ways to live your life. One is as though nothing is a miracle. The other is as though everything is a miracle.”\n",
      "      </span>\n",
      "      <span>\n",
      "       by\n",
      "       <small class=\"author\" itemprop=\"author\">\n",
      "        Albert Einstein\n",
      "       </small>\n",
      "       <a href=\"/author/Albert-Einstein\">\n",
      "        (about)\n",
      "       </a>\n",
      "      </span>\n",
      "      <div class=\"tags\">\n",
      "       Tags:\n",
      "       <meta class=\"keywords\" content=\"inspirational,life,live,miracle,miracles\" itemprop=\"keywords\"/>\n",
      "       <a class=\"tag\" href=\"/tag/inspirational/page/1/\">\n",
      "        inspirational\n",
      "       </a>\n",
      "       <a class=\"tag\" href=\"/tag/life/page/1/\">\n",
      "        life\n",
      "       </a>\n",
      "       <a class=\"tag\" href=\"/tag/live/page/1/\">\n",
      "        live\n",
      "       </a>\n",
      "       <a class=\"tag\" href=\"/tag/miracle/page/1/\">\n",
      "        miracle\n",
      "       </a>\n",
      "       <a class=\"tag\" href=\"/tag/miracles/page/1/\">\n",
      "        miracles\n",
      "       </a>\n",
      "      </div>\n",
      "     </div>\n",
      "     <div class=\"quote\" itemscope=\"\" itemtype=\"http://schema.org/CreativeWork\">\n",
      "      <span class=\"text\" itemprop=\"text\">\n",
      "       “The person, be it gentleman or lady, who has not pleasure in a good novel, must be intolerably stupid.”\n",
      "      </span>\n",
      "      <span>\n",
      "       by\n",
      "       <small class=\"author\" itemprop=\"author\">\n",
      "        Jane Austen\n",
      "       </small>\n",
      "       <a href=\"/author/Jane-Austen\">\n",
      "        (about)\n",
      "       </a>\n",
      "      </span>\n",
      "      <div class=\"tags\">\n",
      "       Tags:\n",
      "       <meta class=\"keywords\" content=\"aliteracy,books,classic,humor\" itemprop=\"keywords\"/>\n",
      "       <a class=\"tag\" href=\"/tag/aliteracy/page/1/\">\n",
      "        aliteracy\n",
      "       </a>\n",
      "       <a class=\"tag\" href=\"/tag/books/page/1/\">\n",
      "        books\n",
      "       </a>\n",
      "       <a class=\"tag\" href=\"/tag/classic/page/1/\">\n",
      "        classic\n",
      "       </a>\n",
      "       <a class=\"tag\" href=\"/tag/humor/page/1/\">\n",
      "        humor\n",
      "       </a>\n",
      "      </div>\n",
      "     </div>\n",
      "     <div class=\"quote\" itemscope=\"\" itemtype=\"http://schema.org/CreativeWork\">\n",
      "      <span class=\"text\" itemprop=\"text\">\n",
      "       “Imperfection is beauty, madness is genius and it's better to be absolutely ridiculous than absolutely boring.”\n",
      "      </span>\n",
      "      <span>\n",
      "       by\n",
      "       <small class=\"author\" itemprop=\"author\">\n",
      "        Marilyn Monroe\n",
      "       </small>\n",
      "       <a href=\"/author/Marilyn-Monroe\">\n",
      "        (about)\n",
      "       </a>\n",
      "      </span>\n",
      "      <div class=\"tags\">\n",
      "       Tags:\n",
      "       <meta class=\"keywords\" content=\"be-yourself,inspirational\" itemprop=\"keywords\"/>\n",
      "       <a class=\"tag\" href=\"/tag/be-yourself/page/1/\">\n",
      "        be-yourself\n",
      "       </a>\n",
      "       <a class=\"tag\" href=\"/tag/inspirational/page/1/\">\n",
      "        inspirational\n",
      "       </a>\n",
      "      </div>\n",
      "     </div>\n",
      "     <div class=\"quote\" itemscope=\"\" itemtype=\"http://schema.org/CreativeWork\">\n",
      "      <span class=\"text\" itemprop=\"text\">\n",
      "       “Try not to become a man of success. Rather become a man of value.”\n",
      "      </span>\n",
      "      <span>\n",
      "       by\n",
      "       <small class=\"author\" itemprop=\"author\">\n",
      "        Albert Einstein\n",
      "       </small>\n",
      "       <a href=\"/author/Albert-Einstein\">\n",
      "        (about)\n",
      "       </a>\n",
      "      </span>\n",
      "      <div class=\"tags\">\n",
      "       Tags:\n",
      "       <meta class=\"keywords\" content=\"adulthood,success,value\" itemprop=\"keywords\"/>\n",
      "       <a class=\"tag\" href=\"/tag/adulthood/page/1/\">\n",
      "        adulthood\n",
      "       </a>\n",
      "       <a class=\"tag\" href=\"/tag/success/page/1/\">\n",
      "        success\n",
      "       </a>\n",
      "       <a class=\"tag\" href=\"/tag/value/page/1/\">\n",
      "        value\n",
      "       </a>\n",
      "      </div>\n",
      "     </div>\n",
      "     <div class=\"quote\" itemscope=\"\" itemtype=\"http://schema.org/CreativeWork\">\n",
      "      <span class=\"text\" itemprop=\"text\">\n",
      "       “It is better to be hated for what you are than to be loved for what you are not.”\n",
      "      </span>\n",
      "      <span>\n",
      "       by\n",
      "       <small class=\"author\" itemprop=\"author\">\n",
      "        André Gide\n",
      "       </small>\n",
      "       <a href=\"/author/Andre-Gide\">\n",
      "        (about)\n",
      "       </a>\n",
      "      </span>\n",
      "      <div class=\"tags\">\n",
      "       Tags:\n",
      "       <meta class=\"keywords\" content=\"life,love\" itemprop=\"keywords\"/>\n",
      "       <a class=\"tag\" href=\"/tag/life/page/1/\">\n",
      "        life\n",
      "       </a>\n",
      "       <a class=\"tag\" href=\"/tag/love/page/1/\">\n",
      "        love\n",
      "       </a>\n",
      "      </div>\n",
      "     </div>\n",
      "     <div class=\"quote\" itemscope=\"\" itemtype=\"http://schema.org/CreativeWork\">\n",
      "      <span class=\"text\" itemprop=\"text\">\n",
      "       “I have not failed. I've just found 10,000 ways that won't work.”\n",
      "      </span>\n",
      "      <span>\n",
      "       by\n",
      "       <small class=\"author\" itemprop=\"author\">\n",
      "        Thomas A. Edison\n",
      "       </small>\n",
      "       <a href=\"/author/Thomas-A-Edison\">\n",
      "        (about)\n",
      "       </a>\n",
      "      </span>\n",
      "      <div class=\"tags\">\n",
      "       Tags:\n",
      "       <meta class=\"keywords\" content=\"edison,failure,inspirational,paraphrased\" itemprop=\"keywords\"/>\n",
      "       <a class=\"tag\" href=\"/tag/edison/page/1/\">\n",
      "        edison\n",
      "       </a>\n",
      "       <a class=\"tag\" href=\"/tag/failure/page/1/\">\n",
      "        failure\n",
      "       </a>\n",
      "       <a class=\"tag\" href=\"/tag/inspirational/page/1/\">\n",
      "        inspirational\n",
      "       </a>\n",
      "       <a class=\"tag\" href=\"/tag/paraphrased/page/1/\">\n",
      "        paraphrased\n",
      "       </a>\n",
      "      </div>\n",
      "     </div>\n",
      "     <div class=\"quote\" itemscope=\"\" itemtype=\"http://schema.org/CreativeWork\">\n",
      "      <span class=\"text\" itemprop=\"text\">\n",
      "       “A woman is like a tea bag; you never know how strong it is until it's in hot water.”\n",
      "      </span>\n",
      "      <span>\n",
      "       by\n",
      "       <small class=\"author\" itemprop=\"author\">\n",
      "        Eleanor Roosevelt\n",
      "       </small>\n",
      "       <a href=\"/author/Eleanor-Roosevelt\">\n",
      "        (about)\n",
      "       </a>\n",
      "      </span>\n",
      "      <div class=\"tags\">\n",
      "       Tags:\n",
      "       <meta class=\"keywords\" content=\"misattributed-eleanor-roosevelt\" itemprop=\"keywords\"/>\n",
      "       <a class=\"tag\" href=\"/tag/misattributed-eleanor-roosevelt/page/1/\">\n",
      "        misattributed-eleanor-roosevelt\n",
      "       </a>\n",
      "      </div>\n",
      "     </div>\n",
      "     <div class=\"quote\" itemscope=\"\" itemtype=\"http://schema.org/CreativeWork\">\n",
      "      <span class=\"text\" itemprop=\"text\">\n",
      "       “A day without sunshine is like, you know, night.”\n",
      "      </span>\n",
      "      <span>\n",
      "       by\n",
      "       <small class=\"author\" itemprop=\"author\">\n",
      "        Steve Martin\n",
      "       </small>\n",
      "       <a href=\"/author/Steve-Martin\">\n",
      "        (about)\n",
      "       </a>\n",
      "      </span>\n",
      "      <div class=\"tags\">\n",
      "       Tags:\n",
      "       <meta class=\"keywords\" content=\"humor,obvious,simile\" itemprop=\"keywords\"/>\n",
      "       <a class=\"tag\" href=\"/tag/humor/page/1/\">\n",
      "        humor\n",
      "       </a>\n",
      "       <a class=\"tag\" href=\"/tag/obvious/page/1/\">\n",
      "        obvious\n",
      "       </a>\n",
      "       <a class=\"tag\" href=\"/tag/simile/page/1/\">\n",
      "        simile\n",
      "       </a>\n",
      "      </div>\n",
      "     </div>\n",
      "     <nav>\n",
      "      <ul class=\"pager\">\n",
      "       <li class=\"next\">\n",
      "        <a href=\"/page/2/\">\n",
      "         Next\n",
      "         <span aria-hidden=\"true\">\n",
      "          →\n",
      "         </span>\n",
      "        </a>\n",
      "       </li>\n",
      "      </ul>\n",
      "     </nav>\n",
      "    </div>\n",
      "    <div class=\"col-md-4 tags-box\">\n",
      "     <h2>\n",
      "      Top Ten tags\n",
      "     </h2>\n",
      "     <span class=\"tag-item\">\n",
      "      <a class=\"tag\" href=\"/tag/love/\" style=\"font-size: 28px\">\n",
      "       love\n",
      "      </a>\n",
      "     </span>\n",
      "     <span class=\"tag-item\">\n",
      "      <a class=\"tag\" href=\"/tag/inspirational/\" style=\"font-size: 26px\">\n",
      "       inspirational\n",
      "      </a>\n",
      "     </span>\n",
      "     <span class=\"tag-item\">\n",
      "      <a class=\"tag\" href=\"/tag/life/\" style=\"font-size: 26px\">\n",
      "       life\n",
      "      </a>\n",
      "     </span>\n",
      "     <span class=\"tag-item\">\n",
      "      <a class=\"tag\" href=\"/tag/humor/\" style=\"font-size: 24px\">\n",
      "       humor\n",
      "      </a>\n",
      "     </span>\n",
      "     <span class=\"tag-item\">\n",
      "      <a class=\"tag\" href=\"/tag/books/\" style=\"font-size: 22px\">\n",
      "       books\n",
      "      </a>\n",
      "     </span>\n",
      "     <span class=\"tag-item\">\n",
      "      <a class=\"tag\" href=\"/tag/reading/\" style=\"font-size: 14px\">\n",
      "       reading\n",
      "      </a>\n",
      "     </span>\n",
      "     <span class=\"tag-item\">\n",
      "      <a class=\"tag\" href=\"/tag/friendship/\" style=\"font-size: 10px\">\n",
      "       friendship\n",
      "      </a>\n",
      "     </span>\n",
      "     <span class=\"tag-item\">\n",
      "      <a class=\"tag\" href=\"/tag/friends/\" style=\"font-size: 8px\">\n",
      "       friends\n",
      "      </a>\n",
      "     </span>\n",
      "     <span class=\"tag-item\">\n",
      "      <a class=\"tag\" href=\"/tag/truth/\" style=\"font-size: 8px\">\n",
      "       truth\n",
      "      </a>\n",
      "     </span>\n",
      "     <span class=\"tag-item\">\n",
      "      <a class=\"tag\" href=\"/tag/simile/\" style=\"font-size: 6px\">\n",
      "       simile\n",
      "      </a>\n",
      "     </span>\n",
      "    </div>\n",
      "   </div>\n",
      "  </div>\n",
      "  <footer class=\"footer\">\n",
      "   <div class=\"container\">\n",
      "    <p class=\"text-muted\">\n",
      "     Quotes by:\n",
      "     <a href=\"https://www.goodreads.com/quotes\">\n",
      "      GoodReads.com\n",
      "     </a>\n",
      "    </p>\n",
      "    <p class=\"copyright\">\n",
      "     Made with\n",
      "     <span class=\"sh-red\">\n",
      "      ❤\n",
      "     </span>\n",
      "     by\n",
      "     <a href=\"https://scrapinghub.com\">\n",
      "      Scrapinghub\n",
      "     </a>\n",
      "    </p>\n",
      "   </div>\n",
      "  </footer>\n",
      " </body>\n",
      "</html>\n"
     ]
    }
   ],
   "source": [
    "# Let's see the code of the first page\n",
    "print(fp_html.prettify())"
   ]
  },
  {
   "cell_type": "code",
   "execution_count": 18,
   "metadata": {},
   "outputs": [],
   "source": [
    "# From the HTML, it looks like the tag of interest is quote\n",
    "## This is different from the books exercise. We'll select the div class .quote\n",
    "quote_lst = fp_html.select(\".quote\")"
   ]
  },
  {
   "cell_type": "code",
   "execution_count": 19,
   "metadata": {
    "collapsed": true
   },
   "outputs": [
    {
     "name": "stdout",
     "output_type": "stream",
     "text": [
      "[<div class=\"quote\" itemscope=\"\" itemtype=\"http://schema.org/CreativeWork\">\n",
      "<span class=\"text\" itemprop=\"text\">“The world as we have created it is a process of our thinking. It cannot be changed without changing our thinking.”</span>\n",
      "<span>by <small class=\"author\" itemprop=\"author\">Albert Einstein</small>\n",
      "<a href=\"/author/Albert-Einstein\">(about)</a>\n",
      "</span>\n",
      "<div class=\"tags\">\n",
      "            Tags:\n",
      "            <meta class=\"keywords\" content=\"change,deep-thoughts,thinking,world\" itemprop=\"keywords\"/>\n",
      "<a class=\"tag\" href=\"/tag/change/page/1/\">change</a>\n",
      "<a class=\"tag\" href=\"/tag/deep-thoughts/page/1/\">deep-thoughts</a>\n",
      "<a class=\"tag\" href=\"/tag/thinking/page/1/\">thinking</a>\n",
      "<a class=\"tag\" href=\"/tag/world/page/1/\">world</a>\n",
      "</div>\n",
      "</div>, <div class=\"quote\" itemscope=\"\" itemtype=\"http://schema.org/CreativeWork\">\n",
      "<span class=\"text\" itemprop=\"text\">“It is our choices, Harry, that show what we truly are, far more than our abilities.”</span>\n",
      "<span>by <small class=\"author\" itemprop=\"author\">J.K. Rowling</small>\n",
      "<a href=\"/author/J-K-Rowling\">(about)</a>\n",
      "</span>\n",
      "<div class=\"tags\">\n",
      "            Tags:\n",
      "            <meta class=\"keywords\" content=\"abilities,choices\" itemprop=\"keywords\"/>\n",
      "<a class=\"tag\" href=\"/tag/abilities/page/1/\">abilities</a>\n",
      "<a class=\"tag\" href=\"/tag/choices/page/1/\">choices</a>\n",
      "</div>\n",
      "</div>, <div class=\"quote\" itemscope=\"\" itemtype=\"http://schema.org/CreativeWork\">\n",
      "<span class=\"text\" itemprop=\"text\">“There are only two ways to live your life. One is as though nothing is a miracle. The other is as though everything is a miracle.”</span>\n",
      "<span>by <small class=\"author\" itemprop=\"author\">Albert Einstein</small>\n",
      "<a href=\"/author/Albert-Einstein\">(about)</a>\n",
      "</span>\n",
      "<div class=\"tags\">\n",
      "            Tags:\n",
      "            <meta class=\"keywords\" content=\"inspirational,life,live,miracle,miracles\" itemprop=\"keywords\"/>\n",
      "<a class=\"tag\" href=\"/tag/inspirational/page/1/\">inspirational</a>\n",
      "<a class=\"tag\" href=\"/tag/life/page/1/\">life</a>\n",
      "<a class=\"tag\" href=\"/tag/live/page/1/\">live</a>\n",
      "<a class=\"tag\" href=\"/tag/miracle/page/1/\">miracle</a>\n",
      "<a class=\"tag\" href=\"/tag/miracles/page/1/\">miracles</a>\n",
      "</div>\n",
      "</div>, <div class=\"quote\" itemscope=\"\" itemtype=\"http://schema.org/CreativeWork\">\n",
      "<span class=\"text\" itemprop=\"text\">“The person, be it gentleman or lady, who has not pleasure in a good novel, must be intolerably stupid.”</span>\n",
      "<span>by <small class=\"author\" itemprop=\"author\">Jane Austen</small>\n",
      "<a href=\"/author/Jane-Austen\">(about)</a>\n",
      "</span>\n",
      "<div class=\"tags\">\n",
      "            Tags:\n",
      "            <meta class=\"keywords\" content=\"aliteracy,books,classic,humor\" itemprop=\"keywords\"/>\n",
      "<a class=\"tag\" href=\"/tag/aliteracy/page/1/\">aliteracy</a>\n",
      "<a class=\"tag\" href=\"/tag/books/page/1/\">books</a>\n",
      "<a class=\"tag\" href=\"/tag/classic/page/1/\">classic</a>\n",
      "<a class=\"tag\" href=\"/tag/humor/page/1/\">humor</a>\n",
      "</div>\n",
      "</div>, <div class=\"quote\" itemscope=\"\" itemtype=\"http://schema.org/CreativeWork\">\n",
      "<span class=\"text\" itemprop=\"text\">“Imperfection is beauty, madness is genius and it's better to be absolutely ridiculous than absolutely boring.”</span>\n",
      "<span>by <small class=\"author\" itemprop=\"author\">Marilyn Monroe</small>\n",
      "<a href=\"/author/Marilyn-Monroe\">(about)</a>\n",
      "</span>\n",
      "<div class=\"tags\">\n",
      "            Tags:\n",
      "            <meta class=\"keywords\" content=\"be-yourself,inspirational\" itemprop=\"keywords\"/>\n",
      "<a class=\"tag\" href=\"/tag/be-yourself/page/1/\">be-yourself</a>\n",
      "<a class=\"tag\" href=\"/tag/inspirational/page/1/\">inspirational</a>\n",
      "</div>\n",
      "</div>, <div class=\"quote\" itemscope=\"\" itemtype=\"http://schema.org/CreativeWork\">\n",
      "<span class=\"text\" itemprop=\"text\">“Try not to become a man of success. Rather become a man of value.”</span>\n",
      "<span>by <small class=\"author\" itemprop=\"author\">Albert Einstein</small>\n",
      "<a href=\"/author/Albert-Einstein\">(about)</a>\n",
      "</span>\n",
      "<div class=\"tags\">\n",
      "            Tags:\n",
      "            <meta class=\"keywords\" content=\"adulthood,success,value\" itemprop=\"keywords\"/>\n",
      "<a class=\"tag\" href=\"/tag/adulthood/page/1/\">adulthood</a>\n",
      "<a class=\"tag\" href=\"/tag/success/page/1/\">success</a>\n",
      "<a class=\"tag\" href=\"/tag/value/page/1/\">value</a>\n",
      "</div>\n",
      "</div>, <div class=\"quote\" itemscope=\"\" itemtype=\"http://schema.org/CreativeWork\">\n",
      "<span class=\"text\" itemprop=\"text\">“It is better to be hated for what you are than to be loved for what you are not.”</span>\n",
      "<span>by <small class=\"author\" itemprop=\"author\">André Gide</small>\n",
      "<a href=\"/author/Andre-Gide\">(about)</a>\n",
      "</span>\n",
      "<div class=\"tags\">\n",
      "            Tags:\n",
      "            <meta class=\"keywords\" content=\"life,love\" itemprop=\"keywords\"/>\n",
      "<a class=\"tag\" href=\"/tag/life/page/1/\">life</a>\n",
      "<a class=\"tag\" href=\"/tag/love/page/1/\">love</a>\n",
      "</div>\n",
      "</div>, <div class=\"quote\" itemscope=\"\" itemtype=\"http://schema.org/CreativeWork\">\n",
      "<span class=\"text\" itemprop=\"text\">“I have not failed. I've just found 10,000 ways that won't work.”</span>\n",
      "<span>by <small class=\"author\" itemprop=\"author\">Thomas A. Edison</small>\n",
      "<a href=\"/author/Thomas-A-Edison\">(about)</a>\n",
      "</span>\n",
      "<div class=\"tags\">\n",
      "            Tags:\n",
      "            <meta class=\"keywords\" content=\"edison,failure,inspirational,paraphrased\" itemprop=\"keywords\"/>\n",
      "<a class=\"tag\" href=\"/tag/edison/page/1/\">edison</a>\n",
      "<a class=\"tag\" href=\"/tag/failure/page/1/\">failure</a>\n",
      "<a class=\"tag\" href=\"/tag/inspirational/page/1/\">inspirational</a>\n",
      "<a class=\"tag\" href=\"/tag/paraphrased/page/1/\">paraphrased</a>\n",
      "</div>\n",
      "</div>, <div class=\"quote\" itemscope=\"\" itemtype=\"http://schema.org/CreativeWork\">\n",
      "<span class=\"text\" itemprop=\"text\">“A woman is like a tea bag; you never know how strong it is until it's in hot water.”</span>\n",
      "<span>by <small class=\"author\" itemprop=\"author\">Eleanor Roosevelt</small>\n",
      "<a href=\"/author/Eleanor-Roosevelt\">(about)</a>\n",
      "</span>\n",
      "<div class=\"tags\">\n",
      "            Tags:\n",
      "            <meta class=\"keywords\" content=\"misattributed-eleanor-roosevelt\" itemprop=\"keywords\"/>\n",
      "<a class=\"tag\" href=\"/tag/misattributed-eleanor-roosevelt/page/1/\">misattributed-eleanor-roosevelt</a>\n",
      "</div>\n",
      "</div>, <div class=\"quote\" itemscope=\"\" itemtype=\"http://schema.org/CreativeWork\">\n",
      "<span class=\"text\" itemprop=\"text\">“A day without sunshine is like, you know, night.”</span>\n",
      "<span>by <small class=\"author\" itemprop=\"author\">Steve Martin</small>\n",
      "<a href=\"/author/Steve-Martin\">(about)</a>\n",
      "</span>\n",
      "<div class=\"tags\">\n",
      "            Tags:\n",
      "            <meta class=\"keywords\" content=\"humor,obvious,simile\" itemprop=\"keywords\"/>\n",
      "<a class=\"tag\" href=\"/tag/humor/page/1/\">humor</a>\n",
      "<a class=\"tag\" href=\"/tag/obvious/page/1/\">obvious</a>\n",
      "<a class=\"tag\" href=\"/tag/simile/page/1/\">simile</a>\n",
      "</div>\n",
      "</div>]\n"
     ]
    }
   ],
   "source": [
    "print(quote_lst)"
   ]
  },
  {
   "cell_type": "code",
   "execution_count": 12,
   "metadata": {
    "scrolled": true
   },
   "outputs": [
    {
     "data": {
      "text/plain": [
       "10"
      ]
     },
     "execution_count": 12,
     "metadata": {},
     "output_type": "execute_result"
    }
   ],
   "source": [
    "len(quote_lst)"
   ]
  },
  {
   "cell_type": "markdown",
   "metadata": {},
   "source": [
    "**b) Data structure of one quote**"
   ]
  },
  {
   "cell_type": "code",
   "execution_count": 20,
   "metadata": {},
   "outputs": [
    {
     "name": "stdout",
     "output_type": "stream",
     "text": [
      "<div class=\"quote\" itemscope=\"\" itemtype=\"http://schema.org/CreativeWork\">\n",
      " <span class=\"text\" itemprop=\"text\">\n",
      "  “The world as we have created it is a process of our thinking. It cannot be changed without changing our thinking.”\n",
      " </span>\n",
      " <span>\n",
      "  by\n",
      "  <small class=\"author\" itemprop=\"author\">\n",
      "   Albert Einstein\n",
      "  </small>\n",
      "  <a href=\"/author/Albert-Einstein\">\n",
      "   (about)\n",
      "  </a>\n",
      " </span>\n",
      " <div class=\"tags\">\n",
      "  Tags:\n",
      "  <meta class=\"keywords\" content=\"change,deep-thoughts,thinking,world\" itemprop=\"keywords\"/>\n",
      "  <a class=\"tag\" href=\"/tag/change/page/1/\">\n",
      "   change\n",
      "  </a>\n",
      "  <a class=\"tag\" href=\"/tag/deep-thoughts/page/1/\">\n",
      "   deep-thoughts\n",
      "  </a>\n",
      "  <a class=\"tag\" href=\"/tag/thinking/page/1/\">\n",
      "   thinking\n",
      "  </a>\n",
      "  <a class=\"tag\" href=\"/tag/world/page/1/\">\n",
      "   world\n",
      "  </a>\n",
      " </div>\n",
      "</div>\n",
      "\n"
     ]
    }
   ],
   "source": [
    "# Now we look at the structure of one quote\n",
    "example_quote = quote_lst[0]\n",
    "print(example_quote.prettify())"
   ]
  },
  {
   "cell_type": "markdown",
   "metadata": {},
   "source": [
    "**c) Author of a quote**"
   ]
  },
  {
   "cell_type": "code",
   "execution_count": 35,
   "metadata": {},
   "outputs": [
    {
     "name": "stdout",
     "output_type": "stream",
     "text": [
      "Albert Einstein\n"
     ]
    }
   ],
   "source": [
    "# Getting the author of a quote (REMEMBER: .select always returns a list)\n",
    "example_author = example_quote.select(\".author\")[0].getText()\n",
    "print(example_author)"
   ]
  },
  {
   "cell_type": "markdown",
   "metadata": {},
   "source": [
    "**d) Tags associated to a quote**\n",
    "\n",
    "Here \"tags\" is in the internet sense, not HTML sense."
   ]
  },
  {
   "cell_type": "code",
   "execution_count": 55,
   "metadata": {},
   "outputs": [],
   "source": [
    "# Unwiding the tags associated to a quote\n",
    "example_tags_0 = example_quote.select(\".tags\")[0]\n"
   ]
  },
  {
   "cell_type": "code",
   "execution_count": 56,
   "metadata": {},
   "outputs": [
    {
     "name": "stdout",
     "output_type": "stream",
     "text": [
      "<div class=\"tags\">\n",
      "            Tags:\n",
      "            <meta class=\"keywords\" content=\"change,deep-thoughts,thinking,world\" itemprop=\"keywords\"/>\n",
      "<a class=\"tag\" href=\"/tag/change/page/1/\">change</a>\n",
      "<a class=\"tag\" href=\"/tag/deep-thoughts/page/1/\">deep-thoughts</a>\n",
      "<a class=\"tag\" href=\"/tag/thinking/page/1/\">thinking</a>\n",
      "<a class=\"tag\" href=\"/tag/world/page/1/\">world</a>\n",
      "</div>\n"
     ]
    }
   ],
   "source": [
    "print(example_tags_0)"
   ]
  },
  {
   "cell_type": "code",
   "execution_count": 57,
   "metadata": {},
   "outputs": [
    {
     "data": {
      "text/plain": [
       "'change,deep-thoughts,thinking,world'"
      ]
     },
     "execution_count": 57,
     "metadata": {},
     "output_type": "execute_result"
    }
   ],
   "source": [
    "example_tags.meta[\"content\"]"
   ]
  },
  {
   "cell_type": "code",
   "execution_count": 58,
   "metadata": {},
   "outputs": [
    {
     "name": "stdout",
     "output_type": "stream",
     "text": [
      "['change', 'deep-thoughts', 'thinking', 'world']\n"
     ]
    }
   ],
   "source": [
    "example_tags_lst_0 = example_tags.meta[\"content\"].split(\",\")\n",
    "print(example_tags_lst_0)"
   ]
  },
  {
   "cell_type": "code",
   "execution_count": 59,
   "metadata": {},
   "outputs": [
    {
     "name": "stdout",
     "output_type": "stream",
     "text": [
      "['change', 'deep-thoughts', 'thinking', 'world']\n"
     ]
    }
   ],
   "source": [
    "# Formula to get the tags of a quote\n",
    "example_tags_lst = example_quote.select(\".tags\")[0].meta[\"content\"].split(\",\")\n",
    "print(example_tags_lst)"
   ]
  },
  {
   "cell_type": "markdown",
   "metadata": {},
   "source": [
    "**e) Content of a quote**\n",
    "\n",
    "Two ways of doing it. Both are quick and dirty. It's definitely not an exact science."
   ]
  },
  {
   "cell_type": "code",
   "execution_count": 62,
   "metadata": {},
   "outputs": [
    {
     "data": {
      "text/plain": [
       "'“The world as we have created it is a process of our thinking. It cannot be changed without changing our thinking.”'"
      ]
     },
     "execution_count": 62,
     "metadata": {},
     "output_type": "execute_result"
    }
   ],
   "source": [
    "example_quote.span.getText()"
   ]
  },
  {
   "cell_type": "code",
   "execution_count": 64,
   "metadata": {},
   "outputs": [
    {
     "data": {
      "text/plain": [
       "'“The world as we have created it is a process of our thinking. It cannot be changed without changing our thinking.”'"
      ]
     },
     "execution_count": 64,
     "metadata": {},
     "output_type": "execute_result"
    }
   ],
   "source": [
    "example_quote.select(\".text\")[0].getText()"
   ]
  },
  {
   "cell_type": "markdown",
   "metadata": {},
   "source": [
    "**f) Top ten tags**"
   ]
  },
  {
   "cell_type": "code",
   "execution_count": 78,
   "metadata": {},
   "outputs": [],
   "source": [
    "# Div class I'm looking for \"col-md-4 tags-box\"\n",
    "top_10_tags_div = fp_html.select(\".col-md-4.tags-box\")[0]\n"
   ]
  },
  {
   "cell_type": "code",
   "execution_count": 79,
   "metadata": {},
   "outputs": [
    {
     "name": "stdout",
     "output_type": "stream",
     "text": [
      "<div class=\"col-md-4 tags-box\">\n",
      " <h2>\n",
      "  Top Ten tags\n",
      " </h2>\n",
      " <span class=\"tag-item\">\n",
      "  <a class=\"tag\" href=\"/tag/love/\" style=\"font-size: 28px\">\n",
      "   love\n",
      "  </a>\n",
      " </span>\n",
      " <span class=\"tag-item\">\n",
      "  <a class=\"tag\" href=\"/tag/inspirational/\" style=\"font-size: 26px\">\n",
      "   inspirational\n",
      "  </a>\n",
      " </span>\n",
      " <span class=\"tag-item\">\n",
      "  <a class=\"tag\" href=\"/tag/life/\" style=\"font-size: 26px\">\n",
      "   life\n",
      "  </a>\n",
      " </span>\n",
      " <span class=\"tag-item\">\n",
      "  <a class=\"tag\" href=\"/tag/humor/\" style=\"font-size: 24px\">\n",
      "   humor\n",
      "  </a>\n",
      " </span>\n",
      " <span class=\"tag-item\">\n",
      "  <a class=\"tag\" href=\"/tag/books/\" style=\"font-size: 22px\">\n",
      "   books\n",
      "  </a>\n",
      " </span>\n",
      " <span class=\"tag-item\">\n",
      "  <a class=\"tag\" href=\"/tag/reading/\" style=\"font-size: 14px\">\n",
      "   reading\n",
      "  </a>\n",
      " </span>\n",
      " <span class=\"tag-item\">\n",
      "  <a class=\"tag\" href=\"/tag/friendship/\" style=\"font-size: 10px\">\n",
      "   friendship\n",
      "  </a>\n",
      " </span>\n",
      " <span class=\"tag-item\">\n",
      "  <a class=\"tag\" href=\"/tag/friends/\" style=\"font-size: 8px\">\n",
      "   friends\n",
      "  </a>\n",
      " </span>\n",
      " <span class=\"tag-item\">\n",
      "  <a class=\"tag\" href=\"/tag/truth/\" style=\"font-size: 8px\">\n",
      "   truth\n",
      "  </a>\n",
      " </span>\n",
      " <span class=\"tag-item\">\n",
      "  <a class=\"tag\" href=\"/tag/simile/\" style=\"font-size: 6px\">\n",
      "   simile\n",
      "  </a>\n",
      " </span>\n",
      "</div>\n",
      "\n"
     ]
    }
   ],
   "source": [
    "print(top_10_tags_div.prettify())"
   ]
  },
  {
   "cell_type": "code",
   "execution_count": 80,
   "metadata": {},
   "outputs": [
    {
     "name": "stdout",
     "output_type": "stream",
     "text": [
      "['love', 'inspirational', 'life', 'humor', 'books', 'reading', 'friendship', 'friends', 'truth', 'simile']\n"
     ]
    }
   ],
   "source": [
    "top_10_tags_div_a = top_10_tags.find_all(\"a\")\n",
    "top_10_tags_lst = []\n",
    "for a in top_10_tags_div_a:\n",
    "    top_10_tags_lst.append(a.getText())\n",
    "    \n",
    "print(top_10_tags_lst)"
   ]
  },
  {
   "cell_type": "markdown",
   "metadata": {},
   "source": [
    "**g) Difference between empty page and existing page**"
   ]
  },
  {
   "cell_type": "code",
   "execution_count": 87,
   "metadata": {},
   "outputs": [
    {
     "name": "stdout",
     "output_type": "stream",
     "text": [
      "[]\n"
     ]
    }
   ],
   "source": [
    "nep_quote_lst = nep_html.select(\".quote\")\n",
    "print(nep_quote_lst)"
   ]
  },
  {
   "cell_type": "code",
   "execution_count": null,
   "metadata": {},
   "outputs": [],
   "source": []
  }
 ],
 "metadata": {
  "kernelspec": {
   "display_name": "Python 3",
   "language": "python",
   "name": "python3"
  },
  "language_info": {
   "codemirror_mode": {
    "name": "ipython",
    "version": 3
   },
   "file_extension": ".py",
   "mimetype": "text/x-python",
   "name": "python",
   "nbconvert_exporter": "python",
   "pygments_lexer": "ipython3",
   "version": "3.8.8"
  }
 },
 "nbformat": 4,
 "nbformat_minor": 2
}
