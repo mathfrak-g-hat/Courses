{
 "cells": [
  {
   "cell_type": "markdown",
   "metadata": {},
   "source": [
    "___\n",
    "\n",
    "<a href='https://www.udemy.com/user/joseportilla/'><img src='../Pierian_Data_Logo.png'/></a>\n",
    "___\n",
    "<center><em>Content Copyright by Pierian Data</em></center>"
   ]
  },
  {
   "cell_type": "markdown",
   "metadata": {},
   "source": [
    "# Iterators and Generators Homework \n",
    "\n",
    "## A. J. Zerouali (2021/06/14)\n",
    "\n",
    "\n",
    "\n",
    "### Problem 1\n",
    "\n",
    "Create a generator that generates the squares of numbers up to some number N."
   ]
  },
  {
   "cell_type": "code",
   "execution_count": 1,
   "metadata": {
    "collapsed": true
   },
   "outputs": [],
   "source": [
    "def gensquares(N):\n",
    "\n",
    "    pass"
   ]
  },
  {
   "cell_type": "code",
   "execution_count": 2,
   "metadata": {},
   "outputs": [
    {
     "name": "stdout",
     "output_type": "stream",
     "text": [
      "0\n",
      "1\n",
      "4\n",
      "9\n",
      "16\n",
      "25\n",
      "36\n",
      "49\n",
      "64\n",
      "81\n"
     ]
    }
   ],
   "source": [
    "for x in gensquares(10):\n",
    "    print(x)"
   ]
  },
  {
   "cell_type": "markdown",
   "metadata": {},
   "source": [
    "## Answer"
   ]
  },
  {
   "cell_type": "code",
   "execution_count": 30,
   "metadata": {},
   "outputs": [],
   "source": [
    "def gensquares(N):\n",
    "    for x in range(N):\n",
    "        yield x**2"
   ]
  },
  {
   "cell_type": "code",
   "execution_count": 31,
   "metadata": {},
   "outputs": [
    {
     "name": "stdout",
     "output_type": "stream",
     "text": [
      "0\n",
      "1\n",
      "4\n",
      "9\n",
      "16\n",
      "25\n",
      "36\n",
      "49\n",
      "64\n",
      "81\n",
      "100\n"
     ]
    }
   ],
   "source": [
    "for x in gensquares(10+1):\n",
    "    print(x)"
   ]
  },
  {
   "cell_type": "code",
   "execution_count": null,
   "metadata": {},
   "outputs": [],
   "source": []
  },
  {
   "cell_type": "markdown",
   "metadata": {},
   "source": [
    "### Problem 2\n",
    "\n",
    "Create a generator that yields \"n\" random numbers between a low and high number (that are inputs). <br>Note: Use the random library. For example:"
   ]
  },
  {
   "cell_type": "code",
   "execution_count": 34,
   "metadata": {},
   "outputs": [
    {
     "data": {
      "text/plain": [
       "1"
      ]
     },
     "execution_count": 34,
     "metadata": {},
     "output_type": "execute_result"
    }
   ],
   "source": [
    "import random\n",
    "\n",
    "random.randint(1,10)"
   ]
  },
  {
   "cell_type": "code",
   "execution_count": 35,
   "metadata": {},
   "outputs": [],
   "source": [
    "def rand_num(low,high,n):\n",
    "    for i in range(n):\n",
    "        yield random.randint(low,high)"
   ]
  },
  {
   "cell_type": "code",
   "execution_count": 36,
   "metadata": {},
   "outputs": [
    {
     "name": "stdout",
     "output_type": "stream",
     "text": [
      "9\n",
      "7\n",
      "6\n",
      "8\n",
      "6\n",
      "8\n",
      "8\n",
      "5\n",
      "8\n",
      "4\n",
      "9\n",
      "3\n"
     ]
    }
   ],
   "source": [
    "for num in rand_num(1,10,12):\n",
    "    print(num)"
   ]
  },
  {
   "cell_type": "markdown",
   "metadata": {},
   "source": [
    "### Problem 3\n",
    "\n",
    "Use the iter() function to convert the string below into an iterator:\n"
   ]
  },
  {
   "cell_type": "code",
   "execution_count": 37,
   "metadata": {},
   "outputs": [],
   "source": [
    "s = 'hello'\n",
    "iter_s = iter(s)\n",
    "#code here"
   ]
  },
  {
   "cell_type": "code",
   "execution_count": 38,
   "metadata": {},
   "outputs": [
    {
     "name": "stdout",
     "output_type": "stream",
     "text": [
      "next(iter_s)=h\n",
      "next(iter_s)=e\n",
      "next(iter_s)=l\n",
      "next(iter_s)=l\n",
      "next(iter_s)=o\n"
     ]
    }
   ],
   "source": [
    "\n",
    "for i in s:\n",
    "    print(f'next(iter_s)={next(iter_s)}')"
   ]
  },
  {
   "cell_type": "markdown",
   "metadata": {},
   "source": [
    "## Answer"
   ]
  },
  {
   "cell_type": "markdown",
   "metadata": {},
   "source": [
    "### Problem 4\n",
    "Explain a use case for a generator using a yield statement where you would not want to use a normal function with a return statement.<br><br><br><br><br><br>\n",
    "\n"
   ]
  },
  {
   "cell_type": "markdown",
   "metadata": {},
   "source": [
    "## Answer"
   ]
  },
  {
   "cell_type": "markdown",
   "metadata": {},
   "source": [
    "### Extra Credit!\n",
    "Can you explain what *gencomp* is in the code below? (Note: We never covered this in lecture! You will have to do some Googling/Stack Overflowing!)"
   ]
  },
  {
   "cell_type": "code",
   "execution_count": 6,
   "metadata": {
    "scrolled": true
   },
   "outputs": [
    {
     "name": "stdout",
     "output_type": "stream",
     "text": [
      "4\n",
      "5\n"
     ]
    }
   ],
   "source": [
    "my_list = [1,2,3,4,5]\n",
    "\n",
    "gencomp = (item for item in my_list if item > 3)\n",
    "\n",
    "for item in gencomp:\n",
    "    print(item)"
   ]
  },
  {
   "cell_type": "markdown",
   "metadata": {},
   "source": [
    "## Answer"
   ]
  },
  {
   "cell_type": "markdown",
   "metadata": {},
   "source": [
    "Hint: Google *generator comprehension*!\n",
    "\n",
    "# Great Job!"
   ]
  },
  {
   "cell_type": "code",
   "execution_count": null,
   "metadata": {},
   "outputs": [],
   "source": []
  },
  {
   "cell_type": "code",
   "execution_count": null,
   "metadata": {},
   "outputs": [],
   "source": []
  },
  {
   "cell_type": "markdown",
   "metadata": {},
   "source": [
    "\n",
    "\n",
    "# Tests (AJZ 21/06/14)"
   ]
  },
  {
   "cell_type": "code",
   "execution_count": 1,
   "metadata": {},
   "outputs": [],
   "source": [
    "def fibonacci(n):\n",
    "    a,b =1,1\n",
    "    out_lst = []\n",
    "    for i in range(n):\n",
    "        out_lst.append(b)\n",
    "        a,b = b, a+b\n",
    "    return out_lst\n",
    "        "
   ]
  },
  {
   "cell_type": "code",
   "execution_count": 2,
   "metadata": {},
   "outputs": [
    {
     "name": "stdout",
     "output_type": "stream",
     "text": [
      "fibonacci(5)=[1, 2, 3, 5, 8]\n"
     ]
    }
   ],
   "source": [
    "print(f'fibonacci(5)={fibonacci(5)}')"
   ]
  },
  {
   "cell_type": "code",
   "execution_count": 3,
   "metadata": {},
   "outputs": [],
   "source": [
    "def fibonacci_gen(n):\n",
    "    a,b =1,1\n",
    "    for i in range(n):\n",
    "        yield b\n",
    "        a,b = b, a+b\n",
    "    "
   ]
  },
  {
   "cell_type": "code",
   "execution_count": 4,
   "metadata": {},
   "outputs": [
    {
     "data": {
      "text/plain": [
       "<generator object fibonacci_gen at 0x000002ECF47BC120>"
      ]
     },
     "execution_count": 4,
     "metadata": {},
     "output_type": "execute_result"
    }
   ],
   "source": [
    "fibonacci_gen(5)"
   ]
  },
  {
   "cell_type": "code",
   "execution_count": 5,
   "metadata": {},
   "outputs": [
    {
     "name": "stdout",
     "output_type": "stream",
     "text": [
      "next(fibonacci_gen(5))=1\n",
      "next(fibonacci_gen(5))=1\n",
      "next(fibonacci_gen(5))=1\n",
      "next(fibonacci_gen(5))=1\n",
      "next(fibonacci_gen(5))=1\n"
     ]
    }
   ],
   "source": [
    "print(f'next(fibonacci_gen(5))={next(fibonacci_gen(5))}')\n",
    "print(f'next(fibonacci_gen(5))={next(fibonacci_gen(5))}')\n",
    "print(f'next(fibonacci_gen(5))={next(fibonacci_gen(5))}')\n",
    "print(f'next(fibonacci_gen(5))={next(fibonacci_gen(5))}')\n",
    "print(f'next(fibonacci_gen(5))={next(fibonacci_gen(5))}')"
   ]
  },
  {
   "cell_type": "code",
   "execution_count": 15,
   "metadata": {},
   "outputs": [],
   "source": [
    "g=fibonacci_gen(5)"
   ]
  },
  {
   "cell_type": "code",
   "execution_count": 12,
   "metadata": {},
   "outputs": [
    {
     "ename": "StopIteration",
     "evalue": "",
     "output_type": "error",
     "traceback": [
      "\u001b[1;31m---------------------------------------------------------------------------\u001b[0m",
      "\u001b[1;31mStopIteration\u001b[0m                             Traceback (most recent call last)",
      "\u001b[1;32m<ipython-input-12-e734f8aca5ac>\u001b[0m in \u001b[0;36m<module>\u001b[1;34m\u001b[0m\n\u001b[1;32m----> 1\u001b[1;33m \u001b[0mnext\u001b[0m\u001b[1;33m(\u001b[0m\u001b[0mg\u001b[0m\u001b[1;33m)\u001b[0m\u001b[1;33m\u001b[0m\u001b[1;33m\u001b[0m\u001b[0m\n\u001b[0m",
      "\u001b[1;31mStopIteration\u001b[0m: "
     ]
    }
   ],
   "source": [
    "next(g)"
   ]
  },
  {
   "cell_type": "code",
   "execution_count": 14,
   "metadata": {},
   "outputs": [
    {
     "data": {
      "text/plain": [
       "<generator object fibonacci_gen at 0x000002ECF48794A0>"
      ]
     },
     "execution_count": 14,
     "metadata": {},
     "output_type": "execute_result"
    }
   ],
   "source": [
    "g"
   ]
  },
  {
   "cell_type": "code",
   "execution_count": 16,
   "metadata": {},
   "outputs": [
    {
     "name": "stdout",
     "output_type": "stream",
     "text": [
      "next(fibonacci_gen(5))=1\n",
      "next(fibonacci_gen(5))=2\n",
      "next(fibonacci_gen(5))=3\n",
      "next(fibonacci_gen(5))=5\n",
      "next(fibonacci_gen(5))=8\n"
     ]
    }
   ],
   "source": [
    "print(f'next(fibonacci_gen(5))={next(g)}')\n",
    "print(f'next(fibonacci_gen(5))={next(g)}')\n",
    "print(f'next(fibonacci_gen(5))={next(g)}')\n",
    "print(f'next(fibonacci_gen(5))={next(g)}')\n",
    "print(f'next(fibonacci_gen(5))={next(g)}')"
   ]
  },
  {
   "cell_type": "code",
   "execution_count": 17,
   "metadata": {},
   "outputs": [
    {
     "name": "stdout",
     "output_type": "stream",
     "text": [
      "E\n",
      "E\n",
      "E\n"
     ]
    }
   ],
   "source": [
    "str_obj = 'I want to use this string as a generator'\n",
    "for i in str_obj:\n",
    "    if i=='e':\n",
    "        print('E')"
   ]
  },
  {
   "cell_type": "code",
   "execution_count": 18,
   "metadata": {},
   "outputs": [
    {
     "ename": "TypeError",
     "evalue": "'str' object is not an iterator",
     "output_type": "error",
     "traceback": [
      "\u001b[1;31m---------------------------------------------------------------------------\u001b[0m",
      "\u001b[1;31mTypeError\u001b[0m                                 Traceback (most recent call last)",
      "\u001b[1;32m<ipython-input-18-ea7baf806dab>\u001b[0m in \u001b[0;36m<module>\u001b[1;34m\u001b[0m\n\u001b[1;32m----> 1\u001b[1;33m \u001b[0mnext\u001b[0m\u001b[1;33m(\u001b[0m\u001b[0mstr_obj\u001b[0m\u001b[1;33m)\u001b[0m\u001b[1;33m\u001b[0m\u001b[1;33m\u001b[0m\u001b[0m\n\u001b[0m",
      "\u001b[1;31mTypeError\u001b[0m: 'str' object is not an iterator"
     ]
    }
   ],
   "source": [
    "next(str_obj)"
   ]
  },
  {
   "cell_type": "code",
   "execution_count": 19,
   "metadata": {},
   "outputs": [],
   "source": [
    "lst_obj = str_obj.split()"
   ]
  },
  {
   "cell_type": "code",
   "execution_count": 20,
   "metadata": {},
   "outputs": [
    {
     "ename": "TypeError",
     "evalue": "'list' object is not an iterator",
     "output_type": "error",
     "traceback": [
      "\u001b[1;31m---------------------------------------------------------------------------\u001b[0m",
      "\u001b[1;31mTypeError\u001b[0m                                 Traceback (most recent call last)",
      "\u001b[1;32m<ipython-input-20-1367e043ce60>\u001b[0m in \u001b[0;36m<module>\u001b[1;34m\u001b[0m\n\u001b[1;32m----> 1\u001b[1;33m \u001b[0mnext\u001b[0m\u001b[1;33m(\u001b[0m\u001b[0mlst_obj\u001b[0m\u001b[1;33m)\u001b[0m\u001b[1;33m\u001b[0m\u001b[1;33m\u001b[0m\u001b[0m\n\u001b[0m",
      "\u001b[1;31mTypeError\u001b[0m: 'list' object is not an iterator"
     ]
    }
   ],
   "source": [
    "next(lst_obj)"
   ]
  },
  {
   "cell_type": "code",
   "execution_count": 21,
   "metadata": {},
   "outputs": [
    {
     "name": "stdout",
     "output_type": "stream",
     "text": [
      "['I', 'want', 'to', 'use', 'this', 'string', 'as', 'a', 'generator']\n"
     ]
    }
   ],
   "source": [
    "print(lst_obj)"
   ]
  },
  {
   "cell_type": "code",
   "execution_count": 22,
   "metadata": {},
   "outputs": [],
   "source": [
    "iter_lst_obj = iter(lst_obj)"
   ]
  },
  {
   "cell_type": "code",
   "execution_count": 23,
   "metadata": {},
   "outputs": [
    {
     "name": "stdout",
     "output_type": "stream",
     "text": [
      "next(iter_lst_obj)=I\n",
      "next(iter_lst_obj)=want\n",
      "next(iter_lst_obj)=to\n"
     ]
    }
   ],
   "source": [
    "print(f'next(iter_lst_obj)={next(iter_lst_obj)}')\n",
    "print(f'next(iter_lst_obj)={next(iter_lst_obj)}')\n",
    "print(f'next(iter_lst_obj)={next(iter_lst_obj)}')\n"
   ]
  },
  {
   "cell_type": "code",
   "execution_count": 24,
   "metadata": {},
   "outputs": [
    {
     "name": "stdout",
     "output_type": "stream",
     "text": [
      "next(iter_lst_obj)=use\n",
      "next(iter_lst_obj)=this\n",
      "next(iter_lst_obj)=string\n",
      "next(iter_lst_obj)=as\n",
      "next(iter_lst_obj)=a\n",
      "next(iter_lst_obj)=generator\n"
     ]
    }
   ],
   "source": [
    "print(f'next(iter_lst_obj)={next(iter_lst_obj)}')\n",
    "print(f'next(iter_lst_obj)={next(iter_lst_obj)}')\n",
    "print(f'next(iter_lst_obj)={next(iter_lst_obj)}')\n",
    "print(f'next(iter_lst_obj)={next(iter_lst_obj)}')\n",
    "print(f'next(iter_lst_obj)={next(iter_lst_obj)}')\n",
    "print(f'next(iter_lst_obj)={next(iter_lst_obj)}')"
   ]
  },
  {
   "cell_type": "code",
   "execution_count": 28,
   "metadata": {},
   "outputs": [
    {
     "name": "stdout",
     "output_type": "stream",
     "text": [
      "next(iter_str_obj)=I\n",
      "next(iter_str_obj)= \n",
      "next(iter_str_obj)=w\n",
      "next(iter_str_obj)=a\n",
      "next(iter_str_obj)=n\n",
      "next(iter_str_obj)=t\n",
      "next(iter_str_obj)= \n",
      "next(iter_str_obj)=t\n",
      "next(iter_str_obj)=o\n",
      "next(iter_str_obj)= \n",
      "next(iter_str_obj)=u\n",
      "next(iter_str_obj)=s\n",
      "next(iter_str_obj)=e\n",
      "next(iter_str_obj)= \n",
      "next(iter_str_obj)=t\n",
      "next(iter_str_obj)=h\n",
      "next(iter_str_obj)=i\n",
      "next(iter_str_obj)=s\n",
      "next(iter_str_obj)= \n",
      "next(iter_str_obj)=s\n",
      "next(iter_str_obj)=t\n",
      "next(iter_str_obj)=r\n",
      "next(iter_str_obj)=i\n",
      "next(iter_str_obj)=n\n",
      "next(iter_str_obj)=g\n",
      "next(iter_str_obj)= \n",
      "next(iter_str_obj)=a\n",
      "next(iter_str_obj)=s\n",
      "next(iter_str_obj)= \n",
      "next(iter_str_obj)=a\n",
      "next(iter_str_obj)= \n",
      "next(iter_str_obj)=g\n",
      "next(iter_str_obj)=e\n",
      "next(iter_str_obj)=n\n",
      "next(iter_str_obj)=e\n",
      "next(iter_str_obj)=r\n",
      "next(iter_str_obj)=a\n",
      "next(iter_str_obj)=t\n",
      "next(iter_str_obj)=o\n",
      "next(iter_str_obj)=r\n"
     ]
    }
   ],
   "source": [
    "iter_str_obj = iter(str_obj)\n",
    "for i in str_obj:\n",
    "    print(f'next(iter_str_obj)={next(iter_str_obj)}')"
   ]
  },
  {
   "cell_type": "code",
   "execution_count": null,
   "metadata": {},
   "outputs": [],
   "source": []
  }
 ],
 "metadata": {
  "kernelspec": {
   "display_name": "Python 3",
   "language": "python",
   "name": "python3"
  },
  "language_info": {
   "codemirror_mode": {
    "name": "ipython",
    "version": 3
   },
   "file_extension": ".py",
   "mimetype": "text/x-python",
   "name": "python",
   "nbconvert_exporter": "python",
   "pygments_lexer": "ipython3",
   "version": "3.8.8"
  }
 },
 "nbformat": 4,
 "nbformat_minor": 1
}
