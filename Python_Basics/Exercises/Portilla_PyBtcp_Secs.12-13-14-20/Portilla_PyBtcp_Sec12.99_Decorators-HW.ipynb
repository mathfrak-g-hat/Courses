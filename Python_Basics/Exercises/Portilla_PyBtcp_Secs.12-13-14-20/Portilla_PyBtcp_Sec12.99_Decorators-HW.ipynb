{
 "cells": [
  {
   "cell_type": "markdown",
   "metadata": {},
   "source": [
    "___\n",
    "\n",
    "<a href='https://www.udemy.com/user/joseportilla/'><img src='../Pierian_Data_Logo.png'/></a>\n",
    "___\n",
    "<center><em>Content Copyright by Pierian Data</em></center>"
   ]
  },
  {
   "cell_type": "markdown",
   "metadata": {},
   "source": [
    "# Decorators Homework (Optional)\n",
    "\n",
    "Since you won't run into decorators until further in your coding career, this homework is optional. Check out the Web Framework [Flask](http://flask.pocoo.org/). You can use Flask to create web pages with Python (as long as you know some HTML and CSS) and they use decorators a lot! Learn how they use [view decorators](http://flask.pocoo.org/docs/0.12/patterns/viewdecorators/). Don't worry if you don't completely understand everything about Flask, the main point of this optional homework is that you have an awareness of decorators in Web Frameworks. That way if you decide to become a \"Full-Stack\" Python Web Developer, you won't find yourself perplexed by decorators. You can also check out [Django](https://www.djangoproject.com/) another (and more popular) web framework for Python which is a bit more heavy duty.\n",
    "\n",
    "Also for some additional info:\n",
    "\n",
    "A framework is a type of software library that provides generic functionality which can be extended by the programmer to build applications. Flask and Django are good examples of frameworks intended for web development.\n",
    "\n",
    "A framework is distinguished from a simple library or API. An API is a piece of software that a developer can use in his or her application. A framework is more encompassing: your entire application is structured around the framework (i.e. it provides the framework around which you build your software).\n",
    "\n",
    "## Great job!"
   ]
  },
  {
   "cell_type": "code",
   "execution_count": null,
   "metadata": {},
   "outputs": [],
   "source": [
    "# 21/06/14 I'm not doing the above for now."
   ]
  },
  {
   "cell_type": "code",
   "execution_count": 2,
   "metadata": {},
   "outputs": [],
   "source": [
    "def factorial(in_int):\n",
    "    out_int=1\n",
    "    if in_int ==0:\n",
    "        out_int =1\n",
    "    elif (in_int<0):\n",
    "        out_int =0\n",
    "        print('Error: Argument is negative')\n",
    "    else:\n",
    "        for i in range(1,in_int+1):\n",
    "            out_int = out_int*i\n",
    "    \n",
    "    return out_int"
   ]
  },
  {
   "cell_type": "code",
   "execution_count": 6,
   "metadata": {},
   "outputs": [
    {
     "name": "stdout",
     "output_type": "stream",
     "text": [
      "Error: Argument is negative\n",
      "factorial(-1) = 0\n",
      "factorial(0) = 1\n",
      "factorial(2) = 2\n",
      "factorial(5) = 120\n",
      "factorial(6) = 720\n"
     ]
    }
   ],
   "source": [
    "print(f'factorial(-1) = {factorial(-1)}')\n",
    "print(f'factorial(0) = {factorial(0)}')\n",
    "print(f'factorial(2) = {factorial(2)}')\n",
    "print(f'factorial(5) = {factorial(5)}')\n",
    "print(f'factorial(6) = {factorial(6)}')"
   ]
  },
  {
   "cell_type": "code",
   "execution_count": 23,
   "metadata": {},
   "outputs": [],
   "source": [
    "def aug_factorial(fnc):\n",
    "    def prmpt_fact():\n",
    "        in_int = int(input('Enter a positive integer N:\\n'))\n",
    "        print(f'N! = {fnc(in_int)}')\n",
    "    return prmpt_fact"
   ]
  },
  {
   "cell_type": "code",
   "execution_count": 24,
   "metadata": {},
   "outputs": [],
   "source": [
    "factorial2 = aug_factorial(factorial)"
   ]
  },
  {
   "cell_type": "code",
   "execution_count": 25,
   "metadata": {},
   "outputs": [
    {
     "name": "stdout",
     "output_type": "stream",
     "text": [
      "Enter a positive integer N:\n",
      "5\n",
      "N! = 120\n"
     ]
    }
   ],
   "source": [
    "factorial2()"
   ]
  },
  {
   "cell_type": "code",
   "execution_count": 26,
   "metadata": {},
   "outputs": [],
   "source": [
    "@aug_factorial\n",
    "def factorial(in_int):\n",
    "    out_int=1\n",
    "    if in_int ==0:\n",
    "        out_int =1\n",
    "    elif (in_int<0):\n",
    "        out_int =0\n",
    "        print('Error: Argument is negative')\n",
    "    else:\n",
    "        for i in range(1,in_int+1):\n",
    "            out_int = out_int*i\n",
    "    \n",
    "    return out_int"
   ]
  },
  {
   "cell_type": "code",
   "execution_count": 27,
   "metadata": {},
   "outputs": [
    {
     "name": "stdout",
     "output_type": "stream",
     "text": [
      "Enter a positive integer N:\n",
      "6\n",
      "N! = 720\n"
     ]
    }
   ],
   "source": [
    "factorial()"
   ]
  },
  {
   "cell_type": "code",
   "execution_count": null,
   "metadata": {},
   "outputs": [],
   "source": []
  }
 ],
 "metadata": {
  "kernelspec": {
   "display_name": "Python 3",
   "language": "python",
   "name": "python3"
  },
  "language_info": {
   "codemirror_mode": {
    "name": "ipython",
    "version": 3
   },
   "file_extension": ".py",
   "mimetype": "text/x-python",
   "name": "python",
   "nbconvert_exporter": "python",
   "pygments_lexer": "ipython3",
   "version": "3.8.8"
  }
 },
 "nbformat": 4,
 "nbformat_minor": 1
}
