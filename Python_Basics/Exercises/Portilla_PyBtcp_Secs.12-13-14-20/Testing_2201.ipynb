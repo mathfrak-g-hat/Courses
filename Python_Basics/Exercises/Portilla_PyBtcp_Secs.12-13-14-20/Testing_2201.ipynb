{
  "nbformat": 4,
  "nbformat_minor": 0,
  "metadata": {
    "colab": {
      "name": "Testing_2201.ipynb",
      "provenance": [],
      "collapsed_sections": []
    },
    "kernelspec": {
      "name": "python3",
      "display_name": "Python 3"
    },
    "language_info": {
      "name": "python"
    }
  },
  "cells": [
    {
      "cell_type": "markdown",
      "source": [
        "# **Collections module (22/01/19)**\n",
        "\n",
        "Need to check stuff while following Portilla lectures...\n",
        "\n",
        "## *counter*\n"
      ],
      "metadata": {
        "id": "cbVVcwgfvME-"
      }
    },
    {
      "cell_type": "code",
      "source": [
        "import collections"
      ],
      "metadata": {
        "id": "-Vvj-WHSwAQZ"
      },
      "execution_count": 32,
      "outputs": []
    },
    {
      "cell_type": "code",
      "source": [
        "test_list = [1,1,1,2,3,4,2,3,4,6,3,3,3]\n",
        "test_tuple = (1,1,1,2,3,4,2,3,4,6,3,3,3)"
      ],
      "metadata": {
        "id": "7HNmwpP9vqEl"
      },
      "execution_count": 33,
      "outputs": []
    },
    {
      "cell_type": "code",
      "source": [
        "collections.Counter(test_list)"
      ],
      "metadata": {
        "colab": {
          "base_uri": "https://localhost:8080/"
        },
        "id": "LkquRvJFvr5O",
        "outputId": "ce646c60-c0ed-4a1e-c869-60addd756d91"
      },
      "execution_count": 34,
      "outputs": [
        {
          "output_type": "execute_result",
          "data": {
            "text/plain": [
              "Counter({1: 3, 2: 2, 3: 5, 4: 2, 6: 1})"
            ]
          },
          "metadata": {},
          "execution_count": 34
        }
      ]
    },
    {
      "cell_type": "code",
      "source": [
        "collections.Counter(test_tuple)"
      ],
      "metadata": {
        "colab": {
          "base_uri": "https://localhost:8080/"
        },
        "id": "QRaqyuEgvsBd",
        "outputId": "84b9a21a-a77a-4328-ef4c-50ace8f2f3ef"
      },
      "execution_count": 35,
      "outputs": [
        {
          "output_type": "execute_result",
          "data": {
            "text/plain": [
              "Counter({1: 3, 2: 2, 3: 5, 4: 2, 6: 1})"
            ]
          },
          "metadata": {},
          "execution_count": 35
        }
      ]
    },
    {
      "cell_type": "code",
      "source": [
        "# import collections\n",
        "# Counting elements in a list:\n",
        "collections.Counter([1,2,2,3,3,3,4,4,4,4])"
      ],
      "metadata": {
        "colab": {
          "base_uri": "https://localhost:8080/"
        },
        "id": "uNUU5QV0sWd1",
        "outputId": "4e2f2474-4dca-43cb-b1b6-2aa31cad623c"
      },
      "execution_count": 36,
      "outputs": [
        {
          "output_type": "execute_result",
          "data": {
            "text/plain": [
              "Counter({1: 1, 2: 2, 3: 3, 4: 4})"
            ]
          },
          "metadata": {},
          "execution_count": 36
        }
      ]
    },
    {
      "cell_type": "code",
      "source": [
        "# Counting elements in a tuple:\n",
        "collections.Counter((1,1,1,1,2,2,2,3,3,4))"
      ],
      "metadata": {
        "colab": {
          "base_uri": "https://localhost:8080/"
        },
        "id": "Dtrq938lsXiJ",
        "outputId": "7ec5e471-48c9-4a6e-ea05-88183aad3d18"
      },
      "execution_count": 37,
      "outputs": [
        {
          "output_type": "execute_result",
          "data": {
            "text/plain": [
              "Counter({1: 4, 2: 3, 3: 2, 4: 1})"
            ]
          },
          "metadata": {},
          "execution_count": 37
        }
      ]
    },
    {
      "cell_type": "code",
      "source": [
        "# Counting characters in a string:\n",
        "collections.Counter(\"\\'Tenet\\'\")"
      ],
      "metadata": {
        "colab": {
          "base_uri": "https://localhost:8080/"
        },
        "id": "T05bN8PqtuFJ",
        "outputId": "c9998553-7db1-46b9-c841-d9aced165dbc"
      },
      "execution_count": 38,
      "outputs": [
        {
          "output_type": "execute_result",
          "data": {
            "text/plain": [
              "Counter({\"'\": 2, 'T': 1, 'e': 2, 'n': 1, 't': 1})"
            ]
          },
          "metadata": {},
          "execution_count": 38
        }
      ]
    },
    {
      "cell_type": "code",
      "source": [
        "dict(collections.Counter(\"\\'Tenet\\'\"))"
      ],
      "metadata": {
        "colab": {
          "base_uri": "https://localhost:8080/"
        },
        "id": "UDsttNd8wMX5",
        "outputId": "3ee9bed4-f74a-4e47-8574-00372eaac094"
      },
      "execution_count": 39,
      "outputs": [
        {
          "output_type": "execute_result",
          "data": {
            "text/plain": [
              "{\"'\": 2, 'T': 1, 'e': 2, 'n': 1, 't': 1}"
            ]
          },
          "metadata": {},
          "execution_count": 39
        }
      ]
    },
    {
      "cell_type": "code",
      "source": [
        "# Counting distinct words in a sentence:\n",
        "collections.Counter( (\"I am tomorrow, I am the end\".lower()).split())"
      ],
      "metadata": {
        "colab": {
          "base_uri": "https://localhost:8080/"
        },
        "id": "cC61a57stuVs",
        "outputId": "8635f8d5-ed33-41e6-8aae-3ee7f8a36538"
      },
      "execution_count": 40,
      "outputs": [
        {
          "output_type": "execute_result",
          "data": {
            "text/plain": [
              "Counter({'am': 2, 'end': 1, 'i': 2, 'the': 1, 'tomorrow,': 1})"
            ]
          },
          "metadata": {},
          "execution_count": 40
        }
      ]
    },
    {
      "cell_type": "code",
      "source": [
        "{\"alpha\":1,\"beta\":2,\"gamma\":3}"
      ],
      "metadata": {
        "colab": {
          "base_uri": "https://localhost:8080/"
        },
        "id": "qwxesCpptums",
        "outputId": "c3139e2e-e98e-42b6-ed9a-5b538f60bdfc"
      },
      "execution_count": 41,
      "outputs": [
        {
          "output_type": "execute_result",
          "data": {
            "text/plain": [
              "{'alpha': 1, 'beta': 2, 'gamma': 3}"
            ]
          },
          "metadata": {},
          "execution_count": 41
        }
      ]
    },
    {
      "cell_type": "code",
      "source": [
        "(\"\\'Tenet\\' is a palindrome\".lower()).split()"
      ],
      "metadata": {
        "colab": {
          "base_uri": "https://localhost:8080/"
        },
        "id": "9aaqM7VUtu0y",
        "outputId": "2abb54f0-7841-49cf-f5e5-d438570cec81"
      },
      "execution_count": 42,
      "outputs": [
        {
          "output_type": "execute_result",
          "data": {
            "text/plain": [
              "[\"'tenet'\", 'is', 'a', 'palindrome']"
            ]
          },
          "metadata": {},
          "execution_count": 42
        }
      ]
    },
    {
      "cell_type": "markdown",
      "source": [
        "## *defaultdict*"
      ],
      "metadata": {
        "id": "2S1WAgFzymFu"
      }
    },
    {
      "cell_type": "code",
      "source": [
        "dd = collections.defaultdict(lambda: \"NULL\")"
      ],
      "metadata": {
        "id": "EdqOVTc9vsHo"
      },
      "execution_count": 43,
      "outputs": []
    },
    {
      "cell_type": "code",
      "source": [
        "dd[\"Key_1\"] = \"alpha\""
      ],
      "metadata": {
        "id": "trFaPzudvsKQ"
      },
      "execution_count": 44,
      "outputs": []
    },
    {
      "cell_type": "code",
      "source": [
        "dd[\"Key_2\"]"
      ],
      "metadata": {
        "colab": {
          "base_uri": "https://localhost:8080/",
          "height": 35
        },
        "id": "C7C-jShavsQw",
        "outputId": "cf43cf64-40af-4f6c-c33f-0c6b3b989562"
      },
      "execution_count": 45,
      "outputs": [
        {
          "output_type": "execute_result",
          "data": {
            "application/vnd.google.colaboratory.intrinsic+json": {
              "type": "string"
            },
            "text/plain": [
              "'NULL'"
            ]
          },
          "metadata": {},
          "execution_count": 45
        }
      ]
    },
    {
      "cell_type": "code",
      "source": [
        "dd[\"Key_1\"]"
      ],
      "metadata": {
        "colab": {
          "base_uri": "https://localhost:8080/",
          "height": 35
        },
        "id": "rWfM9SX-zAUl",
        "outputId": "f8380e17-a100-4911-fb6e-fb17aee113e6"
      },
      "execution_count": 46,
      "outputs": [
        {
          "output_type": "execute_result",
          "data": {
            "application/vnd.google.colaboratory.intrinsic+json": {
              "type": "string"
            },
            "text/plain": [
              "'alpha'"
            ]
          },
          "metadata": {},
          "execution_count": 46
        }
      ]
    },
    {
      "cell_type": "code",
      "source": [
        "dd"
      ],
      "metadata": {
        "colab": {
          "base_uri": "https://localhost:8080/"
        },
        "id": "MYWpOmT6zEax",
        "outputId": "1bcaf4f7-ae69-431c-ec91-792b169b4093"
      },
      "execution_count": 47,
      "outputs": [
        {
          "output_type": "execute_result",
          "data": {
            "text/plain": [
              "defaultdict(<function __main__.<lambda>>, {'Key_1': 'alpha', 'Key_2': 'NULL'})"
            ]
          },
          "metadata": {},
          "execution_count": 47
        }
      ]
    },
    {
      "cell_type": "code",
      "source": [
        "# Create default dictionary. Set first 2 keys, and call a 3rd\n",
        "def_dict = collections.defaultdict(lambda: \"Unassigned\")\n",
        "def_dict[\"Key_1\"] = 1\n",
        "def_dict[\"Key_2\"] = 2\n",
        "def_dict[\"Key_3\"]\n",
        "print(dict(def_dict))\n"
      ],
      "metadata": {
        "colab": {
          "base_uri": "https://localhost:8080/"
        },
        "id": "We13-OK3zneR",
        "outputId": "1dcd058c-e264-47e3-b967-5dd58afb6f7a"
      },
      "execution_count": 48,
      "outputs": [
        {
          "output_type": "stream",
          "name": "stdout",
          "text": [
            "{'Key_1': 1, 'Key_2': 2, 'Key_3': 'Unassigned'}\n"
          ]
        }
      ]
    },
    {
      "cell_type": "code",
      "source": [
        ""
      ],
      "metadata": {
        "id": "Jp4dYEK70ldU"
      },
      "execution_count": 48,
      "outputs": []
    },
    {
      "cell_type": "markdown",
      "source": [
        "## *namedtuples*"
      ],
      "metadata": {
        "id": "v_ZddfGF3N1U"
      }
    },
    {
      "cell_type": "code",
      "source": [
        "Person = collections.namedtuple(\"Person\", [\"Name\",\"Gender\",\"Profession\"])\n",
        "p_jeanne = Person(Name=\"Jeanne\",Gender=\"F\", Profession=\"Chemist/Materials Scientist\")\n",
        "p_van = Person(Name=\"Vandita\",Gender=\"F\", Profession=\"Number theorist\")\n",
        "p_prav = Person(Name=\"Pravin\",Gender=\"M\", Profession=\"Software developer\")\n",
        "p_ji = Person(Name=\"Jihad\",Gender=\"404\", Profession=\"Deadbeat\")\n"
      ],
      "metadata": {
        "id": "qU5Z5rki3RKg"
      },
      "execution_count": 49,
      "outputs": []
    },
    {
      "cell_type": "code",
      "source": [
        "p_ji[2]"
      ],
      "metadata": {
        "colab": {
          "base_uri": "https://localhost:8080/",
          "height": 35
        },
        "id": "RCDc0Qbn4w0C",
        "outputId": "2737d7e2-ccba-4134-e9df-a48ea78f7cda"
      },
      "execution_count": 50,
      "outputs": [
        {
          "output_type": "execute_result",
          "data": {
            "application/vnd.google.colaboratory.intrinsic+json": {
              "type": "string"
            },
            "text/plain": [
              "'Deadbeat'"
            ]
          },
          "metadata": {},
          "execution_count": 50
        }
      ]
    },
    {
      "cell_type": "code",
      "source": [
        "p_jeanne.Gender"
      ],
      "metadata": {
        "colab": {
          "base_uri": "https://localhost:8080/",
          "height": 35
        },
        "id": "t2yhtRpG4ysd",
        "outputId": "cef222af-0c32-4d48-a65b-c2d8bbbafe5a"
      },
      "execution_count": 51,
      "outputs": [
        {
          "output_type": "execute_result",
          "data": {
            "application/vnd.google.colaboratory.intrinsic+json": {
              "type": "string"
            },
            "text/plain": [
              "'F'"
            ]
          },
          "metadata": {},
          "execution_count": 51
        }
      ]
    },
    {
      "cell_type": "code",
      "source": [
        "Dog = collections.namedtuple(\"Dog\", [\"Breed\", \"Age\", \"Name\"])\n",
        "dog_1 = Dog(Breed = \"Collie\", Age = 3, Name = \"Lassie\")\n",
        "dog_2 = Dog(Breed = \"Pitbull\", Age = 2, Name = \"Tyson\")"
      ],
      "metadata": {
        "id": "XfncxN8S47Wc"
      },
      "execution_count": 60,
      "outputs": []
    },
    {
      "cell_type": "code",
      "source": [
        "del Lassie, Tyson"
      ],
      "metadata": {
        "id": "scioHTkJKOyH"
      },
      "execution_count": 56,
      "outputs": []
    },
    {
      "cell_type": "code",
      "source": [
        "dog_1[2]"
      ],
      "metadata": {
        "colab": {
          "base_uri": "https://localhost:8080/",
          "height": 35
        },
        "id": "oHn_ItMqKQ7T",
        "outputId": "d3f4f76f-825b-405d-8323-3998e0fc4625"
      },
      "execution_count": 58,
      "outputs": [
        {
          "output_type": "execute_result",
          "data": {
            "application/vnd.google.colaboratory.intrinsic+json": {
              "type": "string"
            },
            "text/plain": [
              "'Lassie'"
            ]
          },
          "metadata": {},
          "execution_count": 58
        }
      ]
    },
    {
      "cell_type": "code",
      "source": [
        "dog_2.Name"
      ],
      "metadata": {
        "colab": {
          "base_uri": "https://localhost:8080/",
          "height": 35
        },
        "id": "fNOkYe5XMXCq",
        "outputId": "bc2ca30d-bb36-4a81-c9e2-235bb5a9a9a5"
      },
      "execution_count": 61,
      "outputs": [
        {
          "output_type": "execute_result",
          "data": {
            "application/vnd.google.colaboratory.intrinsic+json": {
              "type": "string"
            },
            "text/plain": [
              "'Tyson'"
            ]
          },
          "metadata": {},
          "execution_count": 61
        }
      ]
    },
    {
      "cell_type": "code",
      "source": [
        "dog_1[0]"
      ],
      "metadata": {
        "colab": {
          "base_uri": "https://localhost:8080/",
          "height": 35
        },
        "id": "UC09DxzRMZjI",
        "outputId": "e25e3c2b-c52c-4676-da30-b518cda45803"
      },
      "execution_count": 62,
      "outputs": [
        {
          "output_type": "execute_result",
          "data": {
            "application/vnd.google.colaboratory.intrinsic+json": {
              "type": "string"
            },
            "text/plain": [
              "'Collie'"
            ]
          },
          "metadata": {},
          "execution_count": 62
        }
      ]
    },
    {
      "cell_type": "code",
      "source": [
        "dog_1.Breed"
      ],
      "metadata": {
        "colab": {
          "base_uri": "https://localhost:8080/",
          "height": 35
        },
        "id": "EDAEzWbjN624",
        "outputId": "0c9b049d-1eb3-431b-c5f9-d981a69eb0d0"
      },
      "execution_count": 63,
      "outputs": [
        {
          "output_type": "execute_result",
          "data": {
            "application/vnd.google.colaboratory.intrinsic+json": {
              "type": "string"
            },
            "text/plain": [
              "'Collie'"
            ]
          },
          "metadata": {},
          "execution_count": 63
        }
      ]
    },
    {
      "cell_type": "code",
      "source": [
        "\n"
      ],
      "metadata": {
        "id": "DZ74wJuXN_Tg"
      },
      "execution_count": null,
      "outputs": []
    }
  ]
}