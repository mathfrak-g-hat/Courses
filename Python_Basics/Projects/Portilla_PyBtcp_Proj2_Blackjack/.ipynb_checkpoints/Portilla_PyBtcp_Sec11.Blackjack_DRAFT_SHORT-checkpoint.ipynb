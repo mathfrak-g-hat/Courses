{
 "cells": [
  {
   "cell_type": "markdown",
   "id": "f9dce117",
   "metadata": {},
   "source": [
    "# Milestone Project 2 - Blackjack game - DRAFT - Short - V2\n",
    "## A. J. Zerouali (2021/06/10)\n",
    "\n",
    "This is my second draft for this project (Section 11 of Pierian Data's Python Bootcamp). See first draft for description.\n",
    "\n",
    "Table of contents:\n",
    "\n",
    "I - Classes\n",
    "\n",
    "II - Functions\n",
    "\n",
    "III - Main game\n",
    "\n"
   ]
  },
  {
   "cell_type": "code",
   "execution_count": null,
   "id": "943f960f",
   "metadata": {},
   "outputs": [],
   "source": []
  },
  {
   "cell_type": "code",
   "execution_count": null,
   "id": "fad4e53b",
   "metadata": {},
   "outputs": [],
   "source": []
  }
 ],
 "metadata": {
  "kernelspec": {
   "display_name": "Python 3",
   "language": "python",
   "name": "python3"
  },
  "language_info": {
   "codemirror_mode": {
    "name": "ipython",
    "version": 3
   },
   "file_extension": ".py",
   "mimetype": "text/x-python",
   "name": "python",
   "nbconvert_exporter": "python",
   "pygments_lexer": "ipython3",
   "version": "3.8.8"
  }
 },
 "nbformat": 4,
 "nbformat_minor": 5
}
