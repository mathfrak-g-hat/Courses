{
 "cells": [
  {
   "cell_type": "markdown",
   "id": "f9dce117",
   "metadata": {},
   "source": [
    "# Milestone Project 2 - Blackjack game - DRAFT\n",
    "## A. J. Zerouali (2021/06/09)\n",
    "\n",
    "This is my draft for this project (Section 11 of Pierian Data's Python Bootcamp). I'll implement my classes and all my functions below, and once I am certain that everything works, I'll split it into files.\n",
    "\n",
    "Table of contents:\n",
    "\n",
    "I - Classes\n",
    "\n",
    "II - Functions\n",
    "\n",
    "III - Main game\n",
    "\n"
   ]
  },
  {
   "cell_type": "markdown",
   "id": "710374a9",
   "metadata": {},
   "source": [
    "________________________\n",
    "\n",
    "# I - Classes\n"
   ]
  },
  {
   "cell_type": "markdown",
   "id": "7efc1786",
   "metadata": {},
   "source": [
    "________________________\n",
    "\n",
    "## I.1 - The card class\n",
    "\n",
    "All crucial objects of the game will be lists of objects of this card class.\n",
    "\n",
    "**Important note:** When writing the function that evaluates hands, I will have to be **very** careful with how it works on aces.\n",
    "\n"
   ]
  },
  {
   "cell_type": "markdown",
   "id": "178e065b",
   "metadata": {},
   "source": [
    "________\n",
    "\n",
    "### I.1.a - Implementation"
   ]
  },
  {
   "cell_type": "code",
   "execution_count": 1,
   "id": "69cdb91c",
   "metadata": {},
   "outputs": [],
   "source": [
    "class Card():\n",
    "    # Suite and face\n",
    "    def __init__(self, face= 'Ace', suite = 'Hearts'):\n",
    "        self.face  = face\n",
    "        self.suite  = suite\n",
    "    \n",
    "                    \n",
    "    # String representation of an instance\n",
    "    def __str__(self):\n",
    "        #return ('Card is '+ self.face + ' of '+ self.suite)\n",
    "        return f'\\u2022 {self.face} of {self.suite}'\n",
    "    \n",
    "    # Methods (subject) to change\n",
    "    \n",
    "    def get_face(self):\n",
    "        return self.face\n",
    "        "
   ]
  },
  {
   "cell_type": "markdown",
   "id": "1f7fc495",
   "metadata": {},
   "source": [
    "________\n",
    "\n",
    "### I.1.t - Tests"
   ]
  },
  {
   "cell_type": "code",
   "execution_count": 27,
   "id": "f618e9d7",
   "metadata": {},
   "outputs": [],
   "source": [
    "c_1= Card()\n",
    "c_2 = Card('3', 'Diamonds')\n",
    "c_3 = Card('Jack', 'Spades')"
   ]
  },
  {
   "cell_type": "code",
   "execution_count": 29,
   "id": "ec05e9d7",
   "metadata": {},
   "outputs": [
    {
     "name": "stdout",
     "output_type": "stream",
     "text": [
      "• Ace of Hearts\n",
      "• 3 of Diamonds\n",
      "• Jack of Spades\n"
     ]
    }
   ],
   "source": [
    "for i in [c_1, c_2, c_3]:\n",
    "    print(i)\n"
   ]
  },
  {
   "cell_type": "markdown",
   "id": "e4e207f1",
   "metadata": {},
   "source": [
    "________________________\n",
    "\n",
    "## I.2 - The Deck class\n",
    "\n",
    "Main attribute: A list of 52 cards. Methods: shuffle, deal.\n",
    "\n",
    "**Important note:** Each game will have one instance of this class.\n",
    "\n"
   ]
  },
  {
   "cell_type": "markdown",
   "id": "3f93b651",
   "metadata": {},
   "source": [
    "________\n",
    "\n",
    "### I.2.a - Implementation"
   ]
  },
  {
   "cell_type": "code",
   "execution_count": 2,
   "id": "819c7e91",
   "metadata": {},
   "outputs": [],
   "source": [
    "# Where should I put this inclusion for the main() file?\n",
    "from random import shuffle as shuffle\n",
    "class Deck():\n",
    "    # Suite and face\n",
    "    def __init__(self):\n",
    "        self.cards  = []\n",
    "        lst_suites = ['Hearts', 'Clubs', 'Spades', 'Diamonds']\n",
    "        lst_faces = ['Ace', '2', '3', '4', '5', '6', '7', \\\n",
    "                      '8', '9', '10', 'Jack', 'Queen', 'King']\n",
    "        #Build unshuffled deck\n",
    "        for i in lst_suites:\n",
    "            for j in lst_faces:\n",
    "                self.cards.append(Card(j,i))\n",
    "                    \n",
    "    # Methods (subject) to change\n",
    "    \n",
    "    ## Shuffle the Deck\n",
    "    def shuffle_deck(self):\n",
    "        shuffle(self.cards)\n",
    "    \n",
    "    ## Deal the last card in the self.cards list. Beware if Deck is empty\n",
    "    def deal_card(self):\n",
    "        if len(self.cards) == 0:\n",
    "            print('Deck is impty!')\n",
    "            return None\n",
    "        elif len(self.cards) == 1:\n",
    "            print('Last card!')\n",
    "            out_card = self.cards[-1]\n",
    "            self.cards = []\n",
    "            return out_card\n",
    "        elif len(self.cards) > 1:\n",
    "            out_card = self.cards[-1]\n",
    "            # Replace by all cards except last in Deck\n",
    "            self.cards = self.cards[0:-2+1] \n",
    "            # Return last card in Deck\n",
    "            return out_card\n",
    "            "
   ]
  },
  {
   "cell_type": "code",
   "execution_count": null,
   "id": "9fd489fb",
   "metadata": {},
   "outputs": [],
   "source": []
  },
  {
   "cell_type": "markdown",
   "id": "c8fcf446",
   "metadata": {},
   "source": [
    "________\n",
    "\n",
    "### I.2.t - Tests"
   ]
  },
  {
   "cell_type": "code",
   "execution_count": null,
   "id": "edaddd48",
   "metadata": {},
   "outputs": [],
   "source": [
    "main_deck = Deck()\n",
    "# print(f'main_deck.cards[2].face = {main_deck.cards[2].face}')\n",
    "for i in main_deck.cards:\n",
    "    print(i)\n",
    "    \n",
    "print(f'len(main_deck.cards)={len(main_deck.cards)}')"
   ]
  },
  {
   "cell_type": "code",
   "execution_count": null,
   "id": "86618bcd",
   "metadata": {},
   "outputs": [],
   "source": [
    "main_deck.shuffle_deck()\n",
    "print(f'len(main_deck.cards)={len(main_deck.cards)}')\n",
    "for i in main_deck.cards:\n",
    "    print(i)"
   ]
  },
  {
   "cell_type": "code",
   "execution_count": null,
   "id": "5ad10be6",
   "metadata": {},
   "outputs": [],
   "source": [
    "dealt_card = main_deck.deal_card()\n",
    "print(f'Dealt card is: {dealt_card}')\n",
    "print(f'len(main_deck.cards)={len(main_deck.cards)}')"
   ]
  },
  {
   "cell_type": "code",
   "execution_count": null,
   "id": "5b53cb88",
   "metadata": {},
   "outputs": [],
   "source": [
    "# IMPORTANT TEST: Dealing a card from the deck and adding to a hand\n",
    "main_deck = Deck()\n",
    "dealt_cards_lst = []\n",
    "\n",
    "for i in range(len(main_deck.cards)):\n",
    "    dealt_cards_lst.append(main_deck.deal_card())"
   ]
  },
  {
   "cell_type": "code",
   "execution_count": null,
   "id": "f568fd6f",
   "metadata": {},
   "outputs": [],
   "source": [
    "# BEWARE: MAKE SURE SUM OF CARDS IN HANDS AND REMAINING IN DECK = 52\n",
    "for i in dealt_cards_lst:\n",
    "    print(i)\n",
    "\n",
    "print(f'len(main_deck.cards)={len(main_deck.cards)}')\n",
    "print(f'len(dealt_cards_lst)={len(dealt_cards_lst)}')"
   ]
  },
  {
   "cell_type": "markdown",
   "id": "f52f8fc8",
   "metadata": {},
   "source": [
    "________________________\n",
    "\n",
    "## I.3 - The Player class\n",
    "\n",
    "There will be 2 players: Main player and dealer.\n",
    "\n",
    "**Important note:** This class will interact with the Card() and Deck() classes\n",
    "\n"
   ]
  },
  {
   "cell_type": "markdown",
   "id": "4135973c",
   "metadata": {},
   "source": [
    "________\n",
    "\n",
    "### I.3.a - Implementation"
   ]
  },
  {
   "cell_type": "code",
   "execution_count": 3,
   "id": "4aebc39a",
   "metadata": {},
   "outputs": [],
   "source": [
    "class Player():\n",
    "    # If the player is 'Dealer', object needn't have money\n",
    "    # When prompting the player to enter her name, check that she doesn't choose the keyword 'Dealer'\n",
    "    def __init__(self, name= 'Player', money = 3000):\n",
    "        \n",
    "        # Important: Either \n",
    "        self.name = name\n",
    "        \n",
    "        # Player's wallet. Set to -1 if dealer?\n",
    "        self.money  = money\n",
    "        \n",
    "        # Important: This has to be a list of Card() objects\n",
    "        self.hand = []\n",
    "        \n",
    "        # Current bet\n",
    "        self.cur_bet = 0\n",
    "    \n",
    "                    \n",
    "    # String representation of an instance\n",
    "    def __str__(self):\n",
    "        if self.name=='Dealer':\n",
    "            return 'This is the Dealer.'\n",
    "        else:\n",
    "            return f'Player {self.name}, with ${self.money} left.'\n",
    "    \n",
    "    # Methods (subject) to change. IMPORTANT: Most methods are never used by 'Dealer'.\n",
    "    ## I'm implementing the Dealer as a player because he also has a hand.\n",
    "    ## BEWARE: When displaying each \"Player's\" hand at the beginning of the round,\n",
    "    ## the dealer's second card IS FACE DOWN.\n",
    "    \n",
    "    def receive_card(self, in_card):\n",
    "        self.hand.append(in_card)\n",
    "    \n",
    "    # This method displays the player's hand:\n",
    "    def display_hand(self, ini_hand):\n",
    "        ## ini_hand = True only when the dealer gives 2 cards each at beginning of round\n",
    "        if self.name=='Dealer' and ini_hand:\n",
    "            print(f'\\u2022\\u2022 {self.name}\\'s hand \\u2022\\u2022')\n",
    "            # Hide first card, i.e. dealer.hand[0]\n",
    "            print('\\u2022 CARD IS FACE DOWN')\n",
    "            print(self.hand[1])\n",
    "            print('\\n')\n",
    "        else:\n",
    "            print(f'\\u2022\\u2022 {self.name}\\'s hand \\u2022\\u2022')\n",
    "            for i in self.hand:\n",
    "                print(i)\n",
    "            print('\\n')\n",
    "    \n",
    "    # If the Player wins the round, this method adds the amount bet to his wallet         \n",
    "    def win_round(self):\n",
    "        self.money = self.money + self.cur_bet\n",
    "    \n",
    "    # If Player loses the round, this method decreases the amount bet to his wallet  \n",
    "    def lose_round(self):\n",
    "        # Beware: The Player shouldn't be allowed to place a bet unless player_bet <= self.money\n",
    "        self.money = self.money - self.cur_bet\n",
    "        "
   ]
  },
  {
   "cell_type": "markdown",
   "id": "f3470cc6",
   "metadata": {},
   "source": [
    "________\n",
    "\n",
    "### I.3.t - Tests"
   ]
  },
  {
   "cell_type": "code",
   "execution_count": null,
   "id": "3ffd669e",
   "metadata": {},
   "outputs": [],
   "source": [
    "# Basic tests\n",
    "## Initialize\n",
    "main_deck = Deck()\n",
    "main_deck.shuffle_deck()\n",
    "player = Player('Jay', 2000)\n",
    "dealer = Player('Dealer',-1)\n"
   ]
  },
  {
   "cell_type": "code",
   "execution_count": null,
   "id": "b10acbfc",
   "metadata": {},
   "outputs": [],
   "source": [
    "## Deal 2 cards to each player above, and print the hands\n",
    "for p in [player, dealer]:\n",
    "    for i in range(0,2):\n",
    "        p.receive_card(main_deck.deal_card())\n",
    "\n",
    "for p in [player, dealer]:\n",
    "    print(f'{p.name}\\'s hand is: ')\n",
    "    for i in range(len(p.hand)):\n",
    "        print(f'({i+1})  {p.hand[i]}')\n",
    "print(f'There are {len(main_deck.cards)} remaining in the deck.')"
   ]
  },
  {
   "cell_type": "markdown",
   "id": "c300cb32",
   "metadata": {},
   "source": [
    "____________________________\n",
    "\n",
    "# II - Functions\n",
    "\n",
    "Here are the functions that we'll need during the game:\n",
    "\n",
    "**- Display Player's hand:** This function displays the Player or the Dealer's hand. Should refresh each time a player hits. *Is it really necessary?*\n",
    "\n",
    "**- Evaluate Hand:** This function computes the total score of a hand. Takes the hand as an argument (a list of Card objects), converts the faces into numerical values. Takes special care of aces.\n",
    "\n",
    "**- Prompt player:** A function with 2 modes: \"Continue game\" (Yes/No) and \"Make move\" (Hit/Stand). Checks if input is valid and returns a specific string to be used elsewhere in main game.\n",
    "\n",
    "**- Place bet:** Function taking main player as input, and which prompts him to place a bet which doesn't exceed the wallet.\n",
    "\n",
    "\n"
   ]
  },
  {
   "cell_type": "markdown",
   "id": "20d67b33",
   "metadata": {},
   "source": [
    "________\n",
    "\n",
    "## II.1 - Evaluate Hand"
   ]
  },
  {
   "cell_type": "markdown",
   "id": "fdb85c63",
   "metadata": {},
   "source": [
    "________\n",
    "\n",
    "### II.1.a - Implementation"
   ]
  },
  {
   "cell_type": "code",
   "execution_count": 4,
   "id": "f6ccee1b",
   "metadata": {},
   "outputs": [],
   "source": [
    "# Function that evaluates hands\n",
    "def eval_hand(in_hand):\n",
    "    # INPUT: Must be a list of Card() objects\n",
    "    # Initializations\n",
    "    out_val_hand = 0 # Final output\n",
    "    tmp_val_hand = 0 # Total value of hand excluding FIRST 'Ace'\n",
    "    \n",
    "    \n",
    "    lst_suites = ['Hearts', 'Clubs', 'Spades', 'Diamonds']\n",
    "    lst_number_faces = ['2', '3', '4', '5', '6', '7', '8', '9']\n",
    "    lst_10_faces = ['10', 'Jack', 'Queen', 'King']\n",
    "    ## This is the list of positions of 'Ace's in the hand\n",
    "    ### Do I even need it?\n",
    "    lst_aces = []\n",
    "    \n",
    "    # First: Loop to find the 'Ace's and get total excluding them\n",
    "    for i in range(len(in_hand)):\n",
    "        \n",
    "        if in_hand[i].suite in lst_suites:\n",
    "        \n",
    "            ## If the card at position i is an 'Ace', record its position in lst_aces\n",
    "            if in_hand[i].face == 'Ace':\n",
    "                lst_aces.append(i)\n",
    "\n",
    "            ## If the card at position i is in the lst_number_faces, add number to tmp_val_hand \n",
    "            elif in_hand[i].face in lst_number_faces:\n",
    "                tmp_val_hand = tmp_val_hand + int(in_hand[i].face)\n",
    "\n",
    "            ## If the card at position i is in the lst_10_faces, add 10 to tmp_val_hand \n",
    "            elif in_hand[i].face in lst_10_faces:\n",
    "                tmp_val_hand = tmp_val_hand + 10\n",
    "                \n",
    "            ## Just in case\n",
    "            else:\n",
    "                print('ERROR: There\\'s an issue with last player\\'s hand, CONTAINS UNKNOWN CARD')\n",
    "                return -404\n",
    "                \n",
    "        # Just in case\n",
    "        else:\n",
    "            print('ERROR: There\\'s an issue with last player\\'s hand, CONTAINS UNKNOWN CARD')\n",
    "            return -404\n",
    "    \n",
    "    # Secondly: Look at values with 'Ace's\n",
    "    ## If there are no 'Ace'':\n",
    "    if len(lst_aces)==0:\n",
    "        out_val_hand = tmp_val_hand\n",
    "        \n",
    "    ## If there's at least one 'Ace':\n",
    "    else:\n",
    "         # tmp_val_hand without the first 'Ace'\n",
    "        if len(lst_aces)>1:\n",
    "            # If the number of Ace's>1, each additional 'Ace' counts for 1\n",
    "            tmp_val_hand = tmp_val_hand + (len(lst_aces)-1)\n",
    "    \n",
    "        # Value of the hand considering the first 'Ace'\n",
    "        if tmp_val_hand>10:\n",
    "            ## If tmp_val_hand>10, first 'Ace' must have value 1\n",
    "            out_val_hand = tmp_val_hand + 1\n",
    "        elif (tmp_val_hand+1)<=(tmp_val_hand+11)<=21:\n",
    "            ## If 11 is the best value for the hand\n",
    "            out_val_hand = tmp_val_hand + 11\n",
    "        \n",
    "    \n",
    "    return out_val_hand\n"
   ]
  },
  {
   "cell_type": "markdown",
   "id": "f0f37f8c",
   "metadata": {},
   "source": [
    "________\n",
    "\n",
    "### II.1.t - Tests"
   ]
  },
  {
   "cell_type": "code",
   "execution_count": null,
   "id": "4fff5648",
   "metadata": {},
   "outputs": [],
   "source": [
    "# First test: Initializations\n",
    "main_deck = Deck()\n",
    "main_deck.shuffle_deck()\n",
    "player = Player('Jay', 2000)\n",
    "dealer = Player('Dealer',-1)\n",
    "## Deal 2 cards to each player above, and print the hands\n",
    "for p in [player, dealer]:\n",
    "    for i in range(0,2):\n",
    "        p.receive_card(main_deck.deal_card())\n",
    "\n",
    "for p in [player, dealer]:\n",
    "    print(f'{p.name}\\'s hand is: ')\n",
    "    for i in range(len(p.hand)):\n",
    "        print(f'({i+1})  {p.hand[i]}')\n",
    "print(f'There are {len(main_deck.cards)} remaining in the deck.')"
   ]
  },
  {
   "cell_type": "code",
   "execution_count": null,
   "id": "aacdecc1",
   "metadata": {},
   "outputs": [],
   "source": [
    "# First test: Now evaluate the hands above\n",
    "for p in [player, dealer]:\n",
    "    print(f'The value of {p.name}\\'s hand is: {eval_hand(p.hand)}')"
   ]
  },
  {
   "cell_type": "code",
   "execution_count": null,
   "id": "33aaeb1e",
   "metadata": {},
   "outputs": [],
   "source": [
    "# Player one Ace and 3 other cards\n",
    "## Recall: Card(face,suite)\n",
    "#player_err = Player('Error', 2000)\n",
    "#player_err.hand = [Card('J','Clubs'),Card('K','Hearts'),Card('Ace','Clubs'),Card('3','Hearts')]\n",
    "#print(f'The value of {player_err.name}\\'s hand is: {eval_hand(player_err.hand)}')\n",
    "\n",
    "player_1 = Player('1_Ace_Blackjack', 2000)\n",
    "player_1.hand = [Card('2','Hearts'),Card('5','Clubs'),Card('Ace','Hearts'),Card('3','Spades')]\n",
    "print(f'The value of {player_1.name}\\'s hand is: {eval_hand(player_1.hand)}')\n",
    "\n",
    "\n",
    "player_2 = Player('1_Ace_11', 2000)\n",
    "player_2.hand = [Card('2','Clubs'),Card('5','Hearts'),Card('Ace','Clubs'),Card('2','Spades')]\n",
    "print(f'The value of {player_2.name}\\'s hand is: {eval_hand(player_2.hand)}')\n",
    "\n",
    "\n",
    "player_3 = Player('1_Ace_1', 2000)\n",
    "player_3.hand = [Card('Jack','Clubs'),Card('King','Hearts'),Card('Ace','Clubs'),Card('3','Hearts')]\n",
    "print(f'The value of {player_3.name}\\'s hand is: {eval_hand(player_3.hand)}')\n",
    "\n",
    "player_4 = Player('4_Aces_11', 10)\n",
    "player_4.hand = [Card('Ace','Clubs'),Card('Ace','Hearts'),Card('Ace','Spades'),Card('Ace','Diamonds'),]\n",
    "print(f'The value of {player_4.name}\\'s hand is: {eval_hand(player_4.hand)}')\n",
    "\n",
    "player_5 = Player('4_Aces_1', 10)\n",
    "player_5.hand = [Card('Ace','Clubs'),Card('Ace','Hearts'),Card('Ace','Spades'),Card('Ace','Diamonds'),\\\n",
    "                Card('King','Diamonds'), Card('7','Spades')]\n",
    "print(f'The value of {player_5.name}\\'s hand is: {eval_hand(player_5.hand)}')\n",
    "\n",
    "player_6 = Player('4_Aces_11_Blackjack', 10)\n",
    "player_6.hand = [Card('Ace','Clubs'),Card('Ace','Hearts'),Card('Ace','Spades'),Card('Ace','Diamonds'),\\\n",
    "                Card('7','Clubs')]\n",
    "print(f'The value of {player_6.name}\\'s hand is: {eval_hand(player_6.hand)}')\n",
    "\n"
   ]
  },
  {
   "cell_type": "code",
   "execution_count": null,
   "id": "cf692a84",
   "metadata": {},
   "outputs": [],
   "source": [
    "player_err = Player('Error', 2000)\n",
    "player_err.hand = [Card('Jack','C'),Card('King','Hearts'),Card('Ace','Clubs'),Card('3','Hearts')]\n",
    "print(f'The value of {player_err.name}\\'s hand is: {eval_hand(player_err.hand)}')"
   ]
  },
  {
   "cell_type": "markdown",
   "id": "6e869171",
   "metadata": {},
   "source": [
    "________\n",
    "\n",
    "## II.2 - Prompt  Player"
   ]
  },
  {
   "cell_type": "markdown",
   "id": "33ca22b4",
   "metadata": {},
   "source": [
    "________\n",
    "\n",
    "### II.1.a - Implementation"
   ]
  },
  {
   "cell_type": "code",
   "execution_count": 5,
   "id": "5a89c485",
   "metadata": {},
   "outputs": [],
   "source": [
    "# Function that prompts player\n",
    "def prompt_player(prompt_mode):\n",
    "    \n",
    "    # Prompt to continue game\n",
    "    if prompt_mode == 'Continue game': # Ask: 'Continue game? Y/N'\n",
    "        valid_input = False\n",
    "        while not valid_input:\n",
    "            in_str = input('Continue game? Y/N\\n')\n",
    "            if in_str in ['Y', 'y', 'Yes', 'yes', '1']:\n",
    "                valid_input = True\n",
    "                out_str = 'Yes'\n",
    "            elif in_str in ['N', 'n', 'No', 'no', '0']:\n",
    "                valid_input = True\n",
    "                out_str = 'No'\n",
    "            else:\n",
    "                print('Sorry, your answer is not valid. Let\\'s try again.')\n",
    "        # Return valid answer\n",
    "        return out_str\n",
    "    \n",
    "    # Prompt player to Hit or Stand\n",
    "    elif prompt_mode == 'Next move': # Ask: 'What is your next move? Hit or Stand? H/S'\n",
    "        valid_input = False\n",
    "        while not valid_input:\n",
    "            in_str = input('What is your next move? Hit or Stand? H/S\\n')\n",
    "            if in_str in ['H', 'h', 'Hit', 'hit', '1']:\n",
    "                valid_input = True\n",
    "                out_str = 'Hit'\n",
    "            elif in_str in ['S', 's', 'Stand', 'stand', '0']:\n",
    "                valid_input = True\n",
    "                out_str = 'Stand'\n",
    "            else:\n",
    "                print('Sorry, your answer is not valid. Let\\'s try again.')\n",
    "        # Return valid answer\n",
    "        return out_str\n",
    "    \n",
    "    else:\n",
    "        print('Error: Invalid mode for function prompt_player().')\n",
    "        return 'ERROR: INVALID MODE'\n",
    "    "
   ]
  },
  {
   "cell_type": "markdown",
   "id": "64ad8d13",
   "metadata": {},
   "source": [
    "________\n",
    "\n",
    "### II.2.t - Tests"
   ]
  },
  {
   "cell_type": "code",
   "execution_count": null,
   "id": "0b7ac0b8",
   "metadata": {},
   "outputs": [],
   "source": [
    "prompt_player('Continue game')"
   ]
  },
  {
   "cell_type": "code",
   "execution_count": null,
   "id": "d7cd5271",
   "metadata": {},
   "outputs": [],
   "source": [
    "prompt_player('Next move')"
   ]
  },
  {
   "cell_type": "code",
   "execution_count": null,
   "id": "e7fddb1c",
   "metadata": {},
   "outputs": [],
   "source": [
    "ten='10'\n",
    "print(f'prompt_player(\\'10\\')={prompt_player(ten)}')"
   ]
  },
  {
   "cell_type": "markdown",
   "id": "1d00f30b",
   "metadata": {},
   "source": [
    "________\n",
    "\n",
    "## II.3 - Place Bet"
   ]
  },
  {
   "cell_type": "markdown",
   "id": "9cfc9011",
   "metadata": {},
   "source": [
    "________\n",
    "\n",
    "### II.1.a - Implementation"
   ]
  },
  {
   "cell_type": "code",
   "execution_count": 6,
   "id": "3d83ef27",
   "metadata": {},
   "outputs": [],
   "source": [
    "# Function that prompts the player to place a bet\n",
    "def place_bet(in_player):\n",
    "    valid_bet = False\n",
    "    while not valid_bet:\n",
    "        try:\n",
    "            in_int = int(input('Place your next bet please (integer multiple of 10).\\n'))\n",
    "            if in_int%10 != 0:\n",
    "                print('Sorry, your bet is not a multiple of 10. \\nLet\\'s try again.')\n",
    "            # If the input number is a multiple of 10, check if player has enough money.\n",
    "            else:\n",
    "                if in_int>in_player.money:\n",
    "                    print('Sorry, you do not have enough funds for this bet. \\nLet\\'s try again.')\n",
    "                # When the bet is valid\n",
    "                else:\n",
    "                    valid_input = True\n",
    "                    print(f'{player.name} bets ${in_int} on the next hand.')\n",
    "                    return in_int\n",
    "        # If player's input cannot be converted to an integer\n",
    "        except:\n",
    "            print('Sorry, your input is invalid. \\nLet\\'s try again.')"
   ]
  },
  {
   "cell_type": "markdown",
   "id": "babb00aa",
   "metadata": {},
   "source": [
    "________\n",
    "\n",
    "### II.3.t - Tests"
   ]
  },
  {
   "cell_type": "code",
   "execution_count": 25,
   "id": "581d3c0d",
   "metadata": {
    "scrolled": true
   },
   "outputs": [
    {
     "name": "stdout",
     "output_type": "stream",
     "text": [
      "Place your next bet please (integer multiple of 10).\n",
      ";;;;\n",
      "Sorry, your input is invalid. \n",
      "Let's try again.\n",
      "Place your next bet please (integer multiple of 10).\n",
      "5\n",
      "Sorry, your bet is not a multiple of 10. \n",
      "Let's try again.\n",
      "Place your next bet please (integer multiple of 10).\n",
      "30\n",
      "Jay bets $30 on the next hand.\n",
      "player_bet = 30\n"
     ]
    }
   ],
   "source": [
    "player = Player('Jay', 50)\n",
    "player_bet = place_bet(player)\n",
    "print(f'player_bet = {player_bet}')"
   ]
  },
  {
   "cell_type": "code",
   "execution_count": null,
   "id": "87493341",
   "metadata": {},
   "outputs": [],
   "source": []
  },
  {
   "cell_type": "markdown",
   "id": "3d3bdb97",
   "metadata": {},
   "source": [
    "____________________"
   ]
  },
  {
   "cell_type": "markdown",
   "id": "a8c4eb15",
   "metadata": {},
   "source": [
    "________\n",
    "\n",
    "## II.4 - Display Hand\n",
    "\n",
    "Takes-in a Player and Boolean as arguments, and displays the hand of the player. The Boolean is \"ini_hand\" for initial hand, in which case the function keeps the first card of the Dealer FACE DOWN.\n",
    "\n",
    "**Remark:** I've incorporated this function into the Player() class, as player.display_hand(ini_hand)."
   ]
  },
  {
   "cell_type": "markdown",
   "id": "b8fc0172",
   "metadata": {},
   "source": [
    "________\n",
    "\n",
    "### II.4.a - Implementation"
   ]
  },
  {
   "cell_type": "code",
   "execution_count": 32,
   "id": "be81b57c",
   "metadata": {},
   "outputs": [],
   "source": [
    "# Function that displays a player's hand\n",
    "# Do I even need this? Not really, but will make the main game source shorter\n",
    "# I've incorporated this function into the Player class\n",
    "def display_player_hand(in_player, ini_hand):\n",
    "    # ini_hand = True only when the dealer gives 2 cards each at beginning of round\n",
    "    if in_player.name=='Dealer' and ini_hand:\n",
    "        # Hide first card, i.e. dealer.hand[0]\n",
    "        print('\\u2022 CARD IS FACE DOWN')\n",
    "        print(in_player.hand[1])\n",
    "    else:\n",
    "        for i in in_player.hand:\n",
    "            print(i)\n",
    "        \n",
    "        "
   ]
  },
  {
   "cell_type": "markdown",
   "id": "89e4e23d",
   "metadata": {},
   "source": [
    "________\n",
    "\n",
    "### II.3.t - Tests"
   ]
  },
  {
   "cell_type": "code",
   "execution_count": 44,
   "id": "5df151d3",
   "metadata": {},
   "outputs": [],
   "source": [
    "# Basic tests\n",
    "## Initialize\n",
    "main_deck = Deck()\n",
    "main_deck.shuffle_deck()\n",
    "player = Player('Jay', 2000)\n",
    "dealer = Player('Dealer',-1)\n",
    "## Deal 2 cards to each player above, and print the hands\n",
    "for p in [player, dealer]:\n",
    "    for i in range(0,2):\n",
    "        p.receive_card(main_deck.deal_card())"
   ]
  },
  {
   "cell_type": "code",
   "execution_count": 38,
   "id": "b4eef9b9",
   "metadata": {
    "collapsed": true
   },
   "outputs": [
    {
     "name": "stdout",
     "output_type": "stream",
     "text": [
      "•• Jay's hand ••\n",
      "• Queen of Diamonds\n",
      "• Ace of Hearts\n",
      "\n",
      "\n",
      "•• Dealer's hand ••\n",
      "• CARD IS FACE DOWN\n",
      "• Queen of Hearts\n",
      "\n",
      "\n"
     ]
    }
   ],
   "source": [
    "# This gives good presentation\n",
    "\n",
    "for p in [player, dealer]:\n",
    "    print(f'\\u2022\\u2022 {p.name}\\'s hand \\u2022\\u2022')\n",
    "    display_player_hand(p,True)\n",
    "    print('\\n')"
   ]
  },
  {
   "cell_type": "code",
   "execution_count": 46,
   "id": "34c8e297",
   "metadata": {
    "collapsed": true
   },
   "outputs": [
    {
     "name": "stdout",
     "output_type": "stream",
     "text": [
      "• Jay's hand •\n",
      "• 2 of Clubs\n",
      "• 9 of Spades\n",
      "\n",
      "\n",
      "• Dealer's hand •\n",
      "• CARD IS FACE DOWN\n",
      "• 4 of Clubs\n",
      "\n",
      "\n"
     ]
    }
   ],
   "source": [
    "for p in [player, dealer]:\n",
    "    p.display_hand(True)"
   ]
  },
  {
   "cell_type": "markdown",
   "id": "0a574ee7",
   "metadata": {},
   "source": [
    "____________________________\n",
    "\n",
    "# III - Main Game\n",
    "\n"
   ]
  },
  {
   "cell_type": "markdown",
   "id": "158c92be",
   "metadata": {},
   "source": [
    "## Remark: I'm creating a shorter draft for convenience. It's the V2 update."
   ]
  },
  {
   "cell_type": "code",
   "execution_count": null,
   "id": "2d417dd5",
   "metadata": {},
   "outputs": [],
   "source": [
    "import os\n",
    "# Welcome player, ask if want to play\n",
    "print('Welcome to the (simplified) Blackjack game!!')\n",
    "continue_game = prompt_player('Continue game')\n",
    "\n",
    "if continue_game == 'No':\n",
    "    pass\n",
    "    \n",
    "# If player chooses 'Yes'\n",
    "elif continue_game == 'Yes':\n",
    "    ## Clear the prompt ##\n",
    "    os.system('cls')\n",
    "    \n",
    "    ## Get player's name ##\n",
    "    player_name = input('Please enter your name:\\n')\n",
    "    \n",
    "    ##### MAIN GAME LOOP #####\n",
    "    while continue_game == 'Yes':\n",
    "        \n",
    "        ##### 0 - INITIALIZATIONS OF PLAYERS #####\n",
    "        player = Player(player_name, 3000)\n",
    "        dealer = Player('Dealer', -1)\n",
    "        \n",
    "        ###############################\n",
    "        ##### 1 - BEGIN NEW ROUND #####\n",
    "        ###############################\n",
    "        \n",
    "        ## (1.a) Initialize deck and shuffle ##\n",
    "        main_deck = Deck()\n",
    "        main_deck.shuffle_deck()\n",
    "        \n",
    "        ## (1.b) Player places bet ##\n",
    "        # Gets updated in Part 4\n",
    "        player_bet = place_bet(player)\n",
    "        player.cur_bet = player_bet\n",
    "        \n",
    "        ## (1.c) Dealer distributes 4 cards ##\n",
    "        for i in range(2):\n",
    "            player.receive_card(main_deck.deal_card())\n",
    "            print(f'{player.name} received a card.')\n",
    "            dealer.receive_card(main_deck.deal_card())\n",
    "            print(f'{dealer.name} received a card.')\n",
    "        print('\\n')\n",
    "        \n",
    "        ## (1.d) Display initial hands##\n",
    "        player.display_hand(True)\n",
    "        dealer.display_hand(True)\n",
    "        \n",
    "        ## (1.e) Compute hand values and initialize state variables for loops below ##\n",
    "        player_hand_val = eval_hand(player.hand)\n",
    "        dealer_hand_val = eval_hand(dealer.hand)\n",
    "        \n",
    "        # Updated in Part 2\n",
    "        player_bust = False\n",
    "        \n",
    "        # If player got a Blackjack, skip his turn\n",
    "        if (player_hand_val == 21):\n",
    "            print(f'{player.name} has a BLACKJACK!\\n')\n",
    "            player_turn = False\n",
    "        elif (player_hand_val<21):\n",
    "            player_turn = True\n",
    "            \n",
    "        \n",
    "        ###############################\n",
    "        ##### 2 - PLAYER'S TURN   #####\n",
    "        ###############################\n",
    "        \n",
    "        \n",
    "        ## SECOND GAME LOOP ##\n",
    "        while player_turn and not player_bust:\n",
    "            # There's a problem below. The player could have been dealt a Blackjack from beginning.\n",
    "            \n",
    "            ## (2.b) Prompt player for next move ##\n",
    "            # Ask if player wants to hit or stand\n",
    "            player_input = prompt_player('Next move')\n",
    "            \n",
    "            # If player stands\n",
    "            if player_input == 'Stand':\n",
    "                print(f'{player.name} stands.')\n",
    "                \n",
    "                # Break while loop\n",
    "                player_turn = False\n",
    "            \n",
    "            ## (2.c) If player hits ##\n",
    "            elif player_input == 'Hit':\n",
    "                print(f'{player.name} hits.')\n",
    "                \n",
    "                # Player receives a new card\n",
    "                player.receive_card(main_deck.deal_card())\n",
    "                \n",
    "                # Display new hand\n",
    "                player.display_hand(False)\n",
    "            \n",
    "                ## (2.d) Player's current hand ##\n",
    "\n",
    "                # Evaluate Player's current hand\n",
    "                player_hand_val = eval_hand(player.hand)\n",
    "\n",
    "                # If player is bust, announce and break loop\n",
    "                if (player_hand_val > 21):\n",
    "                    print(f'{player.name} is BUST!\\n')\n",
    "                    player_bust = True\n",
    "                    player_turn = False\n",
    "\n",
    "                # If player has a Blackjack, announce and break loop\n",
    "                elif (player_hand_val == 21):\n",
    "                    print(f'{player.name} has a BLACKJACK!\\n')\n",
    "                    player_turn = False\n",
    "                \n",
    "         \n",
    "                    \n",
    "        ###############################\n",
    "        ##### 3 - DEALER'S TURN   #####\n",
    "        ###############################\n",
    "        \n",
    "        ## (3.a) Display Dealer's hand ##\n",
    "        dealer_bust = False\n",
    "        dealer.display_hand(False)\n",
    "        dealer_hand_val = eval_hand(dealer.hand)\n",
    "        \n",
    "        ## (3.b) Decide if Dealer's turn ##\n",
    "        # Dealer has a Blackjack\n",
    "        if (dealer_hand_val == 21):\n",
    "            print(f'{dealer.name} has a BLACKJACK!\\n')\n",
    "            dealer_turn = False\n",
    "        \n",
    "        # Player is bust, Dealer does nothing\n",
    "        elif player_bust and (dealer_hand_val <21):\n",
    "            dealer_turn = False\n",
    "            \n",
    "        # Dealer will hit\n",
    "        elif (not player_bust) and (dealer_hand_val < 21) and (dealer_hand_val <= player_hand_val):\n",
    "            dealer_turn = True\n",
    "        \n",
    "        ## (3.c) Start Dealer's HITTING loop ##\n",
    "        # To enter this loop, must have player_bust = False\n",
    "        while dealer_turn:\n",
    "            # Deal new card to dealer\n",
    "            dealer.receive_card(main_deck.deal_card())\n",
    "            \n",
    "            # Display Dealer's new hand\n",
    "            dealer.display_hand(False)\n",
    "            dealer_hand_val = eval_hand(dealer.hand)\n",
    "            \n",
    "            ## (3.d) Decide dealer_turn value ##\n",
    "            # Dealer has a Blackjack, announce and break loop\n",
    "            if (dealer_hand_val == 21):\n",
    "                print(f'{dealer.name} has a BLACKJACK!\\n')\n",
    "                dealer_turn = False\n",
    "                \n",
    "            # Dealer is BUST, announce and break loop\n",
    "            elif (dealer_hand_val > 21):\n",
    "                print(f'{dealer.name} is BUST!\\n')\n",
    "                dealer_bust = True\n",
    "                dealer_turn = False\n",
    "                \n",
    "            elif (dealer_hand_val < 21) and (dealer_hand_val <= player_hand_val):\n",
    "                dealer_turn = True\n",
    "            \n",
    "                \n",
    "        \n",
    "        ###############################\n",
    "        ##### 4 - DETERMINE WINNER   ##\n",
    "        ###############################\n",
    "        \n",
    "        ## (4.a) PUSH cases ##\n",
    "        if (player_hand_val==dealer_hand_val) or (player_bust and dealer_bust):\n",
    "            print('PUSH!! No winner this round...\\n')\n",
    "            \n",
    "            # Reinitialize player's bet (Just in case)\n",
    "            player_bet =0\n",
    "            player.cur_bet = 0\n",
    "            \n",
    "        ## (4.b) LOSING cases\n",
    "        elif (player_bust or (player_hand_val<dealer_hand_val)) and (not dealer_bust):\n",
    "            print(f'{player.name} has LOST!!\\n')\n",
    "            \n",
    "            # Subtract player's bet from wallet\n",
    "            player.lose_round()\n",
    "            player_bet = 0\n",
    "            player.cur_bet = 0\n",
    "        \n",
    "        ## (4.c) WINNING cases\n",
    "        elif (dealer_bust or (player_hand_val>dealer_hand_val)) and (not player_bust):\n",
    "            print(f'{player.name} has WON ${player_bet}!! Congratulations!!\\n')\n",
    "            \n",
    "            # Subtract player's bet from wallet\n",
    "            player.win_round()\n",
    "            player_bet = 0\n",
    "            player.cur_bet = 0\n",
    "            \n",
    "        \n",
    "        \n",
    "        ##### END OF ROUND - ASK IF PLAYER WANTS TO CONTINUE #####\n",
    "        print(f'{player.name} has ${player.money}.\\n')\n",
    "        continue_game = prompt_player('Continue game')\n",
    "    \n",
    "print('Thank you! Please come again!')"
   ]
  },
  {
   "cell_type": "markdown",
   "id": "c9216dd2",
   "metadata": {},
   "source": [
    "____________________________\n",
    "\n",
    "# Old tests\n",
    "\n"
   ]
  },
  {
   "cell_type": "code",
   "execution_count": null,
   "id": "0a75091a",
   "metadata": {},
   "outputs": [],
   "source": []
  },
  {
   "cell_type": "code",
   "execution_count": null,
   "id": "c3fda118",
   "metadata": {},
   "outputs": [],
   "source": [
    "from random import shuffle as shuffle\n",
    "lst = ['This', ' is', ' a', ' list', ' of', ' words', ' to', ' shuffle']\n",
    "print(f'Original list: lst= {lst}')"
   ]
  },
  {
   "cell_type": "code",
   "execution_count": null,
   "id": "d673dd5a",
   "metadata": {},
   "outputs": [],
   "source": [
    "shuffle(lst)\n",
    "print(f'Shuffled list: lst= {lst}')"
   ]
  },
  {
   "cell_type": "code",
   "execution_count": null,
   "id": "e5629de2",
   "metadata": {},
   "outputs": [],
   "source": [
    "len(lst)"
   ]
  },
  {
   "cell_type": "code",
   "execution_count": null,
   "id": "e5a94b5d",
   "metadata": {},
   "outputs": [],
   "source": [
    "lst_0 = []\n",
    "len(lst_0)"
   ]
  },
  {
   "cell_type": "code",
   "execution_count": null,
   "id": "d638805d",
   "metadata": {},
   "outputs": [],
   "source": [
    "lst_1 = ['Last one']\n",
    "print(f'lst_1[0] = {lst_1[0]}')\n",
    "print(f'lst_1[-1] = {lst_1[-1]}')\n",
    "print(f'lst[-2] = {lst[-2]}')\n"
   ]
  },
  {
   "cell_type": "code",
   "execution_count": null,
   "id": "fced49b5",
   "metadata": {},
   "outputs": [],
   "source": [
    "lst_2 = ['Only ', 'two']\n",
    "print(f'lst_2[0] = {lst_2[0]}')\n",
    "print(f'lst_2[-2] = {lst_2[-2]}')\n",
    "lst_1 = lst_2[0:-1]\n",
    "print(f'lst_2[0:-2+1] = {lst_1}')"
   ]
  },
  {
   "cell_type": "code",
   "execution_count": null,
   "id": "c57e64fc",
   "metadata": {},
   "outputs": [],
   "source": [
    "lst_10_faces = ['10', 'Jack', 'Queen', 'King']\n",
    "strVar = 'Jack'\n",
    "strVar in lst_10_faces"
   ]
  },
  {
   "cell_type": "code",
   "execution_count": null,
   "id": "936ce26a",
   "metadata": {},
   "outputs": [],
   "source": [
    "type(main_deck)"
   ]
  },
  {
   "cell_type": "code",
   "execution_count": null,
   "id": "56339d90",
   "metadata": {},
   "outputs": [],
   "source": [
    "print('\\u2022 ') # BULLET POINT IN PYTHON"
   ]
  },
  {
   "cell_type": "code",
   "execution_count": null,
   "id": "120dbd63",
   "metadata": {},
   "outputs": [],
   "source": []
  }
 ],
 "metadata": {
  "kernelspec": {
   "display_name": "Python 3",
   "language": "python",
   "name": "python3"
  },
  "language_info": {
   "codemirror_mode": {
    "name": "ipython",
    "version": 3
   },
   "file_extension": ".py",
   "mimetype": "text/x-python",
   "name": "python",
   "nbconvert_exporter": "python",
   "pygments_lexer": "ipython3",
   "version": "3.8.8"
  }
 },
 "nbformat": 4,
 "nbformat_minor": 5
}
