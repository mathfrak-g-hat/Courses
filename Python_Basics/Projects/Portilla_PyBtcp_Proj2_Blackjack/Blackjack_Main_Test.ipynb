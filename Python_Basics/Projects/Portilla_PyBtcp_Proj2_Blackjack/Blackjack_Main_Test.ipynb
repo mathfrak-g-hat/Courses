{
 "cells": [
  {
   "cell_type": "code",
   "execution_count": null,
   "id": "dd64642e",
   "metadata": {},
   "outputs": [],
   "source": [
    "%run Portilla_PyBtcp_Sec11.Blackjack_Main.py"
   ]
  },
  {
   "cell_type": "code",
   "execution_count": null,
   "id": "c9e57d27",
   "metadata": {},
   "outputs": [],
   "source": []
  }
 ],
 "metadata": {
  "kernelspec": {
   "display_name": "Python 3",
   "language": "python",
   "name": "python3"
  },
  "language_info": {
   "codemirror_mode": {
    "name": "ipython",
    "version": 3
   },
   "file_extension": ".py",
   "mimetype": "text/x-python",
   "name": "python",
   "nbconvert_exporter": "python",
   "pygments_lexer": "ipython3",
   "version": "3.8.8"
  }
 },
 "nbformat": 4,
 "nbformat_minor": 5
}
