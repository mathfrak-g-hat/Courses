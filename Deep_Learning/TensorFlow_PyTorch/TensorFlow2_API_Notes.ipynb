{
 "cells": [
  {
   "cell_type": "markdown",
   "id": "6871ac25",
   "metadata": {},
   "source": [
    "# I - The TensorFlow 2 API - Notes\n",
    "### 2022/06/16, Ahmed J Zerouali\n",
    "### Updated: 2022/07/06\n",
    "\n",
    "## 1) Introduction\n",
    "This notebook gathers some fundamentals of the TF2 API, following S Ravichandiran's \"Deep RL with Python\" Ch. 8. The main objective is to record a high level overview of this library and get a working understanding of its functioning.\n",
    "\n",
    "**Comment:** Ravichandiran's presentation is not how I would do it. I'll follow him first and then make the appropriate changes to these notes.\n"
   ]
  },
  {
   "cell_type": "code",
   "execution_count": 1,
   "id": "e96e4b02",
   "metadata": {},
   "outputs": [],
   "source": [
    "import numpy as np\n",
    "import pandas as pd\n",
    "import matplotlib.pyplot as plt\n",
    "import tensorflow as tf"
   ]
  },
  {
   "cell_type": "code",
   "execution_count": null,
   "id": "bba8863c",
   "metadata": {},
   "outputs": [],
   "source": [
    "import warning\n"
   ]
  },
  {
   "cell_type": "code",
   "execution_count": 2,
   "id": "16c2ad2c",
   "metadata": {},
   "outputs": [
    {
     "name": "stderr",
     "output_type": "stream",
     "text": [
      "Traceback (most recent call last):\n",
      "  File \"C:\\ProgramData\\Anaconda3\\Scripts\\matplotlib-script.py\", line 10, in <module>\n",
      "    sys.exit(plotting._matplotlib())\n",
      "AttributeError: module 'pandas.plotting' has no attribute '_matplotlib'\n"
     ]
    }
   ],
   "source": [
    "!matplotlib inline"
   ]
  },
  {
   "cell_type": "markdown",
   "id": "ac823cdc",
   "metadata": {},
   "source": [
    "A word of caution. Ravichandiran first explains how TF1.x worked, and later focuses on TF2. For example, the \"Hello TensorFlow\" example on p.320 is applicable to version 1:\n",
    "\n",
    "            hello = tf.constant(\"Hello TensorFlow\")\n",
    "            sess = tf.Session()\n",
    "            print(sess.run(hello))\n",
    "            \n",
    "This code returns an error in TF2, since the Session() module has been moved to *compat.v1*. See: https://www.tensorflow.org/api_docs/python/tf/compat/v1/Session.\n",
    "\n",
    "One way to reproduce the code above in TF2.x is as follows:"
   ]
  },
  {
   "cell_type": "code",
   "execution_count": 6,
   "id": "e9e9151a",
   "metadata": {},
   "outputs": [
    {
     "name": "stdout",
     "output_type": "stream",
     "text": [
      "b'Hello TensorFlow 2'\n"
     ]
    }
   ],
   "source": [
    "# We'll clarify the meaning of this call later (see graph mode and eager execution below)\n",
    "tf.compat.v1.disable_eager_execution()\n",
    "\n",
    "tf_hello = tf.constant(\"Hello TensorFlow 2\")\n",
    "test_session = tf.compat.v1.Session()\n",
    "print(test_session.run(tf_hello))"
   ]
  },
  {
   "cell_type": "code",
   "execution_count": 4,
   "id": "58a71da7",
   "metadata": {
    "collapsed": true,
    "jupyter": {
     "outputs_hidden": true
    }
   },
   "outputs": [
    {
     "name": "stdout",
     "output_type": "stream",
     "text": [
      "Help on class Session in module tensorflow.python.client.session:\n",
      "\n",
      "class Session(BaseSession)\n",
      " |  Session(target='', graph=None, config=None)\n",
      " |  \n",
      " |  A class for running TensorFlow operations.\n",
      " |  \n",
      " |  A `Session` object encapsulates the environment in which `Operation`\n",
      " |  objects are executed, and `Tensor` objects are evaluated. For\n",
      " |  example:\n",
      " |  \n",
      " |  ```python\n",
      " |  tf.compat.v1.disable_eager_execution() # need to disable eager in TF2.x\n",
      " |  # Build a graph.\n",
      " |  a = tf.constant(5.0)\n",
      " |  b = tf.constant(6.0)\n",
      " |  c = a * b\n",
      " |  \n",
      " |  # Launch the graph in a session.\n",
      " |  sess = tf.compat.v1.Session()\n",
      " |  \n",
      " |  # Evaluate the tensor `c`.\n",
      " |  print(sess.run(c)) # prints 30.0\n",
      " |  ```\n",
      " |  \n",
      " |  A session may own resources, such as\n",
      " |  `tf.Variable`, `tf.queue.QueueBase`,\n",
      " |  and `tf.compat.v1.ReaderBase`. It is important to release\n",
      " |  these resources when they are no longer required. To do this, either\n",
      " |  invoke the `tf.Session.close` method on the session, or use\n",
      " |  the session as a context manager. The following two examples are\n",
      " |  equivalent:\n",
      " |  \n",
      " |  ```python\n",
      " |  # Using the `close()` method.\n",
      " |  sess = tf.compat.v1.Session()\n",
      " |  sess.run(...)\n",
      " |  sess.close()\n",
      " |  \n",
      " |  # Using the context manager.\n",
      " |  with tf.compat.v1.Session() as sess:\n",
      " |    sess.run(...)\n",
      " |  ```\n",
      " |  \n",
      " |  The\n",
      " |  [`ConfigProto`](https://www.tensorflow.org/code/tensorflow/core/protobuf/config.proto)\n",
      " |  protocol buffer exposes various configuration options for a\n",
      " |  session. For example, to create a session that uses soft constraints\n",
      " |  for device placement, and log the resulting placement decisions,\n",
      " |  create a session as follows:\n",
      " |  \n",
      " |  ```python\n",
      " |  # Launch the graph in a session that allows soft device placement and\n",
      " |  # logs the placement decisions.\n",
      " |  sess = tf.compat.v1.Session(config=tf.compat.v1.ConfigProto(\n",
      " |      allow_soft_placement=True,\n",
      " |      log_device_placement=True))\n",
      " |  ```\n",
      " |  \n",
      " |  Method resolution order:\n",
      " |      Session\n",
      " |      BaseSession\n",
      " |      SessionInterface\n",
      " |      builtins.object\n",
      " |  \n",
      " |  Methods defined here:\n",
      " |  \n",
      " |  __enter__(self)\n",
      " |  \n",
      " |  __exit__(self, exec_type, exec_value, exec_tb)\n",
      " |  \n",
      " |  __init__(self, target='', graph=None, config=None)\n",
      " |      Creates a new TensorFlow session.\n",
      " |      \n",
      " |      If no `graph` argument is specified when constructing the session,\n",
      " |      the default graph will be launched in the session. If you are\n",
      " |      using more than one graph (created with `tf.Graph()`) in the same\n",
      " |      process, you will have to use different sessions for each graph,\n",
      " |      but each graph can be used in multiple sessions. In this case, it\n",
      " |      is often clearer to pass the graph to be launched explicitly to\n",
      " |      the session constructor.\n",
      " |      \n",
      " |      Args:\n",
      " |        target: (Optional.) The execution engine to connect to. Defaults to using\n",
      " |          an in-process engine. See\n",
      " |          [Distributed TensorFlow](https://tensorflow.org/deploy/distributed) for\n",
      " |            more examples.\n",
      " |        graph: (Optional.) The `Graph` to be launched (described above).\n",
      " |        config: (Optional.) A\n",
      " |          [`ConfigProto`](https://www.tensorflow.org/code/tensorflow/core/protobuf/config.proto)\n",
      " |            protocol buffer with configuration options for the session.\n",
      " |  \n",
      " |  ----------------------------------------------------------------------\n",
      " |  Static methods defined here:\n",
      " |  \n",
      " |  reset(target, containers=None, config=None)\n",
      " |      Resets resource containers on `target`, and close all connected sessions.\n",
      " |      \n",
      " |      A resource container is distributed across all workers in the\n",
      " |      same cluster as `target`.  When a resource container on `target`\n",
      " |      is reset, resources associated with that container will be cleared.\n",
      " |      In particular, all Variables in the container will become undefined:\n",
      " |      they lose their values and shapes.\n",
      " |      \n",
      " |      NOTE:\n",
      " |      (i) reset() is currently only implemented for distributed sessions.\n",
      " |      (ii) Any sessions on the master named by `target` will be closed.\n",
      " |      \n",
      " |      If no resource containers are provided, all containers are reset.\n",
      " |      \n",
      " |      Args:\n",
      " |        target: The execution engine to connect to.\n",
      " |        containers: A list of resource container name strings, or `None` if all of\n",
      " |          all the containers are to be reset.\n",
      " |        config: (Optional.) Protocol buffer with configuration options.\n",
      " |      \n",
      " |      Raises:\n",
      " |        tf.errors.OpError: Or one of its subclasses if an error occurs while\n",
      " |          resetting containers.\n",
      " |  \n",
      " |  ----------------------------------------------------------------------\n",
      " |  Methods inherited from BaseSession:\n",
      " |  \n",
      " |  __del__(self)\n",
      " |  \n",
      " |  as_default(self)\n",
      " |      Returns a context manager that makes this object the default session.\n",
      " |      \n",
      " |      Use with the `with` keyword to specify that calls to\n",
      " |      `tf.Operation.run` or `tf.Tensor.eval` should be executed in\n",
      " |      this session.\n",
      " |      \n",
      " |      ```python\n",
      " |      c = tf.constant(..)\n",
      " |      sess = tf.compat.v1.Session()\n",
      " |      \n",
      " |      with sess.as_default():\n",
      " |        assert tf.compat.v1.get_default_session() is sess\n",
      " |        print(c.eval())\n",
      " |      ```\n",
      " |      \n",
      " |      To get the current default session, use `tf.compat.v1.get_default_session`.\n",
      " |      \n",
      " |      *N.B.* The `as_default` context manager *does not* close the\n",
      " |      session when you exit the context, and you must close the session\n",
      " |      explicitly.\n",
      " |      \n",
      " |      ```python\n",
      " |      c = tf.constant(...)\n",
      " |      sess = tf.compat.v1.Session()\n",
      " |      with sess.as_default():\n",
      " |        print(c.eval())\n",
      " |      # ...\n",
      " |      with sess.as_default():\n",
      " |        print(c.eval())\n",
      " |      \n",
      " |      sess.close()\n",
      " |      ```\n",
      " |      \n",
      " |      Alternatively, you can use `with tf.compat.v1.Session():` to create a\n",
      " |      session that is automatically closed on exiting the context,\n",
      " |      including when an uncaught exception is raised.\n",
      " |      \n",
      " |      *N.B.* The default session is a property of the current thread. If you\n",
      " |      create a new thread, and wish to use the default session in that\n",
      " |      thread, you must explicitly add a `with sess.as_default():` in that\n",
      " |      thread's function.\n",
      " |      \n",
      " |      *N.B.* Entering a `with sess.as_default():` block does not affect\n",
      " |      the current default graph. If you are using multiple graphs, and\n",
      " |      `sess.graph` is different from the value of\n",
      " |      `tf.compat.v1.get_default_graph`, you must explicitly enter a\n",
      " |      `with sess.graph.as_default():` block to make `sess.graph` the default\n",
      " |      graph.\n",
      " |      \n",
      " |      Returns:\n",
      " |        A context manager using this session as the default session.\n",
      " |  \n",
      " |  close(self)\n",
      " |      Closes this session.\n",
      " |      \n",
      " |      Calling this method frees all resources associated with the session.\n",
      " |      \n",
      " |      Raises:\n",
      " |        tf.errors.OpError: Or one of its subclasses if an error occurs while\n",
      " |          closing the TensorFlow session.\n",
      " |  \n",
      " |  list_devices(self)\n",
      " |      Lists available devices in this session.\n",
      " |      \n",
      " |      ```python\n",
      " |      devices = sess.list_devices()\n",
      " |      for d in devices:\n",
      " |        print(d.name)\n",
      " |      ```\n",
      " |      \n",
      " |      Where:\n",
      " |        Each element in the list has the following properties\n",
      " |        name: A string with the full name of the device. ex:\n",
      " |            `/job:worker/replica:0/task:3/device:CPU:0`\n",
      " |        device_type: The type of the device (e.g. `CPU`, `GPU`, `TPU`.)\n",
      " |        memory_limit: The maximum amount of memory available on the device.\n",
      " |            Note: depending on the device, it is possible the usable memory could\n",
      " |            be substantially less.\n",
      " |      \n",
      " |      Raises:\n",
      " |        tf.errors.OpError: If it encounters an error (e.g. session is in an\n",
      " |        invalid state, or network errors occur).\n",
      " |      \n",
      " |      Returns:\n",
      " |        A list of devices in the session.\n",
      " |  \n",
      " |  make_callable(self, fetches, feed_list=None, accept_options=False)\n",
      " |      Returns a Python callable that runs a particular step.\n",
      " |      \n",
      " |      The returned callable will take `len(feed_list)` arguments whose types\n",
      " |      must be compatible feed values for the respective elements of `feed_list`.\n",
      " |      For example, if element `i` of `feed_list` is a `tf.Tensor`, the `i`th\n",
      " |      argument to the returned callable must be a numpy ndarray (or something\n",
      " |      convertible to an ndarray) with matching element type and shape. See\n",
      " |      `tf.Session.run` for details of the allowable feed key and value types.\n",
      " |      \n",
      " |      The returned callable will have the same return type as\n",
      " |      `tf.Session.run(fetches, ...)`. For example, if `fetches` is a `tf.Tensor`,\n",
      " |      the callable will return a numpy ndarray; if `fetches` is a `tf.Operation`,\n",
      " |      it will return `None`.\n",
      " |      \n",
      " |      Args:\n",
      " |        fetches: A value or list of values to fetch. See `tf.Session.run` for\n",
      " |          details of the allowable fetch types.\n",
      " |        feed_list: (Optional.) A list of `feed_dict` keys. See `tf.Session.run`\n",
      " |          for details of the allowable feed key types.\n",
      " |        accept_options: (Optional.) If `True`, the returned `Callable` will be\n",
      " |          able to accept `tf.compat.v1.RunOptions` and `tf.compat.v1.RunMetadata`\n",
      " |          as optional keyword arguments `options` and `run_metadata`,\n",
      " |          respectively, with the same syntax and semantics as `tf.Session.run`,\n",
      " |          which is useful for certain use cases (profiling and debugging) but will\n",
      " |          result in measurable slowdown of the `Callable`'s\n",
      " |          performance. Default: `False`.\n",
      " |      \n",
      " |      Returns:\n",
      " |        A function that when called will execute the step defined by\n",
      " |        `feed_list` and `fetches` in this session.\n",
      " |      \n",
      " |      Raises:\n",
      " |        TypeError: If `fetches` or `feed_list` cannot be interpreted\n",
      " |          as arguments to `tf.Session.run`.\n",
      " |  \n",
      " |  partial_run(self, handle, fetches, feed_dict=None)\n",
      " |      Continues the execution with more feeds and fetches.\n",
      " |      \n",
      " |      This is EXPERIMENTAL and subject to change.\n",
      " |      \n",
      " |      To use partial execution, a user first calls `partial_run_setup()` and\n",
      " |      then a sequence of `partial_run()`. `partial_run_setup` specifies the\n",
      " |      list of feeds and fetches that will be used in the subsequent\n",
      " |      `partial_run` calls.\n",
      " |      \n",
      " |      The optional `feed_dict` argument allows the caller to override\n",
      " |      the value of tensors in the graph. See run() for more information.\n",
      " |      \n",
      " |      Below is a simple example:\n",
      " |      \n",
      " |      ```python\n",
      " |      a = array_ops.placeholder(dtypes.float32, shape=[])\n",
      " |      b = array_ops.placeholder(dtypes.float32, shape=[])\n",
      " |      c = array_ops.placeholder(dtypes.float32, shape=[])\n",
      " |      r1 = math_ops.add(a, b)\n",
      " |      r2 = math_ops.multiply(r1, c)\n",
      " |      \n",
      " |      h = sess.partial_run_setup([r1, r2], [a, b, c])\n",
      " |      res = sess.partial_run(h, r1, feed_dict={a: 1, b: 2})\n",
      " |      res = sess.partial_run(h, r2, feed_dict={c: res})\n",
      " |      ```\n",
      " |      \n",
      " |      Args:\n",
      " |        handle: A handle for a sequence of partial runs.\n",
      " |        fetches: A single graph element, a list of graph elements, or a dictionary\n",
      " |          whose values are graph elements or lists of graph elements (see\n",
      " |          documentation for `run`).\n",
      " |        feed_dict: A dictionary that maps graph elements to values (described\n",
      " |          above).\n",
      " |      \n",
      " |      Returns:\n",
      " |        Either a single value if `fetches` is a single graph element, or\n",
      " |        a list of values if `fetches` is a list, or a dictionary with the\n",
      " |        same keys as `fetches` if that is a dictionary\n",
      " |        (see documentation for `run`).\n",
      " |      \n",
      " |      Raises:\n",
      " |        tf.errors.OpError: Or one of its subclasses on error.\n",
      " |  \n",
      " |  partial_run_setup(self, fetches, feeds=None)\n",
      " |      Sets up a graph with feeds and fetches for partial run.\n",
      " |      \n",
      " |      This is EXPERIMENTAL and subject to change.\n",
      " |      \n",
      " |      Note that contrary to `run`, `feeds` only specifies the graph elements.\n",
      " |      The tensors will be supplied by the subsequent `partial_run` calls.\n",
      " |      \n",
      " |      Args:\n",
      " |        fetches: A single graph element, or a list of graph elements.\n",
      " |        feeds: A single graph element, or a list of graph elements.\n",
      " |      \n",
      " |      Returns:\n",
      " |        A handle for partial run.\n",
      " |      \n",
      " |      Raises:\n",
      " |        RuntimeError: If this `Session` is in an invalid state (e.g. has been\n",
      " |          closed).\n",
      " |        TypeError: If `fetches` or `feed_dict` keys are of an inappropriate type.\n",
      " |        tf.errors.OpError: Or one of its subclasses if a TensorFlow error happens.\n",
      " |  \n",
      " |  run(self, fetches, feed_dict=None, options=None, run_metadata=None)\n",
      " |      Runs operations and evaluates tensors in `fetches`.\n",
      " |      \n",
      " |      This method runs one \"step\" of TensorFlow computation, by\n",
      " |      running the necessary graph fragment to execute every `Operation`\n",
      " |      and evaluate every `Tensor` in `fetches`, substituting the values in\n",
      " |      `feed_dict` for the corresponding input values.\n",
      " |      \n",
      " |      The `fetches` argument may be a single graph element, or an arbitrarily\n",
      " |      nested list, tuple, namedtuple, dict, or OrderedDict containing graph\n",
      " |      elements at its leaves.  A graph element can be one of the following types:\n",
      " |      \n",
      " |      * A `tf.Operation`.\n",
      " |        The corresponding fetched value will be `None`.\n",
      " |      * A `tf.Tensor`.\n",
      " |        The corresponding fetched value will be a numpy ndarray containing the\n",
      " |        value of that tensor.\n",
      " |      * A `tf.sparse.SparseTensor`.\n",
      " |        The corresponding fetched value will be a\n",
      " |        `tf.compat.v1.SparseTensorValue`\n",
      " |        containing the value of that sparse tensor.\n",
      " |      * A `get_tensor_handle` op.  The corresponding fetched value will be a\n",
      " |        numpy ndarray containing the handle of that tensor.\n",
      " |      * A `string` which is the name of a tensor or operation in the graph.\n",
      " |      \n",
      " |      The value returned by `run()` has the same shape as the `fetches` argument,\n",
      " |      where the leaves are replaced by the corresponding values returned by\n",
      " |      TensorFlow.\n",
      " |      \n",
      " |      Example:\n",
      " |      \n",
      " |      ```python\n",
      " |         a = tf.constant([10, 20])\n",
      " |         b = tf.constant([1.0, 2.0])\n",
      " |         # 'fetches' can be a singleton\n",
      " |         v = session.run(a)\n",
      " |         # v is the numpy array [10, 20]\n",
      " |         # 'fetches' can be a list.\n",
      " |         v = session.run([a, b])\n",
      " |         # v is a Python list with 2 numpy arrays: the 1-D array [10, 20] and the\n",
      " |         # 1-D array [1.0, 2.0]\n",
      " |         # 'fetches' can be arbitrary lists, tuples, namedtuple, dicts:\n",
      " |         MyData = collections.namedtuple('MyData', ['a', 'b'])\n",
      " |         v = session.run({'k1': MyData(a, b), 'k2': [b, a]})\n",
      " |         # v is a dict with\n",
      " |         # v['k1'] is a MyData namedtuple with 'a' (the numpy array [10, 20]) and\n",
      " |         # 'b' (the numpy array [1.0, 2.0])\n",
      " |         # v['k2'] is a list with the numpy array [1.0, 2.0] and the numpy array\n",
      " |         # [10, 20].\n",
      " |      ```\n",
      " |      \n",
      " |      The optional `feed_dict` argument allows the caller to override\n",
      " |      the value of tensors in the graph. Each key in `feed_dict` can be\n",
      " |      one of the following types:\n",
      " |      \n",
      " |      * If the key is a `tf.Tensor`, the\n",
      " |        value may be a Python scalar, string, list, or numpy ndarray\n",
      " |        that can be converted to the same `dtype` as that\n",
      " |        tensor. Additionally, if the key is a\n",
      " |        `tf.compat.v1.placeholder`, the shape of\n",
      " |        the value will be checked for compatibility with the placeholder.\n",
      " |      * If the key is a\n",
      " |        `tf.sparse.SparseTensor`,\n",
      " |        the value should be a\n",
      " |        `tf.compat.v1.SparseTensorValue`.\n",
      " |      * If the key is a nested tuple of `Tensor`s or `SparseTensor`s, the value\n",
      " |        should be a nested tuple with the same structure that maps to their\n",
      " |        corresponding values as above.\n",
      " |      \n",
      " |      Each value in `feed_dict` must be convertible to a numpy array of the dtype\n",
      " |      of the corresponding key.\n",
      " |      \n",
      " |      The optional `options` argument expects a [`RunOptions`] proto. The options\n",
      " |      allow controlling the behavior of this particular step (e.g. turning tracing\n",
      " |      on).\n",
      " |      \n",
      " |      The optional `run_metadata` argument expects a [`RunMetadata`] proto. When\n",
      " |      appropriate, the non-Tensor output of this step will be collected there. For\n",
      " |      example, when users turn on tracing in `options`, the profiled info will be\n",
      " |      collected into this argument and passed back.\n",
      " |      \n",
      " |      Args:\n",
      " |        fetches: A single graph element, a list of graph elements, or a dictionary\n",
      " |          whose values are graph elements or lists of graph elements (described\n",
      " |          above).\n",
      " |        feed_dict: A dictionary that maps graph elements to values (described\n",
      " |          above).\n",
      " |        options: A [`RunOptions`] protocol buffer\n",
      " |        run_metadata: A [`RunMetadata`] protocol buffer\n",
      " |      \n",
      " |      Returns:\n",
      " |        Either a single value if `fetches` is a single graph element, or\n",
      " |        a list of values if `fetches` is a list, or a dictionary with the\n",
      " |        same keys as `fetches` if that is a dictionary (described above).\n",
      " |        Order in which `fetches` operations are evaluated inside the call\n",
      " |        is undefined.\n",
      " |      \n",
      " |      Raises:\n",
      " |        RuntimeError: If this `Session` is in an invalid state (e.g. has been\n",
      " |          closed).\n",
      " |        TypeError: If `fetches` or `feed_dict` keys are of an inappropriate type.\n",
      " |        ValueError: If `fetches` or `feed_dict` keys are invalid or refer to a\n",
      " |          `Tensor` that doesn't exist.\n",
      " |  \n",
      " |  ----------------------------------------------------------------------\n",
      " |  Readonly properties inherited from BaseSession:\n",
      " |  \n",
      " |  graph\n",
      " |      The graph that was launched in this session.\n",
      " |  \n",
      " |  graph_def\n",
      " |      A serializable version of the underlying TensorFlow graph.\n",
      " |      \n",
      " |      Returns:\n",
      " |        A graph_pb2.GraphDef proto containing nodes for all of the Operations in\n",
      " |        the underlying TensorFlow graph.\n",
      " |  \n",
      " |  sess_str\n",
      " |      The TensorFlow process to which this session will connect.\n",
      " |  \n",
      " |  ----------------------------------------------------------------------\n",
      " |  Data descriptors inherited from SessionInterface:\n",
      " |  \n",
      " |  __dict__\n",
      " |      dictionary for instance variables (if defined)\n",
      " |  \n",
      " |  __weakref__\n",
      " |      list of weak references to the object (if defined)\n",
      "\n"
     ]
    }
   ],
   "source": [
    "help(tf.compat.v1.Session)"
   ]
  },
  {
   "cell_type": "markdown",
   "id": "6a817d05",
   "metadata": {},
   "source": [
    "**Comment:** We will work with TF1.x for a bit starting this point..."
   ]
  },
  {
   "cell_type": "code",
   "execution_count": 3,
   "id": "90eb8afc",
   "metadata": {},
   "outputs": [],
   "source": [
    "# Diable eager execution\n",
    "tf.compat.v1.disable_eager_execution()"
   ]
  },
  {
   "cell_type": "markdown",
   "id": "ceca72ab",
   "metadata": {},
   "source": [
    "## 2) Graphs and sessions\n",
    "\n",
    "\n",
    "### 2.a - Computational graphs\n",
    "\n",
    "Computational graphs are the foundational structure of TF1. The image below illustrates the computational graph of the function $f(x) = \\text{ReLU}(Wx+b)$:\n",
    "\n",
    "<img src = \"Figures/TF_Graphs_Ravichandiran_Fig_8.1.png\" style = \"height: 320px;\" >\n",
    "\n",
    "In these graphs:\n",
    "* *Nodes* are mathematical operations;\n",
    "* *Edges* are tensors;\n",
    "* There are *direct dependencies*, when the output of a node depends on that of another node;\n",
    "* *Indirect* dependencies when the output of a node doesn't depend on that of another node.\n",
    "\n",
    "**Questions/Comments:** \n",
    "\n",
    "* The graphs give an abstract representation of neural networks. More generally, TensorFlow always builds a computational graph of the tensors and operations used. These are stored in \"working_directory/graphs\". Later, we'll see how to access these through TensorBoard.\n",
    "* The dependencies are important for resource allocation. When building a computational graph, the independent dependencies are distributed accross the available resources to reduce computation time (if I understand well, the goal is to paralellize the computations).\n",
    "\n",
    "By default, every computation in TF1 is represented by such a graph, and creating a session builds a default graph. We'll get back to this point in the next section, in the meantime, here is how one creates a graph:"
   ]
  },
  {
   "cell_type": "code",
   "execution_count": null,
   "id": "f7679908",
   "metadata": {},
   "outputs": [],
   "source": [
    "# Simple graph\n",
    "a = tf.constant(5,name = \"a\")\n",
    "b = tf.multiply(a, 3, name = \"b\")\n",
    "graph_0 = tf.compat.v1.Graph()\n",
    "\n",
    "# Set this graph as default\n",
    "with graph_0.as_default():\n",
    "    z = tf.add(a,b, name=\"Add\")"
   ]
  },
  {
   "cell_type": "markdown",
   "id": "2c5d552e",
   "metadata": {},
   "source": [
    "The cell above creates the following graph:\n",
    "\n",
    "<img src = \"Figures/TF_Graphs_Graph-Example_1.png\" style = \"height: 160px;\" >\n",
    "\n",
    "To see it however, it has to be run in a session. To summarize this part:\n",
    "\n",
    "* The **Graph()** class is the foundational computational structure of TF1. In TF2, it is instantiated via **tf.compat.v1.Graph()**.\n",
    "* Most of the old modules and functions of TF1 have been moved to **tf.compat.v1**.\n",
    "* The basic operations (*multiply()*, *add()*) are directly called from \"tf\"."
   ]
  },
  {
   "cell_type": "markdown",
   "id": "c103d4cf",
   "metadata": {},
   "source": [
    "### Disgression: The with statement\n",
    "\n",
    "The *with* statement is used a lot in TensoFlow, and falls within the realm of context managers in Python. The little that we record here is taken from:\n",
    "\n",
    "https://realpython.com/python-with-statement/#the-with-statement-approach\n",
    "\n",
    "The *with* statement creates a runtime context to manage a set of instructions. The general syntax is as follows:\n",
    "\n",
    "            with expression as target_var:\n",
    "                do_something(target_var)\n",
    "                \n",
    "When running into such a block of code, Python does the following:\n",
    "\n",
    "1) Call *expression* to obtain a context manager.\n",
    "\n",
    "2) Store the context manager’s .__enter__() and .__exit__() methods for later use.\n",
    "\n",
    "3) Call .__enter__() on the context manager and bind its return value to *target_var* if provided.\n",
    "\n",
    "4) Execute the *with* code block. \n",
    "\n",
    "5) Call .__exit__() on the context manager when the *with* code block finishes.\n",
    "\n",
    "A good idea is to compare this with the code:\n",
    "\n",
    "            with open(\"hello.txt\", mode=\"w\") as file:\n",
    "                file.write(\"Hello, World!\")\n",
    "                \n",
    "Once the interpreter calls .__**exit**__(), there is also some cleanup being executed such as closing the file. More generally, the interpreter releases the acquired resources upon exiting the *with* code block.\n",
    "\n",
    "The main advantages for using *with* are that it:\n",
    "\n",
    "* Makes resource management safer than its equivalent try … finally statements.\n",
    "* Encapsulates standard uses of *try … finally* statements in context managers.\n",
    "* Allows reusing the code that automatically manages the setup and teardown phases of a given operation.\n",
    "* Helps avoid resource leaks\n",
    "\n",
    "**Comment:** I need to read more about this. I don't fully get it, other than resource management for the particular case of computation-heavy TensorFlow."
   ]
  },
  {
   "cell_type": "markdown",
   "id": "83b6dae3",
   "metadata": {},
   "source": [
    "### 2.b - Sessions\n",
    "\n",
    "We saw how to build simple computational graphs with TensorFlow. Now to execute a graph we use a TensorFlow session."
   ]
  },
  {
   "cell_type": "code",
   "execution_count": null,
   "id": "5f1964ba",
   "metadata": {},
   "outputs": [],
   "source": []
  },
  {
   "cell_type": "code",
   "execution_count": null,
   "id": "e97b52f0",
   "metadata": {},
   "outputs": [],
   "source": []
  },
  {
   "cell_type": "code",
   "execution_count": null,
   "id": "32ebdfd0",
   "metadata": {},
   "outputs": [],
   "source": []
  },
  {
   "cell_type": "code",
   "execution_count": null,
   "id": "4885b370",
   "metadata": {},
   "outputs": [],
   "source": []
  },
  {
   "cell_type": "markdown",
   "id": "566264bc",
   "metadata": {},
   "source": [
    "# II - MNIST classification with TensorFlow\n",
    "### 22/06/23, A.J. Zerouali\n",
    "### Updated: 22/06/27\n",
    "\n",
    "The famous deep learning with CNN exercise. The purpose of this part is to build the neural net for the classification of these handwritten digits with both of the TF1 API and TF2/Keras. I'm following Ravichandiran Ch.8 here, starting p.330.\n",
    "\n",
    "I'm making separate imports here (next cell)."
   ]
  },
  {
   "cell_type": "code",
   "execution_count": 1,
   "id": "f988ed3d",
   "metadata": {},
   "outputs": [],
   "source": [
    "import warnings\n",
    "warnings.filterwarnings(\"ignore\")\n",
    "# This will kill the warnings with pink background\n",
    "\n",
    "import numpy as np\n",
    "import tensorflow as tf\n",
    "import matplotlib.pyplot as plt\n",
    "import pandas as pd"
   ]
  },
  {
   "cell_type": "code",
   "execution_count": 2,
   "id": "8fd04d84",
   "metadata": {},
   "outputs": [],
   "source": [
    "%matplotlib inline"
   ]
  },
  {
   "cell_type": "markdown",
   "id": "b6029cd8",
   "metadata": {},
   "source": [
    "## 1) Loading MNIST\n",
    "\n",
    "Now we import the MNIST dataset:"
   ]
  },
  {
   "cell_type": "code",
   "execution_count": 7,
   "id": "50ad721a",
   "metadata": {},
   "outputs": [],
   "source": [
    "mnist_keras = tf.keras.datasets.mnist"
   ]
  },
  {
   "cell_type": "code",
   "execution_count": 8,
   "id": "0e3170d8",
   "metadata": {},
   "outputs": [
    {
     "name": "stdout",
     "output_type": "stream",
     "text": [
      "Downloading data from https://storage.googleapis.com/tensorflow/tf-keras-datasets/mnist.npz\n",
      "11493376/11490434 [==============================] - 18s 2us/step\n"
     ]
    }
   ],
   "source": [
    "(X_train, y_train), (X_test, y_test) = mnist_keras.load_data()"
   ]
  },
  {
   "cell_type": "code",
   "execution_count": 9,
   "id": "91a09111",
   "metadata": {},
   "outputs": [
    {
     "data": {
      "text/plain": [
       "numpy.ndarray"
      ]
     },
     "execution_count": 9,
     "metadata": {},
     "output_type": "execute_result"
    }
   ],
   "source": [
    "type(X_train)"
   ]
  },
  {
   "cell_type": "code",
   "execution_count": 10,
   "id": "a8e519cf",
   "metadata": {},
   "outputs": [
    {
     "data": {
      "text/plain": [
       "(60000, 28, 28)"
      ]
     },
     "execution_count": 10,
     "metadata": {},
     "output_type": "execute_result"
    }
   ],
   "source": [
    "X_train.shape"
   ]
  },
  {
   "cell_type": "markdown",
   "id": "3236b54a",
   "metadata": {},
   "source": [
    "Let's look at one image:"
   ]
  },
  {
   "cell_type": "code",
   "execution_count": 11,
   "id": "334dc959",
   "metadata": {},
   "outputs": [],
   "source": [
    "img_1 = X_train[10,:,:]"
   ]
  },
  {
   "cell_type": "code",
   "execution_count": 12,
   "id": "673622c8",
   "metadata": {},
   "outputs": [
    {
     "data": {
      "text/plain": [
       "(28, 28)"
      ]
     },
     "execution_count": 12,
     "metadata": {},
     "output_type": "execute_result"
    }
   ],
   "source": [
    "img_1.shape"
   ]
  },
  {
   "cell_type": "code",
   "execution_count": 13,
   "id": "cd915152",
   "metadata": {},
   "outputs": [
    {
     "data": {
      "text/plain": [
       "<matplotlib.image.AxesImage at 0x258c0fab0d0>"
      ]
     },
     "execution_count": 13,
     "metadata": {},
     "output_type": "execute_result"
    },
    {
     "data": {
      "image/png": "[encoded data removed]",
      "text/plain": [
       "<Figure size 432x288 with 1 Axes>"
      ]
     },
     "metadata": {
      "needs_background": "light"
     },
     "output_type": "display_data"
    }
   ],
   "source": [
    "plt.imshow(img_1)"
   ]
  },
  {
   "cell_type": "code",
   "execution_count": 14,
   "id": "9c4e24c6",
   "metadata": {},
   "outputs": [
    {
     "data": {
      "text/plain": [
       "3"
      ]
     },
     "execution_count": 14,
     "metadata": {},
     "output_type": "execute_result"
    }
   ],
   "source": [
    "y_train[10]"
   ]
  },
  {
   "cell_type": "code",
   "execution_count": 19,
   "id": "cc6ed814",
   "metadata": {},
   "outputs": [],
   "source": [
    "img_1_flat = img_1.flatten()"
   ]
  },
  {
   "cell_type": "code",
   "execution_count": 20,
   "id": "92664bd1",
   "metadata": {},
   "outputs": [
    {
     "data": {
      "text/plain": [
       "(784,)"
      ]
     },
     "execution_count": 20,
     "metadata": {},
     "output_type": "execute_result"
    }
   ],
   "source": [
    "img_1_flat.shape"
   ]
  },
  {
   "cell_type": "code",
   "execution_count": 22,
   "id": "480bfffd",
   "metadata": {},
   "outputs": [
    {
     "data": {
      "text/plain": [
       "<matplotlib.image.AxesImage at 0x258c0f3c430>"
      ]
     },
     "execution_count": 22,
     "metadata": {},
     "output_type": "execute_result"
    },
    {
     "data": {
      "image/png": "[encoded data removed]",
      "text/plain": [
       "<Figure size 432x288 with 1 Axes>"
      ]
     },
     "metadata": {
      "needs_background": "light"
     },
     "output_type": "display_data"
    }
   ],
   "source": [
    "plt.imshow(img_1_flat.reshape(28,28))"
   ]
  },
  {
   "cell_type": "markdown",
   "id": "89ed6663",
   "metadata": {},
   "source": [
    "I will save a smaller dataset of flattened images. Note that the 60k test images take-up 45MB. We'll keep a dataset of 15k training images and 3k validation images, and a 3k test set. First we reshape and save the training set and its labels:"
   ]
  },
  {
   "cell_type": "code",
   "execution_count": 48,
   "id": "3cbd9b32",
   "metadata": {},
   "outputs": [],
   "source": [
    "Xs_train = X_train[0:18000,:,:].reshape(18000,784)\n",
    "ys_train = y_train[0:18000]"
   ]
  },
  {
   "cell_type": "code",
   "execution_count": 53,
   "id": "00b35bca",
   "metadata": {},
   "outputs": [],
   "source": [
    "np.save(\"MNIST_Small_Training_FlatImg.npy\", Xs_train)\n",
    "np.save(\"MNIST_Small_Training_Labels.npy\", ys_train)"
   ]
  },
  {
   "cell_type": "markdown",
   "id": "d6163b9c",
   "metadata": {},
   "source": [
    "Next we do the same with the test set"
   ]
  },
  {
   "cell_type": "code",
   "execution_count": 55,
   "id": "7ff39538",
   "metadata": {},
   "outputs": [],
   "source": [
    "Xs_test = X_test[0:3000,:,:].reshape(3000,784)\n",
    "ys_test = y_test[0:3000]\n",
    "np.save(\"MNIST_Small_Test_FlatImg.npy\", Xs_test)\n",
    "np.save(\"MNIST_Small_Test_Labels.npy\", ys_test)"
   ]
  },
  {
   "cell_type": "markdown",
   "id": "bac04cbd",
   "metadata": {},
   "source": [
    "Clear "
   ]
  },
  {
   "cell_type": "code",
   "execution_count": 56,
   "id": "6a611949",
   "metadata": {},
   "outputs": [],
   "source": [
    "del X_train, Xs_train, y_train, ys_train, X_test, Xs_test, y_test, ys_test"
   ]
  },
  {
   "cell_type": "markdown",
   "id": "28c58794",
   "metadata": {},
   "source": [
    "### MNIST reduced\n",
    "\n",
    "(Re)Load smaller datasets"
   ]
  },
  {
   "cell_type": "code",
   "execution_count": 3,
   "id": "43e21b98",
   "metadata": {},
   "outputs": [],
   "source": [
    "X_train = np.load(file = \"MNIST_Small_Training_FlatImg.npy\")\n",
    "y_train = np.load(file = \"MNIST_Small_Training_Labels.npy\")"
   ]
  },
  {
   "cell_type": "code",
   "execution_count": 4,
   "id": "31d3b8c0",
   "metadata": {},
   "outputs": [],
   "source": [
    "X_test = np.load(file = \"MNIST_Small_Test_FlatImg.npy\")\n",
    "y_test = np.load(file = \"MNIST_Small_Test_Labels.npy\")"
   ]
  },
  {
   "cell_type": "markdown",
   "id": "92337cea-3b7f-4b52-94fe-6b4c3e3c6c47",
   "metadata": {},
   "source": [
    "## 2) Keras ANN\n",
    "### 22/07/05\n",
    "\n",
    "For comparison purposes. More discussion and motivation in the next section."
   ]
  },
  {
   "cell_type": "code",
   "execution_count": 8,
   "id": "394081f1-2d0b-4449-8e59-31431b127446",
   "metadata": {},
   "outputs": [],
   "source": [
    "from tensorflow import keras\n",
    "from keras.models import Sequential\n",
    "from keras.layers import Dense\n",
    "from tensorflow.keras.utils import to_categorical\n",
    "\n",
    "from datetime import datetime"
   ]
  },
  {
   "cell_type": "markdown",
   "id": "22da19ab-3aae-433a-9568-6ccf7a19f3e5",
   "metadata": {},
   "source": [
    "Data:"
   ]
  },
  {
   "cell_type": "code",
   "execution_count": 9,
   "id": "e7382277-3eec-42fa-a437-6b4b8bcf4c54",
   "metadata": {},
   "outputs": [],
   "source": [
    "# Training\n",
    "X_train = np.load(file = \"MNIST_Small_Training_FlatImg.npy\")\n",
    "y_train = np.load(file = \"MNIST_Small_Training_Labels.npy\")\n",
    "# Testing\n",
    "X_test = np.load(file = \"MNIST_Small_Test_FlatImg.npy\")\n",
    "y_test = np.load(file = \"MNIST_Small_Test_Labels.npy\")"
   ]
  },
  {
   "cell_type": "code",
   "execution_count": 10,
   "id": "723e734b-a92f-4789-9c8a-90543214ea66",
   "metadata": {},
   "outputs": [],
   "source": [
    "# Flattened images:\n",
    "x_train = X_train[0:15000]/255\n",
    "x_val = X_train[15000:]/255\n",
    "x_test = X_test/255\n",
    "\n",
    "# One-hot labels:\n",
    "y_cat_train = to_categorical(y_train[:15000], num_classes = 10)\n",
    "y_cat_val = to_categorical(y_train[15000:], num_classes = 10)\n",
    "y_cat_test = to_categorical(y_test, num_classes = 10)"
   ]
  },
  {
   "cell_type": "markdown",
   "id": "c7a1d972-74a2-457b-90f3-1d54910f2889",
   "metadata": {},
   "source": [
    "Now we make the model. Previously, as a baseline we'll use:\n",
    "* Input layer of input shape = 784;\n",
    "* Layer 1 with 128 units and ReLU activation;\n",
    "* Layer 2 with 64 units and ReLU activation;\n",
    "* Output with 10 units and \"softmax\" activation;\n",
    "* Adam optimizer with learning rate = 0.001;\n",
    "* Cross-entropy loss."
   ]
  },
  {
   "cell_type": "code",
   "execution_count": 11,
   "id": "30306ae9-da11-4fff-b85d-4c4123e902f1",
   "metadata": {},
   "outputs": [],
   "source": [
    "# Hyperparameters\n",
    "input_dim = 784\n",
    "layer_1_n_units = 128\n",
    "layer_2_n_units = 64\n",
    "output_dim = 10\n",
    "learn_rate = 0.001\n",
    "\n",
    "# Network\n",
    "keras_ann = Sequential()\n",
    "\n",
    "keras_ann.add(keras.Input(shape = (input_dim,))) # Necessary?\n",
    "keras_ann.add(Dense(units = layer_1_n_units, activation = \"relu\"))\n",
    "keras_ann.add(Dense(units = layer_2_n_units, activation = \"relu\"))\n",
    "keras_ann.add(Dense(units = output_dim, activation = \"softmax\"))\n",
    "\n",
    "keras_ann.compile(optimizer= keras.optimizers.Adam(learning_rate=learn_rate), \\\n",
    "                  loss = \"categorical_crossentropy\", metrics = [\"accuracy\"])"
   ]
  },
  {
   "cell_type": "markdown",
   "id": "d86d8c79-7e95-4a84-b77e-3b9b8d5aa7de",
   "metadata": {},
   "source": [
    "Now we train it:"
   ]
  },
  {
   "cell_type": "code",
   "execution_count": 12,
   "id": "849f4621-2382-4042-a1e7-5fdb297e8aa2",
   "metadata": {},
   "outputs": [
    {
     "name": "stdout",
     "output_type": "stream",
     "text": [
      "Epoch 1/10\n",
      "150/150 [==============================] - 1s 5ms/step - loss: 0.5974 - accuracy: 0.8302 - val_loss: 0.3220 - val_accuracy: 0.9010\n",
      "Epoch 2/10\n",
      "150/150 [==============================] - 1s 4ms/step - loss: 0.2367 - accuracy: 0.9327 - val_loss: 0.2378 - val_accuracy: 0.9290\n",
      "Epoch 3/10\n",
      "150/150 [==============================] - 1s 4ms/step - loss: 0.1690 - accuracy: 0.9508 - val_loss: 0.1934 - val_accuracy: 0.9393\n",
      "Epoch 4/10\n",
      "150/150 [==============================] - 1s 5ms/step - loss: 0.1255 - accuracy: 0.9634 - val_loss: 0.1702 - val_accuracy: 0.9470\n",
      "Epoch 5/10\n",
      "150/150 [==============================] - 1s 4ms/step - loss: 0.0961 - accuracy: 0.9713 - val_loss: 0.1612 - val_accuracy: 0.9527\n",
      "Epoch 6/10\n",
      "150/150 [==============================] - 1s 5ms/step - loss: 0.0752 - accuracy: 0.9788 - val_loss: 0.1608 - val_accuracy: 0.9537\n",
      "Epoch 7/10\n",
      "150/150 [==============================] - 1s 4ms/step - loss: 0.0632 - accuracy: 0.9830 - val_loss: 0.1495 - val_accuracy: 0.9547\n",
      "Epoch 8/10\n",
      "150/150 [==============================] - 1s 4ms/step - loss: 0.0475 - accuracy: 0.9873 - val_loss: 0.1574 - val_accuracy: 0.9543\n",
      "Epoch 9/10\n",
      "150/150 [==============================] - 1s 4ms/step - loss: 0.0360 - accuracy: 0.9909 - val_loss: 0.1394 - val_accuracy: 0.9583\n",
      "Epoch 10/10\n",
      "150/150 [==============================] - 1s 4ms/step - loss: 0.0292 - accuracy: 0.9935 - val_loss: 0.1563 - val_accuracy: 0.9537\n",
      "Training of keras_ann done. Time elapsed: 0:00:07.066415.\n"
     ]
    }
   ],
   "source": [
    "train_begin_time = datetime.now()\n",
    "keras_ann.fit( x = x_train,\n",
    "              y = y_cat_train,\n",
    "              batch_size = 100,\n",
    "              epochs = 10,\n",
    "              verbose = 1,\n",
    "              validation_data = (x_val, y_cat_val)\n",
    "              )\n",
    "print(f\"Training of keras_ann done. Time elapsed: {datetime.now()-train_begin_time}.\")"
   ]
  },
  {
   "cell_type": "markdown",
   "id": "2563a5f0-ca3c-4d89-af57-0623265fd8da",
   "metadata": {},
   "source": [
    "Plot some learning curves:"
   ]
  },
  {
   "cell_type": "code",
   "execution_count": 13,
   "id": "2b3d055d-9be9-453c-90ec-7e2f290df761",
   "metadata": {},
   "outputs": [],
   "source": [
    "model_hist = pd.DataFrame(keras_ann.history.history)"
   ]
  },
  {
   "cell_type": "code",
   "execution_count": 14,
   "id": "d80918ea-380e-4393-b603-24a17c1ca53b",
   "metadata": {},
   "outputs": [
    {
     "data": {
      "text/plain": [
       "Index(['loss', 'accuracy', 'val_loss', 'val_accuracy'], dtype='object')"
      ]
     },
     "execution_count": 14,
     "metadata": {},
     "output_type": "execute_result"
    }
   ],
   "source": [
    "model_hist.columns"
   ]
  },
  {
   "cell_type": "code",
   "execution_count": 15,
   "id": "7e3a4e80-1b62-49bf-ba92-098f086906fd",
   "metadata": {},
   "outputs": [
    {
     "data": {
      "text/plain": [
       "<matplotlib.axes._subplots.AxesSubplot at 0x1f0780ddbb0>"
      ]
     },
     "execution_count": 15,
     "metadata": {},
     "output_type": "execute_result"
    },
    {
     "data": {
      "image/png": "[encoded data removed]",
      "text/plain": [
       "<Figure size 432x288 with 1 Axes>"
      ]
     },
     "metadata": {
      "needs_background": "light"
     },
     "output_type": "display_data"
    }
   ],
   "source": [
    "model_hist[[\"loss\", \"val_loss\"]].plot()"
   ]
  },
  {
   "cell_type": "code",
   "execution_count": 16,
   "id": "5a49988e-a673-4ddf-a2d7-909158f041ae",
   "metadata": {},
   "outputs": [
    {
     "data": {
      "text/plain": [
       "<matplotlib.axes._subplots.AxesSubplot at 0x1f078822610>"
      ]
     },
     "execution_count": 16,
     "metadata": {},
     "output_type": "execute_result"
    },
    {
     "data": {
      "image/png": "[encoded data removed]",
      "text/plain": [
       "<Figure size 432x288 with 1 Axes>"
      ]
     },
     "metadata": {
      "needs_background": "light"
     },
     "output_type": "display_data"
    }
   ],
   "source": [
    "model_hist[[\"accuracy\", \"val_accuracy\"]].plot()"
   ]
  },
  {
   "cell_type": "code",
   "execution_count": null,
   "id": "f64296d0-9587-48b5-a91e-e474f26756b0",
   "metadata": {},
   "outputs": [],
   "source": []
  },
  {
   "cell_type": "code",
   "execution_count": null,
   "id": "21ecb9f9-2c1f-422d-b97c-0b1d1a923132",
   "metadata": {},
   "outputs": [],
   "source": []
  },
  {
   "cell_type": "markdown",
   "id": "28272362",
   "metadata": {},
   "source": [
    "## 3) Keras CNN\n",
    "\n",
    "Before constructing our neural net from scratch using TF1 graphs, we give a quicker implementation of the desired neural net. \n",
    "\n",
    "**Reference:** Pierian Data's \"Tensorflow 2/Keras Deep Learning Bootcamp\", section on CNNs."
   ]
  },
  {
   "cell_type": "code",
   "execution_count": 2,
   "id": "ef85dd43",
   "metadata": {},
   "outputs": [],
   "source": [
    "import warnings\n",
    "warnings.filterwarnings(\"ignore\")\n",
    "# This will kill the warnings with pink background\n",
    "\n",
    "import numpy as np\n",
    "import tensorflow as tf\n",
    "import matplotlib.pyplot as plt\n",
    "import pandas as pd\n"
   ]
  },
  {
   "cell_type": "code",
   "execution_count": 3,
   "id": "4e797ae5",
   "metadata": {},
   "outputs": [],
   "source": [
    "%matplotlib inline"
   ]
  },
  {
   "cell_type": "code",
   "execution_count": 3,
   "id": "f8f3b6f9",
   "metadata": {},
   "outputs": [],
   "source": [
    "tf.compat.v1.disable_eager_execution()"
   ]
  },
  {
   "cell_type": "code",
   "execution_count": 4,
   "id": "ef68223d",
   "metadata": {},
   "outputs": [],
   "source": [
    "from tensorflow import keras"
   ]
  },
  {
   "cell_type": "code",
   "execution_count": 5,
   "id": "ff80098c",
   "metadata": {},
   "outputs": [],
   "source": [
    "from keras.models import Sequential\n",
    "from keras.layers import Dense, Conv2D, MaxPool2D, Flatten\n"
   ]
  },
  {
   "cell_type": "code",
   "execution_count": 6,
   "id": "ed581e24",
   "metadata": {},
   "outputs": [],
   "source": [
    "# For one-hot encoding of labels\n",
    "from tensorflow.keras.utils import to_categorical"
   ]
  },
  {
   "cell_type": "markdown",
   "id": "d1564a61",
   "metadata": {},
   "source": [
    "Start with the following simple model:"
   ]
  },
  {
   "cell_type": "code",
   "execution_count": 7,
   "id": "138f7ece",
   "metadata": {},
   "outputs": [],
   "source": [
    "# Init.\n",
    "n_pxs = 28\n",
    "batch_size = 100\n",
    "\n",
    "# Instantiate model\n",
    "cnn_model = Sequential()\n",
    "\n",
    "## Add layers, input->conv->maxpool->flatten->dense->dense\n",
    "\n",
    "# Input layer, conv\n",
    "cnn_model.add(Conv2D(filters= 32, kernel_size= (4,4),\\\n",
    "                     activation = \"relu\", input_shape=(n_pxs,n_pxs,1)))\n",
    "# 2nd layer, maxpool\n",
    "cnn_model.add(MaxPool2D(pool_size = (2,2)))\n",
    "\n",
    "# 3rd layer, flatten\n",
    "cnn_model.add(Flatten())\n",
    "# 4th layer, dense\n",
    "cnn_model.add(Dense(units = 128, activation = \"relu\"))\n",
    "# Out layer, dense\n",
    "cnn_model.add(Dense(units = 10, activation = \"softmax\"))\n",
    "\n",
    "# Compile model\n",
    "cnn_model.compile(optimizer = \"adam\", loss = \"categorical_crossentropy\", metrics = [\"accuracy\"])"
   ]
  },
  {
   "cell_type": "code",
   "execution_count": 8,
   "id": "54a74ccc",
   "metadata": {},
   "outputs": [
    {
     "name": "stdout",
     "output_type": "stream",
     "text": [
      "Model: \"sequential\"\n",
      "_________________________________________________________________\n",
      "Layer (type)                 Output Shape              Param #   \n",
      "=================================================================\n",
      "conv2d (Conv2D)              (None, 25, 25, 32)        544       \n",
      "_________________________________________________________________\n",
      "max_pooling2d (MaxPooling2D) (None, 12, 12, 32)        0         \n",
      "_________________________________________________________________\n",
      "flatten (Flatten)            (None, 4608)              0         \n",
      "_________________________________________________________________\n",
      "dense (Dense)                (None, 128)               589952    \n",
      "_________________________________________________________________\n",
      "dense_1 (Dense)              (None, 10)                1290      \n",
      "=================================================================\n",
      "Total params: 591,786\n",
      "Trainable params: 591,786\n",
      "Non-trainable params: 0\n",
      "_________________________________________________________________\n"
     ]
    }
   ],
   "source": [
    "cnn_model.summary()"
   ]
  },
  {
   "cell_type": "markdown",
   "id": "b56d490a",
   "metadata": {},
   "source": [
    "Need to pre-process the data after loading it."
   ]
  },
  {
   "cell_type": "code",
   "execution_count": 4,
   "id": "ae442c87",
   "metadata": {},
   "outputs": [],
   "source": [
    "# Training\n",
    "X_train = np.load(file = \"MNIST_Small_Training_FlatImg.npy\")\n",
    "y_train = np.load(file = \"MNIST_Small_Training_Labels.npy\")\n",
    "# Testing\n",
    "X_test = np.load(file = \"MNIST_Small_Test_FlatImg.npy\")\n",
    "y_test = np.load(file = \"MNIST_Small_Test_Labels.npy\")"
   ]
  },
  {
   "cell_type": "code",
   "execution_count": 5,
   "id": "e1ca0f25",
   "metadata": {},
   "outputs": [],
   "source": [
    "x_train = X_train[0:15000]/255\n",
    "x_train = x_train.reshape(15000, 28, 28, 1)\n",
    "x_val = X_train[15000:]/255\n",
    "x_val = x_val.reshape(3000, 28, 28, 1)"
   ]
  },
  {
   "cell_type": "code",
   "execution_count": 9,
   "id": "508e6d91",
   "metadata": {},
   "outputs": [],
   "source": [
    "y_train_cat = to_categorical(y_train[0:15000])\n",
    "y_val_cat = to_categorical(y_train[15000:])"
   ]
  },
  {
   "cell_type": "markdown",
   "id": "269d5701",
   "metadata": {},
   "source": [
    "Train with validation set.\n",
    "**IMPORTANT:** Will not execute if eager execution isn't enabled.\n"
   ]
  },
  {
   "cell_type": "code",
   "execution_count": 24,
   "id": "d4523acc",
   "metadata": {
    "collapsed": true,
    "jupyter": {
     "outputs_hidden": true
    }
   },
   "outputs": [
    {
     "ename": "ValueError",
     "evalue": "tf.enable_eager_execution must be called at program startup.",
     "output_type": "error",
     "traceback": [
      "\u001b[1;31m---------------------------------------------------------------------------\u001b[0m",
      "\u001b[1;31mValueError\u001b[0m                                Traceback (most recent call last)",
      "\u001b[1;32m<ipython-input-24-650dd8b5c1e5>\u001b[0m in \u001b[0;36m<module>\u001b[1;34m\u001b[0m\n\u001b[1;32m----> 1\u001b[1;33m \u001b[0mtf\u001b[0m\u001b[1;33m.\u001b[0m\u001b[0mcompat\u001b[0m\u001b[1;33m.\u001b[0m\u001b[0mv1\u001b[0m\u001b[1;33m.\u001b[0m\u001b[0menable_eager_execution\u001b[0m\u001b[1;33m(\u001b[0m\u001b[1;33m)\u001b[0m\u001b[1;33m\u001b[0m\u001b[1;33m\u001b[0m\u001b[0m\n\u001b[0m",
      "\u001b[1;32mC:\\ProgramData\\Anaconda3\\lib\\site-packages\\tensorflow\\python\\framework\\ops.py\u001b[0m in \u001b[0;36menable_eager_execution\u001b[1;34m(config, device_policy, execution_mode)\u001b[0m\n\u001b[0;32m   5893\u001b[0m   \u001b[0mlogging\u001b[0m\u001b[1;33m.\u001b[0m\u001b[0mvlog\u001b[0m\u001b[1;33m(\u001b[0m\u001b[1;36m1\u001b[0m\u001b[1;33m,\u001b[0m \u001b[1;34m\"Enabling eager execution\"\u001b[0m\u001b[1;33m)\u001b[0m\u001b[1;33m\u001b[0m\u001b[1;33m\u001b[0m\u001b[0m\n\u001b[0;32m   5894\u001b[0m   \u001b[1;32mif\u001b[0m \u001b[0mcontext\u001b[0m\u001b[1;33m.\u001b[0m\u001b[0mdefault_execution_mode\u001b[0m \u001b[1;33m!=\u001b[0m \u001b[0mcontext\u001b[0m\u001b[1;33m.\u001b[0m\u001b[0mEAGER_MODE\u001b[0m\u001b[1;33m:\u001b[0m\u001b[1;33m\u001b[0m\u001b[1;33m\u001b[0m\u001b[0m\n\u001b[1;32m-> 5895\u001b[1;33m     return enable_eager_execution_internal(\n\u001b[0m\u001b[0;32m   5896\u001b[0m         \u001b[0mconfig\u001b[0m\u001b[1;33m=\u001b[0m\u001b[0mconfig\u001b[0m\u001b[1;33m,\u001b[0m\u001b[1;33m\u001b[0m\u001b[1;33m\u001b[0m\u001b[0m\n\u001b[0;32m   5897\u001b[0m         \u001b[0mdevice_policy\u001b[0m\u001b[1;33m=\u001b[0m\u001b[0mdevice_policy\u001b[0m\u001b[1;33m,\u001b[0m\u001b[1;33m\u001b[0m\u001b[1;33m\u001b[0m\u001b[0m\n",
      "\u001b[1;32mC:\\ProgramData\\Anaconda3\\lib\\site-packages\\tensorflow\\python\\framework\\ops.py\u001b[0m in \u001b[0;36menable_eager_execution_internal\u001b[1;34m(config, device_policy, execution_mode, server_def)\u001b[0m\n\u001b[0;32m   5956\u001b[0m         _default_graph_stack._global_default_graph is not None)  # pylint: disable=protected-access\n\u001b[0;32m   5957\u001b[0m     \u001b[1;32mif\u001b[0m \u001b[0mgraph_mode_has_been_used\u001b[0m\u001b[1;33m:\u001b[0m\u001b[1;33m\u001b[0m\u001b[1;33m\u001b[0m\u001b[0m\n\u001b[1;32m-> 5958\u001b[1;33m       raise ValueError(\n\u001b[0m\u001b[0;32m   5959\u001b[0m           \"tf.enable_eager_execution must be called at program startup.\")\n\u001b[0;32m   5960\u001b[0m   \u001b[0mcontext\u001b[0m\u001b[1;33m.\u001b[0m\u001b[0mdefault_execution_mode\u001b[0m \u001b[1;33m=\u001b[0m \u001b[0mcontext\u001b[0m\u001b[1;33m.\u001b[0m\u001b[0mEAGER_MODE\u001b[0m\u001b[1;33m\u001b[0m\u001b[1;33m\u001b[0m\u001b[0m\n",
      "\u001b[1;31mValueError\u001b[0m: tf.enable_eager_execution must be called at program startup."
     ]
    }
   ],
   "source": [
    "tf.compat.v1.enable_eager_execution()"
   ]
  },
  {
   "cell_type": "code",
   "execution_count": 10,
   "id": "2368ab91",
   "metadata": {},
   "outputs": [
    {
     "name": "stdout",
     "output_type": "stream",
     "text": [
      "Epoch 1/10\n",
      "469/469 [==============================] - 39s 25ms/step - loss: 0.6002 - accuracy: 0.8195 - val_loss: 0.1610 - val_accuracy: 0.9510\n",
      "Epoch 2/10\n",
      "469/469 [==============================] - 11s 23ms/step - loss: 0.1151 - accuracy: 0.9653 - val_loss: 0.0967 - val_accuracy: 0.9713\n",
      "Epoch 3/10\n",
      "469/469 [==============================] - 11s 24ms/step - loss: 0.0583 - accuracy: 0.9833 - val_loss: 0.0988 - val_accuracy: 0.9723\n",
      "Epoch 4/10\n",
      "469/469 [==============================] - 11s 24ms/step - loss: 0.0347 - accuracy: 0.9910 - val_loss: 0.0824 - val_accuracy: 0.9720\n",
      "Epoch 5/10\n",
      "469/469 [==============================] - 11s 24ms/step - loss: 0.0262 - accuracy: 0.9914 - val_loss: 0.0911 - val_accuracy: 0.9747\n",
      "Epoch 6/10\n",
      "469/469 [==============================] - 11s 24ms/step - loss: 0.0172 - accuracy: 0.9953 - val_loss: 0.0768 - val_accuracy: 0.9783\n",
      "Epoch 7/10\n",
      "469/469 [==============================] - 11s 23ms/step - loss: 0.0111 - accuracy: 0.9971 - val_loss: 0.0719 - val_accuracy: 0.9803\n",
      "Epoch 8/10\n",
      "469/469 [==============================] - 11s 24ms/step - loss: 0.0087 - accuracy: 0.9976 - val_loss: 0.0890 - val_accuracy: 0.9750\n",
      "Epoch 9/10\n",
      "469/469 [==============================] - 11s 24ms/step - loss: 0.0062 - accuracy: 0.9986 - val_loss: 0.0770 - val_accuracy: 0.9793\n",
      "Epoch 10/10\n",
      "469/469 [==============================] - 11s 23ms/step - loss: 0.0055 - accuracy: 0.9987 - val_loss: 0.1066 - val_accuracy: 0.9703\n"
     ]
    },
    {
     "data": {
      "text/plain": [
       "<keras.callbacks.History at 0x255110718e0>"
      ]
     },
     "execution_count": 10,
     "metadata": {},
     "output_type": "execute_result"
    }
   ],
   "source": [
    "cnn_model.fit(x_train, y_train_cat, epochs = 10, validation_data=(x_val, y_val_cat))"
   ]
  },
  {
   "cell_type": "markdown",
   "id": "386f9505",
   "metadata": {},
   "source": [
    "Save trained model for later use:"
   ]
  },
  {
   "cell_type": "code",
   "execution_count": 11,
   "id": "66281c3b",
   "metadata": {},
   "outputs": [],
   "source": [
    "cnn_model.save(\"MNIST_Small_Trained_CNN.h5\")"
   ]
  },
  {
   "cell_type": "markdown",
   "id": "cce3eff0",
   "metadata": {},
   "source": [
    "Let's check if it works:"
   ]
  },
  {
   "cell_type": "code",
   "execution_count": 6,
   "id": "21cea164",
   "metadata": {},
   "outputs": [],
   "source": [
    "img_1 = X_test[10].reshape(28,28)\n",
    "img_2 = X_test[20].reshape(28,28)"
   ]
  },
  {
   "cell_type": "code",
   "execution_count": 7,
   "id": "3ce2bb92",
   "metadata": {},
   "outputs": [
    {
     "data": {
      "text/plain": [
       "<matplotlib.image.AxesImage at 0x25bb89f4400>"
      ]
     },
     "execution_count": 7,
     "metadata": {},
     "output_type": "execute_result"
    },
    {
     "data": {
      "image/png": "[encoded data removed]",
      "text/plain": [
       "<Figure size 432x288 with 1 Axes>"
      ]
     },
     "metadata": {
      "needs_background": "light"
     },
     "output_type": "display_data"
    }
   ],
   "source": [
    "plt.imshow(img_1)"
   ]
  },
  {
   "cell_type": "code",
   "execution_count": 8,
   "id": "be16d8be",
   "metadata": {},
   "outputs": [
    {
     "data": {
      "text/plain": [
       "<matplotlib.image.AxesImage at 0x25bb8ad4a30>"
      ]
     },
     "execution_count": 8,
     "metadata": {},
     "output_type": "execute_result"
    },
    {
     "data": {
      "image/png": "[encoded data removed]",
      "text/plain": [
       "<Figure size 432x288 with 1 Axes>"
      ]
     },
     "metadata": {
      "needs_background": "light"
     },
     "output_type": "display_data"
    }
   ],
   "source": [
    "plt.imshow(img_2)"
   ]
  },
  {
   "cell_type": "code",
   "execution_count": 16,
   "id": "ff005423",
   "metadata": {},
   "outputs": [],
   "source": [
    "y_test_cat = to_categorical(y_test)"
   ]
  },
  {
   "cell_type": "code",
   "execution_count": 17,
   "id": "d0bf3f09",
   "metadata": {},
   "outputs": [
    {
     "data": {
      "text/plain": [
       "array([1., 0., 0., 0., 0., 0., 0., 0., 0., 0.], dtype=float32)"
      ]
     },
     "execution_count": 17,
     "metadata": {},
     "output_type": "execute_result"
    }
   ],
   "source": [
    "y_test_cat[10]"
   ]
  },
  {
   "cell_type": "code",
   "execution_count": null,
   "id": "17339666",
   "metadata": {},
   "outputs": [],
   "source": []
  },
  {
   "cell_type": "markdown",
   "id": "2d92ba3d",
   "metadata": {},
   "source": [
    "Test the model:\n",
    "\n",
    "**First image:**"
   ]
  },
  {
   "cell_type": "code",
   "execution_count": 12,
   "id": "334af291",
   "metadata": {},
   "outputs": [
    {
     "data": {
      "text/plain": [
       "(784,)"
      ]
     },
     "execution_count": 12,
     "metadata": {},
     "output_type": "execute_result"
    }
   ],
   "source": [
    "X_test[20].shape"
   ]
  },
  {
   "cell_type": "code",
   "execution_count": 13,
   "id": "9fb82fdd",
   "metadata": {},
   "outputs": [
    {
     "data": {
      "text/plain": [
       "<matplotlib.image.AxesImage at 0x2551d014cd0>"
      ]
     },
     "execution_count": 13,
     "metadata": {},
     "output_type": "execute_result"
    },
    {
     "data": {
      "image/png": "[encoded data removed]",
      "text/plain": [
       "<Figure size 432x288 with 1 Axes>"
      ]
     },
     "metadata": {
      "needs_background": "light"
     },
     "output_type": "display_data"
    }
   ],
   "source": [
    "plt.imshow(X_test[20].reshape(28,28))"
   ]
  },
  {
   "cell_type": "markdown",
   "id": "94b4df86",
   "metadata": {},
   "source": [
    "Before feeding the array to the model, recall:\n",
    "* First we need to reshape the (784,) image to (28,28,1), with the 1 at the end specifying no. of color channels.\n",
    "* Second, rescale the values to the interval [0,1], just like we did for the test set (i.e. divide by 255).\n",
    "* Thirdly, recall that current version of TF2 modifies input_shape from (28,28,1) to (None, 28,28,1), so reshape again again accordingly (e.g. using np.array([input_image]))."
   ]
  },
  {
   "cell_type": "code",
   "execution_count": 14,
   "id": "de8b7ba0",
   "metadata": {},
   "outputs": [],
   "source": [
    "test_img_1 = (X_test[20]/255).reshape(28,28,1)"
   ]
  },
  {
   "cell_type": "code",
   "execution_count": 19,
   "id": "0b456ac0",
   "metadata": {},
   "outputs": [
    {
     "data": {
      "text/plain": [
       "(28, 28, 1)"
      ]
     },
     "execution_count": 19,
     "metadata": {},
     "output_type": "execute_result"
    }
   ],
   "source": [
    "test_img_1.shape"
   ]
  },
  {
   "cell_type": "code",
   "execution_count": 20,
   "id": "abe67e27",
   "metadata": {},
   "outputs": [
    {
     "data": {
      "text/plain": [
       "array([[1.4919124e-07, 1.0005291e-06, 1.2346462e-08, 2.5778587e-04,\n",
       "        4.1933020e-04, 9.2843635e-09, 9.0480592e-12, 5.4479414e-04,\n",
       "        7.8786127e-07, 9.9877602e-01]], dtype=float32)"
      ]
     },
     "execution_count": 20,
     "metadata": {},
     "output_type": "execute_result"
    }
   ],
   "source": [
    "cnn_model.predict(np.array([test_img_1]))"
   ]
  },
  {
   "cell_type": "code",
   "execution_count": 21,
   "id": "e2f61f35",
   "metadata": {},
   "outputs": [],
   "source": [
    "test_img_1_pred = np.argmax(cnn_model.predict(np.array([test_img_1])))"
   ]
  },
  {
   "cell_type": "code",
   "execution_count": 22,
   "id": "e84b75fd",
   "metadata": {},
   "outputs": [
    {
     "data": {
      "text/plain": [
       "9"
      ]
     },
     "execution_count": 22,
     "metadata": {},
     "output_type": "execute_result"
    }
   ],
   "source": [
    "test_img_1_pred"
   ]
  },
  {
   "cell_type": "markdown",
   "id": "88de4fec",
   "metadata": {},
   "source": [
    "**Second image:**"
   ]
  },
  {
   "cell_type": "code",
   "execution_count": 23,
   "id": "ece1f4e9",
   "metadata": {},
   "outputs": [
    {
     "data": {
      "text/plain": [
       "<matplotlib.image.AxesImage at 0x2551964e370>"
      ]
     },
     "execution_count": 23,
     "metadata": {},
     "output_type": "execute_result"
    },
    {
     "data": {
      "image/png": "[encoded data removed]",
      "text/plain": [
       "<Figure size 432x288 with 1 Axes>"
      ]
     },
     "metadata": {
      "needs_background": "light"
     },
     "output_type": "display_data"
    }
   ],
   "source": [
    "plt.imshow(X_test[500].reshape(28,28))"
   ]
  },
  {
   "cell_type": "code",
   "execution_count": 24,
   "id": "b8397007",
   "metadata": {},
   "outputs": [],
   "source": [
    "test_img_2 = np.array([(X_test[500]/255).reshape(28,28,1)])"
   ]
  },
  {
   "cell_type": "code",
   "execution_count": 25,
   "id": "aa670139",
   "metadata": {},
   "outputs": [
    {
     "data": {
      "text/plain": [
       "(1, 28, 28, 1)"
      ]
     },
     "execution_count": 25,
     "metadata": {},
     "output_type": "execute_result"
    }
   ],
   "source": [
    "test_img_2.shape"
   ]
  },
  {
   "cell_type": "code",
   "execution_count": 26,
   "id": "8a4d6c3a",
   "metadata": {},
   "outputs": [
    {
     "name": "stdout",
     "output_type": "stream",
     "text": [
      "3\n"
     ]
    }
   ],
   "source": [
    "test_img_2_pred = np.argmax(cnn_model.predict(test_img_2))\n",
    "print(test_img_2_pred)"
   ]
  },
  {
   "cell_type": "markdown",
   "id": "5ea979f6",
   "metadata": {},
   "source": [
    "## 3) Classification in TF1 with ANN\n",
    "\n",
    "In this part we will classify the reduced MNIST dataset with a fully connected ANN.\n",
    "\n",
    "Let's start with the imports and data loading.\n"
   ]
  },
  {
   "cell_type": "code",
   "execution_count": 1,
   "id": "3ab3c0d8",
   "metadata": {},
   "outputs": [],
   "source": [
    "# Basic imports\n",
    "import warnings\n",
    "warnings.filterwarnings(\"ignore\")\n",
    "# This will kill the warnings with pink background\n",
    "\n",
    "import numpy as np\n",
    "import tensorflow as tf\n",
    "import matplotlib.pyplot as plt\n",
    "import pandas as pd\n",
    "\n",
    "# To simplify the code\n",
    "import tensorflow.compat.v1 as tf1"
   ]
  },
  {
   "cell_type": "code",
   "execution_count": 2,
   "id": "e40ab592",
   "metadata": {},
   "outputs": [
    {
     "name": "stderr",
     "output_type": "stream",
     "text": [
      "Traceback (most recent call last):\n",
      "  File \"C:\\Users\\zaj20\\anaconda3\\envs\\DeepLearn\\Scripts\\matplotlib-script.py\", line 10, in <module>\n",
      "    sys.exit(plotting._matplotlib())\n",
      "AttributeError: module 'pandas.plotting' has no attribute '_matplotlib'\n"
     ]
    }
   ],
   "source": [
    "!matplotlib inline"
   ]
  },
  {
   "cell_type": "code",
   "execution_count": 3,
   "id": "c03aa6cd",
   "metadata": {},
   "outputs": [],
   "source": [
    "from datetime import datetime"
   ]
  },
  {
   "cell_type": "code",
   "execution_count": 4,
   "id": "732abdba",
   "metadata": {},
   "outputs": [],
   "source": [
    "# If you want this to work\n",
    "tf1.disable_eager_execution()"
   ]
  },
  {
   "cell_type": "code",
   "execution_count": 5,
   "id": "9322494a",
   "metadata": {},
   "outputs": [],
   "source": [
    "################################\n",
    "##### MNIST- SMALL VERSION #####\n",
    "################################\n",
    "\n",
    "# Training\n",
    "X_train = np.load(file = \"MNIST_Small_Training_FlatImg.npy\")\n",
    "y_train = np.load(file = \"MNIST_Small_Training_Labels.npy\")\n",
    "\n",
    "# Testing\n",
    "X_test = np.load(file = \"MNIST_Small_Test_FlatImg.npy\")\n",
    "y_test = np.load(file = \"MNIST_Small_Test_Labels.npy\")\n",
    "\n",
    "# Pre-process\n",
    "x_train = X_train[0:15000]/255\n",
    "x_val = X_train[15000:]/255\n",
    "x_test = X_test/255\n",
    "\n",
    "# Convert labels to one-hot encoding\n",
    "from tensorflow.keras.utils import to_categorical\n",
    "y_cat_train = to_categorical(y_train[0:15000])\n",
    "y_cat_val = to_categorical(y_train[15000:])\n",
    "y_cat_test = to_categorical(y_test)\n"
   ]
  },
  {
   "cell_type": "code",
   "execution_count": 9,
   "id": "e7e13832",
   "metadata": {},
   "outputs": [
    {
     "data": {
      "text/plain": [
       "15000"
      ]
     },
     "execution_count": 9,
     "metadata": {},
     "output_type": "execute_result"
    }
   ],
   "source": [
    "len(x_train)"
   ]
  },
  {
   "cell_type": "markdown",
   "id": "946acdc9",
   "metadata": {},
   "source": [
    "### a) An overview of the code\n",
    "\n",
    "The most time-consuming part of the process is building the computational graph of our neural net. The loose organization of the code is as follows:\n",
    "\n",
    "* **Part I: Implementation of the ANN**\n",
    "\n",
    "1) Create namescopes for the input data and labels $(X,Y)$. Here, we declare $X$ and $Y$ as ***placeholders***, and we specify their dtype along with their dimensions/shape. **Note:** The shape is of the form [None, input_dim] (and [None, num_classes]), where \"None\" is for the batch size that we don't necessarily know beforehand.\n",
    "\n",
    "2) Create namescopes for the network parameters (weights and biases) $(W^(l), b^(l))$ of the network. These are declared as ***Variables***, and must be initialized in the beginning of the training/testing sessions. Below, we will use TF's random number generators to initialize these parameters. Of course, we specify again the dtypes and the dimensions of these parameters. **Note:** For later visualization with TensorBoard, it's useful to add name arguments to the weights, and for computational efficiency, it's useful to gather the params in dictionaries.\n",
    "\n",
    "3) Create the namescope for the model, where the layers are also declared as ***Variables***. One possible implementation is:\n",
    "\n",
    "            with tf1.name_scope(\"Model\"):\n",
    "                layer_1 = tf1.nn.activation_1(tf1.add(tf1.matmul(X,weights[\"W_1\"]), biases[\"b_1\"], name = \"layer_1\")\n",
    "                layer_2 = tf1.nn.activation_2(tf1.add(tf1.matmul(layer_1,weights[\"W_2\"]), biases[\"b_2\"], name = \"layer_2\")\n",
    "                    ...\n",
    "                layer_out = tf1.nn.activation_out(tf1.add(tf1.matmul(layer_(n-1),weights[\"W_n\"]), biases[\"b_n\"], name = \"layer_n\")\n",
    "\n",
    "This is essentially what the Sequential.add() method of Keras does. In the classification example below, we'll just take a linear activation for the output layer, since the softmax will be called in the computation of the loss.\n",
    "\n",
    "4) Create the namescope for the loss. This is again a ***Variable***, and takes the output layer as an argument. For our classification problem:\n",
    "\n",
    "            with tf1.namescope(\"Loss\"):\n",
    "                loss = tf1.reduce_mean(tf1.nn.softmax_cross_entropy_with_logits(logits = layer_out, labels = Y))\n",
    "\n",
    "5) As with Sequential.compile(), we are done implementing the model once we specify the loss and the optimizer. The TF1 module for optimizers is tf1.train, and when instantiating the optimizer we ***specify*** that we seek to ***minimize the loss***:\n",
    "\n",
    "            optimizer = tf1.train.AdamOptimizer(learn_rate).minimize(loss)\n",
    "            \n",
    "\n",
    "* **Part II: The training session**\n",
    "\n",
    "Typically, the training session is as follows:\n",
    "\n",
    "            with tf1.Session() as training_sess:\n",
    "            \n",
    "                # Initialize the variables\n",
    "                training_sess.run(tf1.global_variables_initializer())\n",
    "                \n",
    "                for epoch = 1,...,n_epochs:\n",
    "                    \n",
    "                    # Init. epoch loss\n",
    "                    epoch_loss = 0\n",
    "                \n",
    "                    for batch = 1,..., n_batches:\n",
    "                        \n",
    "                        # Get batch and make feed dictionary\n",
    "                        feed_XY = {X: batch_x, Y: batch_y}\n",
    "                        \n",
    "                        # Run loss and optimizer - This executes Adam/SGD on one batch\n",
    "                        _, batch_loss = training_sess.run([optimizer, loss], feed_dict = feed_XY)\n",
    "                        epoch_loss += batch_loss\n",
    "                     \n",
    "                     # Compute average loss of epoch\n",
    "                     average_loss = epoch_loss/n_batches\n",
    "                     \n",
    "                     # Verbose\n",
    "                     print(epoch, average_loss, etc)\n",
    "                     \n",
    "Unlike Keras, we need to add instructions if we want to keep track of the loss, the accuracy, and to save the model.\n",
    "\n"
   ]
  },
  {
   "cell_type": "markdown",
   "id": "864b45c5",
   "metadata": {},
   "source": [
    "### b) Dense NN construction\n",
    "\n",
    "The references we follow here are Ravichandiran's book, in particular:\n",
    "\n",
    "https://github.com/sudharsan13296/Deep-Reinforcement-Learning-With-Python/blob/master/08.%20A%20primer%20on%20TensorFlow/8.05%20Handwritten%20digits%20classification%20using%20TensorFlow.ipynb.\n",
    "\n"
   ]
  },
  {
   "cell_type": "code",
   "execution_count": 6,
   "id": "1ee5ca57",
   "metadata": {},
   "outputs": [
    {
     "name": "stdout",
     "output_type": "stream",
     "text": [
      "WARNING:tensorflow:From C:\\Users\\zaj20\\anaconda3\\envs\\DeepLearn\\lib\\site-packages\\tensorflow\\python\\util\\dispatch.py:1082: softmax_cross_entropy_with_logits (from tensorflow.python.ops.nn_ops) is deprecated and will be removed in a future version.\n",
      "Instructions for updating:\n",
      "\n",
      "Future major versions of TensorFlow will allow gradients to flow\n",
      "into the labels input on backprop by default.\n",
      "\n",
      "See `tf.nn.softmax_cross_entropy_with_logits_v2`.\n",
      "\n"
     ]
    }
   ],
   "source": [
    "#### Learning hyperparameters\n",
    "learn_rate = 0.001\n",
    "n_epochs = 10\n",
    "batch_size = 100\n",
    "\n",
    "#### Neuron numbers for each layer ####\n",
    "num_in = 784\n",
    "num_h1 = 128\n",
    "num_h2 = 64\n",
    "num_out = 10\n",
    "\n",
    "#### Namescopes for placeholders of input and output layers ####\n",
    "with tf1.name_scope(\"input\"):\n",
    "    X = tf1.placeholder(dtype = tf.float32, shape = [None, num_in])\n",
    "with tf.compat.v1.name_scope(\"output\"):\n",
    "    Y = tf1.placeholder(dtype = tf.float32, shape = [None, num_out])\n",
    "    \n",
    "#### Namescopes for layer weights and biases ####\n",
    "## This will be used as feed_dict later\n",
    "## Using the TF1 truncated normal with\n",
    "with tf1.name_scope(\"weights\"):\n",
    "    weights = {\"w1\":tf.Variable(tf1.truncated_normal(shape = (num_in, num_h1), stddev=0.1), name=\"weight_1\"),\n",
    "               \"w2\":tf.Variable(tf1.truncated_normal(shape = (num_h1, num_h2), stddev=0.1), name=\"weight_2\"),\n",
    "               \"w_out\":tf.Variable(tf1.truncated_normal(shape = (num_h2, num_out), stddev=0.1), name=\"weight_3\")\n",
    "              }\n",
    "    \n",
    "with tf.compat.v1.name_scope(\"biases\"):\n",
    "    biases = {\"b1\":tf.Variable(tf.constant(0.1, shape = [num_h1]), name=\"bias_1\"),\n",
    "              \"b2\":tf.Variable(tf.constant(0.1, shape = [num_h2]), name=\"bias_2\"),\n",
    "              \"b_out\":tf.Variable(tf.constant(0.1, shape = [num_out]), name=\"bias_3\")\n",
    "              } # Does this last line even make sense?\n",
    "    \n",
    "#### Namescope for forward propagation ####\n",
    "## The next block of code replaces Sequantial.add()\n",
    "## The layers are built by specifying what goes into each activation\n",
    "## Makes sense, but pretty cumbersome. Also explains why weights are transposed in Keras.\n",
    "with tf1.name_scope(\"Model\"):\n",
    "    with tf1.name_scope(\"layer1\"):\n",
    "        layer_1 = tf1.nn.relu(tf.add(tf.matmul(X,weights[\"w1\"]), biases[\"b1\"]) )\n",
    "    with tf1.name_scope(\"layer2\"):        \n",
    "        layer_2 = tf1.nn.relu(tf.add(tf.matmul(layer_1,weights[\"w2\"]), biases[\"b2\"]) )\n",
    "    with tf1.name_scope(\"output_layer\"):    \n",
    "        #layer_out = tf1.nn.softmax(tf.add(tf.matmul(layer_2,weights[\"w_out\"]), biases[\"b_out\"]) ) # Activation should be softmax\n",
    "        layer_out = tf.add(tf.matmul(layer_2,weights[\"w_out\"]), biases[\"b_out\"]) \n",
    "        \n",
    "#### Loss function ####\n",
    "with tf1.name_scope(\"Loss\"):\n",
    "    loss = tf1.reduce_mean(tf1.nn.softmax_cross_entropy_with_logits(logits = layer_out, labels = Y)) # CLARIFY\n",
    "    #loss = tf1.reduce_mean(tf1.nn.cross(logits = layer_out, labels = Y))\n",
    "    # cross-entropy loss\n",
    "\n",
    "#### Optimizer ####\n",
    "optimizer = tf1.train.AdamOptimizer(learning_rate = learn_rate).minimize(loss) # CLARIFY\n",
    "\n",
    "#### Accuracy ####\n",
    "with tf1.name_scope(\"Accuracy\"):\n",
    "    predicted_label = tf1.argmax(tf1.nn.softmax(layer_out),axis = 1)\n",
    "    true_label = tf1.argmax(Y,axis = 1)\n",
    "    prediction_correct = tf1.equal(predicted_label, true_label)\n",
    "    accuracy = tf1.reduce_mean(tf1.cast(prediction_correct, tf.float32))\n",
    "    \n",
    "# For TensorBoard\n",
    "tf1.summary.scalar(\"Accuracy\", accuracy)\n",
    "tf1.summary.scalar(\"Loss\", loss)\n",
    "merge_summary = tf1.summary.merge_all()\n"
   ]
  },
  {
   "cell_type": "code",
   "execution_count": 7,
   "id": "586a9c06",
   "metadata": {},
   "outputs": [
    {
     "name": "stdout",
     "output_type": "stream",
     "text": [
      "Epoch: 1; Loss: 0.7225; Accuracy: 79.59%.\n",
      "Epoch: 2; Loss: 0.2870; Accuracy: 91.82%.\n",
      "Epoch: 3; Loss: 0.2116; Accuracy: 93.87%.\n",
      "Epoch: 4; Loss: 0.1640; Accuracy: 95.23%.\n",
      "Epoch: 5; Loss: 0.1303; Accuracy: 96.27%.\n",
      "Epoch: 6; Loss: 0.1044; Accuracy: 97.14%.\n",
      "Epoch: 7; Loss: 0.0839; Accuracy: 97.80%.\n",
      "Epoch: 8; Loss: 0.0673; Accuracy: 98.34%.\n",
      "Epoch: 9; Loss: 0.0548; Accuracy: 98.71%.\n",
      "Epoch: 10; Loss: 0.0446; Accuracy: 99.02%.\n",
      "Training finished. Total time: 0:00:03.560165\n",
      "INFO:tensorflow:saved-models\\MNIST_ANN_Weights.ckpt.data-00000-of-00001\n",
      "INFO:tensorflow:1300\n",
      "INFO:tensorflow:saved-models\\MNIST_ANN_Weights.ckpt.index\n",
      "INFO:tensorflow:1300\n",
      "INFO:tensorflow:saved-models\\MNIST_ANN_Weights.ckpt.meta\n",
      "INFO:tensorflow:1400\n",
      "Trained ANN saved at saved-models/MNIST_ANN_Weights.ckpt as MNIST_ANN_Weights.ckpt\n",
      "Accuracy on validation set: 94.90%\n"
     ]
    }
   ],
   "source": [
    "# Training session\n",
    "\n",
    "init = tf1.global_variables_initializer()\n",
    "\n",
    "n_batches = np.int(len(x_train)/batch_size)\n",
    "\n",
    "# Inst. saver object\n",
    "training_saver = tf1.train.Saver()\n",
    "model_fname = \"MNIST_ANN_Weights.ckpt\"\n",
    "\n",
    "with tf1.Session() as denseNN_sess:\n",
    "    \n",
    "    # Init. global variables\n",
    "    denseNN_sess.run(init)\n",
    "    \n",
    "    # Inst. summary writer\n",
    "    summary_writer = tf1.summary.FileWriter(\"./graphs\", graph = tf1.get_default_graph())\n",
    "    \n",
    "    # Init. timer\n",
    "    time_begin_training = datetime.now()\n",
    "    \n",
    "    # Loop over training epochs\n",
    "    for epoch in range(n_epochs):\n",
    "        \n",
    "        epoch_loss = 0.0\n",
    "        epoch_accuracy = 0.0\n",
    "        \n",
    "        # Loop over batches\n",
    "        for i_batch in range(n_batches):\n",
    "            \n",
    "            # Batches\n",
    "            batch_x = x_train[i_batch*batch_size:(i_batch+1)*batch_size]\n",
    "            batch_y = y_cat_train[i_batch*batch_size:(i_batch+1)*batch_size]\n",
    "            \n",
    "            # Feed dictionary\n",
    "            batch_feed = {X:batch_x, Y:batch_y}\n",
    "            \n",
    "            # Run SGD\n",
    "            ## I don't get this instruction\n",
    "            #batch_loss, batch_accuracy, summary = denseNN_sess.run([loss, accuracy, merge_summary],\\\n",
    "            #                                                       feed_dict = batch_feed)\n",
    "            _, batch_loss, batch_accuracy = denseNN_sess.run([optimizer, loss, accuracy], feed_dict = batch_feed)\n",
    "            epoch_loss += batch_loss\n",
    "            epoch_accuracy += batch_accuracy\n",
    "            \n",
    "        \n",
    "        average_loss = epoch_loss/n_batches\n",
    "        average_accuracy = epoch_accuracy/n_batches\n",
    "        \n",
    "        # Add to summary\n",
    "        #summary_writer.add_summary(summary, epoch)\n",
    "        #print(f\"Epoch: {epoch+1}; Loss: {average_loss}; Accuracy: {batch_accuracy}.\")\n",
    "        print(f\"Epoch: {epoch+1}; Loss: {average_loss:5.4f}; Accuracy: {average_accuracy*100:3.2f}%.\")\n",
    "        \n",
    "    # Training tot. time\n",
    "    tot_training_time = datetime.now() - time_begin_training\n",
    "    print(f\"Training finished. Total time: {tot_training_time}\")\n",
    "    \n",
    "    # Save trained model\n",
    "    trained_model_file = training_saver.save(sess = denseNN_sess,save_path = 'saved-models/'+model_fname)\n",
    "    print(f\"Trained ANN saved at {trained_model_file} as {model_fname}\")\n",
    "    \n",
    "    # Compute accuracy on validation set\n",
    "    validation_feed = {X:x_val, Y:y_cat_val}\n",
    "    accuracy_val_set = denseNN_sess.run(accuracy, feed_dict = validation_feed)\n",
    "    \n",
    "    '''\n",
    "    predictions_check = tf1.equal(tf1.argmax(layer_5_out,1),tf1.argmax(Y,1)) # CLARIFY\n",
    "    accuracy_val_set = tf1.reduce_mean(tf1.cast(predictions_check, tf.float32)) # CLARIFY\n",
    "    validation_feed = {X:x_val, Y:y_cat_val}\n",
    "    '''\n",
    "    print(f\"Accuracy on validation set: {accuracy_val_set*100:3.2f}%\") # CLARIFY\n",
    "        \n"
   ]
  },
  {
   "cell_type": "code",
   "execution_count": null,
   "id": "1ea1603e",
   "metadata": {},
   "outputs": [],
   "source": [
    "# DEBUG\n",
    "del denseNN_sess"
   ]
  },
  {
   "cell_type": "code",
   "execution_count": null,
   "id": "5edb019e",
   "metadata": {},
   "outputs": [],
   "source": []
  },
  {
   "cell_type": "code",
   "execution_count": null,
   "id": "328bc3c2",
   "metadata": {},
   "outputs": [],
   "source": []
  },
  {
   "cell_type": "code",
   "execution_count": null,
   "id": "ef5b4f65",
   "metadata": {},
   "outputs": [],
   "source": []
  },
  {
   "cell_type": "code",
   "execution_count": 8,
   "id": "f177917c",
   "metadata": {
    "tags": []
   },
   "outputs": [
    {
     "name": "stdout",
     "output_type": "stream",
     "text": [
      "y_cat_test[1236] = [0. 1. 0. 0. 0. 0. 0. 0. 0. 0.]\n"
     ]
    },
    {
     "data": {
      "image/png": "[encoded data removed]",
      "text/plain": [
       "<Figure size 432x288 with 1 Axes>"
      ]
     },
     "metadata": {
      "needs_background": "light"
     },
     "output_type": "display_data"
    }
   ],
   "source": [
    "img_id = np.random.randint(0,3000)\n",
    "\n",
    "print(f\"y_cat_test[{img_id}] = {y_cat_test[img_id]}\")\n",
    "\n",
    "plt.imshow(x_test[img_id].reshape(28,28))\n",
    "plt.show()"
   ]
  },
  {
   "cell_type": "markdown",
   "id": "215a9076",
   "metadata": {},
   "source": [
    "Now we test our model on the test set. \n",
    "\n",
    "**Comment:** The main issue here is how you initialize the variables in your session."
   ]
  },
  {
   "cell_type": "code",
   "execution_count": 29,
   "id": "ab468e82",
   "metadata": {},
   "outputs": [],
   "source": [
    "del test_sess_1"
   ]
  },
  {
   "cell_type": "code",
   "execution_count": 9,
   "id": "b4bddc3f",
   "metadata": {},
   "outputs": [
    {
     "name": "stdout",
     "output_type": "stream",
     "text": [
      "INFO:tensorflow:Restoring parameters from saved-models/MNIST_ANN_Weights.ckpt\n",
      "Accuracy on test set: 94.57%\n"
     ]
    }
   ],
   "source": [
    "saver = tf1.train.Saver()\n",
    "\n",
    "with tf1.Session() as test_sess_1:\n",
    "    \n",
    "    # Load saved model\n",
    "    saver.restore(test_sess_1, \"saved-models/MNIST_ANN_Weights.ckpt\")\n",
    "    \n",
    "    # Compute and print accuracy\n",
    "    test_feed = {X:x_test, Y: y_cat_test}\n",
    "    accuracy_test_set = test_sess_1.run(accuracy, feed_dict = test_feed)\n",
    "    print(f\"Accuracy on test set: {accuracy_test_set*100:3.2f}%\")\n"
   ]
  },
  {
   "cell_type": "markdown",
   "id": "1e52217a",
   "metadata": {},
   "source": [
    "_____________________________________________"
   ]
  },
  {
   "cell_type": "markdown",
   "id": "3331a2cc",
   "metadata": {},
   "source": [
    "### 3.b - CNN with TF1.x\n",
    "\n",
    "In this part, I'm re-implementing the previous Keras CNN in TF1 format. My references for this part are the following notebooks:\n",
    "\n",
    "* https://github.com/sudharsan13296/Deep-Reinforcement-Learning-With-Python/blob/master/08.%20A%20primer%20on%20TensorFlow/8.05%20Handwritten%20digits%20classification%20using%20TensorFlow.ipynb\n",
    "\n",
    "* https://github.com/armando-fandango/Mastering-TensorFlow/blob/master/Chapter09/ch-09a_CNN_MNIST_TF_and_Keras.ipynb\n",
    "\n",
    "* https://github.com/PacktPublishing/TensorFlow-1x-Deep-Learning-Cookbook/blob/master/Chapter04/CNN_MINST.ipynb\n",
    "\n",
    "As usual, we start with the relevant imports:"
   ]
  },
  {
   "cell_type": "code",
   "execution_count": 1,
   "id": "fba03d5a",
   "metadata": {},
   "outputs": [],
   "source": [
    "# Basic imports\n",
    "import warnings\n",
    "warnings.filterwarnings(\"ignore\")\n",
    "# This will kill the warnings with pink background\n",
    "\n",
    "import numpy as np\n",
    "import tensorflow as tf\n",
    "import matplotlib.pyplot as plt\n",
    "import pandas as pd\n",
    "\n",
    "# To simplify the code\n",
    "import tensorflow.compat.v1 as tf1"
   ]
  },
  {
   "cell_type": "code",
   "execution_count": 2,
   "id": "0a8b7235",
   "metadata": {},
   "outputs": [
    {
     "name": "stderr",
     "output_type": "stream",
     "text": [
      "Traceback (most recent call last):\n",
      "  File \"C:\\ProgramData\\Anaconda3\\Scripts\\matplotlib-script.py\", line 10, in <module>\n",
      "    sys.exit(plotting._matplotlib())\n",
      "AttributeError: module 'pandas.plotting' has no attribute '_matplotlib'\n"
     ]
    }
   ],
   "source": [
    "!matplotlib inline"
   ]
  },
  {
   "cell_type": "code",
   "execution_count": 3,
   "id": "e98fa395",
   "metadata": {},
   "outputs": [],
   "source": [
    "# Fix the seed\n",
    "tf1.set_random_seed(101)"
   ]
  },
  {
   "cell_type": "code",
   "execution_count": 4,
   "id": "7b1bafaf",
   "metadata": {},
   "outputs": [],
   "source": [
    "from datetime import datetime"
   ]
  },
  {
   "cell_type": "code",
   "execution_count": 5,
   "id": "df46b016",
   "metadata": {},
   "outputs": [],
   "source": [
    "# If you want this to work\n",
    "tf1.disable_eager_execution()"
   ]
  },
  {
   "cell_type": "markdown",
   "id": "5ac70d82",
   "metadata": {},
   "source": [
    "Next, we load the data:"
   ]
  },
  {
   "cell_type": "code",
   "execution_count": 6,
   "id": "98141938",
   "metadata": {},
   "outputs": [],
   "source": [
    "################################\n",
    "##### MNIST- SMALL VERSION #####\n",
    "################################\n",
    "\n",
    "# Training\n",
    "X_train = np.load(file = \"MNIST_Small_Training_FlatImg.npy\")\n",
    "y_train = np.load(file = \"MNIST_Small_Training_Labels.npy\")\n",
    "\n",
    "# Testing\n",
    "X_test = np.load(file = \"MNIST_Small_Test_FlatImg.npy\")\n",
    "y_test = np.load(file = \"MNIST_Small_Test_Labels.npy\")\n",
    "\n",
    "# Pre-process\n",
    "x_train = X_train[0:15000]/255\n",
    "x_val = X_train[15000:]/255\n",
    "\n",
    "# Convert labels to one-hot encoding\n",
    "from tensorflow.keras.utils import to_categorical\n",
    "y_cat_train = to_categorical(y_train[0:15000])\n",
    "y_cat_val = to_categorical(y_train[15000:])\n",
    "y_cat_test = to_categorical(y_test)"
   ]
  },
  {
   "cell_type": "markdown",
   "id": "7a1b3e2e",
   "metadata": {},
   "source": [
    "The desired architecture is as follows:\n",
    "\n",
    "            \n",
    "            cnn_model = Sequential()\n",
    "\n",
    "            ## Layers:\n",
    "            cnn_model.add(Conv2D(filters= 32, kernel_size= (4,4),\\\n",
    "                                 activation = \"relu\", input_shape=(n_pxs,n_pxs,1)))\n",
    "            cnn_model.add(MaxPool2D(pool_size = (2,2)))\n",
    "            cnn_model.add(Flatten())\n",
    "            cnn_model.add(Dense(units = 128, activation = \"relu\"))\n",
    "            cnn_model.add(Dense(units = 10, activation = \"softmax\"))\n",
    "\n",
    "            # Compile model\n",
    "            cnn_model.compile(optimizer = \"adam\", loss = \"categorical_crossentropy\", metrics = [\"accuracy\"])\n",
    "\n",
    "* A 2d convolutional input layer, of input size (28,28,1) and ReLU activation.\n",
    "* A maxpooling layer with ReLU activation, (2,2) pool size.\n",
    "* A flattening layer (no activation).\n",
    "* A dense layer with ReLU activation and 128 neurons.\n",
    "* An output layer with 10 units and softmax activation.\n",
    "\n",
    "**Comments on the CNN:**\n",
    "\n",
    "* I don't understand why last layer doesn't have a softmax activation. \n",
    "\n",
    "* The softmax is part of the loss used here, which is **tf1.nn.softmax_cross_entropy_with_logits**.\n",
    "\n",
    "* Important question: How do you make the design of a neural net in TF1.x modular? To clarify: In Keras, you create one Sequential() object to which you add the layers. For TF, it is unclear how you organize your code, given that you are building a graph. Different authors seem to have different approaches, and I haven't found one that combines  namescopes, new classes, and helper functions.\n",
    "\n",
    "* Partial answer. Following notebook seems to follow the practice of building the NNs using helper functions: \n",
    "\n",
    "  https://github.com/PacktPublishing/TensorFlow-1x-Deep-Learning-Cookbook/blob/master/Chapter04/CNN_MINST.ipynb\n",
    "\n",
    "  This code is much better organized, but doesn't answer all my questions.\n",
    "\n",
    "* Helper functions are used to avoid the long calls to methods/classes in TF1 (I think this is what people call wrappers).\n",
    "\n",
    "The next cell records the hyperparameters:\n"
   ]
  },
  {
   "cell_type": "code",
   "execution_count": 7,
   "id": "83adf8de",
   "metadata": {},
   "outputs": [],
   "source": [
    "###################################\n",
    "##### Network hyperparameters #####\n",
    "###################################\n",
    "\n",
    "# Input/Final Output\n",
    "n_classes = 10\n",
    "n_width = 28\n",
    "n_height = 28\n",
    "n_channels = 1\n",
    "input_dim = n_height*n_width*n_channels\n",
    "\n",
    "# Conv. layer\n",
    "conv_ker_ht = 4\n",
    "conv_ker_wd = 4\n",
    "conv_n_filters = 32\n",
    "'''\n",
    "  General fomula (Calin Ex.16.9.11): \n",
    "  For input of shape (h_in, w_in), kernel of shape (k_ver, k_hor),\n",
    "  strides (s_ver, s_hor), and padding p, the output shape (h_out, w_out)\n",
    "  is given by:\n",
    "    h_out = (h_in-k_ver+2p)/s_ver +1; w_out = (w_in-k_hor+2p)/s_hor +1.\n",
    "  Note additional constraint that stride has to divide (dim_in-filter_dim+2*padding)\n",
    "\n",
    "'''\n",
    "conv_out_ht = n_height-conv_ker_ht +1\n",
    "conv_out_wd = n_width-conv_ker_wd +1\n",
    "\n",
    "# MaxPool layer\n",
    "pool_ver = 2 \n",
    "pool_hor = 2\n",
    "\n",
    "# Flatten layer\n",
    "\n",
    "# Fully conn. 1 (post flattening)\n",
    "fc1_dim_in = np.int(conv_out_ht/pool_ver)*\\\n",
    "             np.int(conv_out_wd/pool_hor)*\\\n",
    "             conv_n_filters\n",
    "fc1_dim_out = 128\n",
    "\n",
    "# Training\n",
    "learn_rate = 0.01\n",
    "n_epochs = 20\n",
    "batch_size = 100\n",
    "n_batches = np.int(x_train.shape[0]/batch_size)"
   ]
  },
  {
   "cell_type": "markdown",
   "id": "d00807bc",
   "metadata": {},
   "source": [
    "Here is our model now. As we'll see in TensorBoard, using namescopes groups all the subgraphs into nodes of the computational graph. I prefer this to Fandago's implementation since it gives a much cleaner graph in the end."
   ]
  },
  {
   "cell_type": "code",
   "execution_count": 8,
   "id": "08560b5e",
   "metadata": {},
   "outputs": [
    {
     "name": "stdout",
     "output_type": "stream",
     "text": [
      "WARNING:tensorflow:From C:\\ProgramData\\Anaconda3\\lib\\site-packages\\tensorflow\\python\\util\\dispatch.py:206: softmax_cross_entropy_with_logits (from tensorflow.python.ops.nn_ops) is deprecated and will be removed in a future version.\n",
      "Instructions for updating:\n",
      "\n",
      "Future major versions of TensorFlow will allow gradients to flow\n",
      "into the labels input on backprop by default.\n",
      "\n",
      "See `tf.nn.softmax_cross_entropy_with_logits_v2`.\n",
      "\n"
     ]
    }
   ],
   "source": [
    "tf1.reset_default_graph()\n",
    "\n",
    "# Placeholders for input images and labels\n",
    "## x are the flattened images, y the labels\n",
    "with tf1.name_scope(\"Input\"):\n",
    "    x = tf1.placeholder(dtype = tf.float32, name = \"x\", shape = (None, input_dim))\n",
    "    x_ = tf1.reshape(x, shape = (-1,n_height,n_width,n_channels)) # Reshape input to TF1 image format\n",
    "with tf1.name_scope(\"Output\"):\n",
    "    y = tf1.placeholder(dtype = tf.float32, name = \"y\", shape = (None, n_classes))\n",
    "\n",
    "# Weights\n",
    "with tf1.name_scope(\"Weights\"):\n",
    "    weights = {\"W1\":tf1.Variable(tf1.random_normal(shape=[conv_ker_ht, conv_ker_wd, n_channels, conv_n_filters],\\\n",
    "                                                   stddev=0.1), name = \"W_1\"),\\\n",
    "             \"W4\":tf1.Variable(tf1.random_normal(shape=[fc1_dim_in, fc1_dim_out]), name = \"W_4\") ,\\\n",
    "             \"W5\":tf1.Variable(tf1.random_normal(shape = [fc1_dim_out, n_classes]), name = \"W_5\") }\n",
    "# Biases\n",
    "with tf1.name_scope(\"Biases\"):\n",
    "    biases = {\"b1\":tf1.Variable(tf1.random_normal([conv_n_filters]), name = \"b_1\"),\\\n",
    "            \"b4\":tf1.Variable(tf1.random_normal(shape=[fc1_dim_out]), name = \"b_4\"),\\\n",
    "            \"b5\":tf1.Variable(tf1.random_normal(shape = [n_classes]), name = \"b_5\")}\n",
    "\n",
    "# Model\n",
    "with tf1.name_scope(\"Model\"):\n",
    "    \n",
    "    with tf1.name_scope(\"Layer_1\"):\n",
    "        layer_1 = tf1.nn.relu(tf.add(tf1.nn.conv2d(x_, weights[\"W1\"], strides = [1,1,1,1], padding=\"VALID\" ),biases[\"b1\"]))\n",
    "    \n",
    "    with tf1.name_scope(\"Layer_2\"):\n",
    "        layer_2 = tf1.nn.max_pool2d(layer_1, ksize = [1,pool_ver,pool_hor,1], strides = [1,pool_ver,pool_hor,1],\\\n",
    "                                    padding= \"VALID\")\n",
    "\n",
    "    with tf1.name_scope(\"Layer_3\"):\n",
    "        layer_3 = tf1.reshape(layer_2, shape = (-1,fc1_dim_in))\n",
    "\n",
    "    with tf1.name_scope(\"Layer_4\"):\n",
    "        layer_4 = tf1.nn.relu(tf1.add(tf.matmul(layer_3,weights[\"W4\"]), biases[\"b4\"]))\n",
    "\n",
    "    with tf1.name_scope(\"Layer_5_out\"):\n",
    "        layer_5_out = tf1.add(tf1.matmul(layer_4,weights[\"W5\"]), biases[\"b5\"])\n",
    "\n",
    "# Loss function\n",
    "with tf1.name_scope(\"Loss\"):\n",
    "    loss = tf1.reduce_mean(tf1.nn.softmax_cross_entropy_with_logits(logits=layer_5_out, labels = y))\n",
    "\n",
    "# Optimizer\n",
    "optimizer = tf1.train.AdamOptimizer(learning_rate = learn_rate).minimize(loss) # CLARIFY"
   ]
  },
  {
   "cell_type": "code",
   "execution_count": null,
   "id": "8afd890e",
   "metadata": {},
   "outputs": [],
   "source": []
  },
  {
   "cell_type": "code",
   "execution_count": null,
   "id": "66f1f714",
   "metadata": {},
   "outputs": [],
   "source": []
  },
  {
   "cell_type": "markdown",
   "id": "1e137508",
   "metadata": {},
   "source": [
    "**Comments on the training session:** This is where we *run* the computational graph.\n",
    "1) I'm following \"Train and evaluate\" cell at: \n",
    "\n",
    "https://github.com/armando-fandango/Mastering-TensorFlow/blob/master/Chapter09/ch-09a_CNN_MNIST_TF_and_Keras.ipynb\n",
    "\n",
    "See documentation of Session.run() at https://www.tensorflow.org/api_docs/python/tf/compat/v1/Session#run. This is the main call of the algorithm below obviously.\n",
    "\n",
    "2) Regarding saving and loading a trained model, Fandago has the following notebook:\n",
    "\n",
    "https://github.com/armando-fandango/Mastering-TensorFlow/blob/master/Chapter11/ch-11a_Saving_and_Restoring_TF_Models.ipynb\n",
    "\n",
    "Highlights:\n",
    "\n",
    "* To **save all variables in a graph**, one first makes a saver object:\n",
    "\n",
    "      saver = tf.compat.v1.train.Saver()\n",
    "\n",
    "  then uses a line of the form:\n",
    "\n",
    "      saved_model_file = saver.save(tfs,'saved-models/full-graph-save-example.ckpt')\n",
    "\n",
    "  in the session.\n",
    "\n",
    "* To **restore all variables** in a graph, after instantiating a saver object, one uses the following in a session:\n",
    "\n",
    "      saved_model_file = saver.restore(tfs,'saved-models/full-graph-save-example.ckpt')\n",
    "\n",
    "  The default graph should re-initialized between sessions, and to execute the last command, we do not use the global variables initializer.\n",
    "\n",
    "* In the link above, Fandago also shows how to save selected variables in a graph.\n",
    "\n",
    "\n",
    "A training TF session for our model is as follows:\n"
   ]
  },
  {
   "cell_type": "code",
   "execution_count": 8,
   "id": "7b52b36d",
   "metadata": {},
   "outputs": [
    {
     "name": "stdout",
     "output_type": "stream",
     "text": [
      "2022-06-27 20:35:56.737624\n"
     ]
    }
   ],
   "source": [
    "print(datetime.now())"
   ]
  },
  {
   "cell_type": "code",
   "execution_count": 9,
   "id": "b0e3d5cc",
   "metadata": {},
   "outputs": [],
   "source": [
    "n_batches = np.int(x_train.shape[0]/batch_size)"
   ]
  },
  {
   "cell_type": "code",
   "execution_count": 10,
   "id": "17aafc23",
   "metadata": {},
   "outputs": [
    {
     "name": "stdout",
     "output_type": "stream",
     "text": [
      "Epoch: 1, loss = 42.795692292849225\n",
      "Epoch: 2, loss = 4.174912639458975\n",
      "Epoch: 3, loss = 2.6393320559461912\n",
      "Epoch: 4, loss = 2.247205887834231\n",
      "Epoch: 5, loss = 1.6573192673176527\n",
      "Epoch: 6, loss = 1.553202390919129\n",
      "Epoch: 7, loss = 1.4920133795837562\n",
      "Epoch: 8, loss = 1.2301429014752892\n",
      "Epoch: 9, loss = 0.9753422121241844\n",
      "Epoch: 10, loss = 0.750030925233638\n",
      "Epoch: 11, loss = 0.6569595837518378\n",
      "Epoch: 12, loss = 0.5218218749819667\n",
      "Epoch: 13, loss = 0.4599154648793861\n",
      "Epoch: 14, loss = 0.4828951061667115\n",
      "Epoch: 15, loss = 0.3956152737833533\n",
      "Epoch: 16, loss = 0.31581682828809493\n",
      "Epoch: 17, loss = 0.32067511161665097\n",
      "Epoch: 18, loss = 0.27669874111861514\n",
      "Epoch: 19, loss = 0.27584116245503615\n",
      "Epoch: 20, loss = 0.2667518464675436\n",
      "End of training of CNN-v3. Time elapsed: 0:01:38.160211.\n",
      "Trained CNN saved at saved-models/CNN-v3_Weights.ckpt\n",
      "Accuracy: 0.937666654586792\n"
     ]
    }
   ],
   "source": [
    "##########################\n",
    "#### Training Session ####\n",
    "##########################\n",
    "\n",
    "# Reset\n",
    "#tf1.reset_default_graph()\n",
    "\n",
    "# Inst. saver object\n",
    "training_saver = tf1.train.Saver()\n",
    "model_fname = \"CNN-v3_Weights.ckpt\"\n",
    "\n",
    "# Start new session\n",
    "with tf1.Session() as sess_cnn_v3:\n",
    "     \n",
    "    # Initialize global variables\n",
    "    tf1.global_variables_initializer().run()\n",
    "    \n",
    "    # Init. timer\n",
    "    train_begin_time = datetime.now()\n",
    "    \n",
    "    # Loop over epochs\n",
    "    for epoch in range(n_epochs):\n",
    "        \n",
    "        # Init. tot. loss\n",
    "        total_loss = 0.0\n",
    "\n",
    "        # Loop over batches\n",
    "        for i_batch in range(n_batches):\n",
    "            \n",
    "            # Get batch\n",
    "            batch_x = x_train[i_batch*batch_size:(i_batch+1)*batch_size]\n",
    "            batch_y = y_cat_train[i_batch*batch_size:(i_batch+1)*batch_size]\n",
    "            \n",
    "            # Make feed dictionary\n",
    "            batch_feed = {x:batch_x, y:batch_y}\n",
    "            \n",
    "            # Run CNN\n",
    "            ## Note: \n",
    "            batch_loss, info = sess_cnn_v3.run([loss, optimizer], feed_dict = batch_feed)\n",
    "            total_loss += batch_loss\n",
    "        \n",
    "        #Average loss\n",
    "        avg_loss = total_loss/n_batches\n",
    "        print(f\"Epoch: {epoch+1}, loss = {avg_loss}\")\n",
    "        \n",
    "    \n",
    "    # End of training\n",
    "    train_tot_time = datetime.now()- train_begin_time\n",
    "    print(f\"End of training of CNN-v3. Time elapsed: {train_tot_time}.\")\n",
    "    \n",
    "    # Save trained model\n",
    "    trained_model_file = training_saver.save(sess = sess_cnn_v3,save_path = 'saved-models/'+model_fname)\n",
    "    print(f\"Trained CNN saved at {trained_model_file}\")\n",
    "    \n",
    "    # Save graph\n",
    "    writer = tf1.summary.FileWriter(logdir = \"./graphs\", graph=sess_cnn_v3.graph)\n",
    "    \n",
    "    \n",
    "    # Compute accuracy on validation set\n",
    "    ### Following\n",
    "    predictions_check = tf1.equal(tf1.argmax(layer_5_out,1),tf1.argmax(y,1)) # CLARIFY\n",
    "    accuracy = tf1.reduce_mean(tf1.cast(predictions_check, tf.float32)) # CLARIFY\n",
    "    validation_feed = {x:x_val, y:y_cat_val}\n",
    "    print(f\"Accuracy: {accuracy.eval(feed_dict= validation_feed)}\") # CLARIFY"
   ]
  },
  {
   "cell_type": "markdown",
   "id": "3acc3b22",
   "metadata": {},
   "source": [
    "**Comment:** In Colab, the training time for this model takes around 2min 30 for roughly the same final accuracy.\n",
    "\n",
    "**TensorBoard:** We can look at our computational graph now:"
   ]
  },
  {
   "cell_type": "code",
   "execution_count": 11,
   "id": "3d81a57f",
   "metadata": {},
   "outputs": [
    {
     "data": {
      "text/plain": [
       "Reusing TensorBoard on port 6006 (pid 3400), started 0:21:36 ago. (Use '!kill 3400' to kill it.)"
      ]
     },
     "metadata": {},
     "output_type": "display_data"
    },
    {
     "data": {
      "text/html": [
       "\n",
       "      <iframe id=\"tensorboard-frame-4327cbab0030814b\" width=\"100%\" height=\"800\" frameborder=\"0\">\n",
       "      </iframe>\n",
       "      <script>\n",
       "        (function() {\n",
       "          const frame = document.getElementById(\"tensorboard-frame-4327cbab0030814b\");\n",
       "          const url = new URL(\"/\", window.location);\n",
       "          const port = 6006;\n",
       "          if (port) {\n",
       "            url.port = port;\n",
       "          }\n",
       "          frame.src = url;\n",
       "        })();\n",
       "      </script>\n",
       "    "
      ],
      "text/plain": [
       "<IPython.core.display.HTML object>"
      ]
     },
     "metadata": {},
     "output_type": "display_data"
    }
   ],
   "source": [
    "# Tensorboard\n",
    "from tensorflow.keras.callbacks import TensorBoard\n",
    "%load_ext tensorboard\n",
    "\n",
    "'''\n",
    "  To call this use\n",
    "  %tensorboard --logdir ./graphs\n",
    "  IMPORTANT: Ensure that you called tf1.summary.FileWriter(logdir = \"./graphs\", graph=session_name.graph)\n",
    "'''\n",
    "%tensorboard --logdir ./graphs"
   ]
  },
  {
   "cell_type": "code",
   "execution_count": null,
   "id": "2636837f",
   "metadata": {},
   "outputs": [],
   "source": []
  }
 ],
 "metadata": {
  "kernelspec": {
   "display_name": "Python 3 (ipykernel)",
   "language": "python",
   "name": "python3"
  },
  "language_info": {
   "codemirror_mode": {
    "name": "ipython",
    "version": 3
   },
   "file_extension": ".py",
   "mimetype": "text/x-python",
   "name": "python",
   "nbconvert_exporter": "python",
   "pygments_lexer": "ipython3",
   "version": "3.8.13"
  }
 },
 "nbformat": 4,
 "nbformat_minor": 5
}
