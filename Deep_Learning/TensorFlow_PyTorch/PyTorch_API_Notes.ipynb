{
 "cells": [
  {
   "cell_type": "markdown",
   "id": "289b6693",
   "metadata": {},
   "source": [
    "# **Introduction to PyTorch**\n",
    "### 2022/06/29, AJ Zerouali\n",
    "### Updated: 2022/07/16\n",
    "\n",
    "## 1) Introduction\n",
    "\n",
    "The purpose of this notebook is to gain a basic understanding of PyTorch. I'm following some sections of Pierian Data's course on medical imaging with PyTorch, which I'll abbreviate as PDMIPT from now onwards."
   ]
  },
  {
   "cell_type": "markdown",
   "id": "06352536",
   "metadata": {},
   "source": [
    "## 2) From NumPy arrays to PyTorch Tensors.\n",
    "\n",
    "**References:** I'm loosely following:\n",
    "- Section 4 of the PDMIPT course.\n",
    "- Chapter 3 of Lapan's \"Deep reinforcement learning with PyTorch\".\n",
    "\n",
    "As usual, we start with the imports:"
   ]
  },
  {
   "cell_type": "code",
   "execution_count": 1,
   "id": "f54a9d08",
   "metadata": {},
   "outputs": [],
   "source": [
    "import warnings\n",
    "warnings.filterwarnings(\"ignore\")\n",
    "\n",
    "import numpy as np\n",
    "import matplotlib.pyplot as plt\n",
    "\n"
   ]
  },
  {
   "cell_type": "code",
   "execution_count": 2,
   "id": "231be15a",
   "metadata": {},
   "outputs": [],
   "source": [
    "%matplotlib inline"
   ]
  },
  {
   "cell_type": "code",
   "execution_count": 3,
   "id": "08462beb",
   "metadata": {},
   "outputs": [],
   "source": [
    "# The main import of this notebook\n",
    "import torch as T"
   ]
  },
  {
   "cell_type": "markdown",
   "id": "2bb23fe8",
   "metadata": {},
   "source": [
    "#### Topics to cover\n",
    "\n",
    "* PyTorch tensors.\n",
    "* Automatic differentiation.\n",
    "* "
   ]
  },
  {
   "cell_type": "markdown",
   "id": "266c35f7",
   "metadata": {},
   "source": [
    "#### Tensor operations:\n",
    "\n",
    "The following is from the \"Tensor Operations\" notebook of PDMIPT:\n",
    "\n",
    "<table style=\"display: inline-block\">\n",
    "<caption style=\"text-align: center\"><strong>Arithmetic</strong></caption>\n",
    "<tr><th>OPERATION</th><th>FUNCTION</th><th>DESCRIPTION</th></tr>\n",
    "<tr><td>a + b</td><td>a.add(b)</td><td>element wise addition</td></tr>\n",
    "<tr><td>a - b</td><td>a.sub(b)</td><td>subtraction</td></tr>\n",
    "<tr><td>a * b</td><td>a.mul(b)</td><td>multiplication</td></tr>\n",
    "<tr><td>a / b</td><td>a.div(b)</td><td>division</td></tr>\n",
    "<tr><td>a % b</td><td>a.fmod(b)</td><td>modulo (remainder after division)</td></tr>\n",
    "<tr><td>a<sup>b</sup></td><td>a.pow(b)</td><td>power</td></tr>\n",
    "<tr><td>&nbsp;</td><td></td><td></td></tr>\n",
    "</table>\n",
    "\n",
    "\n",
    "\n",
    "<table style=\"display: inline-block\">\n",
    "<caption style=\"text-align: center\"><strong>Monomial Operations</strong></caption>\n",
    "<tr><th>OPERATION</th><th>FUNCTION</th><th>DESCRIPTION</th></tr>\n",
    "<tr><td>|a|</td><td>torch.abs(a)</td><td>absolute value</td></tr>\n",
    "<tr><td>1/a</td><td>torch.reciprocal(a)</td><td>reciprocal</td></tr>\n",
    "<tr><td>$\\sqrt{a}$</td><td>torch.sqrt(a)</td><td>square root</td></tr>\n",
    "<tr><td>log(a)</td><td>torch.log(a)</td><td>natural log</td></tr>\n",
    "<tr><td>e<sup>a</sup></td><td>torch.exp(a)</td><td>exponential</td></tr>\n",
    "<tr><td>12.34  ==>  12.</td><td>torch.trunc(a)</td><td>truncated integer</td></tr>\n",
    "<tr><td>12.34  ==>  0.34</td><td>torch.frac(a)</td><td>fractional component</td></tr>\n",
    "</table>\n",
    "\n",
    "\n",
    "\n",
    "<table style=\"display: inline-block\">\n",
    "<caption style=\"text-align: center\"><strong>Trigonometry</strong></caption>\n",
    "<tr><th>OPERATION</th><th>FUNCTION</th><th>DESCRIPTION</th></tr>\n",
    "<tr><td>sin(a)</td><td>torch.sin(a)</td><td>sine</td></tr>\n",
    "<tr><td>cos(a)</td><td>torch.sin(a)</td><td>cosine</td></tr>\n",
    "<tr><td>tan(a)</td><td>torch.sin(a)</td><td>tangent</td></tr>\n",
    "<tr><td>arcsin(a)</td><td>torch.asin(a)</td><td>arc sine</td></tr>\n",
    "<tr><td>arccos(a)</td><td>torch.acos(a)</td><td>arc cosine</td></tr>\n",
    "<tr><td>arctan(a)</td><td>torch.atan(a)</td><td>arc tangent</td></tr>\n",
    "<tr><td>sinh(a)</td><td>torch.sinh(a)</td><td>hyperbolic sine</td></tr>\n",
    "<tr><td>cosh(a)</td><td>torch.cosh(a)</td><td>hyperbolic cosine</td></tr>\n",
    "<tr><td>tanh(a)</td><td>torch.tanh(a)</td><td>hyperbolic tangent</td></tr>\n",
    "</table>\n",
    "\n",
    "\n",
    "\n",
    "<table style=\"display: inline-block\">\n",
    "<caption style=\"text-align: center\"><strong>Summary Statistics</strong></caption>\n",
    "<tr><th>OPERATION</th><th>FUNCTION</th><th>DESCRIPTION</th></tr>\n",
    "<tr><td>$\\sum a$</td><td>torch.sum(a)</td><td>sum</td></tr>\n",
    "<tr><td>$\\bar a$</td><td>torch.mean(a)</td><td>mean</td></tr>\n",
    "<tr><td>a<sub>max</sub></td><td>torch.max(a)</td><td>maximum</td></tr>\n",
    "<tr><td>a<sub>min</sub></td><td>torch.min(a)</td><td>minimum</td></tr>\n",
    "<tr><td colspan=\"3\">torch.max(a,b) returns a tensor of size a<br>containing the element wise max between a and b</td></tr>\n",
    "</table>"
   ]
  },
  {
   "cell_type": "markdown",
   "id": "487b98ba",
   "metadata": {},
   "source": [
    "## 3) MNIST with fully connected neural net\n",
    "\n",
    "This part loosely follows Lectures 27-31 of PDMIPT. Some references:\n",
    "* Portilla's PDMIPT course, Lects. 27-31. Notebook: https://github.com/drgona/Pytorch_bootcamp_Udemy/blob/master/03-CNN-Convolutional-Neural-Networks/00-MNIST-ANN-Code-Along.ipynb.\n",
    "* Susmelj repo on good design patterns with PyTorch: https://github.com/IgorSusmelj/pytorch-styleguide\n",
    "\n",
    "\n",
    "**Comments:**\n",
    "- Portilla loads MNIST from the torchvision (v.0.2.2) package. See yml file given, or Lects. 3-4.\n",
    "- Portilla uses toch v.1.1.0. I installed 1.8.0 (as of writing, we're at 1.12.0, Colab uses 1.11.0).\n",
    "- Pierian Data have a PyTorch bootcamp. The course files can be downloaded from:\n",
    "    https://github.com/drgona/Pytorch_bootcamp_Udemy\n",
    "    \n",
    "**To do:**\n",
    "There are several points to cover:\n",
    "* How to implement a neural net in PyTorch.\n",
    "* How to write a training function.\n",
    "* How to save/load a model.\n",
    "* Is there a Sequential class as in Keras?\n",
    "* Automatic differentiation and gradients. This is apparently the crux of why PyTorch is better than TF2, but nobody addresses this material in depth.\n"
   ]
  },
  {
   "cell_type": "markdown",
   "id": "d72e01cf",
   "metadata": {},
   "source": [
    "#### Imports\n",
    "\n",
    "Importing *torch.nn* and *torch.nn.functional* aside will add efficiency to our code.\n",
    "\n",
    "**Remark:** It seems to be recommended to use DataLoader() with Torch when doing batch training."
   ]
  },
  {
   "cell_type": "code",
   "execution_count": 1,
   "id": "d1517b51",
   "metadata": {},
   "outputs": [],
   "source": [
    "#import warnings\n",
    "#warnings.filterwarnings(\"ignore\")\n",
    "\n",
    "import numpy as np\n",
    "import matplotlib.pyplot as plt\n",
    "\n",
    "import torch as T\n",
    "import torch.nn as nn\n",
    "import torch.nn.functional as F\n",
    "\n",
    "from torch.utils.data import DataLoader\n"
   ]
  },
  {
   "cell_type": "code",
   "execution_count": 2,
   "id": "e497d431",
   "metadata": {},
   "outputs": [],
   "source": [
    "from datetime import datetime"
   ]
  },
  {
   "cell_type": "code",
   "execution_count": 3,
   "id": "5536edd5",
   "metadata": {},
   "outputs": [],
   "source": [
    "%matplotlib inline"
   ]
  },
  {
   "cell_type": "code",
   "execution_count": 3,
   "id": "19e5d02e",
   "metadata": {
    "collapsed": true,
    "jupyter": {
     "outputs_hidden": true
    }
   },
   "outputs": [
    {
     "name": "stdout",
     "output_type": "stream",
     "text": [
      "Help on class Module in module torch.nn.modules.module:\n",
      "\n",
      "class Module(builtins.object)\n",
      " |  Base class for all neural network modules.\n",
      " |  \n",
      " |  Your models should also subclass this class.\n",
      " |  \n",
      " |  Modules can also contain other Modules, allowing to nest them in\n",
      " |  a tree structure. You can assign the submodules as regular attributes::\n",
      " |  \n",
      " |      import torch.nn as nn\n",
      " |      import torch.nn.functional as F\n",
      " |  \n",
      " |      class Model(nn.Module):\n",
      " |          def __init__(self):\n",
      " |              super(Model, self).__init__()\n",
      " |              self.conv1 = nn.Conv2d(1, 20, 5)\n",
      " |              self.conv2 = nn.Conv2d(20, 20, 5)\n",
      " |  \n",
      " |          def forward(self, x):\n",
      " |              x = F.relu(self.conv1(x))\n",
      " |              return F.relu(self.conv2(x))\n",
      " |  \n",
      " |  Submodules assigned in this way will be registered, and will have their\n",
      " |  parameters converted too when you call :meth:`to`, etc.\n",
      " |  \n",
      " |  :ivar training: Boolean represents whether this module is in training or\n",
      " |                  evaluation mode.\n",
      " |  :vartype training: bool\n",
      " |  \n",
      " |  Methods defined here:\n",
      " |  \n",
      " |  __call__ = _call_impl(self, *input, **kwargs)\n",
      " |  \n",
      " |  __delattr__(self, name)\n",
      " |      Implement delattr(self, name).\n",
      " |  \n",
      " |  __dir__(self)\n",
      " |      Default dir() implementation.\n",
      " |  \n",
      " |  __getattr__(self, name: str) -> Union[torch.Tensor, ForwardRef('Module')]\n",
      " |  \n",
      " |  __init__(self)\n",
      " |      Initializes internal Module state, shared by both nn.Module and ScriptModule.\n",
      " |  \n",
      " |  __repr__(self)\n",
      " |      Return repr(self).\n",
      " |  \n",
      " |  __setattr__(self, name: str, value: Union[torch.Tensor, ForwardRef('Module')]) -> None\n",
      " |      Implement setattr(self, name, value).\n",
      " |  \n",
      " |  __setstate__(self, state)\n",
      " |  \n",
      " |  add_module(self, name: str, module: Union[ForwardRef('Module'), NoneType]) -> None\n",
      " |      Adds a child module to the current module.\n",
      " |      \n",
      " |      The module can be accessed as an attribute using the given name.\n",
      " |      \n",
      " |      Args:\n",
      " |          name (string): name of the child module. The child module can be\n",
      " |              accessed from this module using the given name\n",
      " |          module (Module): child module to be added to the module.\n",
      " |  \n",
      " |  apply(self: ~T, fn: Callable[[ForwardRef('Module')], NoneType]) -> ~T\n",
      " |      Applies ``fn`` recursively to every submodule (as returned by ``.children()``)\n",
      " |      as well as self. Typical use includes initializing the parameters of a model\n",
      " |      (see also :ref:`nn-init-doc`).\n",
      " |      \n",
      " |      Args:\n",
      " |          fn (:class:`Module` -> None): function to be applied to each submodule\n",
      " |      \n",
      " |      Returns:\n",
      " |          Module: self\n",
      " |      \n",
      " |      Example::\n",
      " |      \n",
      " |          >>> @torch.no_grad()\n",
      " |          >>> def init_weights(m):\n",
      " |          >>>     print(m)\n",
      " |          >>>     if type(m) == nn.Linear:\n",
      " |          >>>         m.weight.fill_(1.0)\n",
      " |          >>>         print(m.weight)\n",
      " |          >>> net = nn.Sequential(nn.Linear(2, 2), nn.Linear(2, 2))\n",
      " |          >>> net.apply(init_weights)\n",
      " |          Linear(in_features=2, out_features=2, bias=True)\n",
      " |          Parameter containing:\n",
      " |          tensor([[ 1.,  1.],\n",
      " |                  [ 1.,  1.]])\n",
      " |          Linear(in_features=2, out_features=2, bias=True)\n",
      " |          Parameter containing:\n",
      " |          tensor([[ 1.,  1.],\n",
      " |                  [ 1.,  1.]])\n",
      " |          Sequential(\n",
      " |            (0): Linear(in_features=2, out_features=2, bias=True)\n",
      " |            (1): Linear(in_features=2, out_features=2, bias=True)\n",
      " |          )\n",
      " |          Sequential(\n",
      " |            (0): Linear(in_features=2, out_features=2, bias=True)\n",
      " |            (1): Linear(in_features=2, out_features=2, bias=True)\n",
      " |          )\n",
      " |  \n",
      " |  bfloat16(self: ~T) -> ~T\n",
      " |      Casts all floating point parameters and buffers to ``bfloat16`` datatype.\n",
      " |      \n",
      " |      Returns:\n",
      " |          Module: self\n",
      " |  \n",
      " |  buffers(self, recurse: bool = True) -> Iterator[torch.Tensor]\n",
      " |      Returns an iterator over module buffers.\n",
      " |      \n",
      " |      Args:\n",
      " |          recurse (bool): if True, then yields buffers of this module\n",
      " |              and all submodules. Otherwise, yields only buffers that\n",
      " |              are direct members of this module.\n",
      " |      \n",
      " |      Yields:\n",
      " |          torch.Tensor: module buffer\n",
      " |      \n",
      " |      Example::\n",
      " |      \n",
      " |          >>> for buf in model.buffers():\n",
      " |          >>>     print(type(buf), buf.size())\n",
      " |          <class 'torch.Tensor'> (20L,)\n",
      " |          <class 'torch.Tensor'> (20L, 1L, 5L, 5L)\n",
      " |  \n",
      " |  children(self) -> Iterator[ForwardRef('Module')]\n",
      " |      Returns an iterator over immediate children modules.\n",
      " |      \n",
      " |      Yields:\n",
      " |          Module: a child module\n",
      " |  \n",
      " |  cpu(self: ~T) -> ~T\n",
      " |      Moves all model parameters and buffers to the CPU.\n",
      " |      \n",
      " |      Returns:\n",
      " |          Module: self\n",
      " |  \n",
      " |  cuda(self: ~T, device: Union[int, torch.device, NoneType] = None) -> ~T\n",
      " |      Moves all model parameters and buffers to the GPU.\n",
      " |      \n",
      " |      This also makes associated parameters and buffers different objects. So\n",
      " |      it should be called before constructing optimizer if the module will\n",
      " |      live on GPU while being optimized.\n",
      " |      \n",
      " |      Args:\n",
      " |          device (int, optional): if specified, all parameters will be\n",
      " |              copied to that device\n",
      " |      \n",
      " |      Returns:\n",
      " |          Module: self\n",
      " |  \n",
      " |  double(self: ~T) -> ~T\n",
      " |      Casts all floating point parameters and buffers to ``double`` datatype.\n",
      " |      \n",
      " |      Returns:\n",
      " |          Module: self\n",
      " |  \n",
      " |  eval(self: ~T) -> ~T\n",
      " |      Sets the module in evaluation mode.\n",
      " |      \n",
      " |      This has any effect only on certain modules. See documentations of\n",
      " |      particular modules for details of their behaviors in training/evaluation\n",
      " |      mode, if they are affected, e.g. :class:`Dropout`, :class:`BatchNorm`,\n",
      " |      etc.\n",
      " |      \n",
      " |      This is equivalent with :meth:`self.train(False) <torch.nn.Module.train>`.\n",
      " |      \n",
      " |      Returns:\n",
      " |          Module: self\n",
      " |  \n",
      " |  extra_repr(self) -> str\n",
      " |      Set the extra representation of the module\n",
      " |      \n",
      " |      To print customized extra information, you should re-implement\n",
      " |      this method in your own modules. Both single-line and multi-line\n",
      " |      strings are acceptable.\n",
      " |  \n",
      " |  float(self: ~T) -> ~T\n",
      " |      Casts all floating point parameters and buffers to float datatype.\n",
      " |      \n",
      " |      Returns:\n",
      " |          Module: self\n",
      " |  \n",
      " |  forward = _forward_unimplemented(self, *input: Any) -> None\n",
      " |      Defines the computation performed at every call.\n",
      " |      \n",
      " |      Should be overridden by all subclasses.\n",
      " |      \n",
      " |      .. note::\n",
      " |          Although the recipe for forward pass needs to be defined within\n",
      " |          this function, one should call the :class:`Module` instance afterwards\n",
      " |          instead of this since the former takes care of running the\n",
      " |          registered hooks while the latter silently ignores them.\n",
      " |  \n",
      " |  half(self: ~T) -> ~T\n",
      " |      Casts all floating point parameters and buffers to ``half`` datatype.\n",
      " |      \n",
      " |      Returns:\n",
      " |          Module: self\n",
      " |  \n",
      " |  load_state_dict(self, state_dict: 'OrderedDict[str, Tensor]', strict: bool = True)\n",
      " |      Copies parameters and buffers from :attr:`state_dict` into\n",
      " |      this module and its descendants. If :attr:`strict` is ``True``, then\n",
      " |      the keys of :attr:`state_dict` must exactly match the keys returned\n",
      " |      by this module's :meth:`~torch.nn.Module.state_dict` function.\n",
      " |      \n",
      " |      Args:\n",
      " |          state_dict (dict): a dict containing parameters and\n",
      " |              persistent buffers.\n",
      " |          strict (bool, optional): whether to strictly enforce that the keys\n",
      " |              in :attr:`state_dict` match the keys returned by this module's\n",
      " |              :meth:`~torch.nn.Module.state_dict` function. Default: ``True``\n",
      " |      \n",
      " |      Returns:\n",
      " |          ``NamedTuple`` with ``missing_keys`` and ``unexpected_keys`` fields:\n",
      " |              * **missing_keys** is a list of str containing the missing keys\n",
      " |              * **unexpected_keys** is a list of str containing the unexpected keys\n",
      " |  \n",
      " |  modules(self) -> Iterator[ForwardRef('Module')]\n",
      " |      Returns an iterator over all modules in the network.\n",
      " |      \n",
      " |      Yields:\n",
      " |          Module: a module in the network\n",
      " |      \n",
      " |      Note:\n",
      " |          Duplicate modules are returned only once. In the following\n",
      " |          example, ``l`` will be returned only once.\n",
      " |      \n",
      " |      Example::\n",
      " |      \n",
      " |          >>> l = nn.Linear(2, 2)\n",
      " |          >>> net = nn.Sequential(l, l)\n",
      " |          >>> for idx, m in enumerate(net.modules()):\n",
      " |                  print(idx, '->', m)\n",
      " |      \n",
      " |          0 -> Sequential(\n",
      " |            (0): Linear(in_features=2, out_features=2, bias=True)\n",
      " |            (1): Linear(in_features=2, out_features=2, bias=True)\n",
      " |          )\n",
      " |          1 -> Linear(in_features=2, out_features=2, bias=True)\n",
      " |  \n",
      " |  named_buffers(self, prefix: str = '', recurse: bool = True) -> Iterator[Tuple[str, torch.Tensor]]\n",
      " |      Returns an iterator over module buffers, yielding both the\n",
      " |      name of the buffer as well as the buffer itself.\n",
      " |      \n",
      " |      Args:\n",
      " |          prefix (str): prefix to prepend to all buffer names.\n",
      " |          recurse (bool): if True, then yields buffers of this module\n",
      " |              and all submodules. Otherwise, yields only buffers that\n",
      " |              are direct members of this module.\n",
      " |      \n",
      " |      Yields:\n",
      " |          (string, torch.Tensor): Tuple containing the name and buffer\n",
      " |      \n",
      " |      Example::\n",
      " |      \n",
      " |          >>> for name, buf in self.named_buffers():\n",
      " |          >>>    if name in ['running_var']:\n",
      " |          >>>        print(buf.size())\n",
      " |  \n",
      " |  named_children(self) -> Iterator[Tuple[str, ForwardRef('Module')]]\n",
      " |      Returns an iterator over immediate children modules, yielding both\n",
      " |      the name of the module as well as the module itself.\n",
      " |      \n",
      " |      Yields:\n",
      " |          (string, Module): Tuple containing a name and child module\n",
      " |      \n",
      " |      Example::\n",
      " |      \n",
      " |          >>> for name, module in model.named_children():\n",
      " |          >>>     if name in ['conv4', 'conv5']:\n",
      " |          >>>         print(module)\n",
      " |  \n",
      " |  named_modules(self, memo: Union[Set[ForwardRef('Module')], NoneType] = None, prefix: str = '')\n",
      " |      Returns an iterator over all modules in the network, yielding\n",
      " |      both the name of the module as well as the module itself.\n",
      " |      \n",
      " |      Yields:\n",
      " |          (string, Module): Tuple of name and module\n",
      " |      \n",
      " |      Note:\n",
      " |          Duplicate modules are returned only once. In the following\n",
      " |          example, ``l`` will be returned only once.\n",
      " |      \n",
      " |      Example::\n",
      " |      \n",
      " |          >>> l = nn.Linear(2, 2)\n",
      " |          >>> net = nn.Sequential(l, l)\n",
      " |          >>> for idx, m in enumerate(net.named_modules()):\n",
      " |                  print(idx, '->', m)\n",
      " |      \n",
      " |          0 -> ('', Sequential(\n",
      " |            (0): Linear(in_features=2, out_features=2, bias=True)\n",
      " |            (1): Linear(in_features=2, out_features=2, bias=True)\n",
      " |          ))\n",
      " |          1 -> ('0', Linear(in_features=2, out_features=2, bias=True))\n",
      " |  \n",
      " |  named_parameters(self, prefix: str = '', recurse: bool = True) -> Iterator[Tuple[str, torch.nn.parameter.Parameter]]\n",
      " |      Returns an iterator over module parameters, yielding both the\n",
      " |      name of the parameter as well as the parameter itself.\n",
      " |      \n",
      " |      Args:\n",
      " |          prefix (str): prefix to prepend to all parameter names.\n",
      " |          recurse (bool): if True, then yields parameters of this module\n",
      " |              and all submodules. Otherwise, yields only parameters that\n",
      " |              are direct members of this module.\n",
      " |      \n",
      " |      Yields:\n",
      " |          (string, Parameter): Tuple containing the name and parameter\n",
      " |      \n",
      " |      Example::\n",
      " |      \n",
      " |          >>> for name, param in self.named_parameters():\n",
      " |          >>>    if name in ['bias']:\n",
      " |          >>>        print(param.size())\n",
      " |  \n",
      " |  parameters(self, recurse: bool = True) -> Iterator[torch.nn.parameter.Parameter]\n",
      " |      Returns an iterator over module parameters.\n",
      " |      \n",
      " |      This is typically passed to an optimizer.\n",
      " |      \n",
      " |      Args:\n",
      " |          recurse (bool): if True, then yields parameters of this module\n",
      " |              and all submodules. Otherwise, yields only parameters that\n",
      " |              are direct members of this module.\n",
      " |      \n",
      " |      Yields:\n",
      " |          Parameter: module parameter\n",
      " |      \n",
      " |      Example::\n",
      " |      \n",
      " |          >>> for param in model.parameters():\n",
      " |          >>>     print(type(param), param.size())\n",
      " |          <class 'torch.Tensor'> (20L,)\n",
      " |          <class 'torch.Tensor'> (20L, 1L, 5L, 5L)\n",
      " |  \n",
      " |  register_backward_hook(self, hook: Callable[[ForwardRef('Module'), Union[Tuple[torch.Tensor, ...], torch.Tensor], Union[Tuple[torch.Tensor, ...], torch.Tensor]], Union[NoneType, torch.Tensor]]) -> torch.utils.hooks.RemovableHandle\n",
      " |      Registers a backward hook on the module.\n",
      " |      \n",
      " |      This function is deprecated in favor of :meth:`nn.Module.register_full_backward_hook` and\n",
      " |      the behavior of this function will change in future versions.\n",
      " |      \n",
      " |      Returns:\n",
      " |          :class:`torch.utils.hooks.RemovableHandle`:\n",
      " |              a handle that can be used to remove the added hook by calling\n",
      " |              ``handle.remove()``\n",
      " |  \n",
      " |  register_buffer(self, name: str, tensor: Union[torch.Tensor, NoneType], persistent: bool = True) -> None\n",
      " |      Adds a buffer to the module.\n",
      " |      \n",
      " |      This is typically used to register a buffer that should not to be\n",
      " |      considered a model parameter. For example, BatchNorm's ``running_mean``\n",
      " |      is not a parameter, but is part of the module's state. Buffers, by\n",
      " |      default, are persistent and will be saved alongside parameters. This\n",
      " |      behavior can be changed by setting :attr:`persistent` to ``False``. The\n",
      " |      only difference between a persistent buffer and a non-persistent buffer\n",
      " |      is that the latter will not be a part of this module's\n",
      " |      :attr:`state_dict`.\n",
      " |      \n",
      " |      Buffers can be accessed as attributes using given names.\n",
      " |      \n",
      " |      Args:\n",
      " |          name (string): name of the buffer. The buffer can be accessed\n",
      " |              from this module using the given name\n",
      " |          tensor (Tensor): buffer to be registered.\n",
      " |          persistent (bool): whether the buffer is part of this module's\n",
      " |              :attr:`state_dict`.\n",
      " |      \n",
      " |      Example::\n",
      " |      \n",
      " |          >>> self.register_buffer('running_mean', torch.zeros(num_features))\n",
      " |  \n",
      " |  register_forward_hook(self, hook: Callable[..., NoneType]) -> torch.utils.hooks.RemovableHandle\n",
      " |      Registers a forward hook on the module.\n",
      " |      \n",
      " |      The hook will be called every time after :func:`forward` has computed an output.\n",
      " |      It should have the following signature::\n",
      " |      \n",
      " |          hook(module, input, output) -> None or modified output\n",
      " |      \n",
      " |      The input contains only the positional arguments given to the module.\n",
      " |      Keyword arguments won't be passed to the hooks and only to the ``forward``.\n",
      " |      The hook can modify the output. It can modify the input inplace but\n",
      " |      it will not have effect on forward since this is called after\n",
      " |      :func:`forward` is called.\n",
      " |      \n",
      " |      Returns:\n",
      " |          :class:`torch.utils.hooks.RemovableHandle`:\n",
      " |              a handle that can be used to remove the added hook by calling\n",
      " |              ``handle.remove()``\n",
      " |  \n",
      " |  register_forward_pre_hook(self, hook: Callable[..., NoneType]) -> torch.utils.hooks.RemovableHandle\n",
      " |      Registers a forward pre-hook on the module.\n",
      " |      \n",
      " |      The hook will be called every time before :func:`forward` is invoked.\n",
      " |      It should have the following signature::\n",
      " |      \n",
      " |          hook(module, input) -> None or modified input\n",
      " |      \n",
      " |      The input contains only the positional arguments given to the module.\n",
      " |      Keyword arguments won't be passed to the hooks and only to the ``forward``.\n",
      " |      The hook can modify the input. User can either return a tuple or a\n",
      " |      single modified value in the hook. We will wrap the value into a tuple\n",
      " |      if a single value is returned(unless that value is already a tuple).\n",
      " |      \n",
      " |      Returns:\n",
      " |          :class:`torch.utils.hooks.RemovableHandle`:\n",
      " |              a handle that can be used to remove the added hook by calling\n",
      " |              ``handle.remove()``\n",
      " |  \n",
      " |  register_full_backward_hook(self, hook: Callable[[ForwardRef('Module'), Union[Tuple[torch.Tensor, ...], torch.Tensor], Union[Tuple[torch.Tensor, ...], torch.Tensor]], Union[NoneType, torch.Tensor]]) -> torch.utils.hooks.RemovableHandle\n",
      " |      Registers a backward hook on the module.\n",
      " |      \n",
      " |      The hook will be called every time the gradients with respect to module\n",
      " |      inputs are computed. The hook should have the following signature::\n",
      " |      \n",
      " |          hook(module, grad_input, grad_output) -> tuple(Tensor) or None\n",
      " |      \n",
      " |      The :attr:`grad_input` and :attr:`grad_output` are tuples that contain the gradients\n",
      " |      with respect to the inputs and outputs respectively. The hook should\n",
      " |      not modify its arguments, but it can optionally return a new gradient with\n",
      " |      respect to the input that will be used in place of :attr:`grad_input` in\n",
      " |      subsequent computations. :attr:`grad_input` will only correspond to the inputs given\n",
      " |      as positional arguments and all kwarg arguments are ignored. Entries\n",
      " |      in :attr:`grad_input` and :attr:`grad_output` will be ``None`` for all non-Tensor\n",
      " |      arguments.\n",
      " |      \n",
      " |      .. warning ::\n",
      " |          Modifying inputs or outputs inplace is not allowed when using backward hooks and\n",
      " |          will raise an error.\n",
      " |      \n",
      " |      Returns:\n",
      " |          :class:`torch.utils.hooks.RemovableHandle`:\n",
      " |              a handle that can be used to remove the added hook by calling\n",
      " |              ``handle.remove()``\n",
      " |  \n",
      " |  register_parameter(self, name: str, param: Union[torch.nn.parameter.Parameter, NoneType]) -> None\n",
      " |      Adds a parameter to the module.\n",
      " |      \n",
      " |      The parameter can be accessed as an attribute using given name.\n",
      " |      \n",
      " |      Args:\n",
      " |          name (string): name of the parameter. The parameter can be accessed\n",
      " |              from this module using the given name\n",
      " |          param (Parameter): parameter to be added to the module.\n",
      " |  \n",
      " |  requires_grad_(self: ~T, requires_grad: bool = True) -> ~T\n",
      " |      Change if autograd should record operations on parameters in this\n",
      " |      module.\n",
      " |      \n",
      " |      This method sets the parameters' :attr:`requires_grad` attributes\n",
      " |      in-place.\n",
      " |      \n",
      " |      This method is helpful for freezing part of the module for finetuning\n",
      " |      or training parts of a model individually (e.g., GAN training).\n",
      " |      \n",
      " |      Args:\n",
      " |          requires_grad (bool): whether autograd should record operations on\n",
      " |                                parameters in this module. Default: ``True``.\n",
      " |      \n",
      " |      Returns:\n",
      " |          Module: self\n",
      " |  \n",
      " |  share_memory(self: ~T) -> ~T\n",
      " |  \n",
      " |  state_dict(self, destination=None, prefix='', keep_vars=False)\n",
      " |      Returns a dictionary containing a whole state of the module.\n",
      " |      \n",
      " |      Both parameters and persistent buffers (e.g. running averages) are\n",
      " |      included. Keys are corresponding parameter and buffer names.\n",
      " |      \n",
      " |      Returns:\n",
      " |          dict:\n",
      " |              a dictionary containing a whole state of the module\n",
      " |      \n",
      " |      Example::\n",
      " |      \n",
      " |          >>> module.state_dict().keys()\n",
      " |          ['bias', 'weight']\n",
      " |  \n",
      " |  to(self, *args, **kwargs)\n",
      " |      Moves and/or casts the parameters and buffers.\n",
      " |      \n",
      " |      This can be called as\n",
      " |      \n",
      " |      .. function:: to(device=None, dtype=None, non_blocking=False)\n",
      " |      \n",
      " |      .. function:: to(dtype, non_blocking=False)\n",
      " |      \n",
      " |      .. function:: to(tensor, non_blocking=False)\n",
      " |      \n",
      " |      .. function:: to(memory_format=torch.channels_last)\n",
      " |      \n",
      " |      Its signature is similar to :meth:`torch.Tensor.to`, but only accepts\n",
      " |      floating point or complex :attr:`dtype`s. In addition, this method will\n",
      " |      only cast the floating point or complex parameters and buffers to :attr:`dtype`\n",
      " |      (if given). The integral parameters and buffers will be moved\n",
      " |      :attr:`device`, if that is given, but with dtypes unchanged. When\n",
      " |      :attr:`non_blocking` is set, it tries to convert/move asynchronously\n",
      " |      with respect to the host if possible, e.g., moving CPU Tensors with\n",
      " |      pinned memory to CUDA devices.\n",
      " |      \n",
      " |      See below for examples.\n",
      " |      \n",
      " |      .. note::\n",
      " |          This method modifies the module in-place.\n",
      " |      \n",
      " |      Args:\n",
      " |          device (:class:`torch.device`): the desired device of the parameters\n",
      " |              and buffers in this module\n",
      " |          dtype (:class:`torch.dtype`): the desired floating point or complex dtype of\n",
      " |              the parameters and buffers in this module\n",
      " |          tensor (torch.Tensor): Tensor whose dtype and device are the desired\n",
      " |              dtype and device for all parameters and buffers in this module\n",
      " |          memory_format (:class:`torch.memory_format`): the desired memory\n",
      " |              format for 4D parameters and buffers in this module (keyword\n",
      " |              only argument)\n",
      " |      \n",
      " |      Returns:\n",
      " |          Module: self\n",
      " |      \n",
      " |      Examples::\n",
      " |      \n",
      " |          >>> linear = nn.Linear(2, 2)\n",
      " |          >>> linear.weight\n",
      " |          Parameter containing:\n",
      " |          tensor([[ 0.1913, -0.3420],\n",
      " |                  [-0.5113, -0.2325]])\n",
      " |          >>> linear.to(torch.double)\n",
      " |          Linear(in_features=2, out_features=2, bias=True)\n",
      " |          >>> linear.weight\n",
      " |          Parameter containing:\n",
      " |          tensor([[ 0.1913, -0.3420],\n",
      " |                  [-0.5113, -0.2325]], dtype=torch.float64)\n",
      " |          >>> gpu1 = torch.device(\"cuda:1\")\n",
      " |          >>> linear.to(gpu1, dtype=torch.half, non_blocking=True)\n",
      " |          Linear(in_features=2, out_features=2, bias=True)\n",
      " |          >>> linear.weight\n",
      " |          Parameter containing:\n",
      " |          tensor([[ 0.1914, -0.3420],\n",
      " |                  [-0.5112, -0.2324]], dtype=torch.float16, device='cuda:1')\n",
      " |          >>> cpu = torch.device(\"cpu\")\n",
      " |          >>> linear.to(cpu)\n",
      " |          Linear(in_features=2, out_features=2, bias=True)\n",
      " |          >>> linear.weight\n",
      " |          Parameter containing:\n",
      " |          tensor([[ 0.1914, -0.3420],\n",
      " |                  [-0.5112, -0.2324]], dtype=torch.float16)\n",
      " |      \n",
      " |          >>> linear = nn.Linear(2, 2, bias=None).to(torch.cdouble)\n",
      " |          >>> linear.weight\n",
      " |          Parameter containing:\n",
      " |          tensor([[ 0.3741+0.j,  0.2382+0.j],\n",
      " |                  [ 0.5593+0.j, -0.4443+0.j]], dtype=torch.complex128)\n",
      " |          >>> linear(torch.ones(3, 2, dtype=torch.cdouble))\n",
      " |          tensor([[0.6122+0.j, 0.1150+0.j],\n",
      " |                  [0.6122+0.j, 0.1150+0.j],\n",
      " |                  [0.6122+0.j, 0.1150+0.j]], dtype=torch.complex128)\n",
      " |  \n",
      " |  train(self: ~T, mode: bool = True) -> ~T\n",
      " |      Sets the module in training mode.\n",
      " |      \n",
      " |      This has any effect only on certain modules. See documentations of\n",
      " |      particular modules for details of their behaviors in training/evaluation\n",
      " |      mode, if they are affected, e.g. :class:`Dropout`, :class:`BatchNorm`,\n",
      " |      etc.\n",
      " |      \n",
      " |      Args:\n",
      " |          mode (bool): whether to set training mode (``True``) or evaluation\n",
      " |                       mode (``False``). Default: ``True``.\n",
      " |      \n",
      " |      Returns:\n",
      " |          Module: self\n",
      " |  \n",
      " |  type(self: ~T, dst_type: Union[torch.dtype, str]) -> ~T\n",
      " |      Casts all parameters and buffers to :attr:`dst_type`.\n",
      " |      \n",
      " |      Args:\n",
      " |          dst_type (type or string): the desired type\n",
      " |      \n",
      " |      Returns:\n",
      " |          Module: self\n",
      " |  \n",
      " |  xpu(self: ~T, device: Union[int, torch.device, NoneType] = None) -> ~T\n",
      " |      Moves all model parameters and buffers to the XPU.\n",
      " |      \n",
      " |      This also makes associated parameters and buffers different objects. So\n",
      " |      it should be called before constructing optimizer if the module will\n",
      " |      live on XPU while being optimized.\n",
      " |      \n",
      " |      Arguments:\n",
      " |          device (int, optional): if specified, all parameters will be\n",
      " |              copied to that device\n",
      " |      \n",
      " |      Returns:\n",
      " |          Module: self\n",
      " |  \n",
      " |  zero_grad(self, set_to_none: bool = False) -> None\n",
      " |      Sets gradients of all model parameters to zero. See similar function\n",
      " |      under :class:`torch.optim.Optimizer` for more context.\n",
      " |      \n",
      " |      Args:\n",
      " |          set_to_none (bool): instead of setting to zero, set the grads to None.\n",
      " |              See :meth:`torch.optim.Optimizer.zero_grad` for details.\n",
      " |  \n",
      " |  ----------------------------------------------------------------------\n",
      " |  Data descriptors defined here:\n",
      " |  \n",
      " |  __dict__\n",
      " |      dictionary for instance variables (if defined)\n",
      " |  \n",
      " |  __weakref__\n",
      " |      list of weak references to the object (if defined)\n",
      " |  \n",
      " |  ----------------------------------------------------------------------\n",
      " |  Data and other attributes defined here:\n",
      " |  \n",
      " |  T_destination = ~T_destination\n",
      " |  \n",
      " |  __annotations__ = {'__call__': typing.Callable[..., typing.Any], '_is_...\n",
      " |  \n",
      " |  dump_patches = False\n",
      "\n"
     ]
    }
   ],
   "source": [
    "help(nn.Module)"
   ]
  },
  {
   "cell_type": "code",
   "execution_count": 4,
   "id": "bf675595",
   "metadata": {},
   "outputs": [],
   "source": [
    "t = np.arange(0,1,0.01)\n",
    "sin_t = np.sin(t)"
   ]
  },
  {
   "cell_type": "code",
   "execution_count": 5,
   "id": "a2f91a05",
   "metadata": {},
   "outputs": [
    {
     "data": {
      "text/plain": [
       "<matplotlib.image.AxesImage at 0x20dedd2b8e0>"
      ]
     },
     "execution_count": 5,
     "metadata": {},
     "output_type": "execute_result"
    },
    {
     "data": {
      "image/png": "[encoded data removed]",
      "text/plain": [
       "<Figure size 432x288 with 1 Axes>"
      ]
     },
     "metadata": {
      "needs_background": "light"
     },
     "output_type": "display_data"
    }
   ],
   "source": [
    "plt.imshow(np.array([t,sin_t]))"
   ]
  },
  {
   "cell_type": "markdown",
   "id": "35bd7e4e",
   "metadata": {},
   "source": [
    "### 3.a - Loading the data\n",
    "Load the reduced MNIST NumPy arrays created previously:"
   ]
  },
  {
   "cell_type": "code",
   "execution_count": 6,
   "id": "9ea1b772",
   "metadata": {},
   "outputs": [],
   "source": [
    "# Training\n",
    "X_train = np.load(file = \"MNIST_Small_Training_FlatImg.npy\")\n",
    "y_train = np.load(file = \"MNIST_Small_Training_Labels.npy\")\n",
    "# Testing\n",
    "X_test = np.load(file = \"MNIST_Small_Test_FlatImg.npy\")\n",
    "y_test = np.load(file = \"MNIST_Small_Test_Labels.npy\")"
   ]
  },
  {
   "cell_type": "markdown",
   "id": "06300d56",
   "metadata": {},
   "source": [
    "Now ***rescale*** and ***convert*** the training and test images to torch tensors. We'll also split the training set to training and validation:"
   ]
  },
  {
   "cell_type": "code",
   "execution_count": 7,
   "id": "817b8d3e",
   "metadata": {
    "tags": []
   },
   "outputs": [],
   "source": [
    "# Convert and rescale flattened images\n",
    "x_train = T.tensor(data = (X_train[0:15000]/255), dtype=T.float32)\n",
    "x_val = T.tensor(data = (X_train[15000:18000]/255), dtype=T.float32)\n",
    "x_test = T.tensor(data = (X_test/255), dtype=T.float32)"
   ]
  },
  {
   "cell_type": "code",
   "execution_count": 5,
   "id": "2ad84d42",
   "metadata": {},
   "outputs": [],
   "source": [
    "'''\n",
    "NOTE: In PyTorch 1.11 (Colab's version), it was enough to convert the labels to tensors.\n",
    "      The version in which I run this notebook is 1.8, and seems to require the labels\n",
    "      to be LongTensors (long ints).\n",
    "y_train_ = T.tensor(data=y_train[:15000])\n",
    "y_val_ = T.tensor(data=y_train[15000:18000])\n",
    "y_test_ = T.tensor(data=y_test)\n",
    "'''"
   ]
  },
  {
   "cell_type": "code",
   "execution_count": 8,
   "id": "60e6665e",
   "metadata": {},
   "outputs": [],
   "source": [
    "y_train_ = T.LongTensor(data=y_train[:15000])\n",
    "y_val_ = T.LongTensor(data=y_train[15000:18000])\n",
    "y_test_ = T.LongTensor(data=y_test)"
   ]
  },
  {
   "cell_type": "markdown",
   "id": "bff76c7a",
   "metadata": {},
   "source": [
    "### 3.b - Fully connected nets in PyTorch\n",
    "\n",
    "**Main points:**\n",
    "1) The ANN class is typically inherited from the ***torch.nn.model()*** class.\n",
    "2) Layers of the ANN, including the no. of units and dimensions of inputs/outputs.\n",
    "3) Forward method in the\n",
    "\n",
    "**Questions:**\n",
    "- How do you convert the labels into one-hot vectors? Use nn.functional.one_hot()\n",
    "- What is the *super()* statement used in building the neural net?\n",
    "- How do you conceptualize the attributes od the model and the *forward()* method?\n",
    "- Why are the loss function and the optimizer outside the network? Can you gather everything in one object as in Keras' *Sequential()*?\n",
    "- Why's Portilla using log_softmax for the output?"
   ]
  },
  {
   "cell_type": "markdown",
   "id": "fd28ae6e",
   "metadata": {},
   "source": [
    "#### 2 - Main class\n",
    "\n",
    "Our first example will consist of 3 fully connected layers:\n",
    "* Input layer 1 will take-in flattened images and contain 128 units.\n",
    "* Second layer will contain 64 units.\n",
    "* Output layer will output 10 probable classes."
   ]
  },
  {
   "cell_type": "code",
   "execution_count": 9,
   "id": "4faee915",
   "metadata": {},
   "outputs": [],
   "source": [
    "# Hyperparameters\n",
    "input_dim = 784\n",
    "layer_1_n_units = 128\n",
    "layer_2_n_units = 64\n",
    "output_dim = 10\n",
    "layer_dim_list = [input_dim, layer_1_n_units, layer_2_n_units, output_dim]"
   ]
  },
  {
   "cell_type": "code",
   "execution_count": 10,
   "id": "58f10074",
   "metadata": {},
   "outputs": [],
   "source": [
    "class ANN(nn.Module):\n",
    "    '''\n",
    "        ANN class, fully connected with 3 layers:\n",
    "        * Input layer 1 will take-in flattened images and contain 128 units.\n",
    "        * Second layer will contain 64 units.\n",
    "        * Output layer will output 10 probabilities, one for each classes.\n",
    "    '''\n",
    "    \n",
    "    def __init__(self, layer_dim_list=[784,128,64,10]):\n",
    "        '''\n",
    "            ARGUMENT: layer_dim_list = [input_dim, layer_1_n_units, layer_2_n_units, output_dim], list of integers.\n",
    "        '''\n",
    "        super().__init__() # What is this for?\n",
    "        self.units_list = layer_dim_list\n",
    "        self.layer_1_fc = nn.Linear(in_features = self.units_list[0], out_features=self.units_list[1])\n",
    "        self.layer_2_fc = nn.Linear(in_features = self.units_list[1], out_features=self.units_list[2])\n",
    "        self.layer_3_fc = nn.Linear(in_features = self.units_list[2], out_features=self.units_list[3])\n",
    "        \n",
    "    def forward(self, X):\n",
    "        '''\n",
    "            Forward propagation function. Activations by layer:\n",
    "            * Layer 1: ReLU; * Layer 2: ReLU; * Layer 3: log_softmax\n",
    "            ARGUMENT: Data X (toch.tensor).\n",
    "              OUTPUT: Prediction.\n",
    "        '''\n",
    "        X = F.relu(self.layer_1_fc(X)) \n",
    "        X = F.relu(self.layer_2_fc(X))\n",
    "        X = self.layer_3_fc(X)\n",
    "        \n",
    "        return F.log_softmax(X)"
   ]
  },
  {
   "cell_type": "markdown",
   "id": "38828f6f",
   "metadata": {},
   "source": [
    "Now we instantiate the model, the loss and the optimizer:"
   ]
  },
  {
   "cell_type": "code",
   "execution_count": 11,
   "id": "fc582c9c",
   "metadata": {},
   "outputs": [],
   "source": [
    "# Model\n",
    "model = ANN(layer_dim_list)"
   ]
  },
  {
   "cell_type": "code",
   "execution_count": 12,
   "id": "56dafeb6",
   "metadata": {},
   "outputs": [],
   "source": [
    "# Loss function:\n",
    "loss_fn = nn.CrossEntropyLoss()\n",
    "# Optimizer:\n",
    "optimizer = T.optim.Adam(params = model.parameters(), lr = 0.001)"
   ]
  },
  {
   "cell_type": "code",
   "execution_count": 33,
   "id": "4fdc6942",
   "metadata": {},
   "outputs": [
    {
     "data": {
      "text/plain": [
       "[784, 128, 64, 10]"
      ]
     },
     "execution_count": 33,
     "metadata": {},
     "output_type": "execute_result"
    }
   ],
   "source": [
    "model.units_list"
   ]
  },
  {
   "cell_type": "markdown",
   "id": "a48555a5",
   "metadata": {},
   "source": [
    "Next, define the loss function and optimizer for the model. For the latter, ***one explicitly ties the model parameters to the optimizer***. Notes:\n",
    "* The losses are in the ***torch.nn*** module.\n",
    "* The optimizers are in the ***torch.optim*** module.\n",
    "* The *torch.Module()* class has a method **parameters()** that generates an iterator for the optimizer. \n"
   ]
  },
  {
   "cell_type": "markdown",
   "id": "81755f83",
   "metadata": {},
   "source": [
    "#### 3- Training code:\n",
    "\n",
    "Quite reminiscent of the TF1 approach. I'm modifying the code from Portilla's notebook below. I don't like how he designed it.\n",
    "\n",
    "**To do:**\n",
    "* Are there built-in verbose functions as in Keras for PyTorch?\n",
    "* Why is the *item()* method used this often?\n",
    "* I don't understand the second loop over batches. I had the same issue in TensorFlow.\n",
    "* The central instructions for one training step (for one batch at a given epoch) are:\n",
    "\n",
    "        optimizer.zero_grad() # Set all gradients to 0\n",
    "        loss.backward() # Perform backpropagation\n",
    "        optimizer.step() # What is this\n",
    "        \n",
    "   Clarify what these do. They're pretty standard (see the learn method of P. Tabor's DQN agent in PyTorch)."
   ]
  },
  {
   "cell_type": "code",
   "execution_count": 13,
   "id": "a7efd2a8",
   "metadata": {},
   "outputs": [
    {
     "name": "stderr",
     "output_type": "stream",
     "text": [
      "C:\\Users\\zaj20\\AppData\\Local\\Temp\\ipykernel_5264\\1048247494.py:30: UserWarning: Implicit dimension choice for log_softmax has been deprecated. Change the call to include dim=X as an argument.\n",
      "  return F.log_softmax(X)\n"
     ]
    },
    {
     "name": "stdout",
     "output_type": "stream",
     "text": [
      "Epoch: 1; Loss:     0.3350; Accuracy:      79.33%\n",
      "Epoch: 2; Loss:     0.2245; Accuracy:      90.82%\n",
      "Epoch: 3; Loss:     0.1605; Accuracy:      92.69%\n",
      "Epoch: 4; Loss:     0.1251; Accuracy:      94.03%\n",
      "Epoch: 5; Loss:     0.1019; Accuracy:      95.09%\n",
      "Epoch: 6; Loss:     0.0791; Accuracy:      96.00%\n",
      "Epoch: 7; Loss:     0.0620; Accuracy:      96.87%\n",
      "Epoch: 8; Loss:     0.0466; Accuracy:      97.43%\n",
      "Epoch: 9; Loss:     0.0357; Accuracy:      98.01%\n",
      "Epoch: 10; Loss:     0.0279; Accuracy:      98.43%\n",
      "Training finished. Elapsed time = 0:00:06.098474\n"
     ]
    }
   ],
   "source": [
    "##### TRAINING #####\n",
    "\n",
    "# Initializations\n",
    "n_epochs = 10\n",
    "batch_size = 100\n",
    "n_batches = int((len(x_train))/batch_size)\n",
    "train_losses = []\n",
    "test_losses = []\n",
    "train_correct = []\n",
    "test_correct = []\n",
    "\n",
    "# Timer init.\n",
    "train_begin_time = datetime.now()\n",
    "\n",
    "# Loop over epochs:\n",
    "for epoch in range(n_epochs):\n",
    "    \n",
    "    train_correct_samples = 0 \n",
    "    val_correct_samples = 0\n",
    "    \n",
    "    # Loop over batches\n",
    "    for i_batch in range(n_batches):\n",
    "        '''\n",
    "            Might have to modify this for validation later\n",
    "        '''\n",
    "        # Pick batches\n",
    "        batch_x = x_train[i_batch*batch_size:(i_batch+1)*batch_size]\n",
    "        batch_y = y_train_[i_batch*batch_size:(i_batch+1)*batch_size]\n",
    "        \n",
    "        # Predict labels and compute loss\n",
    "        batch_y_pred = model(batch_x) # CLARIFY.\n",
    "        loss = loss_fn(batch_y_pred, batch_y) # CLARIFY.\n",
    "        \n",
    "        # Counter no. of correct predictions and current accuracy\n",
    "        predicted_digits = T.argmax(batch_y_pred, dim =1)\n",
    "        batch_correct = (predicted_digits == batch_y).sum().item()\n",
    "        train_correct_samples += batch_correct\n",
    "        current_accuracy = (train_correct_samples*100)/((i_batch+1)*batch_size)\n",
    "        \n",
    "        # Perform one optimization step\n",
    "        optimizer.zero_grad() # CLARIFY\n",
    "        loss.backward() # CLARIFY\n",
    "        optimizer.step() # CLARIFY\n",
    "\n",
    "        # Verbose\n",
    "        '''\n",
    "        if ( (i_batch+1) %25) == 0:\n",
    "          # Modify for better formatting\n",
    "          print(f\"Epoch: {epoch+1}; Batch: {i_batch+1}; Loss: {loss.item():10.4f}; Accuracy: {current_accuracy:10.2f}%\")\n",
    "        '''\n",
    "            \n",
    "    # END OF BATCH LOOP\n",
    "    print(f\"Epoch: {epoch+1}; Loss: {loss.item():10.4f}; Accuracy: {current_accuracy:10.2f}%\")\n",
    "    \n",
    "    # Update train loss & accuracy for the epoch\n",
    "    train_losses.append(loss.item())\n",
    "    train_correct.append(train_correct_samples)\n",
    "\n",
    "# END EPOCH LOOP\n",
    "\n",
    "print(f\"Training finished. Elapsed time = {datetime.now()-train_begin_time}\")"
   ]
  },
  {
   "cell_type": "code",
   "execution_count": 27,
   "id": "baf5b15a",
   "metadata": {},
   "outputs": [],
   "source": [
    "del model, optimizer, loss"
   ]
  },
  {
   "cell_type": "code",
   "execution_count": 32,
   "id": "baba42f1",
   "metadata": {},
   "outputs": [
    {
     "data": {
      "text/plain": [
       "[0.36283501982688904,\n",
       " 0.24444255232810974,\n",
       " 0.17537030577659607,\n",
       " 0.13065586984157562,\n",
       " 0.10290651023387909,\n",
       " 0.08298884332180023,\n",
       " 0.06564819067716599,\n",
       " 0.05184834077954292,\n",
       " 0.03955361992120743,\n",
       " 0.03164398670196533]"
      ]
     },
     "execution_count": 32,
     "metadata": {},
     "output_type": "execute_result"
    }
   ],
   "source": [
    "train_losses"
   ]
  },
  {
   "cell_type": "code",
   "execution_count": 14,
   "id": "e552d951",
   "metadata": {},
   "outputs": [
    {
     "data": {
      "text/plain": [
       "[<matplotlib.lines.Line2D at 0x20deff18040>]"
      ]
     },
     "execution_count": 14,
     "metadata": {},
     "output_type": "execute_result"
    },
    {
     "data": {
      "image/png": "[encoded data removed]",
      "text/plain": [
       "<Figure size 432x288 with 1 Axes>"
      ]
     },
     "metadata": {
      "needs_background": "light"
     },
     "output_type": "display_data"
    }
   ],
   "source": [
    "plt.plot(np.arange(10), train_losses)"
   ]
  },
  {
   "cell_type": "code",
   "execution_count": 16,
   "id": "944228c7-8e9d-4556-8b90-e1d659bc02aa",
   "metadata": {},
   "outputs": [
    {
     "data": {
      "text/plain": [
       "[<matplotlib.lines.Line2D at 0x20deff68f40>]"
      ]
     },
     "execution_count": 16,
     "metadata": {},
     "output_type": "execute_result"
    },
    {
     "data": {
      "image/png": "[encoded data removed]",
      "text/plain": [
       "<Figure size 432x288 with 1 Axes>"
      ]
     },
     "metadata": {
      "needs_background": "light"
     },
     "output_type": "display_data"
    }
   ],
   "source": [
    "plt.plot(np.arange(10), train_correct)"
   ]
  },
  {
   "cell_type": "markdown",
   "id": "69f5fffd",
   "metadata": {},
   "source": [
    "**Validation**"
   ]
  },
  {
   "cell_type": "code",
   "execution_count": 15,
   "id": "192acc30",
   "metadata": {},
   "outputs": [
    {
     "name": "stdout",
     "output_type": "stream",
     "text": [
      "94.4\n"
     ]
    },
    {
     "name": "stderr",
     "output_type": "stream",
     "text": [
      "C:\\Users\\zaj20\\AppData\\Local\\Temp\\ipykernel_5264\\1048247494.py:30: UserWarning: Implicit dimension choice for log_softmax has been deprecated. Change the call to include dim=X as an argument.\n",
      "  return F.log_softmax(X)\n"
     ]
    }
   ],
   "source": [
    "n_val_batches = int(len(x_val)/batch_size)\n",
    "val_losses = []\n",
    "val_correct = []\n",
    "\n",
    "with T.no_grad():\n",
    "    \n",
    "    val_correct_samples = 0\n",
    "\n",
    "    # Validation loop\n",
    "    for i_batch in range(n_val_batches):\n",
    "        \n",
    "        # Pick batches\n",
    "        batch_x = x_val[i_batch*batch_size:(i_batch+1)*batch_size]\n",
    "        batch_y = y_val_[i_batch*batch_size:(i_batch+1)*batch_size]\n",
    "\n",
    "        # Predict labels and compute loss\n",
    "        batch_y_pred = model(batch_x) \n",
    "\n",
    "        # Counter no. of correct predictions and current accuracy\n",
    "        predicted_digits = T.argmax(batch_y_pred, dim =1)\n",
    "        batch_correct = (predicted_digits == batch_y).sum().item()\n",
    "        val_correct_samples += batch_correct\n",
    "        #current_accuracy = train_correct_samples/((i_batch+1)*batch_size)\n",
    "\n",
    "    # END VALIDATION LOOP\n",
    "    accuracy = (100*val_correct_samples)/len(x_val)\n",
    "    print(accuracy)"
   ]
  },
  {
   "cell_type": "markdown",
   "id": "e759f305",
   "metadata": {},
   "source": [
    "**Notes on softmax and backpropagation in PyTorch:**\n",
    "\n",
    "My approach for a multi-class classification problem is to convert the labels into one-hot vectors (vectors of integers), and use softmax as the activation of the output layer. Here's my forward function:\n",
    "\n",
    "            def forward(self, X):\n",
    "                X = F.relu(self.layer_1_fc(X)) \n",
    "                X = F.relu(self.layer_2_fc(X))\n",
    "                X = self.layer_3_fc(X)\n",
    "\n",
    "                return F.log_softmax(X)\n",
    "                \n",
    "Say I setup my batch by hand:\n",
    "\n",
    "            batch_x = x_train[i_batch*batch_size:(i_batch+1)*batch_size]\n",
    "            batch_y = y_cat_train[i_batch*batch_size:(i_batch+1)*batch_size]\n",
    "            \n",
    "Then I predict the probabilities:\n",
    "\n",
    "            "
   ]
  },
  {
   "cell_type": "markdown",
   "id": "327749fc-5e1c-4afe-9757-719f5422427d",
   "metadata": {},
   "source": [
    "## 4) MNIST with CNN\n",
    "\n",
    "This part loosely follows Lectures 31-38 of PDMIPT. Here's a reference:\n",
    "\n",
    "https://github.com/drgona/Pytorch_bootcamp_Udemy/blob/master/03-CNN-Convolutional-Neural-Networks/01-MNIST-with-CNN.ipynb\n",
    "\n",
    "\n",
    "**To do:**\n",
    "Main points to cover:\n",
    "* Specific functions for CNN layers: Convolutional, pooling, loss function."
   ]
  },
  {
   "cell_type": "markdown",
   "id": "ac56656a-fd83-4572-8c03-abf9f8aefc88",
   "metadata": {},
   "source": [
    "#### Imports\n",
    "\n",
    "Importing *torch.nn* and *torch.nn.functional* aside will add efficiency to our code.\n",
    "\n",
    "**Remark:** It seems to be recommended to use DataLoader() with Torch when doing batch training. I don't use it here though."
   ]
  },
  {
   "cell_type": "code",
   "execution_count": 1,
   "id": "42f08f4d-de73-4640-82f7-2b23edfef7d6",
   "metadata": {},
   "outputs": [],
   "source": [
    "#import warnings\n",
    "#warnings.filterwarnings(\"ignore\")\n",
    "\n",
    "import numpy as np\n",
    "import matplotlib.pyplot as plt\n",
    "\n",
    "import torch as T\n",
    "import torch.nn as nn\n",
    "import torch.nn.functional as F\n"
   ]
  },
  {
   "cell_type": "code",
   "execution_count": 2,
   "id": "7130f3b5-c707-4c5a-9c63-610835864cb4",
   "metadata": {},
   "outputs": [],
   "source": [
    "from datetime import datetime"
   ]
  },
  {
   "cell_type": "code",
   "execution_count": 3,
   "id": "360b4adc-8df7-4c3b-a4dc-b18be90f49c5",
   "metadata": {},
   "outputs": [],
   "source": [
    "%matplotlib inline"
   ]
  },
  {
   "cell_type": "markdown",
   "id": "7eb1c3f9-9fa6-4031-923b-4e0a34f6a65f",
   "metadata": {},
   "source": [
    "Next, load the data:"
   ]
  },
  {
   "cell_type": "code",
   "execution_count": 4,
   "id": "fafd7071-0029-4982-b122-3917046bdca6",
   "metadata": {},
   "outputs": [],
   "source": [
    "# Training\n",
    "X_train = np.load(file = \"MNIST_Small_Training_FlatImg.npy\")\n",
    "y_train = np.load(file = \"MNIST_Small_Training_Labels.npy\")\n",
    "# Testing\n",
    "X_test = np.load(file = \"MNIST_Small_Test_FlatImg.npy\")\n",
    "y_test = np.load(file = \"MNIST_Small_Test_Labels.npy\")"
   ]
  },
  {
   "cell_type": "code",
   "execution_count": 5,
   "id": "c299d41a-cadb-4fb0-b5fc-77fe604ec295",
   "metadata": {
    "tags": []
   },
   "outputs": [],
   "source": [
    "# Rescale flattened images and convert them to 28x28 tensors\n",
    "x_train = T.tensor(data = (X_train[0:15000]/255), dtype=T.float32)\n",
    "x_val = T.tensor(data = (X_train[15000:18000]/255), dtype=T.float32)\n",
    "x_test = T.tensor(data = (X_test/255), dtype=T.float32)"
   ]
  },
  {
   "cell_type": "code",
   "execution_count": 6,
   "id": "c3782942-bb78-4cd9-bde4-1bac113a91bc",
   "metadata": {},
   "outputs": [],
   "source": [
    "y_train_ = T.LongTensor(data=y_train[:15000])\n",
    "y_val_ = T.LongTensor(data=y_train[15000:18000])\n",
    "y_test_ = T.LongTensor(data=y_test)"
   ]
  },
  {
   "cell_type": "markdown",
   "id": "ca650beb-e004-4b5c-948d-602078d30ffb",
   "metadata": {},
   "source": [
    "#### CNN construction\n",
    "\n",
    "We reproduce the following Keras model:\n",
    "\n",
    "            \n",
    "            cnn_model = Sequential()\n",
    "\n",
    "            ## Add layers, input->conv->maxpool->flatten->dense->dense\n",
    "            cnn_model.add(Conv2D(filters= 32, kernel_size= (4,4),\\\n",
    "                                 activation = \"relu\", input_shape=(n_pxs,n_pxs,1))) # Conv layer\n",
    "            cnn_model.add(MaxPool2D(pool_size = (2,2)))                             # MaxPool layer\n",
    "            cnn_model.add(Flatten())                                                # Flattening\n",
    "            cnn_model.add(Dense(units = 128, activation = \"relu\"))                  # FC 1\n",
    "            cnn_model.add(Dense(units = 10, activation = \"softmax\"))                # FC 2\n",
    "\n",
    "            # Compile model\n",
    "            cnn_model.compile(optimizer = \"adam\", loss = \"categorical_crossentropy\", metrics = [\"accuracy\"])\n",
    "\n",
    "Here we'll define many more network hyperparameters, and pay special attention to the coherence of the output dimensions of our layers. A good feature of the PyTorch documentation is that they provide general formulas for these dimensions in their docs:\n",
    "\n",
    "* **2d-Convolutional layer:** This is ***nn.Conv2D()***, https://pytorch.org/docs/stable/generated/torch.nn.Conv2d.html. Here's the signature:\n",
    "\n",
    "            torch.nn.Conv2d(in_channels, out_channels, kernel_size, stride=1, padding=0, dilation=1, groups=1, bias=True, padding_mode='zeros', device=None, dtype=None)\n",
    "\n",
    "* **2d-Maxpool layer:** This is ***nn.MaxPool2D()***, https://pytorch.org/docs/stable/generated/torch.nn.MaxPool2d.html.\n",
    "\n",
    "\n",
    "            torch.nn.MaxPool2d(kernel_size, stride=None, padding=0, dilation=1, return_indices=False, ceil_mode=False)"
   ]
  },
  {
   "cell_type": "code",
   "execution_count": 28,
   "id": "a7fcd744-a59d-4b97-afa0-322d9c60d558",
   "metadata": {},
   "outputs": [],
   "source": [
    "class CNN(nn.Module):\n",
    "    '''\n",
    "        Small CNN class: input->Conv2D->MaxPool2D->FC1->FC2\n",
    "        See __init__() for input.\n",
    "            \n",
    "    '''\n",
    "    \n",
    "    def __init__(self, img_dims = [28, 28, 1], \\\n",
    "                 conv_dims = [4, 4, 1, 1, 32], \\\n",
    "                 pool_dims = [2, 2], \\\n",
    "                 fc1_units = 128, n_classes=10):\n",
    "        '''\n",
    "            ARGUMENTS:\n",
    "            Lists of dimensions for each layer of CNN. Default is MNIST for input.\n",
    "            Convention as follows:\n",
    "            * img_dims = [in_height, in_width, in_channels], dims of input images.\n",
    "            * conv_dims = [conv_ker_ht, conv_ker_wd, conv_str_ht, conv_str_wd, n_conv_filters]\n",
    "            * pool_dims = [pool_ver, pool_hor]. Here stride size = kernel size.\n",
    "            * fc1_units = no. of neurons in fully connected layer.\n",
    "            * n_classes = no. of classes or dim. of output layer.\n",
    "            \n",
    "            \n",
    "        '''\n",
    "        super().__init__()\n",
    "        \n",
    "        #####################\n",
    "        ## HYPERPARAMETERS ##\n",
    "        #####################\n",
    "        \n",
    "        # Input image dimensions\n",
    "        self.in_height = img_dims[0]\n",
    "        self.in_width = img_dims[1]\n",
    "        self.in_channels = img_dims[2]\n",
    "        \n",
    "        # Conv. layer hyperparam.\n",
    "        ## Using 0 padding \n",
    "        self.conv_ker_ht = conv_dims[0]\n",
    "        self.conv_ker_wd = conv_dims[1]\n",
    "        self.conv_str_ht = conv_dims[2]\n",
    "        self.conv_str_wd = conv_dims[3]\n",
    "        self.n_conv_filters = conv_dims[4]\n",
    "        self.conv_out_ht = int((self.in_height-self.conv_ker_ht)/ self.conv_str_ht)+1\n",
    "        self.conv_out_wd = int((self.in_width-self.conv_ker_wd)/ self.conv_str_wd)/+1\n",
    "        \n",
    "        # Pooling layer hyperparam.\n",
    "        ## Using 0 padding, stride size = \"kernel\" size\n",
    "        self.pool_ver = pool_dims[0]\n",
    "        self.pool_hor = pool_dims[1]\n",
    "        \n",
    "        # FC1 layer dim\n",
    "        self.fc1_dim_in = self.n_conv_filters*int(self.conv_out_ht/self.pool_ver)\\\n",
    "                            *int(self.conv_out_wd/self.pool_hor)\n",
    "        self.fc1_units = fc1_units\n",
    "        \n",
    "        # Out (FC2) layer dim (no. of classes)\n",
    "        self.n_classes = n_classes\n",
    "        \n",
    "        #####################\n",
    "        ##      LAYERS     ##\n",
    "        #####################\n",
    "        \n",
    "        #self.cnn_dim_list = cnn_dim_list # useful? necessary?\n",
    "        '''\n",
    "            CONVOLUTIONAL LAYER\n",
    "            torch.nn.Conv2d(in_channels, out_channels, kernel_size, \\\n",
    "                            stride=1, padding=0, dilation=1, groups=1, \\\n",
    "                            bias=True, padding_mode='zeros', device=None, dtype=None)\n",
    "            in_channels and out_channels are ints, not \n",
    "        '''\n",
    "        self.layer_1_conv = nn.Conv2d(in_channels = self.in_channels, \\\n",
    "                                      out_channels = self.n_conv_filters,\\\n",
    "                                      kernel_size = (self.conv_ker_ht, self.conv_ker_wd),\\\n",
    "                                      stride = (self.conv_str_ht, self.conv_str_wd), \\\n",
    "                                      padding=0)\n",
    "        '''\n",
    "            MAXPOOL LAYER\n",
    "            torch.nn.MaxPool2d(kernel_size, stride=None, padding=0, \\\n",
    "                                dilation=1, return_indices=False, ceil_mode=False)\n",
    "        '''\n",
    "        self.layer_2_maxpl = nn.MaxPool2d(kernel_size= (self.pool_ver, self.pool_hor), \\\n",
    "                                          stride = (self.pool_ver, self.pool_hor), padding=0)\n",
    "        self.layer_3_fc = nn.Linear(in_features=self.fc1_dim_in, out_features=self.fc1_units)\n",
    "        self.layer_4_fc = nn.Linear(in_features=self.fc1_units, out_features=self.n_classes)\n",
    "        \n",
    "    def forward(self, X):\n",
    "        \n",
    "        X = self.layer_1_conv(X)\n",
    "        X = self.layer_2_maxpl(X)\n",
    "        X = F.relu(self.layer_3_fc(X.reshape(-1,self.fc1_dim_in))) # Flatten images here\n",
    "        X = F.log_softmax(self.layer_4_fc(X), dim =1)\n",
    "        \n",
    "        return X\n",
    "    \n",
    "    "
   ]
  },
  {
   "cell_type": "code",
   "execution_count": null,
   "id": "94493ee7-0dba-4872-bb5d-74173680c49f",
   "metadata": {},
   "outputs": [],
   "source": []
  },
  {
   "cell_type": "markdown",
   "id": "4d5da999-a8d4-4aff-8ed5-668963dbc479",
   "metadata": {},
   "source": [
    "#### Instantiating the model\n",
    "\n",
    "To avoid conflicts with the previous ANN, the CNN model will be called *cnn_model*"
   ]
  },
  {
   "cell_type": "code",
   "execution_count": 36,
   "id": "1e6b7357-4c48-48a2-963a-7f5b6ae396db",
   "metadata": {},
   "outputs": [],
   "source": [
    "# Refresh model\n",
    "del cnn_model, cnn_loss_fn, optimizer"
   ]
  },
  {
   "cell_type": "code",
   "execution_count": 37,
   "id": "bca3a196-1edc-4b7b-a0d2-039ebb37db62",
   "metadata": {},
   "outputs": [
    {
     "data": {
      "text/plain": [
       "'\\nconv_out_ht = n_height-conv_ker_ht +1\\nconv_out_wd = n_width-conv_ker_wd +1\\n\\nfc1_dim_in = np.int(conv_out_ht/pool_ver)*             np.int(conv_out_wd/pool_hor)*             conv_n_filters\\n'"
      ]
     },
     "execution_count": 37,
     "metadata": {},
     "output_type": "execute_result"
    }
   ],
   "source": [
    "###################################\n",
    "##### Network hyperparameters #####\n",
    "###################################\n",
    "\n",
    "# Input/Final Output\n",
    "n_height = 28\n",
    "n_width = 28\n",
    "n_channels = 1\n",
    "\n",
    "# Conv. layer\n",
    "conv_ker_ht = 4\n",
    "conv_ker_wd = 4\n",
    "conv_n_filters = 32\n",
    "\n",
    "# MaxPool layer\n",
    "pool_ver = 2 \n",
    "pool_hor = 2\n",
    "\n",
    "# Dims of 2 fully connected layers\n",
    "fc1_dim_out = 128\n",
    "n_classes = 10\n",
    "\n",
    "'''\n",
    "conv_out_ht = n_height-conv_ker_ht +1\n",
    "conv_out_wd = n_width-conv_ker_wd +1\n",
    "\n",
    "fc1_dim_in = np.int(conv_out_ht/pool_ver)*\\\n",
    "             np.int(conv_out_wd/pool_hor)*\\\n",
    "             conv_n_filters\n",
    "'''"
   ]
  },
  {
   "cell_type": "code",
   "execution_count": 38,
   "id": "0974b6bc-0a25-468d-b20c-0b61fc5aa0bd",
   "metadata": {},
   "outputs": [],
   "source": [
    "# Model\n",
    "cnn_model = CNN(img_dims=[n_height, n_width, n_channels],\\\n",
    "                conv_dims=[conv_ker_ht, conv_ker_wd, 1, 1, conv_n_filters],\\\n",
    "                pool_dims=[pool_ver, pool_hor], \\\n",
    "                fc1_units=fc1_dim_out, n_classes = n_classes)"
   ]
  },
  {
   "cell_type": "code",
   "execution_count": 39,
   "id": "39f6ca33-339b-4d0c-8941-5a6eb786c8af",
   "metadata": {},
   "outputs": [],
   "source": [
    "# Loss function:\n",
    "cnn_loss_fn = nn.CrossEntropyLoss()\n",
    "# Optimizer:\n",
    "optimizer = T.optim.Adam(params = cnn_model.parameters(), lr = 0.001)"
   ]
  },
  {
   "cell_type": "markdown",
   "id": "f64e2e89-e62b-4b29-a8a4-ff66a44692ec",
   "metadata": {
    "tags": []
   },
   "source": [
    "#### Training code:"
   ]
  },
  {
   "cell_type": "code",
   "execution_count": 40,
   "id": "573d030d-7615-41bd-9713-651546c1cec5",
   "metadata": {},
   "outputs": [
    {
     "name": "stdout",
     "output_type": "stream",
     "text": [
      "Epoch: 1; Loss:     0.2577; Accuracy:      84.77%\n",
      "Epoch: 2; Loss:     0.1320; Accuracy:      93.10%\n",
      "Epoch: 3; Loss:     0.0794; Accuracy:      95.23%\n",
      "Epoch: 4; Loss:     0.0582; Accuracy:      96.55%\n",
      "Epoch: 5; Loss:     0.0450; Accuracy:      97.63%\n",
      "Epoch: 6; Loss:     0.0378; Accuracy:      98.39%\n",
      "Epoch: 7; Loss:     0.0247; Accuracy:      98.83%\n",
      "Epoch: 8; Loss:     0.0136; Accuracy:      99.24%\n",
      "Epoch: 9; Loss:     0.0104; Accuracy:      99.58%\n",
      "Epoch: 10; Loss:     0.0097; Accuracy:      99.78%\n",
      "Training finished. Elapsed time = 0:02:08.680822\n"
     ]
    }
   ],
   "source": [
    "##### TRAINING #####\n",
    "\n",
    "# Initializations\n",
    "n_epochs = 10\n",
    "batch_size = 100\n",
    "n_batches = int((len(x_train))/batch_size)\n",
    "train_losses = []\n",
    "test_losses = []\n",
    "train_correct = []\n",
    "test_correct = []\n",
    "\n",
    "# Timer init.\n",
    "train_begin_time = datetime.now()\n",
    "\n",
    "# Loop over epochs:\n",
    "for epoch in range(n_epochs):\n",
    "    \n",
    "    train_correct_samples = 0 \n",
    "    val_correct_samples = 0\n",
    "    \n",
    "    # Loop over batches\n",
    "    for i_batch in range(n_batches):\n",
    "        '''\n",
    "            Might have to modify this for validation later\n",
    "        '''\n",
    "        # Pick batches\n",
    "        batch_x = x_train.reshape(len(x_train), n_channels, n_height,n_width)\\\n",
    "                            [i_batch*batch_size:(i_batch+1)*batch_size]\n",
    "        batch_y = y_train_[i_batch*batch_size:(i_batch+1)*batch_size]\n",
    "        \n",
    "        # Predict labels and compute loss\n",
    "        batch_y_pred = cnn_model(batch_x) # CLARIFY.\n",
    "        loss = cnn_loss_fn(batch_y_pred, batch_y) # CLARIFY.\n",
    "        \n",
    "        # Counter no. of correct predictions and current accuracy\n",
    "        predicted_digits = T.argmax(batch_y_pred, dim =1)\n",
    "        batch_correct = (predicted_digits == batch_y).sum().item()\n",
    "        train_correct_samples += batch_correct\n",
    "        current_accuracy = (train_correct_samples*100)/((i_batch+1)*batch_size)\n",
    "        \n",
    "        # Perform one optimization step\n",
    "        optimizer.zero_grad()\n",
    "        loss.backward() \n",
    "        optimizer.step() \n",
    "        \n",
    "    # END OF BATCH LOOP\n",
    "    print(f\"Epoch: {epoch+1}; Loss: {loss.item():10.4f}; Accuracy: {current_accuracy:10.2f}%\")\n",
    "    \n",
    "    # Update train loss & accuracy for the epoch\n",
    "    train_losses.append(loss.item())\n",
    "    train_correct.append(train_correct_samples)\n",
    "\n",
    "# END EPOCH LOOP\n",
    "\n",
    "print(f\"Training finished. Elapsed time = {datetime.now()-train_begin_time}\")"
   ]
  },
  {
   "cell_type": "code",
   "execution_count": 41,
   "id": "668b72bc-f67d-4131-8f2f-c95cf16f5c45",
   "metadata": {},
   "outputs": [
    {
     "data": {
      "text/plain": [
       "[<matplotlib.lines.Line2D at 0x186c4bf50a0>]"
      ]
     },
     "execution_count": 41,
     "metadata": {},
     "output_type": "execute_result"
    },
    {
     "data": {
      "image/png": "[encoded data removed]",
      "text/plain": [
       "<Figure size 432x288 with 1 Axes>"
      ]
     },
     "metadata": {
      "needs_background": "light"
     },
     "output_type": "display_data"
    }
   ],
   "source": [
    "plt.plot(np.arange(10), train_losses)"
   ]
  },
  {
   "cell_type": "code",
   "execution_count": 42,
   "id": "34ebe2a7-2b4a-40ac-a98e-c8d7dcfb1b67",
   "metadata": {},
   "outputs": [
    {
     "data": {
      "text/plain": [
       "[<matplotlib.lines.Line2D at 0x186c4c44250>]"
      ]
     },
     "execution_count": 42,
     "metadata": {},
     "output_type": "execute_result"
    },
    {
     "data": {
      "image/png": "[encoded data removed]",
      "text/plain": [
       "<Figure size 432x288 with 1 Axes>"
      ]
     },
     "metadata": {
      "needs_background": "light"
     },
     "output_type": "display_data"
    }
   ],
   "source": [
    "plt.plot(np.arange(10), train_correct)"
   ]
  },
  {
   "cell_type": "code",
   "execution_count": null,
   "id": "33e44dda-b832-487b-8c9b-e309729198e6",
   "metadata": {},
   "outputs": [],
   "source": []
  },
  {
   "cell_type": "markdown",
   "id": "c95b5b8f-ee28-448d-9654-2a0327bb8868",
   "metadata": {},
   "source": [
    "#### Validation code:"
   ]
  },
  {
   "cell_type": "code",
   "execution_count": 43,
   "id": "99e748f2-3963-48e8-a8f4-db8b5d724c5e",
   "metadata": {},
   "outputs": [
    {
     "name": "stdout",
     "output_type": "stream",
     "text": [
      "Accuracy on validation set: 96.6%\n"
     ]
    }
   ],
   "source": [
    "n_val_batches = int(len(x_val)/batch_size)\n",
    "val_losses = []\n",
    "val_correct = []\n",
    "\n",
    "with T.no_grad():\n",
    "    \n",
    "    val_correct_samples = 0\n",
    "\n",
    "    # Validation loop\n",
    "    for i_batch in range(n_val_batches):\n",
    "        \n",
    "        # Pick batches\n",
    "        batch_x = x_val.reshape(len(x_val), n_channels, n_height, n_width)[i_batch*batch_size:(i_batch+1)*batch_size]\n",
    "        batch_y = y_val_[i_batch*batch_size:(i_batch+1)*batch_size]\n",
    "\n",
    "        # Predict labels and compute loss\n",
    "        batch_y_pred = cnn_model(batch_x) \n",
    "\n",
    "        # Counter no. of correct predictions and current accuracy\n",
    "        predicted_digits = T.argmax(batch_y_pred, dim =1)\n",
    "        batch_correct = (predicted_digits == batch_y).sum().item()\n",
    "        val_correct_samples += batch_correct\n",
    "        #current_accuracy = train_correct_samples/((i_batch+1)*batch_size)\n",
    "\n",
    "    # END VALIDATION LOOP\n",
    "    accuracy = (100*val_correct_samples)/len(x_val)\n",
    "    print(f\"Accuracy on validation set: {accuracy}%\")"
   ]
  },
  {
   "cell_type": "code",
   "execution_count": null,
   "id": "bafb9fe4-7755-4f0c-8285-79b17aa7b14a",
   "metadata": {
    "tags": []
   },
   "outputs": [],
   "source": []
  },
  {
   "cell_type": "code",
   "execution_count": 44,
   "id": "bb9c0a4f-0898-4ebc-b977-067b16baf770",
   "metadata": {},
   "outputs": [
    {
     "data": {
      "text/plain": [
       "<matplotlib.image.AxesImage at 0x186c4c84f40>"
      ]
     },
     "execution_count": 44,
     "metadata": {},
     "output_type": "execute_result"
    },
    {
     "data": {
      "image/png": "[encoded data removed]",
      "text/plain": [
       "<Figure size 432x288 with 1 Axes>"
      ]
     },
     "metadata": {
      "needs_background": "light"
     },
     "output_type": "display_data"
    }
   ],
   "source": [
    "img_id = np.random.randint(0,len(x_test))\n",
    "plt.imshow(x_test[img_id].reshape(28,28))"
   ]
  },
  {
   "cell_type": "code",
   "execution_count": 45,
   "id": "a848857a-26b5-4676-9842-74be2d1a6ebb",
   "metadata": {},
   "outputs": [
    {
     "name": "stdout",
     "output_type": "stream",
     "text": [
      "Predicted digit is: 3\n"
     ]
    }
   ],
   "source": [
    "img_pred = T.argmax(cnn_model(x_test[img_id].reshape(1,28,28)), dim = 1)\n",
    "print(f\"Predicted digit is: {img_pred.item()}\")"
   ]
  },
  {
   "cell_type": "markdown",
   "id": "2ea15074-63c8-43ab-96bf-926fb6001059",
   "metadata": {},
   "source": [
    "#### Some comments:\n",
    "\n",
    "1)  Here's an intersting difference compared to TensorFlow: When making Conv2D and MaxPool2D layers, you specify only the number of input channels and the number of output channels (TF call this no. of filters). Indeed, as with Keras, you don't need to specify of the height and width pixels. Another note is how torch manages to be more accurate that TF with 1/2 the number of epochs. However, TF seems slightly faster at this specfic task with 20 epochs.\n",
    "\n",
    "2) I had a conceptual mistake previously: Image filters need not be symmetric matrices. A good set of practical and interactive examples can be found at: https://setosa.io/ev/image-kernels/. Note the Sobel filters in particular, which aren't symmetric, but allow one to extract sharp edges. The Blur, Sharpen, Emboss, and Outline filters are symmetric matrices.\n",
    "\n",
    "3) For a theoretical discussion of convolutional and pooling layers, the convolution operation, convergence results for max/min/average pooling, and translation invariance, see chapters 15 and 16 of Calin's \"Deep learning Architectures - A mathematical approach\". In particular, he shows in the proof of Theorem 15.1.1 that the max/min/average pooling operations on functions of real variables define sequences that converge uniformly to the approximated function. Here the index n is the cardinality of the partition of the support, and it works because these operations essentially define simple functions (as in the ones seen in measure theory)."
   ]
  },
  {
   "cell_type": "code",
   "execution_count": null,
   "id": "94e67800-9fb5-446b-935c-4956d47231a4",
   "metadata": {},
   "outputs": [],
   "source": []
  },
  {
   "cell_type": "markdown",
   "id": "ce8db617-aca8-4949-8cd4-526a71509d88",
   "metadata": {},
   "source": [
    "## 4)' Addendum: CNN with DataLoader\n",
    "\n",
    "Adding the use of a dataloader. Still following:\n",
    "\n",
    "https://github.com/drgona/Pytorch_bootcamp_Udemy/blob/master/03-CNN-Convolutional-Neural-Networks/01-MNIST-with-CNN.ipynb\n"
   ]
  },
  {
   "cell_type": "markdown",
   "id": "40bca42c-f97b-4d31-b37f-be7c27348bd9",
   "metadata": {},
   "source": [
    "#### Imports"
   ]
  },
  {
   "cell_type": "code",
   "execution_count": 7,
   "id": "e044b2b4-5c82-46b5-a530-0a408aaa4452",
   "metadata": {},
   "outputs": [],
   "source": [
    "#import warnings\n",
    "#warnings.filterwarnings(\"ignore\")\n",
    "\n",
    "import numpy as np\n",
    "import matplotlib.pyplot as plt\n",
    "\n",
    "import torch as T\n",
    "import torch.nn as nn\n",
    "import torch.nn.functional as F\n",
    "\n",
    "from torch.utils.data import DataLoader, Dataset"
   ]
  },
  {
   "cell_type": "code",
   "execution_count": 2,
   "id": "31c5eae1-fe52-4fab-a2dc-68ba1b052566",
   "metadata": {},
   "outputs": [],
   "source": [
    "from datetime import datetime"
   ]
  },
  {
   "cell_type": "code",
   "execution_count": 3,
   "id": "dfd14fc3-a9e5-4b0d-b6fb-7e4ec84f56ca",
   "metadata": {},
   "outputs": [],
   "source": [
    "%matplotlib inline"
   ]
  },
  {
   "cell_type": "markdown",
   "id": "c50ed3b0-7117-4e32-bc01-ec44e0422b50",
   "metadata": {},
   "source": []
  },
  {
   "cell_type": "markdown",
   "id": "c0eaa088-ec27-49c8-b8d4-15bfb418a741",
   "metadata": {},
   "source": [
    "#### Reduced MNIST with Dataset and DataLoader classes\n",
    "\n",
    "First, we load our dataset, we rescale the images, and convert the images and labels to torch tensors."
   ]
  },
  {
   "cell_type": "code",
   "execution_count": 4,
   "id": "970a1c12-cd48-4894-b644-76eff0ea5032",
   "metadata": {},
   "outputs": [],
   "source": [
    "# Training\n",
    "X_train = np.load(file = \"MNIST_Small_Training_FlatImg.npy\")\n",
    "y_train = np.load(file = \"MNIST_Small_Training_Labels.npy\")\n",
    "# Testing\n",
    "X_test = np.load(file = \"MNIST_Small_Test_FlatImg.npy\")\n",
    "y_test = np.load(file = \"MNIST_Small_Test_Labels.npy\")"
   ]
  },
  {
   "cell_type": "code",
   "execution_count": 5,
   "id": "273d8bc2-84f4-4361-84f2-6f2b4c4b156d",
   "metadata": {
    "tags": []
   },
   "outputs": [],
   "source": [
    "# Rescale flattened images and convert them to 28x28 tensors\n",
    "x_train = T.tensor(data = (X_train[0:15000]/255), dtype=T.float32)\n",
    "x_val = T.tensor(data = (X_train[15000:18000]/255), dtype=T.float32)\n",
    "x_test = T.tensor(data = (X_test/255), dtype=T.float32)"
   ]
  },
  {
   "cell_type": "code",
   "execution_count": 6,
   "id": "838e20b8-4915-43fe-b8c0-3907021334b1",
   "metadata": {},
   "outputs": [],
   "source": [
    "y_train_ = T.LongTensor(data=y_train[:15000])\n",
    "y_val_ = T.LongTensor(data=y_train[15000:18000])\n",
    "y_test_ = T.LongTensor(data=y_test)"
   ]
  },
  {
   "cell_type": "markdown",
   "id": "bfdbad3a-9cf9-42ff-9c6b-b8eaa859fac5",
   "metadata": {
    "tags": []
   },
   "source": [
    "\n",
    "Here we use the Dataset and DataLoader classes of *torch.utils.data*. Here is a useful guide:\n",
    "\n",
    "https://stanford.edu/~shervine/blog/pytorch-how-to-generate-data-parallel\n",
    "\n",
    "The official documentation (very dense) is at the link:\n",
    "\n",
    "https://pytorch.org/docs/stable/data.html#torch.utils.data.DataLoader\n",
    "\n",
    "Our next step is to write a custom class inherited from Dataset. There are 3 methods to implement:\n",
    "\n",
    "* **The constructor:** To specify the attributes of our dataset. Here these are images and the digits (labels).\n",
    "* **len() overload:** To obtain the number of elements in the dataset. Obviously used when constructing batches.\n",
    "* **getitem() overload:** To use indexing on our dataset and access its contents.\n"
   ]
  },
  {
   "cell_type": "code",
   "execution_count": 11,
   "id": "e24e2289-aa3d-4f35-bc05-49ce8a1fa806",
   "metadata": {},
   "outputs": [],
   "source": [
    "class MNIST_red(Dataset):\n",
    "    '''\n",
    "        Has 2 attributes:\n",
    "        * X (images): Flattened MNIST images, of size (N_samples, 784) and type torch.tensor()\n",
    "        * y (labels): Integers representing the digits in X, of size (N_samples, ) and type torch.LongTensor()\n",
    "    '''\n",
    "    \n",
    "    def __init__(self, images, labels):\n",
    "        # Basics\n",
    "        self.X = images\n",
    "        self.y = labels\n",
    "        \n",
    "    def __len__(self):\n",
    "        # For number of samples\n",
    "        return len(self.X)\n",
    "    \n",
    "    def __getitem__(self,idx):\n",
    "        # For indexing\n",
    "        return (self.X[idx], self.y[idx])"
   ]
  },
  {
   "cell_type": "markdown",
   "id": "43d6d190-c54f-4e1a-b57b-ffb284c986d6",
   "metadata": {},
   "source": [
    "Now we organize our training, validation, and test data into this new class:"
   ]
  },
  {
   "cell_type": "code",
   "execution_count": 19,
   "id": "fc8ecd11-e3fb-4c92-8d62-2634cfb74d6a",
   "metadata": {},
   "outputs": [],
   "source": [
    "Dataset_train = MNIST_red(x_train, y_train_)\n",
    "Dataset_val = MNIST_red(x_val, y_val_)\n",
    "Dataset_test = MNIST_red(x_test, y_test_)"
   ]
  },
  {
   "cell_type": "markdown",
   "id": "cd4d27b5-e344-4425-94d1-bf1992cf34e4",
   "metadata": {},
   "source": [
    "Finally, we instantiate our data loaders for the training and validation (similar to the generators used with Keras). The important arguments are *data*, *batch_size* and *shuffle*. Typically, *DataLoader()* is used with the *Dataset()* class."
   ]
  },
  {
   "cell_type": "code",
   "execution_count": 21,
   "id": "8b476533-e6f6-487c-9379-d41e5d21499e",
   "metadata": {},
   "outputs": [],
   "source": [
    "train_loader = DataLoader(dataset=Dataset_train, batch_size = 100, shuffle = True)"
   ]
  },
  {
   "cell_type": "code",
   "execution_count": 22,
   "id": "39093a32-4adc-46e6-b6d0-eef53f0ff0f3",
   "metadata": {},
   "outputs": [],
   "source": [
    "val_loader = DataLoader(dataset=Dataset_val, batch_size = 100, shuffle = False)"
   ]
  },
  {
   "cell_type": "markdown",
   "id": "49251b07-23d9-4dc5-a9f7-68064dbf8087",
   "metadata": {},
   "source": [
    "These are used respectively in the training and validation code after the constructions of our CNN."
   ]
  },
  {
   "cell_type": "markdown",
   "id": "3732dcfd-a848-47f8-9f8e-447c851d196e",
   "metadata": {},
   "source": [
    "#### CNN construction\n",
    "\n",
    "Same CNN as above:"
   ]
  },
  {
   "cell_type": "code",
   "execution_count": 23,
   "id": "66907fd7-3867-4451-acce-3e122ea39b61",
   "metadata": {},
   "outputs": [],
   "source": [
    "class CNN(nn.Module):\n",
    "    '''\n",
    "        Small CNN class: input->Conv2D->MaxPool2D->FC1->FC2\n",
    "        See __init__() for input.\n",
    "            \n",
    "    '''\n",
    "    \n",
    "    def __init__(self, img_dims = [28, 28, 1], \\\n",
    "                 conv_dims = [4, 4, 1, 1, 32], \\\n",
    "                 pool_dims = [2, 2], \\\n",
    "                 fc1_units = 128, n_classes=10):\n",
    "        '''\n",
    "            ARGUMENTS:\n",
    "            Lists of dimensions for each layer of CNN. Default is MNIST for input.\n",
    "            Convention as follows:\n",
    "            * img_dims = [in_height, in_width, in_channels], dims of input images.\n",
    "            * conv_dims = [conv_ker_ht, conv_ker_wd, conv_str_ht, conv_str_wd, n_conv_filters]\n",
    "            * pool_dims = [pool_ver, pool_hor]. Here stride size = kernel size.\n",
    "            * fc1_units = no. of neurons in fully connected layer.\n",
    "            * n_classes = no. of classes or dim. of output layer.\n",
    "            \n",
    "            \n",
    "        '''\n",
    "        super().__init__()\n",
    "        \n",
    "        #####################\n",
    "        ## HYPERPARAMETERS ##\n",
    "        #####################\n",
    "        \n",
    "        # Input image dimensions\n",
    "        self.in_height = img_dims[0]\n",
    "        self.in_width = img_dims[1]\n",
    "        self.in_channels = img_dims[2]\n",
    "        \n",
    "        # Conv. layer hyperparam.\n",
    "        ## Using 0 padding \n",
    "        self.conv_ker_ht = conv_dims[0]\n",
    "        self.conv_ker_wd = conv_dims[1]\n",
    "        self.conv_str_ht = conv_dims[2]\n",
    "        self.conv_str_wd = conv_dims[3]\n",
    "        self.n_conv_filters = conv_dims[4]\n",
    "        self.conv_out_ht = int((self.in_height-self.conv_ker_ht)/ self.conv_str_ht)+1\n",
    "        self.conv_out_wd = int((self.in_width-self.conv_ker_wd)/ self.conv_str_wd)/+1\n",
    "        \n",
    "        # Pooling layer hyperparam.\n",
    "        ## Using 0 padding, stride size = \"kernel\" size\n",
    "        self.pool_ver = pool_dims[0]\n",
    "        self.pool_hor = pool_dims[1]\n",
    "        \n",
    "        # FC1 layer dim\n",
    "        self.fc1_dim_in = self.n_conv_filters*int(self.conv_out_ht/self.pool_ver)\\\n",
    "                            *int(self.conv_out_wd/self.pool_hor)\n",
    "        self.fc1_units = fc1_units\n",
    "        \n",
    "        # Out (FC2) layer dim (no. of classes)\n",
    "        self.n_classes = n_classes\n",
    "        \n",
    "        #####################\n",
    "        ##      LAYERS     ##\n",
    "        #####################\n",
    "        \n",
    "        #self.cnn_dim_list = cnn_dim_list # useful? necessary?\n",
    "        '''\n",
    "            CONVOLUTIONAL LAYER\n",
    "            torch.nn.Conv2d(in_channels, out_channels, kernel_size, \\\n",
    "                            stride=1, padding=0, dilation=1, groups=1, \\\n",
    "                            bias=True, padding_mode='zeros', device=None, dtype=None)\n",
    "            in_channels and out_channels are ints, not \n",
    "        '''\n",
    "        self.layer_1_conv = nn.Conv2d(in_channels = self.in_channels, \\\n",
    "                                      out_channels = self.n_conv_filters,\\\n",
    "                                      kernel_size = (self.conv_ker_ht, self.conv_ker_wd),\\\n",
    "                                      stride = (self.conv_str_ht, self.conv_str_wd), \\\n",
    "                                      padding=0)\n",
    "        '''\n",
    "            MAXPOOL LAYER\n",
    "            torch.nn.MaxPool2d(kernel_size, stride=None, padding=0, \\\n",
    "                                dilation=1, return_indices=False, ceil_mode=False)\n",
    "        '''\n",
    "        self.layer_2_maxpl = nn.MaxPool2d(kernel_size= (self.pool_ver, self.pool_hor), \\\n",
    "                                          stride = (self.pool_ver, self.pool_hor), padding=0)\n",
    "        self.layer_3_fc = nn.Linear(in_features=self.fc1_dim_in, out_features=self.fc1_units)\n",
    "        self.layer_4_fc = nn.Linear(in_features=self.fc1_units, out_features=self.n_classes)\n",
    "        \n",
    "    def forward(self, X):\n",
    "        \n",
    "        X = self.layer_1_conv(X)\n",
    "        X = self.layer_2_maxpl(X)\n",
    "        X = F.relu(self.layer_3_fc(X.reshape(-1,self.fc1_dim_in))) # Flatten images here\n",
    "        X = F.log_softmax(self.layer_4_fc(X), dim =1)\n",
    "        \n",
    "        return X\n",
    "    \n",
    "    "
   ]
  },
  {
   "cell_type": "markdown",
   "id": "f6595186-449a-4164-bd4f-4a99a71be2df",
   "metadata": {},
   "source": [
    "#### Instantiating the model\n",
    "\n",
    "To avoid conflicts with the previous ANN, the CNN model will be called *cnn_model*"
   ]
  },
  {
   "cell_type": "code",
   "execution_count": 36,
   "id": "e3a645cb-6b18-4c08-959e-9ee840677402",
   "metadata": {},
   "outputs": [],
   "source": [
    "# Refresh model\n",
    "del cnn_model, cnn_loss_fn, optimizer"
   ]
  },
  {
   "cell_type": "code",
   "execution_count": 24,
   "id": "a3c73cdd-e83d-4959-8e26-7c4c01a03013",
   "metadata": {},
   "outputs": [],
   "source": [
    "###################################\n",
    "##### Network hyperparameters #####\n",
    "###################################\n",
    "\n",
    "# Input/Final Output\n",
    "n_height = 28\n",
    "n_width = 28\n",
    "n_channels = 1\n",
    "\n",
    "# Conv. layer\n",
    "conv_ker_ht = 4\n",
    "conv_ker_wd = 4\n",
    "conv_n_filters = 32\n",
    "\n",
    "# MaxPool layer\n",
    "pool_ver = 2 \n",
    "pool_hor = 2\n",
    "\n",
    "# Dims of 2 fully connected layers\n",
    "fc1_dim_out = 128\n",
    "n_classes = 10"
   ]
  },
  {
   "cell_type": "code",
   "execution_count": 25,
   "id": "2f8423d9-0a83-4232-90da-7f72ea615d64",
   "metadata": {},
   "outputs": [],
   "source": [
    "# Model\n",
    "cnn_model = CNN(img_dims=[n_height, n_width, n_channels],\\\n",
    "                conv_dims=[conv_ker_ht, conv_ker_wd, 1, 1, conv_n_filters],\\\n",
    "                pool_dims=[pool_ver, pool_hor], \\\n",
    "                fc1_units=fc1_dim_out, n_classes = n_classes)"
   ]
  },
  {
   "cell_type": "code",
   "execution_count": 26,
   "id": "1f070d05-0274-43bb-b17f-cf41a7fa74b0",
   "metadata": {},
   "outputs": [],
   "source": [
    "# Loss function:\n",
    "cnn_loss_fn = nn.CrossEntropyLoss()\n",
    "# Optimizer:\n",
    "optimizer = T.optim.Adam(params = cnn_model.parameters(), lr = 0.001)"
   ]
  },
  {
   "cell_type": "markdown",
   "id": "c5dba7b7-747e-4bcb-be4d-7bbe582755a8",
   "metadata": {
    "tags": []
   },
   "source": [
    "#### Training code:"
   ]
  },
  {
   "cell_type": "code",
   "execution_count": 65,
   "id": "85fafcf8-4360-46dc-ac78-81726fca3d73",
   "metadata": {},
   "outputs": [
    {
     "name": "stdout",
     "output_type": "stream",
     "text": [
      "Epoch: 1; Loss:     0.1594; Accuracy:      86.23%\n",
      "Epoch: 2; Loss:     0.1445; Accuracy:      94.05%\n",
      "Epoch: 3; Loss:     0.1079; Accuracy:      96.35%\n",
      "Epoch: 4; Loss:     0.0674; Accuracy:      97.52%\n",
      "Epoch: 5; Loss:     0.1086; Accuracy:      98.33%\n",
      "Epoch: 6; Loss:     0.0406; Accuracy:      98.81%\n",
      "Epoch: 7; Loss:     0.0207; Accuracy:      99.19%\n",
      "Epoch: 8; Loss:     0.0171; Accuracy:      99.48%\n",
      "Epoch: 9; Loss:     0.0036; Accuracy:      99.74%\n",
      "Epoch: 10; Loss:     0.0056; Accuracy:      99.88%\n",
      "Training finished. Elapsed time = 0:01:58.675659\n"
     ]
    }
   ],
   "source": [
    "##### TRAINING #####\n",
    "\n",
    "# Initializations\n",
    "n_epochs = 10\n",
    "batch_size = 100\n",
    "n_batches = len(train_loader)\n",
    "train_losses = []\n",
    "test_losses = []\n",
    "train_correct = []\n",
    "test_correct = []\n",
    "\n",
    "'''\n",
    "# Should normally make the DataLoader() here:\n",
    "train_loader = DataLoader(dataset = Dataset_train, batch_size = batch_size, shuffle = True)\n",
    "'''\n",
    "\n",
    "# Timer init.\n",
    "train_begin_time = datetime.now()\n",
    "\n",
    "# Loop over epochs:\n",
    "for epoch in range(n_epochs):\n",
    "    \n",
    "    train_correct_samples = 0 \n",
    "    val_correct_samples = 0\n",
    "    \n",
    "    # Loop over batches\n",
    "    #for i_batch in range(n_batches):\n",
    "    for i_batch, (batch_x, batch_y) in enumerate(train_loader):\n",
    "        \n",
    "        # Predict labels and compute loss\n",
    "        batch_y_pred = cnn_model(batch_x.reshape(batch_size, n_channels, n_height, n_width)) # CLARIFY.\n",
    "        loss = cnn_loss_fn(batch_y_pred, batch_y) # CLARIFY.\n",
    "        \n",
    "        # Counter no. of correct predictions and current accuracy\n",
    "        predicted_digits = T.argmax(batch_y_pred, dim =1)\n",
    "        batch_correct = (predicted_digits == batch_y).sum().item()\n",
    "        train_correct_samples += batch_correct\n",
    "        current_accuracy = (train_correct_samples*100)/((i_batch+1)*batch_size)\n",
    "        \n",
    "        # Perform one optimization step\n",
    "        optimizer.zero_grad()\n",
    "        loss.backward() \n",
    "        optimizer.step() \n",
    "        \n",
    "    # END OF BATCH LOOP\n",
    "    print(f\"Epoch: {epoch+1}; Loss: {loss.item():10.4f}; Accuracy: {current_accuracy:10.2f}%\")\n",
    "    \n",
    "    # Update train loss & accuracy for the epoch\n",
    "    train_losses.append(loss.item())\n",
    "    train_correct.append(train_correct_samples)\n",
    "\n",
    "# END EPOCH LOOP\n",
    "\n",
    "print(f\"Training finished. Elapsed time = {datetime.now()-train_begin_time}\")"
   ]
  },
  {
   "cell_type": "code",
   "execution_count": 66,
   "id": "d8fd6ff3-87fa-4e76-ab45-bb8018172346",
   "metadata": {},
   "outputs": [
    {
     "data": {
      "text/plain": [
       "[<matplotlib.lines.Line2D at 0x28108f75c70>]"
      ]
     },
     "execution_count": 66,
     "metadata": {},
     "output_type": "execute_result"
    },
    {
     "data": {
      "image/png": "[encoded data removed]",
      "text/plain": [
       "<Figure size 432x288 with 1 Axes>"
      ]
     },
     "metadata": {
      "needs_background": "light"
     },
     "output_type": "display_data"
    }
   ],
   "source": [
    "plt.plot(np.arange(10), train_losses)"
   ]
  },
  {
   "cell_type": "code",
   "execution_count": 67,
   "id": "31ff5179-e814-4e27-a447-0ac5359d2a6c",
   "metadata": {},
   "outputs": [
    {
     "data": {
      "text/plain": [
       "[<matplotlib.lines.Line2D at 0x28108f80cd0>]"
      ]
     },
     "execution_count": 67,
     "metadata": {},
     "output_type": "execute_result"
    },
    {
     "data": {
      "image/png": "[encoded data removed]",
      "text/plain": [
       "<Figure size 432x288 with 1 Axes>"
      ]
     },
     "metadata": {
      "needs_background": "light"
     },
     "output_type": "display_data"
    }
   ],
   "source": [
    "plt.plot(np.arange(10), train_correct)"
   ]
  },
  {
   "cell_type": "code",
   "execution_count": null,
   "id": "c0ef0ccb-1452-4f1f-80de-191fc6c8494c",
   "metadata": {},
   "outputs": [],
   "source": []
  },
  {
   "cell_type": "markdown",
   "id": "af9f0b40-4c4c-43ba-8a66-d1786a1491c6",
   "metadata": {},
   "source": [
    "#### Validation code:"
   ]
  },
  {
   "cell_type": "code",
   "execution_count": 68,
   "id": "d758f475-03b1-465c-85a4-d446388fccd1",
   "metadata": {},
   "outputs": [
    {
     "name": "stdout",
     "output_type": "stream",
     "text": [
      "Done validation on batch 1...\n",
      "Done validation on batch 2...\n",
      "Done validation on batch 3...\n",
      "Done validation on batch 4...\n",
      "Done validation on batch 5...\n",
      "Done validation on batch 6...\n",
      "Done validation on batch 7...\n",
      "Done validation on batch 8...\n",
      "Done validation on batch 9...\n",
      "Done validation on batch 10...\n",
      "Done validation on batch 11...\n",
      "Done validation on batch 12...\n",
      "Done validation on batch 13...\n",
      "Done validation on batch 14...\n",
      "Done validation on batch 15...\n",
      "Done validation on batch 16...\n",
      "Done validation on batch 17...\n",
      "Done validation on batch 18...\n",
      "Done validation on batch 19...\n",
      "Done validation on batch 20...\n",
      "Done validation on batch 21...\n",
      "Done validation on batch 22...\n",
      "Done validation on batch 23...\n",
      "Done validation on batch 24...\n",
      "Done validation on batch 25...\n",
      "Done validation on batch 26...\n",
      "Done validation on batch 27...\n",
      "Done validation on batch 28...\n",
      "Done validation on batch 29...\n",
      "Done validation on batch 30...\n",
      "Accuracy on validation set: 97.1%\n"
     ]
    }
   ],
   "source": [
    "'''\n",
    "# Previously\n",
    "val_loader = DataLoader(dataset = Dataset_val, batch_size = batch_size, shuffle = False)\n",
    "'''\n",
    "n_val_batches = len(val_loader)\n",
    "val_losses = []\n",
    "val_correct = []\n",
    "\n",
    "with T.no_grad():\n",
    "    \n",
    "    val_correct_samples = 0\n",
    "\n",
    "    # Validation loop\n",
    "    for i_batch, (batch_x, batch_y) in enumerate(val_loader):\n",
    "        \n",
    "        # Predict labels and compute loss\n",
    "        batch_y_pred = cnn_model(batch_x.reshape(batch_size, n_channels, n_height, n_width)) \n",
    "\n",
    "        # Counter no. of correct predictions and current accuracy\n",
    "        predicted_digits = T.argmax(batch_y_pred, dim =1)\n",
    "        batch_correct = (predicted_digits == batch_y).sum().item()\n",
    "        val_correct_samples += batch_correct\n",
    "        #current_accuracy = train_correct_samples/((i_batch+1)*batch_size)\n",
    "        print(f\"Done validation on batch {i_batch+1}...\")\n",
    "\n",
    "    # END VALIDATION LOOP\n",
    "    accuracy = (100*val_correct_samples)/len(x_val)\n",
    "    print(f\"Accuracy on validation set: {accuracy}%\")"
   ]
  },
  {
   "cell_type": "markdown",
   "id": "6cfaa47d-3196-4d49-b8d8-cd6428abbf0d",
   "metadata": {},
   "source": [
    "**Remarks:** This takes slightly less time than the code without data loader and achieves a slightly higher accuracy."
   ]
  },
  {
   "cell_type": "code",
   "execution_count": null,
   "id": "cbea0bdf-1db7-4419-a722-dd637e6e9860",
   "metadata": {},
   "outputs": [],
   "source": []
  }
 ],
 "metadata": {
  "kernelspec": {
   "display_name": "Python 3 (ipykernel)",
   "language": "python",
   "name": "python3"
  },
  "language_info": {
   "codemirror_mode": {
    "name": "ipython",
    "version": 3
   },
   "file_extension": ".py",
   "mimetype": "text/x-python",
   "name": "python",
   "nbconvert_exporter": "python",
   "pygments_lexer": "ipython3",
   "version": "3.8.13"
  }
 },
 "nbformat": 4,
 "nbformat_minor": 5
}
