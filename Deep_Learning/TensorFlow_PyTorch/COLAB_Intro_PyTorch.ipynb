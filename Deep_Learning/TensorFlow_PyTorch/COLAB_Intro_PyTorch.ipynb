{
 "cells": [
  {
   "cell_type": "markdown",
   "metadata": {
    "id": "QV9nQF4JpRIj"
   },
   "source": [
    "# **Introduction to PyTorch**\n",
    "### 2022/06/29, AJ Zerouali\n",
    "### Updated: 2022/07/01\n",
    "\n",
    "The purpose of this notebook is to gain a basic understanding of PyTorch. I'm following some sections of Pierian Data's course on medical imaging with PyTorch, which I'll abbreviate as PDMIPT.\n",
    "\n",
    "**Remark:** I do not have PyTorch on my local machine. I need cleanup my Anaconda installation.\n",
    "\n",
    "### PyTorch in Colab\n",
    "\n",
    "Before doing anything, we note that there is version 1.11 of PyTorch that comes with Colab. \n",
    "\n",
    "**Remark:** Visit:\n",
    "\n",
    "https://colab.research.google.com/github/omarsar/pytorch_notebooks/blob/master/pytorch_quick_start.ipynb#scrollTo=KzsiN3l_Vy1p"
   ]
  },
  {
   "cell_type": "code",
   "execution_count": null,
   "metadata": {
    "colab": {
     "base_uri": "https://localhost:8080/"
    },
    "id": "r1J0e7qtqiIL",
    "outputId": "af7a6516-12de-462d-bce3-128097fad1ee"
   },
   "outputs": [
    {
     "name": "stdout",
     "output_type": "stream",
     "text": [
      "Python 3.7.13\n"
     ]
    }
   ],
   "source": [
    "!python -V"
   ]
  },
  {
   "cell_type": "code",
   "execution_count": null,
   "metadata": {
    "colab": {
     "base_uri": "https://localhost:8080/"
    },
    "id": "7YxiOvczs7ui",
    "outputId": "c49a7fa5-e6a4-4485-c8e4-6dffaafdd641"
   },
   "outputs": [
    {
     "name": "stdout",
     "output_type": "stream",
     "text": [
      "Name: torch\n",
      "Version: 1.11.0+cu113\n",
      "Summary: Tensors and Dynamic neural networks in Python with strong GPU acceleration\n",
      "Home-page: https://pytorch.org/\n",
      "Author: PyTorch Team\n",
      "Author-email: packages@pytorch.org\n",
      "License: BSD-3\n",
      "Location: /usr/local/lib/python3.7/dist-packages\n",
      "Requires: typing-extensions\n",
      "Required-by: torchvision, torchtext, torchaudio, fastai\n"
     ]
    }
   ],
   "source": [
    "!pip show torch"
   ]
  },
  {
   "cell_type": "code",
   "execution_count": null,
   "metadata": {
    "colab": {
     "base_uri": "https://localhost:8080/"
    },
    "id": "p8HD8AwQqvH4",
    "outputId": "0956465b-8384-4105-ce05-6fb0edbf99fc"
   },
   "outputs": [
    {
     "name": "stdout",
     "output_type": "stream",
     "text": [
      "Name: numpy\n",
      "Version: 1.21.6\n",
      "Summary: NumPy is the fundamental package for array computing with Python.\n",
      "Home-page: https://www.numpy.org\n",
      "Author: Travis E. Oliphant et al.\n",
      "Author-email: None\n",
      "License: BSD\n",
      "Location: /usr/local/lib/python3.7/dist-packages\n",
      "Requires: \n",
      "Required-by: yellowbrick, xgboost, xarray, xarray-einstats, wordcloud, torchvision, torchtext, tifffile, thinc, Theano-PyMC, tensorflow, tensorflow-probability, tensorflow-hub, tensorflow-datasets, tensorboard, tables, statsmodels, spacy, sklearn-pandas, seaborn, scs, scipy, scikit-learn, scikit-image, resampy, qdldl, PyWavelets, python-louvain, pystan, pysndfile, pymc3, pyerfa, pyemd, pycocotools, pyarrow, plotnine, patsy, pandas, osqp, opt-einsum, opencv-python, opencv-contrib-python, numexpr, numba, nibabel, netCDF4, moviepy, mlxtend, mizani, missingno, matplotlib, matplotlib-venn, lightgbm, librosa, Keras-Preprocessing, kapre, jpeg4py, jaxlib, jax, imgaug, imbalanced-learn, imageio, hyperopt, holoviews, h5py, gym, gensim, folium, fix-yahoo-finance, fbprophet, fastdtw, fa2, ecos, daft, cvxpy, cufflinks, cmdstanpy, cftime, bokeh, blis, autograd, atari-py, astropy, arviz, altair, albumentations\n"
     ]
    }
   ],
   "source": [
    "!pip show numpy"
   ]
  },
  {
   "cell_type": "markdown",
   "metadata": {
    "id": "Oe1tSN-Rr0eo"
   },
   "source": [
    "## 1) From NumPy arrays to PyTorch Tensors.\n",
    "\n",
    "**References:** I'm loosely following:\n",
    "- Section 4 of the PDMIPT course.\n",
    "- Chapter 3 of Lapan's \"Deep reinforcement learning with PyTorch\".\n",
    "\n",
    "As usual, we start with the imports:"
   ]
  },
  {
   "cell_type": "code",
   "execution_count": null,
   "metadata": {
    "id": "di3NbjuVs7aR"
   },
   "outputs": [],
   "source": [
    "import warnings\n",
    "warnings.filterwarnings(\"ignore\")\n",
    "\n",
    "import numpy as np\n",
    "import matplotlib.pyplot as plt\n"
   ]
  },
  {
   "cell_type": "code",
   "execution_count": null,
   "metadata": {
    "id": "JYloDjJ_s71y"
   },
   "outputs": [],
   "source": [
    "%matplotlib inline"
   ]
  },
  {
   "cell_type": "markdown",
   "metadata": {
    "id": "V97D0CZ6tlEw"
   },
   "source": [
    "***Here's how you import PyTorch:***"
   ]
  },
  {
   "cell_type": "code",
   "execution_count": null,
   "metadata": {
    "id": "eB1MtLI0s7zV"
   },
   "outputs": [],
   "source": [
    "import torch as T"
   ]
  },
  {
   "cell_type": "code",
   "execution_count": null,
   "metadata": {
    "id": "j6DObEKHuo_9"
   },
   "outputs": [],
   "source": [
    "X = np.identity(n=3, dtype = np.float32)"
   ]
  },
  {
   "cell_type": "code",
   "execution_count": null,
   "metadata": {
    "colab": {
     "base_uri": "https://localhost:8080/"
    },
    "id": "K1-bqkwYuo9m",
    "outputId": "7553cea9-c13d-46fe-e649-de3d9ce9824e"
   },
   "outputs": [
    {
     "data": {
      "text/plain": [
       "dtype('float32')"
      ]
     },
     "execution_count": 12,
     "metadata": {},
     "output_type": "execute_result"
    }
   ],
   "source": [
    "X.dtype"
   ]
  },
  {
   "cell_type": "code",
   "execution_count": null,
   "metadata": {
    "colab": {
     "base_uri": "https://localhost:8080/"
    },
    "id": "skX0TxbRuo7T",
    "outputId": "b053093f-981a-46cb-8993-7d0f07aa9f0f"
   },
   "outputs": [
    {
     "data": {
      "text/plain": [
       "numpy.ndarray"
      ]
     },
     "execution_count": 13,
     "metadata": {},
     "output_type": "execute_result"
    }
   ],
   "source": [
    "type(X)"
   ]
  },
  {
   "cell_type": "code",
   "execution_count": null,
   "metadata": {
    "id": "S30r3rpXuo45"
   },
   "outputs": [],
   "source": []
  },
  {
   "cell_type": "markdown",
   "metadata": {
    "id": "1Y55Hw2_0Xje"
   },
   "source": [
    "## Tensor operations:\n",
    "\n",
    "The following is from the \"Tensor Operations\" notebook of PDMIPT:\n",
    "\n",
    "<table style=\"display: inline-block\">\n",
    "<caption style=\"text-align: center\"><strong>Arithmetic</strong></caption>\n",
    "<tr><th>OPERATION</th><th>FUNCTION</th><th>DESCRIPTION</th></tr>\n",
    "<tr><td>a + b</td><td>a.add(b)</td><td>element wise addition</td></tr>\n",
    "<tr><td>a - b</td><td>a.sub(b)</td><td>subtraction</td></tr>\n",
    "<tr><td>a * b</td><td>a.mul(b)</td><td>multiplication</td></tr>\n",
    "<tr><td>a / b</td><td>a.div(b)</td><td>division</td></tr>\n",
    "<tr><td>a % b</td><td>a.fmod(b)</td><td>modulo (remainder after division)</td></tr>\n",
    "<tr><td>a<sup>b</sup></td><td>a.pow(b)</td><td>power</td></tr>\n",
    "<tr><td>&nbsp;</td><td></td><td></td></tr>\n",
    "</table>\n",
    "\n",
    "\n",
    "\n",
    "<table style=\"display: inline-block\">\n",
    "<caption style=\"text-align: center\"><strong>Monomial Operations</strong></caption>\n",
    "<tr><th>OPERATION</th><th>FUNCTION</th><th>DESCRIPTION</th></tr>\n",
    "<tr><td>|a|</td><td>torch.abs(a)</td><td>absolute value</td></tr>\n",
    "<tr><td>1/a</td><td>torch.reciprocal(a)</td><td>reciprocal</td></tr>\n",
    "<tr><td>$\\sqrt{a}$</td><td>torch.sqrt(a)</td><td>square root</td></tr>\n",
    "<tr><td>log(a)</td><td>torch.log(a)</td><td>natural log</td></tr>\n",
    "<tr><td>e<sup>a</sup></td><td>torch.exp(a)</td><td>exponential</td></tr>\n",
    "<tr><td>12.34  ==>  12.</td><td>torch.trunc(a)</td><td>truncated integer</td></tr>\n",
    "<tr><td>12.34  ==>  0.34</td><td>torch.frac(a)</td><td>fractional component</td></tr>\n",
    "</table>\n",
    "\n",
    "\n",
    "\n",
    "<table style=\"display: inline-block\">\n",
    "<caption style=\"text-align: center\"><strong>Trigonometry</strong></caption>\n",
    "<tr><th>OPERATION</th><th>FUNCTION</th><th>DESCRIPTION</th></tr>\n",
    "<tr><td>sin(a)</td><td>torch.sin(a)</td><td>sine</td></tr>\n",
    "<tr><td>cos(a)</td><td>torch.sin(a)</td><td>cosine</td></tr>\n",
    "<tr><td>tan(a)</td><td>torch.sin(a)</td><td>tangent</td></tr>\n",
    "<tr><td>arcsin(a)</td><td>torch.asin(a)</td><td>arc sine</td></tr>\n",
    "<tr><td>arccos(a)</td><td>torch.acos(a)</td><td>arc cosine</td></tr>\n",
    "<tr><td>arctan(a)</td><td>torch.atan(a)</td><td>arc tangent</td></tr>\n",
    "<tr><td>sinh(a)</td><td>torch.sinh(a)</td><td>hyperbolic sine</td></tr>\n",
    "<tr><td>cosh(a)</td><td>torch.cosh(a)</td><td>hyperbolic cosine</td></tr>\n",
    "<tr><td>tanh(a)</td><td>torch.tanh(a)</td><td>hyperbolic tangent</td></tr>\n",
    "</table>\n",
    "\n",
    "\n",
    "\n",
    "<table style=\"display: inline-block\">\n",
    "<caption style=\"text-align: center\"><strong>Summary Statistics</strong></caption>\n",
    "<tr><th>OPERATION</th><th>FUNCTION</th><th>DESCRIPTION</th></tr>\n",
    "<tr><td>$\\sum a$</td><td>torch.sum(a)</td><td>sum</td></tr>\n",
    "<tr><td>$\\bar a$</td><td>torch.mean(a)</td><td>mean</td></tr>\n",
    "<tr><td>a<sub>max</sub></td><td>torch.max(a)</td><td>maximum</td></tr>\n",
    "<tr><td>a<sub>min</sub></td><td>torch.min(a)</td><td>minimum</td></tr>\n",
    "<tr><td colspan=\"3\">torch.max(a,b) returns a tensor of size a<br>containing the element wise max between a and b</td></tr>\n",
    "</table>"
   ]
  },
  {
   "cell_type": "code",
   "execution_count": null,
   "metadata": {
    "id": "Og6LzszIuo2Q"
   },
   "outputs": [],
   "source": []
  },
  {
   "cell_type": "code",
   "execution_count": null,
   "metadata": {},
   "outputs": [],
   "source": []
  },
  {
   "cell_type": "code",
   "execution_count": null,
   "metadata": {},
   "outputs": [],
   "source": []
  },
  {
   "cell_type": "code",
   "execution_count": null,
   "metadata": {},
   "outputs": [],
   "source": []
  },
  {
   "cell_type": "code",
   "execution_count": null,
   "metadata": {},
   "outputs": [],
   "source": []
  }
 ],
 "metadata": {
  "colab": {
   "collapsed_sections": [],
   "name": "Intro_PyTorch.ipynb",
   "provenance": []
  },
  "kernelspec": {
   "display_name": "Python 3",
   "language": "python",
   "name": "python3"
  },
  "language_info": {
   "codemirror_mode": {
    "name": "ipython",
    "version": 3
   },
   "file_extension": ".py",
   "mimetype": "text/x-python",
   "name": "python",
   "nbconvert_exporter": "python",
   "pygments_lexer": "ipython3",
   "version": "3.8.8"
  }
 },
 "nbformat": 4,
 "nbformat_minor": 1
}
