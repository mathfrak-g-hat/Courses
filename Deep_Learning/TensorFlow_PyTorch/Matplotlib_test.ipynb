{
 "cells": [
  {
   "cell_type": "code",
   "execution_count": 1,
   "id": "bdf7e414",
   "metadata": {},
   "outputs": [],
   "source": [
    "import warnings\n",
    "warnings.filterwarnings(\"ignore\")\n",
    "# This will kill the warnings with pink background\n",
    "\n",
    "import numpy as np\n",
    "#import tensorflow as tf\n",
    "\n",
    "#import pandas as pd\n",
    "import torch as T\n",
    "import matplotlib.pyplot as plt"
   ]
  },
  {
   "cell_type": "code",
   "execution_count": 2,
   "id": "a1fb6e7b",
   "metadata": {},
   "outputs": [],
   "source": [
    "%matplotlib inline"
   ]
  },
  {
   "cell_type": "code",
   "execution_count": 3,
   "id": "8c18ceeb",
   "metadata": {},
   "outputs": [],
   "source": [
    "X_train = np.load(file = \"MNIST_Small_Training_FlatImg.npy\")\n",
    "X_test = np.load(file = \"MNIST_Small_Test_FlatImg.npy\")\n",
    "\n"
   ]
  },
  {
   "cell_type": "code",
   "execution_count": 4,
   "id": "b878ee36",
   "metadata": {},
   "outputs": [],
   "source": [
    "img_1 = X_test[10].reshape(28,28)\n",
    "img_2 = X_test[20].reshape(28,28)"
   ]
  },
  {
   "cell_type": "code",
   "execution_count": null,
   "id": "bc94cb61",
   "metadata": {},
   "outputs": [],
   "source": [
    "plt.imshow(img_1)"
   ]
  },
  {
   "cell_type": "code",
   "execution_count": 6,
   "id": "b25910d8",
   "metadata": {},
   "outputs": [
    {
     "data": {
      "text/plain": [
       "<matplotlib.image.AxesImage at 0x1637a5c88b0>"
      ]
     },
     "execution_count": 6,
     "metadata": {},
     "output_type": "execute_result"
    },
    {
     "data": {
      "image/png": "[encoded data removed]",
      "text/plain": [
       "<Figure size 432x288 with 1 Axes>"
      ]
     },
     "metadata": {
      "needs_background": "light"
     },
     "output_type": "display_data"
    }
   ],
   "source": [
    "plt.imshow(img_2)"
   ]
  },
  {
   "cell_type": "code",
   "execution_count": 4,
   "id": "bd5e247e",
   "metadata": {},
   "outputs": [],
   "source": [
    "t = np.arange(0,1,0.01)\n",
    "sin_t = np.sin(t)\n"
   ]
  },
  {
   "cell_type": "code",
   "execution_count": null,
   "id": "2022446c",
   "metadata": {},
   "outputs": [],
   "source": [
    "plt.plot(t,sin_t)"
   ]
  },
  {
   "cell_type": "code",
   "execution_count": 10,
   "id": "f4d758d7",
   "metadata": {},
   "outputs": [
    {
     "data": {
      "text/plain": [
       "<matplotlib.image.AxesImage at 0x1637a6ee3d0>"
      ]
     },
     "execution_count": 10,
     "metadata": {},
     "output_type": "execute_result"
    },
    {
     "data": {
      "image/png": "[encoded data removed]",
      "text/plain": [
       "<Figure size 432x288 with 1 Axes>"
      ]
     },
     "metadata": {
      "needs_background": "light"
     },
     "output_type": "display_data"
    }
   ],
   "source": [
    "plt.imshow(X_train[8805].reshape(28,28))"
   ]
  },
  {
   "cell_type": "code",
   "execution_count": null,
   "id": "f98ce3b6",
   "metadata": {},
   "outputs": [],
   "source": []
  }
 ],
 "metadata": {
  "kernelspec": {
   "display_name": "Python 3",
   "language": "python",
   "name": "python3"
  },
  "language_info": {
   "codemirror_mode": {
    "name": "ipython",
    "version": 3
   },
   "file_extension": ".py",
   "mimetype": "text/x-python",
   "name": "python",
   "nbconvert_exporter": "python",
   "pygments_lexer": "ipython3",
   "version": "3.8.8"
  }
 },
 "nbformat": 4,
 "nbformat_minor": 5
}
