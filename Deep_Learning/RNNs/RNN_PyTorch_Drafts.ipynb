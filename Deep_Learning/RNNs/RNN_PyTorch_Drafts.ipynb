{
 "cells": [
  {
   "cell_type": "markdown",
   "id": "669f5ffa-be49-44a0-b6c4-8d42a4fc94a3",
   "metadata": {},
   "source": [
    "# Recurrent Neural Networks - The Draft\n",
    "### 2022/07/22, Ahmed J. Zerouali\n",
    "#### Updated: 22/07/24\n",
    "\n"
   ]
  },
  {
   "cell_type": "markdown",
   "id": "439d54a8-c374-48e7-8c7d-b1fe8de446bc",
   "metadata": {},
   "source": [
    "## Imports"
   ]
  },
  {
   "cell_type": "code",
   "execution_count": 1,
   "id": "dd31d882-38fb-40b7-8abd-cfd85dd3e4c6",
   "metadata": {},
   "outputs": [],
   "source": [
    "import numpy as np\n",
    "import matplotlib.pyplot as plt\n",
    "import pandas as pd\n",
    "from datetime import datetime"
   ]
  },
  {
   "cell_type": "code",
   "execution_count": 2,
   "id": "e94ed19e-4dc1-4712-a374-3ffa88b8121a",
   "metadata": {},
   "outputs": [],
   "source": [
    "%matplotlib inline"
   ]
  },
  {
   "cell_type": "code",
   "execution_count": 3,
   "id": "3849af22-ef08-41b9-a7fc-c306cead8b46",
   "metadata": {},
   "outputs": [],
   "source": [
    "# PyTorch\n",
    "import torch as T\n",
    "import torch.nn as nn\n",
    "import torch.nn.functional as F"
   ]
  },
  {
   "cell_type": "code",
   "execution_count": 4,
   "id": "3b33d700-4d8a-44e3-ad7c-22090eb70d74",
   "metadata": {},
   "outputs": [],
   "source": [
    "# Data processing\n",
    "\n",
    "# SKlearn MinMaxScaler\n",
    "from sklearn.preprocessing import MinMaxScaler\n",
    "\n",
    "# DataLoader\n",
    "from torch.utils.data import Dataset, DataLoader\n"
   ]
  },
  {
   "cell_type": "code",
   "execution_count": 5,
   "id": "6917dc07-78e6-4715-b411-40f1f881882f",
   "metadata": {},
   "outputs": [],
   "source": [
    "# Torch Layers\n",
    "from torch.nn import Module, RNN, LSTM"
   ]
  },
  {
   "cell_type": "markdown",
   "id": "1d5c9361-7c90-43bc-b29f-46728baf2d77",
   "metadata": {},
   "source": [
    "## Data\n",
    "\n",
    "### Generate the synthetic data"
   ]
  },
  {
   "cell_type": "code",
   "execution_count": 6,
   "id": "5e80c4e2-6994-4df0-bcac-f762aec24b08",
   "metadata": {},
   "outputs": [],
   "source": [
    "# Generate synthetic data\n",
    "t = np.linspace(start=0, stop=10, num=501)\n",
    "X_ini = np.sin(2*np.pi*t)"
   ]
  },
  {
   "cell_type": "code",
   "execution_count": 7,
   "id": "e1564936-a8f2-4acf-af5d-acc1df11afc3",
   "metadata": {},
   "outputs": [
    {
     "data": {
      "text/plain": [
       "[<matplotlib.lines.Line2D at 0x22df4d5a3a0>]"
      ]
     },
     "execution_count": 7,
     "metadata": {},
     "output_type": "execute_result"
    },
    {
     "data": {
      "image/png": "[encoded data removed]",
      "text/plain": [
       "<Figure size 432x288 with 1 Axes>"
      ]
     },
     "metadata": {
      "needs_background": "light"
     },
     "output_type": "display_data"
    }
   ],
   "source": [
    "plt.plot(t,X_ini)"
   ]
  },
  {
   "cell_type": "markdown",
   "id": "406a25ad-2e56-4cc5-8ed7-511adbc3322d",
   "metadata": {},
   "source": [
    "This is our data. Now let's take 10% of it as a "
   ]
  },
  {
   "cell_type": "code",
   "execution_count": 8,
   "id": "c07234b8-69f2-4d49-ab14-f9f2e06f3f3f",
   "metadata": {},
   "outputs": [],
   "source": [
    "# Test percentage and index\n",
    "test_data_percentage = 0.1\n",
    "test_data_idx = len(X_ini)-int(len(X_ini)*test_data_percentage)\n",
    "\n",
    "# Train-test split\n",
    "X_train_ini = X_ini[:test_data_idx]\n",
    "X_test_ini = X_ini[test_data_idx:]"
   ]
  },
  {
   "cell_type": "code",
   "execution_count": 9,
   "id": "aff18a4c-48e1-4b48-ae21-60d2cbd5d421",
   "metadata": {},
   "outputs": [
    {
     "data": {
      "text/plain": [
       "(50,)"
      ]
     },
     "execution_count": 9,
     "metadata": {},
     "output_type": "execute_result"
    }
   ],
   "source": [
    "X_test_ini.shape"
   ]
  },
  {
   "cell_type": "markdown",
   "id": "6eaf84a2-0222-4db4-adfe-a9867a839ec9",
   "metadata": {},
   "source": [
    "### Scale with MinMaxScaler()"
   ]
  },
  {
   "cell_type": "code",
   "execution_count": 9,
   "id": "6a562262-d7da-4d3b-807a-4d298aad55bc",
   "metadata": {},
   "outputs": [],
   "source": [
    "# Inst. scaler\n",
    "ts_scaler = MinMaxScaler()\n",
    "\n",
    "# Fit scaler on training data\n",
    "ts_scaler.fit(X_train_ini.reshape(-1,1))\n",
    "\n",
    "# Scale train and test data\n",
    "X_train = ts_scaler.transform(X_train_ini.reshape(-1,1))[:,0]\n",
    "X_test = ts_scaler.transform(X_test_ini.reshape(-1,1))[:,0]"
   ]
  },
  {
   "cell_type": "code",
   "execution_count": 10,
   "id": "ca07f47d-2900-4a1c-9b68-1dd1e32a3694",
   "metadata": {},
   "outputs": [
    {
     "name": "stdout",
     "output_type": "stream",
     "text": [
      "Training data dtype: X_train.dtype = float64\n",
      "Test data dtype: X_test.dtype = float64\n"
     ]
    }
   ],
   "source": [
    "# Check dtypes, important for training and validation later\n",
    "print(f\"Training data dtype: X_train.dtype = {X_train.dtype}\")\n",
    "print(f\"Test data dtype: X_test.dtype = {X_test.dtype}\")"
   ]
  },
  {
   "cell_type": "markdown",
   "id": "7d8487db-6625-4470-a2a3-ed3b7ed308ec",
   "metadata": {},
   "source": [
    "### PyTorch Dataset() subclass\n",
    "\n",
    "#### Another time... Fix the model, train it properly, make sure validation gives good results first"
   ]
  },
  {
   "cell_type": "code",
   "execution_count": 12,
   "id": "1c4b818b-3759-40ad-acff-7e767b512a1d",
   "metadata": {
    "jupyter": {
     "source_hidden": true
    },
    "tags": []
   },
   "outputs": [],
   "source": [
    "# Version 3\n",
    "\n",
    "### Could take care of this later\n",
    "class TimeSeries(Dataset):\n",
    "    \n",
    "    '''\n",
    "        torch.utils.data.Dataset() subclass for encoding time series\n",
    "        as states systems. Given a time_series (np.array()) of shape\n",
    "        (n_time_stamps, n_channels) and a number of time lags n_x_lags, \n",
    "        an instance of TimeSeries() re-organizes the data as tensors (X,y),\n",
    "        where:\n",
    "        * y is the tensor of \"outputs\" of the series, of shape (1, n_channels);\n",
    "        * X is the tensor of \"inputs\" of the series, of shape (n_x_lags, n_channels),\n",
    "        \n",
    "        Attributes:\n",
    "        * n_x_lags: No. of time lags in input data (int).\n",
    "        * n_channels: No. of channels in time series.\n",
    "        * n_out_samples: No. of output samples = len(y) = len(time_series)-n_x_lags\n",
    "        * X : Input data, dtype=Double, shape = (n_out_samples, n_x_lags, n_channels) (torch.tensor).\n",
    "        * y : Output data, dtype=Double, shape = (n_out_samples, n_x_lags, n_channels) (torch.tensor).\n",
    "        \n",
    "        Constructor args:\n",
    "        * n_x_lags: Number of lags (int)\n",
    "        * time_series: The original time series (np.array) of shape (N, n_channels).\n",
    "        \n",
    "        Example: \n",
    "    '''\n",
    "    \n",
    "    def __init__(self, time_series, n_x_lags):\n",
    "        # Number of lags in the input\n",
    "        self.n_x_lags = n_x_lags\n",
    "        \n",
    "        # No. of channels in time series\n",
    "        self.n_channels = time_series.shape[1]\n",
    "        \n",
    "        # No. of output samples\n",
    "        self.n_out_samples = time_series.shape[0]-n_x_lags\n",
    "        \n",
    "        # Output time series (specify Double)\n",
    "        ### VERSION 3 MAIN MODIFICATION:\n",
    "        #self.y = T.tensor(time_series[n_x_lags :,:], dtype = T.float64) \n",
    "        \n",
    "        # Inputs (specify Double)\n",
    "        self.X = T.empty(size = (self.n_out_samples, self.n_x_lags, self.n_channels),\\\n",
    "                         dtype = T.float64)\n",
    "        \n",
    "        # Outputs (specify Double)\n",
    "        self.Y = T.empty(size = (self.n_out_samples, self.n_x_lags, self.n_channels),\\\n",
    "                         dtype = T.float64)\n",
    "        \n",
    "        for i in range(len(self.y)):\n",
    "            self.X[i,:,:] = T.tensor(time_series[i:i+n_x_lags,:])\n",
    "            self.\n",
    "\n",
    "        \n",
    "    def __len__(self):\n",
    "        # For number of OUTPUT samples\n",
    "        return self.n_out_samples\n",
    "    \n",
    "    def __getitem__(self,idx):\n",
    "        # For indexing\n",
    "        return (self.X[idx,:,:], self.y[idx,:,:])\n",
    "    "
   ]
  },
  {
   "cell_type": "code",
   "execution_count": null,
   "id": "177614cd-c3b0-4ad8-adff-5be1a0cc1416",
   "metadata": {},
   "outputs": [],
   "source": []
  },
  {
   "cell_type": "code",
   "execution_count": null,
   "id": "5137d20d-3351-4a2d-b1a3-3a4a32ca5bc0",
   "metadata": {},
   "outputs": [],
   "source": []
  },
  {
   "cell_type": "code",
   "execution_count": null,
   "id": "f04726f5-2e59-4aae-98d2-ab3126077608",
   "metadata": {},
   "outputs": [],
   "source": []
  },
  {
   "cell_type": "markdown",
   "id": "9ce1114f-172c-4126-8283-2bdec52ba5d5",
   "metadata": {
    "tags": []
   },
   "source": [
    "___________________________________________________________________\n",
    "\n",
    "## Elman RNN in PyTorch (Attempt 5)\n",
    "\n",
    "### Class Definition"
   ]
  },
  {
   "cell_type": "code",
   "execution_count": 601,
   "id": "71f0e306-38c9-4d79-8442-6c4bd9e4c8e2",
   "metadata": {},
   "outputs": [],
   "source": [
    "# Version 5\n",
    "\n",
    "class sRNN(Module):\n",
    "    \n",
    "    # Constructor\n",
    "    def __init__(self, input_size, hidden_size,\\\n",
    "                 num_layers=1, nonlinearity=\"tanh\", output_size=1):\n",
    "        \n",
    "        # What is this for?\n",
    "        super().__init__()\n",
    "        \n",
    "        # Hyperparams\n",
    "        self.input_size = input_size # No. of input channels (NOT length)\n",
    "        self.hidden_size = hidden_size # No. of components of hidden state\n",
    "        self.num_layers = num_layers # No. of RNN units\n",
    "        self.nonlinearity = nonlinearity # Activation of RNN unit\n",
    "        self.output_size = output_size # No. of output channels\n",
    "        \n",
    "        \n",
    "        # Layers\n",
    "        self.rnn_layer = RNN(input_size = self.input_size, hidden_size = self.hidden_size,\\\n",
    "                            num_layers = self.num_layers,nonlinearity = self.nonlinearity)\n",
    "        \n",
    "        self.out_layer = nn.Linear(in_features = self.hidden_size, out_features = self.output_size)\n",
    "    \n",
    "    # Forward pass\n",
    "    def forward(self, X, h):\n",
    "        \n",
    "        X_out, h = self.rnn_layer(X, h)\n",
    "        y = self.out_layer(X_out)\n",
    "        return y, h.detach()"
   ]
  },
  {
   "cell_type": "code",
   "execution_count": null,
   "id": "197b87b4-ab27-4370-afce-2c99d6763ce3",
   "metadata": {},
   "outputs": [],
   "source": []
  },
  {
   "cell_type": "markdown",
   "id": "b39f0e48-db22-4aab-a8e6-14cc78510b52",
   "metadata": {},
   "source": [
    "________________________________________________________\n",
    "\n",
    "## Training and validation\n",
    "\n",
    "### Prelims: Instantiate dataset and model"
   ]
  },
  {
   "cell_type": "markdown",
   "id": "35b3145b-0d8f-4b27-b423-891000b85ab3",
   "metadata": {},
   "source": [
    "I'm skipping the dataloader for now. It's just eating up my time..."
   ]
  },
  {
   "cell_type": "code",
   "execution_count": 14,
   "id": "a7e5f366-2fd8-4de5-be0a-289a6c943e11",
   "metadata": {
    "jupyter": {
     "source_hidden": true
    },
    "tags": []
   },
   "outputs": [],
   "source": [
    "# Dataset\n",
    "D_ts = TimeSeries(time_series = X_train.reshape(-1,1), n_x_lags = 50)\n",
    "\n",
    "# Loader\n",
    "RNN_loader = DataLoader(dataset = D_ts, batch_size = 1, shuffle = False)"
   ]
  },
  {
   "cell_type": "code",
   "execution_count": 625,
   "id": "f6d225c0-101d-428e-aeb5-9199a17e3d5e",
   "metadata": {},
   "outputs": [],
   "source": [
    "del sRNN_model, loss, optimizer"
   ]
  },
  {
   "cell_type": "code",
   "execution_count": 626,
   "id": "bbbe22b7-9564-43d9-b283-0d3f0b50ace5",
   "metadata": {},
   "outputs": [],
   "source": [
    "# Turn on gradient calculations\n",
    "T.set_grad_enabled(True)\n",
    "\n",
    "# Params\n",
    "n_in_channels =1\n",
    "n_x_lags = 100\n",
    "n_out_channels =1\n",
    "\n",
    "# Inst. model and set its weights to double precision\n",
    "### We take the number of hidden units equal to length of input sequences\n",
    "sRNN_model = sRNN(input_size = n_in_channels, hidden_size=10, \\\n",
    "                  num_layers = 1, nonlinearity='tanh', output_size=n_out_channels)\n",
    "#sRNN_model.double()\n",
    "\n",
    "# Loss function:\n",
    "sRNN_loss_fn = nn.MSELoss() # Note: MSELoss() requires T.float64 \n",
    "#sRNN_loss_fn.double()\n",
    "\n",
    "# Optimizer:\n",
    "#optimizer = T.optim.Adam(params = sRNN_model.parameters(), lr = 0.001) # THIS ONE GIVES BEST RESULTS\n",
    "#optimizer = T.optim.SGD(params = sRNN_model.parameters(), lr = 0.01) # Gives better training than ADAM\n",
    "optimizer = T.optim.RMSprop(params = sRNN_model.parameters(), lr = 0.001)\n"
   ]
  },
  {
   "cell_type": "code",
   "execution_count": 32,
   "id": "9913ea73-b59e-4a2d-bb13-d1bb69937e0b",
   "metadata": {},
   "outputs": [
    {
     "data": {
      "text/plain": [
       "401"
      ]
     },
     "execution_count": 32,
     "metadata": {},
     "output_type": "execute_result"
    }
   ],
   "source": [
    "n_y_samples"
   ]
  },
  {
   "cell_type": "code",
   "execution_count": 52,
   "id": "e5c138f8-8e44-4205-9b82-04138e97b758",
   "metadata": {},
   "outputs": [
    {
     "data": {
      "text/plain": [
       "<torch.autograd.grad_mode.set_grad_enabled at 0x162a474db80>"
      ]
     },
     "execution_count": 52,
     "metadata": {},
     "output_type": "execute_result"
    }
   ],
   "source": [
    "# Turn on gradient calculations\n",
    "T.set_grad_enabled(True)"
   ]
  },
  {
   "cell_type": "code",
   "execution_count": 627,
   "id": "0ef5d087-e08b-4b22-bb63-039eac1313ab",
   "metadata": {},
   "outputs": [
    {
     "name": "stdout",
     "output_type": "stream",
     "text": [
      "Epoch: 1; Vector loss: 2.0817752645226286; Effective loss: 0.038220323229514276\n",
      "Epoch: 2; Vector loss: 1.1897129465711762; Effective loss: 0.002853465287720456\n",
      "Epoch: 3; Vector loss: 0.5490135823899185; Effective loss: 0.00016154137335418258\n",
      "Epoch: 4; Vector loss: 0.6476454105642107; Effective loss: 0.00017011774325926185\n",
      "Epoch: 5; Vector loss: 0.7182785549394766; Effective loss: 0.00030623357775508167\n",
      "Epoch: 6; Vector loss: 1.6961996844860903; Effective loss: 0.0009652989151029592\n",
      "Epoch: 7; Vector loss: 2.199654591898633; Effective loss: 0.005580511819507313\n",
      "Epoch: 8; Vector loss: 0.40394465332357293; Effective loss: 0.0006552897006908945\n",
      "Epoch: 9; Vector loss: 1.3888611262849933; Effective loss: 0.0013180687000431065\n",
      "Epoch: 10; Vector loss: 1.2639192359315023; Effective loss: 0.0004898290063297458\n",
      "Epoch: 11; Vector loss: 1.7295137347489; Effective loss: 0.002596026955101865\n",
      "Epoch: 12; Vector loss: 1.0333494009115758; Effective loss: 0.0009180202340160995\n",
      "Epoch: 13; Vector loss: 0.7267471451704998; Effective loss: 0.0004543551536274175\n",
      "Epoch: 14; Vector loss: 0.6672735395934167; Effective loss: 0.0003679839056631819\n",
      "Epoch: 15; Vector loss: 0.4787256204419666; Effective loss: 0.000287790104263956\n",
      "Epoch: 16; Vector loss: 0.2327398657798767; Effective loss: 0.00016200199421047948\n",
      "Epoch: 17; Vector loss: 0.21382396275501306; Effective loss: 0.0001601975481517433\n",
      "Epoch: 18; Vector loss: 0.1876775115685925; Effective loss: 0.00016177247838442297\n",
      "Epoch: 19; Vector loss: 0.1846513683427433; Effective loss: 0.00016017042304117396\n",
      "Epoch: 20; Vector loss: 0.1561799110934945; Effective loss: 0.000127165614054952\n",
      "Training finished. Elapsed time = 0:00:53.239013\n"
     ]
    }
   ],
   "source": [
    "###########################################\n",
    "##### TRAINING ON Y_i[-1] OF LENGTH 1 #####\n",
    "###########################################\n",
    "\n",
    "\n",
    "# Initializations\n",
    "'''\n",
    "    INSTANTIATE THE MODEL FIRST!\n",
    "    This cell requires:\n",
    "    n_in_channels =1\n",
    "    n_x_lags = 50\n",
    "    n_out_channels =1\n",
    "'''\n",
    "n_epochs = 20\n",
    "batch_size = 1\n",
    "# The following could be viewed as our batches\n",
    "n_y_samples = len(X_train)-n_x_lags\n",
    "\n",
    "# Timer init.\n",
    "train_begin_time = datetime.now()\n",
    "# Output vector loss history (many-to-many loss)\n",
    "loss_hist = np.empty(shape = n_epochs)\n",
    "# Effective loss (many-to-one loss)\n",
    "effective_loss_hist = np.empty(shape = n_epochs)\n",
    "\n",
    "# Loop over epochs:\n",
    "for epoch in range(n_epochs):\n",
    "    \n",
    "    #delta_y = np.empty(shape = n_y_samples)\n",
    "    hidden_state = None\n",
    "    epoch_losses = np.empty(shape = n_y_samples)\n",
    "    epoch_eff_losses = np.empty(shape = n_y_samples)\n",
    "    \n",
    "    # Loop over samples/batches\n",
    "    for i in range(n_y_samples):\n",
    "        \n",
    "        # Set up inputs and outputs of the state system\n",
    "        X_i = T.tensor(X_train[i:i+n_x_lags], dtype = T.float32).reshape(n_x_lags, n_in_channels)\n",
    "        Y_i = T.tensor(X_train[i+1:i+n_x_lags+1], dtype = T.float32).reshape(n_x_lags, n_in_channels)\n",
    "        \n",
    "        # Predict Y_hat_i \n",
    "        Y_hat_i, hidden_state = sRNN_model(X_i, hidden_state)\n",
    "        #y_hat_i = Y_hat_i[-1,0]\n",
    "        y_hat_i = Y_hat_i[-1]\n",
    "        \n",
    "        # Many-to-many loss\n",
    "        loss = sRNN_loss_fn(Y_hat_i[-1], Y_i[-1])# Gives warning about computation errors without the .double()\n",
    "        epoch_losses[i] = T.sqrt(T.sum((Y_hat_i-Y_i).view(n_x_lags)**2)).item()\n",
    "        # Many-to-one loss (Delta y)\n",
    "        epoch_eff_losses[i] = loss.item() # Delta of y\n",
    "        \n",
    "        # Perform one optimization step\n",
    "        optimizer.zero_grad()\n",
    "        loss.backward() \n",
    "        optimizer.step()\n",
    "        \n",
    "    # END OF BATCH LOOP\n",
    "    \n",
    "    # Losses\n",
    "    loss_hist[epoch] = np.mean(epoch_losses)#loss.item()\n",
    "    effective_loss_hist[epoch] = np.mean(epoch_eff_losses) # RMSE of the delta_y_i's\n",
    "    \n",
    "    # Verbose\n",
    "    print(f\"Epoch: {epoch+1}; Vector loss: {loss_hist[epoch]}; Effective loss: {effective_loss_hist[epoch]}\")\n",
    "\n",
    "# END EPOCH LOOP\n",
    "\n",
    "print(f\"Training finished. Elapsed time = {datetime.now()-train_begin_time}\")"
   ]
  },
  {
   "cell_type": "code",
   "execution_count": 628,
   "id": "ae25d72a-a0e7-457e-9108-fd55dcee8209",
   "metadata": {},
   "outputs": [
    {
     "data": {
      "text/plain": [
       "[<matplotlib.lines.Line2D at 0x26b5ba33580>]"
      ]
     },
     "execution_count": 628,
     "metadata": {},
     "output_type": "execute_result"
    },
    {
     "data": {
      "image/png": "[encoded data removed]",
      "text/plain": [
       "<Figure size 432x288 with 1 Axes>"
      ]
     },
     "metadata": {
      "needs_background": "light"
     },
     "output_type": "display_data"
    }
   ],
   "source": [
    "plt.plot(np.arange(1,n_epochs+1), loss_hist)"
   ]
  },
  {
   "cell_type": "code",
   "execution_count": 629,
   "id": "e71e083f-00ca-4dfa-97de-a19cbe1838b5",
   "metadata": {},
   "outputs": [
    {
     "data": {
      "text/plain": [
       "[<matplotlib.lines.Line2D at 0x26b5e412dc0>]"
      ]
     },
     "execution_count": 629,
     "metadata": {},
     "output_type": "execute_result"
    },
    {
     "data": {
      "image/png": "[encoded data removed]",
      "text/plain": [
       "<Figure size 432x288 with 1 Axes>"
      ]
     },
     "metadata": {
      "needs_background": "light"
     },
     "output_type": "display_data"
    }
   ],
   "source": [
    "plt.plot(np.arange(1,n_epochs+1), effective_loss_hist)"
   ]
  },
  {
   "cell_type": "markdown",
   "id": "68aad0bb-15fb-4bd3-8d87-36da044a744e",
   "metadata": {},
   "source": [
    "**Important remark:** Using an SGD optimizer gives much better results on 5 epochs than ADAM. Look at the result for the first forecast (first entry of the training set):"
   ]
  },
  {
   "cell_type": "code",
   "execution_count": 630,
   "id": "7e3637a8-d53a-4d2d-a4ab-e4c129f5f30d",
   "metadata": {},
   "outputs": [],
   "source": [
    "z,h=sRNN_model(T.tensor(X_train[-100:], dtype=T.float32).reshape(n_x_lags,1), None)"
   ]
  },
  {
   "cell_type": "code",
   "execution_count": 631,
   "id": "c0ab4008-19f2-47f1-8baf-29cb6f7cb006",
   "metadata": {},
   "outputs": [
    {
     "data": {
      "text/plain": [
       "torch.Size([100, 1])"
      ]
     },
     "execution_count": 631,
     "metadata": {},
     "output_type": "execute_result"
    }
   ],
   "source": [
    "z.shape"
   ]
  },
  {
   "cell_type": "code",
   "execution_count": 632,
   "id": "4472b0b8-ad95-472b-8fd3-08215717e415",
   "metadata": {},
   "outputs": [
    {
     "data": {
      "text/plain": [
       "tensor([0.5613], grad_fn=<SelectBackward0>)"
      ]
     },
     "execution_count": 632,
     "metadata": {},
     "output_type": "execute_result"
    }
   ],
   "source": [
    "z[-1]"
   ]
  },
  {
   "cell_type": "code",
   "execution_count": 633,
   "id": "ac29d29f-d185-4fd5-bd5d-4626eca09863",
   "metadata": {},
   "outputs": [
    {
     "data": {
      "text/plain": [
       "0.5627905195293119"
      ]
     },
     "execution_count": 633,
     "metadata": {},
     "output_type": "execute_result"
    }
   ],
   "source": [
    "X_test[0]"
   ]
  },
  {
   "cell_type": "markdown",
   "id": "ee3132d2-dfab-4ee0-81bc-39900deae584",
   "metadata": {},
   "source": [
    "##### Validation\n"
   ]
  },
  {
   "cell_type": "code",
   "execution_count": 634,
   "id": "559696c8-4be9-4a8d-8968-9fd392391173",
   "metadata": {},
   "outputs": [],
   "source": [
    "# Turn off gradient calculations\n",
    "#with T.no_grad():\n",
    "T.set_grad_enabled(False)\n",
    "\n",
    "# Ini. validation forecast tensor\n",
    "Y_hat = T.empty(size = (len(X_test),n_x_lags, n_in_channels))\n",
    "y_hat = T.empty(size = (len(X_test),))\n",
    "    \n",
    "# Init. hidden state\n",
    "hidden_state = None\n",
    "\n",
    "# Get input tensor for i=0\n",
    "i=0\n",
    "input_data_i = T.tensor(X_train[-n_x_lags:] , dtype = T.float32)\n",
    "    \n",
    "# Compute forecast y_hat[0]\n",
    "Y_hat[i,:,:], hidden_state = sRNN_model(input_data_i.reshape(n_x_lags,n_in_channels), hidden_state)\n",
    "y_hat[i] = Y_hat[i,-1,0]\n",
    "#print(f\"y_hat[{i}] = {y_hat[i].item()}\")\n",
    "    \n",
    "    \n",
    "# Compute next len(X_train)-1 forecasts\n",
    "for i in range(1, len(X_test)):\n",
    "\n",
    "    # Get input tensor\n",
    "    ### Shift previous entries of input by one\n",
    "    temp_tensor = T.clone(input_data_i[1:])\n",
    "    input_data_i[:n_x_lags-1] = temp_tensor\n",
    "    ### Add previous forecast to last entry of input_data_i\n",
    "    input_data_i[-1] = y_hat[i-1]\n",
    "\n",
    "    # Compute forecast y_hat[i]\n",
    "    Y_hat[i,:,:], hidden_state = sRNN_model(input_data_i.reshape(n_x_lags,n_in_channels), hidden_state)\n",
    "    y_hat[i] = Y_hat[i,-1,0]\n",
    "    #print(f\"y_hat[{i}] = {y_hat[i].item()}\")"
   ]
  },
  {
   "cell_type": "markdown",
   "id": "5bab2165-38c1-4b69-90ad-8fab50089c04",
   "metadata": {},
   "source": [
    "Use inverse transform of *ts_scaler* (*MinMaxScaler()*) to plot the results:"
   ]
  },
  {
   "cell_type": "code",
   "execution_count": 635,
   "id": "458b07ad-d26c-4fb4-a5a9-dbd7e3e4ce33",
   "metadata": {},
   "outputs": [],
   "source": [
    "# Re-Scaled Y_hat\n",
    "#scY_hat = ts_scaler.inverse_transform(Y_hat.numpy().reshape(1,-1))[0,:]\n",
    "scY_hat = ts_scaler.inverse_transform(y_hat.numpy().reshape(1,-1))[0,:]"
   ]
  },
  {
   "cell_type": "code",
   "execution_count": 636,
   "id": "8ff05098-df18-4187-af63-63afa350e7d8",
   "metadata": {},
   "outputs": [
    {
     "data": {
      "image/png": "[encoded data removed]",
      "text/plain": [
       "<Figure size 864x576 with 1 Axes>"
      ]
     },
     "metadata": {
      "needs_background": "light"
     },
     "output_type": "display_data"
    }
   ],
   "source": [
    "# Plot test data vs predictions.\n",
    "s = t[-len(X_test):]\n",
    "plt.figure(figsize = (12,8))\n",
    "plt.plot(s,X_test_ini,'b', label='Test data')\n",
    "plt.plot(s,scY_hat,'r--', label='Predictions')\n",
    "plt.xlabel('t')\n",
    "plt.ylabel('f(t)')\n",
    "plt.title('RNN prediction results')\n",
    "plt.legend()\n",
    "plt.show()"
   ]
  },
  {
   "cell_type": "code",
   "execution_count": null,
   "id": "3920a645-4e8b-42cb-90c8-69c4844b71d6",
   "metadata": {},
   "outputs": [],
   "source": []
  },
  {
   "cell_type": "code",
   "execution_count": null,
   "id": "d29f9ea2-cd4d-41f4-8690-6e5317db7acf",
   "metadata": {},
   "outputs": [],
   "source": []
  },
  {
   "cell_type": "markdown",
   "id": "78a1259d-5eb3-4181-ba56-abcf07d52102",
   "metadata": {
    "tags": []
   },
   "source": [
    "___________________________________________________________________\n",
    "\n",
    "## Elman RNN in PyTorch (Cohen's dataset)\n",
    "\n"
   ]
  },
  {
   "cell_type": "markdown",
   "id": "0215ae79-28e7-450a-8502-0e6caeb73c88",
   "metadata": {},
   "source": [
    "_____________________________________________________________________________________\n",
    "\n",
    "### More complicated data\n",
    "\n",
    "Here I'm generating the dataset that Micheal Cohen presents in his DUDL course."
   ]
  },
  {
   "cell_type": "code",
   "execution_count": 97,
   "id": "7716c45b-083c-4d7d-8a3b-d9d7cf58affc",
   "metadata": {},
   "outputs": [],
   "source": [
    "# Generate synthetic data (Cohen's)\n",
    "t_c = np.linspace(start=0, stop=10, num=1001)\n",
    "S_ini = np.sin(2*np.pi*t_c+np.cos(2*np.pi*t_c))"
   ]
  },
  {
   "cell_type": "code",
   "execution_count": 98,
   "id": "8f4a6c4d-fb45-4d3a-a1fa-40789809c6f2",
   "metadata": {},
   "outputs": [
    {
     "data": {
      "text/plain": [
       "[<matplotlib.lines.Line2D at 0x22df7b5bfd0>]"
      ]
     },
     "execution_count": 98,
     "metadata": {},
     "output_type": "execute_result"
    },
    {
     "data": {
      "image/png": "[encoded data removed]",
      "text/plain": [
       "<Figure size 432x288 with 1 Axes>"
      ]
     },
     "metadata": {
      "needs_background": "light"
     },
     "output_type": "display_data"
    }
   ],
   "source": [
    "plt.plot(t_c, S_ini)"
   ]
  },
  {
   "cell_type": "code",
   "execution_count": 99,
   "id": "c3243455-b8b8-4e8a-a6bc-fb3868d1e960",
   "metadata": {},
   "outputs": [],
   "source": [
    "# Test percentage and index\n",
    "test_data_percentage = 0.1\n",
    "# Train-test split\n",
    "S_train = S_ini[:len(S_ini)-int(len(S_ini)*test_data_percentage)]\n",
    "S_test = S_ini[len(S_ini)-int(len(S_ini)*test_data_percentage):]"
   ]
  },
  {
   "cell_type": "code",
   "execution_count": 100,
   "id": "c588f378-ec48-41cb-a4b6-e4c2fbe4abad",
   "metadata": {},
   "outputs": [
    {
     "data": {
      "text/plain": [
       "(901,)"
      ]
     },
     "execution_count": 100,
     "metadata": {},
     "output_type": "execute_result"
    }
   ],
   "source": [
    "S_train.shape"
   ]
  },
  {
   "cell_type": "code",
   "execution_count": 101,
   "id": "4cbde114-ba42-43df-b58b-45396096d683",
   "metadata": {},
   "outputs": [
    {
     "data": {
      "text/plain": [
       "(100,)"
      ]
     },
     "execution_count": 101,
     "metadata": {},
     "output_type": "execute_result"
    }
   ],
   "source": [
    "S_test.shape"
   ]
  },
  {
   "cell_type": "markdown",
   "id": "cbe9474d-6022-4245-b54f-579cfdc6fbb7",
   "metadata": {},
   "source": [
    "### Model class"
   ]
  },
  {
   "cell_type": "code",
   "execution_count": 23,
   "id": "8869e976-92cc-4403-a4cd-f05308ab777c",
   "metadata": {},
   "outputs": [],
   "source": [
    "# Version 5\n",
    "\n",
    "class sRNN(Module):\n",
    "    \n",
    "    # Constructor\n",
    "    def __init__(self, input_size, hidden_size,\\\n",
    "                 num_layers=1, nonlinearity=\"tanh\", output_size=1):\n",
    "        \n",
    "        # What is this for?\n",
    "        super().__init__()\n",
    "        \n",
    "        # Hyperparams\n",
    "        self.input_size = input_size # No. of input channels (NOT length)\n",
    "        self.hidden_size = hidden_size # No. of components of hidden state\n",
    "        self.num_layers = num_layers # No. of RNN units\n",
    "        self.nonlinearity = nonlinearity # Activation of RNN unit\n",
    "        self.output_size = output_size # No. of output channels\n",
    "        \n",
    "        \n",
    "        # Layers\n",
    "        self.rnn_layer = RNN(input_size = self.input_size, hidden_size = self.hidden_size,\\\n",
    "                            num_layers = self.num_layers,nonlinearity = self.nonlinearity)\n",
    "        \n",
    "        self.out_layer = nn.Linear(in_features = self.hidden_size, out_features = self.output_size)\n",
    "    \n",
    "    # Forward pass\n",
    "    def forward(self, X, h):\n",
    "        \n",
    "        X_out, h = self.rnn_layer(X, h)\n",
    "        y = self.out_layer(X_out)\n",
    "        return y, h.detach()"
   ]
  },
  {
   "cell_type": "code",
   "execution_count": null,
   "id": "c47ab74e-942b-4693-a5b6-0a23188059a8",
   "metadata": {},
   "outputs": [],
   "source": []
  },
  {
   "cell_type": "markdown",
   "id": "ba10de74-7b88-4da2-824c-9f827aa133fd",
   "metadata": {},
   "source": [
    "________________________________________________________\n",
    "\n",
    "## Training and validation\n"
   ]
  },
  {
   "cell_type": "code",
   "execution_count": 124,
   "id": "a4c45f5c-2b0a-47e3-818c-f8d773a0f345",
   "metadata": {},
   "outputs": [],
   "source": [
    "del sRNN_model, loss, optimizer"
   ]
  },
  {
   "cell_type": "code",
   "execution_count": 125,
   "id": "806f5bd1-a7d6-4b6e-945b-e14d1a390921",
   "metadata": {},
   "outputs": [],
   "source": [
    "# Turn on gradient calculations\n",
    "T.set_grad_enabled(True)\n",
    "\n",
    "# Params\n",
    "n_in_channels =1\n",
    "hidden_size = 10\n",
    "n_x_lags = 100\n",
    "n_out_channels =1\n",
    "\n",
    "# Inst. model and set its weights to double precision\n",
    "### We take the number of hidden units equal to length of input sequences\n",
    "sRNN_model = sRNN(input_size = n_in_channels, hidden_size=hidden_size, \\\n",
    "                  num_layers = 1, nonlinearity='tanh', output_size=n_out_channels)\n",
    "#sRNN_model.double()\n",
    "\n",
    "# Loss function:\n",
    "sRNN_loss_fn = nn.MSELoss() # Note: MSELoss() requires T.float64 \n",
    "#sRNN_loss_fn.double()\n",
    "\n",
    "# Optimizer:\n",
    "optimizer = T.optim.Adam(params = sRNN_model.parameters(), lr = 0.001) # THIS ONE GIVES BEST RESULTS\n",
    "#optimizer = T.optim.SGD(params = sRNN_model.parameters(), lr = 0.01) # Gives better training than ADAM\n",
    "#optimizer = T.optim.RMSprop(params = sRNN_model.parameters(), lr = 0.001)\n"
   ]
  },
  {
   "cell_type": "code",
   "execution_count": 52,
   "id": "61d25d46-01de-44c8-8430-e725461854f8",
   "metadata": {},
   "outputs": [
    {
     "data": {
      "text/plain": [
       "<torch.autograd.grad_mode.set_grad_enabled at 0x162a474db80>"
      ]
     },
     "execution_count": 52,
     "metadata": {},
     "output_type": "execute_result"
    }
   ],
   "source": [
    "# Turn on gradient calculations\n",
    "T.set_grad_enabled(True)"
   ]
  },
  {
   "cell_type": "code",
   "execution_count": 126,
   "id": "5b2a4ded-81b5-4623-badc-3b10e5e18871",
   "metadata": {},
   "outputs": [
    {
     "name": "stdout",
     "output_type": "stream",
     "text": [
      "Epoch: 1; Vector loss: 0.0688880028970657; Effective loss: 0.27577373738300215\n",
      "Epoch: 2; Vector loss: 0.00046692188735004893; Effective loss: 0.01986070336756006\n",
      "Epoch: 3; Vector loss: 0.00028336918419770565; Effective loss: 0.015233437632151332\n",
      "Epoch: 4; Vector loss: 0.00021019821652861197; Effective loss: 0.013060765933103355\n",
      "Epoch: 5; Vector loss: 0.00016633999654872065; Effective loss: 0.011478629789662404\n",
      "Epoch: 6; Vector loss: 0.00013043716367729154; Effective loss: 0.009820462776879925\n",
      "Epoch: 7; Vector loss: 7.183011266068334e-05; Effective loss: 0.006589445775605315\n",
      "Epoch: 8; Vector loss: 4.07807982618591e-05; Effective loss: 0.005398865894516822\n",
      "Epoch: 9; Vector loss: 3.8558339142315724e-05; Effective loss: 0.006148085550043378\n",
      "Epoch: 10; Vector loss: 4.117790692422356e-05; Effective loss: 0.006363193775873845\n",
      "Epoch: 11; Vector loss: 0.00013952875038460556; Effective loss: 0.012137435427812005\n",
      "Epoch: 12; Vector loss: 8.057016574402111e-05; Effective loss: 0.008677889705561492\n",
      "Epoch: 13; Vector loss: 4.8417118479447296e-05; Effective loss: 0.006365779722538822\n",
      "Epoch: 14; Vector loss: 3.1786891305385865e-05; Effective loss: 0.004596361789567433\n",
      "Epoch: 15; Vector loss: 0.0001538034553186492; Effective loss: 0.011642770248591009\n",
      "Epoch: 16; Vector loss: 0.00014162017256868817; Effective loss: 0.011047302337063575\n",
      "Epoch: 17; Vector loss: 6.697288135252079e-05; Effective loss: 0.007202256022742416\n",
      "Epoch: 18; Vector loss: 4.067491466726613e-05; Effective loss: 0.0051037619836289865\n",
      "Epoch: 19; Vector loss: 3.154672129780335e-05; Effective loss: 0.004400877502389286\n",
      "Epoch: 20; Vector loss: 2.751579431583451e-05; Effective loss: 0.00401873810517342\n",
      "Training finished. Elapsed time = 0:03:57.831446\n"
     ]
    }
   ],
   "source": [
    "###########################################\n",
    "##### TRAINING ON Y_i[-1] OF LENGTH 1 #####\n",
    "###########################################\n",
    "\n",
    "\n",
    "# Initializations\n",
    "'''\n",
    "    INSTANTIATE THE MODEL FIRST!\n",
    "    This cell requires:\n",
    "    n_in_channels =1\n",
    "    n_x_lags = 50\n",
    "    n_out_channels =1\n",
    "'''\n",
    "n_epochs = 20\n",
    "batch_size = 1\n",
    "# The following could be viewed as our batches\n",
    "n_y_samples = len(S_train)-n_x_lags\n",
    "\n",
    "# Timer init.\n",
    "train_begin_time = datetime.now()\n",
    "# Output vector loss history (many-to-many loss)\n",
    "loss_hist = np.empty(shape = n_epochs)\n",
    "# Effective loss (many-to-one loss)\n",
    "effective_loss_hist = np.empty(shape = n_epochs)\n",
    "\n",
    "# Loop over epochs:\n",
    "for epoch in range(n_epochs):\n",
    "    \n",
    "    #delta_y = np.empty(shape = n_y_samples)\n",
    "    hidden_state = None\n",
    "    epoch_losses = np.empty(shape = n_y_samples)\n",
    "    epoch_eff_losses = np.empty(shape = n_y_samples)\n",
    "    \n",
    "    # Loop over samples/batches\n",
    "    for i in range(n_y_samples):\n",
    "        \n",
    "        # Set up inputs and outputs of the state system\n",
    "        X_i = T.tensor(S_train[i:i+n_x_lags], dtype = T.float32).reshape(n_x_lags, n_in_channels)\n",
    "        Y_i = T.tensor(S_train[i+1:i+n_x_lags+1], dtype = T.float32).reshape(n_x_lags, n_in_channels)\n",
    "        \n",
    "        '''\n",
    "        ## MANY-TO-ONE\n",
    "        # Predict Y_hat_i \n",
    "        Y_hat_i, hidden_state = sRNN_model(X_i, hidden_state)\n",
    "        #y_hat_i = Y_hat_i[-1,0]\n",
    "        y_hat_i = Y_hat_i[-1]\n",
    "        \n",
    "        # Many-to-many loss\n",
    "        loss = sRNN_loss_fn(Y_hat_i[-1], Y_i[-1])# Gives warning about computation errors without the .double()\n",
    "        epoch_losses[i] = T.sqrt(T.sum((Y_hat_i-Y_i).view(n_x_lags)**2)).item()\n",
    "        # Many-to-one loss (Delta y)\n",
    "        epoch_eff_losses[i] = loss.item() # Delta of y\n",
    "        '''\n",
    "        \n",
    "        \n",
    "        ## MANY-TO-MANY\n",
    "        # Predict Y_hat_i \n",
    "        Y_hat_i, hidden_state = sRNN_model(X_i, hidden_state)\n",
    "        #y_hat_i = Y_hat_i[-1,0]\n",
    "        y_hat_i = Y_hat_i[-1]\n",
    "        \n",
    "        # Many-to-many loss\n",
    "        loss = sRNN_loss_fn(Y_hat_i, Y_i)# Gives warning about computation errors without the .double()\n",
    "        epoch_losses[i] = loss.item()\n",
    "        # Many-to-one loss (Delta y)\n",
    "        epoch_eff_losses[i] = Y_hat_i[-1]-Y_i[-1]\n",
    "        \n",
    "        # Perform one optimization step\n",
    "        optimizer.zero_grad()\n",
    "        loss.backward() \n",
    "        optimizer.step()\n",
    "        \n",
    "    # END OF BATCH LOOP\n",
    "    \n",
    "    # Losses\n",
    "    '''\n",
    "    ## MANY-TO-ONE\n",
    "    loss_hist[epoch] = np.mean(epoch_losses)#loss.item()\n",
    "    effective_loss_hist[epoch] = np.mean(epoch_eff_losses) # RMSE of the delta_y_i's\n",
    "    '''\n",
    "    \n",
    "    ## MANY-TO-ONE\n",
    "    loss_hist[epoch] = np.mean(epoch_losses)#loss.item()\n",
    "    effective_loss_hist[epoch] = np.sqrt(np.mean(epoch_eff_losses**2)) # RMSE of the delta_y_i's\n",
    "    \n",
    "    # Verbose\n",
    "    print(f\"Epoch: {epoch+1}; Vector loss: {loss_hist[epoch]}; Effective loss: {effective_loss_hist[epoch]}\")\n",
    "\n",
    "# END EPOCH LOOP\n",
    "\n",
    "print(f\"Training finished. Elapsed time = {datetime.now()-train_begin_time}\")"
   ]
  },
  {
   "cell_type": "code",
   "execution_count": 127,
   "id": "836043bf-bfe0-410f-bd87-c34598483222",
   "metadata": {},
   "outputs": [
    {
     "data": {
      "text/plain": [
       "[<matplotlib.lines.Line2D at 0x22df82a9a90>]"
      ]
     },
     "execution_count": 127,
     "metadata": {},
     "output_type": "execute_result"
    },
    {
     "data": {
      "image/png": "[encoded data removed]",
      "text/plain": [
       "<Figure size 432x288 with 1 Axes>"
      ]
     },
     "metadata": {
      "needs_background": "light"
     },
     "output_type": "display_data"
    }
   ],
   "source": [
    "plt.plot(np.arange(1,n_epochs+1), loss_hist)"
   ]
  },
  {
   "cell_type": "code",
   "execution_count": 128,
   "id": "b1bbd37b-7bd7-4d91-b07e-fd50b90a9299",
   "metadata": {},
   "outputs": [
    {
     "data": {
      "text/plain": [
       "[<matplotlib.lines.Line2D at 0x22df82fcd00>]"
      ]
     },
     "execution_count": 128,
     "metadata": {},
     "output_type": "execute_result"
    },
    {
     "data": {
      "image/png": "[encoded data removed]",
      "text/plain": [
       "<Figure size 432x288 with 1 Axes>"
      ]
     },
     "metadata": {
      "needs_background": "light"
     },
     "output_type": "display_data"
    }
   ],
   "source": [
    "plt.plot(np.arange(1,n_epochs+1), effective_loss_hist)"
   ]
  },
  {
   "cell_type": "markdown",
   "id": "e1458694-c1b5-4e16-bafa-09fdbdc3b856",
   "metadata": {},
   "source": [
    "**Important remark:** Using an SGD optimizer gives much better results on 5 epochs than ADAM. Look at the result for the first forecast (first entry of the training set):"
   ]
  },
  {
   "cell_type": "code",
   "execution_count": 129,
   "id": "20d21115-ca6e-4ed4-9b76-690be92af618",
   "metadata": {},
   "outputs": [],
   "source": [
    "z,h=sRNN_model(T.tensor(S_train[-100:], dtype=T.float32).reshape(n_x_lags,1), None)"
   ]
  },
  {
   "cell_type": "code",
   "execution_count": 130,
   "id": "bfeb7bb4-a25d-40cc-8a74-62e785c94848",
   "metadata": {},
   "outputs": [
    {
     "data": {
      "text/plain": [
       "torch.Size([100, 1])"
      ]
     },
     "execution_count": 130,
     "metadata": {},
     "output_type": "execute_result"
    }
   ],
   "source": [
    "z.shape"
   ]
  },
  {
   "cell_type": "code",
   "execution_count": 131,
   "id": "78f48449-3345-4006-823c-433514e1c329",
   "metadata": {},
   "outputs": [
    {
     "data": {
      "text/plain": [
       "tensor([0.8679], grad_fn=<SelectBackward0>)"
      ]
     },
     "execution_count": 131,
     "metadata": {},
     "output_type": "execute_result"
    }
   ],
   "source": [
    "z[-1]"
   ]
  },
  {
   "cell_type": "code",
   "execution_count": 132,
   "id": "7722927a-7d60-42d3-a6f8-d5bb16e1e990",
   "metadata": {},
   "outputs": [
    {
     "data": {
      "text/plain": [
       "0.8727748972850792"
      ]
     },
     "execution_count": 132,
     "metadata": {},
     "output_type": "execute_result"
    }
   ],
   "source": [
    "S_test[0]"
   ]
  },
  {
   "cell_type": "markdown",
   "id": "ed4e8165-f39e-4bd5-9943-267eac0d784b",
   "metadata": {},
   "source": [
    "##### Validation\n"
   ]
  },
  {
   "cell_type": "code",
   "execution_count": 111,
   "id": "6ff2e3dc-9b5d-44d9-aac2-56dcaec0413d",
   "metadata": {},
   "outputs": [
    {
     "data": {
      "text/plain": [
       "(100,)"
      ]
     },
     "execution_count": 111,
     "metadata": {},
     "output_type": "execute_result"
    }
   ],
   "source": [
    "S_test.shape"
   ]
  },
  {
   "cell_type": "code",
   "execution_count": 146,
   "id": "1783421b-7457-4534-8b94-90a95d64c753",
   "metadata": {},
   "outputs": [],
   "source": [
    "# Turn off gradient calculations\n",
    "#with T.no_grad():\n",
    "T.set_grad_enabled(False)\n",
    "\n",
    "# Ini. validation forecast tensor\n",
    "Y_hat = T.empty(size = (len(S_test),n_x_lags, n_in_channels))\n",
    "y_hat = T.empty(size = (len(S_test),))\n",
    "H = T.empty(size=(len(S_test),hidden_size))\n",
    "    \n",
    "# Init. hidden state\n",
    "hidden_state = None\n",
    "\n",
    "# Get input tensor for i=0\n",
    "i=0\n",
    "input_data_i = T.tensor(S_train[-n_x_lags:] , dtype = T.float32)\n",
    "    \n",
    "\n",
    "# MANY-TO-ONE\n",
    "# Compute forecast y_hat[0]\n",
    "Y_hat[i,:,:], hidden_state = sRNN_model(input_data_i.reshape(n_x_lags,n_in_channels), hidden_state)\n",
    "y_hat[i] = Y_hat[i,-1,0]\n",
    "H[i,:] = hidden_state[0,:]\n",
    "    \n",
    "# Compute next len(X_train)-1 forecasts\n",
    "for i in range(1, len(S_test)):\n",
    "\n",
    "    # Get input tensor\n",
    "    ### Shift previous entries of input by one\n",
    "    temp_tensor = T.clone(input_data_i[1:])\n",
    "    input_data_i[:n_x_lags-1] = temp_tensor\n",
    "    ### Add previous forecast to last entry of input_data_i\n",
    "    input_data_i[-1] = y_hat[i-1]\n",
    "\n",
    "    # Compute forecast y_hat[i]\n",
    "    Y_hat[i,:,:], hidden_state = sRNN_model(input_data_i.reshape(n_x_lags,n_in_channels), hidden_state)\n",
    "    y_hat[i] = Y_hat[i,-1,0]\n",
    "    H[i,:] = hidden_state[0,:]\n",
    "    "
   ]
  },
  {
   "cell_type": "markdown",
   "id": "6d5a76e0-256e-482d-97c1-32305bcad967",
   "metadata": {},
   "source": [
    "Use inverse transform of *ts_scaler* (*MinMaxScaler()*) to plot the results:"
   ]
  },
  {
   "cell_type": "code",
   "execution_count": 142,
   "id": "c6b381c2-ed92-4219-8b8e-94a387db0711",
   "metadata": {},
   "outputs": [],
   "source": [
    "# Re-Scaled Y_hat\n",
    "#scY_hat = ts_scaler.inverse_transform(Y_hat.numpy().reshape(1,-1))[0,:]\n",
    "np_y_hat = y_hat.numpy()"
   ]
  },
  {
   "cell_type": "code",
   "execution_count": null,
   "id": "b5ba78f2-3f28-4907-a1c0-5fb5e6202b64",
   "metadata": {},
   "outputs": [],
   "source": []
  },
  {
   "cell_type": "code",
   "execution_count": 153,
   "id": "8fa9dc37-6588-47f6-8120-d8978fab8988",
   "metadata": {},
   "outputs": [
    {
     "data": {
      "image/png": "[encoded data removed]",
      "text/plain": [
       "<Figure size 864x576 with 1 Axes>"
      ]
     },
     "metadata": {
      "needs_background": "light"
     },
     "output_type": "display_data"
    }
   ],
   "source": [
    "# Plot test data vs predictions.\n",
    "s = t_c[-len(S_test):]\n",
    "plt.figure(figsize = (12,8))\n",
    "plt.plot(s,S_test,'b', label='Test data')\n",
    "plt.plot(s,np_y_hat,'r', label='Predictions')\n",
    "plt.plot(s,H[:,9].numpy(),'g--', label='Hidden state 9')\n",
    "plt.plot(s,H[:,8].numpy(),'k--', label='Hidden state 8')\n",
    "plt.plot(s,H[:,2].numpy(),'m--', label='Hidden state 2')\n",
    "plt.plot(s,H[:,3].numpy(),'brown', label='Hidden state 3')\n",
    "plt.xlabel('t')\n",
    "plt.ylabel('f(t)')\n",
    "plt.title('RNN prediction results')\n",
    "plt.legend()\n",
    "plt.show()"
   ]
  },
  {
   "cell_type": "code",
   "execution_count": 145,
   "id": "0b31a2e3-f3e3-449e-8ba6-a496dfb63330",
   "metadata": {},
   "outputs": [
    {
     "data": {
      "text/plain": [
       "torch.Size([10])"
      ]
     },
     "execution_count": 145,
     "metadata": {},
     "output_type": "execute_result"
    }
   ],
   "source": [
    "hidden_state[0,:].shape"
   ]
  },
  {
   "cell_type": "markdown",
   "id": "4905042f-2fa5-4b35-b45f-81565be1cca7",
   "metadata": {},
   "source": [
    "### Out of sample forecasting"
   ]
  },
  {
   "cell_type": "code",
   "execution_count": 138,
   "id": "a6cca34d-a84a-4420-b2fb-a053b1908002",
   "metadata": {},
   "outputs": [],
   "source": [
    "# Forecast horizon\n",
    "n_fhor = 50\n",
    "    \n",
    "# Ini. validation forecast tensor\n",
    "Z_hat = T.empty(size = (n_fhor,n_x_lags, n_in_channels))\n",
    "z_hat = T.empty(size = (n_fhor,))\n",
    "\n",
    "# Get input tensor for i=0\n",
    "i=0\n",
    "input_data_i = T.tensor(S_test, dtype = T.float32)\n",
    "    \n",
    "\n",
    "# Compute Y_hat[0]\n",
    "hidden_state = None\n",
    "# Compute forecast z_hat[0]\n",
    "Z_hat[i,:,:], hidden_state = sRNN_model(input_data_i.reshape(n_x_lags,n_in_channels), hidden_state)\n",
    "z_hat[i] = Z_hat[i,-1,0]\n",
    "    \n",
    "# Compute next len(X_train)-1 forecasts\n",
    "for i in range(1, n_fhor):\n",
    "\n",
    "    # Get input tensor\n",
    "    ### Shift previous entries of input by one\n",
    "    temp_tensor = T.clone(input_data_i[1:])\n",
    "    input_data_i[:n_x_lags-1] = temp_tensor\n",
    "    ### Add previous forecast to last entry of input_data_i\n",
    "    input_data_i[-1] = z_hat[i-1]\n",
    "\n",
    "    # Compute forecast\n",
    "    # Compute forecast z_hat[0]\n",
    "    Z_hat[i,:,:], hidden_state = sRNN_model(input_data_i.reshape(n_x_lags,n_in_channels), hidden_state)\n",
    "    z_hat[i] = Z_hat[i,-1,0]"
   ]
  },
  {
   "cell_type": "code",
   "execution_count": 139,
   "id": "3be90c9d-8be1-4aed-a240-170fea2697f9",
   "metadata": {},
   "outputs": [],
   "source": [
    "# Re-Scaled Y_hat\n",
    "np_z_hat = z_hat.numpy()"
   ]
  },
  {
   "cell_type": "code",
   "execution_count": 140,
   "id": "cac989e1-b0f1-499d-934c-7a245b49ca3d",
   "metadata": {},
   "outputs": [
    {
     "data": {
      "image/png": "[encoded data removed]",
      "text/plain": [
       "<Figure size 864x576 with 1 Axes>"
      ]
     },
     "metadata": {
      "needs_background": "light"
     },
     "output_type": "display_data"
    }
   ],
   "source": [
    "# Plot original dataset and forecasts\n",
    "plt.figure(figsize = (12,8))\n",
    "plt.xlabel('t')\n",
    "plt.ylabel('f(t)')\n",
    "\n",
    "plt.plot(t_c,S_ini,'b', label='Data')\n",
    "\n",
    "# \n",
    "t_f = np.arange(start = t_c[-1]+0.01, stop = t_c[-1]+0.01*(n_fhor+1), step = 0.01)\n",
    "plt.plot(t_f,np_z_hat,'r', label='Predictions')\n",
    "\n",
    "plt.title('Data and out-of-sample forecasts')\n",
    "plt.legend()\n",
    "plt.show()"
   ]
  },
  {
   "cell_type": "code",
   "execution_count": null,
   "id": "d9ae9538-cd61-4aca-9728-5c15b693bbea",
   "metadata": {},
   "outputs": [],
   "source": []
  },
  {
   "cell_type": "code",
   "execution_count": null,
   "id": "6a3f6ced-1012-4b8d-a35b-62f1edc1c2e1",
   "metadata": {},
   "outputs": [],
   "source": []
  },
  {
   "cell_type": "markdown",
   "id": "dc745699-3c2e-4e07-b3c5-3d3bebe156f6",
   "metadata": {},
   "source": [
    "___________________________________________________________________\n",
    "\n",
    "### 2.d - Out of sample forecasting"
   ]
  },
  {
   "cell_type": "markdown",
   "id": "fb6c1059-c034-494c-90ac-e523ea0cf488",
   "metadata": {},
   "source": [
    "For the RNN first. Let's forecast the next 25 points after the test data. We'll keep the same model, without retraining over the entire dataset (as an initial try)."
   ]
  },
  {
   "cell_type": "code",
   "execution_count": 65,
   "id": "2806c960-9a50-4005-8a3e-692a0930da3b",
   "metadata": {},
   "outputs": [],
   "source": [
    "# Turn off gradient calculations\n",
    "#with T.no_grad():\n",
    "T.set_grad_enabled(False)\n",
    "\n",
    "if True: # Just in case I need to put this in a context manager\n",
    "    \n",
    "    # Forecast horizon\n",
    "    n_fhor = 25\n",
    "    \n",
    "    # Ini. validation forecast tensor\n",
    "    Z_hat = T.empty(size = (n_fhor,))\n",
    "\n",
    "    # Get input tensor for i=0\n",
    "    i=0\n",
    "    input_data_i = T.tensor(X_test, dtype = T.float64)\n",
    "    \n",
    "\n",
    "    # Compute Y_hat[0]\n",
    "    Z_hat[i] = sRNN_model(input_data_i.reshape(1, n_x_lags))\n",
    "    \n",
    "    # Compute next len(X_train)-1 forecasts\n",
    "    for i in range(1, n_fhor):\n",
    "\n",
    "        # Get input tensor\n",
    "        ### Shift previous entries of input by one\n",
    "        temp_tensor = T.clone(input_data_i[1:])\n",
    "        input_data_i[:n_x_lags-1] = temp_tensor\n",
    "        ### Add previous forecast to last entry of input_data_i\n",
    "        input_data_i[-1] = Z_hat[i-1]\n",
    "\n",
    "        # Compute forecast\n",
    "        Z_hat[i] = sRNN_model(input_data_i.reshape(1, n_x_lags))"
   ]
  },
  {
   "cell_type": "code",
   "execution_count": null,
   "id": "a56e1b39-784b-4bae-a85b-748f9ee3f34a",
   "metadata": {},
   "outputs": [],
   "source": []
  },
  {
   "cell_type": "code",
   "execution_count": 66,
   "id": "246239d5-e795-4b3d-8b9a-e299beb817c5",
   "metadata": {},
   "outputs": [],
   "source": [
    "# Re-Scaled Y_hat\n",
    "scZ_hat = ts_scaler.inverse_transform(Z_hat.numpy().reshape(1,-1))[0,:]"
   ]
  },
  {
   "cell_type": "code",
   "execution_count": null,
   "id": "0ce965ea-fb92-49b0-8567-b0b7c6a929c4",
   "metadata": {},
   "outputs": [],
   "source": [
    "# Plot original dataset and forecasts\n",
    "plt.figure(figsize = (12,8))\n",
    "plt.xlabel('t')\n",
    "plt.ylabel('f(t)')\n",
    "\n",
    "plt.plot(t,X_ini,'b', label='Data')\n",
    "\n",
    "# \n",
    "t_f = np.arange(start = t[-1]+0.1, stop = t[-1]+0.1*(n_fhor+1), step = 0.1)\n",
    "plt.plot(t_f,scZ_hat,'r', label='Predictions')\n",
    "\n",
    "plt.title('Data and out-of-sample forecasts')\n",
    "plt.legend()\n",
    "plt.show()"
   ]
  },
  {
   "cell_type": "code",
   "execution_count": null,
   "id": "cc051abb-071d-4c13-8b70-80412d08b174",
   "metadata": {},
   "outputs": [],
   "source": []
  },
  {
   "cell_type": "markdown",
   "id": "38e27848-2798-47c6-8160-fe4e28eb8161",
   "metadata": {},
   "source": [
    "____________________________________________________________________________________________________________________\n",
    "\n",
    "___________________________________________________________"
   ]
  },
  {
   "cell_type": "markdown",
   "id": "971c6ec5-b777-4346-9242-444643d6384d",
   "metadata": {},
   "source": [
    "# Appendix: Previous Attempts\n",
    "\n",
    "A collection of failures."
   ]
  },
  {
   "cell_type": "markdown",
   "id": "e3c5d9a0-ae1a-44a1-b8f7-f4a08d52ce2e",
   "metadata": {},
   "source": [
    "________________________________________________________________________"
   ]
  },
  {
   "cell_type": "markdown",
   "id": "600c39c6-8899-4fd1-bf78-46a3e1093a6c",
   "metadata": {},
   "source": [
    "## Attempt 5: \n",
    "\n",
    "I made too many modifications to no avail in the 4th attempt. I used some of M. Cohen's code on my dataset, but it fails miserably for reasons that are beyond me. This 5th attempt starts to give results that make sense. What I changed is:\n",
    "* Now I pass the hidden state as an argument.\n",
    "* In the class definition of the RNN, I detach the hidden state from the computational graph with *h.detach()*, otherwise I get an error message in the training.\n",
    "* The output *Y_hat* of the forward pass is of dimension *(n_x_lags, n_in_channels)*. However, the error is computed on the very last component *Y_hat[-1]*.\n",
    "* I tried SGD, RMSprop and ADAM for the optimizers, along with various learning rates, and 10 hidden state units as an initial try. SGD converges too slowly: It looks like I will need about 100 epochs before the loss is below 0.001. However, with 20 or 50 epochs, the validation results are nearly linear. \n",
    "* ADAM gave some better results with a learning rate of 0.001 and 20 epochs instead of 50. Higher learn rates gave bad convergence. The validation gave periodic data in this case, but there were too many periods.\n",
    "* RMSprop gave a result that is slightly better than ADAM with 20 epochs. The validation forecasts were indeed periodic, but the amplitude was decaying. The result was slightly better when I took 40 epochs, then worse with 80 epochs. I changed the number of hidden units from 10 to 5 then 25, which solved the number of periods, but not the decay issue.\n",
    "* Continuing with RMSprop, taking 50 hidden units and 50 epochs gave the same behavior as SGD, meaning those near constant forecasts. The results were slightly better with 20 hidden state units and 50 epochs, but still very bad.\n"
   ]
  },
  {
   "cell_type": "markdown",
   "id": "70936c8c-3d01-4aa5-993a-0e8dd377fbb6",
   "metadata": {
    "tags": []
   },
   "source": [
    "### Elman RNN "
   ]
  },
  {
   "cell_type": "code",
   "execution_count": 73,
   "id": "b0fb70c5-7730-4725-b582-febf3ee0a510",
   "metadata": {},
   "outputs": [],
   "source": [
    "# Version 5\n",
    "\n",
    "class sRNN(Module):\n",
    "    \n",
    "    # Constructor\n",
    "    def __init__(self, input_size, hidden_size,\\\n",
    "                 num_layer=1, nonlinearity=\"tanh\", output_size=1):\n",
    "        \n",
    "        # What is this for?\n",
    "        super().__init__()\n",
    "        \n",
    "        # Hyperparams\n",
    "        self.input_size = input_size # No. of input channels (NOT length)\n",
    "        self.hidden_size = hidden_size # No. of components of hidden state\n",
    "        self.nonlinearity = nonlinearity # Activation of RNN unit\n",
    "        self.output_size = output_size # No. of output channels\n",
    "        \n",
    "        \n",
    "        # Layers\n",
    "        self.rnn_layer = RNN(input_size = self.input_size, hidden_size = self.hidden_size,\\\n",
    "                            nonlinearity = self.nonlinearity)\n",
    "        \n",
    "        self.out_layer = nn.Linear(in_features = self.hidden_size, out_features = self.output_size)\n",
    "    \n",
    "    # Forward pass\n",
    "    def forward(self, X, h):\n",
    "        \n",
    "        X_out, h = self.rnn_layer(X, h)\n",
    "        y = self.out_layer(X_out)\n",
    "        return y, h.detach()"
   ]
  },
  {
   "cell_type": "code",
   "execution_count": null,
   "id": "90e88d40-faf5-4eb0-8104-4917033c598c",
   "metadata": {},
   "outputs": [],
   "source": []
  },
  {
   "cell_type": "markdown",
   "id": "0cb951ea-856d-4a45-bcb7-7b9198c62a74",
   "metadata": {},
   "source": [
    "### Training and validation"
   ]
  },
  {
   "cell_type": "code",
   "execution_count": 243,
   "id": "77f8ca8f-d0b2-48d9-a1de-1dccf3ebd435",
   "metadata": {},
   "outputs": [],
   "source": [
    "# Turn on gradient calculations\n",
    "T.set_grad_enabled(True)\n",
    "\n",
    "# Params\n",
    "n_in_channels =1\n",
    "n_x_lags = 50\n",
    "n_out_channels =1\n",
    "\n",
    "# Inst. model and set its weights to double precision\n",
    "### We take the number of hidden units equal to length of input sequences\n",
    "sRNN_model = sRNN(input_size = n_in_channels, hidden_size=20, \\\n",
    "                  nonlinearity='tanh', output_size=n_out_channels)\n",
    "#sRNN_model.double()\n",
    "\n",
    "# Loss function:\n",
    "sRNN_loss_fn = nn.MSELoss() # Note: MSELoss() requires T.float64 \n",
    "#sRNN_loss_fn.double()\n",
    "\n",
    "# Optimizer:\n",
    "#optimizer = T.optim.Adam(params = sRNN_model.parameters(), lr = 0.001) # THIS ONE GIVES BEST RESULTS\n",
    "#optimizer = T.optim.SGD(params = sRNN_model.parameters(), lr = 0.1) # Gives better training than ADAM\n",
    "optimizer = T.optim.RMSprop(params = sRNN_model.parameters(), lr = 0.001)\n"
   ]
  },
  {
   "cell_type": "code",
   "execution_count": 244,
   "id": "d4b592e3-e7ef-4727-b40a-94f7463bd989",
   "metadata": {},
   "outputs": [
    {
     "name": "stdout",
     "output_type": "stream",
     "text": [
      "Epoch: 1; Vector loss: 3.2100312394691524; Effective loss: 0.0010710924106849908\n",
      "Epoch: 2; Vector loss: 2.8365710602139593; Effective loss: 0.0044790026454832686\n",
      "Epoch: 3; Vector loss: 2.165355521990474; Effective loss: 0.004378562464295774\n",
      "Epoch: 4; Vector loss: 2.5189333619024987; Effective loss: 0.0023711638620571157\n",
      "Epoch: 5; Vector loss: 2.5312249321592715; Effective loss: 0.002804064581046351\n",
      "Epoch: 6; Vector loss: 1.6725761753662567; Effective loss: 0.0022774602280350056\n",
      "Epoch: 7; Vector loss: 1.3738417844671265; Effective loss: 0.0013174328497855847\n",
      "Epoch: 8; Vector loss: 1.4540266405019975; Effective loss: 0.0008627447195038438\n",
      "Epoch: 9; Vector loss: 1.4497754761108437; Effective loss: 0.0009328353548244387\n",
      "Epoch: 10; Vector loss: 1.3886551478705798; Effective loss: 0.0007925465339954354\n",
      "Epoch: 11; Vector loss: 1.3624167553058586; Effective loss: 0.0012642058267995548\n",
      "Epoch: 12; Vector loss: 0.9624949428357388; Effective loss: 0.00031895079918537974\n",
      "Epoch: 13; Vector loss: 1.1139595183053814; Effective loss: 0.00048194062332550675\n",
      "Epoch: 14; Vector loss: 0.5526278858767484; Effective loss: 0.0003328290722769925\n",
      "Epoch: 15; Vector loss: 0.3663492290084796; Effective loss: 0.00022208468174069512\n",
      "Epoch: 16; Vector loss: 0.3842353566440561; Effective loss: 0.0002671277421870605\n",
      "Epoch: 17; Vector loss: 0.214062499955408; Effective loss: 0.00016813694904532176\n",
      "Epoch: 18; Vector loss: 0.22775042216825367; Effective loss: 0.00015894118201582858\n",
      "Epoch: 19; Vector loss: 0.23776568225271386; Effective loss: 0.0001684797980332412\n",
      "Epoch: 20; Vector loss: 0.27120240846476945; Effective loss: 0.00016860102402352882\n",
      "Epoch: 21; Vector loss: 0.1859112449566325; Effective loss: 0.00013201121277716995\n",
      "Epoch: 22; Vector loss: 0.2647908257130078; Effective loss: 0.0001460752253452782\n",
      "Epoch: 23; Vector loss: 0.19407425733501477; Effective loss: 0.00013589333878047773\n",
      "Epoch: 24; Vector loss: 0.19527429581951916; Effective loss: 0.00011090973168508228\n",
      "Epoch: 25; Vector loss: 0.1936417767531854; Effective loss: 9.457658314276545e-05\n",
      "Epoch: 26; Vector loss: 0.18665772921723914; Effective loss: 0.00010555207123066645\n",
      "Epoch: 27; Vector loss: 0.21472365457443823; Effective loss: 0.00011640806927550252\n",
      "Epoch: 28; Vector loss: 0.2162163681966111; Effective loss: 0.0001050176707738741\n",
      "Epoch: 29; Vector loss: 0.2133542665110859; Effective loss: 8.925408281162943e-05\n",
      "Epoch: 30; Vector loss: 0.2847746281032253; Effective loss: 0.00010514734633592234\n",
      "Epoch: 31; Vector loss: 0.25808902326367444; Effective loss: 9.880369405165437e-05\n",
      "Epoch: 32; Vector loss: 0.21465539891374974; Effective loss: 8.315431312542592e-05\n",
      "Epoch: 33; Vector loss: 0.22854965780292663; Effective loss: 8.41790040395056e-05\n",
      "Epoch: 34; Vector loss: 0.26990175516602405; Effective loss: 9.523326638013216e-05\n",
      "Epoch: 35; Vector loss: 0.22766365540072211; Effective loss: 8.304426432325901e-05\n",
      "Epoch: 36; Vector loss: 0.2015692051360732; Effective loss: 7.828475208926654e-05\n",
      "Epoch: 37; Vector loss: 0.23011220077475408; Effective loss: 8.051661214759321e-05\n",
      "Epoch: 38; Vector loss: 0.28388590973214317; Effective loss: 9.095633133324987e-05\n",
      "Epoch: 39; Vector loss: 0.24576059899796868; Effective loss: 6.069447699360884e-05\n",
      "Epoch: 40; Vector loss: 0.23934889932225767; Effective loss: 6.953431561141862e-05\n",
      "Epoch: 41; Vector loss: 0.23889283770857903; Effective loss: 7.096757517473984e-05\n",
      "Epoch: 42; Vector loss: 0.25855649517212725; Effective loss: 7.565569080348332e-05\n",
      "Epoch: 43; Vector loss: 0.24563409833985375; Effective loss: 6.691478857107011e-05\n",
      "Epoch: 44; Vector loss: 0.2557480063038574; Effective loss: 7.094924179888735e-05\n",
      "Epoch: 45; Vector loss: 0.27144978643206885; Effective loss: 7.554123050342264e-05\n",
      "Epoch: 46; Vector loss: 0.26584951237698745; Effective loss: 6.506961102547629e-05\n",
      "Epoch: 47; Vector loss: 0.2621584441930873; Effective loss: 6.0195016716984786e-05\n",
      "Epoch: 48; Vector loss: 0.25915304012132107; Effective loss: 6.458558985806591e-05\n",
      "Epoch: 49; Vector loss: 0.25828401497251674; Effective loss: 6.739363389688058e-05\n",
      "Epoch: 50; Vector loss: 0.26797093408289097; Effective loss: 6.309155435658822e-05\n",
      "Training finished. Elapsed time = 0:01:31.615815\n"
     ]
    }
   ],
   "source": [
    "###########################################\n",
    "##### TRAINING ON Y_i[-1] OF LENGTH 1 #####\n",
    "###########################################\n",
    "\n",
    "\n",
    "# Initializations\n",
    "'''\n",
    "    INSTANTIATE THE MODEL FIRST!\n",
    "    This cell requires:\n",
    "    n_in_channels =1\n",
    "    n_x_lags = 50\n",
    "    n_out_channels =1\n",
    "'''\n",
    "n_epochs = 50\n",
    "batch_size = 1\n",
    "# The following could be viewed as our batches\n",
    "n_y_samples = len(X_train)-n_x_lags\n",
    "\n",
    "# Timer init.\n",
    "train_begin_time = datetime.now()\n",
    "# Output vector loss history (many-to-many loss)\n",
    "loss_hist = np.empty(shape = n_epochs)\n",
    "# Effective loss (many-to-one loss)\n",
    "effective_loss_hist = np.empty(shape = n_epochs)\n",
    "\n",
    "# Loop over epochs:\n",
    "for epoch in range(n_epochs):\n",
    "    \n",
    "    #delta_y = np.empty(shape = n_y_samples)\n",
    "    hidden_state = None\n",
    "    epoch_losses = np.empty(shape = n_y_samples)\n",
    "    epoch_eff_losses = np.empty(shape = n_y_samples)\n",
    "    \n",
    "    # Loop over samples/batches\n",
    "    for i in range(n_y_samples):\n",
    "        \n",
    "        # Set up inputs and outputs of the state system\n",
    "        X_i = T.tensor(X_train[i:i+n_x_lags], dtype = T.float32).reshape(n_x_lags, n_in_channels)\n",
    "        Y_i = T.tensor(X_train[i+1:i+n_x_lags+1], dtype = T.float32).reshape(n_x_lags, n_in_channels)\n",
    "        \n",
    "        # Predict Y_hat_i \n",
    "        Y_hat_i, hidden_state = sRNN_model(X_i, hidden_state)\n",
    "        #y_hat_i = Y_hat_i[-1,0]\n",
    "        y_hat_i = Y_hat_i[-1]\n",
    "        \n",
    "        # Many-to-many loss\n",
    "        loss = sRNN_loss_fn(Y_hat_i[-1], Y_i[-1])# Gives warning about computation errors without the .double()\n",
    "        epoch_losses[i] = T.sqrt(T.sum((Y_hat_i-Y_i).view(n_x_lags)**2)).item()\n",
    "        # Many-to-one loss (Delta y)\n",
    "        epoch_eff_losses[i] = loss.item() # Delta of y\n",
    "        \n",
    "        # Perform one optimization step\n",
    "        optimizer.zero_grad()\n",
    "        loss.backward() \n",
    "        optimizer.step()\n",
    "        \n",
    "    # END OF BATCH LOOP\n",
    "    \n",
    "    # Losses\n",
    "    loss_hist[epoch] = np.mean(epoch_losses)#loss.item()\n",
    "    effective_loss_hist[epoch] = np.mean(epoch_eff_losses) # RMSE of the delta_y_i's\n",
    "    \n",
    "    # Verbose\n",
    "    print(f\"Epoch: {epoch+1}; Vector loss: {loss_hist[epoch]}; Effective loss: {effective_loss_hist[epoch]}\")\n",
    "\n",
    "# END EPOCH LOOP\n",
    "\n",
    "print(f\"Training finished. Elapsed time = {datetime.now()-train_begin_time}\")"
   ]
  },
  {
   "cell_type": "code",
   "execution_count": 245,
   "id": "e12475b7-70c4-4dc1-9cbb-543e8c409b44",
   "metadata": {},
   "outputs": [
    {
     "data": {
      "text/plain": [
       "[<matplotlib.lines.Line2D at 0x26b598d6a30>]"
      ]
     },
     "execution_count": 245,
     "metadata": {},
     "output_type": "execute_result"
    },
    {
     "data": {
      "image/png": "[encoded data removed]",
      "text/plain": [
       "<Figure size 432x288 with 1 Axes>"
      ]
     },
     "metadata": {
      "needs_background": "light"
     },
     "output_type": "display_data"
    }
   ],
   "source": [
    "plt.plot(np.arange(1,n_epochs+1), loss_hist)"
   ]
  },
  {
   "cell_type": "code",
   "execution_count": 246,
   "id": "bbb6fb27-0878-41f4-8c31-6bfcec82405c",
   "metadata": {},
   "outputs": [
    {
     "data": {
      "text/plain": [
       "[<matplotlib.lines.Line2D at 0x26b5873cfd0>]"
      ]
     },
     "execution_count": 246,
     "metadata": {},
     "output_type": "execute_result"
    },
    {
     "data": {
      "image/png": "[encoded data removed]",
      "text/plain": [
       "<Figure size 432x288 with 1 Axes>"
      ]
     },
     "metadata": {
      "needs_background": "light"
     },
     "output_type": "display_data"
    }
   ],
   "source": [
    "plt.plot(np.arange(1,n_epochs+1), effective_loss_hist)"
   ]
  },
  {
   "cell_type": "markdown",
   "id": "efd8fe5b-59be-44d9-b9bc-29e38ddb7913",
   "metadata": {},
   "source": [
    "**Important remark:** Using an SGD optimizer gives much better results on 5 epochs than ADAM. Look at the result for the first forecast (first entry of the training set):"
   ]
  },
  {
   "cell_type": "markdown",
   "id": "9eded27b-7a22-4077-bb1c-d2a2981c6789",
   "metadata": {},
   "source": [
    "##### Validation\n"
   ]
  },
  {
   "cell_type": "code",
   "execution_count": 251,
   "id": "dc77a99a-9a18-4219-8ebc-c9de4106b203",
   "metadata": {},
   "outputs": [
    {
     "name": "stdout",
     "output_type": "stream",
     "text": [
      "y_hat[0] = 0.9479663372039795\n",
      "y_hat[1] = 0.9612800478935242\n",
      "y_hat[2] = 0.9644448161125183\n",
      "y_hat[3] = 0.9575802087783813\n",
      "y_hat[4] = 0.9423122406005859\n",
      "y_hat[5] = 0.9207528233528137\n",
      "y_hat[6] = 0.8943066596984863\n",
      "y_hat[7] = 0.8640355467796326\n",
      "y_hat[8] = 0.8308601379394531\n",
      "y_hat[9] = 0.7956851720809937\n",
      "y_hat[10] = 0.7592728137969971\n",
      "y_hat[11] = 0.722212016582489\n",
      "y_hat[12] = 0.684923529624939\n",
      "y_hat[13] = 0.6477147936820984\n",
      "y_hat[14] = 0.6107828617095947\n",
      "y_hat[15] = 0.574221134185791\n",
      "y_hat[16] = 0.5380405187606812\n",
      "y_hat[17] = 0.5021926164627075\n",
      "y_hat[18] = 0.4665858745574951\n",
      "y_hat[19] = 0.4311010241508484\n",
      "y_hat[20] = 0.39560097455978394\n",
      "y_hat[21] = 0.35994839668273926\n",
      "y_hat[22] = 0.32402878999710083\n",
      "y_hat[23] = 0.2877960205078125\n",
      "y_hat[24] = 0.251296728849411\n",
      "y_hat[25] = 0.21465392410755157\n",
      "y_hat[26] = 0.17804953455924988\n",
      "y_hat[27] = 0.14174163341522217\n",
      "y_hat[28] = 0.10610228776931763\n",
      "y_hat[29] = 0.07166943699121475\n",
      "y_hat[30] = 0.03918784111738205\n",
      "y_hat[31] = 0.009630918502807617\n",
      "y_hat[32] = -0.01580001413822174\n",
      "y_hat[33] = -0.03571148216724396\n",
      "y_hat[34] = -0.04860445857048035\n",
      "y_hat[35] = -0.05302464962005615\n",
      "y_hat[36] = -0.04776698350906372\n",
      "y_hat[37] = -0.03209489583969116\n",
      "y_hat[38] = -0.005896158516407013\n",
      "y_hat[39] = 0.03030991554260254\n",
      "y_hat[40] = 0.07554864883422852\n",
      "y_hat[41] = 0.12868422269821167\n",
      "y_hat[42] = 0.18869076669216156\n",
      "y_hat[43] = 0.2547749876976013\n",
      "y_hat[44] = 0.32631492614746094\n",
      "y_hat[45] = 0.402665913105011\n",
      "y_hat[46] = 0.4829137921333313\n",
      "y_hat[47] = 0.5656490325927734\n",
      "y_hat[48] = 0.6488267183303833\n",
      "y_hat[49] = 0.7297719120979309\n"
     ]
    }
   ],
   "source": [
    "# Turn off gradient calculations\n",
    "#with T.no_grad():\n",
    "T.set_grad_enabled(False)\n",
    "\n",
    "# Ini. validation forecast tensor\n",
    "Y_hat = T.empty(size = (len(X_test),n_x_lags, n_in_channels))\n",
    "y_hat = T.empty(size = (len(X_test),))\n",
    "    \n",
    "# Init. hidden state\n",
    "hidden_state = None\n",
    "\n",
    "# Get input tensor for i=0\n",
    "i=0\n",
    "input_data_i = T.tensor(X_train[-n_x_lags:] , dtype = T.float32)\n",
    "    \n",
    "# Compute forecast y_hat[0]\n",
    "Y_hat[i,:,:], hidden_state = sRNN_model(input_data_i.reshape(n_x_lags,n_in_channels), hidden_state)\n",
    "y_hat[i] = Y_hat[i,-1,0]\n",
    "print(f\"y_hat[{i}] = {y_hat[i].item()}\")\n",
    "    \n",
    "    \n",
    "# Compute next len(X_train)-1 forecasts\n",
    "for i in range(1, len(X_test)):\n",
    "\n",
    "    # Get input tensor\n",
    "    ### Shift previous entries of input by one\n",
    "    temp_tensor = T.clone(input_data_i[1:])\n",
    "    input_data_i[:n_x_lags-1] = temp_tensor\n",
    "    ### Add previous forecast to last entry of input_data_i\n",
    "    input_data_i[-1] = y_hat[i-1]\n",
    "\n",
    "    # Compute forecast y_hat[i]\n",
    "    Y_hat[i,:,:], hidden_state = sRNN_model(input_data_i.reshape(n_x_lags,n_in_channels), hidden_state)\n",
    "    y_hat[i] = Y_hat[i,-1,0]\n",
    "    print(f\"y_hat[{i}] = {y_hat[i].item()}\")"
   ]
  },
  {
   "cell_type": "markdown",
   "id": "240220df-aa07-404a-881a-dec4f028a005",
   "metadata": {},
   "source": [
    "Use inverse transform of *ts_scaler* (*MinMaxScaler()*) to plot the results:"
   ]
  },
  {
   "cell_type": "code",
   "execution_count": 252,
   "id": "9cc91fe1-ec3c-49e4-8c6f-a1af3c9ad461",
   "metadata": {},
   "outputs": [],
   "source": [
    "# Re-Scaled Y_hat\n",
    "#scY_hat = ts_scaler.inverse_transform(Y_hat.numpy().reshape(1,-1))[0,:]\n",
    "scY_hat = ts_scaler.inverse_transform(y_hat.numpy().reshape(1,-1))[0,:]"
   ]
  },
  {
   "cell_type": "code",
   "execution_count": 253,
   "id": "d1db8c04-8c58-448c-9857-636a9e879ec6",
   "metadata": {},
   "outputs": [
    {
     "data": {
      "image/png": "[encoded data removed]",
      "text/plain": [
       "<Figure size 864x576 with 1 Axes>"
      ]
     },
     "metadata": {
      "needs_background": "light"
     },
     "output_type": "display_data"
    }
   ],
   "source": [
    "# Plot test data vs predictions.\n",
    "s = t[-len(X_test):]\n",
    "plt.figure(figsize = (12,8))\n",
    "plt.plot(s,X_test_ini,'b', label='Test data')\n",
    "plt.plot(s,scY_hat,'r--', label='Predictions')\n",
    "plt.xlabel('t')\n",
    "plt.ylabel('f(t)')\n",
    "plt.title('RNN prediction results')\n",
    "plt.legend()\n",
    "plt.show()"
   ]
  },
  {
   "cell_type": "code",
   "execution_count": null,
   "id": "e2c34e78-114a-4951-bb4d-9d39e4b8269e",
   "metadata": {},
   "outputs": [],
   "source": []
  },
  {
   "cell_type": "markdown",
   "id": "8d5d9d8d-3a2c-4746-8498-e8a740ba24c0",
   "metadata": {},
   "source": [
    "__________________________________\n",
    "\n",
    "## Attempt 3: Nothing works\n",
    "\n",
    "Done of 22/07/21. Nothing worked. I modified the *TimeSeries()* and *sRNN()* class several times to no avail. I changed the learning rate and the optimizer several times too.\n",
    "\n",
    "- It seems that forcing the many-to-one RNN configuration the same way as MC Cohen doesn't work here. I still don't understand why. To understand how bad the predictions become, see validation below. I will try something different in Attempt 4.\n",
    "\n",
    "- SGD just doesn't work with this implementation. The loss never goes below 0.1, and it is converging extremely slowly, even with a learning rate of 0.001. I tried with 5, 10, 25 and 30 epochs.\n",
    "\n",
    "- ADAM started giving acceptable losses once I set the learning rate to 0.1. Anything below that and the losses are a mess."
   ]
  },
  {
   "cell_type": "code",
   "execution_count": 12,
   "id": "d977c692-c5e2-4056-b045-1e77afb24aa7",
   "metadata": {},
   "outputs": [],
   "source": [
    "# Version 2\n",
    "class TimeSeries(Dataset):\n",
    "    \n",
    "    '''\n",
    "        torch.utils.data.Dataset() subclass for encoding time series\n",
    "        as states systems. Given a time_series (np.array()) of shape\n",
    "        (n_time_stamps, n_channels) and a number of time lags n_x_lags, \n",
    "        an instance of TimeSeries() re-organizes the data as tensors (X,y),\n",
    "        where:\n",
    "        * y is the tensor of \"outputs\" of the series, of shape (1, n_channels);\n",
    "        * X is the tensor of \"inputs\" of the series, of shape (n_x_lags, n_channels),\n",
    "        \n",
    "        Attributes:\n",
    "        * n_x_lags: No. of time lags in input data (int).\n",
    "        * n_channels: No. of channels in time series.\n",
    "        * n_out_samples: No. of output samples = len(y) = len(time_series)-n_x_lags\n",
    "        * X : Input data, dtype=Double, shape = (n_out_samples, n_x_lags, n_channels) (torch.tensor).\n",
    "        * y : Output data, dtype=Double, shape = (n_out_samples, n_channels) (torch.tensor).\n",
    "        \n",
    "        Constructor args:\n",
    "        * n_x_lags: Number of lags (int)\n",
    "        * time_series: The original time series (np.array) of shape (N, n_channels).\n",
    "        \n",
    "        Example: \n",
    "    '''\n",
    "    \n",
    "    def __init__(self, time_series, n_x_lags):\n",
    "        # Number of lags in the input\n",
    "        self.n_x_lags = n_x_lags\n",
    "        \n",
    "        # No. of channels in time series\n",
    "        self.n_channels = time_series.shape[1]\n",
    "        \n",
    "        # No. of output samples\n",
    "        self.n_out_samples = time_series.shape[0]-n_x_lags\n",
    "        \n",
    "        # Output time series (specify Double)\n",
    "        self.y = T.tensor(time_series[n_x_lags :,:], dtype = T.float64) \n",
    "        \n",
    "        # Inputs (specify Double)\n",
    "        self.X = T.empty(size = (len(self.y), self.n_x_lags, self.n_channels),\\\n",
    "                         dtype = T.float64) \n",
    "        \n",
    "        for i in range(len(self.y)):\n",
    "            self.X[i,:,:] = T.tensor(time_series[i:i+n_x_lags,:])\n",
    "\n",
    "        \n",
    "    def __len__(self):\n",
    "        # For number of OUTPUT samples\n",
    "        return self.n_out_samples\n",
    "    \n",
    "    def __getitem__(self,idx):\n",
    "        # For indexing\n",
    "        return (self.X[idx,:,:], self.y[idx,:])\n",
    "    "
   ]
  },
  {
   "cell_type": "code",
   "execution_count": null,
   "id": "79026d9d-27ca-4ae3-b8dc-fcac6f46eb71",
   "metadata": {},
   "outputs": [],
   "source": []
  },
  {
   "cell_type": "markdown",
   "id": "9f936a64-bde1-4512-971e-701eb5ff2aaa",
   "metadata": {
    "tags": []
   },
   "source": [
    "___________________________________________________________________\n",
    "\n",
    "## Elman RNN in PyTorch\n",
    "\n",
    "### Class Definition"
   ]
  },
  {
   "cell_type": "code",
   "execution_count": 13,
   "id": "c564df53-bb1a-4729-bf73-05da0a487624",
   "metadata": {},
   "outputs": [],
   "source": [
    "class sRNN(nn.Module):\n",
    "    def __init__(self, input_size, hidden_size, \\\n",
    "                 num_layers=1, nonlinearity=\"tanh\",\\\n",
    "                 output_size = 1):\n",
    "        super().__init__()\n",
    "        '''\n",
    "            Note:\n",
    "            Read documentation of torch.nn.RNN() carefully for \n",
    "            the input/output shapes and contents.\n",
    "            https://pytorch.org/docs/stable/generated/torch.nn.RNN.html\n",
    "            Output of sRNN is computed as linear transformation of \n",
    "            the output of the last RNN unit.\n",
    "            \n",
    "            Agruments:\n",
    "            * input_size: No. of channels in the input sequences (int)\n",
    "            * hidden_size: No. of units in the hidden state (int)\n",
    "            * nonlinearity: Nonlinearity to apply as activation\n",
    "                            of RNN unit(string)\n",
    "            * num_layers: No. of Elman RNN units to stack(int, default = 1).\n",
    "            * output_size: Size of the output y_t (int, default =1).\n",
    "        '''\n",
    "        # hyperparameters\n",
    "        self.input_size = input_size\n",
    "        self.hidden_size = hidden_size\n",
    "        self.num_layers = num_layers\n",
    "        self.nonlinearity = nonlinearity\n",
    "        self.output_size = output_size\n",
    "        \n",
    "        \n",
    "        # Layers\n",
    "        self.rnn_layer = nn.RNN(input_size=self.input_size, \\\n",
    "                                hidden_size=self.hidden_size, \\\n",
    "                                num_layers=self.num_layers, \\\n",
    "                                nonlinearity=self.nonlinearity)\n",
    "        self.out_layer = nn.Linear(in_features=self.hidden_size,\\\n",
    "                                   out_features = self.output_size)\n",
    "        \n",
    "\n",
    "    def forward(self, X):\n",
    "        \n",
    "        H = self.rnn_layer(X) # Note: nn.RNN returns a tuple (out, h_n) of tensors\n",
    "                              #       out.shape = (length, hidden_size)\n",
    "                              #       h_n.shape = (, hidden_size)\n",
    "        y_vec = self.out_layer(H[0]) # Many-to-one obtained by taking last entry\n",
    "        y = y_vec[-1]\n",
    "        return y"
   ]
  },
  {
   "cell_type": "markdown",
   "id": "b8c4b744-f1af-4196-a4df-e24114fd1ea9",
   "metadata": {},
   "source": [
    "________________________________________________________\n",
    "\n",
    "## Training and validation\n",
    "\n",
    "### Prelims: Instantiate dataset and model"
   ]
  },
  {
   "cell_type": "code",
   "execution_count": 14,
   "id": "35fa25d9-a038-4f6b-9805-79e511980e5d",
   "metadata": {},
   "outputs": [],
   "source": [
    "# Dataset\n",
    "D_ts = TimeSeries(time_series = X_train.reshape(-1,1), n_x_lags = 50)\n",
    "\n",
    "# Loader\n",
    "RNN_loader = DataLoader(dataset = D_ts, batch_size = 1, shuffle = False)"
   ]
  },
  {
   "cell_type": "code",
   "execution_count": null,
   "id": "7b18a5d2-8bfb-49eb-8289-8ec13a58b780",
   "metadata": {},
   "outputs": [],
   "source": []
  },
  {
   "cell_type": "code",
   "execution_count": 48,
   "id": "bf09a647-fad5-4b37-97ab-1fb5d2e5a014",
   "metadata": {},
   "outputs": [],
   "source": [
    "del sRNN_model, sRNN_loss_fn, optimizer"
   ]
  },
  {
   "cell_type": "code",
   "execution_count": 49,
   "id": "b10c78a2-0934-436f-b0e8-5c1eab1aca3d",
   "metadata": {},
   "outputs": [],
   "source": [
    "# Turn on gradient calculations\n",
    "T.set_grad_enabled(True)\n",
    "\n",
    "# Params\n",
    "n_in_channels =1\n",
    "n_x_lags = 50\n",
    "n_out_channels =1\n",
    "\n",
    "# Inst. model and set its weights to double precision\n",
    "### We take the number of hidden units equal to length of input sequences\n",
    "sRNN_model = sRNN(input_size = n_in_channels, hidden_size=n_x_lags, \\\n",
    "                  nonlinearity='tanh', output_size=n_out_channels)\n",
    "sRNN_model.double()\n",
    "\n",
    "# Loss function:\n",
    "sRNN_loss_fn = nn.MSELoss() # Note: MSELoss() requires T.float64 \n",
    "sRNN_loss_fn.double()\n",
    "\n",
    "# Optimizer:\n",
    "#optimizer = T.optim.Adam(params = sRNN_model.parameters(), lr = 0.001)\n",
    "optimizer = T.optim.Adam(params = sRNN_model.parameters(), lr = 0.05) # Gives better training than ADAM\n"
   ]
  },
  {
   "cell_type": "code",
   "execution_count": 50,
   "id": "641fc083-ab23-4ffb-861f-c925446686d2",
   "metadata": {},
   "outputs": [
    {
     "name": "stderr",
     "output_type": "stream",
     "text": [
      "C:\\Users\\zaj20\\anaconda3\\envs\\DeepRL\\lib\\site-packages\\torch\\nn\\modules\\loss.py:529: UserWarning: Using a target size (torch.Size([1, 1])) that is different to the input size (torch.Size([50, 1])). This will likely lead to incorrect results due to broadcasting. Please ensure they have the same size.\n",
      "  return F.mse_loss(input, target, reduction=self.reduction)\n"
     ]
    },
    {
     "name": "stdout",
     "output_type": "stream",
     "text": [
      "Epoch: 1; Loss: 9.935767127260906e-05.\n",
      "Epoch: 2; Loss: 4.5842540392368644e-06.\n",
      "Epoch: 3; Loss: 3.239007502604631e-05.\n",
      "Epoch: 4; Loss: 0.00010503838741140658.\n",
      "Epoch: 5; Loss: 3.5722220746726136e-05.\n",
      "Epoch: 6; Loss: 8.138319102136148e-05.\n",
      "Epoch: 7; Loss: 4.012106040566066e-06.\n",
      "Epoch: 8; Loss: 0.00018729699837331123.\n",
      "Epoch: 9; Loss: 5.375200824957993e-05.\n",
      "Epoch: 10; Loss: 5.734485442142877e-05.\n",
      "Epoch: 11; Loss: 9.433746439997536e-06.\n",
      "Epoch: 12; Loss: 5.836467089160497e-05.\n",
      "Epoch: 13; Loss: 5.254800439328082e-06.\n",
      "Epoch: 14; Loss: 2.554742921899505e-05.\n",
      "Epoch: 15; Loss: 6.819037887707558e-06.\n",
      "Epoch: 16; Loss: 2.5493310322115264e-06.\n",
      "Epoch: 17; Loss: 2.3163994052000417e-05.\n",
      "Epoch: 18; Loss: 5.900594876393868e-05.\n",
      "Epoch: 19; Loss: 9.844082704787604e-05.\n",
      "Epoch: 20; Loss: 3.5426897922288534e-05.\n",
      "Epoch: 21; Loss: 1.4223643028023363e-06.\n",
      "Epoch: 22; Loss: 3.0259007962077116e-06.\n",
      "Epoch: 23; Loss: 4.872075719010812e-06.\n",
      "Epoch: 24; Loss: 6.399487559080666e-05.\n",
      "Epoch: 25; Loss: 3.7786995580632956e-06.\n",
      "Epoch: 26; Loss: 3.132713010377475e-05.\n",
      "Epoch: 27; Loss: 5.907569674192976e-06.\n",
      "Epoch: 28; Loss: 7.078848390916651e-05.\n",
      "Epoch: 29; Loss: 3.955675983355771e-06.\n",
      "Epoch: 30; Loss: 1.2491925212674019e-06.\n",
      "Training finished. Elapsed time = 0:00:18.401784\n"
     ]
    }
   ],
   "source": [
    "##### TRAINING #####\n",
    "\n",
    "# Initializations\n",
    "n_epochs = 30\n",
    "batch_size = 1\n",
    "#n_batches = len(RNN_loader)\n",
    "\n",
    "# Timer init.\n",
    "train_begin_time = datetime.now()\n",
    "\n",
    "loss_hist = np.empty(shape = n_epochs)\n",
    "model_StateDict_hist = []\n",
    "\n",
    "# Loop over epochs:\n",
    "for epoch in range(n_epochs):\n",
    "    \n",
    "    # Loop over batches\n",
    "    for i, (X_i, y_i) in enumerate(RNN_loader):\n",
    "        \n",
    "        # Predict y_hat_i labels and compute loss wrt y_i\n",
    "        y_hat_i = sRNN_model(X_i) \n",
    "        loss = sRNN_loss_fn(y_hat_i, y_i).double() # Gives warning about computation errors without the .double()\n",
    "               \n",
    "        # Perform one optimization step\n",
    "        optimizer.zero_grad()\n",
    "        loss.backward() \n",
    "        optimizer.step()\n",
    "        \n",
    "        # Update model weights hist\n",
    "        model_StateDict_hist.append(sRNN_model.state_dict())\n",
    "        \n",
    "    # END OF BATCH LOOP\n",
    "    loss_hist[epoch] = loss.item()\n",
    "    print(f\"Epoch: {epoch+1}; Loss: {loss.item()}.\")\n",
    "\n",
    "# END EPOCH LOOP\n",
    "\n",
    "print(f\"Training finished. Elapsed time = {datetime.now()-train_begin_time}\")"
   ]
  },
  {
   "cell_type": "code",
   "execution_count": 51,
   "id": "319f9e47-02c2-4b15-9fa6-d8a4a60112c4",
   "metadata": {},
   "outputs": [
    {
     "data": {
      "text/plain": [
       "[<matplotlib.lines.Line2D at 0x208458c6b50>]"
      ]
     },
     "execution_count": 51,
     "metadata": {},
     "output_type": "execute_result"
    },
    {
     "data": {
      "image/png": "[encoded data removed]",
      "text/plain": [
       "<Figure size 432x288 with 1 Axes>"
      ]
     },
     "metadata": {
      "needs_background": "light"
     },
     "output_type": "display_data"
    }
   ],
   "source": [
    "plt.plot(np.arange(1,n_epochs+1), loss_hist)"
   ]
  },
  {
   "cell_type": "markdown",
   "id": "f609bdf6-a991-4e4d-86e7-543320611fc6",
   "metadata": {},
   "source": [
    "**Important remark:** Using an SGD optimizer gives much better results on 5 epochs than ADAM. Look at the result for the first forecast (first entry of the training set):"
   ]
  },
  {
   "cell_type": "code",
   "execution_count": 18,
   "id": "95734c8c-a3ff-4ae9-a0a6-8951f9fc4968",
   "metadata": {},
   "outputs": [],
   "source": [
    "z = sRNN_model(T.tensor(X_train[-50:], dtype=T.float64).reshape(n_x_lags,1))"
   ]
  },
  {
   "cell_type": "code",
   "execution_count": 20,
   "id": "8327dc31-0215-4af2-b294-6f31e3cc2ab4",
   "metadata": {},
   "outputs": [
    {
     "data": {
      "text/plain": [
       "tensor(0.8784, dtype=torch.float64, grad_fn=<SelectBackward0>)"
      ]
     },
     "execution_count": 20,
     "metadata": {},
     "output_type": "execute_result"
    }
   ],
   "source": [
    "z[0]"
   ]
  },
  {
   "cell_type": "code",
   "execution_count": 31,
   "id": "c4608727-29fe-4bd4-8971-a28f2eae459c",
   "metadata": {},
   "outputs": [
    {
     "data": {
      "text/plain": [
       "0.9495513437783747"
      ]
     },
     "execution_count": 31,
     "metadata": {},
     "output_type": "execute_result"
    }
   ],
   "source": [
    "X_test[0]"
   ]
  },
  {
   "cell_type": "markdown",
   "id": "74fd84dd-4f19-48aa-882f-de851e8b84a8",
   "metadata": {},
   "source": [
    "________________________________________"
   ]
  },
  {
   "cell_type": "code",
   "execution_count": 24,
   "id": "c553af12-0fcb-40f5-81fd-915118f9aff4",
   "metadata": {},
   "outputs": [
    {
     "name": "stdout",
     "output_type": "stream",
     "text": [
      "Y_hat[0] = 0.8783625960350037\n",
      "Y_hat[1] = 0.8784084320068359\n",
      "Y_hat[2] = 0.8791584968566895\n",
      "Y_hat[3] = 0.8787972927093506\n",
      "Y_hat[4] = 0.8789732456207275\n",
      "Y_hat[5] = 0.8789957165718079\n",
      "Y_hat[6] = 0.8789997100830078\n",
      "Y_hat[7] = 0.8789884448051453\n",
      "Y_hat[8] = 0.8789895176887512\n",
      "Y_hat[9] = 0.8789879083633423\n",
      "Y_hat[10] = 0.87898850440979\n",
      "Y_hat[11] = 0.8789883852005005\n",
      "Y_hat[12] = 0.8789884448051453\n",
      "Y_hat[13] = 0.8789883852005005\n",
      "Y_hat[14] = 0.8789884448051453\n",
      "Y_hat[15] = 0.8789884448051453\n",
      "Y_hat[16] = 0.8789884448051453\n",
      "Y_hat[17] = 0.8789884448051453\n",
      "Y_hat[18] = 0.8789884448051453\n",
      "Y_hat[19] = 0.8789884448051453\n",
      "Y_hat[20] = 0.8789884448051453\n",
      "Y_hat[21] = 0.8789884448051453\n",
      "Y_hat[22] = 0.8789884448051453\n",
      "Y_hat[23] = 0.8789884448051453\n",
      "Y_hat[24] = 0.8789884448051453\n",
      "Y_hat[25] = 0.8789884448051453\n",
      "Y_hat[26] = 0.8789884448051453\n",
      "Y_hat[27] = 0.8789884448051453\n",
      "Y_hat[28] = 0.8789884448051453\n",
      "Y_hat[29] = 0.8789884448051453\n",
      "Y_hat[30] = 0.8789884448051453\n",
      "Y_hat[31] = 0.8789884448051453\n",
      "Y_hat[32] = 0.8789884448051453\n",
      "Y_hat[33] = 0.8789884448051453\n",
      "Y_hat[34] = 0.8789884448051453\n",
      "Y_hat[35] = 0.8789884448051453\n",
      "Y_hat[36] = 0.8789884448051453\n",
      "Y_hat[37] = 0.8789884448051453\n",
      "Y_hat[38] = 0.8789884448051453\n",
      "Y_hat[39] = 0.8789884448051453\n",
      "Y_hat[40] = 0.8789884448051453\n",
      "Y_hat[41] = 0.8789884448051453\n",
      "Y_hat[42] = 0.8789884448051453\n",
      "Y_hat[43] = 0.8789884448051453\n",
      "Y_hat[44] = 0.8789884448051453\n",
      "Y_hat[45] = 0.8789884448051453\n",
      "Y_hat[46] = 0.8789884448051453\n",
      "Y_hat[47] = 0.8789884448051453\n",
      "Y_hat[48] = 0.8789884448051453\n",
      "Y_hat[49] = 0.8789884448051453\n"
     ]
    }
   ],
   "source": [
    "with T.no_grad():\n",
    "    \n",
    "    # Ini. validation forecast tensor\n",
    "    Y_hat = T.empty(size = (len(X_test),))\n",
    "\n",
    "    # Get input tensor for i=0\n",
    "    i=0\n",
    "    input_data_i = T.tensor(X_train[-n_x_lags:] , dtype = T.float64)\n",
    "    \n",
    "\n",
    "    # Compute Y_hat[0]\n",
    "    Y_hat[i] = sRNN_model(input_data_i.reshape(n_x_lags,1))[0]\n",
    "    print(f\"Y_hat[{i}] = {Y_hat[i].item()}\")\n",
    "    \n",
    "    # Compute next len(X_train)-1 forecasts\n",
    "    for i in range(1, len(X_test)):\n",
    "\n",
    "        # Get input tensor\n",
    "        ### Shift previous entries of input by one\n",
    "        temp_tensor = T.clone(input_data_i[1:])\n",
    "        input_data_i[:n_x_lags-1] = temp_tensor\n",
    "        ### Add previous forecast to last entry of input_data_i\n",
    "        input_data_i[-1] = Y_hat[i-1]\n",
    "\n",
    "        # Compute forecast\n",
    "        Y_hat[i] = sRNN_model(input_data_i.reshape(n_x_lags,1))[0]\n",
    "        print(f\"Y_hat[{i}] = {Y_hat[i].item()}\")"
   ]
  },
  {
   "cell_type": "markdown",
   "id": "801b23a5-64fc-47a0-af92-f2d1d0d7bfa9",
   "metadata": {},
   "source": [
    "Use inverse transform of *ts_scaler* (*MinMaxScaler()*) to plot the results:"
   ]
  },
  {
   "cell_type": "code",
   "execution_count": 22,
   "id": "57c57150-d0f9-4cc2-96ce-57823559fb0b",
   "metadata": {},
   "outputs": [],
   "source": [
    "# Re-Scaled Y_hat\n",
    "scY_hat = ts_scaler.inverse_transform(Y_hat.numpy().reshape(1,-1))[0,:]"
   ]
  },
  {
   "cell_type": "code",
   "execution_count": 23,
   "id": "644fc14d-5a3e-40e5-85dd-e15c350ae1e3",
   "metadata": {},
   "outputs": [
    {
     "data": {
      "image/png": "[encoded data removed]",
      "text/plain": [
       "<Figure size 864x576 with 1 Axes>"
      ]
     },
     "metadata": {
      "needs_background": "light"
     },
     "output_type": "display_data"
    }
   ],
   "source": [
    "# Plot test data vs predictions.\n",
    "s = t[-len(X_test):]\n",
    "plt.figure(figsize = (12,8))\n",
    "plt.plot(s,X_test_ini,'b', label='Test data')\n",
    "plt.plot(s,scY_hat,'r--', label='Predictions')\n",
    "plt.xlabel('t')\n",
    "plt.ylabel('f(t)')\n",
    "plt.title('RNN prediction results')\n",
    "plt.legend()\n",
    "plt.show()"
   ]
  },
  {
   "cell_type": "markdown",
   "id": "3b545a7c-7216-4813-bdbd-0185922bf5e1",
   "metadata": {},
   "source": [
    "__________________________________________________________\n",
    "\n",
    "## Attempt 2: Mistake in implementation\n",
    "\n",
    "The way I wrote the model initially had an issue, which is connected to how I used the *nn.RNN()* class. I used the length of my sequences as the number of input channels (no. of components in one time-stamp $x_t$). This should have been 1, the same way that the RNN class of Keras doesn't require a number of channels instead of the length.\n",
    "\n",
    "The changes that should be made in Attempt 3 are the following:\n",
    "\n",
    "* The *input_size* argument in the call of *sRNN_model()* should be *n_in_channels*=1 instead of *n_x_lags*. It's the same as *nn.RNN()*.\n",
    "\n",
    "* The *Dataset()* subclass *TimeSeries()* should return tensors of the appropriate size, meaning: *(n_x_lags, n_in_channels)*. Otherwise, the input shape is incompatible with *nn.RNN()*."
   ]
  },
  {
   "cell_type": "code",
   "execution_count": 12,
   "id": "dd6ac1b9-2294-428c-b28c-69cef92d5eba",
   "metadata": {},
   "outputs": [],
   "source": [
    "class TimeSeries(Dataset):\n",
    "    \n",
    "    '''\n",
    "        Attributes:\n",
    "        * n_x_lags: No. of time lags in input data (int).\n",
    "        * X : Input data, dtype=Double, shape = (n_samples, n_x_lags) (torch.tensor).\n",
    "        * y : Output data, dtype=Double, shape = (n_samples, ) (torch.tensor).\n",
    "        Constructor args:\n",
    "        * n_x_lags: Number of input lags (int)\n",
    "        * time_series: The data (np.array)\n",
    "    '''\n",
    "    \n",
    "    def __init__(self, time_series, n_x_lags):\n",
    "        # Number of lags in the input\n",
    "        self.n_x_lags = n_x_lags\n",
    "        \n",
    "        # Output time series (specify Double)\n",
    "        self.y = T.tensor(time_series[n_x_lags :], dtype = T.float64) \n",
    "        \n",
    "        # Inputs (specify Double)\n",
    "        self.X = T.empty(size = (len(self.y), self.n_x_lags), dtype = T.float64) \n",
    "        \n",
    "        for i in range(len(self.y)):\n",
    "            self.X[i,:] = T.tensor(time_series[i:i+n_x_lags])\n",
    "\n",
    "        \n",
    "    def __len__(self):\n",
    "        # For number of samples\n",
    "        return len(self.X)\n",
    "    \n",
    "    def __getitem__(self,idx):\n",
    "        # For indexing\n",
    "        return (self.X[idx,:], self.y[idx])\n",
    "    "
   ]
  },
  {
   "cell_type": "markdown",
   "id": "d9b74275-82cd-4b1f-be18-0caa0748e18a",
   "metadata": {
    "tags": []
   },
   "source": [
    "___________________________________________________________________\n",
    "\n",
    "### 2.b - Model construction\n",
    "\n",
    "#### 2.b.1 - Regular RNN"
   ]
  },
  {
   "cell_type": "code",
   "execution_count": 12,
   "id": "dec02c9c-5c4f-497a-8e35-04f05e5f67e8",
   "metadata": {},
   "outputs": [],
   "source": [
    "class sRNN(nn.Module):\n",
    "    def __init__(self, input_size, hidden_size, \\\n",
    "                 num_layers=1, nonlinearity=\"tanh\",\\\n",
    "                 output_size = 1):\n",
    "        super().__init__()\n",
    "        '''\n",
    "            Note:\n",
    "            Read documentation of torch.nn.RNN() carefully for \n",
    "            the input/output shapes and contents.\n",
    "            https://pytorch.org/docs/stable/generated/torch.nn.RNN.html\n",
    "            Output of sRNN is computed as linear transformation of \n",
    "            the output of the last RNN unit.\n",
    "            \n",
    "            Agruments:\n",
    "            * input_size: Length of input sequence (int)\n",
    "            * hidden_size: No. of \n",
    "            * nonlinearity: Nonlinearity to apply as activation\n",
    "                            of RNN unit(string)\n",
    "            * num_layers: No. of Elman RNN units to stack(int, default = 1).\n",
    "            * output_size: Size of the output y_t (int, default =1).\n",
    "        '''\n",
    "        # hyperparameters\n",
    "        self.input_size = input_size\n",
    "        self.hidden_size = hidden_size\n",
    "        self.num_layers = num_layers\n",
    "        self.nonlinearity = nonlinearity\n",
    "        self.output_size = output_size\n",
    "        \n",
    "        \n",
    "        # Layers\n",
    "        self.rnn_layer = nn.RNN(input_size=self.input_size, \\\n",
    "                                hidden_size=self.hidden_size, \\\n",
    "                                num_layers=self.num_layers, \\\n",
    "                                nonlinearity=self.nonlinearity)\n",
    "        self.out_layer = nn.Linear(in_features=self.hidden_size,\\\n",
    "                                   out_features = self.output_size)\n",
    "        \n",
    "\n",
    "    def forward(self, X):\n",
    "        H = self.rnn_layer(X) # Note: nn.RNN returns a tuple of tensors, H[1]=h_n and H[0] =output\n",
    "        y = self.out_layer(H[0])\n",
    "        return y"
   ]
  },
  {
   "cell_type": "markdown",
   "id": "541fb261-8c41-49a1-95e1-a5758cdf2657",
   "metadata": {},
   "source": [
    "________________________________________________________\n",
    "\n",
    "### 2.c - Training and validation\n",
    "\n",
    "#### 2.c.1 - Elman RNN"
   ]
  },
  {
   "cell_type": "markdown",
   "id": "f66c5bed-a6cd-4071-817c-18c719e5defe",
   "metadata": {},
   "source": [
    "First, instantiate the TimeSeries() object from synthetic data and make the DataLoader"
   ]
  },
  {
   "cell_type": "code",
   "execution_count": 13,
   "id": "33305f0b-7eec-4984-b04e-7becaf5cf3d5",
   "metadata": {},
   "outputs": [],
   "source": [
    "# Dataset\n",
    "D_ts = TimeSeries(time_series = X_train, n_x_lags = 50)\n",
    "\n",
    "# Loader\n",
    "RNN_loader = DataLoader(dataset = D_ts, batch_size = 1, shuffle = False)"
   ]
  },
  {
   "cell_type": "code",
   "execution_count": 14,
   "id": "4131c33c-4b6e-4118-b327-fe908f1e6485",
   "metadata": {},
   "outputs": [
    {
     "name": "stdout",
     "output_type": "stream",
     "text": [
      "len(D_ts)=401; \n",
      "D_ts.X.shape=torch.Size([401, 50]); D_ts.X.dtype=torch.float64;\n",
      "D_ts.y.shape=torch.Size([401, 50]); D_ts.y.dtype=torch.float64;\n",
      "len(RNN_loader)=401;\n",
      "For index j=5 of DataLoader, returned object (A,b) with:\n",
      "A.shape=torch.Size([1, 50]); A.dtype=torch.float64;\n",
      "b.shape=torch.Size([1]); b.dtype=torch.float64;\n"
     ]
    }
   ],
   "source": [
    "# Check shape and data types of TimeSeries()\n",
    "print(f\"len(D_ts)={len(D_ts)}; \\nD_ts.X.shape={D_ts.X.shape}; D_ts.X.dtype={D_ts.X.dtype};\")\n",
    "print(f\"D_ts.y.shape={D_ts.X.shape}; D_ts.y.dtype={D_ts.y.dtype};\")\n",
    "\n",
    "# Check shape and data types of elements returned by DataLoader()\n",
    "print(f\"len(RNN_loader)={len(RNN_loader)};\")\n",
    "for j, (A,b) in enumerate(RNN_loader):\n",
    "    if j==5:\n",
    "        print(f\"For index j={j} of DataLoader, returned object (A,b) with:\")\n",
    "        print(f\"A.shape={A.shape}; A.dtype={A.dtype};\")\n",
    "        print(f\"b.shape={b.shape}; b.dtype={b.dtype};\")\n"
   ]
  },
  {
   "cell_type": "code",
   "execution_count": null,
   "id": "f9302a6f-a012-42c1-8a6c-447245a8ddd6",
   "metadata": {},
   "outputs": [],
   "source": []
  },
  {
   "cell_type": "code",
   "execution_count": 44,
   "id": "92e2a865-1ea1-40e4-9062-c80735ae88d8",
   "metadata": {},
   "outputs": [],
   "source": [
    "del sRNN_model, sRNN_loss_fn, optimizer"
   ]
  },
  {
   "cell_type": "markdown",
   "id": "924743ec-0a6d-457c-9bf6-428d47fd6a90",
   "metadata": {},
   "source": [
    "**WARNING:** I did not make this RNN properly apparently. The *input_size* argument is supposed to be the number of channels/features of the input sequence, and not the length of the input sequences. In Keras too, the length of the sequence wasn't a parameter."
   ]
  },
  {
   "cell_type": "code",
   "execution_count": 45,
   "id": "0da98a9d-2c1a-49c8-96e6-35246ae36259",
   "metadata": {},
   "outputs": [],
   "source": [
    "# Params\n",
    "n_x_lags = 50\n",
    "n_out_features =1\n",
    "\n",
    "# Inst. model and set its weights to double precision\n",
    "sRNN_model = sRNN(input_size = n_x_lags, hidden_size=n_x_lags, \\\n",
    "                  nonlinearity='tanh', output_size=1)\n",
    "sRNN_model.double()\n",
    "\n",
    "# Loss function:\n",
    "sRNN_loss_fn = nn.MSELoss() # Note: MSELoss() requires T.float64 \n",
    "sRNN_loss_fn.double()\n",
    "\n",
    "# Optimizer:\n",
    "#optimizer = T.optim.Adam(params = sRNN_model.parameters(), lr = 0.001)\n",
    "optimizer = T.optim.SGD(params = sRNN_model.parameters(), lr = 0.001) # Gives better training than ADAM\n"
   ]
  },
  {
   "cell_type": "code",
   "execution_count": 17,
   "id": "670a098f-e4f6-498e-ad60-b1882c093044",
   "metadata": {},
   "outputs": [
    {
     "name": "stdout",
     "output_type": "stream",
     "text": [
      "For index j=5 of sRNN_model.params():\n",
      "type(net_params[j]) = <class 'torch.nn.parameter.Parameter'>\n",
      "net_params[j].shape = torch.Size([1])\n",
      "net_params[j].dtype = torch.float64\n"
     ]
    }
   ],
   "source": [
    "# Check dtype of network parameters\n",
    "net_params = []\n",
    "for theta in sRNN_model.parameters():\n",
    "    net_params.append(theta)\n",
    "    \n",
    "j = 5\n",
    "print(f\"For index j={j} of sRNN_model.params():\")\n",
    "print(f\"type(net_params[j]) = {type(net_params[j])}\")\n",
    "print(f\"net_params[j].shape = {net_params[j].shape}\")\n",
    "print(f\"net_params[j].dtype = {net_params[j].dtype}\")"
   ]
  },
  {
   "cell_type": "code",
   "execution_count": 18,
   "id": "f8d30731-902f-47f3-a91c-a14312507daa",
   "metadata": {},
   "outputs": [
    {
     "name": "stdout",
     "output_type": "stream",
     "text": [
      "For index j=0 of sRNN_model.params():\n",
      "type(net_params[j]) = <class 'torch.nn.parameter.Parameter'>\n",
      "type(net_params[j].data) = <class 'torch.Tensor'>\n",
      "net_params[j].data.shape = torch.Size([50])\n",
      "net_params[j].data.dtype = torch.float64\n"
     ]
    }
   ],
   "source": [
    "j = 2\n",
    "print(f\"For index j={0} of sRNN_model.params():\")\n",
    "print(f\"type(net_params[j]) = {type(net_params[j])}\")\n",
    "print(f\"type(net_params[j].data) = {type(net_params[j].data)}\")\n",
    "print(f\"net_params[j].data.shape = {net_params[j].data.shape}\")\n",
    "print(f\"net_params[j].data.dtype = {net_params[j].data.dtype}\")"
   ]
  },
  {
   "cell_type": "code",
   "execution_count": null,
   "id": "b3bd6904-adff-46b0-beaf-583eef19e3e4",
   "metadata": {},
   "outputs": [],
   "source": [
    "sRNN_loss_fn.d"
   ]
  },
  {
   "cell_type": "code",
   "execution_count": null,
   "id": "2c436250-1a40-40e1-96ca-64f3fda3c869",
   "metadata": {},
   "outputs": [],
   "source": []
  },
  {
   "cell_type": "code",
   "execution_count": null,
   "id": "91543991-812a-4a63-8103-ee24c9a36701",
   "metadata": {},
   "outputs": [],
   "source": []
  },
  {
   "cell_type": "code",
   "execution_count": 46,
   "id": "5d61f316-96dc-4508-99a8-d7eac975cfe8",
   "metadata": {},
   "outputs": [
    {
     "name": "stderr",
     "output_type": "stream",
     "text": [
      "C:\\Users\\zaj20\\anaconda3\\envs\\DeepRL\\lib\\site-packages\\torch\\nn\\modules\\loss.py:529: UserWarning: Using a target size (torch.Size([1])) that is different to the input size (torch.Size([1, 1])). This will likely lead to incorrect results due to broadcasting. Please ensure they have the same size.\n",
      "  return F.mse_loss(input, target, reduction=self.reduction)\n"
     ]
    },
    {
     "name": "stdout",
     "output_type": "stream",
     "text": [
      "Epoch: 1; Loss: 0.030835751718440278.\n",
      "Epoch: 2; Loss: 0.002455259618419537.\n",
      "Epoch: 3; Loss: 0.00014020668946659027.\n",
      "Epoch: 4; Loss: 1.8686641228662082e-06.\n",
      "Epoch: 5; Loss: 2.144055770353219e-06.\n",
      "Training finished. Elapsed time = 0:00:02.786183\n"
     ]
    }
   ],
   "source": [
    "##### TRAINING #####\n",
    "\n",
    "# Initializations\n",
    "n_epochs = 5\n",
    "batch_size = 1\n",
    "#n_batches = len(RNN_loader)\n",
    "\n",
    "# Timer init.\n",
    "train_begin_time = datetime.now()\n",
    "\n",
    "loss_hist = np.empty(shape = n_epochs)\n",
    "model_StateDict_hist = []\n",
    "\n",
    "# Loop over epochs:\n",
    "for epoch in range(n_epochs):\n",
    "    \n",
    "    # Loop over batches\n",
    "    for i, (X_i, y_i) in enumerate(RNN_loader):\n",
    "        \n",
    "        # Predict y_hat_i labels and compute loss wrt y_i\n",
    "        y_hat_i = sRNN_model(X_i) \n",
    "        loss = sRNN_loss_fn(y_hat_i, y_i).double() # Gives warning about computation errors without the .double()\n",
    "               \n",
    "        # Perform one optimization step\n",
    "        optimizer.zero_grad()\n",
    "        loss.backward() \n",
    "        optimizer.step()\n",
    "        \n",
    "        # Update model weights hist\n",
    "        model_StateDict_hist.append(sRNN_model.state_dict())\n",
    "        \n",
    "    # END OF BATCH LOOP\n",
    "    loss_hist[epoch] = loss.item()\n",
    "    print(f\"Epoch: {epoch+1}; Loss: {loss.item()}.\")\n",
    "\n",
    "# END EPOCH LOOP\n",
    "\n",
    "print(f\"Training finished. Elapsed time = {datetime.now()-train_begin_time}\")"
   ]
  },
  {
   "cell_type": "code",
   "execution_count": 47,
   "id": "f08547b6-3cec-4c42-b841-c866afcd0fea",
   "metadata": {},
   "outputs": [
    {
     "data": {
      "text/plain": [
       "[<matplotlib.lines.Line2D at 0x1c65b52f1f0>]"
      ]
     },
     "execution_count": 47,
     "metadata": {},
     "output_type": "execute_result"
    },
    {
     "data": {
      "image/png": "[encoded data removed]",
      "text/plain": [
       "<Figure size 432x288 with 1 Axes>"
      ]
     },
     "metadata": {
      "needs_background": "light"
     },
     "output_type": "display_data"
    }
   ],
   "source": [
    "plt.plot(np.arange(1,n_epochs+1), loss_hist)"
   ]
  },
  {
   "cell_type": "markdown",
   "id": "45bce23b-505f-48e0-885d-7f1634c94eee",
   "metadata": {},
   "source": [
    "**Important remark:** Using an SGD optimizer gives much better results on 5 epochs than ADAM. Look at the result for the first forecast (first entry of the training set):"
   ]
  },
  {
   "cell_type": "code",
   "execution_count": 48,
   "id": "714a020b-9b9f-4f54-882a-5da6a4435436",
   "metadata": {},
   "outputs": [],
   "source": [
    "z = sRNN_model(T.tensor(X_train[-50:], dtype=T.float64).reshape(1, n_x_lags))"
   ]
  },
  {
   "cell_type": "code",
   "execution_count": 49,
   "id": "2c35a40e-3109-41c1-b720-7acb090ac115",
   "metadata": {},
   "outputs": [
    {
     "data": {
      "text/plain": [
       "0.9480514524021949"
      ]
     },
     "execution_count": 49,
     "metadata": {},
     "output_type": "execute_result"
    }
   ],
   "source": [
    "z.item()"
   ]
  },
  {
   "cell_type": "code",
   "execution_count": 50,
   "id": "35d01540-57e5-4c3d-9670-38cebcc53558",
   "metadata": {},
   "outputs": [
    {
     "data": {
      "text/plain": [
       "0.9495513437783747"
      ]
     },
     "execution_count": 50,
     "metadata": {},
     "output_type": "execute_result"
    }
   ],
   "source": [
    "X_test[0]"
   ]
  },
  {
   "cell_type": "markdown",
   "id": "567fcc23-5f4c-4ee7-92be-174bace11970",
   "metadata": {},
   "source": [
    "Save for now:"
   ]
  },
  {
   "cell_type": "code",
   "execution_count": 24,
   "id": "861d30c5-3123-4724-b955-31fdd466cf67",
   "metadata": {},
   "outputs": [],
   "source": [
    "T.save(sRNN_model, \"Torch_sRNN_2207201842\")"
   ]
  },
  {
   "cell_type": "markdown",
   "id": "b7e01d77-54cb-464e-9f5f-90853aca7c5a",
   "metadata": {},
   "source": [
    "##### Validation\n",
    "\n",
    "An improved version of what I did in Keras. "
   ]
  },
  {
   "cell_type": "code",
   "execution_count": 55,
   "id": "deb28ed7-e673-48e9-887c-5c224a4ca641",
   "metadata": {},
   "outputs": [],
   "source": [
    "with T.no_grad():\n",
    "    \n",
    "    # Ini. validation forecast tensor\n",
    "    Y_hat = T.empty(size = (len(X_test),))\n",
    "\n",
    "    # Get input tensor for i=0\n",
    "    i=0\n",
    "    input_data_i = T.tensor(X_train[-n_x_lags:] , dtype = T.float64)\n",
    "    \n",
    "\n",
    "    # Compute Y_hat[0]\n",
    "    Y_hat[i] = sRNN_model(input_data_i.reshape(1, n_x_lags))\n",
    "    \n",
    "    # Compute next len(X_train)-1 forecasts\n",
    "    for i in range(1, len(X_test)):\n",
    "\n",
    "        # Get input tensor\n",
    "        ### Shift previous entries of input by one\n",
    "        temp_tensor = T.clone(input_data_i[1:])\n",
    "        input_data_i[:n_x_lags-1] = temp_tensor\n",
    "        ### Add previous forecast to last entry of input_data_i\n",
    "        input_data_i[-1] = Y_hat[i-1]\n",
    "\n",
    "        # Compute forecast\n",
    "        Y_hat[i] = sRNN_model(input_data_i.reshape(1, n_x_lags))"
   ]
  },
  {
   "cell_type": "markdown",
   "id": "9303f6ab-2431-4a29-8cc1-95dc7a3350c1",
   "metadata": {},
   "source": [
    "Use inverse transform of *ts_scaler* (*MinMaxScaler()*) to plot the results:"
   ]
  },
  {
   "cell_type": "code",
   "execution_count": 60,
   "id": "84ee005c-1d74-4aee-af85-108bc65edf56",
   "metadata": {},
   "outputs": [],
   "source": [
    "# Re-Scaled Y_hat\n",
    "scY_hat = ts_scaler.inverse_transform(Y_hat.numpy().reshape(1,-1))[0,:]"
   ]
  },
  {
   "cell_type": "code",
   "execution_count": 61,
   "id": "6b162afc-e664-4bec-8497-f2b421169534",
   "metadata": {},
   "outputs": [
    {
     "data": {
      "image/png": "[encoded data removed]",
      "text/plain": [
       "<Figure size 864x576 with 1 Axes>"
      ]
     },
     "metadata": {
      "needs_background": "light"
     },
     "output_type": "display_data"
    }
   ],
   "source": [
    "# Plot test data vs predictions.\n",
    "s = t[-len(X_test):]\n",
    "plt.figure(figsize = (12,8))\n",
    "plt.plot(s,X_test_ini,'b', label='Test data')\n",
    "plt.plot(s,scY_hat,'r--', label='Predictions')\n",
    "plt.xlabel('t')\n",
    "plt.ylabel('f(t)')\n",
    "plt.title('RNN prediction results')\n",
    "plt.legend()\n",
    "plt.show()"
   ]
  },
  {
   "cell_type": "markdown",
   "id": "b6d4bd5b-c153-4fdb-99db-838a6323721f",
   "metadata": {},
   "source": [
    "___________________________________________________________________\n",
    "\n",
    "### 2.d - Out of sample forecasting"
   ]
  },
  {
   "cell_type": "markdown",
   "id": "952a6360-73e2-4a18-ae66-6f41d5bb72f0",
   "metadata": {},
   "source": [
    "For the RNN first. Let's forecast the next 25 points after the test data. We'll keep the same model, without retraining over the entire dataset (as an initial try)."
   ]
  },
  {
   "cell_type": "code",
   "execution_count": 65,
   "id": "561281a5-aefe-45ea-a742-48a82cbc1066",
   "metadata": {},
   "outputs": [],
   "source": [
    "with T.no_grad():\n",
    "    \n",
    "    # Forecast horizon\n",
    "    n_fhor = 50\n",
    "    \n",
    "    # Ini. validation forecast tensor\n",
    "    Z_hat = T.empty(size = (n_fhor,))\n",
    "\n",
    "    # Get input tensor for i=0\n",
    "    i=0\n",
    "    input_data_i = T.tensor(X_test, dtype = T.float64)\n",
    "    \n",
    "\n",
    "    # Compute Y_hat[0]\n",
    "    Z_hat[i] = sRNN_model(input_data_i.reshape(1, n_x_lags))\n",
    "    \n",
    "    # Compute next len(X_train)-1 forecasts\n",
    "    for i in range(1, n_fhor):\n",
    "\n",
    "        # Get input tensor\n",
    "        ### Shift previous entries of input by one\n",
    "        temp_tensor = T.clone(input_data_i[1:])\n",
    "        input_data_i[:n_x_lags-1] = temp_tensor\n",
    "        ### Add previous forecast to last entry of input_data_i\n",
    "        input_data_i[-1] = Z_hat[i-1]\n",
    "\n",
    "        # Compute forecast\n",
    "        Z_hat[i] = sRNN_model(input_data_i.reshape(1, n_x_lags))"
   ]
  },
  {
   "cell_type": "code",
   "execution_count": 66,
   "id": "71ab3615-8337-4e4f-8c74-ddb1386f2921",
   "metadata": {},
   "outputs": [],
   "source": [
    "# Re-Scaled Y_hat\n",
    "scZ_hat = ts_scaler.inverse_transform(Z_hat.numpy().reshape(1,-1))[0,:]"
   ]
  },
  {
   "cell_type": "code",
   "execution_count": 67,
   "id": "c03c44a4-8b6d-47cf-bf17-720085f96089",
   "metadata": {},
   "outputs": [
    {
     "data": {
      "image/png": "[encoded data removed]",
      "text/plain": [
       "<Figure size 864x576 with 1 Axes>"
      ]
     },
     "metadata": {
      "needs_background": "light"
     },
     "output_type": "display_data"
    }
   ],
   "source": [
    "# Plot original dataset and forecasts\n",
    "plt.figure(figsize = (12,8))\n",
    "plt.xlabel('t')\n",
    "plt.ylabel('f(t)')\n",
    "\n",
    "plt.plot(t,X_ini,'b', label='Data')\n",
    "\n",
    "# \n",
    "t_f = np.arange(start = t[-1]+0.1, stop = t[-1]+0.1*(n_fhor+1), step = 0.1)\n",
    "plt.plot(t_f,scZ_hat,'r', label='Predictions')\n",
    "\n",
    "plt.title('Data and out-of-sample forecasts')\n",
    "plt.legend()\n",
    "plt.show()"
   ]
  },
  {
   "cell_type": "code",
   "execution_count": null,
   "id": "a3f89bc8-9821-4a2c-bf6a-83de830fe299",
   "metadata": {},
   "outputs": [],
   "source": []
  },
  {
   "cell_type": "markdown",
   "id": "9aef84bf-ec4a-40d0-b649-19587ca6d12f",
   "metadata": {},
   "source": [
    "____________________________________\n",
    "\n",
    "## Attempt 1: RNN results with ADAM\n",
    "\n",
    "The optimization is pretty bad with ADAM. The results below are typical behavior for this optimizer when used with RNNS.\n",
    "(Import the classes TimeSeries() and sRNN(), as well as the scaled dataset.)"
   ]
  },
  {
   "cell_type": "code",
   "execution_count": 25,
   "id": "afe209a5-a8f9-4137-8757-23ef3018a6de",
   "metadata": {},
   "outputs": [
    {
     "name": "stderr",
     "output_type": "stream",
     "text": [
      "C:\\Users\\zaj20\\anaconda3\\envs\\DeepRL\\lib\\site-packages\\torch\\nn\\modules\\loss.py:529: UserWarning: Using a target size (torch.Size([1])) that is different to the input size (torch.Size([1, 1])). This will likely lead to incorrect results due to broadcasting. Please ensure they have the same size.\n",
      "  return F.mse_loss(input, target, reduction=self.reduction)\n"
     ]
    },
    {
     "name": "stdout",
     "output_type": "stream",
     "text": [
      "Epoch: 1; Loss: 0.06353839402287503.\n",
      "Epoch: 2; Loss: 0.0031656060308228318.\n",
      "Epoch: 3; Loss: 0.002765503164194921.\n",
      "Epoch: 4; Loss: 3.7700461739830753e-06.\n",
      "Epoch: 5; Loss: 0.17606254115033312.\n",
      "Training finished. Elapsed time = 0:00:04.042843\n"
     ]
    },
    {
     "data": {
      "text/plain": [
       "[<matplotlib.lines.Line2D at 0x1b625166880>]"
      ]
     },
     "execution_count": 25,
     "metadata": {},
     "output_type": "execute_result"
    },
    {
     "data": {
      "image/png": "[encoded data removed]",
      "text/plain": [
       "<Figure size 432x288 with 1 Axes>"
      ]
     },
     "metadata": {
      "needs_background": "light"
     },
     "output_type": "display_data"
    }
   ],
   "source": [
    "# Dataset\n",
    "D_ts = TimeSeries(time_series = X_train, n_x_lags = 50)\n",
    "\n",
    "# Loader\n",
    "RNN_loader = DataLoader(dataset = D_ts, batch_size = 1, shuffle = False)\n",
    "\n",
    "#############\n",
    "### Model ###\n",
    "#############\n",
    "\n",
    "n_x_lags = 50\n",
    "\n",
    "# Inst. model and set its weights to double precision\n",
    "sRNN_adam = sRNN(input_size = n_x_lags, hidden_size=n_x_lags, \\\n",
    "                  nonlinearity='tanh', output_size=1)\n",
    "sRNN_adam.double()\n",
    "\n",
    "# Loss function:\n",
    "sRNN_loss_adam = nn.MSELoss() # Note: MSELoss() requires T.float64 \n",
    "sRNN_loss_adam.double()\n",
    "\n",
    "# Optimizer:\n",
    "#optimizer = T.optim.Adam(params = sRNN_model.parameters(), lr = 0.001)\n",
    "optimizer_adam = T.optim.Adam(params = sRNN_adam.parameters(), lr = 0.001) # Gives better training than ADAM\n",
    "\n",
    "\n",
    "################\n",
    "### Training ###\n",
    "################\n",
    "\n",
    "# Initializations\n",
    "n_epochs = 5\n",
    "batch_size = 1\n",
    "\n",
    "# Timer init.\n",
    "train_begin_time = datetime.now()\n",
    "\n",
    "loss_hist = np.empty(shape = n_epochs)\n",
    "\n",
    "# Loop over epochs:\n",
    "for epoch in range(n_epochs):\n",
    "    \n",
    "    # Loop over batches\n",
    "    for i, (X_i, y_i) in enumerate(RNN_loader):\n",
    "        \n",
    "        # Predict y_hat_i labels and compute loss wrt y_i\n",
    "        y_hat_i = sRNN_adam(X_i) \n",
    "        loss = sRNN_loss_adam(y_hat_i, y_i).double() # Gives warning about computation errors without the .double()\n",
    "               \n",
    "        # Perform one optimization step\n",
    "        optimizer_adam.zero_grad()\n",
    "        loss.backward() \n",
    "        optimizer_adam.step()\n",
    "        \n",
    "    # END OF BATCH LOOP\n",
    "    loss_hist[epoch] = loss.item()\n",
    "    print(f\"Epoch: {epoch+1}; Loss: {loss.item()}.\")\n",
    "\n",
    "# END EPOCH LOOP\n",
    "\n",
    "print(f\"Training finished. Elapsed time = {datetime.now()-train_begin_time}\")\n",
    "\n",
    "# Plot losses\n",
    "plt.plot(np.arange(1,n_epochs+1), loss_hist)"
   ]
  }
 ],
 "metadata": {
  "kernelspec": {
   "display_name": "Python 3 (ipykernel)",
   "language": "python",
   "name": "python3"
  },
  "language_info": {
   "codemirror_mode": {
    "name": "ipython",
    "version": 3
   },
   "file_extension": ".py",
   "mimetype": "text/x-python",
   "name": "python",
   "nbconvert_exporter": "python",
   "pygments_lexer": "ipython3",
   "version": "3.8.13"
  }
 },
 "nbformat": 4,
 "nbformat_minor": 5
}
