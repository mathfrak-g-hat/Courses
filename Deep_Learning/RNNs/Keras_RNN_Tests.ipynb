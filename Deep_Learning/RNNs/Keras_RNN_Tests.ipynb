{
 "cells": [
  {
   "cell_type": "markdown",
   "metadata": {
    "id": "7LxA-ckhen12"
   },
   "source": [
    "# Keras RNN Tests\n",
    "### 2022/07/13, AJ Zerouali\n",
    "#### Updated: 22/07/19\n",
    "\n",
    "Loosely follows section 9 of Pierian Data's TF2/Keras Bootcamp. This notebook is to reproduce the lecture code in Keras, but I have a PyTorch implementation that I'm more interested in elsewhere."
   ]
  },
  {
   "cell_type": "code",
   "execution_count": null,
   "metadata": {
    "id": "elX02lhcejau"
   },
   "outputs": [],
   "source": []
  },
  {
   "cell_type": "markdown",
   "metadata": {
    "id": "rlunHGZWenKW"
   },
   "source": [
    "## A - RNN on synthetic data\n",
    "\n",
    "See lectures 80-84. \n",
    "\n",
    "### A.0 - Imports\n",
    "Basic imports:"
   ]
  },
  {
   "cell_type": "code",
   "execution_count": 1,
   "metadata": {
    "id": "OLqtgK82fFMO"
   },
   "outputs": [],
   "source": [
    "import numpy as np\n",
    "import pandas as pd\n",
    "import matplotlib.pyplot as plt\n",
    "from tensorflow import keras\n",
    "from datetime import datetime"
   ]
  },
  {
   "cell_type": "code",
   "execution_count": 2,
   "metadata": {
    "id": "q32-bsHHfleo"
   },
   "outputs": [],
   "source": [
    "%matplotlib inline"
   ]
  },
  {
   "cell_type": "markdown",
   "metadata": {
    "id": "z45lDxSROUDm"
   },
   "source": [
    "Data utilities imports:"
   ]
  },
  {
   "cell_type": "code",
   "execution_count": 3,
   "metadata": {
    "id": "FTBPFUtDfFHq"
   },
   "outputs": [],
   "source": [
    "# MinMax  scaler \n",
    "from sklearn.preprocessing import MinMaxScaler\n",
    "\n",
    "# Batch generator for RNN\n",
    "from tensorflow.keras.preprocessing.sequence import TimeseriesGenerator"
   ]
  },
  {
   "cell_type": "markdown",
   "metadata": {
    "id": "mNwMcZLvmdTH"
   },
   "source": [
    "Neural net layers imports:"
   ]
  },
  {
   "cell_type": "code",
   "execution_count": 4,
   "metadata": {
    "id": "NPEP3L0efFFH"
   },
   "outputs": [],
   "source": [
    "# Import Sequential\n",
    "from keras.models import Sequential\n",
    "\n",
    "# Import dense, simple RNN and LSTM layers\n",
    "from keras.layers import Dense, SimpleRNN, LSTM"
   ]
  },
  {
   "cell_type": "code",
   "execution_count": null,
   "metadata": {
    "id": "SBZ7OFpymFVM"
   },
   "outputs": [],
   "source": []
  },
  {
   "cell_type": "markdown",
   "metadata": {
    "id": "UrVYoc51Pm2d"
   },
   "source": [
    "### **A.1 -The TimeseriesGenerator class**\n",
    "\n"
   ]
  },
  {
   "cell_type": "markdown",
   "metadata": {
    "id": "LDmR56HWO3PP"
   },
   "source": [
    "I'm writing this disgression because I had a very hard time understanding why we're using this class and what it does, especially the arguments used. As it is usually the case with TF2/Keras official documentation, the descriptions are extremely vague, and Portilla doesn't explain the big picture behind his implementation here. I'm using the following reference(s):\n",
    "\n",
    "* A tutorial on the use of this TimeseriesGenerator: https://machinelearningmastery.com/how-to-use-the-timeseriesgenerator-for-time-series-forecasting-in-keras/.\n",
    "\n",
    "* The documentation is at this link:\n",
    "https://www.tensorflow.org/api_docs/python/tf/keras/preprocessing/sequence/TimeseriesGenerator. To quote their description: This class takes in a sequence of data-points gathered at equal intervals, along with time series parameters such as stride, length of history, etc., to produce batches for training/validation.\n",
    "\n",
    "For TimeseriesGenerator(), theres is the obvious ***data*** argument, then 3 important ones which are as follows, according to the documentation:\n",
    "\n",
    "* ***targets***: Targets corresponding to timesteps in data. It should have same length as data.\n",
    "* ***length***: Length of the output sequences (in number of timesteps).\n",
    "* ***batch_size***: Number of timeseries samples in each batch (except maybe the last one).\n",
    "\n",
    "In order to understand how this object is used, let us emphasize the ***importance of the encoding of our data*** prior to feeding it to a neural network.  As previously discussed, a good amount of care has to go into the creation of the input tensors, the number of pixels of images, as well as the dimensions/shapes/formats of the outputs as features are propagated through the layers of the network.\n",
    "\n",
    "For regular ANNs, the inputs are just vectors. For CNNs, the inputs are obviously batches of images. When dealing with RNNS however, there's an additional component to take into account: ***We are using sequences***, in the sense that our data is ordered in some way: The order of words in the case of NLP, and the time index in the case of time series. Furthermore, when dealing with RNNs, not only are we looking at sequences, but one of the fundamental assumptions is that we are dealing with some type of dynamical system. Note in particular that:\n",
    "\n",
    "* A first very important point: The idea of using this object is that we're trying to perform a supervised learning task. In this case, we think of time series as inputs and observations of a dynamical system, in the sense that we have input data $\\{x_t\\}_{t\\in I}$ along with output data $\\{y_t\\}_{t\\in I}$. Roughly speaking, we want to learn a *transition function* $f(\\cdot,\\theta)$, which gives us $y_t = f(x_t,\\theta)$ for all $t\\in I$.\n",
    "\n",
    "* A second important point to understand: By predictions given a series of inputs $\\{x_1,\\cdots,x_k\\}$, we mean the actual output $y_1$ (or a set/vector thereof). \n",
    "\n",
    "* Note that Keras has a dedicated class for sequential data: the ***tf.keras.utils.Sequence()*** class. The TimeseriesGenerator() is inherited from this Sequence() class. From what I can tell, the main use of this class is to create an iterable that takes into account the time ordering of the data (it's not a Python generator however).\n",
    "\n",
    "* In the synthetic data example, we want to predict the values $Y_t = x_t$ given the input $X_t = (x_{t-k},\\cdots,x_{t-1})$. This is why the *data* and *targets* arguments are the same in the construction of the generator object.\n",
    "\n",
    "Let's now return to the *length* and *batch_size* arguments. As usual, the ***batch_size*** argument is the *number of samples in one batch*. The confusion with time series is then how you define a sample.Obviously it's going to be a subset of consecutive values of the original time series. This brings us to the ***length*** of each of these samples, which we can define as the number of lag observations $k$ in the input $(x_t,\\cdots, x_{t+k})$ of each sample.\n",
    "\n"
   ]
  },
  {
   "cell_type": "markdown",
   "metadata": {},
   "source": [
    "**Example 1**:\n",
    "\n",
    "Here is a first example where we will take the data and targets to be the same in the TimeseriesGenerator(). First we generate the values of $x^2$ on $[0,50]$ with 501 values."
   ]
  },
  {
   "cell_type": "code",
   "execution_count": 5,
   "metadata": {
    "id": "UzMX3jODPxlQ"
   },
   "outputs": [],
   "source": [
    "a = np.linspace(start=0, stop = 50, num=501)"
   ]
  },
  {
   "cell_type": "code",
   "execution_count": 88,
   "metadata": {
    "id": "0lNQcU8EW830"
   },
   "outputs": [],
   "source": [
    "f_a =  (a**2)"
   ]
  },
  {
   "cell_type": "code",
   "execution_count": 89,
   "metadata": {
    "colab": {
     "base_uri": "https://localhost:8080/",
     "height": 282
    },
    "id": "UWbfkkQ0XMO0",
    "outputId": "b6f8af2b-5135-47fe-8a6a-3b36a4c2ab36"
   },
   "outputs": [
    {
     "data": {
      "text/plain": [
       "[<matplotlib.lines.Line2D at 0x189075410a0>]"
      ]
     },
     "execution_count": 89,
     "metadata": {},
     "output_type": "execute_result"
    },
    {
     "data": {
      "image/png": "[encoded data removed]",
      "text/plain": [
       "<Figure size 432x288 with 1 Axes>"
      ]
     },
     "metadata": {
      "needs_background": "light"
     },
     "output_type": "display_data"
    }
   ],
   "source": [
    "plt.plot(a,f_a)"
   ]
  },
  {
   "cell_type": "code",
   "execution_count": 90,
   "metadata": {},
   "outputs": [],
   "source": [
    "# The data\n",
    "fa_data = np.array([a,f_a])"
   ]
  },
  {
   "cell_type": "code",
   "execution_count": 91,
   "metadata": {},
   "outputs": [
    {
     "data": {
      "text/plain": [
       "(2, 501)"
      ]
     },
     "execution_count": 91,
     "metadata": {},
     "output_type": "execute_result"
    }
   ],
   "source": [
    "fa_data.shape"
   ]
  },
  {
   "cell_type": "markdown",
   "metadata": {},
   "source": [
    "Now we create a first generator with:\n",
    "\n",
    "            length = 50\n",
    "            batch_size = 1"
   ]
  },
  {
   "cell_type": "code",
   "execution_count": 111,
   "metadata": {},
   "outputs": [],
   "source": [
    "# Generator parameters:\n",
    "xlen_0 = 50\n",
    "batch_size_0 = 1\n",
    "generator_0 = TimeseriesGenerator(data = f_a, targets = f_a, length = ylen_0, batch_size = batch_size_0)"
   ]
  },
  {
   "cell_type": "markdown",
   "metadata": {},
   "source": [
    "Now take 2 batches, according to the index of the generator:"
   ]
  },
  {
   "cell_type": "code",
   "execution_count": 93,
   "metadata": {},
   "outputs": [],
   "source": [
    "X_0,y_0 = generator_0[0]"
   ]
  },
  {
   "cell_type": "code",
   "execution_count": 94,
   "metadata": {},
   "outputs": [],
   "source": [
    "X_5, y_5 = generator_0[5]"
   ]
  },
  {
   "cell_type": "markdown",
   "metadata": {},
   "source": [
    "Notice the shapes:"
   ]
  },
  {
   "cell_type": "code",
   "execution_count": 95,
   "metadata": {},
   "outputs": [
    {
     "data": {
      "text/plain": [
       "(1, 50)"
      ]
     },
     "execution_count": 95,
     "metadata": {},
     "output_type": "execute_result"
    }
   ],
   "source": [
    "X_0.shape"
   ]
  },
  {
   "cell_type": "code",
   "execution_count": 96,
   "metadata": {},
   "outputs": [
    {
     "data": {
      "text/plain": [
       "(1,)"
      ]
     },
     "execution_count": 96,
     "metadata": {},
     "output_type": "execute_result"
    }
   ],
   "source": [
    "y_0.shape"
   ]
  },
  {
   "cell_type": "markdown",
   "metadata": {},
   "source": [
    "For the batch of index i=0, note that:\n",
    "\n",
    "            X_0 = f_a[:50]\n",
    "            y_0 = f_a[50]"
   ]
  },
  {
   "cell_type": "code",
   "execution_count": 97,
   "metadata": {},
   "outputs": [
    {
     "data": {
      "text/plain": [
       "array([0.000e+00, 1.000e-02, 4.000e-02, 9.000e-02, 1.600e-01, 2.500e-01,\n",
       "       3.600e-01, 4.900e-01, 6.400e-01, 8.100e-01, 1.000e+00, 1.210e+00,\n",
       "       1.440e+00, 1.690e+00, 1.960e+00, 2.250e+00, 2.560e+00, 2.890e+00,\n",
       "       3.240e+00, 3.610e+00, 4.000e+00, 4.410e+00, 4.840e+00, 5.290e+00,\n",
       "       5.760e+00, 6.250e+00, 6.760e+00, 7.290e+00, 7.840e+00, 8.410e+00,\n",
       "       9.000e+00, 9.610e+00, 1.024e+01, 1.089e+01, 1.156e+01, 1.225e+01,\n",
       "       1.296e+01, 1.369e+01, 1.444e+01, 1.521e+01, 1.600e+01, 1.681e+01,\n",
       "       1.764e+01, 1.849e+01, 1.936e+01, 2.025e+01, 2.116e+01, 2.209e+01,\n",
       "       2.304e+01, 2.401e+01])"
      ]
     },
     "execution_count": 97,
     "metadata": {},
     "output_type": "execute_result"
    }
   ],
   "source": [
    "X_0[0]"
   ]
  },
  {
   "cell_type": "code",
   "execution_count": 98,
   "metadata": {},
   "outputs": [
    {
     "data": {
      "text/plain": [
       "array([25.])"
      ]
     },
     "execution_count": 98,
     "metadata": {},
     "output_type": "execute_result"
    }
   ],
   "source": [
    "y_0"
   ]
  },
  {
   "cell_type": "code",
   "execution_count": 99,
   "metadata": {},
   "outputs": [
    {
     "data": {
      "text/plain": [
       "array([[ True,  True,  True,  True,  True,  True,  True,  True,  True,\n",
       "         True,  True,  True,  True,  True,  True,  True,  True,  True,\n",
       "         True,  True,  True,  True,  True,  True,  True,  True,  True,\n",
       "         True,  True,  True,  True,  True,  True,  True,  True,  True,\n",
       "         True,  True,  True,  True,  True,  True,  True,  True,  True,\n",
       "         True,  True,  True,  True,  True]])"
      ]
     },
     "execution_count": 99,
     "metadata": {},
     "output_type": "execute_result"
    }
   ],
   "source": [
    "np.equal(f_a[0:50], X_0)"
   ]
  },
  {
   "cell_type": "code",
   "execution_count": 100,
   "metadata": {},
   "outputs": [
    {
     "data": {
      "text/plain": [
       "array([ True])"
      ]
     },
     "execution_count": 100,
     "metadata": {},
     "output_type": "execute_result"
    }
   ],
   "source": [
    "np.equal(y_0,f_a[50])"
   ]
  },
  {
   "cell_type": "markdown",
   "metadata": {},
   "source": [
    "Now we look at the second batch with index i = 5, for which:\n",
    "            \n",
    "            X_5 = f_a[5:5+50]\n",
    "            y_5 = f_a[5+50]"
   ]
  },
  {
   "cell_type": "code",
   "execution_count": 110,
   "metadata": {},
   "outputs": [
    {
     "name": "stdout",
     "output_type": "stream",
     "text": [
      "np.equal(f_a[5:55],X_5)=[[ True  True  True  True  True  True  True  True  True  True  True  True\n",
      "   True  True  True  True  True  True  True  True  True  True  True  True\n",
      "   True  True  True  True  True  True  True  True  True  True  True  True\n",
      "   True  True  True  True  True  True  True  True  True  True  True  True\n",
      "   True  True]]\n",
      "np.equal(f_a[55],y_5)=[ True]\n"
     ]
    }
   ],
   "source": [
    "print(f\"np.equal(f_a[5:55],X_5)={np.equal(f_a[5:55],X_5)}\")\n",
    "print(f\"np.equal(f_a[55],y_5)={np.equal(f_a[55],y_5)}\")"
   ]
  },
  {
   "cell_type": "markdown",
   "metadata": {},
   "source": [
    "Indeed:"
   ]
  },
  {
   "cell_type": "code",
   "execution_count": 101,
   "metadata": {},
   "outputs": [],
   "source": [
    "i=5"
   ]
  },
  {
   "cell_type": "code",
   "execution_count": 102,
   "metadata": {},
   "outputs": [
    {
     "data": {
      "text/plain": [
       "array([[ 0.25,  0.36,  0.49,  0.64,  0.81,  1.  ,  1.21,  1.44,  1.69,\n",
       "         1.96,  2.25,  2.56,  2.89,  3.24,  3.61,  4.  ,  4.41,  4.84,\n",
       "         5.29,  5.76,  6.25,  6.76,  7.29,  7.84,  8.41,  9.  ,  9.61,\n",
       "        10.24, 10.89, 11.56, 12.25, 12.96, 13.69, 14.44, 15.21, 16.  ,\n",
       "        16.81, 17.64, 18.49, 19.36, 20.25, 21.16, 22.09, 23.04, 24.01,\n",
       "        25.  , 26.01, 27.04, 28.09, 29.16]])"
      ]
     },
     "execution_count": 102,
     "metadata": {},
     "output_type": "execute_result"
    }
   ],
   "source": [
    "X_5"
   ]
  },
  {
   "cell_type": "code",
   "execution_count": 103,
   "metadata": {},
   "outputs": [
    {
     "data": {
      "text/plain": [
       "array([30.25])"
      ]
     },
     "execution_count": 103,
     "metadata": {},
     "output_type": "execute_result"
    }
   ],
   "source": [
    "y_5"
   ]
  },
  {
   "cell_type": "code",
   "execution_count": 112,
   "metadata": {},
   "outputs": [
    {
     "data": {
      "text/plain": [
       "array([ 0.25,  0.36,  0.49,  0.64,  0.81,  1.  ,  1.21,  1.44,  1.69,\n",
       "        1.96,  2.25,  2.56,  2.89,  3.24,  3.61,  4.  ,  4.41,  4.84,\n",
       "        5.29,  5.76,  6.25,  6.76,  7.29,  7.84,  8.41,  9.  ,  9.61,\n",
       "       10.24, 10.89, 11.56, 12.25, 12.96, 13.69, 14.44, 15.21, 16.  ,\n",
       "       16.81, 17.64, 18.49, 19.36, 20.25, 21.16, 22.09, 23.04, 24.01,\n",
       "       25.  , 26.01, 27.04, 28.09, 29.16])"
      ]
     },
     "execution_count": 112,
     "metadata": {},
     "output_type": "execute_result"
    }
   ],
   "source": [
    "f_a[i:i+xlen_0]"
   ]
  },
  {
   "cell_type": "code",
   "execution_count": 113,
   "metadata": {},
   "outputs": [
    {
     "data": {
      "text/plain": [
       "30.25"
      ]
     },
     "execution_count": 113,
     "metadata": {},
     "output_type": "execute_result"
    }
   ],
   "source": [
    "f_a[i+xlen_0]"
   ]
  },
  {
   "cell_type": "markdown",
   "metadata": {},
   "source": [
    "Finally, note the length of the generator:"
   ]
  },
  {
   "cell_type": "code",
   "execution_count": 115,
   "metadata": {},
   "outputs": [
    {
     "data": {
      "text/plain": [
       "451"
      ]
     },
     "execution_count": 115,
     "metadata": {},
     "output_type": "execute_result"
    }
   ],
   "source": [
    "len(generator_0)"
   ]
  },
  {
   "cell_type": "markdown",
   "metadata": {},
   "source": [
    "In symbols, we have:        \n",
    "\n",
    "            f_a[i:i+xlen_0] = generator_0[i][0],\n",
    "            f_a[i+xlen_0] = generator_0[i][0].     \n",
    "Letting $\\left(f_a[i])\\right)_{i=0,\\cdots ,N}$ denote our data vector *f_a*, starting from the index $T$ = *ylen_0* of the data (here $T=50$, $N=501$), the call:\n",
    "\n",
    "        generator_0 = TimeseriesGenerator(f_a,f_a, length = 50, batch_size = 1)\n",
    "\n",
    "takes all the values $(f_a[T+1],\\cdots,f_a[N])$ as ***output values of the 50 previous lags, for each point*** $f_a[i]$ with $i=T,\\cdots,N$, where the ***input*** for $y_i = f_a[i]$ is $(x_{i-T},\\cdots,x_{i-1})=f_a[i-T,\\cdots,i-1]$. Now note that here, we have $(N-T)$ batches in total, since we set each sample to be a an entire batch.\n",
    "\n",
    "Suppose we now take 10 samples in each batch, and make a new time series generator, *generator_1*. The iterator *generator_1* is essentially the set of batches, in the sense that the *i*-th batch is *generator_1[i]* (I think it's simply a set of pointers, and when you call the object it returns the corresponding values in memory).\n",
    "            "
   ]
  },
  {
   "cell_type": "code",
   "execution_count": 150,
   "metadata": {
    "id": "WWvShCA4Pxiv"
   },
   "outputs": [],
   "source": [
    "# A second generator\n",
    "xlen_1 = 50 # Length of output sequences\n",
    "batch_size_1 = 10\n",
    "generator_1 = TimeseriesGenerator(data = f_a, targets = f_a, length = xlen_1, batch_size = batch_size_1)"
   ]
  },
  {
   "cell_type": "markdown",
   "metadata": {},
   "source": [
    "Since we look *batch_size*=10, we expect 451/10 ~= 46 batches:"
   ]
  },
  {
   "cell_type": "code",
   "execution_count": 151,
   "metadata": {
    "id": "2cpEYvVIPxgt"
   },
   "outputs": [
    {
     "data": {
      "text/plain": [
       "46"
      ]
     },
     "execution_count": 151,
     "metadata": {},
     "output_type": "execute_result"
    }
   ],
   "source": [
    "len(generator_1)"
   ]
  },
  {
   "cell_type": "markdown",
   "metadata": {},
   "source": [
    "To understand how our values $\\{f_a[i]\\}$ are organized in this case, let's look at the 5th batch in our generator:"
   ]
  },
  {
   "cell_type": "code",
   "execution_count": 161,
   "metadata": {},
   "outputs": [],
   "source": [
    "m=10\n",
    "i=5\n",
    "X,y = generator_1[i-1]"
   ]
  },
  {
   "cell_type": "markdown",
   "metadata": {},
   "source": [
    "Let $T=50$ and $N=451$ as before, and let $m=10$ be our batch size. For i=5, the $y$ values of this batch should be $(y_{40},\\cdots,y_{49})$ (last index is $(i\\cdot m-1)$), which correspond to $(f_a[40+T],\\cdots, f_a[49+T])$:"
   ]
  },
  {
   "cell_type": "code",
   "execution_count": 165,
   "metadata": {},
   "outputs": [
    {
     "data": {
      "text/plain": [
       "array([ True,  True,  True,  True,  True,  True,  True,  True,  True,\n",
       "        True])"
      ]
     },
     "execution_count": 165,
     "metadata": {},
     "output_type": "execute_result"
    }
   ],
   "source": [
    "# np.equal(y,f_a[90:99])\n",
    "np.equal(y,f_a[(i-1)*m+xlen_1:i*m+xlen_1])"
   ]
  },
  {
   "cell_type": "markdown",
   "metadata": {},
   "source": [
    "Now let's look at the second (j=2) value of this batch, namely $y_{41}=f_a[91]$. The corresponding sequence of $x$ values is $(f_a[41],\\cdots, f_a[90])$"
   ]
  },
  {
   "cell_type": "code",
   "execution_count": 173,
   "metadata": {},
   "outputs": [
    {
     "data": {
      "text/plain": [
       "array([ True,  True,  True,  True,  True,  True,  True,  True,  True,\n",
       "        True,  True,  True,  True,  True,  True,  True,  True,  True,\n",
       "        True,  True,  True,  True,  True,  True,  True,  True,  True,\n",
       "        True,  True,  True,  True,  True,  True,  True,  True,  True,\n",
       "        True,  True,  True,  True,  True,  True,  True,  True,  True,\n",
       "        True,  True,  True,  True,  True])"
      ]
     },
     "execution_count": 173,
     "metadata": {},
     "output_type": "execute_result"
    }
   ],
   "source": [
    "j=2\n",
    "np.equal(X[1], f_a[41:91])\n"
   ]
  },
  {
   "cell_type": "markdown",
   "metadata": {},
   "source": [
    "Lastly, note that in the 46-th batch, we only have one value of $y$:"
   ]
  },
  {
   "cell_type": "code",
   "execution_count": 174,
   "metadata": {},
   "outputs": [
    {
     "data": {
      "text/plain": [
       "(array([[2025.  , 2034.01, 2043.04, 2052.09, 2061.16, 2070.25, 2079.36,\n",
       "         2088.49, 2097.64, 2106.81, 2116.  , 2125.21, 2134.44, 2143.69,\n",
       "         2152.96, 2162.25, 2171.56, 2180.89, 2190.24, 2199.61, 2209.  ,\n",
       "         2218.41, 2227.84, 2237.29, 2246.76, 2256.25, 2265.76, 2275.29,\n",
       "         2284.84, 2294.41, 2304.  , 2313.61, 2323.24, 2332.89, 2342.56,\n",
       "         2352.25, 2361.96, 2371.69, 2381.44, 2391.21, 2401.  , 2410.81,\n",
       "         2420.64, 2430.49, 2440.36, 2450.25, 2460.16, 2470.09, 2480.04,\n",
       "         2490.01]]),\n",
       " array([2500.]))"
      ]
     },
     "execution_count": 174,
     "metadata": {},
     "output_type": "execute_result"
    }
   ],
   "source": [
    "generator_1[46-1]"
   ]
  },
  {
   "cell_type": "code",
   "execution_count": null,
   "metadata": {},
   "outputs": [],
   "source": []
  },
  {
   "cell_type": "code",
   "execution_count": null,
   "metadata": {},
   "outputs": [],
   "source": []
  },
  {
   "cell_type": "markdown",
   "metadata": {
    "id": "28WWVQ98kN18"
   },
   "source": [
    "**Summary**:\n",
    "\n",
    "To summarize, the purpose of the *TimeseriesGenerator()* class is to create an iterable sequence, where each element is a batch. Since we are considering state-space models of time series, we want our batches to be of the form $\\{(x^{(1)}_i,\\cdots,x^{(T)}_i,y_i)\\}_{i=1}^{n_{\\text{batches}}}$. When calling this class, the *data* argument corresponds to the time series of inputs $\\{x_t\\}=\\{x^(t')_i\\}$, the *targets* argument corresponds to the outputs $\\{y_t\\}$. The *batch_size* argument corresponds to the number of values of $y_t$ in each batch, and finally, the *length* argument corresponds to the number of lags of $x$'s that $y_t$ is a function of.\n",
    "\n",
    "Given these arguments, the generator then organizes the $y_t$'s in \"chronological\" order in each batch (as many as *batch_size*), and for each output value, takes the corresponding number *length* of values of $x_t$. When training an RNN with the Sequential.fit() method in Keras, one then passes this generator as the data argument, which avoids writing a routine to organize the batches and the input/output arrays."
   ]
  },
  {
   "cell_type": "code",
   "execution_count": null,
   "metadata": {},
   "outputs": [],
   "source": []
  },
  {
   "cell_type": "code",
   "execution_count": null,
   "metadata": {},
   "outputs": [],
   "source": []
  },
  {
   "cell_type": "markdown",
   "metadata": {
    "id": "VwTnYnLdf3YO"
   },
   "source": [
    "### A.2 - Synthetic Data"
   ]
  },
  {
   "cell_type": "code",
   "execution_count": 6,
   "metadata": {
    "colab": {
     "base_uri": "https://localhost:8080/",
     "height": 282
    },
    "id": "31mqujNafiNY",
    "outputId": "6cef06ee-b845-44e2-fc42-0ab6ad062e1f",
    "tags": []
   },
   "outputs": [
    {
     "data": {
      "text/plain": [
       "[<matplotlib.lines.Line2D at 0x1d2a99cc5b0>]"
      ]
     },
     "execution_count": 6,
     "metadata": {},
     "output_type": "execute_result"
    },
    {
     "data": {
      "image/png": "[encoded data removed]",
      "text/plain": [
       "<Figure size 432x288 with 1 Axes>"
      ]
     },
     "metadata": {
      "needs_background": "light"
     },
     "output_type": "display_data"
    }
   ],
   "source": [
    " # Generate synthetic data\n",
    "t = np.linspace(start=0, stop=50, num=501)\n",
    "X_t = np.sin(t)\n",
    "plt.plot(t,X_t)"
   ]
  },
  {
   "cell_type": "code",
   "execution_count": 7,
   "metadata": {
    "id": "c1gJBcDQfiLU"
   },
   "outputs": [],
   "source": [
    "# DataFrame\n",
    "df_X = pd.DataFrame(data =X_t, index= t , columns = ['Sine'])\n",
    "\n",
    "# Test percentage and index\n",
    "test_data_percentage = 0.1\n",
    "test_data_idx = len(df_X)-int(len(df_X)*test_data_percentage)\n",
    "\n",
    "# Train-test split\n",
    "df_X_train = df_X.iloc[:test_data_idx]\n",
    "df_X_test = df_X.iloc[test_data_idx:]"
   ]
  },
  {
   "cell_type": "code",
   "execution_count": 8,
   "metadata": {
    "colab": {
     "base_uri": "https://localhost:8080/",
     "height": 424
    },
    "id": "cZr2n-BxfiIo",
    "outputId": "696fbd07-4887-46c9-cd59-ec0aeb229190"
   },
   "outputs": [
    {
     "data": {
      "text/html": [
       "<div>\n",
       "<style scoped>\n",
       "    .dataframe tbody tr th:only-of-type {\n",
       "        vertical-align: middle;\n",
       "    }\n",
       "\n",
       "    .dataframe tbody tr th {\n",
       "        vertical-align: top;\n",
       "    }\n",
       "\n",
       "    .dataframe thead th {\n",
       "        text-align: right;\n",
       "    }\n",
       "</style>\n",
       "<table border=\"1\" class=\"dataframe\">\n",
       "  <thead>\n",
       "    <tr style=\"text-align: right;\">\n",
       "      <th></th>\n",
       "      <th>Sine</th>\n",
       "    </tr>\n",
       "  </thead>\n",
       "  <tbody>\n",
       "    <tr>\n",
       "      <th>0.0</th>\n",
       "      <td>0.000000</td>\n",
       "    </tr>\n",
       "    <tr>\n",
       "      <th>0.1</th>\n",
       "      <td>0.099833</td>\n",
       "    </tr>\n",
       "    <tr>\n",
       "      <th>0.2</th>\n",
       "      <td>0.198669</td>\n",
       "    </tr>\n",
       "    <tr>\n",
       "      <th>0.3</th>\n",
       "      <td>0.295520</td>\n",
       "    </tr>\n",
       "    <tr>\n",
       "      <th>0.4</th>\n",
       "      <td>0.389418</td>\n",
       "    </tr>\n",
       "    <tr>\n",
       "      <th>...</th>\n",
       "      <td>...</td>\n",
       "    </tr>\n",
       "    <tr>\n",
       "      <th>44.6</th>\n",
       "      <td>0.579164</td>\n",
       "    </tr>\n",
       "    <tr>\n",
       "      <th>44.7</th>\n",
       "      <td>0.657656</td>\n",
       "    </tr>\n",
       "    <tr>\n",
       "      <th>44.8</th>\n",
       "      <td>0.729577</td>\n",
       "    </tr>\n",
       "    <tr>\n",
       "      <th>44.9</th>\n",
       "      <td>0.794208</td>\n",
       "    </tr>\n",
       "    <tr>\n",
       "      <th>45.0</th>\n",
       "      <td>0.850904</td>\n",
       "    </tr>\n",
       "  </tbody>\n",
       "</table>\n",
       "<p>451 rows × 1 columns</p>\n",
       "</div>"
      ],
      "text/plain": [
       "          Sine\n",
       "0.0   0.000000\n",
       "0.1   0.099833\n",
       "0.2   0.198669\n",
       "0.3   0.295520\n",
       "0.4   0.389418\n",
       "...        ...\n",
       "44.6  0.579164\n",
       "44.7  0.657656\n",
       "44.8  0.729577\n",
       "44.9  0.794208\n",
       "45.0  0.850904\n",
       "\n",
       "[451 rows x 1 columns]"
      ]
     },
     "execution_count": 8,
     "metadata": {},
     "output_type": "execute_result"
    }
   ],
   "source": [
    "df_X_train"
   ]
  },
  {
   "cell_type": "markdown",
   "metadata": {
    "id": "7gpFRt4hgVe9"
   },
   "source": [
    "Some data pre-processing now. Instantiate and fit a MinMaxScaler:"
   ]
  },
  {
   "cell_type": "code",
   "execution_count": 9,
   "metadata": {
    "colab": {
     "base_uri": "https://localhost:8080/"
    },
    "id": "SkYp8Jz7fiGE",
    "outputId": "306469ab-b893-4698-9ad4-fd33ec76415e"
   },
   "outputs": [
    {
     "data": {
      "text/plain": [
       "MinMaxScaler()"
      ]
     },
     "execution_count": 9,
     "metadata": {},
     "output_type": "execute_result"
    }
   ],
   "source": [
    "# Inst. scaler\n",
    "data_scaler = MinMaxScaler()\n",
    "\n",
    "# Fit to training data\n",
    "data_scaler.fit(df_X_train)"
   ]
  },
  {
   "cell_type": "markdown",
   "metadata": {
    "id": "XyBtSluqjcMz"
   },
   "source": [
    "Transforming the data now, note that we're obtaining np arrays instead of DataFrames:"
   ]
  },
  {
   "cell_type": "code",
   "execution_count": 10,
   "metadata": {
    "id": "rDiAWiKmfiDe"
   },
   "outputs": [],
   "source": [
    "# Scale training and test sets\n",
    "X_train_ = data_scaler.transform(df_X_train)\n",
    "X_test_ = data_scaler.transform(df_X_test)"
   ]
  },
  {
   "cell_type": "code",
   "execution_count": 11,
   "metadata": {
    "colab": {
     "base_uri": "https://localhost:8080/"
    },
    "id": "R2gkqJ4pgUmo",
    "outputId": "2c17da7b-59f8-405b-dc8d-6c7dac98ef48"
   },
   "outputs": [
    {
     "data": {
      "text/plain": [
       "(451, 1)"
      ]
     },
     "execution_count": 11,
     "metadata": {},
     "output_type": "execute_result"
    }
   ],
   "source": [
    "X_train_.shape"
   ]
  },
  {
   "cell_type": "code",
   "execution_count": 12,
   "metadata": {
    "colab": {
     "base_uri": "https://localhost:8080/"
    },
    "id": "0L2iuQjaOimH",
    "outputId": "0e2456f6-1605-426f-e770-64026d3db9e7"
   },
   "outputs": [
    {
     "data": {
      "text/plain": [
       "(50, 1)"
      ]
     },
     "execution_count": 12,
     "metadata": {},
     "output_type": "execute_result"
    }
   ],
   "source": [
    "X_test_.shape"
   ]
  },
  {
   "cell_type": "markdown",
   "metadata": {
    "id": "ZM3B44SYjsqc"
   },
   "source": [
    "### Time series generator\n",
    "\n",
    "We want our model to learn a transition function $f(\\cdot\\ ;\\theta)$ such that:\n",
    "\n",
    "$$ x_{(t+T)} = y_t = f(x_t,\\cdots,x_{t+T-1};\\theta).$$\n",
    "\n",
    "We will instantiate a generator that will produce $x_t$ values as outputs of the time series itself. In particular, we will take batches of size 1, and 50 lags of the time series, i.e. $T=50$ in the equation above.\n",
    "\n"
   ]
  },
  {
   "cell_type": "code",
   "execution_count": 13,
   "metadata": {
    "id": "4qqZ7R_Lj2lU"
   },
   "outputs": [],
   "source": [
    "# Generator parameters:\n",
    "n_x_lags = 50\n",
    "y_batch_size = 1"
   ]
  },
  {
   "cell_type": "code",
   "execution_count": 14,
   "metadata": {
    "id": "vTjQTkIFjvRf"
   },
   "outputs": [],
   "source": [
    "TSGen = TimeseriesGenerator(data = X_train_, targets = X_train_, length = n_x_lags, batch_size = y_batch_size)"
   ]
  },
  {
   "cell_type": "code",
   "execution_count": 19,
   "metadata": {
    "colab": {
     "base_uri": "https://localhost:8080/"
    },
    "collapsed": true,
    "id": "3qPZMRlEkOBD",
    "jupyter": {
     "outputs_hidden": true
    },
    "outputId": "f1c7070e-e2d0-4dc2-bf0d-75afe78fa467",
    "tags": []
   },
   "outputs": [
    {
     "name": "stdout",
     "output_type": "stream",
     "text": [
      "Help on class TimeseriesGenerator in module keras.preprocessing.sequence:\n",
      "\n",
      "class TimeseriesGenerator(keras_preprocessing.sequence.TimeseriesGenerator, keras.utils.data_utils.Sequence)\n",
      " |  TimeseriesGenerator(data, targets, length, sampling_rate=1, stride=1, start_index=0, end_index=None, shuffle=False, reverse=False, batch_size=128)\n",
      " |  \n",
      " |  Utility class for generating batches of temporal data.\n",
      " |  \n",
      " |  This class takes in a sequence of data-points gathered at\n",
      " |  equal intervals, along with time series parameters such as\n",
      " |  stride, length of history, etc., to produce batches for\n",
      " |  training/validation.\n",
      " |  # Arguments\n",
      " |      data: Indexable generator (such as list or Numpy array)\n",
      " |          containing consecutive data points (timesteps).\n",
      " |          The data should be at 2D, and axis 0 is expected\n",
      " |          to be the time dimension.\n",
      " |      targets: Targets corresponding to timesteps in `data`.\n",
      " |          It should have same length as `data`.\n",
      " |      length: Length of the output sequences (in number of timesteps).\n",
      " |      sampling_rate: Period between successive individual timesteps\n",
      " |          within sequences. For rate `r`, timesteps\n",
      " |          `data[i]`, `data[i-r]`, ... `data[i - length]`\n",
      " |          are used for create a sample sequence.\n",
      " |      stride: Period between successive output sequences.\n",
      " |          For stride `s`, consecutive output samples would\n",
      " |          be centered around `data[i]`, `data[i+s]`, `data[i+2*s]`, etc.\n",
      " |      start_index: Data points earlier than `start_index` will not be used\n",
      " |          in the output sequences. This is useful to reserve part of the\n",
      " |          data for test or validation.\n",
      " |      end_index: Data points later than `end_index` will not be used\n",
      " |          in the output sequences. This is useful to reserve part of the\n",
      " |          data for test or validation.\n",
      " |      shuffle: Whether to shuffle output samples,\n",
      " |          or instead draw them in chronological order.\n",
      " |      reverse: Boolean: if `true`, timesteps in each output sample will be\n",
      " |          in reverse chronological order.\n",
      " |      batch_size: Number of timeseries samples in each batch\n",
      " |          (except maybe the last one).\n",
      " |  # Returns\n",
      " |      A [Sequence](https://www.tensorflow.org/api_docs/python/tf/keras/utils/Sequence) instance.\n",
      " |  # Examples\n",
      " |  ```python\n",
      " |  from keras.preprocessing.sequence import TimeseriesGenerator\n",
      " |  import numpy as np\n",
      " |  data = np.array([[i] for i in range(50)])\n",
      " |  targets = np.array([[i] for i in range(50)])\n",
      " |  data_gen = TimeseriesGenerator(data, targets,\n",
      " |                                 length=10, sampling_rate=2,\n",
      " |                                 batch_size=2)\n",
      " |  assert len(data_gen) == 20\n",
      " |  batch_0 = data_gen[0]\n",
      " |  x, y = batch_0\n",
      " |  assert np.array_equal(x,\n",
      " |                        np.array([[[0], [2], [4], [6], [8]],\n",
      " |                                  [[1], [3], [5], [7], [9]]]))\n",
      " |  assert np.array_equal(y,\n",
      " |                        np.array([[10], [11]]))\n",
      " |  ```\n",
      " |  \n",
      " |  Method resolution order:\n",
      " |      TimeseriesGenerator\n",
      " |      keras_preprocessing.sequence.TimeseriesGenerator\n",
      " |      keras.utils.data_utils.Sequence\n",
      " |      builtins.object\n",
      " |  \n",
      " |  Methods inherited from keras_preprocessing.sequence.TimeseriesGenerator:\n",
      " |  \n",
      " |  __getitem__(self, index)\n",
      " |  \n",
      " |  __init__(self, data, targets, length, sampling_rate=1, stride=1, start_index=0, end_index=None, shuffle=False, reverse=False, batch_size=128)\n",
      " |      Initialize self.  See help(type(self)) for accurate signature.\n",
      " |  \n",
      " |  __len__(self)\n",
      " |  \n",
      " |  get_config(self)\n",
      " |      Returns the TimeseriesGenerator configuration as Python dictionary.\n",
      " |      \n",
      " |      # Returns\n",
      " |          A Python dictionary with the TimeseriesGenerator configuration.\n",
      " |  \n",
      " |  to_json(self, **kwargs)\n",
      " |      Returns a JSON string containing the timeseries generator\n",
      " |      configuration. To load a generator from a JSON string, use\n",
      " |      `keras.preprocessing.sequence.timeseries_generator_from_json(json_string)`.\n",
      " |      \n",
      " |      # Arguments\n",
      " |          **kwargs: Additional keyword arguments\n",
      " |              to be passed to `json.dumps()`.\n",
      " |      \n",
      " |      # Returns\n",
      " |          A JSON string containing the tokenizer configuration.\n",
      " |  \n",
      " |  ----------------------------------------------------------------------\n",
      " |  Data descriptors inherited from keras_preprocessing.sequence.TimeseriesGenerator:\n",
      " |  \n",
      " |  __dict__\n",
      " |      dictionary for instance variables (if defined)\n",
      " |  \n",
      " |  __weakref__\n",
      " |      list of weak references to the object (if defined)\n",
      " |  \n",
      " |  ----------------------------------------------------------------------\n",
      " |  Methods inherited from keras.utils.data_utils.Sequence:\n",
      " |  \n",
      " |  __iter__(self)\n",
      " |      Create a generator that iterate over the Sequence.\n",
      " |  \n",
      " |  on_epoch_end(self)\n",
      " |      Method called at the end of every epoch.\n",
      "\n"
     ]
    }
   ],
   "source": [
    "help(TimeseriesGenerator)"
   ]
  },
  {
   "cell_type": "markdown",
   "metadata": {},
   "source": [
    "Since we took 451 points to be inputs $x_t$ in our training data, taking $T=50$ lags will give us 401 output samples  $y_t$:"
   ]
  },
  {
   "cell_type": "code",
   "execution_count": 15,
   "metadata": {
    "id": "E0ALpwZwOwUJ"
   },
   "outputs": [
    {
     "data": {
      "text/plain": [
       "401"
      ]
     },
     "execution_count": 15,
     "metadata": {},
     "output_type": "execute_result"
    }
   ],
   "source": [
    "len(TSGen)"
   ]
  },
  {
   "cell_type": "code",
   "execution_count": 16,
   "metadata": {},
   "outputs": [
    {
     "data": {
      "text/plain": [
       "451"
      ]
     },
     "execution_count": 16,
     "metadata": {},
     "output_type": "execute_result"
    }
   ],
   "source": [
    "len(X_train_)"
   ]
  },
  {
   "cell_type": "markdown",
   "metadata": {},
   "source": [
    "As explained in the previous section, the generator simply reorganizes our data:"
   ]
  },
  {
   "cell_type": "code",
   "execution_count": 17,
   "metadata": {
    "id": "0afaWxBUkN-L"
   },
   "outputs": [],
   "source": [
    "X,y = TSGen[0]"
   ]
  },
  {
   "cell_type": "code",
   "execution_count": 18,
   "metadata": {},
   "outputs": [
    {
     "name": "stdout",
     "output_type": "stream",
     "text": [
      "np.equal(y,X_train_[50])=[ True]\n",
      "np.array_equal(X[0],X_train_[0:50])=True\n"
     ]
    }
   ],
   "source": [
    "print(f\"np.equal(y,X_train_[50])={np.equal(y[0],X_train_[50])}\")\n",
    "print(f\"np.array_equal(X[0],X_train_[0:50])={np.array_equal(X[0],X_train_[0:50])}\")"
   ]
  },
  {
   "cell_type": "markdown",
   "metadata": {
    "id": "TG4TP5bGh7Ht"
   },
   "source": [
    "### A.3 - Model construction\n",
    "\n",
    "As we would expect, the crucial object in our model is the (simple) RNN unit, implemented in Keras as *SimpleRNN()*.\n",
    "Links to docs:\n",
    "\n",
    "* TF2 docs on *SimpleRNN()*: https://www.tensorflow.org/api_docs/python/tf/keras/layers/SimpleRNN.\n",
    "* Keras - Working with RNNs: https://keras.io/guides/working_with_rnns/.\n",
    "\n",
    "The arguments we need to specify for our RNN unit are:\n",
    "\n",
    "* ***units***: Number of neurons in the RNN unit, here we'll take 2x*n_x_lags*.\n",
    "* ***input_shape***: Will be (*n_x_lags*, *n_features*), where *n_features* is the number of features used to predict the output. Since we're predicting $y$ from only one \"feature\" $x$, we take *n_features*=1.\n",
    "\n",
    "**Comments/Questions:** \n",
    "1) The *input_shape* is not in the docs. Way to go Google Brain.\n",
    "2) There's a confusing point here: Keras' docs say that the RNN number of units is the dimension of the output, but Portilla takes it to be twice the number of $x$ lags. He only says that the no. of neurons should be ***correlated*** to the number of lags.\n",
    "3) The input shape is also problematic to me: I think Portilla means *n_features*=1 because we're looking at $y$. This is bad..."
   ]
  },
  {
   "cell_type": "code",
   "execution_count": 19,
   "metadata": {
    "id": "IuoRD1zkgUrf"
   },
   "outputs": [],
   "source": [
    "# No of features and generator batch shape\n",
    "n_x_lags = 50\n",
    "y_batch_size = 1\n",
    "n_features = 1\n",
    "\n",
    "# Inst. Sequential\n",
    "sRNN_model = Sequential()\n",
    "\n",
    "# Add layers\n",
    "sRNN_model.add(SimpleRNN(units = n_x_lags, input_shape = (n_x_lags, n_features)))\n",
    "sRNN_model.add(Dense(units = 1))\n",
    "\n",
    "# Compile\n",
    "sRNN_model.compile(optimizer = \"adam\", loss = \"mse\")"
   ]
  },
  {
   "cell_type": "markdown",
   "metadata": {
    "id": "TaAFsB3GuRVi"
   },
   "source": [
    "Here's a summary of the model. Note the high no. of parameters with 1 RNN layer and one dense layer:"
   ]
  },
  {
   "cell_type": "code",
   "execution_count": 20,
   "metadata": {
    "colab": {
     "base_uri": "https://localhost:8080/"
    },
    "id": "mElSpf7muX1D",
    "outputId": "fd8ae5b5-fa29-4bc4-904b-c02c26229a25"
   },
   "outputs": [
    {
     "name": "stdout",
     "output_type": "stream",
     "text": [
      "Model: \"sequential\"\n",
      "_________________________________________________________________\n",
      " Layer (type)                Output Shape              Param #   \n",
      "=================================================================\n",
      " simple_rnn (SimpleRNN)      (None, 50)                2600      \n",
      "                                                                 \n",
      " dense (Dense)               (None, 1)                 51        \n",
      "                                                                 \n",
      "=================================================================\n",
      "Total params: 2,651\n",
      "Trainable params: 2,651\n",
      "Non-trainable params: 0\n",
      "_________________________________________________________________\n"
     ]
    }
   ],
   "source": [
    "sRNN_model.summary()"
   ]
  },
  {
   "cell_type": "markdown",
   "metadata": {
    "id": "Wm-HaNeAueEq"
   },
   "source": [
    "**Question:** Where does 2600 come from? **Answer:** 2600 = *n_units*^2+*n_features*.*n_units* + *n_units*. See https://stackoverflow.com/questions/50134334/number-of-parameters-for-keras-simplernn."
   ]
  },
  {
   "cell_type": "markdown",
   "metadata": {
    "id": "2EknZsY5uMNm"
   },
   "source": [
    "### Training\n",
    "\n",
    "**Lecture 83:** Portilla uses *fit_generator()* instead of *fit()*. However, ss of TF2.9.1, *fit_generator()* has been deprecated and *fit()* now accepts generators.\n"
   ]
  },
  {
   "cell_type": "code",
   "execution_count": 21,
   "metadata": {
    "colab": {
     "base_uri": "https://localhost:8080/"
    },
    "id": "LUPdivTUuKg0",
    "outputId": "d7a1e3ad-cdaa-4469-99e1-3000603df062"
   },
   "outputs": [
    {
     "name": "stdout",
     "output_type": "stream",
     "text": [
      "Epoch 1/5\n",
      "401/401 [==============================] - 4s 7ms/step - loss: 0.0068\n",
      "Epoch 2/5\n",
      "401/401 [==============================] - 3s 7ms/step - loss: 1.1019e-04\n",
      "Epoch 3/5\n",
      "401/401 [==============================] - 3s 7ms/step - loss: 3.7476e-04\n",
      "Epoch 4/5\n",
      "401/401 [==============================] - 3s 7ms/step - loss: 3.0720e-04\n",
      "Epoch 5/5\n",
      "401/401 [==============================] - 3s 7ms/step - loss: 6.6183e-06\n",
      "Training of sRNN_model finished\n",
      "Total time elapsed: 0:00:15.801424\n"
     ]
    }
   ],
   "source": [
    "time_0 = datetime.now()\n",
    "sRNN_model.fit(x = TSGen, epochs=5)\n",
    "print(f\"Training of sRNN_model finished\\nTotal time elapsed: {datetime.now()-time_0}\")"
   ]
  },
  {
   "cell_type": "markdown",
   "metadata": {
    "id": "lP2eHQnJwf0b"
   },
   "source": [
    "Plot the losses:"
   ]
  },
  {
   "cell_type": "code",
   "execution_count": 22,
   "metadata": {
    "id": "54zqjPqruKer"
   },
   "outputs": [],
   "source": [
    "sRNN_loss_hist = pd.DataFrame(sRNN_model.history.history)"
   ]
  },
  {
   "cell_type": "code",
   "execution_count": 23,
   "metadata": {
    "colab": {
     "base_uri": "https://localhost:8080/"
    },
    "id": "DC5bOOd4uKcM",
    "outputId": "ec7ea772-ce57-484b-930d-8020ee2a6c9c"
   },
   "outputs": [
    {
     "data": {
      "text/plain": [
       "Index(['loss'], dtype='object')"
      ]
     },
     "execution_count": 23,
     "metadata": {},
     "output_type": "execute_result"
    }
   ],
   "source": [
    "sRNN_loss_hist.columns"
   ]
  },
  {
   "cell_type": "code",
   "execution_count": 24,
   "metadata": {
    "colab": {
     "base_uri": "https://localhost:8080/",
     "height": 282
    },
    "id": "v6tflBbbuKZz",
    "outputId": "6ca0e999-fcbf-4465-d7c6-a8f9970e76e3"
   },
   "outputs": [
    {
     "data": {
      "text/plain": [
       "<matplotlib.axes._subplots.AxesSubplot at 0x1d2ac0628b0>"
      ]
     },
     "execution_count": 24,
     "metadata": {},
     "output_type": "execute_result"
    },
    {
     "data": {
      "image/png": "[encoded data removed]",
      "text/plain": [
       "<Figure size 432x288 with 1 Axes>"
      ]
     },
     "metadata": {
      "needs_background": "light"
     },
     "output_type": "display_data"
    }
   ],
   "source": [
    "sRNN_loss_hist.plot()"
   ]
  },
  {
   "cell_type": "markdown",
   "metadata": {
    "id": "OLCJNXTvuKXa"
   },
   "source": [
    "### A.4 - Predictions from trained model\n",
    "\n",
    "#### a) First batch\n",
    "We'll start with one test batch:"
   ]
  },
  {
   "cell_type": "code",
   "execution_count": 33,
   "metadata": {},
   "outputs": [],
   "source": [
    "# First test batch:\n",
    "test_batch_1 = X_train_[-n_x_lags:]"
   ]
  },
  {
   "cell_type": "code",
   "execution_count": 34,
   "metadata": {},
   "outputs": [
    {
     "name": "stdout",
     "output_type": "stream",
     "text": [
      "1/1 [==============================] - 0s 23ms/step\n",
      "Prediction on first test batch: y_hat_1=[[0.9520348]]\n"
     ]
    }
   ],
   "source": [
    "# compute the first prediction:\n",
    "y_hat_1 = sRNN_model.predict(x = test_batch_1.reshape(1,n_x_lags,n_features))\n",
    "print(f\"Prediction on first test batch: y_hat_1={y_hat_1}\")"
   ]
  },
  {
   "cell_type": "markdown",
   "metadata": {},
   "source": [
    "Check first entry of the test data:"
   ]
  },
  {
   "cell_type": "code",
   "execution_count": 35,
   "metadata": {},
   "outputs": [
    {
     "data": {
      "text/plain": [
       "array([0.94955134])"
      ]
     },
     "execution_count": 35,
     "metadata": {},
     "output_type": "execute_result"
    }
   ],
   "source": [
    "X_test_[0]"
   ]
  },
  {
   "cell_type": "markdown",
   "metadata": {},
   "source": [
    "#### b) Test set\n",
    "\n",
    "Now we will use our model to predict the next 50 values and comapre them to the test data set."
   ]
  },
  {
   "cell_type": "code",
   "execution_count": 85,
   "metadata": {},
   "outputs": [
    {
     "data": {
      "text/plain": [
       "(451, 1)"
      ]
     },
     "execution_count": 85,
     "metadata": {},
     "output_type": "execute_result"
    }
   ],
   "source": [
    "X_train_.shape"
   ]
  },
  {
   "cell_type": "code",
   "execution_count": null,
   "metadata": {},
   "outputs": [],
   "source": []
  },
  {
   "cell_type": "code",
   "execution_count": 98,
   "metadata": {},
   "outputs": [
    {
     "name": "stdout",
     "output_type": "stream",
     "text": [
      "1/1 [==============================] - 0s 33ms/step\n",
      "1/1 [==============================] - 0s 24ms/step\n",
      "1/1 [==============================] - 0s 23ms/step\n",
      "1/1 [==============================] - 0s 28ms/step\n",
      "1/1 [==============================] - 0s 19ms/step\n",
      "1/1 [==============================] - 0s 19ms/step\n",
      "1/1 [==============================] - 0s 20ms/step\n",
      "1/1 [==============================] - 0s 19ms/step\n",
      "1/1 [==============================] - 0s 21ms/step\n",
      "1/1 [==============================] - 0s 21ms/step\n",
      "1/1 [==============================] - 0s 19ms/step\n",
      "1/1 [==============================] - 0s 19ms/step\n",
      "1/1 [==============================] - 0s 21ms/step\n",
      "1/1 [==============================] - 0s 20ms/step\n",
      "1/1 [==============================] - 0s 23ms/step\n",
      "1/1 [==============================] - 0s 21ms/step\n",
      "1/1 [==============================] - 0s 20ms/step\n",
      "1/1 [==============================] - 0s 21ms/step\n",
      "1/1 [==============================] - 0s 27ms/step\n",
      "1/1 [==============================] - 0s 23ms/step\n",
      "1/1 [==============================] - 0s 23ms/step\n",
      "1/1 [==============================] - 0s 20ms/step\n",
      "1/1 [==============================] - 0s 23ms/step\n",
      "1/1 [==============================] - 0s 19ms/step\n",
      "1/1 [==============================] - 0s 23ms/step\n",
      "1/1 [==============================] - 0s 24ms/step\n",
      "1/1 [==============================] - 0s 23ms/step\n",
      "1/1 [==============================] - 0s 22ms/step\n",
      "1/1 [==============================] - 0s 22ms/step\n",
      "1/1 [==============================] - 0s 21ms/step\n",
      "1/1 [==============================] - 0s 22ms/step\n",
      "1/1 [==============================] - 0s 26ms/step\n",
      "1/1 [==============================] - 0s 30ms/step\n",
      "1/1 [==============================] - 0s 25ms/step\n",
      "1/1 [==============================] - 0s 23ms/step\n",
      "1/1 [==============================] - 0s 18ms/step\n",
      "1/1 [==============================] - 0s 23ms/step\n",
      "1/1 [==============================] - 0s 19ms/step\n",
      "1/1 [==============================] - 0s 20ms/step\n",
      "1/1 [==============================] - 0s 21ms/step\n",
      "1/1 [==============================] - 0s 24ms/step\n",
      "1/1 [==============================] - 0s 22ms/step\n",
      "1/1 [==============================] - 0s 28ms/step\n",
      "1/1 [==============================] - 0s 25ms/step\n",
      "1/1 [==============================] - 0s 27ms/step\n",
      "1/1 [==============================] - 0s 28ms/step\n",
      "1/1 [==============================] - 0s 25ms/step\n",
      "1/1 [==============================] - 0s 23ms/step\n",
      "1/1 [==============================] - 0s 29ms/step\n",
      "1/1 [==============================] - 0s 23ms/step\n"
     ]
    }
   ],
   "source": [
    "# Init forecast array\n",
    "Y_hat = np.empty(len(X_test_))\n",
    "\n",
    "# First forecast\n",
    "Y_hat[0] = sRNN_model.predict(X_train_[-n_x_lags:].reshape(1, n_x_lags, n_features))\n",
    "\n",
    "for i in range(1,len(X_test_)):\n",
    "    \n",
    "    input_values = np.concatenate([X_train_[-n_x_lags+i:,0], Y_hat[:i]],axis = 0) # Careful with the shape\n",
    "    y_hat = sRNN_model.predict(input_values.reshape(1, n_x_lags, n_features))\n",
    "    Y_hat[i]= y_hat\n",
    "    "
   ]
  },
  {
   "cell_type": "markdown",
   "metadata": {},
   "source": [
    "Note that we're forecasting using previous forecasts. As time goes by, the result deviates from the true values:"
   ]
  },
  {
   "cell_type": "code",
   "execution_count": 99,
   "metadata": {},
   "outputs": [
    {
     "data": {
      "image/png": "[encoded data removed]",
      "text/plain": [
       "<Figure size 864x576 with 1 Axes>"
      ]
     },
     "metadata": {
      "needs_background": "light"
     },
     "output_type": "display_data"
    }
   ],
   "source": [
    "s = t[-n_x_lags:]\n",
    "plt.figure(figsize=(12,8))\n",
    "plt.plot(s,X_test_[:,0],'b', label='Test data')\n",
    "plt.plot(s,Y_hat,'r--', label='Predictions')\n",
    "plt.xlabel('t')\n",
    "plt.ylabel('f(t)')\n",
    "plt.title('RNN prediction results')\n",
    "plt.legend()\n",
    "plt.show()"
   ]
  },
  {
   "cell_type": "markdown",
   "metadata": {},
   "source": [
    "## B - LSTM on synthetic data\n",
    "\n",
    "See lecture 84 of the course. Will continue by adding more functionalities. Portilla doesn't really discuss GRUs though.\n"
   ]
  },
  {
   "cell_type": "markdown",
   "metadata": {},
   "source": [
    "### B.1 - Prelims\n",
    "\n",
    "Make the imports"
   ]
  },
  {
   "cell_type": "code",
   "execution_count": 1,
   "metadata": {
    "id": "OLqtgK82fFMO"
   },
   "outputs": [],
   "source": [
    "import numpy as np\n",
    "import pandas as pd\n",
    "import matplotlib.pyplot as plt\n",
    "from tensorflow import keras\n",
    "from datetime import datetime"
   ]
  },
  {
   "cell_type": "code",
   "execution_count": 2,
   "metadata": {
    "id": "q32-bsHHfleo"
   },
   "outputs": [],
   "source": [
    "%matplotlib inline"
   ]
  },
  {
   "cell_type": "markdown",
   "metadata": {
    "id": "z45lDxSROUDm"
   },
   "source": [
    "Data utilities imports:"
   ]
  },
  {
   "cell_type": "code",
   "execution_count": 3,
   "metadata": {
    "id": "FTBPFUtDfFHq"
   },
   "outputs": [],
   "source": [
    "# MinMax  scaler \n",
    "from sklearn.preprocessing import MinMaxScaler\n",
    "\n",
    "# Batch generator for RNN\n",
    "from tensorflow.keras.preprocessing.sequence import TimeseriesGenerator"
   ]
  },
  {
   "cell_type": "markdown",
   "metadata": {
    "id": "mNwMcZLvmdTH"
   },
   "source": [
    "Neural net layers imports:"
   ]
  },
  {
   "cell_type": "code",
   "execution_count": 4,
   "metadata": {
    "id": "NPEP3L0efFFH"
   },
   "outputs": [],
   "source": [
    "# Imptensorflow.keras.utilsm keras.models import Sequential\n",
    "\n",
    "# Import dense, simple RNN and LSTM layers\n",
    "from keras.layers import Dense, SimpleRNN, LSTM\n",
    "\n",
    "# Earlystopping\n",
    "from keras.callbacks import EarlyStopping"
   ]
  },
  {
   "cell_type": "markdown",
   "metadata": {},
   "source": [
    "Generate the data:"
   ]
  },
  {
   "cell_type": "code",
   "execution_count": 5,
   "metadata": {
    "colab": {
     "base_uri": "https://localhost:8080/",
     "height": 282
    },
    "id": "31mqujNafiNY",
    "outputId": "6cef06ee-b845-44e2-fc42-0ab6ad062e1f",
    "tags": []
   },
   "outputs": [
    {
     "data": {
      "text/plain": [
       "[<matplotlib.lines.Line2D at 0x20b1105c5e0>]"
      ]
     },
     "execution_count": 5,
     "metadata": {},
     "output_type": "execute_result"
    },
    {
     "data": {
      "image/png": "[encoded data removed]",
      "text/plain": [
       "<Figure size 432x288 with 1 Axes>"
      ]
     },
     "metadata": {
      "needs_background": "light"
     },
     "output_type": "display_data"
    }
   ],
   "source": [
    " # Generate synthetic data\n",
    "t = np.linspace(start=0, stop=50, num=501)\n",
    "X_t = np.sin(t)\n",
    "plt.plot(t,X_t)"
   ]
  },
  {
   "cell_type": "markdown",
   "metadata": {},
   "source": [
    "Train/Test split:"
   ]
  },
  {
   "cell_type": "code",
   "execution_count": 6,
   "metadata": {
    "id": "c1gJBcDQfiLU"
   },
   "outputs": [],
   "source": [
    "# DataFrame\n",
    "df_X = pd.DataFrame(data =X_t, index= t , columns = ['Sine'])\n",
    "\n",
    "# Test percentage and index\n",
    "test_data_percentage = 0.1\n",
    "test_data_idx = len(df_X)-int(len(df_X)*test_data_percentage)\n",
    "\n",
    "# Train-test split\n",
    "df_X_train = df_X.iloc[:test_data_idx]\n",
    "df_X_test = df_X.iloc[test_data_idx:]"
   ]
  },
  {
   "cell_type": "code",
   "execution_count": 7,
   "metadata": {
    "colab": {
     "base_uri": "https://localhost:8080/",
     "height": 424
    },
    "id": "cZr2n-BxfiIo",
    "outputId": "696fbd07-4887-46c9-cd59-ec0aeb229190"
   },
   "outputs": [
    {
     "data": {
      "text/html": [
       "<div>\n",
       "<style scoped>\n",
       "    .dataframe tbody tr th:only-of-type {\n",
       "        vertical-align: middle;\n",
       "    }\n",
       "\n",
       "    .dataframe tbody tr th {\n",
       "        vertical-align: top;\n",
       "    }\n",
       "\n",
       "    .dataframe thead th {\n",
       "        text-align: right;\n",
       "    }\n",
       "</style>\n",
       "<table border=\"1\" class=\"dataframe\">\n",
       "  <thead>\n",
       "    <tr style=\"text-align: right;\">\n",
       "      <th></th>\n",
       "      <th>Sine</th>\n",
       "    </tr>\n",
       "  </thead>\n",
       "  <tbody>\n",
       "    <tr>\n",
       "      <th>0.0</th>\n",
       "      <td>0.000000</td>\n",
       "    </tr>\n",
       "    <tr>\n",
       "      <th>0.1</th>\n",
       "      <td>0.099833</td>\n",
       "    </tr>\n",
       "    <tr>\n",
       "      <th>0.2</th>\n",
       "      <td>0.198669</td>\n",
       "    </tr>\n",
       "    <tr>\n",
       "      <th>0.3</th>\n",
       "      <td>0.295520</td>\n",
       "    </tr>\n",
       "    <tr>\n",
       "      <th>0.4</th>\n",
       "      <td>0.389418</td>\n",
       "    </tr>\n",
       "    <tr>\n",
       "      <th>...</th>\n",
       "      <td>...</td>\n",
       "    </tr>\n",
       "    <tr>\n",
       "      <th>44.6</th>\n",
       "      <td>0.579164</td>\n",
       "    </tr>\n",
       "    <tr>\n",
       "      <th>44.7</th>\n",
       "      <td>0.657656</td>\n",
       "    </tr>\n",
       "    <tr>\n",
       "      <th>44.8</th>\n",
       "      <td>0.729577</td>\n",
       "    </tr>\n",
       "    <tr>\n",
       "      <th>44.9</th>\n",
       "      <td>0.794208</td>\n",
       "    </tr>\n",
       "    <tr>\n",
       "      <th>45.0</th>\n",
       "      <td>0.850904</td>\n",
       "    </tr>\n",
       "  </tbody>\n",
       "</table>\n",
       "<p>451 rows × 1 columns</p>\n",
       "</div>"
      ],
      "text/plain": [
       "          Sine\n",
       "0.0   0.000000\n",
       "0.1   0.099833\n",
       "0.2   0.198669\n",
       "0.3   0.295520\n",
       "0.4   0.389418\n",
       "...        ...\n",
       "44.6  0.579164\n",
       "44.7  0.657656\n",
       "44.8  0.729577\n",
       "44.9  0.794208\n",
       "45.0  0.850904\n",
       "\n",
       "[451 rows x 1 columns]"
      ]
     },
     "execution_count": 7,
     "metadata": {},
     "output_type": "execute_result"
    }
   ],
   "source": [
    "df_X_train"
   ]
  },
  {
   "cell_type": "markdown",
   "metadata": {
    "id": "7gpFRt4hgVe9"
   },
   "source": [
    "Scale the data:"
   ]
  },
  {
   "cell_type": "code",
   "execution_count": 8,
   "metadata": {
    "colab": {
     "base_uri": "https://localhost:8080/"
    },
    "id": "SkYp8Jz7fiGE",
    "outputId": "306469ab-b893-4698-9ad4-fd33ec76415e"
   },
   "outputs": [
    {
     "data": {
      "text/plain": [
       "MinMaxScaler()"
      ]
     },
     "execution_count": 8,
     "metadata": {},
     "output_type": "execute_result"
    }
   ],
   "source": [
    "# Inst. scaler\n",
    "data_scaler = MinMaxScaler()\n",
    "\n",
    "# Fit to training data\n",
    "data_scaler.fit(df_X_train)"
   ]
  },
  {
   "cell_type": "code",
   "execution_count": 9,
   "metadata": {
    "id": "rDiAWiKmfiDe"
   },
   "outputs": [],
   "source": [
    "# Scale training and test sets\n",
    "X_train_ = data_scaler.transform(df_X_train)\n",
    "X_test_ = data_scaler.transform(df_X_test)"
   ]
  },
  {
   "cell_type": "markdown",
   "metadata": {},
   "source": [
    "Next we make 2 data generators, one for training and one for validation. We will use then when training the neural net in B.2.2.\n",
    "\n",
    "**Comment:** Portilla changes (length) n_x_lags to 49."
   ]
  },
  {
   "cell_type": "code",
   "execution_count": 10,
   "metadata": {},
   "outputs": [],
   "source": [
    "# Shorten the number of lags in the model:\n",
    "n_x_lags = 49\n",
    "y_batch_size = 1\n",
    "\n",
    "# Training generator:\n",
    "TSGen_train = TimeseriesGenerator(data = X_train_, targets= X_train_, length=n_x_lags, batch_size=y_batch_size)\n",
    "\n",
    "# Validation generator\n",
    "TSGen_test = TimeseriesGenerator(data = X_test_, targets=X_test_, length=n_x_lags, batch_size=y_batch_size)"
   ]
  },
  {
   "cell_type": "markdown",
   "metadata": {},
   "source": [
    "### B.2 - LSTM\n",
    "\n",
    "We focus on a specific type of RNN now.\n",
    "\n",
    "#### B.2.1 - The model"
   ]
  },
  {
   "cell_type": "code",
   "execution_count": 34,
   "metadata": {},
   "outputs": [],
   "source": [
    "# Build LSTM mdoel\n",
    "n_features = 1\n",
    "LSTM_model = keras.models.Sequential()\n",
    "LSTM_model.add(LSTM(units = n_x_lags+1, input_shape = (n_x_lags, n_features)))\n",
    "LSTM_model.add(Dense(units = 1))\n",
    "LSTM_model.compile(optimizer = \"adam\", loss = \"mse\")\n",
    "\n",
    "# LSTM early stopping\n",
    "early_stop_LSTM = EarlyStopping(monitor = \"val_loss\", patience = 1)"
   ]
  },
  {
   "cell_type": "code",
   "execution_count": 35,
   "metadata": {},
   "outputs": [
    {
     "name": "stdout",
     "output_type": "stream",
     "text": [
      "Model: \"sequential_3\"\n",
      "_________________________________________________________________\n",
      " Layer (type)                Output Shape              Param #   \n",
      "=================================================================\n",
      " lstm_3 (LSTM)               (None, 50)                10400     \n",
      "                                                                 \n",
      " dense_3 (Dense)             (None, 1)                 51        \n",
      "                                                                 \n",
      "=================================================================\n",
      "Total params: 10,451\n",
      "Trainable params: 10,451\n",
      "Non-trainable params: 0\n",
      "_________________________________________________________________\n"
     ]
    }
   ],
   "source": [
    "LSTM_model.summary()"
   ]
  },
  {
   "cell_type": "markdown",
   "metadata": {},
   "source": [
    "Now train with the two generators and early stopping.\n",
    "\n",
    "**Question:** Why are these callbacks useful."
   ]
  },
  {
   "cell_type": "markdown",
   "metadata": {},
   "source": [
    "#### B.2.2 - Training with early stopping and validation data"
   ]
  },
  {
   "cell_type": "code",
   "execution_count": 36,
   "metadata": {},
   "outputs": [
    {
     "name": "stdout",
     "output_type": "stream",
     "text": [
      "Epoch 1/25\n",
      "402/402 [==============================] - 8s 15ms/step - loss: 0.0082 - val_loss: 5.1909e-05\n",
      "Epoch 2/25\n",
      "402/402 [==============================] - 6s 14ms/step - loss: 2.3701e-04 - val_loss: 1.9192e-06\n",
      "Epoch 3/25\n",
      "402/402 [==============================] - 5s 14ms/step - loss: 1.3473e-04 - val_loss: 4.0134e-06\n"
     ]
    },
    {
     "data": {
      "text/plain": [
       "<keras.callbacks.History at 0x20b1e56d190>"
      ]
     },
     "execution_count": 36,
     "metadata": {},
     "output_type": "execute_result"
    }
   ],
   "source": [
    "\n",
    "LSTM_model.fit(x = TSGen_train, epochs = 25,\\\n",
    "              validation_data=TSGen_test,\\\n",
    "              callbacks=[early_stop_LSTM])\n"
   ]
  },
  {
   "cell_type": "code",
   "execution_count": 28,
   "metadata": {},
   "outputs": [],
   "source": [
    "df_LSTM_hist = pd.DataFrame(LSTM_model.history.history)"
   ]
  },
  {
   "cell_type": "code",
   "execution_count": 37,
   "metadata": {},
   "outputs": [
    {
     "data": {
      "text/plain": [
       "<matplotlib.axes._subplots.AxesSubplot at 0x20b1ea73cd0>"
      ]
     },
     "execution_count": 37,
     "metadata": {},
     "output_type": "execute_result"
    },
    {
     "data": {
      "image/png": "[encoded data removed]",
      "text/plain": [
       "<Figure size 432x288 with 1 Axes>"
      ]
     },
     "metadata": {
      "needs_background": "light"
     },
     "output_type": "display_data"
    }
   ],
   "source": [
    "df_LSTM_hist[\"loss\"].plot()"
   ]
  },
  {
   "cell_type": "code",
   "execution_count": 38,
   "metadata": {},
   "outputs": [
    {
     "data": {
      "text/plain": [
       "<matplotlib.axes._subplots.AxesSubplot at 0x20b1ecced00>"
      ]
     },
     "execution_count": 38,
     "metadata": {},
     "output_type": "execute_result"
    },
    {
     "data": {
      "image/png": "[encoded data removed]",
      "text/plain": [
       "<Figure size 432x288 with 1 Axes>"
      ]
     },
     "metadata": {
      "needs_background": "light"
     },
     "output_type": "display_data"
    }
   ],
   "source": [
    "df_LSTM_hist[\"val_loss\"].plot()"
   ]
  },
  {
   "cell_type": "code",
   "execution_count": 41,
   "metadata": {},
   "outputs": [],
   "source": [
    "LSTM_model.save(\"SineData_LSTM_model_220719.h5\")\n",
    "# For future reference: LSTM_model = keras.models.load_model(\"SineData_LSTM_model_220719.h5\")"
   ]
  },
  {
   "cell_type": "markdown",
   "metadata": {},
   "source": [
    "**Comment:** The training of these LSTMs is very erratic. Each time I train the model above I get a different number of epochs, and it seems like I shouldn't be using early stopping for some reason. Some of the best results I got are by taking *patience* = 1 in the early stop object, and I saved that model to *SineData_LSTM_model.h5*\n",
    "\n",
    "Let's compute our forecasts now. We have to be careful with the input data that we will feed the LSTM, as well as with our approximations to *X_test_[0]* and *X_test_[50-1]*. Below, our looping index goes from 1 to *(n_x_lags-1)*."
   ]
  },
  {
   "cell_type": "markdown",
   "metadata": {},
   "source": [
    "#### B.2.3 - Validating the model with forecasts\n",
    "\n",
    "Here we use our trained model to predict the next 50 values of the time series, and compare the result to the testing data.\n",
    "\n",
    "**Comments:** \n",
    "1) Portilla calls these predictions, and uses the term forecasting for completely out-of-sample inputs.\n",
    "2) I've repeated this step several times to get good results. I obtained the best results with 3 epochs and a *patience* of 1, as opposed to Portilla's 6 epochs and *patience*=2 in the *early_stop*."
   ]
  },
  {
   "cell_type": "code",
   "execution_count": 39,
   "metadata": {},
   "outputs": [
    {
     "name": "stdout",
     "output_type": "stream",
     "text": [
      "1/1 [==============================] - 0s 465ms/step\n",
      "1/1 [==============================] - 0s 21ms/step\n",
      "1/1 [==============================] - 0s 25ms/step\n",
      "1/1 [==============================] - 0s 22ms/step\n",
      "1/1 [==============================] - 0s 21ms/step\n",
      "1/1 [==============================] - 0s 22ms/step\n",
      "1/1 [==============================] - 0s 22ms/step\n",
      "1/1 [==============================] - 0s 19ms/step\n",
      "1/1 [==============================] - 0s 27ms/step\n",
      "1/1 [==============================] - 0s 21ms/step\n",
      "1/1 [==============================] - 0s 18ms/step\n",
      "1/1 [==============================] - 0s 21ms/step\n",
      "1/1 [==============================] - 0s 23ms/step\n",
      "1/1 [==============================] - 0s 24ms/step\n",
      "1/1 [==============================] - 0s 20ms/step\n",
      "1/1 [==============================] - 0s 19ms/step\n",
      "1/1 [==============================] - 0s 22ms/step\n",
      "1/1 [==============================] - 0s 25ms/step\n",
      "1/1 [==============================] - 0s 28ms/step\n",
      "1/1 [==============================] - 0s 27ms/step\n",
      "1/1 [==============================] - 0s 23ms/step\n",
      "1/1 [==============================] - 0s 23ms/step\n",
      "1/1 [==============================] - 0s 21ms/step\n",
      "1/1 [==============================] - 0s 20ms/step\n",
      "1/1 [==============================] - 0s 21ms/step\n",
      "1/1 [==============================] - 0s 20ms/step\n",
      "1/1 [==============================] - 0s 20ms/step\n",
      "1/1 [==============================] - 0s 27ms/step\n",
      "1/1 [==============================] - 0s 19ms/step\n",
      "1/1 [==============================] - 0s 18ms/step\n",
      "1/1 [==============================] - 0s 23ms/step\n",
      "1/1 [==============================] - 0s 21ms/step\n",
      "1/1 [==============================] - 0s 22ms/step\n",
      "1/1 [==============================] - 0s 21ms/step\n",
      "1/1 [==============================] - 0s 20ms/step\n",
      "1/1 [==============================] - 0s 21ms/step\n",
      "1/1 [==============================] - 0s 24ms/step\n",
      "1/1 [==============================] - 0s 24ms/step\n",
      "1/1 [==============================] - 0s 30ms/step\n",
      "1/1 [==============================] - 0s 20ms/step\n",
      "1/1 [==============================] - 0s 31ms/step\n",
      "1/1 [==============================] - 0s 23ms/step\n",
      "1/1 [==============================] - 0s 21ms/step\n",
      "1/1 [==============================] - 0s 21ms/step\n",
      "1/1 [==============================] - 0s 25ms/step\n",
      "1/1 [==============================] - 0s 42ms/step\n",
      "1/1 [==============================] - 0s 26ms/step\n",
      "1/1 [==============================] - 0s 21ms/step\n",
      "1/1 [==============================] - 0s 21ms/step\n",
      "1/1 [==============================] - 0s 22ms/step\n"
     ]
    }
   ],
   "source": [
    "# Init forecast array\n",
    "Y_hat = np.empty(shape = len(X_test_))\n",
    "\n",
    "# Predict Y_hat[0]\n",
    "Y_hat[0]= LSTM_model.predict(x = X_train_[-n_x_lags:].reshape(1, n_x_lags, n_features), batch_size = 1)\n",
    "\n",
    "# Forecasting loop\n",
    "#for i in range(1,len(Y_hat)):\n",
    "for i in range(1, n_x_lags):\n",
    "    \n",
    "    # Make forecast input values array\n",
    "    input_values = np.concatenate([X_train_[len(X_train_)-n_x_lags+i:,0], Y_hat[:i]], axis =0)\n",
    "    \n",
    "    # Compute forecast with LSTM\n",
    "    y_hat = LSTM_model.predict(input_values.reshape(1, n_x_lags, n_features), batch_size = 1)\n",
    "    \n",
    "    # Add to array\n",
    "    Y_hat[i]=y_hat\n",
    "    \n",
    "# Last entry:\n",
    "Y_hat[-1] = LSTM_model.predict(Y_hat[:-1].reshape(1, n_x_lags, n_features), batch_size = 1)\n",
    "    "
   ]
  },
  {
   "cell_type": "code",
   "execution_count": 40,
   "metadata": {},
   "outputs": [
    {
     "data": {
      "image/png": "[encoded data removed]",
      "text/plain": [
       "<Figure size 864x576 with 1 Axes>"
      ]
     },
     "metadata": {
      "needs_background": "light"
     },
     "output_type": "display_data"
    }
   ],
   "source": [
    "s = t[-len(X_test_):]\n",
    "plt.figure(figsize = (12,8))\n",
    "plt.plot(s,X_test_[:,0],'b', label='Test data')\n",
    "plt.plot(s,Y_hat,'r--', label='Predictions')\n",
    "plt.xlabel('t')\n",
    "plt.ylabel('f(t)')\n",
    "plt.title('LSTM prediction results')\n",
    "plt.legend()\n",
    "plt.show()"
   ]
  },
  {
   "cell_type": "markdown",
   "metadata": {},
   "source": [
    "Finally, we plot the non rescaled data. Let's arrange everything into a dataframe."
   ]
  },
  {
   "cell_type": "code",
   "execution_count": 42,
   "metadata": {},
   "outputs": [
    {
     "data": {
      "text/plain": [
       "<matplotlib.axes._subplots.AxesSubplot at 0x20b1ed07af0>"
      ]
     },
     "execution_count": 42,
     "metadata": {},
     "output_type": "execute_result"
    },
    {
     "data": {
      "image/png": "[encoded data removed]",
      "text/plain": [
       "<Figure size 864x576 with 1 Axes>"
      ]
     },
     "metadata": {
      "needs_background": "light"
     },
     "output_type": "display_data"
    }
   ],
   "source": [
    "# Rescale predictions\n",
    "X_pred = data_scaler.inverse_transform(Y_hat.reshape(-1,1))[:,0]\n",
    "\n",
    "# Create new data frame with predictions\n",
    "df_test_ = pd.DataFrame.copy(df_X_test)\n",
    "df_test_['LSTM Pred.'] = X_pred\n",
    "\n",
    "# Plot final result\n",
    "df_test_.plot(figsize = (12,8))"
   ]
  },
  {
   "cell_type": "markdown",
   "metadata": {},
   "source": [
    "#### B.2.4 - Out-of-sample forecasting\n",
    "\n",
    "In Portilla's lectures, the next step is what he calls forecasting, by making out-of-sample predictions for the next 25 points. To briefly summarize what we did before:\n",
    "\n",
    "1) We split our data (501 values) into training (451 vals) and testing (50 vals) subsets.\n",
    "2) We train our model on the training data and use the testing data for validation.\n",
    "3) We then use the LSTM to predict the 50 timesteps after the training data, and compared these forecasts to the test data.\n",
    "4) We repeat (2) until the results in (3) are satisfying.\n",
    "\n",
    "Now we start over from scratch:\n",
    "1) We will scale our entire dataset of 501 points.\n",
    "2) We will train an LSTM on the entirety of the dataset.\n",
    "3) We will predict the next 25 values of our time series. This time we won't compare them to known values.\n",
    "\n",
    "**Comment:** Shouldn't we be doing this with our previous weights?\n"
   ]
  },
  {
   "cell_type": "code",
   "execution_count": 46,
   "metadata": {},
   "outputs": [],
   "source": [
    "# Init. and train scaler:\n",
    "fdata_scaler = MinMaxScaler()\n",
    "fdata_scaler.fit(df_X)\n",
    "\n",
    "# Produce scaled dataset\n",
    "X_ = fdata_scaler.transform(df_X)"
   ]
  },
  {
   "cell_type": "code",
   "execution_count": 47,
   "metadata": {},
   "outputs": [
    {
     "data": {
      "text/plain": [
       "(501, 1)"
      ]
     },
     "execution_count": 47,
     "metadata": {},
     "output_type": "execute_result"
    }
   ],
   "source": [
    "X_.shape"
   ]
  },
  {
   "cell_type": "code",
   "execution_count": 48,
   "metadata": {},
   "outputs": [],
   "source": [
    "# Input/output data\n",
    "n_features =1\n",
    "n_x_lags =50\n",
    "y_batch_size = 1\n",
    "\n",
    "# Make the TimeseriesGenerator() for training\n",
    "fTSGen = TimeseriesGenerator(data= X_, targets = X_, length = n_x_lags, batch_size=y_batch_size)"
   ]
  },
  {
   "cell_type": "code",
   "execution_count": 49,
   "metadata": {},
   "outputs": [],
   "source": [
    "# Model\n",
    "fLSTM_model = keras.models.Sequential(layers = [LSTM(units = 50, input_shape = (n_x_lags, n_features)),\\\n",
    "                                                Dense(units = 1)])\n",
    "fLSTM_model.compile(optimizer=\"adam\", loss = \"mse\")"
   ]
  },
  {
   "cell_type": "code",
   "execution_count": 51,
   "metadata": {},
   "outputs": [
    {
     "name": "stdout",
     "output_type": "stream",
     "text": [
      "Epoch 1/5\n",
      "451/451 [==============================] - 6s 14ms/step - loss: 2.4494e-05\n",
      "Epoch 2/5\n",
      "451/451 [==============================] - 6s 14ms/step - loss: 9.9601e-05\n",
      "Epoch 3/5\n",
      "451/451 [==============================] - 6s 14ms/step - loss: 7.6486e-05\n",
      "Epoch 4/5\n",
      "451/451 [==============================] - 6s 14ms/step - loss: 9.1644e-05\n",
      "Epoch 5/5\n",
      "451/451 [==============================] - 6s 14ms/step - loss: 2.3416e-05\n"
     ]
    },
    {
     "data": {
      "text/plain": [
       "<keras.callbacks.History at 0x20b23f67d90>"
      ]
     },
     "execution_count": 51,
     "metadata": {},
     "output_type": "execute_result"
    }
   ],
   "source": [
    "# Training:\n",
    "fLSTM_model.fit(x = fTSGen, epochs = 5)"
   ]
  },
  {
   "cell_type": "markdown",
   "metadata": {},
   "source": [
    "Now we predict the 25 values. Recall we constructed our synthetic data with:\n",
    "\n",
    "        t = np.linspace(start=0, stop=50, num=501)\n",
    "        X_t = np.sin(t)\n",
    "        \n"
   ]
  },
  {
   "cell_type": "code",
   "execution_count": 61,
   "metadata": {},
   "outputs": [],
   "source": [
    "# forecasting horizon\n",
    "n_fhor = 25\n",
    "\n",
    "# For plotting later\n",
    "t_f = np.arange(start = t[-1]+0.1, stop = t[-1]+0.1*(n_fhor+1), step = 0.1)\n",
    "\n",
    "# Predictions vector\n",
    "Z_hat = np.empty(n_fhor)"
   ]
  },
  {
   "cell_type": "code",
   "execution_count": 76,
   "metadata": {},
   "outputs": [
    {
     "name": "stdout",
     "output_type": "stream",
     "text": [
      "1/1 [==============================] - 0s 22ms/step\n",
      "1/1 [==============================] - 0s 26ms/step\n",
      "1/1 [==============================] - 0s 20ms/step\n",
      "1/1 [==============================] - 0s 25ms/step\n",
      "1/1 [==============================] - 0s 28ms/step\n",
      "1/1 [==============================] - 0s 24ms/step\n",
      "1/1 [==============================] - 0s 23ms/step\n",
      "1/1 [==============================] - 0s 28ms/step\n",
      "1/1 [==============================] - 0s 24ms/step\n",
      "1/1 [==============================] - 0s 25ms/step\n",
      "1/1 [==============================] - 0s 22ms/step\n",
      "1/1 [==============================] - 0s 23ms/step\n",
      "1/1 [==============================] - 0s 22ms/step\n",
      "1/1 [==============================] - 0s 22ms/step\n",
      "1/1 [==============================] - 0s 21ms/step\n",
      "1/1 [==============================] - 0s 24ms/step\n",
      "1/1 [==============================] - 0s 21ms/step\n",
      "1/1 [==============================] - 0s 29ms/step\n",
      "1/1 [==============================] - 0s 21ms/step\n",
      "1/1 [==============================] - 0s 27ms/step\n",
      "1/1 [==============================] - 0s 26ms/step\n",
      "1/1 [==============================] - 0s 20ms/step\n",
      "1/1 [==============================] - 0s 22ms/step\n",
      "1/1 [==============================] - 0s 20ms/step\n",
      "1/1 [==============================] - 0s 19ms/step\n"
     ]
    }
   ],
   "source": [
    "# Compute Z_hat[0]\n",
    "Z_hat[0] = fLSTM_model.predict(x = X_[-n_x_lags:].reshape(y_batch_size, n_x_lags, n_features), batch_size=y_batch_size)[0]\n",
    "\n",
    "# \n",
    "N_X = len(X_)\n",
    "\n",
    "for i in range(1,n_fhor):\n",
    "    \n",
    "    # Input data\n",
    "    input_data = np.concatenate([X_[N_X-n_x_lags+i:N_X,0], Z_hat[:i]], axis = 0)\n",
    "    \n",
    "    # Compute prediction\n",
    "    Z_hat[i]= fLSTM_model.predict(x = input_data.reshape(y_batch_size, n_x_lags, n_features), batch_size = y_batch_size)\n",
    "    \n"
   ]
  },
  {
   "cell_type": "code",
   "execution_count": 80,
   "metadata": {},
   "outputs": [],
   "source": [
    "# Rescale the forecasts\n",
    "Z_hat_sc = fdata_scaler.inverse_transform(Z_hat.reshape(-1,1))[:,0]"
   ]
  },
  {
   "cell_type": "markdown",
   "metadata": {},
   "source": [
    "Now we plot everything"
   ]
  },
  {
   "cell_type": "code",
   "execution_count": 82,
   "metadata": {},
   "outputs": [
    {
     "data": {
      "image/png": "[encoded data removed]",
      "text/plain": [
       "<Figure size 864x576 with 1 Axes>"
      ]
     },
     "metadata": {
      "needs_background": "light"
     },
     "output_type": "display_data"
    }
   ],
   "source": [
    "plt.figure(figsize = (12,8))\n",
    "plt.xlabel(\"t\")\n",
    "plt.ylabel(\"f(t)\")\n",
    "\n",
    "plt.plot(t,X_t,'b', label='Data')\n",
    "plt.plot(t_f,Z_hat_sc,'r', label='Forecast')\n",
    "\n",
    "\n",
    "plt.title('Sine fn and LSTM forecasts')\n",
    "plt.legend()\n",
    "plt.show()"
   ]
  },
  {
   "cell_type": "code",
   "execution_count": null,
   "metadata": {},
   "outputs": [],
   "source": []
  },
  {
   "cell_type": "code",
   "execution_count": null,
   "metadata": {},
   "outputs": [],
   "source": []
  },
  {
   "cell_type": "code",
   "execution_count": null,
   "metadata": {},
   "outputs": [],
   "source": []
  },
  {
   "cell_type": "code",
   "execution_count": null,
   "metadata": {},
   "outputs": [],
   "source": []
  },
  {
   "cell_type": "code",
   "execution_count": null,
   "metadata": {},
   "outputs": [],
   "source": []
  },
  {
   "cell_type": "code",
   "execution_count": null,
   "metadata": {},
   "outputs": [],
   "source": []
  },
  {
   "cell_type": "markdown",
   "metadata": {},
   "source": [
    "___________________________________________________________________________"
   ]
  },
  {
   "cell_type": "markdown",
   "metadata": {},
   "source": [
    "#### **Appendix: Incorrect Forecast**\n",
    "\n",
    "Here I did something that is incorrect. "
   ]
  },
  {
   "cell_type": "code",
   "execution_count": 36,
   "metadata": {},
   "outputs": [],
   "source": [
    "Y_hat = np.empty(len(X_test_))"
   ]
  },
  {
   "cell_type": "code",
   "execution_count": 55,
   "metadata": {},
   "outputs": [],
   "source": [
    "X = np.concatenate([X_train_[-n_x_lags:], X_test_], axis = 0)"
   ]
  },
  {
   "cell_type": "code",
   "execution_count": 57,
   "metadata": {},
   "outputs": [
    {
     "name": "stdout",
     "output_type": "stream",
     "text": [
      "1/1 [==============================] - 0s 36ms/step\n",
      "1/1 [==============================] - 0s 21ms/step\n",
      "1/1 [==============================] - 0s 20ms/step\n",
      "1/1 [==============================] - 0s 19ms/step\n",
      "1/1 [==============================] - 0s 24ms/step\n",
      "1/1 [==============================] - 0s 20ms/step\n",
      "1/1 [==============================] - 0s 21ms/step\n",
      "1/1 [==============================] - 0s 21ms/step\n",
      "1/1 [==============================] - 0s 20ms/step\n",
      "1/1 [==============================] - 0s 19ms/step\n",
      "1/1 [==============================] - 0s 19ms/step\n",
      "1/1 [==============================] - 0s 23ms/step\n",
      "1/1 [==============================] - 0s 25ms/step\n",
      "1/1 [==============================] - 0s 19ms/step\n",
      "1/1 [==============================] - 0s 20ms/step\n",
      "1/1 [==============================] - 0s 18ms/step\n",
      "1/1 [==============================] - 0s 20ms/step\n",
      "1/1 [==============================] - 0s 21ms/step\n",
      "1/1 [==============================] - 0s 19ms/step\n",
      "1/1 [==============================] - 0s 20ms/step\n",
      "1/1 [==============================] - 0s 21ms/step\n",
      "1/1 [==============================] - 0s 21ms/step\n",
      "1/1 [==============================] - 0s 21ms/step\n",
      "1/1 [==============================] - 0s 27ms/step\n",
      "1/1 [==============================] - 0s 24ms/step\n",
      "1/1 [==============================] - 0s 24ms/step\n",
      "1/1 [==============================] - 0s 26ms/step\n",
      "1/1 [==============================] - 0s 27ms/step\n",
      "1/1 [==============================] - 0s 24ms/step\n",
      "1/1 [==============================] - 0s 20ms/step\n",
      "1/1 [==============================] - 0s 20ms/step\n",
      "1/1 [==============================] - 0s 21ms/step\n",
      "1/1 [==============================] - 0s 19ms/step\n",
      "1/1 [==============================] - 0s 19ms/step\n",
      "1/1 [==============================] - 0s 20ms/step\n",
      "1/1 [==============================] - 0s 18ms/step\n",
      "1/1 [==============================] - 0s 19ms/step\n",
      "1/1 [==============================] - 0s 20ms/step\n",
      "1/1 [==============================] - 0s 20ms/step\n",
      "1/1 [==============================] - 0s 22ms/step\n",
      "1/1 [==============================] - 0s 22ms/step\n",
      "1/1 [==============================] - 0s 25ms/step\n",
      "1/1 [==============================] - 0s 27ms/step\n",
      "1/1 [==============================] - 0s 24ms/step\n",
      "1/1 [==============================] - 0s 27ms/step\n",
      "1/1 [==============================] - 0s 20ms/step\n",
      "1/1 [==============================] - 0s 19ms/step\n",
      "1/1 [==============================] - 0s 19ms/step\n",
      "1/1 [==============================] - 0s 21ms/step\n",
      "1/1 [==============================] - 0s 20ms/step\n"
     ]
    }
   ],
   "source": [
    "for i in range(len(Y_hat)):\n",
    "    test_batch = X[i:i+n_x_lags].reshape(1, n_x_lags, n_features)\n",
    "    y_hat = sRNN_model.predict(x = test_batch)\n",
    "    Y_hat[i] = y_hat"
   ]
  },
  {
   "cell_type": "markdown",
   "metadata": {},
   "source": [
    "The results are too good to be true here:"
   ]
  },
  {
   "cell_type": "code",
   "execution_count": 68,
   "metadata": {},
   "outputs": [
    {
     "name": "stdout",
     "output_type": "stream",
     "text": [
      "Euclidian error ||Y_hat-X_test_||=0.02647001820031852\n"
     ]
    }
   ],
   "source": [
    "pred_error = np.sqrt(np.sum((Y_hat-X_test_[:,0])**2))\n",
    "print(f\"Euclidian error ||Y_hat-X_test_||={pred_error}\")"
   ]
  },
  {
   "cell_type": "code",
   "execution_count": 83,
   "metadata": {},
   "outputs": [
    {
     "data": {
      "image/png": "[encoded data removed]",
      "text/plain": [
       "<Figure size 864x576 with 1 Axes>"
      ]
     },
     "metadata": {
      "needs_background": "light"
     },
     "output_type": "display_data"
    }
   ],
   "source": [
    "s = t[-n_x_lags:]\n",
    "plt.plot(s,X_test_[:,0],'b', label='Test data')\n",
    "plt.plot(s,Y_hat,'r--', label='Predictions')\n",
    "plt.xlabel('t')\n",
    "plt.ylabel('f(t)')\n",
    "plt.title('RNN prediction results')\n",
    "plt.legend()\n",
    "plt.show()"
   ]
  },
  {
   "cell_type": "code",
   "execution_count": null,
   "metadata": {},
   "outputs": [],
   "source": []
  },
  {
   "cell_type": "code",
   "execution_count": null,
   "metadata": {},
   "outputs": [],
   "source": []
  },
  {
   "cell_type": "code",
   "execution_count": null,
   "metadata": {},
   "outputs": [],
   "source": []
  },
  {
   "cell_type": "code",
   "execution_count": null,
   "metadata": {},
   "outputs": [],
   "source": []
  },
  {
   "cell_type": "code",
   "execution_count": null,
   "metadata": {},
   "outputs": [],
   "source": []
  }
 ],
 "metadata": {
  "colab": {
   "collapsed_sections": [],
   "name": "Keras_RNN_Tests.ipynb",
   "provenance": []
  },
  "kernelspec": {
   "display_name": "Python 3 (ipykernel)",
   "language": "python",
   "name": "python3"
  },
  "language_info": {
   "codemirror_mode": {
    "name": "ipython",
    "version": 3
   },
   "file_extension": ".py",
   "mimetype": "text/x-python",
   "name": "python",
   "nbconvert_exporter": "python",
   "pygments_lexer": "ipython3",
   "version": "3.8.13"
  }
 },
 "nbformat": 4,
 "nbformat_minor": 4
}
