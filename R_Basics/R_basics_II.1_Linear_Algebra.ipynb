{
 "cells": [
  {
   "cell_type": "markdown",
   "id": "1571ac69-4bea-47f2-a62b-e8bf5ba5d9d8",
   "metadata": {
    "id": "1571ac69-4bea-47f2-a62b-e8bf5ba5d9d8"
   },
   "source": [
    "# **Basics of the R language: II.1 - Linear Algebra**\n",
    "### AJ Zerouali, 2023/06/01\n",
    "\n",
    "This notebook looks at more advanced uses of R:\n",
    "\n",
    "1) Dataframes\n",
    "2) Plotting graphs\n",
    "3) Linear algebra\n",
    "4) Time series analysis\n",
    "\n",
    "I should add something about basic stats in R, say Ch.7 of Kabacoff, but this is overkill in my case.\n",
    "\n",
    "References:\n",
    "- Dataframes: Kabacoff, Ch.3.\n",
    "- Plotting graphs: Kabacoff, Chapters 4 and 6.\n",
    "- Linear algebra: Youtube video: \n",
    "- Time series analysis: Kabacoff, Ch.15. "
   ]
  },
  {
   "cell_type": "markdown",
   "id": "36f8ab34-1418-4df5-9b23-310d30a6528e",
   "metadata": {
    "id": "36f8ab34-1418-4df5-9b23-310d30a6528e"
   },
   "source": [
    "## 3) Linear algebra with R\n",
    "\n",
    "Here we leave Kkabacoff for a bit.\n",
    "\n",
    "This playlist is an R introduction course on Youtube:\n",
    "\n",
    "https://www.youtube.com/watch?v=fJ8q8cMur4o&list=PLW1_9UnhaSkE65XQ9n5TVkWeucU8txMNL&ab_channel=Let%27sLearn%2CNemo%21\n",
    "\n",
    "In particular, we'll follow this lecture on linear algebra:\n",
    "\n",
    "https://www.youtube.com/watch?v=VjYS59FoDYg&t=373s&ab_channel=Let%27sLearn%2CNemo%21\n",
    "\n",
    "For the part on solving linear systems, we will use the *matlib* package (that I don't install by default).\n",
    "\n",
    "https://cran.r-project.org/web/packages/matlib/index.html\n",
    "\n"
   ]
  },
  {
   "cell_type": "markdown",
   "id": "50e840d4-ec48-4835-b8f1-78104b981cf7",
   "metadata": {
    "id": "50e840d4-ec48-4835-b8f1-78104b981cf7"
   },
   "source": [
    "### 3.a - Matrix algebra and elementary functions\n",
    "\n",
    "Let's start with a simple invertible matrix:\n",
    "\n",
    "        4\t-1\t6\n",
    "    A = 2\t 1\t6\n",
    "        2\t-1\t8\n"
   ]
  },
  {
   "cell_type": "code",
   "execution_count": null,
   "id": "75407f3d-518e-4dc2-a938-67562698db9a",
   "metadata": {
    "id": "75407f3d-518e-4dc2-a938-67562698db9a",
    "outputId": "e53820f7-7786-4f46-eea6-cd980e1f4f26"
   },
   "outputs": [
    {
     "name": "stdout",
     "output_type": "stream",
     "text": [
      "A = \n",
      "     [,1] [,2] [,3]\n",
      "[1,]    4   -1    6\n",
      "[2,]    2    1    6\n",
      "[3,]    2   -1    8\n"
     ]
    }
   ],
   "source": [
    "# Columns\n",
    "Ac1 <- c(4,2,2)\n",
    "Ac2 <- c(-1,1,-1)\n",
    "Ac3 <- c(6,6,8)\n",
    "\n",
    "A <- matrix(c(Ac1, Ac2, Ac3), nrow =3, ncol = 3, byrow = FALSE)\n",
    "\n",
    "cat(\"A = \\n\")\n",
    "print(A)"
   ]
  },
  {
   "cell_type": "markdown",
   "id": "ee54a163-1341-4e30-a9b7-a37dbe8b544a",
   "metadata": {
    "id": "ee54a163-1341-4e30-a9b7-a37dbe8b544a",
    "tags": []
   },
   "source": [
    "To create a diagonal matrix from a vector, we use the ***diag()*** function:"
   ]
  },
  {
   "cell_type": "code",
   "execution_count": null,
   "id": "6dea0da1-af02-445e-9a57-50f08582c116",
   "metadata": {
    "id": "6dea0da1-af02-445e-9a57-50f08582c116"
   },
   "outputs": [],
   "source": [
    "# Create a doagonal matrix \n",
    "B <- diag(c(2,3,5))"
   ]
  },
  {
   "cell_type": "markdown",
   "id": "f06477fc-8a94-42ee-92f7-37657426ad1f",
   "metadata": {
    "id": "f06477fc-8a94-42ee-92f7-37657426ad1f"
   },
   "source": [
    "Transposition and determinant computation are done like so:"
   ]
  },
  {
   "cell_type": "code",
   "execution_count": null,
   "id": "dac76014-a3f9-492e-b873-aea0ef0f7325",
   "metadata": {
    "id": "dac76014-a3f9-492e-b873-aea0ef0f7325",
    "outputId": "3871727a-d8d8-4de6-a04e-68bc663a33ba"
   },
   "outputs": [
    {
     "name": "stdout",
     "output_type": "stream",
     "text": [
      "A^T = \n"
     ]
    },
    {
     "data": {
      "text/html": [
       "<table class=\"dataframe\">\n",
       "<caption>A matrix: 3 × 3 of type dbl</caption>\n",
       "<tbody>\n",
       "\t<tr><td> 4</td><td>2</td><td> 2</td></tr>\n",
       "\t<tr><td>-1</td><td>1</td><td>-1</td></tr>\n",
       "\t<tr><td> 6</td><td>6</td><td> 8</td></tr>\n",
       "</tbody>\n",
       "</table>\n"
      ],
      "text/latex": [
       "A matrix: 3 × 3 of type dbl\n",
       "\\begin{tabular}{lll}\n",
       "\t  4 & 2 &  2\\\\\n",
       "\t -1 & 1 & -1\\\\\n",
       "\t  6 & 6 &  8\\\\\n",
       "\\end{tabular}\n"
      ],
      "text/markdown": [
       "\n",
       "A matrix: 3 × 3 of type dbl\n",
       "\n",
       "|  4 | 2 |  2 |\n",
       "| -1 | 1 | -1 |\n",
       "|  6 | 6 |  8 |\n",
       "\n"
      ],
      "text/plain": [
       "     [,1] [,2] [,3]\n",
       "[1,]  4   2     2  \n",
       "[2,] -1   1    -1  \n",
       "[3,]  6   6     8  "
      ]
     },
     "metadata": {},
     "output_type": "display_data"
    },
    {
     "name": "stdout",
     "output_type": "stream",
     "text": [
      "det(A) = \n"
     ]
    },
    {
     "data": {
      "text/html": [
       "36"
      ],
      "text/latex": [
       "36"
      ],
      "text/markdown": [
       "36"
      ],
      "text/plain": [
       "[1] 36"
      ]
     },
     "metadata": {},
     "output_type": "display_data"
    }
   ],
   "source": [
    "# Get transpose of a matrix\n",
    "cat(\"A^T = \\n\")\n",
    "t(A)\n",
    "\n",
    "# Get determinant of a matrix\n",
    "cat(\"det(A) = \\n\")\n",
    "det(A)"
   ]
  },
  {
   "cell_type": "markdown",
   "id": "f69b392d-296a-4ef8-8b97-312d3494115c",
   "metadata": {
    "id": "f69b392d-296a-4ef8-8b97-312d3494115c"
   },
   "source": [
    "Strangely enough, R does not seem to have a built-in trace method by default. \n",
    "\n",
    "Matrix inversion is done using *solve()*:"
   ]
  },
  {
   "cell_type": "code",
   "execution_count": null,
   "id": "0e305e5a-0317-4cd3-b2c4-2cac3e85f2cb",
   "metadata": {
    "id": "0e305e5a-0317-4cd3-b2c4-2cac3e85f2cb",
    "outputId": "c5882876-49f8-40f1-f9f1-1023791b2a54"
   },
   "outputs": [
    {
     "name": "stdout",
     "output_type": "stream",
     "text": [
      "A^(-1) = \n"
     ]
    },
    {
     "data": {
      "text/html": [
       "<table class=\"dataframe\">\n",
       "<caption>A matrix: 3 × 3 of type dbl</caption>\n",
       "<tbody>\n",
       "\t<tr><td> 0.3888889</td><td>0.05555556</td><td>-0.3333333</td></tr>\n",
       "\t<tr><td>-0.1111111</td><td>0.55555556</td><td>-0.3333333</td></tr>\n",
       "\t<tr><td>-0.1111111</td><td>0.05555556</td><td> 0.1666667</td></tr>\n",
       "</tbody>\n",
       "</table>\n"
      ],
      "text/latex": [
       "A matrix: 3 × 3 of type dbl\n",
       "\\begin{tabular}{lll}\n",
       "\t  0.3888889 & 0.05555556 & -0.3333333\\\\\n",
       "\t -0.1111111 & 0.55555556 & -0.3333333\\\\\n",
       "\t -0.1111111 & 0.05555556 &  0.1666667\\\\\n",
       "\\end{tabular}\n"
      ],
      "text/markdown": [
       "\n",
       "A matrix: 3 × 3 of type dbl\n",
       "\n",
       "|  0.3888889 | 0.05555556 | -0.3333333 |\n",
       "| -0.1111111 | 0.55555556 | -0.3333333 |\n",
       "| -0.1111111 | 0.05555556 |  0.1666667 |\n",
       "\n"
      ],
      "text/plain": [
       "     [,1]       [,2]       [,3]      \n",
       "[1,]  0.3888889 0.05555556 -0.3333333\n",
       "[2,] -0.1111111 0.55555556 -0.3333333\n",
       "[3,] -0.1111111 0.05555556  0.1666667"
      ]
     },
     "metadata": {},
     "output_type": "display_data"
    }
   ],
   "source": [
    "# Invert the matrix A\n",
    "cat(\"A^(-1) = \\n\")\n",
    "solve(A)"
   ]
  },
  {
   "cell_type": "markdown",
   "id": "17635dfb-0cf7-42d1-9887-371e2beb2240",
   "metadata": {
    "id": "17635dfb-0cf7-42d1-9887-371e2beb2240"
   },
   "source": [
    "Scalar multiplication is more or less obvious:"
   ]
  },
  {
   "cell_type": "code",
   "execution_count": null,
   "id": "8415449a-6eed-43f1-9c29-79eb0939d3b3",
   "metadata": {
    "id": "8415449a-6eed-43f1-9c29-79eb0939d3b3",
    "outputId": "49370881-f9f9-4e85-fa9d-4da6f2430e80"
   },
   "outputs": [
    {
     "data": {
      "text/html": [
       "<table class=\"dataframe\">\n",
       "<caption>A matrix: 3 × 3 of type dbl</caption>\n",
       "<tbody>\n",
       "\t<tr><td>40</td><td>-10</td><td>60</td></tr>\n",
       "\t<tr><td>20</td><td> 10</td><td>60</td></tr>\n",
       "\t<tr><td>20</td><td>-10</td><td>80</td></tr>\n",
       "</tbody>\n",
       "</table>\n"
      ],
      "text/latex": [
       "A matrix: 3 × 3 of type dbl\n",
       "\\begin{tabular}{lll}\n",
       "\t 40 & -10 & 60\\\\\n",
       "\t 20 &  10 & 60\\\\\n",
       "\t 20 & -10 & 80\\\\\n",
       "\\end{tabular}\n"
      ],
      "text/markdown": [
       "\n",
       "A matrix: 3 × 3 of type dbl\n",
       "\n",
       "| 40 | -10 | 60 |\n",
       "| 20 |  10 | 60 |\n",
       "| 20 | -10 | 80 |\n",
       "\n"
      ],
      "text/plain": [
       "     [,1] [,2] [,3]\n",
       "[1,] 40   -10  60  \n",
       "[2,] 20    10  60  \n",
       "[3,] 20   -10  80  "
      ]
     },
     "metadata": {},
     "output_type": "display_data"
    }
   ],
   "source": [
    "10*A"
   ]
  },
  {
   "cell_type": "markdown",
   "id": "2aff9c9e-6ed6-444a-a19a-40a34c59168f",
   "metadata": {
    "id": "2aff9c9e-6ed6-444a-a19a-40a34c59168f"
   },
   "source": [
    "Matrix multiplication is done using the symbol **%*%**:"
   ]
  },
  {
   "cell_type": "code",
   "execution_count": null,
   "id": "9f67a4da-117b-499c-99e8-4b6e1d3ebf5e",
   "metadata": {
    "id": "9f67a4da-117b-499c-99e8-4b6e1d3ebf5e",
    "outputId": "76998889-d20f-475d-eee3-bd1deedc283a"
   },
   "outputs": [
    {
     "name": "stdout",
     "output_type": "stream",
     "text": [
      "A %*% B = \n",
      "     [,1] [,2] [,3]\n",
      "[1,]    8   -3   30\n",
      "[2,]    4    3   30\n",
      "[3,]    4   -3   40\n",
      "B %*% A = \n",
      "     [,1] [,2] [,3]\n",
      "[1,]    8   -2   12\n",
      "[2,]    6    3   18\n",
      "[3,]   10   -5   40\n"
     ]
    }
   ],
   "source": [
    "# Matrix multiplications\n",
    "cat(\"A %*% B = \\n\")\n",
    "print(A %*% B)\n",
    "cat(\"B %*% A = \\n\")\n",
    "print(B %*% A)"
   ]
  },
  {
   "cell_type": "markdown",
   "id": "a2987a34-7f4a-4c1d-8490-69f1efc1a928",
   "metadata": {
    "id": "a2987a34-7f4a-4c1d-8490-69f1efc1a928"
   },
   "source": [
    "R does not have a built-in dot product either. It is not complicated however. Here is an example:"
   ]
  },
  {
   "cell_type": "code",
   "execution_count": null,
   "id": "b1abedae-3835-46d0-bb45-1148e09e48d0",
   "metadata": {
    "id": "b1abedae-3835-46d0-bb45-1148e09e48d0",
    "outputId": "d77efc2b-0c73-4655-f2fd-0df58c872fcb"
   },
   "outputs": [
    {
     "name": "stdout",
     "output_type": "stream",
     "text": [
      "u.u = "
     ]
    },
    {
     "data": {
      "text/html": [
       "1"
      ],
      "text/latex": [
       "1"
      ],
      "text/markdown": [
       "1"
      ],
      "text/plain": [
       "[1] 1"
      ]
     },
     "metadata": {},
     "output_type": "display_data"
    },
    {
     "name": "stdout",
     "output_type": "stream",
     "text": [
      "u.e3 = "
     ]
    },
    {
     "data": {
      "text/html": [
       "0.5"
      ],
      "text/latex": [
       "0.5"
      ],
      "text/markdown": [
       "0.5"
      ],
      "text/plain": [
       "[1] 0.5"
      ]
     },
     "metadata": {},
     "output_type": "display_data"
    }
   ],
   "source": [
    "# Vectors\n",
    "u <- c(cos(pi/6), 0, sin(pi/6))\n",
    "e3 <- c(0,0,1)\n",
    "\n",
    "# Compute the norm of (cos(pi/6), 0, sin(pi/6))\n",
    "cat(\"u.u = \")\n",
    "(u %*% u)[1]\n",
    "# Dot product of u and e3\n",
    "cat(\"u.e3 = \")\n",
    "(u %*% e3)[1]\n"
   ]
  },
  {
   "cell_type": "markdown",
   "id": "feced077-e734-4f18-8514-113f665fb702",
   "metadata": {
    "id": "feced077-e734-4f18-8514-113f665fb702"
   },
   "source": [
    "Before moving-on to eigenvalues and eigenvectors, it's useful to note that matrix operations are not very accurate by default in R. Say we multiply our previous matrix $A$ by its inverse:"
   ]
  },
  {
   "cell_type": "code",
   "execution_count": null,
   "id": "ad56d8de-d311-476f-a272-1143abbe52bc",
   "metadata": {
    "id": "ad56d8de-d311-476f-a272-1143abbe52bc",
    "outputId": "06ad5a87-d5c0-4309-ede1-eaae211a6380"
   },
   "outputs": [
    {
     "name": "stdout",
     "output_type": "stream",
     "text": [
      "A.A^(-1) = \n",
      "              [,1] [,2] [,3]\n",
      "[1,]  1.000000e+00    0    0\n",
      "[2,] -1.110223e-16    1    0\n",
      "[3,]  0.000000e+00    0    1\n",
      "A^(-1).A = \n",
      "             [,1]         [,2]         [,3]\n",
      "[1,] 1.000000e+00 5.551115e-17 0.000000e+00\n",
      "[2,] 1.110223e-16 1.000000e+00 4.440892e-16\n",
      "[3,] 0.000000e+00 0.000000e+00 1.000000e+00\n"
     ]
    }
   ],
   "source": [
    "A_inv <- solve(A)\n",
    "\n",
    "cat(\"A.A^(-1) = \\n\")\n",
    "print(A %*% A_inv)\n",
    "\n",
    "cat(\"A^(-1).A = \\n\")\n",
    "print(A_inv %*% A)"
   ]
  },
  {
   "cell_type": "markdown",
   "id": "995b9aed-e2d0-41ec-945f-ea6ef0113485",
   "metadata": {
    "id": "995b9aed-e2d0-41ec-945f-ea6ef0113485"
   },
   "source": [
    "We see some residual numerical errors in both cases. If needed, it would be a good idea to use the *round()* function (see https://www.rdocumentation.org/packages/base/versions/3.6.2/topics/Round):"
   ]
  },
  {
   "cell_type": "code",
   "execution_count": null,
   "id": "32f8c248-5b62-4032-b2ba-06418a257e09",
   "metadata": {
    "id": "32f8c248-5b62-4032-b2ba-06418a257e09",
    "outputId": "0b2aa72f-e663-45da-efc1-6133d06bdbb3"
   },
   "outputs": [
    {
     "name": "stdout",
     "output_type": "stream",
     "text": [
      "A.A^(-1) = \n",
      "     [,1] [,2] [,3]\n",
      "[1,]    1    0    0\n",
      "[2,]    0    1    0\n",
      "[3,]    0    0    1\n",
      "A^(-1).A = \n",
      "     [,1] [,2] [,3]\n",
      "[1,]    1    0    0\n",
      "[2,]    0    1    0\n",
      "[3,]    0    0    1\n"
     ]
    }
   ],
   "source": [
    "cat(\"A.A^(-1) = \\n\")\n",
    "print(round(A %*% A_inv, 6)) # Round to 6 decimals\n",
    "\n",
    "cat(\"A^(-1).A = \\n\")\n",
    "print(round(A_inv %*% A, 6))"
   ]
  },
  {
   "cell_type": "markdown",
   "id": "e252ff2e-d866-44f8-8163-04f16a946d20",
   "metadata": {
    "id": "e252ff2e-d866-44f8-8163-04f16a946d20"
   },
   "source": [
    "### 3.b - Eigenvalues and eigenvectors, diagonalization\n",
    "\n",
    "Obtaining the eigenvectors and eigenvalues of a matrix is done with the ***eigen()*** function, which returns a list:"
   ]
  },
  {
   "cell_type": "code",
   "execution_count": null,
   "id": "d0793d86-c76a-450f-889e-6578a7d11344",
   "metadata": {
    "id": "d0793d86-c76a-450f-889e-6578a7d11344",
    "outputId": "daf5730b-8813-4acb-f800-cbfbd1802324"
   },
   "outputs": [
    {
     "name": "stdout",
     "output_type": "stream",
     "text": [
      "List of 2\n",
      " $ values : num [1:3] 9 2 2\n",
      " $ vectors: num [1:3, 1:3] 0.577 0.577 0.577 0.292 0.886 ...\n",
      " - attr(*, \"class\")= chr \"eigen\"\n"
     ]
    }
   ],
   "source": [
    "# Get eigen-elements of A\n",
    "eig_A <- eigen(A)\n",
    "\n",
    "# Show eig_A structure\n",
    "str(eig_A)"
   ]
  },
  {
   "cell_type": "markdown",
   "id": "2e0a4e80-31ac-4b5f-b24d-bc992edab3c4",
   "metadata": {
    "id": "2e0a4e80-31ac-4b5f-b24d-bc992edab3c4"
   },
   "source": [
    "This example matrix $A$ is diagonalizable. We can use the usual decomposition $P\\cdot D\\cdot P^{-1}$ to check:"
   ]
  },
  {
   "cell_type": "code",
   "execution_count": null,
   "id": "a53ec963-7bf4-4afc-9549-c5bea6b75540",
   "metadata": {
    "id": "a53ec963-7bf4-4afc-9549-c5bea6b75540",
    "outputId": "903375bf-7531-4cf7-b2a0-015dfcffa94a"
   },
   "outputs": [
    {
     "name": "stdout",
     "output_type": "stream",
     "text": [
      "P.D.P^(-1) =      [,1] [,2] [,3]\n",
      "[1,]    4   -1    6\n",
      "[2,]    2    1    6\n",
      "[3,]    2   -1    8\n"
     ]
    }
   ],
   "source": [
    "# Get diagonal matrix and change of basis matrix:\n",
    "A_D <- diag(eig_A$values)\n",
    "A_P <- eig_A$vectors\n",
    "\n",
    "# Compute the product decomposition\n",
    "cat(\"P.D.P^(-1) = \")\n",
    "print(A_P %*% A_D %*% solve(A_P))\n"
   ]
  },
  {
   "cell_type": "code",
   "execution_count": null,
   "id": "af740022-1f16-41ba-958c-d6811c9ab898",
   "metadata": {
    "id": "af740022-1f16-41ba-958c-d6811c9ab898",
    "outputId": "0594051a-39d4-4ec1-c32b-8e1b9a77ac71"
   },
   "outputs": [
    {
     "name": "stdout",
     "output_type": "stream",
     "text": [
      "A.v2 =           [,1]\n",
      "[1,] 0.5831565\n",
      "[2,] 1.7727425\n",
      "[3,] 0.1010716\n",
      "2.v2 = [1] 0.5831565 1.7727425 0.1010716\n"
     ]
    }
   ],
   "source": [
    "# Check the second eigenvector:\n",
    "vect_1 <- A %*% A_P[1:3,2]\n",
    "vect_2 <- A_D[2,2] * A_P[1:3,2]\n",
    "\n",
    "cat(\"A.v2 = \")\n",
    "print(vect_1)\n",
    "\n",
    "cat(\"2.v2 = \")\n",
    "print(vect_2)"
   ]
  },
  {
   "cell_type": "markdown",
   "id": "85f476ea-e46a-4a8d-8709-bcaa66c4999a",
   "metadata": {
    "id": "85f476ea-e46a-4a8d-8709-bcaa66c4999a"
   },
   "source": [
    "### 3.c - Singular value decomposition\n",
    "\n",
    "Now we will discuss the built-in ***svd()*** function of R. Recall that given a (complex) $(n,m)$ matrix $M$, which is not necessarily square, its singular value decomposition (SVD) is written:\n",
    "$$M = U\\cdot\\Sigma\\cdot V^\\dagger,$$\n",
    "where:\n",
    "* $U$ is an $(n,n)$ unitary matrix;\n",
    "* $V$ is an $(m,m)$ unitary matrix ($V^\\dagger$ is the Hermitian adjoint);\n",
    "* $\\Sigma$ is an $(n,m)$ rectangular diagonal matrix, whose entries are the **singular** values of $M$.\n",
    "\n",
    "Note that the singular values of a matrix are non-negative. Their actual meaning will be discussed below. Note that generally speaking, the SVD of a matrix is computed by a least squares algorithm."
   ]
  },
  {
   "cell_type": "code",
   "execution_count": null,
   "id": "9eade303-d05a-4c68-8fa6-4db3e6c9cb7b",
   "metadata": {
    "id": "9eade303-d05a-4c68-8fa6-4db3e6c9cb7b",
    "outputId": "37b8de46-a40b-4ac9-f50c-fbf4e47d2405"
   },
   "outputs": [
    {
     "data": {
      "text/html": [
       "<table class=\"dataframe\">\n",
       "<caption>A matrix: 2 × 3 of type dbl</caption>\n",
       "<tbody>\n",
       "\t<tr><td>-3</td><td>2</td><td>1</td></tr>\n",
       "\t<tr><td> 2</td><td>1</td><td>5</td></tr>\n",
       "</tbody>\n",
       "</table>\n"
      ],
      "text/latex": [
       "A matrix: 2 × 3 of type dbl\n",
       "\\begin{tabular}{lll}\n",
       "\t -3 & 2 & 1\\\\\n",
       "\t  2 & 1 & 5\\\\\n",
       "\\end{tabular}\n"
      ],
      "text/markdown": [
       "\n",
       "A matrix: 2 × 3 of type dbl\n",
       "\n",
       "| -3 | 2 | 1 |\n",
       "|  2 | 1 | 5 |\n",
       "\n"
      ],
      "text/plain": [
       "     [,1] [,2] [,3]\n",
       "[1,] -3   2    1   \n",
       "[2,]  2   1    5   "
      ]
     },
     "metadata": {},
     "output_type": "display_data"
    }
   ],
   "source": [
    "# Make example matrix\n",
    "M <- matrix(c(c(-3,2,1),c(2,1,5)), nrow = 2, byrow = TRUE)\n",
    "M"
   ]
  },
  {
   "cell_type": "code",
   "execution_count": null,
   "id": "2e78e20f-c45d-44c2-b2f1-89c744cb5a90",
   "metadata": {
    "id": "2e78e20f-c45d-44c2-b2f1-89c744cb5a90",
    "outputId": "e7ba46c9-e3b7-463c-bebb-1adc4b843275"
   },
   "outputs": [
    {
     "name": "stdout",
     "output_type": "stream",
     "text": [
      "List of 3\n",
      " $ d: num [1:2] 5.48 3.73\n",
      " $ u: num [1:2, 1:2] 0.0621 0.9981 0.9981 -0.0621\n",
      " $ v: num [1:3, 1:2] 0.33 0.205 0.921 -0.835 0.518 ...\n"
     ]
    }
   ],
   "source": [
    "# Get SVD\n",
    "M_SVD <- svd(M)\n",
    "str(M_SVD)"
   ]
  },
  {
   "cell_type": "markdown",
   "id": "c1b7d468-8252-4410-b84e-615c93ee6a41",
   "metadata": {
    "id": "c1b7d468-8252-4410-b84e-615c93ee6a41"
   },
   "source": [
    "Let us check the singular value decomposition:"
   ]
  },
  {
   "cell_type": "code",
   "execution_count": null,
   "id": "fd6874ac-1850-49e6-b649-89b698d648d5",
   "metadata": {
    "id": "fd6874ac-1850-49e6-b649-89b698d648d5",
    "outputId": "06924ba2-8301-4469-f14b-884fd7230952"
   },
   "outputs": [
    {
     "name": "stdout",
     "output_type": "stream",
     "text": [
      "U.Sigma.V^t = "
     ]
    },
    {
     "data": {
      "text/html": [
       "<table class=\"dataframe\">\n",
       "<caption>A matrix: 2 × 3 of type dbl</caption>\n",
       "<tbody>\n",
       "\t<tr><td>-3</td><td>2</td><td>1</td></tr>\n",
       "\t<tr><td> 2</td><td>1</td><td>5</td></tr>\n",
       "</tbody>\n",
       "</table>\n"
      ],
      "text/latex": [
       "A matrix: 2 × 3 of type dbl\n",
       "\\begin{tabular}{lll}\n",
       "\t -3 & 2 & 1\\\\\n",
       "\t  2 & 1 & 5\\\\\n",
       "\\end{tabular}\n"
      ],
      "text/markdown": [
       "\n",
       "A matrix: 2 × 3 of type dbl\n",
       "\n",
       "| -3 | 2 | 1 |\n",
       "|  2 | 1 | 5 |\n",
       "\n"
      ],
      "text/plain": [
       "     [,1] [,2] [,3]\n",
       "[1,] -3   2    1   \n",
       "[2,]  2   1    5   "
      ]
     },
     "metadata": {},
     "output_type": "display_data"
    },
    {
     "name": "stdout",
     "output_type": "stream",
     "text": [
      "U.U^t = "
     ]
    },
    {
     "data": {
      "text/html": [
       "<table class=\"dataframe\">\n",
       "<caption>A matrix: 2 × 2 of type dbl</caption>\n",
       "<tbody>\n",
       "\t<tr><td>1</td><td>0</td></tr>\n",
       "\t<tr><td>0</td><td>1</td></tr>\n",
       "</tbody>\n",
       "</table>\n"
      ],
      "text/latex": [
       "A matrix: 2 × 2 of type dbl\n",
       "\\begin{tabular}{ll}\n",
       "\t 1 & 0\\\\\n",
       "\t 0 & 1\\\\\n",
       "\\end{tabular}\n"
      ],
      "text/markdown": [
       "\n",
       "A matrix: 2 × 2 of type dbl\n",
       "\n",
       "| 1 | 0 |\n",
       "| 0 | 1 |\n",
       "\n"
      ],
      "text/plain": [
       "     [,1] [,2]\n",
       "[1,] 1    0   \n",
       "[2,] 0    1   "
      ]
     },
     "metadata": {},
     "output_type": "display_data"
    },
    {
     "name": "stdout",
     "output_type": "stream",
     "text": [
      "V^t.V = "
     ]
    },
    {
     "data": {
      "text/html": [
       "<table class=\"dataframe\">\n",
       "<caption>A matrix: 2 × 2 of type dbl</caption>\n",
       "<tbody>\n",
       "\t<tr><td> 1.000000e+00</td><td>-8.326673e-17</td></tr>\n",
       "\t<tr><td>-8.326673e-17</td><td> 1.000000e+00</td></tr>\n",
       "</tbody>\n",
       "</table>\n"
      ],
      "text/latex": [
       "A matrix: 2 × 2 of type dbl\n",
       "\\begin{tabular}{ll}\n",
       "\t  1.000000e+00 & -8.326673e-17\\\\\n",
       "\t -8.326673e-17 &  1.000000e+00\\\\\n",
       "\\end{tabular}\n"
      ],
      "text/markdown": [
       "\n",
       "A matrix: 2 × 2 of type dbl\n",
       "\n",
       "|  1.000000e+00 | -8.326673e-17 |\n",
       "| -8.326673e-17 |  1.000000e+00 |\n",
       "\n"
      ],
      "text/plain": [
       "     [,1]          [,2]         \n",
       "[1,]  1.000000e+00 -8.326673e-17\n",
       "[2,] -8.326673e-17  1.000000e+00"
      ]
     },
     "metadata": {},
     "output_type": "display_data"
    }
   ],
   "source": [
    "# M singular values and matrices\n",
    "M_U <- M_SVD$u\n",
    "M_V <- M_SVD$v\n",
    "M_sig <- M_SVD$d\n",
    "\n",
    "# Check singular value decomposition\n",
    "cat(\"U.Sigma.V^t = \")\n",
    "M_U %*% diag(M_sig) %*% t(M_V)\n",
    "\n",
    "cat(\"U.U^t = \")\n",
    "M_U %*% t(M_U)\n",
    "\n",
    "cat(\"V^t.V = \")\n",
    "t(M_V) %*% M_V # Weird: This is not a 3x3 matrix"
   ]
  },
  {
   "cell_type": "markdown",
   "id": "678fd485-25ac-407e-b2be-0550b499ca27",
   "metadata": {
    "id": "678fd485-25ac-407e-b2be-0550b499ca27"
   },
   "source": [
    "An interesting (numerical) linear algebra fact is the conditioning number of a matrix: If $\\sigma_M$ is the set of singular values of $M$, then the condition number of a matrix is given by\n",
    "$$\\kappa_M = \\frac{\\max \\sigma_M}{\\min \\sigma_M},$$\n",
    "and the larger this number is, the larger will the numerical errors be. For our example:"
   ]
  },
  {
   "cell_type": "code",
   "execution_count": null,
   "id": "c651fc4b-7203-4d55-b0df-b467b99b7f70",
   "metadata": {
    "id": "c651fc4b-7203-4d55-b0df-b467b99b7f70",
    "outputId": "f7dcde98-b0ac-4d0b-fcf4-d8c9ab6f3346"
   },
   "outputs": [
    {
     "name": "stdout",
     "output_type": "stream",
     "text": [
      "kappa(M) = "
     ]
    },
    {
     "data": {
      "text/html": [
       "1.46863739627269"
      ],
      "text/latex": [
       "1.46863739627269"
      ],
      "text/markdown": [
       "1.46863739627269"
      ],
      "text/plain": [
       "[1] 1.468637"
      ]
     },
     "metadata": {},
     "output_type": "display_data"
    }
   ],
   "source": [
    "cat(\"kappa(M) = \")\n",
    "max(M_sig)/min(M_sig)"
   ]
  },
  {
   "cell_type": "markdown",
   "id": "2f23650a-fc00-4011-b0a9-4de49a8d1954",
   "metadata": {
    "id": "2f23650a-fc00-4011-b0a9-4de49a8d1954"
   },
   "source": [
    "Another useful fact is that the singular value decomposition allows to compute the **Moore-Penrose pseudo-inverse** of a matrix $M$. By definition, the pseudo-inverse $M^+$ should be a (generalized) **right** inverse of $M$. Using an SVD, we have:\n",
    "$$M^+ = V\\cdot\\Sigma^+\\cdot U^\\dagger,$$\n",
    "where  $\\Sigma^+$ has the reciprocals of $\\Sigma$ on its main diagonal. See:\n",
    "\n",
    "https://search.r-project.org/CRAN/refmans/corpcor/html/pseudoinverse.html\n"
   ]
  },
  {
   "cell_type": "code",
   "execution_count": null,
   "id": "1c4138eb-f1e4-4ea9-bb23-3423d61c5756",
   "metadata": {
    "id": "1c4138eb-f1e4-4ea9-bb23-3423d61c5756",
    "outputId": "3f5c3b59-2368-44a3-d8c8-828b177d691f"
   },
   "outputs": [
    {
     "name": "stdout",
     "output_type": "stream",
     "text": [
      "V.Sigma^+.U^t = "
     ]
    },
    {
     "data": {
      "text/html": [
       "<table class=\"dataframe\">\n",
       "<caption>A matrix: 3 × 2 of type dbl</caption>\n",
       "<tbody>\n",
       "\t<tr><td>-0.21957041</td><td>0.07398568</td></tr>\n",
       "\t<tr><td> 0.14081146</td><td>0.02863962</td></tr>\n",
       "\t<tr><td> 0.05966587</td><td>0.16467780</td></tr>\n",
       "</tbody>\n",
       "</table>\n"
      ],
      "text/latex": [
       "A matrix: 3 × 2 of type dbl\n",
       "\\begin{tabular}{ll}\n",
       "\t -0.21957041 & 0.07398568\\\\\n",
       "\t  0.14081146 & 0.02863962\\\\\n",
       "\t  0.05966587 & 0.16467780\\\\\n",
       "\\end{tabular}\n"
      ],
      "text/markdown": [
       "\n",
       "A matrix: 3 × 2 of type dbl\n",
       "\n",
       "| -0.21957041 | 0.07398568 |\n",
       "|  0.14081146 | 0.02863962 |\n",
       "|  0.05966587 | 0.16467780 |\n",
       "\n"
      ],
      "text/plain": [
       "     [,1]        [,2]      \n",
       "[1,] -0.21957041 0.07398568\n",
       "[2,]  0.14081146 0.02863962\n",
       "[3,]  0.05966587 0.16467780"
      ]
     },
     "metadata": {},
     "output_type": "display_data"
    },
    {
     "name": "stdout",
     "output_type": "stream",
     "text": [
      "M.M^+ = "
     ]
    },
    {
     "data": {
      "text/html": [
       "<table class=\"dataframe\">\n",
       "<caption>A matrix: 2 × 2 of type dbl</caption>\n",
       "<tbody>\n",
       "\t<tr><td> 1.000000e+00</td><td>-5.551115e-17</td></tr>\n",
       "\t<tr><td>-5.551115e-17</td><td> 1.000000e+00</td></tr>\n",
       "</tbody>\n",
       "</table>\n"
      ],
      "text/latex": [
       "A matrix: 2 × 2 of type dbl\n",
       "\\begin{tabular}{ll}\n",
       "\t  1.000000e+00 & -5.551115e-17\\\\\n",
       "\t -5.551115e-17 &  1.000000e+00\\\\\n",
       "\\end{tabular}\n"
      ],
      "text/markdown": [
       "\n",
       "A matrix: 2 × 2 of type dbl\n",
       "\n",
       "|  1.000000e+00 | -5.551115e-17 |\n",
       "| -5.551115e-17 |  1.000000e+00 |\n",
       "\n"
      ],
      "text/plain": [
       "     [,1]          [,2]         \n",
       "[1,]  1.000000e+00 -5.551115e-17\n",
       "[2,] -5.551115e-17  1.000000e+00"
      ]
     },
     "metadata": {},
     "output_type": "display_data"
    }
   ],
   "source": [
    "# Compute \\Sigma^+\n",
    "M_Sigma_plus <- matrix(c(c(1/M_sig[1], 0), c(0, 1/M_sig[2])),\n",
    "                       nrow = 2, ncol =2, byrow = FALSE)\n",
    "# Compute M^+\n",
    "M_pinv <- M_V %*% M_Sigma_plus %*% t(M_U)\n",
    "\n",
    "# Show result\n",
    "cat(\"V.Sigma^+.U^t = \")\n",
    "M_pinv\n",
    "\n",
    "# Check M.M^+\n",
    "cat(\"M.M^+ = \")\n",
    "M %*% M_pinv"
   ]
  },
  {
   "cell_type": "markdown",
   "id": "50622153-4ee5-4518-891b-3f3e4b67b599",
   "metadata": {
    "id": "50622153-4ee5-4518-891b-3f3e4b67b599"
   },
   "source": [
    "**Comment:** Finish the computations below. Relate the $U$ and $V$ matrices to the eigenvalues of $MM^\\intercal$ and $M^\\intercal M$."
   ]
  },
  {
   "cell_type": "code",
   "execution_count": null,
   "id": "ebb33950-4dc6-4c7e-8d03-8d683ecc797b",
   "metadata": {
    "id": "ebb33950-4dc6-4c7e-8d03-8d683ecc797b"
   },
   "outputs": [],
   "source": [
    "MMt <- M %*% t(M)\n",
    "MtM <- t(M) %*% M"
   ]
  },
  {
   "cell_type": "code",
   "execution_count": null,
   "id": "5296467c-cdef-49d6-bb69-1bb3db5341c6",
   "metadata": {
    "id": "5296467c-cdef-49d6-bb69-1bb3db5341c6",
    "outputId": "11aa4718-2d23-4598-811d-7b147ea45a9f"
   },
   "outputs": [
    {
     "data": {
      "text/html": [
       "<table class=\"dataframe\">\n",
       "<caption>A matrix: 2 × 2 of type dbl</caption>\n",
       "<tbody>\n",
       "\t<tr><td>14</td><td> 1</td></tr>\n",
       "\t<tr><td> 1</td><td>30</td></tr>\n",
       "</tbody>\n",
       "</table>\n"
      ],
      "text/latex": [
       "A matrix: 2 × 2 of type dbl\n",
       "\\begin{tabular}{ll}\n",
       "\t 14 &  1\\\\\n",
       "\t  1 & 30\\\\\n",
       "\\end{tabular}\n"
      ],
      "text/markdown": [
       "\n",
       "A matrix: 2 × 2 of type dbl\n",
       "\n",
       "| 14 |  1 |\n",
       "|  1 | 30 |\n",
       "\n"
      ],
      "text/plain": [
       "     [,1] [,2]\n",
       "[1,] 14    1  \n",
       "[2,]  1   30  "
      ]
     },
     "metadata": {},
     "output_type": "display_data"
    },
    {
     "data": {
      "text/html": [
       "<table class=\"dataframe\">\n",
       "<caption>A matrix: 3 × 3 of type dbl</caption>\n",
       "<tbody>\n",
       "\t<tr><td>13</td><td>-4</td><td> 7</td></tr>\n",
       "\t<tr><td>-4</td><td> 5</td><td> 7</td></tr>\n",
       "\t<tr><td> 7</td><td> 7</td><td>26</td></tr>\n",
       "</tbody>\n",
       "</table>\n"
      ],
      "text/latex": [
       "A matrix: 3 × 3 of type dbl\n",
       "\\begin{tabular}{lll}\n",
       "\t 13 & -4 &  7\\\\\n",
       "\t -4 &  5 &  7\\\\\n",
       "\t  7 &  7 & 26\\\\\n",
       "\\end{tabular}\n"
      ],
      "text/markdown": [
       "\n",
       "A matrix: 3 × 3 of type dbl\n",
       "\n",
       "| 13 | -4 |  7 |\n",
       "| -4 |  5 |  7 |\n",
       "|  7 |  7 | 26 |\n",
       "\n"
      ],
      "text/plain": [
       "     [,1] [,2] [,3]\n",
       "[1,] 13   -4    7  \n",
       "[2,] -4    5    7  \n",
       "[3,]  7    7   26  "
      ]
     },
     "metadata": {},
     "output_type": "display_data"
    }
   ],
   "source": [
    "MMt\n",
    "MtM"
   ]
  },
  {
   "cell_type": "code",
   "execution_count": null,
   "id": "6768622b-c295-4ca7-bada-70abeb3ad7a5",
   "metadata": {
    "id": "6768622b-c295-4ca7-bada-70abeb3ad7a5"
   },
   "outputs": [],
   "source": []
  },
  {
   "cell_type": "markdown",
   "id": "860c998d-baeb-4b1e-9078-95b742b1a130",
   "metadata": {
    "id": "860c998d-baeb-4b1e-9078-95b742b1a130",
    "tags": []
   },
   "source": [
    "### 3.d - Solving linear systems\n",
    "\n",
    "For this part, we briefly look at some functions in the *matlib*. The docs are here:\n",
    "\n",
    "https://search.r-project.org/CRAN/refmans/corpcor/html/pseudoinverse.html\n",
    "\n",
    "Here is an example on how to solve linear equations:\n",
    "\n",
    "https://cran.r-project.org/web/packages/matlib/vignettes/linear-equations.html\n"
   ]
  },
  {
   "cell_type": "code",
   "execution_count": null,
   "id": "df75c7bc-9f0a-41f1-9095-bf3733e4746b",
   "metadata": {
    "id": "df75c7bc-9f0a-41f1-9095-bf3733e4746b"
   },
   "outputs": [],
   "source": [
    "library(matlib)"
   ]
  },
  {
   "cell_type": "markdown",
   "id": "81ac3d8c-9e29-442e-a181-b6ab22c0e937",
   "metadata": {
    "id": "81ac3d8c-9e29-442e-a181-b6ab22c0e937"
   },
   "source": [
    "First, we note that unlike the built-in matrix package, *matlib* has trace function and pseudo-inverse functions:"
   ]
  },
  {
   "cell_type": "code",
   "execution_count": null,
   "id": "bd8929bc-9d78-4ece-8d23-fac8bbebb073",
   "metadata": {
    "id": "bd8929bc-9d78-4ece-8d23-fac8bbebb073",
    "outputId": "7255bb6f-6d18-42d9-b313-c95541c65a93"
   },
   "outputs": [
    {
     "name": "stdout",
     "output_type": "stream",
     "text": [
      "tr(A) = "
     ]
    },
    {
     "data": {
      "text/html": [
       "13"
      ],
      "text/latex": [
       "13"
      ],
      "text/markdown": [
       "13"
      ],
      "text/plain": [
       "[1] 13"
      ]
     },
     "metadata": {},
     "output_type": "display_data"
    },
    {
     "name": "stdout",
     "output_type": "stream",
     "text": [
      "A.MoorePenrose(M) = "
     ]
    },
    {
     "data": {
      "text/html": [
       "<table class=\"dataframe\">\n",
       "<caption>A matrix: 2 × 2 of type dbl</caption>\n",
       "<tbody>\n",
       "\t<tr><td> 1.000000e+00</td><td>-5.551115e-17</td></tr>\n",
       "\t<tr><td>-5.551115e-17</td><td> 1.000000e+00</td></tr>\n",
       "</tbody>\n",
       "</table>\n"
      ],
      "text/latex": [
       "A matrix: 2 × 2 of type dbl\n",
       "\\begin{tabular}{ll}\n",
       "\t  1.000000e+00 & -5.551115e-17\\\\\n",
       "\t -5.551115e-17 &  1.000000e+00\\\\\n",
       "\\end{tabular}\n"
      ],
      "text/markdown": [
       "\n",
       "A matrix: 2 × 2 of type dbl\n",
       "\n",
       "|  1.000000e+00 | -5.551115e-17 |\n",
       "| -5.551115e-17 |  1.000000e+00 |\n",
       "\n"
      ],
      "text/plain": [
       "     [,1]          [,2]         \n",
       "[1,]  1.000000e+00 -5.551115e-17\n",
       "[2,] -5.551115e-17  1.000000e+00"
      ]
     },
     "metadata": {},
     "output_type": "display_data"
    }
   ],
   "source": [
    "# Trace of the matrix A:\n",
    "cat(\"tr(A) = \")\n",
    "tr(A)\n",
    "\n",
    "# Pseudo-inverse of M:\n",
    "cat(\"A.MoorePenrose(M) = \")\n",
    "M %*% MoorePenrose(M)"
   ]
  },
  {
   "cell_type": "markdown",
   "id": "05263120-405a-4097-a89f-38fb0845ace4",
   "metadata": {
    "id": "05263120-405a-4097-a89f-38fb0845ace4"
   },
   "source": [
    "**Comment:** To be continued. The best place to start is the tutorial on linear equations above."
   ]
  }
 ],
 "metadata": {
  "colab": {
   "provenance": []
  },
  "kernelspec": {
   "display_name": "R",
   "language": "R",
   "name": "ir"
  },
  "language_info": {
   "codemirror_mode": "r",
   "file_extension": ".r",
   "mimetype": "text/x-r-source",
   "name": "R",
   "pygments_lexer": "r",
   "version": "4.3.0"
  }
 },
 "nbformat": 4,
 "nbformat_minor": 5
}
