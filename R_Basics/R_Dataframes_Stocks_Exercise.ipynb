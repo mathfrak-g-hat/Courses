{
 "cells": [
  {
   "cell_type": "markdown",
   "id": "e71e0ce3-1578-4089-b022-ad760d7c1546",
   "metadata": {},
   "source": [
    "# Dataframes Exercise - Stock prices\n",
    "### AJ Zerouali, 23/06/14\n",
    "\n",
    "Plan:\n",
    "- Download hourly data over 2 months for 5 stocks using *yahoofinancer*.\n",
    "- Create a list of dates that we want in the dataset.\n",
    "- For each stock, ensure there are values for the entire list of timestamps. \n",
    "\n",
    "**To do (23/06/14):**\n",
    "These are operations/topics I haven't treated yet:\n",
    "- Using *NULL* to drop columns (Kabacoff, 3.10.2)\n",
    "- Using the *subset()* function for selections (Kabacoff, 3.10.4)\n",
    "- Dealing with *NA*, missing data (Kabacoff, 3.5)\n",
    "- Using the *dplyr* package to manage dataframes (Kabacoff, 3.11)\n",
    "- Making pivot tables\n",
    "- Applying functions to dataframes\n",
    "- Front-fill and Back-fill of missing data\n"
   ]
  },
  {
   "cell_type": "markdown",
   "id": "a5d86f87-5d22-4182-a26b-925ef22a16bf",
   "metadata": {},
   "source": [
    "## Downloading and saving the data"
   ]
  },
  {
   "cell_type": "code",
   "execution_count": 2,
   "id": "0776f49d-94ae-4cca-afed-1a87d3819c45",
   "metadata": {},
   "outputs": [],
   "source": [
    "# Import yahoo finance\n",
    "library(yahoofinancer)"
   ]
  },
  {
   "cell_type": "markdown",
   "id": "94689bdf-49f1-4a37-b60e-8a9ca0f716e5",
   "metadata": {},
   "source": [
    "Instantiate the list of tickers and then the list of objects:"
   ]
  },
  {
   "cell_type": "code",
   "execution_count": 8,
   "id": "6de4b7f6-3fb1-4837-9fc9-c2ab92846bbb",
   "metadata": {},
   "outputs": [],
   "source": [
    "# List of tickers\n",
    "ticker_list <- c(\"JNJ\", \"AAPL\", \"MSFT\", \"CVX\", \"PFE\")\n",
    "# Init. list of yahoofinancer::Ticker objects\n",
    "TickerObj_list <- list(ticker_list)"
   ]
  },
  {
   "cell_type": "markdown",
   "id": "a3c186ea-7b03-4715-8937-8f45e283f8f8",
   "metadata": {},
   "source": [
    "Initialize each object with corresp. symbol:"
   ]
  },
  {
   "cell_type": "code",
   "execution_count": 9,
   "id": "0f628bb1-0592-4e71-a35c-6fb6d356a9e5",
   "metadata": {},
   "outputs": [],
   "source": [
    "# Instantiate a ticker object for each entry of the list\n",
    "for (i in c(1:length(ticker_list))){\n",
    "    new_Ticker <- Ticker$new(symbol = ticker_list[i])\n",
    "    TickerObj_list[[ticker_list[i]]] <- new_Ticker\n",
    "    }\n"
   ]
  },
  {
   "cell_type": "code",
   "execution_count": 14,
   "id": "114181c1-505e-492b-96a9-8c83643ec6e1",
   "metadata": {
    "collapsed": true,
    "jupyter": {
     "outputs_hidden": true
    },
    "tags": []
   },
   "outputs": [
    {
     "data": {
      "text/plain": [
       "[[1]]\n",
       "[1] \"JNJ\"  \"AAPL\" \"MSFT\" \"CVX\"  \"PFE\" \n",
       "\n",
       "$JNJ\n",
       "<Ticker>\n",
       "  Public:\n",
       "    asset_profile: active binding\n",
       "    calendar_events: active binding\n",
       "    clone: function (deep = FALSE) \n",
       "    company_officers: active binding\n",
       "    earnings: active binding\n",
       "    earnings_history: active binding\n",
       "    earnings_trend: active binding\n",
       "    esg_scores: active binding\n",
       "    financial_data: active binding\n",
       "    fund_bond_holdings: active binding\n",
       "    fund_bond_ratings: active binding\n",
       "    fund_equity_holdings: active binding\n",
       "    fund_holding_info: active binding\n",
       "    fund_holdings: active binding\n",
       "    fund_ownership: active binding\n",
       "    fund_performance: active binding\n",
       "    fund_profile: active binding\n",
       "    fund_section_weightings: active binding\n",
       "    fund_top_holdings: active binding\n",
       "    get_balance_sheet: function (frequency = c(\"annual\", \"quarter\"), clean_names = TRUE) \n",
       "    get_cash_flow: function (frequency = c(\"annual\", \"quarter\"), clean_names = TRUE) \n",
       "    get_history: function (period = \"ytd\", interval = \"1d\", start = NULL, end = NULL) \n",
       "    get_income_statement: function (frequency = c(\"annual\", \"quarter\"), clean_names = TRUE) \n",
       "    grading_history: active binding\n",
       "    index_trend: active binding\n",
       "    initialize: function (symbol = NA) \n",
       "    inside_holders: active binding\n",
       "    insider_transactions: active binding\n",
       "    institution_ownership: active binding\n",
       "    key_stats: active binding\n",
       "    major_holders: active binding\n",
       "    option_chain: active binding\n",
       "    option_expiration_dates: active binding\n",
       "    option_strikes: active binding\n",
       "    page_views: active binding\n",
       "    price: active binding\n",
       "    quote: active binding\n",
       "    quote_type: active binding\n",
       "    recommendation_trend: active binding\n",
       "    recommendations: active binding\n",
       "    security_filings: active binding\n",
       "    set_symbol: function (symbol) \n",
       "    share_purchase_activity: active binding\n",
       "    summary_detail: active binding\n",
       "    summary_profile: active binding\n",
       "    symbol: JNJ\n",
       "    technical_insights: active binding\n",
       "    valuation_measures: active binding\n",
       "  Private:\n",
       "    base_url: https://query1.finance.yahoo.com\n",
       "    cors_domain: finance.yahoo.com\n",
       "    display_data: function (req) \n",
       "    display_error: function (resp, parsed) \n",
       "    extract_valuation: function (data, measure) \n",
       "    parse_data: function (parsed) \n",
       "    path: v10/finance/quoteSummary/\n",
       "    resp_data: function (symbol, module) \n",
       "    snake_case: function (x) \n",
       "\n",
       "$AAPL\n",
       "<Ticker>\n",
       "  Public:\n",
       "    asset_profile: active binding\n",
       "    calendar_events: active binding\n",
       "    clone: function (deep = FALSE) \n",
       "    company_officers: active binding\n",
       "    earnings: active binding\n",
       "    earnings_history: active binding\n",
       "    earnings_trend: active binding\n",
       "    esg_scores: active binding\n",
       "    financial_data: active binding\n",
       "    fund_bond_holdings: active binding\n",
       "    fund_bond_ratings: active binding\n",
       "    fund_equity_holdings: active binding\n",
       "    fund_holding_info: active binding\n",
       "    fund_holdings: active binding\n",
       "    fund_ownership: active binding\n",
       "    fund_performance: active binding\n",
       "    fund_profile: active binding\n",
       "    fund_section_weightings: active binding\n",
       "    fund_top_holdings: active binding\n",
       "    get_balance_sheet: function (frequency = c(\"annual\", \"quarter\"), clean_names = TRUE) \n",
       "    get_cash_flow: function (frequency = c(\"annual\", \"quarter\"), clean_names = TRUE) \n",
       "    get_history: function (period = \"ytd\", interval = \"1d\", start = NULL, end = NULL) \n",
       "    get_income_statement: function (frequency = c(\"annual\", \"quarter\"), clean_names = TRUE) \n",
       "    grading_history: active binding\n",
       "    index_trend: active binding\n",
       "    initialize: function (symbol = NA) \n",
       "    inside_holders: active binding\n",
       "    insider_transactions: active binding\n",
       "    institution_ownership: active binding\n",
       "    key_stats: active binding\n",
       "    major_holders: active binding\n",
       "    option_chain: active binding\n",
       "    option_expiration_dates: active binding\n",
       "    option_strikes: active binding\n",
       "    page_views: active binding\n",
       "    price: active binding\n",
       "    quote: active binding\n",
       "    quote_type: active binding\n",
       "    recommendation_trend: active binding\n",
       "    recommendations: active binding\n",
       "    security_filings: active binding\n",
       "    set_symbol: function (symbol) \n",
       "    share_purchase_activity: active binding\n",
       "    summary_detail: active binding\n",
       "    summary_profile: active binding\n",
       "    symbol: AAPL\n",
       "    technical_insights: active binding\n",
       "    valuation_measures: active binding\n",
       "  Private:\n",
       "    base_url: https://query1.finance.yahoo.com\n",
       "    cors_domain: finance.yahoo.com\n",
       "    display_data: function (req) \n",
       "    display_error: function (resp, parsed) \n",
       "    extract_valuation: function (data, measure) \n",
       "    parse_data: function (parsed) \n",
       "    path: v10/finance/quoteSummary/\n",
       "    resp_data: function (symbol, module) \n",
       "    snake_case: function (x) \n",
       "\n",
       "$MSFT\n",
       "<Ticker>\n",
       "  Public:\n",
       "    asset_profile: active binding\n",
       "    calendar_events: active binding\n",
       "    clone: function (deep = FALSE) \n",
       "    company_officers: active binding\n",
       "    earnings: active binding\n",
       "    earnings_history: active binding\n",
       "    earnings_trend: active binding\n",
       "    esg_scores: active binding\n",
       "    financial_data: active binding\n",
       "    fund_bond_holdings: active binding\n",
       "    fund_bond_ratings: active binding\n",
       "    fund_equity_holdings: active binding\n",
       "    fund_holding_info: active binding\n",
       "    fund_holdings: active binding\n",
       "    fund_ownership: active binding\n",
       "    fund_performance: active binding\n",
       "    fund_profile: active binding\n",
       "    fund_section_weightings: active binding\n",
       "    fund_top_holdings: active binding\n",
       "    get_balance_sheet: function (frequency = c(\"annual\", \"quarter\"), clean_names = TRUE) \n",
       "    get_cash_flow: function (frequency = c(\"annual\", \"quarter\"), clean_names = TRUE) \n",
       "    get_history: function (period = \"ytd\", interval = \"1d\", start = NULL, end = NULL) \n",
       "    get_income_statement: function (frequency = c(\"annual\", \"quarter\"), clean_names = TRUE) \n",
       "    grading_history: active binding\n",
       "    index_trend: active binding\n",
       "    initialize: function (symbol = NA) \n",
       "    inside_holders: active binding\n",
       "    insider_transactions: active binding\n",
       "    institution_ownership: active binding\n",
       "    key_stats: active binding\n",
       "    major_holders: active binding\n",
       "    option_chain: active binding\n",
       "    option_expiration_dates: active binding\n",
       "    option_strikes: active binding\n",
       "    page_views: active binding\n",
       "    price: active binding\n",
       "    quote: active binding\n",
       "    quote_type: active binding\n",
       "    recommendation_trend: active binding\n",
       "    recommendations: active binding\n",
       "    security_filings: active binding\n",
       "    set_symbol: function (symbol) \n",
       "    share_purchase_activity: active binding\n",
       "    summary_detail: active binding\n",
       "    summary_profile: active binding\n",
       "    symbol: MSFT\n",
       "    technical_insights: active binding\n",
       "    valuation_measures: active binding\n",
       "  Private:\n",
       "    base_url: https://query1.finance.yahoo.com\n",
       "    cors_domain: finance.yahoo.com\n",
       "    display_data: function (req) \n",
       "    display_error: function (resp, parsed) \n",
       "    extract_valuation: function (data, measure) \n",
       "    parse_data: function (parsed) \n",
       "    path: v10/finance/quoteSummary/\n",
       "    resp_data: function (symbol, module) \n",
       "    snake_case: function (x) \n",
       "\n",
       "$CVX\n",
       "<Ticker>\n",
       "  Public:\n",
       "    asset_profile: active binding\n",
       "    calendar_events: active binding\n",
       "    clone: function (deep = FALSE) \n",
       "    company_officers: active binding\n",
       "    earnings: active binding\n",
       "    earnings_history: active binding\n",
       "    earnings_trend: active binding\n",
       "    esg_scores: active binding\n",
       "    financial_data: active binding\n",
       "    fund_bond_holdings: active binding\n",
       "    fund_bond_ratings: active binding\n",
       "    fund_equity_holdings: active binding\n",
       "    fund_holding_info: active binding\n",
       "    fund_holdings: active binding\n",
       "    fund_ownership: active binding\n",
       "    fund_performance: active binding\n",
       "    fund_profile: active binding\n",
       "    fund_section_weightings: active binding\n",
       "    fund_top_holdings: active binding\n",
       "    get_balance_sheet: function (frequency = c(\"annual\", \"quarter\"), clean_names = TRUE) \n",
       "    get_cash_flow: function (frequency = c(\"annual\", \"quarter\"), clean_names = TRUE) \n",
       "    get_history: function (period = \"ytd\", interval = \"1d\", start = NULL, end = NULL) \n",
       "    get_income_statement: function (frequency = c(\"annual\", \"quarter\"), clean_names = TRUE) \n",
       "    grading_history: active binding\n",
       "    index_trend: active binding\n",
       "    initialize: function (symbol = NA) \n",
       "    inside_holders: active binding\n",
       "    insider_transactions: active binding\n",
       "    institution_ownership: active binding\n",
       "    key_stats: active binding\n",
       "    major_holders: active binding\n",
       "    option_chain: active binding\n",
       "    option_expiration_dates: active binding\n",
       "    option_strikes: active binding\n",
       "    page_views: active binding\n",
       "    price: active binding\n",
       "    quote: active binding\n",
       "    quote_type: active binding\n",
       "    recommendation_trend: active binding\n",
       "    recommendations: active binding\n",
       "    security_filings: active binding\n",
       "    set_symbol: function (symbol) \n",
       "    share_purchase_activity: active binding\n",
       "    summary_detail: active binding\n",
       "    summary_profile: active binding\n",
       "    symbol: CVX\n",
       "    technical_insights: active binding\n",
       "    valuation_measures: active binding\n",
       "  Private:\n",
       "    base_url: https://query1.finance.yahoo.com\n",
       "    cors_domain: finance.yahoo.com\n",
       "    display_data: function (req) \n",
       "    display_error: function (resp, parsed) \n",
       "    extract_valuation: function (data, measure) \n",
       "    parse_data: function (parsed) \n",
       "    path: v10/finance/quoteSummary/\n",
       "    resp_data: function (symbol, module) \n",
       "    snake_case: function (x) \n",
       "\n",
       "$PFE\n",
       "<Ticker>\n",
       "  Public:\n",
       "    asset_profile: active binding\n",
       "    calendar_events: active binding\n",
       "    clone: function (deep = FALSE) \n",
       "    company_officers: active binding\n",
       "    earnings: active binding\n",
       "    earnings_history: active binding\n",
       "    earnings_trend: active binding\n",
       "    esg_scores: active binding\n",
       "    financial_data: active binding\n",
       "    fund_bond_holdings: active binding\n",
       "    fund_bond_ratings: active binding\n",
       "    fund_equity_holdings: active binding\n",
       "    fund_holding_info: active binding\n",
       "    fund_holdings: active binding\n",
       "    fund_ownership: active binding\n",
       "    fund_performance: active binding\n",
       "    fund_profile: active binding\n",
       "    fund_section_weightings: active binding\n",
       "    fund_top_holdings: active binding\n",
       "    get_balance_sheet: function (frequency = c(\"annual\", \"quarter\"), clean_names = TRUE) \n",
       "    get_cash_flow: function (frequency = c(\"annual\", \"quarter\"), clean_names = TRUE) \n",
       "    get_history: function (period = \"ytd\", interval = \"1d\", start = NULL, end = NULL) \n",
       "    get_income_statement: function (frequency = c(\"annual\", \"quarter\"), clean_names = TRUE) \n",
       "    grading_history: active binding\n",
       "    index_trend: active binding\n",
       "    initialize: function (symbol = NA) \n",
       "    inside_holders: active binding\n",
       "    insider_transactions: active binding\n",
       "    institution_ownership: active binding\n",
       "    key_stats: active binding\n",
       "    major_holders: active binding\n",
       "    option_chain: active binding\n",
       "    option_expiration_dates: active binding\n",
       "    option_strikes: active binding\n",
       "    page_views: active binding\n",
       "    price: active binding\n",
       "    quote: active binding\n",
       "    quote_type: active binding\n",
       "    recommendation_trend: active binding\n",
       "    recommendations: active binding\n",
       "    security_filings: active binding\n",
       "    set_symbol: function (symbol) \n",
       "    share_purchase_activity: active binding\n",
       "    summary_detail: active binding\n",
       "    summary_profile: active binding\n",
       "    symbol: PFE\n",
       "    technical_insights: active binding\n",
       "    valuation_measures: active binding\n",
       "  Private:\n",
       "    base_url: https://query1.finance.yahoo.com\n",
       "    cors_domain: finance.yahoo.com\n",
       "    display_data: function (req) \n",
       "    display_error: function (resp, parsed) \n",
       "    extract_valuation: function (data, measure) \n",
       "    parse_data: function (parsed) \n",
       "    path: v10/finance/quoteSummary/\n",
       "    resp_data: function (symbol, module) \n",
       "    snake_case: function (x) \n"
      ]
     },
     "metadata": {},
     "output_type": "display_data"
    }
   ],
   "source": [
    "TickerObj_list"
   ]
  },
  {
   "cell_type": "markdown",
   "id": "08a166f8-4663-436d-81a5-48e25067312a",
   "metadata": {},
   "source": [
    "Init list of dataframes, parameters, and download data for each ticker"
   ]
  },
  {
   "cell_type": "code",
   "execution_count": 22,
   "id": "8b0c7a92-52c1-4bd7-b08a-4fdc81e6087c",
   "metadata": {},
   "outputs": [],
   "source": [
    "# Ticker$get_history() parameters\n",
    "start_date <- \"2023-03-01\"\n",
    "end_date <- \"2023-06-01\"\n",
    "interval <- \"1h\"\n",
    "# Init. list of dataframes\n",
    "dataframes_list <- list(ticker_list)"
   ]
  },
  {
   "cell_type": "code",
   "execution_count": 23,
   "id": "8855fb8f-8b92-4b0b-96df-4c5d5e5b2125",
   "metadata": {},
   "outputs": [],
   "source": [
    "# Downnload data for each ticker\n",
    "for (i in c(1:length(ticker_list))){\n",
    "    df_temp <- TickerObj_list[[ticker_list[i]]]$get_history(interval = interval,\n",
    "                                                            start = start_date,\n",
    "                                                            end = end_date,\n",
    "                                                           )\n",
    "    dataframes_list[[ticker_list[i]]] <- df_temp\n",
    "    }"
   ]
  },
  {
   "cell_type": "code",
   "execution_count": 36,
   "id": "146b9779-6476-443d-9479-69fb8e837862",
   "metadata": {},
   "outputs": [],
   "source": [
    "# Save to CSVs\n",
    "path_dir <- \"./datasets/\"\n",
    "fname_suffix <- \"_30min_2303-2306.csv\"\n",
    "for (i in c(1:length(ticker_list))){\n",
    "    # File name\n",
    "    fname = paste(path_dir, ticker_list[i], fname_suffix, sep = \"\")\n",
    "    # Save i-th dataframe to CSV\n",
    "    write.csv(x = dataframes_list[[ticker_list[i]]], file = fname)\n",
    "    }"
   ]
  },
  {
   "cell_type": "code",
   "execution_count": 30,
   "id": "0a5b3f28-51d5-42bf-a768-dc824bbafb46",
   "metadata": {},
   "outputs": [
    {
     "name": "stdout",
     "output_type": "stream",
     "text": [
      "nrow(dataframes_list$ JNJ ) =  449 \n",
      "nrow(dataframes_list$ AAPL ) =  449 \n",
      "nrow(dataframes_list$ MSFT ) =  449 \n",
      "nrow(dataframes_list$ CVX ) =  449 \n",
      "nrow(dataframes_list$ PFE ) =  449 \n"
     ]
    }
   ],
   "source": [
    "# Check the lengths\n",
    "for (i in c(1:length(ticker_list))){\n",
    "    cat(\"nrow(dataframes_list$\", ticker_list[i],\n",
    "        \") = \", nrow(dataframes_list[[ticker_list[i]]]),\n",
    "        \"\\n\"\n",
    "       )\n",
    "    }"
   ]
  },
  {
   "cell_type": "markdown",
   "id": "4bdd10e5-652c-445b-9856-5f03023e6ba5",
   "metadata": {},
   "source": [
    "## Working on a loaded CSV\n",
    "\n",
    "Load a dataset and see what it looks like"
   ]
  },
  {
   "cell_type": "code",
   "execution_count": 1,
   "id": "cd8f0af0-7d23-4467-b7cc-54d644af2817",
   "metadata": {},
   "outputs": [],
   "source": [
    "df_load_test = read.csv(file = \"./datasets/PFE_30min_2303-2306.csv\")"
   ]
  },
  {
   "cell_type": "code",
   "execution_count": 2,
   "id": "518bfb97-39cc-48bf-9208-b0c24e8b5d5b",
   "metadata": {},
   "outputs": [
    {
     "data": {
      "text/html": [
       "<table class=\"dataframe\">\n",
       "<caption>A data.frame: 6 × 7</caption>\n",
       "<thead>\n",
       "\t<tr><th></th><th scope=col>X</th><th scope=col>date</th><th scope=col>volume</th><th scope=col>high</th><th scope=col>low</th><th scope=col>open</th><th scope=col>close</th></tr>\n",
       "\t<tr><th></th><th scope=col>&lt;int&gt;</th><th scope=col>&lt;chr&gt;</th><th scope=col>&lt;int&gt;</th><th scope=col>&lt;dbl&gt;</th><th scope=col>&lt;dbl&gt;</th><th scope=col>&lt;dbl&gt;</th><th scope=col>&lt;dbl&gt;</th></tr>\n",
       "</thead>\n",
       "<tbody>\n",
       "\t<tr><th scope=row>1</th><td>1</td><td>2023-03-01 14:30:00</td><td>4054585</td><td>40.76</td><td>40.4515</td><td>40.5600</td><td>40.5350</td></tr>\n",
       "\t<tr><th scope=row>2</th><td>2</td><td>2023-03-01 15:30:00</td><td>2671482</td><td>40.71</td><td>40.3900</td><td>40.5350</td><td>40.4890</td></tr>\n",
       "\t<tr><th scope=row>3</th><td>3</td><td>2023-03-01 16:30:00</td><td>1729663</td><td>40.60</td><td>40.4400</td><td>40.4815</td><td>40.4450</td></tr>\n",
       "\t<tr><th scope=row>4</th><td>4</td><td>2023-03-01 17:30:00</td><td>1549711</td><td>40.48</td><td>40.3600</td><td>40.4500</td><td>40.3800</td></tr>\n",
       "\t<tr><th scope=row>5</th><td>5</td><td>2023-03-01 18:30:00</td><td>2432733</td><td>40.38</td><td>40.1400</td><td>40.3800</td><td>40.1550</td></tr>\n",
       "\t<tr><th scope=row>6</th><td>6</td><td>2023-03-01 19:30:00</td><td>2197362</td><td>40.29</td><td>40.1350</td><td>40.1500</td><td>40.2295</td></tr>\n",
       "</tbody>\n",
       "</table>\n"
      ],
      "text/latex": [
       "A data.frame: 6 × 7\n",
       "\\begin{tabular}{r|lllllll}\n",
       "  & X & date & volume & high & low & open & close\\\\\n",
       "  & <int> & <chr> & <int> & <dbl> & <dbl> & <dbl> & <dbl>\\\\\n",
       "\\hline\n",
       "\t1 & 1 & 2023-03-01 14:30:00 & 4054585 & 40.76 & 40.4515 & 40.5600 & 40.5350\\\\\n",
       "\t2 & 2 & 2023-03-01 15:30:00 & 2671482 & 40.71 & 40.3900 & 40.5350 & 40.4890\\\\\n",
       "\t3 & 3 & 2023-03-01 16:30:00 & 1729663 & 40.60 & 40.4400 & 40.4815 & 40.4450\\\\\n",
       "\t4 & 4 & 2023-03-01 17:30:00 & 1549711 & 40.48 & 40.3600 & 40.4500 & 40.3800\\\\\n",
       "\t5 & 5 & 2023-03-01 18:30:00 & 2432733 & 40.38 & 40.1400 & 40.3800 & 40.1550\\\\\n",
       "\t6 & 6 & 2023-03-01 19:30:00 & 2197362 & 40.29 & 40.1350 & 40.1500 & 40.2295\\\\\n",
       "\\end{tabular}\n"
      ],
      "text/markdown": [
       "\n",
       "A data.frame: 6 × 7\n",
       "\n",
       "| <!--/--> | X &lt;int&gt; | date &lt;chr&gt; | volume &lt;int&gt; | high &lt;dbl&gt; | low &lt;dbl&gt; | open &lt;dbl&gt; | close &lt;dbl&gt; |\n",
       "|---|---|---|---|---|---|---|---|\n",
       "| 1 | 1 | 2023-03-01 14:30:00 | 4054585 | 40.76 | 40.4515 | 40.5600 | 40.5350 |\n",
       "| 2 | 2 | 2023-03-01 15:30:00 | 2671482 | 40.71 | 40.3900 | 40.5350 | 40.4890 |\n",
       "| 3 | 3 | 2023-03-01 16:30:00 | 1729663 | 40.60 | 40.4400 | 40.4815 | 40.4450 |\n",
       "| 4 | 4 | 2023-03-01 17:30:00 | 1549711 | 40.48 | 40.3600 | 40.4500 | 40.3800 |\n",
       "| 5 | 5 | 2023-03-01 18:30:00 | 2432733 | 40.38 | 40.1400 | 40.3800 | 40.1550 |\n",
       "| 6 | 6 | 2023-03-01 19:30:00 | 2197362 | 40.29 | 40.1350 | 40.1500 | 40.2295 |\n",
       "\n"
      ],
      "text/plain": [
       "  X date                volume  high  low     open    close  \n",
       "1 1 2023-03-01 14:30:00 4054585 40.76 40.4515 40.5600 40.5350\n",
       "2 2 2023-03-01 15:30:00 2671482 40.71 40.3900 40.5350 40.4890\n",
       "3 3 2023-03-01 16:30:00 1729663 40.60 40.4400 40.4815 40.4450\n",
       "4 4 2023-03-01 17:30:00 1549711 40.48 40.3600 40.4500 40.3800\n",
       "5 5 2023-03-01 18:30:00 2432733 40.38 40.1400 40.3800 40.1550\n",
       "6 6 2023-03-01 19:30:00 2197362 40.29 40.1350 40.1500 40.2295"
      ]
     },
     "metadata": {},
     "output_type": "display_data"
    }
   ],
   "source": [
    "head(df_load_test)"
   ]
  },
  {
   "cell_type": "markdown",
   "id": "21448f8e-5fde-474b-9376-e2bff4f83c72",
   "metadata": {},
   "source": [
    "Do the following manipulations:\n",
    "1) Rename the columns with \"Date\", \"Vol\",... , \"Close\".\n",
    "2) Discuss the row and column selection system of R dataframes.\n",
    "3) Re-order the columns to \"Date\", \"Open\", \"High\", \"Low\", \"Close\", \"Vol\".\n",
    "4) Drop the \"X\", \"Open\", \"High\", and \"Low\"  columns.\n",
    "5) Remove the last date \"2023-06-13\", restrict timestamps to \"16:30\".\n",
    "6) Adding columns: a \"Cl_Rtns\" column with the close returns, \"Tic\" column with ticker name.\n",
    "7) Concatenating dataframes along rows/columns.\n",
    "8) Merging dataframes.\n",
    "9) Convert the date column to *POSIXct*.\n",
    "10) Convert the date column to the dataframe name column (or idx)"
   ]
  },
  {
   "cell_type": "code",
   "execution_count": 3,
   "id": "0d53663f-a7f6-4ee0-b721-acf1b484248f",
   "metadata": {},
   "outputs": [],
   "source": [
    "# Assign to working dataset\n",
    "df_PFE <- df_load_test"
   ]
  },
  {
   "cell_type": "markdown",
   "id": "4272cdec-9917-4b62-b896-9b42a58ea396",
   "metadata": {
    "tags": []
   },
   "source": [
    "### (1) Renaming columns\n",
    "\n",
    "First, create a copy of the working dataframe. To create one with different memory address(es), instantiate a new *data.frame* (do NOT use the \"<-\" assignment):"
   ]
  },
  {
   "cell_type": "code",
   "execution_count": 4,
   "id": "b9b42f72-4706-4e43-a593-3cda9093c4c8",
   "metadata": {},
   "outputs": [],
   "source": [
    "# Copy df_PFE to df_X\n",
    "df_X <- data.frame(df_PFE)"
   ]
  },
  {
   "cell_type": "code",
   "execution_count": 5,
   "id": "fcb27022-3465-46ca-92e3-f2a1a7d14b71",
   "metadata": {},
   "outputs": [
    {
     "data": {
      "text/html": [
       "<table class=\"dataframe\">\n",
       "<caption>A data.frame: 6 × 7</caption>\n",
       "<thead>\n",
       "\t<tr><th></th><th scope=col>X</th><th scope=col>date</th><th scope=col>volume</th><th scope=col>high</th><th scope=col>low</th><th scope=col>open</th><th scope=col>close</th></tr>\n",
       "\t<tr><th></th><th scope=col>&lt;int&gt;</th><th scope=col>&lt;chr&gt;</th><th scope=col>&lt;int&gt;</th><th scope=col>&lt;dbl&gt;</th><th scope=col>&lt;dbl&gt;</th><th scope=col>&lt;dbl&gt;</th><th scope=col>&lt;dbl&gt;</th></tr>\n",
       "</thead>\n",
       "<tbody>\n",
       "\t<tr><th scope=row>1</th><td>1</td><td>2023-03-01 14:30:00</td><td>4054585</td><td>40.76</td><td>40.4515</td><td>40.5600</td><td>40.5350</td></tr>\n",
       "\t<tr><th scope=row>2</th><td>2</td><td>2023-03-01 15:30:00</td><td>2671482</td><td>40.71</td><td>40.3900</td><td>40.5350</td><td>40.4890</td></tr>\n",
       "\t<tr><th scope=row>3</th><td>3</td><td>2023-03-01 16:30:00</td><td>1729663</td><td>40.60</td><td>40.4400</td><td>40.4815</td><td>40.4450</td></tr>\n",
       "\t<tr><th scope=row>4</th><td>4</td><td>2023-03-01 17:30:00</td><td>1549711</td><td>40.48</td><td>40.3600</td><td>40.4500</td><td>40.3800</td></tr>\n",
       "\t<tr><th scope=row>5</th><td>5</td><td>2023-03-01 18:30:00</td><td>2432733</td><td>40.38</td><td>40.1400</td><td>40.3800</td><td>40.1550</td></tr>\n",
       "\t<tr><th scope=row>6</th><td>6</td><td>2023-03-01 19:30:00</td><td>2197362</td><td>40.29</td><td>40.1350</td><td>40.1500</td><td>40.2295</td></tr>\n",
       "</tbody>\n",
       "</table>\n"
      ],
      "text/latex": [
       "A data.frame: 6 × 7\n",
       "\\begin{tabular}{r|lllllll}\n",
       "  & X & date & volume & high & low & open & close\\\\\n",
       "  & <int> & <chr> & <int> & <dbl> & <dbl> & <dbl> & <dbl>\\\\\n",
       "\\hline\n",
       "\t1 & 1 & 2023-03-01 14:30:00 & 4054585 & 40.76 & 40.4515 & 40.5600 & 40.5350\\\\\n",
       "\t2 & 2 & 2023-03-01 15:30:00 & 2671482 & 40.71 & 40.3900 & 40.5350 & 40.4890\\\\\n",
       "\t3 & 3 & 2023-03-01 16:30:00 & 1729663 & 40.60 & 40.4400 & 40.4815 & 40.4450\\\\\n",
       "\t4 & 4 & 2023-03-01 17:30:00 & 1549711 & 40.48 & 40.3600 & 40.4500 & 40.3800\\\\\n",
       "\t5 & 5 & 2023-03-01 18:30:00 & 2432733 & 40.38 & 40.1400 & 40.3800 & 40.1550\\\\\n",
       "\t6 & 6 & 2023-03-01 19:30:00 & 2197362 & 40.29 & 40.1350 & 40.1500 & 40.2295\\\\\n",
       "\\end{tabular}\n"
      ],
      "text/markdown": [
       "\n",
       "A data.frame: 6 × 7\n",
       "\n",
       "| <!--/--> | X &lt;int&gt; | date &lt;chr&gt; | volume &lt;int&gt; | high &lt;dbl&gt; | low &lt;dbl&gt; | open &lt;dbl&gt; | close &lt;dbl&gt; |\n",
       "|---|---|---|---|---|---|---|---|\n",
       "| 1 | 1 | 2023-03-01 14:30:00 | 4054585 | 40.76 | 40.4515 | 40.5600 | 40.5350 |\n",
       "| 2 | 2 | 2023-03-01 15:30:00 | 2671482 | 40.71 | 40.3900 | 40.5350 | 40.4890 |\n",
       "| 3 | 3 | 2023-03-01 16:30:00 | 1729663 | 40.60 | 40.4400 | 40.4815 | 40.4450 |\n",
       "| 4 | 4 | 2023-03-01 17:30:00 | 1549711 | 40.48 | 40.3600 | 40.4500 | 40.3800 |\n",
       "| 5 | 5 | 2023-03-01 18:30:00 | 2432733 | 40.38 | 40.1400 | 40.3800 | 40.1550 |\n",
       "| 6 | 6 | 2023-03-01 19:30:00 | 2197362 | 40.29 | 40.1350 | 40.1500 | 40.2295 |\n",
       "\n"
      ],
      "text/plain": [
       "  X date                volume  high  low     open    close  \n",
       "1 1 2023-03-01 14:30:00 4054585 40.76 40.4515 40.5600 40.5350\n",
       "2 2 2023-03-01 15:30:00 2671482 40.71 40.3900 40.5350 40.4890\n",
       "3 3 2023-03-01 16:30:00 1729663 40.60 40.4400 40.4815 40.4450\n",
       "4 4 2023-03-01 17:30:00 1549711 40.48 40.3600 40.4500 40.3800\n",
       "5 5 2023-03-01 18:30:00 2432733 40.38 40.1400 40.3800 40.1550\n",
       "6 6 2023-03-01 19:30:00 2197362 40.29 40.1350 40.1500 40.2295"
      ]
     },
     "metadata": {},
     "output_type": "display_data"
    }
   ],
   "source": [
    "head(df_X)"
   ]
  },
  {
   "cell_type": "markdown",
   "id": "fbe9f034-2f6c-4d37-9dc8-9014ee8cdba3",
   "metadata": {},
   "source": [
    "Renaming columns is done with the *colnames()* function:"
   ]
  },
  {
   "cell_type": "code",
   "execution_count": 6,
   "id": "ce455720-94e4-4ee8-b481-6542ee3c33b9",
   "metadata": {},
   "outputs": [
    {
     "data": {
      "text/html": [
       "<style>\n",
       ".list-inline {list-style: none; margin:0; padding: 0}\n",
       ".list-inline>li {display: inline-block}\n",
       ".list-inline>li:not(:last-child)::after {content: \"\\00b7\"; padding: 0 .5ex}\n",
       "</style>\n",
       "<ol class=list-inline><li>'X'</li><li>'date'</li><li>'volume'</li><li>'high'</li><li>'low'</li><li>'open'</li><li>'close'</li></ol>\n"
      ],
      "text/latex": [
       "\\begin{enumerate*}\n",
       "\\item 'X'\n",
       "\\item 'date'\n",
       "\\item 'volume'\n",
       "\\item 'high'\n",
       "\\item 'low'\n",
       "\\item 'open'\n",
       "\\item 'close'\n",
       "\\end{enumerate*}\n"
      ],
      "text/markdown": [
       "1. 'X'\n",
       "2. 'date'\n",
       "3. 'volume'\n",
       "4. 'high'\n",
       "5. 'low'\n",
       "6. 'open'\n",
       "7. 'close'\n",
       "\n",
       "\n"
      ],
      "text/plain": [
       "[1] \"X\"      \"date\"   \"volume\" \"high\"   \"low\"    \"open\"   \"close\" "
      ]
     },
     "metadata": {},
     "output_type": "display_data"
    }
   ],
   "source": [
    "colnames(df_X)"
   ]
  },
  {
   "cell_type": "code",
   "execution_count": 7,
   "id": "1875e1ec-ff1c-40d8-86ee-00740e42dded",
   "metadata": {},
   "outputs": [],
   "source": [
    "colnames(df_X) <- c(\"X\", \"Date\", \"Vol\", \"High\", \"Low\", \"Open\", \"Close\")"
   ]
  },
  {
   "cell_type": "code",
   "execution_count": 8,
   "id": "8fc08041-28a2-4952-b3a1-32ee0ba4ff24",
   "metadata": {},
   "outputs": [
    {
     "data": {
      "text/html": [
       "<table class=\"dataframe\">\n",
       "<caption>A data.frame: 6 × 7</caption>\n",
       "<thead>\n",
       "\t<tr><th></th><th scope=col>X</th><th scope=col>Date</th><th scope=col>Vol</th><th scope=col>High</th><th scope=col>Low</th><th scope=col>Open</th><th scope=col>Close</th></tr>\n",
       "\t<tr><th></th><th scope=col>&lt;int&gt;</th><th scope=col>&lt;chr&gt;</th><th scope=col>&lt;int&gt;</th><th scope=col>&lt;dbl&gt;</th><th scope=col>&lt;dbl&gt;</th><th scope=col>&lt;dbl&gt;</th><th scope=col>&lt;dbl&gt;</th></tr>\n",
       "</thead>\n",
       "<tbody>\n",
       "\t<tr><th scope=row>1</th><td>1</td><td>2023-03-01 14:30:00</td><td>4054585</td><td>40.76</td><td>40.4515</td><td>40.5600</td><td>40.5350</td></tr>\n",
       "\t<tr><th scope=row>2</th><td>2</td><td>2023-03-01 15:30:00</td><td>2671482</td><td>40.71</td><td>40.3900</td><td>40.5350</td><td>40.4890</td></tr>\n",
       "\t<tr><th scope=row>3</th><td>3</td><td>2023-03-01 16:30:00</td><td>1729663</td><td>40.60</td><td>40.4400</td><td>40.4815</td><td>40.4450</td></tr>\n",
       "\t<tr><th scope=row>4</th><td>4</td><td>2023-03-01 17:30:00</td><td>1549711</td><td>40.48</td><td>40.3600</td><td>40.4500</td><td>40.3800</td></tr>\n",
       "\t<tr><th scope=row>5</th><td>5</td><td>2023-03-01 18:30:00</td><td>2432733</td><td>40.38</td><td>40.1400</td><td>40.3800</td><td>40.1550</td></tr>\n",
       "\t<tr><th scope=row>6</th><td>6</td><td>2023-03-01 19:30:00</td><td>2197362</td><td>40.29</td><td>40.1350</td><td>40.1500</td><td>40.2295</td></tr>\n",
       "</tbody>\n",
       "</table>\n"
      ],
      "text/latex": [
       "A data.frame: 6 × 7\n",
       "\\begin{tabular}{r|lllllll}\n",
       "  & X & Date & Vol & High & Low & Open & Close\\\\\n",
       "  & <int> & <chr> & <int> & <dbl> & <dbl> & <dbl> & <dbl>\\\\\n",
       "\\hline\n",
       "\t1 & 1 & 2023-03-01 14:30:00 & 4054585 & 40.76 & 40.4515 & 40.5600 & 40.5350\\\\\n",
       "\t2 & 2 & 2023-03-01 15:30:00 & 2671482 & 40.71 & 40.3900 & 40.5350 & 40.4890\\\\\n",
       "\t3 & 3 & 2023-03-01 16:30:00 & 1729663 & 40.60 & 40.4400 & 40.4815 & 40.4450\\\\\n",
       "\t4 & 4 & 2023-03-01 17:30:00 & 1549711 & 40.48 & 40.3600 & 40.4500 & 40.3800\\\\\n",
       "\t5 & 5 & 2023-03-01 18:30:00 & 2432733 & 40.38 & 40.1400 & 40.3800 & 40.1550\\\\\n",
       "\t6 & 6 & 2023-03-01 19:30:00 & 2197362 & 40.29 & 40.1350 & 40.1500 & 40.2295\\\\\n",
       "\\end{tabular}\n"
      ],
      "text/markdown": [
       "\n",
       "A data.frame: 6 × 7\n",
       "\n",
       "| <!--/--> | X &lt;int&gt; | Date &lt;chr&gt; | Vol &lt;int&gt; | High &lt;dbl&gt; | Low &lt;dbl&gt; | Open &lt;dbl&gt; | Close &lt;dbl&gt; |\n",
       "|---|---|---|---|---|---|---|---|\n",
       "| 1 | 1 | 2023-03-01 14:30:00 | 4054585 | 40.76 | 40.4515 | 40.5600 | 40.5350 |\n",
       "| 2 | 2 | 2023-03-01 15:30:00 | 2671482 | 40.71 | 40.3900 | 40.5350 | 40.4890 |\n",
       "| 3 | 3 | 2023-03-01 16:30:00 | 1729663 | 40.60 | 40.4400 | 40.4815 | 40.4450 |\n",
       "| 4 | 4 | 2023-03-01 17:30:00 | 1549711 | 40.48 | 40.3600 | 40.4500 | 40.3800 |\n",
       "| 5 | 5 | 2023-03-01 18:30:00 | 2432733 | 40.38 | 40.1400 | 40.3800 | 40.1550 |\n",
       "| 6 | 6 | 2023-03-01 19:30:00 | 2197362 | 40.29 | 40.1350 | 40.1500 | 40.2295 |\n",
       "\n"
      ],
      "text/plain": [
       "  X Date                Vol     High  Low     Open    Close  \n",
       "1 1 2023-03-01 14:30:00 4054585 40.76 40.4515 40.5600 40.5350\n",
       "2 2 2023-03-01 15:30:00 2671482 40.71 40.3900 40.5350 40.4890\n",
       "3 3 2023-03-01 16:30:00 1729663 40.60 40.4400 40.4815 40.4450\n",
       "4 4 2023-03-01 17:30:00 1549711 40.48 40.3600 40.4500 40.3800\n",
       "5 5 2023-03-01 18:30:00 2432733 40.38 40.1400 40.3800 40.1550\n",
       "6 6 2023-03-01 19:30:00 2197362 40.29 40.1350 40.1500 40.2295"
      ]
     },
     "metadata": {},
     "output_type": "display_data"
    }
   ],
   "source": [
    "head(df_X)"
   ]
  },
  {
   "cell_type": "markdown",
   "id": "c05c756b-c9fc-4864-aeff-13fc462abb34",
   "metadata": {},
   "source": [
    "### (2) R's row/column selection system\n",
    "\n"
   ]
  },
  {
   "cell_type": "markdown",
   "id": "4fd4cd7f-3d7a-4aa3-9c9f-9af19813df85",
   "metadata": {},
   "source": [
    "#### Selecting rows and columns with vectors\n",
    "\n",
    "Given a *data.frame* *df_X*, the using the *[ **row indices**, **column indices**]* operator will select the desired rows and columns. \n",
    "\n",
    "If we select only the *Date* column and the rows 5 to 10:"
   ]
  },
  {
   "cell_type": "code",
   "execution_count": 9,
   "id": "5985ba5f-878e-45d5-a4d7-b68d4ef99ec6",
   "metadata": {},
   "outputs": [
    {
     "data": {
      "text/html": [
       "<style>\n",
       ".list-inline {list-style: none; margin:0; padding: 0}\n",
       ".list-inline>li {display: inline-block}\n",
       ".list-inline>li:not(:last-child)::after {content: \"\\00b7\"; padding: 0 .5ex}\n",
       "</style>\n",
       "<ol class=list-inline><li>'2023-03-01 18:30:00'</li><li>'2023-03-01 19:30:00'</li><li>'2023-03-01 20:30:00'</li><li>'2023-03-02 14:30:00'</li><li>'2023-03-02 15:30:00'</li><li>'2023-03-02 16:30:00'</li></ol>\n"
      ],
      "text/latex": [
       "\\begin{enumerate*}\n",
       "\\item '2023-03-01 18:30:00'\n",
       "\\item '2023-03-01 19:30:00'\n",
       "\\item '2023-03-01 20:30:00'\n",
       "\\item '2023-03-02 14:30:00'\n",
       "\\item '2023-03-02 15:30:00'\n",
       "\\item '2023-03-02 16:30:00'\n",
       "\\end{enumerate*}\n"
      ],
      "text/markdown": [
       "1. '2023-03-01 18:30:00'\n",
       "2. '2023-03-01 19:30:00'\n",
       "3. '2023-03-01 20:30:00'\n",
       "4. '2023-03-02 14:30:00'\n",
       "5. '2023-03-02 15:30:00'\n",
       "6. '2023-03-02 16:30:00'\n",
       "\n",
       "\n"
      ],
      "text/plain": [
       "[1] \"2023-03-01 18:30:00\" \"2023-03-01 19:30:00\" \"2023-03-01 20:30:00\"\n",
       "[4] \"2023-03-02 14:30:00\" \"2023-03-02 15:30:00\" \"2023-03-02 16:30:00\""
      ]
     },
     "metadata": {},
     "output_type": "display_data"
    }
   ],
   "source": [
    "df_X[c(5:10), \"Date\"]"
   ]
  },
  {
   "cell_type": "markdown",
   "id": "0265dd03-310c-439e-adb3-23f75bc3f46d",
   "metadata": {},
   "source": [
    "The class here is that of the values:"
   ]
  },
  {
   "cell_type": "code",
   "execution_count": 65,
   "id": "c5e972df-e27f-4311-9b85-ecd1e6646f5f",
   "metadata": {},
   "outputs": [
    {
     "data": {
      "text/html": [
       "'character'"
      ],
      "text/latex": [
       "'character'"
      ],
      "text/markdown": [
       "'character'"
      ],
      "text/plain": [
       "[1] \"character\""
      ]
     },
     "metadata": {},
     "output_type": "display_data"
    }
   ],
   "source": [
    "class(df_X[c(5:10), \"Date\"])"
   ]
  },
  {
   "cell_type": "markdown",
   "id": "3bd62f3a-c916-4d35-b52e-75e6d2a917ea",
   "metadata": {},
   "source": [
    "This is the same as column selection using $:"
   ]
  },
  {
   "cell_type": "code",
   "execution_count": 67,
   "id": "d123c95c-dff2-4910-8f52-d4f9adf48783",
   "metadata": {},
   "outputs": [
    {
     "data": {
      "text/html": [
       "<style>\n",
       ".list-inline {list-style: none; margin:0; padding: 0}\n",
       ".list-inline>li {display: inline-block}\n",
       ".list-inline>li:not(:last-child)::after {content: \"\\00b7\"; padding: 0 .5ex}\n",
       "</style>\n",
       "<ol class=list-inline><li>'2023-03-01 14:30:00'</li><li>'2023-03-01 15:30:00'</li><li>'2023-03-01 16:30:00'</li><li>'2023-03-01 17:30:00'</li><li>'2023-03-01 18:30:00'</li></ol>\n"
      ],
      "text/latex": [
       "\\begin{enumerate*}\n",
       "\\item '2023-03-01 14:30:00'\n",
       "\\item '2023-03-01 15:30:00'\n",
       "\\item '2023-03-01 16:30:00'\n",
       "\\item '2023-03-01 17:30:00'\n",
       "\\item '2023-03-01 18:30:00'\n",
       "\\end{enumerate*}\n"
      ],
      "text/markdown": [
       "1. '2023-03-01 14:30:00'\n",
       "2. '2023-03-01 15:30:00'\n",
       "3. '2023-03-01 16:30:00'\n",
       "4. '2023-03-01 17:30:00'\n",
       "5. '2023-03-01 18:30:00'\n",
       "\n",
       "\n"
      ],
      "text/plain": [
       "[1] \"2023-03-01 14:30:00\" \"2023-03-01 15:30:00\" \"2023-03-01 16:30:00\"\n",
       "[4] \"2023-03-01 17:30:00\" \"2023-03-01 18:30:00\""
      ]
     },
     "metadata": {},
     "output_type": "display_data"
    }
   ],
   "source": [
    "(df_X$Date)[1:5]"
   ]
  },
  {
   "cell_type": "code",
   "execution_count": 10,
   "id": "5d15b27a-807e-4ba9-b173-a21bae7a2932",
   "metadata": {},
   "outputs": [
    {
     "data": {
      "text/html": [
       "'character'"
      ],
      "text/latex": [
       "'character'"
      ],
      "text/markdown": [
       "'character'"
      ],
      "text/plain": [
       "[1] \"character\""
      ]
     },
     "metadata": {},
     "output_type": "display_data"
    }
   ],
   "source": [
    "class((df_X$Date)[1:5])"
   ]
  },
  {
   "cell_type": "code",
   "execution_count": 11,
   "id": "dc2bfc28-2e05-4bb9-962c-332b6717bf9d",
   "metadata": {},
   "outputs": [
    {
     "data": {
      "text/html": [
       "'character'"
      ],
      "text/latex": [
       "'character'"
      ],
      "text/markdown": [
       "'character'"
      ],
      "text/plain": [
       "[1] \"character\""
      ]
     },
     "metadata": {},
     "output_type": "display_data"
    }
   ],
   "source": [
    "class(df_X[c(1:5), \"Date\"])"
   ]
  },
  {
   "cell_type": "markdown",
   "id": "c67fe5e8-b17c-4de4-9529-54bdbe4434cb",
   "metadata": {},
   "source": [
    "Now, **to select multiple columns**, we can use either **integer** indices, which refer to the indices of *colnames(df_X)*:"
   ]
  },
  {
   "cell_type": "code",
   "execution_count": 12,
   "id": "a5a8bb0d-9798-49f3-9a88-de9cec4ffd40",
   "metadata": {},
   "outputs": [
    {
     "data": {
      "text/html": [
       "<table class=\"dataframe\">\n",
       "<caption>A data.frame: 5 × 6</caption>\n",
       "<thead>\n",
       "\t<tr><th></th><th scope=col>Date</th><th scope=col>Vol</th><th scope=col>High</th><th scope=col>Low</th><th scope=col>Open</th><th scope=col>Close</th></tr>\n",
       "\t<tr><th></th><th scope=col>&lt;chr&gt;</th><th scope=col>&lt;int&gt;</th><th scope=col>&lt;dbl&gt;</th><th scope=col>&lt;dbl&gt;</th><th scope=col>&lt;dbl&gt;</th><th scope=col>&lt;dbl&gt;</th></tr>\n",
       "</thead>\n",
       "<tbody>\n",
       "\t<tr><th scope=row>1</th><td>2023-03-01 14:30:00</td><td>4054585</td><td>40.76</td><td>40.4515</td><td>40.5600</td><td>40.535</td></tr>\n",
       "\t<tr><th scope=row>2</th><td>2023-03-01 15:30:00</td><td>2671482</td><td>40.71</td><td>40.3900</td><td>40.5350</td><td>40.489</td></tr>\n",
       "\t<tr><th scope=row>3</th><td>2023-03-01 16:30:00</td><td>1729663</td><td>40.60</td><td>40.4400</td><td>40.4815</td><td>40.445</td></tr>\n",
       "\t<tr><th scope=row>4</th><td>2023-03-01 17:30:00</td><td>1549711</td><td>40.48</td><td>40.3600</td><td>40.4500</td><td>40.380</td></tr>\n",
       "\t<tr><th scope=row>5</th><td>2023-03-01 18:30:00</td><td>2432733</td><td>40.38</td><td>40.1400</td><td>40.3800</td><td>40.155</td></tr>\n",
       "</tbody>\n",
       "</table>\n"
      ],
      "text/latex": [
       "A data.frame: 5 × 6\n",
       "\\begin{tabular}{r|llllll}\n",
       "  & Date & Vol & High & Low & Open & Close\\\\\n",
       "  & <chr> & <int> & <dbl> & <dbl> & <dbl> & <dbl>\\\\\n",
       "\\hline\n",
       "\t1 & 2023-03-01 14:30:00 & 4054585 & 40.76 & 40.4515 & 40.5600 & 40.535\\\\\n",
       "\t2 & 2023-03-01 15:30:00 & 2671482 & 40.71 & 40.3900 & 40.5350 & 40.489\\\\\n",
       "\t3 & 2023-03-01 16:30:00 & 1729663 & 40.60 & 40.4400 & 40.4815 & 40.445\\\\\n",
       "\t4 & 2023-03-01 17:30:00 & 1549711 & 40.48 & 40.3600 & 40.4500 & 40.380\\\\\n",
       "\t5 & 2023-03-01 18:30:00 & 2432733 & 40.38 & 40.1400 & 40.3800 & 40.155\\\\\n",
       "\\end{tabular}\n"
      ],
      "text/markdown": [
       "\n",
       "A data.frame: 5 × 6\n",
       "\n",
       "| <!--/--> | Date &lt;chr&gt; | Vol &lt;int&gt; | High &lt;dbl&gt; | Low &lt;dbl&gt; | Open &lt;dbl&gt; | Close &lt;dbl&gt; |\n",
       "|---|---|---|---|---|---|---|\n",
       "| 1 | 2023-03-01 14:30:00 | 4054585 | 40.76 | 40.4515 | 40.5600 | 40.535 |\n",
       "| 2 | 2023-03-01 15:30:00 | 2671482 | 40.71 | 40.3900 | 40.5350 | 40.489 |\n",
       "| 3 | 2023-03-01 16:30:00 | 1729663 | 40.60 | 40.4400 | 40.4815 | 40.445 |\n",
       "| 4 | 2023-03-01 17:30:00 | 1549711 | 40.48 | 40.3600 | 40.4500 | 40.380 |\n",
       "| 5 | 2023-03-01 18:30:00 | 2432733 | 40.38 | 40.1400 | 40.3800 | 40.155 |\n",
       "\n"
      ],
      "text/plain": [
       "  Date                Vol     High  Low     Open    Close \n",
       "1 2023-03-01 14:30:00 4054585 40.76 40.4515 40.5600 40.535\n",
       "2 2023-03-01 15:30:00 2671482 40.71 40.3900 40.5350 40.489\n",
       "3 2023-03-01 16:30:00 1729663 40.60 40.4400 40.4815 40.445\n",
       "4 2023-03-01 17:30:00 1549711 40.48 40.3600 40.4500 40.380\n",
       "5 2023-03-01 18:30:00 2432733 40.38 40.1400 40.3800 40.155"
      ]
     },
     "metadata": {},
     "output_type": "display_data"
    }
   ],
   "source": [
    "df_X[c(1:5), c(2:length(df_X))]"
   ]
  },
  {
   "cell_type": "markdown",
   "id": "785df5d1-333e-462e-b080-f409887557c7",
   "metadata": {},
   "source": [
    "or more conveniently, we can use **vectors of column labels**:"
   ]
  },
  {
   "cell_type": "code",
   "execution_count": 13,
   "id": "4179aadd-904c-418f-bb0f-0f87aaf23563",
   "metadata": {},
   "outputs": [
    {
     "data": {
      "text/html": [
       "<table class=\"dataframe\">\n",
       "<caption>A data.frame: 6 × 3</caption>\n",
       "<thead>\n",
       "\t<tr><th></th><th scope=col>Date</th><th scope=col>Close</th><th scope=col>Vol</th></tr>\n",
       "\t<tr><th></th><th scope=col>&lt;chr&gt;</th><th scope=col>&lt;dbl&gt;</th><th scope=col>&lt;int&gt;</th></tr>\n",
       "</thead>\n",
       "<tbody>\n",
       "\t<tr><th scope=row>444</th><td>2023-05-31 15:30:00</td><td>37.6999</td><td>2566348</td></tr>\n",
       "\t<tr><th scope=row>445</th><td>2023-05-31 16:30:00</td><td>37.5550</td><td>2036227</td></tr>\n",
       "\t<tr><th scope=row>446</th><td>2023-05-31 17:30:00</td><td>37.8356</td><td>3932752</td></tr>\n",
       "\t<tr><th scope=row>447</th><td>2023-05-31 18:30:00</td><td>37.9700</td><td>3134408</td></tr>\n",
       "\t<tr><th scope=row>448</th><td>2023-05-31 19:30:00</td><td>38.0650</td><td>6364509</td></tr>\n",
       "\t<tr><th scope=row>449</th><td>2023-06-13 20:00:00</td><td>40.2800</td><td>      0</td></tr>\n",
       "</tbody>\n",
       "</table>\n"
      ],
      "text/latex": [
       "A data.frame: 6 × 3\n",
       "\\begin{tabular}{r|lll}\n",
       "  & Date & Close & Vol\\\\\n",
       "  & <chr> & <dbl> & <int>\\\\\n",
       "\\hline\n",
       "\t444 & 2023-05-31 15:30:00 & 37.6999 & 2566348\\\\\n",
       "\t445 & 2023-05-31 16:30:00 & 37.5550 & 2036227\\\\\n",
       "\t446 & 2023-05-31 17:30:00 & 37.8356 & 3932752\\\\\n",
       "\t447 & 2023-05-31 18:30:00 & 37.9700 & 3134408\\\\\n",
       "\t448 & 2023-05-31 19:30:00 & 38.0650 & 6364509\\\\\n",
       "\t449 & 2023-06-13 20:00:00 & 40.2800 &       0\\\\\n",
       "\\end{tabular}\n"
      ],
      "text/markdown": [
       "\n",
       "A data.frame: 6 × 3\n",
       "\n",
       "| <!--/--> | Date &lt;chr&gt; | Close &lt;dbl&gt; | Vol &lt;int&gt; |\n",
       "|---|---|---|---|\n",
       "| 444 | 2023-05-31 15:30:00 | 37.6999 | 2566348 |\n",
       "| 445 | 2023-05-31 16:30:00 | 37.5550 | 2036227 |\n",
       "| 446 | 2023-05-31 17:30:00 | 37.8356 | 3932752 |\n",
       "| 447 | 2023-05-31 18:30:00 | 37.9700 | 3134408 |\n",
       "| 448 | 2023-05-31 19:30:00 | 38.0650 | 6364509 |\n",
       "| 449 | 2023-06-13 20:00:00 | 40.2800 |       0 |\n",
       "\n"
      ],
      "text/plain": [
       "    Date                Close   Vol    \n",
       "444 2023-05-31 15:30:00 37.6999 2566348\n",
       "445 2023-05-31 16:30:00 37.5550 2036227\n",
       "446 2023-05-31 17:30:00 37.8356 3932752\n",
       "447 2023-05-31 18:30:00 37.9700 3134408\n",
       "448 2023-05-31 19:30:00 38.0650 6364509\n",
       "449 2023-06-13 20:00:00 40.2800       0"
      ]
     },
     "metadata": {},
     "output_type": "display_data"
    }
   ],
   "source": [
    "tail(df_X[, c(\"Date\", \"Close\", \"Vol\")])"
   ]
  },
  {
   "cell_type": "markdown",
   "id": "aff93ca3-c313-42bb-a905-876fe25e2852",
   "metadata": {},
   "source": [
    "As we can see from the last cell, we can in fact order the columns however we want:"
   ]
  },
  {
   "cell_type": "code",
   "execution_count": 14,
   "id": "7f308bc6-96de-4bfd-9b7d-c2282ffe754a",
   "metadata": {},
   "outputs": [
    {
     "data": {
      "text/html": [
       "<table class=\"dataframe\">\n",
       "<caption>A data.frame: 6 × 6</caption>\n",
       "<thead>\n",
       "\t<tr><th></th><th scope=col>Date</th><th scope=col>Open</th><th scope=col>High</th><th scope=col>Low</th><th scope=col>Close</th><th scope=col>Vol</th></tr>\n",
       "\t<tr><th></th><th scope=col>&lt;chr&gt;</th><th scope=col>&lt;dbl&gt;</th><th scope=col>&lt;dbl&gt;</th><th scope=col>&lt;dbl&gt;</th><th scope=col>&lt;dbl&gt;</th><th scope=col>&lt;int&gt;</th></tr>\n",
       "</thead>\n",
       "<tbody>\n",
       "\t<tr><th scope=row>200</th><td>2023-04-11 16:30:00</td><td>41.9262</td><td>41.9900</td><td>41.845</td><td>41.9250</td><td>1520230</td></tr>\n",
       "\t<tr><th scope=row>201</th><td>2023-04-11 17:30:00</td><td>41.9229</td><td>41.9550</td><td>41.860</td><td>41.8700</td><td>1785593</td></tr>\n",
       "\t<tr><th scope=row>202</th><td>2023-04-11 18:30:00</td><td>41.8800</td><td>41.9200</td><td>41.800</td><td>41.8800</td><td>2358117</td></tr>\n",
       "\t<tr><th scope=row>203</th><td>2023-04-11 19:30:00</td><td>41.8800</td><td>41.8962</td><td>41.760</td><td>41.7900</td><td>2274593</td></tr>\n",
       "\t<tr><th scope=row>204</th><td>2023-04-12 13:30:00</td><td>41.6300</td><td>41.7900</td><td>41.350</td><td>41.6652</td><td>2634618</td></tr>\n",
       "\t<tr><th scope=row>205</th><td>2023-04-12 14:30:00</td><td>41.6650</td><td>41.6650</td><td>41.470</td><td>41.5550</td><td>1548028</td></tr>\n",
       "</tbody>\n",
       "</table>\n"
      ],
      "text/latex": [
       "A data.frame: 6 × 6\n",
       "\\begin{tabular}{r|llllll}\n",
       "  & Date & Open & High & Low & Close & Vol\\\\\n",
       "  & <chr> & <dbl> & <dbl> & <dbl> & <dbl> & <int>\\\\\n",
       "\\hline\n",
       "\t200 & 2023-04-11 16:30:00 & 41.9262 & 41.9900 & 41.845 & 41.9250 & 1520230\\\\\n",
       "\t201 & 2023-04-11 17:30:00 & 41.9229 & 41.9550 & 41.860 & 41.8700 & 1785593\\\\\n",
       "\t202 & 2023-04-11 18:30:00 & 41.8800 & 41.9200 & 41.800 & 41.8800 & 2358117\\\\\n",
       "\t203 & 2023-04-11 19:30:00 & 41.8800 & 41.8962 & 41.760 & 41.7900 & 2274593\\\\\n",
       "\t204 & 2023-04-12 13:30:00 & 41.6300 & 41.7900 & 41.350 & 41.6652 & 2634618\\\\\n",
       "\t205 & 2023-04-12 14:30:00 & 41.6650 & 41.6650 & 41.470 & 41.5550 & 1548028\\\\\n",
       "\\end{tabular}\n"
      ],
      "text/markdown": [
       "\n",
       "A data.frame: 6 × 6\n",
       "\n",
       "| <!--/--> | Date &lt;chr&gt; | Open &lt;dbl&gt; | High &lt;dbl&gt; | Low &lt;dbl&gt; | Close &lt;dbl&gt; | Vol &lt;int&gt; |\n",
       "|---|---|---|---|---|---|---|\n",
       "| 200 | 2023-04-11 16:30:00 | 41.9262 | 41.9900 | 41.845 | 41.9250 | 1520230 |\n",
       "| 201 | 2023-04-11 17:30:00 | 41.9229 | 41.9550 | 41.860 | 41.8700 | 1785593 |\n",
       "| 202 | 2023-04-11 18:30:00 | 41.8800 | 41.9200 | 41.800 | 41.8800 | 2358117 |\n",
       "| 203 | 2023-04-11 19:30:00 | 41.8800 | 41.8962 | 41.760 | 41.7900 | 2274593 |\n",
       "| 204 | 2023-04-12 13:30:00 | 41.6300 | 41.7900 | 41.350 | 41.6652 | 2634618 |\n",
       "| 205 | 2023-04-12 14:30:00 | 41.6650 | 41.6650 | 41.470 | 41.5550 | 1548028 |\n",
       "\n"
      ],
      "text/plain": [
       "    Date                Open    High    Low    Close   Vol    \n",
       "200 2023-04-11 16:30:00 41.9262 41.9900 41.845 41.9250 1520230\n",
       "201 2023-04-11 17:30:00 41.9229 41.9550 41.860 41.8700 1785593\n",
       "202 2023-04-11 18:30:00 41.8800 41.9200 41.800 41.8800 2358117\n",
       "203 2023-04-11 19:30:00 41.8800 41.8962 41.760 41.7900 2274593\n",
       "204 2023-04-12 13:30:00 41.6300 41.7900 41.350 41.6652 2634618\n",
       "205 2023-04-12 14:30:00 41.6650 41.6650 41.470 41.5550 1548028"
      ]
     },
     "metadata": {},
     "output_type": "display_data"
    }
   ],
   "source": [
    "df_X[c(200:205), c(2,6,4,5,7,3)]"
   ]
  },
  {
   "cell_type": "markdown",
   "id": "b1499d75-1a6d-44e6-9ee5-07b32b8bb4dd",
   "metadata": {},
   "source": [
    "**Crucial comment:** Unlike Pandas dataframes, when using the *[**rows**, **columns**]* operator to select either rows only or columns only, we **must** use the \",\" to indicate *all columns* or *all rows* respectively. Suppose we want all rows and only columns \"Date\", \"Close\", \"Vol\", then we write:\n",
    "\n",
    "        df_X[, c(\"Date\", \"Close\", \"Vol\")]\n",
    " \n",
    "and if we want only rows 100 to 200 and all columns, we write:\n",
    "\n",
    "        df_X[c(100:200), ]"
   ]
  },
  {
   "cell_type": "markdown",
   "id": "e4dbd7aa-302f-462c-b97a-19d060f8bc54",
   "metadata": {},
   "source": [
    "#### Conditional selections\n",
    "\n",
    "For example, suppose we only want the rows of *df_X* where the close price is between 38 and 40. Just like in Pandas, we will use the condition:\n",
    "    \n",
    "    (df_X$Close >= 38) & (df_X$Close <= 40)\n",
    "**on the rows, with the & instead of the Boolean &&**."
   ]
  },
  {
   "cell_type": "code",
   "execution_count": 15,
   "id": "3d96da23-b827-46e1-b0d2-96f45906d14b",
   "metadata": {},
   "outputs": [
    {
     "data": {
      "text/html": [
       "146"
      ],
      "text/latex": [
       "146"
      ],
      "text/markdown": [
       "146"
      ],
      "text/plain": [
       "[1] 146"
      ]
     },
     "metadata": {},
     "output_type": "display_data"
    }
   ],
   "source": [
    "nrow(df_X[(df_X$Close >= 38) & (df_X$Close <= 40),])"
   ]
  },
  {
   "cell_type": "code",
   "execution_count": 108,
   "id": "49cb6079-cad4-43ee-ac2a-ff6d4f3f000b",
   "metadata": {
    "collapsed": true,
    "jupyter": {
     "outputs_hidden": true,
     "source_hidden": true
    },
    "tags": []
   },
   "outputs": [
    {
     "data": {
      "text/html": [
       "36.2750015258789"
      ],
      "text/latex": [
       "36.2750015258789"
      ],
      "text/markdown": [
       "36.2750015258789"
      ],
      "text/plain": [
       "[1] 36.275"
      ]
     },
     "metadata": {},
     "output_type": "display_data"
    }
   ],
   "source": [
    "min(df_X$Close)"
   ]
  },
  {
   "cell_type": "code",
   "execution_count": 109,
   "id": "a199ea6f-525d-4cc2-aaa4-f71603aaeba4",
   "metadata": {
    "collapsed": true,
    "jupyter": {
     "outputs_hidden": true,
     "source_hidden": true
    },
    "tags": []
   },
   "outputs": [
    {
     "data": {
      "text/html": [
       "42.1749992370605"
      ],
      "text/latex": [
       "42.1749992370605"
      ],
      "text/markdown": [
       "42.1749992370605"
      ],
      "text/plain": [
       "[1] 42.175"
      ]
     },
     "metadata": {},
     "output_type": "display_data"
    }
   ],
   "source": [
    "max(df_X$Close)"
   ]
  },
  {
   "cell_type": "markdown",
   "id": "3ada8297-bf23-4e36-a40e-4c96646250fa",
   "metadata": {},
   "source": [
    "For the \"or\" operator, we still use \"|\", so that if we want the rows where the close price is below 37 or above 41, we use:\n",
    "\n",
    "        df_X[(df_X$Close >= 41) | (df_X$Close <= 37)"
   ]
  },
  {
   "cell_type": "code",
   "execution_count": 16,
   "id": "ac1325cb-bb4c-4444-a5cc-b400c8a40bcd",
   "metadata": {},
   "outputs": [
    {
     "data": {
      "text/html": [
       "99"
      ],
      "text/latex": [
       "99"
      ],
      "text/markdown": [
       "99"
      ],
      "text/plain": [
       "[1] 99"
      ]
     },
     "metadata": {},
     "output_type": "display_data"
    }
   ],
   "source": [
    "nrow(df_X[(df_X$Close >= 41) | (df_X$Close <= 37),])"
   ]
  },
  {
   "cell_type": "markdown",
   "id": "ffd6ca1b-6e3b-41ea-9c93-fb5ad07de825",
   "metadata": {},
   "source": [
    "Similarly, suppose we want to select all the 14:30 timestamps in the \"Date\" column. First, the values in the date column are all strings of length 19:"
   ]
  },
  {
   "cell_type": "code",
   "execution_count": 18,
   "id": "d8447b4e-7511-465a-bf2b-1e41432112d4",
   "metadata": {},
   "outputs": [
    {
     "data": {
      "text/html": [
       "19"
      ],
      "text/latex": [
       "19"
      ],
      "text/markdown": [
       "19"
      ],
      "text/plain": [
       "[1] 19"
      ]
     },
     "metadata": {},
     "output_type": "display_data"
    }
   ],
   "source": [
    "# Example string\n",
    "str_ex <- df_X[1, \"Date\"]\n",
    "nchar(str_ex)"
   ]
  },
  {
   "cell_type": "markdown",
   "id": "fb418352-e49a-4fd1-9e23-31781f091445",
   "metadata": {},
   "source": [
    "and the time is expressed in characters 12 to 19:"
   ]
  },
  {
   "cell_type": "code",
   "execution_count": 19,
   "id": "9b7d06a5-d7f1-4013-99d6-df92c498702d",
   "metadata": {},
   "outputs": [
    {
     "data": {
      "text/html": [
       "12"
      ],
      "text/latex": [
       "12"
      ],
      "text/markdown": [
       "12"
      ],
      "text/plain": [
       "[1] 12"
      ]
     },
     "metadata": {},
     "output_type": "display_data"
    }
   ],
   "source": [
    "# Target char\n",
    "tgt_char <- \"14:30:00\"\n",
    "unlist(gregexpr(tgt_char, str_ex))"
   ]
  },
  {
   "cell_type": "code",
   "execution_count": 20,
   "id": "4ee3d0e2-a5f5-4899-b529-2d794d7de708",
   "metadata": {},
   "outputs": [
    {
     "data": {
      "text/html": [
       "TRUE"
      ],
      "text/latex": [
       "TRUE"
      ],
      "text/markdown": [
       "TRUE"
      ],
      "text/plain": [
       "[1] TRUE"
      ]
     },
     "metadata": {},
     "output_type": "display_data"
    }
   ],
   "source": [
    "substr(str_ex,12,nchar(str_ex)) == tgt_char"
   ]
  },
  {
   "cell_type": "markdown",
   "id": "128469cd-be14-44b6-9352-c95907567837",
   "metadata": {},
   "source": [
    "We can thus select all rows of *df_X*, for which the last 8 characters are \"14:30:00\":"
   ]
  },
  {
   "cell_type": "code",
   "execution_count": 21,
   "id": "01ebd927-fbe6-4809-ae71-43c54fc453fa",
   "metadata": {},
   "outputs": [],
   "source": [
    "# Get const\n",
    "col_vec <- c(\"Date\", \"Close\", \"Vol\")\n",
    "start_idx <- unlist(gregexpr(tgt_char, str_ex))\n",
    "end_idx <- nchar(str_ex)"
   ]
  },
  {
   "cell_type": "code",
   "execution_count": 22,
   "id": "037aac91-85c8-467d-86c5-0cda303f8a60",
   "metadata": {},
   "outputs": [],
   "source": [
    "# Assign new\n",
    "df_Y <- df_X[(substr(df_X$Date,start_idx,end_idx)==tgt_char), \n",
    "             col_vec]"
   ]
  },
  {
   "cell_type": "code",
   "execution_count": 23,
   "id": "6e06c383-6530-40cf-a0ef-f950ce3882fd",
   "metadata": {},
   "outputs": [
    {
     "data": {
      "text/html": [
       "<table class=\"dataframe\">\n",
       "<caption>A data.frame: 6 × 3</caption>\n",
       "<thead>\n",
       "\t<tr><th></th><th scope=col>Date</th><th scope=col>Close</th><th scope=col>Vol</th></tr>\n",
       "\t<tr><th></th><th scope=col>&lt;chr&gt;</th><th scope=col>&lt;dbl&gt;</th><th scope=col>&lt;int&gt;</th></tr>\n",
       "</thead>\n",
       "<tbody>\n",
       "\t<tr><th scope=row>1</th><td>2023-03-01 14:30:00</td><td>40.535</td><td>4054585</td></tr>\n",
       "\t<tr><th scope=row>8</th><td>2023-03-02 14:30:00</td><td>40.015</td><td>3320980</td></tr>\n",
       "\t<tr><th scope=row>15</th><td>2023-03-03 14:30:00</td><td>41.020</td><td>5496986</td></tr>\n",
       "\t<tr><th scope=row>22</th><td>2023-03-06 14:30:00</td><td>41.075</td><td>3449676</td></tr>\n",
       "\t<tr><th scope=row>29</th><td>2023-03-07 14:30:00</td><td>40.460</td><td>3784700</td></tr>\n",
       "\t<tr><th scope=row>36</th><td>2023-03-08 14:30:00</td><td>40.145</td><td>2943005</td></tr>\n",
       "</tbody>\n",
       "</table>\n"
      ],
      "text/latex": [
       "A data.frame: 6 × 3\n",
       "\\begin{tabular}{r|lll}\n",
       "  & Date & Close & Vol\\\\\n",
       "  & <chr> & <dbl> & <int>\\\\\n",
       "\\hline\n",
       "\t1 & 2023-03-01 14:30:00 & 40.535 & 4054585\\\\\n",
       "\t8 & 2023-03-02 14:30:00 & 40.015 & 3320980\\\\\n",
       "\t15 & 2023-03-03 14:30:00 & 41.020 & 5496986\\\\\n",
       "\t22 & 2023-03-06 14:30:00 & 41.075 & 3449676\\\\\n",
       "\t29 & 2023-03-07 14:30:00 & 40.460 & 3784700\\\\\n",
       "\t36 & 2023-03-08 14:30:00 & 40.145 & 2943005\\\\\n",
       "\\end{tabular}\n"
      ],
      "text/markdown": [
       "\n",
       "A data.frame: 6 × 3\n",
       "\n",
       "| <!--/--> | Date &lt;chr&gt; | Close &lt;dbl&gt; | Vol &lt;int&gt; |\n",
       "|---|---|---|---|\n",
       "| 1 | 2023-03-01 14:30:00 | 40.535 | 4054585 |\n",
       "| 8 | 2023-03-02 14:30:00 | 40.015 | 3320980 |\n",
       "| 15 | 2023-03-03 14:30:00 | 41.020 | 5496986 |\n",
       "| 22 | 2023-03-06 14:30:00 | 41.075 | 3449676 |\n",
       "| 29 | 2023-03-07 14:30:00 | 40.460 | 3784700 |\n",
       "| 36 | 2023-03-08 14:30:00 | 40.145 | 2943005 |\n",
       "\n"
      ],
      "text/plain": [
       "   Date                Close  Vol    \n",
       "1  2023-03-01 14:30:00 40.535 4054585\n",
       "8  2023-03-02 14:30:00 40.015 3320980\n",
       "15 2023-03-03 14:30:00 41.020 5496986\n",
       "22 2023-03-06 14:30:00 41.075 3449676\n",
       "29 2023-03-07 14:30:00 40.460 3784700\n",
       "36 2023-03-08 14:30:00 40.145 2943005"
      ]
     },
     "metadata": {},
     "output_type": "display_data"
    }
   ],
   "source": [
    "head(df_Y)"
   ]
  },
  {
   "cell_type": "code",
   "execution_count": 135,
   "id": "0a3811df-bb51-44e6-b470-d98b3170d436",
   "metadata": {},
   "outputs": [
    {
     "data": {
      "text/html": [
       "64"
      ],
      "text/latex": [
       "64"
      ],
      "text/markdown": [
       "64"
      ],
      "text/plain": [
       "[1] 64"
      ]
     },
     "metadata": {},
     "output_type": "display_data"
    }
   ],
   "source": [
    "nrow(df_Y)"
   ]
  },
  {
   "cell_type": "markdown",
   "id": "5cae4e22-2372-46d3-8085-54336f56b2a7",
   "metadata": {},
   "source": [
    "### (3) Re-ordering and dropping columns\n",
    "\n",
    "In view of the previous section, re-ordering columns is done with column selection, and assigning the resulting dataframe to a new one. Returning to the PFE dataframe loaded in the pre-amble, we will create a dataframe containing only the date, close and volume columns."
   ]
  },
  {
   "cell_type": "code",
   "execution_count": 25,
   "id": "85a56ad5-f185-485c-8c91-d637d5444b04",
   "metadata": {},
   "outputs": [
    {
     "data": {
      "text/html": [
       "<table class=\"dataframe\">\n",
       "<caption>A data.frame: 6 × 7</caption>\n",
       "<thead>\n",
       "\t<tr><th></th><th scope=col>X</th><th scope=col>date</th><th scope=col>volume</th><th scope=col>high</th><th scope=col>low</th><th scope=col>open</th><th scope=col>close</th></tr>\n",
       "\t<tr><th></th><th scope=col>&lt;int&gt;</th><th scope=col>&lt;chr&gt;</th><th scope=col>&lt;int&gt;</th><th scope=col>&lt;dbl&gt;</th><th scope=col>&lt;dbl&gt;</th><th scope=col>&lt;dbl&gt;</th><th scope=col>&lt;dbl&gt;</th></tr>\n",
       "</thead>\n",
       "<tbody>\n",
       "\t<tr><th scope=row>1</th><td>1</td><td>2023-03-01 14:30:00</td><td>4054585</td><td>40.76</td><td>40.4515</td><td>40.5600</td><td>40.5350</td></tr>\n",
       "\t<tr><th scope=row>2</th><td>2</td><td>2023-03-01 15:30:00</td><td>2671482</td><td>40.71</td><td>40.3900</td><td>40.5350</td><td>40.4890</td></tr>\n",
       "\t<tr><th scope=row>3</th><td>3</td><td>2023-03-01 16:30:00</td><td>1729663</td><td>40.60</td><td>40.4400</td><td>40.4815</td><td>40.4450</td></tr>\n",
       "\t<tr><th scope=row>4</th><td>4</td><td>2023-03-01 17:30:00</td><td>1549711</td><td>40.48</td><td>40.3600</td><td>40.4500</td><td>40.3800</td></tr>\n",
       "\t<tr><th scope=row>5</th><td>5</td><td>2023-03-01 18:30:00</td><td>2432733</td><td>40.38</td><td>40.1400</td><td>40.3800</td><td>40.1550</td></tr>\n",
       "\t<tr><th scope=row>6</th><td>6</td><td>2023-03-01 19:30:00</td><td>2197362</td><td>40.29</td><td>40.1350</td><td>40.1500</td><td>40.2295</td></tr>\n",
       "</tbody>\n",
       "</table>\n"
      ],
      "text/latex": [
       "A data.frame: 6 × 7\n",
       "\\begin{tabular}{r|lllllll}\n",
       "  & X & date & volume & high & low & open & close\\\\\n",
       "  & <int> & <chr> & <int> & <dbl> & <dbl> & <dbl> & <dbl>\\\\\n",
       "\\hline\n",
       "\t1 & 1 & 2023-03-01 14:30:00 & 4054585 & 40.76 & 40.4515 & 40.5600 & 40.5350\\\\\n",
       "\t2 & 2 & 2023-03-01 15:30:00 & 2671482 & 40.71 & 40.3900 & 40.5350 & 40.4890\\\\\n",
       "\t3 & 3 & 2023-03-01 16:30:00 & 1729663 & 40.60 & 40.4400 & 40.4815 & 40.4450\\\\\n",
       "\t4 & 4 & 2023-03-01 17:30:00 & 1549711 & 40.48 & 40.3600 & 40.4500 & 40.3800\\\\\n",
       "\t5 & 5 & 2023-03-01 18:30:00 & 2432733 & 40.38 & 40.1400 & 40.3800 & 40.1550\\\\\n",
       "\t6 & 6 & 2023-03-01 19:30:00 & 2197362 & 40.29 & 40.1350 & 40.1500 & 40.2295\\\\\n",
       "\\end{tabular}\n"
      ],
      "text/markdown": [
       "\n",
       "A data.frame: 6 × 7\n",
       "\n",
       "| <!--/--> | X &lt;int&gt; | date &lt;chr&gt; | volume &lt;int&gt; | high &lt;dbl&gt; | low &lt;dbl&gt; | open &lt;dbl&gt; | close &lt;dbl&gt; |\n",
       "|---|---|---|---|---|---|---|---|\n",
       "| 1 | 1 | 2023-03-01 14:30:00 | 4054585 | 40.76 | 40.4515 | 40.5600 | 40.5350 |\n",
       "| 2 | 2 | 2023-03-01 15:30:00 | 2671482 | 40.71 | 40.3900 | 40.5350 | 40.4890 |\n",
       "| 3 | 3 | 2023-03-01 16:30:00 | 1729663 | 40.60 | 40.4400 | 40.4815 | 40.4450 |\n",
       "| 4 | 4 | 2023-03-01 17:30:00 | 1549711 | 40.48 | 40.3600 | 40.4500 | 40.3800 |\n",
       "| 5 | 5 | 2023-03-01 18:30:00 | 2432733 | 40.38 | 40.1400 | 40.3800 | 40.1550 |\n",
       "| 6 | 6 | 2023-03-01 19:30:00 | 2197362 | 40.29 | 40.1350 | 40.1500 | 40.2295 |\n",
       "\n"
      ],
      "text/plain": [
       "  X date                volume  high  low     open    close  \n",
       "1 1 2023-03-01 14:30:00 4054585 40.76 40.4515 40.5600 40.5350\n",
       "2 2 2023-03-01 15:30:00 2671482 40.71 40.3900 40.5350 40.4890\n",
       "3 3 2023-03-01 16:30:00 1729663 40.60 40.4400 40.4815 40.4450\n",
       "4 4 2023-03-01 17:30:00 1549711 40.48 40.3600 40.4500 40.3800\n",
       "5 5 2023-03-01 18:30:00 2432733 40.38 40.1400 40.3800 40.1550\n",
       "6 6 2023-03-01 19:30:00 2197362 40.29 40.1350 40.1500 40.2295"
      ]
     },
     "metadata": {},
     "output_type": "display_data"
    }
   ],
   "source": [
    "head(df_PFE)"
   ]
  },
  {
   "cell_type": "code",
   "execution_count": 27,
   "id": "79241241-5976-4d1b-a9a8-5e2d6426fe97",
   "metadata": {},
   "outputs": [
    {
     "data": {
      "text/html": [
       "<table class=\"dataframe\">\n",
       "<caption>A data.frame: 6 × 3</caption>\n",
       "<thead>\n",
       "\t<tr><th></th><th scope=col>Date</th><th scope=col>Close</th><th scope=col>Vol</th></tr>\n",
       "\t<tr><th></th><th scope=col>&lt;chr&gt;</th><th scope=col>&lt;dbl&gt;</th><th scope=col>&lt;int&gt;</th></tr>\n",
       "</thead>\n",
       "<tbody>\n",
       "\t<tr><th scope=row>1</th><td>2023-03-01 14:30:00</td><td>40.5350</td><td>4054585</td></tr>\n",
       "\t<tr><th scope=row>2</th><td>2023-03-01 15:30:00</td><td>40.4890</td><td>2671482</td></tr>\n",
       "\t<tr><th scope=row>3</th><td>2023-03-01 16:30:00</td><td>40.4450</td><td>1729663</td></tr>\n",
       "\t<tr><th scope=row>4</th><td>2023-03-01 17:30:00</td><td>40.3800</td><td>1549711</td></tr>\n",
       "\t<tr><th scope=row>5</th><td>2023-03-01 18:30:00</td><td>40.1550</td><td>2432733</td></tr>\n",
       "\t<tr><th scope=row>6</th><td>2023-03-01 19:30:00</td><td>40.2295</td><td>2197362</td></tr>\n",
       "</tbody>\n",
       "</table>\n"
      ],
      "text/latex": [
       "A data.frame: 6 × 3\n",
       "\\begin{tabular}{r|lll}\n",
       "  & Date & Close & Vol\\\\\n",
       "  & <chr> & <dbl> & <int>\\\\\n",
       "\\hline\n",
       "\t1 & 2023-03-01 14:30:00 & 40.5350 & 4054585\\\\\n",
       "\t2 & 2023-03-01 15:30:00 & 40.4890 & 2671482\\\\\n",
       "\t3 & 2023-03-01 16:30:00 & 40.4450 & 1729663\\\\\n",
       "\t4 & 2023-03-01 17:30:00 & 40.3800 & 1549711\\\\\n",
       "\t5 & 2023-03-01 18:30:00 & 40.1550 & 2432733\\\\\n",
       "\t6 & 2023-03-01 19:30:00 & 40.2295 & 2197362\\\\\n",
       "\\end{tabular}\n"
      ],
      "text/markdown": [
       "\n",
       "A data.frame: 6 × 3\n",
       "\n",
       "| <!--/--> | Date &lt;chr&gt; | Close &lt;dbl&gt; | Vol &lt;int&gt; |\n",
       "|---|---|---|---|\n",
       "| 1 | 2023-03-01 14:30:00 | 40.5350 | 4054585 |\n",
       "| 2 | 2023-03-01 15:30:00 | 40.4890 | 2671482 |\n",
       "| 3 | 2023-03-01 16:30:00 | 40.4450 | 1729663 |\n",
       "| 4 | 2023-03-01 17:30:00 | 40.3800 | 1549711 |\n",
       "| 5 | 2023-03-01 18:30:00 | 40.1550 | 2432733 |\n",
       "| 6 | 2023-03-01 19:30:00 | 40.2295 | 2197362 |\n",
       "\n"
      ],
      "text/plain": [
       "  Date                Close   Vol    \n",
       "1 2023-03-01 14:30:00 40.5350 4054585\n",
       "2 2023-03-01 15:30:00 40.4890 2671482\n",
       "3 2023-03-01 16:30:00 40.4450 1729663\n",
       "4 2023-03-01 17:30:00 40.3800 1549711\n",
       "5 2023-03-01 18:30:00 40.1550 2432733\n",
       "6 2023-03-01 19:30:00 40.2295 2197362"
      ]
     },
     "metadata": {},
     "output_type": "display_data"
    }
   ],
   "source": [
    "# Columns to display\n",
    "cols_vec_old <- c(\"date\", \"close\", \"volume\")\n",
    "cols_vec_new <- c(\"Date\", \"Close\", \"Vol\")\n",
    "# Drop columns \n",
    "df_X <- df_PFE[, cols_vec_old]\n",
    "# Rename columns\n",
    "colnames(df_X)<-cols_vec_new\n",
    "# Display\n",
    "head(df_X)"
   ]
  },
  {
   "cell_type": "markdown",
   "id": "4e7f0385-b454-4f33-aded-1eb3a89eb20c",
   "metadata": {},
   "source": [
    "Another way of dropping columns (Kabacoff, 3.10.2) is to use a set complement:"
   ]
  },
  {
   "cell_type": "code",
   "execution_count": 34,
   "id": "7551b9a3-8a7d-4f98-907d-cf379d0d6d9d",
   "metadata": {},
   "outputs": [],
   "source": [
    "# Columns to drop\n",
    "drop_cols <- colnames(df_PFE) %in% c(\"X\", \"open\", \"high\", \"low\")\n",
    "# Assign new df woth !drop_cols\n",
    "df_Y <- df_PFE[!drop_cols]"
   ]
  },
  {
   "cell_type": "code",
   "execution_count": 35,
   "id": "d6cab7fe-acc1-482b-ae60-ee575134e7c2",
   "metadata": {},
   "outputs": [
    {
     "data": {
      "text/html": [
       "<table class=\"dataframe\">\n",
       "<caption>A data.frame: 6 × 3</caption>\n",
       "<thead>\n",
       "\t<tr><th></th><th scope=col>date</th><th scope=col>volume</th><th scope=col>close</th></tr>\n",
       "\t<tr><th></th><th scope=col>&lt;chr&gt;</th><th scope=col>&lt;int&gt;</th><th scope=col>&lt;dbl&gt;</th></tr>\n",
       "</thead>\n",
       "<tbody>\n",
       "\t<tr><th scope=row>1</th><td>2023-03-01 14:30:00</td><td>4054585</td><td>40.5350</td></tr>\n",
       "\t<tr><th scope=row>2</th><td>2023-03-01 15:30:00</td><td>2671482</td><td>40.4890</td></tr>\n",
       "\t<tr><th scope=row>3</th><td>2023-03-01 16:30:00</td><td>1729663</td><td>40.4450</td></tr>\n",
       "\t<tr><th scope=row>4</th><td>2023-03-01 17:30:00</td><td>1549711</td><td>40.3800</td></tr>\n",
       "\t<tr><th scope=row>5</th><td>2023-03-01 18:30:00</td><td>2432733</td><td>40.1550</td></tr>\n",
       "\t<tr><th scope=row>6</th><td>2023-03-01 19:30:00</td><td>2197362</td><td>40.2295</td></tr>\n",
       "</tbody>\n",
       "</table>\n"
      ],
      "text/latex": [
       "A data.frame: 6 × 3\n",
       "\\begin{tabular}{r|lll}\n",
       "  & date & volume & close\\\\\n",
       "  & <chr> & <int> & <dbl>\\\\\n",
       "\\hline\n",
       "\t1 & 2023-03-01 14:30:00 & 4054585 & 40.5350\\\\\n",
       "\t2 & 2023-03-01 15:30:00 & 2671482 & 40.4890\\\\\n",
       "\t3 & 2023-03-01 16:30:00 & 1729663 & 40.4450\\\\\n",
       "\t4 & 2023-03-01 17:30:00 & 1549711 & 40.3800\\\\\n",
       "\t5 & 2023-03-01 18:30:00 & 2432733 & 40.1550\\\\\n",
       "\t6 & 2023-03-01 19:30:00 & 2197362 & 40.2295\\\\\n",
       "\\end{tabular}\n"
      ],
      "text/markdown": [
       "\n",
       "A data.frame: 6 × 3\n",
       "\n",
       "| <!--/--> | date &lt;chr&gt; | volume &lt;int&gt; | close &lt;dbl&gt; |\n",
       "|---|---|---|---|\n",
       "| 1 | 2023-03-01 14:30:00 | 4054585 | 40.5350 |\n",
       "| 2 | 2023-03-01 15:30:00 | 2671482 | 40.4890 |\n",
       "| 3 | 2023-03-01 16:30:00 | 1729663 | 40.4450 |\n",
       "| 4 | 2023-03-01 17:30:00 | 1549711 | 40.3800 |\n",
       "| 5 | 2023-03-01 18:30:00 | 2432733 | 40.1550 |\n",
       "| 6 | 2023-03-01 19:30:00 | 2197362 | 40.2295 |\n",
       "\n"
      ],
      "text/plain": [
       "  date                volume  close  \n",
       "1 2023-03-01 14:30:00 4054585 40.5350\n",
       "2 2023-03-01 15:30:00 2671482 40.4890\n",
       "3 2023-03-01 16:30:00 1729663 40.4450\n",
       "4 2023-03-01 17:30:00 1549711 40.3800\n",
       "5 2023-03-01 18:30:00 2432733 40.1550\n",
       "6 2023-03-01 19:30:00 2197362 40.2295"
      ]
     },
     "metadata": {},
     "output_type": "display_data"
    }
   ],
   "source": [
    "head(df_Y)"
   ]
  },
  {
   "cell_type": "markdown",
   "id": "885ec4ad-4a64-4fb3-9e46-4c7dc9dfd07a",
   "metadata": {},
   "source": [
    "Some how, you do not need \",\" for Booleans. Remember the \"%in%\"."
   ]
  },
  {
   "cell_type": "markdown",
   "id": "1f2659a5-3eaa-4b06-a6a1-047841523ed9",
   "metadata": {},
   "source": [
    "### (4) Restricting rows to specific timestamps\n",
    "\n",
    "Again, this is done with conditional selection on the rows and re-assignment. First, let's make a smaller set of timestamps, one for each date, at 16:30:"
   ]
  },
  {
   "cell_type": "code",
   "execution_count": 6,
   "id": "db347e91-152a-4b2e-b75f-9fbb0c8c3ea6",
   "metadata": {},
   "outputs": [],
   "source": [
    "# Init. timestamp vec (empty vec)\n",
    "timestamp_vec <- c()\n",
    "# PFE timestamps\n",
    "pfe_timestamps <- df_PFE$date\n",
    "# tgt_str \n",
    "tgt_str <- \"16:30:00\"\n",
    "\n",
    "for (i in c(1:nrow(df_PFE))){\n",
    "    if (substr(pfe_timestamps[i],12,19) == tgt_str){\n",
    "        timestamp_vec<-append(timestamp_vec, pfe_timestamps[i])\n",
    "        }\n",
    "    }\n"
   ]
  },
  {
   "cell_type": "markdown",
   "id": "42bd0f39-6f9e-445d-a92d-365e90605243",
   "metadata": {},
   "source": [
    "Now we can easily extract our desired dataframe:"
   ]
  },
  {
   "cell_type": "code",
   "execution_count": 56,
   "id": "6e987133-0fc5-4fde-a1f8-0690dbfd04e1",
   "metadata": {},
   "outputs": [],
   "source": [
    "df_X <- df_PFE[df_PFE$date %in% timestamp_vec, c(\"date\", \"close\", \"volume\")]"
   ]
  },
  {
   "cell_type": "code",
   "execution_count": 58,
   "id": "9ce04f6d-750d-4f6f-b802-b24d3947aaed",
   "metadata": {},
   "outputs": [
    {
     "data": {
      "text/html": [
       "<table class=\"dataframe\">\n",
       "<caption>A data.frame: 6 × 3</caption>\n",
       "<thead>\n",
       "\t<tr><th></th><th scope=col>date</th><th scope=col>close</th><th scope=col>volume</th></tr>\n",
       "\t<tr><th></th><th scope=col>&lt;chr&gt;</th><th scope=col>&lt;dbl&gt;</th><th scope=col>&lt;int&gt;</th></tr>\n",
       "</thead>\n",
       "<tbody>\n",
       "\t<tr><th scope=row>410</th><td>2023-05-23 16:30:00</td><td>39.5383</td><td>10235140</td></tr>\n",
       "\t<tr><th scope=row>417</th><td>2023-05-24 16:30:00</td><td>38.9000</td><td> 2437953</td></tr>\n",
       "\t<tr><th scope=row>424</th><td>2023-05-25 16:30:00</td><td>38.0100</td><td> 2218692</td></tr>\n",
       "\t<tr><th scope=row>431</th><td>2023-05-26 16:30:00</td><td>37.7350</td><td> 1421199</td></tr>\n",
       "\t<tr><th scope=row>438</th><td>2023-05-30 16:30:00</td><td>36.9985</td><td> 2465908</td></tr>\n",
       "\t<tr><th scope=row>445</th><td>2023-05-31 16:30:00</td><td>37.5550</td><td> 2036227</td></tr>\n",
       "</tbody>\n",
       "</table>\n"
      ],
      "text/latex": [
       "A data.frame: 6 × 3\n",
       "\\begin{tabular}{r|lll}\n",
       "  & date & close & volume\\\\\n",
       "  & <chr> & <dbl> & <int>\\\\\n",
       "\\hline\n",
       "\t410 & 2023-05-23 16:30:00 & 39.5383 & 10235140\\\\\n",
       "\t417 & 2023-05-24 16:30:00 & 38.9000 &  2437953\\\\\n",
       "\t424 & 2023-05-25 16:30:00 & 38.0100 &  2218692\\\\\n",
       "\t431 & 2023-05-26 16:30:00 & 37.7350 &  1421199\\\\\n",
       "\t438 & 2023-05-30 16:30:00 & 36.9985 &  2465908\\\\\n",
       "\t445 & 2023-05-31 16:30:00 & 37.5550 &  2036227\\\\\n",
       "\\end{tabular}\n"
      ],
      "text/markdown": [
       "\n",
       "A data.frame: 6 × 3\n",
       "\n",
       "| <!--/--> | date &lt;chr&gt; | close &lt;dbl&gt; | volume &lt;int&gt; |\n",
       "|---|---|---|---|\n",
       "| 410 | 2023-05-23 16:30:00 | 39.5383 | 10235140 |\n",
       "| 417 | 2023-05-24 16:30:00 | 38.9000 |  2437953 |\n",
       "| 424 | 2023-05-25 16:30:00 | 38.0100 |  2218692 |\n",
       "| 431 | 2023-05-26 16:30:00 | 37.7350 |  1421199 |\n",
       "| 438 | 2023-05-30 16:30:00 | 36.9985 |  2465908 |\n",
       "| 445 | 2023-05-31 16:30:00 | 37.5550 |  2036227 |\n",
       "\n"
      ],
      "text/plain": [
       "    date                close   volume  \n",
       "410 2023-05-23 16:30:00 39.5383 10235140\n",
       "417 2023-05-24 16:30:00 38.9000  2437953\n",
       "424 2023-05-25 16:30:00 38.0100  2218692\n",
       "431 2023-05-26 16:30:00 37.7350  1421199\n",
       "438 2023-05-30 16:30:00 36.9985  2465908\n",
       "445 2023-05-31 16:30:00 37.5550  2036227"
      ]
     },
     "metadata": {},
     "output_type": "display_data"
    }
   ],
   "source": [
    "tail(df_X)"
   ]
  },
  {
   "cell_type": "markdown",
   "id": "8fccb616-ad4c-4813-b380-925c56cd6bd3",
   "metadata": {
    "tags": []
   },
   "source": [
    "### (5) Adding columns\n",
    "\n",
    "Continue with last df_X. Add a \"tic\" column:"
   ]
  },
  {
   "cell_type": "code",
   "execution_count": 59,
   "id": "f6a7d541-5074-44d9-b018-f11b118b20ca",
   "metadata": {},
   "outputs": [],
   "source": [
    "df_X_ <- data.frame(df_X)"
   ]
  },
  {
   "cell_type": "code",
   "execution_count": 60,
   "id": "6e15c992-1368-4758-a308-a5f9794e4ccb",
   "metadata": {},
   "outputs": [
    {
     "data": {
      "text/html": [
       "<table class=\"dataframe\">\n",
       "<caption>A data.frame: 6 × 4</caption>\n",
       "<thead>\n",
       "\t<tr><th></th><th scope=col>date</th><th scope=col>close</th><th scope=col>volume</th><th scope=col>tic</th></tr>\n",
       "\t<tr><th></th><th scope=col>&lt;chr&gt;</th><th scope=col>&lt;dbl&gt;</th><th scope=col>&lt;int&gt;</th><th scope=col>&lt;chr&gt;</th></tr>\n",
       "</thead>\n",
       "<tbody>\n",
       "\t<tr><th scope=row>3</th><td>2023-03-01 16:30:00</td><td>40.445</td><td>1729663</td><td>PFE</td></tr>\n",
       "\t<tr><th scope=row>10</th><td>2023-03-02 16:30:00</td><td>40.295</td><td>1849920</td><td>PFE</td></tr>\n",
       "\t<tr><th scope=row>17</th><td>2023-03-03 16:30:00</td><td>40.965</td><td>1685599</td><td>PFE</td></tr>\n",
       "\t<tr><th scope=row>24</th><td>2023-03-06 16:30:00</td><td>41.185</td><td>1870325</td><td>PFE</td></tr>\n",
       "\t<tr><th scope=row>31</th><td>2023-03-07 16:30:00</td><td>40.350</td><td>3756535</td><td>PFE</td></tr>\n",
       "\t<tr><th scope=row>38</th><td>2023-03-08 16:30:00</td><td>40.030</td><td>2351311</td><td>PFE</td></tr>\n",
       "</tbody>\n",
       "</table>\n"
      ],
      "text/latex": [
       "A data.frame: 6 × 4\n",
       "\\begin{tabular}{r|llll}\n",
       "  & date & close & volume & tic\\\\\n",
       "  & <chr> & <dbl> & <int> & <chr>\\\\\n",
       "\\hline\n",
       "\t3 & 2023-03-01 16:30:00 & 40.445 & 1729663 & PFE\\\\\n",
       "\t10 & 2023-03-02 16:30:00 & 40.295 & 1849920 & PFE\\\\\n",
       "\t17 & 2023-03-03 16:30:00 & 40.965 & 1685599 & PFE\\\\\n",
       "\t24 & 2023-03-06 16:30:00 & 41.185 & 1870325 & PFE\\\\\n",
       "\t31 & 2023-03-07 16:30:00 & 40.350 & 3756535 & PFE\\\\\n",
       "\t38 & 2023-03-08 16:30:00 & 40.030 & 2351311 & PFE\\\\\n",
       "\\end{tabular}\n"
      ],
      "text/markdown": [
       "\n",
       "A data.frame: 6 × 4\n",
       "\n",
       "| <!--/--> | date &lt;chr&gt; | close &lt;dbl&gt; | volume &lt;int&gt; | tic &lt;chr&gt; |\n",
       "|---|---|---|---|---|\n",
       "| 3 | 2023-03-01 16:30:00 | 40.445 | 1729663 | PFE |\n",
       "| 10 | 2023-03-02 16:30:00 | 40.295 | 1849920 | PFE |\n",
       "| 17 | 2023-03-03 16:30:00 | 40.965 | 1685599 | PFE |\n",
       "| 24 | 2023-03-06 16:30:00 | 41.185 | 1870325 | PFE |\n",
       "| 31 | 2023-03-07 16:30:00 | 40.350 | 3756535 | PFE |\n",
       "| 38 | 2023-03-08 16:30:00 | 40.030 | 2351311 | PFE |\n",
       "\n"
      ],
      "text/plain": [
       "   date                close  volume  tic\n",
       "3  2023-03-01 16:30:00 40.445 1729663 PFE\n",
       "10 2023-03-02 16:30:00 40.295 1849920 PFE\n",
       "17 2023-03-03 16:30:00 40.965 1685599 PFE\n",
       "24 2023-03-06 16:30:00 41.185 1870325 PFE\n",
       "31 2023-03-07 16:30:00 40.350 3756535 PFE\n",
       "38 2023-03-08 16:30:00 40.030 2351311 PFE"
      ]
     },
     "metadata": {},
     "output_type": "display_data"
    }
   ],
   "source": [
    "df_X <- data.frame(df_X, tic = \"PFE\")\n",
    "head(df_X)"
   ]
  },
  {
   "cell_type": "markdown",
   "id": "d16c2883-55ab-4b17-82f1-9eb40e92a593",
   "metadata": {},
   "source": [
    "Make returns:"
   ]
  },
  {
   "cell_type": "code",
   "execution_count": 70,
   "id": "72b8964c-ef34-40bc-b8ab-6930f37c0cf2",
   "metadata": {},
   "outputs": [],
   "source": [
    "# Price vec\n",
    "close_vec <- array(df_X$close, dim = length(df_X$close))\n",
    "# Init retns vec\n",
    "retns_vec <- array(0, dim = length(df_X$close))\n",
    "# Compute returns\n",
    "retns_vec[2:length(close_vec)] <- (close_vec[2:length(close_vec)] - \n",
    "                                   close_vec[1:length(close_vec)-1])/close_vec[1:length(close_vec)-1]\n",
    "retns_vec <- 100*retns_vec"
   ]
  },
  {
   "cell_type": "markdown",
   "id": "82611a39-9c89-4151-88d3-092fbf9f86b6",
   "metadata": {},
   "source": [
    "Add the column:"
   ]
  },
  {
   "cell_type": "code",
   "execution_count": 71,
   "id": "99c013a5-027c-400d-b06e-a8d32a0a28e1",
   "metadata": {},
   "outputs": [
    {
     "data": {
      "text/html": [
       "TRUE"
      ],
      "text/latex": [
       "TRUE"
      ],
      "text/markdown": [
       "TRUE"
      ],
      "text/plain": [
       "[1] TRUE"
      ]
     },
     "metadata": {},
     "output_type": "display_data"
    }
   ],
   "source": [
    "length(retns_vec) == length(df_X$date)"
   ]
  },
  {
   "cell_type": "code",
   "execution_count": 73,
   "id": "f767a7f9-0b69-4db9-b1ae-34ae08b60060",
   "metadata": {},
   "outputs": [
    {
     "data": {
      "text/html": [
       "<table class=\"dataframe\">\n",
       "<caption>A data.frame: 6 × 4</caption>\n",
       "<thead>\n",
       "\t<tr><th></th><th scope=col>date</th><th scope=col>close</th><th scope=col>rtrn</th><th scope=col>tic</th></tr>\n",
       "\t<tr><th></th><th scope=col>&lt;chr&gt;</th><th scope=col>&lt;dbl&gt;</th><th scope=col>&lt;dbl&gt;</th><th scope=col>&lt;chr&gt;</th></tr>\n",
       "</thead>\n",
       "<tbody>\n",
       "\t<tr><th scope=row>3</th><td>2023-03-01 16:30:00</td><td>40.445</td><td> 0.0000000</td><td>PFE</td></tr>\n",
       "\t<tr><th scope=row>10</th><td>2023-03-02 16:30:00</td><td>40.295</td><td>-0.3708778</td><td>PFE</td></tr>\n",
       "\t<tr><th scope=row>17</th><td>2023-03-03 16:30:00</td><td>40.965</td><td> 1.6627423</td><td>PFE</td></tr>\n",
       "\t<tr><th scope=row>24</th><td>2023-03-06 16:30:00</td><td>41.185</td><td> 0.5370468</td><td>PFE</td></tr>\n",
       "\t<tr><th scope=row>31</th><td>2023-03-07 16:30:00</td><td>40.350</td><td>-2.0274441</td><td>PFE</td></tr>\n",
       "\t<tr><th scope=row>38</th><td>2023-03-08 16:30:00</td><td>40.030</td><td>-0.7930600</td><td>PFE</td></tr>\n",
       "</tbody>\n",
       "</table>\n"
      ],
      "text/latex": [
       "A data.frame: 6 × 4\n",
       "\\begin{tabular}{r|llll}\n",
       "  & date & close & rtrn & tic\\\\\n",
       "  & <chr> & <dbl> & <dbl> & <chr>\\\\\n",
       "\\hline\n",
       "\t3 & 2023-03-01 16:30:00 & 40.445 &  0.0000000 & PFE\\\\\n",
       "\t10 & 2023-03-02 16:30:00 & 40.295 & -0.3708778 & PFE\\\\\n",
       "\t17 & 2023-03-03 16:30:00 & 40.965 &  1.6627423 & PFE\\\\\n",
       "\t24 & 2023-03-06 16:30:00 & 41.185 &  0.5370468 & PFE\\\\\n",
       "\t31 & 2023-03-07 16:30:00 & 40.350 & -2.0274441 & PFE\\\\\n",
       "\t38 & 2023-03-08 16:30:00 & 40.030 & -0.7930600 & PFE\\\\\n",
       "\\end{tabular}\n"
      ],
      "text/markdown": [
       "\n",
       "A data.frame: 6 × 4\n",
       "\n",
       "| <!--/--> | date &lt;chr&gt; | close &lt;dbl&gt; | rtrn &lt;dbl&gt; | tic &lt;chr&gt; |\n",
       "|---|---|---|---|---|\n",
       "| 3 | 2023-03-01 16:30:00 | 40.445 |  0.0000000 | PFE |\n",
       "| 10 | 2023-03-02 16:30:00 | 40.295 | -0.3708778 | PFE |\n",
       "| 17 | 2023-03-03 16:30:00 | 40.965 |  1.6627423 | PFE |\n",
       "| 24 | 2023-03-06 16:30:00 | 41.185 |  0.5370468 | PFE |\n",
       "| 31 | 2023-03-07 16:30:00 | 40.350 | -2.0274441 | PFE |\n",
       "| 38 | 2023-03-08 16:30:00 | 40.030 | -0.7930600 | PFE |\n",
       "\n"
      ],
      "text/plain": [
       "   date                close  rtrn       tic\n",
       "3  2023-03-01 16:30:00 40.445  0.0000000 PFE\n",
       "10 2023-03-02 16:30:00 40.295 -0.3708778 PFE\n",
       "17 2023-03-03 16:30:00 40.965  1.6627423 PFE\n",
       "24 2023-03-06 16:30:00 41.185  0.5370468 PFE\n",
       "31 2023-03-07 16:30:00 40.350 -2.0274441 PFE\n",
       "38 2023-03-08 16:30:00 40.030 -0.7930600 PFE"
      ]
     },
     "metadata": {},
     "output_type": "display_data"
    }
   ],
   "source": [
    "# Add returns column\n",
    "df_X <- data.frame(df_X, rtrn = retns_vec)\n",
    "df_X <- df_X[, c(\"date\", \"close\", \"rtrn\", \"tic\")]\n",
    "# Display\n",
    "head(df_X)"
   ]
  },
  {
   "cell_type": "markdown",
   "id": "cbfd0b7e-047c-4ab6-9540-854fbde7f54a",
   "metadata": {
    "tags": []
   },
   "source": [
    "### (6) Merging dataframes"
   ]
  },
  {
   "cell_type": "markdown",
   "id": "0d3dadf9-d65d-406d-9944-0f02a30929d1",
   "metadata": {},
   "source": [
    "Load the \"JNJ\" prices"
   ]
  },
  {
   "cell_type": "code",
   "execution_count": 4,
   "id": "35a71814-23ed-43c3-8f9b-5ba5d8da7a8e",
   "metadata": {},
   "outputs": [],
   "source": [
    "df_JNJ <- read.csv(file = \"./datasets/JNJ_30min_2303-2306.csv\")"
   ]
  },
  {
   "cell_type": "code",
   "execution_count": 7,
   "id": "1bfd5605-35f0-4b8a-8e15-06eddb2dbdb8",
   "metadata": {},
   "outputs": [
    {
     "data": {
      "text/html": [
       "'character'"
      ],
      "text/latex": [
       "'character'"
      ],
      "text/markdown": [
       "'character'"
      ],
      "text/plain": [
       "[1] \"character\""
      ]
     },
     "metadata": {},
     "output_type": "display_data"
    }
   ],
   "source": [
    "class(timestamp_vec)"
   ]
  },
  {
   "cell_type": "code",
   "execution_count": 8,
   "id": "8a527184-451f-4271-8115-a038b9c03a82",
   "metadata": {},
   "outputs": [],
   "source": [
    "df_X1 <- data.frame(df_PFE[df_PFE$date %in% timestamp_vec, c(\"date\", \"close\", \"volume\")])\n",
    "df_X2 <- data.frame(df_JNJ[df_JNJ$date %in%timestamp_vec, c(\"date\", \"close\", \"volume\")])"
   ]
  },
  {
   "cell_type": "code",
   "execution_count": 9,
   "id": "37f14e6c-4584-44a8-bb5d-6289b7fa319d",
   "metadata": {},
   "outputs": [],
   "source": [
    "df_X1 <- data.frame(df_X1, tic = \"PFE\")\n",
    "df_X2 <- data.frame(df_X2, tic = \"JNJ\")"
   ]
  },
  {
   "cell_type": "code",
   "execution_count": 10,
   "id": "a30fe5aa-00fc-4148-8685-ab103d955956",
   "metadata": {},
   "outputs": [
    {
     "data": {
      "text/html": [
       "<table class=\"dataframe\">\n",
       "<caption>A data.frame: 6 × 4</caption>\n",
       "<thead>\n",
       "\t<tr><th></th><th scope=col>date</th><th scope=col>close</th><th scope=col>volume</th><th scope=col>tic</th></tr>\n",
       "\t<tr><th></th><th scope=col>&lt;chr&gt;</th><th scope=col>&lt;dbl&gt;</th><th scope=col>&lt;int&gt;</th><th scope=col>&lt;chr&gt;</th></tr>\n",
       "</thead>\n",
       "<tbody>\n",
       "\t<tr><th scope=row>3</th><td>2023-03-01 16:30:00</td><td>40.445</td><td>1729663</td><td>PFE</td></tr>\n",
       "\t<tr><th scope=row>10</th><td>2023-03-02 16:30:00</td><td>40.295</td><td>1849920</td><td>PFE</td></tr>\n",
       "\t<tr><th scope=row>17</th><td>2023-03-03 16:30:00</td><td>40.965</td><td>1685599</td><td>PFE</td></tr>\n",
       "\t<tr><th scope=row>24</th><td>2023-03-06 16:30:00</td><td>41.185</td><td>1870325</td><td>PFE</td></tr>\n",
       "\t<tr><th scope=row>31</th><td>2023-03-07 16:30:00</td><td>40.350</td><td>3756535</td><td>PFE</td></tr>\n",
       "\t<tr><th scope=row>38</th><td>2023-03-08 16:30:00</td><td>40.030</td><td>2351311</td><td>PFE</td></tr>\n",
       "</tbody>\n",
       "</table>\n"
      ],
      "text/latex": [
       "A data.frame: 6 × 4\n",
       "\\begin{tabular}{r|llll}\n",
       "  & date & close & volume & tic\\\\\n",
       "  & <chr> & <dbl> & <int> & <chr>\\\\\n",
       "\\hline\n",
       "\t3 & 2023-03-01 16:30:00 & 40.445 & 1729663 & PFE\\\\\n",
       "\t10 & 2023-03-02 16:30:00 & 40.295 & 1849920 & PFE\\\\\n",
       "\t17 & 2023-03-03 16:30:00 & 40.965 & 1685599 & PFE\\\\\n",
       "\t24 & 2023-03-06 16:30:00 & 41.185 & 1870325 & PFE\\\\\n",
       "\t31 & 2023-03-07 16:30:00 & 40.350 & 3756535 & PFE\\\\\n",
       "\t38 & 2023-03-08 16:30:00 & 40.030 & 2351311 & PFE\\\\\n",
       "\\end{tabular}\n"
      ],
      "text/markdown": [
       "\n",
       "A data.frame: 6 × 4\n",
       "\n",
       "| <!--/--> | date &lt;chr&gt; | close &lt;dbl&gt; | volume &lt;int&gt; | tic &lt;chr&gt; |\n",
       "|---|---|---|---|---|\n",
       "| 3 | 2023-03-01 16:30:00 | 40.445 | 1729663 | PFE |\n",
       "| 10 | 2023-03-02 16:30:00 | 40.295 | 1849920 | PFE |\n",
       "| 17 | 2023-03-03 16:30:00 | 40.965 | 1685599 | PFE |\n",
       "| 24 | 2023-03-06 16:30:00 | 41.185 | 1870325 | PFE |\n",
       "| 31 | 2023-03-07 16:30:00 | 40.350 | 3756535 | PFE |\n",
       "| 38 | 2023-03-08 16:30:00 | 40.030 | 2351311 | PFE |\n",
       "\n"
      ],
      "text/plain": [
       "   date                close  volume  tic\n",
       "3  2023-03-01 16:30:00 40.445 1729663 PFE\n",
       "10 2023-03-02 16:30:00 40.295 1849920 PFE\n",
       "17 2023-03-03 16:30:00 40.965 1685599 PFE\n",
       "24 2023-03-06 16:30:00 41.185 1870325 PFE\n",
       "31 2023-03-07 16:30:00 40.350 3756535 PFE\n",
       "38 2023-03-08 16:30:00 40.030 2351311 PFE"
      ]
     },
     "metadata": {},
     "output_type": "display_data"
    }
   ],
   "source": [
    "head(df_X1)"
   ]
  },
  {
   "cell_type": "code",
   "execution_count": 11,
   "id": "7d9e5123-4895-4209-8695-9447949d2ad9",
   "metadata": {},
   "outputs": [
    {
     "data": {
      "text/html": [
       "<style>\n",
       ".list-inline {list-style: none; margin:0; padding: 0}\n",
       ".list-inline>li {display: inline-block}\n",
       ".list-inline>li:not(:last-child)::after {content: \"\\00b7\"; padding: 0 .5ex}\n",
       "</style>\n",
       "<ol class=list-inline><li>TRUE</li><li>TRUE</li><li>TRUE</li><li>TRUE</li></ol>\n"
      ],
      "text/latex": [
       "\\begin{enumerate*}\n",
       "\\item TRUE\n",
       "\\item TRUE\n",
       "\\item TRUE\n",
       "\\item TRUE\n",
       "\\end{enumerate*}\n"
      ],
      "text/markdown": [
       "1. TRUE\n",
       "2. TRUE\n",
       "3. TRUE\n",
       "4. TRUE\n",
       "\n",
       "\n"
      ],
      "text/plain": [
       "[1] TRUE TRUE TRUE TRUE"
      ]
     },
     "metadata": {},
     "output_type": "display_data"
    }
   ],
   "source": [
    "colnames(df_X1)==colnames(df_X2)"
   ]
  },
  {
   "cell_type": "markdown",
   "id": "a4b39860-180d-4d64-b44d-85e8f4af2f5d",
   "metadata": {},
   "source": [
    "Merge using *merge()* gives:"
   ]
  },
  {
   "cell_type": "code",
   "execution_count": 20,
   "id": "e3cdae1a-8d9e-40b4-806e-1a04ac27b36c",
   "metadata": {},
   "outputs": [],
   "source": [
    "df_Y <- merge(df_X1, df_X2, by = c(\"date\"))"
   ]
  },
  {
   "cell_type": "code",
   "execution_count": 21,
   "id": "7f826c1a-7493-41ea-8406-7bc02830b774",
   "metadata": {},
   "outputs": [
    {
     "data": {
      "text/html": [
       "<table class=\"dataframe\">\n",
       "<caption>A data.frame: 6 × 7</caption>\n",
       "<thead>\n",
       "\t<tr><th></th><th scope=col>date</th><th scope=col>close.x</th><th scope=col>volume.x</th><th scope=col>tic.x</th><th scope=col>close.y</th><th scope=col>volume.y</th><th scope=col>tic.y</th></tr>\n",
       "\t<tr><th></th><th scope=col>&lt;chr&gt;</th><th scope=col>&lt;dbl&gt;</th><th scope=col>&lt;int&gt;</th><th scope=col>&lt;chr&gt;</th><th scope=col>&lt;dbl&gt;</th><th scope=col>&lt;int&gt;</th><th scope=col>&lt;chr&gt;</th></tr>\n",
       "</thead>\n",
       "<tbody>\n",
       "\t<tr><th scope=row>1</th><td>2023-03-01 16:30:00</td><td>40.445</td><td>1729663</td><td>PFE</td><td>152.2200</td><td>610970</td><td>JNJ</td></tr>\n",
       "\t<tr><th scope=row>2</th><td>2023-03-02 16:30:00</td><td>40.295</td><td>1849920</td><td>PFE</td><td>151.5900</td><td>672695</td><td>JNJ</td></tr>\n",
       "\t<tr><th scope=row>3</th><td>2023-03-03 16:30:00</td><td>40.965</td><td>1685599</td><td>PFE</td><td>153.4250</td><td>398069</td><td>JNJ</td></tr>\n",
       "\t<tr><th scope=row>4</th><td>2023-03-06 16:30:00</td><td>41.185</td><td>1870325</td><td>PFE</td><td>155.4283</td><td>603910</td><td>JNJ</td></tr>\n",
       "\t<tr><th scope=row>5</th><td>2023-03-07 16:30:00</td><td>40.350</td><td>3756535</td><td>PFE</td><td>153.6500</td><td>853414</td><td>JNJ</td></tr>\n",
       "\t<tr><th scope=row>6</th><td>2023-03-08 16:30:00</td><td>40.030</td><td>2351311</td><td>PFE</td><td>153.1182</td><td>514777</td><td>JNJ</td></tr>\n",
       "</tbody>\n",
       "</table>\n"
      ],
      "text/latex": [
       "A data.frame: 6 × 7\n",
       "\\begin{tabular}{r|lllllll}\n",
       "  & date & close.x & volume.x & tic.x & close.y & volume.y & tic.y\\\\\n",
       "  & <chr> & <dbl> & <int> & <chr> & <dbl> & <int> & <chr>\\\\\n",
       "\\hline\n",
       "\t1 & 2023-03-01 16:30:00 & 40.445 & 1729663 & PFE & 152.2200 & 610970 & JNJ\\\\\n",
       "\t2 & 2023-03-02 16:30:00 & 40.295 & 1849920 & PFE & 151.5900 & 672695 & JNJ\\\\\n",
       "\t3 & 2023-03-03 16:30:00 & 40.965 & 1685599 & PFE & 153.4250 & 398069 & JNJ\\\\\n",
       "\t4 & 2023-03-06 16:30:00 & 41.185 & 1870325 & PFE & 155.4283 & 603910 & JNJ\\\\\n",
       "\t5 & 2023-03-07 16:30:00 & 40.350 & 3756535 & PFE & 153.6500 & 853414 & JNJ\\\\\n",
       "\t6 & 2023-03-08 16:30:00 & 40.030 & 2351311 & PFE & 153.1182 & 514777 & JNJ\\\\\n",
       "\\end{tabular}\n"
      ],
      "text/markdown": [
       "\n",
       "A data.frame: 6 × 7\n",
       "\n",
       "| <!--/--> | date &lt;chr&gt; | close.x &lt;dbl&gt; | volume.x &lt;int&gt; | tic.x &lt;chr&gt; | close.y &lt;dbl&gt; | volume.y &lt;int&gt; | tic.y &lt;chr&gt; |\n",
       "|---|---|---|---|---|---|---|---|\n",
       "| 1 | 2023-03-01 16:30:00 | 40.445 | 1729663 | PFE | 152.2200 | 610970 | JNJ |\n",
       "| 2 | 2023-03-02 16:30:00 | 40.295 | 1849920 | PFE | 151.5900 | 672695 | JNJ |\n",
       "| 3 | 2023-03-03 16:30:00 | 40.965 | 1685599 | PFE | 153.4250 | 398069 | JNJ |\n",
       "| 4 | 2023-03-06 16:30:00 | 41.185 | 1870325 | PFE | 155.4283 | 603910 | JNJ |\n",
       "| 5 | 2023-03-07 16:30:00 | 40.350 | 3756535 | PFE | 153.6500 | 853414 | JNJ |\n",
       "| 6 | 2023-03-08 16:30:00 | 40.030 | 2351311 | PFE | 153.1182 | 514777 | JNJ |\n",
       "\n"
      ],
      "text/plain": [
       "  date                close.x volume.x tic.x close.y  volume.y tic.y\n",
       "1 2023-03-01 16:30:00 40.445  1729663  PFE   152.2200 610970   JNJ  \n",
       "2 2023-03-02 16:30:00 40.295  1849920  PFE   151.5900 672695   JNJ  \n",
       "3 2023-03-03 16:30:00 40.965  1685599  PFE   153.4250 398069   JNJ  \n",
       "4 2023-03-06 16:30:00 41.185  1870325  PFE   155.4283 603910   JNJ  \n",
       "5 2023-03-07 16:30:00 40.350  3756535  PFE   153.6500 853414   JNJ  \n",
       "6 2023-03-08 16:30:00 40.030  2351311  PFE   153.1182 514777   JNJ  "
      ]
     },
     "metadata": {},
     "output_type": "display_data"
    }
   ],
   "source": [
    "head(df_Y)"
   ]
  },
  {
   "cell_type": "markdown",
   "id": "f3f14a85-5cdb-4cb1-8105-0c84670b0430",
   "metadata": {},
   "source": [
    "By default *merge()* performs horizontal concatenations. If we want it to add rows, we specify that with the *all.x* and *all.y* parameters. Merging along all columns with row additions gives the following"
   ]
  },
  {
   "cell_type": "code",
   "execution_count": 22,
   "id": "2f3b2084-a3f2-465d-9893-a6eb77daa1a4",
   "metadata": {},
   "outputs": [],
   "source": [
    "df_Y1 <- merge(df_X1, df_X2, by = colnames(df_X1), all.x = TRUE, all.y = TRUE)"
   ]
  },
  {
   "cell_type": "code",
   "execution_count": 23,
   "id": "c7bbd5a8-dfd8-4325-958e-1655b52d795a",
   "metadata": {},
   "outputs": [
    {
     "data": {
      "text/html": [
       "<table class=\"dataframe\">\n",
       "<caption>A data.frame: 6 × 4</caption>\n",
       "<thead>\n",
       "\t<tr><th></th><th scope=col>date</th><th scope=col>close</th><th scope=col>volume</th><th scope=col>tic</th></tr>\n",
       "\t<tr><th></th><th scope=col>&lt;chr&gt;</th><th scope=col>&lt;dbl&gt;</th><th scope=col>&lt;int&gt;</th><th scope=col>&lt;chr&gt;</th></tr>\n",
       "</thead>\n",
       "<tbody>\n",
       "\t<tr><th scope=row>1</th><td>2023-03-01 16:30:00</td><td> 40.445</td><td>1729663</td><td>PFE</td></tr>\n",
       "\t<tr><th scope=row>2</th><td>2023-03-01 16:30:00</td><td>152.220</td><td> 610970</td><td>JNJ</td></tr>\n",
       "\t<tr><th scope=row>3</th><td>2023-03-02 16:30:00</td><td> 40.295</td><td>1849920</td><td>PFE</td></tr>\n",
       "\t<tr><th scope=row>4</th><td>2023-03-02 16:30:00</td><td>151.590</td><td> 672695</td><td>JNJ</td></tr>\n",
       "\t<tr><th scope=row>5</th><td>2023-03-03 16:30:00</td><td> 40.965</td><td>1685599</td><td>PFE</td></tr>\n",
       "\t<tr><th scope=row>6</th><td>2023-03-03 16:30:00</td><td>153.425</td><td> 398069</td><td>JNJ</td></tr>\n",
       "</tbody>\n",
       "</table>\n"
      ],
      "text/latex": [
       "A data.frame: 6 × 4\n",
       "\\begin{tabular}{r|llll}\n",
       "  & date & close & volume & tic\\\\\n",
       "  & <chr> & <dbl> & <int> & <chr>\\\\\n",
       "\\hline\n",
       "\t1 & 2023-03-01 16:30:00 &  40.445 & 1729663 & PFE\\\\\n",
       "\t2 & 2023-03-01 16:30:00 & 152.220 &  610970 & JNJ\\\\\n",
       "\t3 & 2023-03-02 16:30:00 &  40.295 & 1849920 & PFE\\\\\n",
       "\t4 & 2023-03-02 16:30:00 & 151.590 &  672695 & JNJ\\\\\n",
       "\t5 & 2023-03-03 16:30:00 &  40.965 & 1685599 & PFE\\\\\n",
       "\t6 & 2023-03-03 16:30:00 & 153.425 &  398069 & JNJ\\\\\n",
       "\\end{tabular}\n"
      ],
      "text/markdown": [
       "\n",
       "A data.frame: 6 × 4\n",
       "\n",
       "| <!--/--> | date &lt;chr&gt; | close &lt;dbl&gt; | volume &lt;int&gt; | tic &lt;chr&gt; |\n",
       "|---|---|---|---|---|\n",
       "| 1 | 2023-03-01 16:30:00 |  40.445 | 1729663 | PFE |\n",
       "| 2 | 2023-03-01 16:30:00 | 152.220 |  610970 | JNJ |\n",
       "| 3 | 2023-03-02 16:30:00 |  40.295 | 1849920 | PFE |\n",
       "| 4 | 2023-03-02 16:30:00 | 151.590 |  672695 | JNJ |\n",
       "| 5 | 2023-03-03 16:30:00 |  40.965 | 1685599 | PFE |\n",
       "| 6 | 2023-03-03 16:30:00 | 153.425 |  398069 | JNJ |\n",
       "\n"
      ],
      "text/plain": [
       "  date                close   volume  tic\n",
       "1 2023-03-01 16:30:00  40.445 1729663 PFE\n",
       "2 2023-03-01 16:30:00 152.220  610970 JNJ\n",
       "3 2023-03-02 16:30:00  40.295 1849920 PFE\n",
       "4 2023-03-02 16:30:00 151.590  672695 JNJ\n",
       "5 2023-03-03 16:30:00  40.965 1685599 PFE\n",
       "6 2023-03-03 16:30:00 153.425  398069 JNJ"
      ]
     },
     "metadata": {},
     "output_type": "display_data"
    }
   ],
   "source": [
    "head(df_Y1)"
   ]
  },
  {
   "cell_type": "markdown",
   "id": "7b9b0fad-8f4a-4a32-81db-9779cf4a8756",
   "metadata": {
    "tags": []
   },
   "source": [
    "### (7) Concatenating dataframes and sorting"
   ]
  },
  {
   "cell_type": "markdown",
   "id": "e1538f27-bc9e-437f-ab94-683832c459fb",
   "metadata": {},
   "source": [
    "Vertical concatenation is done using the *rbind()* function."
   ]
  },
  {
   "cell_type": "code",
   "execution_count": 122,
   "id": "dda89ddc-57ea-412b-ab35-1af3ec0bc4d5",
   "metadata": {},
   "outputs": [],
   "source": [
    "df_Y <- rbind(df_X1, df_X2)"
   ]
  },
  {
   "cell_type": "code",
   "execution_count": 123,
   "id": "c2f43fd0-7adc-4441-b49a-df776cea719e",
   "metadata": {},
   "outputs": [
    {
     "data": {
      "text/html": [
       "<table class=\"dataframe\">\n",
       "<caption>A data.frame: 6 × 4</caption>\n",
       "<thead>\n",
       "\t<tr><th></th><th scope=col>date</th><th scope=col>close</th><th scope=col>volume</th><th scope=col>tic</th></tr>\n",
       "\t<tr><th></th><th scope=col>&lt;chr&gt;</th><th scope=col>&lt;dbl&gt;</th><th scope=col>&lt;int&gt;</th><th scope=col>&lt;chr&gt;</th></tr>\n",
       "</thead>\n",
       "<tbody>\n",
       "\t<tr><th scope=row>3</th><td>2023-03-01 16:30:00</td><td>40.445</td><td>1729663</td><td>PFE</td></tr>\n",
       "\t<tr><th scope=row>10</th><td>2023-03-02 16:30:00</td><td>40.295</td><td>1849920</td><td>PFE</td></tr>\n",
       "\t<tr><th scope=row>17</th><td>2023-03-03 16:30:00</td><td>40.965</td><td>1685599</td><td>PFE</td></tr>\n",
       "\t<tr><th scope=row>24</th><td>2023-03-06 16:30:00</td><td>41.185</td><td>1870325</td><td>PFE</td></tr>\n",
       "\t<tr><th scope=row>31</th><td>2023-03-07 16:30:00</td><td>40.350</td><td>3756535</td><td>PFE</td></tr>\n",
       "\t<tr><th scope=row>38</th><td>2023-03-08 16:30:00</td><td>40.030</td><td>2351311</td><td>PFE</td></tr>\n",
       "</tbody>\n",
       "</table>\n"
      ],
      "text/latex": [
       "A data.frame: 6 × 4\n",
       "\\begin{tabular}{r|llll}\n",
       "  & date & close & volume & tic\\\\\n",
       "  & <chr> & <dbl> & <int> & <chr>\\\\\n",
       "\\hline\n",
       "\t3 & 2023-03-01 16:30:00 & 40.445 & 1729663 & PFE\\\\\n",
       "\t10 & 2023-03-02 16:30:00 & 40.295 & 1849920 & PFE\\\\\n",
       "\t17 & 2023-03-03 16:30:00 & 40.965 & 1685599 & PFE\\\\\n",
       "\t24 & 2023-03-06 16:30:00 & 41.185 & 1870325 & PFE\\\\\n",
       "\t31 & 2023-03-07 16:30:00 & 40.350 & 3756535 & PFE\\\\\n",
       "\t38 & 2023-03-08 16:30:00 & 40.030 & 2351311 & PFE\\\\\n",
       "\\end{tabular}\n"
      ],
      "text/markdown": [
       "\n",
       "A data.frame: 6 × 4\n",
       "\n",
       "| <!--/--> | date &lt;chr&gt; | close &lt;dbl&gt; | volume &lt;int&gt; | tic &lt;chr&gt; |\n",
       "|---|---|---|---|---|\n",
       "| 3 | 2023-03-01 16:30:00 | 40.445 | 1729663 | PFE |\n",
       "| 10 | 2023-03-02 16:30:00 | 40.295 | 1849920 | PFE |\n",
       "| 17 | 2023-03-03 16:30:00 | 40.965 | 1685599 | PFE |\n",
       "| 24 | 2023-03-06 16:30:00 | 41.185 | 1870325 | PFE |\n",
       "| 31 | 2023-03-07 16:30:00 | 40.350 | 3756535 | PFE |\n",
       "| 38 | 2023-03-08 16:30:00 | 40.030 | 2351311 | PFE |\n",
       "\n"
      ],
      "text/plain": [
       "   date                close  volume  tic\n",
       "3  2023-03-01 16:30:00 40.445 1729663 PFE\n",
       "10 2023-03-02 16:30:00 40.295 1849920 PFE\n",
       "17 2023-03-03 16:30:00 40.965 1685599 PFE\n",
       "24 2023-03-06 16:30:00 41.185 1870325 PFE\n",
       "31 2023-03-07 16:30:00 40.350 3756535 PFE\n",
       "38 2023-03-08 16:30:00 40.030 2351311 PFE"
      ]
     },
     "metadata": {},
     "output_type": "display_data"
    }
   ],
   "source": [
    "head(df_Y)"
   ]
  },
  {
   "cell_type": "code",
   "execution_count": 124,
   "id": "8e81f844-f704-48d9-a1a0-a706eb4b1002",
   "metadata": {},
   "outputs": [
    {
     "data": {
      "text/html": [
       "<table class=\"dataframe\">\n",
       "<caption>A data.frame: 6 × 4</caption>\n",
       "<thead>\n",
       "\t<tr><th></th><th scope=col>date</th><th scope=col>close</th><th scope=col>volume</th><th scope=col>tic</th></tr>\n",
       "\t<tr><th></th><th scope=col>&lt;chr&gt;</th><th scope=col>&lt;dbl&gt;</th><th scope=col>&lt;int&gt;</th><th scope=col>&lt;chr&gt;</th></tr>\n",
       "</thead>\n",
       "<tbody>\n",
       "\t<tr><th scope=row>4101</th><td>2023-05-23 16:30:00</td><td>156.8800</td><td>422191</td><td>JNJ</td></tr>\n",
       "\t<tr><th scope=row>4171</th><td>2023-05-24 16:30:00</td><td>156.6100</td><td>334051</td><td>JNJ</td></tr>\n",
       "\t<tr><th scope=row>4241</th><td>2023-05-25 16:30:00</td><td>154.3650</td><td>453712</td><td>JNJ</td></tr>\n",
       "\t<tr><th scope=row>4311</th><td>2023-05-26 16:30:00</td><td>154.4450</td><td>636958</td><td>JNJ</td></tr>\n",
       "\t<tr><th scope=row>4381</th><td>2023-05-30 16:30:00</td><td>153.8217</td><td>464895</td><td>JNJ</td></tr>\n",
       "\t<tr><th scope=row>4451</th><td>2023-05-31 16:30:00</td><td>154.3300</td><td>356531</td><td>JNJ</td></tr>\n",
       "</tbody>\n",
       "</table>\n"
      ],
      "text/latex": [
       "A data.frame: 6 × 4\n",
       "\\begin{tabular}{r|llll}\n",
       "  & date & close & volume & tic\\\\\n",
       "  & <chr> & <dbl> & <int> & <chr>\\\\\n",
       "\\hline\n",
       "\t4101 & 2023-05-23 16:30:00 & 156.8800 & 422191 & JNJ\\\\\n",
       "\t4171 & 2023-05-24 16:30:00 & 156.6100 & 334051 & JNJ\\\\\n",
       "\t4241 & 2023-05-25 16:30:00 & 154.3650 & 453712 & JNJ\\\\\n",
       "\t4311 & 2023-05-26 16:30:00 & 154.4450 & 636958 & JNJ\\\\\n",
       "\t4381 & 2023-05-30 16:30:00 & 153.8217 & 464895 & JNJ\\\\\n",
       "\t4451 & 2023-05-31 16:30:00 & 154.3300 & 356531 & JNJ\\\\\n",
       "\\end{tabular}\n"
      ],
      "text/markdown": [
       "\n",
       "A data.frame: 6 × 4\n",
       "\n",
       "| <!--/--> | date &lt;chr&gt; | close &lt;dbl&gt; | volume &lt;int&gt; | tic &lt;chr&gt; |\n",
       "|---|---|---|---|---|\n",
       "| 4101 | 2023-05-23 16:30:00 | 156.8800 | 422191 | JNJ |\n",
       "| 4171 | 2023-05-24 16:30:00 | 156.6100 | 334051 | JNJ |\n",
       "| 4241 | 2023-05-25 16:30:00 | 154.3650 | 453712 | JNJ |\n",
       "| 4311 | 2023-05-26 16:30:00 | 154.4450 | 636958 | JNJ |\n",
       "| 4381 | 2023-05-30 16:30:00 | 153.8217 | 464895 | JNJ |\n",
       "| 4451 | 2023-05-31 16:30:00 | 154.3300 | 356531 | JNJ |\n",
       "\n"
      ],
      "text/plain": [
       "     date                close    volume tic\n",
       "4101 2023-05-23 16:30:00 156.8800 422191 JNJ\n",
       "4171 2023-05-24 16:30:00 156.6100 334051 JNJ\n",
       "4241 2023-05-25 16:30:00 154.3650 453712 JNJ\n",
       "4311 2023-05-26 16:30:00 154.4450 636958 JNJ\n",
       "4381 2023-05-30 16:30:00 153.8217 464895 JNJ\n",
       "4451 2023-05-31 16:30:00 154.3300 356531 JNJ"
      ]
     },
     "metadata": {},
     "output_type": "display_data"
    }
   ],
   "source": [
    "tail(df_Y)"
   ]
  },
  {
   "cell_type": "markdown",
   "id": "5202ce2f-e1b0-41d7-a3ea-fbb87a1a06a4",
   "metadata": {},
   "source": [
    "You sort using the *order()* function applied to the columns. This is equivalent to Pandas' *sort_by(**col_list**)*:"
   ]
  },
  {
   "cell_type": "code",
   "execution_count": 126,
   "id": "92f4d3db-10b6-4894-a84a-7ec2aa3f8b39",
   "metadata": {},
   "outputs": [],
   "source": [
    "df_Y <- df_Y[order(df_Y$date, df_Y$tic),]"
   ]
  },
  {
   "cell_type": "code",
   "execution_count": 127,
   "id": "5dbeadfa-2658-4ab2-9b06-9d5b3b1f6e43",
   "metadata": {},
   "outputs": [
    {
     "data": {
      "text/html": [
       "<table class=\"dataframe\">\n",
       "<caption>A data.frame: 6 × 4</caption>\n",
       "<thead>\n",
       "\t<tr><th></th><th scope=col>date</th><th scope=col>close</th><th scope=col>volume</th><th scope=col>tic</th></tr>\n",
       "\t<tr><th></th><th scope=col>&lt;chr&gt;</th><th scope=col>&lt;dbl&gt;</th><th scope=col>&lt;int&gt;</th><th scope=col>&lt;chr&gt;</th></tr>\n",
       "</thead>\n",
       "<tbody>\n",
       "\t<tr><th scope=row>32</th><td>2023-03-01 16:30:00</td><td>152.220</td><td> 610970</td><td>JNJ</td></tr>\n",
       "\t<tr><th scope=row>3</th><td>2023-03-01 16:30:00</td><td> 40.445</td><td>1729663</td><td>PFE</td></tr>\n",
       "\t<tr><th scope=row>101</th><td>2023-03-02 16:30:00</td><td>151.590</td><td> 672695</td><td>JNJ</td></tr>\n",
       "\t<tr><th scope=row>10</th><td>2023-03-02 16:30:00</td><td> 40.295</td><td>1849920</td><td>PFE</td></tr>\n",
       "\t<tr><th scope=row>171</th><td>2023-03-03 16:30:00</td><td>153.425</td><td> 398069</td><td>JNJ</td></tr>\n",
       "\t<tr><th scope=row>17</th><td>2023-03-03 16:30:00</td><td> 40.965</td><td>1685599</td><td>PFE</td></tr>\n",
       "</tbody>\n",
       "</table>\n"
      ],
      "text/latex": [
       "A data.frame: 6 × 4\n",
       "\\begin{tabular}{r|llll}\n",
       "  & date & close & volume & tic\\\\\n",
       "  & <chr> & <dbl> & <int> & <chr>\\\\\n",
       "\\hline\n",
       "\t32 & 2023-03-01 16:30:00 & 152.220 &  610970 & JNJ\\\\\n",
       "\t3 & 2023-03-01 16:30:00 &  40.445 & 1729663 & PFE\\\\\n",
       "\t101 & 2023-03-02 16:30:00 & 151.590 &  672695 & JNJ\\\\\n",
       "\t10 & 2023-03-02 16:30:00 &  40.295 & 1849920 & PFE\\\\\n",
       "\t171 & 2023-03-03 16:30:00 & 153.425 &  398069 & JNJ\\\\\n",
       "\t17 & 2023-03-03 16:30:00 &  40.965 & 1685599 & PFE\\\\\n",
       "\\end{tabular}\n"
      ],
      "text/markdown": [
       "\n",
       "A data.frame: 6 × 4\n",
       "\n",
       "| <!--/--> | date &lt;chr&gt; | close &lt;dbl&gt; | volume &lt;int&gt; | tic &lt;chr&gt; |\n",
       "|---|---|---|---|---|\n",
       "| 32 | 2023-03-01 16:30:00 | 152.220 |  610970 | JNJ |\n",
       "| 3 | 2023-03-01 16:30:00 |  40.445 | 1729663 | PFE |\n",
       "| 101 | 2023-03-02 16:30:00 | 151.590 |  672695 | JNJ |\n",
       "| 10 | 2023-03-02 16:30:00 |  40.295 | 1849920 | PFE |\n",
       "| 171 | 2023-03-03 16:30:00 | 153.425 |  398069 | JNJ |\n",
       "| 17 | 2023-03-03 16:30:00 |  40.965 | 1685599 | PFE |\n",
       "\n"
      ],
      "text/plain": [
       "    date                close   volume  tic\n",
       "32  2023-03-01 16:30:00 152.220  610970 JNJ\n",
       "3   2023-03-01 16:30:00  40.445 1729663 PFE\n",
       "101 2023-03-02 16:30:00 151.590  672695 JNJ\n",
       "10  2023-03-02 16:30:00  40.295 1849920 PFE\n",
       "171 2023-03-03 16:30:00 153.425  398069 JNJ\n",
       "17  2023-03-03 16:30:00  40.965 1685599 PFE"
      ]
     },
     "metadata": {},
     "output_type": "display_data"
    }
   ],
   "source": [
    "head(df_Y)"
   ]
  },
  {
   "cell_type": "markdown",
   "id": "5f6e06c6-653c-4954-9315-67e1cf312920",
   "metadata": {},
   "source": [
    "Suppose we want to concatenate along columns, which is done using *cbind()* in R. First, let's make a JNJ dataframe with data at 16:30 only"
   ]
  },
  {
   "cell_type": "code",
   "execution_count": 26,
   "id": "c13af2af-1943-4343-a9f9-4e20e400651f",
   "metadata": {},
   "outputs": [
    {
     "data": {
      "text/html": [
       "<table class=\"dataframe\">\n",
       "<caption>A data.frame: 6 × 6</caption>\n",
       "<thead>\n",
       "\t<tr><th></th><th scope=col>date</th><th scope=col>volume</th><th scope=col>high</th><th scope=col>low</th><th scope=col>open</th><th scope=col>close</th></tr>\n",
       "\t<tr><th></th><th scope=col>&lt;chr&gt;</th><th scope=col>&lt;int&gt;</th><th scope=col>&lt;dbl&gt;</th><th scope=col>&lt;dbl&gt;</th><th scope=col>&lt;dbl&gt;</th><th scope=col>&lt;dbl&gt;</th></tr>\n",
       "</thead>\n",
       "<tbody>\n",
       "\t<tr><th scope=row>3</th><td>2023-03-01 16:30:00</td><td>610970</td><td>152.6900</td><td>152.20</td><td>152.340</td><td>152.2200</td></tr>\n",
       "\t<tr><th scope=row>10</th><td>2023-03-02 16:30:00</td><td>672695</td><td>152.0700</td><td>151.54</td><td>151.585</td><td>151.5900</td></tr>\n",
       "\t<tr><th scope=row>17</th><td>2023-03-03 16:30:00</td><td>398069</td><td>153.7200</td><td>153.21</td><td>153.280</td><td>153.4250</td></tr>\n",
       "\t<tr><th scope=row>24</th><td>2023-03-06 16:30:00</td><td>603910</td><td>155.6500</td><td>155.03</td><td>155.210</td><td>155.4283</td></tr>\n",
       "\t<tr><th scope=row>31</th><td>2023-03-07 16:30:00</td><td>853414</td><td>154.2300</td><td>153.35</td><td>154.190</td><td>153.6500</td></tr>\n",
       "\t<tr><th scope=row>38</th><td>2023-03-08 16:30:00</td><td>514777</td><td>153.4799</td><td>152.85</td><td>153.260</td><td>153.1182</td></tr>\n",
       "</tbody>\n",
       "</table>\n"
      ],
      "text/latex": [
       "A data.frame: 6 × 6\n",
       "\\begin{tabular}{r|llllll}\n",
       "  & date & volume & high & low & open & close\\\\\n",
       "  & <chr> & <int> & <dbl> & <dbl> & <dbl> & <dbl>\\\\\n",
       "\\hline\n",
       "\t3 & 2023-03-01 16:30:00 & 610970 & 152.6900 & 152.20 & 152.340 & 152.2200\\\\\n",
       "\t10 & 2023-03-02 16:30:00 & 672695 & 152.0700 & 151.54 & 151.585 & 151.5900\\\\\n",
       "\t17 & 2023-03-03 16:30:00 & 398069 & 153.7200 & 153.21 & 153.280 & 153.4250\\\\\n",
       "\t24 & 2023-03-06 16:30:00 & 603910 & 155.6500 & 155.03 & 155.210 & 155.4283\\\\\n",
       "\t31 & 2023-03-07 16:30:00 & 853414 & 154.2300 & 153.35 & 154.190 & 153.6500\\\\\n",
       "\t38 & 2023-03-08 16:30:00 & 514777 & 153.4799 & 152.85 & 153.260 & 153.1182\\\\\n",
       "\\end{tabular}\n"
      ],
      "text/markdown": [
       "\n",
       "A data.frame: 6 × 6\n",
       "\n",
       "| <!--/--> | date &lt;chr&gt; | volume &lt;int&gt; | high &lt;dbl&gt; | low &lt;dbl&gt; | open &lt;dbl&gt; | close &lt;dbl&gt; |\n",
       "|---|---|---|---|---|---|---|\n",
       "| 3 | 2023-03-01 16:30:00 | 610970 | 152.6900 | 152.20 | 152.340 | 152.2200 |\n",
       "| 10 | 2023-03-02 16:30:00 | 672695 | 152.0700 | 151.54 | 151.585 | 151.5900 |\n",
       "| 17 | 2023-03-03 16:30:00 | 398069 | 153.7200 | 153.21 | 153.280 | 153.4250 |\n",
       "| 24 | 2023-03-06 16:30:00 | 603910 | 155.6500 | 155.03 | 155.210 | 155.4283 |\n",
       "| 31 | 2023-03-07 16:30:00 | 853414 | 154.2300 | 153.35 | 154.190 | 153.6500 |\n",
       "| 38 | 2023-03-08 16:30:00 | 514777 | 153.4799 | 152.85 | 153.260 | 153.1182 |\n",
       "\n"
      ],
      "text/plain": [
       "   date                volume high     low    open    close   \n",
       "3  2023-03-01 16:30:00 610970 152.6900 152.20 152.340 152.2200\n",
       "10 2023-03-02 16:30:00 672695 152.0700 151.54 151.585 151.5900\n",
       "17 2023-03-03 16:30:00 398069 153.7200 153.21 153.280 153.4250\n",
       "24 2023-03-06 16:30:00 603910 155.6500 155.03 155.210 155.4283\n",
       "31 2023-03-07 16:30:00 853414 154.2300 153.35 154.190 153.6500\n",
       "38 2023-03-08 16:30:00 514777 153.4799 152.85 153.260 153.1182"
      ]
     },
     "metadata": {},
     "output_type": "display_data"
    }
   ],
   "source": [
    "# Init. timestamp vec (empty vec)\n",
    "timestamp_vec <- c()\n",
    "# PFE timestamps\n",
    "data_timestamps <- df_PFE$date\n",
    "# tgt_str \n",
    "tgt_str <- \"16:30:00\"\n",
    "\n",
    "for (i in c(1:nrow(df_PFE))){\n",
    "    if (substr(data_timestamps[i],12,19) == tgt_str){\n",
    "        timestamp_vec<-append(timestamp_vec, data_timestamps[i])\n",
    "        }\n",
    "    }\n",
    "# Shorten dataframe\n",
    "df_X2 <- data.frame(df_JNJ[df_JNJ$date %in% timestamp_vec,])\n",
    "df_X2 <- df_X2[, colnames(df_X2) != \"X\"]\n",
    "head(df_X2)"
   ]
  },
  {
   "cell_type": "markdown",
   "id": "88540b02-f287-48df-95d3-01fa35f571a1",
   "metadata": {},
   "source": [
    "Next, make a dataframe with JNJ close return and ticker symbol columns:"
   ]
  },
  {
   "cell_type": "code",
   "execution_count": 27,
   "id": "42f554c4-38e0-4201-997a-957a600b7fc6",
   "metadata": {},
   "outputs": [],
   "source": [
    "# Make close returns vector for df_JNJ\n",
    "clpr_vec <- array(df_X2$close, dim = nrow(df_X2))\n",
    "rtrn_vec <- array(0, dim = nrow(df_X2))\n",
    "n <- length(clpr_vec)\n",
    "rtrn_vec[2:n] = (clpr_vec[2:n]- clpr_vec[1:n-1])/clpr_vec[1:n-1]\n",
    "\n",
    "# New data frame\n",
    "df_Z2 <- data.frame(cl_rtrns = rtrn_vec, tic = \"JNJ\")"
   ]
  },
  {
   "cell_type": "code",
   "execution_count": 28,
   "id": "d351ef1f-eadc-47c8-8780-598b2576f191",
   "metadata": {},
   "outputs": [
    {
     "data": {
      "text/html": [
       "<table class=\"dataframe\">\n",
       "<caption>A data.frame: 6 × 2</caption>\n",
       "<thead>\n",
       "\t<tr><th></th><th scope=col>cl_rtrns</th><th scope=col>tic</th></tr>\n",
       "\t<tr><th></th><th scope=col>&lt;dbl&gt;</th><th scope=col>&lt;chr&gt;</th></tr>\n",
       "</thead>\n",
       "<tbody>\n",
       "\t<tr><th scope=row>1</th><td> 0.000000000</td><td>JNJ</td></tr>\n",
       "\t<tr><th scope=row>2</th><td>-0.004138779</td><td>JNJ</td></tr>\n",
       "\t<tr><th scope=row>3</th><td> 0.012105065</td><td>JNJ</td></tr>\n",
       "\t<tr><th scope=row>4</th><td> 0.013057167</td><td>JNJ</td></tr>\n",
       "\t<tr><th scope=row>5</th><td>-0.011441321</td><td>JNJ</td></tr>\n",
       "\t<tr><th scope=row>6</th><td>-0.003461109</td><td>JNJ</td></tr>\n",
       "</tbody>\n",
       "</table>\n"
      ],
      "text/latex": [
       "A data.frame: 6 × 2\n",
       "\\begin{tabular}{r|ll}\n",
       "  & cl\\_rtrns & tic\\\\\n",
       "  & <dbl> & <chr>\\\\\n",
       "\\hline\n",
       "\t1 &  0.000000000 & JNJ\\\\\n",
       "\t2 & -0.004138779 & JNJ\\\\\n",
       "\t3 &  0.012105065 & JNJ\\\\\n",
       "\t4 &  0.013057167 & JNJ\\\\\n",
       "\t5 & -0.011441321 & JNJ\\\\\n",
       "\t6 & -0.003461109 & JNJ\\\\\n",
       "\\end{tabular}\n"
      ],
      "text/markdown": [
       "\n",
       "A data.frame: 6 × 2\n",
       "\n",
       "| <!--/--> | cl_rtrns &lt;dbl&gt; | tic &lt;chr&gt; |\n",
       "|---|---|---|\n",
       "| 1 |  0.000000000 | JNJ |\n",
       "| 2 | -0.004138779 | JNJ |\n",
       "| 3 |  0.012105065 | JNJ |\n",
       "| 4 |  0.013057167 | JNJ |\n",
       "| 5 | -0.011441321 | JNJ |\n",
       "| 6 | -0.003461109 | JNJ |\n",
       "\n"
      ],
      "text/plain": [
       "  cl_rtrns     tic\n",
       "1  0.000000000 JNJ\n",
       "2 -0.004138779 JNJ\n",
       "3  0.012105065 JNJ\n",
       "4  0.013057167 JNJ\n",
       "5 -0.011441321 JNJ\n",
       "6 -0.003461109 JNJ"
      ]
     },
     "metadata": {},
     "output_type": "display_data"
    }
   ],
   "source": [
    "head(df_Z2)"
   ]
  },
  {
   "cell_type": "code",
   "execution_count": 29,
   "id": "51ad2fa9-6a6c-4510-b5f5-579ab7742f95",
   "metadata": {},
   "outputs": [
    {
     "data": {
      "text/html": [
       "<table class=\"dataframe\">\n",
       "<caption>A data.frame: 6 × 8</caption>\n",
       "<thead>\n",
       "\t<tr><th></th><th scope=col>date</th><th scope=col>volume</th><th scope=col>high</th><th scope=col>low</th><th scope=col>open</th><th scope=col>close</th><th scope=col>cl_rtrns</th><th scope=col>tic</th></tr>\n",
       "\t<tr><th></th><th scope=col>&lt;chr&gt;</th><th scope=col>&lt;int&gt;</th><th scope=col>&lt;dbl&gt;</th><th scope=col>&lt;dbl&gt;</th><th scope=col>&lt;dbl&gt;</th><th scope=col>&lt;dbl&gt;</th><th scope=col>&lt;dbl&gt;</th><th scope=col>&lt;chr&gt;</th></tr>\n",
       "</thead>\n",
       "<tbody>\n",
       "\t<tr><th scope=row>3</th><td>2023-03-01 16:30:00</td><td>610970</td><td>152.6900</td><td>152.20</td><td>152.340</td><td>152.2200</td><td> 0.000000000</td><td>JNJ</td></tr>\n",
       "\t<tr><th scope=row>10</th><td>2023-03-02 16:30:00</td><td>672695</td><td>152.0700</td><td>151.54</td><td>151.585</td><td>151.5900</td><td>-0.004138779</td><td>JNJ</td></tr>\n",
       "\t<tr><th scope=row>17</th><td>2023-03-03 16:30:00</td><td>398069</td><td>153.7200</td><td>153.21</td><td>153.280</td><td>153.4250</td><td> 0.012105065</td><td>JNJ</td></tr>\n",
       "\t<tr><th scope=row>24</th><td>2023-03-06 16:30:00</td><td>603910</td><td>155.6500</td><td>155.03</td><td>155.210</td><td>155.4283</td><td> 0.013057167</td><td>JNJ</td></tr>\n",
       "\t<tr><th scope=row>31</th><td>2023-03-07 16:30:00</td><td>853414</td><td>154.2300</td><td>153.35</td><td>154.190</td><td>153.6500</td><td>-0.011441321</td><td>JNJ</td></tr>\n",
       "\t<tr><th scope=row>38</th><td>2023-03-08 16:30:00</td><td>514777</td><td>153.4799</td><td>152.85</td><td>153.260</td><td>153.1182</td><td>-0.003461109</td><td>JNJ</td></tr>\n",
       "</tbody>\n",
       "</table>\n"
      ],
      "text/latex": [
       "A data.frame: 6 × 8\n",
       "\\begin{tabular}{r|llllllll}\n",
       "  & date & volume & high & low & open & close & cl\\_rtrns & tic\\\\\n",
       "  & <chr> & <int> & <dbl> & <dbl> & <dbl> & <dbl> & <dbl> & <chr>\\\\\n",
       "\\hline\n",
       "\t3 & 2023-03-01 16:30:00 & 610970 & 152.6900 & 152.20 & 152.340 & 152.2200 &  0.000000000 & JNJ\\\\\n",
       "\t10 & 2023-03-02 16:30:00 & 672695 & 152.0700 & 151.54 & 151.585 & 151.5900 & -0.004138779 & JNJ\\\\\n",
       "\t17 & 2023-03-03 16:30:00 & 398069 & 153.7200 & 153.21 & 153.280 & 153.4250 &  0.012105065 & JNJ\\\\\n",
       "\t24 & 2023-03-06 16:30:00 & 603910 & 155.6500 & 155.03 & 155.210 & 155.4283 &  0.013057167 & JNJ\\\\\n",
       "\t31 & 2023-03-07 16:30:00 & 853414 & 154.2300 & 153.35 & 154.190 & 153.6500 & -0.011441321 & JNJ\\\\\n",
       "\t38 & 2023-03-08 16:30:00 & 514777 & 153.4799 & 152.85 & 153.260 & 153.1182 & -0.003461109 & JNJ\\\\\n",
       "\\end{tabular}\n"
      ],
      "text/markdown": [
       "\n",
       "A data.frame: 6 × 8\n",
       "\n",
       "| <!--/--> | date &lt;chr&gt; | volume &lt;int&gt; | high &lt;dbl&gt; | low &lt;dbl&gt; | open &lt;dbl&gt; | close &lt;dbl&gt; | cl_rtrns &lt;dbl&gt; | tic &lt;chr&gt; |\n",
       "|---|---|---|---|---|---|---|---|---|\n",
       "| 3 | 2023-03-01 16:30:00 | 610970 | 152.6900 | 152.20 | 152.340 | 152.2200 |  0.000000000 | JNJ |\n",
       "| 10 | 2023-03-02 16:30:00 | 672695 | 152.0700 | 151.54 | 151.585 | 151.5900 | -0.004138779 | JNJ |\n",
       "| 17 | 2023-03-03 16:30:00 | 398069 | 153.7200 | 153.21 | 153.280 | 153.4250 |  0.012105065 | JNJ |\n",
       "| 24 | 2023-03-06 16:30:00 | 603910 | 155.6500 | 155.03 | 155.210 | 155.4283 |  0.013057167 | JNJ |\n",
       "| 31 | 2023-03-07 16:30:00 | 853414 | 154.2300 | 153.35 | 154.190 | 153.6500 | -0.011441321 | JNJ |\n",
       "| 38 | 2023-03-08 16:30:00 | 514777 | 153.4799 | 152.85 | 153.260 | 153.1182 | -0.003461109 | JNJ |\n",
       "\n"
      ],
      "text/plain": [
       "   date                volume high     low    open    close    cl_rtrns     tic\n",
       "3  2023-03-01 16:30:00 610970 152.6900 152.20 152.340 152.2200  0.000000000 JNJ\n",
       "10 2023-03-02 16:30:00 672695 152.0700 151.54 151.585 151.5900 -0.004138779 JNJ\n",
       "17 2023-03-03 16:30:00 398069 153.7200 153.21 153.280 153.4250  0.012105065 JNJ\n",
       "24 2023-03-06 16:30:00 603910 155.6500 155.03 155.210 155.4283  0.013057167 JNJ\n",
       "31 2023-03-07 16:30:00 853414 154.2300 153.35 154.190 153.6500 -0.011441321 JNJ\n",
       "38 2023-03-08 16:30:00 514777 153.4799 152.85 153.260 153.1182 -0.003461109 JNJ"
      ]
     },
     "metadata": {},
     "output_type": "display_data"
    }
   ],
   "source": [
    "# Concatenate horizontally/along columns\n",
    "df_Y2 <- cbind(df_X2, df_Z2)\n",
    "head(df_Y2)"
   ]
  },
  {
   "cell_type": "markdown",
   "id": "041044b3-0b72-4367-a7f0-c5c413be37a1",
   "metadata": {
    "tags": []
   },
   "source": [
    "### (8) Converting the date column to *POSIX*\n",
    "\n",
    "(Continuing from sec. 5)\n",
    "\n",
    "R makes this part particularly intuitive:"
   ]
  },
  {
   "cell_type": "code",
   "execution_count": 74,
   "id": "b21d5ddc-1cd5-4df1-adf1-44253f6c9dd2",
   "metadata": {},
   "outputs": [],
   "source": [
    "df_Y <- data.frame(df_X)"
   ]
  },
  {
   "cell_type": "code",
   "execution_count": 79,
   "id": "6ec9c229-7859-42db-a989-bc75f474ef5e",
   "metadata": {},
   "outputs": [],
   "source": [
    "df_Y$date <- as.Date(df_Y$date)\n",
    "df_Y$date <- as.POSIXlt(df_Y$date)"
   ]
  },
  {
   "cell_type": "code",
   "execution_count": 81,
   "id": "513ad58d-7149-4400-bf3b-b83a80f9f09e",
   "metadata": {},
   "outputs": [
    {
     "data": {
      "text/html": [
       "<table class=\"dataframe\">\n",
       "<caption>A data.frame: 6 × 4</caption>\n",
       "<thead>\n",
       "\t<tr><th></th><th scope=col>date</th><th scope=col>close</th><th scope=col>rtrn</th><th scope=col>tic</th></tr>\n",
       "\t<tr><th></th><th scope=col>&lt;dttm&gt;</th><th scope=col>&lt;dbl&gt;</th><th scope=col>&lt;dbl&gt;</th><th scope=col>&lt;chr&gt;</th></tr>\n",
       "</thead>\n",
       "<tbody>\n",
       "\t<tr><th scope=row>3</th><td>2023-03-01</td><td>40.445</td><td> 0.0000000</td><td>PFE</td></tr>\n",
       "\t<tr><th scope=row>10</th><td>2023-03-02</td><td>40.295</td><td>-0.3708778</td><td>PFE</td></tr>\n",
       "\t<tr><th scope=row>17</th><td>2023-03-03</td><td>40.965</td><td> 1.6627423</td><td>PFE</td></tr>\n",
       "\t<tr><th scope=row>24</th><td>2023-03-06</td><td>41.185</td><td> 0.5370468</td><td>PFE</td></tr>\n",
       "\t<tr><th scope=row>31</th><td>2023-03-07</td><td>40.350</td><td>-2.0274441</td><td>PFE</td></tr>\n",
       "\t<tr><th scope=row>38</th><td>2023-03-08</td><td>40.030</td><td>-0.7930600</td><td>PFE</td></tr>\n",
       "</tbody>\n",
       "</table>\n"
      ],
      "text/latex": [
       "A data.frame: 6 × 4\n",
       "\\begin{tabular}{r|llll}\n",
       "  & date & close & rtrn & tic\\\\\n",
       "  & <dttm> & <dbl> & <dbl> & <chr>\\\\\n",
       "\\hline\n",
       "\t3 & 2023-03-01 & 40.445 &  0.0000000 & PFE\\\\\n",
       "\t10 & 2023-03-02 & 40.295 & -0.3708778 & PFE\\\\\n",
       "\t17 & 2023-03-03 & 40.965 &  1.6627423 & PFE\\\\\n",
       "\t24 & 2023-03-06 & 41.185 &  0.5370468 & PFE\\\\\n",
       "\t31 & 2023-03-07 & 40.350 & -2.0274441 & PFE\\\\\n",
       "\t38 & 2023-03-08 & 40.030 & -0.7930600 & PFE\\\\\n",
       "\\end{tabular}\n"
      ],
      "text/markdown": [
       "\n",
       "A data.frame: 6 × 4\n",
       "\n",
       "| <!--/--> | date &lt;dttm&gt; | close &lt;dbl&gt; | rtrn &lt;dbl&gt; | tic &lt;chr&gt; |\n",
       "|---|---|---|---|---|\n",
       "| 3 | 2023-03-01 | 40.445 |  0.0000000 | PFE |\n",
       "| 10 | 2023-03-02 | 40.295 | -0.3708778 | PFE |\n",
       "| 17 | 2023-03-03 | 40.965 |  1.6627423 | PFE |\n",
       "| 24 | 2023-03-06 | 41.185 |  0.5370468 | PFE |\n",
       "| 31 | 2023-03-07 | 40.350 | -2.0274441 | PFE |\n",
       "| 38 | 2023-03-08 | 40.030 | -0.7930600 | PFE |\n",
       "\n"
      ],
      "text/plain": [
       "   date       close  rtrn       tic\n",
       "3  2023-03-01 40.445  0.0000000 PFE\n",
       "10 2023-03-02 40.295 -0.3708778 PFE\n",
       "17 2023-03-03 40.965  1.6627423 PFE\n",
       "24 2023-03-06 41.185  0.5370468 PFE\n",
       "31 2023-03-07 40.350 -2.0274441 PFE\n",
       "38 2023-03-08 40.030 -0.7930600 PFE"
      ]
     },
     "metadata": {},
     "output_type": "display_data"
    }
   ],
   "source": [
    "head(df_Y)"
   ]
  },
  {
   "cell_type": "markdown",
   "id": "e7952eda-41e3-40df-b150-90f63e5c6755",
   "metadata": {
    "tags": []
   },
   "source": [
    "### (9) Converting the date column to row names\n",
    "\n",
    "This will coerce the dates to characters"
   ]
  },
  {
   "cell_type": "code",
   "execution_count": 82,
   "id": "c6cf8449-7d5d-4934-85b7-4e79d0003061",
   "metadata": {},
   "outputs": [],
   "source": [
    "df_X <- data.frame(df_Y)"
   ]
  },
  {
   "cell_type": "code",
   "execution_count": 85,
   "id": "23adb57c-c4f3-4e0a-9b3f-840129bbd77f",
   "metadata": {},
   "outputs": [],
   "source": [
    "rownames(df_X) <- df_X$date"
   ]
  },
  {
   "cell_type": "code",
   "execution_count": 87,
   "id": "cd6847ef-3dc6-4265-9b01-68d375aac11a",
   "metadata": {},
   "outputs": [],
   "source": [
    "df_X <- df_X[!(colnames(df_X) %in% c(\"date\"))]"
   ]
  },
  {
   "cell_type": "code",
   "execution_count": 88,
   "id": "7e2365df-d6b8-42fd-bc49-2a6fe1dc40a6",
   "metadata": {},
   "outputs": [
    {
     "data": {
      "text/html": [
       "<table class=\"dataframe\">\n",
       "<caption>A data.frame: 6 × 3</caption>\n",
       "<thead>\n",
       "\t<tr><th></th><th scope=col>close</th><th scope=col>rtrn</th><th scope=col>tic</th></tr>\n",
       "\t<tr><th></th><th scope=col>&lt;dbl&gt;</th><th scope=col>&lt;dbl&gt;</th><th scope=col>&lt;chr&gt;</th></tr>\n",
       "</thead>\n",
       "<tbody>\n",
       "\t<tr><th scope=row>2023-03-01</th><td>40.445</td><td> 0.0000000</td><td>PFE</td></tr>\n",
       "\t<tr><th scope=row>2023-03-02</th><td>40.295</td><td>-0.3708778</td><td>PFE</td></tr>\n",
       "\t<tr><th scope=row>2023-03-03</th><td>40.965</td><td> 1.6627423</td><td>PFE</td></tr>\n",
       "\t<tr><th scope=row>2023-03-06</th><td>41.185</td><td> 0.5370468</td><td>PFE</td></tr>\n",
       "\t<tr><th scope=row>2023-03-07</th><td>40.350</td><td>-2.0274441</td><td>PFE</td></tr>\n",
       "\t<tr><th scope=row>2023-03-08</th><td>40.030</td><td>-0.7930600</td><td>PFE</td></tr>\n",
       "</tbody>\n",
       "</table>\n"
      ],
      "text/latex": [
       "A data.frame: 6 × 3\n",
       "\\begin{tabular}{r|lll}\n",
       "  & close & rtrn & tic\\\\\n",
       "  & <dbl> & <dbl> & <chr>\\\\\n",
       "\\hline\n",
       "\t2023-03-01 & 40.445 &  0.0000000 & PFE\\\\\n",
       "\t2023-03-02 & 40.295 & -0.3708778 & PFE\\\\\n",
       "\t2023-03-03 & 40.965 &  1.6627423 & PFE\\\\\n",
       "\t2023-03-06 & 41.185 &  0.5370468 & PFE\\\\\n",
       "\t2023-03-07 & 40.350 & -2.0274441 & PFE\\\\\n",
       "\t2023-03-08 & 40.030 & -0.7930600 & PFE\\\\\n",
       "\\end{tabular}\n"
      ],
      "text/markdown": [
       "\n",
       "A data.frame: 6 × 3\n",
       "\n",
       "| <!--/--> | close &lt;dbl&gt; | rtrn &lt;dbl&gt; | tic &lt;chr&gt; |\n",
       "|---|---|---|---|\n",
       "| 2023-03-01 | 40.445 |  0.0000000 | PFE |\n",
       "| 2023-03-02 | 40.295 | -0.3708778 | PFE |\n",
       "| 2023-03-03 | 40.965 |  1.6627423 | PFE |\n",
       "| 2023-03-06 | 41.185 |  0.5370468 | PFE |\n",
       "| 2023-03-07 | 40.350 | -2.0274441 | PFE |\n",
       "| 2023-03-08 | 40.030 | -0.7930600 | PFE |\n",
       "\n"
      ],
      "text/plain": [
       "           close  rtrn       tic\n",
       "2023-03-01 40.445  0.0000000 PFE\n",
       "2023-03-02 40.295 -0.3708778 PFE\n",
       "2023-03-03 40.965  1.6627423 PFE\n",
       "2023-03-06 41.185  0.5370468 PFE\n",
       "2023-03-07 40.350 -2.0274441 PFE\n",
       "2023-03-08 40.030 -0.7930600 PFE"
      ]
     },
     "metadata": {},
     "output_type": "display_data"
    }
   ],
   "source": [
    "head(df_X)"
   ]
  },
  {
   "cell_type": "code",
   "execution_count": 89,
   "id": "389d67a5-47d6-4968-aa52-3ef009d34a24",
   "metadata": {},
   "outputs": [
    {
     "data": {
      "text/html": [
       "'character'"
      ],
      "text/latex": [
       "'character'"
      ],
      "text/markdown": [
       "'character'"
      ],
      "text/plain": [
       "[1] \"character\""
      ]
     },
     "metadata": {},
     "output_type": "display_data"
    }
   ],
   "source": [
    "class(rownames(df_X))"
   ]
  },
  {
   "cell_type": "code",
   "execution_count": null,
   "id": "77704fd3-34aa-4f38-8538-52d6f75f3ab3",
   "metadata": {},
   "outputs": [],
   "source": []
  }
 ],
 "metadata": {
  "kernelspec": {
   "display_name": "R",
   "language": "R",
   "name": "ir"
  },
  "language_info": {
   "codemirror_mode": "r",
   "file_extension": ".r",
   "mimetype": "text/x-r-source",
   "name": "R",
   "pygments_lexer": "r",
   "version": "4.3.0"
  }
 },
 "nbformat": 4,
 "nbformat_minor": 5
}
