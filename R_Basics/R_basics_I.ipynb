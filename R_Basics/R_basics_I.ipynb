{
 "cells": [
  {
   "cell_type": "markdown",
   "metadata": {
    "id": "71p1za7nFGLV"
   },
   "source": [
    "# **Basics of the R language: I - Data structures, Functions, and Objects**\n",
    "### AJ Zerouali, 2023/06/13\n",
    "\n",
    "One language is never enough. This notebook documents my first steps into R, following mostly Kabacoff's \"R in Action\". My motivation is to use certain R statistical packages in Python, which requires knowing some R and having some understanding the rpy2 package. This will be done elsewhere.\n",
    "\n",
    "In the *R_basics* series of notebooks,  I look at some of the following fundamentals:\n",
    "\n",
    "1) Library/package management API of R.\n",
    "2) How the basic data structures in R work.\n",
    "3) Working with *factors* (nominal or ordinal categorical variables).\n",
    "4) Functions in R.\n",
    "5) Object-oriented programming.\n",
    "6) Linear algebra in R: usual matrix algebra, eigen-decompositions, and singular value decomposition.\n",
    "7) Plotting graphs (this is maybe more important than I think).\n",
    "8) Running R scripts from within R and from a terminal.\n",
    "9) Basic stats (tentative).\n",
    "10) Time series models (tentative).\n",
    "\n",
    "The contents of this notebook cover the very basics in a shallow fashion (***To be determined***):\n",
    "\n",
    "1) Upper-level: Packages and workspaces\n",
    "2) Fundamental data structures in R\n",
    "3) Operations, functions and control flows\n",
    "\n",
    "#### **References**:\n",
    "- Primary: \"R in Action\" (Third edition), by R.I. Kabacoff.\n",
    "    * GitHub repo: https://github.com/kabacoff/RiA2\n",
    "- ETHZ docs reference. A quite messy starting point:\n",
    "    * https://stat.ethz.ch/R-manual/R-devel/library/base/html/00Index.html\n",
    "- \"Let's learn, Nemo!\". A great Youtube channel on Math, Stats, Matlab, R, and C++ more recently.\n",
    "    * R programming playlist: https://www.youtube.com/playlist?list=PLW1_9UnhaSkE65XQ9n5TVkWeucU8txMNL\n",
    "    * Linear Algebra in R: https://www.youtube.com/watch?v=VjYS59FoDYg&list=PLW1_9UnhaSkE65XQ9n5TVkWeucU8txMNL&index=14&ab_channel=Let%27sLearn%2CNemo%21\n",
    "   I followed the lecture above to write the (beginning of) linear algebra section.\n",
    "- \"TidyX\". A Youtube channel specializing in R.\n",
    "    * R objects playlist: https://www.youtube.com/playlist?list=PLdb0LTjA9iQwMOhNOzj5h2G6HXpatm4XQ\n",
    "    * GitHub repo: https://github.com/thebioengineer/TidyX/tree/master/TidyTuesday_Explained\n",
    "   These tutorials are good for the object-oriented programming part. They have several lectures on each of the following topics: lists, S3 objects, and S4 objects.\n",
    "\n",
    "\n"
   ]
  },
  {
   "cell_type": "markdown",
   "metadata": {
    "id": "LnwlshsrHaOZ",
    "jp-MarkdownHeadingCollapsed": true,
    "tags": []
   },
   "source": [
    "## **1) Upper-level: Packages and workspaces**\n",
    "\n",
    "When you open R you create a workspace that loads packages and stores variables. Every workspace comes with a set of initialized options:"
   ]
  },
  {
   "cell_type": "code",
   "execution_count": null,
   "metadata": {
    "colab": {
     "base_uri": "https://localhost:8080/",
     "height": 1000
    },
    "collapsed": true,
    "id": "x4kYgqfMIu5R",
    "jupyter": {
     "outputs_hidden": true
    },
    "outputId": "fe6c6db3-f36b-4e63-8c2d-3952c9b7d47d",
    "tags": []
   },
   "outputs": [
    {
     "data": {
      "text/plain": [
       "$add.smooth\n",
       "[1] TRUE\n",
       "\n",
       "$bitmapType\n",
       "[1] \"cairo\"\n",
       "\n",
       "$browser\n",
       "[1] \"xdg-open\"\n",
       "\n",
       "$browserNLdisabled\n",
       "[1] FALSE\n",
       "\n",
       "$browserNLdisabled\n",
       "[1] FALSE\n",
       "\n",
       "$callr.condition_handler_cli_message\n",
       "function (msg) \n",
       "{\n",
       "    custom_handler <- getOption(\"cli.default_handler\")\n",
       "    if (is.function(custom_handler)) {\n",
       "        custom_handler(msg)\n",
       "    }\n",
       "    else {\n",
       "        cli_server_default(msg)\n",
       "    }\n",
       "}\n",
       "<bytecode: 0x558cbd2eb648>\n",
       "<environment: namespace:cli>\n",
       "\n",
       "$CBoundsCheck\n",
       "[1] FALSE\n",
       "\n",
       "$check.bounds\n",
       "[1] FALSE\n",
       "\n",
       "$citation.bibtex.max\n",
       "[1] 1\n",
       "\n",
       "$continue\n",
       "[1] \"+ \"\n",
       "\n",
       "$contrasts\n",
       "        unordered           ordered \n",
       "\"contr.treatment\"      \"contr.poly\" \n",
       "\n",
       "$crayon.enabled\n",
       "[1] TRUE\n",
       "\n",
       "$defaultPackages\n",
       "[1] \"datasets\"  \"utils\"     \"grDevices\" \"graphics\"  \"stats\"     \"methods\"  \n",
       "\n",
       "$demo.ask\n",
       "[1] \"default\"\n",
       "\n",
       "$deparse.cutoff\n",
       "[1] 60\n",
       "\n",
       "$device\n",
       "function (filename = null_filename, ...) \n",
       "ok_device(filename, ...)\n",
       "<bytecode: 0x558cbd80d9d0>\n",
       "<environment: 0x558cbd80d538>\n",
       "\n",
       "$device.ask.default\n",
       "[1] FALSE\n",
       "\n",
       "$digits\n",
       "[1] 7\n",
       "\n",
       "$dvipscmd\n",
       "[1] \"dvips\"\n",
       "\n",
       "$echo\n",
       "[1] FALSE\n",
       "\n",
       "$editor\n",
       "[1] \"vi\"\n",
       "\n",
       "$encoding\n",
       "[1] \"native.enc\"\n",
       "\n",
       "$example.ask\n",
       "[1] \"default\"\n",
       "\n",
       "$expressions\n",
       "[1] 5000\n",
       "\n",
       "$help.search.types\n",
       "[1] \"vignette\" \"demo\"     \"help\"    \n",
       "\n",
       "$help.try.all.packages\n",
       "[1] FALSE\n",
       "\n",
       "$HTTPUserAgent\n",
       "[1] \"R (4.3.0 x86_64-pc-linux-gnu x86_64 linux-gnu)\"\n",
       "\n",
       "$internet.info\n",
       "[1] 2\n",
       "\n",
       "$jupyter.base_display_func\n",
       "Class method definition for method display_data()\n",
       "function (data, metadata = NULL) \n",
       "{\n",
       "    if (is.null(metadata)) {\n",
       "        metadata <- namedlist()\n",
       "    }\n",
       "    send_response(\"display_data\", current_request, \"iopub\", list(data = data, \n",
       "        metadata = metadata))\n",
       "    invisible(TRUE)\n",
       "}\n",
       "<environment: 0x558cbdebce10>\n",
       "\n",
       "$jupyter.clear_output_func\n",
       "Class method definition for method clear_output()\n",
       "function (wait = TRUE) \n",
       "{\n",
       "    send_response(\"clear_output\", current_request, \"iopub\", list(wait = wait))\n",
       "}\n",
       "<environment: 0x558cbdebce10>\n",
       "\n",
       "$jupyter.display_mimetypes\n",
       " [1] \"text/plain\"                       \"text/html\"                       \n",
       " [3] \"text/markdown\"                    \"text/latex\"                      \n",
       " [5] \"application/json\"                 \"application/javascript\"          \n",
       " [7] \"application/geo+json\"             \"application/vdom.v1+json\"        \n",
       " [9] \"application/vnd.plotly.v1+json\"   \"application/vnd.vegalite.v2+json\"\n",
       "[11] \"application/vnd.vega.v4+json\"     \"application/pdf\"                 \n",
       "[13] \"image/png\"                        \"image/jpeg\"                      \n",
       "[15] \"image/svg+xml\"                   \n",
       "\n",
       "$jupyter.in_kernel\n",
       "[1] TRUE\n",
       "\n",
       "$jupyter.log_level\n",
       "[1] 1\n",
       "\n",
       "$jupyter.logfile\n",
       "[1] NA\n",
       "\n",
       "$jupyter.pager_classes\n",
       "[1] \"packageIQR\"            \"help_files_with_topic\"\n",
       "\n",
       "$jupyter.plot_mimetypes\n",
       "[1] \"text/plain\" \"image/png\" \n",
       "\n",
       "$jupyter.plot_scale\n",
       "[1] 2\n",
       "\n",
       "$jupyter.rich_display\n",
       "[1] TRUE\n",
       "\n",
       "$keep.parse.data\n",
       "[1] TRUE\n",
       "\n",
       "$keep.parse.data.pkgs\n",
       "[1] FALSE\n",
       "\n",
       "$keep.source\n",
       "[1] FALSE\n",
       "\n",
       "$keep.source.pkgs\n",
       "[1] FALSE\n",
       "\n",
       "$locatorBell\n",
       "[1] TRUE\n",
       "\n",
       "$mailer\n",
       "[1] \"mailto\"\n",
       "\n",
       "$matprod\n",
       "[1] \"default\"\n",
       "\n",
       "$max.contour.segments\n",
       "[1] 25000\n",
       "\n",
       "$max.print\n",
       "[1] 99999\n",
       "\n",
       "$menu.graphics\n",
       "[1] TRUE\n",
       "\n",
       "$na.action\n",
       "[1] \"na.omit\"\n",
       "\n",
       "$nwarnings\n",
       "[1] 50\n",
       "\n",
       "$OutDec\n",
       "[1] \".\"\n",
       "\n",
       "$pager\n",
       "function (files, header, title, delete.file) \n",
       "{\n",
       "    text <- title\n",
       "    for (path in files) {\n",
       "        text <- c(text, header, readLines(path))\n",
       "    }\n",
       "    if (delete.file) \n",
       "        file.remove(files)\n",
       "    data <- list(`text/plain` = paste(text, collapse = \"\\n\"))\n",
       "    page(list(data = data, metadata = namedlist()))\n",
       "}\n",
       "<environment: 0x558cbe0f4008>\n",
       "\n",
       "$papersize\n",
       "[1] \"a4\"\n",
       "\n",
       "$PCRE_limit_recursion\n",
       "[1] NA\n",
       "\n",
       "$PCRE_study\n",
       "[1] FALSE\n",
       "\n",
       "$PCRE_use_JIT\n",
       "[1] TRUE\n",
       "\n",
       "$pdfviewer\n",
       "[1] \"/usr/bin/xdg-open\"\n",
       "\n",
       "$pkgType\n",
       "[1] \"source\"\n",
       "\n",
       "$printcmd\n",
       "[1] \"/usr/bin/lpr\"\n",
       "\n",
       "$prompt\n",
       "[1] \"> \"\n",
       "\n",
       "$repos\n",
       "                      CRAN \n",
       "\"https://cran.rstudio.com\" \n",
       "\n",
       "$repr.function.highlight\n",
       "[1] FALSE\n",
       "\n",
       "$repr.html.deduplicate\n",
       "[1] FALSE\n",
       "\n",
       "$repr.matrix.latex.colspec\n",
       "$repr.matrix.latex.colspec$row_head\n",
       "[1] \"r|\"\n",
       "\n",
       "$repr.matrix.latex.colspec$col\n",
       "[1] \"l\"\n",
       "\n",
       "$repr.matrix.latex.colspec$end\n",
       "[1] \"\"\n",
       "\n",
       "\n",
       "$repr.matrix.max.cols\n",
       "[1] 20\n",
       "\n",
       "$repr.matrix.max.rows\n",
       "[1] 60\n",
       "\n",
       "$repr.plot.antialias\n",
       "[1] \"gray\"\n",
       "\n",
       "$repr.plot.bg\n",
       "[1] \"white\"\n",
       "\n",
       "$repr.plot.family\n",
       "[1] \"sans\"\n",
       "\n",
       "$repr.plot.height\n",
       "[1] 7\n",
       "\n",
       "$repr.plot.pointsize\n",
       "[1] 12\n",
       "\n",
       "$repr.plot.quality\n",
       "[1] 90\n",
       "\n",
       "$repr.plot.res\n",
       "[1] 120\n",
       "\n",
       "$repr.plot.width\n",
       "[1] 7\n",
       "\n",
       "$repr.vector.max.items\n",
       "[1] 400\n",
       "\n",
       "$repr.vector.quote\n",
       "[1] TRUE\n",
       "\n",
       "$rl_word_breaks\n",
       "[1] \" \\t\\n\\\"\\\\'`><=%;,|&{()}\"\n",
       "\n",
       "$scipen\n",
       "[1] 0\n",
       "\n",
       "$show.coef.Pvalues\n",
       "[1] TRUE\n",
       "\n",
       "$show.error.messages\n",
       "[1] TRUE\n",
       "\n",
       "$show.signif.stars\n",
       "[1] TRUE\n",
       "\n",
       "$showErrorCalls\n",
       "[1] TRUE\n",
       "\n",
       "$showNCalls\n",
       "[1] 50\n",
       "\n",
       "$showWarnCalls\n",
       "[1] FALSE\n",
       "\n",
       "$str\n",
       "$str$strict.width\n",
       "[1] \"no\"\n",
       "\n",
       "$str$digits.d\n",
       "[1] 3\n",
       "\n",
       "$str$vec.len\n",
       "[1] 4\n",
       "\n",
       "$str$list.len\n",
       "[1] 99\n",
       "\n",
       "$str$deparse.lines\n",
       "NULL\n",
       "\n",
       "$str$drop.deparse.attr\n",
       "[1] TRUE\n",
       "\n",
       "$str$formatNum\n",
       "function (x, ...) \n",
       "format(x, trim = TRUE, drop0trailing = TRUE, ...)\n",
       "<environment: 0x558cbd378568>\n",
       "\n",
       "\n",
       "$str.dendrogram.last\n",
       "[1] \"`\"\n",
       "\n",
       "$texi2dvi\n",
       "[1] \"/usr/bin/texi2dvi\"\n",
       "\n",
       "$timeout\n",
       "[1] 60\n",
       "\n",
       "$try.outFile\n",
       "A connection with                            \n",
       "description \"output\"        \n",
       "class       \"textConnection\"\n",
       "mode        \"wr\"            \n",
       "text        \"text\"          \n",
       "opened      \"opened\"        \n",
       "can read    \"no\"            \n",
       "can write   \"yes\"           \n",
       "\n",
       "$ts.eps\n",
       "[1] 1e-05\n",
       "\n",
       "$ts.S.compat\n",
       "[1] FALSE\n",
       "\n",
       "$unzip\n",
       "[1] \"/usr/bin/unzip\"\n",
       "\n",
       "$useFancyQuotes\n",
       "[1] TRUE\n",
       "\n",
       "$verbose\n",
       "[1] FALSE\n",
       "\n",
       "$warn\n",
       "[1] 0\n",
       "\n",
       "$warning.length\n",
       "[1] 1000\n",
       "\n",
       "$warnPartialMatchArgs\n",
       "[1] FALSE\n",
       "\n",
       "$warnPartialMatchAttr\n",
       "[1] FALSE\n",
       "\n",
       "$warnPartialMatchDollar\n",
       "[1] FALSE\n",
       "\n",
       "$width\n",
       "[1] 80\n"
      ]
     },
     "metadata": {},
     "output_type": "display_data"
    }
   ],
   "source": [
    "options()"
   ]
  },
  {
   "cell_type": "markdown",
   "metadata": {
    "id": "vqt7YIBBJhQF",
    "tags": []
   },
   "source": [
    "### 1.a - Packages\n",
    "\n",
    "This is from Sec. 1.4 of Kabacoff.\n",
    "\n",
    "To check the installed packages:"
   ]
  },
  {
   "cell_type": "code",
   "execution_count": 3,
   "metadata": {
    "colab": {
     "base_uri": "https://localhost:8080/",
     "height": 1000
    },
    "id": "C66DCmwgIvjr",
    "outputId": "86d7e5d2-d0cd-452e-f075-a8a6e2ea5427"
   },
   "outputs": [
    {
     "data": {
      "text/html": [
       "<table class=\"dataframe\">\n",
       "<caption>A matrix: 128 × 16 of type chr</caption>\n",
       "<thead>\n",
       "\t<tr><th></th><th scope=col>Package</th><th scope=col>LibPath</th><th scope=col>Version</th><th scope=col>Priority</th><th scope=col>Depends</th><th scope=col>Imports</th><th scope=col>LinkingTo</th><th scope=col>Suggests</th><th scope=col>Enhances</th><th scope=col>License</th><th scope=col>License_is_FOSS</th><th scope=col>License_restricts_use</th><th scope=col>OS_type</th><th scope=col>MD5sum</th><th scope=col>NeedsCompilation</th><th scope=col>Built</th></tr>\n",
       "</thead>\n",
       "<tbody>\n",
       "\t<tr><th scope=row>ash</th><td><span style=white-space:pre-wrap>ash                  </span></td><td>/usr/local/lib/R/site-library</td><td>1.0-15 </td><td>NA</td><td><span style=white-space:pre-wrap>NA                                                 </span></td><td><span style=white-space:pre-wrap>NA                                                                                                                                                                </span></td><td><span style=white-space:pre-wrap>NA                                         </span></td><td><span style=white-space:pre-wrap>NA                                                                                                                                                                                                                                 </span></td><td>NA </td><td><span style=white-space:pre-wrap>GPL (&gt;= 2)                  </span></td><td>NA</td><td>NA</td><td>NA</td><td>NA</td><td>yes</td><td>4.3.0</td></tr>\n",
       "\t<tr><th scope=row>base64enc</th><td><span style=white-space:pre-wrap>base64enc            </span></td><td>/usr/local/lib/R/site-library</td><td><span style=white-space:pre-wrap>0.1-3  </span></td><td>NA</td><td><span style=white-space:pre-wrap>R (&gt;= 2.9.0)                                       </span></td><td><span style=white-space:pre-wrap>NA                                                                                                                                                                </span></td><td><span style=white-space:pre-wrap>NA                                         </span></td><td><span style=white-space:pre-wrap>NA                                                                                                                                                                                                                                 </span></td><td>png</td><td><span style=white-space:pre-wrap>GPL-2 | GPL-3               </span></td><td>NA</td><td>NA</td><td>NA</td><td>NA</td><td>yes</td><td>4.3.0</td></tr>\n",
       "\t<tr><th scope=row>Bessel</th><td><span style=white-space:pre-wrap>Bessel               </span></td><td>/usr/local/lib/R/site-library</td><td><span style=white-space:pre-wrap>0.6-0  </span></td><td>NA</td><td><span style=white-space:pre-wrap>NA                                                 </span></td><td><span style=white-space:pre-wrap>methods, Rmpfr                                                                                                                                                    </span></td><td><span style=white-space:pre-wrap>NA                                         </span></td><td><span style=white-space:pre-wrap>gsl, sfsmisc                                                                                                                                                                                                                       </span></td><td>NA </td><td><span style=white-space:pre-wrap>GPL (&gt;= 2)                  </span></td><td>NA</td><td>NA</td><td>NA</td><td>NA</td><td>yes</td><td>4.3.0</td></tr>\n",
       "\t<tr><th scope=row>bit</th><td><span style=white-space:pre-wrap>bit                  </span></td><td>/usr/local/lib/R/site-library</td><td><span style=white-space:pre-wrap>4.0.5  </span></td><td>NA</td><td><span style=white-space:pre-wrap>R (&gt;= 2.9.2)                                       </span></td><td><span style=white-space:pre-wrap>NA                                                                                                                                                                </span></td><td><span style=white-space:pre-wrap>NA                                         </span></td><td><span style=white-space:pre-wrap>testthat (&gt;= 0.11.0), roxygen2, knitr, rmarkdown,\n",
       "microbenchmark, bit64 (&gt;= 4.0.0), ff (&gt;= 4.0.0)                                                                                                                                 </span></td><td>NA </td><td><span style=white-space:pre-wrap>GPL-2 | GPL-3               </span></td><td>NA</td><td>NA</td><td>NA</td><td>NA</td><td>yes</td><td>4.3.0</td></tr>\n",
       "\t<tr><th scope=row>bit64</th><td><span style=white-space:pre-wrap>bit64                </span></td><td>/usr/local/lib/R/site-library</td><td><span style=white-space:pre-wrap>4.0.5  </span></td><td>NA</td><td>R (&gt;= 3.0.1), bit (&gt;= 4.0.0), utils, methods, stats</td><td><span style=white-space:pre-wrap>NA                                                                                                                                                                </span></td><td><span style=white-space:pre-wrap>NA                                         </span></td><td><span style=white-space:pre-wrap>NA                                                                                                                                                                                                                                 </span></td><td>NA </td><td><span style=white-space:pre-wrap>GPL-2 | GPL-3               </span></td><td>NA</td><td>NA</td><td>NA</td><td>NA</td><td>yes</td><td>4.3.0</td></tr>\n",
       "\t<tr><th scope=row>bitops</th><td><span style=white-space:pre-wrap>bitops               </span></td><td>/usr/local/lib/R/site-library</td><td><span style=white-space:pre-wrap>1.0-7  </span></td><td>NA</td><td><span style=white-space:pre-wrap>NA                                                 </span></td><td><span style=white-space:pre-wrap>NA                                                                                                                                                                </span></td><td><span style=white-space:pre-wrap>NA                                         </span></td><td><span style=white-space:pre-wrap>NA                                                                                                                                                                                                                                 </span></td><td>NA </td><td><span style=white-space:pre-wrap>GPL (&gt;= 2)                  </span></td><td>NA</td><td>NA</td><td>NA</td><td>NA</td><td>yes</td><td>4.3.0</td></tr>\n",
       "\t<tr><th scope=row>chron</th><td><span style=white-space:pre-wrap>chron                </span></td><td>/usr/local/lib/R/site-library</td><td>2.3-61 </td><td>NA</td><td><span style=white-space:pre-wrap>R (&gt;= 2.12.0)                                      </span></td><td><span style=white-space:pre-wrap>graphics, stats                                                                                                                                                   </span></td><td><span style=white-space:pre-wrap>NA                                         </span></td><td><span style=white-space:pre-wrap>scales, ggplot2                                                                                                                                                                                                                    </span></td><td>zoo</td><td><span style=white-space:pre-wrap>GPL-2                       </span></td><td>NA</td><td>NA</td><td>NA</td><td>NA</td><td>yes</td><td>4.3.0</td></tr>\n",
       "\t<tr><th scope=row>cli</th><td><span style=white-space:pre-wrap>cli                  </span></td><td>/usr/local/lib/R/site-library</td><td><span style=white-space:pre-wrap>3.6.1  </span></td><td>NA</td><td><span style=white-space:pre-wrap>R (&gt;= 3.4)                                         </span></td><td><span style=white-space:pre-wrap>utils                                                                                                                                                             </span></td><td><span style=white-space:pre-wrap>NA                                         </span></td><td>callr, covr, crayon, digest, glue (&gt;= 1.6.0), grDevices,\n",
       "htmltools, htmlwidgets, knitr, methods, mockery, processx, ps\n",
       "(&gt;= 1.3.4.9000), rlang (&gt;= 1.0.2.9003), rmarkdown, rprojroot,\n",
       "rstudioapi, testthat, tibble, whoami, withr</td><td>NA </td><td><span style=white-space:pre-wrap>MIT + file LICENSE          </span></td><td>NA</td><td>NA</td><td>NA</td><td>NA</td><td>yes</td><td>4.3.0</td></tr>\n",
       "\t<tr><th scope=row>clipr</th><td><span style=white-space:pre-wrap>clipr                </span></td><td>/usr/local/lib/R/site-library</td><td><span style=white-space:pre-wrap>0.8.0  </span></td><td>NA</td><td><span style=white-space:pre-wrap>NA                                                 </span></td><td><span style=white-space:pre-wrap>utils                                                                                                                                                             </span></td><td><span style=white-space:pre-wrap>NA                                         </span></td><td><span style=white-space:pre-wrap>covr, knitr, rmarkdown, rstudioapi (&gt;= 0.5), testthat (&gt;=\n",
       "2.0.0)                                                                                                                                                                  </span></td><td>NA </td><td><span style=white-space:pre-wrap>GPL-3                       </span></td><td>NA</td><td>NA</td><td>NA</td><td>NA</td><td>no </td><td>4.3.0</td></tr>\n",
       "\t<tr><th scope=row>colorspace</th><td><span style=white-space:pre-wrap>colorspace           </span></td><td>/usr/local/lib/R/site-library</td><td><span style=white-space:pre-wrap>2.1-0  </span></td><td>NA</td><td><span style=white-space:pre-wrap>R (&gt;= 3.0.0), methods                              </span></td><td><span style=white-space:pre-wrap>graphics, grDevices, stats                                                                                                                                        </span></td><td><span style=white-space:pre-wrap>NA                                         </span></td><td><span style=white-space:pre-wrap>datasets, utils, KernSmooth, MASS, kernlab, mvtnorm, vcd,\n",
       "tcltk, shiny, shinyjs, ggplot2, dplyr, scales, grid, png, jpeg,\n",
       "knitr, rmarkdown, RColorBrewer, rcartocolor, scico, viridis,\n",
       "wesanderson                              </span></td><td>NA </td><td>BSD_3_clause + file LICENSE </td><td>NA</td><td>NA</td><td>NA</td><td>NA</td><td>yes</td><td>4.3.0</td></tr>\n",
       "\t<tr><th scope=row>corpcor</th><td><span style=white-space:pre-wrap>corpcor              </span></td><td>/usr/local/lib/R/site-library</td><td>1.6.10 </td><td>NA</td><td><span style=white-space:pre-wrap>R (&gt;= 3.0.2)                                       </span></td><td><span style=white-space:pre-wrap>stats                                                                                                                                                             </span></td><td><span style=white-space:pre-wrap>NA                                         </span></td><td><span style=white-space:pre-wrap>                                                                                                                                                                                                                                   </span></td><td>NA </td><td><span style=white-space:pre-wrap>GPL (&gt;= 3)                  </span></td><td>NA</td><td>NA</td><td>NA</td><td>NA</td><td>no </td><td>4.3.0</td></tr>\n",
       "\t<tr><th scope=row>cpp11</th><td>cpp11                </td><td>/usr/local/lib/R/site-library</td><td>0.4.3  </td><td>NA</td><td>NA                                                 </td><td>NA                                                                                                                                                                </td><td>NA                                         </td><td>bench, brio, callr, cli, covr, decor, desc, ggplot2, glue,\n",
       "knitr, lobstr, mockery, progress, rmarkdown, scales, Rcpp,\n",
       "testthat, tibble, utils, vctrs, withr                                                                      </td><td>NA </td><td>MIT + file LICENSE          </td><td>NA</td><td>NA</td><td>NA</td><td>NA</td><td>no </td><td>4.3.0</td></tr>\n",
       "\t<tr><th scope=row>crayon</th><td>crayon               </td><td>/usr/local/lib/R/site-library</td><td>1.5.2  </td><td>NA</td><td>NA                                                 </td><td>grDevices, methods, utils                                                                                                                                         </td><td>NA                                         </td><td>mockery, rstudioapi, testthat, withr                                                                                                                                                                                               </td><td>NA </td><td>MIT + file LICENSE          </td><td>NA</td><td>NA</td><td>NA</td><td>NA</td><td>no </td><td>4.3.0</td></tr>\n",
       "\t<tr><th scope=row>curl</th><td><span style=white-space:pre-wrap>curl                 </span></td><td>/usr/local/lib/R/site-library</td><td><span style=white-space:pre-wrap>5.0.0  </span></td><td>NA</td><td><span style=white-space:pre-wrap>R (&gt;= 3.0.0)                                       </span></td><td><span style=white-space:pre-wrap>NA                                                                                                                                                                </span></td><td><span style=white-space:pre-wrap>NA                                         </span></td><td><span style=white-space:pre-wrap>spelling, testthat (&gt;= 1.0.0), knitr, jsonlite, rmarkdown,\n",
       "magrittr, httpuv (&gt;= 1.4.4), webutils                                                                                                                                  </span></td><td>NA </td><td><span style=white-space:pre-wrap>MIT + file LICENSE          </span></td><td>NA</td><td>NA</td><td>NA</td><td>NA</td><td>yes</td><td>4.3.0</td></tr>\n",
       "\t<tr><th scope=row>deSolve</th><td><span style=white-space:pre-wrap>deSolve              </span></td><td>/usr/local/lib/R/site-library</td><td><span style=white-space:pre-wrap>1.35   </span></td><td>NA</td><td><span style=white-space:pre-wrap>R (&gt;= 3.3.0)                                       </span></td><td><span style=white-space:pre-wrap>methods, graphics, grDevices, stats                                                                                                                               </span></td><td><span style=white-space:pre-wrap>NA                                         </span></td><td><span style=white-space:pre-wrap>scatterplot3d, FME                                                                                                                                                                                                                 </span></td><td>NA </td><td><span style=white-space:pre-wrap>GPL (&gt;= 2)                  </span></td><td>NA</td><td>NA</td><td>NA</td><td>NA</td><td>yes</td><td>4.3.0</td></tr>\n",
       "\t<tr><th scope=row>digest</th><td><span style=white-space:pre-wrap>digest               </span></td><td>/usr/local/lib/R/site-library</td><td>0.6.31 </td><td>NA</td><td><span style=white-space:pre-wrap>R (&gt;= 3.3.0)                                       </span></td><td><span style=white-space:pre-wrap>utils                                                                                                                                                             </span></td><td><span style=white-space:pre-wrap>NA                                         </span></td><td><span style=white-space:pre-wrap>tinytest, simplermarkdown                                                                                                                                                                                                          </span></td><td>NA </td><td><span style=white-space:pre-wrap>GPL (&gt;= 2)                  </span></td><td>NA</td><td>NA</td><td>NA</td><td>NA</td><td>yes</td><td>4.3.0</td></tr>\n",
       "\t<tr><th scope=row>DistributionUtils</th><td><span style=white-space:pre-wrap>DistributionUtils    </span></td><td>/usr/local/lib/R/site-library</td><td><span style=white-space:pre-wrap>0.6-0  </span></td><td>NA</td><td><span style=white-space:pre-wrap>R (&gt;= 3.0.1)                                       </span></td><td><span style=white-space:pre-wrap>NA                                                                                                                                                                </span></td><td><span style=white-space:pre-wrap>NA                                         </span></td><td><span style=white-space:pre-wrap>GeneralizedHyperbolic, VarianceGamma, SkewHyperbolic, RUnit                                                                                                                                                                        </span></td><td>NA </td><td><span style=white-space:pre-wrap>GPL (&gt;= 2)                  </span></td><td>NA</td><td>NA</td><td>NA</td><td>NA</td><td>yes</td><td>4.3.0</td></tr>\n",
       "\t<tr><th scope=row>ellipsis</th><td><span style=white-space:pre-wrap>ellipsis             </span></td><td>/usr/local/lib/R/site-library</td><td><span style=white-space:pre-wrap>0.3.2  </span></td><td>NA</td><td><span style=white-space:pre-wrap>R (&gt;= 3.2)                                         </span></td><td><span style=white-space:pre-wrap>rlang (&gt;= 0.3.0)                                                                                                                                                  </span></td><td><span style=white-space:pre-wrap>NA                                         </span></td><td><span style=white-space:pre-wrap>covr, testthat                                                                                                                                                                                                                     </span></td><td>NA </td><td><span style=white-space:pre-wrap>MIT + file LICENSE          </span></td><td>NA</td><td>NA</td><td>NA</td><td>NA</td><td>yes</td><td>4.3.0</td></tr>\n",
       "\t<tr><th scope=row>evaluate</th><td><span style=white-space:pre-wrap>evaluate             </span></td><td>/usr/local/lib/R/site-library</td><td><span style=white-space:pre-wrap>0.21   </span></td><td>NA</td><td><span style=white-space:pre-wrap>R (&gt;= 3.0.2)                                       </span></td><td><span style=white-space:pre-wrap>methods                                                                                                                                                           </span></td><td><span style=white-space:pre-wrap>NA                                         </span></td><td><span style=white-space:pre-wrap>covr, ggplot2, lattice, rlang, testthat (&gt;= 3.0.0), withr                                                                                                                                                                          </span></td><td>NA </td><td><span style=white-space:pre-wrap>MIT + file LICENSE          </span></td><td>NA</td><td>NA</td><td>NA</td><td>NA</td><td>no </td><td>4.3.0</td></tr>\n",
       "\t<tr><th scope=row>fansi</th><td><span style=white-space:pre-wrap>fansi                </span></td><td>/usr/local/lib/R/site-library</td><td><span style=white-space:pre-wrap>1.0.4  </span></td><td>NA</td><td><span style=white-space:pre-wrap>R (&gt;= 3.1.0)                                       </span></td><td><span style=white-space:pre-wrap>grDevices, utils                                                                                                                                                  </span></td><td><span style=white-space:pre-wrap>NA                                         </span></td><td><span style=white-space:pre-wrap>unitizer, knitr, rmarkdown                                                                                                                                                                                                         </span></td><td>NA </td><td><span style=white-space:pre-wrap>GPL-2 | GPL-3               </span></td><td>NA</td><td>NA</td><td>NA</td><td>NA</td><td>yes</td><td>4.3.0</td></tr>\n",
       "\t<tr><th scope=row>farver</th><td><span style=white-space:pre-wrap>farver               </span></td><td>/usr/local/lib/R/site-library</td><td><span style=white-space:pre-wrap>2.1.1  </span></td><td>NA</td><td><span style=white-space:pre-wrap>NA                                                 </span></td><td><span style=white-space:pre-wrap>NA                                                                                                                                                                </span></td><td><span style=white-space:pre-wrap>NA                                         </span></td><td><span style=white-space:pre-wrap>covr, testthat (&gt;= 3.0.0)                                                                                                                                                                                                          </span></td><td>NA </td><td><span style=white-space:pre-wrap>MIT + file LICENSE          </span></td><td>NA</td><td>NA</td><td>NA</td><td>NA</td><td>yes</td><td>4.3.0</td></tr>\n",
       "\t<tr><th scope=row>fastmap</th><td><span style=white-space:pre-wrap>fastmap              </span></td><td>/usr/local/lib/R/site-library</td><td><span style=white-space:pre-wrap>1.1.1  </span></td><td>NA</td><td><span style=white-space:pre-wrap>NA                                                 </span></td><td><span style=white-space:pre-wrap>NA                                                                                                                                                                </span></td><td><span style=white-space:pre-wrap>NA                                         </span></td><td><span style=white-space:pre-wrap>testthat (&gt;= 2.1.1)                                                                                                                                                                                                                </span></td><td>NA </td><td><span style=white-space:pre-wrap>MIT + file LICENSE          </span></td><td>NA</td><td>NA</td><td>NA</td><td>NA</td><td>yes</td><td>4.3.0</td></tr>\n",
       "\t<tr><th scope=row>fda</th><td><span style=white-space:pre-wrap>fda                  </span></td><td>/usr/local/lib/R/site-library</td><td><span style=white-space:pre-wrap>6.1.4  </span></td><td>NA</td><td><span style=white-space:pre-wrap>R (&gt;= 3.5), splines, fds, deSolve                  </span></td><td><span style=white-space:pre-wrap>NA                                                                                                                                                                </span></td><td><span style=white-space:pre-wrap>NA                                         </span></td><td><span style=white-space:pre-wrap>rmarkdown, knitr, lattice                                                                                                                                                                                                          </span></td><td>NA </td><td><span style=white-space:pre-wrap>GPL (&gt;= 2)                  </span></td><td>NA</td><td>NA</td><td>NA</td><td>NA</td><td>yes</td><td>4.3.0</td></tr>\n",
       "\t<tr><th scope=row>fds</th><td><span style=white-space:pre-wrap>fds                  </span></td><td>/usr/local/lib/R/site-library</td><td><span style=white-space:pre-wrap>1.8    </span></td><td>NA</td><td><span style=white-space:pre-wrap>R (&gt;= 3.4.0), rainbow, RCurl                       </span></td><td><span style=white-space:pre-wrap>NA                                                                                                                                                                </span></td><td><span style=white-space:pre-wrap>NA                                         </span></td><td><span style=white-space:pre-wrap>NA                                                                                                                                                                                                                                 </span></td><td>NA </td><td><span style=white-space:pre-wrap>GPL (&gt;= 2)                  </span></td><td>NA</td><td>NA</td><td>NA</td><td>NA</td><td>no </td><td>4.3.0</td></tr>\n",
       "\t<tr><th scope=row>ff</th><td><span style=white-space:pre-wrap>ff                   </span></td><td>/usr/local/lib/R/site-library</td><td><span style=white-space:pre-wrap>4.0.9  </span></td><td>NA</td><td><span style=white-space:pre-wrap>R (&gt;= 2.10.1), bit (&gt;= 4.0.0), utils               </span></td><td><span style=white-space:pre-wrap>NA                                                                                                                                                                </span></td><td><span style=white-space:pre-wrap>NA                                         </span></td><td><span style=white-space:pre-wrap>biglm, testthat (&gt;= 0.11.0)                                                                                                                                                                                                        </span></td><td>NA </td><td>GPL-2 | GPL-3 | file LICENSE</td><td>NA</td><td>NA</td><td>NA</td><td>NA</td><td>yes</td><td>4.3.0</td></tr>\n",
       "\t<tr><th scope=row>FNN</th><td><span style=white-space:pre-wrap>FNN                  </span></td><td>/usr/local/lib/R/site-library</td><td>1.1.3.2</td><td>NA</td><td><span style=white-space:pre-wrap>R (&gt;= 3.0.0)                                       </span></td><td><span style=white-space:pre-wrap>NA                                                                                                                                                                </span></td><td><span style=white-space:pre-wrap>NA                                         </span></td><td><span style=white-space:pre-wrap>chemometrics, mvtnorm                                                                                                                                                                                                              </span></td><td>NA </td><td><span style=white-space:pre-wrap>GPL (&gt;= 2)                  </span></td><td>NA</td><td>NA</td><td>NA</td><td>NA</td><td>yes</td><td>4.3.0</td></tr>\n",
       "\t<tr><th scope=row>forecast</th><td><span style=white-space:pre-wrap>forecast             </span></td><td>/usr/local/lib/R/site-library</td><td><span style=white-space:pre-wrap>8.21   </span></td><td>NA</td><td><span style=white-space:pre-wrap>R (&gt;= 3.5.0),                                      </span></td><td>colorspace, fracdiff, generics (&gt;= 0.1.2), ggplot2 (&gt;= 2.2.1),\n",
       "graphics, lmtest, magrittr, nnet, parallel, Rcpp (&gt;= 0.11.0),\n",
       "stats, timeDate, tseries, urca, zoo</td><td>Rcpp (&gt;= 0.11.0), RcppArmadillo (&gt;= 0.2.35)</td><td><span style=white-space:pre-wrap>forecTheta, knitr, methods, rmarkdown, rticles, seasonal,\n",
       "testthat (&gt;= 3.0.0), uroot                                                                                                                                              </span></td><td>NA </td><td><span style=white-space:pre-wrap>GPL-3                       </span></td><td>NA</td><td>NA</td><td>NA</td><td>NA</td><td>yes</td><td>4.3.0</td></tr>\n",
       "\t<tr><th scope=row>fracdiff</th><td><span style=white-space:pre-wrap>fracdiff             </span></td><td>/usr/local/lib/R/site-library</td><td><span style=white-space:pre-wrap>1.5-2  </span></td><td>NA</td><td><span style=white-space:pre-wrap>NA                                                 </span></td><td><span style=white-space:pre-wrap>stats                                                                                                                                                             </span></td><td><span style=white-space:pre-wrap>NA                                         </span></td><td><span style=white-space:pre-wrap>longmemo, forecast, urca                                                                                                                                                                                                           </span></td><td>NA </td><td><span style=white-space:pre-wrap>GPL (&gt;= 2)                  </span></td><td>NA</td><td>NA</td><td>NA</td><td>NA</td><td>yes</td><td>4.3.0</td></tr>\n",
       "\t<tr><th scope=row>GeneralizedHyperbolic</th><td>GeneralizedHyperbolic</td><td>/usr/local/lib/R/site-library</td><td><span style=white-space:pre-wrap>0.8-4  </span></td><td>NA</td><td><span style=white-space:pre-wrap>R (&gt;= 3.0.1)                                       </span></td><td><span style=white-space:pre-wrap>DistributionUtils, MASS                                                                                                                                           </span></td><td><span style=white-space:pre-wrap>NA                                         </span></td><td><span style=white-space:pre-wrap>VarianceGamma, actuar, SkewHyperbolic, RUnit                                                                                                                                                                                       </span></td><td>NA </td><td><span style=white-space:pre-wrap>GPL (&gt;= 2)                  </span></td><td>NA</td><td>NA</td><td>NA</td><td>NA</td><td>no </td><td>4.3.0</td></tr>\n",
       "\t<tr><th scope=row>generics</th><td><span style=white-space:pre-wrap>generics             </span></td><td>/usr/local/lib/R/site-library</td><td><span style=white-space:pre-wrap>0.1.3  </span></td><td>NA</td><td><span style=white-space:pre-wrap>R (&gt;= 3.2)                                         </span></td><td><span style=white-space:pre-wrap>methods                                                                                                                                                           </span></td><td><span style=white-space:pre-wrap>NA                                         </span></td><td><span style=white-space:pre-wrap>covr, pkgload, testthat (&gt;= 3.0.0), tibble, withr                                                                                                                                                                                  </span></td><td>NA </td><td><span style=white-space:pre-wrap>MIT + file LICENSE          </span></td><td>NA</td><td>NA</td><td>NA</td><td>NA</td><td>no </td><td>4.3.0</td></tr>\n",
       "\t<tr><th scope=row>⋮</th><td>⋮</td><td>⋮</td><td>⋮</td><td>⋮</td><td>⋮</td><td>⋮</td><td>⋮</td><td>⋮</td><td>⋮</td><td>⋮</td><td>⋮</td><td>⋮</td><td>⋮</td><td>⋮</td><td>⋮</td><td>⋮</td></tr>\n",
       "\t<tr><th scope=row>zoo</th><td><span style=white-space:pre-wrap>zoo       </span></td><td>/usr/local/lib/R/site-library</td><td>1.8-12 </td><td><span style=white-space:pre-wrap>NA         </span></td><td><span style=white-space:pre-wrap>R (&gt;= 3.1.0), stats                            </span></td><td>utils, graphics, grDevices, lattice (&gt;= 0.20-27)</td><td>NA</td><td>AER, coda, chron, ggplot2 (&gt;= 3.0.0), mondate, scales,\n",
       "stinepack, strucchange, timeDate, timeSeries, tis, tseries, xts</td><td><span style=white-space:pre-wrap>NA                                                                 </span></td><td><span style=white-space:pre-wrap>GPL-2 | GPL-3            </span></td><td>NA</td><td>NA</td><td>NA</td><td>NA</td><td>yes</td><td>4.3.0</td></tr>\n",
       "\t<tr><th scope=row>base</th><td>base      </td><td>/usr/lib/R/library           </td><td>4.3.0  </td><td>base       </td><td>NA                                             </td><td>NA                                              </td><td>NA</td><td>methods                                                                                                                </td><td>NA                                                                 </td><td>Part of R 4.3.0          </td><td>NA</td><td>NA</td><td>NA</td><td>NA</td><td>NA </td><td>4.3.0</td></tr>\n",
       "\t<tr><th scope=row>boot</th><td><span style=white-space:pre-wrap>boot      </span></td><td><span style=white-space:pre-wrap>/usr/lib/R/library           </span></td><td>1.3-28 </td><td>recommended</td><td><span style=white-space:pre-wrap>R (&gt;= 3.0.0), graphics, stats                  </span></td><td><span style=white-space:pre-wrap>NA                                              </span></td><td>NA</td><td><span style=white-space:pre-wrap>MASS, survival                                                                                                         </span></td><td><span style=white-space:pre-wrap>NA                                                                 </span></td><td><span style=white-space:pre-wrap>Unlimited                </span></td><td>NA</td><td>NA</td><td>NA</td><td>NA</td><td>no </td><td>4.0.5</td></tr>\n",
       "\t<tr><th scope=row>class</th><td><span style=white-space:pre-wrap>class     </span></td><td><span style=white-space:pre-wrap>/usr/lib/R/library           </span></td><td>7.3-21 </td><td>recommended</td><td><span style=white-space:pre-wrap>R (&gt;= 3.0.0), stats, utils                     </span></td><td><span style=white-space:pre-wrap>MASS                                            </span></td><td>NA</td><td><span style=white-space:pre-wrap>NA                                                                                                                     </span></td><td><span style=white-space:pre-wrap>NA                                                                 </span></td><td><span style=white-space:pre-wrap>GPL-2 | GPL-3            </span></td><td>NA</td><td>NA</td><td>NA</td><td>NA</td><td>yes</td><td>4.2.2</td></tr>\n",
       "\t<tr><th scope=row>cluster</th><td><span style=white-space:pre-wrap>cluster   </span></td><td><span style=white-space:pre-wrap>/usr/lib/R/library           </span></td><td><span style=white-space:pre-wrap>2.1.4  </span></td><td>recommended</td><td><span style=white-space:pre-wrap>R (&gt;= 3.5.0)                                   </span></td><td><span style=white-space:pre-wrap>graphics, grDevices, stats, utils               </span></td><td>NA</td><td><span style=white-space:pre-wrap>MASS, Matrix                                                                                                           </span></td><td><span style=white-space:pre-wrap>NA                                                                 </span></td><td><span style=white-space:pre-wrap>GPL (&gt;= 2)               </span></td><td>NA</td><td>NA</td><td>NA</td><td>NA</td><td>yes</td><td>4.2.1</td></tr>\n",
       "\t<tr><th scope=row>codetools</th><td>codetools </td><td><span style=white-space:pre-wrap>/usr/lib/R/library           </span></td><td>0.2-19 </td><td>recommended</td><td><span style=white-space:pre-wrap>R (&gt;= 2.1)                                     </span></td><td><span style=white-space:pre-wrap>NA                                              </span></td><td>NA</td><td><span style=white-space:pre-wrap>NA                                                                                                                     </span></td><td><span style=white-space:pre-wrap>NA                                                                 </span></td><td><span style=white-space:pre-wrap>GPL                      </span></td><td>NA</td><td>NA</td><td>NA</td><td>NA</td><td>no </td><td>4.2.2</td></tr>\n",
       "\t<tr><th scope=row>compiler</th><td>compiler  </td><td>/usr/lib/R/library           </td><td>4.3.0  </td><td>base       </td><td>NA                                             </td><td>NA                                              </td><td>NA</td><td>NA                                                                                                                     </td><td>NA                                                                 </td><td>Part of R 4.3.0          </td><td>NA</td><td>NA</td><td>NA</td><td>NA</td><td>NA </td><td>4.3.0</td></tr>\n",
       "\t<tr><th scope=row>datasets</th><td>datasets  </td><td>/usr/lib/R/library           </td><td>4.3.0  </td><td>base       </td><td>NA                                             </td><td>NA                                              </td><td>NA</td><td>NA                                                                                                                     </td><td>NA                                                                 </td><td>Part of R 4.3.0          </td><td>NA</td><td>NA</td><td>NA</td><td>NA</td><td>NA </td><td>4.3.0</td></tr>\n",
       "\t<tr><th scope=row>foreign</th><td><span style=white-space:pre-wrap>foreign   </span></td><td><span style=white-space:pre-wrap>/usr/lib/R/library           </span></td><td>0.8-82 </td><td>recommended</td><td><span style=white-space:pre-wrap>R (&gt;= 4.0.0)                                   </span></td><td><span style=white-space:pre-wrap>methods, utils, stats                           </span></td><td>NA</td><td><span style=white-space:pre-wrap>NA                                                                                                                     </span></td><td><span style=white-space:pre-wrap>NA                                                                 </span></td><td><span style=white-space:pre-wrap>GPL (&gt;= 2)               </span></td><td>NA</td><td>NA</td><td>NA</td><td>NA</td><td>yes</td><td>4.1.2</td></tr>\n",
       "\t<tr><th scope=row>graphics</th><td>graphics  </td><td>/usr/lib/R/library           </td><td>4.3.0  </td><td>base       </td><td>NA                                             </td><td>grDevices                                       </td><td>NA</td><td>NA                                                                                                                     </td><td>NA                                                                 </td><td>Part of R 4.3.0          </td><td>NA</td><td>NA</td><td>NA</td><td>NA</td><td>yes</td><td>4.3.0</td></tr>\n",
       "\t<tr><th scope=row>grDevices</th><td>grDevices </td><td>/usr/lib/R/library           </td><td>4.3.0  </td><td>base       </td><td>NA                                             </td><td>NA                                              </td><td>NA</td><td>KernSmooth                                                                                                             </td><td>NA                                                                 </td><td>Part of R 4.3.0          </td><td>NA</td><td>NA</td><td>NA</td><td>NA</td><td>yes</td><td>4.3.0</td></tr>\n",
       "\t<tr><th scope=row>grid</th><td>grid      </td><td>/usr/lib/R/library           </td><td>4.3.0  </td><td>base       </td><td>NA                                             </td><td>grDevices, utils                                </td><td>NA</td><td>NA                                                                                                                     </td><td>NA                                                                 </td><td>Part of R 4.3.0          </td><td>NA</td><td>NA</td><td>NA</td><td>NA</td><td>yes</td><td>4.3.0</td></tr>\n",
       "\t<tr><th scope=row>KernSmooth</th><td>KernSmooth</td><td><span style=white-space:pre-wrap>/usr/lib/R/library           </span></td><td>2.23-20</td><td>recommended</td><td><span style=white-space:pre-wrap>R (&gt;= 2.5.0), stats                            </span></td><td><span style=white-space:pre-wrap>NA                                              </span></td><td>NA</td><td><span style=white-space:pre-wrap>MASS, carData                                                                                                          </span></td><td><span style=white-space:pre-wrap>NA                                                                 </span></td><td><span style=white-space:pre-wrap>Unlimited                </span></td><td>NA</td><td>NA</td><td>NA</td><td>NA</td><td>yes</td><td>4.0.5</td></tr>\n",
       "\t<tr><th scope=row>lattice</th><td><span style=white-space:pre-wrap>lattice   </span></td><td><span style=white-space:pre-wrap>/usr/lib/R/library           </span></td><td>0.21-8 </td><td>recommended</td><td><span style=white-space:pre-wrap>R (&gt;= 4.0.0)                                   </span></td><td><span style=white-space:pre-wrap>grid, grDevices, graphics, stats, utils         </span></td><td>NA</td><td><span style=white-space:pre-wrap>KernSmooth, MASS, latticeExtra, colorspace                                                                             </span></td><td><span style=white-space:pre-wrap>chron                                                              </span></td><td><span style=white-space:pre-wrap>GPL (&gt;= 2)               </span></td><td>NA</td><td>NA</td><td>NA</td><td>NA</td><td>yes</td><td>4.3.0</td></tr>\n",
       "\t<tr><th scope=row>MASS</th><td><span style=white-space:pre-wrap>MASS      </span></td><td><span style=white-space:pre-wrap>/usr/lib/R/library           </span></td><td>7.3-59 </td><td>recommended</td><td>R (&gt;= 4.2.0), grDevices, graphics, stats, utils</td><td><span style=white-space:pre-wrap>methods                                         </span></td><td>NA</td><td><span style=white-space:pre-wrap>lattice, nlme, nnet, survival                                                                                          </span></td><td><span style=white-space:pre-wrap>NA                                                                 </span></td><td><span style=white-space:pre-wrap>GPL-2 | GPL-3            </span></td><td>NA</td><td>NA</td><td>NA</td><td>NA</td><td>yes</td><td>4.3.0</td></tr>\n",
       "\t<tr><th scope=row>Matrix</th><td><span style=white-space:pre-wrap>Matrix    </span></td><td><span style=white-space:pre-wrap>/usr/lib/R/library           </span></td><td><span style=white-space:pre-wrap>1.5-1  </span></td><td>recommended</td><td><span style=white-space:pre-wrap>R (&gt;= 3.5.0)                                   </span></td><td><span style=white-space:pre-wrap>methods, graphics, grid, stats, utils, lattice  </span></td><td>NA</td><td><span style=white-space:pre-wrap>expm, MASS                                                                                                             </span></td><td>MatrixModels, graph, SparseM, sfsmisc, igraph, maptools, sp,\n",
       "spdep</td><td>GPL (&gt;= 2) | file LICENCE</td><td>NA</td><td>NA</td><td>NA</td><td>NA</td><td>yes</td><td>4.2.1</td></tr>\n",
       "\t<tr><th scope=row>methods</th><td>methods   </td><td>/usr/lib/R/library           </td><td>4.3.0  </td><td>base       </td><td>NA                                             </td><td>utils, stats                                    </td><td>NA</td><td>codetools                                                                                                              </td><td>NA                                                                 </td><td>Part of R 4.3.0          </td><td>NA</td><td>NA</td><td>NA</td><td>NA</td><td>yes</td><td>4.3.0</td></tr>\n",
       "\t<tr><th scope=row>mgcv</th><td><span style=white-space:pre-wrap>mgcv      </span></td><td><span style=white-space:pre-wrap>/usr/lib/R/library           </span></td><td>1.8-42 </td><td>recommended</td><td><span style=white-space:pre-wrap>R (&gt;= 3.6.0), nlme (&gt;= 3.1-64)                 </span></td><td>methods, stats, graphics, Matrix, splines, utils</td><td>NA</td><td><span style=white-space:pre-wrap>parallel, survival, MASS                                                                                               </span></td><td><span style=white-space:pre-wrap>NA                                                                 </span></td><td><span style=white-space:pre-wrap>GPL (&gt;= 2)               </span></td><td>NA</td><td>NA</td><td>NA</td><td>NA</td><td>yes</td><td>4.2.3</td></tr>\n",
       "\t<tr><th scope=row>nlme</th><td><span style=white-space:pre-wrap>nlme      </span></td><td><span style=white-space:pre-wrap>/usr/lib/R/library           </span></td><td>3.1-162</td><td>recommended</td><td><span style=white-space:pre-wrap>R (&gt;= 3.5.0)                                   </span></td><td><span style=white-space:pre-wrap>graphics, stats, utils, lattice                 </span></td><td>NA</td><td><span style=white-space:pre-wrap>Hmisc, MASS, SASmixed                                                                                                  </span></td><td><span style=white-space:pre-wrap>NA                                                                 </span></td><td><span style=white-space:pre-wrap>GPL (&gt;= 2)               </span></td><td>NA</td><td>NA</td><td>NA</td><td>NA</td><td>yes</td><td>4.2.2</td></tr>\n",
       "\t<tr><th scope=row>nnet</th><td><span style=white-space:pre-wrap>nnet      </span></td><td><span style=white-space:pre-wrap>/usr/lib/R/library           </span></td><td>7.3-18 </td><td>recommended</td><td><span style=white-space:pre-wrap>R (&gt;= 3.0.0), stats, utils                     </span></td><td><span style=white-space:pre-wrap>NA                                              </span></td><td>NA</td><td><span style=white-space:pre-wrap>MASS                                                                                                                   </span></td><td><span style=white-space:pre-wrap>NA                                                                 </span></td><td><span style=white-space:pre-wrap>GPL-2 | GPL-3            </span></td><td>NA</td><td>NA</td><td>NA</td><td>NA</td><td>yes</td><td>4.2.1</td></tr>\n",
       "\t<tr><th scope=row>parallel</th><td>parallel  </td><td>/usr/lib/R/library           </td><td>4.3.0  </td><td>base       </td><td>NA                                             </td><td>tools, compiler                                 </td><td>NA</td><td>methods                                                                                                                </td><td>snow, Rmpi                                                         </td><td>Part of R 4.3.0          </td><td>NA</td><td>NA</td><td>NA</td><td>NA</td><td>yes</td><td>4.3.0</td></tr>\n",
       "\t<tr><th scope=row>rpart</th><td><span style=white-space:pre-wrap>rpart     </span></td><td><span style=white-space:pre-wrap>/usr/lib/R/library           </span></td><td>4.1.19 </td><td>recommended</td><td><span style=white-space:pre-wrap>R (&gt;= 2.15.0), graphics, stats, grDevices      </span></td><td><span style=white-space:pre-wrap>NA                                              </span></td><td>NA</td><td><span style=white-space:pre-wrap>survival                                                                                                               </span></td><td><span style=white-space:pre-wrap>NA                                                                 </span></td><td><span style=white-space:pre-wrap>GPL-2 | GPL-3            </span></td><td>NA</td><td>NA</td><td>NA</td><td>NA</td><td>yes</td><td>4.2.1</td></tr>\n",
       "\t<tr><th scope=row>spatial</th><td><span style=white-space:pre-wrap>spatial   </span></td><td><span style=white-space:pre-wrap>/usr/lib/R/library           </span></td><td>7.3-11 </td><td>recommended</td><td><span style=white-space:pre-wrap>R (&gt;= 3.0.0), graphics, stats, utils           </span></td><td><span style=white-space:pre-wrap>NA                                              </span></td><td>NA</td><td><span style=white-space:pre-wrap>MASS                                                                                                                   </span></td><td><span style=white-space:pre-wrap>NA                                                                 </span></td><td><span style=white-space:pre-wrap>GPL-2 | GPL-3            </span></td><td>NA</td><td>NA</td><td>NA</td><td>NA</td><td>yes</td><td>4.0.0</td></tr>\n",
       "\t<tr><th scope=row>splines</th><td>splines   </td><td>/usr/lib/R/library           </td><td>4.3.0  </td><td>base       </td><td>NA                                             </td><td>graphics, stats                                 </td><td>NA</td><td>Matrix, methods                                                                                                        </td><td>NA                                                                 </td><td>Part of R 4.3.0          </td><td>NA</td><td>NA</td><td>NA</td><td>NA</td><td>yes</td><td>4.3.0</td></tr>\n",
       "\t<tr><th scope=row>stats</th><td>stats     </td><td>/usr/lib/R/library           </td><td>4.3.0  </td><td>base       </td><td>NA                                             </td><td>utils, grDevices, graphics                      </td><td>NA</td><td>MASS, Matrix, SuppDists, methods, stats4                                                                               </td><td>NA                                                                 </td><td>Part of R 4.3.0          </td><td>NA</td><td>NA</td><td>NA</td><td>NA</td><td>yes</td><td>4.3.0</td></tr>\n",
       "\t<tr><th scope=row>stats4</th><td>stats4    </td><td>/usr/lib/R/library           </td><td>4.3.0  </td><td>base       </td><td>NA                                             </td><td>graphics, methods, stats                        </td><td>NA</td><td>NA                                                                                                                     </td><td>NA                                                                 </td><td>Part of R 4.3.0          </td><td>NA</td><td>NA</td><td>NA</td><td>NA</td><td>NA </td><td>4.3.0</td></tr>\n",
       "\t<tr><th scope=row>survival</th><td><span style=white-space:pre-wrap>survival  </span></td><td><span style=white-space:pre-wrap>/usr/lib/R/library           </span></td><td><span style=white-space:pre-wrap>3.5-5  </span></td><td>recommended</td><td><span style=white-space:pre-wrap>R (&gt;= 3.5.0)                                   </span></td><td>graphics, Matrix, methods, splines, stats, utils</td><td>NA</td><td><span style=white-space:pre-wrap>NA                                                                                                                     </span></td><td><span style=white-space:pre-wrap>NA                                                                 </span></td><td><span style=white-space:pre-wrap>LGPL (&gt;= 2)              </span></td><td>NA</td><td>NA</td><td>NA</td><td>NA</td><td>yes</td><td>4.2.3</td></tr>\n",
       "\t<tr><th scope=row>tcltk</th><td>tcltk     </td><td>/usr/lib/R/library           </td><td>4.3.0  </td><td>base       </td><td>NA                                             </td><td>utils                                           </td><td>NA</td><td>NA                                                                                                                     </td><td>NA                                                                 </td><td>Part of R 4.3.0          </td><td>NA</td><td>NA</td><td>NA</td><td>NA</td><td>yes</td><td>4.3.0</td></tr>\n",
       "\t<tr><th scope=row>tools</th><td>tools     </td><td>/usr/lib/R/library           </td><td>4.3.0  </td><td>base       </td><td>NA                                             </td><td>NA                                              </td><td>NA</td><td>codetools, methods, xml2, curl, commonmark, knitr, xfun,\n",
       "mathjaxr, V8                                                 </td><td>NA                                                                 </td><td>Part of R 4.3.0          </td><td>NA</td><td>NA</td><td>NA</td><td>NA</td><td>yes</td><td>4.3.0</td></tr>\n",
       "\t<tr><th scope=row>utils</th><td>utils     </td><td>/usr/lib/R/library           </td><td>4.3.0  </td><td>base       </td><td>NA                                             </td><td>NA                                              </td><td>NA</td><td>methods, xml2, commonmark, knitr                                                                                       </td><td>NA                                                                 </td><td>Part of R 4.3.0          </td><td>NA</td><td>NA</td><td>NA</td><td>NA</td><td>yes</td><td>4.3.0</td></tr>\n",
       "</tbody>\n",
       "</table>\n"
      ],
      "text/latex": [
       "A matrix: 128 × 16 of type chr\n",
       "\\begin{tabular}{r|llllllllllllllll}\n",
       "  & Package & LibPath & Version & Priority & Depends & Imports & LinkingTo & Suggests & Enhances & License & License\\_is\\_FOSS & License\\_restricts\\_use & OS\\_type & MD5sum & NeedsCompilation & Built\\\\\n",
       "\\hline\n",
       "\tash & ash                   & /usr/local/lib/R/site-library & 1.0-15  & NA & NA                                                  & NA                                                                                                                                                                 & NA                                          & NA                                                                                                                                                                                                                                  & NA  & GPL (>= 2)                   & NA & NA & NA & NA & yes & 4.3.0\\\\\n",
       "\tbase64enc & base64enc             & /usr/local/lib/R/site-library & 0.1-3   & NA & R (>= 2.9.0)                                        & NA                                                                                                                                                                 & NA                                          & NA                                                                                                                                                                                                                                  & png & GPL-2 \\textbar{} GPL-3                & NA & NA & NA & NA & yes & 4.3.0\\\\\n",
       "\tBessel & Bessel                & /usr/local/lib/R/site-library & 0.6-0   & NA & NA                                                  & methods, Rmpfr                                                                                                                                                     & NA                                          & gsl, sfsmisc                                                                                                                                                                                                                        & NA  & GPL (>= 2)                   & NA & NA & NA & NA & yes & 4.3.0\\\\\n",
       "\tbit & bit                   & /usr/local/lib/R/site-library & 4.0.5   & NA & R (>= 2.9.2)                                        & NA                                                                                                                                                                 & NA                                          & testthat (>= 0.11.0), roxygen2, knitr, rmarkdown,\n",
       "microbenchmark, bit64 (>= 4.0.0), ff (>= 4.0.0)                                                                                                                                  & NA  & GPL-2 \\textbar{} GPL-3                & NA & NA & NA & NA & yes & 4.3.0\\\\\n",
       "\tbit64 & bit64                 & /usr/local/lib/R/site-library & 4.0.5   & NA & R (>= 3.0.1), bit (>= 4.0.0), utils, methods, stats & NA                                                                                                                                                                 & NA                                          & NA                                                                                                                                                                                                                                  & NA  & GPL-2 \\textbar{} GPL-3                & NA & NA & NA & NA & yes & 4.3.0\\\\\n",
       "\tbitops & bitops                & /usr/local/lib/R/site-library & 1.0-7   & NA & NA                                                  & NA                                                                                                                                                                 & NA                                          & NA                                                                                                                                                                                                                                  & NA  & GPL (>= 2)                   & NA & NA & NA & NA & yes & 4.3.0\\\\\n",
       "\tchron & chron                 & /usr/local/lib/R/site-library & 2.3-61  & NA & R (>= 2.12.0)                                       & graphics, stats                                                                                                                                                    & NA                                          & scales, ggplot2                                                                                                                                                                                                                     & zoo & GPL-2                        & NA & NA & NA & NA & yes & 4.3.0\\\\\n",
       "\tcli & cli                   & /usr/local/lib/R/site-library & 3.6.1   & NA & R (>= 3.4)                                          & utils                                                                                                                                                              & NA                                          & callr, covr, crayon, digest, glue (>= 1.6.0), grDevices,\n",
       "htmltools, htmlwidgets, knitr, methods, mockery, processx, ps\n",
       "(>= 1.3.4.9000), rlang (>= 1.0.2.9003), rmarkdown, rprojroot,\n",
       "rstudioapi, testthat, tibble, whoami, withr & NA  & MIT + file LICENSE           & NA & NA & NA & NA & yes & 4.3.0\\\\\n",
       "\tclipr & clipr                 & /usr/local/lib/R/site-library & 0.8.0   & NA & NA                                                  & utils                                                                                                                                                              & NA                                          & covr, knitr, rmarkdown, rstudioapi (>= 0.5), testthat (>=\n",
       "2.0.0)                                                                                                                                                                   & NA  & GPL-3                        & NA & NA & NA & NA & no  & 4.3.0\\\\\n",
       "\tcolorspace & colorspace            & /usr/local/lib/R/site-library & 2.1-0   & NA & R (>= 3.0.0), methods                               & graphics, grDevices, stats                                                                                                                                         & NA                                          & datasets, utils, KernSmooth, MASS, kernlab, mvtnorm, vcd,\n",
       "tcltk, shiny, shinyjs, ggplot2, dplyr, scales, grid, png, jpeg,\n",
       "knitr, rmarkdown, RColorBrewer, rcartocolor, scico, viridis,\n",
       "wesanderson                               & NA  & BSD\\_3\\_clause + file LICENSE  & NA & NA & NA & NA & yes & 4.3.0\\\\\n",
       "\tcorpcor & corpcor               & /usr/local/lib/R/site-library & 1.6.10  & NA & R (>= 3.0.2)                                        & stats                                                                                                                                                              & NA                                          &                                                                                                                                                                                                                                     & NA  & GPL (>= 3)                   & NA & NA & NA & NA & no  & 4.3.0\\\\\n",
       "\tcpp11 & cpp11                 & /usr/local/lib/R/site-library & 0.4.3   & NA & NA                                                  & NA                                                                                                                                                                 & NA                                          & bench, brio, callr, cli, covr, decor, desc, ggplot2, glue,\n",
       "knitr, lobstr, mockery, progress, rmarkdown, scales, Rcpp,\n",
       "testthat, tibble, utils, vctrs, withr                                                                       & NA  & MIT + file LICENSE           & NA & NA & NA & NA & no  & 4.3.0\\\\\n",
       "\tcrayon & crayon                & /usr/local/lib/R/site-library & 1.5.2   & NA & NA                                                  & grDevices, methods, utils                                                                                                                                          & NA                                          & mockery, rstudioapi, testthat, withr                                                                                                                                                                                                & NA  & MIT + file LICENSE           & NA & NA & NA & NA & no  & 4.3.0\\\\\n",
       "\tcurl & curl                  & /usr/local/lib/R/site-library & 5.0.0   & NA & R (>= 3.0.0)                                        & NA                                                                                                                                                                 & NA                                          & spelling, testthat (>= 1.0.0), knitr, jsonlite, rmarkdown,\n",
       "magrittr, httpuv (>= 1.4.4), webutils                                                                                                                                   & NA  & MIT + file LICENSE           & NA & NA & NA & NA & yes & 4.3.0\\\\\n",
       "\tdeSolve & deSolve               & /usr/local/lib/R/site-library & 1.35    & NA & R (>= 3.3.0)                                        & methods, graphics, grDevices, stats                                                                                                                                & NA                                          & scatterplot3d, FME                                                                                                                                                                                                                  & NA  & GPL (>= 2)                   & NA & NA & NA & NA & yes & 4.3.0\\\\\n",
       "\tdigest & digest                & /usr/local/lib/R/site-library & 0.6.31  & NA & R (>= 3.3.0)                                        & utils                                                                                                                                                              & NA                                          & tinytest, simplermarkdown                                                                                                                                                                                                           & NA  & GPL (>= 2)                   & NA & NA & NA & NA & yes & 4.3.0\\\\\n",
       "\tDistributionUtils & DistributionUtils     & /usr/local/lib/R/site-library & 0.6-0   & NA & R (>= 3.0.1)                                        & NA                                                                                                                                                                 & NA                                          & GeneralizedHyperbolic, VarianceGamma, SkewHyperbolic, RUnit                                                                                                                                                                         & NA  & GPL (>= 2)                   & NA & NA & NA & NA & yes & 4.3.0\\\\\n",
       "\tellipsis & ellipsis              & /usr/local/lib/R/site-library & 0.3.2   & NA & R (>= 3.2)                                          & rlang (>= 0.3.0)                                                                                                                                                   & NA                                          & covr, testthat                                                                                                                                                                                                                      & NA  & MIT + file LICENSE           & NA & NA & NA & NA & yes & 4.3.0\\\\\n",
       "\tevaluate & evaluate              & /usr/local/lib/R/site-library & 0.21    & NA & R (>= 3.0.2)                                        & methods                                                                                                                                                            & NA                                          & covr, ggplot2, lattice, rlang, testthat (>= 3.0.0), withr                                                                                                                                                                           & NA  & MIT + file LICENSE           & NA & NA & NA & NA & no  & 4.3.0\\\\\n",
       "\tfansi & fansi                 & /usr/local/lib/R/site-library & 1.0.4   & NA & R (>= 3.1.0)                                        & grDevices, utils                                                                                                                                                   & NA                                          & unitizer, knitr, rmarkdown                                                                                                                                                                                                          & NA  & GPL-2 \\textbar{} GPL-3                & NA & NA & NA & NA & yes & 4.3.0\\\\\n",
       "\tfarver & farver                & /usr/local/lib/R/site-library & 2.1.1   & NA & NA                                                  & NA                                                                                                                                                                 & NA                                          & covr, testthat (>= 3.0.0)                                                                                                                                                                                                           & NA  & MIT + file LICENSE           & NA & NA & NA & NA & yes & 4.3.0\\\\\n",
       "\tfastmap & fastmap               & /usr/local/lib/R/site-library & 1.1.1   & NA & NA                                                  & NA                                                                                                                                                                 & NA                                          & testthat (>= 2.1.1)                                                                                                                                                                                                                 & NA  & MIT + file LICENSE           & NA & NA & NA & NA & yes & 4.3.0\\\\\n",
       "\tfda & fda                   & /usr/local/lib/R/site-library & 6.1.4   & NA & R (>= 3.5), splines, fds, deSolve                   & NA                                                                                                                                                                 & NA                                          & rmarkdown, knitr, lattice                                                                                                                                                                                                           & NA  & GPL (>= 2)                   & NA & NA & NA & NA & yes & 4.3.0\\\\\n",
       "\tfds & fds                   & /usr/local/lib/R/site-library & 1.8     & NA & R (>= 3.4.0), rainbow, RCurl                        & NA                                                                                                                                                                 & NA                                          & NA                                                                                                                                                                                                                                  & NA  & GPL (>= 2)                   & NA & NA & NA & NA & no  & 4.3.0\\\\\n",
       "\tff & ff                    & /usr/local/lib/R/site-library & 4.0.9   & NA & R (>= 2.10.1), bit (>= 4.0.0), utils                & NA                                                                                                                                                                 & NA                                          & biglm, testthat (>= 0.11.0)                                                                                                                                                                                                         & NA  & GPL-2 \\textbar{} GPL-3 \\textbar{} file LICENSE & NA & NA & NA & NA & yes & 4.3.0\\\\\n",
       "\tFNN & FNN                   & /usr/local/lib/R/site-library & 1.1.3.2 & NA & R (>= 3.0.0)                                        & NA                                                                                                                                                                 & NA                                          & chemometrics, mvtnorm                                                                                                                                                                                                               & NA  & GPL (>= 2)                   & NA & NA & NA & NA & yes & 4.3.0\\\\\n",
       "\tforecast & forecast              & /usr/local/lib/R/site-library & 8.21    & NA & R (>= 3.5.0),                                       & colorspace, fracdiff, generics (>= 0.1.2), ggplot2 (>= 2.2.1),\n",
       "graphics, lmtest, magrittr, nnet, parallel, Rcpp (>= 0.11.0),\n",
       "stats, timeDate, tseries, urca, zoo & Rcpp (>= 0.11.0), RcppArmadillo (>= 0.2.35) & forecTheta, knitr, methods, rmarkdown, rticles, seasonal,\n",
       "testthat (>= 3.0.0), uroot                                                                                                                                               & NA  & GPL-3                        & NA & NA & NA & NA & yes & 4.3.0\\\\\n",
       "\tfracdiff & fracdiff              & /usr/local/lib/R/site-library & 1.5-2   & NA & NA                                                  & stats                                                                                                                                                              & NA                                          & longmemo, forecast, urca                                                                                                                                                                                                            & NA  & GPL (>= 2)                   & NA & NA & NA & NA & yes & 4.3.0\\\\\n",
       "\tGeneralizedHyperbolic & GeneralizedHyperbolic & /usr/local/lib/R/site-library & 0.8-4   & NA & R (>= 3.0.1)                                        & DistributionUtils, MASS                                                                                                                                            & NA                                          & VarianceGamma, actuar, SkewHyperbolic, RUnit                                                                                                                                                                                        & NA  & GPL (>= 2)                   & NA & NA & NA & NA & no  & 4.3.0\\\\\n",
       "\tgenerics & generics              & /usr/local/lib/R/site-library & 0.1.3   & NA & R (>= 3.2)                                          & methods                                                                                                                                                            & NA                                          & covr, pkgload, testthat (>= 3.0.0), tibble, withr                                                                                                                                                                                   & NA  & MIT + file LICENSE           & NA & NA & NA & NA & no  & 4.3.0\\\\\n",
       "\t⋮ & ⋮ & ⋮ & ⋮ & ⋮ & ⋮ & ⋮ & ⋮ & ⋮ & ⋮ & ⋮ & ⋮ & ⋮ & ⋮ & ⋮ & ⋮ & ⋮\\\\\n",
       "\tzoo & zoo        & /usr/local/lib/R/site-library & 1.8-12  & NA          & R (>= 3.1.0), stats                             & utils, graphics, grDevices, lattice (>= 0.20-27) & NA & AER, coda, chron, ggplot2 (>= 3.0.0), mondate, scales,\n",
       "stinepack, strucchange, timeDate, timeSeries, tis, tseries, xts & NA                                                                  & GPL-2 \\textbar{} GPL-3             & NA & NA & NA & NA & yes & 4.3.0\\\\\n",
       "\tbase & base       & /usr/lib/R/library            & 4.3.0   & base        & NA                                              & NA                                               & NA & methods                                                                                                                 & NA                                                                  & Part of R 4.3.0           & NA & NA & NA & NA & NA  & 4.3.0\\\\\n",
       "\tboot & boot       & /usr/lib/R/library            & 1.3-28  & recommended & R (>= 3.0.0), graphics, stats                   & NA                                               & NA & MASS, survival                                                                                                          & NA                                                                  & Unlimited                 & NA & NA & NA & NA & no  & 4.0.5\\\\\n",
       "\tclass & class      & /usr/lib/R/library            & 7.3-21  & recommended & R (>= 3.0.0), stats, utils                      & MASS                                             & NA & NA                                                                                                                      & NA                                                                  & GPL-2 \\textbar{} GPL-3             & NA & NA & NA & NA & yes & 4.2.2\\\\\n",
       "\tcluster & cluster    & /usr/lib/R/library            & 2.1.4   & recommended & R (>= 3.5.0)                                    & graphics, grDevices, stats, utils                & NA & MASS, Matrix                                                                                                            & NA                                                                  & GPL (>= 2)                & NA & NA & NA & NA & yes & 4.2.1\\\\\n",
       "\tcodetools & codetools  & /usr/lib/R/library            & 0.2-19  & recommended & R (>= 2.1)                                      & NA                                               & NA & NA                                                                                                                      & NA                                                                  & GPL                       & NA & NA & NA & NA & no  & 4.2.2\\\\\n",
       "\tcompiler & compiler   & /usr/lib/R/library            & 4.3.0   & base        & NA                                              & NA                                               & NA & NA                                                                                                                      & NA                                                                  & Part of R 4.3.0           & NA & NA & NA & NA & NA  & 4.3.0\\\\\n",
       "\tdatasets & datasets   & /usr/lib/R/library            & 4.3.0   & base        & NA                                              & NA                                               & NA & NA                                                                                                                      & NA                                                                  & Part of R 4.3.0           & NA & NA & NA & NA & NA  & 4.3.0\\\\\n",
       "\tforeign & foreign    & /usr/lib/R/library            & 0.8-82  & recommended & R (>= 4.0.0)                                    & methods, utils, stats                            & NA & NA                                                                                                                      & NA                                                                  & GPL (>= 2)                & NA & NA & NA & NA & yes & 4.1.2\\\\\n",
       "\tgraphics & graphics   & /usr/lib/R/library            & 4.3.0   & base        & NA                                              & grDevices                                        & NA & NA                                                                                                                      & NA                                                                  & Part of R 4.3.0           & NA & NA & NA & NA & yes & 4.3.0\\\\\n",
       "\tgrDevices & grDevices  & /usr/lib/R/library            & 4.3.0   & base        & NA                                              & NA                                               & NA & KernSmooth                                                                                                              & NA                                                                  & Part of R 4.3.0           & NA & NA & NA & NA & yes & 4.3.0\\\\\n",
       "\tgrid & grid       & /usr/lib/R/library            & 4.3.0   & base        & NA                                              & grDevices, utils                                 & NA & NA                                                                                                                      & NA                                                                  & Part of R 4.3.0           & NA & NA & NA & NA & yes & 4.3.0\\\\\n",
       "\tKernSmooth & KernSmooth & /usr/lib/R/library            & 2.23-20 & recommended & R (>= 2.5.0), stats                             & NA                                               & NA & MASS, carData                                                                                                           & NA                                                                  & Unlimited                 & NA & NA & NA & NA & yes & 4.0.5\\\\\n",
       "\tlattice & lattice    & /usr/lib/R/library            & 0.21-8  & recommended & R (>= 4.0.0)                                    & grid, grDevices, graphics, stats, utils          & NA & KernSmooth, MASS, latticeExtra, colorspace                                                                              & chron                                                               & GPL (>= 2)                & NA & NA & NA & NA & yes & 4.3.0\\\\\n",
       "\tMASS & MASS       & /usr/lib/R/library            & 7.3-59  & recommended & R (>= 4.2.0), grDevices, graphics, stats, utils & methods                                          & NA & lattice, nlme, nnet, survival                                                                                           & NA                                                                  & GPL-2 \\textbar{} GPL-3             & NA & NA & NA & NA & yes & 4.3.0\\\\\n",
       "\tMatrix & Matrix     & /usr/lib/R/library            & 1.5-1   & recommended & R (>= 3.5.0)                                    & methods, graphics, grid, stats, utils, lattice   & NA & expm, MASS                                                                                                              & MatrixModels, graph, SparseM, sfsmisc, igraph, maptools, sp,\n",
       "spdep & GPL (>= 2) \\textbar{} file LICENCE & NA & NA & NA & NA & yes & 4.2.1\\\\\n",
       "\tmethods & methods    & /usr/lib/R/library            & 4.3.0   & base        & NA                                              & utils, stats                                     & NA & codetools                                                                                                               & NA                                                                  & Part of R 4.3.0           & NA & NA & NA & NA & yes & 4.3.0\\\\\n",
       "\tmgcv & mgcv       & /usr/lib/R/library            & 1.8-42  & recommended & R (>= 3.6.0), nlme (>= 3.1-64)                  & methods, stats, graphics, Matrix, splines, utils & NA & parallel, survival, MASS                                                                                                & NA                                                                  & GPL (>= 2)                & NA & NA & NA & NA & yes & 4.2.3\\\\\n",
       "\tnlme & nlme       & /usr/lib/R/library            & 3.1-162 & recommended & R (>= 3.5.0)                                    & graphics, stats, utils, lattice                  & NA & Hmisc, MASS, SASmixed                                                                                                   & NA                                                                  & GPL (>= 2)                & NA & NA & NA & NA & yes & 4.2.2\\\\\n",
       "\tnnet & nnet       & /usr/lib/R/library            & 7.3-18  & recommended & R (>= 3.0.0), stats, utils                      & NA                                               & NA & MASS                                                                                                                    & NA                                                                  & GPL-2 \\textbar{} GPL-3             & NA & NA & NA & NA & yes & 4.2.1\\\\\n",
       "\tparallel & parallel   & /usr/lib/R/library            & 4.3.0   & base        & NA                                              & tools, compiler                                  & NA & methods                                                                                                                 & snow, Rmpi                                                          & Part of R 4.3.0           & NA & NA & NA & NA & yes & 4.3.0\\\\\n",
       "\trpart & rpart      & /usr/lib/R/library            & 4.1.19  & recommended & R (>= 2.15.0), graphics, stats, grDevices       & NA                                               & NA & survival                                                                                                                & NA                                                                  & GPL-2 \\textbar{} GPL-3             & NA & NA & NA & NA & yes & 4.2.1\\\\\n",
       "\tspatial & spatial    & /usr/lib/R/library            & 7.3-11  & recommended & R (>= 3.0.0), graphics, stats, utils            & NA                                               & NA & MASS                                                                                                                    & NA                                                                  & GPL-2 \\textbar{} GPL-3             & NA & NA & NA & NA & yes & 4.0.0\\\\\n",
       "\tsplines & splines    & /usr/lib/R/library            & 4.3.0   & base        & NA                                              & graphics, stats                                  & NA & Matrix, methods                                                                                                         & NA                                                                  & Part of R 4.3.0           & NA & NA & NA & NA & yes & 4.3.0\\\\\n",
       "\tstats & stats      & /usr/lib/R/library            & 4.3.0   & base        & NA                                              & utils, grDevices, graphics                       & NA & MASS, Matrix, SuppDists, methods, stats4                                                                                & NA                                                                  & Part of R 4.3.0           & NA & NA & NA & NA & yes & 4.3.0\\\\\n",
       "\tstats4 & stats4     & /usr/lib/R/library            & 4.3.0   & base        & NA                                              & graphics, methods, stats                         & NA & NA                                                                                                                      & NA                                                                  & Part of R 4.3.0           & NA & NA & NA & NA & NA  & 4.3.0\\\\\n",
       "\tsurvival & survival   & /usr/lib/R/library            & 3.5-5   & recommended & R (>= 3.5.0)                                    & graphics, Matrix, methods, splines, stats, utils & NA & NA                                                                                                                      & NA                                                                  & LGPL (>= 2)               & NA & NA & NA & NA & yes & 4.2.3\\\\\n",
       "\ttcltk & tcltk      & /usr/lib/R/library            & 4.3.0   & base        & NA                                              & utils                                            & NA & NA                                                                                                                      & NA                                                                  & Part of R 4.3.0           & NA & NA & NA & NA & yes & 4.3.0\\\\\n",
       "\ttools & tools      & /usr/lib/R/library            & 4.3.0   & base        & NA                                              & NA                                               & NA & codetools, methods, xml2, curl, commonmark, knitr, xfun,\n",
       "mathjaxr, V8                                                  & NA                                                                  & Part of R 4.3.0           & NA & NA & NA & NA & yes & 4.3.0\\\\\n",
       "\tutils & utils      & /usr/lib/R/library            & 4.3.0   & base        & NA                                              & NA                                               & NA & methods, xml2, commonmark, knitr                                                                                        & NA                                                                  & Part of R 4.3.0           & NA & NA & NA & NA & yes & 4.3.0\\\\\n",
       "\\end{tabular}\n"
      ],
      "text/markdown": [
       "\n",
       "A matrix: 128 × 16 of type chr\n",
       "\n",
       "| <!--/--> | Package | LibPath | Version | Priority | Depends | Imports | LinkingTo | Suggests | Enhances | License | License_is_FOSS | License_restricts_use | OS_type | MD5sum | NeedsCompilation | Built |\n",
       "|---|---|---|---|---|---|---|---|---|---|---|---|---|---|---|---|---|\n",
       "| ash | ash                   | /usr/local/lib/R/site-library | 1.0-15  | NA | NA                                                  | NA                                                                                                                                                                 | NA                                          | NA                                                                                                                                                                                                                                  | NA  | GPL (&gt;= 2)                   | NA | NA | NA | NA | yes | 4.3.0 |\n",
       "| base64enc | base64enc             | /usr/local/lib/R/site-library | 0.1-3   | NA | R (&gt;= 2.9.0)                                        | NA                                                                                                                                                                 | NA                                          | NA                                                                                                                                                                                                                                  | png | GPL-2 | GPL-3                | NA | NA | NA | NA | yes | 4.3.0 |\n",
       "| Bessel | Bessel                | /usr/local/lib/R/site-library | 0.6-0   | NA | NA                                                  | methods, Rmpfr                                                                                                                                                     | NA                                          | gsl, sfsmisc                                                                                                                                                                                                                        | NA  | GPL (&gt;= 2)                   | NA | NA | NA | NA | yes | 4.3.0 |\n",
       "| bit | bit                   | /usr/local/lib/R/site-library | 4.0.5   | NA | R (&gt;= 2.9.2)                                        | NA                                                                                                                                                                 | NA                                          | testthat (&gt;= 0.11.0), roxygen2, knitr, rmarkdown,\n",
       "microbenchmark, bit64 (&gt;= 4.0.0), ff (&gt;= 4.0.0)                                                                                                                                  | NA  | GPL-2 | GPL-3                | NA | NA | NA | NA | yes | 4.3.0 |\n",
       "| bit64 | bit64                 | /usr/local/lib/R/site-library | 4.0.5   | NA | R (&gt;= 3.0.1), bit (&gt;= 4.0.0), utils, methods, stats | NA                                                                                                                                                                 | NA                                          | NA                                                                                                                                                                                                                                  | NA  | GPL-2 | GPL-3                | NA | NA | NA | NA | yes | 4.3.0 |\n",
       "| bitops | bitops                | /usr/local/lib/R/site-library | 1.0-7   | NA | NA                                                  | NA                                                                                                                                                                 | NA                                          | NA                                                                                                                                                                                                                                  | NA  | GPL (&gt;= 2)                   | NA | NA | NA | NA | yes | 4.3.0 |\n",
       "| chron | chron                 | /usr/local/lib/R/site-library | 2.3-61  | NA | R (&gt;= 2.12.0)                                       | graphics, stats                                                                                                                                                    | NA                                          | scales, ggplot2                                                                                                                                                                                                                     | zoo | GPL-2                        | NA | NA | NA | NA | yes | 4.3.0 |\n",
       "| cli | cli                   | /usr/local/lib/R/site-library | 3.6.1   | NA | R (&gt;= 3.4)                                          | utils                                                                                                                                                              | NA                                          | callr, covr, crayon, digest, glue (&gt;= 1.6.0), grDevices,\n",
       "htmltools, htmlwidgets, knitr, methods, mockery, processx, ps\n",
       "(&gt;= 1.3.4.9000), rlang (&gt;= 1.0.2.9003), rmarkdown, rprojroot,\n",
       "rstudioapi, testthat, tibble, whoami, withr | NA  | MIT + file LICENSE           | NA | NA | NA | NA | yes | 4.3.0 |\n",
       "| clipr | clipr                 | /usr/local/lib/R/site-library | 0.8.0   | NA | NA                                                  | utils                                                                                                                                                              | NA                                          | covr, knitr, rmarkdown, rstudioapi (&gt;= 0.5), testthat (&gt;=\n",
       "2.0.0)                                                                                                                                                                   | NA  | GPL-3                        | NA | NA | NA | NA | no  | 4.3.0 |\n",
       "| colorspace | colorspace            | /usr/local/lib/R/site-library | 2.1-0   | NA | R (&gt;= 3.0.0), methods                               | graphics, grDevices, stats                                                                                                                                         | NA                                          | datasets, utils, KernSmooth, MASS, kernlab, mvtnorm, vcd,\n",
       "tcltk, shiny, shinyjs, ggplot2, dplyr, scales, grid, png, jpeg,\n",
       "knitr, rmarkdown, RColorBrewer, rcartocolor, scico, viridis,\n",
       "wesanderson                               | NA  | BSD_3_clause + file LICENSE  | NA | NA | NA | NA | yes | 4.3.0 |\n",
       "| corpcor | corpcor               | /usr/local/lib/R/site-library | 1.6.10  | NA | R (&gt;= 3.0.2)                                        | stats                                                                                                                                                              | NA                                          | <!----> | NA  | GPL (&gt;= 3)                   | NA | NA | NA | NA | no  | 4.3.0 |\n",
       "| cpp11 | cpp11                 | /usr/local/lib/R/site-library | 0.4.3   | NA | NA                                                  | NA                                                                                                                                                                 | NA                                          | bench, brio, callr, cli, covr, decor, desc, ggplot2, glue,\n",
       "knitr, lobstr, mockery, progress, rmarkdown, scales, Rcpp,\n",
       "testthat, tibble, utils, vctrs, withr                                                                       | NA  | MIT + file LICENSE           | NA | NA | NA | NA | no  | 4.3.0 |\n",
       "| crayon | crayon                | /usr/local/lib/R/site-library | 1.5.2   | NA | NA                                                  | grDevices, methods, utils                                                                                                                                          | NA                                          | mockery, rstudioapi, testthat, withr                                                                                                                                                                                                | NA  | MIT + file LICENSE           | NA | NA | NA | NA | no  | 4.3.0 |\n",
       "| curl | curl                  | /usr/local/lib/R/site-library | 5.0.0   | NA | R (&gt;= 3.0.0)                                        | NA                                                                                                                                                                 | NA                                          | spelling, testthat (&gt;= 1.0.0), knitr, jsonlite, rmarkdown,\n",
       "magrittr, httpuv (&gt;= 1.4.4), webutils                                                                                                                                   | NA  | MIT + file LICENSE           | NA | NA | NA | NA | yes | 4.3.0 |\n",
       "| deSolve | deSolve               | /usr/local/lib/R/site-library | 1.35    | NA | R (&gt;= 3.3.0)                                        | methods, graphics, grDevices, stats                                                                                                                                | NA                                          | scatterplot3d, FME                                                                                                                                                                                                                  | NA  | GPL (&gt;= 2)                   | NA | NA | NA | NA | yes | 4.3.0 |\n",
       "| digest | digest                | /usr/local/lib/R/site-library | 0.6.31  | NA | R (&gt;= 3.3.0)                                        | utils                                                                                                                                                              | NA                                          | tinytest, simplermarkdown                                                                                                                                                                                                           | NA  | GPL (&gt;= 2)                   | NA | NA | NA | NA | yes | 4.3.0 |\n",
       "| DistributionUtils | DistributionUtils     | /usr/local/lib/R/site-library | 0.6-0   | NA | R (&gt;= 3.0.1)                                        | NA                                                                                                                                                                 | NA                                          | GeneralizedHyperbolic, VarianceGamma, SkewHyperbolic, RUnit                                                                                                                                                                         | NA  | GPL (&gt;= 2)                   | NA | NA | NA | NA | yes | 4.3.0 |\n",
       "| ellipsis | ellipsis              | /usr/local/lib/R/site-library | 0.3.2   | NA | R (&gt;= 3.2)                                          | rlang (&gt;= 0.3.0)                                                                                                                                                   | NA                                          | covr, testthat                                                                                                                                                                                                                      | NA  | MIT + file LICENSE           | NA | NA | NA | NA | yes | 4.3.0 |\n",
       "| evaluate | evaluate              | /usr/local/lib/R/site-library | 0.21    | NA | R (&gt;= 3.0.2)                                        | methods                                                                                                                                                            | NA                                          | covr, ggplot2, lattice, rlang, testthat (&gt;= 3.0.0), withr                                                                                                                                                                           | NA  | MIT + file LICENSE           | NA | NA | NA | NA | no  | 4.3.0 |\n",
       "| fansi | fansi                 | /usr/local/lib/R/site-library | 1.0.4   | NA | R (&gt;= 3.1.0)                                        | grDevices, utils                                                                                                                                                   | NA                                          | unitizer, knitr, rmarkdown                                                                                                                                                                                                          | NA  | GPL-2 | GPL-3                | NA | NA | NA | NA | yes | 4.3.0 |\n",
       "| farver | farver                | /usr/local/lib/R/site-library | 2.1.1   | NA | NA                                                  | NA                                                                                                                                                                 | NA                                          | covr, testthat (&gt;= 3.0.0)                                                                                                                                                                                                           | NA  | MIT + file LICENSE           | NA | NA | NA | NA | yes | 4.3.0 |\n",
       "| fastmap | fastmap               | /usr/local/lib/R/site-library | 1.1.1   | NA | NA                                                  | NA                                                                                                                                                                 | NA                                          | testthat (&gt;= 2.1.1)                                                                                                                                                                                                                 | NA  | MIT + file LICENSE           | NA | NA | NA | NA | yes | 4.3.0 |\n",
       "| fda | fda                   | /usr/local/lib/R/site-library | 6.1.4   | NA | R (&gt;= 3.5), splines, fds, deSolve                   | NA                                                                                                                                                                 | NA                                          | rmarkdown, knitr, lattice                                                                                                                                                                                                           | NA  | GPL (&gt;= 2)                   | NA | NA | NA | NA | yes | 4.3.0 |\n",
       "| fds | fds                   | /usr/local/lib/R/site-library | 1.8     | NA | R (&gt;= 3.4.0), rainbow, RCurl                        | NA                                                                                                                                                                 | NA                                          | NA                                                                                                                                                                                                                                  | NA  | GPL (&gt;= 2)                   | NA | NA | NA | NA | no  | 4.3.0 |\n",
       "| ff | ff                    | /usr/local/lib/R/site-library | 4.0.9   | NA | R (&gt;= 2.10.1), bit (&gt;= 4.0.0), utils                | NA                                                                                                                                                                 | NA                                          | biglm, testthat (&gt;= 0.11.0)                                                                                                                                                                                                         | NA  | GPL-2 | GPL-3 | file LICENSE | NA | NA | NA | NA | yes | 4.3.0 |\n",
       "| FNN | FNN                   | /usr/local/lib/R/site-library | 1.1.3.2 | NA | R (&gt;= 3.0.0)                                        | NA                                                                                                                                                                 | NA                                          | chemometrics, mvtnorm                                                                                                                                                                                                               | NA  | GPL (&gt;= 2)                   | NA | NA | NA | NA | yes | 4.3.0 |\n",
       "| forecast | forecast              | /usr/local/lib/R/site-library | 8.21    | NA | R (&gt;= 3.5.0),                                       | colorspace, fracdiff, generics (&gt;= 0.1.2), ggplot2 (&gt;= 2.2.1),\n",
       "graphics, lmtest, magrittr, nnet, parallel, Rcpp (&gt;= 0.11.0),\n",
       "stats, timeDate, tseries, urca, zoo | Rcpp (&gt;= 0.11.0), RcppArmadillo (&gt;= 0.2.35) | forecTheta, knitr, methods, rmarkdown, rticles, seasonal,\n",
       "testthat (&gt;= 3.0.0), uroot                                                                                                                                               | NA  | GPL-3                        | NA | NA | NA | NA | yes | 4.3.0 |\n",
       "| fracdiff | fracdiff              | /usr/local/lib/R/site-library | 1.5-2   | NA | NA                                                  | stats                                                                                                                                                              | NA                                          | longmemo, forecast, urca                                                                                                                                                                                                            | NA  | GPL (&gt;= 2)                   | NA | NA | NA | NA | yes | 4.3.0 |\n",
       "| GeneralizedHyperbolic | GeneralizedHyperbolic | /usr/local/lib/R/site-library | 0.8-4   | NA | R (&gt;= 3.0.1)                                        | DistributionUtils, MASS                                                                                                                                            | NA                                          | VarianceGamma, actuar, SkewHyperbolic, RUnit                                                                                                                                                                                        | NA  | GPL (&gt;= 2)                   | NA | NA | NA | NA | no  | 4.3.0 |\n",
       "| generics | generics              | /usr/local/lib/R/site-library | 0.1.3   | NA | R (&gt;= 3.2)                                          | methods                                                                                                                                                            | NA                                          | covr, pkgload, testthat (&gt;= 3.0.0), tibble, withr                                                                                                                                                                                   | NA  | MIT + file LICENSE           | NA | NA | NA | NA | no  | 4.3.0 |\n",
       "| ⋮ | ⋮ | ⋮ | ⋮ | ⋮ | ⋮ | ⋮ | ⋮ | ⋮ | ⋮ | ⋮ | ⋮ | ⋮ | ⋮ | ⋮ | ⋮ | ⋮ |\n",
       "| zoo | zoo        | /usr/local/lib/R/site-library | 1.8-12  | NA          | R (&gt;= 3.1.0), stats                             | utils, graphics, grDevices, lattice (&gt;= 0.20-27) | NA | AER, coda, chron, ggplot2 (&gt;= 3.0.0), mondate, scales,\n",
       "stinepack, strucchange, timeDate, timeSeries, tis, tseries, xts | NA                                                                  | GPL-2 | GPL-3             | NA | NA | NA | NA | yes | 4.3.0 |\n",
       "| base | base       | /usr/lib/R/library            | 4.3.0   | base        | NA                                              | NA                                               | NA | methods                                                                                                                 | NA                                                                  | Part of R 4.3.0           | NA | NA | NA | NA | NA  | 4.3.0 |\n",
       "| boot | boot       | /usr/lib/R/library            | 1.3-28  | recommended | R (&gt;= 3.0.0), graphics, stats                   | NA                                               | NA | MASS, survival                                                                                                          | NA                                                                  | Unlimited                 | NA | NA | NA | NA | no  | 4.0.5 |\n",
       "| class | class      | /usr/lib/R/library            | 7.3-21  | recommended | R (&gt;= 3.0.0), stats, utils                      | MASS                                             | NA | NA                                                                                                                      | NA                                                                  | GPL-2 | GPL-3             | NA | NA | NA | NA | yes | 4.2.2 |\n",
       "| cluster | cluster    | /usr/lib/R/library            | 2.1.4   | recommended | R (&gt;= 3.5.0)                                    | graphics, grDevices, stats, utils                | NA | MASS, Matrix                                                                                                            | NA                                                                  | GPL (&gt;= 2)                | NA | NA | NA | NA | yes | 4.2.1 |\n",
       "| codetools | codetools  | /usr/lib/R/library            | 0.2-19  | recommended | R (&gt;= 2.1)                                      | NA                                               | NA | NA                                                                                                                      | NA                                                                  | GPL                       | NA | NA | NA | NA | no  | 4.2.2 |\n",
       "| compiler | compiler   | /usr/lib/R/library            | 4.3.0   | base        | NA                                              | NA                                               | NA | NA                                                                                                                      | NA                                                                  | Part of R 4.3.0           | NA | NA | NA | NA | NA  | 4.3.0 |\n",
       "| datasets | datasets   | /usr/lib/R/library            | 4.3.0   | base        | NA                                              | NA                                               | NA | NA                                                                                                                      | NA                                                                  | Part of R 4.3.0           | NA | NA | NA | NA | NA  | 4.3.0 |\n",
       "| foreign | foreign    | /usr/lib/R/library            | 0.8-82  | recommended | R (&gt;= 4.0.0)                                    | methods, utils, stats                            | NA | NA                                                                                                                      | NA                                                                  | GPL (&gt;= 2)                | NA | NA | NA | NA | yes | 4.1.2 |\n",
       "| graphics | graphics   | /usr/lib/R/library            | 4.3.0   | base        | NA                                              | grDevices                                        | NA | NA                                                                                                                      | NA                                                                  | Part of R 4.3.0           | NA | NA | NA | NA | yes | 4.3.0 |\n",
       "| grDevices | grDevices  | /usr/lib/R/library            | 4.3.0   | base        | NA                                              | NA                                               | NA | KernSmooth                                                                                                              | NA                                                                  | Part of R 4.3.0           | NA | NA | NA | NA | yes | 4.3.0 |\n",
       "| grid | grid       | /usr/lib/R/library            | 4.3.0   | base        | NA                                              | grDevices, utils                                 | NA | NA                                                                                                                      | NA                                                                  | Part of R 4.3.0           | NA | NA | NA | NA | yes | 4.3.0 |\n",
       "| KernSmooth | KernSmooth | /usr/lib/R/library            | 2.23-20 | recommended | R (&gt;= 2.5.0), stats                             | NA                                               | NA | MASS, carData                                                                                                           | NA                                                                  | Unlimited                 | NA | NA | NA | NA | yes | 4.0.5 |\n",
       "| lattice | lattice    | /usr/lib/R/library            | 0.21-8  | recommended | R (&gt;= 4.0.0)                                    | grid, grDevices, graphics, stats, utils          | NA | KernSmooth, MASS, latticeExtra, colorspace                                                                              | chron                                                               | GPL (&gt;= 2)                | NA | NA | NA | NA | yes | 4.3.0 |\n",
       "| MASS | MASS       | /usr/lib/R/library            | 7.3-59  | recommended | R (&gt;= 4.2.0), grDevices, graphics, stats, utils | methods                                          | NA | lattice, nlme, nnet, survival                                                                                           | NA                                                                  | GPL-2 | GPL-3             | NA | NA | NA | NA | yes | 4.3.0 |\n",
       "| Matrix | Matrix     | /usr/lib/R/library            | 1.5-1   | recommended | R (&gt;= 3.5.0)                                    | methods, graphics, grid, stats, utils, lattice   | NA | expm, MASS                                                                                                              | MatrixModels, graph, SparseM, sfsmisc, igraph, maptools, sp,\n",
       "spdep | GPL (&gt;= 2) | file LICENCE | NA | NA | NA | NA | yes | 4.2.1 |\n",
       "| methods | methods    | /usr/lib/R/library            | 4.3.0   | base        | NA                                              | utils, stats                                     | NA | codetools                                                                                                               | NA                                                                  | Part of R 4.3.0           | NA | NA | NA | NA | yes | 4.3.0 |\n",
       "| mgcv | mgcv       | /usr/lib/R/library            | 1.8-42  | recommended | R (&gt;= 3.6.0), nlme (&gt;= 3.1-64)                  | methods, stats, graphics, Matrix, splines, utils | NA | parallel, survival, MASS                                                                                                | NA                                                                  | GPL (&gt;= 2)                | NA | NA | NA | NA | yes | 4.2.3 |\n",
       "| nlme | nlme       | /usr/lib/R/library            | 3.1-162 | recommended | R (&gt;= 3.5.0)                                    | graphics, stats, utils, lattice                  | NA | Hmisc, MASS, SASmixed                                                                                                   | NA                                                                  | GPL (&gt;= 2)                | NA | NA | NA | NA | yes | 4.2.2 |\n",
       "| nnet | nnet       | /usr/lib/R/library            | 7.3-18  | recommended | R (&gt;= 3.0.0), stats, utils                      | NA                                               | NA | MASS                                                                                                                    | NA                                                                  | GPL-2 | GPL-3             | NA | NA | NA | NA | yes | 4.2.1 |\n",
       "| parallel | parallel   | /usr/lib/R/library            | 4.3.0   | base        | NA                                              | tools, compiler                                  | NA | methods                                                                                                                 | snow, Rmpi                                                          | Part of R 4.3.0           | NA | NA | NA | NA | yes | 4.3.0 |\n",
       "| rpart | rpart      | /usr/lib/R/library            | 4.1.19  | recommended | R (&gt;= 2.15.0), graphics, stats, grDevices       | NA                                               | NA | survival                                                                                                                | NA                                                                  | GPL-2 | GPL-3             | NA | NA | NA | NA | yes | 4.2.1 |\n",
       "| spatial | spatial    | /usr/lib/R/library            | 7.3-11  | recommended | R (&gt;= 3.0.0), graphics, stats, utils            | NA                                               | NA | MASS                                                                                                                    | NA                                                                  | GPL-2 | GPL-3             | NA | NA | NA | NA | yes | 4.0.0 |\n",
       "| splines | splines    | /usr/lib/R/library            | 4.3.0   | base        | NA                                              | graphics, stats                                  | NA | Matrix, methods                                                                                                         | NA                                                                  | Part of R 4.3.0           | NA | NA | NA | NA | yes | 4.3.0 |\n",
       "| stats | stats      | /usr/lib/R/library            | 4.3.0   | base        | NA                                              | utils, grDevices, graphics                       | NA | MASS, Matrix, SuppDists, methods, stats4                                                                                | NA                                                                  | Part of R 4.3.0           | NA | NA | NA | NA | yes | 4.3.0 |\n",
       "| stats4 | stats4     | /usr/lib/R/library            | 4.3.0   | base        | NA                                              | graphics, methods, stats                         | NA | NA                                                                                                                      | NA                                                                  | Part of R 4.3.0           | NA | NA | NA | NA | NA  | 4.3.0 |\n",
       "| survival | survival   | /usr/lib/R/library            | 3.5-5   | recommended | R (&gt;= 3.5.0)                                    | graphics, Matrix, methods, splines, stats, utils | NA | NA                                                                                                                      | NA                                                                  | LGPL (&gt;= 2)               | NA | NA | NA | NA | yes | 4.2.3 |\n",
       "| tcltk | tcltk      | /usr/lib/R/library            | 4.3.0   | base        | NA                                              | utils                                            | NA | NA                                                                                                                      | NA                                                                  | Part of R 4.3.0           | NA | NA | NA | NA | yes | 4.3.0 |\n",
       "| tools | tools      | /usr/lib/R/library            | 4.3.0   | base        | NA                                              | NA                                               | NA | codetools, methods, xml2, curl, commonmark, knitr, xfun,\n",
       "mathjaxr, V8                                                  | NA                                                                  | Part of R 4.3.0           | NA | NA | NA | NA | yes | 4.3.0 |\n",
       "| utils | utils      | /usr/lib/R/library            | 4.3.0   | base        | NA                                              | NA                                               | NA | methods, xml2, commonmark, knitr                                                                                        | NA                                                                  | Part of R 4.3.0           | NA | NA | NA | NA | yes | 4.3.0 |\n",
       "\n"
      ],
      "text/plain": [
       "                      Package               LibPath                      \n",
       "ash                   ash                   /usr/local/lib/R/site-library\n",
       "base64enc             base64enc             /usr/local/lib/R/site-library\n",
       "Bessel                Bessel                /usr/local/lib/R/site-library\n",
       "bit                   bit                   /usr/local/lib/R/site-library\n",
       "bit64                 bit64                 /usr/local/lib/R/site-library\n",
       "bitops                bitops                /usr/local/lib/R/site-library\n",
       "chron                 chron                 /usr/local/lib/R/site-library\n",
       "cli                   cli                   /usr/local/lib/R/site-library\n",
       "clipr                 clipr                 /usr/local/lib/R/site-library\n",
       "colorspace            colorspace            /usr/local/lib/R/site-library\n",
       "corpcor               corpcor               /usr/local/lib/R/site-library\n",
       "cpp11                 cpp11                 /usr/local/lib/R/site-library\n",
       "crayon                crayon                /usr/local/lib/R/site-library\n",
       "curl                  curl                  /usr/local/lib/R/site-library\n",
       "deSolve               deSolve               /usr/local/lib/R/site-library\n",
       "digest                digest                /usr/local/lib/R/site-library\n",
       "DistributionUtils     DistributionUtils     /usr/local/lib/R/site-library\n",
       "ellipsis              ellipsis              /usr/local/lib/R/site-library\n",
       "evaluate              evaluate              /usr/local/lib/R/site-library\n",
       "fansi                 fansi                 /usr/local/lib/R/site-library\n",
       "farver                farver                /usr/local/lib/R/site-library\n",
       "fastmap               fastmap               /usr/local/lib/R/site-library\n",
       "fda                   fda                   /usr/local/lib/R/site-library\n",
       "fds                   fds                   /usr/local/lib/R/site-library\n",
       "ff                    ff                    /usr/local/lib/R/site-library\n",
       "FNN                   FNN                   /usr/local/lib/R/site-library\n",
       "forecast              forecast              /usr/local/lib/R/site-library\n",
       "fracdiff              fracdiff              /usr/local/lib/R/site-library\n",
       "GeneralizedHyperbolic GeneralizedHyperbolic /usr/local/lib/R/site-library\n",
       "generics              generics              /usr/local/lib/R/site-library\n",
       "⋮                     ⋮                     ⋮                            \n",
       "zoo                   zoo                   /usr/local/lib/R/site-library\n",
       "base                  base                  /usr/lib/R/library           \n",
       "boot                  boot                  /usr/lib/R/library           \n",
       "class                 class                 /usr/lib/R/library           \n",
       "cluster               cluster               /usr/lib/R/library           \n",
       "codetools             codetools             /usr/lib/R/library           \n",
       "compiler              compiler              /usr/lib/R/library           \n",
       "datasets              datasets              /usr/lib/R/library           \n",
       "foreign               foreign               /usr/lib/R/library           \n",
       "graphics              graphics              /usr/lib/R/library           \n",
       "grDevices             grDevices             /usr/lib/R/library           \n",
       "grid                  grid                  /usr/lib/R/library           \n",
       "KernSmooth            KernSmooth            /usr/lib/R/library           \n",
       "lattice               lattice               /usr/lib/R/library           \n",
       "MASS                  MASS                  /usr/lib/R/library           \n",
       "Matrix                Matrix                /usr/lib/R/library           \n",
       "methods               methods               /usr/lib/R/library           \n",
       "mgcv                  mgcv                  /usr/lib/R/library           \n",
       "nlme                  nlme                  /usr/lib/R/library           \n",
       "nnet                  nnet                  /usr/lib/R/library           \n",
       "parallel              parallel              /usr/lib/R/library           \n",
       "rpart                 rpart                 /usr/lib/R/library           \n",
       "spatial               spatial               /usr/lib/R/library           \n",
       "splines               splines               /usr/lib/R/library           \n",
       "stats                 stats                 /usr/lib/R/library           \n",
       "stats4                stats4                /usr/lib/R/library           \n",
       "survival              survival              /usr/lib/R/library           \n",
       "tcltk                 tcltk                 /usr/lib/R/library           \n",
       "tools                 tools                 /usr/lib/R/library           \n",
       "utils                 utils                 /usr/lib/R/library           \n",
       "                      Version Priority   \n",
       "ash                   1.0-15  NA         \n",
       "base64enc             0.1-3   NA         \n",
       "Bessel                0.6-0   NA         \n",
       "bit                   4.0.5   NA         \n",
       "bit64                 4.0.5   NA         \n",
       "bitops                1.0-7   NA         \n",
       "chron                 2.3-61  NA         \n",
       "cli                   3.6.1   NA         \n",
       "clipr                 0.8.0   NA         \n",
       "colorspace            2.1-0   NA         \n",
       "corpcor               1.6.10  NA         \n",
       "cpp11                 0.4.3   NA         \n",
       "crayon                1.5.2   NA         \n",
       "curl                  5.0.0   NA         \n",
       "deSolve               1.35    NA         \n",
       "digest                0.6.31  NA         \n",
       "DistributionUtils     0.6-0   NA         \n",
       "ellipsis              0.3.2   NA         \n",
       "evaluate              0.21    NA         \n",
       "fansi                 1.0.4   NA         \n",
       "farver                2.1.1   NA         \n",
       "fastmap               1.1.1   NA         \n",
       "fda                   6.1.4   NA         \n",
       "fds                   1.8     NA         \n",
       "ff                    4.0.9   NA         \n",
       "FNN                   1.1.3.2 NA         \n",
       "forecast              8.21    NA         \n",
       "fracdiff              1.5-2   NA         \n",
       "GeneralizedHyperbolic 0.8-4   NA         \n",
       "generics              0.1.3   NA         \n",
       "⋮                     ⋮       ⋮          \n",
       "zoo                   1.8-12  NA         \n",
       "base                  4.3.0   base       \n",
       "boot                  1.3-28  recommended\n",
       "class                 7.3-21  recommended\n",
       "cluster               2.1.4   recommended\n",
       "codetools             0.2-19  recommended\n",
       "compiler              4.3.0   base       \n",
       "datasets              4.3.0   base       \n",
       "foreign               0.8-82  recommended\n",
       "graphics              4.3.0   base       \n",
       "grDevices             4.3.0   base       \n",
       "grid                  4.3.0   base       \n",
       "KernSmooth            2.23-20 recommended\n",
       "lattice               0.21-8  recommended\n",
       "MASS                  7.3-59  recommended\n",
       "Matrix                1.5-1   recommended\n",
       "methods               4.3.0   base       \n",
       "mgcv                  1.8-42  recommended\n",
       "nlme                  3.1-162 recommended\n",
       "nnet                  7.3-18  recommended\n",
       "parallel              4.3.0   base       \n",
       "rpart                 4.1.19  recommended\n",
       "spatial               7.3-11  recommended\n",
       "splines               4.3.0   base       \n",
       "stats                 4.3.0   base       \n",
       "stats4                4.3.0   base       \n",
       "survival              3.5-5   recommended\n",
       "tcltk                 4.3.0   base       \n",
       "tools                 4.3.0   base       \n",
       "utils                 4.3.0   base       \n",
       "                      Depends                                            \n",
       "ash                   NA                                                 \n",
       "base64enc             R (>= 2.9.0)                                       \n",
       "Bessel                NA                                                 \n",
       "bit                   R (>= 2.9.2)                                       \n",
       "bit64                 R (>= 3.0.1), bit (>= 4.0.0), utils, methods, stats\n",
       "bitops                NA                                                 \n",
       "chron                 R (>= 2.12.0)                                      \n",
       "cli                   R (>= 3.4)                                         \n",
       "clipr                 NA                                                 \n",
       "colorspace            R (>= 3.0.0), methods                              \n",
       "corpcor               R (>= 3.0.2)                                       \n",
       "cpp11                 NA                                                 \n",
       "crayon                NA                                                 \n",
       "curl                  R (>= 3.0.0)                                       \n",
       "deSolve               R (>= 3.3.0)                                       \n",
       "digest                R (>= 3.3.0)                                       \n",
       "DistributionUtils     R (>= 3.0.1)                                       \n",
       "ellipsis              R (>= 3.2)                                         \n",
       "evaluate              R (>= 3.0.2)                                       \n",
       "fansi                 R (>= 3.1.0)                                       \n",
       "farver                NA                                                 \n",
       "fastmap               NA                                                 \n",
       "fda                   R (>= 3.5), splines, fds, deSolve                  \n",
       "fds                   R (>= 3.4.0), rainbow, RCurl                       \n",
       "ff                    R (>= 2.10.1), bit (>= 4.0.0), utils               \n",
       "FNN                   R (>= 3.0.0)                                       \n",
       "forecast              R (>= 3.5.0),                                      \n",
       "fracdiff              NA                                                 \n",
       "GeneralizedHyperbolic R (>= 3.0.1)                                       \n",
       "generics              R (>= 3.2)                                         \n",
       "⋮                     ⋮                                                  \n",
       "zoo                   R (>= 3.1.0), stats                                \n",
       "base                  NA                                                 \n",
       "boot                  R (>= 3.0.0), graphics, stats                      \n",
       "class                 R (>= 3.0.0), stats, utils                         \n",
       "cluster               R (>= 3.5.0)                                       \n",
       "codetools             R (>= 2.1)                                         \n",
       "compiler              NA                                                 \n",
       "datasets              NA                                                 \n",
       "foreign               R (>= 4.0.0)                                       \n",
       "graphics              NA                                                 \n",
       "grDevices             NA                                                 \n",
       "grid                  NA                                                 \n",
       "KernSmooth            R (>= 2.5.0), stats                                \n",
       "lattice               R (>= 4.0.0)                                       \n",
       "MASS                  R (>= 4.2.0), grDevices, graphics, stats, utils    \n",
       "Matrix                R (>= 3.5.0)                                       \n",
       "methods               NA                                                 \n",
       "mgcv                  R (>= 3.6.0), nlme (>= 3.1-64)                     \n",
       "nlme                  R (>= 3.5.0)                                       \n",
       "nnet                  R (>= 3.0.0), stats, utils                         \n",
       "parallel              NA                                                 \n",
       "rpart                 R (>= 2.15.0), graphics, stats, grDevices          \n",
       "spatial               R (>= 3.0.0), graphics, stats, utils               \n",
       "splines               NA                                                 \n",
       "stats                 NA                                                 \n",
       "stats4                NA                                                 \n",
       "survival              R (>= 3.5.0)                                       \n",
       "tcltk                 NA                                                 \n",
       "tools                 NA                                                 \n",
       "utils                 NA                                                 \n",
       "                      Imports                                                                                                                                                           \n",
       "ash                   NA                                                                                                                                                                \n",
       "base64enc             NA                                                                                                                                                                \n",
       "Bessel                methods, Rmpfr                                                                                                                                                    \n",
       "bit                   NA                                                                                                                                                                \n",
       "bit64                 NA                                                                                                                                                                \n",
       "bitops                NA                                                                                                                                                                \n",
       "chron                 graphics, stats                                                                                                                                                   \n",
       "cli                   utils                                                                                                                                                             \n",
       "clipr                 utils                                                                                                                                                             \n",
       "colorspace            graphics, grDevices, stats                                                                                                                                        \n",
       "corpcor               stats                                                                                                                                                             \n",
       "cpp11                 NA                                                                                                                                                                \n",
       "crayon                grDevices, methods, utils                                                                                                                                         \n",
       "curl                  NA                                                                                                                                                                \n",
       "deSolve               methods, graphics, grDevices, stats                                                                                                                               \n",
       "digest                utils                                                                                                                                                             \n",
       "DistributionUtils     NA                                                                                                                                                                \n",
       "ellipsis              rlang (>= 0.3.0)                                                                                                                                                  \n",
       "evaluate              methods                                                                                                                                                           \n",
       "fansi                 grDevices, utils                                                                                                                                                  \n",
       "farver                NA                                                                                                                                                                \n",
       "fastmap               NA                                                                                                                                                                \n",
       "fda                   NA                                                                                                                                                                \n",
       "fds                   NA                                                                                                                                                                \n",
       "ff                    NA                                                                                                                                                                \n",
       "FNN                   NA                                                                                                                                                                \n",
       "forecast              colorspace, fracdiff, generics (>= 0.1.2), ggplot2 (>= 2.2.1),\\ngraphics, lmtest, magrittr, nnet, parallel, Rcpp (>= 0.11.0),\\nstats, timeDate, tseries, urca, zoo\n",
       "fracdiff              stats                                                                                                                                                             \n",
       "GeneralizedHyperbolic DistributionUtils, MASS                                                                                                                                           \n",
       "generics              methods                                                                                                                                                           \n",
       "⋮                     ⋮                                                                                                                                                                 \n",
       "zoo                   utils, graphics, grDevices, lattice (>= 0.20-27)                                                                                                                  \n",
       "base                  NA                                                                                                                                                                \n",
       "boot                  NA                                                                                                                                                                \n",
       "class                 MASS                                                                                                                                                              \n",
       "cluster               graphics, grDevices, stats, utils                                                                                                                                 \n",
       "codetools             NA                                                                                                                                                                \n",
       "compiler              NA                                                                                                                                                                \n",
       "datasets              NA                                                                                                                                                                \n",
       "foreign               methods, utils, stats                                                                                                                                             \n",
       "graphics              grDevices                                                                                                                                                         \n",
       "grDevices             NA                                                                                                                                                                \n",
       "grid                  grDevices, utils                                                                                                                                                  \n",
       "KernSmooth            NA                                                                                                                                                                \n",
       "lattice               grid, grDevices, graphics, stats, utils                                                                                                                           \n",
       "MASS                  methods                                                                                                                                                           \n",
       "Matrix                methods, graphics, grid, stats, utils, lattice                                                                                                                    \n",
       "methods               utils, stats                                                                                                                                                      \n",
       "mgcv                  methods, stats, graphics, Matrix, splines, utils                                                                                                                  \n",
       "nlme                  graphics, stats, utils, lattice                                                                                                                                   \n",
       "nnet                  NA                                                                                                                                                                \n",
       "parallel              tools, compiler                                                                                                                                                   \n",
       "rpart                 NA                                                                                                                                                                \n",
       "spatial               NA                                                                                                                                                                \n",
       "splines               graphics, stats                                                                                                                                                   \n",
       "stats                 utils, grDevices, graphics                                                                                                                                        \n",
       "stats4                graphics, methods, stats                                                                                                                                          \n",
       "survival              graphics, Matrix, methods, splines, stats, utils                                                                                                                  \n",
       "tcltk                 utils                                                                                                                                                             \n",
       "tools                 NA                                                                                                                                                                \n",
       "utils                 NA                                                                                                                                                                \n",
       "                      LinkingTo                                  \n",
       "ash                   NA                                         \n",
       "base64enc             NA                                         \n",
       "Bessel                NA                                         \n",
       "bit                   NA                                         \n",
       "bit64                 NA                                         \n",
       "bitops                NA                                         \n",
       "chron                 NA                                         \n",
       "cli                   NA                                         \n",
       "clipr                 NA                                         \n",
       "colorspace            NA                                         \n",
       "corpcor               NA                                         \n",
       "cpp11                 NA                                         \n",
       "crayon                NA                                         \n",
       "curl                  NA                                         \n",
       "deSolve               NA                                         \n",
       "digest                NA                                         \n",
       "DistributionUtils     NA                                         \n",
       "ellipsis              NA                                         \n",
       "evaluate              NA                                         \n",
       "fansi                 NA                                         \n",
       "farver                NA                                         \n",
       "fastmap               NA                                         \n",
       "fda                   NA                                         \n",
       "fds                   NA                                         \n",
       "ff                    NA                                         \n",
       "FNN                   NA                                         \n",
       "forecast              Rcpp (>= 0.11.0), RcppArmadillo (>= 0.2.35)\n",
       "fracdiff              NA                                         \n",
       "GeneralizedHyperbolic NA                                         \n",
       "generics              NA                                         \n",
       "⋮                     ⋮                                          \n",
       "zoo                   NA                                         \n",
       "base                  NA                                         \n",
       "boot                  NA                                         \n",
       "class                 NA                                         \n",
       "cluster               NA                                         \n",
       "codetools             NA                                         \n",
       "compiler              NA                                         \n",
       "datasets              NA                                         \n",
       "foreign               NA                                         \n",
       "graphics              NA                                         \n",
       "grDevices             NA                                         \n",
       "grid                  NA                                         \n",
       "KernSmooth            NA                                         \n",
       "lattice               NA                                         \n",
       "MASS                  NA                                         \n",
       "Matrix                NA                                         \n",
       "methods               NA                                         \n",
       "mgcv                  NA                                         \n",
       "nlme                  NA                                         \n",
       "nnet                  NA                                         \n",
       "parallel              NA                                         \n",
       "rpart                 NA                                         \n",
       "spatial               NA                                         \n",
       "splines               NA                                         \n",
       "stats                 NA                                         \n",
       "stats4                NA                                         \n",
       "survival              NA                                         \n",
       "tcltk                 NA                                         \n",
       "tools                 NA                                         \n",
       "utils                 NA                                         \n",
       "                      Suggests                                                                                                                                                                                                                           \n",
       "ash                   NA                                                                                                                                                                                                                                 \n",
       "base64enc             NA                                                                                                                                                                                                                                 \n",
       "Bessel                gsl, sfsmisc                                                                                                                                                                                                                       \n",
       "bit                   testthat (>= 0.11.0), roxygen2, knitr, rmarkdown,\\nmicrobenchmark, bit64 (>= 4.0.0), ff (>= 4.0.0)                                                                                                                                 \n",
       "bit64                 NA                                                                                                                                                                                                                                 \n",
       "bitops                NA                                                                                                                                                                                                                                 \n",
       "chron                 scales, ggplot2                                                                                                                                                                                                                    \n",
       "cli                   callr, covr, crayon, digest, glue (>= 1.6.0), grDevices,\\nhtmltools, htmlwidgets, knitr, methods, mockery, processx, ps\\n(>= 1.3.4.9000), rlang (>= 1.0.2.9003), rmarkdown, rprojroot,\\nrstudioapi, testthat, tibble, whoami, withr\n",
       "clipr                 covr, knitr, rmarkdown, rstudioapi (>= 0.5), testthat (>=\\n2.0.0)                                                                                                                                                                  \n",
       "colorspace            datasets, utils, KernSmooth, MASS, kernlab, mvtnorm, vcd,\\ntcltk, shiny, shinyjs, ggplot2, dplyr, scales, grid, png, jpeg,\\nknitr, rmarkdown, RColorBrewer, rcartocolor, scico, viridis,\\nwesanderson                              \n",
       "corpcor                                                                                                                                                                                                                                                  \n",
       "cpp11                 bench, brio, callr, cli, covr, decor, desc, ggplot2, glue,\\nknitr, lobstr, mockery, progress, rmarkdown, scales, Rcpp,\\ntestthat, tibble, utils, vctrs, withr                                                                      \n",
       "crayon                mockery, rstudioapi, testthat, withr                                                                                                                                                                                               \n",
       "curl                  spelling, testthat (>= 1.0.0), knitr, jsonlite, rmarkdown,\\nmagrittr, httpuv (>= 1.4.4), webutils                                                                                                                                  \n",
       "deSolve               scatterplot3d, FME                                                                                                                                                                                                                 \n",
       "digest                tinytest, simplermarkdown                                                                                                                                                                                                          \n",
       "DistributionUtils     GeneralizedHyperbolic, VarianceGamma, SkewHyperbolic, RUnit                                                                                                                                                                        \n",
       "ellipsis              covr, testthat                                                                                                                                                                                                                     \n",
       "evaluate              covr, ggplot2, lattice, rlang, testthat (>= 3.0.0), withr                                                                                                                                                                          \n",
       "fansi                 unitizer, knitr, rmarkdown                                                                                                                                                                                                         \n",
       "farver                covr, testthat (>= 3.0.0)                                                                                                                                                                                                          \n",
       "fastmap               testthat (>= 2.1.1)                                                                                                                                                                                                                \n",
       "fda                   rmarkdown, knitr, lattice                                                                                                                                                                                                          \n",
       "fds                   NA                                                                                                                                                                                                                                 \n",
       "ff                    biglm, testthat (>= 0.11.0)                                                                                                                                                                                                        \n",
       "FNN                   chemometrics, mvtnorm                                                                                                                                                                                                              \n",
       "forecast              forecTheta, knitr, methods, rmarkdown, rticles, seasonal,\\ntestthat (>= 3.0.0), uroot                                                                                                                                              \n",
       "fracdiff              longmemo, forecast, urca                                                                                                                                                                                                           \n",
       "GeneralizedHyperbolic VarianceGamma, actuar, SkewHyperbolic, RUnit                                                                                                                                                                                       \n",
       "generics              covr, pkgload, testthat (>= 3.0.0), tibble, withr                                                                                                                                                                                  \n",
       "⋮                     ⋮                                                                                                                                                                                                                                  \n",
       "zoo                   AER, coda, chron, ggplot2 (>= 3.0.0), mondate, scales,\\nstinepack, strucchange, timeDate, timeSeries, tis, tseries, xts                                                                                                            \n",
       "base                  methods                                                                                                                                                                                                                            \n",
       "boot                  MASS, survival                                                                                                                                                                                                                     \n",
       "class                 NA                                                                                                                                                                                                                                 \n",
       "cluster               MASS, Matrix                                                                                                                                                                                                                       \n",
       "codetools             NA                                                                                                                                                                                                                                 \n",
       "compiler              NA                                                                                                                                                                                                                                 \n",
       "datasets              NA                                                                                                                                                                                                                                 \n",
       "foreign               NA                                                                                                                                                                                                                                 \n",
       "graphics              NA                                                                                                                                                                                                                                 \n",
       "grDevices             KernSmooth                                                                                                                                                                                                                         \n",
       "grid                  NA                                                                                                                                                                                                                                 \n",
       "KernSmooth            MASS, carData                                                                                                                                                                                                                      \n",
       "lattice               KernSmooth, MASS, latticeExtra, colorspace                                                                                                                                                                                         \n",
       "MASS                  lattice, nlme, nnet, survival                                                                                                                                                                                                      \n",
       "Matrix                expm, MASS                                                                                                                                                                                                                         \n",
       "methods               codetools                                                                                                                                                                                                                          \n",
       "mgcv                  parallel, survival, MASS                                                                                                                                                                                                           \n",
       "nlme                  Hmisc, MASS, SASmixed                                                                                                                                                                                                              \n",
       "nnet                  MASS                                                                                                                                                                                                                               \n",
       "parallel              methods                                                                                                                                                                                                                            \n",
       "rpart                 survival                                                                                                                                                                                                                           \n",
       "spatial               MASS                                                                                                                                                                                                                               \n",
       "splines               Matrix, methods                                                                                                                                                                                                                    \n",
       "stats                 MASS, Matrix, SuppDists, methods, stats4                                                                                                                                                                                           \n",
       "stats4                NA                                                                                                                                                                                                                                 \n",
       "survival              NA                                                                                                                                                                                                                                 \n",
       "tcltk                 NA                                                                                                                                                                                                                                 \n",
       "tools                 codetools, methods, xml2, curl, commonmark, knitr, xfun,\\nmathjaxr, V8                                                                                                                                                             \n",
       "utils                 methods, xml2, commonmark, knitr                                                                                                                                                                                                   \n",
       "                      Enhances                                                           \n",
       "ash                   NA                                                                 \n",
       "base64enc             png                                                                \n",
       "Bessel                NA                                                                 \n",
       "bit                   NA                                                                 \n",
       "bit64                 NA                                                                 \n",
       "bitops                NA                                                                 \n",
       "chron                 zoo                                                                \n",
       "cli                   NA                                                                 \n",
       "clipr                 NA                                                                 \n",
       "colorspace            NA                                                                 \n",
       "corpcor               NA                                                                 \n",
       "cpp11                 NA                                                                 \n",
       "crayon                NA                                                                 \n",
       "curl                  NA                                                                 \n",
       "deSolve               NA                                                                 \n",
       "digest                NA                                                                 \n",
       "DistributionUtils     NA                                                                 \n",
       "ellipsis              NA                                                                 \n",
       "evaluate              NA                                                                 \n",
       "fansi                 NA                                                                 \n",
       "farver                NA                                                                 \n",
       "fastmap               NA                                                                 \n",
       "fda                   NA                                                                 \n",
       "fds                   NA                                                                 \n",
       "ff                    NA                                                                 \n",
       "FNN                   NA                                                                 \n",
       "forecast              NA                                                                 \n",
       "fracdiff              NA                                                                 \n",
       "GeneralizedHyperbolic NA                                                                 \n",
       "generics              NA                                                                 \n",
       "⋮                     ⋮                                                                  \n",
       "zoo                   NA                                                                 \n",
       "base                  NA                                                                 \n",
       "boot                  NA                                                                 \n",
       "class                 NA                                                                 \n",
       "cluster               NA                                                                 \n",
       "codetools             NA                                                                 \n",
       "compiler              NA                                                                 \n",
       "datasets              NA                                                                 \n",
       "foreign               NA                                                                 \n",
       "graphics              NA                                                                 \n",
       "grDevices             NA                                                                 \n",
       "grid                  NA                                                                 \n",
       "KernSmooth            NA                                                                 \n",
       "lattice               chron                                                              \n",
       "MASS                  NA                                                                 \n",
       "Matrix                MatrixModels, graph, SparseM, sfsmisc, igraph, maptools, sp,\\nspdep\n",
       "methods               NA                                                                 \n",
       "mgcv                  NA                                                                 \n",
       "nlme                  NA                                                                 \n",
       "nnet                  NA                                                                 \n",
       "parallel              snow, Rmpi                                                         \n",
       "rpart                 NA                                                                 \n",
       "spatial               NA                                                                 \n",
       "splines               NA                                                                 \n",
       "stats                 NA                                                                 \n",
       "stats4                NA                                                                 \n",
       "survival              NA                                                                 \n",
       "tcltk                 NA                                                                 \n",
       "tools                 NA                                                                 \n",
       "utils                 NA                                                                 \n",
       "                      License                      License_is_FOSS\n",
       "ash                   GPL (>= 2)                   NA             \n",
       "base64enc             GPL-2 | GPL-3                NA             \n",
       "Bessel                GPL (>= 2)                   NA             \n",
       "bit                   GPL-2 | GPL-3                NA             \n",
       "bit64                 GPL-2 | GPL-3                NA             \n",
       "bitops                GPL (>= 2)                   NA             \n",
       "chron                 GPL-2                        NA             \n",
       "cli                   MIT + file LICENSE           NA             \n",
       "clipr                 GPL-3                        NA             \n",
       "colorspace            BSD_3_clause + file LICENSE  NA             \n",
       "corpcor               GPL (>= 3)                   NA             \n",
       "cpp11                 MIT + file LICENSE           NA             \n",
       "crayon                MIT + file LICENSE           NA             \n",
       "curl                  MIT + file LICENSE           NA             \n",
       "deSolve               GPL (>= 2)                   NA             \n",
       "digest                GPL (>= 2)                   NA             \n",
       "DistributionUtils     GPL (>= 2)                   NA             \n",
       "ellipsis              MIT + file LICENSE           NA             \n",
       "evaluate              MIT + file LICENSE           NA             \n",
       "fansi                 GPL-2 | GPL-3                NA             \n",
       "farver                MIT + file LICENSE           NA             \n",
       "fastmap               MIT + file LICENSE           NA             \n",
       "fda                   GPL (>= 2)                   NA             \n",
       "fds                   GPL (>= 2)                   NA             \n",
       "ff                    GPL-2 | GPL-3 | file LICENSE NA             \n",
       "FNN                   GPL (>= 2)                   NA             \n",
       "forecast              GPL-3                        NA             \n",
       "fracdiff              GPL (>= 2)                   NA             \n",
       "GeneralizedHyperbolic GPL (>= 2)                   NA             \n",
       "generics              MIT + file LICENSE           NA             \n",
       "⋮                     ⋮                            ⋮              \n",
       "zoo                   GPL-2 | GPL-3                NA             \n",
       "base                  Part of R 4.3.0              NA             \n",
       "boot                  Unlimited                    NA             \n",
       "class                 GPL-2 | GPL-3                NA             \n",
       "cluster               GPL (>= 2)                   NA             \n",
       "codetools             GPL                          NA             \n",
       "compiler              Part of R 4.3.0              NA             \n",
       "datasets              Part of R 4.3.0              NA             \n",
       "foreign               GPL (>= 2)                   NA             \n",
       "graphics              Part of R 4.3.0              NA             \n",
       "grDevices             Part of R 4.3.0              NA             \n",
       "grid                  Part of R 4.3.0              NA             \n",
       "KernSmooth            Unlimited                    NA             \n",
       "lattice               GPL (>= 2)                   NA             \n",
       "MASS                  GPL-2 | GPL-3                NA             \n",
       "Matrix                GPL (>= 2) | file LICENCE    NA             \n",
       "methods               Part of R 4.3.0              NA             \n",
       "mgcv                  GPL (>= 2)                   NA             \n",
       "nlme                  GPL (>= 2)                   NA             \n",
       "nnet                  GPL-2 | GPL-3                NA             \n",
       "parallel              Part of R 4.3.0              NA             \n",
       "rpart                 GPL-2 | GPL-3                NA             \n",
       "spatial               GPL-2 | GPL-3                NA             \n",
       "splines               Part of R 4.3.0              NA             \n",
       "stats                 Part of R 4.3.0              NA             \n",
       "stats4                Part of R 4.3.0              NA             \n",
       "survival              LGPL (>= 2)                  NA             \n",
       "tcltk                 Part of R 4.3.0              NA             \n",
       "tools                 Part of R 4.3.0              NA             \n",
       "utils                 Part of R 4.3.0              NA             \n",
       "                      License_restricts_use OS_type MD5sum NeedsCompilation\n",
       "ash                   NA                    NA      NA     yes             \n",
       "base64enc             NA                    NA      NA     yes             \n",
       "Bessel                NA                    NA      NA     yes             \n",
       "bit                   NA                    NA      NA     yes             \n",
       "bit64                 NA                    NA      NA     yes             \n",
       "bitops                NA                    NA      NA     yes             \n",
       "chron                 NA                    NA      NA     yes             \n",
       "cli                   NA                    NA      NA     yes             \n",
       "clipr                 NA                    NA      NA     no              \n",
       "colorspace            NA                    NA      NA     yes             \n",
       "corpcor               NA                    NA      NA     no              \n",
       "cpp11                 NA                    NA      NA     no              \n",
       "crayon                NA                    NA      NA     no              \n",
       "curl                  NA                    NA      NA     yes             \n",
       "deSolve               NA                    NA      NA     yes             \n",
       "digest                NA                    NA      NA     yes             \n",
       "DistributionUtils     NA                    NA      NA     yes             \n",
       "ellipsis              NA                    NA      NA     yes             \n",
       "evaluate              NA                    NA      NA     no              \n",
       "fansi                 NA                    NA      NA     yes             \n",
       "farver                NA                    NA      NA     yes             \n",
       "fastmap               NA                    NA      NA     yes             \n",
       "fda                   NA                    NA      NA     yes             \n",
       "fds                   NA                    NA      NA     no              \n",
       "ff                    NA                    NA      NA     yes             \n",
       "FNN                   NA                    NA      NA     yes             \n",
       "forecast              NA                    NA      NA     yes             \n",
       "fracdiff              NA                    NA      NA     yes             \n",
       "GeneralizedHyperbolic NA                    NA      NA     no              \n",
       "generics              NA                    NA      NA     no              \n",
       "⋮                     ⋮                     ⋮       ⋮      ⋮               \n",
       "zoo                   NA                    NA      NA     yes             \n",
       "base                  NA                    NA      NA     NA              \n",
       "boot                  NA                    NA      NA     no              \n",
       "class                 NA                    NA      NA     yes             \n",
       "cluster               NA                    NA      NA     yes             \n",
       "codetools             NA                    NA      NA     no              \n",
       "compiler              NA                    NA      NA     NA              \n",
       "datasets              NA                    NA      NA     NA              \n",
       "foreign               NA                    NA      NA     yes             \n",
       "graphics              NA                    NA      NA     yes             \n",
       "grDevices             NA                    NA      NA     yes             \n",
       "grid                  NA                    NA      NA     yes             \n",
       "KernSmooth            NA                    NA      NA     yes             \n",
       "lattice               NA                    NA      NA     yes             \n",
       "MASS                  NA                    NA      NA     yes             \n",
       "Matrix                NA                    NA      NA     yes             \n",
       "methods               NA                    NA      NA     yes             \n",
       "mgcv                  NA                    NA      NA     yes             \n",
       "nlme                  NA                    NA      NA     yes             \n",
       "nnet                  NA                    NA      NA     yes             \n",
       "parallel              NA                    NA      NA     yes             \n",
       "rpart                 NA                    NA      NA     yes             \n",
       "spatial               NA                    NA      NA     yes             \n",
       "splines               NA                    NA      NA     yes             \n",
       "stats                 NA                    NA      NA     yes             \n",
       "stats4                NA                    NA      NA     NA              \n",
       "survival              NA                    NA      NA     yes             \n",
       "tcltk                 NA                    NA      NA     yes             \n",
       "tools                 NA                    NA      NA     yes             \n",
       "utils                 NA                    NA      NA     yes             \n",
       "                      Built\n",
       "ash                   4.3.0\n",
       "base64enc             4.3.0\n",
       "Bessel                4.3.0\n",
       "bit                   4.3.0\n",
       "bit64                 4.3.0\n",
       "bitops                4.3.0\n",
       "chron                 4.3.0\n",
       "cli                   4.3.0\n",
       "clipr                 4.3.0\n",
       "colorspace            4.3.0\n",
       "corpcor               4.3.0\n",
       "cpp11                 4.3.0\n",
       "crayon                4.3.0\n",
       "curl                  4.3.0\n",
       "deSolve               4.3.0\n",
       "digest                4.3.0\n",
       "DistributionUtils     4.3.0\n",
       "ellipsis              4.3.0\n",
       "evaluate              4.3.0\n",
       "fansi                 4.3.0\n",
       "farver                4.3.0\n",
       "fastmap               4.3.0\n",
       "fda                   4.3.0\n",
       "fds                   4.3.0\n",
       "ff                    4.3.0\n",
       "FNN                   4.3.0\n",
       "forecast              4.3.0\n",
       "fracdiff              4.3.0\n",
       "GeneralizedHyperbolic 4.3.0\n",
       "generics              4.3.0\n",
       "⋮                     ⋮    \n",
       "zoo                   4.3.0\n",
       "base                  4.3.0\n",
       "boot                  4.0.5\n",
       "class                 4.2.2\n",
       "cluster               4.2.1\n",
       "codetools             4.2.2\n",
       "compiler              4.3.0\n",
       "datasets              4.3.0\n",
       "foreign               4.1.2\n",
       "graphics              4.3.0\n",
       "grDevices             4.3.0\n",
       "grid                  4.3.0\n",
       "KernSmooth            4.0.5\n",
       "lattice               4.3.0\n",
       "MASS                  4.3.0\n",
       "Matrix                4.2.1\n",
       "methods               4.3.0\n",
       "mgcv                  4.2.3\n",
       "nlme                  4.2.2\n",
       "nnet                  4.2.1\n",
       "parallel              4.3.0\n",
       "rpart                 4.2.1\n",
       "spatial               4.0.0\n",
       "splines               4.3.0\n",
       "stats                 4.3.0\n",
       "stats4                4.3.0\n",
       "survival              4.2.3\n",
       "tcltk                 4.3.0\n",
       "tools                 4.3.0\n",
       "utils                 4.3.0"
      ]
     },
     "metadata": {},
     "output_type": "display_data"
    }
   ],
   "source": [
    "installed.packages()"
   ]
  },
  {
   "cell_type": "markdown",
   "metadata": {
    "id": "GuYlyD79KD-y"
   },
   "source": [
    "For instance, we want the following packages:\n",
    "\n",
    "- *forecast*: For forecasting with time series models.\n",
    "- *readr*: For a quick function to read CSV files.\n",
    "- *ggplot2*: R's main plotting library (apparently).\n",
    "- *vcd*: A library for categorical variables plotting.\n",
    "\n",
    "One of the issues with R is how slow its package installs are. The CRAN repository, from which the R packages are usually downloaded and installed, is more complicated than PyPi. On top of downloading, checking for dependencies, and extracting files, R needs to compile the newly downloaded package (using C apparently). \n",
    "\n",
    "In the next cell, we assign 2 CPU cores to make the compilations faster, and we install the packes above as follows:"
   ]
  },
  {
   "cell_type": "code",
   "execution_count": 7,
   "metadata": {
    "colab": {
     "base_uri": "https://localhost:8080/",
     "height": 191
    },
    "id": "_SWEJlm7Hath",
    "outputId": "4a822dc8-2ffc-4805-cfe6-01496d832bb5"
   },
   "outputs": [
    {
     "name": "stdout",
     "output_type": "stream",
     "text": [
      "Cores available:\n"
     ]
    },
    {
     "data": {
      "text/html": [
       "8"
      ],
      "text/latex": [
       "8"
      ],
      "text/markdown": [
       "8"
      ],
      "text/plain": [
       "[1] 8"
      ]
     },
     "metadata": {},
     "output_type": "display_data"
    },
    {
     "name": "stdout",
     "output_type": "stream",
     "text": [
      "Allocating 2 CPU cores...\n",
      "Installing 'forecast', 'dplyr', 'vcd', 'readr', 'ggplot2', 'googledrive',...\n"
     ]
    },
    {
     "name": "stderr",
     "output_type": "stream",
     "text": [
      "Installing packages into ‘/usr/local/lib/R/site-library’\n",
      "(as ‘lib’ is unspecified)\n",
      "\n",
      "also installing the dependencies ‘sys’, ‘askpass’, ‘fs’, ‘openssl’, ‘rappdirs’, ‘mime’, ‘gargle’, ‘httr’, ‘purrr’\n",
      "\n",
      "\n"
     ]
    }
   ],
   "source": [
    "# Detect no. of CPUs\n",
    "cat(\"Cores available:\\n\")\n",
    "parallel::detectCores()\n",
    "\n",
    "# Switch to 2 cores\n",
    "## https://www.r-bloggers.com/2017/11/speeding-up-package-installation-3/\n",
    "cat(\"Allocating 2 CPU cores...\\n\")\n",
    "options(Ncpus = 2)\n",
    "\n",
    "# Install packages \n",
    "## https://www.r-bloggers.com/2017/11/speeding-up-package-installation-3/\n",
    "cat(\"Installing \\'forecast\\', \\'dplyr\\', \\'vcd\\', \\'readr\\', \\'ggplot2\\', \\'googledrive\\',...\\n\")\n",
    "install.packages(c('forecast', 'dplyr','readr', 'vcd', 'ggplot2', 'googledrive'))"
   ]
  },
  {
   "cell_type": "markdown",
   "metadata": {
    "id": "0zT6alxhO3op"
   },
   "source": [
    "Installing these 4 packages took 5 minutes. It's still pretty long with only 2 cores.\n",
    "\n",
    "To get help on a package, we use the following command:"
   ]
  },
  {
   "cell_type": "code",
   "execution_count": 8,
   "metadata": {
    "collapsed": true,
    "id": "PyLZ40iwPCdJ",
    "jupyter": {
     "outputs_hidden": true
    },
    "tags": []
   },
   "outputs": [
    {
     "data": {
      "text/plain": [
       "Documentation for package ‘ggplot2’\n",
       "\n",
       "\n",
       "\t\tInformation on package ‘ggplot2’\n",
       "\n",
       "Description:\n",
       "\n",
       "Package:                   ggplot2\n",
       "Version:                   3.4.2\n",
       "Title:                     Create Elegant Data Visualisations Using the\n",
       "                           Grammar of Graphics\n",
       "Authors@R:                 c( person(\"Hadley\", \"Wickham\", ,\n",
       "                           \"hadley@posit.co\", role = \"aut\", comment =\n",
       "                           c(ORCID = \"0000-0003-4757-117X\")),\n",
       "                           person(\"Winston\", \"Chang\", role = \"aut\",\n",
       "                           comment = c(ORCID = \"0000-0002-1576-2126\")),\n",
       "                           person(\"Lionel\", \"Henry\", role = \"aut\"),\n",
       "                           person(\"Thomas Lin\", \"Pedersen\", ,\n",
       "                           \"thomas.pedersen@posit.co\", role = c(\"aut\",\n",
       "                           \"cre\"), comment = c(ORCID =\n",
       "                           \"0000-0002-5147-4711\")), person(\"Kohske\",\n",
       "                           \"Takahashi\", role = \"aut\"), person(\"Claus\",\n",
       "                           \"Wilke\", role = \"aut\", comment = c(ORCID =\n",
       "                           \"0000-0002-7470-9261\")), person(\"Kara\",\n",
       "                           \"Woo\", role = \"aut\", comment = c(ORCID =\n",
       "                           \"0000-0002-5125-4188\")), person(\"Hiroaki\",\n",
       "                           \"Yutani\", role = \"aut\", comment = c(ORCID =\n",
       "                           \"0000-0002-3385-7233\")), person(\"Dewey\",\n",
       "                           \"Dunnington\", role = \"aut\", comment =\n",
       "                           c(ORCID = \"0000-0002-9415-4582\")),\n",
       "                           person(\"Posit, PBC\", role = c(\"cph\", \"fnd\"))\n",
       "                           )\n",
       "Description:               A system for 'declaratively' creating\n",
       "                           graphics, based on \"The Grammar of\n",
       "                           Graphics\". You provide the data, tell\n",
       "                           'ggplot2' how to map variables to\n",
       "                           aesthetics, what graphical primitives to\n",
       "                           use, and it takes care of the details.\n",
       "License:                   MIT + file LICENSE\n",
       "URL:                       https://ggplot2.tidyverse.org,\n",
       "                           https://github.com/tidyverse/ggplot2\n",
       "BugReports:                https://github.com/tidyverse/ggplot2/issues\n",
       "Depends:                   R (>= 3.3)\n",
       "Imports:                   cli, glue, grDevices, grid, gtable (>=\n",
       "                           0.1.1), isoband, lifecycle (> 1.0.1), MASS,\n",
       "                           mgcv, rlang (>= 1.1.0), scales (>= 1.2.0),\n",
       "                           stats, tibble, vctrs (>= 0.5.0), withr (>=\n",
       "                           2.5.0)\n",
       "Suggests:                  covr, dplyr, ggplot2movies, hexbin, Hmisc,\n",
       "                           knitr, lattice, mapproj, maps, maptools,\n",
       "                           multcomp, munsell, nlme, profvis, quantreg,\n",
       "                           ragg, RColorBrewer, rgeos, rmarkdown, rpart,\n",
       "                           sf (>= 0.7-3), svglite (>= 1.2.0.9001),\n",
       "                           testthat (>= 3.1.2), vdiffr (>= 1.0.0), xml2\n",
       "Enhances:                  sp\n",
       "VignetteBuilder:           knitr\n",
       "Config/Needs/website:      ggtext, tidyr, forcats,\n",
       "                           tidyverse/tidytemplate\n",
       "Config/testthat/edition:   3\n",
       "Encoding:                  UTF-8\n",
       "LazyData:                  true\n",
       "RoxygenNote:               7.2.3\n",
       "Collate:                   'ggproto.R' 'ggplot-global.R' 'aaa-.R'\n",
       "                           'aes-colour-fill-alpha.R' 'aes-evaluation.R'\n",
       "                           'aes-group-order.R'\n",
       "                           'aes-linetype-size-shape.R' 'aes-position.R'\n",
       "                           'compat-plyr.R' 'utilities.R' 'aes.R'\n",
       "                           'utilities-checks.R' 'legend-draw.R'\n",
       "                           'geom-.R' 'annotation-custom.R'\n",
       "                           'annotation-logticks.R' 'geom-polygon.R'\n",
       "                           'geom-map.R' 'annotation-map.R'\n",
       "                           'geom-raster.R' 'annotation-raster.R'\n",
       "                           'annotation.R' 'autolayer.R' 'autoplot.R'\n",
       "                           'axis-secondary.R' 'backports.R' 'bench.R'\n",
       "                           'bin.R' 'coord-.R' 'coord-cartesian-.R'\n",
       "                           'coord-fixed.R' 'coord-flip.R' 'coord-map.R'\n",
       "                           'coord-munch.R' 'coord-polar.R'\n",
       "                           'coord-quickmap.R' 'coord-sf.R'\n",
       "                           'coord-transform.R' 'data.R' 'facet-.R'\n",
       "                           'facet-grid-.R' 'facet-null.R'\n",
       "                           'facet-wrap.R' 'fortify-lm.R'\n",
       "                           'fortify-map.R' 'fortify-multcomp.R'\n",
       "                           'fortify-spatial.R' 'fortify.R' 'stat-.R'\n",
       "                           'geom-abline.R' 'geom-rect.R' 'geom-bar.R'\n",
       "                           'geom-bin2d.R' 'geom-blank.R'\n",
       "                           'geom-boxplot.R' 'geom-col.R' 'geom-path.R'\n",
       "                           'geom-contour.R' 'geom-count.R'\n",
       "                           'geom-crossbar.R' 'geom-segment.R'\n",
       "                           'geom-curve.R' 'geom-defaults.R'\n",
       "                           'geom-ribbon.R' 'geom-density.R'\n",
       "                           'geom-density2d.R' 'geom-dotplot.R'\n",
       "                           'geom-errorbar.R' 'geom-errorbarh.R'\n",
       "                           'geom-freqpoly.R' 'geom-function.R'\n",
       "                           'geom-hex.R' 'geom-histogram.R'\n",
       "                           'geom-hline.R' 'geom-jitter.R'\n",
       "                           'geom-label.R' 'geom-linerange.R'\n",
       "                           'geom-point.R' 'geom-pointrange.R'\n",
       "                           'geom-quantile.R' 'geom-rug.R' 'geom-sf.R'\n",
       "                           'geom-smooth.R' 'geom-spoke.R' 'geom-text.R'\n",
       "                           'geom-tile.R' 'geom-violin.R' 'geom-vline.R'\n",
       "                           'ggplot2-package.R' 'grob-absolute.R'\n",
       "                           'grob-dotstack.R' 'grob-null.R' 'grouping.R'\n",
       "                           'guide-bins.R' 'guide-colorbar.R'\n",
       "                           'guide-colorsteps.R' 'guide-legend.R'\n",
       "                           'guides-.R' 'guides-axis.R' 'guides-grid.R'\n",
       "                           'guides-none.R' 'hexbin.R'\n",
       "                           'import-standalone-obj-type.R'\n",
       "                           'import-standalone-types-check.R'\n",
       "                           'labeller.R' 'labels.R' 'layer.R'\n",
       "                           'layer-sf.R' 'layout.R' 'limits.R'\n",
       "                           'margins.R' 'performance.R' 'plot-build.R'\n",
       "                           'plot-construction.R' 'plot-last.R' 'plot.R'\n",
       "                           'position-.R' 'position-collide.R'\n",
       "                           'position-dodge.R' 'position-dodge2.R'\n",
       "                           'position-identity.R' 'position-jitter.R'\n",
       "                           'position-jitterdodge.R' 'position-nudge.R'\n",
       "                           'position-stack.R' 'quick-plot.R'\n",
       "                           'reshape-add-margins.R' 'save.R' 'scale-.R'\n",
       "                           'scale-alpha.R' 'scale-binned.R'\n",
       "                           'scale-brewer.R' 'scale-colour.R'\n",
       "                           'scale-continuous.R' 'scale-date.R'\n",
       "                           'scale-discrete-.R' 'scale-expansion.R'\n",
       "                           'scale-gradient.R' 'scale-grey.R'\n",
       "                           'scale-hue.R' 'scale-identity.R'\n",
       "                           'scale-linetype.R' 'scale-linewidth.R'\n",
       "                           'scale-manual.R' 'scale-shape.R'\n",
       "                           'scale-size.R' 'scale-steps.R'\n",
       "                           'scale-type.R' 'scale-view.R'\n",
       "                           'scale-viridis.R' 'scales-.R' 'stat-align.R'\n",
       "                           'stat-bin.R' 'stat-bin2d.R' 'stat-bindot.R'\n",
       "                           'stat-binhex.R' 'stat-boxplot.R'\n",
       "                           'stat-contour.R' 'stat-count.R'\n",
       "                           'stat-density-2d.R' 'stat-density.R'\n",
       "                           'stat-ecdf.R' 'stat-ellipse.R'\n",
       "                           'stat-function.R' 'stat-identity.R'\n",
       "                           'stat-qq-line.R' 'stat-qq.R'\n",
       "                           'stat-quantilemethods.R'\n",
       "                           'stat-sf-coordinates.R' 'stat-sf.R'\n",
       "                           'stat-smooth-methods.R' 'stat-smooth.R'\n",
       "                           'stat-sum.R' 'stat-summary-2d.R'\n",
       "                           'stat-summary-bin.R' 'stat-summary-hex.R'\n",
       "                           'stat-summary.R' 'stat-unique.R'\n",
       "                           'stat-ydensity.R' 'summarise-plot.R'\n",
       "                           'summary.R' 'theme-elements.R' 'theme.R'\n",
       "                           'theme-defaults.R' 'theme-current.R'\n",
       "                           'utilities-break.R' 'utilities-grid.R'\n",
       "                           'utilities-help.R' 'utilities-matrix.R'\n",
       "                           'utilities-resolution.R' 'utilities-table.R'\n",
       "                           'utilities-tidy-eval.R' 'zxx.R' 'zzz.R'\n",
       "NeedsCompilation:          no\n",
       "Packaged:                  2023-03-31 08:04:34 UTC; thomas\n",
       "Author:                    Hadley Wickham [aut]\n",
       "                           (<https://orcid.org/0000-0003-4757-117X>),\n",
       "                           Winston Chang [aut]\n",
       "                           (<https://orcid.org/0000-0002-1576-2126>),\n",
       "                           Lionel Henry [aut], Thomas Lin Pedersen\n",
       "                           [aut, cre]\n",
       "                           (<https://orcid.org/0000-0002-5147-4711>),\n",
       "                           Kohske Takahashi [aut], Claus Wilke [aut]\n",
       "                           (<https://orcid.org/0000-0002-7470-9261>),\n",
       "                           Kara Woo [aut]\n",
       "                           (<https://orcid.org/0000-0002-5125-4188>),\n",
       "                           Hiroaki Yutani [aut]\n",
       "                           (<https://orcid.org/0000-0002-3385-7233>),\n",
       "                           Dewey Dunnington [aut]\n",
       "                           (<https://orcid.org/0000-0002-9415-4582>),\n",
       "                           Posit, PBC [cph, fnd]\n",
       "Maintainer:                Thomas Lin Pedersen\n",
       "                           <thomas.pedersen@posit.co>\n",
       "Repository:                CRAN\n",
       "Date/Publication:          2023-04-03 14:10:02 UTC\n",
       "Built:                     R 4.3.0; ; 2023-05-31 23:11:02 UTC; unix\n",
       "\n",
       "Index:\n",
       "\n",
       "+.gg                    Add components to a plot\n",
       "CoordSf                 Visualise sf objects\n",
       "aes                     Construct aesthetic mappings\n",
       "aes_colour_fill_alpha   Colour related aesthetics: colour, fill, and\n",
       "                        alpha\n",
       "aes_eval                Control aesthetic evaluation\n",
       "aes_group_order         Aesthetics: grouping\n",
       "aes_linetype_size_shape\n",
       "                        Differentiation related aesthetics: linetype,\n",
       "                        size, shape\n",
       "aes_position            Position related aesthetics: x, y, xmin, xmax,\n",
       "                        ymin, ymax, xend, yend\n",
       "annotate                Create an annotation layer\n",
       "annotation_custom       Annotation: Custom grob\n",
       "annotation_logticks     Annotation: log tick marks\n",
       "annotation_map          Annotation: a map\n",
       "annotation_raster       Annotation: high-performance rectangular tiling\n",
       "autolayer               Create a ggplot layer appropriate to a\n",
       "                        particular data type\n",
       "autoplot                Create a complete ggplot appropriate to a\n",
       "                        particular data type\n",
       "borders                 Create a layer of map borders\n",
       "coord_cartesian         Cartesian coordinates\n",
       "coord_fixed             Cartesian coordinates with fixed \"aspect ratio\"\n",
       "coord_flip              Cartesian coordinates with x and y flipped\n",
       "coord_map               Map projections\n",
       "coord_polar             Polar coordinates\n",
       "coord_trans             Transformed Cartesian coordinate system\n",
       "cut_interval            Discretise numeric data into categorical\n",
       "diamonds                Prices of over 50,000 round cut diamonds\n",
       "draw_key                Key glyphs for legends\n",
       "economics               US economic time series\n",
       "expand_limits           Expand the plot limits, using data\n",
       "expansion               Generate expansion vector for scales\n",
       "facet_grid              Lay out panels in a grid\n",
       "facet_wrap              Wrap a 1d ribbon of panels into 2d\n",
       "faithfuld               2d density estimate of Old Faithful data\n",
       "fortify                 Fortify a model with data.\n",
       "geom_abline             Reference lines: horizontal, vertical, and\n",
       "                        diagonal\n",
       "geom_bar                Bar charts\n",
       "geom_bin_2d             Heatmap of 2d bin counts\n",
       "geom_blank              Draw nothing\n",
       "geom_boxplot            A box and whiskers plot (in the style of Tukey)\n",
       "geom_contour            2D contours of a 3D surface\n",
       "geom_count              Count overlapping points\n",
       "geom_crossbar           Vertical intervals: lines, crossbars &\n",
       "                        errorbars\n",
       "geom_density            Smoothed density estimates\n",
       "geom_density_2d         Contours of a 2D density estimate\n",
       "geom_dotplot            Dot plot\n",
       "geom_errorbarh          Horizontal error bars\n",
       "geom_freqpoly           Histograms and frequency polygons\n",
       "geom_function           Draw a function as a continuous curve\n",
       "geom_hex                Hexagonal heatmap of 2d bin counts\n",
       "geom_jitter             Jittered points\n",
       "geom_label              Text\n",
       "geom_map                Polygons from a reference map\n",
       "geom_path               Connect observations\n",
       "geom_point              Points\n",
       "geom_polygon            Polygons\n",
       "geom_qq_line            A quantile-quantile plot\n",
       "geom_quantile           Quantile regression\n",
       "geom_raster             Rectangles\n",
       "geom_ribbon             Ribbons and area plots\n",
       "geom_rug                Rug plots in the margins\n",
       "geom_segment            Line segments and curves\n",
       "geom_smooth             Smoothed conditional means\n",
       "geom_spoke              Line segments parameterised by location,\n",
       "                        direction and distance\n",
       "geom_violin             Violin plot\n",
       "get_alt_text            Extract alt text from a plot\n",
       "ggplot                  Create a new ggplot\n",
       "ggproto                 Create a new ggproto object\n",
       "ggsave                  Save a ggplot (or other grid object) with\n",
       "                        sensible defaults\n",
       "guide_axis              Axis guide\n",
       "guide_bins              A binned version of guide_legend\n",
       "guide_colourbar         Continuous colour bar guide\n",
       "guide_coloursteps       Discretized colourbar guide\n",
       "guide_legend            Legend guide\n",
       "guide_none              Empty guide\n",
       "guides                  Set guides for each scale\n",
       "hmisc                   A selection of summary functions from Hmisc\n",
       "label_bquote            Label with mathematical expressions\n",
       "labeller                Construct labelling specification\n",
       "labellers               Useful labeller functions\n",
       "labs                    Modify axis, legend, and plot labels\n",
       "lims                    Set scale limits\n",
       "luv_colours             'colors()' in Luv space\n",
       "margin                  Theme elements\n",
       "mean_se                 Calculate mean and standard error of the mean\n",
       "midwest                 Midwest demographics\n",
       "mpg                     Fuel economy data from 1999 to 2008 for 38\n",
       "                        popular models of cars\n",
       "msleep                  An updated and expanded version of the mammals\n",
       "                        sleep dataset\n",
       "position_dodge          Dodge overlapping objects side-to-side\n",
       "position_identity       Don't adjust position\n",
       "position_jitter         Jitter points to avoid overplotting\n",
       "position_jitterdodge    Simultaneously dodge and jitter\n",
       "position_nudge          Nudge points a fixed distance\n",
       "position_stack          Stack overlapping objects on top of each\n",
       "                        another\n",
       "presidential            Terms of 12 presidents from Eisenhower to Trump\n",
       "print.ggplot            Explicitly draw plot\n",
       "print.ggproto           Format or print a ggproto object\n",
       "qplot                   Quick plot\n",
       "resolution              Compute the \"resolution\" of a numeric vector\n",
       "scale_alpha             Alpha transparency scales\n",
       "scale_colour_brewer     Sequential, diverging and qualitative colour\n",
       "                        scales from ColorBrewer\n",
       "scale_colour_continuous\n",
       "                        Continuous and binned colour scales\n",
       "scale_colour_discrete   Discrete colour scales\n",
       "scale_colour_gradient   Gradient colour scales\n",
       "scale_colour_grey       Sequential grey colour scales\n",
       "scale_colour_hue        Evenly spaced colours for discrete data\n",
       "scale_colour_identity   Use values without scaling\n",
       "scale_colour_manual     Create your own discrete scale\n",
       "scale_colour_steps      Binned gradient colour scales\n",
       "scale_colour_viridis_d\n",
       "                        Viridis colour scales from viridisLite\n",
       "scale_linetype          Scale for line patterns\n",
       "scale_linewidth         Scales for line width\n",
       "scale_shape             Scales for shapes, aka glyphs\n",
       "scale_size              Scales for area or radius\n",
       "scale_x_binned          Positional scales for binning continuous data\n",
       "                        (x & y)\n",
       "scale_x_continuous      Position scales for continuous data (x & y)\n",
       "scale_x_date            Position scales for date/time data\n",
       "scale_x_discrete        Position scales for discrete data\n",
       "seals                   Vector field of seal movements\n",
       "sec_axis                Specify a secondary axis\n",
       "stat_ecdf               Compute empirical cumulative distribution\n",
       "stat_ellipse            Compute normal data ellipses\n",
       "stat_identity           Leave data as is\n",
       "stat_sf_coordinates     Extract coordinates from 'sf' objects\n",
       "stat_summary_2d         Bin and summarise in 2d (rectangle & hexagons)\n",
       "stat_summary_bin        Summarise y values at unique/binned x\n",
       "stat_unique             Remove duplicates\n",
       "theme                   Modify components of a theme\n",
       "theme_get               Get, set, and modify the active theme\n",
       "theme_grey              Complete themes\n",
       "txhousing               Housing sales in TX\n",
       "vars                    Quote faceting variables\n",
       "\n",
       "Further information is available in the following vignettes in\n",
       "directory ‘/usr/local/lib/R/site-library/ggplot2/doc’:\n",
       "\n",
       "extending-ggplot2: Extending ggplot2 (source, pdf)\n",
       "ggplot2-in-packages: Using ggplot2 in packages (source, pdf)\n",
       "ggplot2-specs: Aesthetic specifications (source, pdf)"
      ]
     },
     "metadata": {},
     "output_type": "display_data"
    }
   ],
   "source": [
    "help(package = \"ggplot2\")"
   ]
  },
  {
   "cell_type": "markdown",
   "metadata": {
    "id": "T_4JTFcLPfcZ"
   },
   "source": [
    "Unlike the usual Python and Matlab consoles, asking for package help opens a help file outside the console. Colab opned a \"Help file\" on the right when I executed the previous cell. In Jupyterlab it just prints the file content as the cell output.\n",
    "\n",
    "In general, for functions/objects help, one can use the \"?\" prefix as shorthand:"
   ]
  },
  {
   "cell_type": "code",
   "execution_count": null,
   "metadata": {
    "id": "YzWsN3jVQuNZ"
   },
   "outputs": [],
   "source": [
    "?pi"
   ]
  },
  {
   "cell_type": "markdown",
   "metadata": {
    "id": "k8NK2lwBQ7rN"
   },
   "source": [
    "for a package we use the \"??\" prefix:"
   ]
  },
  {
   "cell_type": "code",
   "execution_count": null,
   "metadata": {
    "id": "qV9dO0ggQf0v"
   },
   "outputs": [],
   "source": [
    "??ggplot2"
   ]
  },
  {
   "cell_type": "markdown",
   "metadata": {
    "id": "XZlCaMItPDJN"
   },
   "source": [
    "To include a package in a script, we use *library(**package_name**)*, where *package_name* is without the quotation marks this time. See the example in sec. 1.c below.\n",
    "\n",
    "**Question:** How do I display the help in the console?"
   ]
  },
  {
   "cell_type": "markdown",
   "metadata": {
    "id": "EnwIGJMyMuMU"
   },
   "source": [
    "### 1.b - Workspaces"
   ]
  },
  {
   "cell_type": "markdown",
   "metadata": {
    "id": "mbZIGENuSccH"
   },
   "source": [
    "From Sec.1.3.4 in Kabacoff.\n",
    "\n",
    "The workspace in R is the entire work environment, including the variables and their values. As usual, there is a current working directory, from which R reads and in which it saves files. In Colab, it is the following default:"
   ]
  },
  {
   "cell_type": "code",
   "execution_count": null,
   "metadata": {
    "colab": {
     "base_uri": "https://localhost:8080/",
     "height": 34
    },
    "id": "fODlUjQhM0Le",
    "outputId": "1b5cb48d-847d-4145-8383-c05b1799185d"
   },
   "outputs": [
    {
     "data": {
      "text/html": [
       "'/content'"
      ],
      "text/latex": [
       "'/content'"
      ],
      "text/markdown": [
       "'/content'"
      ],
      "text/plain": [
       "[1] \"/content\""
      ]
     },
     "metadata": {},
     "output_type": "display_data"
    }
   ],
   "source": [
    "# Get working directory\n",
    "getwd()"
   ]
  },
  {
   "cell_type": "markdown",
   "metadata": {
    "id": "pstbRKsTS_u2"
   },
   "source": [
    "Unfortunately, Google haven't added the functionality to mount Drive in R notebooks yet. A fix can be found here\n",
    "\n",
    "https://stackoverflow.com/questions/56679549/how-to-mount-google-drive-to-r-notebook-in-colab"
   ]
  },
  {
   "cell_type": "code",
   "execution_count": null,
   "metadata": {
    "id": "pF-czFypTjIY"
   },
   "outputs": [],
   "source": [
    "# Set new CWD\n",
    "setwd(\"./R_Basics_Examples\")"
   ]
  },
  {
   "cell_type": "code",
   "execution_count": 9,
   "metadata": {
    "colab": {
     "base_uri": "https://localhost:8080/",
     "height": 17
    },
    "id": "tbatU1MiS0ox",
    "outputId": "c7ceac4e-63e8-4508-a756-9d910c6a1b4f"
   },
   "outputs": [
    {
     "data": {
      "text/html": [
       "<style>\n",
       ".list-inline {list-style: none; margin:0; padding: 0}\n",
       ".list-inline>li {display: inline-block}\n",
       ".list-inline>li:not(:last-child)::after {content: \"\\00b7\"; padding: 0 .5ex}\n",
       "</style>\n",
       "<ol class=list-inline><li>'A'</li><li>'B'</li><li>'C'</li><li>'C_True'</li></ol>\n"
      ],
      "text/latex": [
       "\\begin{enumerate*}\n",
       "\\item 'A'\n",
       "\\item 'B'\n",
       "\\item 'C'\n",
       "\\item 'C\\_True'\n",
       "\\end{enumerate*}\n"
      ],
      "text/markdown": [
       "1. 'A'\n",
       "2. 'B'\n",
       "3. 'C'\n",
       "4. 'C_True'\n",
       "\n",
       "\n"
      ],
      "text/plain": [
       "[1] \"A\"      \"B\"      \"C\"      \"C_True\""
      ]
     },
     "metadata": {},
     "output_type": "display_data"
    }
   ],
   "source": [
    "# List objects in current workspace\n",
    "ls()"
   ]
  },
  {
   "cell_type": "markdown",
   "metadata": {
    "id": "d6O8J5iKU-Ym"
   },
   "source": [
    "See p.14 of Kabacoff for workspace management functions."
   ]
  },
  {
   "cell_type": "markdown",
   "metadata": {
    "id": "qb_IoXr8M1Tx"
   },
   "source": [
    "### 1.c - A first example\n",
    "\n",
    "This is code from Sec. 1.7 of Kabacoff (Listing 1.3 p.18). We import vcd and a dataset from an '88 paper on Arthritis:"
   ]
  },
  {
   "cell_type": "code",
   "execution_count": 10,
   "metadata": {
    "colab": {
     "base_uri": "https://localhost:8080/"
    },
    "collapsed": true,
    "id": "HaK-kinbIvRe",
    "jupyter": {
     "outputs_hidden": true
    },
    "outputId": "588e006d-ed7e-4b53-ce3d-e56589dde798",
    "tags": []
   },
   "outputs": [
    {
     "name": "stderr",
     "output_type": "stream",
     "text": [
      "Loading required package: grid\n",
      "\n"
     ]
    },
    {
     "data": {
      "text/html": [
       "\n",
       "<table style=\"width: 100%;\"><tr><td>Arthritis {vcd}</td><td style=\"text-align: right;\">R Documentation</td></tr></table>\n",
       "\n",
       "<h2 id='Arthritis'>Arthritis Treatment Data</h2>\n",
       "\n",
       "<h3>Description</h3>\n",
       "\n",
       "<p>Data from Koch &amp; Edwards (1988) from a double-blind clinical trial\n",
       "investigating a new treatment for rheumatoid arthritis.\n",
       "</p>\n",
       "\n",
       "\n",
       "<h3>Usage</h3>\n",
       "\n",
       "<pre><code class='language-R'>data(\"Arthritis\")</code></pre>\n",
       "\n",
       "\n",
       "<h3>Format</h3>\n",
       "\n",
       "<p>A data frame with 84 observations and 5 variables.\n",
       "</p>\n",
       "\n",
       "<dl>\n",
       "<dt>ID</dt><dd><p>patient ID.</p>\n",
       "</dd>\n",
       "<dt>Treatment</dt><dd><p>factor indicating treatment (Placebo, Treated).</p>\n",
       "</dd>\n",
       "<dt>Sex</dt><dd><p>factor indicating sex (Female, Male).</p>\n",
       "</dd>\n",
       "<dt>Age</dt><dd><p>age of patient.</p>\n",
       "</dd>\n",
       "<dt>Improved</dt><dd><p>ordered factor indicating treatment outcome (None,\n",
       "Some, Marked).</p>\n",
       "</dd>\n",
       "</dl>\n",
       "\n",
       "\n",
       "\n",
       "<h3>Source</h3>\n",
       "\n",
       "<p>Michael Friendly (2000),\n",
       "Visualizing Categorical Data:\n",
       "<a href=\"http://euclid.psych.yorku.ca/ftp/sas/vcd/catdata/arthrit.sas\">http://euclid.psych.yorku.ca/ftp/sas/vcd/catdata/arthrit.sas</a>\n",
       "</p>\n",
       "\n",
       "\n",
       "<h3>References</h3>\n",
       "\n",
       "<p>G. Koch &amp; S. Edwards (1988),\n",
       "Clinical efficiency trials with categorical data.\n",
       "In K. E. Peace (ed.), <em>Biopharmaceutical Statistics for Drug\n",
       "Development</em>, 403&ndash;451.\n",
       "Marcel Dekker, New York.\n",
       "</p>\n",
       "<p>M. Friendly (2000),\n",
       "<em>Visualizing Categorical Data</em>.\n",
       "SAS Institute, Cary, NC.\n",
       "</p>\n",
       "\n",
       "\n",
       "<h3>Examples</h3>\n",
       "\n",
       "<pre><code class='language-R'>data(\"Arthritis\")\n",
       "art &lt;- xtabs(~ Treatment + Improved, data = Arthritis, subset = Sex == \"Female\")\n",
       "art\n",
       "\n",
       "mosaic(art, gp = shading_Friendly)\n",
       "mosaic(art, gp = shading_max)\n",
       "</code></pre>\n",
       "\n",
       "<hr /><div style=\"text-align: center;\">[Package <em>vcd</em> version 1.4-11 ]</div>\n",
       "</div>"
      ],
      "text/latex": [
       "\\inputencoding{utf8}\n",
       "\\HeaderA{Arthritis}{Arthritis Treatment Data}{Arthritis}\n",
       "\\keyword{datasets}{Arthritis}\n",
       "%\n",
       "\\begin{Description}\n",
       "Data from Koch \\& Edwards (1988) from a double-blind clinical trial\n",
       "investigating a new treatment for rheumatoid arthritis.\n",
       "\\end{Description}\n",
       "%\n",
       "\\begin{Usage}\n",
       "\\begin{verbatim}\n",
       "data(\"Arthritis\")\n",
       "\\end{verbatim}\n",
       "\\end{Usage}\n",
       "%\n",
       "\\begin{Format}\n",
       "A data frame with 84 observations and 5 variables.\n",
       "\\begin{description}\n",
       "\n",
       "\\item[ID] patient ID.\n",
       "\\item[Treatment] factor indicating treatment (Placebo, Treated).\n",
       "\\item[Sex] factor indicating sex (Female, Male).\n",
       "\\item[Age] age of patient.\n",
       "\\item[Improved] ordered factor indicating treatment outcome (None,\n",
       "Some, Marked).\n",
       "\n",
       "\\end{description}\n",
       "\n",
       "\\end{Format}\n",
       "%\n",
       "\\begin{Source}\n",
       "Michael Friendly (2000),\n",
       "Visualizing Categorical Data:\n",
       "\\url{http://euclid.psych.yorku.ca/ftp/sas/vcd/catdata/arthrit.sas}\n",
       "\\end{Source}\n",
       "%\n",
       "\\begin{References}\n",
       "G. Koch \\& S. Edwards (1988),\n",
       "Clinical efficiency trials with categorical data.\n",
       "In K. E. Peace (ed.), \\emph{Biopharmaceutical Statistics for Drug\n",
       "Development}, 403--451.\n",
       "Marcel Dekker, New York.\n",
       "\n",
       "M. Friendly (2000),\n",
       "\\emph{Visualizing Categorical Data}.\n",
       "SAS Institute, Cary, NC.\n",
       "\\end{References}\n",
       "%\n",
       "\\begin{Examples}\n",
       "\\begin{ExampleCode}\n",
       "data(\"Arthritis\")\n",
       "art <- xtabs(~ Treatment + Improved, data = Arthritis, subset = Sex == \"Female\")\n",
       "art\n",
       "\n",
       "mosaic(art, gp = shading_Friendly)\n",
       "mosaic(art, gp = shading_max)\n",
       "\\end{ExampleCode}\n",
       "\\end{Examples}"
      ],
      "text/plain": [
       "Arthritis                 package:vcd                  R Documentation\n",
       "\n",
       "_\bA_\br_\bt_\bh_\br_\bi_\bt_\bi_\bs _\bT_\br_\be_\ba_\bt_\bm_\be_\bn_\bt _\bD_\ba_\bt_\ba\n",
       "\n",
       "_\bD_\be_\bs_\bc_\br_\bi_\bp_\bt_\bi_\bo_\bn:\n",
       "\n",
       "     Data from Koch & Edwards (1988) from a double-blind clinical trial\n",
       "     investigating a new treatment for rheumatoid arthritis.\n",
       "\n",
       "_\bU_\bs_\ba_\bg_\be:\n",
       "\n",
       "     data(\"Arthritis\")\n",
       "     \n",
       "_\bF_\bo_\br_\bm_\ba_\bt:\n",
       "\n",
       "     A data frame with 84 observations and 5 variables.\n",
       "\n",
       "     ID patient ID.\n",
       "\n",
       "     Treatment factor indicating treatment (Placebo, Treated).\n",
       "\n",
       "     Sex factor indicating sex (Female, Male).\n",
       "\n",
       "     Age age of patient.\n",
       "\n",
       "     Improved ordered factor indicating treatment outcome (None, Some,\n",
       "          Marked).\n",
       "\n",
       "_\bS_\bo_\bu_\br_\bc_\be:\n",
       "\n",
       "     Michael Friendly (2000), Visualizing Categorical Data:\n",
       "     <http://euclid.psych.yorku.ca/ftp/sas/vcd/catdata/arthrit.sas>\n",
       "\n",
       "_\bR_\be_\bf_\be_\br_\be_\bn_\bc_\be_\bs:\n",
       "\n",
       "     G. Koch & S. Edwards (1988), Clinical efficiency trials with\n",
       "     categorical data.  In K. E. Peace (ed.), _Biopharmaceutical\n",
       "     Statistics for Drug Development_, 403-451.  Marcel Dekker, New\n",
       "     York.\n",
       "\n",
       "     M. Friendly (2000), _Visualizing Categorical Data_.  SAS\n",
       "     Institute, Cary, NC.\n",
       "\n",
       "_\bE_\bx_\ba_\bm_\bp_\bl_\be_\bs:\n",
       "\n",
       "     data(\"Arthritis\")\n",
       "     art <- xtabs(~ Treatment + Improved, data = Arthritis, subset = Sex == \"Female\")\n",
       "     art\n",
       "     \n",
       "     mosaic(art, gp = shading_Friendly)\n",
       "     mosaic(art, gp = shading_max)\n",
       "     "
      ]
     },
     "metadata": {},
     "output_type": "display_data"
    }
   ],
   "source": [
    "# Import the vcd package\n",
    "library(vcd)\n",
    "\n",
    "# ? on Arthritis data\n",
    "help(Arthritis)"
   ]
  },
  {
   "cell_type": "markdown",
   "metadata": {
    "id": "cesS40abRYZR"
   },
   "source": [
    "The dataframe can be displayed as follows. "
   ]
  },
  {
   "cell_type": "code",
   "execution_count": 11,
   "metadata": {
    "colab": {
     "base_uri": "https://localhost:8080/",
     "height": 1000
    },
    "id": "gB5AQJmLRUki",
    "outputId": "f1272598-d4b8-46a7-b321-f54ed25644bf"
   },
   "outputs": [
    {
     "data": {
      "text/html": [
       "<table class=\"dataframe\">\n",
       "<caption>A data.frame: 84 × 5</caption>\n",
       "<thead>\n",
       "\t<tr><th></th><th scope=col>ID</th><th scope=col>Treatment</th><th scope=col>Sex</th><th scope=col>Age</th><th scope=col>Improved</th></tr>\n",
       "\t<tr><th></th><th scope=col>&lt;int&gt;</th><th scope=col>&lt;fct&gt;</th><th scope=col>&lt;fct&gt;</th><th scope=col>&lt;int&gt;</th><th scope=col>&lt;ord&gt;</th></tr>\n",
       "</thead>\n",
       "<tbody>\n",
       "\t<tr><th scope=row>1</th><td>57</td><td>Treated</td><td>Male  </td><td>27</td><td>Some  </td></tr>\n",
       "\t<tr><th scope=row>2</th><td>46</td><td>Treated</td><td>Male  </td><td>29</td><td>None  </td></tr>\n",
       "\t<tr><th scope=row>3</th><td>77</td><td>Treated</td><td>Male  </td><td>30</td><td>None  </td></tr>\n",
       "\t<tr><th scope=row>4</th><td>17</td><td>Treated</td><td>Male  </td><td>32</td><td>Marked</td></tr>\n",
       "\t<tr><th scope=row>5</th><td>36</td><td>Treated</td><td>Male  </td><td>46</td><td>Marked</td></tr>\n",
       "\t<tr><th scope=row>6</th><td>23</td><td>Treated</td><td>Male  </td><td>58</td><td>Marked</td></tr>\n",
       "\t<tr><th scope=row>7</th><td>75</td><td>Treated</td><td>Male  </td><td>59</td><td>None  </td></tr>\n",
       "\t<tr><th scope=row>8</th><td>39</td><td>Treated</td><td>Male  </td><td>59</td><td>Marked</td></tr>\n",
       "\t<tr><th scope=row>9</th><td>33</td><td>Treated</td><td>Male  </td><td>63</td><td>None  </td></tr>\n",
       "\t<tr><th scope=row>10</th><td>55</td><td>Treated</td><td>Male  </td><td>63</td><td>None  </td></tr>\n",
       "\t<tr><th scope=row>11</th><td>30</td><td>Treated</td><td>Male  </td><td>64</td><td>None  </td></tr>\n",
       "\t<tr><th scope=row>12</th><td> 5</td><td>Treated</td><td>Male  </td><td>64</td><td>Some  </td></tr>\n",
       "\t<tr><th scope=row>13</th><td>63</td><td>Treated</td><td>Male  </td><td>69</td><td>None  </td></tr>\n",
       "\t<tr><th scope=row>14</th><td>83</td><td>Treated</td><td>Male  </td><td>70</td><td>Marked</td></tr>\n",
       "\t<tr><th scope=row>15</th><td>66</td><td>Treated</td><td>Female</td><td>23</td><td>None  </td></tr>\n",
       "\t<tr><th scope=row>16</th><td>40</td><td>Treated</td><td>Female</td><td>32</td><td>None  </td></tr>\n",
       "\t<tr><th scope=row>17</th><td> 6</td><td>Treated</td><td>Female</td><td>37</td><td>Some  </td></tr>\n",
       "\t<tr><th scope=row>18</th><td> 7</td><td>Treated</td><td>Female</td><td>41</td><td>None  </td></tr>\n",
       "\t<tr><th scope=row>19</th><td>72</td><td>Treated</td><td>Female</td><td>41</td><td>Marked</td></tr>\n",
       "\t<tr><th scope=row>20</th><td>37</td><td>Treated</td><td>Female</td><td>48</td><td>None  </td></tr>\n",
       "\t<tr><th scope=row>21</th><td>82</td><td>Treated</td><td>Female</td><td>48</td><td>Marked</td></tr>\n",
       "\t<tr><th scope=row>22</th><td>53</td><td>Treated</td><td>Female</td><td>55</td><td>Marked</td></tr>\n",
       "\t<tr><th scope=row>23</th><td>79</td><td>Treated</td><td>Female</td><td>55</td><td>Marked</td></tr>\n",
       "\t<tr><th scope=row>24</th><td>26</td><td>Treated</td><td>Female</td><td>56</td><td>Marked</td></tr>\n",
       "\t<tr><th scope=row>25</th><td>28</td><td>Treated</td><td>Female</td><td>57</td><td>Marked</td></tr>\n",
       "\t<tr><th scope=row>26</th><td>60</td><td>Treated</td><td>Female</td><td>57</td><td>Marked</td></tr>\n",
       "\t<tr><th scope=row>27</th><td>22</td><td>Treated</td><td>Female</td><td>57</td><td>Marked</td></tr>\n",
       "\t<tr><th scope=row>28</th><td>27</td><td>Treated</td><td>Female</td><td>58</td><td>None  </td></tr>\n",
       "\t<tr><th scope=row>29</th><td> 2</td><td>Treated</td><td>Female</td><td>59</td><td>Marked</td></tr>\n",
       "\t<tr><th scope=row>30</th><td>59</td><td>Treated</td><td>Female</td><td>59</td><td>Marked</td></tr>\n",
       "\t<tr><th scope=row>⋮</th><td>⋮</td><td>⋮</td><td>⋮</td><td>⋮</td><td>⋮</td></tr>\n",
       "\t<tr><th scope=row>55</th><td>29</td><td>Placebo</td><td>Female</td><td>30</td><td>None  </td></tr>\n",
       "\t<tr><th scope=row>56</th><td>50</td><td>Placebo</td><td>Female</td><td>31</td><td>Some  </td></tr>\n",
       "\t<tr><th scope=row>57</th><td>38</td><td>Placebo</td><td>Female</td><td>32</td><td>None  </td></tr>\n",
       "\t<tr><th scope=row>58</th><td>35</td><td>Placebo</td><td>Female</td><td>33</td><td>Marked</td></tr>\n",
       "\t<tr><th scope=row>59</th><td>51</td><td>Placebo</td><td>Female</td><td>37</td><td>None  </td></tr>\n",
       "\t<tr><th scope=row>60</th><td>54</td><td>Placebo</td><td>Female</td><td>44</td><td>None  </td></tr>\n",
       "\t<tr><th scope=row>61</th><td>76</td><td>Placebo</td><td>Female</td><td>45</td><td>None  </td></tr>\n",
       "\t<tr><th scope=row>62</th><td>16</td><td>Placebo</td><td>Female</td><td>46</td><td>None  </td></tr>\n",
       "\t<tr><th scope=row>63</th><td>69</td><td>Placebo</td><td>Female</td><td>48</td><td>None  </td></tr>\n",
       "\t<tr><th scope=row>64</th><td>31</td><td>Placebo</td><td>Female</td><td>49</td><td>None  </td></tr>\n",
       "\t<tr><th scope=row>65</th><td>20</td><td>Placebo</td><td>Female</td><td>51</td><td>None  </td></tr>\n",
       "\t<tr><th scope=row>66</th><td>68</td><td>Placebo</td><td>Female</td><td>53</td><td>None  </td></tr>\n",
       "\t<tr><th scope=row>67</th><td>81</td><td>Placebo</td><td>Female</td><td>54</td><td>None  </td></tr>\n",
       "\t<tr><th scope=row>68</th><td> 4</td><td>Placebo</td><td>Female</td><td>54</td><td>None  </td></tr>\n",
       "\t<tr><th scope=row>69</th><td>78</td><td>Placebo</td><td>Female</td><td>54</td><td>Marked</td></tr>\n",
       "\t<tr><th scope=row>70</th><td>70</td><td>Placebo</td><td>Female</td><td>55</td><td>Marked</td></tr>\n",
       "\t<tr><th scope=row>71</th><td>49</td><td>Placebo</td><td>Female</td><td>57</td><td>None  </td></tr>\n",
       "\t<tr><th scope=row>72</th><td>10</td><td>Placebo</td><td>Female</td><td>57</td><td>Some  </td></tr>\n",
       "\t<tr><th scope=row>73</th><td>47</td><td>Placebo</td><td>Female</td><td>58</td><td>Some  </td></tr>\n",
       "\t<tr><th scope=row>74</th><td>44</td><td>Placebo</td><td>Female</td><td>59</td><td>Some  </td></tr>\n",
       "\t<tr><th scope=row>75</th><td>24</td><td>Placebo</td><td>Female</td><td>59</td><td>Marked</td></tr>\n",
       "\t<tr><th scope=row>76</th><td>48</td><td>Placebo</td><td>Female</td><td>61</td><td>None  </td></tr>\n",
       "\t<tr><th scope=row>77</th><td>19</td><td>Placebo</td><td>Female</td><td>63</td><td>Some  </td></tr>\n",
       "\t<tr><th scope=row>78</th><td> 3</td><td>Placebo</td><td>Female</td><td>64</td><td>None  </td></tr>\n",
       "\t<tr><th scope=row>79</th><td>67</td><td>Placebo</td><td>Female</td><td>65</td><td>Marked</td></tr>\n",
       "\t<tr><th scope=row>80</th><td>32</td><td>Placebo</td><td>Female</td><td>66</td><td>None  </td></tr>\n",
       "\t<tr><th scope=row>81</th><td>42</td><td>Placebo</td><td>Female</td><td>66</td><td>None  </td></tr>\n",
       "\t<tr><th scope=row>82</th><td>15</td><td>Placebo</td><td>Female</td><td>66</td><td>Some  </td></tr>\n",
       "\t<tr><th scope=row>83</th><td>71</td><td>Placebo</td><td>Female</td><td>68</td><td>Some  </td></tr>\n",
       "\t<tr><th scope=row>84</th><td> 1</td><td>Placebo</td><td>Female</td><td>74</td><td>Marked</td></tr>\n",
       "</tbody>\n",
       "</table>\n"
      ],
      "text/latex": [
       "A data.frame: 84 × 5\n",
       "\\begin{tabular}{r|lllll}\n",
       "  & ID & Treatment & Sex & Age & Improved\\\\\n",
       "  & <int> & <fct> & <fct> & <int> & <ord>\\\\\n",
       "\\hline\n",
       "\t1 & 57 & Treated & Male   & 27 & Some  \\\\\n",
       "\t2 & 46 & Treated & Male   & 29 & None  \\\\\n",
       "\t3 & 77 & Treated & Male   & 30 & None  \\\\\n",
       "\t4 & 17 & Treated & Male   & 32 & Marked\\\\\n",
       "\t5 & 36 & Treated & Male   & 46 & Marked\\\\\n",
       "\t6 & 23 & Treated & Male   & 58 & Marked\\\\\n",
       "\t7 & 75 & Treated & Male   & 59 & None  \\\\\n",
       "\t8 & 39 & Treated & Male   & 59 & Marked\\\\\n",
       "\t9 & 33 & Treated & Male   & 63 & None  \\\\\n",
       "\t10 & 55 & Treated & Male   & 63 & None  \\\\\n",
       "\t11 & 30 & Treated & Male   & 64 & None  \\\\\n",
       "\t12 &  5 & Treated & Male   & 64 & Some  \\\\\n",
       "\t13 & 63 & Treated & Male   & 69 & None  \\\\\n",
       "\t14 & 83 & Treated & Male   & 70 & Marked\\\\\n",
       "\t15 & 66 & Treated & Female & 23 & None  \\\\\n",
       "\t16 & 40 & Treated & Female & 32 & None  \\\\\n",
       "\t17 &  6 & Treated & Female & 37 & Some  \\\\\n",
       "\t18 &  7 & Treated & Female & 41 & None  \\\\\n",
       "\t19 & 72 & Treated & Female & 41 & Marked\\\\\n",
       "\t20 & 37 & Treated & Female & 48 & None  \\\\\n",
       "\t21 & 82 & Treated & Female & 48 & Marked\\\\\n",
       "\t22 & 53 & Treated & Female & 55 & Marked\\\\\n",
       "\t23 & 79 & Treated & Female & 55 & Marked\\\\\n",
       "\t24 & 26 & Treated & Female & 56 & Marked\\\\\n",
       "\t25 & 28 & Treated & Female & 57 & Marked\\\\\n",
       "\t26 & 60 & Treated & Female & 57 & Marked\\\\\n",
       "\t27 & 22 & Treated & Female & 57 & Marked\\\\\n",
       "\t28 & 27 & Treated & Female & 58 & None  \\\\\n",
       "\t29 &  2 & Treated & Female & 59 & Marked\\\\\n",
       "\t30 & 59 & Treated & Female & 59 & Marked\\\\\n",
       "\t⋮ & ⋮ & ⋮ & ⋮ & ⋮ & ⋮\\\\\n",
       "\t55 & 29 & Placebo & Female & 30 & None  \\\\\n",
       "\t56 & 50 & Placebo & Female & 31 & Some  \\\\\n",
       "\t57 & 38 & Placebo & Female & 32 & None  \\\\\n",
       "\t58 & 35 & Placebo & Female & 33 & Marked\\\\\n",
       "\t59 & 51 & Placebo & Female & 37 & None  \\\\\n",
       "\t60 & 54 & Placebo & Female & 44 & None  \\\\\n",
       "\t61 & 76 & Placebo & Female & 45 & None  \\\\\n",
       "\t62 & 16 & Placebo & Female & 46 & None  \\\\\n",
       "\t63 & 69 & Placebo & Female & 48 & None  \\\\\n",
       "\t64 & 31 & Placebo & Female & 49 & None  \\\\\n",
       "\t65 & 20 & Placebo & Female & 51 & None  \\\\\n",
       "\t66 & 68 & Placebo & Female & 53 & None  \\\\\n",
       "\t67 & 81 & Placebo & Female & 54 & None  \\\\\n",
       "\t68 &  4 & Placebo & Female & 54 & None  \\\\\n",
       "\t69 & 78 & Placebo & Female & 54 & Marked\\\\\n",
       "\t70 & 70 & Placebo & Female & 55 & Marked\\\\\n",
       "\t71 & 49 & Placebo & Female & 57 & None  \\\\\n",
       "\t72 & 10 & Placebo & Female & 57 & Some  \\\\\n",
       "\t73 & 47 & Placebo & Female & 58 & Some  \\\\\n",
       "\t74 & 44 & Placebo & Female & 59 & Some  \\\\\n",
       "\t75 & 24 & Placebo & Female & 59 & Marked\\\\\n",
       "\t76 & 48 & Placebo & Female & 61 & None  \\\\\n",
       "\t77 & 19 & Placebo & Female & 63 & Some  \\\\\n",
       "\t78 &  3 & Placebo & Female & 64 & None  \\\\\n",
       "\t79 & 67 & Placebo & Female & 65 & Marked\\\\\n",
       "\t80 & 32 & Placebo & Female & 66 & None  \\\\\n",
       "\t81 & 42 & Placebo & Female & 66 & None  \\\\\n",
       "\t82 & 15 & Placebo & Female & 66 & Some  \\\\\n",
       "\t83 & 71 & Placebo & Female & 68 & Some  \\\\\n",
       "\t84 &  1 & Placebo & Female & 74 & Marked\\\\\n",
       "\\end{tabular}\n"
      ],
      "text/markdown": [
       "\n",
       "A data.frame: 84 × 5\n",
       "\n",
       "| <!--/--> | ID &lt;int&gt; | Treatment &lt;fct&gt; | Sex &lt;fct&gt; | Age &lt;int&gt; | Improved &lt;ord&gt; |\n",
       "|---|---|---|---|---|---|\n",
       "| 1 | 57 | Treated | Male   | 27 | Some   |\n",
       "| 2 | 46 | Treated | Male   | 29 | None   |\n",
       "| 3 | 77 | Treated | Male   | 30 | None   |\n",
       "| 4 | 17 | Treated | Male   | 32 | Marked |\n",
       "| 5 | 36 | Treated | Male   | 46 | Marked |\n",
       "| 6 | 23 | Treated | Male   | 58 | Marked |\n",
       "| 7 | 75 | Treated | Male   | 59 | None   |\n",
       "| 8 | 39 | Treated | Male   | 59 | Marked |\n",
       "| 9 | 33 | Treated | Male   | 63 | None   |\n",
       "| 10 | 55 | Treated | Male   | 63 | None   |\n",
       "| 11 | 30 | Treated | Male   | 64 | None   |\n",
       "| 12 |  5 | Treated | Male   | 64 | Some   |\n",
       "| 13 | 63 | Treated | Male   | 69 | None   |\n",
       "| 14 | 83 | Treated | Male   | 70 | Marked |\n",
       "| 15 | 66 | Treated | Female | 23 | None   |\n",
       "| 16 | 40 | Treated | Female | 32 | None   |\n",
       "| 17 |  6 | Treated | Female | 37 | Some   |\n",
       "| 18 |  7 | Treated | Female | 41 | None   |\n",
       "| 19 | 72 | Treated | Female | 41 | Marked |\n",
       "| 20 | 37 | Treated | Female | 48 | None   |\n",
       "| 21 | 82 | Treated | Female | 48 | Marked |\n",
       "| 22 | 53 | Treated | Female | 55 | Marked |\n",
       "| 23 | 79 | Treated | Female | 55 | Marked |\n",
       "| 24 | 26 | Treated | Female | 56 | Marked |\n",
       "| 25 | 28 | Treated | Female | 57 | Marked |\n",
       "| 26 | 60 | Treated | Female | 57 | Marked |\n",
       "| 27 | 22 | Treated | Female | 57 | Marked |\n",
       "| 28 | 27 | Treated | Female | 58 | None   |\n",
       "| 29 |  2 | Treated | Female | 59 | Marked |\n",
       "| 30 | 59 | Treated | Female | 59 | Marked |\n",
       "| ⋮ | ⋮ | ⋮ | ⋮ | ⋮ | ⋮ |\n",
       "| 55 | 29 | Placebo | Female | 30 | None   |\n",
       "| 56 | 50 | Placebo | Female | 31 | Some   |\n",
       "| 57 | 38 | Placebo | Female | 32 | None   |\n",
       "| 58 | 35 | Placebo | Female | 33 | Marked |\n",
       "| 59 | 51 | Placebo | Female | 37 | None   |\n",
       "| 60 | 54 | Placebo | Female | 44 | None   |\n",
       "| 61 | 76 | Placebo | Female | 45 | None   |\n",
       "| 62 | 16 | Placebo | Female | 46 | None   |\n",
       "| 63 | 69 | Placebo | Female | 48 | None   |\n",
       "| 64 | 31 | Placebo | Female | 49 | None   |\n",
       "| 65 | 20 | Placebo | Female | 51 | None   |\n",
       "| 66 | 68 | Placebo | Female | 53 | None   |\n",
       "| 67 | 81 | Placebo | Female | 54 | None   |\n",
       "| 68 |  4 | Placebo | Female | 54 | None   |\n",
       "| 69 | 78 | Placebo | Female | 54 | Marked |\n",
       "| 70 | 70 | Placebo | Female | 55 | Marked |\n",
       "| 71 | 49 | Placebo | Female | 57 | None   |\n",
       "| 72 | 10 | Placebo | Female | 57 | Some   |\n",
       "| 73 | 47 | Placebo | Female | 58 | Some   |\n",
       "| 74 | 44 | Placebo | Female | 59 | Some   |\n",
       "| 75 | 24 | Placebo | Female | 59 | Marked |\n",
       "| 76 | 48 | Placebo | Female | 61 | None   |\n",
       "| 77 | 19 | Placebo | Female | 63 | Some   |\n",
       "| 78 |  3 | Placebo | Female | 64 | None   |\n",
       "| 79 | 67 | Placebo | Female | 65 | Marked |\n",
       "| 80 | 32 | Placebo | Female | 66 | None   |\n",
       "| 81 | 42 | Placebo | Female | 66 | None   |\n",
       "| 82 | 15 | Placebo | Female | 66 | Some   |\n",
       "| 83 | 71 | Placebo | Female | 68 | Some   |\n",
       "| 84 |  1 | Placebo | Female | 74 | Marked |\n",
       "\n"
      ],
      "text/plain": [
       "   ID Treatment Sex    Age Improved\n",
       "1  57 Treated   Male   27  Some    \n",
       "2  46 Treated   Male   29  None    \n",
       "3  77 Treated   Male   30  None    \n",
       "4  17 Treated   Male   32  Marked  \n",
       "5  36 Treated   Male   46  Marked  \n",
       "6  23 Treated   Male   58  Marked  \n",
       "7  75 Treated   Male   59  None    \n",
       "8  39 Treated   Male   59  Marked  \n",
       "9  33 Treated   Male   63  None    \n",
       "10 55 Treated   Male   63  None    \n",
       "11 30 Treated   Male   64  None    \n",
       "12  5 Treated   Male   64  Some    \n",
       "13 63 Treated   Male   69  None    \n",
       "14 83 Treated   Male   70  Marked  \n",
       "15 66 Treated   Female 23  None    \n",
       "16 40 Treated   Female 32  None    \n",
       "17  6 Treated   Female 37  Some    \n",
       "18  7 Treated   Female 41  None    \n",
       "19 72 Treated   Female 41  Marked  \n",
       "20 37 Treated   Female 48  None    \n",
       "21 82 Treated   Female 48  Marked  \n",
       "22 53 Treated   Female 55  Marked  \n",
       "23 79 Treated   Female 55  Marked  \n",
       "24 26 Treated   Female 56  Marked  \n",
       "25 28 Treated   Female 57  Marked  \n",
       "26 60 Treated   Female 57  Marked  \n",
       "27 22 Treated   Female 57  Marked  \n",
       "28 27 Treated   Female 58  None    \n",
       "29  2 Treated   Female 59  Marked  \n",
       "30 59 Treated   Female 59  Marked  \n",
       "⋮  ⋮  ⋮         ⋮      ⋮   ⋮       \n",
       "55 29 Placebo   Female 30  None    \n",
       "56 50 Placebo   Female 31  Some    \n",
       "57 38 Placebo   Female 32  None    \n",
       "58 35 Placebo   Female 33  Marked  \n",
       "59 51 Placebo   Female 37  None    \n",
       "60 54 Placebo   Female 44  None    \n",
       "61 76 Placebo   Female 45  None    \n",
       "62 16 Placebo   Female 46  None    \n",
       "63 69 Placebo   Female 48  None    \n",
       "64 31 Placebo   Female 49  None    \n",
       "65 20 Placebo   Female 51  None    \n",
       "66 68 Placebo   Female 53  None    \n",
       "67 81 Placebo   Female 54  None    \n",
       "68  4 Placebo   Female 54  None    \n",
       "69 78 Placebo   Female 54  Marked  \n",
       "70 70 Placebo   Female 55  Marked  \n",
       "71 49 Placebo   Female 57  None    \n",
       "72 10 Placebo   Female 57  Some    \n",
       "73 47 Placebo   Female 58  Some    \n",
       "74 44 Placebo   Female 59  Some    \n",
       "75 24 Placebo   Female 59  Marked  \n",
       "76 48 Placebo   Female 61  None    \n",
       "77 19 Placebo   Female 63  Some    \n",
       "78  3 Placebo   Female 64  None    \n",
       "79 67 Placebo   Female 65  Marked  \n",
       "80 32 Placebo   Female 66  None    \n",
       "81 42 Placebo   Female 66  None    \n",
       "82 15 Placebo   Female 66  Some    \n",
       "83 71 Placebo   Female 68  Some    \n",
       "84  1 Placebo   Female 74  Marked  "
      ]
     },
     "metadata": {},
     "output_type": "display_data"
    }
   ],
   "source": [
    "# Display dataframe\n",
    "Arthritis"
   ]
  },
  {
   "cell_type": "markdown",
   "metadata": {
    "id": "bHKD3tw7Rqfa"
   },
   "source": [
    "This dataset contains both nominal factors (i.e. non-ordered categorical variables) and ordinal factors (ordered categorical variables). Here'a nice way to plot this information:"
   ]
  },
  {
   "cell_type": "code",
   "execution_count": 12,
   "metadata": {
    "colab": {
     "base_uri": "https://localhost:8080/",
     "height": 1000
    },
    "id": "ohWZnevIRq9W",
    "outputId": "5d2dfa87-dff7-48b3-c061-2b05f1c08183"
   },
   "outputs": [
    {
     "name": "stdout",
     "output_type": "stream",
     "text": [
      "\n",
      "Arthrt> data(\"Arthritis\")\n",
      "\n",
      "Arthrt> art <- xtabs(~ Treatment + Improved, data = Arthritis, subset = Sex == \"Female\")\n",
      "\n",
      "Arthrt> art\n",
      "         Improved\n",
      "Treatment None Some Marked\n",
      "  Placebo   19    7      6\n",
      "  Treated    6    5     16\n",
      "\n",
      "Arthrt> mosaic(art, gp = shading_Friendly)\n",
      "\n",
      "Arthrt> mosaic(art, gp = shading_max)\n"
     ]
    },
    {
     "data": {
      "image/png": "[encoded data removed]",
      "text/plain": [
       "plot without title"
      ]
     },
     "metadata": {
      "image/png": {
       "height": 420,
       "width": 420
      }
     },
     "output_type": "display_data"
    },
    {
     "data": {
      "image/png": "[encoded data removed]",
      "text/plain": [
       "plot without title"
      ]
     },
     "metadata": {
      "image/png": {
       "height": 420,
       "width": 420
      }
     },
     "output_type": "display_data"
    }
   ],
   "source": [
    "example(Arthritis)"
   ]
  },
  {
   "cell_type": "code",
   "execution_count": 5,
   "metadata": {
    "colab": {
     "base_uri": "https://localhost:8080/",
     "height": 167
    },
    "collapsed": true,
    "id": "M_9Xt0Dz_zXD",
    "jupyter": {
     "outputs_hidden": true
    },
    "outputId": "fd6f8c55-b2a5-4ebd-a1a1-6834657c1a49",
    "tags": []
   },
   "outputs": [
    {
     "data": {
      "text/html": [
       "<dl>\n",
       "\t<dt>$names</dt>\n",
       "\t\t<dd><style>\n",
       ".list-inline {list-style: none; margin:0; padding: 0}\n",
       ".list-inline>li {display: inline-block}\n",
       ".list-inline>li:not(:last-child)::after {content: \"\\00b7\"; padding: 0 .5ex}\n",
       "</style>\n",
       "<ol class=list-inline><li>'ID'</li><li>'Treatment'</li><li>'Sex'</li><li>'Age'</li><li>'Improved'</li></ol>\n",
       "</dd>\n",
       "\t<dt>$class</dt>\n",
       "\t\t<dd>'data.frame'</dd>\n",
       "\t<dt>$row.names</dt>\n",
       "\t\t<dd><style>\n",
       ".list-inline {list-style: none; margin:0; padding: 0}\n",
       ".list-inline>li {display: inline-block}\n",
       ".list-inline>li:not(:last-child)::after {content: \"\\00b7\"; padding: 0 .5ex}\n",
       "</style>\n",
       "<ol class=list-inline><li>'1'</li><li>'2'</li><li>'3'</li><li>'4'</li><li>'5'</li><li>'6'</li><li>'7'</li><li>'8'</li><li>'9'</li><li>'10'</li><li>'11'</li><li>'12'</li><li>'13'</li><li>'14'</li><li>'15'</li><li>'16'</li><li>'17'</li><li>'18'</li><li>'19'</li><li>'20'</li><li>'21'</li><li>'22'</li><li>'23'</li><li>'24'</li><li>'25'</li><li>'26'</li><li>'27'</li><li>'28'</li><li>'29'</li><li>'30'</li><li>'31'</li><li>'32'</li><li>'33'</li><li>'34'</li><li>'35'</li><li>'36'</li><li>'37'</li><li>'38'</li><li>'39'</li><li>'40'</li><li>'41'</li><li>'42'</li><li>'43'</li><li>'44'</li><li>'45'</li><li>'46'</li><li>'47'</li><li>'48'</li><li>'49'</li><li>'50'</li><li>'51'</li><li>'52'</li><li>'53'</li><li>'54'</li><li>'55'</li><li>'56'</li><li>'57'</li><li>'58'</li><li>'59'</li><li>'60'</li><li>'61'</li><li>'62'</li><li>'63'</li><li>'64'</li><li>'65'</li><li>'66'</li><li>'67'</li><li>'68'</li><li>'69'</li><li>'70'</li><li>'71'</li><li>'72'</li><li>'73'</li><li>'74'</li><li>'75'</li><li>'76'</li><li>'77'</li><li>'78'</li><li>'79'</li><li>'80'</li><li>'81'</li><li>'82'</li><li>'83'</li><li>'84'</li></ol>\n",
       "</dd>\n",
       "</dl>\n"
      ],
      "text/latex": [
       "\\begin{description}\n",
       "\\item[\\$names] \\begin{enumerate*}\n",
       "\\item 'ID'\n",
       "\\item 'Treatment'\n",
       "\\item 'Sex'\n",
       "\\item 'Age'\n",
       "\\item 'Improved'\n",
       "\\end{enumerate*}\n",
       "\n",
       "\\item[\\$class] 'data.frame'\n",
       "\\item[\\$row.names] \\begin{enumerate*}\n",
       "\\item '1'\n",
       "\\item '2'\n",
       "\\item '3'\n",
       "\\item '4'\n",
       "\\item '5'\n",
       "\\item '6'\n",
       "\\item '7'\n",
       "\\item '8'\n",
       "\\item '9'\n",
       "\\item '10'\n",
       "\\item '11'\n",
       "\\item '12'\n",
       "\\item '13'\n",
       "\\item '14'\n",
       "\\item '15'\n",
       "\\item '16'\n",
       "\\item '17'\n",
       "\\item '18'\n",
       "\\item '19'\n",
       "\\item '20'\n",
       "\\item '21'\n",
       "\\item '22'\n",
       "\\item '23'\n",
       "\\item '24'\n",
       "\\item '25'\n",
       "\\item '26'\n",
       "\\item '27'\n",
       "\\item '28'\n",
       "\\item '29'\n",
       "\\item '30'\n",
       "\\item '31'\n",
       "\\item '32'\n",
       "\\item '33'\n",
       "\\item '34'\n",
       "\\item '35'\n",
       "\\item '36'\n",
       "\\item '37'\n",
       "\\item '38'\n",
       "\\item '39'\n",
       "\\item '40'\n",
       "\\item '41'\n",
       "\\item '42'\n",
       "\\item '43'\n",
       "\\item '44'\n",
       "\\item '45'\n",
       "\\item '46'\n",
       "\\item '47'\n",
       "\\item '48'\n",
       "\\item '49'\n",
       "\\item '50'\n",
       "\\item '51'\n",
       "\\item '52'\n",
       "\\item '53'\n",
       "\\item '54'\n",
       "\\item '55'\n",
       "\\item '56'\n",
       "\\item '57'\n",
       "\\item '58'\n",
       "\\item '59'\n",
       "\\item '60'\n",
       "\\item '61'\n",
       "\\item '62'\n",
       "\\item '63'\n",
       "\\item '64'\n",
       "\\item '65'\n",
       "\\item '66'\n",
       "\\item '67'\n",
       "\\item '68'\n",
       "\\item '69'\n",
       "\\item '70'\n",
       "\\item '71'\n",
       "\\item '72'\n",
       "\\item '73'\n",
       "\\item '74'\n",
       "\\item '75'\n",
       "\\item '76'\n",
       "\\item '77'\n",
       "\\item '78'\n",
       "\\item '79'\n",
       "\\item '80'\n",
       "\\item '81'\n",
       "\\item '82'\n",
       "\\item '83'\n",
       "\\item '84'\n",
       "\\end{enumerate*}\n",
       "\n",
       "\\end{description}\n"
      ],
      "text/markdown": [
       "$names\n",
       ":   1. 'ID'\n",
       "2. 'Treatment'\n",
       "3. 'Sex'\n",
       "4. 'Age'\n",
       "5. 'Improved'\n",
       "\n",
       "\n",
       "\n",
       "$class\n",
       ":   'data.frame'\n",
       "$row.names\n",
       ":   1. '1'\n",
       "2. '2'\n",
       "3. '3'\n",
       "4. '4'\n",
       "5. '5'\n",
       "6. '6'\n",
       "7. '7'\n",
       "8. '8'\n",
       "9. '9'\n",
       "10. '10'\n",
       "11. '11'\n",
       "12. '12'\n",
       "13. '13'\n",
       "14. '14'\n",
       "15. '15'\n",
       "16. '16'\n",
       "17. '17'\n",
       "18. '18'\n",
       "19. '19'\n",
       "20. '20'\n",
       "21. '21'\n",
       "22. '22'\n",
       "23. '23'\n",
       "24. '24'\n",
       "25. '25'\n",
       "26. '26'\n",
       "27. '27'\n",
       "28. '28'\n",
       "29. '29'\n",
       "30. '30'\n",
       "31. '31'\n",
       "32. '32'\n",
       "33. '33'\n",
       "34. '34'\n",
       "35. '35'\n",
       "36. '36'\n",
       "37. '37'\n",
       "38. '38'\n",
       "39. '39'\n",
       "40. '40'\n",
       "41. '41'\n",
       "42. '42'\n",
       "43. '43'\n",
       "44. '44'\n",
       "45. '45'\n",
       "46. '46'\n",
       "47. '47'\n",
       "48. '48'\n",
       "49. '49'\n",
       "50. '50'\n",
       "51. '51'\n",
       "52. '52'\n",
       "53. '53'\n",
       "54. '54'\n",
       "55. '55'\n",
       "56. '56'\n",
       "57. '57'\n",
       "58. '58'\n",
       "59. '59'\n",
       "60. '60'\n",
       "61. '61'\n",
       "62. '62'\n",
       "63. '63'\n",
       "64. '64'\n",
       "65. '65'\n",
       "66. '66'\n",
       "67. '67'\n",
       "68. '68'\n",
       "69. '69'\n",
       "70. '70'\n",
       "71. '71'\n",
       "72. '72'\n",
       "73. '73'\n",
       "74. '74'\n",
       "75. '75'\n",
       "76. '76'\n",
       "77. '77'\n",
       "78. '78'\n",
       "79. '79'\n",
       "80. '80'\n",
       "81. '81'\n",
       "82. '82'\n",
       "83. '83'\n",
       "84. '84'\n",
       "\n",
       "\n",
       "\n",
       "\n",
       "\n"
      ],
      "text/plain": [
       "$names\n",
       "[1] \"ID\"        \"Treatment\" \"Sex\"       \"Age\"       \"Improved\" \n",
       "\n",
       "$class\n",
       "[1] \"data.frame\"\n",
       "\n",
       "$row.names\n",
       " [1] \"1\"  \"2\"  \"3\"  \"4\"  \"5\"  \"6\"  \"7\"  \"8\"  \"9\"  \"10\" \"11\" \"12\" \"13\" \"14\" \"15\"\n",
       "[16] \"16\" \"17\" \"18\" \"19\" \"20\" \"21\" \"22\" \"23\" \"24\" \"25\" \"26\" \"27\" \"28\" \"29\" \"30\"\n",
       "[31] \"31\" \"32\" \"33\" \"34\" \"35\" \"36\" \"37\" \"38\" \"39\" \"40\" \"41\" \"42\" \"43\" \"44\" \"45\"\n",
       "[46] \"46\" \"47\" \"48\" \"49\" \"50\" \"51\" \"52\" \"53\" \"54\" \"55\" \"56\" \"57\" \"58\" \"59\" \"60\"\n",
       "[61] \"61\" \"62\" \"63\" \"64\" \"65\" \"66\" \"67\" \"68\" \"69\" \"70\" \"71\" \"72\" \"73\" \"74\" \"75\"\n",
       "[76] \"76\" \"77\" \"78\" \"79\" \"80\" \"81\" \"82\" \"83\" \"84\"\n"
      ]
     },
     "metadata": {},
     "output_type": "display_data"
    }
   ],
   "source": [
    "attributes(Arthritis)"
   ]
  },
  {
   "cell_type": "code",
   "execution_count": 9,
   "metadata": {
    "colab": {
     "base_uri": "https://localhost:8080/",
     "height": 34
    },
    "id": "UzbAYoxCA_Lk",
    "outputId": "e5271818-f99f-4319-98ff-c1a0a941728a"
   },
   "outputs": [
    {
     "data": {
      "text/html": [
       "'list'"
      ],
      "text/latex": [
       "'list'"
      ],
      "text/markdown": [
       "'list'"
      ],
      "text/plain": [
       "[1] \"list\""
      ]
     },
     "metadata": {},
     "output_type": "display_data"
    }
   ],
   "source": [
    "typeof(Arthritis)"
   ]
  },
  {
   "cell_type": "code",
   "execution_count": 6,
   "metadata": {
    "colab": {
     "base_uri": "https://localhost:8080/",
     "height": 34
    },
    "id": "7A_tFlTgAewg",
    "outputId": "dad51e1e-9356-498d-b8ae-927816b9967a"
   },
   "outputs": [
    {
     "data": {
      "text/html": [
       "'data.frame'"
      ],
      "text/latex": [
       "'data.frame'"
      ],
      "text/markdown": [
       "'data.frame'"
      ],
      "text/plain": [
       "[1] \"data.frame\""
      ]
     },
     "metadata": {},
     "output_type": "display_data"
    }
   ],
   "source": [
    "attributes(Arthritis)$class"
   ]
  },
  {
   "cell_type": "code",
   "execution_count": 7,
   "metadata": {
    "id": "SWnrB_slAurc"
   },
   "outputs": [],
   "source": [
    "Arthritis_attr <- attributes(Arthritis)"
   ]
  },
  {
   "cell_type": "code",
   "execution_count": 8,
   "metadata": {
    "colab": {
     "base_uri": "https://localhost:8080/",
     "height": 52
    },
    "id": "0Ew4DAdeAzkM",
    "outputId": "c188bfc5-8767-4154-86b1-7c4012c2cd3f"
   },
   "outputs": [
    {
     "data": {
      "text/html": [
       "<strong>$names</strong> = <style>\n",
       ".list-inline {list-style: none; margin:0; padding: 0}\n",
       ".list-inline>li {display: inline-block}\n",
       ".list-inline>li:not(:last-child)::after {content: \"\\00b7\"; padding: 0 .5ex}\n",
       "</style>\n",
       "<ol class=list-inline><li>'names'</li><li>'class'</li><li>'row.names'</li></ol>\n"
      ],
      "text/latex": [
       "\\textbf{\\$names} = \\begin{enumerate*}\n",
       "\\item 'names'\n",
       "\\item 'class'\n",
       "\\item 'row.names'\n",
       "\\end{enumerate*}\n"
      ],
      "text/markdown": [
       "**$names** = 1. 'names'\n",
       "2. 'class'\n",
       "3. 'row.names'\n",
       "\n",
       "\n"
      ],
      "text/plain": [
       "$names\n",
       "[1] \"names\"     \"class\"     \"row.names\"\n"
      ]
     },
     "metadata": {},
     "output_type": "display_data"
    }
   ],
   "source": [
    "attributes(Arthritis_attr)"
   ]
  },
  {
   "cell_type": "code",
   "execution_count": null,
   "metadata": {
    "id": "_c5pQCtLAzeA"
   },
   "outputs": [],
   "source": []
  },
  {
   "cell_type": "code",
   "execution_count": null,
   "metadata": {
    "id": "NjY1z1ogAza6"
   },
   "outputs": [],
   "source": []
  },
  {
   "cell_type": "code",
   "execution_count": null,
   "metadata": {
    "id": "pbeN3xAPRLAC"
   },
   "outputs": [],
   "source": [
    "?example"
   ]
  },
  {
   "cell_type": "code",
   "execution_count": null,
   "metadata": {
    "id": "x-p6svxDQUpC"
   },
   "outputs": [],
   "source": [
    "help(example)"
   ]
  },
  {
   "cell_type": "markdown",
   "metadata": {
    "id": "KEGuARrKVGbc",
    "tags": []
   },
   "source": [
    "## **2) Fundamental data structures in R**\n",
    "\n",
    "The central object manipulated in R is a dataset, which is most conveniently stored as a dataframe in R. Said dataframe can include entries that are numerical, characters, logical, complex, raw (i.e. bytes), and factors. Here we discuss the basics and build towards R's dataframes.\n",
    "\n",
    "Before going any further, some comments about R's syntax (Kabacoff note, p.32):\n",
    "\n",
    "* The period (.) has no special significance in object names in R, meaning that it does not give access to the attributes or methods of an object (unlike other programming languages). To a certain extent, the analogue of the period is the dollar sign ($) in R.\n",
    "\n",
    "* In R, the values of a Boolean have the Fortran capitalization: *TRUE* and *FALSE*.\n",
    "\n",
    "* R does not provide multiline or block comments. The tedious way of commenting-out code is to add the hashtag at the beginning of every line. Instead of commenting-out blocks, we explicitly tell the interpreter to ignore a code block using:\n",
    "\n",
    "      if(FALSE){\n",
    "        ... code block ...\n",
    "      }\n",
    "\n",
    "* In R, assigning a value to a non-existent element of an array **does not return an error**. Instead, the language expands the array with *NA* values to accomodate the instruction. For instance:\n",
    "\n",
    "      >> x<-c(1,2,3)\n",
    "      >> x[7] <- 7\n",
    "      >> print(x)\n",
    "      [1]  1  2  3 NA NA NA  7\n",
    "\n",
    "* Variables can't be declared, they are created on first assignment.\n"
   ]
  },
  {
   "cell_type": "code",
   "execution_count": null,
   "metadata": {
    "id": "acWfvzZNDhSU"
   },
   "outputs": [],
   "source": []
  },
  {
   "cell_type": "markdown",
   "metadata": {
    "id": "Vi4yulukWBFk",
    "tags": []
   },
   "source": [
    "### 2.a - Vectors in R\n",
    "\n",
    "The vectors in R are essentially like Python's lists: They can contain objects of different classes, and we can perform slicing operations on them.\n",
    "\n",
    "The most common way of creating a vector in R is to use the **combine function** *c()* as we did in the previous section:"
   ]
  },
  {
   "cell_type": "code",
   "execution_count": null,
   "metadata": {
    "colab": {
     "base_uri": "https://localhost:8080/",
     "height": 34
    },
    "id": "woMKMfuGeBb4",
    "outputId": "74945ffb-9a60-4ebf-b8fa-4879bb81f7f6"
   },
   "outputs": [
    {
     "data": {
      "text/html": [
       "<style>\n",
       ".list-inline {list-style: none; margin:0; padding: 0}\n",
       ".list-inline>li {display: inline-block}\n",
       ".list-inline>li:not(:last-child)::after {content: \"\\00b7\"; padding: 0 .5ex}\n",
       "</style>\n",
       "<ol class=list-inline><li>'vect_1'</li><li>'vect_2'</li></ol>\n"
      ],
      "text/latex": [
       "\\begin{enumerate*}\n",
       "\\item 'vect\\_1'\n",
       "\\item 'vect\\_2'\n",
       "\\end{enumerate*}\n"
      ],
      "text/markdown": [
       "1. 'vect_1'\n",
       "2. 'vect_2'\n",
       "\n",
       "\n"
      ],
      "text/plain": [
       "[1] \"vect_1\" \"vect_2\""
      ]
     },
     "metadata": {},
     "output_type": "display_data"
    }
   ],
   "source": [
    "# Make a vector\n",
    "vect_1 = c(\"string\", pi, 1, FALSE)\n",
    "vect_2 = c(1.0, 0.0, -1.0)\n",
    "ls()"
   ]
  },
  {
   "cell_type": "markdown",
   "metadata": {
    "id": "4gUfcutZW-5K"
   },
   "source": [
    "Note how R coerces the types by default. We can print the vector:"
   ]
  },
  {
   "cell_type": "code",
   "execution_count": null,
   "metadata": {
    "colab": {
     "base_uri": "https://localhost:8080/"
    },
    "id": "eall1Q_FWmm3",
    "outputId": "01d942f1-ddb6-496a-f571-407b74f91819"
   },
   "outputs": [
    {
     "name": "stdout",
     "output_type": "stream",
     "text": [
      "[1] \"string\"           \"3.14159265358979\" \"1\"                \"FALSE\"           \n"
     ]
    }
   ],
   "source": [
    "print(vect_1)"
   ]
  },
  {
   "cell_type": "markdown",
   "metadata": {
    "id": "P4tepTE-XKQD"
   },
   "source": [
    "Or display it as so:"
   ]
  },
  {
   "cell_type": "code",
   "execution_count": null,
   "metadata": {
    "colab": {
     "base_uri": "https://localhost:8080/",
     "height": 34
    },
    "id": "HjRl_rcQWmgX",
    "outputId": "50495bc8-4b8b-410a-f282-acd9b566b402"
   },
   "outputs": [
    {
     "data": {
      "text/html": [
       "<style>\n",
       ".list-inline {list-style: none; margin:0; padding: 0}\n",
       ".list-inline>li {display: inline-block}\n",
       ".list-inline>li:not(:last-child)::after {content: \"\\00b7\"; padding: 0 .5ex}\n",
       "</style>\n",
       "<ol class=list-inline><li>'string'</li><li>'3.14159265358979'</li><li>'1'</li><li>'FALSE'</li></ol>\n"
      ],
      "text/latex": [
       "\\begin{enumerate*}\n",
       "\\item 'string'\n",
       "\\item '3.14159265358979'\n",
       "\\item '1'\n",
       "\\item 'FALSE'\n",
       "\\end{enumerate*}\n"
      ],
      "text/markdown": [
       "1. 'string'\n",
       "2. '3.14159265358979'\n",
       "3. '1'\n",
       "4. 'FALSE'\n",
       "\n",
       "\n"
      ],
      "text/plain": [
       "[1] \"string\"           \"3.14159265358979\" \"1\"                \"FALSE\"           "
      ]
     },
     "metadata": {},
     "output_type": "display_data"
    }
   ],
   "source": [
    "vect_1"
   ]
  },
  {
   "cell_type": "markdown",
   "metadata": {
    "id": "RARSsJZNXQ6j"
   },
   "source": [
    "To access a particular entry we use brackets and indices, with the difference that unlike Python, R indices start at 1:"
   ]
  },
  {
   "cell_type": "code",
   "execution_count": null,
   "metadata": {
    "colab": {
     "base_uri": "https://localhost:8080/",
     "height": 86
    },
    "id": "Z1B6TxQGWmY8",
    "outputId": "3fa3dfc7-0400-4b9a-b767-6bd6e2a824e6"
   },
   "outputs": [
    {
     "data": {
      "text/html": [
       "'string'"
      ],
      "text/latex": [
       "'string'"
      ],
      "text/markdown": [
       "'string'"
      ],
      "text/plain": [
       "[1] \"string\""
      ]
     },
     "metadata": {},
     "output_type": "display_data"
    },
    {
     "data": {
      "text/html": [
       "'FALSE'"
      ],
      "text/latex": [
       "'FALSE'"
      ],
      "text/markdown": [
       "'FALSE'"
      ],
      "text/plain": [
       "[1] \"FALSE\""
      ]
     },
     "metadata": {},
     "output_type": "display_data"
    },
    {
     "data": {
      "text/html": [
       "<style>\n",
       ".list-inline {list-style: none; margin:0; padding: 0}\n",
       ".list-inline>li {display: inline-block}\n",
       ".list-inline>li:not(:last-child)::after {content: \"\\00b7\"; padding: 0 .5ex}\n",
       "</style>\n",
       "<ol class=list-inline><li>'3.14159265358979'</li><li>'1'</li></ol>\n"
      ],
      "text/latex": [
       "\\begin{enumerate*}\n",
       "\\item '3.14159265358979'\n",
       "\\item '1'\n",
       "\\end{enumerate*}\n"
      ],
      "text/markdown": [
       "1. '3.14159265358979'\n",
       "2. '1'\n",
       "\n",
       "\n"
      ],
      "text/plain": [
       "[1] \"3.14159265358979\" \"1\"               "
      ]
     },
     "metadata": {},
     "output_type": "display_data"
    },
    {
     "data": {
      "text/html": [
       "<style>\n",
       ".list-inline {list-style: none; margin:0; padding: 0}\n",
       ".list-inline>li {display: inline-block}\n",
       ".list-inline>li:not(:last-child)::after {content: \"\\00b7\"; padding: 0 .5ex}\n",
       "</style>\n",
       "<ol class=list-inline><li>1</li><li>-1</li></ol>\n"
      ],
      "text/latex": [
       "\\begin{enumerate*}\n",
       "\\item 1\n",
       "\\item -1\n",
       "\\end{enumerate*}\n"
      ],
      "text/markdown": [
       "1. 1\n",
       "2. -1\n",
       "\n",
       "\n"
      ],
      "text/plain": [
       "[1]  1 -1"
      ]
     },
     "metadata": {},
     "output_type": "display_data"
    }
   ],
   "source": [
    "# Access indices 1 and 4\n",
    "vect_1[1]\n",
    "vect_1[4]\n",
    "# Index slicing\n",
    "vect_1[2:3]\n",
    "# Passing a vector of indices\n",
    "vect_2[c(1,3)]"
   ]
  },
  {
   "cell_type": "markdown",
   "metadata": {
    "id": "WYjsLSaIu6Cj"
   },
   "source": [
    "The analogue of the *len()* function in R is **length()**:"
   ]
  },
  {
   "cell_type": "code",
   "execution_count": null,
   "metadata": {
    "colab": {
     "base_uri": "https://localhost:8080/",
     "height": 34
    },
    "id": "QY5DApgzvAEi",
    "outputId": "980c29b3-1508-488c-e6e8-c8bf730aed07"
   },
   "outputs": [
    {
     "data": {
      "text/html": [
       "4"
      ],
      "text/latex": [
       "4"
      ],
      "text/markdown": [
       "4"
      ],
      "text/plain": [
       "[1] 4"
      ]
     },
     "metadata": {},
     "output_type": "display_data"
    }
   ],
   "source": [
    "length(vect_1)"
   ]
  },
  {
   "cell_type": "markdown",
   "metadata": {},
   "source": [
    "Next, it is important to record the function that returns the index of an object in a vector. The analogue of Python's *index()* method for lists is the *which()* function. For vectors in particular, its use is as follows."
   ]
  },
  {
   "cell_type": "code",
   "execution_count": 2,
   "metadata": {},
   "outputs": [],
   "source": [
    "# Init. examples\n",
    "vec_1 <- c(\"one\", \"four\", \"six\", \"two\", \"five\", \"three\")\n",
    "vec_2 <- c(1,2,1,2,1,2,1,2)"
   ]
  },
  {
   "cell_type": "code",
   "execution_count": 3,
   "metadata": {},
   "outputs": [
    {
     "name": "stdout",
     "output_type": "stream",
     "text": [
      "which(vec_1 == \"six\") =  3 \n"
     ]
    }
   ],
   "source": [
    "# Get index of \"six\" in vec_1\n",
    "cat(\"which(vec_1 == \\\"six\\\") = \", which(vec_1 == \"six\"),\"\\n\")"
   ]
  },
  {
   "cell_type": "code",
   "execution_count": 4,
   "metadata": {},
   "outputs": [
    {
     "name": "stdout",
     "output_type": "stream",
     "text": [
      "which(vec_2 == 2) =  2 4 6 8 \n"
     ]
    }
   ],
   "source": [
    "# Get indices of 2 in vec_2\n",
    "cat(\"which(vec_2 == 2) = \", which(vec_2 == 2),\"\\n\")"
   ]
  },
  {
   "cell_type": "code",
   "execution_count": null,
   "metadata": {},
   "outputs": [],
   "source": []
  },
  {
   "cell_type": "markdown",
   "metadata": {
    "id": "DcYGU8lBYQLr",
    "jp-MarkdownHeadingCollapsed": true,
    "tags": []
   },
   "source": [
    "### 2.b - Matrices\n",
    "\n",
    "Creating matrices is done using the *matrix* object constructor. The typical instation is done as follows:\n",
    "\n",
    "      myMatrix<- matrix(vector, # Contents of the matrix\n",
    "                        nrow, # No. rows\n",
    "                        ncol, # No. columns\n",
    "                        byrow, # Logical, whether the matrix \n",
    "                               # is contructed by row\n",
    "                        dimnames, # List of row/column labels. \n",
    "                        )"
   ]
  },
  {
   "cell_type": "code",
   "execution_count": null,
   "metadata": {
    "colab": {
     "base_uri": "https://localhost:8080/"
    },
    "id": "NE4P3AmAWl6I",
    "outputId": "f9e5ce1c-f865-46e5-d1e7-52651736cce8"
   },
   "outputs": [
    {
     "name": "stdout",
     "output_type": "stream",
     "text": [
      "      [,1]\n",
      " [1,]    1\n",
      " [2,]    0\n",
      " [3,]    0\n",
      " [4,]    0\n",
      " [5,]    1\n",
      " [6,]    0\n",
      " [7,]    0\n",
      " [8,]    0\n",
      " [9,]    1\n",
      "     [,1] [,2] [,3]\n",
      "[1,]    1    0    0\n",
      "[2,]    0    1    0\n",
      "[3,]    0    0    1\n"
     ]
    }
   ],
   "source": [
    "# 3x3 identity. Note how nrow and ncol are important\n",
    "Id_3 <- matrix(c(c(1,0,0),c(0,1,0),c(0,0,1)),  byrow = TRUE)\n",
    "print(Id_3)\n",
    "Id_3 <- matrix(c(c(1,0,0),c(0,1,0),c(0,0,1)), nrow =3, ncol = 3, byrow = TRUE)\n",
    "print(Id_3)"
   ]
  },
  {
   "cell_type": "markdown",
   "metadata": {
    "id": "MYukeXgIad-0"
   },
   "source": [
    "Here is how one accesses rows and columns:"
   ]
  },
  {
   "cell_type": "code",
   "execution_count": null,
   "metadata": {
    "colab": {
     "base_uri": "https://localhost:8080/"
    },
    "id": "wBw8NqZqWlxu",
    "outputId": "12f1671f-c356-4a52-f690-54af6526c1be"
   },
   "outputs": [
    {
     "name": "stdout",
     "output_type": "stream",
     "text": [
      "[1] 3 6 9\n",
      "[1] 4 5 6\n",
      "     [,1] [,2]\n",
      "[1,]    1    4\n",
      "[2,]    2    5\n"
     ]
    }
   ],
   "source": [
    "# Create a matrix\n",
    "m1_col_1 = c(1:3)\n",
    "m1_col_2 = c(4:6)\n",
    "m1_col_3 = c(7:9)\n",
    "mat_1 <- matrix(c(m1_col_1, m1_col_2, m1_col_3), nrow = 3, ncol=3, byrow = FALSE)\n",
    "\n",
    "# Show last row\n",
    "print(mat_1[3,])\n",
    "\n",
    "# Show second column\n",
    "print(mat_1[,2])\n",
    "\n",
    "# Show submatrix\n",
    "print(mat_1[1:2,1:2])"
   ]
  },
  {
   "cell_type": "markdown",
   "metadata": {
    "id": "Y43AQZzhbf1B"
   },
   "source": [
    "Quite similar to Python, but you need to specify the beginning and the end indices. One difference is that we can label the rows and columns here"
   ]
  },
  {
   "cell_type": "code",
   "execution_count": null,
   "metadata": {
    "colab": {
     "base_uri": "https://localhost:8080/",
     "height": 178
    },
    "id": "zL1YtZWLWlnn",
    "outputId": "ea2b8973-648c-4a34-c5bc-c7a42eace93e"
   },
   "outputs": [
    {
     "data": {
      "text/html": [
       "<table class=\"dataframe\">\n",
       "<caption>A matrix: 3 × 3 of type dbl</caption>\n",
       "<thead>\n",
       "\t<tr><th></th><th scope=col>C1</th><th scope=col>C2</th><th scope=col>C3</th></tr>\n",
       "</thead>\n",
       "<tbody>\n",
       "\t<tr><th scope=row>R1</th><td>-1</td><td>40</td><td>-0.7</td></tr>\n",
       "\t<tr><th scope=row>R2</th><td>-2</td><td>50</td><td>-0.8</td></tr>\n",
       "\t<tr><th scope=row>R3</th><td>-3</td><td>60</td><td>-0.9</td></tr>\n",
       "</tbody>\n",
       "</table>\n"
      ],
      "text/latex": [
       "A matrix: 3 × 3 of type dbl\n",
       "\\begin{tabular}{r|lll}\n",
       "  & C1 & C2 & C3\\\\\n",
       "\\hline\n",
       "\tR1 & -1 & 40 & -0.7\\\\\n",
       "\tR2 & -2 & 50 & -0.8\\\\\n",
       "\tR3 & -3 & 60 & -0.9\\\\\n",
       "\\end{tabular}\n"
      ],
      "text/markdown": [
       "\n",
       "A matrix: 3 × 3 of type dbl\n",
       "\n",
       "| <!--/--> | C1 | C2 | C3 |\n",
       "|---|---|---|---|\n",
       "| R1 | -1 | 40 | -0.7 |\n",
       "| R2 | -2 | 50 | -0.8 |\n",
       "| R3 | -3 | 60 | -0.9 |\n",
       "\n"
      ],
      "text/plain": [
       "   C1 C2 C3  \n",
       "R1 -1 40 -0.7\n",
       "R2 -2 50 -0.8\n",
       "R3 -3 60 -0.9"
      ]
     },
     "metadata": {},
     "output_type": "display_data"
    }
   ],
   "source": [
    "# Matrix columns\n",
    "m2_col_1 <- c(-1,-2,-3)\n",
    "m2_col_2 <- c(40,50,60)\n",
    "m2_col_3 <- c(-0.7,-0.8,-0.9)\n",
    "\n",
    "# Row labels\n",
    "row_lbls <- c(\"R1\",\"R2\", \"R3\")\n",
    "col_lbls <- c(\"C1\",\"C2\", \"C3\")\n",
    "\n",
    "# Instantiate matrix and print\n",
    "matrix_2 <- matrix(c(m2_col_1, m2_col_2, m2_col_3),\n",
    "                    nrow= 3, ncol = 3,\n",
    "                    dimnames = list(row_lbls, col_lbls)\n",
    "                    )\n",
    "matrix_2 "
   ]
  },
  {
   "cell_type": "markdown",
   "metadata": {
    "id": "-GlgC51gvISa"
   },
   "source": [
    "To get the dimensions of a matrix, use **dim()**:"
   ]
  },
  {
   "cell_type": "code",
   "execution_count": null,
   "metadata": {
    "colab": {
     "base_uri": "https://localhost:8080/",
     "height": 34
    },
    "id": "xpmml11KvPfz",
    "outputId": "cbf303e2-603c-4d07-c403-1ece848da4b7"
   },
   "outputs": [
    {
     "data": {
      "text/html": [
       "<style>\n",
       ".list-inline {list-style: none; margin:0; padding: 0}\n",
       ".list-inline>li {display: inline-block}\n",
       ".list-inline>li:not(:last-child)::after {content: \"\\00b7\"; padding: 0 .5ex}\n",
       "</style>\n",
       "<ol class=list-inline><li>3</li><li>3</li></ol>\n"
      ],
      "text/latex": [
       "\\begin{enumerate*}\n",
       "\\item 3\n",
       "\\item 3\n",
       "\\end{enumerate*}\n"
      ],
      "text/markdown": [
       "1. 3\n",
       "2. 3\n",
       "\n",
       "\n"
      ],
      "text/plain": [
       "[1] 3 3"
      ]
     },
     "metadata": {},
     "output_type": "display_data"
    }
   ],
   "source": [
    "dim(matrix_2)"
   ]
  },
  {
   "cell_type": "markdown",
   "metadata": {
    "id": "zA4-Ok7nc3Tl",
    "jp-MarkdownHeadingCollapsed": true,
    "tags": []
   },
   "source": [
    "### 2.c - Arrays\n",
    "\n",
    "In Python, numerical vectors, matrices, and tensors are all bundled in numpy arrays. In R, tensors are represented as arrays. Their construction is very similar to matrices:\n",
    "\n",
    "      tensor <- array(data, dim, dimnames)\n",
    "\n",
    "Here is Kabacoff's example on p.25 (Sec.2.2.3):"
   ]
  },
  {
   "cell_type": "code",
   "execution_count": null,
   "metadata": {
    "colab": {
     "base_uri": "https://localhost:8080/"
    },
    "id": "dkoQKq57WlNl",
    "outputId": "d22233e6-e323-4f6e-b6b2-402586973861"
   },
   "outputs": [
    {
     "name": "stdout",
     "output_type": "stream",
     "text": [
      ", , C1\n",
      "\n",
      "   B1 B2 B3\n",
      "A1  1  3  5\n",
      "A2  2  4  6\n",
      "\n",
      ", , C2\n",
      "\n",
      "   B1 B2 B3\n",
      "A1  7  9 11\n",
      "A2  8 10 12\n",
      "\n",
      ", , C3\n",
      "\n",
      "   B1 B2 B3\n",
      "A1 13 15 17\n",
      "A2 14 16 18\n",
      "\n",
      ", , C4\n",
      "\n",
      "   B1 B2 B3\n",
      "A1 19 21 23\n",
      "A2 20 22 24\n",
      "\n"
     ]
    }
   ],
   "source": [
    "# Dimension names\n",
    "dim1 <- c(\"A1\",\"A2\")\n",
    "dim2 <- c(\"B1\",\"B2\",\"B3\")\n",
    "dim3 <- c(\"C1\",\"C2\",\"C3\",\"C4\")\n",
    "\n",
    "# Array\n",
    "tens <- array(data = c(1:24), dim =c(2,3,4), dimnames = list(dim1, dim2, dim3))\n",
    "# Print (goes by the last dimension)\n",
    "print(tens)"
   ]
  },
  {
   "cell_type": "code",
   "execution_count": null,
   "metadata": {
    "colab": {
     "base_uri": "https://localhost:8080/",
     "height": 34
    },
    "id": "lRMRVpAhvbCj",
    "outputId": "c73a5544-4725-4258-e822-73dbceaa9192"
   },
   "outputs": [
    {
     "data": {
      "text/html": [
       "<style>\n",
       ".list-inline {list-style: none; margin:0; padding: 0}\n",
       ".list-inline>li {display: inline-block}\n",
       ".list-inline>li:not(:last-child)::after {content: \"\\00b7\"; padding: 0 .5ex}\n",
       "</style>\n",
       "<ol class=list-inline><li>2</li><li>3</li><li>4</li></ol>\n"
      ],
      "text/latex": [
       "\\begin{enumerate*}\n",
       "\\item 2\n",
       "\\item 3\n",
       "\\item 4\n",
       "\\end{enumerate*}\n"
      ],
      "text/markdown": [
       "1. 2\n",
       "2. 3\n",
       "3. 4\n",
       "\n",
       "\n"
      ],
      "text/plain": [
       "[1] 2 3 4"
      ]
     },
     "metadata": {},
     "output_type": "display_data"
    }
   ],
   "source": [
    "dim(tens)"
   ]
  },
  {
   "cell_type": "code",
   "execution_count": null,
   "metadata": {
    "colab": {
     "base_uri": "https://localhost:8080/",
     "height": 34
    },
    "id": "tRm8vrFnvm2T",
    "outputId": "dead4776-8cde-4644-d9bb-164c4b418800"
   },
   "outputs": [
    {
     "data": {
      "text/html": [
       "'character'"
      ],
      "text/latex": [
       "'character'"
      ],
      "text/markdown": [
       "'character'"
      ],
      "text/plain": [
       "[1] \"character\""
      ]
     },
     "metadata": {},
     "output_type": "display_data"
    }
   ],
   "source": [
    "typeof(vect_1)"
   ]
  },
  {
   "cell_type": "markdown",
   "metadata": {
    "id": "5s0M9GzEfVcr"
   },
   "source": [
    "### 2.d - Dataframes\n",
    "\n",
    "I believe Pandas was inspired by the dataframes of this section. First, here is what a dataframe looks like in R, using the built-in *mtcars* example:"
   ]
  },
  {
   "cell_type": "code",
   "execution_count": null,
   "metadata": {
    "colab": {
     "base_uri": "https://localhost:8080/",
     "height": 1000
    },
    "id": "Vk9UERNxepeI",
    "outputId": "33c41ca4-433a-43e5-e19b-c36e67fd448f"
   },
   "outputs": [
    {
     "data": {
      "text/html": [
       "<table class=\"dataframe\">\n",
       "<caption>A data.frame: 32 × 11</caption>\n",
       "<thead>\n",
       "\t<tr><th></th><th scope=col>mpg</th><th scope=col>cyl</th><th scope=col>disp</th><th scope=col>hp</th><th scope=col>drat</th><th scope=col>wt</th><th scope=col>qsec</th><th scope=col>vs</th><th scope=col>am</th><th scope=col>gear</th><th scope=col>carb</th></tr>\n",
       "\t<tr><th></th><th scope=col>&lt;dbl&gt;</th><th scope=col>&lt;dbl&gt;</th><th scope=col>&lt;dbl&gt;</th><th scope=col>&lt;dbl&gt;</th><th scope=col>&lt;dbl&gt;</th><th scope=col>&lt;dbl&gt;</th><th scope=col>&lt;dbl&gt;</th><th scope=col>&lt;dbl&gt;</th><th scope=col>&lt;dbl&gt;</th><th scope=col>&lt;dbl&gt;</th><th scope=col>&lt;dbl&gt;</th></tr>\n",
       "</thead>\n",
       "<tbody>\n",
       "\t<tr><th scope=row>Mazda RX4</th><td>21.0</td><td>6</td><td>160.0</td><td>110</td><td>3.90</td><td>2.620</td><td>16.46</td><td>0</td><td>1</td><td>4</td><td>4</td></tr>\n",
       "\t<tr><th scope=row>Mazda RX4 Wag</th><td>21.0</td><td>6</td><td>160.0</td><td>110</td><td>3.90</td><td>2.875</td><td>17.02</td><td>0</td><td>1</td><td>4</td><td>4</td></tr>\n",
       "\t<tr><th scope=row>Datsun 710</th><td>22.8</td><td>4</td><td>108.0</td><td> 93</td><td>3.85</td><td>2.320</td><td>18.61</td><td>1</td><td>1</td><td>4</td><td>1</td></tr>\n",
       "\t<tr><th scope=row>Hornet 4 Drive</th><td>21.4</td><td>6</td><td>258.0</td><td>110</td><td>3.08</td><td>3.215</td><td>19.44</td><td>1</td><td>0</td><td>3</td><td>1</td></tr>\n",
       "\t<tr><th scope=row>Hornet Sportabout</th><td>18.7</td><td>8</td><td>360.0</td><td>175</td><td>3.15</td><td>3.440</td><td>17.02</td><td>0</td><td>0</td><td>3</td><td>2</td></tr>\n",
       "\t<tr><th scope=row>Valiant</th><td>18.1</td><td>6</td><td>225.0</td><td>105</td><td>2.76</td><td>3.460</td><td>20.22</td><td>1</td><td>0</td><td>3</td><td>1</td></tr>\n",
       "\t<tr><th scope=row>Duster 360</th><td>14.3</td><td>8</td><td>360.0</td><td>245</td><td>3.21</td><td>3.570</td><td>15.84</td><td>0</td><td>0</td><td>3</td><td>4</td></tr>\n",
       "\t<tr><th scope=row>Merc 240D</th><td>24.4</td><td>4</td><td>146.7</td><td> 62</td><td>3.69</td><td>3.190</td><td>20.00</td><td>1</td><td>0</td><td>4</td><td>2</td></tr>\n",
       "\t<tr><th scope=row>Merc 230</th><td>22.8</td><td>4</td><td>140.8</td><td> 95</td><td>3.92</td><td>3.150</td><td>22.90</td><td>1</td><td>0</td><td>4</td><td>2</td></tr>\n",
       "\t<tr><th scope=row>Merc 280</th><td>19.2</td><td>6</td><td>167.6</td><td>123</td><td>3.92</td><td>3.440</td><td>18.30</td><td>1</td><td>0</td><td>4</td><td>4</td></tr>\n",
       "\t<tr><th scope=row>Merc 280C</th><td>17.8</td><td>6</td><td>167.6</td><td>123</td><td>3.92</td><td>3.440</td><td>18.90</td><td>1</td><td>0</td><td>4</td><td>4</td></tr>\n",
       "\t<tr><th scope=row>Merc 450SE</th><td>16.4</td><td>8</td><td>275.8</td><td>180</td><td>3.07</td><td>4.070</td><td>17.40</td><td>0</td><td>0</td><td>3</td><td>3</td></tr>\n",
       "\t<tr><th scope=row>Merc 450SL</th><td>17.3</td><td>8</td><td>275.8</td><td>180</td><td>3.07</td><td>3.730</td><td>17.60</td><td>0</td><td>0</td><td>3</td><td>3</td></tr>\n",
       "\t<tr><th scope=row>Merc 450SLC</th><td>15.2</td><td>8</td><td>275.8</td><td>180</td><td>3.07</td><td>3.780</td><td>18.00</td><td>0</td><td>0</td><td>3</td><td>3</td></tr>\n",
       "\t<tr><th scope=row>Cadillac Fleetwood</th><td>10.4</td><td>8</td><td>472.0</td><td>205</td><td>2.93</td><td>5.250</td><td>17.98</td><td>0</td><td>0</td><td>3</td><td>4</td></tr>\n",
       "\t<tr><th scope=row>Lincoln Continental</th><td>10.4</td><td>8</td><td>460.0</td><td>215</td><td>3.00</td><td>5.424</td><td>17.82</td><td>0</td><td>0</td><td>3</td><td>4</td></tr>\n",
       "\t<tr><th scope=row>Chrysler Imperial</th><td>14.7</td><td>8</td><td>440.0</td><td>230</td><td>3.23</td><td>5.345</td><td>17.42</td><td>0</td><td>0</td><td>3</td><td>4</td></tr>\n",
       "\t<tr><th scope=row>Fiat 128</th><td>32.4</td><td>4</td><td> 78.7</td><td> 66</td><td>4.08</td><td>2.200</td><td>19.47</td><td>1</td><td>1</td><td>4</td><td>1</td></tr>\n",
       "\t<tr><th scope=row>Honda Civic</th><td>30.4</td><td>4</td><td> 75.7</td><td> 52</td><td>4.93</td><td>1.615</td><td>18.52</td><td>1</td><td>1</td><td>4</td><td>2</td></tr>\n",
       "\t<tr><th scope=row>Toyota Corolla</th><td>33.9</td><td>4</td><td> 71.1</td><td> 65</td><td>4.22</td><td>1.835</td><td>19.90</td><td>1</td><td>1</td><td>4</td><td>1</td></tr>\n",
       "\t<tr><th scope=row>Toyota Corona</th><td>21.5</td><td>4</td><td>120.1</td><td> 97</td><td>3.70</td><td>2.465</td><td>20.01</td><td>1</td><td>0</td><td>3</td><td>1</td></tr>\n",
       "\t<tr><th scope=row>Dodge Challenger</th><td>15.5</td><td>8</td><td>318.0</td><td>150</td><td>2.76</td><td>3.520</td><td>16.87</td><td>0</td><td>0</td><td>3</td><td>2</td></tr>\n",
       "\t<tr><th scope=row>AMC Javelin</th><td>15.2</td><td>8</td><td>304.0</td><td>150</td><td>3.15</td><td>3.435</td><td>17.30</td><td>0</td><td>0</td><td>3</td><td>2</td></tr>\n",
       "\t<tr><th scope=row>Camaro Z28</th><td>13.3</td><td>8</td><td>350.0</td><td>245</td><td>3.73</td><td>3.840</td><td>15.41</td><td>0</td><td>0</td><td>3</td><td>4</td></tr>\n",
       "\t<tr><th scope=row>Pontiac Firebird</th><td>19.2</td><td>8</td><td>400.0</td><td>175</td><td>3.08</td><td>3.845</td><td>17.05</td><td>0</td><td>0</td><td>3</td><td>2</td></tr>\n",
       "\t<tr><th scope=row>Fiat X1-9</th><td>27.3</td><td>4</td><td> 79.0</td><td> 66</td><td>4.08</td><td>1.935</td><td>18.90</td><td>1</td><td>1</td><td>4</td><td>1</td></tr>\n",
       "\t<tr><th scope=row>Porsche 914-2</th><td>26.0</td><td>4</td><td>120.3</td><td> 91</td><td>4.43</td><td>2.140</td><td>16.70</td><td>0</td><td>1</td><td>5</td><td>2</td></tr>\n",
       "\t<tr><th scope=row>Lotus Europa</th><td>30.4</td><td>4</td><td> 95.1</td><td>113</td><td>3.77</td><td>1.513</td><td>16.90</td><td>1</td><td>1</td><td>5</td><td>2</td></tr>\n",
       "\t<tr><th scope=row>Ford Pantera L</th><td>15.8</td><td>8</td><td>351.0</td><td>264</td><td>4.22</td><td>3.170</td><td>14.50</td><td>0</td><td>1</td><td>5</td><td>4</td></tr>\n",
       "\t<tr><th scope=row>Ferrari Dino</th><td>19.7</td><td>6</td><td>145.0</td><td>175</td><td>3.62</td><td>2.770</td><td>15.50</td><td>0</td><td>1</td><td>5</td><td>6</td></tr>\n",
       "\t<tr><th scope=row>Maserati Bora</th><td>15.0</td><td>8</td><td>301.0</td><td>335</td><td>3.54</td><td>3.570</td><td>14.60</td><td>0</td><td>1</td><td>5</td><td>8</td></tr>\n",
       "\t<tr><th scope=row>Volvo 142E</th><td>21.4</td><td>4</td><td>121.0</td><td>109</td><td>4.11</td><td>2.780</td><td>18.60</td><td>1</td><td>1</td><td>4</td><td>2</td></tr>\n",
       "</tbody>\n",
       "</table>\n"
      ],
      "text/latex": [
       "A data.frame: 32 × 11\n",
       "\\begin{tabular}{r|lllllllllll}\n",
       "  & mpg & cyl & disp & hp & drat & wt & qsec & vs & am & gear & carb\\\\\n",
       "  & <dbl> & <dbl> & <dbl> & <dbl> & <dbl> & <dbl> & <dbl> & <dbl> & <dbl> & <dbl> & <dbl>\\\\\n",
       "\\hline\n",
       "\tMazda RX4 & 21.0 & 6 & 160.0 & 110 & 3.90 & 2.620 & 16.46 & 0 & 1 & 4 & 4\\\\\n",
       "\tMazda RX4 Wag & 21.0 & 6 & 160.0 & 110 & 3.90 & 2.875 & 17.02 & 0 & 1 & 4 & 4\\\\\n",
       "\tDatsun 710 & 22.8 & 4 & 108.0 &  93 & 3.85 & 2.320 & 18.61 & 1 & 1 & 4 & 1\\\\\n",
       "\tHornet 4 Drive & 21.4 & 6 & 258.0 & 110 & 3.08 & 3.215 & 19.44 & 1 & 0 & 3 & 1\\\\\n",
       "\tHornet Sportabout & 18.7 & 8 & 360.0 & 175 & 3.15 & 3.440 & 17.02 & 0 & 0 & 3 & 2\\\\\n",
       "\tValiant & 18.1 & 6 & 225.0 & 105 & 2.76 & 3.460 & 20.22 & 1 & 0 & 3 & 1\\\\\n",
       "\tDuster 360 & 14.3 & 8 & 360.0 & 245 & 3.21 & 3.570 & 15.84 & 0 & 0 & 3 & 4\\\\\n",
       "\tMerc 240D & 24.4 & 4 & 146.7 &  62 & 3.69 & 3.190 & 20.00 & 1 & 0 & 4 & 2\\\\\n",
       "\tMerc 230 & 22.8 & 4 & 140.8 &  95 & 3.92 & 3.150 & 22.90 & 1 & 0 & 4 & 2\\\\\n",
       "\tMerc 280 & 19.2 & 6 & 167.6 & 123 & 3.92 & 3.440 & 18.30 & 1 & 0 & 4 & 4\\\\\n",
       "\tMerc 280C & 17.8 & 6 & 167.6 & 123 & 3.92 & 3.440 & 18.90 & 1 & 0 & 4 & 4\\\\\n",
       "\tMerc 450SE & 16.4 & 8 & 275.8 & 180 & 3.07 & 4.070 & 17.40 & 0 & 0 & 3 & 3\\\\\n",
       "\tMerc 450SL & 17.3 & 8 & 275.8 & 180 & 3.07 & 3.730 & 17.60 & 0 & 0 & 3 & 3\\\\\n",
       "\tMerc 450SLC & 15.2 & 8 & 275.8 & 180 & 3.07 & 3.780 & 18.00 & 0 & 0 & 3 & 3\\\\\n",
       "\tCadillac Fleetwood & 10.4 & 8 & 472.0 & 205 & 2.93 & 5.250 & 17.98 & 0 & 0 & 3 & 4\\\\\n",
       "\tLincoln Continental & 10.4 & 8 & 460.0 & 215 & 3.00 & 5.424 & 17.82 & 0 & 0 & 3 & 4\\\\\n",
       "\tChrysler Imperial & 14.7 & 8 & 440.0 & 230 & 3.23 & 5.345 & 17.42 & 0 & 0 & 3 & 4\\\\\n",
       "\tFiat 128 & 32.4 & 4 &  78.7 &  66 & 4.08 & 2.200 & 19.47 & 1 & 1 & 4 & 1\\\\\n",
       "\tHonda Civic & 30.4 & 4 &  75.7 &  52 & 4.93 & 1.615 & 18.52 & 1 & 1 & 4 & 2\\\\\n",
       "\tToyota Corolla & 33.9 & 4 &  71.1 &  65 & 4.22 & 1.835 & 19.90 & 1 & 1 & 4 & 1\\\\\n",
       "\tToyota Corona & 21.5 & 4 & 120.1 &  97 & 3.70 & 2.465 & 20.01 & 1 & 0 & 3 & 1\\\\\n",
       "\tDodge Challenger & 15.5 & 8 & 318.0 & 150 & 2.76 & 3.520 & 16.87 & 0 & 0 & 3 & 2\\\\\n",
       "\tAMC Javelin & 15.2 & 8 & 304.0 & 150 & 3.15 & 3.435 & 17.30 & 0 & 0 & 3 & 2\\\\\n",
       "\tCamaro Z28 & 13.3 & 8 & 350.0 & 245 & 3.73 & 3.840 & 15.41 & 0 & 0 & 3 & 4\\\\\n",
       "\tPontiac Firebird & 19.2 & 8 & 400.0 & 175 & 3.08 & 3.845 & 17.05 & 0 & 0 & 3 & 2\\\\\n",
       "\tFiat X1-9 & 27.3 & 4 &  79.0 &  66 & 4.08 & 1.935 & 18.90 & 1 & 1 & 4 & 1\\\\\n",
       "\tPorsche 914-2 & 26.0 & 4 & 120.3 &  91 & 4.43 & 2.140 & 16.70 & 0 & 1 & 5 & 2\\\\\n",
       "\tLotus Europa & 30.4 & 4 &  95.1 & 113 & 3.77 & 1.513 & 16.90 & 1 & 1 & 5 & 2\\\\\n",
       "\tFord Pantera L & 15.8 & 8 & 351.0 & 264 & 4.22 & 3.170 & 14.50 & 0 & 1 & 5 & 4\\\\\n",
       "\tFerrari Dino & 19.7 & 6 & 145.0 & 175 & 3.62 & 2.770 & 15.50 & 0 & 1 & 5 & 6\\\\\n",
       "\tMaserati Bora & 15.0 & 8 & 301.0 & 335 & 3.54 & 3.570 & 14.60 & 0 & 1 & 5 & 8\\\\\n",
       "\tVolvo 142E & 21.4 & 4 & 121.0 & 109 & 4.11 & 2.780 & 18.60 & 1 & 1 & 4 & 2\\\\\n",
       "\\end{tabular}\n"
      ],
      "text/markdown": [
       "\n",
       "A data.frame: 32 × 11\n",
       "\n",
       "| <!--/--> | mpg &lt;dbl&gt; | cyl &lt;dbl&gt; | disp &lt;dbl&gt; | hp &lt;dbl&gt; | drat &lt;dbl&gt; | wt &lt;dbl&gt; | qsec &lt;dbl&gt; | vs &lt;dbl&gt; | am &lt;dbl&gt; | gear &lt;dbl&gt; | carb &lt;dbl&gt; |\n",
       "|---|---|---|---|---|---|---|---|---|---|---|---|\n",
       "| Mazda RX4 | 21.0 | 6 | 160.0 | 110 | 3.90 | 2.620 | 16.46 | 0 | 1 | 4 | 4 |\n",
       "| Mazda RX4 Wag | 21.0 | 6 | 160.0 | 110 | 3.90 | 2.875 | 17.02 | 0 | 1 | 4 | 4 |\n",
       "| Datsun 710 | 22.8 | 4 | 108.0 |  93 | 3.85 | 2.320 | 18.61 | 1 | 1 | 4 | 1 |\n",
       "| Hornet 4 Drive | 21.4 | 6 | 258.0 | 110 | 3.08 | 3.215 | 19.44 | 1 | 0 | 3 | 1 |\n",
       "| Hornet Sportabout | 18.7 | 8 | 360.0 | 175 | 3.15 | 3.440 | 17.02 | 0 | 0 | 3 | 2 |\n",
       "| Valiant | 18.1 | 6 | 225.0 | 105 | 2.76 | 3.460 | 20.22 | 1 | 0 | 3 | 1 |\n",
       "| Duster 360 | 14.3 | 8 | 360.0 | 245 | 3.21 | 3.570 | 15.84 | 0 | 0 | 3 | 4 |\n",
       "| Merc 240D | 24.4 | 4 | 146.7 |  62 | 3.69 | 3.190 | 20.00 | 1 | 0 | 4 | 2 |\n",
       "| Merc 230 | 22.8 | 4 | 140.8 |  95 | 3.92 | 3.150 | 22.90 | 1 | 0 | 4 | 2 |\n",
       "| Merc 280 | 19.2 | 6 | 167.6 | 123 | 3.92 | 3.440 | 18.30 | 1 | 0 | 4 | 4 |\n",
       "| Merc 280C | 17.8 | 6 | 167.6 | 123 | 3.92 | 3.440 | 18.90 | 1 | 0 | 4 | 4 |\n",
       "| Merc 450SE | 16.4 | 8 | 275.8 | 180 | 3.07 | 4.070 | 17.40 | 0 | 0 | 3 | 3 |\n",
       "| Merc 450SL | 17.3 | 8 | 275.8 | 180 | 3.07 | 3.730 | 17.60 | 0 | 0 | 3 | 3 |\n",
       "| Merc 450SLC | 15.2 | 8 | 275.8 | 180 | 3.07 | 3.780 | 18.00 | 0 | 0 | 3 | 3 |\n",
       "| Cadillac Fleetwood | 10.4 | 8 | 472.0 | 205 | 2.93 | 5.250 | 17.98 | 0 | 0 | 3 | 4 |\n",
       "| Lincoln Continental | 10.4 | 8 | 460.0 | 215 | 3.00 | 5.424 | 17.82 | 0 | 0 | 3 | 4 |\n",
       "| Chrysler Imperial | 14.7 | 8 | 440.0 | 230 | 3.23 | 5.345 | 17.42 | 0 | 0 | 3 | 4 |\n",
       "| Fiat 128 | 32.4 | 4 |  78.7 |  66 | 4.08 | 2.200 | 19.47 | 1 | 1 | 4 | 1 |\n",
       "| Honda Civic | 30.4 | 4 |  75.7 |  52 | 4.93 | 1.615 | 18.52 | 1 | 1 | 4 | 2 |\n",
       "| Toyota Corolla | 33.9 | 4 |  71.1 |  65 | 4.22 | 1.835 | 19.90 | 1 | 1 | 4 | 1 |\n",
       "| Toyota Corona | 21.5 | 4 | 120.1 |  97 | 3.70 | 2.465 | 20.01 | 1 | 0 | 3 | 1 |\n",
       "| Dodge Challenger | 15.5 | 8 | 318.0 | 150 | 2.76 | 3.520 | 16.87 | 0 | 0 | 3 | 2 |\n",
       "| AMC Javelin | 15.2 | 8 | 304.0 | 150 | 3.15 | 3.435 | 17.30 | 0 | 0 | 3 | 2 |\n",
       "| Camaro Z28 | 13.3 | 8 | 350.0 | 245 | 3.73 | 3.840 | 15.41 | 0 | 0 | 3 | 4 |\n",
       "| Pontiac Firebird | 19.2 | 8 | 400.0 | 175 | 3.08 | 3.845 | 17.05 | 0 | 0 | 3 | 2 |\n",
       "| Fiat X1-9 | 27.3 | 4 |  79.0 |  66 | 4.08 | 1.935 | 18.90 | 1 | 1 | 4 | 1 |\n",
       "| Porsche 914-2 | 26.0 | 4 | 120.3 |  91 | 4.43 | 2.140 | 16.70 | 0 | 1 | 5 | 2 |\n",
       "| Lotus Europa | 30.4 | 4 |  95.1 | 113 | 3.77 | 1.513 | 16.90 | 1 | 1 | 5 | 2 |\n",
       "| Ford Pantera L | 15.8 | 8 | 351.0 | 264 | 4.22 | 3.170 | 14.50 | 0 | 1 | 5 | 4 |\n",
       "| Ferrari Dino | 19.7 | 6 | 145.0 | 175 | 3.62 | 2.770 | 15.50 | 0 | 1 | 5 | 6 |\n",
       "| Maserati Bora | 15.0 | 8 | 301.0 | 335 | 3.54 | 3.570 | 14.60 | 0 | 1 | 5 | 8 |\n",
       "| Volvo 142E | 21.4 | 4 | 121.0 | 109 | 4.11 | 2.780 | 18.60 | 1 | 1 | 4 | 2 |\n",
       "\n"
      ],
      "text/plain": [
       "                    mpg  cyl disp  hp  drat wt    qsec  vs am gear carb\n",
       "Mazda RX4           21.0 6   160.0 110 3.90 2.620 16.46 0  1  4    4   \n",
       "Mazda RX4 Wag       21.0 6   160.0 110 3.90 2.875 17.02 0  1  4    4   \n",
       "Datsun 710          22.8 4   108.0  93 3.85 2.320 18.61 1  1  4    1   \n",
       "Hornet 4 Drive      21.4 6   258.0 110 3.08 3.215 19.44 1  0  3    1   \n",
       "Hornet Sportabout   18.7 8   360.0 175 3.15 3.440 17.02 0  0  3    2   \n",
       "Valiant             18.1 6   225.0 105 2.76 3.460 20.22 1  0  3    1   \n",
       "Duster 360          14.3 8   360.0 245 3.21 3.570 15.84 0  0  3    4   \n",
       "Merc 240D           24.4 4   146.7  62 3.69 3.190 20.00 1  0  4    2   \n",
       "Merc 230            22.8 4   140.8  95 3.92 3.150 22.90 1  0  4    2   \n",
       "Merc 280            19.2 6   167.6 123 3.92 3.440 18.30 1  0  4    4   \n",
       "Merc 280C           17.8 6   167.6 123 3.92 3.440 18.90 1  0  4    4   \n",
       "Merc 450SE          16.4 8   275.8 180 3.07 4.070 17.40 0  0  3    3   \n",
       "Merc 450SL          17.3 8   275.8 180 3.07 3.730 17.60 0  0  3    3   \n",
       "Merc 450SLC         15.2 8   275.8 180 3.07 3.780 18.00 0  0  3    3   \n",
       "Cadillac Fleetwood  10.4 8   472.0 205 2.93 5.250 17.98 0  0  3    4   \n",
       "Lincoln Continental 10.4 8   460.0 215 3.00 5.424 17.82 0  0  3    4   \n",
       "Chrysler Imperial   14.7 8   440.0 230 3.23 5.345 17.42 0  0  3    4   \n",
       "Fiat 128            32.4 4    78.7  66 4.08 2.200 19.47 1  1  4    1   \n",
       "Honda Civic         30.4 4    75.7  52 4.93 1.615 18.52 1  1  4    2   \n",
       "Toyota Corolla      33.9 4    71.1  65 4.22 1.835 19.90 1  1  4    1   \n",
       "Toyota Corona       21.5 4   120.1  97 3.70 2.465 20.01 1  0  3    1   \n",
       "Dodge Challenger    15.5 8   318.0 150 2.76 3.520 16.87 0  0  3    2   \n",
       "AMC Javelin         15.2 8   304.0 150 3.15 3.435 17.30 0  0  3    2   \n",
       "Camaro Z28          13.3 8   350.0 245 3.73 3.840 15.41 0  0  3    4   \n",
       "Pontiac Firebird    19.2 8   400.0 175 3.08 3.845 17.05 0  0  3    2   \n",
       "Fiat X1-9           27.3 4    79.0  66 4.08 1.935 18.90 1  1  4    1   \n",
       "Porsche 914-2       26.0 4   120.3  91 4.43 2.140 16.70 0  1  5    2   \n",
       "Lotus Europa        30.4 4    95.1 113 3.77 1.513 16.90 1  1  5    2   \n",
       "Ford Pantera L      15.8 8   351.0 264 4.22 3.170 14.50 0  1  5    4   \n",
       "Ferrari Dino        19.7 6   145.0 175 3.62 2.770 15.50 0  1  5    6   \n",
       "Maserati Bora       15.0 8   301.0 335 3.54 3.570 14.60 0  1  5    8   \n",
       "Volvo 142E          21.4 4   121.0 109 4.11 2.780 18.60 1  1  4    2   "
      ]
     },
     "metadata": {},
     "output_type": "display_data"
    }
   ],
   "source": [
    "mtcars"
   ]
  },
  {
   "cell_type": "markdown",
   "metadata": {
    "id": "bRocfPCAwe9e"
   },
   "source": [
    "Note that the length function returns the no. of columns here:"
   ]
  },
  {
   "cell_type": "code",
   "execution_count": null,
   "metadata": {
    "colab": {
     "base_uri": "https://localhost:8080/",
     "height": 34
    },
    "id": "XmRmHudJwYiQ",
    "outputId": "72b12695-b20f-48f3-9101-d1d455933ce1"
   },
   "outputs": [
    {
     "data": {
      "text/html": [
       "11"
      ],
      "text/latex": [
       "11"
      ],
      "text/markdown": [
       "11"
      ],
      "text/plain": [
       "[1] 11"
      ]
     },
     "metadata": {},
     "output_type": "display_data"
    }
   ],
   "source": [
    "length(mtcars)"
   ]
  },
  {
   "cell_type": "markdown",
   "metadata": {
    "id": "iPFhMzLywwad"
   },
   "source": [
    "There are functions for the numbers of rows and columns:"
   ]
  },
  {
   "cell_type": "code",
   "execution_count": null,
   "metadata": {
    "colab": {
     "base_uri": "https://localhost:8080/",
     "height": 34
    },
    "id": "rT4FJWH9wld5",
    "outputId": "6c83a6c2-8480-4c34-da7a-ec97a1851e81"
   },
   "outputs": [
    {
     "data": {
      "text/html": [
       "32"
      ],
      "text/latex": [
       "32"
      ],
      "text/markdown": [
       "32"
      ],
      "text/plain": [
       "[1] 32"
      ]
     },
     "metadata": {},
     "output_type": "display_data"
    }
   ],
   "source": [
    "nrow(mtcars)"
   ]
  },
  {
   "cell_type": "code",
   "execution_count": null,
   "metadata": {
    "colab": {
     "base_uri": "https://localhost:8080/",
     "height": 34
    },
    "id": "H5I0m6BXwyA8",
    "outputId": "7595fe93-f2c2-44b8-dee1-1b1c485aa209"
   },
   "outputs": [
    {
     "data": {
      "text/html": [
       "11"
      ],
      "text/latex": [
       "11"
      ],
      "text/markdown": [
       "11"
      ],
      "text/plain": [
       "[1] 11"
      ]
     },
     "metadata": {},
     "output_type": "display_data"
    }
   ],
   "source": [
    "ncol(mtcars)"
   ]
  },
  {
   "cell_type": "markdown",
   "metadata": {
    "id": "eZx8ZudPxDZd"
   },
   "source": [
    "For convenience, the analogue of formatted printing in Python can be done as follows here:\n"
   ]
  },
  {
   "cell_type": "code",
   "execution_count": null,
   "metadata": {
    "colab": {
     "base_uri": "https://localhost:8080/"
    },
    "id": "s_pljwNgxNfT",
    "outputId": "84ffd765-c452-46e6-dcfc-0e1b4d364b21"
   },
   "outputs": [
    {
     "name": "stdout",
     "output_type": "stream",
     "text": [
      "nrow(mtcars) =  32"
     ]
    }
   ],
   "source": [
    "cat(\"nrow(mtcars) = \", nrow(mtcars))"
   ]
  },
  {
   "cell_type": "markdown",
   "metadata": {
    "id": "kIF3O4CQtLp6"
   },
   "source": [
    "#### Creating a dataframe\n",
    "\n",
    "This is from section 2.2.4 of Kabacoff, p.26, Listing 2.4. Pretty similar to how we create dataframes in Pandas:"
   ]
  },
  {
   "cell_type": "code",
   "execution_count": null,
   "metadata": {
    "id": "Rpkv8-lSuHRi"
   },
   "outputs": [],
   "source": [
    "?data.frame"
   ]
  },
  {
   "cell_type": "code",
   "execution_count": 4,
   "metadata": {
    "colab": {
     "base_uri": "https://localhost:8080/"
    },
    "id": "Bz1JJvFAtdKJ",
    "outputId": "21ae4126-154b-48a5-ff69-b238c9c69d67"
   },
   "outputs": [
    {
     "name": "stdout",
     "output_type": "stream",
     "text": [
      "  patientId age diabetes    status\n",
      "1         1  25    Type1      Poor\n",
      "2         2  34    Type2  Improved\n",
      "3         3  28    Type1 Excellent\n",
      "4         4  52    Type1      Poor\n"
     ]
    }
   ],
   "source": [
    "# Create columns individually\n",
    "patientId <- c(1:4)\n",
    "age <- c(25, 34, 28, 52)\n",
    "diabetes <- c(\"Type1\", \"Type2\", \"Type1\", \"Type1\")\n",
    "status <- c(\"Poor\", \"Improved\", \"Excellent\", \"Poor\")\n",
    "\n",
    "# Instantiate dataframe obj\n",
    "### Note how the columns are passed as params here.\n",
    "### The index column is created automatically\n",
    "df_patients <- data.frame(patientId, age, diabetes, status)\n",
    "\n",
    "print(df_patients)"
   ]
  },
  {
   "cell_type": "code",
   "execution_count": 5,
   "metadata": {
    "colab": {
     "base_uri": "https://localhost:8080/",
     "height": 224
    },
    "id": "mdJ2FgirtdBU",
    "outputId": "e34a2a89-d8e8-48f2-c5f9-e3a04bb4cbed"
   },
   "outputs": [
    {
     "data": {
      "text/html": [
       "<table class=\"dataframe\">\n",
       "<caption>A data.frame: 4 × 4</caption>\n",
       "<thead>\n",
       "\t<tr><th scope=col>patientId</th><th scope=col>age</th><th scope=col>diabetes</th><th scope=col>status</th></tr>\n",
       "\t<tr><th scope=col>&lt;int&gt;</th><th scope=col>&lt;dbl&gt;</th><th scope=col>&lt;chr&gt;</th><th scope=col>&lt;chr&gt;</th></tr>\n",
       "</thead>\n",
       "<tbody>\n",
       "\t<tr><td>1</td><td>25</td><td>Type1</td><td>Poor     </td></tr>\n",
       "\t<tr><td>2</td><td>34</td><td>Type2</td><td>Improved </td></tr>\n",
       "\t<tr><td>3</td><td>28</td><td>Type1</td><td>Excellent</td></tr>\n",
       "\t<tr><td>4</td><td>52</td><td>Type1</td><td>Poor     </td></tr>\n",
       "</tbody>\n",
       "</table>\n"
      ],
      "text/latex": [
       "A data.frame: 4 × 4\n",
       "\\begin{tabular}{llll}\n",
       " patientId & age & diabetes & status\\\\\n",
       " <int> & <dbl> & <chr> & <chr>\\\\\n",
       "\\hline\n",
       "\t 1 & 25 & Type1 & Poor     \\\\\n",
       "\t 2 & 34 & Type2 & Improved \\\\\n",
       "\t 3 & 28 & Type1 & Excellent\\\\\n",
       "\t 4 & 52 & Type1 & Poor     \\\\\n",
       "\\end{tabular}\n"
      ],
      "text/markdown": [
       "\n",
       "A data.frame: 4 × 4\n",
       "\n",
       "| patientId &lt;int&gt; | age &lt;dbl&gt; | diabetes &lt;chr&gt; | status &lt;chr&gt; |\n",
       "|---|---|---|---|\n",
       "| 1 | 25 | Type1 | Poor      |\n",
       "| 2 | 34 | Type2 | Improved  |\n",
       "| 3 | 28 | Type1 | Excellent |\n",
       "| 4 | 52 | Type1 | Poor      |\n",
       "\n"
      ],
      "text/plain": [
       "  patientId age diabetes status   \n",
       "1 1         25  Type1    Poor     \n",
       "2 2         34  Type2    Improved \n",
       "3 3         28  Type1    Excellent\n",
       "4 4         52  Type1    Poor     "
      ]
     },
     "metadata": {},
     "output_type": "display_data"
    }
   ],
   "source": [
    "df_patients"
   ]
  },
  {
   "cell_type": "code",
   "execution_count": 6,
   "metadata": {
    "colab": {
     "base_uri": "https://localhost:8080/",
     "height": 149
    },
    "id": "CP8cNouXwVjB",
    "outputId": "97b66576-874b-4884-b31a-b067f5ff099c"
   },
   "outputs": [
    {
     "data": {
      "text/html": [
       "<dl>\n",
       "\t<dt>$names</dt>\n",
       "\t\t<dd><style>\n",
       ".list-inline {list-style: none; margin:0; padding: 0}\n",
       ".list-inline>li {display: inline-block}\n",
       ".list-inline>li:not(:last-child)::after {content: \"\\00b7\"; padding: 0 .5ex}\n",
       "</style>\n",
       "<ol class=list-inline><li>'patientId'</li><li>'age'</li><li>'diabetes'</li><li>'status'</li></ol>\n",
       "</dd>\n",
       "\t<dt>$class</dt>\n",
       "\t\t<dd>'data.frame'</dd>\n",
       "\t<dt>$row.names</dt>\n",
       "\t\t<dd><style>\n",
       ".list-inline {list-style: none; margin:0; padding: 0}\n",
       ".list-inline>li {display: inline-block}\n",
       ".list-inline>li:not(:last-child)::after {content: \"\\00b7\"; padding: 0 .5ex}\n",
       "</style>\n",
       "<ol class=list-inline><li>1</li><li>2</li><li>3</li><li>4</li></ol>\n",
       "</dd>\n",
       "</dl>\n"
      ],
      "text/latex": [
       "\\begin{description}\n",
       "\\item[\\$names] \\begin{enumerate*}\n",
       "\\item 'patientId'\n",
       "\\item 'age'\n",
       "\\item 'diabetes'\n",
       "\\item 'status'\n",
       "\\end{enumerate*}\n",
       "\n",
       "\\item[\\$class] 'data.frame'\n",
       "\\item[\\$row.names] \\begin{enumerate*}\n",
       "\\item 1\n",
       "\\item 2\n",
       "\\item 3\n",
       "\\item 4\n",
       "\\end{enumerate*}\n",
       "\n",
       "\\end{description}\n"
      ],
      "text/markdown": [
       "$names\n",
       ":   1. 'patientId'\n",
       "2. 'age'\n",
       "3. 'diabetes'\n",
       "4. 'status'\n",
       "\n",
       "\n",
       "\n",
       "$class\n",
       ":   'data.frame'\n",
       "$row.names\n",
       ":   1. 1\n",
       "2. 2\n",
       "3. 3\n",
       "4. 4\n",
       "\n",
       "\n",
       "\n",
       "\n",
       "\n"
      ],
      "text/plain": [
       "$names\n",
       "[1] \"patientId\" \"age\"       \"diabetes\"  \"status\"   \n",
       "\n",
       "$class\n",
       "[1] \"data.frame\"\n",
       "\n",
       "$row.names\n",
       "[1] 1 2 3 4\n"
      ]
     },
     "metadata": {},
     "output_type": "display_data"
    }
   ],
   "source": [
    "attributes(df_patients)"
   ]
  },
  {
   "cell_type": "markdown",
   "metadata": {
    "id": "obALgQZev5rZ"
   },
   "source": [
    "The R analogue of Pythons *df_patients['age']* is ***df_patients$age***."
   ]
  },
  {
   "cell_type": "code",
   "execution_count": 7,
   "metadata": {
    "colab": {
     "base_uri": "https://localhost:8080/"
    },
    "id": "x3KPnsJ1tcdU",
    "outputId": "89d6267d-4941-4deb-baa4-8b82b8a4eaf6"
   },
   "outputs": [
    {
     "name": "stdout",
     "output_type": "stream",
     "text": [
      "[1] 25 34 28 52\n"
     ]
    }
   ],
   "source": [
    "print(df_patients$age)"
   ]
  },
  {
   "cell_type": "markdown",
   "metadata": {
    "id": "hENV7fhNxg7i"
   },
   "source": [
    "#### Cross-tabulation and the *with* function\n",
    "\n",
    "By cross-tabulation we mean making a table out of columns and counting the number of incidences in the dataframe. (It's not a pivot table)"
   ]
  },
  {
   "cell_type": "code",
   "execution_count": null,
   "metadata": {
    "colab": {
     "base_uri": "https://localhost:8080/",
     "height": 86
    },
    "id": "-t4zXZDOfvo3",
    "outputId": "b6719ae7-f63d-4c21-9b6a-2114a2d4f85b"
   },
   "outputs": [
    {
     "data": {
      "text/plain": [
       "       \n",
       "        Excellent Improved Poor\n",
       "  Type1         1        0    2\n",
       "  Type2         0        1    0"
      ]
     },
     "metadata": {},
     "output_type": "display_data"
    }
   ],
   "source": [
    "# Status and diabetes type cross-tabulation\n",
    "table(df_patients$diabetes, df_patients$status)"
   ]
  },
  {
   "cell_type": "markdown",
   "metadata": {
    "id": "aXNrJKPkGJmH"
   },
   "source": [
    "The with function allows one to access attributes and manipulate them as follows. For example, the code:"
   ]
  },
  {
   "cell_type": "code",
   "execution_count": 18,
   "metadata": {
    "colab": {
     "base_uri": "https://localhost:8080/",
     "height": 892
    },
    "id": "pnUkGaqifvhK",
    "outputId": "97a8a0ae-86b7-467d-a7d5-c2dc662d059d"
   },
   "outputs": [
    {
     "data": {
      "text/plain": [
       "   Min. 1st Qu.  Median    Mean 3rd Qu.    Max. \n",
       "  10.40   15.43   19.20   20.09   22.80   33.90 "
      ]
     },
     "metadata": {},
     "output_type": "display_data"
    },
    {
     "data": {
      "image/png": "[encoded data removed]",
      "text/plain": [
       "plot without title"
      ]
     },
     "metadata": {
      "image/png": {
       "height": 420,
       "width": 420
      }
     },
     "output_type": "display_data"
    },
    {
     "data": {
      "image/png": "[encoded data removed]",
      "text/plain": [
       "plot without title"
      ]
     },
     "metadata": {
      "image/png": {
       "height": 420,
       "width": 420
      }
     },
     "output_type": "display_data"
    }
   ],
   "source": [
    "# Kabacoff p.27\n",
    "## Basic stats of the mpg (miles per gallon) column of mtcars\n",
    "summary(mtcars$mpg)\n",
    "## Plot scatter plot of disp(lacement) vs mpg\n",
    "plot(mtcars$mpg, mtcars$disp)\n",
    "## Plot scatter plot of wt (weight) vs mpg\n",
    "plot(mtcars$mpg, mtcars$wt)\n"
   ]
  },
  {
   "cell_type": "markdown",
   "metadata": {
    "id": "y1enld5ZHNda"
   },
   "source": [
    "can be re-written more conveniently as follows:"
   ]
  },
  {
   "cell_type": "code",
   "execution_count": 26,
   "metadata": {
    "colab": {
     "base_uri": "https://localhost:8080/",
     "height": 892
    },
    "id": "mklqv3oHfvZK",
    "outputId": "2a6ed6aa-7a27-4645-c46d-4a65c0eef766"
   },
   "outputs": [
    {
     "name": "stdout",
     "output_type": "stream",
     "text": [
      "   Min. 1st Qu.  Median    Mean 3rd Qu.    Max. \n",
      "  10.40   15.43   19.20   20.09   22.80   33.90 \n"
     ]
    },
    {
     "data": {
      "image/png": "[encoded data removed]",
      "text/plain": [
       "plot without title"
      ]
     },
     "metadata": {
      "image/png": {
       "height": 420,
       "width": 420
      }
     },
     "output_type": "display_data"
    },
    {
     "data": {
      "image/png": "[encoded data removed]",
      "text/plain": [
       "plot without title"
      ]
     },
     "metadata": {
      "image/png": {
       "height": 420,
       "width": 420
      }
     },
     "output_type": "display_data"
    }
   ],
   "source": [
    "with(mtcars,\n",
    "    {\n",
    "      print(summary(mpg))\n",
    "      plot(mpg, disp)\n",
    "      plot(mpg, wt)\n",
    "    }\n",
    ")\n"
   ]
  },
  {
   "cell_type": "markdown",
   "metadata": {
    "id": "7bBERGTJIRYf"
   },
   "source": [
    "**Comment:** The *summary()* function returns the basic stats of an array (mean, std, quantiles, median).\n",
    "\n",
    "One fact about the *with()* function is that any variable assignment using * <-* withing its brackets is purely local. To create a global object from within the *with()* function brackets, the assignment is done using **<<-** instead of <-. "
   ]
  },
  {
   "cell_type": "markdown",
   "metadata": {
    "id": "JYcZWslbJZNb"
   },
   "source": [
    "#### Case identifiers\n",
    "\n",
    "Returning to *df_patients*. The assignment:\n",
    "\n",
    "      df_patients <- data.frame(patientId, age, diabetes, status)\n",
    "\n",
    "does not specify the *row.names* parameter of the dataframe. This parameter is analogous to the Pandas dataframes index. Setting *patientId* as the row names gives us the following:"
   ]
  },
  {
   "cell_type": "code",
   "execution_count": 28,
   "metadata": {
    "colab": {
     "base_uri": "https://localhost:8080/",
     "height": 224
    },
    "id": "oD5d57boepSI",
    "outputId": "ef1b9b6b-6484-4248-a63d-df2cd26ec814"
   },
   "outputs": [
    {
     "data": {
      "text/html": [
       "<table class=\"dataframe\">\n",
       "<caption>A data.frame: 4 × 4</caption>\n",
       "<thead>\n",
       "\t<tr><th></th><th scope=col>patientId</th><th scope=col>age</th><th scope=col>diabetes</th><th scope=col>status</th></tr>\n",
       "\t<tr><th></th><th scope=col>&lt;int&gt;</th><th scope=col>&lt;dbl&gt;</th><th scope=col>&lt;chr&gt;</th><th scope=col>&lt;chr&gt;</th></tr>\n",
       "</thead>\n",
       "<tbody>\n",
       "\t<tr><th scope=row>1</th><td>1</td><td>25</td><td>Type1</td><td>Poor     </td></tr>\n",
       "\t<tr><th scope=row>2</th><td>2</td><td>34</td><td>Type2</td><td>Improved </td></tr>\n",
       "\t<tr><th scope=row>3</th><td>3</td><td>28</td><td>Type1</td><td>Excellent</td></tr>\n",
       "\t<tr><th scope=row>4</th><td>4</td><td>52</td><td>Type1</td><td>Poor     </td></tr>\n",
       "</tbody>\n",
       "</table>\n"
      ],
      "text/latex": [
       "A data.frame: 4 × 4\n",
       "\\begin{tabular}{r|llll}\n",
       "  & patientId & age & diabetes & status\\\\\n",
       "  & <int> & <dbl> & <chr> & <chr>\\\\\n",
       "\\hline\n",
       "\t1 & 1 & 25 & Type1 & Poor     \\\\\n",
       "\t2 & 2 & 34 & Type2 & Improved \\\\\n",
       "\t3 & 3 & 28 & Type1 & Excellent\\\\\n",
       "\t4 & 4 & 52 & Type1 & Poor     \\\\\n",
       "\\end{tabular}\n"
      ],
      "text/markdown": [
       "\n",
       "A data.frame: 4 × 4\n",
       "\n",
       "| <!--/--> | patientId &lt;int&gt; | age &lt;dbl&gt; | diabetes &lt;chr&gt; | status &lt;chr&gt; |\n",
       "|---|---|---|---|---|\n",
       "| 1 | 1 | 25 | Type1 | Poor      |\n",
       "| 2 | 2 | 34 | Type2 | Improved  |\n",
       "| 3 | 3 | 28 | Type1 | Excellent |\n",
       "| 4 | 4 | 52 | Type1 | Poor      |\n",
       "\n"
      ],
      "text/plain": [
       "  patientId age diabetes status   \n",
       "1 1         25  Type1    Poor     \n",
       "2 2         34  Type2    Improved \n",
       "3 3         28  Type1    Excellent\n",
       "4 4         52  Type1    Poor     "
      ]
     },
     "metadata": {},
     "output_type": "display_data"
    }
   ],
   "source": [
    "# Instantiate dataframe obj\n",
    "df_pat2 <- data.frame(patientId, age, diabetes, status, row.names = patientId)\n",
    "\n",
    "df_pat2"
   ]
  },
  {
   "cell_type": "markdown",
   "metadata": {
    "id": "Ft8TBQ1DKtBb"
   },
   "source": [
    "Now compare with:"
   ]
  },
  {
   "cell_type": "code",
   "execution_count": 29,
   "metadata": {
    "colab": {
     "base_uri": "https://localhost:8080/",
     "height": 224
    },
    "id": "p9WCY7ALJ4xg",
    "outputId": "6ede4da4-d43b-4db6-811e-fc3c36369f6d"
   },
   "outputs": [
    {
     "data": {
      "text/html": [
       "<table class=\"dataframe\">\n",
       "<caption>A data.frame: 4 × 4</caption>\n",
       "<thead>\n",
       "\t<tr><th scope=col>patientId</th><th scope=col>age</th><th scope=col>diabetes</th><th scope=col>status</th></tr>\n",
       "\t<tr><th scope=col>&lt;int&gt;</th><th scope=col>&lt;dbl&gt;</th><th scope=col>&lt;chr&gt;</th><th scope=col>&lt;chr&gt;</th></tr>\n",
       "</thead>\n",
       "<tbody>\n",
       "\t<tr><td>1</td><td>25</td><td>Type1</td><td>Poor     </td></tr>\n",
       "\t<tr><td>2</td><td>34</td><td>Type2</td><td>Improved </td></tr>\n",
       "\t<tr><td>3</td><td>28</td><td>Type1</td><td>Excellent</td></tr>\n",
       "\t<tr><td>4</td><td>52</td><td>Type1</td><td>Poor     </td></tr>\n",
       "</tbody>\n",
       "</table>\n"
      ],
      "text/latex": [
       "A data.frame: 4 × 4\n",
       "\\begin{tabular}{llll}\n",
       " patientId & age & diabetes & status\\\\\n",
       " <int> & <dbl> & <chr> & <chr>\\\\\n",
       "\\hline\n",
       "\t 1 & 25 & Type1 & Poor     \\\\\n",
       "\t 2 & 34 & Type2 & Improved \\\\\n",
       "\t 3 & 28 & Type1 & Excellent\\\\\n",
       "\t 4 & 52 & Type1 & Poor     \\\\\n",
       "\\end{tabular}\n"
      ],
      "text/markdown": [
       "\n",
       "A data.frame: 4 × 4\n",
       "\n",
       "| patientId &lt;int&gt; | age &lt;dbl&gt; | diabetes &lt;chr&gt; | status &lt;chr&gt; |\n",
       "|---|---|---|---|\n",
       "| 1 | 25 | Type1 | Poor      |\n",
       "| 2 | 34 | Type2 | Improved  |\n",
       "| 3 | 28 | Type1 | Excellent |\n",
       "| 4 | 52 | Type1 | Poor      |\n",
       "\n"
      ],
      "text/plain": [
       "  patientId age diabetes status   \n",
       "1 1         25  Type1    Poor     \n",
       "2 2         34  Type2    Improved \n",
       "3 3         28  Type1    Excellent\n",
       "4 4         52  Type1    Poor     "
      ]
     },
     "metadata": {},
     "output_type": "display_data"
    }
   ],
   "source": [
    "df_patients"
   ]
  },
  {
   "cell_type": "markdown",
   "metadata": {
    "id": "cFt2knt4LO11"
   },
   "source": [
    "#### Useful functions\n",
    "\n",
    "At this point, there are several natural questions that arise:\n",
    "- How do I access the indices? E.g. how do I access the names of cars in the *mtcars* example?\n",
    "- How do I get the list of columns in a dataframe?\n",
    "- How do we do conditional selections in R dataframes?\n",
    "\n",
    "First, it's useful to know the existence of the *attroibutes()* function, which returns the attributes of a variable in R:"
   ]
  },
  {
   "cell_type": "code",
   "execution_count": 35,
   "metadata": {
    "colab": {
     "base_uri": "https://localhost:8080/",
     "height": 201
    },
    "id": "ntl1UV9cL1IA",
    "outputId": "6e599997-00b5-48ce-80cc-a451b50559b6"
   },
   "outputs": [
    {
     "name": "stdout",
     "output_type": "stream",
     "text": [
      "attributes(mtcars):\n"
     ]
    },
    {
     "data": {
      "text/html": [
       "<dl>\n",
       "\t<dt>$names</dt>\n",
       "\t\t<dd><style>\n",
       ".list-inline {list-style: none; margin:0; padding: 0}\n",
       ".list-inline>li {display: inline-block}\n",
       ".list-inline>li:not(:last-child)::after {content: \"\\00b7\"; padding: 0 .5ex}\n",
       "</style>\n",
       "<ol class=list-inline><li>'mpg'</li><li>'cyl'</li><li>'disp'</li><li>'hp'</li><li>'drat'</li><li>'wt'</li><li>'qsec'</li><li>'vs'</li><li>'am'</li><li>'gear'</li><li>'carb'</li></ol>\n",
       "</dd>\n",
       "\t<dt>$row.names</dt>\n",
       "\t\t<dd><style>\n",
       ".list-inline {list-style: none; margin:0; padding: 0}\n",
       ".list-inline>li {display: inline-block}\n",
       ".list-inline>li:not(:last-child)::after {content: \"\\00b7\"; padding: 0 .5ex}\n",
       "</style>\n",
       "<ol class=list-inline><li>'Mazda RX4'</li><li>'Mazda RX4 Wag'</li><li>'Datsun 710'</li><li>'Hornet 4 Drive'</li><li>'Hornet Sportabout'</li><li>'Valiant'</li><li>'Duster 360'</li><li>'Merc 240D'</li><li>'Merc 230'</li><li>'Merc 280'</li><li>'Merc 280C'</li><li>'Merc 450SE'</li><li>'Merc 450SL'</li><li>'Merc 450SLC'</li><li>'Cadillac Fleetwood'</li><li>'Lincoln Continental'</li><li>'Chrysler Imperial'</li><li>'Fiat 128'</li><li>'Honda Civic'</li><li>'Toyota Corolla'</li><li>'Toyota Corona'</li><li>'Dodge Challenger'</li><li>'AMC Javelin'</li><li>'Camaro Z28'</li><li>'Pontiac Firebird'</li><li>'Fiat X1-9'</li><li>'Porsche 914-2'</li><li>'Lotus Europa'</li><li>'Ford Pantera L'</li><li>'Ferrari Dino'</li><li>'Maserati Bora'</li><li>'Volvo 142E'</li></ol>\n",
       "</dd>\n",
       "\t<dt>$class</dt>\n",
       "\t\t<dd>'data.frame'</dd>\n",
       "</dl>\n"
      ],
      "text/latex": [
       "\\begin{description}\n",
       "\\item[\\$names] \\begin{enumerate*}\n",
       "\\item 'mpg'\n",
       "\\item 'cyl'\n",
       "\\item 'disp'\n",
       "\\item 'hp'\n",
       "\\item 'drat'\n",
       "\\item 'wt'\n",
       "\\item 'qsec'\n",
       "\\item 'vs'\n",
       "\\item 'am'\n",
       "\\item 'gear'\n",
       "\\item 'carb'\n",
       "\\end{enumerate*}\n",
       "\n",
       "\\item[\\$row.names] \\begin{enumerate*}\n",
       "\\item 'Mazda RX4'\n",
       "\\item 'Mazda RX4 Wag'\n",
       "\\item 'Datsun 710'\n",
       "\\item 'Hornet 4 Drive'\n",
       "\\item 'Hornet Sportabout'\n",
       "\\item 'Valiant'\n",
       "\\item 'Duster 360'\n",
       "\\item 'Merc 240D'\n",
       "\\item 'Merc 230'\n",
       "\\item 'Merc 280'\n",
       "\\item 'Merc 280C'\n",
       "\\item 'Merc 450SE'\n",
       "\\item 'Merc 450SL'\n",
       "\\item 'Merc 450SLC'\n",
       "\\item 'Cadillac Fleetwood'\n",
       "\\item 'Lincoln Continental'\n",
       "\\item 'Chrysler Imperial'\n",
       "\\item 'Fiat 128'\n",
       "\\item 'Honda Civic'\n",
       "\\item 'Toyota Corolla'\n",
       "\\item 'Toyota Corona'\n",
       "\\item 'Dodge Challenger'\n",
       "\\item 'AMC Javelin'\n",
       "\\item 'Camaro Z28'\n",
       "\\item 'Pontiac Firebird'\n",
       "\\item 'Fiat X1-9'\n",
       "\\item 'Porsche 914-2'\n",
       "\\item 'Lotus Europa'\n",
       "\\item 'Ford Pantera L'\n",
       "\\item 'Ferrari Dino'\n",
       "\\item 'Maserati Bora'\n",
       "\\item 'Volvo 142E'\n",
       "\\end{enumerate*}\n",
       "\n",
       "\\item[\\$class] 'data.frame'\n",
       "\\end{description}\n"
      ],
      "text/markdown": [
       "$names\n",
       ":   1. 'mpg'\n",
       "2. 'cyl'\n",
       "3. 'disp'\n",
       "4. 'hp'\n",
       "5. 'drat'\n",
       "6. 'wt'\n",
       "7. 'qsec'\n",
       "8. 'vs'\n",
       "9. 'am'\n",
       "10. 'gear'\n",
       "11. 'carb'\n",
       "\n",
       "\n",
       "\n",
       "$row.names\n",
       ":   1. 'Mazda RX4'\n",
       "2. 'Mazda RX4 Wag'\n",
       "3. 'Datsun 710'\n",
       "4. 'Hornet 4 Drive'\n",
       "5. 'Hornet Sportabout'\n",
       "6. 'Valiant'\n",
       "7. 'Duster 360'\n",
       "8. 'Merc 240D'\n",
       "9. 'Merc 230'\n",
       "10. 'Merc 280'\n",
       "11. 'Merc 280C'\n",
       "12. 'Merc 450SE'\n",
       "13. 'Merc 450SL'\n",
       "14. 'Merc 450SLC'\n",
       "15. 'Cadillac Fleetwood'\n",
       "16. 'Lincoln Continental'\n",
       "17. 'Chrysler Imperial'\n",
       "18. 'Fiat 128'\n",
       "19. 'Honda Civic'\n",
       "20. 'Toyota Corolla'\n",
       "21. 'Toyota Corona'\n",
       "22. 'Dodge Challenger'\n",
       "23. 'AMC Javelin'\n",
       "24. 'Camaro Z28'\n",
       "25. 'Pontiac Firebird'\n",
       "26. 'Fiat X1-9'\n",
       "27. 'Porsche 914-2'\n",
       "28. 'Lotus Europa'\n",
       "29. 'Ford Pantera L'\n",
       "30. 'Ferrari Dino'\n",
       "31. 'Maserati Bora'\n",
       "32. 'Volvo 142E'\n",
       "\n",
       "\n",
       "\n",
       "$class\n",
       ":   'data.frame'\n",
       "\n",
       "\n"
      ],
      "text/plain": [
       "$names\n",
       " [1] \"mpg\"  \"cyl\"  \"disp\" \"hp\"   \"drat\" \"wt\"   \"qsec\" \"vs\"   \"am\"   \"gear\"\n",
       "[11] \"carb\"\n",
       "\n",
       "$row.names\n",
       " [1] \"Mazda RX4\"           \"Mazda RX4 Wag\"       \"Datsun 710\"         \n",
       " [4] \"Hornet 4 Drive\"      \"Hornet Sportabout\"   \"Valiant\"            \n",
       " [7] \"Duster 360\"          \"Merc 240D\"           \"Merc 230\"           \n",
       "[10] \"Merc 280\"            \"Merc 280C\"           \"Merc 450SE\"         \n",
       "[13] \"Merc 450SL\"          \"Merc 450SLC\"         \"Cadillac Fleetwood\" \n",
       "[16] \"Lincoln Continental\" \"Chrysler Imperial\"   \"Fiat 128\"           \n",
       "[19] \"Honda Civic\"         \"Toyota Corolla\"      \"Toyota Corona\"      \n",
       "[22] \"Dodge Challenger\"    \"AMC Javelin\"         \"Camaro Z28\"         \n",
       "[25] \"Pontiac Firebird\"    \"Fiat X1-9\"           \"Porsche 914-2\"      \n",
       "[28] \"Lotus Europa\"        \"Ford Pantera L\"      \"Ferrari Dino\"       \n",
       "[31] \"Maserati Bora\"       \"Volvo 142E\"         \n",
       "\n",
       "$class\n",
       "[1] \"data.frame\"\n"
      ]
     },
     "metadata": {},
     "output_type": "display_data"
    },
    {
     "name": "stdout",
     "output_type": "stream",
     "text": [
      "attributes(mtcars)$class =  data.frame"
     ]
    }
   ],
   "source": [
    "# Attributes of the mtcars object\n",
    "cat(\"attributes(mtcars):\\n\")\n",
    "attributes(mtcars) # Note this is a list object\n",
    "\n",
    "# Object class:\n",
    "cat(\"attributes(mtcars)$class = \",attributes(mtcars)$class)"
   ]
  },
  {
   "cell_type": "markdown",
   "metadata": {
    "id": "PsuUqICWMBh1"
   },
   "source": [
    "Next, we get the dataframe row names (Pandas indices)  and the column names using the functions *row.names()* and *names()* respectively:"
   ]
  },
  {
   "cell_type": "code",
   "execution_count": 41,
   "metadata": {
    "colab": {
     "base_uri": "https://localhost:8080/"
    },
    "id": "kRBwo8VjL_C2",
    "outputId": "7b93dc77-6d33-484a-e10e-f2d5580ef8d7"
   },
   "outputs": [
    {
     "name": "stdout",
     "output_type": "stream",
     "text": [
      "row.names(mtcars) = \n",
      " [1] \"Mazda RX4\"           \"Mazda RX4 Wag\"       \"Datsun 710\"         \n",
      " [4] \"Hornet 4 Drive\"      \"Hornet Sportabout\"   \"Valiant\"            \n",
      " [7] \"Duster 360\"          \"Merc 240D\"           \"Merc 230\"           \n",
      "[10] \"Merc 280\"            \"Merc 280C\"           \"Merc 450SE\"         \n",
      "[13] \"Merc 450SL\"          \"Merc 450SLC\"         \"Cadillac Fleetwood\" \n",
      "[16] \"Lincoln Continental\" \"Chrysler Imperial\"   \"Fiat 128\"           \n",
      "[19] \"Honda Civic\"         \"Toyota Corolla\"      \"Toyota Corona\"      \n",
      "[22] \"Dodge Challenger\"    \"AMC Javelin\"         \"Camaro Z28\"         \n",
      "[25] \"Pontiac Firebird\"    \"Fiat X1-9\"           \"Porsche 914-2\"      \n",
      "[28] \"Lotus Europa\"        \"Ford Pantera L\"      \"Ferrari Dino\"       \n",
      "[31] \"Maserati Bora\"       \"Volvo 142E\"         \n",
      "names(mtcars) = \n",
      " [1] \"mpg\"  \"cyl\"  \"disp\" \"hp\"   \"drat\" \"wt\"   \"qsec\" \"vs\"   \"am\"   \"gear\"\n",
      "[11] \"carb\"\n"
     ]
    }
   ],
   "source": [
    "# Row names of mtcars dataframe\n",
    "cat(\"row.names(mtcars) = \\n\")\n",
    "print(row.names(mtcars))\n",
    "# Column names of mtcars dataframe\n",
    "cat(\"names(mtcars) = \\n\")\n",
    "print(names(mtcars))"
   ]
  },
  {
   "cell_type": "markdown",
   "metadata": {
    "id": "wQ0Oij16NX-R"
   },
   "source": [
    "I'll discuss the conditional selections in dataframes elsewhere. There is much more to know about dataframes, and I want to do them justice.\n",
    "\n",
    "**Comment:** Maybe I should make another notebook just for dataframes and ggplot2."
   ]
  },
  {
   "cell_type": "code",
   "execution_count": 45,
   "metadata": {
    "colab": {
     "base_uri": "https://localhost:8080/"
    },
    "id": "7L7uUMcloxzU",
    "outputId": "844deb7c-3bc1-4474-86b3-a1f005b12075"
   },
   "outputs": [
    {
     "name": "stdout",
     "output_type": "stream",
     "text": [
      "'data.frame':\t32 obs. of  11 variables:\n",
      " $ mpg : num  21 21 22.8 21.4 18.7 18.1 14.3 24.4 22.8 19.2 ...\n",
      " $ cyl : num  6 6 4 6 8 6 8 4 4 6 ...\n",
      " $ disp: num  160 160 108 258 360 ...\n",
      " $ hp  : num  110 110 93 110 175 105 245 62 95 123 ...\n",
      " $ drat: num  3.9 3.9 3.85 3.08 3.15 2.76 3.21 3.69 3.92 3.92 ...\n",
      " $ wt  : num  2.62 2.88 2.32 3.21 3.44 ...\n",
      " $ qsec: num  16.5 17 18.6 19.4 17 ...\n",
      " $ vs  : num  0 0 1 1 0 1 0 1 1 1 ...\n",
      " $ am  : num  1 1 1 0 0 0 0 0 0 0 ...\n",
      " $ gear: num  4 4 4 3 3 3 3 4 4 4 ...\n",
      " $ carb: num  4 4 1 1 2 1 4 2 2 4 ...\n"
     ]
    }
   ],
   "source": [
    "str(mtcars)"
   ]
  },
  {
   "cell_type": "markdown",
   "metadata": {
    "id": "S7wWigCZmJe3",
    "tags": []
   },
   "source": [
    "### 2.e - Factors\n",
    "\n",
    "Following Kabacoff, Sec.2.2.5. As previously mentioned, the factors class is R's data structure for categorical variables.\n",
    "\n",
    "For example, in the *df_patients* dataframe of the previous section:\n",
    "- The diabetes type is a nominal categorical variable.\n",
    "- The status is an ordinal categorical variable.\n",
    "\n",
    "By default, these were encoded as characters:"
   ]
  },
  {
   "cell_type": "code",
   "execution_count": 46,
   "metadata": {
    "colab": {
     "base_uri": "https://localhost:8080/"
    },
    "id": "obzKLHLao7WW",
    "outputId": "40f29520-9488-4f7d-e8aa-59d9413bd90c"
   },
   "outputs": [
    {
     "name": "stdout",
     "output_type": "stream",
     "text": [
      "'data.frame':\t4 obs. of  4 variables:\n",
      " $ patientId: int  1 2 3 4\n",
      " $ age      : num  25 34 28 52\n",
      " $ diabetes : chr  \"Type1\" \"Type2\" \"Type1\" \"Type1\"\n",
      " $ status   : chr  \"Poor\" \"Improved\" \"Excellent\" \"Poor\"\n"
     ]
    }
   ],
   "source": [
    "# Show structure of the df_patients variable\n",
    "str(df_patients)"
   ]
  },
  {
   "cell_type": "markdown",
   "metadata": {},
   "source": [
    "Now we make another dataframe with the correct encoding of categorical variables. For the ordinal factor in particular, we need to specify the ordering (i.e. \"Poor\" is the lowest, \"Excellent\" the highest)."
   ]
  },
  {
   "cell_type": "code",
   "execution_count": 10,
   "metadata": {},
   "outputs": [],
   "source": [
    "# Patient Id and age cols\n",
    "patientId <- c(1:4)\n",
    "age <- c(25, 34, 28, 52)\n",
    "\n",
    "# Non-ordered factor\n",
    "diabetes <- factor(c(\"Type1\", \"Type2\", \"Type1\", \"Type1\"), ordered = FALSE)\n",
    "\n",
    "# Ordered factor: Specify the ordering levels in the constructor params\n",
    "status <- factor(c(\"Poor\", \"Improved\", \"Excellent\", \"Poor\"), \n",
    "                 ordered = TRUE,\n",
    "                 levels = c(\"Poor\", \"Improved\", \"Excellent\")\n",
    "                )\n",
    "\n",
    "# Instantiate dataframe obj\n",
    "### Note how the columns are passed as params here.\n",
    "### The index column is created automatically\n",
    "df_patients <- data.frame(patientId, age, diabetes, status, row.names = patientId)"
   ]
  },
  {
   "cell_type": "markdown",
   "metadata": {},
   "source": [
    "When displaying the dataframe we now see the categorical variables type, and the *str()* function gives us more details:"
   ]
  },
  {
   "cell_type": "code",
   "execution_count": 11,
   "metadata": {
    "id": "HZqN266YjzZk"
   },
   "outputs": [
    {
     "data": {
      "text/html": [
       "<table class=\"dataframe\">\n",
       "<caption>A data.frame: 4 × 4</caption>\n",
       "<thead>\n",
       "\t<tr><th></th><th scope=col>patientId</th><th scope=col>age</th><th scope=col>diabetes</th><th scope=col>status</th></tr>\n",
       "\t<tr><th></th><th scope=col>&lt;int&gt;</th><th scope=col>&lt;dbl&gt;</th><th scope=col>&lt;fct&gt;</th><th scope=col>&lt;ord&gt;</th></tr>\n",
       "</thead>\n",
       "<tbody>\n",
       "\t<tr><th scope=row>1</th><td>1</td><td>25</td><td>Type1</td><td>Poor     </td></tr>\n",
       "\t<tr><th scope=row>2</th><td>2</td><td>34</td><td>Type2</td><td>Improved </td></tr>\n",
       "\t<tr><th scope=row>3</th><td>3</td><td>28</td><td>Type1</td><td>Excellent</td></tr>\n",
       "\t<tr><th scope=row>4</th><td>4</td><td>52</td><td>Type1</td><td>Poor     </td></tr>\n",
       "</tbody>\n",
       "</table>\n"
      ],
      "text/latex": [
       "A data.frame: 4 × 4\n",
       "\\begin{tabular}{r|llll}\n",
       "  & patientId & age & diabetes & status\\\\\n",
       "  & <int> & <dbl> & <fct> & <ord>\\\\\n",
       "\\hline\n",
       "\t1 & 1 & 25 & Type1 & Poor     \\\\\n",
       "\t2 & 2 & 34 & Type2 & Improved \\\\\n",
       "\t3 & 3 & 28 & Type1 & Excellent\\\\\n",
       "\t4 & 4 & 52 & Type1 & Poor     \\\\\n",
       "\\end{tabular}\n"
      ],
      "text/markdown": [
       "\n",
       "A data.frame: 4 × 4\n",
       "\n",
       "| <!--/--> | patientId &lt;int&gt; | age &lt;dbl&gt; | diabetes &lt;fct&gt; | status &lt;ord&gt; |\n",
       "|---|---|---|---|---|\n",
       "| 1 | 1 | 25 | Type1 | Poor      |\n",
       "| 2 | 2 | 34 | Type2 | Improved  |\n",
       "| 3 | 3 | 28 | Type1 | Excellent |\n",
       "| 4 | 4 | 52 | Type1 | Poor      |\n",
       "\n"
      ],
      "text/plain": [
       "  patientId age diabetes status   \n",
       "1 1         25  Type1    Poor     \n",
       "2 2         34  Type2    Improved \n",
       "3 3         28  Type1    Excellent\n",
       "4 4         52  Type1    Poor     "
      ]
     },
     "metadata": {},
     "output_type": "display_data"
    }
   ],
   "source": [
    "# Show dataframe\n",
    "df_patients"
   ]
  },
  {
   "cell_type": "code",
   "execution_count": 13,
   "metadata": {
    "id": "B_834RwMmKel"
   },
   "outputs": [
    {
     "name": "stdout",
     "output_type": "stream",
     "text": [
      "'data.frame':\t4 obs. of  4 variables:\n",
      " $ patientId: int  1 2 3 4\n",
      " $ age      : num  25 34 28 52\n",
      " $ diabetes : Factor w/ 2 levels \"Type1\",\"Type2\": 1 2 1 1\n",
      " $ status   : Ord.factor w/ 3 levels \"Poor\"<\"Improved\"<..: 1 2 3 1\n"
     ]
    }
   ],
   "source": [
    "# Show dataframe structure\n",
    "str(df_patients)"
   ]
  },
  {
   "cell_type": "markdown",
   "metadata": {
    "id": "61vDf2BsmKXS"
   },
   "source": [
    "**Important comment:** Notice how the values are internally converted to integer values by the *factor()* function. An important detail here is that by default, R assigns the integers in alphabetical order, meaning that if we do not specify the order in the *levels* parameter, we would obtain a completely incorrect encoding."
   ]
  },
  {
   "cell_type": "code",
   "execution_count": 14,
   "metadata": {
    "id": "ryrHZNohmKPa"
   },
   "outputs": [
    {
     "data": {
      "text/plain": [
       "   patientId         age         diabetes       status \n",
       " Min.   :1.00   Min.   :25.00   Type1:3   Poor     :2  \n",
       " 1st Qu.:1.75   1st Qu.:27.25   Type2:1   Improved :1  \n",
       " Median :2.50   Median :31.00             Excellent:1  \n",
       " Mean   :2.50   Mean   :34.75                          \n",
       " 3rd Qu.:3.25   3rd Qu.:38.50                          \n",
       " Max.   :4.00   Max.   :52.00                          "
      ]
     },
     "metadata": {},
     "output_type": "display_data"
    }
   ],
   "source": [
    "# Summary of the dataframe\n",
    "summary(df_patients)"
   ]
  },
  {
   "cell_type": "markdown",
   "metadata": {},
   "source": [
    "**Comment:** Tidyverse introduced a version of dataframes with more functionalities, called *tibbles*. I am not covering these here, but Kabacoff discusses this class in section 2.2.7."
   ]
  },
  {
   "cell_type": "markdown",
   "metadata": {
    "id": "u-OWTBeKmLTD"
   },
   "source": [
    "### 2.f - Lists\n",
    "\n",
    "Following Kabacoff Sec.2.2.6. So lists are the most complex data structure of R. Unlike R vectors, they do not impose a unified object type to all elements, and in this respect, behave quite like Python lists. One of the differences in comparison with Python is that we can also add labels to the entries, a little like dictionaries. The next example is from Listing 2.7 on p.30:"
   ]
  },
  {
   "cell_type": "code",
   "execution_count": 15,
   "metadata": {
    "id": "xfoCVwxcmMMY"
   },
   "outputs": [],
   "source": [
    "# List entries\n",
    "list_title <- \"R List Example\"\n",
    "list_ages <- c(25, 26, 18, 39)\n",
    "list_matrix <- matrix(runif(6), nrow =2)\n",
    "list_char_vect <- c(\"one\", \"two\", \"three\")\n",
    "\n",
    "# Make list with element labels\n",
    "example_list <- list(Title = list_title, Ages = list_ages, Matrix = list_matrix, list_char_vect)"
   ]
  },
  {
   "cell_type": "code",
   "execution_count": 18,
   "metadata": {},
   "outputs": [
    {
     "name": "stdout",
     "output_type": "stream",
     "text": [
      "List of 4\n",
      " $ Title : chr \"R List Example\"\n",
      " $ Ages  : num [1:4] 25 26 18 39\n",
      " $ Matrix: num [1:2, 1:3] 0.512 0.826 0.128 0.935 0.134 ...\n",
      " $       : chr [1:3] \"one\" \"two\" \"three\"\n"
     ]
    }
   ],
   "source": [
    "# Show list structure\n",
    "str(example_list)"
   ]
  },
  {
   "cell_type": "code",
   "execution_count": 20,
   "metadata": {},
   "outputs": [
    {
     "data": {
      "text/html": [
       "<strong>$names</strong> = <style>\n",
       ".list-inline {list-style: none; margin:0; padding: 0}\n",
       ".list-inline>li {display: inline-block}\n",
       ".list-inline>li:not(:last-child)::after {content: \"\\00b7\"; padding: 0 .5ex}\n",
       "</style>\n",
       "<ol class=list-inline><li>'Title'</li><li>'Ages'</li><li>'Matrix'</li><li>''</li></ol>\n"
      ],
      "text/latex": [
       "\\textbf{\\$names} = \\begin{enumerate*}\n",
       "\\item 'Title'\n",
       "\\item 'Ages'\n",
       "\\item 'Matrix'\n",
       "\\item ''\n",
       "\\end{enumerate*}\n"
      ],
      "text/markdown": [
       "**$names** = 1. 'Title'\n",
       "2. 'Ages'\n",
       "3. 'Matrix'\n",
       "4. ''\n",
       "\n",
       "\n"
      ],
      "text/plain": [
       "$names\n",
       "[1] \"Title\"  \"Ages\"   \"Matrix\" \"\"      \n"
      ]
     },
     "metadata": {},
     "output_type": "display_data"
    }
   ],
   "source": [
    "# Show list attributes\n",
    "attributes(example_list)"
   ]
  },
  {
   "cell_type": "markdown",
   "metadata": {},
   "source": [
    "**Important comment:** An obvious question now is how we access the specific entries. R uses **[*idx*]**, **[[*idx*]]**, and **[[*name*]]** to access the entries of a list. The simple brackets will return the entry label **and** the entry, while the double brackets return **only** the list entry:"
   ]
  },
  {
   "cell_type": "code",
   "execution_count": 27,
   "metadata": {},
   "outputs": [
    {
     "name": "stdout",
     "output_type": "stream",
     "text": [
      "example_list[3] = \n",
      "$Matrix\n",
      "          [,1]      [,2]      [,3]\n",
      "[1,] 0.5118672 0.1275462 0.1343069\n",
      "[2,] 0.8259737 0.9350454 0.1101366\n",
      "\n",
      "----- ----- ----- ----- ----- -----\n",
      "example_list[[3]] = \n",
      "          [,1]      [,2]      [,3]\n",
      "[1,] 0.5118672 0.1275462 0.1343069\n",
      "[2,] 0.8259737 0.9350454 0.1101366\n",
      "----- ----- ----- ----- ----- -----\n",
      "example_list[[\"Matrix\"]] = \n",
      "          [,1]      [,2]      [,3]\n",
      "[1,] 0.5118672 0.1275462 0.1343069\n",
      "[2,] 0.8259737 0.9350454 0.1101366\n",
      "----- ----- ----- ----- ----- -----\n",
      "example_list$Matrix = \n",
      "          [,1]      [,2]      [,3]\n",
      "[1,] 0.5118672 0.1275462 0.1343069\n",
      "[2,] 0.8259737 0.9350454 0.1101366\n",
      "----- ----- ----- ----- ----- -----\n"
     ]
    }
   ],
   "source": [
    "# Accessing the 3-rd entry\n",
    "## Label and entry\n",
    "cat(\"example_list[3] = \\n\")\n",
    "print(example_list[3])\n",
    "cat(\"----- ----- ----- ----- ----- -----\\n\")\n",
    "\n",
    "## Entry using index\n",
    "cat(\"example_list[[3]] = \\n\")\n",
    "print(example_list[[3]])\n",
    "cat(\"----- ----- ----- ----- ----- -----\\n\")\n",
    "\n",
    "## Entry using label\n",
    "cat(\"example_list[[\\\"Matrix\\\"]] = \\n\")\n",
    "print(example_list[[\"Matrix\"]])\n",
    "cat(\"----- ----- ----- ----- ----- -----\\n\")\n",
    "\n",
    "## Entry using $ symbol\n",
    "cat(\"example_list$Matrix = \\n\")\n",
    "print(example_list$Matrix)\n",
    "cat(\"----- ----- ----- ----- ----- -----\\n\")"
   ]
  },
  {
   "cell_type": "code",
   "execution_count": 19,
   "metadata": {
    "id": "9F1Y2VS0mM3G"
   },
   "outputs": [
    {
     "data": {
      "text/html": [
       "<table class=\"dataframe\">\n",
       "<caption>A matrix: 2 × 3 of type dbl</caption>\n",
       "<tbody>\n",
       "\t<tr><td>0.5118672</td><td>0.1275462</td><td>0.1343069</td></tr>\n",
       "\t<tr><td>0.8259737</td><td>0.9350454</td><td>0.1101366</td></tr>\n",
       "</tbody>\n",
       "</table>\n"
      ],
      "text/latex": [
       "A matrix: 2 × 3 of type dbl\n",
       "\\begin{tabular}{lll}\n",
       "\t 0.5118672 & 0.1275462 & 0.1343069\\\\\n",
       "\t 0.8259737 & 0.9350454 & 0.1101366\\\\\n",
       "\\end{tabular}\n"
      ],
      "text/markdown": [
       "\n",
       "A matrix: 2 × 3 of type dbl\n",
       "\n",
       "| 0.5118672 | 0.1275462 | 0.1343069 |\n",
       "| 0.8259737 | 0.9350454 | 0.1101366 |\n",
       "\n"
      ],
      "text/plain": [
       "     [,1]      [,2]      [,3]     \n",
       "[1,] 0.5118672 0.1275462 0.1343069\n",
       "[2,] 0.8259737 0.9350454 0.1101366"
      ]
     },
     "metadata": {},
     "output_type": "display_data"
    }
   ],
   "source": [
    "example_list[[3]]"
   ]
  },
  {
   "cell_type": "code",
   "execution_count": 23,
   "metadata": {
    "id": "N7U3NfuZmMss"
   },
   "outputs": [
    {
     "name": "stdout",
     "output_type": "stream",
     "text": [
      "[[1]]\n",
      "[1] \"one\"   \"two\"   \"three\"\n",
      "\n"
     ]
    }
   ],
   "source": [
    "print(example_list[4])"
   ]
  },
  {
   "cell_type": "markdown",
   "metadata": {},
   "source": [
    "**Comment:** R users seem mostly concerned with the use of global functions instead of methods of classes. In this paradigm, R has several models for class implementations, the most used of which are S3 and S4. S3 classes are essentially just lists. We will get back to this topic in of upcoming sections"
   ]
  },
  {
   "cell_type": "markdown",
   "metadata": {
    "id": "u-OWTBeKmLTD",
    "tags": []
   },
   "source": [
    "### 2.g - Characters\n",
    "\n",
    "This subsection is based on Kabacoff Sec.5.2.4.\n",
    "\n",
    "The built-in strings of R are just called characters. One notable difference with Python is how the elements of a string are encoded:\n",
    "- In Python, a string behaves like a list of characters. Using *len()* returns the number of characters, and using *[idx]* will return the character in tyhe *idx* entry.\n",
    "- In R, a character is an entire string, and by default it's the first entry of vector:"
   ]
  },
  {
   "cell_type": "code",
   "execution_count": 4,
   "metadata": {
    "id": "K8ru_0MPmMBt"
   },
   "outputs": [
    {
     "name": "stdout",
     "output_type": "stream",
     "text": [
      "class(example_string) =  character \n",
      "length(example_string) =  1 \n",
      "example_string[1] =  This is an R character \n",
      "example_string[2] =  NA \n"
     ]
    }
   ],
   "source": [
    "# Create a string\n",
    "example_string <- \"This is an R character\"\n",
    "\n",
    "# Get length\n",
    "cat(\"class(example_string) = \", class(example_string), \"\\n\")\n",
    "cat(\"length(example_string) = \", length(example_string), \"\\n\")\n",
    "cat(\"example_string[1] = \", example_string[1], \"\\n\")\n",
    "cat(\"example_string[2] = \", example_string[2], \"\\n\")\n"
   ]
  },
  {
   "cell_type": "markdown",
   "metadata": {},
   "source": [
    "In other words, dealing with characters/strings in R is completely different from Python. We now list some of the elementary R functions to deal with characters."
   ]
  },
  {
   "cell_type": "markdown",
   "metadata": {},
   "source": [
    "#### ***nchar()*** - Number of characters in a string\n",
    "\n",
    "We'll start with one character and then a vector:"
   ]
  },
  {
   "cell_type": "code",
   "execution_count": 6,
   "metadata": {},
   "outputs": [
    {
     "name": "stdout",
     "output_type": "stream",
     "text": [
      "example_string =  This is an R character \n",
      "nchar(example_string) =  22 \n"
     ]
    }
   ],
   "source": [
    "# Create a string\n",
    "example_string <- \"This is an R character\"\n",
    "\n",
    "# Display no. of chars\n",
    "cat(\"example_string = \", example_string, \"\\n\")\n",
    "cat(\"nchar(example_string) = \", nchar(example_string), \"\\n\")"
   ]
  },
  {
   "cell_type": "code",
   "execution_count": 9,
   "metadata": {},
   "outputs": [
    {
     "name": "stdout",
     "output_type": "stream",
     "text": [
      "example_dates =  2023-05-30 2023-05-31 16:00 23/06/01 \n",
      "nchar(example_dates) =  10 16 8 \n",
      "example_dates[2] =  2023-05-31 16:00 \n",
      "nchar(example_dates)[2] =  16 \n",
      "(nchar(example_dates)[2] == nchar(example_dates[2])) =  TRUE \n"
     ]
    }
   ],
   "source": [
    "# Create a vector of characters\n",
    "example_dates <- c(\"2023-05-30\", \"2023-05-31 16:00\", \"23/06/01\")\n",
    "cat(\"example_dates = \", example_dates, \"\\n\")\n",
    "\n",
    "# Get no. of chars\n",
    "cat(\"nchar(example_dates) = \", nchar(example_dates), \"\\n\")\n",
    "\n",
    "# Second entry\n",
    "cat(\"example_dates[2] = \", example_dates[2], \"\\n\")\n",
    "cat(\"nchar(example_dates)[2] = \", nchar(example_dates)[2], \"\\n\")\n",
    "cat(\"(nchar(example_dates)[2] == nchar(example_dates[2])) = \", (nchar(example_dates)[2] == nchar(example_dates[2])), \"\\n\")"
   ]
  },
  {
   "cell_type": "code",
   "execution_count": 11,
   "metadata": {},
   "outputs": [
    {
     "name": "stdout",
     "output_type": "stream",
     "text": [
      "[1] \"2023-05-30\"       \"2023-05-31 16:00\" \"23/06/01\"        \n"
     ]
    }
   ],
   "source": [
    "print(example_dates)"
   ]
  },
  {
   "cell_type": "markdown",
   "metadata": {},
   "source": [
    "#### ***substr()*** - Substring of a character\n",
    "\n",
    "The call has the form:\n",
    "\n",
    "        substr(x, start, stop)\n",
    "where *start* and *stop* are individual character indices in *x*. This function is used to both extract and replace, with the latter done with the usual assignment\n",
    "\n",
    "        substr(x, start, stop) <- y\n",
    "An annoying thing here is that *substr()* seems to be the only built-in function to access a specific character in a string. Here are some examples:"
   ]
  },
  {
   "cell_type": "code",
   "execution_count": 16,
   "metadata": {},
   "outputs": [
    {
     "name": "stdout",
     "output_type": "stream",
     "text": [
      "Original character: example_date =  2023-05-31 16:00 \n",
      "substr(example_date, 7, 7) =  5 \n",
      "substr(example_date, 14, 14) =  : \n",
      "substr(example_date, 1, 10) =  2023-05-31 \n"
     ]
    }
   ],
   "source": [
    "# Get one character from a string\n",
    "example_date <- \"2023-05-31 16:00\"\n",
    "cat(\"Original character: example_date = \", example_date,\"\\n\")\n",
    "\n",
    "# Get the 7th and 14th characters\n",
    "cat(\"substr(example_date, 7, 7) = \", substr(example_date, 7, 7), \"\\n\")\n",
    "cat(\"substr(example_date, 14, 14) = \", substr(example_date, 14, 14), \"\\n\")\n",
    "\n",
    "# Get the day date\n",
    "cat(\"substr(example_date, 1, 10) = \", substr(example_date, 1, 10), \"\\n\")"
   ]
  },
  {
   "cell_type": "markdown",
   "metadata": {},
   "source": [
    "Note that just assigning a replacement doesn't always work. The source and target must have the same length:"
   ]
  },
  {
   "cell_type": "code",
   "execution_count": 17,
   "metadata": {},
   "outputs": [
    {
     "name": "stdout",
     "output_type": "stream",
     "text": [
      "example_date_ =  2023-05-31 4PM00 \n"
     ]
    }
   ],
   "source": [
    "# Replace 16:00 by 4pm\n",
    "example_date_ <- \"2023-05-31 16:00\"\n",
    "substr(example_date_, 12, 16) <- \"4PM\"\n",
    "cat(\"example_date_ = \", example_date_,\"\\n\")"
   ]
  },
  {
   "cell_type": "markdown",
   "metadata": {},
   "source": [
    "#### ***strsplit()*** - Splitting a character\n",
    "\n",
    "The call has the form:\n",
    "\n",
    "        strplit(x, split, fixed)\n",
    "where *split* is the split character (when *fixed = TRUE*) or expression (when *fixed = TRUE*). This function returns a nested list (*cat()* doesn't handle lists).\n",
    "\n",
    "Let's start by splitting one string:"
   ]
  },
  {
   "cell_type": "code",
   "execution_count": 33,
   "metadata": {},
   "outputs": [
    {
     "name": "stdout",
     "output_type": "stream",
     "text": [
      "example_string =  This is an R character \n",
      "Split at space:\n",
      " split(example_string, split = \" \") = \n",
      "[[1]]\n",
      "[1] \"This\"      \"is\"        \"an\"        \"R\"         \"character\"\n",
      "\n"
     ]
    }
   ],
   "source": [
    "example_string <- \"This is an R character\"\n",
    "cat(\"example_string = \", example_string, \"\\n\")\n",
    "example_split <- strsplit(example_string, split = \" \", fixed = TRUE)\n",
    "cat(\"Split at space:\\n split(example_string, split = \\\" \\\") = \\n\")\n",
    "print(example_split)"
   ]
  },
  {
   "cell_type": "markdown",
   "metadata": {},
   "source": [
    "Notice that:"
   ]
  },
  {
   "cell_type": "code",
   "execution_count": 44,
   "metadata": {},
   "outputs": [
    {
     "name": "stdout",
     "output_type": "stream",
     "text": [
      "class(example_split) =  list \n",
      "class(example_split[1]) =  list \n"
     ]
    }
   ],
   "source": [
    "cat(\"class(example_split) = \", class(example_split), \"\\n\")\n",
    "cat(\"class(example_split[1]) = \", class(example_split[1]), \"\\n\")"
   ]
  },
  {
   "cell_type": "markdown",
   "metadata": {},
   "source": [
    "Now to access the \"R\" part of this sentence:"
   ]
  },
  {
   "cell_type": "code",
   "execution_count": 43,
   "metadata": {},
   "outputs": [
    {
     "name": "stdout",
     "output_type": "stream",
     "text": [
      "example_split[[1]][4] =  R \n"
     ]
    }
   ],
   "source": [
    "# Get the 4th entry of the vector in [[1]]\n",
    "cat(\"example_split[[1]][4] = \", example_split[[1]][4], \"\\n\")"
   ]
  },
  {
   "cell_type": "markdown",
   "metadata": {},
   "source": [
    "Next, we split a vector of characters at spaces:"
   ]
  },
  {
   "cell_type": "code",
   "execution_count": 48,
   "metadata": {},
   "outputs": [
    {
     "name": "stdout",
     "output_type": "stream",
     "text": [
      "example_chars = \n",
      "[1] \"This is the first entry.\" \"A second sentence.\"      \n",
      "[3] \"Third time's the charm.\" \n",
      "After splitting: \n",
      "strsplit(example_chars, split = \" \", fixed = TRUE) = \n",
      "[[1]]\n",
      "[1] \"This\"   \"is\"     \"the\"    \"first\"  \"entry.\"\n",
      "\n",
      "[[2]]\n",
      "[1] \"A\"         \"second\"    \"sentence.\"\n",
      "\n",
      "[[3]]\n",
      "[1] \"Third\"  \"time's\" \"the\"    \"charm.\"\n",
      "\n"
     ]
    }
   ],
   "source": [
    "# Vector of characters\n",
    "example_chars <- c(\"This is the first entry.\", \"A second sentence.\", \"Third time's the charm.\")\n",
    "cat(\"example_chars = \\n\")\n",
    "print(example_chars)\n",
    "\n",
    "\n",
    "cat(\"After splitting: \\n\")\n",
    "# Split the vector at \" \"\n",
    "sentences_split <- strsplit(example_chars, split = \" \", fixed = TRUE)\n",
    "\n",
    "# Show result\n",
    "cat(\"strsplit(example_chars, split = \\\" \\\", fixed = TRUE) = \\n\")\n",
    "print(sentences_split)"
   ]
  },
  {
   "cell_type": "markdown",
   "metadata": {},
   "source": [
    "Above we used a space to define a pattern (see docs for more details). We could split at every character if *split* is an empty string and *fixed = TRUE*:"
   ]
  },
  {
   "cell_type": "code",
   "execution_count": 50,
   "metadata": {},
   "outputs": [
    {
     "name": "stdout",
     "output_type": "stream",
     "text": [
      "[[1]]\n",
      " [1] \"T\" \"h\" \"i\" \"s\" \" \" \"i\" \"s\" \" \" \"t\" \"h\" \"e\" \" \" \"f\" \"i\" \"r\" \"s\" \"t\" \" \" \"e\"\n",
      "[20] \"n\" \"t\" \"r\" \"y\" \".\"\n",
      "\n",
      "[[2]]\n",
      " [1] \"A\" \" \" \"s\" \"e\" \"c\" \"o\" \"n\" \"d\" \" \" \"s\" \"e\" \"n\" \"t\" \"e\" \"n\" \"c\" \"e\" \".\"\n",
      "\n",
      "[[3]]\n",
      " [1] \"T\" \"h\" \"i\" \"r\" \"d\" \" \" \"t\" \"i\" \"m\" \"e\" \"'\" \"s\" \" \" \"t\" \"h\" \"e\" \" \" \"c\" \"h\"\n",
      "[20] \"a\" \"r\" \"m\" \".\"\n",
      "\n"
     ]
    }
   ],
   "source": [
    "print(strsplit(example_chars, split = \"\", fixed = TRUE))"
   ]
  },
  {
   "cell_type": "markdown",
   "metadata": {},
   "source": [
    "#### **paste()** - Character concatenation\n",
    "\n",
    "The inverse of the previous operation. The call is:\n",
    "\n",
    "        paste(x1,x2,...,xn, sep = \" \")\n",
    "where *x1, ..., xn* are R objects to be converted to characters, and where *sep* is a separation character/string (a space \" \" by default)."
   ]
  },
  {
   "cell_type": "code",
   "execution_count": 55,
   "metadata": {},
   "outputs": [
    {
     "data": {
      "text/html": [
       "'Applying paste() function'"
      ],
      "text/latex": [
       "'Applying paste() function'"
      ],
      "text/markdown": [
       "'Applying paste() function'"
      ],
      "text/plain": [
       "[1] \"Applying paste() function\""
      ]
     },
     "metadata": {},
     "output_type": "display_data"
    }
   ],
   "source": [
    "char_1 <- \"Applying\"\n",
    "char_2 <- \"paste()\"\n",
    "char_3 <- \"function\"\n",
    "\n",
    "example_string <- paste(char_1, char_2, char_3, sep = \" \")\n",
    "example_string"
   ]
  },
  {
   "cell_type": "code",
   "execution_count": 57,
   "metadata": {},
   "outputs": [
    {
     "name": "stdout",
     "output_type": "stream",
     "text": [
      "paste(\"Applying\", \"paste()\", \"function\", sep = \" \") =  Applying paste() function \n"
     ]
    }
   ],
   "source": [
    "# Example\n",
    "cat(\"paste(\\\"Applying\\\", \\\"paste()\\\", \\\"function\\\", sep = \\\" \\\") = \", paste(\"Applying\", \"paste()\", \"function\", sep = \" \"), \"\\n\")"
   ]
  },
  {
   "cell_type": "markdown",
   "metadata": {},
   "source": [
    "Be careful when using vectors. The concatenation is done element wise:"
   ]
  },
  {
   "cell_type": "code",
   "execution_count": 59,
   "metadata": {},
   "outputs": [
    {
     "name": "stdout",
     "output_type": "stream",
     "text": [
      "[1] \"Applying Applying Applying\" \"paste() paste() paste()\"   \n",
      "[3] \"function function Applying\"\n"
     ]
    }
   ],
   "source": [
    "example_string <- paste(c(char_1, char_2, char_3), c(char_1, char_2, char_3), c(char_1, char_2), sep = \" \")\n",
    "print(example_string)"
   ]
  },
  {
   "cell_type": "markdown",
   "metadata": {},
   "source": [
    "Beware of the following also:"
   ]
  },
  {
   "cell_type": "code",
   "execution_count": 60,
   "metadata": {},
   "outputs": [
    {
     "data": {
      "text/html": [
       "<style>\n",
       ".list-inline {list-style: none; margin:0; padding: 0}\n",
       ".list-inline>li {display: inline-block}\n",
       ".list-inline>li:not(:last-child)::after {content: \"\\00b7\"; padding: 0 .5ex}\n",
       "</style>\n",
       "<ol class=list-inline><li>'Applying'</li><li>'paste()'</li><li>'function'</li></ol>\n"
      ],
      "text/latex": [
       "\\begin{enumerate*}\n",
       "\\item 'Applying'\n",
       "\\item 'paste()'\n",
       "\\item 'function'\n",
       "\\end{enumerate*}\n"
      ],
      "text/markdown": [
       "1. 'Applying'\n",
       "2. 'paste()'\n",
       "3. 'function'\n",
       "\n",
       "\n"
      ],
      "text/plain": [
       "[1] \"Applying\" \"paste()\"  \"function\""
      ]
     },
     "metadata": {},
     "output_type": "display_data"
    }
   ],
   "source": [
    "paste(c(char_1, char_2, char_3), sep = \" \")"
   ]
  },
  {
   "cell_type": "markdown",
   "metadata": {},
   "source": [
    "#### **toupper()** and **tolower()** - All caps and all lower case\n",
    "\n",
    "One parameter only for these functions."
   ]
  },
  {
   "cell_type": "code",
   "execution_count": 61,
   "metadata": {},
   "outputs": [
    {
     "name": "stdout",
     "output_type": "stream",
     "text": [
      "Original character: example_string =  MeMe iMpErSoNaTiOn cApItAlIsAtIoN \n",
      "toupper(example_string) =  MEME IMPERSONATION CAPITALISATION \n",
      "tolower(example_string) =  meme impersonation capitalisation \n"
     ]
    }
   ],
   "source": [
    "# Example\n",
    "example_string <- \"MeMe iMpErSoNaTiOn cApItAlIsAtIoN\"\n",
    "cat(\"Original character: example_string = \", example_string, \"\\n\")\n",
    "\n",
    "# All caps\n",
    "cat(\"toupper(example_string) = \", toupper(example_string), \"\\n\")\n",
    "\n",
    "# All lowercase\n",
    "cat(\"tolower(example_string) = \", tolower(example_string), \"\\n\")"
   ]
  },
  {
   "cell_type": "markdown",
   "metadata": {},
   "source": [
    "#### **grepexpr()** - Getting index of a character\n",
    "\n",
    "This is a little more complicated compared to the *str.index()* method of Python. To locate the indices in a string quick, we should *unlist()* the output of *gregexpr()*"
   ]
  },
  {
   "cell_type": "code",
   "execution_count": 8,
   "metadata": {},
   "outputs": [
    {
     "data": {
      "text/html": [
       "<style>\n",
       ".list-inline {list-style: none; margin:0; padding: 0}\n",
       ".list-inline>li {display: inline-block}\n",
       ".list-inline>li:not(:last-child)::after {content: \"\\00b7\"; padding: 0 .5ex}\n",
       "</style>\n",
       "<ol class=list-inline><li>3</li><li>6</li></ol>\n"
      ],
      "text/latex": [
       "\\begin{enumerate*}\n",
       "\\item 3\n",
       "\\item 6\n",
       "\\end{enumerate*}\n"
      ],
      "text/markdown": [
       "1. 3\n",
       "2. 6\n",
       "\n",
       "\n"
      ],
      "text/plain": [
       "[1] 3 6"
      ]
     },
     "metadata": {},
     "output_type": "display_data"
    }
   ],
   "source": [
    "unlist(gregexpr(\"l\", some_string))"
   ]
  },
  {
   "cell_type": "code",
   "execution_count": 14,
   "metadata": {},
   "outputs": [
    {
     "name": "stdout",
     "output_type": "stream",
     "text": [
      "unlist(gregexpr(\"%Y\", date_format)) = \n"
     ]
    },
    {
     "data": {
      "text/html": [
       "1"
      ],
      "text/latex": [
       "1"
      ],
      "text/markdown": [
       "1"
      ],
      "text/plain": [
       "[1] 1"
      ]
     },
     "metadata": {},
     "output_type": "display_data"
    },
    {
     "name": "stdout",
     "output_type": "stream",
     "text": [
      "unlist(gregexpr(\"%d\", date_format)) = \n"
     ]
    },
    {
     "data": {
      "text/html": [
       "7"
      ],
      "text/latex": [
       "7"
      ],
      "text/markdown": [
       "7"
      ],
      "text/plain": [
       "[1] 7"
      ]
     },
     "metadata": {},
     "output_type": "display_data"
    },
    {
     "name": "stdout",
     "output_type": "stream",
     "text": [
      "unlist(gregexpr(\"HH\", date_format)) = \n"
     ]
    },
    {
     "data": {
      "text/html": [
       "-1"
      ],
      "text/latex": [
       "-1"
      ],
      "text/markdown": [
       "-1"
      ],
      "text/plain": [
       "[1] -1"
      ]
     },
     "metadata": {},
     "output_type": "display_data"
    }
   ],
   "source": [
    "date_format <- \"%Y-%m-%d\"\n",
    "cat(\"unlist(gregexpr(\\\"%Y\\\", date_format)) = \\n\")\n",
    "unlist(gregexpr(\"%Y\", date_format))\n",
    "\n",
    "cat(\"unlist(gregexpr(\\\"%d\\\", date_format)) = \\n\")\n",
    "unlist(gregexpr(\"%d\", date_format))\n",
    "\n",
    "cat(\"unlist(gregexpr(\\\"HH\\\", date_format)) = \\n\")\n",
    "unlist(gregexpr(\"HH\", date_format))"
   ]
  },
  {
   "cell_type": "code",
   "execution_count": null,
   "metadata": {},
   "outputs": [],
   "source": []
  },
  {
   "cell_type": "code",
   "execution_count": null,
   "metadata": {},
   "outputs": [],
   "source": []
  },
  {
   "cell_type": "code",
   "execution_count": null,
   "metadata": {},
   "outputs": [],
   "source": []
  },
  {
   "cell_type": "markdown",
   "metadata": {},
   "source": [
    "To find entire strings in a vector of characters, we can use:\n",
    "\n",
    "        grep(pattern, x, ignore.case = FALSE, fixed = FALSE)\n",
    "        \n"
   ]
  },
  {
   "cell_type": "code",
   "execution_count": 10,
   "metadata": {},
   "outputs": [
    {
     "data": {
      "text/html": [
       "<style>\n",
       ".list-inline {list-style: none; margin:0; padding: 0}\n",
       ".list-inline>li {display: inline-block}\n",
       ".list-inline>li:not(:last-child)::after {content: \"\\00b7\"; padding: 0 .5ex}\n",
       "</style>\n",
       "<ol class=list-inline><li>1</li><li>4</li></ol>\n"
      ],
      "text/latex": [
       "\\begin{enumerate*}\n",
       "\\item 1\n",
       "\\item 4\n",
       "\\end{enumerate*}\n"
      ],
      "text/markdown": [
       "1. 1\n",
       "2. 4\n",
       "\n",
       "\n"
      ],
      "text/plain": [
       "[1] 1 4"
      ]
     },
     "metadata": {},
     "output_type": "display_data"
    }
   ],
   "source": [
    "some_string <- c(\"Lala land\", \"is a movie\", \"that I haven't seen\", \"TraLala\")\n",
    "grep(pattern = \"Lala\",some_string, fixed = TRUE)"
   ]
  },
  {
   "cell_type": "code",
   "execution_count": null,
   "metadata": {},
   "outputs": [],
   "source": []
  },
  {
   "cell_type": "code",
   "execution_count": null,
   "metadata": {},
   "outputs": [],
   "source": []
  },
  {
   "cell_type": "code",
   "execution_count": null,
   "metadata": {},
   "outputs": [],
   "source": []
  },
  {
   "cell_type": "markdown",
   "metadata": {},
   "source": [
    "### 2.h - Date values\n",
    "\n",
    "This subsection follows section 3.6 of Kabacoff's book. The class we \n",
    "\n"
   ]
  },
  {
   "cell_type": "code",
   "execution_count": 63,
   "metadata": {},
   "outputs": [
    {
     "name": "stdout",
     "output_type": "stream",
     "text": [
      "some_date =  19510 \n",
      "class(some_date) =  Date \n",
      "str(some_date) = \n",
      " Date[1:1], format: \"2023-06-02\"\n"
     ]
    }
   ],
   "source": [
    "# Converts to an integer\n",
    "some_date <- as.Date(\"2023-06-02\", \"%Y-%m-%d\")\n",
    "cat(\"some_date = \", some_date, \"\\n\")\n",
    "cat(\"class(some_date) = \", class(some_date), \"\\n\")\n",
    "cat(\"str(some_date) = \\n\")\n",
    "str(some_date)"
   ]
  },
  {
   "cell_type": "code",
   "execution_count": null,
   "metadata": {},
   "outputs": [],
   "source": []
  },
  {
   "cell_type": "code",
   "execution_count": null,
   "metadata": {},
   "outputs": [],
   "source": []
  },
  {
   "cell_type": "code",
   "execution_count": null,
   "metadata": {},
   "outputs": [],
   "source": []
  },
  {
   "cell_type": "code",
   "execution_count": null,
   "metadata": {
    "id": "9R1cQnJImLwS"
   },
   "outputs": [],
   "source": []
  },
  {
   "cell_type": "markdown",
   "metadata": {
    "id": "3R41kXjloA0D",
    "tags": []
   },
   "source": [
    "## 3) Operations, functions and control flows\n",
    "\n",
    "Main reference again is Ch.5 Kabacoff's \"R in Action\". Covers the following topics:\n",
    "\n",
    "* Elementary operations. Sec.3.2\n",
    "* Mathematical and statistical functions. Sec.5.2\n",
    "* Conditional statements. Sec.5.3.2.\n",
    "* Loops. Sec.5.3.1\n",
    "* Functions. Sec.5.4"
   ]
  },
  {
   "cell_type": "markdown",
   "metadata": {
    "id": "YXJVVED7tyQ2"
   },
   "source": [
    "### 3.a - Elementary operations\n",
    "\n",
    "This part is taken from Kabacoff, section 3.2. The elementary arithmetic operations use the following operators:\n",
    "\n",
    "        \n",
    "        OPERATION     |  R SYMBOL \n",
    "    __________________|___________\n",
    "        Addition      |     +\n",
    "       Subtraction    |     -\n",
    "      Multiplication  |     *\n",
    "         Division     |     /\n",
    "      Exponentation   |   ^ or **\n",
    "         Modulo       |     %%\n",
    "    Integer division  |    %/%"
   ]
  },
  {
   "cell_type": "code",
   "execution_count": 49,
   "metadata": {
    "colab": {
     "base_uri": "https://localhost:8080/"
    },
    "id": "55csS70Gtw6g",
    "outputId": "1c639ca4-cc8c-450d-c6ef-9165fbd90b43"
   },
   "outputs": [
    {
     "name": "stdout",
     "output_type": "stream",
     "text": [
      "2^5 =  32 \n",
      "35 %% 17 =  1 \n",
      "35 %/% 17 =  2 \n"
     ]
    }
   ],
   "source": [
    "# Exponentiation\n",
    "cat(\"2^5 = \", 2^5,\"\\n\")\n",
    "\n",
    "# Modulus\n",
    "cat(\"35 %% 17 = \", 35%%17,\"\\n\")\n",
    "\n",
    "# Integer division\n",
    "cat(\"35 %/% 17 = \", 35%/%17, \"\\n\")"
   ]
  },
  {
   "cell_type": "markdown",
   "metadata": {
    "id": "2kxFTnpWwSGp"
   },
   "source": [
    "Regarding the comparison operators (Table 3.3 p.50), these are:\n",
    "\n",
    "        OPERATION     |  R SYMBOL \n",
    "    __________________|___________\n",
    "       Less than      |     <\n",
    "     Less or equal    |    <=\n",
    "      Greater than    |     >\n",
    "     Greater or eq.   |    >=\n",
    "         Equals       |    ==\n",
    "      Not equal       |    !=\n",
    "         A or B       |   A | B\n",
    "        A and B       |   A & B\n",
    "      Is A true?      | isTRUE(A)\n",
    "      Is A false?     | isFALSE(A)\n",
    "    Logical negation  |     !"
   ]
  },
  {
   "cell_type": "markdown",
   "metadata": {
    "id": "3S_fG6Bsxtbo"
   },
   "source": [
    "An illustrative example:"
   ]
  },
  {
   "cell_type": "code",
   "execution_count": 1,
   "metadata": {
    "colab": {
     "base_uri": "https://localhost:8080/"
    },
    "id": "Cg0iN2oCtwyT",
    "outputId": "407b9a69-1ce7-4599-b513-fa72990ee739"
   },
   "outputs": [
    {
     "name": "stdout",
     "output_type": "stream",
     "text": [
      "A = (pi <= 3.14), B = (pi >= 3.15), C = !(A | B).\n",
      "A is  FALSE \n",
      "B is  FALSE \n",
      "isTRUE(C) = TRUE"
     ]
    }
   ],
   "source": [
    "# Assign statement variables\n",
    "A <- (pi <= 3.14)\n",
    "B <- (pi >= 3.15)\n",
    "C <- !(A | B)\n",
    "C_True <- isTRUE(C)\n",
    "\n",
    "# Print\n",
    "cat(\"A = (pi <= 3.14), B = (pi >= 3.15), C = !(A | B).\\n\")\n",
    "cat(\"A is \", A,\"\\n\")\n",
    "cat(\"B is \", B,\"\\n\")\n",
    "cat(\"isTRUE(C) =\", C_True)"
   ]
  },
  {
   "cell_type": "markdown",
   "metadata": {
    "id": "u9mwsoYOzUP0"
   },
   "source": [
    "### 3.b - Mathematical and statistical functions\n",
    "\n",
    "This part is discussed in Sec.5.2 of Kabacoff. A more complete table can be found here:\n",
    "\n",
    "https://www.statmethods.net/management/functions.html\n",
    "\n",
    "In the book we're following: \n",
    "* Section 5.2.1 discusses mathematical functions, \n",
    "* Section 5.2.2 discusses elementary stats functions, \n",
    "* Section 5.2.3 discusses probability functions, including random number generation. \n",
    "* Section 5.2.4 discusses character (i.e. string) functions, and section 5.2.5 gives a table with other useful functions.\n",
    "* An important subsection for future work is how these functions are applied to matrices and dataframes, which Kabacoff discusses in 5.2.6."
   ]
  },
  {
   "cell_type": "markdown",
   "metadata": {
    "id": "u9mwsoYOzUP0"
   },
   "source": [
    "#### Probability functions and random number generators\n",
    "\n",
    "Probability functions take the following form in R:\n",
    "\n",
    "        [dpqr] distributions_abbreviation()\n",
    "\n",
    "where the first letter refers to the aspect of the distribution returned:\n",
    "* *d*: Density;\n",
    "* *p*: Probability distribution;\n",
    "* *q*: Quantile function;\n",
    "* *r*: Random generation\n",
    "\n",
    "As for the abbreviations, a rather complete list is here:\n",
    "\n",
    "https://cran.r-project.org/web/views/Distributions.html\n",
    "\n",
    "https://rstudio.github.io/r-manuals/r-intro/Probability-distributions.html"
   ]
  },
  {
   "cell_type": "markdown",
   "metadata": {
    "id": "u9mwsoYOzUP0"
   },
   "source": [
    "**Generating random numbers:**\n",
    "\n",
    "For example, let us generate points from a Gaussian with $\\mu = -1.5$ and $\\sigma = 2$, and then plot the histogram using *hist()*. The documentation for this function is here:\n",
    "\n",
    "https://www.rdocumentation.org/packages/graphics/versions/3.6.2/topics/hist\n",
    "\n",
    "It is called like this:\n",
    "\n",
    "    hist(x, breaks = \"Sturges\",\n",
    "         freq = NULL, probability = !freq,\n",
    "         include.lowest = TRUE, right = TRUE,\n",
    "         density = NULL, angle = 45, col = NULL, border = NULL,\n",
    "         main = paste(\"Histogram of\" , xname),\n",
    "         xlim = range(breaks), ylim = NULL,\n",
    "         xlab = xname, ylab,\n",
    "         axes = TRUE, plot = TRUE, labels = FALSE,\n",
    "         nclass = NULL, warn.unused = TRUE, …)"
   ]
  },
  {
   "cell_type": "code",
   "execution_count": 26,
   "metadata": {},
   "outputs": [
    {
     "data": {
      "image/png": "[encoded data removed]",
      "text/plain": [
       "Plot with title “Histogram of x”"
      ]
     },
     "metadata": {
      "image/png": {
       "height": 420,
       "width": 420
      }
     },
     "output_type": "display_data"
    }
   ],
   "source": [
    "# Params\n",
    "set.seed(10)\n",
    "N_pts <- 2000\n",
    "mu <- 1.5\n",
    "sigma <- 2\n",
    "\n",
    "# Generate 200 points\n",
    "x <- rnorm(N_pts, mean = 50, sd = sigma)\n",
    "\n",
    "# Plot histogram (https://www.datamentor.io/r-programming/histogram)\n",
    "hist(x)"
   ]
  },
  {
   "cell_type": "markdown",
   "metadata": {},
   "source": [
    "**Probability density and distribution:**\n",
    "\n",
    "Now, we plot the probability density of the previous distribution over the interval [-5,8]. Along the way, we'll set our seed to 101:"
   ]
  },
  {
   "cell_type": "code",
   "execution_count": 23,
   "metadata": {},
   "outputs": [
    {
     "data": {
      "image/png": "[encoded data removed]",
      "text/plain": [
       "Plot with title “Density of N(-1.5,2)”"
      ]
     },
     "metadata": {
      "image/png": {
       "height": 420,
       "width": 420
      }
     },
     "output_type": "display_data"
    }
   ],
   "source": [
    "# Set seed\n",
    "set.seed(101)\n",
    "\n",
    "# X-axis\n",
    "x <- seq(from = -5, to = 8, by = 0.1)\n",
    "\n",
    "# Y = f(X)\n",
    "y = dnorm(x, mean = mu, sd = sigma)\n",
    "\n",
    "# Plot\n",
    "plot(x,y, main = \"Density of N(-1.5,2)\", type = 'l')"
   ]
  },
  {
   "cell_type": "code",
   "execution_count": 22,
   "metadata": {},
   "outputs": [
    {
     "data": {
      "image/png": "[encoded data removed]",
      "text/plain": [
       "Plot with title “Probability distribution of N(-1.5,2)”"
      ]
     },
     "metadata": {
      "image/png": {
       "height": 420,
       "width": 420
      }
     },
     "output_type": "display_data"
    }
   ],
   "source": [
    "# Plot probability distribution\n",
    "plot(x,pnorm(x, mean = mu, sd = sigma), main = \"Probability distribution of N(-1.5,2)\", type = 'l')"
   ]
  },
  {
   "cell_type": "markdown",
   "metadata": {},
   "source": [
    "**Random arrays:**\n",
    "\n",
    "If we want to generate a random vector with 10 components following a $U[-1,1]$, we simply write:"
   ]
  },
  {
   "cell_type": "code",
   "execution_count": 27,
   "metadata": {
    "collapsed": true,
    "jupyter": {
     "outputs_hidden": true
    },
    "tags": []
   },
   "outputs": [
    {
     "data": {
      "text/html": [
       "\n",
       "<table style=\"width: 100%;\"><tr><td>Uniform {stats}</td><td style=\"text-align: right;\">R Documentation</td></tr></table>\n",
       "\n",
       "<h2 id='Uniform'>The Uniform Distribution</h2>\n",
       "\n",
       "<h3>Description</h3>\n",
       "\n",
       "<p>These functions provide information about the uniform distribution\n",
       "on the interval from <code>min</code> to <code>max</code>.  <code>dunif</code> gives the\n",
       "density, <code>punif</code> gives the distribution function <code>qunif</code>\n",
       "gives the quantile function and <code>runif</code> generates random\n",
       "deviates.\n",
       "</p>\n",
       "\n",
       "\n",
       "<h3>Usage</h3>\n",
       "\n",
       "<pre><code class='language-R'>dunif(x, min = 0, max = 1, log = FALSE)\n",
       "punif(q, min = 0, max = 1, lower.tail = TRUE, log.p = FALSE)\n",
       "qunif(p, min = 0, max = 1, lower.tail = TRUE, log.p = FALSE)\n",
       "runif(n, min = 0, max = 1)\n",
       "</code></pre>\n",
       "\n",
       "\n",
       "<h3>Arguments</h3>\n",
       "\n",
       "<table>\n",
       "<tr><td><code id=\"Uniform_:_x\">x</code>, <code id=\"Uniform_:_q\">q</code></td>\n",
       "<td>\n",
       "<p>vector of quantiles.</p>\n",
       "</td></tr>\n",
       "<tr><td><code id=\"Uniform_:_p\">p</code></td>\n",
       "<td>\n",
       "<p>vector of probabilities.</p>\n",
       "</td></tr>\n",
       "<tr><td><code id=\"Uniform_:_n\">n</code></td>\n",
       "<td>\n",
       "<p>number of observations. If <code>length(n) &gt; 1</code>, the length\n",
       "is taken to be the number required.</p>\n",
       "</td></tr>\n",
       "<tr><td><code id=\"Uniform_:_min\">min</code>, <code id=\"Uniform_:_max\">max</code></td>\n",
       "<td>\n",
       "<p>lower and upper limits of the distribution.  Must be finite.</p>\n",
       "</td></tr>\n",
       "<tr><td><code id=\"Uniform_:_log\">log</code>, <code id=\"Uniform_:_log.p\">log.p</code></td>\n",
       "<td>\n",
       "<p>logical; if TRUE, probabilities p are given as log(p).</p>\n",
       "</td></tr>\n",
       "<tr><td><code id=\"Uniform_:_lower.tail\">lower.tail</code></td>\n",
       "<td>\n",
       "<p>logical; if TRUE (default), probabilities are\n",
       "<code class=\"reqn\">P[X \\le x]</code>, otherwise, <code class=\"reqn\">P[X &gt; x]</code>.</p>\n",
       "</td></tr>\n",
       "</table>\n",
       "\n",
       "\n",
       "<h3>Details</h3>\n",
       "\n",
       "<p>If <code>min</code> or <code>max</code> are not specified they assume the default\n",
       "values of <code>0</code> and <code>1</code> respectively.\n",
       "</p>\n",
       "<p>The uniform distribution has density\n",
       "</p>\n",
       "<p style=\"text-align: center;\"><code class=\"reqn\">f(x) = \\frac{1}{max-min}</code>\n",
       "</p>\n",
       "\n",
       "<p>for <code class=\"reqn\">min \\le x \\le max</code>.\n",
       "</p>\n",
       "<p>For the case of <code class=\"reqn\">u := min == max</code>, the limit case of\n",
       "<code class=\"reqn\">X \\equiv u</code> is assumed, although there is no density in\n",
       "that case and <code>dunif</code> will return <code>NaN</code> (the error condition).\n",
       "</p>\n",
       "<p><code>runif</code> will not generate either of the extreme values unless\n",
       "<code>max = min</code> or <code>max-min</code> is small compared to <code>min</code>,\n",
       "and in particular not for the default arguments.\n",
       "</p>\n",
       "\n",
       "\n",
       "<h3>Value</h3>\n",
       "\n",
       "<p><code>dunif</code> gives the density,\n",
       "<code>punif</code> gives the distribution function,\n",
       "<code>qunif</code> gives the quantile function, and\n",
       "<code>runif</code> generates random deviates.\n",
       "</p>\n",
       "<p>The length of the result is determined by <code>n</code> for\n",
       "<code>runif</code>, and is the maximum of the lengths of the\n",
       "numerical arguments for the other functions.  \n",
       "</p>\n",
       "<p>The numerical arguments other than <code>n</code> are recycled to the\n",
       "length of the result.  Only the first elements of the logical\n",
       "arguments are used.\n",
       "</p>\n",
       "\n",
       "\n",
       "<h3>Note</h3>\n",
       "\n",
       "<p>The characteristics of output from pseudo-random number generators\n",
       "(such as precision and periodicity) vary widely.  See\n",
       "<code>.Random.seed</code> for more information on <span class=\"rlang\"><b>R</b></span>'s random number\n",
       "generation algorithms.\n",
       "</p>\n",
       "\n",
       "\n",
       "<h3>References</h3>\n",
       "\n",
       "<p>Becker, R. A., Chambers, J. M. and Wilks, A. R. (1988)\n",
       "<em>The New S Language</em>.\n",
       "Wadsworth &amp; Brooks/Cole.\n",
       "</p>\n",
       "\n",
       "\n",
       "<h3>See Also</h3>\n",
       "\n",
       "<p><code>RNG</code> about random number generation in <span class=\"rlang\"><b>R</b></span>.\n",
       "</p>\n",
       "<p>Distributions for other standard distributions.\n",
       "</p>\n",
       "\n",
       "\n",
       "<h3>Examples</h3>\n",
       "\n",
       "<pre><code class='language-R'>u &lt;- runif(20)\n",
       "\n",
       "## The following relations always hold :\n",
       "punif(u) == u\n",
       "dunif(u) == 1\n",
       "\n",
       "var(runif(10000))  #- ~ = 1/12 = .08333\n",
       "</code></pre>\n",
       "\n",
       "<hr /><div style=\"text-align: center;\">[Package <em>stats</em> version 4.3.0 ]</div>\n",
       "</div>"
      ],
      "text/latex": [
       "\\inputencoding{utf8}\n",
       "\\HeaderA{Uniform}{The Uniform Distribution}{Uniform}\n",
       "\\aliasA{dunif}{Uniform}{dunif}\n",
       "\\aliasA{punif}{Uniform}{punif}\n",
       "\\aliasA{qunif}{Uniform}{qunif}\n",
       "\\aliasA{runif}{Uniform}{runif}\n",
       "\\keyword{distribution}{Uniform}\n",
       "%\n",
       "\\begin{Description}\n",
       "These functions provide information about the uniform distribution\n",
       "on the interval from \\code{min} to \\code{max}.  \\code{dunif} gives the\n",
       "density, \\code{punif} gives the distribution function \\code{qunif}\n",
       "gives the quantile function and \\code{runif} generates random\n",
       "deviates.\n",
       "\\end{Description}\n",
       "%\n",
       "\\begin{Usage}\n",
       "\\begin{verbatim}\n",
       "dunif(x, min = 0, max = 1, log = FALSE)\n",
       "punif(q, min = 0, max = 1, lower.tail = TRUE, log.p = FALSE)\n",
       "qunif(p, min = 0, max = 1, lower.tail = TRUE, log.p = FALSE)\n",
       "runif(n, min = 0, max = 1)\n",
       "\\end{verbatim}\n",
       "\\end{Usage}\n",
       "%\n",
       "\\begin{Arguments}\n",
       "\\begin{ldescription}\n",
       "\\item[\\code{x, q}] vector of quantiles.\n",
       "\\item[\\code{p}] vector of probabilities.\n",
       "\\item[\\code{n}] number of observations. If \\code{length(n) > 1}, the length\n",
       "is taken to be the number required.\n",
       "\\item[\\code{min, max}] lower and upper limits of the distribution.  Must be finite.\n",
       "\\item[\\code{log, log.p}] logical; if TRUE, probabilities p are given as log(p).\n",
       "\\item[\\code{lower.tail}] logical; if TRUE (default), probabilities are\n",
       "\\eqn{P[X \\le x]}{}, otherwise, \\eqn{P[X > x]}{}.\n",
       "\\end{ldescription}\n",
       "\\end{Arguments}\n",
       "%\n",
       "\\begin{Details}\n",
       "If \\code{min} or \\code{max} are not specified they assume the default\n",
       "values of \\code{0} and \\code{1} respectively.\n",
       "\n",
       "The uniform distribution has density\n",
       "\\deqn{f(x) = \\frac{1}{max-min}}{}\n",
       "for \\eqn{min \\le x \\le max}{}.\n",
       "\n",
       "For the case of \\eqn{u := min == max}{}, the limit case of\n",
       "\\eqn{X \\equiv u}{} is assumed, although there is no density in\n",
       "that case and \\code{dunif} will return \\code{NaN} (the error condition).\n",
       "\n",
       "\\code{runif} will not generate either of the extreme values unless\n",
       "\\code{max = min} or \\code{max-min} is small compared to \\code{min},\n",
       "and in particular not for the default arguments.\n",
       "\\end{Details}\n",
       "%\n",
       "\\begin{Value}\n",
       "\\code{dunif} gives the density,\n",
       "\\code{punif} gives the distribution function,\n",
       "\\code{qunif} gives the quantile function, and\n",
       "\\code{runif} generates random deviates.\n",
       "\n",
       "The length of the result is determined by \\code{n} for\n",
       "\\code{runif}, and is the maximum of the lengths of the\n",
       "numerical arguments for the other functions.  \n",
       "\n",
       "The numerical arguments other than \\code{n} are recycled to the\n",
       "length of the result.  Only the first elements of the logical\n",
       "arguments are used.\n",
       "\\end{Value}\n",
       "%\n",
       "\\begin{Note}\n",
       "The characteristics of output from pseudo-random number generators\n",
       "(such as precision and periodicity) vary widely.  See\n",
       "\\code{\\LinkA{.Random.seed}{.Random.seed}} for more information on \\R{}'s random number\n",
       "generation algorithms.\n",
       "\\end{Note}\n",
       "%\n",
       "\\begin{References}\n",
       "Becker, R. A., Chambers, J. M. and Wilks, A. R. (1988)\n",
       "\\emph{The New S Language}.\n",
       "Wadsworth \\& Brooks/Cole.\n",
       "\\end{References}\n",
       "%\n",
       "\\begin{SeeAlso}\n",
       "\\code{\\LinkA{RNG}{RNG}} about random number generation in \\R{}.\n",
       "\n",
       "\\LinkA{Distributions}{Distributions} for other standard distributions.\n",
       "\\end{SeeAlso}\n",
       "%\n",
       "\\begin{Examples}\n",
       "\\begin{ExampleCode}\n",
       "u <- runif(20)\n",
       "\n",
       "## The following relations always hold :\n",
       "punif(u) == u\n",
       "dunif(u) == 1\n",
       "\n",
       "var(runif(10000))  #- ~ = 1/12 = .08333\n",
       "\\end{ExampleCode}\n",
       "\\end{Examples}"
      ],
      "text/plain": [
       "Uniform                 package:stats                  R Documentation\n",
       "\n",
       "_\bT_\bh_\be _\bU_\bn_\bi_\bf_\bo_\br_\bm _\bD_\bi_\bs_\bt_\br_\bi_\bb_\bu_\bt_\bi_\bo_\bn\n",
       "\n",
       "_\bD_\be_\bs_\bc_\br_\bi_\bp_\bt_\bi_\bo_\bn:\n",
       "\n",
       "     These functions provide information about the uniform distribution\n",
       "     on the interval from ‘min’ to ‘max’.  ‘dunif’ gives the density,\n",
       "     ‘punif’ gives the distribution function ‘qunif’ gives the quantile\n",
       "     function and ‘runif’ generates random deviates.\n",
       "\n",
       "_\bU_\bs_\ba_\bg_\be:\n",
       "\n",
       "     dunif(x, min = 0, max = 1, log = FALSE)\n",
       "     punif(q, min = 0, max = 1, lower.tail = TRUE, log.p = FALSE)\n",
       "     qunif(p, min = 0, max = 1, lower.tail = TRUE, log.p = FALSE)\n",
       "     runif(n, min = 0, max = 1)\n",
       "     \n",
       "_\bA_\br_\bg_\bu_\bm_\be_\bn_\bt_\bs:\n",
       "\n",
       "    x, q: vector of quantiles.\n",
       "\n",
       "       p: vector of probabilities.\n",
       "\n",
       "       n: number of observations. If ‘length(n) > 1’, the length is\n",
       "          taken to be the number required.\n",
       "\n",
       "min, max: lower and upper limits of the distribution.  Must be finite.\n",
       "\n",
       "log, log.p: logical; if TRUE, probabilities p are given as log(p).\n",
       "\n",
       "lower.tail: logical; if TRUE (default), probabilities are P[X <= x],\n",
       "          otherwise, P[X > x].\n",
       "\n",
       "_\bD_\be_\bt_\ba_\bi_\bl_\bs:\n",
       "\n",
       "     If ‘min’ or ‘max’ are not specified they assume the default values\n",
       "     of ‘0’ and ‘1’ respectively.\n",
       "\n",
       "     The uniform distribution has density\n",
       "\n",
       "                             f(x) = 1/(max-min)                         \n",
       "     \n",
       "     for min <= x <= max.\n",
       "\n",
       "     For the case of u := min == max, the limit case of X == u is\n",
       "     assumed, although there is no density in that case and ‘dunif’\n",
       "     will return ‘NaN’ (the error condition).\n",
       "\n",
       "     ‘runif’ will not generate either of the extreme values unless ‘max\n",
       "     = min’ or ‘max-min’ is small compared to ‘min’, and in particular\n",
       "     not for the default arguments.\n",
       "\n",
       "_\bV_\ba_\bl_\bu_\be:\n",
       "\n",
       "     ‘dunif’ gives the density, ‘punif’ gives the distribution\n",
       "     function, ‘qunif’ gives the quantile function, and ‘runif’\n",
       "     generates random deviates.\n",
       "\n",
       "     The length of the result is determined by ‘n’ for ‘runif’, and is\n",
       "     the maximum of the lengths of the numerical arguments for the\n",
       "     other functions.\n",
       "\n",
       "     The numerical arguments other than ‘n’ are recycled to the length\n",
       "     of the result.  Only the first elements of the logical arguments\n",
       "     are used.\n",
       "\n",
       "_\bN_\bo_\bt_\be:\n",
       "\n",
       "     The characteristics of output from pseudo-random number generators\n",
       "     (such as precision and periodicity) vary widely.  See\n",
       "     ‘.Random.seed’ for more information on R's random number\n",
       "     generation algorithms.\n",
       "\n",
       "_\bR_\be_\bf_\be_\br_\be_\bn_\bc_\be_\bs:\n",
       "\n",
       "     Becker, R. A., Chambers, J. M. and Wilks, A. R. (1988) _The New S\n",
       "     Language_.  Wadsworth & Brooks/Cole.\n",
       "\n",
       "_\bS_\be_\be _\bA_\bl_\bs_\bo:\n",
       "\n",
       "     ‘RNG’ about random number generation in R.\n",
       "\n",
       "     Distributions for other standard distributions.\n",
       "\n",
       "_\bE_\bx_\ba_\bm_\bp_\bl_\be_\bs:\n",
       "\n",
       "     u <- runif(20)\n",
       "     \n",
       "     ## The following relations always hold :\n",
       "     punif(u) == u\n",
       "     dunif(u) == 1\n",
       "     \n",
       "     var(runif(10000))  #- ~ = 1/12 = .08333\n",
       "     "
      ]
     },
     "metadata": {},
     "output_type": "display_data"
    }
   ],
   "source": [
    "?runif"
   ]
  },
  {
   "cell_type": "code",
   "execution_count": 31,
   "metadata": {},
   "outputs": [
    {
     "name": "stdout",
     "output_type": "stream",
     "text": [
      "u =  -0.8762108 -0.6539635 -0.6033776 -0.5794364 -0.7432765 0.02639913 -0.5743781 -0.08974683 0.4852167 -0.4839329"
     ]
    }
   ],
   "source": [
    "u <- runif(n = 10, min = -1, max = 1)\n",
    "cat(\"u = \", u)"
   ]
  },
  {
   "cell_type": "markdown",
   "metadata": {},
   "source": [
    "For arrays things are slightly more complicated than Numpy. We can technically only generate random vectors, and that's what we pass as data to the constructor of an array or a matrix:"
   ]
  },
  {
   "cell_type": "code",
   "execution_count": 34,
   "metadata": {},
   "outputs": [
    {
     "name": "stdout",
     "output_type": "stream",
     "text": [
      "mat =           [,1]       [,2]        [,3]        [,4]         [,5]\n",
      "[1,] 0.3444498 -0.2532259  0.23425969 -0.21599429 -0.008390106\n",
      "[2,] 0.6509860 -0.5044872 -0.07911079 -0.25938556 -0.666030101\n",
      "[3,] 0.4577845  0.5700519  0.18938739  0.01014929  0.272392385\n",
      "\n",
      "tens = \n",
      ", , 1\n",
      "\n",
      "           [,1]       [,2]       [,3]\n",
      "[1,] -0.1090483 -0.9689241 -0.6442988\n",
      "[2,] -0.5351591  0.9778614  0.7487366\n",
      "\n",
      ", , 2\n",
      "\n",
      "           [,1]       [,2]       [,3]\n",
      "[1,] -0.8801293  0.3145529 -0.5225489\n",
      "[2,] -0.6400425 -0.2957736  0.2711693\n",
      "\n",
      ", , 3\n",
      "\n",
      "          [,1]      [,2]       [,3]\n",
      "[1,] 0.1353102 0.3999167 -0.2583773\n",
      "[2,] 0.7529340 0.5078069 -0.5314676\n",
      "\n",
      ", , 4\n",
      "\n",
      "           [,1]      [,2]       [,3]\n",
      "[1,]  0.5669465 -0.215471 -0.6132685\n",
      "[2,] -0.1185633  0.926652  0.1236781\n",
      "\n"
     ]
    }
   ],
   "source": [
    "# Create a tensor and a matrix with U[-1,1] entries\n",
    "tens <- array(data = runif(24, min = -1, max= 1), dim = c(2,3,4))\n",
    "mat <- matrix(data = runif(15, min = -1, max= 1), nrow = 3, ncol = 5)\n",
    "\n",
    "# Show results\n",
    "cat(\"mat = \")\n",
    "print(mat)\n",
    "cat(\"\\n\")\n",
    "cat(\"tens = \\n\")\n",
    "print(tens)"
   ]
  },
  {
   "cell_type": "markdown",
   "metadata": {
    "id": "u9mwsoYOzUP0"
   },
   "source": [
    "#### Applying functions to matrices and dataframes\n",
    "\n",
    "Just like in Numpy, mathematical functions are applied to an array element-wise. Statistical functions in R will look at all the entries."
   ]
  },
  {
   "cell_type": "code",
   "execution_count": 38,
   "metadata": {
    "id": "-ShAtHpPtwsq"
   },
   "outputs": [
    {
     "name": "stdout",
     "output_type": "stream",
     "text": [
      "E(u) =  0.05487974 \n",
      "Var(u) =  0.2869681 \n"
     ]
    }
   ],
   "source": [
    "# Create a U[-1,1] random vector\n",
    "u <- runif(n= 250, min = -1, max = 1)\n",
    "\n",
    "# Get the sample mean and variance:\n",
    "cat(\"E(u) = \", mean(u), \"\\n\")\n",
    "cat(\"Var(u) = \", var(u), \"\\n\")\n"
   ]
  },
  {
   "cell_type": "markdown",
   "metadata": {},
   "source": [
    "Next, let's make a 50x5 matrix, whose columns we'll view as prices, and then construct the corresponding log-returns matrix:"
   ]
  },
  {
   "cell_type": "code",
   "execution_count": 30,
   "metadata": {},
   "outputs": [
    {
     "name": "stdout",
     "output_type": "stream",
     "text": [
      "mat_prices[40:50,1:5] = \n",
      "          [,1]     [,2]     [,3]     [,4]     [,5]\n",
      " [1,] 180.4183 617.0287 194.5980 1200.511 57.32659\n",
      " [2,] 173.0765 603.2637 189.8968 1195.626 57.27847\n",
      " [3,] 155.4188 669.8958 214.9360 1201.767 59.35517\n",
      " [4,] 187.0833 672.7543 191.9049 1201.948 63.64699\n",
      " [5,] 163.8516 691.9008 174.9448 1196.064 58.61113\n",
      " [6,] 178.4934 681.1242 172.8313 1196.697 57.00317\n",
      " [7,] 163.3603 640.1810 175.8544 1205.172 55.95270\n",
      " [8,] 179.2885 658.6119 221.5747 1200.584 58.65175\n",
      " [9,] 149.1012 658.1274 228.4022 1199.480 54.00935\n",
      "[10,] 175.6100 616.9913 175.1861 1195.493 55.28619\n",
      "[11,] 166.4286 654.6907 235.5166 1196.024 60.00960\n"
     ]
    }
   ],
   "source": [
    "# Create a matrix of \"prices\"\n",
    "N_pts <- 50\n",
    "c1 <- rnorm(n = N_pts, mean = 175, sd = 10)\n",
    "c2 <- rnorm(n = N_pts, mean = 650, sd = 25)\n",
    "c3 <- rnorm(n = N_pts, mean = 200, sd = 20)\n",
    "c4 <- rnorm(n = N_pts, mean = 1200, sd = 2.5)\n",
    "c5 <- rnorm(n = N_pts, mean = 58, sd = 2.5)\n",
    "mat_prices <- matrix(c(c1,c2,c3,c4,c5), nrow = 50, ncol = 5, byrow = FALSE)\n",
    "\n",
    "# Show last 10 entries\n",
    "cat(\"mat_prices[40:50,1:5] = \\n\")\n",
    "print(mat_prices[40:50,1:5])"
   ]
  },
  {
   "cell_type": "markdown",
   "metadata": {},
   "source": [
    "Let's compute the returns matrix:"
   ]
  },
  {
   "cell_type": "code",
   "execution_count": 31,
   "metadata": {},
   "outputs": [],
   "source": [
    "mat_retns <- matrix(data= 0, nrow = 50, ncol = 5)\n",
    "mat_retns[2:50,1:5] <- (mat_prices[2:50,1:5] - mat_prices[1:49,1:5])/mat_prices[1:49,1:5]"
   ]
  },
  {
   "cell_type": "code",
   "execution_count": 32,
   "metadata": {},
   "outputs": [
    {
     "name": "stdout",
     "output_type": "stream",
     "text": [
      "mat_retns[40:50,1:5] = \n",
      "             [,1]          [,2]        [,3]          [,4]         [,5]\n",
      " [1,]  0.08930735 -0.0594267898  0.03981387  0.0034784426 -0.056965802\n",
      " [2,] -0.04069319 -0.0223085088 -0.02415848 -0.0040691235 -0.000839551\n",
      " [3,] -0.10202254  0.1104527148  0.13185685  0.0051363468  0.036256244\n",
      " [4,]  0.20373644  0.0042669753 -0.10715340  0.0001509537  0.072307456\n",
      " [5,] -0.12417803  0.0284599301 -0.08837788 -0.0048953946 -0.079121699\n",
      " [6,]  0.08936012 -0.0155753855 -0.01208056  0.0005287091 -0.027434339\n",
      " [7,] -0.08478280 -0.0601111347  0.01749132  0.0070823864 -0.018428261\n",
      " [8,]  0.09750380  0.0287901427  0.25998983 -0.0038070591  0.048237917\n",
      " [9,] -0.16837299 -0.0007356137  0.03081318 -0.0009199409 -0.079151853\n",
      "[10,]  0.17779090 -0.0625047977 -0.23299260 -0.0033239835  0.023640985\n",
      "[11,] -0.05228276  0.0611019976  0.34437891  0.0004444744  0.085435686\n"
     ]
    }
   ],
   "source": [
    "# Show last 10 entries\n",
    "cat(\"mat_retns[40:50,1:5] = \\n\")\n",
    "print(mat_retns[40:50,1:5])"
   ]
  },
  {
   "cell_type": "markdown",
   "metadata": {},
   "source": [
    "And now the log returns:"
   ]
  },
  {
   "cell_type": "code",
   "execution_count": 33,
   "metadata": {},
   "outputs": [
    {
     "name": "stdout",
     "output_type": "stream",
     "text": [
      "mat_logRet[40:50,1:5] = \n",
      "             [,1]          [,2]        [,3]          [,4]          [,5]\n",
      " [1,]  0.08554204 -0.0612657915  0.03904172  0.0034724068 -0.0586527320\n",
      " [2,] -0.04154433 -0.0225611073 -0.02445508 -0.0040774249 -0.0008399036\n",
      " [3,] -0.10761031  0.1047677833  0.12385951  0.0051232008  0.0356144530\n",
      " [4,]  0.18543042  0.0042578976 -0.11334050  0.0001509423  0.0698128277\n",
      " [5,] -0.13259243  0.0280624698 -0.09252972 -0.0049074163 -0.0824273896\n",
      " [6,]  0.08559048 -0.0156979562 -0.01215412  0.0005285694 -0.0278176882\n",
      " [7,] -0.08859387 -0.0619936391  0.01734011  0.0070574241 -0.0186001770\n",
      " [8,]  0.09303833  0.0283834931  0.23110365 -0.0038143244  0.0471105804\n",
      " [9,] -0.18437124 -0.0007358844  0.03034799 -0.0009203643 -0.0824601349\n",
      "[10,]  0.16364056 -0.0645436387 -0.26525883 -0.0033295202  0.0233658649\n",
      "[11,] -0.05369909  0.0593079885  0.29593213  0.0004443757  0.0819814605\n"
     ]
    }
   ],
   "source": [
    "mat_logRet <- matrix(data= 0, nrow = 50, ncol = 5)\n",
    "mat_logRet <- log(mat_retns + matrix(data= 1.0, nrow = 50, ncol = 5))\n",
    "\n",
    "# Show last 10 entries\n",
    "cat(\"mat_logRet[40:50,1:5] = \\n\")\n",
    "print(mat_logRet[40:50,1:5])"
   ]
  },
  {
   "cell_type": "markdown",
   "metadata": {},
   "source": [
    "Here is the covariance matrix:"
   ]
  },
  {
   "cell_type": "code",
   "execution_count": 34,
   "metadata": {},
   "outputs": [
    {
     "name": "stdout",
     "output_type": "stream",
     "text": [
      "cov(mat_logRet) = \n",
      "              [,1]          [,2]          [,3]          [,4]          [,5]\n",
      "[1,]  6.351612e-03 -8.847160e-04 -2.324943e-03  1.375121e-06 -3.569453e-04\n",
      "[2,] -8.847160e-04  3.021263e-03  3.361184e-03 -1.516996e-05  8.231567e-04\n",
      "[3,] -2.324943e-03  3.361184e-03  1.711933e-02 -2.873659e-05  1.001811e-03\n",
      "[4,]  1.375121e-06 -1.516996e-05 -2.873659e-05  9.397217e-06  2.854478e-05\n",
      "[5,] -3.569453e-04  8.231567e-04  1.001811e-03  2.854478e-05  3.533108e-03\n"
     ]
    }
   ],
   "source": [
    "# Covariance\n",
    "cat(\"cov(mat_logRet) = \\n\")\n",
    "print(cov(mat_logRet))"
   ]
  },
  {
   "cell_type": "markdown",
   "metadata": {},
   "source": [
    "Now let's compute the mean of the log returns. For this to make sense, the return should be a vector with the mean of each column. For this we use R's *apply* function:\n",
    "\n",
    "        apply(X, MARGIN, FUN)\n",
    "        \n",
    "Where:\n",
    "* *X* is the data;\n",
    "* *MARGIN* is the dimension along which to apply the function;\n",
    "* *FUN* is the function to apply.\n"
   ]
  },
  {
   "cell_type": "code",
   "execution_count": 35,
   "metadata": {},
   "outputs": [
    {
     "name": "stdout",
     "output_type": "stream",
     "text": [
      "mu_logRets = \n",
      "[1] -2.940035e-03  1.197130e-03  5.664117e-03 -5.096176e-05  1.223707e-03\n"
     ]
    }
   ],
   "source": [
    "# Vector of averages\n",
    "mu_logRets <- apply(mat_logRet, MARGIN = 2, FUN = mean)\n",
    "\n",
    "# Print output\n",
    "cat(\"mu_logRets = \\n\")\n",
    "print(mu_logRets)"
   ]
  },
  {
   "cell_type": "markdown",
   "metadata": {},
   "source": [
    "Let's compare this with the middle clumn:"
   ]
  },
  {
   "cell_type": "code",
   "execution_count": 36,
   "metadata": {},
   "outputs": [
    {
     "name": "stdout",
     "output_type": "stream",
     "text": [
      "mean(mat_logRet[1:50,3]) = \n",
      "[1] 0.005664117\n",
      "var(mat_logRet[1:50,3]) = \n",
      "[1] 0.01711933\n"
     ]
    }
   ],
   "source": [
    "# Mean\n",
    "cat(\"mean(mat_logRet[1:50,3]) = \\n\")\n",
    "print(mean(mat_logRet[1:50,3]))\n",
    "\n",
    "# Variance\n",
    "cat(\"var(mat_logRet[1:50,3]) = \\n\")\n",
    "print(var(mat_logRet[1:50,3]))"
   ]
  },
  {
   "cell_type": "markdown",
   "metadata": {},
   "source": [
    "#### Application to dataframes\n",
    "\n",
    "Let's start by creating a dataframe using the *mat_logRet* matrix computed previously. The columns can be renamed using the *colnames()* function as below (see https://sparkbyexamples.com/r-programming/rename-column-in-r/):"
   ]
  },
  {
   "cell_type": "code",
   "execution_count": 49,
   "metadata": {},
   "outputs": [],
   "source": [
    "# Create dataframe with log returns\n",
    "df_logRets <- data.frame(data = mat_logRet, row.names = seq(1:50))\n",
    "# Rename columns\n",
    "#cols = c(\"Asset_1\", \"Asset_2\", \"Asset_3\", \"Asset_4\", \"Asset_5\")\n",
    "colnames(df_logRets) <- c(\"Asset_1\", \"Asset_2\", \"Asset_3\", \"Asset_4\", \"Asset_5\")"
   ]
  },
  {
   "cell_type": "code",
   "execution_count": 54,
   "metadata": {},
   "outputs": [
    {
     "data": {
      "text/html": [
       "<table class=\"dataframe\">\n",
       "<caption>A matrix: 5 × 5 of type dbl</caption>\n",
       "<thead>\n",
       "\t<tr><th></th><th scope=col>Asset_1</th><th scope=col>Asset_2</th><th scope=col>Asset_3</th><th scope=col>Asset_4</th><th scope=col>Asset_5</th></tr>\n",
       "</thead>\n",
       "<tbody>\n",
       "\t<tr><th scope=row>Asset_1</th><td> 6.351612e-03</td><td>-8.847160e-04</td><td>-2.324943e-03</td><td> 1.375121e-06</td><td>-3.569453e-04</td></tr>\n",
       "\t<tr><th scope=row>Asset_2</th><td>-8.847160e-04</td><td> 3.021263e-03</td><td> 3.361184e-03</td><td>-1.516996e-05</td><td> 8.231567e-04</td></tr>\n",
       "\t<tr><th scope=row>Asset_3</th><td>-2.324943e-03</td><td> 3.361184e-03</td><td> 1.711933e-02</td><td>-2.873659e-05</td><td> 1.001811e-03</td></tr>\n",
       "\t<tr><th scope=row>Asset_4</th><td> 1.375121e-06</td><td>-1.516996e-05</td><td>-2.873659e-05</td><td> 9.397217e-06</td><td> 2.854478e-05</td></tr>\n",
       "\t<tr><th scope=row>Asset_5</th><td>-3.569453e-04</td><td> 8.231567e-04</td><td> 1.001811e-03</td><td> 2.854478e-05</td><td> 3.533108e-03</td></tr>\n",
       "</tbody>\n",
       "</table>\n"
      ],
      "text/latex": [
       "A matrix: 5 × 5 of type dbl\n",
       "\\begin{tabular}{r|lllll}\n",
       "  & Asset\\_1 & Asset\\_2 & Asset\\_3 & Asset\\_4 & Asset\\_5\\\\\n",
       "\\hline\n",
       "\tAsset\\_1 &  6.351612e-03 & -8.847160e-04 & -2.324943e-03 &  1.375121e-06 & -3.569453e-04\\\\\n",
       "\tAsset\\_2 & -8.847160e-04 &  3.021263e-03 &  3.361184e-03 & -1.516996e-05 &  8.231567e-04\\\\\n",
       "\tAsset\\_3 & -2.324943e-03 &  3.361184e-03 &  1.711933e-02 & -2.873659e-05 &  1.001811e-03\\\\\n",
       "\tAsset\\_4 &  1.375121e-06 & -1.516996e-05 & -2.873659e-05 &  9.397217e-06 &  2.854478e-05\\\\\n",
       "\tAsset\\_5 & -3.569453e-04 &  8.231567e-04 &  1.001811e-03 &  2.854478e-05 &  3.533108e-03\\\\\n",
       "\\end{tabular}\n"
      ],
      "text/markdown": [
       "\n",
       "A matrix: 5 × 5 of type dbl\n",
       "\n",
       "| <!--/--> | Asset_1 | Asset_2 | Asset_3 | Asset_4 | Asset_5 |\n",
       "|---|---|---|---|---|---|\n",
       "| Asset_1 |  6.351612e-03 | -8.847160e-04 | -2.324943e-03 |  1.375121e-06 | -3.569453e-04 |\n",
       "| Asset_2 | -8.847160e-04 |  3.021263e-03 |  3.361184e-03 | -1.516996e-05 |  8.231567e-04 |\n",
       "| Asset_3 | -2.324943e-03 |  3.361184e-03 |  1.711933e-02 | -2.873659e-05 |  1.001811e-03 |\n",
       "| Asset_4 |  1.375121e-06 | -1.516996e-05 | -2.873659e-05 |  9.397217e-06 |  2.854478e-05 |\n",
       "| Asset_5 | -3.569453e-04 |  8.231567e-04 |  1.001811e-03 |  2.854478e-05 |  3.533108e-03 |\n",
       "\n"
      ],
      "text/plain": [
       "        Asset_1       Asset_2       Asset_3       Asset_4       Asset_5      \n",
       "Asset_1  6.351612e-03 -8.847160e-04 -2.324943e-03  1.375121e-06 -3.569453e-04\n",
       "Asset_2 -8.847160e-04  3.021263e-03  3.361184e-03 -1.516996e-05  8.231567e-04\n",
       "Asset_3 -2.324943e-03  3.361184e-03  1.711933e-02 -2.873659e-05  1.001811e-03\n",
       "Asset_4  1.375121e-06 -1.516996e-05 -2.873659e-05  9.397217e-06  2.854478e-05\n",
       "Asset_5 -3.569453e-04  8.231567e-04  1.001811e-03  2.854478e-05  3.533108e-03"
      ]
     },
     "metadata": {},
     "output_type": "display_data"
    }
   ],
   "source": [
    "cov(df_logRets)"
   ]
  },
  {
   "cell_type": "code",
   "execution_count": 56,
   "metadata": {},
   "outputs": [
    {
     "name": "stdout",
     "output_type": "stream",
     "text": [
      "      Asset_1       Asset_2       Asset_3       Asset_4       Asset_5 \n",
      "-2.940035e-03  1.197130e-03  5.664117e-03 -5.096176e-05  1.223707e-03 \n"
     ]
    }
   ],
   "source": [
    "print(apply(df_logRets, 2, mean))"
   ]
  },
  {
   "cell_type": "code",
   "execution_count": null,
   "metadata": {},
   "outputs": [],
   "source": []
  },
  {
   "cell_type": "markdown",
   "metadata": {},
   "source": [
    "### 3.c - Loops and conditional statements\n",
    "\n",
    "This part is covered in section 5.3 (Control flow) of Kabacoff."
   ]
  },
  {
   "cell_type": "markdown",
   "metadata": {},
   "source": [
    "#### For, While and Repeat\n",
    "\n",
    "In R, the syntax for the usual two loops work as follows:\n",
    "\n",
    "        for (var in seq)\n",
    "            {\n",
    "            instructions\n",
    "            }\n",
    "            \n",
    "        while (cond)\n",
    "            {\n",
    "            instructions\n",
    "            }\n",
    "            \n",
    "If there's only one instruction, the brackets are not needed."
   ]
  },
  {
   "cell_type": "code",
   "execution_count": 1,
   "metadata": {},
   "outputs": [
    {
     "name": "stdout",
     "output_type": "stream",
     "text": [
      "i =  1 \n",
      "i =  2 \n",
      "i =  3 \n",
      "i =  4 \n",
      "i =  5 \n"
     ]
    }
   ],
   "source": [
    "# For loop example\n",
    "for (i in seq(1:5))\n",
    "    cat(\"i = \", i, \"\\n\")"
   ]
  },
  {
   "cell_type": "code",
   "execution_count": 9,
   "metadata": {},
   "outputs": [
    {
     "name": "stdout",
     "output_type": "stream",
     "text": [
      "i =  1 \n",
      "i =  2 \n",
      "i =  3 \n",
      "i =  4 \n",
      "i =  5 \n",
      "i =  6 \n",
      "i =  7 \n",
      "i =  8 \n",
      "i =  9 \n",
      "i =  10 \n"
     ]
    }
   ],
   "source": [
    "i <- 1 \n",
    "# For loop example\n",
    "while (i<= 10)\n",
    "    {\n",
    "    cat(\"i = \", i, \"\\n\")\n",
    "    i <- i+1\n",
    "    }"
   ]
  },
  {
   "cell_type": "markdown",
   "metadata": {},
   "source": [
    "There is a third type of repetitive control flow in R, using *repeat*. This is used as follows:\n",
    "\n",
    "        rep(x, n) # For repeat x, n times.   \n",
    "This creates a vector in which the instruction x is repeated n times:"
   ]
  },
  {
   "cell_type": "code",
   "execution_count": 24,
   "metadata": {},
   "outputs": [
    {
     "name": "stdout",
     "output_type": "stream",
     "text": [
      "[1] 1 2 3 1 2 3 1 2 3\n"
     ]
    }
   ],
   "source": [
    "# \n",
    "u <- rep(c(1:3), 3)\n",
    "print(u)"
   ]
  },
  {
   "cell_type": "code",
   "execution_count": 25,
   "metadata": {},
   "outputs": [
    {
     "name": "stdout",
     "output_type": "stream",
     "text": [
      " [1] -1.0 -0.5  0.0  0.5  1.0 -1.0 -0.5  0.0  0.5  1.0\n"
     ]
    }
   ],
   "source": [
    "v <- rep(seq(-1,1,0.5), 2)\n",
    "print(v)"
   ]
  },
  {
   "cell_type": "markdown",
   "metadata": {},
   "source": [
    "#### Conditional statements\n",
    "\n",
    "For the usual *if-else* statements, the indentation is a little strange in R.\n",
    "\n",
    "If everything is on one line it works:"
   ]
  },
  {
   "cell_type": "code",
   "execution_count": 66,
   "metadata": {},
   "outputs": [
    {
     "name": "stdout",
     "output_type": "stream",
     "text": [
      "|x| =  2 \n",
      "|y| =  1 \n"
     ]
    }
   ],
   "source": [
    "# Variables\n",
    "x <- 2\n",
    "y <- -1\n",
    "\n",
    "# Get absolute value of x\n",
    "if (x < 0) abs_x <- -x else abs_x <- x\n",
    "\n",
    "cat(\"|x| = \", abs_x,\"\\n\")\n",
    "\n",
    "# Get absolute value of y\n",
    "if (y < 0) abs_y <- -y else abs_y <- y\n",
    "\n",
    "cat(\"|y| = \", abs_y,\"\\n\")"
   ]
  },
  {
   "cell_type": "markdown",
   "metadata": {},
   "source": [
    "The following gives an error:"
   ]
  },
  {
   "cell_type": "code",
   "execution_count": 67,
   "metadata": {},
   "outputs": [
    {
     "ename": "ERROR",
     "evalue": "Error in parse(text = x, srcfile = src): <text>:7:1: unexpected 'else'\n6:     abs_y <- -y \n7: else\n   ^\n",
     "output_type": "error",
     "traceback": [
      "Error in parse(text = x, srcfile = src): <text>:7:1: unexpected 'else'\n6:     abs_y <- -y \n7: else\n   ^\nTraceback:\n"
     ]
    }
   ],
   "source": [
    "# Variables\n",
    "y <- -pi\n",
    "\n",
    "# Get absolute value of y\n",
    "if (y < 0)\n",
    "    abs_y <- -y \n",
    "else \n",
    "    abs_y <- y\n",
    "\n",
    "cat(\"|y| = \", abs_y,\"\\n\")"
   ]
  },
  {
   "cell_type": "markdown",
   "metadata": {},
   "source": [
    "The correct way to write this is:"
   ]
  },
  {
   "cell_type": "code",
   "execution_count": 74,
   "metadata": {},
   "outputs": [
    {
     "name": "stdout",
     "output_type": "stream",
     "text": [
      "|y| =  3.141593 \n"
     ]
    }
   ],
   "source": [
    "# Variables\n",
    "y <- runif(1, )\n",
    "\n",
    "# Get absolute value of y\n",
    "if (y < 0) {\n",
    "    abs_y <- -y \n",
    "    } else { # else MUST BE RIGHT AFTER the bracket\n",
    "    abs_y <- y\n",
    "    }\n",
    "\n",
    "cat(\"|y| = \", abs_y,\"\\n\")"
   ]
  },
  {
   "cell_type": "code",
   "execution_count": null,
   "metadata": {},
   "outputs": [],
   "source": []
  },
  {
   "cell_type": "code",
   "execution_count": null,
   "metadata": {},
   "outputs": [],
   "source": []
  },
  {
   "cell_type": "code",
   "execution_count": null,
   "metadata": {},
   "outputs": [],
   "source": []
  },
  {
   "cell_type": "markdown",
   "metadata": {},
   "source": [
    "### 3.d - Functions\n",
    "\n",
    "Here is what a function looks like in R:\n",
    "\n",
    "        function_name <- function(param_1, param_2, ...) {\n",
    "            \n",
    "            # Function\n",
    "            instructions block\n",
    "            ...\n",
    "            # Return output\n",
    "            return(out_variable)\n",
    "            }\n",
    "\n",
    "We'll start with a factorial:"
   ]
  },
  {
   "cell_type": "code",
   "execution_count": 76,
   "metadata": {},
   "outputs": [],
   "source": [
    "# Factorial function\n",
    "myFactorial <- function(n) {\n",
    "    \n",
    "    # Init.\n",
    "    x <- 1\n",
    "    \n",
    "    # Check if input is 0\n",
    "    if (n == 0) {\n",
    "        return(1)\n",
    "        # Input is greater than 0\n",
    "        } else if (n>0){\n",
    "        for (i in seq(1:n)) {\n",
    "            x <- x*i \n",
    "            }\n",
    "        return(x)\n",
    "        } else if (n<0) {\n",
    "        cat(\"ERROR: n<0\")\n",
    "        }\n",
    "    }"
   ]
  },
  {
   "cell_type": "code",
   "execution_count": 77,
   "metadata": {},
   "outputs": [
    {
     "data": {
      "text/html": [
       "1"
      ],
      "text/latex": [
       "1"
      ],
      "text/markdown": [
       "1"
      ],
      "text/plain": [
       "[1] 1"
      ]
     },
     "metadata": {},
     "output_type": "display_data"
    }
   ],
   "source": [
    "myFactorial(0)"
   ]
  },
  {
   "cell_type": "code",
   "execution_count": 78,
   "metadata": {},
   "outputs": [
    {
     "data": {
      "text/html": [
       "6"
      ],
      "text/latex": [
       "6"
      ],
      "text/markdown": [
       "6"
      ],
      "text/plain": [
       "[1] 6"
      ]
     },
     "metadata": {},
     "output_type": "display_data"
    }
   ],
   "source": [
    "myFactorial(3)"
   ]
  },
  {
   "cell_type": "code",
   "execution_count": 79,
   "metadata": {},
   "outputs": [
    {
     "data": {
      "text/html": [
       "720"
      ],
      "text/latex": [
       "720"
      ],
      "text/markdown": [
       "720"
      ],
      "text/plain": [
       "[1] 720"
      ]
     },
     "metadata": {},
     "output_type": "display_data"
    }
   ],
   "source": [
    "myFactorial(6)"
   ]
  },
  {
   "cell_type": "markdown",
   "metadata": {},
   "source": [
    "Here's another elementary one"
   ]
  },
  {
   "cell_type": "code",
   "execution_count": 2,
   "metadata": {},
   "outputs": [],
   "source": [
    "myAbs <- function(x) {\n",
    "    if (x <= 0) {\n",
    "        return(-x)\n",
    "        } else {\n",
    "        return(x)\n",
    "        }\n",
    "    }"
   ]
  },
  {
   "cell_type": "code",
   "execution_count": 3,
   "metadata": {},
   "outputs": [
    {
     "name": "stdout",
     "output_type": "stream",
     "text": [
      "|-pi| =  3.141593"
     ]
    }
   ],
   "source": [
    "cat(\"|-pi| = \", myAbs(-pi))"
   ]
  },
  {
   "cell_type": "code",
   "execution_count": null,
   "metadata": {},
   "outputs": [],
   "source": []
  },
  {
   "cell_type": "code",
   "execution_count": null,
   "metadata": {},
   "outputs": [],
   "source": []
  },
  {
   "cell_type": "markdown",
   "metadata": {
    "id": "ohyiKDmcmo3m"
   },
   "source": [
    "## 4) Object Oriented Programming in R\n",
    "\n",
    "This part follows the TidyX tutorials at:\n",
    "\n",
    "https://www.youtube.com/playlist?list=PLdb0LTjA9iQwMOhNOzj5h2G6HXpatm4XQ\n",
    "\n",
    "with code at:\n",
    "\n",
    "https://github.com/thebioengineer/TidyX/tree/master/TidyTuesday_Explained\n",
    "\n"
   ]
  },
  {
   "cell_type": "markdown",
   "metadata": {
    "id": "ohyiKDmcmo3m"
   },
   "source": [
    "### 4.a - Lists revisited and generic functions\n",
    "\n",
    "In the OOP section of his book (Sec.20.4), Kabacoff briefly discusses generic functions, but avoids actually defining objects with attributes and methods.\n",
    "\n",
    "**Comment:** R users talk a lot about generic functions, because instead of creating several classes with one method of the same name, they prefer to overload an existing function for a new class. In other words, instead of writing:\n",
    "\n",
    "        class SomeClass():\n",
    "            def __init__(params):\n",
    "                ...\n",
    "            def fit():\n",
    "                ...\n",
    "            def predict():\n",
    "                ...\n",
    "R users will have:\n",
    "\n",
    "        fit.SomeClass <- function(x, ...){\n",
    "                ...\n",
    "            }\n",
    "        predict.SomeClass <- function(x, ...){\n",
    "                ...\n",
    "            }"
   ]
  },
  {
   "cell_type": "code",
   "execution_count": null,
   "metadata": {},
   "outputs": [],
   "source": []
  },
  {
   "cell_type": "code",
   "execution_count": null,
   "metadata": {},
   "outputs": [],
   "source": []
  },
  {
   "cell_type": "code",
   "execution_count": null,
   "metadata": {},
   "outputs": [],
   "source": []
  },
  {
   "cell_type": "markdown",
   "metadata": {
    "id": "ohyiKDmcmo3m"
   },
   "source": [
    "### 4.b - S3 classes\n",
    "\n",
    "This part follows the tutorial and code at TidyX's channel and GitHub repo. The most widely used class model in R is this S3, especially for packages. All references cite:\n",
    "\n",
    "https://adv-r.hadley.nz/s3.html\n",
    "\n",
    "S3 classes in R are similar to C's structures, and in fact use the *structure()* keyword. Just like C structures, you define attributes for your structure, but you only have external functions instead of internal methods. (I think this is what is meant by *generic* functions in this context).\n",
    "\n",
    "An important detail here is that the constructor of an S3 class/structure needs to be written.\n",
    "\n",
    "In the next example, I will not go into too many details. I am skipping some of the usual practices of OOP in R (e.g. my constructor has the same name as the class instead of *new_ClassName*)."
   ]
  },
  {
   "cell_type": "markdown",
   "metadata": {},
   "source": [
    "#### Structure implementation\n",
    "\n",
    "Below is an example of a constructor. The S3 structure is defined within the constructor. Notice that:\n",
    "- All attributes must be separated by a comma.\n",
    "- The **.Data()** keyword is used to define the data (lower-level attributes) within the structure. Below, I am encoding the data as a list so that the (lower-level) attributes can be accessed using \"$\".\n",
    "- The class name is encoded as a string, and as a higher-level attribute (i.e. outside *.Data*). This string will be the output of the *class()* function, and is used to overload existing R functions.\n",
    "- R users seem to separate the contructor and the validator, where the latter checks the input. I do both in the same function below."
   ]
  },
  {
   "cell_type": "code",
   "execution_count": 5,
   "metadata": {},
   "outputs": [],
   "source": [
    "# How do you create a structure?\n",
    "### Make the constructor and the structure definition inside it\n",
    "DateTime <- function(year, month, day, hour, minute){\n",
    "    \n",
    "    # Convert inputs to integers\n",
    "    year <- as.integer(year) \n",
    "    month <- as.integer(month) \n",
    "    day <- as.integer(day) \n",
    "    hour <- as.integer(hour)\n",
    "    \n",
    "    # Init. Booleans for verification\n",
    "    valid_month <- TRUE\n",
    "    valid_day <- TRUE\n",
    "    valid_hour <- TRUE\n",
    "    valid_minute <- TRUE\n",
    "    \n",
    "    # Check month input\n",
    "    if ( !((month >= 1) && (month <= 12)) ) {\n",
    "        cat(\"Month isn't valid\")\n",
    "        valid_month <- FALSE\n",
    "    }\n",
    "    \n",
    "    # Check day input\n",
    "    if ( !((day >= 1) && (day <= 31)) ) {\n",
    "        cat(\"Day isn't valid\")\n",
    "        valid_day <- FALSE\n",
    "    }\n",
    "    \n",
    "    # Check hour input\n",
    "    if ( !((hour >= 0) && (hour <= 23)) ) {\n",
    "        cat(\"Hour isn't valid\")\n",
    "        valid_hour <- FALSE\n",
    "    }\n",
    "    \n",
    "    # Check minute input\n",
    "    if ( !((minute >= 0) && (minute <= 59)) ) {\n",
    "        cat(\"Minute isn't valid\")\n",
    "        valid_minute <- FALSE\n",
    "    }\n",
    "    \n",
    "    if ( !(valid_month && valid_day && valid_hour && valid_minute) ) {\n",
    "            break\n",
    "        } else {\n",
    "            # This is the S3 class definition. Note there are no params\n",
    "            structure(\n",
    "                # The .Data attribute should always be there\n",
    "                .Data = list(\n",
    "                    year = year,\n",
    "                    month = month,\n",
    "                    day = day,\n",
    "                    hour = hour,\n",
    "                    minute = minute\n",
    "                    ),\n",
    "                ## Comma has to separate every attribute,\n",
    "                ## unlike Python.\n",
    "\n",
    "                # This is where you specify the class name\n",
    "                class = \"DateTime\",\n",
    "\n",
    "                # Default string format\n",
    "                date_str_format = \"%Y-%m-%d\",\n",
    "                time_str_format = \"HH:MM\"\n",
    "                )\n",
    "        } # End else\n",
    "    } # End of Function"
   ]
  },
  {
   "cell_type": "markdown",
   "metadata": {},
   "source": [
    "Now we create two valid examples:"
   ]
  },
  {
   "cell_type": "code",
   "execution_count": 6,
   "metadata": {},
   "outputs": [],
   "source": [
    "year <- 2023\n",
    "month <- 6\n",
    "day <- 2\n",
    "hour <- 12\n",
    "minute <- 0\n",
    "\n",
    "ex_obj <- DateTime(year, month, day, hour, minute)\n",
    "ex_datetime <- DateTime(year, 7, day, 6, minute)"
   ]
  },
  {
   "cell_type": "markdown",
   "metadata": {},
   "source": [
    "If there is no *print()* function implemented, we get the following output:"
   ]
  },
  {
   "cell_type": "code",
   "execution_count": 7,
   "metadata": {},
   "outputs": [
    {
     "data": {
      "text/plain": [
       "$year\n",
       "[1] 2023\n",
       "\n",
       "$month\n",
       "[1] 6\n",
       "\n",
       "$day\n",
       "[1] 2\n",
       "\n",
       "$hour\n",
       "[1] 12\n",
       "\n",
       "$minute\n",
       "[1] 0\n",
       "\n",
       "attr(,\"class\")\n",
       "[1] \"DateTime\"\n",
       "attr(,\"date_str_format\")\n",
       "[1] \"%Y-%m-%d\"\n",
       "attr(,\"time_str_format\")\n",
       "[1] \"HH:MM\""
      ]
     },
     "metadata": {},
     "output_type": "display_data"
    }
   ],
   "source": [
    "ex_obj"
   ]
  },
  {
   "cell_type": "markdown",
   "metadata": {},
   "source": [
    "The *class()*, *str()*, and *attributes()* functions return the following:"
   ]
  },
  {
   "cell_type": "code",
   "execution_count": 8,
   "metadata": {},
   "outputs": [
    {
     "data": {
      "text/html": [
       "'DateTime'"
      ],
      "text/latex": [
       "'DateTime'"
      ],
      "text/markdown": [
       "'DateTime'"
      ],
      "text/plain": [
       "[1] \"DateTime\""
      ]
     },
     "metadata": {},
     "output_type": "display_data"
    }
   ],
   "source": [
    "class(ex_obj)"
   ]
  },
  {
   "cell_type": "code",
   "execution_count": 9,
   "metadata": {},
   "outputs": [
    {
     "name": "stdout",
     "output_type": "stream",
     "text": [
      "List of 5\n",
      " $ year  : int 2023\n",
      " $ month : int 6\n",
      " $ day   : int 2\n",
      " $ hour  : int 12\n",
      " $ minute: num 0\n",
      " - attr(*, \"class\")= chr \"DateTime\"\n",
      " - attr(*, \"date_str_format\")= chr \"%Y-%m-%d\"\n",
      " - attr(*, \"time_str_format\")= chr \"HH:MM\"\n"
     ]
    }
   ],
   "source": [
    "str(ex_obj)"
   ]
  },
  {
   "cell_type": "code",
   "execution_count": 10,
   "metadata": {},
   "outputs": [
    {
     "data": {
      "text/html": [
       "<dl>\n",
       "\t<dt>$names</dt>\n",
       "\t\t<dd><style>\n",
       ".list-inline {list-style: none; margin:0; padding: 0}\n",
       ".list-inline>li {display: inline-block}\n",
       ".list-inline>li:not(:last-child)::after {content: \"\\00b7\"; padding: 0 .5ex}\n",
       "</style>\n",
       "<ol class=list-inline><li>'year'</li><li>'month'</li><li>'day'</li><li>'hour'</li><li>'minute'</li></ol>\n",
       "</dd>\n",
       "\t<dt>$class</dt>\n",
       "\t\t<dd>'DateTime'</dd>\n",
       "\t<dt>$date_str_format</dt>\n",
       "\t\t<dd>'%Y-%m-%d'</dd>\n",
       "\t<dt>$time_str_format</dt>\n",
       "\t\t<dd>'HH:MM'</dd>\n",
       "</dl>\n"
      ],
      "text/latex": [
       "\\begin{description}\n",
       "\\item[\\$names] \\begin{enumerate*}\n",
       "\\item 'year'\n",
       "\\item 'month'\n",
       "\\item 'day'\n",
       "\\item 'hour'\n",
       "\\item 'minute'\n",
       "\\end{enumerate*}\n",
       "\n",
       "\\item[\\$class] 'DateTime'\n",
       "\\item[\\$date\\_str\\_format] '\\%Y-\\%m-\\%d'\n",
       "\\item[\\$time\\_str\\_format] 'HH:MM'\n",
       "\\end{description}\n"
      ],
      "text/markdown": [
       "$names\n",
       ":   1. 'year'\n",
       "2. 'month'\n",
       "3. 'day'\n",
       "4. 'hour'\n",
       "5. 'minute'\n",
       "\n",
       "\n",
       "\n",
       "$class\n",
       ":   'DateTime'\n",
       "$date_str_format\n",
       ":   '%Y-%m-%d'\n",
       "$time_str_format\n",
       ":   'HH:MM'\n",
       "\n",
       "\n"
      ],
      "text/plain": [
       "$names\n",
       "[1] \"year\"   \"month\"  \"day\"    \"hour\"   \"minute\"\n",
       "\n",
       "$class\n",
       "[1] \"DateTime\"\n",
       "\n",
       "$date_str_format\n",
       "[1] \"%Y-%m-%d\"\n",
       "\n",
       "$time_str_format\n",
       "[1] \"HH:MM\"\n"
      ]
     },
     "metadata": {},
     "output_type": "display_data"
    }
   ],
   "source": [
    "attributes(ex_obj)"
   ]
  },
  {
   "cell_type": "code",
   "execution_count": 11,
   "metadata": {},
   "outputs": [
    {
     "data": {
      "text/html": [
       "'list'"
      ],
      "text/latex": [
       "'list'"
      ],
      "text/markdown": [
       "'list'"
      ],
      "text/plain": [
       "[1] \"list\""
      ]
     },
     "metadata": {},
     "output_type": "display_data"
    }
   ],
   "source": [
    "typeof(ex_obj)"
   ]
  },
  {
   "cell_type": "markdown",
   "metadata": {},
   "source": [
    "The $ operator only returns the contents of the data list:"
   ]
  },
  {
   "cell_type": "code",
   "execution_count": 13,
   "metadata": {},
   "outputs": [
    {
     "name": "stdout",
     "output_type": "stream",
     "text": [
      "ex_obj$year =  2023 \n",
      "ex_obj$minute =  0 \n",
      "ex_obj$date_str_format =  \n"
     ]
    }
   ],
   "source": [
    "cat(\"ex_obj$year = \", ex_obj$year,\"\\n\")\n",
    "cat(\"ex_obj$minute = \", ex_obj$minute,\"\\n\")\n",
    "cat(\"ex_obj$date_str_format = \", ex_obj$date_str_format,\"\\n\")"
   ]
  },
  {
   "cell_type": "markdown",
   "metadata": {},
   "source": [
    "When one of the inputs is incorrect we get the following error messages:"
   ]
  },
  {
   "cell_type": "code",
   "execution_count": 6,
   "metadata": {},
   "outputs": [
    {
     "name": "stdout",
     "output_type": "stream",
     "text": [
      "Month isn't valid"
     ]
    },
    {
     "ename": "ERROR",
     "evalue": "Error in DateTime(2023, 13, day, hour, minute): no loop for break/next, jumping to top level\n",
     "output_type": "error",
     "traceback": [
      "Error in DateTime(2023, 13, day, hour, minute): no loop for break/next, jumping to top level\nTraceback:\n",
      "1. DateTime(2023, 13, day, hour, minute)"
     ]
    }
   ],
   "source": [
    "ex_obj_ <- DateTime(2023, 13, day, hour, minute)"
   ]
  },
  {
   "cell_type": "code",
   "execution_count": 11,
   "metadata": {},
   "outputs": [
    {
     "ename": "ERROR",
     "evalue": "Error in eval(expr, envir, enclos): object 'ex_obj_' not found\n",
     "output_type": "error",
     "traceback": [
      "Error in eval(expr, envir, enclos): object 'ex_obj_' not found\nTraceback:\n"
     ]
    }
   ],
   "source": [
    "ex_obj_"
   ]
  },
  {
   "cell_type": "markdown",
   "metadata": {},
   "source": [
    "#### *toString()* and *print()* methods\n",
    "\n",
    "In the next cell, we overload the conversion to strings and the print functions. Note how we use:\n",
    "\n",
    "        generic_function.DateTime <- function(x, ...) {\n",
    "            ***CODE***\n",
    "        }\n",
    "The \"...\" part is important."
   ]
  },
  {
   "cell_type": "code",
   "execution_count": 14,
   "metadata": {},
   "outputs": [],
   "source": [
    "# We define a toString method\n",
    "toString.DateTime <- function(x,...) {\n",
    "    # Init. str conv. of attr.\n",
    "    str_yr <- \"\"\n",
    "    str_mo <- \"\"\n",
    "    str_day <- \"\"\n",
    "    str_hour <- \"\"\n",
    "    str_minute <- \"\"\n",
    "    \n",
    "    # Make year string\n",
    "    if (x$year < 100){\n",
    "        str_yr <- paste(toString(2000+x$year), sep=\"\")\n",
    "        } else {\n",
    "            str_yr <- toString(x$year)\n",
    "        }\n",
    "    \n",
    "    # Make month string\n",
    "    if (x$month >= 10) {\n",
    "            str_mo <- toString(x$month)\n",
    "        } else {\n",
    "            str_mo <- paste(\"0\", toString(x$month), sep = \"\")\n",
    "        }\n",
    "    \n",
    "    # Make day string\n",
    "    if (x$day >= 10) {\n",
    "            str_day <- toString(x$day)\n",
    "        } else {\n",
    "            str_day <- paste(\"0\", toString(x$day), sep = \"\")\n",
    "        }\n",
    "    \n",
    "    # Make hour string\n",
    "    if (x$hour >= 10) {\n",
    "            str_hour <- toString(x$hour)\n",
    "        } else {\n",
    "            str_hour <- paste(\"0\", toString(x$hour), sep = \"\")\n",
    "        }\n",
    "    \n",
    "    # Make minute string\n",
    "    if (x$minute >= 10) {\n",
    "            str_minute <- toString(x$minute)\n",
    "        } else {\n",
    "            str_minute <- paste(\"0\", toString(x$minute), sep = \"\")\n",
    "        }\n",
    "    \n",
    "    # Make the datetime string and return\n",
    "    DateTime_str <- paste(str_yr, \"-\", str_mo, \"-\", str_day,# Date\n",
    "                          \" \", str_hour, \":\", str_minute,\n",
    "                          sep = \"\"\n",
    "                         )\n",
    "    #print(DateTime_str)\n",
    "    return(DateTime_str)\n",
    "    \n",
    "    }\n",
    "\n",
    "# Now we define a print method by overloading the existing one\n",
    "print.DateTime <- function(x,...) {\n",
    "    DateTime_str <- toString(x)\n",
    "    cat(DateTime_str)\n",
    "    }"
   ]
  },
  {
   "cell_type": "markdown",
   "metadata": {},
   "source": [
    "Now this is what we have:"
   ]
  },
  {
   "cell_type": "code",
   "execution_count": 15,
   "metadata": {},
   "outputs": [
    {
     "data": {
      "text/html": [
       "'2023-06-02 12:00'"
      ],
      "text/latex": [
       "'2023-06-02 12:00'"
      ],
      "text/markdown": [
       "'2023-06-02 12:00'"
      ],
      "text/plain": [
       "[1] \"2023-06-02 12:00\""
      ]
     },
     "metadata": {},
     "output_type": "display_data"
    }
   ],
   "source": [
    "toString(ex_obj)"
   ]
  },
  {
   "cell_type": "code",
   "execution_count": 16,
   "metadata": {},
   "outputs": [
    {
     "data": {
      "text/plain": [
       "2023-06-02 12:00"
      ]
     },
     "metadata": {},
     "output_type": "display_data"
    }
   ],
   "source": [
    "ex_obj"
   ]
  },
  {
   "cell_type": "code",
   "execution_count": 17,
   "metadata": {},
   "outputs": [
    {
     "name": "stdout",
     "output_type": "stream",
     "text": [
      "2023-06-02 12:00"
     ]
    }
   ],
   "source": [
    "print(ex_obj)"
   ]
  },
  {
   "cell_type": "markdown",
   "metadata": {},
   "source": [
    "#### **SCRAP**\n",
    "\n",
    "How do I add documentation to S3 objects?"
   ]
  },
  {
   "cell_type": "code",
   "execution_count": 18,
   "metadata": {},
   "outputs": [],
   "source": [
    "help.DateTime <- function(...) {\n",
    "    cat(\"Help for DateTime object\\n\")\n",
    "    cat(\"------------------------\\n\")\n",
    "    cat(\"For representation of a date and time object in the \\'%Y-%m%d HH:MM\\' format.\\n\\n\")\n",
    "    cat(\"Attributes:\\n\")\n",
    "    cat(\" - year: integer year\\n\")\n",
    "    cat(\" - month: integer month, must be between 1 and 12\\n\")\n",
    "    cat(\" - day: integer day, must be between 1 and 31\\n\")\n",
    "    cat(\" - hour: integer hour, must be between 1 and 31\\n\")\n",
    "    cat(\" - minute: integer minute, must be between 0 and 59\\n\")\n",
    "    }"
   ]
  },
  {
   "cell_type": "code",
   "execution_count": 20,
   "metadata": {},
   "outputs": [
    {
     "data": {
      "text/html": [
       "No documentation for ‘ex_obj’ in specified packages and libraries:\n",
       "you could try ‘??ex_obj’"
      ],
      "text/latex": [
       "No documentation for ‘ex_obj’ in specified packages and libraries:\n",
       "you could try ‘??ex_obj’"
      ],
      "text/plain": [
       "No documentation for ‘ex_obj’ in specified packages and libraries:\n",
       "you could try ‘??ex_obj’"
      ]
     },
     "metadata": {},
     "output_type": "display_data"
    }
   ],
   "source": [
    "help(ex_obj)"
   ]
  },
  {
   "cell_type": "code",
   "execution_count": null,
   "metadata": {},
   "outputs": [],
   "source": []
  },
  {
   "cell_type": "markdown",
   "metadata": {
    "id": "ohyiKDmcmo3m"
   },
   "source": [
    "### 4.c - S4 classes\n",
    "\n"
   ]
  },
  {
   "cell_type": "code",
   "execution_count": null,
   "metadata": {},
   "outputs": [],
   "source": []
  },
  {
   "cell_type": "code",
   "execution_count": null,
   "metadata": {},
   "outputs": [],
   "source": []
  },
  {
   "cell_type": "code",
   "execution_count": null,
   "metadata": {},
   "outputs": [],
   "source": []
  },
  {
   "cell_type": "code",
   "execution_count": null,
   "metadata": {},
   "outputs": [],
   "source": []
  },
  {
   "cell_type": "markdown",
   "metadata": {
    "id": "ohyiKDmcmo3m"
   },
   "source": [
    "## Addendas: Basic data management in R\n",
    "\n",
    "Main reference again is Kabacoff's \"R in Action\". Covers the following topics:\n",
    "\n",
    "* Importing data from a CSV. Sec.2.3.\n",
    "* Saving to files. Sec.??\n",
    "* Useful functions for data manipulation. Sec.2.5.\n",
    "* Dates. Sec.3.6\n",
    "* Type conversions. Sec.3.7"
   ]
  },
  {
   "cell_type": "code",
   "execution_count": null,
   "metadata": {},
   "outputs": [],
   "source": []
  }
 ],
 "metadata": {
  "colab": {
   "provenance": []
  },
  "kernelspec": {
   "display_name": "R",
   "language": "R",
   "name": "ir"
  },
  "language_info": {
   "codemirror_mode": "r",
   "file_extension": ".r",
   "mimetype": "text/x-r-source",
   "name": "R",
   "pygments_lexer": "r",
   "version": "4.3.1"
  }
 },
 "nbformat": 4,
 "nbformat_minor": 4
}
