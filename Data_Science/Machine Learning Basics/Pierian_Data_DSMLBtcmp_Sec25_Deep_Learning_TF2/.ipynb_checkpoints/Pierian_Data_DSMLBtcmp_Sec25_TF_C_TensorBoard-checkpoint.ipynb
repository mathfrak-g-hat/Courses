{
 "cells": [
  {
   "cell_type": "markdown",
   "id": "75a9c90d",
   "metadata": {},
   "source": [
    "# TensorBoard\n",
    "\n",
    "### Ahmed J. Zerouali (2021/09/02)\n",
    "\n",
    "This is from Lecture 152 at the end of Section 25 of Pierian Data's DSML Bootcamp. Portilla essentially follows Google's tutorial here: https://www.tensorflow.org/tensorboard/get_started, but instead of the MNIST dataset, he reuses the tumor classification exercise.\n",
    "\n",
    "Broadly speaking, TensorBoard is a visualization toolkit. It allows one to track the training of a neural network, by giving the loss histories, the weight histograms, weight maps (for CNNs) etc. \n",
    "\n",
    "\n",
    "### Summary of lecture:\n",
    "\n",
    "* The actual work on TensorBoard starts at 4:30 in that lecture. Portilla starts describing the various arguments passed to the constructor. \n",
    "* About 6:30, he explains how he'll name the folders created by TensorBoard. I'll follow Google's tutorial for this part, where they name folders using *datetime()*. \n",
    "* After that, Portilla goes to Conda cmd to open a new environment and run TensorBoard. I'm using a different approach in section 3, and I don't need to do anything in the cmd. (I should however figure-out how to make different environment for my executions.)\n",
    "\n",
    "### Comments:\n",
    "\n",
    "1) The general documentation page for TF2.0 is at https://www.tensorflow.org/guide.\n",
    "\n",
    "2) There's a class of functions in Keras called **Callbacks** (Early stopping was our first example). These are objects passed as arguments in Model.fit(), and their purpose is to customize the training, testing or evaluation of a neural net. Here is a page on making custom callbacks: https://www.tensorflow.org/guide/keras/custom_callback, which also contains some good explanations and examples of the general concept. \n",
    "\n",
    "3) Another point I should work on is the optimization of hyperparameters of a network. HParam is a TF2.0 plugin that allows us to do this optimization. There's an official Colab notebook here: https://www.tensorflow.org/tensorboard/hyperparameter_tuning_with_hparams. "
   ]
  },
  {
   "cell_type": "markdown",
   "id": "6d19d99b",
   "metadata": {},
   "source": [
    "## Contents\n",
    "\n",
    "1) Data and Model\n",
    "\n",
    "2) TensorBoard Callback and Training\n",
    "\n",
    "3) Viewing Results"
   ]
  },
  {
   "cell_type": "markdown",
   "id": "4ea80682",
   "metadata": {},
   "source": [
    "## 1) Data and Model\n",
    "\n",
    "This is a copy of what I've done previously. We're not doing any prediction here, just training."
   ]
  },
  {
   "cell_type": "code",
   "execution_count": 1,
   "id": "d356cd0b",
   "metadata": {},
   "outputs": [],
   "source": [
    "import numpy as np\n",
    "import pandas as pd\n",
    "import matplotlib.pyplot as plt\n",
    "import seaborn as sns"
   ]
  },
  {
   "cell_type": "code",
   "execution_count": 2,
   "id": "0df96aae",
   "metadata": {},
   "outputs": [],
   "source": [
    "df_cancer = pd.read_csv(\"cancer_classification.csv\")"
   ]
  },
  {
   "cell_type": "code",
   "execution_count": 3,
   "id": "9a5b1b79",
   "metadata": {},
   "outputs": [],
   "source": [
    "from sklearn.model_selection import train_test_split\n",
    "from sklearn.preprocessing import MinMaxScaler"
   ]
  },
  {
   "cell_type": "code",
   "execution_count": 4,
   "id": "57674c1f",
   "metadata": {},
   "outputs": [],
   "source": [
    "X = df_cancer.drop(labels = \"benign_0__mal_1\", axis = 1).values\n",
    "y = df_cancer[\"benign_0__mal_1\"].values"
   ]
  },
  {
   "cell_type": "code",
   "execution_count": 5,
   "id": "c12158a9",
   "metadata": {},
   "outputs": [],
   "source": [
    "[ X_train, X_test, y_train, y_test] = train_test_split(X,y, test_size =0.25, random_state=101)"
   ]
  },
  {
   "cell_type": "code",
   "execution_count": 6,
   "id": "557fa465",
   "metadata": {},
   "outputs": [],
   "source": [
    "cancer_scaler = MinMaxScaler()\n",
    "\n",
    "X_train = cancer_scaler.fit_transform(X_train)\n",
    "\n",
    "X_test = cancer_scaler.transform(X_test)"
   ]
  },
  {
   "cell_type": "code",
   "execution_count": 7,
   "id": "fd25d42f",
   "metadata": {},
   "outputs": [],
   "source": [
    "from tensorflow.keras.models import Sequential\n",
    "from tensorflow.keras.layers import Dense\n",
    "from tensorflow.keras.layers import Dropout"
   ]
  },
  {
   "cell_type": "code",
   "execution_count": 8,
   "id": "b95b760a",
   "metadata": {},
   "outputs": [],
   "source": [
    "# Instantiate net\n",
    "nn_model = Sequential()\n",
    "\n",
    "# Input layer :\n",
    "nn_model.add(Dense(units = 30, activation = \"relu\"))\n",
    "nn_model.add(Dropout(rate=0.5))\n",
    "\n",
    "# Hidden layer\n",
    "nn_model.add(Dense(units = 15, activation = \"relu\"))\n",
    "nn_model.add(Dropout(rate=0.5))\n",
    "\n",
    "# Output layer with sigmoid activation\n",
    "nn_model.add(Dense(units = 1, activation = \"sigmoid\"))\n",
    "\n",
    "# Compile model:\n",
    "nn_model.compile(optimizer = \"adam\", loss = \"binary_crossentropy\")"
   ]
  },
  {
   "cell_type": "markdown",
   "id": "a06133b5",
   "metadata": {},
   "source": [
    "## 2) TensorBoard Callback and Training\n",
    "\n",
    "**Important:** This is where we create the TensorBoard callback.\n",
    "\n",
    "* For precise referencing, we create files identified by timestamps. We'll import datetime for those.\n",
    "* We'll also import **EarlyStopping** and **TensorBoard** from *tensorflow.keras.callbacks*.\n"
   ]
  },
  {
   "cell_type": "code",
   "execution_count": 9,
   "id": "c380ce97",
   "metadata": {},
   "outputs": [],
   "source": [
    "import datetime"
   ]
  },
  {
   "cell_type": "code",
   "execution_count": 10,
   "id": "dde88461",
   "metadata": {},
   "outputs": [],
   "source": [
    "from tensorflow.keras.callbacks import TensorBoard, EarlyStopping"
   ]
  },
  {
   "cell_type": "markdown",
   "id": "f4b9d3e0",
   "metadata": {},
   "source": [
    "* Make the early stop callback:"
   ]
  },
  {
   "cell_type": "code",
   "execution_count": 11,
   "id": "4eeb18fd",
   "metadata": {},
   "outputs": [],
   "source": [
    "early_stop = EarlyStopping(monitor = \"val_loss\", mode = \"min\", patience = 25, verbose = 1)"
   ]
  },
  {
   "cell_type": "markdown",
   "id": "5e21f66d",
   "metadata": {},
   "source": [
    "* At this point we'll prepare the arguments for the creation of a TensorBoard object. From the help, the constructor arguments are the following:\n",
    "\n",
    "      log_dir: the path of the directory where to save the log files to be\n",
    "        parsed by TensorBoard. e.g. log_dir = os.path.join(working_dir, 'logs')\n",
    "        This directory should not be reused by any other callbacks.\n",
    "      histogram_freq: frequency (in epochs) at which to compute activation and\n",
    "        weight histograms for the layers of the model. If set to 0, histograms\n",
    "        won't be computed. Validation data (or split) must be specified for\n",
    "        histogram visualizations.\n",
    "      write_graph: whether to visualize the graph in TensorBoard. The log file\n",
    "        can become quite large when write_graph is set to True.\n",
    "      write_images: whether to write model weights to visualize as image in\n",
    "        TensorBoard.\n",
    "      write_steps_per_second: whether to log the training steps per second into\n",
    "        Tensorboard. This supports both epoch and batch frequency logging.\n",
    "      update_freq: `'batch'` or `'epoch'` or integer. When using `'batch'`,\n",
    "        writes the losses and metrics to TensorBoard after each batch. The same\n",
    "        applies for `'epoch'`. If using an integer, let's say `1000`, the\n",
    "        callback will write the metrics and losses to TensorBoard every 1000\n",
    "        batches. Note that writing too frequently to TensorBoard can slow down\n",
    "        your training.\n",
    "      profile_batch: Profile the batch(es) to sample compute characteristics.\n",
    "        profile_batch must be a non-negative integer or a tuple of integers.\n",
    "        A pair of positive integers signify a range of batches to profile.\n",
    "        By default, it will profile the second batch. Set profile_batch=0\n",
    "        to disable profiling.\n",
    "      embeddings_freq: frequency (in epochs) at which embedding layers will be\n",
    "        visualized. If set to 0, embeddings won't be visualized.\n",
    "      embeddings_metadata: a dictionary which maps layer name to a file name in\n",
    "        which metadata for this embedding layer is saved. See the\n",
    "        https://www.tensorflow.org/how_tos/embedding_viz/#metadata_optional\n",
    "        about metadata files format. In case if the same metadata file is\n",
    "        used for all embedding layers, string can be passed.\n",
    "        \n",
    "* The most important argument is the **log_dir**, where the plugin will save its files. Here's the variable that will create the directories:"
   ]
  },
  {
   "cell_type": "code",
   "execution_count": 13,
   "id": "a3ec85ae",
   "metadata": {},
   "outputs": [
    {
     "data": {
      "text/plain": [
       "'C:\\\\Users\\\\zaj20\\\\Documents\\\\Python\\\\Machine Learning Basics\\\\Pierian_Data_DSMLBtcmp_Sec25_Deep_Learning_TF2'"
      ]
     },
     "execution_count": 13,
     "metadata": {},
     "output_type": "execute_result"
    }
   ],
   "source": [
    "pwd"
   ]
  },
  {
   "cell_type": "code",
   "execution_count": 16,
   "id": "0d916449",
   "metadata": {},
   "outputs": [],
   "source": [
    "logs_folder = \"logs\\\\fit\\\\\"+datetime.datetime.now().strftime(\"%Y%m%d-%H%M%S\")"
   ]
  },
  {
   "cell_type": "markdown",
   "id": "64055bd2",
   "metadata": {},
   "source": [
    "* Now we instantiate the TensorBoard object:"
   ]
  },
  {
   "cell_type": "code",
   "execution_count": 17,
   "id": "fd568787",
   "metadata": {},
   "outputs": [],
   "source": [
    "board = TensorBoard(log_dir = logs_folder, histogram_freq =1, \\\n",
    "                   write_graph = True, write_images = True, \\\n",
    "                   update_freq = \"epoch\")"
   ]
  },
  {
   "cell_type": "markdown",
   "id": "f7bf9327",
   "metadata": {},
   "source": [
    "**Crucial: Model training**"
   ]
  },
  {
   "cell_type": "code",
   "execution_count": 18,
   "id": "b0f7eef2",
   "metadata": {
    "collapsed": true
   },
   "outputs": [
    {
     "name": "stdout",
     "output_type": "stream",
     "text": [
      "Epoch 1/600\n",
      "14/14 [==============================] - 1s 36ms/step - loss: 0.7141 - val_loss: 0.6803\n",
      "Epoch 2/600\n",
      "14/14 [==============================] - 0s 3ms/step - loss: 0.6972 - val_loss: 0.6671\n",
      "Epoch 3/600\n",
      "14/14 [==============================] - 0s 3ms/step - loss: 0.6613 - val_loss: 0.6554\n",
      "Epoch 4/600\n",
      "14/14 [==============================] - 0s 4ms/step - loss: 0.6644 - val_loss: 0.6434\n",
      "Epoch 5/600\n",
      "14/14 [==============================] - 0s 4ms/step - loss: 0.6351 - val_loss: 0.6246\n",
      "Epoch 6/600\n",
      "14/14 [==============================] - 0s 3ms/step - loss: 0.6329 - val_loss: 0.6013\n",
      "Epoch 7/600\n",
      "14/14 [==============================] - 0s 3ms/step - loss: 0.6306 - val_loss: 0.5827\n",
      "Epoch 8/600\n",
      "14/14 [==============================] - 0s 3ms/step - loss: 0.6046 - val_loss: 0.5642\n",
      "Epoch 9/600\n",
      "14/14 [==============================] - 0s 4ms/step - loss: 0.5738 - val_loss: 0.5404\n",
      "Epoch 10/600\n",
      "14/14 [==============================] - 0s 3ms/step - loss: 0.5558 - val_loss: 0.5155\n",
      "Epoch 11/600\n",
      "14/14 [==============================] - 0s 3ms/step - loss: 0.5770 - val_loss: 0.4925\n",
      "Epoch 12/600\n",
      "14/14 [==============================] - 0s 4ms/step - loss: 0.5123 - val_loss: 0.4646\n",
      "Epoch 13/600\n",
      "14/14 [==============================] - 0s 3ms/step - loss: 0.5258 - val_loss: 0.4412\n",
      "Epoch 14/600\n",
      "14/14 [==============================] - 0s 3ms/step - loss: 0.5063 - val_loss: 0.4160\n",
      "Epoch 15/600\n",
      "14/14 [==============================] - 0s 3ms/step - loss: 0.4946 - val_loss: 0.4029\n",
      "Epoch 16/600\n",
      "14/14 [==============================] - 0s 4ms/step - loss: 0.4777 - val_loss: 0.3783\n",
      "Epoch 17/600\n",
      "14/14 [==============================] - 0s 3ms/step - loss: 0.4708 - val_loss: 0.3554\n",
      "Epoch 18/600\n",
      "14/14 [==============================] - 0s 3ms/step - loss: 0.4065 - val_loss: 0.3296\n",
      "Epoch 19/600\n",
      "14/14 [==============================] - 0s 4ms/step - loss: 0.3892 - val_loss: 0.3033\n",
      "Epoch 20/600\n",
      "14/14 [==============================] - 0s 3ms/step - loss: 0.3906 - val_loss: 0.2866\n",
      "Epoch 21/600\n",
      "14/14 [==============================] - 0s 3ms/step - loss: 0.3780 - val_loss: 0.2791\n",
      "Epoch 22/600\n",
      "14/14 [==============================] - 0s 3ms/step - loss: 0.3759 - val_loss: 0.2592\n",
      "Epoch 23/600\n",
      "14/14 [==============================] - 0s 3ms/step - loss: 0.3178 - val_loss: 0.2407\n",
      "Epoch 24/600\n",
      "14/14 [==============================] - 0s 3ms/step - loss: 0.3462 - val_loss: 0.2553\n",
      "Epoch 25/600\n",
      "14/14 [==============================] - 0s 3ms/step - loss: 0.3247 - val_loss: 0.2283\n",
      "Epoch 26/600\n",
      "14/14 [==============================] - 0s 3ms/step - loss: 0.3302 - val_loss: 0.2223\n",
      "Epoch 27/600\n",
      "14/14 [==============================] - 0s 3ms/step - loss: 0.3067 - val_loss: 0.2131\n",
      "Epoch 28/600\n",
      "14/14 [==============================] - 0s 3ms/step - loss: 0.2860 - val_loss: 0.2038\n",
      "Epoch 29/600\n",
      "14/14 [==============================] - 0s 3ms/step - loss: 0.2932 - val_loss: 0.2037\n",
      "Epoch 30/600\n",
      "14/14 [==============================] - 0s 3ms/step - loss: 0.2760 - val_loss: 0.1802\n",
      "Epoch 31/600\n",
      "14/14 [==============================] - 0s 4ms/step - loss: 0.2790 - val_loss: 0.1810\n",
      "Epoch 32/600\n",
      "14/14 [==============================] - 0s 3ms/step - loss: 0.2640 - val_loss: 0.1757\n",
      "Epoch 33/600\n",
      "14/14 [==============================] - 0s 4ms/step - loss: 0.2611 - val_loss: 0.1577\n",
      "Epoch 34/600\n",
      "14/14 [==============================] - 0s 3ms/step - loss: 0.2582 - val_loss: 0.1724\n",
      "Epoch 35/600\n",
      "14/14 [==============================] - 0s 3ms/step - loss: 0.2474 - val_loss: 0.1594\n",
      "Epoch 36/600\n",
      "14/14 [==============================] - 0s 3ms/step - loss: 0.2348 - val_loss: 0.1573\n",
      "Epoch 37/600\n",
      "14/14 [==============================] - 0s 3ms/step - loss: 0.2183 - val_loss: 0.1471\n",
      "Epoch 38/600\n",
      "14/14 [==============================] - 0s 3ms/step - loss: 0.2245 - val_loss: 0.1559\n",
      "Epoch 39/600\n",
      "14/14 [==============================] - 0s 4ms/step - loss: 0.2400 - val_loss: 0.1390\n",
      "Epoch 40/600\n",
      "14/14 [==============================] - 0s 3ms/step - loss: 0.2381 - val_loss: 0.1482\n",
      "Epoch 41/600\n",
      "14/14 [==============================] - 0s 3ms/step - loss: 0.2141 - val_loss: 0.1349\n",
      "Epoch 42/600\n",
      "14/14 [==============================] - 0s 3ms/step - loss: 0.2037 - val_loss: 0.1246\n",
      "Epoch 43/600\n",
      "14/14 [==============================] - 0s 4ms/step - loss: 0.2087 - val_loss: 0.1386\n",
      "Epoch 44/600\n",
      "14/14 [==============================] - 0s 4ms/step - loss: 0.1942 - val_loss: 0.1196\n",
      "Epoch 45/600\n",
      "14/14 [==============================] - 0s 4ms/step - loss: 0.1865 - val_loss: 0.1135\n",
      "Epoch 46/600\n",
      "14/14 [==============================] - 0s 3ms/step - loss: 0.1720 - val_loss: 0.1117\n",
      "Epoch 47/600\n",
      "14/14 [==============================] - 0s 3ms/step - loss: 0.1927 - val_loss: 0.1227\n",
      "Epoch 48/600\n",
      "14/14 [==============================] - 0s 3ms/step - loss: 0.1877 - val_loss: 0.1184\n",
      "Epoch 49/600\n",
      "14/14 [==============================] - 0s 4ms/step - loss: 0.1947 - val_loss: 0.1095\n",
      "Epoch 50/600\n",
      "14/14 [==============================] - 0s 4ms/step - loss: 0.1622 - val_loss: 0.1327\n",
      "Epoch 51/600\n",
      "14/14 [==============================] - 0s 3ms/step - loss: 0.1890 - val_loss: 0.1110\n",
      "Epoch 52/600\n",
      "14/14 [==============================] - 0s 3ms/step - loss: 0.1685 - val_loss: 0.1129\n",
      "Epoch 53/600\n",
      "14/14 [==============================] - 0s 3ms/step - loss: 0.1841 - val_loss: 0.1135\n",
      "Epoch 54/600\n",
      "14/14 [==============================] - 0s 3ms/step - loss: 0.1533 - val_loss: 0.1073\n",
      "Epoch 55/600\n",
      "14/14 [==============================] - 0s 3ms/step - loss: 0.1705 - val_loss: 0.1133\n",
      "Epoch 56/600\n",
      "14/14 [==============================] - 0s 3ms/step - loss: 0.1589 - val_loss: 0.0971\n",
      "Epoch 57/600\n",
      "14/14 [==============================] - 0s 3ms/step - loss: 0.1671 - val_loss: 0.0988\n",
      "Epoch 58/600\n",
      "14/14 [==============================] - 0s 3ms/step - loss: 0.1670 - val_loss: 0.1088\n",
      "Epoch 59/600\n",
      "14/14 [==============================] - 0s 3ms/step - loss: 0.1510 - val_loss: 0.0956\n",
      "Epoch 60/600\n",
      "14/14 [==============================] - 0s 3ms/step - loss: 0.1425 - val_loss: 0.1151\n",
      "Epoch 61/600\n",
      "14/14 [==============================] - 0s 3ms/step - loss: 0.1424 - val_loss: 0.1037\n",
      "Epoch 62/600\n",
      "14/14 [==============================] - 0s 4ms/step - loss: 0.1252 - val_loss: 0.1077\n",
      "Epoch 63/600\n",
      "14/14 [==============================] - 0s 3ms/step - loss: 0.1315 - val_loss: 0.0935\n",
      "Epoch 64/600\n",
      "14/14 [==============================] - 0s 3ms/step - loss: 0.1315 - val_loss: 0.1054\n",
      "Epoch 65/600\n",
      "14/14 [==============================] - 0s 3ms/step - loss: 0.1543 - val_loss: 0.0911\n",
      "Epoch 66/600\n",
      "14/14 [==============================] - 0s 3ms/step - loss: 0.1382 - val_loss: 0.0939\n",
      "Epoch 67/600\n",
      "14/14 [==============================] - ETA: 0s - loss: 0.147 - 0s 3ms/step - loss: 0.1428 - val_loss: 0.0942\n",
      "Epoch 68/600\n",
      "14/14 [==============================] - 0s 3ms/step - loss: 0.1296 - val_loss: 0.0958\n",
      "Epoch 69/600\n",
      "14/14 [==============================] - 0s 4ms/step - loss: 0.1296 - val_loss: 0.0958\n",
      "Epoch 70/600\n",
      "14/14 [==============================] - 0s 3ms/step - loss: 0.1155 - val_loss: 0.0980\n",
      "Epoch 71/600\n",
      "14/14 [==============================] - 0s 3ms/step - loss: 0.1126 - val_loss: 0.0907\n",
      "Epoch 72/600\n",
      "14/14 [==============================] - 0s 3ms/step - loss: 0.1356 - val_loss: 0.0912\n",
      "Epoch 73/600\n",
      "14/14 [==============================] - 0s 3ms/step - loss: 0.1329 - val_loss: 0.0942\n",
      "Epoch 74/600\n",
      "14/14 [==============================] - 0s 3ms/step - loss: 0.1209 - val_loss: 0.1004\n",
      "Epoch 75/600\n",
      "14/14 [==============================] - 0s 3ms/step - loss: 0.1195 - val_loss: 0.0962\n",
      "Epoch 76/600\n",
      "14/14 [==============================] - 0s 3ms/step - loss: 0.1196 - val_loss: 0.0932\n",
      "Epoch 77/600\n",
      "14/14 [==============================] - 0s 3ms/step - loss: 0.1271 - val_loss: 0.0957\n",
      "Epoch 78/600\n",
      "14/14 [==============================] - 0s 3ms/step - loss: 0.1292 - val_loss: 0.0867\n",
      "Epoch 79/600\n",
      "14/14 [==============================] - 0s 4ms/step - loss: 0.1149 - val_loss: 0.1001\n",
      "Epoch 80/600\n",
      "14/14 [==============================] - 0s 4ms/step - loss: 0.1328 - val_loss: 0.0903\n",
      "Epoch 81/600\n",
      "14/14 [==============================] - 0s 4ms/step - loss: 0.1203 - val_loss: 0.0878\n",
      "Epoch 82/600\n",
      "14/14 [==============================] - 0s 4ms/step - loss: 0.1119 - val_loss: 0.0934\n"
     ]
    },
    {
     "name": "stdout",
     "output_type": "stream",
     "text": [
      "Epoch 83/600\n",
      "14/14 [==============================] - 0s 4ms/step - loss: 0.1360 - val_loss: 0.0857\n",
      "Epoch 84/600\n",
      "14/14 [==============================] - 0s 3ms/step - loss: 0.1145 - val_loss: 0.1006\n",
      "Epoch 85/600\n",
      "14/14 [==============================] - 0s 4ms/step - loss: 0.1424 - val_loss: 0.0961\n",
      "Epoch 86/600\n",
      "14/14 [==============================] - 0s 3ms/step - loss: 0.1319 - val_loss: 0.0900\n",
      "Epoch 87/600\n",
      "14/14 [==============================] - 0s 3ms/step - loss: 0.1035 - val_loss: 0.0857\n",
      "Epoch 88/600\n",
      "14/14 [==============================] - 0s 3ms/step - loss: 0.1055 - val_loss: 0.0969\n",
      "Epoch 89/600\n",
      "14/14 [==============================] - 0s 3ms/step - loss: 0.1126 - val_loss: 0.0907\n",
      "Epoch 90/600\n",
      "14/14 [==============================] - 0s 3ms/step - loss: 0.1032 - val_loss: 0.0878\n",
      "Epoch 91/600\n",
      "14/14 [==============================] - 0s 3ms/step - loss: 0.1069 - val_loss: 0.1237\n",
      "Epoch 92/600\n",
      "14/14 [==============================] - 0s 3ms/step - loss: 0.1104 - val_loss: 0.0842\n",
      "Epoch 93/600\n",
      "14/14 [==============================] - 0s 3ms/step - loss: 0.1178 - val_loss: 0.0831\n",
      "Epoch 94/600\n",
      "14/14 [==============================] - 0s 3ms/step - loss: 0.1089 - val_loss: 0.0934\n",
      "Epoch 95/600\n",
      "14/14 [==============================] - 0s 4ms/step - loss: 0.1200 - val_loss: 0.0812\n",
      "Epoch 96/600\n",
      "14/14 [==============================] - 0s 4ms/step - loss: 0.1048 - val_loss: 0.0965\n",
      "Epoch 97/600\n",
      "14/14 [==============================] - 0s 4ms/step - loss: 0.1121 - val_loss: 0.0852\n",
      "Epoch 98/600\n",
      "14/14 [==============================] - 0s 3ms/step - loss: 0.1145 - val_loss: 0.0805\n",
      "Epoch 99/600\n",
      "14/14 [==============================] - 0s 4ms/step - loss: 0.1011 - val_loss: 0.0857\n",
      "Epoch 100/600\n",
      "14/14 [==============================] - 0s 4ms/step - loss: 0.1039 - val_loss: 0.0993\n",
      "Epoch 101/600\n",
      "14/14 [==============================] - 0s 3ms/step - loss: 0.1193 - val_loss: 0.0935\n",
      "Epoch 102/600\n",
      "14/14 [==============================] - 0s 4ms/step - loss: 0.0982 - val_loss: 0.0904\n",
      "Epoch 103/600\n",
      "14/14 [==============================] - 0s 3ms/step - loss: 0.1137 - val_loss: 0.0902\n",
      "Epoch 104/600\n",
      "14/14 [==============================] - 0s 3ms/step - loss: 0.1187 - val_loss: 0.0805\n",
      "Epoch 105/600\n",
      "14/14 [==============================] - 0s 3ms/step - loss: 0.1066 - val_loss: 0.0878\n",
      "Epoch 106/600\n",
      "14/14 [==============================] - 0s 3ms/step - loss: 0.1080 - val_loss: 0.0933\n",
      "Epoch 107/600\n",
      "14/14 [==============================] - 0s 3ms/step - loss: 0.1021 - val_loss: 0.1010\n",
      "Epoch 108/600\n",
      "14/14 [==============================] - 0s 3ms/step - loss: 0.0809 - val_loss: 0.0892\n",
      "Epoch 109/600\n",
      "14/14 [==============================] - 0s 3ms/step - loss: 0.0971 - val_loss: 0.0877\n",
      "Epoch 110/600\n",
      "14/14 [==============================] - 0s 3ms/step - loss: 0.1054 - val_loss: 0.0842\n",
      "Epoch 111/600\n",
      "14/14 [==============================] - 0s 3ms/step - loss: 0.0974 - val_loss: 0.0974\n",
      "Epoch 112/600\n",
      "14/14 [==============================] - 0s 3ms/step - loss: 0.1045 - val_loss: 0.0884\n",
      "Epoch 113/600\n",
      "14/14 [==============================] - 0s 3ms/step - loss: 0.0969 - val_loss: 0.0991\n",
      "Epoch 114/600\n",
      "14/14 [==============================] - 0s 3ms/step - loss: 0.0969 - val_loss: 0.0942\n",
      "Epoch 115/600\n",
      "14/14 [==============================] - 0s 3ms/step - loss: 0.0918 - val_loss: 0.0767\n",
      "Epoch 116/600\n",
      "14/14 [==============================] - 0s 3ms/step - loss: 0.1071 - val_loss: 0.1179\n",
      "Epoch 117/600\n",
      "14/14 [==============================] - 0s 3ms/step - loss: 0.1079 - val_loss: 0.0875\n",
      "Epoch 118/600\n",
      "14/14 [==============================] - 0s 3ms/step - loss: 0.0814 - val_loss: 0.0824\n",
      "Epoch 119/600\n",
      "14/14 [==============================] - 0s 3ms/step - loss: 0.1013 - val_loss: 0.0910\n",
      "Epoch 120/600\n",
      "14/14 [==============================] - 0s 3ms/step - loss: 0.0961 - val_loss: 0.0920\n",
      "Epoch 121/600\n",
      "14/14 [==============================] - 0s 4ms/step - loss: 0.1011 - val_loss: 0.0903\n",
      "Epoch 122/600\n",
      "14/14 [==============================] - 0s 4ms/step - loss: 0.0847 - val_loss: 0.0910\n",
      "Epoch 123/600\n",
      "14/14 [==============================] - 0s 3ms/step - loss: 0.0861 - val_loss: 0.0948\n",
      "Epoch 124/600\n",
      "14/14 [==============================] - 0s 3ms/step - loss: 0.0832 - val_loss: 0.0854\n",
      "Epoch 125/600\n",
      "14/14 [==============================] - 0s 3ms/step - loss: 0.1027 - val_loss: 0.0879\n",
      "Epoch 126/600\n",
      "14/14 [==============================] - 0s 4ms/step - loss: 0.0950 - val_loss: 0.1066\n",
      "Epoch 127/600\n",
      "14/14 [==============================] - 0s 3ms/step - loss: 0.0967 - val_loss: 0.1072\n",
      "Epoch 128/600\n",
      "14/14 [==============================] - 0s 3ms/step - loss: 0.1052 - val_loss: 0.0890\n",
      "Epoch 129/600\n",
      "14/14 [==============================] - 0s 3ms/step - loss: 0.0976 - val_loss: 0.0987\n",
      "Epoch 130/600\n",
      "14/14 [==============================] - 0s 3ms/step - loss: 0.0868 - val_loss: 0.0841\n",
      "Epoch 131/600\n",
      "14/14 [==============================] - 0s 3ms/step - loss: 0.0733 - val_loss: 0.0952\n",
      "Epoch 132/600\n",
      "14/14 [==============================] - 0s 3ms/step - loss: 0.0994 - val_loss: 0.1112\n",
      "Epoch 133/600\n",
      "14/14 [==============================] - 0s 3ms/step - loss: 0.0897 - val_loss: 0.0884\n",
      "Epoch 134/600\n",
      "14/14 [==============================] - 0s 3ms/step - loss: 0.0881 - val_loss: 0.1146\n",
      "Epoch 135/600\n",
      "14/14 [==============================] - 0s 3ms/step - loss: 0.0890 - val_loss: 0.1029\n",
      "Epoch 136/600\n",
      "14/14 [==============================] - 0s 3ms/step - loss: 0.0974 - val_loss: 0.1006\n",
      "Epoch 137/600\n",
      "14/14 [==============================] - 0s 4ms/step - loss: 0.1154 - val_loss: 0.0854\n",
      "Epoch 138/600\n",
      "14/14 [==============================] - 0s 3ms/step - loss: 0.0721 - val_loss: 0.0976\n",
      "Epoch 139/600\n",
      "14/14 [==============================] - 0s 3ms/step - loss: 0.0771 - val_loss: 0.0901\n",
      "Epoch 140/600\n",
      "14/14 [==============================] - 0s 3ms/step - loss: 0.0890 - val_loss: 0.0899\n",
      "Epoch 00140: early stopping\n"
     ]
    },
    {
     "data": {
      "text/plain": [
       "<tensorflow.python.keras.callbacks.History at 0x1a32c1524c0>"
      ]
     },
     "execution_count": 18,
     "metadata": {},
     "output_type": "execute_result"
    }
   ],
   "source": [
    "nn_model.fit(x = X_train, y = y_train, validation_data = (X_test,y_test), verbose =1, epochs =600, \\\n",
    "            callbacks = [early_stop, board])"
   ]
  },
  {
   "cell_type": "code",
   "execution_count": null,
   "id": "93334030",
   "metadata": {},
   "outputs": [],
   "source": []
  },
  {
   "cell_type": "markdown",
   "id": "97eae222",
   "metadata": {},
   "source": [
    "## 3) Viewing Results\n",
    "\n",
    "One way to view this is to embed TensorBoard in the Jupyter notebook. This is done using the **%tensorboard** line magic command, which we first have to load:"
   ]
  },
  {
   "cell_type": "code",
   "execution_count": 20,
   "id": "d31f2608",
   "metadata": {},
   "outputs": [],
   "source": [
    "%load_ext tensorboard"
   ]
  },
  {
   "cell_type": "code",
   "execution_count": 21,
   "id": "18dcfd21",
   "metadata": {
    "collapsed": true
   },
   "outputs": [
    {
     "data": {
      "text/html": [
       "\n",
       "      <iframe id=\"tensorboard-frame-866e618408b25a72\" width=\"100%\" height=\"800\" frameborder=\"0\">\n",
       "      </iframe>\n",
       "      <script>\n",
       "        (function() {\n",
       "          const frame = document.getElementById(\"tensorboard-frame-866e618408b25a72\");\n",
       "          const url = new URL(\"/\", window.location);\n",
       "          const port = 6006;\n",
       "          if (port) {\n",
       "            url.port = port;\n",
       "          }\n",
       "          frame.src = url;\n",
       "        })();\n",
       "      </script>\n",
       "    "
      ],
      "text/plain": [
       "<IPython.core.display.HTML object>"
      ]
     },
     "metadata": {},
     "output_type": "display_data"
    }
   ],
   "source": [
    "%tensorboard --logdir logs\\\\fit"
   ]
  },
  {
   "cell_type": "markdown",
   "id": "43e6986c",
   "metadata": {},
   "source": [
    "Alternatively we can open TensorBoard in a new tab via the link: http://localhost:6006/#scalars"
   ]
  },
  {
   "cell_type": "code",
   "execution_count": null,
   "id": "4c18c827",
   "metadata": {},
   "outputs": [],
   "source": []
  }
 ],
 "metadata": {
  "kernelspec": {
   "display_name": "Python 3",
   "language": "python",
   "name": "python3"
  },
  "language_info": {
   "codemirror_mode": {
    "name": "ipython",
    "version": 3
   },
   "file_extension": ".py",
   "mimetype": "text/x-python",
   "name": "python",
   "nbconvert_exporter": "python",
   "pygments_lexer": "ipython3",
   "version": "3.8.8"
  }
 },
 "nbformat": 4,
 "nbformat_minor": 5
}
