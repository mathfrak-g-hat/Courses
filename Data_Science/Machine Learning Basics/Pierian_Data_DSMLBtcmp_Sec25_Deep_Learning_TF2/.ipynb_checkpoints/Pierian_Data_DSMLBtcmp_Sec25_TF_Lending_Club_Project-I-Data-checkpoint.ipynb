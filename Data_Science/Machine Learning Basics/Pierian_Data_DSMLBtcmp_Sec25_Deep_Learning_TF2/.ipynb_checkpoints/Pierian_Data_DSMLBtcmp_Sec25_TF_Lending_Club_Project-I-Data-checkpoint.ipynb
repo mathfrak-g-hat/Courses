{
 "cells": [
  {
   "cell_type": "markdown",
   "id": "48eeec06",
   "metadata": {},
   "source": [
    "# TensorFlow 2.0 Project - Predicting Loan Repayment\n",
    "# Part I: The Data\n",
    "### A. J. Zerouali 2021/09/02\n",
    "\n",
    "* This is the project in Section 25 of Pierian Data's DSML course. It's covered (with solutions) in Lectures 143-151.\n",
    "* I'll do this project from scratch.\n",
    "\n",
    "## Introduction\n",
    "\n",
    "Here's the description of the project. We'll be using two csv files: \"lending_club_loan_two\" modified from Kaggle, and \"lending_club_info\" \n",
    "\n",
    "### a) The Data\n",
    "\n",
    "We will be using a subset of the LendingClub DataSet obtained from Kaggle: https://www.kaggle.com/wordsforthewise/lending-club. \n",
    "\n",
    "LendingClub is a US peer-to-peer lending company, headquartered in San Francisco, California.[3] It was the first peer-to-peer lender to register its offerings as securities with the Securities and Exchange Commission (SEC), and to offer loan trading on a secondary market. LendingClub is the world's largest peer-to-peer lending platform.\n",
    "\n",
    "### b) Our Goal\n",
    "\n",
    "Main question: **Given historical data on loans with information on whether or not the borrower defaulted (charge-off), can we build a model predicting wether or nor a borrower will repay their loan?**\n",
    "\n",
    "This way in the future when we get a new potential customer we can assess whether or not they are likely to pay back the loan. Keep in mind classification metrics when evaluating the performance of your model! Our label here is the **\"loan_status\"** column.\n",
    "\n",
    "### c) Comments and notes\n",
    "\n",
    "0) This notebook will deal with the data only. There are other notebooks that deal with the neural nets, and these use clean data from the present notebook.\n",
    "\n",
    "1) I'm thinking of doing some hyperparameter optimization for the neural net of this project. The next line is from Google's HParams tutorial:\n",
    "\n",
    "https://www.tensorflow.org/tensorboard/hyperparameter_tuning_with_hparams.\n",
    "\n",
    "I would like to avoid doing too much trial and error on my nets in general.\n",
    "\n",
    "2) It would also be useful to paralellize the code. Here's the package to do this in Jupyter: https://ipyparallel.readthedocs.io/en/latest/. To use ipyparallel in Google Colab, have to install it using:\n",
    "           \n",
    "           !pip install ipyparallel\n",
    "           \n",
    "If I absolutely have to work with trial and error, might as well train several nets in parallel.\n",
    "\n",
    "3) I might have to make models that don't include all categorical features.\n",
    "\n",
    "4) (21/09/09) "
   ]
  },
  {
   "cell_type": "markdown",
   "id": "e3297846",
   "metadata": {},
   "source": [
    "## Imports"
   ]
  },
  {
   "cell_type": "code",
   "execution_count": 1,
   "id": "487219f1",
   "metadata": {},
   "outputs": [],
   "source": [
    "import numpy as np\n",
    "import matplotlib.pyplot as plt\n",
    "import pandas as pd\n",
    "import seaborn as sns"
   ]
  },
  {
   "cell_type": "code",
   "execution_count": 2,
   "id": "0af4f70d",
   "metadata": {},
   "outputs": [],
   "source": [
    "%load_ext tensorboard"
   ]
  },
  {
   "cell_type": "markdown",
   "id": "4f2b0f16",
   "metadata": {},
   "source": [
    "**Remark:** The data set is much larger than the previous exercises: 95mb. There are 396k entries in it."
   ]
  },
  {
   "cell_type": "code",
   "execution_count": 3,
   "id": "d46e4b13",
   "metadata": {},
   "outputs": [],
   "source": [
    "df_lnclb_data = pd.read_csv(\"lending_club_loan_two.csv\")"
   ]
  },
  {
   "cell_type": "code",
   "execution_count": 4,
   "id": "d946b869",
   "metadata": {},
   "outputs": [],
   "source": [
    "df_lnclb_info = pd.read_csv(\"lending_club_info.csv\")"
   ]
  },
  {
   "cell_type": "markdown",
   "id": "a588d7c3",
   "metadata": {},
   "source": [
    "* The second csv gives a description of the columns of our dataframe."
   ]
  },
  {
   "cell_type": "code",
   "execution_count": 5,
   "id": "41aac6be",
   "metadata": {},
   "outputs": [
    {
     "data": {
      "text/html": [
       "<div>\n",
       "<style scoped>\n",
       "    .dataframe tbody tr th:only-of-type {\n",
       "        vertical-align: middle;\n",
       "    }\n",
       "\n",
       "    .dataframe tbody tr th {\n",
       "        vertical-align: top;\n",
       "    }\n",
       "\n",
       "    .dataframe thead th {\n",
       "        text-align: right;\n",
       "    }\n",
       "</style>\n",
       "<table border=\"1\" class=\"dataframe\">\n",
       "  <thead>\n",
       "    <tr style=\"text-align: right;\">\n",
       "      <th></th>\n",
       "      <th>LoanStatNew</th>\n",
       "      <th>Description</th>\n",
       "    </tr>\n",
       "  </thead>\n",
       "  <tbody>\n",
       "    <tr>\n",
       "      <th>0</th>\n",
       "      <td>loan_amnt</td>\n",
       "      <td>The listed amount of the loan applied for by t...</td>\n",
       "    </tr>\n",
       "    <tr>\n",
       "      <th>1</th>\n",
       "      <td>term</td>\n",
       "      <td>The number of payments on the loan. Values are...</td>\n",
       "    </tr>\n",
       "    <tr>\n",
       "      <th>2</th>\n",
       "      <td>int_rate</td>\n",
       "      <td>Interest Rate on the loan</td>\n",
       "    </tr>\n",
       "    <tr>\n",
       "      <th>3</th>\n",
       "      <td>installment</td>\n",
       "      <td>The monthly payment owed by the borrower if th...</td>\n",
       "    </tr>\n",
       "    <tr>\n",
       "      <th>4</th>\n",
       "      <td>grade</td>\n",
       "      <td>LC assigned loan grade</td>\n",
       "    </tr>\n",
       "    <tr>\n",
       "      <th>5</th>\n",
       "      <td>sub_grade</td>\n",
       "      <td>LC assigned loan subgrade</td>\n",
       "    </tr>\n",
       "    <tr>\n",
       "      <th>6</th>\n",
       "      <td>emp_title</td>\n",
       "      <td>The job title supplied by the Borrower when ap...</td>\n",
       "    </tr>\n",
       "    <tr>\n",
       "      <th>7</th>\n",
       "      <td>emp_length</td>\n",
       "      <td>Employment length in years. Possible values ar...</td>\n",
       "    </tr>\n",
       "    <tr>\n",
       "      <th>8</th>\n",
       "      <td>home_ownership</td>\n",
       "      <td>The home ownership status provided by the borr...</td>\n",
       "    </tr>\n",
       "    <tr>\n",
       "      <th>9</th>\n",
       "      <td>annual_inc</td>\n",
       "      <td>The self-reported annual income provided by th...</td>\n",
       "    </tr>\n",
       "    <tr>\n",
       "      <th>10</th>\n",
       "      <td>verification_status</td>\n",
       "      <td>Indicates if income was verified by LC, not ve...</td>\n",
       "    </tr>\n",
       "    <tr>\n",
       "      <th>11</th>\n",
       "      <td>issue_d</td>\n",
       "      <td>The month which the loan was funded</td>\n",
       "    </tr>\n",
       "    <tr>\n",
       "      <th>12</th>\n",
       "      <td>loan_status</td>\n",
       "      <td>Current status of the loan</td>\n",
       "    </tr>\n",
       "    <tr>\n",
       "      <th>13</th>\n",
       "      <td>purpose</td>\n",
       "      <td>A category provided by the borrower for the lo...</td>\n",
       "    </tr>\n",
       "    <tr>\n",
       "      <th>14</th>\n",
       "      <td>title</td>\n",
       "      <td>The loan title provided by the borrower</td>\n",
       "    </tr>\n",
       "    <tr>\n",
       "      <th>15</th>\n",
       "      <td>zip_code</td>\n",
       "      <td>The first 3 numbers of the zip code provided b...</td>\n",
       "    </tr>\n",
       "    <tr>\n",
       "      <th>16</th>\n",
       "      <td>addr_state</td>\n",
       "      <td>The state provided by the borrower in the loan...</td>\n",
       "    </tr>\n",
       "    <tr>\n",
       "      <th>17</th>\n",
       "      <td>dti</td>\n",
       "      <td>A ratio calculated using the borrower’s total ...</td>\n",
       "    </tr>\n",
       "    <tr>\n",
       "      <th>18</th>\n",
       "      <td>earliest_cr_line</td>\n",
       "      <td>The month the borrower's earliest reported cre...</td>\n",
       "    </tr>\n",
       "    <tr>\n",
       "      <th>19</th>\n",
       "      <td>open_acc</td>\n",
       "      <td>The number of open credit lines in the borrowe...</td>\n",
       "    </tr>\n",
       "    <tr>\n",
       "      <th>20</th>\n",
       "      <td>pub_rec</td>\n",
       "      <td>Number of derogatory public records</td>\n",
       "    </tr>\n",
       "    <tr>\n",
       "      <th>21</th>\n",
       "      <td>revol_bal</td>\n",
       "      <td>Total credit revolving balance</td>\n",
       "    </tr>\n",
       "    <tr>\n",
       "      <th>22</th>\n",
       "      <td>revol_util</td>\n",
       "      <td>Revolving line utilization rate, or the amount...</td>\n",
       "    </tr>\n",
       "    <tr>\n",
       "      <th>23</th>\n",
       "      <td>total_acc</td>\n",
       "      <td>The total number of credit lines currently in ...</td>\n",
       "    </tr>\n",
       "    <tr>\n",
       "      <th>24</th>\n",
       "      <td>initial_list_status</td>\n",
       "      <td>The initial listing status of the loan. Possib...</td>\n",
       "    </tr>\n",
       "    <tr>\n",
       "      <th>25</th>\n",
       "      <td>application_type</td>\n",
       "      <td>Indicates whether the loan is an individual ap...</td>\n",
       "    </tr>\n",
       "    <tr>\n",
       "      <th>26</th>\n",
       "      <td>mort_acc</td>\n",
       "      <td>Number of mortgage accounts.</td>\n",
       "    </tr>\n",
       "    <tr>\n",
       "      <th>27</th>\n",
       "      <td>pub_rec_bankruptcies</td>\n",
       "      <td>Number of public record bankruptcies</td>\n",
       "    </tr>\n",
       "  </tbody>\n",
       "</table>\n",
       "</div>"
      ],
      "text/plain": [
       "             LoanStatNew                                        Description\n",
       "0              loan_amnt  The listed amount of the loan applied for by t...\n",
       "1                   term  The number of payments on the loan. Values are...\n",
       "2               int_rate                          Interest Rate on the loan\n",
       "3            installment  The monthly payment owed by the borrower if th...\n",
       "4                  grade                             LC assigned loan grade\n",
       "5              sub_grade                          LC assigned loan subgrade\n",
       "6              emp_title  The job title supplied by the Borrower when ap...\n",
       "7             emp_length  Employment length in years. Possible values ar...\n",
       "8         home_ownership  The home ownership status provided by the borr...\n",
       "9             annual_inc  The self-reported annual income provided by th...\n",
       "10   verification_status  Indicates if income was verified by LC, not ve...\n",
       "11               issue_d                The month which the loan was funded\n",
       "12           loan_status                         Current status of the loan\n",
       "13               purpose  A category provided by the borrower for the lo...\n",
       "14                 title            The loan title provided by the borrower\n",
       "15              zip_code  The first 3 numbers of the zip code provided b...\n",
       "16            addr_state  The state provided by the borrower in the loan...\n",
       "17                   dti  A ratio calculated using the borrower’s total ...\n",
       "18      earliest_cr_line  The month the borrower's earliest reported cre...\n",
       "19              open_acc  The number of open credit lines in the borrowe...\n",
       "20               pub_rec                Number of derogatory public records\n",
       "21             revol_bal                     Total credit revolving balance\n",
       "22            revol_util  Revolving line utilization rate, or the amount...\n",
       "23             total_acc  The total number of credit lines currently in ...\n",
       "24   initial_list_status  The initial listing status of the loan. Possib...\n",
       "25      application_type  Indicates whether the loan is an individual ap...\n",
       "26              mort_acc                       Number of mortgage accounts.\n",
       "27  pub_rec_bankruptcies               Number of public record bankruptcies"
      ]
     },
     "execution_count": 5,
     "metadata": {},
     "output_type": "execute_result"
    }
   ],
   "source": [
    "df_lnclb_info"
   ]
  },
  {
   "cell_type": "markdown",
   "id": "7db545c9",
   "metadata": {},
   "source": [
    "## 1) Exploratory Data Analysis (Attempt 1)"
   ]
  },
  {
   "cell_type": "code",
   "execution_count": 5,
   "id": "c1f67189",
   "metadata": {},
   "outputs": [
    {
     "data": {
      "text/html": [
       "<div>\n",
       "<style scoped>\n",
       "    .dataframe tbody tr th:only-of-type {\n",
       "        vertical-align: middle;\n",
       "    }\n",
       "\n",
       "    .dataframe tbody tr th {\n",
       "        vertical-align: top;\n",
       "    }\n",
       "\n",
       "    .dataframe thead th {\n",
       "        text-align: right;\n",
       "    }\n",
       "</style>\n",
       "<table border=\"1\" class=\"dataframe\">\n",
       "  <thead>\n",
       "    <tr style=\"text-align: right;\">\n",
       "      <th></th>\n",
       "      <th>loan_amnt</th>\n",
       "      <th>term</th>\n",
       "      <th>int_rate</th>\n",
       "      <th>installment</th>\n",
       "      <th>grade</th>\n",
       "      <th>sub_grade</th>\n",
       "      <th>emp_title</th>\n",
       "      <th>emp_length</th>\n",
       "      <th>home_ownership</th>\n",
       "      <th>annual_inc</th>\n",
       "      <th>...</th>\n",
       "      <th>open_acc</th>\n",
       "      <th>pub_rec</th>\n",
       "      <th>revol_bal</th>\n",
       "      <th>revol_util</th>\n",
       "      <th>total_acc</th>\n",
       "      <th>initial_list_status</th>\n",
       "      <th>application_type</th>\n",
       "      <th>mort_acc</th>\n",
       "      <th>pub_rec_bankruptcies</th>\n",
       "      <th>address</th>\n",
       "    </tr>\n",
       "  </thead>\n",
       "  <tbody>\n",
       "    <tr>\n",
       "      <th>0</th>\n",
       "      <td>10000.0</td>\n",
       "      <td>36 months</td>\n",
       "      <td>11.44</td>\n",
       "      <td>329.48</td>\n",
       "      <td>B</td>\n",
       "      <td>B4</td>\n",
       "      <td>Marketing</td>\n",
       "      <td>10+ years</td>\n",
       "      <td>RENT</td>\n",
       "      <td>117000.0</td>\n",
       "      <td>...</td>\n",
       "      <td>16.0</td>\n",
       "      <td>0.0</td>\n",
       "      <td>36369.0</td>\n",
       "      <td>41.8</td>\n",
       "      <td>25.0</td>\n",
       "      <td>w</td>\n",
       "      <td>INDIVIDUAL</td>\n",
       "      <td>0.0</td>\n",
       "      <td>0.0</td>\n",
       "      <td>0174 Michelle Gateway\\nMendozaberg, OK 22690</td>\n",
       "    </tr>\n",
       "    <tr>\n",
       "      <th>1</th>\n",
       "      <td>8000.0</td>\n",
       "      <td>36 months</td>\n",
       "      <td>11.99</td>\n",
       "      <td>265.68</td>\n",
       "      <td>B</td>\n",
       "      <td>B5</td>\n",
       "      <td>Credit analyst</td>\n",
       "      <td>4 years</td>\n",
       "      <td>MORTGAGE</td>\n",
       "      <td>65000.0</td>\n",
       "      <td>...</td>\n",
       "      <td>17.0</td>\n",
       "      <td>0.0</td>\n",
       "      <td>20131.0</td>\n",
       "      <td>53.3</td>\n",
       "      <td>27.0</td>\n",
       "      <td>f</td>\n",
       "      <td>INDIVIDUAL</td>\n",
       "      <td>3.0</td>\n",
       "      <td>0.0</td>\n",
       "      <td>1076 Carney Fort Apt. 347\\nLoganmouth, SD 05113</td>\n",
       "    </tr>\n",
       "    <tr>\n",
       "      <th>2</th>\n",
       "      <td>15600.0</td>\n",
       "      <td>36 months</td>\n",
       "      <td>10.49</td>\n",
       "      <td>506.97</td>\n",
       "      <td>B</td>\n",
       "      <td>B3</td>\n",
       "      <td>Statistician</td>\n",
       "      <td>&lt; 1 year</td>\n",
       "      <td>RENT</td>\n",
       "      <td>43057.0</td>\n",
       "      <td>...</td>\n",
       "      <td>13.0</td>\n",
       "      <td>0.0</td>\n",
       "      <td>11987.0</td>\n",
       "      <td>92.2</td>\n",
       "      <td>26.0</td>\n",
       "      <td>f</td>\n",
       "      <td>INDIVIDUAL</td>\n",
       "      <td>0.0</td>\n",
       "      <td>0.0</td>\n",
       "      <td>87025 Mark Dale Apt. 269\\nNew Sabrina, WV 05113</td>\n",
       "    </tr>\n",
       "    <tr>\n",
       "      <th>3</th>\n",
       "      <td>7200.0</td>\n",
       "      <td>36 months</td>\n",
       "      <td>6.49</td>\n",
       "      <td>220.65</td>\n",
       "      <td>A</td>\n",
       "      <td>A2</td>\n",
       "      <td>Client Advocate</td>\n",
       "      <td>6 years</td>\n",
       "      <td>RENT</td>\n",
       "      <td>54000.0</td>\n",
       "      <td>...</td>\n",
       "      <td>6.0</td>\n",
       "      <td>0.0</td>\n",
       "      <td>5472.0</td>\n",
       "      <td>21.5</td>\n",
       "      <td>13.0</td>\n",
       "      <td>f</td>\n",
       "      <td>INDIVIDUAL</td>\n",
       "      <td>0.0</td>\n",
       "      <td>0.0</td>\n",
       "      <td>823 Reid Ford\\nDelacruzside, MA 00813</td>\n",
       "    </tr>\n",
       "    <tr>\n",
       "      <th>4</th>\n",
       "      <td>24375.0</td>\n",
       "      <td>60 months</td>\n",
       "      <td>17.27</td>\n",
       "      <td>609.33</td>\n",
       "      <td>C</td>\n",
       "      <td>C5</td>\n",
       "      <td>Destiny Management Inc.</td>\n",
       "      <td>9 years</td>\n",
       "      <td>MORTGAGE</td>\n",
       "      <td>55000.0</td>\n",
       "      <td>...</td>\n",
       "      <td>13.0</td>\n",
       "      <td>0.0</td>\n",
       "      <td>24584.0</td>\n",
       "      <td>69.8</td>\n",
       "      <td>43.0</td>\n",
       "      <td>f</td>\n",
       "      <td>INDIVIDUAL</td>\n",
       "      <td>1.0</td>\n",
       "      <td>0.0</td>\n",
       "      <td>679 Luna Roads\\nGreggshire, VA 11650</td>\n",
       "    </tr>\n",
       "    <tr>\n",
       "      <th>...</th>\n",
       "      <td>...</td>\n",
       "      <td>...</td>\n",
       "      <td>...</td>\n",
       "      <td>...</td>\n",
       "      <td>...</td>\n",
       "      <td>...</td>\n",
       "      <td>...</td>\n",
       "      <td>...</td>\n",
       "      <td>...</td>\n",
       "      <td>...</td>\n",
       "      <td>...</td>\n",
       "      <td>...</td>\n",
       "      <td>...</td>\n",
       "      <td>...</td>\n",
       "      <td>...</td>\n",
       "      <td>...</td>\n",
       "      <td>...</td>\n",
       "      <td>...</td>\n",
       "      <td>...</td>\n",
       "      <td>...</td>\n",
       "      <td>...</td>\n",
       "    </tr>\n",
       "    <tr>\n",
       "      <th>396025</th>\n",
       "      <td>10000.0</td>\n",
       "      <td>60 months</td>\n",
       "      <td>10.99</td>\n",
       "      <td>217.38</td>\n",
       "      <td>B</td>\n",
       "      <td>B4</td>\n",
       "      <td>licensed bankere</td>\n",
       "      <td>2 years</td>\n",
       "      <td>RENT</td>\n",
       "      <td>40000.0</td>\n",
       "      <td>...</td>\n",
       "      <td>6.0</td>\n",
       "      <td>0.0</td>\n",
       "      <td>1990.0</td>\n",
       "      <td>34.3</td>\n",
       "      <td>23.0</td>\n",
       "      <td>w</td>\n",
       "      <td>INDIVIDUAL</td>\n",
       "      <td>0.0</td>\n",
       "      <td>0.0</td>\n",
       "      <td>12951 Williams Crossing\\nJohnnyville, DC 30723</td>\n",
       "    </tr>\n",
       "    <tr>\n",
       "      <th>396026</th>\n",
       "      <td>21000.0</td>\n",
       "      <td>36 months</td>\n",
       "      <td>12.29</td>\n",
       "      <td>700.42</td>\n",
       "      <td>C</td>\n",
       "      <td>C1</td>\n",
       "      <td>Agent</td>\n",
       "      <td>5 years</td>\n",
       "      <td>MORTGAGE</td>\n",
       "      <td>110000.0</td>\n",
       "      <td>...</td>\n",
       "      <td>6.0</td>\n",
       "      <td>0.0</td>\n",
       "      <td>43263.0</td>\n",
       "      <td>95.7</td>\n",
       "      <td>8.0</td>\n",
       "      <td>f</td>\n",
       "      <td>INDIVIDUAL</td>\n",
       "      <td>1.0</td>\n",
       "      <td>0.0</td>\n",
       "      <td>0114 Fowler Field Suite 028\\nRachelborough, LA...</td>\n",
       "    </tr>\n",
       "    <tr>\n",
       "      <th>396027</th>\n",
       "      <td>5000.0</td>\n",
       "      <td>36 months</td>\n",
       "      <td>9.99</td>\n",
       "      <td>161.32</td>\n",
       "      <td>B</td>\n",
       "      <td>B1</td>\n",
       "      <td>City Carrier</td>\n",
       "      <td>10+ years</td>\n",
       "      <td>RENT</td>\n",
       "      <td>56500.0</td>\n",
       "      <td>...</td>\n",
       "      <td>15.0</td>\n",
       "      <td>0.0</td>\n",
       "      <td>32704.0</td>\n",
       "      <td>66.9</td>\n",
       "      <td>23.0</td>\n",
       "      <td>f</td>\n",
       "      <td>INDIVIDUAL</td>\n",
       "      <td>0.0</td>\n",
       "      <td>0.0</td>\n",
       "      <td>953 Matthew Points Suite 414\\nReedfort, NY 70466</td>\n",
       "    </tr>\n",
       "    <tr>\n",
       "      <th>396028</th>\n",
       "      <td>21000.0</td>\n",
       "      <td>60 months</td>\n",
       "      <td>15.31</td>\n",
       "      <td>503.02</td>\n",
       "      <td>C</td>\n",
       "      <td>C2</td>\n",
       "      <td>Gracon Services, Inc</td>\n",
       "      <td>10+ years</td>\n",
       "      <td>MORTGAGE</td>\n",
       "      <td>64000.0</td>\n",
       "      <td>...</td>\n",
       "      <td>9.0</td>\n",
       "      <td>0.0</td>\n",
       "      <td>15704.0</td>\n",
       "      <td>53.8</td>\n",
       "      <td>20.0</td>\n",
       "      <td>f</td>\n",
       "      <td>INDIVIDUAL</td>\n",
       "      <td>5.0</td>\n",
       "      <td>0.0</td>\n",
       "      <td>7843 Blake Freeway Apt. 229\\nNew Michael, FL 2...</td>\n",
       "    </tr>\n",
       "    <tr>\n",
       "      <th>396029</th>\n",
       "      <td>2000.0</td>\n",
       "      <td>36 months</td>\n",
       "      <td>13.61</td>\n",
       "      <td>67.98</td>\n",
       "      <td>C</td>\n",
       "      <td>C2</td>\n",
       "      <td>Internal Revenue Service</td>\n",
       "      <td>10+ years</td>\n",
       "      <td>RENT</td>\n",
       "      <td>42996.0</td>\n",
       "      <td>...</td>\n",
       "      <td>3.0</td>\n",
       "      <td>0.0</td>\n",
       "      <td>4292.0</td>\n",
       "      <td>91.3</td>\n",
       "      <td>19.0</td>\n",
       "      <td>f</td>\n",
       "      <td>INDIVIDUAL</td>\n",
       "      <td>NaN</td>\n",
       "      <td>0.0</td>\n",
       "      <td>787 Michelle Causeway\\nBriannaton, AR 48052</td>\n",
       "    </tr>\n",
       "  </tbody>\n",
       "</table>\n",
       "<p>396030 rows × 27 columns</p>\n",
       "</div>"
      ],
      "text/plain": [
       "        loan_amnt        term  int_rate  installment grade sub_grade  \\\n",
       "0         10000.0   36 months     11.44       329.48     B        B4   \n",
       "1          8000.0   36 months     11.99       265.68     B        B5   \n",
       "2         15600.0   36 months     10.49       506.97     B        B3   \n",
       "3          7200.0   36 months      6.49       220.65     A        A2   \n",
       "4         24375.0   60 months     17.27       609.33     C        C5   \n",
       "...           ...         ...       ...          ...   ...       ...   \n",
       "396025    10000.0   60 months     10.99       217.38     B        B4   \n",
       "396026    21000.0   36 months     12.29       700.42     C        C1   \n",
       "396027     5000.0   36 months      9.99       161.32     B        B1   \n",
       "396028    21000.0   60 months     15.31       503.02     C        C2   \n",
       "396029     2000.0   36 months     13.61        67.98     C        C2   \n",
       "\n",
       "                       emp_title emp_length home_ownership  annual_inc  ...  \\\n",
       "0                      Marketing  10+ years           RENT    117000.0  ...   \n",
       "1                Credit analyst     4 years       MORTGAGE     65000.0  ...   \n",
       "2                   Statistician   < 1 year           RENT     43057.0  ...   \n",
       "3                Client Advocate    6 years           RENT     54000.0  ...   \n",
       "4        Destiny Management Inc.    9 years       MORTGAGE     55000.0  ...   \n",
       "...                          ...        ...            ...         ...  ...   \n",
       "396025          licensed bankere    2 years           RENT     40000.0  ...   \n",
       "396026                     Agent    5 years       MORTGAGE    110000.0  ...   \n",
       "396027              City Carrier  10+ years           RENT     56500.0  ...   \n",
       "396028      Gracon Services, Inc  10+ years       MORTGAGE     64000.0  ...   \n",
       "396029  Internal Revenue Service  10+ years           RENT     42996.0  ...   \n",
       "\n",
       "       open_acc pub_rec revol_bal revol_util total_acc  initial_list_status  \\\n",
       "0          16.0     0.0   36369.0       41.8      25.0                    w   \n",
       "1          17.0     0.0   20131.0       53.3      27.0                    f   \n",
       "2          13.0     0.0   11987.0       92.2      26.0                    f   \n",
       "3           6.0     0.0    5472.0       21.5      13.0                    f   \n",
       "4          13.0     0.0   24584.0       69.8      43.0                    f   \n",
       "...         ...     ...       ...        ...       ...                  ...   \n",
       "396025      6.0     0.0    1990.0       34.3      23.0                    w   \n",
       "396026      6.0     0.0   43263.0       95.7       8.0                    f   \n",
       "396027     15.0     0.0   32704.0       66.9      23.0                    f   \n",
       "396028      9.0     0.0   15704.0       53.8      20.0                    f   \n",
       "396029      3.0     0.0    4292.0       91.3      19.0                    f   \n",
       "\n",
       "       application_type  mort_acc  pub_rec_bankruptcies  \\\n",
       "0            INDIVIDUAL       0.0                   0.0   \n",
       "1            INDIVIDUAL       3.0                   0.0   \n",
       "2            INDIVIDUAL       0.0                   0.0   \n",
       "3            INDIVIDUAL       0.0                   0.0   \n",
       "4            INDIVIDUAL       1.0                   0.0   \n",
       "...                 ...       ...                   ...   \n",
       "396025       INDIVIDUAL       0.0                   0.0   \n",
       "396026       INDIVIDUAL       1.0                   0.0   \n",
       "396027       INDIVIDUAL       0.0                   0.0   \n",
       "396028       INDIVIDUAL       5.0                   0.0   \n",
       "396029       INDIVIDUAL       NaN                   0.0   \n",
       "\n",
       "                                                  address  \n",
       "0            0174 Michelle Gateway\\nMendozaberg, OK 22690  \n",
       "1         1076 Carney Fort Apt. 347\\nLoganmouth, SD 05113  \n",
       "2         87025 Mark Dale Apt. 269\\nNew Sabrina, WV 05113  \n",
       "3                   823 Reid Ford\\nDelacruzside, MA 00813  \n",
       "4                    679 Luna Roads\\nGreggshire, VA 11650  \n",
       "...                                                   ...  \n",
       "396025     12951 Williams Crossing\\nJohnnyville, DC 30723  \n",
       "396026  0114 Fowler Field Suite 028\\nRachelborough, LA...  \n",
       "396027   953 Matthew Points Suite 414\\nReedfort, NY 70466  \n",
       "396028  7843 Blake Freeway Apt. 229\\nNew Michael, FL 2...  \n",
       "396029        787 Michelle Causeway\\nBriannaton, AR 48052  \n",
       "\n",
       "[396030 rows x 27 columns]"
      ]
     },
     "execution_count": 5,
     "metadata": {},
     "output_type": "execute_result"
    }
   ],
   "source": [
    "df_lnclb_data"
   ]
  },
  {
   "cell_type": "code",
   "execution_count": 7,
   "id": "0f147297",
   "metadata": {},
   "outputs": [
    {
     "name": "stdout",
     "output_type": "stream",
     "text": [
      "<class 'pandas.core.frame.DataFrame'>\n",
      "RangeIndex: 396030 entries, 0 to 396029\n",
      "Data columns (total 27 columns):\n",
      " #   Column                Non-Null Count   Dtype  \n",
      "---  ------                --------------   -----  \n",
      " 0   loan_amnt             396030 non-null  float64\n",
      " 1   term                  396030 non-null  object \n",
      " 2   int_rate              396030 non-null  float64\n",
      " 3   installment           396030 non-null  float64\n",
      " 4   grade                 396030 non-null  object \n",
      " 5   sub_grade             396030 non-null  object \n",
      " 6   emp_title             373103 non-null  object \n",
      " 7   emp_length            377729 non-null  object \n",
      " 8   home_ownership        396030 non-null  object \n",
      " 9   annual_inc            396030 non-null  float64\n",
      " 10  verification_status   396030 non-null  object \n",
      " 11  issue_d               396030 non-null  object \n",
      " 12  loan_status           396030 non-null  object \n",
      " 13  purpose               396030 non-null  object \n",
      " 14  title                 394275 non-null  object \n",
      " 15  dti                   396030 non-null  float64\n",
      " 16  earliest_cr_line      396030 non-null  object \n",
      " 17  open_acc              396030 non-null  float64\n",
      " 18  pub_rec               396030 non-null  float64\n",
      " 19  revol_bal             396030 non-null  float64\n",
      " 20  revol_util            395754 non-null  float64\n",
      " 21  total_acc             396030 non-null  float64\n",
      " 22  initial_list_status   396030 non-null  object \n",
      " 23  application_type      396030 non-null  object \n",
      " 24  mort_acc              358235 non-null  float64\n",
      " 25  pub_rec_bankruptcies  395495 non-null  float64\n",
      " 26  address               396030 non-null  object \n",
      "dtypes: float64(12), object(15)\n",
      "memory usage: 81.6+ MB\n"
     ]
    }
   ],
   "source": [
    "df_lnclb_data.info()"
   ]
  },
  {
   "cell_type": "code",
   "execution_count": 8,
   "id": "af6cf7df",
   "metadata": {},
   "outputs": [
    {
     "data": {
      "text/plain": [
       "loan_amnt                                                        8000.0\n",
       "term                                                          36 months\n",
       "int_rate                                                          11.99\n",
       "installment                                                      265.68\n",
       "grade                                                                 B\n",
       "sub_grade                                                            B5\n",
       "emp_title                                               Credit analyst \n",
       "emp_length                                                      4 years\n",
       "home_ownership                                                 MORTGAGE\n",
       "annual_inc                                                      65000.0\n",
       "verification_status                                        Not Verified\n",
       "issue_d                                                        Jan-2015\n",
       "loan_status                                                  Fully Paid\n",
       "purpose                                              debt_consolidation\n",
       "title                                                Debt consolidation\n",
       "dti                                                               22.05\n",
       "earliest_cr_line                                               Jul-2004\n",
       "open_acc                                                           17.0\n",
       "pub_rec                                                             0.0\n",
       "revol_bal                                                       20131.0\n",
       "revol_util                                                         53.3\n",
       "total_acc                                                          27.0\n",
       "initial_list_status                                                   f\n",
       "application_type                                             INDIVIDUAL\n",
       "mort_acc                                                            3.0\n",
       "pub_rec_bankruptcies                                                0.0\n",
       "address                 1076 Carney Fort Apt. 347\\nLoganmouth, SD 05113\n",
       "Name: 1, dtype: object"
      ]
     },
     "execution_count": 8,
     "metadata": {},
     "output_type": "execute_result"
    }
   ],
   "source": [
    "df_lnclb_data.iloc[1]"
   ]
  },
  {
   "cell_type": "markdown",
   "id": "7bd89d44",
   "metadata": {},
   "source": [
    "### Features"
   ]
  },
  {
   "cell_type": "markdown",
   "id": "9c7099b1",
   "metadata": {},
   "source": [
    "### a) Basics"
   ]
  },
  {
   "cell_type": "code",
   "execution_count": 9,
   "id": "28a7ec09",
   "metadata": {},
   "outputs": [
    {
     "data": {
      "text/html": [
       "<div>\n",
       "<style scoped>\n",
       "    .dataframe tbody tr th:only-of-type {\n",
       "        vertical-align: middle;\n",
       "    }\n",
       "\n",
       "    .dataframe tbody tr th {\n",
       "        vertical-align: top;\n",
       "    }\n",
       "\n",
       "    .dataframe thead th {\n",
       "        text-align: right;\n",
       "    }\n",
       "</style>\n",
       "<table border=\"1\" class=\"dataframe\">\n",
       "  <thead>\n",
       "    <tr style=\"text-align: right;\">\n",
       "      <th></th>\n",
       "      <th>LoanStatNew</th>\n",
       "      <th>Description</th>\n",
       "    </tr>\n",
       "  </thead>\n",
       "  <tbody>\n",
       "    <tr>\n",
       "      <th>0</th>\n",
       "      <td>loan_amnt</td>\n",
       "      <td>The listed amount of the loan applied for by t...</td>\n",
       "    </tr>\n",
       "    <tr>\n",
       "      <th>1</th>\n",
       "      <td>term</td>\n",
       "      <td>The number of payments on the loan. Values are...</td>\n",
       "    </tr>\n",
       "    <tr>\n",
       "      <th>2</th>\n",
       "      <td>int_rate</td>\n",
       "      <td>Interest Rate on the loan</td>\n",
       "    </tr>\n",
       "    <tr>\n",
       "      <th>3</th>\n",
       "      <td>installment</td>\n",
       "      <td>The monthly payment owed by the borrower if th...</td>\n",
       "    </tr>\n",
       "    <tr>\n",
       "      <th>4</th>\n",
       "      <td>grade</td>\n",
       "      <td>LC assigned loan grade</td>\n",
       "    </tr>\n",
       "    <tr>\n",
       "      <th>5</th>\n",
       "      <td>sub_grade</td>\n",
       "      <td>LC assigned loan subgrade</td>\n",
       "    </tr>\n",
       "    <tr>\n",
       "      <th>6</th>\n",
       "      <td>emp_title</td>\n",
       "      <td>The job title supplied by the Borrower when ap...</td>\n",
       "    </tr>\n",
       "    <tr>\n",
       "      <th>7</th>\n",
       "      <td>emp_length</td>\n",
       "      <td>Employment length in years. Possible values ar...</td>\n",
       "    </tr>\n",
       "    <tr>\n",
       "      <th>8</th>\n",
       "      <td>home_ownership</td>\n",
       "      <td>The home ownership status provided by the borr...</td>\n",
       "    </tr>\n",
       "    <tr>\n",
       "      <th>9</th>\n",
       "      <td>annual_inc</td>\n",
       "      <td>The self-reported annual income provided by th...</td>\n",
       "    </tr>\n",
       "    <tr>\n",
       "      <th>10</th>\n",
       "      <td>verification_status</td>\n",
       "      <td>Indicates if income was verified by LC, not ve...</td>\n",
       "    </tr>\n",
       "    <tr>\n",
       "      <th>11</th>\n",
       "      <td>issue_d</td>\n",
       "      <td>The month which the loan was funded</td>\n",
       "    </tr>\n",
       "    <tr>\n",
       "      <th>12</th>\n",
       "      <td>loan_status</td>\n",
       "      <td>Current status of the loan</td>\n",
       "    </tr>\n",
       "    <tr>\n",
       "      <th>13</th>\n",
       "      <td>purpose</td>\n",
       "      <td>A category provided by the borrower for the lo...</td>\n",
       "    </tr>\n",
       "    <tr>\n",
       "      <th>14</th>\n",
       "      <td>title</td>\n",
       "      <td>The loan title provided by the borrower</td>\n",
       "    </tr>\n",
       "    <tr>\n",
       "      <th>15</th>\n",
       "      <td>zip_code</td>\n",
       "      <td>The first 3 numbers of the zip code provided b...</td>\n",
       "    </tr>\n",
       "    <tr>\n",
       "      <th>16</th>\n",
       "      <td>addr_state</td>\n",
       "      <td>The state provided by the borrower in the loan...</td>\n",
       "    </tr>\n",
       "    <tr>\n",
       "      <th>17</th>\n",
       "      <td>dti</td>\n",
       "      <td>A ratio calculated using the borrower’s total ...</td>\n",
       "    </tr>\n",
       "    <tr>\n",
       "      <th>18</th>\n",
       "      <td>earliest_cr_line</td>\n",
       "      <td>The month the borrower's earliest reported cre...</td>\n",
       "    </tr>\n",
       "    <tr>\n",
       "      <th>19</th>\n",
       "      <td>open_acc</td>\n",
       "      <td>The number of open credit lines in the borrowe...</td>\n",
       "    </tr>\n",
       "    <tr>\n",
       "      <th>20</th>\n",
       "      <td>pub_rec</td>\n",
       "      <td>Number of derogatory public records</td>\n",
       "    </tr>\n",
       "    <tr>\n",
       "      <th>21</th>\n",
       "      <td>revol_bal</td>\n",
       "      <td>Total credit revolving balance</td>\n",
       "    </tr>\n",
       "    <tr>\n",
       "      <th>22</th>\n",
       "      <td>revol_util</td>\n",
       "      <td>Revolving line utilization rate, or the amount...</td>\n",
       "    </tr>\n",
       "    <tr>\n",
       "      <th>23</th>\n",
       "      <td>total_acc</td>\n",
       "      <td>The total number of credit lines currently in ...</td>\n",
       "    </tr>\n",
       "    <tr>\n",
       "      <th>24</th>\n",
       "      <td>initial_list_status</td>\n",
       "      <td>The initial listing status of the loan. Possib...</td>\n",
       "    </tr>\n",
       "    <tr>\n",
       "      <th>25</th>\n",
       "      <td>application_type</td>\n",
       "      <td>Indicates whether the loan is an individual ap...</td>\n",
       "    </tr>\n",
       "    <tr>\n",
       "      <th>26</th>\n",
       "      <td>mort_acc</td>\n",
       "      <td>Number of mortgage accounts.</td>\n",
       "    </tr>\n",
       "    <tr>\n",
       "      <th>27</th>\n",
       "      <td>pub_rec_bankruptcies</td>\n",
       "      <td>Number of public record bankruptcies</td>\n",
       "    </tr>\n",
       "  </tbody>\n",
       "</table>\n",
       "</div>"
      ],
      "text/plain": [
       "             LoanStatNew                                        Description\n",
       "0              loan_amnt  The listed amount of the loan applied for by t...\n",
       "1                   term  The number of payments on the loan. Values are...\n",
       "2               int_rate                          Interest Rate on the loan\n",
       "3            installment  The monthly payment owed by the borrower if th...\n",
       "4                  grade                             LC assigned loan grade\n",
       "5              sub_grade                          LC assigned loan subgrade\n",
       "6              emp_title  The job title supplied by the Borrower when ap...\n",
       "7             emp_length  Employment length in years. Possible values ar...\n",
       "8         home_ownership  The home ownership status provided by the borr...\n",
       "9             annual_inc  The self-reported annual income provided by th...\n",
       "10   verification_status  Indicates if income was verified by LC, not ve...\n",
       "11               issue_d                The month which the loan was funded\n",
       "12           loan_status                         Current status of the loan\n",
       "13               purpose  A category provided by the borrower for the lo...\n",
       "14                 title            The loan title provided by the borrower\n",
       "15              zip_code  The first 3 numbers of the zip code provided b...\n",
       "16            addr_state  The state provided by the borrower in the loan...\n",
       "17                   dti  A ratio calculated using the borrower’s total ...\n",
       "18      earliest_cr_line  The month the borrower's earliest reported cre...\n",
       "19              open_acc  The number of open credit lines in the borrowe...\n",
       "20               pub_rec                Number of derogatory public records\n",
       "21             revol_bal                     Total credit revolving balance\n",
       "22            revol_util  Revolving line utilization rate, or the amount...\n",
       "23             total_acc  The total number of credit lines currently in ...\n",
       "24   initial_list_status  The initial listing status of the loan. Possib...\n",
       "25      application_type  Indicates whether the loan is an individual ap...\n",
       "26              mort_acc                       Number of mortgage accounts.\n",
       "27  pub_rec_bankruptcies               Number of public record bankruptcies"
      ]
     },
     "execution_count": 9,
     "metadata": {},
     "output_type": "execute_result"
    }
   ],
   "source": [
    "df_lnclb_info"
   ]
  },
  {
   "cell_type": "markdown",
   "id": "8df73d69",
   "metadata": {},
   "source": [
    "There's a lot of features to take care of here, 28. Many of those are not numbers.\n",
    "* Features we won't need (7): **emp_title**, **address** (not gonna work on zipcodes), **addr_state** (removed), **zip_code** (removed), **title**, **grade**, **sub_grade** (see appendix for why).\n",
    "* Date features, which we'll drop (2): **issue_d** (loan month), **earliest_cr_line**.\n",
    "* Categorical features (5): **home_ownership**, **verification_status**, **purpose** (of loan), **initial_list_status** (binary), **application_type**,\n",
    "* Other (2): **term** (convert to int), **emp_length** (conv. to int, missing val's), \n",
    "* Integer features (4): **open_acc**, **pub_rec**, **total_acc**, **mort_acc**, **pub_rec_bankruptcies**.\n",
    "* Float features (7): **int_rate**, **loan_amnt**, **annual_inc**, **dti**, **installment**, **revol_bal**, **revol_util**.\n",
    "* **LABEL:** **loan_status** (binary, to be conv. to int.).\n",
    "\n",
    "The 7 categorical features will have to be converted to integers.\n"
   ]
  },
  {
   "cell_type": "markdown",
   "id": "bba4bbab",
   "metadata": {},
   "source": [
    "### Target label:\n",
    "We're interested in the **loan_status**"
   ]
  },
  {
   "cell_type": "code",
   "execution_count": 10,
   "id": "86dc9d49",
   "metadata": {},
   "outputs": [
    {
     "data": {
      "text/plain": [
       "Fully Paid     318357\n",
       "Charged Off     77673\n",
       "Name: loan_status, dtype: int64"
      ]
     },
     "execution_count": 10,
     "metadata": {},
     "output_type": "execute_result"
    }
   ],
   "source": [
    "df_lnclb_data[\"loan_status\"].value_counts()"
   ]
  },
  {
   "cell_type": "markdown",
   "id": "6d997f09",
   "metadata": {},
   "source": [
    "Will also have to be converted to 0-1 values."
   ]
  },
  {
   "cell_type": "markdown",
   "id": "404ccf39",
   "metadata": {},
   "source": [
    "### Missing data (Prelim):\n",
    "* Use the heatmap from Seaborn:"
   ]
  },
  {
   "cell_type": "code",
   "execution_count": 11,
   "id": "cee78b96",
   "metadata": {},
   "outputs": [
    {
     "data": {
      "text/plain": [
       "<AxesSubplot:>"
      ]
     },
     "execution_count": 11,
     "metadata": {},
     "output_type": "execute_result"
    },
    {
     "data": {
      "image/png": "[encoded data removed]",
      "text/plain": [
       "<Figure size 864x1152 with 2 Axes>"
      ]
     },
     "metadata": {
      "needs_background": "light"
     },
     "output_type": "display_data"
    }
   ],
   "source": [
    "plt.figure(figsize=(12,16))\n",
    "sns.heatmap(df_lnclb_data.isnull())\n"
   ]
  },
  {
   "cell_type": "markdown",
   "id": "d69511ad",
   "metadata": {},
   "source": [
    "* Columns with missing data: **emp_title, emp_length, title, revol_uti, mort_acc** (emp_title and title will be dropped).\n",
    "* I'll drop the employment title, but intuitively, the length of employment could be a useful feature for prediction.\n",
    "* I think I'll impute the emp_length missing values with the average.\n",
    "* mort_acc might be complicated to fix, as it would depend on other parameters.\n",
    "* revol_util has one value missing. Could impute or just remove that line from the data.\n",
    "* **WARNING:** This heatmap gives an idea of where data is missing but it's not accurate. For instance, there seems to be only one missing value in the revol_util column, but there are in fact 276 missing values:"
   ]
  },
  {
   "cell_type": "code",
   "execution_count": 12,
   "id": "d9a8663d",
   "metadata": {},
   "outputs": [
    {
     "data": {
      "text/plain": [
       "276"
      ]
     },
     "execution_count": 12,
     "metadata": {},
     "output_type": "execute_result"
    }
   ],
   "source": [
    "len(df_lnclb_data[df_lnclb_data[\"revol_util\"].isnull()])"
   ]
  },
  {
   "cell_type": "markdown",
   "id": "ee9b10ab",
   "metadata": {},
   "source": [
    "### b) Feature engineering\n",
    "\n",
    "The features that we'll modify are the following:\n",
    "* Features that need conversion to ints: **term**, **emp_length**, **home_ownership**, **verification_status**, **purpose** (of loan), **initial_list_status** (binary), **application_type**, **loan_status** (the target)\n",
    "* Features that need imputing: **emp_length**, **revol_util**\n",
    "\n",
    "Let's start with conversions.\n"
   ]
  },
  {
   "cell_type": "markdown",
   "id": "332ec688",
   "metadata": {},
   "source": [
    "#### b.1 - Conversion functions"
   ]
  },
  {
   "cell_type": "markdown",
   "id": "d6b1f7c7",
   "metadata": {},
   "source": [
    "#### term\n",
    "\n",
    "For this feature:"
   ]
  },
  {
   "cell_type": "code",
   "execution_count": 13,
   "id": "91d5ce21",
   "metadata": {},
   "outputs": [
    {
     "data": {
      "text/plain": [
       " 36 months    302005\n",
       " 60 months     94025\n",
       "Name: term, dtype: int64"
      ]
     },
     "execution_count": 13,
     "metadata": {},
     "output_type": "execute_result"
    }
   ],
   "source": [
    "df_lnclb_data[\"term\"].value_counts()"
   ]
  },
  {
   "cell_type": "code",
   "execution_count": 14,
   "id": "1456911c",
   "metadata": {},
   "outputs": [
    {
     "data": {
      "text/plain": [
       "0"
      ]
     },
     "execution_count": 14,
     "metadata": {},
     "output_type": "execute_result"
    }
   ],
   "source": [
    "len(df_lnclb_data[df_lnclb_data[\"term\"].isnull()])"
   ]
  },
  {
   "cell_type": "markdown",
   "id": "29b08b5d",
   "metadata": {},
   "source": [
    "* No missing values.\n",
    "* We'll add a feature term_int to the dataset, using:"
   ]
  },
  {
   "cell_type": "code",
   "execution_count": 15,
   "id": "ba3c9910",
   "metadata": {},
   "outputs": [],
   "source": [
    "def normalize_term(in_str):\n",
    "    if (in_str==\" 36 months\"):\n",
    "        return 36\n",
    "    elif (in_str==\" 60 months\"):\n",
    "        return 60"
   ]
  },
  {
   "cell_type": "markdown",
   "id": "311c0535",
   "metadata": {},
   "source": [
    "#### emp_length\n",
    "\n",
    "The possible values for this feature are the following:"
   ]
  },
  {
   "cell_type": "code",
   "execution_count": 16,
   "id": "1e854864",
   "metadata": {},
   "outputs": [
    {
     "data": {
      "text/plain": [
       "10+ years    126041\n",
       "2 years       35827\n",
       "< 1 year      31725\n",
       "3 years       31665\n",
       "5 years       26495\n",
       "1 year        25882\n",
       "4 years       23952\n",
       "6 years       20841\n",
       "7 years       20819\n",
       "8 years       19168\n",
       "9 years       15314\n",
       "Name: emp_length, dtype: int64"
      ]
     },
     "execution_count": 16,
     "metadata": {},
     "output_type": "execute_result"
    }
   ],
   "source": [
    "df_lnclb_data[\"emp_length\"].value_counts()"
   ]
  },
  {
   "cell_type": "markdown",
   "id": "cabe3672",
   "metadata": {},
   "source": [
    "There are missing values in this column:"
   ]
  },
  {
   "cell_type": "code",
   "execution_count": 17,
   "id": "309650a0",
   "metadata": {},
   "outputs": [
    {
     "data": {
      "text/plain": [
       "18301"
      ]
     },
     "execution_count": 17,
     "metadata": {},
     "output_type": "execute_result"
    }
   ],
   "source": [
    "len(df_lnclb_data[df_lnclb_data[\"emp_length\"].isnull()])"
   ]
  },
  {
   "cell_type": "markdown",
   "id": "a5efdf3e",
   "metadata": {},
   "source": [
    "* We'll convert these values to integers, and for the missing values, we'll impute with a rounded average.\n",
    "* I'll create a new column called **emp_length_int** for the data set.\n",
    "* Here's the function we'll use:"
   ]
  },
  {
   "cell_type": "code",
   "execution_count": 18,
   "id": "70ec3511",
   "metadata": {},
   "outputs": [],
   "source": [
    "def normalize_emp_length(in_str):\n",
    "    if (in_str==\"< 1 year\"):\n",
    "        return 0\n",
    "    elif (in_str==\"1 year\"):\n",
    "        return 1\n",
    "    elif (in_str==\"2 years\"):\n",
    "        return 2\n",
    "    elif (in_str==\"3 years\"):\n",
    "        return 3\n",
    "    elif (in_str==\"4 years\"):\n",
    "        return 4\n",
    "    elif (in_str==\"5 years\"):\n",
    "        return 5\n",
    "    elif (in_str==\"6 years\"):\n",
    "        return 6\n",
    "    elif (in_str==\"7 years\"):\n",
    "        return 7\n",
    "    elif (in_str==\"8 years\"):\n",
    "        return 8\n",
    "    elif (in_str==\"9 years\"):\n",
    "        return 9\n",
    "    elif (in_str==\"10+ years\"):\n",
    "        return 10"
   ]
  },
  {
   "cell_type": "code",
   "execution_count": 19,
   "id": "477a377e",
   "metadata": {},
   "outputs": [
    {
     "data": {
      "text/plain": [
       "25882"
      ]
     },
     "execution_count": 19,
     "metadata": {},
     "output_type": "execute_result"
    }
   ],
   "source": [
    "len(df_lnclb_data[df_lnclb_data[\"emp_length\"]==\"1 year\"])"
   ]
  },
  {
   "cell_type": "code",
   "execution_count": 20,
   "id": "2a242476",
   "metadata": {},
   "outputs": [
    {
     "data": {
      "text/plain": [
       "126041"
      ]
     },
     "execution_count": 20,
     "metadata": {},
     "output_type": "execute_result"
    }
   ],
   "source": [
    "len(df_lnclb_data[df_lnclb_data[\"emp_length\"]==\"10+ years\"])"
   ]
  },
  {
   "cell_type": "markdown",
   "id": "3c06eb17",
   "metadata": {},
   "source": [
    "#### home_ownership\n",
    "\n",
    "Categorical feature with the following values:"
   ]
  },
  {
   "cell_type": "code",
   "execution_count": 21,
   "id": "6fa1542b",
   "metadata": {},
   "outputs": [
    {
     "data": {
      "text/plain": [
       "MORTGAGE    198348\n",
       "RENT        159790\n",
       "OWN          37746\n",
       "OTHER          112\n",
       "NONE            31\n",
       "ANY              3\n",
       "Name: home_ownership, dtype: int64"
      ]
     },
     "execution_count": 21,
     "metadata": {},
     "output_type": "execute_result"
    }
   ],
   "source": [
    "df_lnclb_data[\"home_ownership\"].value_counts()"
   ]
  },
  {
   "cell_type": "code",
   "execution_count": 22,
   "id": "0da054e2",
   "metadata": {},
   "outputs": [
    {
     "data": {
      "text/plain": [
       "159790"
      ]
     },
     "execution_count": 22,
     "metadata": {},
     "output_type": "execute_result"
    }
   ],
   "source": [
    "len(df_lnclb_data[df_lnclb_data[\"home_ownership\"]==\"RENT\"])"
   ]
  },
  {
   "cell_type": "code",
   "execution_count": 23,
   "id": "48541ffd",
   "metadata": {},
   "outputs": [
    {
     "data": {
      "text/html": [
       "<div>\n",
       "<style scoped>\n",
       "    .dataframe tbody tr th:only-of-type {\n",
       "        vertical-align: middle;\n",
       "    }\n",
       "\n",
       "    .dataframe tbody tr th {\n",
       "        vertical-align: top;\n",
       "    }\n",
       "\n",
       "    .dataframe thead th {\n",
       "        text-align: right;\n",
       "    }\n",
       "</style>\n",
       "<table border=\"1\" class=\"dataframe\">\n",
       "  <thead>\n",
       "    <tr style=\"text-align: right;\">\n",
       "      <th></th>\n",
       "      <th>loan_amnt</th>\n",
       "      <th>term</th>\n",
       "      <th>int_rate</th>\n",
       "      <th>installment</th>\n",
       "      <th>grade</th>\n",
       "      <th>sub_grade</th>\n",
       "      <th>emp_title</th>\n",
       "      <th>emp_length</th>\n",
       "      <th>home_ownership</th>\n",
       "      <th>annual_inc</th>\n",
       "      <th>...</th>\n",
       "      <th>open_acc</th>\n",
       "      <th>pub_rec</th>\n",
       "      <th>revol_bal</th>\n",
       "      <th>revol_util</th>\n",
       "      <th>total_acc</th>\n",
       "      <th>initial_list_status</th>\n",
       "      <th>application_type</th>\n",
       "      <th>mort_acc</th>\n",
       "      <th>pub_rec_bankruptcies</th>\n",
       "      <th>address</th>\n",
       "    </tr>\n",
       "  </thead>\n",
       "  <tbody>\n",
       "  </tbody>\n",
       "</table>\n",
       "<p>0 rows × 27 columns</p>\n",
       "</div>"
      ],
      "text/plain": [
       "Empty DataFrame\n",
       "Columns: [loan_amnt, term, int_rate, installment, grade, sub_grade, emp_title, emp_length, home_ownership, annual_inc, verification_status, issue_d, loan_status, purpose, title, dti, earliest_cr_line, open_acc, pub_rec, revol_bal, revol_util, total_acc, initial_list_status, application_type, mort_acc, pub_rec_bankruptcies, address]\n",
       "Index: []\n",
       "\n",
       "[0 rows x 27 columns]"
      ]
     },
     "execution_count": 23,
     "metadata": {},
     "output_type": "execute_result"
    }
   ],
   "source": [
    "df_lnclb_data[df_lnclb_data[\"home_ownership\"].isnull()]"
   ]
  },
  {
   "cell_type": "markdown",
   "id": "ccc53649",
   "metadata": {},
   "source": [
    "* The MORTGAGE, RENT and OWN make sense. NONE is unclear, and it doesn't seem like it means homeless, but rather missing entry. ANY is also strange, so I'll merge NONE and ANY with OTHER. Good news: No missing data...\n",
    "* If I think of those categories as scores in home_ownership_int, I'll use the following:\n",
    "        - OTHER, NONE and ANY: home_ownership_int = 0\n",
    "        - RENT: home_ownership_int = 1\n",
    "        - MORTGAGE: home_ownership_int = 2\n",
    "        - OWN: home_ownership_int = 3"
   ]
  },
  {
   "cell_type": "code",
   "execution_count": 24,
   "id": "c88345c6",
   "metadata": {},
   "outputs": [
    {
     "data": {
      "text/html": [
       "<div>\n",
       "<style scoped>\n",
       "    .dataframe tbody tr th:only-of-type {\n",
       "        vertical-align: middle;\n",
       "    }\n",
       "\n",
       "    .dataframe tbody tr th {\n",
       "        vertical-align: top;\n",
       "    }\n",
       "\n",
       "    .dataframe thead th {\n",
       "        text-align: right;\n",
       "    }\n",
       "</style>\n",
       "<table border=\"1\" class=\"dataframe\">\n",
       "  <thead>\n",
       "    <tr style=\"text-align: right;\">\n",
       "      <th></th>\n",
       "      <th>loan_amnt</th>\n",
       "      <th>term</th>\n",
       "      <th>int_rate</th>\n",
       "      <th>installment</th>\n",
       "      <th>grade</th>\n",
       "      <th>sub_grade</th>\n",
       "      <th>emp_title</th>\n",
       "      <th>emp_length</th>\n",
       "      <th>home_ownership</th>\n",
       "      <th>annual_inc</th>\n",
       "      <th>...</th>\n",
       "      <th>open_acc</th>\n",
       "      <th>pub_rec</th>\n",
       "      <th>revol_bal</th>\n",
       "      <th>revol_util</th>\n",
       "      <th>total_acc</th>\n",
       "      <th>initial_list_status</th>\n",
       "      <th>application_type</th>\n",
       "      <th>mort_acc</th>\n",
       "      <th>pub_rec_bankruptcies</th>\n",
       "      <th>address</th>\n",
       "    </tr>\n",
       "  </thead>\n",
       "  <tbody>\n",
       "    <tr>\n",
       "      <th>9949</th>\n",
       "      <td>2800.0</td>\n",
       "      <td>36 months</td>\n",
       "      <td>8.70</td>\n",
       "      <td>88.65</td>\n",
       "      <td>B</td>\n",
       "      <td>B1</td>\n",
       "      <td>NaN</td>\n",
       "      <td>&lt; 1 year</td>\n",
       "      <td>NONE</td>\n",
       "      <td>120000.0</td>\n",
       "      <td>...</td>\n",
       "      <td>6.0</td>\n",
       "      <td>0.0</td>\n",
       "      <td>8155.0</td>\n",
       "      <td>14.9</td>\n",
       "      <td>8.0</td>\n",
       "      <td>f</td>\n",
       "      <td>INDIVIDUAL</td>\n",
       "      <td>NaN</td>\n",
       "      <td>NaN</td>\n",
       "      <td>49911 Hays Mountains\\nSouth Tammyland, WI 22690</td>\n",
       "    </tr>\n",
       "    <tr>\n",
       "      <th>48022</th>\n",
       "      <td>15000.0</td>\n",
       "      <td>36 months</td>\n",
       "      <td>12.12</td>\n",
       "      <td>499.08</td>\n",
       "      <td>B</td>\n",
       "      <td>B3</td>\n",
       "      <td>soundshore medical center</td>\n",
       "      <td>10+ years</td>\n",
       "      <td>NONE</td>\n",
       "      <td>98000.0</td>\n",
       "      <td>...</td>\n",
       "      <td>17.0</td>\n",
       "      <td>0.0</td>\n",
       "      <td>47206.0</td>\n",
       "      <td>44.4</td>\n",
       "      <td>35.0</td>\n",
       "      <td>f</td>\n",
       "      <td>INDIVIDUAL</td>\n",
       "      <td>0.0</td>\n",
       "      <td>0.0</td>\n",
       "      <td>13128 Ortiz Cliffs\\nHawkinsstad, OR 30723</td>\n",
       "    </tr>\n",
       "    <tr>\n",
       "      <th>54698</th>\n",
       "      <td>30000.0</td>\n",
       "      <td>60 months</td>\n",
       "      <td>22.95</td>\n",
       "      <td>844.86</td>\n",
       "      <td>F</td>\n",
       "      <td>F1</td>\n",
       "      <td>Mount Sinai School of Medicine</td>\n",
       "      <td>&lt; 1 year</td>\n",
       "      <td>NONE</td>\n",
       "      <td>105000.0</td>\n",
       "      <td>...</td>\n",
       "      <td>20.0</td>\n",
       "      <td>0.0</td>\n",
       "      <td>12083.0</td>\n",
       "      <td>37.7</td>\n",
       "      <td>37.0</td>\n",
       "      <td>f</td>\n",
       "      <td>INDIVIDUAL</td>\n",
       "      <td>0.0</td>\n",
       "      <td>0.0</td>\n",
       "      <td>61466 Brennan Lake Suite 087\\nAustinton, IL 48052</td>\n",
       "    </tr>\n",
       "    <tr>\n",
       "      <th>66859</th>\n",
       "      <td>5700.0</td>\n",
       "      <td>36 months</td>\n",
       "      <td>14.09</td>\n",
       "      <td>195.07</td>\n",
       "      <td>B</td>\n",
       "      <td>B5</td>\n",
       "      <td>american airlines</td>\n",
       "      <td>10+ years</td>\n",
       "      <td>NONE</td>\n",
       "      <td>51500.0</td>\n",
       "      <td>...</td>\n",
       "      <td>13.0</td>\n",
       "      <td>0.0</td>\n",
       "      <td>11582.0</td>\n",
       "      <td>34.2</td>\n",
       "      <td>17.0</td>\n",
       "      <td>f</td>\n",
       "      <td>INDIVIDUAL</td>\n",
       "      <td>1.0</td>\n",
       "      <td>0.0</td>\n",
       "      <td>707 Gilmore Avenue Suite 887\\nAshleyland, MN 7...</td>\n",
       "    </tr>\n",
       "    <tr>\n",
       "      <th>71826</th>\n",
       "      <td>25000.0</td>\n",
       "      <td>60 months</td>\n",
       "      <td>24.89</td>\n",
       "      <td>732.18</td>\n",
       "      <td>G</td>\n",
       "      <td>G3</td>\n",
       "      <td>Newmont Mining Co.</td>\n",
       "      <td>10+ years</td>\n",
       "      <td>NONE</td>\n",
       "      <td>80000.0</td>\n",
       "      <td>...</td>\n",
       "      <td>9.0</td>\n",
       "      <td>0.0</td>\n",
       "      <td>19192.0</td>\n",
       "      <td>95.0</td>\n",
       "      <td>21.0</td>\n",
       "      <td>f</td>\n",
       "      <td>INDIVIDUAL</td>\n",
       "      <td>3.0</td>\n",
       "      <td>0.0</td>\n",
       "      <td>3457 Christine Terrace\\nFieldston, WA 22690</td>\n",
       "    </tr>\n",
       "    <tr>\n",
       "      <th>84015</th>\n",
       "      <td>15500.0</td>\n",
       "      <td>36 months</td>\n",
       "      <td>19.05</td>\n",
       "      <td>568.57</td>\n",
       "      <td>D</td>\n",
       "      <td>D4</td>\n",
       "      <td>Wells Fargo</td>\n",
       "      <td>10+ years</td>\n",
       "      <td>NONE</td>\n",
       "      <td>80000.0</td>\n",
       "      <td>...</td>\n",
       "      <td>12.0</td>\n",
       "      <td>0.0</td>\n",
       "      <td>11654.0</td>\n",
       "      <td>93.9</td>\n",
       "      <td>23.0</td>\n",
       "      <td>f</td>\n",
       "      <td>INDIVIDUAL</td>\n",
       "      <td>3.0</td>\n",
       "      <td>0.0</td>\n",
       "      <td>USNS Lindsey\\nFPO AE 29597</td>\n",
       "    </tr>\n",
       "    <tr>\n",
       "      <th>89376</th>\n",
       "      <td>11000.0</td>\n",
       "      <td>36 months</td>\n",
       "      <td>14.33</td>\n",
       "      <td>377.72</td>\n",
       "      <td>C</td>\n",
       "      <td>C1</td>\n",
       "      <td>Landscaping plus of Eden valley</td>\n",
       "      <td>10+ years</td>\n",
       "      <td>NONE</td>\n",
       "      <td>38000.0</td>\n",
       "      <td>...</td>\n",
       "      <td>12.0</td>\n",
       "      <td>0.0</td>\n",
       "      <td>5732.0</td>\n",
       "      <td>25.4</td>\n",
       "      <td>30.0</td>\n",
       "      <td>f</td>\n",
       "      <td>INDIVIDUAL</td>\n",
       "      <td>1.0</td>\n",
       "      <td>0.0</td>\n",
       "      <td>630 Katherine Keys Suite 432\\nJasonberg, AZ 00813</td>\n",
       "    </tr>\n",
       "    <tr>\n",
       "      <th>99298</th>\n",
       "      <td>16750.0</td>\n",
       "      <td>60 months</td>\n",
       "      <td>15.31</td>\n",
       "      <td>401.22</td>\n",
       "      <td>C</td>\n",
       "      <td>C2</td>\n",
       "      <td>Target distribution center</td>\n",
       "      <td>8 years</td>\n",
       "      <td>NONE</td>\n",
       "      <td>38000.0</td>\n",
       "      <td>...</td>\n",
       "      <td>8.0</td>\n",
       "      <td>0.0</td>\n",
       "      <td>16404.0</td>\n",
       "      <td>32.4</td>\n",
       "      <td>19.0</td>\n",
       "      <td>f</td>\n",
       "      <td>INDIVIDUAL</td>\n",
       "      <td>7.0</td>\n",
       "      <td>0.0</td>\n",
       "      <td>16971 Eric Mountains Suite 682\\nNorth Yolandav...</td>\n",
       "    </tr>\n",
       "    <tr>\n",
       "      <th>113330</th>\n",
       "      <td>10000.0</td>\n",
       "      <td>36 months</td>\n",
       "      <td>7.75</td>\n",
       "      <td>312.22</td>\n",
       "      <td>A</td>\n",
       "      <td>A3</td>\n",
       "      <td>ups</td>\n",
       "      <td>5 years</td>\n",
       "      <td>NONE</td>\n",
       "      <td>22200.0</td>\n",
       "      <td>...</td>\n",
       "      <td>9.0</td>\n",
       "      <td>0.0</td>\n",
       "      <td>4767.0</td>\n",
       "      <td>8.7</td>\n",
       "      <td>22.0</td>\n",
       "      <td>f</td>\n",
       "      <td>INDIVIDUAL</td>\n",
       "      <td>NaN</td>\n",
       "      <td>NaN</td>\n",
       "      <td>70453 Miller Causeway Suite 497\\nNicoleburgh, ...</td>\n",
       "    </tr>\n",
       "    <tr>\n",
       "      <th>131506</th>\n",
       "      <td>3825.0</td>\n",
       "      <td>36 months</td>\n",
       "      <td>14.09</td>\n",
       "      <td>130.90</td>\n",
       "      <td>B</td>\n",
       "      <td>B5</td>\n",
       "      <td>Seldens Home Furnishings</td>\n",
       "      <td>1 year</td>\n",
       "      <td>NONE</td>\n",
       "      <td>45000.0</td>\n",
       "      <td>...</td>\n",
       "      <td>10.0</td>\n",
       "      <td>0.0</td>\n",
       "      <td>21351.0</td>\n",
       "      <td>62.8</td>\n",
       "      <td>19.0</td>\n",
       "      <td>w</td>\n",
       "      <td>INDIVIDUAL</td>\n",
       "      <td>2.0</td>\n",
       "      <td>0.0</td>\n",
       "      <td>0347 Evan Corners Suite 662\\nDiazmouth, ME 00813</td>\n",
       "    </tr>\n",
       "    <tr>\n",
       "      <th>146542</th>\n",
       "      <td>30000.0</td>\n",
       "      <td>36 months</td>\n",
       "      <td>19.05</td>\n",
       "      <td>1100.44</td>\n",
       "      <td>D</td>\n",
       "      <td>D4</td>\n",
       "      <td>Bastion Technologies</td>\n",
       "      <td>10+ years</td>\n",
       "      <td>NONE</td>\n",
       "      <td>68000.0</td>\n",
       "      <td>...</td>\n",
       "      <td>6.0</td>\n",
       "      <td>0.0</td>\n",
       "      <td>10764.0</td>\n",
       "      <td>77.4</td>\n",
       "      <td>14.0</td>\n",
       "      <td>f</td>\n",
       "      <td>INDIVIDUAL</td>\n",
       "      <td>2.0</td>\n",
       "      <td>0.0</td>\n",
       "      <td>8029 Duran Heights Suite 335\\nTonyaview, NM 70466</td>\n",
       "    </tr>\n",
       "    <tr>\n",
       "      <th>156252</th>\n",
       "      <td>29175.0</td>\n",
       "      <td>36 months</td>\n",
       "      <td>18.75</td>\n",
       "      <td>1065.76</td>\n",
       "      <td>D</td>\n",
       "      <td>D3</td>\n",
       "      <td>Scott and White Memorial Hospital</td>\n",
       "      <td>9 years</td>\n",
       "      <td>NONE</td>\n",
       "      <td>65000.0</td>\n",
       "      <td>...</td>\n",
       "      <td>8.0</td>\n",
       "      <td>0.0</td>\n",
       "      <td>16241.0</td>\n",
       "      <td>80.4</td>\n",
       "      <td>14.0</td>\n",
       "      <td>f</td>\n",
       "      <td>INDIVIDUAL</td>\n",
       "      <td>0.0</td>\n",
       "      <td>0.0</td>\n",
       "      <td>33053 Patel Club\\nDixonborough, RI 70466</td>\n",
       "    </tr>\n",
       "    <tr>\n",
       "      <th>164092</th>\n",
       "      <td>10750.0</td>\n",
       "      <td>36 months</td>\n",
       "      <td>17.77</td>\n",
       "      <td>387.40</td>\n",
       "      <td>D</td>\n",
       "      <td>D1</td>\n",
       "      <td>Lizardskins</td>\n",
       "      <td>7 years</td>\n",
       "      <td>NONE</td>\n",
       "      <td>31200.0</td>\n",
       "      <td>...</td>\n",
       "      <td>9.0</td>\n",
       "      <td>0.0</td>\n",
       "      <td>12128.0</td>\n",
       "      <td>72.2</td>\n",
       "      <td>28.0</td>\n",
       "      <td>f</td>\n",
       "      <td>INDIVIDUAL</td>\n",
       "      <td>0.0</td>\n",
       "      <td>0.0</td>\n",
       "      <td>96754 Snyder Oval\\nMichelechester, MS 22690</td>\n",
       "    </tr>\n",
       "    <tr>\n",
       "      <th>164820</th>\n",
       "      <td>15000.0</td>\n",
       "      <td>36 months</td>\n",
       "      <td>12.12</td>\n",
       "      <td>499.08</td>\n",
       "      <td>B</td>\n",
       "      <td>B3</td>\n",
       "      <td>Advanced Biotech</td>\n",
       "      <td>3 years</td>\n",
       "      <td>NONE</td>\n",
       "      <td>48000.0</td>\n",
       "      <td>...</td>\n",
       "      <td>11.0</td>\n",
       "      <td>0.0</td>\n",
       "      <td>6751.0</td>\n",
       "      <td>37.7</td>\n",
       "      <td>34.0</td>\n",
       "      <td>f</td>\n",
       "      <td>INDIVIDUAL</td>\n",
       "      <td>0.0</td>\n",
       "      <td>0.0</td>\n",
       "      <td>270 Gross Cape Apt. 863\\nWest Roger, VT 22690</td>\n",
       "    </tr>\n",
       "    <tr>\n",
       "      <th>174038</th>\n",
       "      <td>7250.0</td>\n",
       "      <td>36 months</td>\n",
       "      <td>8.90</td>\n",
       "      <td>230.22</td>\n",
       "      <td>A</td>\n",
       "      <td>A5</td>\n",
       "      <td>ETRADE Corporate Services</td>\n",
       "      <td>6 years</td>\n",
       "      <td>NONE</td>\n",
       "      <td>150000.0</td>\n",
       "      <td>...</td>\n",
       "      <td>12.0</td>\n",
       "      <td>0.0</td>\n",
       "      <td>26068.0</td>\n",
       "      <td>91.8</td>\n",
       "      <td>23.0</td>\n",
       "      <td>f</td>\n",
       "      <td>INDIVIDUAL</td>\n",
       "      <td>4.0</td>\n",
       "      <td>0.0</td>\n",
       "      <td>767 Gould Roads Apt. 462\\nSouth Ericside, GA 3...</td>\n",
       "    </tr>\n",
       "    <tr>\n",
       "      <th>188699</th>\n",
       "      <td>7500.0</td>\n",
       "      <td>36 months</td>\n",
       "      <td>14.09</td>\n",
       "      <td>256.67</td>\n",
       "      <td>B</td>\n",
       "      <td>B5</td>\n",
       "      <td>Safeway</td>\n",
       "      <td>2 years</td>\n",
       "      <td>NONE</td>\n",
       "      <td>37800.0</td>\n",
       "      <td>...</td>\n",
       "      <td>9.0</td>\n",
       "      <td>0.0</td>\n",
       "      <td>12079.0</td>\n",
       "      <td>83.9</td>\n",
       "      <td>21.0</td>\n",
       "      <td>f</td>\n",
       "      <td>INDIVIDUAL</td>\n",
       "      <td>3.0</td>\n",
       "      <td>0.0</td>\n",
       "      <td>6899 Tracy Cove\\nNorth John, KY 11650</td>\n",
       "    </tr>\n",
       "    <tr>\n",
       "      <th>189952</th>\n",
       "      <td>22000.0</td>\n",
       "      <td>36 months</td>\n",
       "      <td>23.28</td>\n",
       "      <td>854.83</td>\n",
       "      <td>F</td>\n",
       "      <td>F2</td>\n",
       "      <td>Freehold Regional</td>\n",
       "      <td>10+ years</td>\n",
       "      <td>NONE</td>\n",
       "      <td>49000.0</td>\n",
       "      <td>...</td>\n",
       "      <td>25.0</td>\n",
       "      <td>0.0</td>\n",
       "      <td>23801.0</td>\n",
       "      <td>76.3</td>\n",
       "      <td>42.0</td>\n",
       "      <td>f</td>\n",
       "      <td>INDIVIDUAL</td>\n",
       "      <td>1.0</td>\n",
       "      <td>0.0</td>\n",
       "      <td>399 Tanner Landing\\nHuntfort, OK 00813</td>\n",
       "    </tr>\n",
       "    <tr>\n",
       "      <th>194811</th>\n",
       "      <td>12375.0</td>\n",
       "      <td>36 months</td>\n",
       "      <td>14.09</td>\n",
       "      <td>423.49</td>\n",
       "      <td>B</td>\n",
       "      <td>B5</td>\n",
       "      <td>sanmar corporation</td>\n",
       "      <td>6 years</td>\n",
       "      <td>NONE</td>\n",
       "      <td>36000.0</td>\n",
       "      <td>...</td>\n",
       "      <td>13.0</td>\n",
       "      <td>0.0</td>\n",
       "      <td>7092.0</td>\n",
       "      <td>78.8</td>\n",
       "      <td>25.0</td>\n",
       "      <td>f</td>\n",
       "      <td>INDIVIDUAL</td>\n",
       "      <td>0.0</td>\n",
       "      <td>0.0</td>\n",
       "      <td>3158 Natalie Green\\nShaneburgh, DE 70466</td>\n",
       "    </tr>\n",
       "    <tr>\n",
       "      <th>211886</th>\n",
       "      <td>10500.0</td>\n",
       "      <td>36 months</td>\n",
       "      <td>18.49</td>\n",
       "      <td>382.19</td>\n",
       "      <td>D</td>\n",
       "      <td>D2</td>\n",
       "      <td>St Agnes Hospital</td>\n",
       "      <td>9 years</td>\n",
       "      <td>NONE</td>\n",
       "      <td>62000.0</td>\n",
       "      <td>...</td>\n",
       "      <td>12.0</td>\n",
       "      <td>0.0</td>\n",
       "      <td>9923.0</td>\n",
       "      <td>62.0</td>\n",
       "      <td>24.0</td>\n",
       "      <td>f</td>\n",
       "      <td>INDIVIDUAL</td>\n",
       "      <td>0.0</td>\n",
       "      <td>0.0</td>\n",
       "      <td>485 Amy Field\\nHendrixbury, NV 70466</td>\n",
       "    </tr>\n",
       "    <tr>\n",
       "      <th>234556</th>\n",
       "      <td>9200.0</td>\n",
       "      <td>36 months</td>\n",
       "      <td>7.62</td>\n",
       "      <td>286.69</td>\n",
       "      <td>A</td>\n",
       "      <td>A3</td>\n",
       "      <td>bmw of orland Park</td>\n",
       "      <td>7 years</td>\n",
       "      <td>NONE</td>\n",
       "      <td>60000.0</td>\n",
       "      <td>...</td>\n",
       "      <td>11.0</td>\n",
       "      <td>0.0</td>\n",
       "      <td>9209.0</td>\n",
       "      <td>72.5</td>\n",
       "      <td>32.0</td>\n",
       "      <td>f</td>\n",
       "      <td>INDIVIDUAL</td>\n",
       "      <td>5.0</td>\n",
       "      <td>0.0</td>\n",
       "      <td>94741 Price Fort Suite 740\\nAcostaburgh, ND 00813</td>\n",
       "    </tr>\n",
       "    <tr>\n",
       "      <th>244934</th>\n",
       "      <td>16950.0</td>\n",
       "      <td>36 months</td>\n",
       "      <td>12.12</td>\n",
       "      <td>563.96</td>\n",
       "      <td>B</td>\n",
       "      <td>B3</td>\n",
       "      <td>JG Construction</td>\n",
       "      <td>3 years</td>\n",
       "      <td>NONE</td>\n",
       "      <td>75000.0</td>\n",
       "      <td>...</td>\n",
       "      <td>13.0</td>\n",
       "      <td>0.0</td>\n",
       "      <td>8775.0</td>\n",
       "      <td>30.5</td>\n",
       "      <td>28.0</td>\n",
       "      <td>f</td>\n",
       "      <td>INDIVIDUAL</td>\n",
       "      <td>8.0</td>\n",
       "      <td>0.0</td>\n",
       "      <td>51640 Meghan Heights\\nSouth Edwardfort, OR 22690</td>\n",
       "    </tr>\n",
       "    <tr>\n",
       "      <th>273319</th>\n",
       "      <td>9000.0</td>\n",
       "      <td>36 months</td>\n",
       "      <td>10.16</td>\n",
       "      <td>291.09</td>\n",
       "      <td>B</td>\n",
       "      <td>B1</td>\n",
       "      <td>whirlpool</td>\n",
       "      <td>10+ years</td>\n",
       "      <td>NONE</td>\n",
       "      <td>50000.0</td>\n",
       "      <td>...</td>\n",
       "      <td>14.0</td>\n",
       "      <td>0.0</td>\n",
       "      <td>26633.0</td>\n",
       "      <td>54.8</td>\n",
       "      <td>39.0</td>\n",
       "      <td>f</td>\n",
       "      <td>INDIVIDUAL</td>\n",
       "      <td>6.0</td>\n",
       "      <td>0.0</td>\n",
       "      <td>42147 Gonzalez Crossroad\\nAverytown, CT 70466</td>\n",
       "    </tr>\n",
       "    <tr>\n",
       "      <th>282860</th>\n",
       "      <td>9000.0</td>\n",
       "      <td>36 months</td>\n",
       "      <td>14.33</td>\n",
       "      <td>309.05</td>\n",
       "      <td>C</td>\n",
       "      <td>C1</td>\n",
       "      <td>Atlanticare</td>\n",
       "      <td>10+ years</td>\n",
       "      <td>NONE</td>\n",
       "      <td>71000.0</td>\n",
       "      <td>...</td>\n",
       "      <td>10.0</td>\n",
       "      <td>0.0</td>\n",
       "      <td>39598.0</td>\n",
       "      <td>91.6</td>\n",
       "      <td>23.0</td>\n",
       "      <td>f</td>\n",
       "      <td>INDIVIDUAL</td>\n",
       "      <td>5.0</td>\n",
       "      <td>0.0</td>\n",
       "      <td>PSC 0563, Box 2408\\nAPO AA 22690</td>\n",
       "    </tr>\n",
       "    <tr>\n",
       "      <th>314633</th>\n",
       "      <td>8875.0</td>\n",
       "      <td>36 months</td>\n",
       "      <td>14.09</td>\n",
       "      <td>303.72</td>\n",
       "      <td>B</td>\n",
       "      <td>B5</td>\n",
       "      <td>Hartung Glass Wilsonville</td>\n",
       "      <td>6 years</td>\n",
       "      <td>NONE</td>\n",
       "      <td>34000.0</td>\n",
       "      <td>...</td>\n",
       "      <td>9.0</td>\n",
       "      <td>0.0</td>\n",
       "      <td>12466.0</td>\n",
       "      <td>76.5</td>\n",
       "      <td>16.0</td>\n",
       "      <td>f</td>\n",
       "      <td>INDIVIDUAL</td>\n",
       "      <td>0.0</td>\n",
       "      <td>0.0</td>\n",
       "      <td>Unit 9797 Box 5432\\nDPO AA 05113</td>\n",
       "    </tr>\n",
       "    <tr>\n",
       "      <th>329010</th>\n",
       "      <td>15000.0</td>\n",
       "      <td>36 months</td>\n",
       "      <td>14.33</td>\n",
       "      <td>515.08</td>\n",
       "      <td>C</td>\n",
       "      <td>C1</td>\n",
       "      <td>VCU Health System</td>\n",
       "      <td>10+ years</td>\n",
       "      <td>NONE</td>\n",
       "      <td>90000.0</td>\n",
       "      <td>...</td>\n",
       "      <td>9.0</td>\n",
       "      <td>0.0</td>\n",
       "      <td>35318.0</td>\n",
       "      <td>92.7</td>\n",
       "      <td>23.0</td>\n",
       "      <td>f</td>\n",
       "      <td>INDIVIDUAL</td>\n",
       "      <td>2.0</td>\n",
       "      <td>0.0</td>\n",
       "      <td>3998 Howard Spring Apt. 117\\nPort Lawrence, AZ...</td>\n",
       "    </tr>\n",
       "    <tr>\n",
       "      <th>352905</th>\n",
       "      <td>12000.0</td>\n",
       "      <td>36 months</td>\n",
       "      <td>18.75</td>\n",
       "      <td>438.36</td>\n",
       "      <td>D</td>\n",
       "      <td>D3</td>\n",
       "      <td>NaN</td>\n",
       "      <td>NaN</td>\n",
       "      <td>NONE</td>\n",
       "      <td>40000.0</td>\n",
       "      <td>...</td>\n",
       "      <td>7.0</td>\n",
       "      <td>0.0</td>\n",
       "      <td>9945.0</td>\n",
       "      <td>96.6</td>\n",
       "      <td>18.0</td>\n",
       "      <td>f</td>\n",
       "      <td>INDIVIDUAL</td>\n",
       "      <td>1.0</td>\n",
       "      <td>0.0</td>\n",
       "      <td>1543 Brown Garden\\nJasonchester, CA 93700</td>\n",
       "    </tr>\n",
       "    <tr>\n",
       "      <th>360708</th>\n",
       "      <td>24575.0</td>\n",
       "      <td>60 months</td>\n",
       "      <td>19.05</td>\n",
       "      <td>638.17</td>\n",
       "      <td>D</td>\n",
       "      <td>D4</td>\n",
       "      <td>Springwell</td>\n",
       "      <td>&lt; 1 year</td>\n",
       "      <td>NONE</td>\n",
       "      <td>56500.0</td>\n",
       "      <td>...</td>\n",
       "      <td>11.0</td>\n",
       "      <td>0.0</td>\n",
       "      <td>26601.0</td>\n",
       "      <td>79.9</td>\n",
       "      <td>22.0</td>\n",
       "      <td>w</td>\n",
       "      <td>INDIVIDUAL</td>\n",
       "      <td>2.0</td>\n",
       "      <td>0.0</td>\n",
       "      <td>USCGC Mccall\\nFPO AE 30723</td>\n",
       "    </tr>\n",
       "    <tr>\n",
       "      <th>367076</th>\n",
       "      <td>4200.0</td>\n",
       "      <td>36 months</td>\n",
       "      <td>7.90</td>\n",
       "      <td>131.42</td>\n",
       "      <td>A</td>\n",
       "      <td>A4</td>\n",
       "      <td>Your Personal Best Physical Therapy</td>\n",
       "      <td>2 years</td>\n",
       "      <td>NONE</td>\n",
       "      <td>30000.0</td>\n",
       "      <td>...</td>\n",
       "      <td>5.0</td>\n",
       "      <td>0.0</td>\n",
       "      <td>13250.0</td>\n",
       "      <td>31.8</td>\n",
       "      <td>7.0</td>\n",
       "      <td>f</td>\n",
       "      <td>INDIVIDUAL</td>\n",
       "      <td>0.0</td>\n",
       "      <td>0.0</td>\n",
       "      <td>220 Mercado Stravenue Suite 834\\nSouth Joseph,...</td>\n",
       "    </tr>\n",
       "    <tr>\n",
       "      <th>374515</th>\n",
       "      <td>16000.0</td>\n",
       "      <td>36 months</td>\n",
       "      <td>17.27</td>\n",
       "      <td>572.60</td>\n",
       "      <td>C</td>\n",
       "      <td>C5</td>\n",
       "      <td>District 200.</td>\n",
       "      <td>10+ years</td>\n",
       "      <td>NONE</td>\n",
       "      <td>45000.0</td>\n",
       "      <td>...</td>\n",
       "      <td>6.0</td>\n",
       "      <td>0.0</td>\n",
       "      <td>8345.0</td>\n",
       "      <td>51.5</td>\n",
       "      <td>12.0</td>\n",
       "      <td>f</td>\n",
       "      <td>INDIVIDUAL</td>\n",
       "      <td>2.0</td>\n",
       "      <td>0.0</td>\n",
       "      <td>0536 Paul Brook\\nEast Erichaven, HI 00813</td>\n",
       "    </tr>\n",
       "    <tr>\n",
       "      <th>394054</th>\n",
       "      <td>17000.0</td>\n",
       "      <td>36 months</td>\n",
       "      <td>14.33</td>\n",
       "      <td>583.75</td>\n",
       "      <td>C</td>\n",
       "      <td>C1</td>\n",
       "      <td>Park manor nursing home</td>\n",
       "      <td>2 years</td>\n",
       "      <td>NONE</td>\n",
       "      <td>72000.0</td>\n",
       "      <td>...</td>\n",
       "      <td>15.0</td>\n",
       "      <td>0.0</td>\n",
       "      <td>42028.0</td>\n",
       "      <td>84.4</td>\n",
       "      <td>29.0</td>\n",
       "      <td>f</td>\n",
       "      <td>INDIVIDUAL</td>\n",
       "      <td>2.0</td>\n",
       "      <td>0.0</td>\n",
       "      <td>9021 Osborne Brook Apt. 401\\nJosefort, NJ 05113</td>\n",
       "    </tr>\n",
       "    <tr>\n",
       "      <th>395612</th>\n",
       "      <td>11700.0</td>\n",
       "      <td>36 months</td>\n",
       "      <td>15.31</td>\n",
       "      <td>407.37</td>\n",
       "      <td>C</td>\n",
       "      <td>C2</td>\n",
       "      <td>mayo clinic-rochester mn</td>\n",
       "      <td>10+ years</td>\n",
       "      <td>NONE</td>\n",
       "      <td>55000.0</td>\n",
       "      <td>...</td>\n",
       "      <td>7.0</td>\n",
       "      <td>0.0</td>\n",
       "      <td>10525.0</td>\n",
       "      <td>82.2</td>\n",
       "      <td>16.0</td>\n",
       "      <td>f</td>\n",
       "      <td>INDIVIDUAL</td>\n",
       "      <td>3.0</td>\n",
       "      <td>0.0</td>\n",
       "      <td>812 Sarah Track\\nLake Katelyn, SC 70466</td>\n",
       "    </tr>\n",
       "  </tbody>\n",
       "</table>\n",
       "<p>31 rows × 27 columns</p>\n",
       "</div>"
      ],
      "text/plain": [
       "        loan_amnt        term  int_rate  installment grade sub_grade  \\\n",
       "9949       2800.0   36 months      8.70        88.65     B        B1   \n",
       "48022     15000.0   36 months     12.12       499.08     B        B3   \n",
       "54698     30000.0   60 months     22.95       844.86     F        F1   \n",
       "66859      5700.0   36 months     14.09       195.07     B        B5   \n",
       "71826     25000.0   60 months     24.89       732.18     G        G3   \n",
       "84015     15500.0   36 months     19.05       568.57     D        D4   \n",
       "89376     11000.0   36 months     14.33       377.72     C        C1   \n",
       "99298     16750.0   60 months     15.31       401.22     C        C2   \n",
       "113330    10000.0   36 months      7.75       312.22     A        A3   \n",
       "131506     3825.0   36 months     14.09       130.90     B        B5   \n",
       "146542    30000.0   36 months     19.05      1100.44     D        D4   \n",
       "156252    29175.0   36 months     18.75      1065.76     D        D3   \n",
       "164092    10750.0   36 months     17.77       387.40     D        D1   \n",
       "164820    15000.0   36 months     12.12       499.08     B        B3   \n",
       "174038     7250.0   36 months      8.90       230.22     A        A5   \n",
       "188699     7500.0   36 months     14.09       256.67     B        B5   \n",
       "189952    22000.0   36 months     23.28       854.83     F        F2   \n",
       "194811    12375.0   36 months     14.09       423.49     B        B5   \n",
       "211886    10500.0   36 months     18.49       382.19     D        D2   \n",
       "234556     9200.0   36 months      7.62       286.69     A        A3   \n",
       "244934    16950.0   36 months     12.12       563.96     B        B3   \n",
       "273319     9000.0   36 months     10.16       291.09     B        B1   \n",
       "282860     9000.0   36 months     14.33       309.05     C        C1   \n",
       "314633     8875.0   36 months     14.09       303.72     B        B5   \n",
       "329010    15000.0   36 months     14.33       515.08     C        C1   \n",
       "352905    12000.0   36 months     18.75       438.36     D        D3   \n",
       "360708    24575.0   60 months     19.05       638.17     D        D4   \n",
       "367076     4200.0   36 months      7.90       131.42     A        A4   \n",
       "374515    16000.0   36 months     17.27       572.60     C        C5   \n",
       "394054    17000.0   36 months     14.33       583.75     C        C1   \n",
       "395612    11700.0   36 months     15.31       407.37     C        C2   \n",
       "\n",
       "                                  emp_title emp_length home_ownership  \\\n",
       "9949                                    NaN   < 1 year           NONE   \n",
       "48022             soundshore medical center  10+ years           NONE   \n",
       "54698        Mount Sinai School of Medicine   < 1 year           NONE   \n",
       "66859                     american airlines  10+ years           NONE   \n",
       "71826                    Newmont Mining Co.  10+ years           NONE   \n",
       "84015                          Wells Fargo   10+ years           NONE   \n",
       "89376       Landscaping plus of Eden valley  10+ years           NONE   \n",
       "99298            Target distribution center    8 years           NONE   \n",
       "113330                                  ups    5 years           NONE   \n",
       "131506             Seldens Home Furnishings     1 year           NONE   \n",
       "146542                 Bastion Technologies  10+ years           NONE   \n",
       "156252   Scott and White Memorial Hospital     9 years           NONE   \n",
       "164092                          Lizardskins    7 years           NONE   \n",
       "164820                     Advanced Biotech    3 years           NONE   \n",
       "174038            ETRADE Corporate Services    6 years           NONE   \n",
       "188699                              Safeway    2 years           NONE   \n",
       "189952                    Freehold Regional  10+ years           NONE   \n",
       "194811                   sanmar corporation    6 years           NONE   \n",
       "211886                    St Agnes Hospital    9 years           NONE   \n",
       "234556                   bmw of orland Park    7 years           NONE   \n",
       "244934                      JG Construction    3 years           NONE   \n",
       "273319                            whirlpool  10+ years           NONE   \n",
       "282860                          Atlanticare  10+ years           NONE   \n",
       "314633            Hartung Glass Wilsonville    6 years           NONE   \n",
       "329010                    VCU Health System  10+ years           NONE   \n",
       "352905                                  NaN        NaN           NONE   \n",
       "360708                           Springwell   < 1 year           NONE   \n",
       "367076  Your Personal Best Physical Therapy    2 years           NONE   \n",
       "374515                        District 200.  10+ years           NONE   \n",
       "394054              Park manor nursing home    2 years           NONE   \n",
       "395612             mayo clinic-rochester mn  10+ years           NONE   \n",
       "\n",
       "        annual_inc  ... open_acc pub_rec revol_bal revol_util total_acc  \\\n",
       "9949      120000.0  ...      6.0     0.0    8155.0       14.9       8.0   \n",
       "48022      98000.0  ...     17.0     0.0   47206.0       44.4      35.0   \n",
       "54698     105000.0  ...     20.0     0.0   12083.0       37.7      37.0   \n",
       "66859      51500.0  ...     13.0     0.0   11582.0       34.2      17.0   \n",
       "71826      80000.0  ...      9.0     0.0   19192.0       95.0      21.0   \n",
       "84015      80000.0  ...     12.0     0.0   11654.0       93.9      23.0   \n",
       "89376      38000.0  ...     12.0     0.0    5732.0       25.4      30.0   \n",
       "99298      38000.0  ...      8.0     0.0   16404.0       32.4      19.0   \n",
       "113330     22200.0  ...      9.0     0.0    4767.0        8.7      22.0   \n",
       "131506     45000.0  ...     10.0     0.0   21351.0       62.8      19.0   \n",
       "146542     68000.0  ...      6.0     0.0   10764.0       77.4      14.0   \n",
       "156252     65000.0  ...      8.0     0.0   16241.0       80.4      14.0   \n",
       "164092     31200.0  ...      9.0     0.0   12128.0       72.2      28.0   \n",
       "164820     48000.0  ...     11.0     0.0    6751.0       37.7      34.0   \n",
       "174038    150000.0  ...     12.0     0.0   26068.0       91.8      23.0   \n",
       "188699     37800.0  ...      9.0     0.0   12079.0       83.9      21.0   \n",
       "189952     49000.0  ...     25.0     0.0   23801.0       76.3      42.0   \n",
       "194811     36000.0  ...     13.0     0.0    7092.0       78.8      25.0   \n",
       "211886     62000.0  ...     12.0     0.0    9923.0       62.0      24.0   \n",
       "234556     60000.0  ...     11.0     0.0    9209.0       72.5      32.0   \n",
       "244934     75000.0  ...     13.0     0.0    8775.0       30.5      28.0   \n",
       "273319     50000.0  ...     14.0     0.0   26633.0       54.8      39.0   \n",
       "282860     71000.0  ...     10.0     0.0   39598.0       91.6      23.0   \n",
       "314633     34000.0  ...      9.0     0.0   12466.0       76.5      16.0   \n",
       "329010     90000.0  ...      9.0     0.0   35318.0       92.7      23.0   \n",
       "352905     40000.0  ...      7.0     0.0    9945.0       96.6      18.0   \n",
       "360708     56500.0  ...     11.0     0.0   26601.0       79.9      22.0   \n",
       "367076     30000.0  ...      5.0     0.0   13250.0       31.8       7.0   \n",
       "374515     45000.0  ...      6.0     0.0    8345.0       51.5      12.0   \n",
       "394054     72000.0  ...     15.0     0.0   42028.0       84.4      29.0   \n",
       "395612     55000.0  ...      7.0     0.0   10525.0       82.2      16.0   \n",
       "\n",
       "        initial_list_status application_type  mort_acc  pub_rec_bankruptcies  \\\n",
       "9949                      f       INDIVIDUAL       NaN                   NaN   \n",
       "48022                     f       INDIVIDUAL       0.0                   0.0   \n",
       "54698                     f       INDIVIDUAL       0.0                   0.0   \n",
       "66859                     f       INDIVIDUAL       1.0                   0.0   \n",
       "71826                     f       INDIVIDUAL       3.0                   0.0   \n",
       "84015                     f       INDIVIDUAL       3.0                   0.0   \n",
       "89376                     f       INDIVIDUAL       1.0                   0.0   \n",
       "99298                     f       INDIVIDUAL       7.0                   0.0   \n",
       "113330                    f       INDIVIDUAL       NaN                   NaN   \n",
       "131506                    w       INDIVIDUAL       2.0                   0.0   \n",
       "146542                    f       INDIVIDUAL       2.0                   0.0   \n",
       "156252                    f       INDIVIDUAL       0.0                   0.0   \n",
       "164092                    f       INDIVIDUAL       0.0                   0.0   \n",
       "164820                    f       INDIVIDUAL       0.0                   0.0   \n",
       "174038                    f       INDIVIDUAL       4.0                   0.0   \n",
       "188699                    f       INDIVIDUAL       3.0                   0.0   \n",
       "189952                    f       INDIVIDUAL       1.0                   0.0   \n",
       "194811                    f       INDIVIDUAL       0.0                   0.0   \n",
       "211886                    f       INDIVIDUAL       0.0                   0.0   \n",
       "234556                    f       INDIVIDUAL       5.0                   0.0   \n",
       "244934                    f       INDIVIDUAL       8.0                   0.0   \n",
       "273319                    f       INDIVIDUAL       6.0                   0.0   \n",
       "282860                    f       INDIVIDUAL       5.0                   0.0   \n",
       "314633                    f       INDIVIDUAL       0.0                   0.0   \n",
       "329010                    f       INDIVIDUAL       2.0                   0.0   \n",
       "352905                    f       INDIVIDUAL       1.0                   0.0   \n",
       "360708                    w       INDIVIDUAL       2.0                   0.0   \n",
       "367076                    f       INDIVIDUAL       0.0                   0.0   \n",
       "374515                    f       INDIVIDUAL       2.0                   0.0   \n",
       "394054                    f       INDIVIDUAL       2.0                   0.0   \n",
       "395612                    f       INDIVIDUAL       3.0                   0.0   \n",
       "\n",
       "                                                  address  \n",
       "9949      49911 Hays Mountains\\nSouth Tammyland, WI 22690  \n",
       "48022           13128 Ortiz Cliffs\\nHawkinsstad, OR 30723  \n",
       "54698   61466 Brennan Lake Suite 087\\nAustinton, IL 48052  \n",
       "66859   707 Gilmore Avenue Suite 887\\nAshleyland, MN 7...  \n",
       "71826         3457 Christine Terrace\\nFieldston, WA 22690  \n",
       "84015                          USNS Lindsey\\nFPO AE 29597  \n",
       "89376   630 Katherine Keys Suite 432\\nJasonberg, AZ 00813  \n",
       "99298   16971 Eric Mountains Suite 682\\nNorth Yolandav...  \n",
       "113330  70453 Miller Causeway Suite 497\\nNicoleburgh, ...  \n",
       "131506   0347 Evan Corners Suite 662\\nDiazmouth, ME 00813  \n",
       "146542  8029 Duran Heights Suite 335\\nTonyaview, NM 70466  \n",
       "156252           33053 Patel Club\\nDixonborough, RI 70466  \n",
       "164092        96754 Snyder Oval\\nMichelechester, MS 22690  \n",
       "164820      270 Gross Cape Apt. 863\\nWest Roger, VT 22690  \n",
       "174038  767 Gould Roads Apt. 462\\nSouth Ericside, GA 3...  \n",
       "188699              6899 Tracy Cove\\nNorth John, KY 11650  \n",
       "189952             399 Tanner Landing\\nHuntfort, OK 00813  \n",
       "194811           3158 Natalie Green\\nShaneburgh, DE 70466  \n",
       "211886               485 Amy Field\\nHendrixbury, NV 70466  \n",
       "234556  94741 Price Fort Suite 740\\nAcostaburgh, ND 00813  \n",
       "244934   51640 Meghan Heights\\nSouth Edwardfort, OR 22690  \n",
       "273319      42147 Gonzalez Crossroad\\nAverytown, CT 70466  \n",
       "282860                   PSC 0563, Box 2408\\nAPO AA 22690  \n",
       "314633                   Unit 9797 Box 5432\\nDPO AA 05113  \n",
       "329010  3998 Howard Spring Apt. 117\\nPort Lawrence, AZ...  \n",
       "352905          1543 Brown Garden\\nJasonchester, CA 93700  \n",
       "360708                         USCGC Mccall\\nFPO AE 30723  \n",
       "367076  220 Mercado Stravenue Suite 834\\nSouth Joseph,...  \n",
       "374515          0536 Paul Brook\\nEast Erichaven, HI 00813  \n",
       "394054    9021 Osborne Brook Apt. 401\\nJosefort, NJ 05113  \n",
       "395612            812 Sarah Track\\nLake Katelyn, SC 70466  \n",
       "\n",
       "[31 rows x 27 columns]"
      ]
     },
     "execution_count": 24,
     "metadata": {},
     "output_type": "execute_result"
    }
   ],
   "source": [
    "df_lnclb_data[df_lnclb_data[\"home_ownership\"]==\"NONE\"]"
   ]
  },
  {
   "cell_type": "markdown",
   "id": "9d4debae",
   "metadata": {},
   "source": [
    "Conversion function:"
   ]
  },
  {
   "cell_type": "code",
   "execution_count": 25,
   "id": "7da2d562",
   "metadata": {},
   "outputs": [],
   "source": [
    "def normalize_home_ownership(in_str):\n",
    "    if (in_str == \"NONE\") or (in_str == \"ANY\") or (in_str == \"OTHER\"):\n",
    "        return 0\n",
    "    elif (in_str == \"RENT\"):\n",
    "        return 1\n",
    "    elif (in_str == \"MORTGAGE\"):\n",
    "        return 2\n",
    "    elif (in_str == \"OWN\"):\n",
    "        return 3"
   ]
  },
  {
   "cell_type": "markdown",
   "id": "dda5e31a",
   "metadata": {},
   "source": [
    "#### verification_status\n",
    "\n",
    "Categorical feature with the following values:"
   ]
  },
  {
   "cell_type": "code",
   "execution_count": 26,
   "id": "1b91bc2e",
   "metadata": {},
   "outputs": [
    {
     "data": {
      "text/plain": [
       "Verified           139563\n",
       "Source Verified    131385\n",
       "Not Verified       125082\n",
       "Name: verification_status, dtype: int64"
      ]
     },
     "execution_count": 26,
     "metadata": {},
     "output_type": "execute_result"
    }
   ],
   "source": [
    "df_lnclb_data[\"verification_status\"].value_counts()"
   ]
  },
  {
   "cell_type": "code",
   "execution_count": 27,
   "id": "87d08490",
   "metadata": {},
   "outputs": [
    {
     "data": {
      "text/plain": [
       "0"
      ]
     },
     "execution_count": 27,
     "metadata": {},
     "output_type": "execute_result"
    }
   ],
   "source": [
    "len(df_lnclb_data[df_lnclb_data[\"verification_status\"].isnull()])"
   ]
  },
  {
   "cell_type": "markdown",
   "id": "f34562bb",
   "metadata": {},
   "source": [
    "* Same as above. We'll create the new feature verification_status_int by means of:"
   ]
  },
  {
   "cell_type": "code",
   "execution_count": 28,
   "id": "439dfb8f",
   "metadata": {},
   "outputs": [],
   "source": [
    "def normalize_verification_status(in_str):\n",
    "    if (in_str == \"Not Verified\"):\n",
    "        return 0\n",
    "    elif (in_str == \"Source Verified\"):\n",
    "        return 1\n",
    "    elif (in_str == \"Verified\"):\n",
    "        return 2"
   ]
  },
  {
   "cell_type": "markdown",
   "id": "992e7396",
   "metadata": {},
   "source": [
    "#### purpose\n",
    "\n",
    "Here:"
   ]
  },
  {
   "cell_type": "code",
   "execution_count": 29,
   "id": "a3b74a56",
   "metadata": {},
   "outputs": [
    {
     "data": {
      "text/plain": [
       "debt_consolidation    234507\n",
       "credit_card            83019\n",
       "home_improvement       24030\n",
       "other                  21185\n",
       "major_purchase          8790\n",
       "small_business          5701\n",
       "car                     4697\n",
       "medical                 4196\n",
       "moving                  2854\n",
       "vacation                2452\n",
       "house                   2201\n",
       "wedding                 1812\n",
       "renewable_energy         329\n",
       "educational              257\n",
       "Name: purpose, dtype: int64"
      ]
     },
     "execution_count": 29,
     "metadata": {},
     "output_type": "execute_result"
    }
   ],
   "source": [
    "df_lnclb_data[\"purpose\"].value_counts()"
   ]
  },
  {
   "cell_type": "code",
   "execution_count": 30,
   "id": "cf66a3e3",
   "metadata": {},
   "outputs": [
    {
     "data": {
      "text/plain": [
       "'debt_consolidation'"
      ]
     },
     "execution_count": 30,
     "metadata": {},
     "output_type": "execute_result"
    }
   ],
   "source": [
    "df_lnclb_data[\"purpose\"].iloc[10]"
   ]
  },
  {
   "cell_type": "code",
   "execution_count": 31,
   "id": "03ff3656",
   "metadata": {},
   "outputs": [
    {
     "data": {
      "text/html": [
       "<div>\n",
       "<style scoped>\n",
       "    .dataframe tbody tr th:only-of-type {\n",
       "        vertical-align: middle;\n",
       "    }\n",
       "\n",
       "    .dataframe tbody tr th {\n",
       "        vertical-align: top;\n",
       "    }\n",
       "\n",
       "    .dataframe thead th {\n",
       "        text-align: right;\n",
       "    }\n",
       "</style>\n",
       "<table border=\"1\" class=\"dataframe\">\n",
       "  <thead>\n",
       "    <tr style=\"text-align: right;\">\n",
       "      <th></th>\n",
       "      <th>loan_amnt</th>\n",
       "      <th>term</th>\n",
       "      <th>int_rate</th>\n",
       "      <th>installment</th>\n",
       "      <th>grade</th>\n",
       "      <th>sub_grade</th>\n",
       "      <th>emp_title</th>\n",
       "      <th>emp_length</th>\n",
       "      <th>home_ownership</th>\n",
       "      <th>annual_inc</th>\n",
       "      <th>...</th>\n",
       "      <th>open_acc</th>\n",
       "      <th>pub_rec</th>\n",
       "      <th>revol_bal</th>\n",
       "      <th>revol_util</th>\n",
       "      <th>total_acc</th>\n",
       "      <th>initial_list_status</th>\n",
       "      <th>application_type</th>\n",
       "      <th>mort_acc</th>\n",
       "      <th>pub_rec_bankruptcies</th>\n",
       "      <th>address</th>\n",
       "    </tr>\n",
       "  </thead>\n",
       "  <tbody>\n",
       "    <tr>\n",
       "      <th>1</th>\n",
       "      <td>8000.0</td>\n",
       "      <td>36 months</td>\n",
       "      <td>11.99</td>\n",
       "      <td>265.68</td>\n",
       "      <td>B</td>\n",
       "      <td>B5</td>\n",
       "      <td>Credit analyst</td>\n",
       "      <td>4 years</td>\n",
       "      <td>MORTGAGE</td>\n",
       "      <td>65000.0</td>\n",
       "      <td>...</td>\n",
       "      <td>17.0</td>\n",
       "      <td>0.0</td>\n",
       "      <td>20131.0</td>\n",
       "      <td>53.3</td>\n",
       "      <td>27.0</td>\n",
       "      <td>f</td>\n",
       "      <td>INDIVIDUAL</td>\n",
       "      <td>3.0</td>\n",
       "      <td>0.0</td>\n",
       "      <td>1076 Carney Fort Apt. 347\\nLoganmouth, SD 05113</td>\n",
       "    </tr>\n",
       "    <tr>\n",
       "      <th>5</th>\n",
       "      <td>20000.0</td>\n",
       "      <td>36 months</td>\n",
       "      <td>13.33</td>\n",
       "      <td>677.07</td>\n",
       "      <td>C</td>\n",
       "      <td>C3</td>\n",
       "      <td>HR Specialist</td>\n",
       "      <td>10+ years</td>\n",
       "      <td>MORTGAGE</td>\n",
       "      <td>86788.0</td>\n",
       "      <td>...</td>\n",
       "      <td>8.0</td>\n",
       "      <td>0.0</td>\n",
       "      <td>25757.0</td>\n",
       "      <td>100.6</td>\n",
       "      <td>23.0</td>\n",
       "      <td>f</td>\n",
       "      <td>INDIVIDUAL</td>\n",
       "      <td>4.0</td>\n",
       "      <td>0.0</td>\n",
       "      <td>1726 Cooper Passage Suite 129\\nNorth Deniseber...</td>\n",
       "    </tr>\n",
       "    <tr>\n",
       "      <th>8</th>\n",
       "      <td>18900.0</td>\n",
       "      <td>60 months</td>\n",
       "      <td>10.99</td>\n",
       "      <td>410.84</td>\n",
       "      <td>B</td>\n",
       "      <td>B3</td>\n",
       "      <td>Application Architect</td>\n",
       "      <td>10+ years</td>\n",
       "      <td>RENT</td>\n",
       "      <td>103000.0</td>\n",
       "      <td>...</td>\n",
       "      <td>13.0</td>\n",
       "      <td>0.0</td>\n",
       "      <td>18637.0</td>\n",
       "      <td>32.9</td>\n",
       "      <td>40.0</td>\n",
       "      <td>w</td>\n",
       "      <td>INDIVIDUAL</td>\n",
       "      <td>3.0</td>\n",
       "      <td>0.0</td>\n",
       "      <td>USCGC Tran\\nFPO AP 22690</td>\n",
       "    </tr>\n",
       "    <tr>\n",
       "      <th>9</th>\n",
       "      <td>26300.0</td>\n",
       "      <td>36 months</td>\n",
       "      <td>16.29</td>\n",
       "      <td>928.40</td>\n",
       "      <td>C</td>\n",
       "      <td>C5</td>\n",
       "      <td>Regado Biosciences</td>\n",
       "      <td>3 years</td>\n",
       "      <td>MORTGAGE</td>\n",
       "      <td>115000.0</td>\n",
       "      <td>...</td>\n",
       "      <td>13.0</td>\n",
       "      <td>0.0</td>\n",
       "      <td>22171.0</td>\n",
       "      <td>82.4</td>\n",
       "      <td>37.0</td>\n",
       "      <td>f</td>\n",
       "      <td>INDIVIDUAL</td>\n",
       "      <td>1.0</td>\n",
       "      <td>0.0</td>\n",
       "      <td>3390 Luis Rue\\nMauricestad, VA 00813</td>\n",
       "    </tr>\n",
       "    <tr>\n",
       "      <th>10</th>\n",
       "      <td>10000.0</td>\n",
       "      <td>36 months</td>\n",
       "      <td>13.11</td>\n",
       "      <td>337.47</td>\n",
       "      <td>B</td>\n",
       "      <td>B4</td>\n",
       "      <td>Sodexo</td>\n",
       "      <td>2 years</td>\n",
       "      <td>RENT</td>\n",
       "      <td>95000.0</td>\n",
       "      <td>...</td>\n",
       "      <td>5.0</td>\n",
       "      <td>1.0</td>\n",
       "      <td>4702.0</td>\n",
       "      <td>64.4</td>\n",
       "      <td>26.0</td>\n",
       "      <td>f</td>\n",
       "      <td>INDIVIDUAL</td>\n",
       "      <td>4.0</td>\n",
       "      <td>1.0</td>\n",
       "      <td>40245 Cody Drives\\nBartlettfort, NM 00813</td>\n",
       "    </tr>\n",
       "    <tr>\n",
       "      <th>...</th>\n",
       "      <td>...</td>\n",
       "      <td>...</td>\n",
       "      <td>...</td>\n",
       "      <td>...</td>\n",
       "      <td>...</td>\n",
       "      <td>...</td>\n",
       "      <td>...</td>\n",
       "      <td>...</td>\n",
       "      <td>...</td>\n",
       "      <td>...</td>\n",
       "      <td>...</td>\n",
       "      <td>...</td>\n",
       "      <td>...</td>\n",
       "      <td>...</td>\n",
       "      <td>...</td>\n",
       "      <td>...</td>\n",
       "      <td>...</td>\n",
       "      <td>...</td>\n",
       "      <td>...</td>\n",
       "      <td>...</td>\n",
       "      <td>...</td>\n",
       "    </tr>\n",
       "    <tr>\n",
       "      <th>396025</th>\n",
       "      <td>10000.0</td>\n",
       "      <td>60 months</td>\n",
       "      <td>10.99</td>\n",
       "      <td>217.38</td>\n",
       "      <td>B</td>\n",
       "      <td>B4</td>\n",
       "      <td>licensed bankere</td>\n",
       "      <td>2 years</td>\n",
       "      <td>RENT</td>\n",
       "      <td>40000.0</td>\n",
       "      <td>...</td>\n",
       "      <td>6.0</td>\n",
       "      <td>0.0</td>\n",
       "      <td>1990.0</td>\n",
       "      <td>34.3</td>\n",
       "      <td>23.0</td>\n",
       "      <td>w</td>\n",
       "      <td>INDIVIDUAL</td>\n",
       "      <td>0.0</td>\n",
       "      <td>0.0</td>\n",
       "      <td>12951 Williams Crossing\\nJohnnyville, DC 30723</td>\n",
       "    </tr>\n",
       "    <tr>\n",
       "      <th>396026</th>\n",
       "      <td>21000.0</td>\n",
       "      <td>36 months</td>\n",
       "      <td>12.29</td>\n",
       "      <td>700.42</td>\n",
       "      <td>C</td>\n",
       "      <td>C1</td>\n",
       "      <td>Agent</td>\n",
       "      <td>5 years</td>\n",
       "      <td>MORTGAGE</td>\n",
       "      <td>110000.0</td>\n",
       "      <td>...</td>\n",
       "      <td>6.0</td>\n",
       "      <td>0.0</td>\n",
       "      <td>43263.0</td>\n",
       "      <td>95.7</td>\n",
       "      <td>8.0</td>\n",
       "      <td>f</td>\n",
       "      <td>INDIVIDUAL</td>\n",
       "      <td>1.0</td>\n",
       "      <td>0.0</td>\n",
       "      <td>0114 Fowler Field Suite 028\\nRachelborough, LA...</td>\n",
       "    </tr>\n",
       "    <tr>\n",
       "      <th>396027</th>\n",
       "      <td>5000.0</td>\n",
       "      <td>36 months</td>\n",
       "      <td>9.99</td>\n",
       "      <td>161.32</td>\n",
       "      <td>B</td>\n",
       "      <td>B1</td>\n",
       "      <td>City Carrier</td>\n",
       "      <td>10+ years</td>\n",
       "      <td>RENT</td>\n",
       "      <td>56500.0</td>\n",
       "      <td>...</td>\n",
       "      <td>15.0</td>\n",
       "      <td>0.0</td>\n",
       "      <td>32704.0</td>\n",
       "      <td>66.9</td>\n",
       "      <td>23.0</td>\n",
       "      <td>f</td>\n",
       "      <td>INDIVIDUAL</td>\n",
       "      <td>0.0</td>\n",
       "      <td>0.0</td>\n",
       "      <td>953 Matthew Points Suite 414\\nReedfort, NY 70466</td>\n",
       "    </tr>\n",
       "    <tr>\n",
       "      <th>396028</th>\n",
       "      <td>21000.0</td>\n",
       "      <td>60 months</td>\n",
       "      <td>15.31</td>\n",
       "      <td>503.02</td>\n",
       "      <td>C</td>\n",
       "      <td>C2</td>\n",
       "      <td>Gracon Services, Inc</td>\n",
       "      <td>10+ years</td>\n",
       "      <td>MORTGAGE</td>\n",
       "      <td>64000.0</td>\n",
       "      <td>...</td>\n",
       "      <td>9.0</td>\n",
       "      <td>0.0</td>\n",
       "      <td>15704.0</td>\n",
       "      <td>53.8</td>\n",
       "      <td>20.0</td>\n",
       "      <td>f</td>\n",
       "      <td>INDIVIDUAL</td>\n",
       "      <td>5.0</td>\n",
       "      <td>0.0</td>\n",
       "      <td>7843 Blake Freeway Apt. 229\\nNew Michael, FL 2...</td>\n",
       "    </tr>\n",
       "    <tr>\n",
       "      <th>396029</th>\n",
       "      <td>2000.0</td>\n",
       "      <td>36 months</td>\n",
       "      <td>13.61</td>\n",
       "      <td>67.98</td>\n",
       "      <td>C</td>\n",
       "      <td>C2</td>\n",
       "      <td>Internal Revenue Service</td>\n",
       "      <td>10+ years</td>\n",
       "      <td>RENT</td>\n",
       "      <td>42996.0</td>\n",
       "      <td>...</td>\n",
       "      <td>3.0</td>\n",
       "      <td>0.0</td>\n",
       "      <td>4292.0</td>\n",
       "      <td>91.3</td>\n",
       "      <td>19.0</td>\n",
       "      <td>f</td>\n",
       "      <td>INDIVIDUAL</td>\n",
       "      <td>NaN</td>\n",
       "      <td>0.0</td>\n",
       "      <td>787 Michelle Causeway\\nBriannaton, AR 48052</td>\n",
       "    </tr>\n",
       "  </tbody>\n",
       "</table>\n",
       "<p>234507 rows × 27 columns</p>\n",
       "</div>"
      ],
      "text/plain": [
       "        loan_amnt        term  int_rate  installment grade sub_grade  \\\n",
       "1          8000.0   36 months     11.99       265.68     B        B5   \n",
       "5         20000.0   36 months     13.33       677.07     C        C3   \n",
       "8         18900.0   60 months     10.99       410.84     B        B3   \n",
       "9         26300.0   36 months     16.29       928.40     C        C5   \n",
       "10        10000.0   36 months     13.11       337.47     B        B4   \n",
       "...           ...         ...       ...          ...   ...       ...   \n",
       "396025    10000.0   60 months     10.99       217.38     B        B4   \n",
       "396026    21000.0   36 months     12.29       700.42     C        C1   \n",
       "396027     5000.0   36 months      9.99       161.32     B        B1   \n",
       "396028    21000.0   60 months     15.31       503.02     C        C2   \n",
       "396029     2000.0   36 months     13.61        67.98     C        C2   \n",
       "\n",
       "                       emp_title emp_length home_ownership  annual_inc  ...  \\\n",
       "1                Credit analyst     4 years       MORTGAGE     65000.0  ...   \n",
       "5                  HR Specialist  10+ years       MORTGAGE     86788.0  ...   \n",
       "8          Application Architect  10+ years           RENT    103000.0  ...   \n",
       "9             Regado Biosciences    3 years       MORTGAGE    115000.0  ...   \n",
       "10                        Sodexo    2 years           RENT     95000.0  ...   \n",
       "...                          ...        ...            ...         ...  ...   \n",
       "396025          licensed bankere    2 years           RENT     40000.0  ...   \n",
       "396026                     Agent    5 years       MORTGAGE    110000.0  ...   \n",
       "396027              City Carrier  10+ years           RENT     56500.0  ...   \n",
       "396028      Gracon Services, Inc  10+ years       MORTGAGE     64000.0  ...   \n",
       "396029  Internal Revenue Service  10+ years           RENT     42996.0  ...   \n",
       "\n",
       "       open_acc pub_rec revol_bal revol_util total_acc  initial_list_status  \\\n",
       "1          17.0     0.0   20131.0       53.3      27.0                    f   \n",
       "5           8.0     0.0   25757.0      100.6      23.0                    f   \n",
       "8          13.0     0.0   18637.0       32.9      40.0                    w   \n",
       "9          13.0     0.0   22171.0       82.4      37.0                    f   \n",
       "10          5.0     1.0    4702.0       64.4      26.0                    f   \n",
       "...         ...     ...       ...        ...       ...                  ...   \n",
       "396025      6.0     0.0    1990.0       34.3      23.0                    w   \n",
       "396026      6.0     0.0   43263.0       95.7       8.0                    f   \n",
       "396027     15.0     0.0   32704.0       66.9      23.0                    f   \n",
       "396028      9.0     0.0   15704.0       53.8      20.0                    f   \n",
       "396029      3.0     0.0    4292.0       91.3      19.0                    f   \n",
       "\n",
       "       application_type  mort_acc  pub_rec_bankruptcies  \\\n",
       "1            INDIVIDUAL       3.0                   0.0   \n",
       "5            INDIVIDUAL       4.0                   0.0   \n",
       "8            INDIVIDUAL       3.0                   0.0   \n",
       "9            INDIVIDUAL       1.0                   0.0   \n",
       "10           INDIVIDUAL       4.0                   1.0   \n",
       "...                 ...       ...                   ...   \n",
       "396025       INDIVIDUAL       0.0                   0.0   \n",
       "396026       INDIVIDUAL       1.0                   0.0   \n",
       "396027       INDIVIDUAL       0.0                   0.0   \n",
       "396028       INDIVIDUAL       5.0                   0.0   \n",
       "396029       INDIVIDUAL       NaN                   0.0   \n",
       "\n",
       "                                                  address  \n",
       "1         1076 Carney Fort Apt. 347\\nLoganmouth, SD 05113  \n",
       "5       1726 Cooper Passage Suite 129\\nNorth Deniseber...  \n",
       "8                                USCGC Tran\\nFPO AP 22690  \n",
       "9                    3390 Luis Rue\\nMauricestad, VA 00813  \n",
       "10              40245 Cody Drives\\nBartlettfort, NM 00813  \n",
       "...                                                   ...  \n",
       "396025     12951 Williams Crossing\\nJohnnyville, DC 30723  \n",
       "396026  0114 Fowler Field Suite 028\\nRachelborough, LA...  \n",
       "396027   953 Matthew Points Suite 414\\nReedfort, NY 70466  \n",
       "396028  7843 Blake Freeway Apt. 229\\nNew Michael, FL 2...  \n",
       "396029        787 Michelle Causeway\\nBriannaton, AR 48052  \n",
       "\n",
       "[234507 rows x 27 columns]"
      ]
     },
     "execution_count": 31,
     "metadata": {},
     "output_type": "execute_result"
    }
   ],
   "source": [
    "df_lnclb_data[df_lnclb_data[\"purpose\"]==\"debt_consolidation\"]"
   ]
  },
  {
   "cell_type": "code",
   "execution_count": 32,
   "id": "31267027",
   "metadata": {},
   "outputs": [
    {
     "data": {
      "text/plain": [
       "0"
      ]
     },
     "execution_count": 32,
     "metadata": {},
     "output_type": "execute_result"
    }
   ],
   "source": [
    "len(df_lnclb_data[df_lnclb_data[\"purpose\"].isnull()])"
   ]
  },
  {
   "cell_type": "markdown",
   "id": "b77e5e8c",
   "metadata": {},
   "source": [
    "* There are 15 categories here. I would normally group them by how risky they are. For training purposes however, I think it's better to just assign 15 integers"
   ]
  },
  {
   "cell_type": "code",
   "execution_count": 33,
   "id": "086301d2",
   "metadata": {},
   "outputs": [],
   "source": [
    "def normalize_purpose(in_str):\n",
    "    if (in_str==\"debt_consolidation\"):\n",
    "        return 0\n",
    "    elif (in_str==\"credit_card\"):\n",
    "        return 1\n",
    "    elif (in_str==\"home_improvement\"):\n",
    "        return 2\n",
    "    elif (in_str==\"other\"):\n",
    "        return 3\n",
    "    elif (in_str==\"major_purchase\"):\n",
    "        return 4\n",
    "    elif (in_str==\"small_business\"):\n",
    "        return 5\n",
    "    elif (in_str==\"car\"):\n",
    "        return 6\n",
    "    elif (in_str==\"medical\"):\n",
    "        return 7\n",
    "    elif (in_str==\"moving\"):\n",
    "        return 8\n",
    "    elif (in_str==\"vacation\"):\n",
    "        return 9\n",
    "    elif (in_str==\"house\"):\n",
    "        return 10\n",
    "    elif (in_str==\"wedding\"):\n",
    "        return 11\n",
    "    elif (in_str==\"renewable_energy\"):\n",
    "        return 12\n",
    "    elif (in_str==\"educational\"):\n",
    "        return 13"
   ]
  },
  {
   "cell_type": "markdown",
   "id": "04888c93",
   "metadata": {},
   "source": [
    "#### initial_list_status\n",
    "\n",
    "Here:"
   ]
  },
  {
   "cell_type": "code",
   "execution_count": 34,
   "id": "98ce66fc",
   "metadata": {},
   "outputs": [
    {
     "data": {
      "text/plain": [
       "f    238066\n",
       "w    157964\n",
       "Name: initial_list_status, dtype: int64"
      ]
     },
     "execution_count": 34,
     "metadata": {},
     "output_type": "execute_result"
    }
   ],
   "source": [
    "df_lnclb_data[\"initial_list_status\"].value_counts()"
   ]
  },
  {
   "cell_type": "code",
   "execution_count": 35,
   "id": "33cfde0c",
   "metadata": {},
   "outputs": [
    {
     "data": {
      "text/plain": [
       "0"
      ]
     },
     "execution_count": 35,
     "metadata": {},
     "output_type": "execute_result"
    }
   ],
   "source": [
    "len(df_lnclb_data[df_lnclb_data[\"initial_list_status\"].isnull()])"
   ]
  },
  {
   "cell_type": "code",
   "execution_count": 36,
   "id": "06c2eef6",
   "metadata": {},
   "outputs": [],
   "source": [
    "def normalize_initial_list_status(in_str):\n",
    "    if (in_str == \"f\"):\n",
    "        return 0\n",
    "    elif (in_str == \"w\"):\n",
    "        return 1"
   ]
  },
  {
   "cell_type": "markdown",
   "id": "7ae18f15",
   "metadata": {},
   "source": [
    "#### application_type\n",
    "\n",
    "value counts:"
   ]
  },
  {
   "cell_type": "code",
   "execution_count": 37,
   "id": "e85693c1",
   "metadata": {},
   "outputs": [
    {
     "data": {
      "text/plain": [
       "INDIVIDUAL    395319\n",
       "JOINT            425\n",
       "DIRECT_PAY       286\n",
       "Name: application_type, dtype: int64"
      ]
     },
     "execution_count": 37,
     "metadata": {},
     "output_type": "execute_result"
    }
   ],
   "source": [
    "df_lnclb_data[\"application_type\"].value_counts()"
   ]
  },
  {
   "cell_type": "code",
   "execution_count": 38,
   "id": "3115b973",
   "metadata": {},
   "outputs": [
    {
     "data": {
      "text/plain": [
       "0"
      ]
     },
     "execution_count": 38,
     "metadata": {},
     "output_type": "execute_result"
    }
   ],
   "source": [
    "len(df_lnclb_data[df_lnclb_data[\"application_type\"].isnull()])"
   ]
  },
  {
   "cell_type": "code",
   "execution_count": 39,
   "id": "826c7fa2",
   "metadata": {},
   "outputs": [],
   "source": [
    "def normalize_application_type(in_str):\n",
    "    if (in_str == \"INDIVIDUAL\"):\n",
    "        return 0\n",
    "    elif (in_str == \"JOINT\"):\n",
    "        return 1\n",
    "    elif (in_str == \"DIRECT_PAY\"):\n",
    "        return 2"
   ]
  },
  {
   "cell_type": "markdown",
   "id": "ed0f0192",
   "metadata": {},
   "source": [
    "#### loan_status\n",
    "\n",
    "I'll also replace the target feature with *loan_status_int*"
   ]
  },
  {
   "cell_type": "code",
   "execution_count": 40,
   "id": "91658153",
   "metadata": {},
   "outputs": [
    {
     "data": {
      "text/plain": [
       "Fully Paid     318357\n",
       "Charged Off     77673\n",
       "Name: loan_status, dtype: int64"
      ]
     },
     "execution_count": 40,
     "metadata": {},
     "output_type": "execute_result"
    }
   ],
   "source": [
    "df_lnclb_data[\"loan_status\"].value_counts()"
   ]
  },
  {
   "cell_type": "code",
   "execution_count": 41,
   "id": "d14703b3",
   "metadata": {},
   "outputs": [
    {
     "data": {
      "text/plain": [
       "0"
      ]
     },
     "execution_count": 41,
     "metadata": {},
     "output_type": "execute_result"
    }
   ],
   "source": [
    "len(df_lnclb_data[df_lnclb_data[\"initial_list_status\"].isnull()])"
   ]
  },
  {
   "cell_type": "code",
   "execution_count": 42,
   "id": "d21b82de",
   "metadata": {},
   "outputs": [
    {
     "data": {
      "text/plain": [
       "'Charged Off'"
      ]
     },
     "execution_count": 42,
     "metadata": {},
     "output_type": "execute_result"
    }
   ],
   "source": [
    "df_lnclb_data[\"loan_status\"].head().iloc[4]"
   ]
  },
  {
   "cell_type": "code",
   "execution_count": 43,
   "id": "4f046c4a",
   "metadata": {},
   "outputs": [],
   "source": [
    "def normalize_loan_status(in_str):\n",
    "    if (in_str == \"Charged Off\"):\n",
    "        return 0\n",
    "    elif (in_str == \"Fully Paid\"):\n",
    "        return 1"
   ]
  },
  {
   "cell_type": "markdown",
   "id": "38c19472",
   "metadata": {},
   "source": [
    "#### b.2 - Conversion of categorical features to int's"
   ]
  },
  {
   "cell_type": "markdown",
   "id": "cddc5214",
   "metadata": {},
   "source": [
    "* Drop the features we won't need:"
   ]
  },
  {
   "cell_type": "code",
   "execution_count": 44,
   "id": "f07c6391",
   "metadata": {},
   "outputs": [
    {
     "data": {
      "text/html": [
       "<div>\n",
       "<style scoped>\n",
       "    .dataframe tbody tr th:only-of-type {\n",
       "        vertical-align: middle;\n",
       "    }\n",
       "\n",
       "    .dataframe tbody tr th {\n",
       "        vertical-align: top;\n",
       "    }\n",
       "\n",
       "    .dataframe thead th {\n",
       "        text-align: right;\n",
       "    }\n",
       "</style>\n",
       "<table border=\"1\" class=\"dataframe\">\n",
       "  <thead>\n",
       "    <tr style=\"text-align: right;\">\n",
       "      <th></th>\n",
       "      <th>loan_amnt</th>\n",
       "      <th>term</th>\n",
       "      <th>int_rate</th>\n",
       "      <th>installment</th>\n",
       "      <th>emp_length</th>\n",
       "      <th>home_ownership</th>\n",
       "      <th>annual_inc</th>\n",
       "      <th>verification_status</th>\n",
       "      <th>loan_status</th>\n",
       "      <th>purpose</th>\n",
       "      <th>dti</th>\n",
       "      <th>open_acc</th>\n",
       "      <th>pub_rec</th>\n",
       "      <th>revol_bal</th>\n",
       "      <th>revol_util</th>\n",
       "      <th>total_acc</th>\n",
       "      <th>initial_list_status</th>\n",
       "      <th>application_type</th>\n",
       "      <th>mort_acc</th>\n",
       "      <th>pub_rec_bankruptcies</th>\n",
       "    </tr>\n",
       "  </thead>\n",
       "  <tbody>\n",
       "    <tr>\n",
       "      <th>396025</th>\n",
       "      <td>10000.0</td>\n",
       "      <td>60 months</td>\n",
       "      <td>10.99</td>\n",
       "      <td>217.38</td>\n",
       "      <td>2 years</td>\n",
       "      <td>RENT</td>\n",
       "      <td>40000.0</td>\n",
       "      <td>Source Verified</td>\n",
       "      <td>Fully Paid</td>\n",
       "      <td>debt_consolidation</td>\n",
       "      <td>15.63</td>\n",
       "      <td>6.0</td>\n",
       "      <td>0.0</td>\n",
       "      <td>1990.0</td>\n",
       "      <td>34.3</td>\n",
       "      <td>23.0</td>\n",
       "      <td>w</td>\n",
       "      <td>INDIVIDUAL</td>\n",
       "      <td>0.0</td>\n",
       "      <td>0.0</td>\n",
       "    </tr>\n",
       "    <tr>\n",
       "      <th>396026</th>\n",
       "      <td>21000.0</td>\n",
       "      <td>36 months</td>\n",
       "      <td>12.29</td>\n",
       "      <td>700.42</td>\n",
       "      <td>5 years</td>\n",
       "      <td>MORTGAGE</td>\n",
       "      <td>110000.0</td>\n",
       "      <td>Source Verified</td>\n",
       "      <td>Fully Paid</td>\n",
       "      <td>debt_consolidation</td>\n",
       "      <td>21.45</td>\n",
       "      <td>6.0</td>\n",
       "      <td>0.0</td>\n",
       "      <td>43263.0</td>\n",
       "      <td>95.7</td>\n",
       "      <td>8.0</td>\n",
       "      <td>f</td>\n",
       "      <td>INDIVIDUAL</td>\n",
       "      <td>1.0</td>\n",
       "      <td>0.0</td>\n",
       "    </tr>\n",
       "    <tr>\n",
       "      <th>396027</th>\n",
       "      <td>5000.0</td>\n",
       "      <td>36 months</td>\n",
       "      <td>9.99</td>\n",
       "      <td>161.32</td>\n",
       "      <td>10+ years</td>\n",
       "      <td>RENT</td>\n",
       "      <td>56500.0</td>\n",
       "      <td>Verified</td>\n",
       "      <td>Fully Paid</td>\n",
       "      <td>debt_consolidation</td>\n",
       "      <td>17.56</td>\n",
       "      <td>15.0</td>\n",
       "      <td>0.0</td>\n",
       "      <td>32704.0</td>\n",
       "      <td>66.9</td>\n",
       "      <td>23.0</td>\n",
       "      <td>f</td>\n",
       "      <td>INDIVIDUAL</td>\n",
       "      <td>0.0</td>\n",
       "      <td>0.0</td>\n",
       "    </tr>\n",
       "    <tr>\n",
       "      <th>396028</th>\n",
       "      <td>21000.0</td>\n",
       "      <td>60 months</td>\n",
       "      <td>15.31</td>\n",
       "      <td>503.02</td>\n",
       "      <td>10+ years</td>\n",
       "      <td>MORTGAGE</td>\n",
       "      <td>64000.0</td>\n",
       "      <td>Verified</td>\n",
       "      <td>Fully Paid</td>\n",
       "      <td>debt_consolidation</td>\n",
       "      <td>15.88</td>\n",
       "      <td>9.0</td>\n",
       "      <td>0.0</td>\n",
       "      <td>15704.0</td>\n",
       "      <td>53.8</td>\n",
       "      <td>20.0</td>\n",
       "      <td>f</td>\n",
       "      <td>INDIVIDUAL</td>\n",
       "      <td>5.0</td>\n",
       "      <td>0.0</td>\n",
       "    </tr>\n",
       "    <tr>\n",
       "      <th>396029</th>\n",
       "      <td>2000.0</td>\n",
       "      <td>36 months</td>\n",
       "      <td>13.61</td>\n",
       "      <td>67.98</td>\n",
       "      <td>10+ years</td>\n",
       "      <td>RENT</td>\n",
       "      <td>42996.0</td>\n",
       "      <td>Verified</td>\n",
       "      <td>Fully Paid</td>\n",
       "      <td>debt_consolidation</td>\n",
       "      <td>8.32</td>\n",
       "      <td>3.0</td>\n",
       "      <td>0.0</td>\n",
       "      <td>4292.0</td>\n",
       "      <td>91.3</td>\n",
       "      <td>19.0</td>\n",
       "      <td>f</td>\n",
       "      <td>INDIVIDUAL</td>\n",
       "      <td>NaN</td>\n",
       "      <td>0.0</td>\n",
       "    </tr>\n",
       "  </tbody>\n",
       "</table>\n",
       "</div>"
      ],
      "text/plain": [
       "        loan_amnt        term  int_rate  installment emp_length  \\\n",
       "396025    10000.0   60 months     10.99       217.38    2 years   \n",
       "396026    21000.0   36 months     12.29       700.42    5 years   \n",
       "396027     5000.0   36 months      9.99       161.32  10+ years   \n",
       "396028    21000.0   60 months     15.31       503.02  10+ years   \n",
       "396029     2000.0   36 months     13.61        67.98  10+ years   \n",
       "\n",
       "       home_ownership  annual_inc verification_status loan_status  \\\n",
       "396025           RENT     40000.0     Source Verified  Fully Paid   \n",
       "396026       MORTGAGE    110000.0     Source Verified  Fully Paid   \n",
       "396027           RENT     56500.0            Verified  Fully Paid   \n",
       "396028       MORTGAGE     64000.0            Verified  Fully Paid   \n",
       "396029           RENT     42996.0            Verified  Fully Paid   \n",
       "\n",
       "                   purpose    dti  open_acc  pub_rec  revol_bal  revol_util  \\\n",
       "396025  debt_consolidation  15.63       6.0      0.0     1990.0        34.3   \n",
       "396026  debt_consolidation  21.45       6.0      0.0    43263.0        95.7   \n",
       "396027  debt_consolidation  17.56      15.0      0.0    32704.0        66.9   \n",
       "396028  debt_consolidation  15.88       9.0      0.0    15704.0        53.8   \n",
       "396029  debt_consolidation   8.32       3.0      0.0     4292.0        91.3   \n",
       "\n",
       "        total_acc initial_list_status application_type  mort_acc  \\\n",
       "396025       23.0                   w       INDIVIDUAL       0.0   \n",
       "396026        8.0                   f       INDIVIDUAL       1.0   \n",
       "396027       23.0                   f       INDIVIDUAL       0.0   \n",
       "396028       20.0                   f       INDIVIDUAL       5.0   \n",
       "396029       19.0                   f       INDIVIDUAL       NaN   \n",
       "\n",
       "        pub_rec_bankruptcies  \n",
       "396025                   0.0  \n",
       "396026                   0.0  \n",
       "396027                   0.0  \n",
       "396028                   0.0  \n",
       "396029                   0.0  "
      ]
     },
     "execution_count": 44,
     "metadata": {},
     "output_type": "execute_result"
    }
   ],
   "source": [
    "df_lnclb_data = df_lnclb_data.drop(labels = [\"grade\", \"sub_grade\", \"emp_title\", \"title\", \"address\", \\\n",
    "                       \"issue_d\", \"earliest_cr_line\"], axis = 1)\n",
    "\n",
    "df_lnclb_data.tail()"
   ]
  },
  {
   "cell_type": "markdown",
   "id": "c1963777",
   "metadata": {},
   "source": [
    "\n",
    "* For each of: **term**, **emp_length**, **home_ownership**, **verification_status**, **purpose** (of loan), **initial_list_status** (binary), **application_type**, **loan_status** (the target)\n",
    "        - Create new column \n",
    "        - Apply normalizing function\n",
    "        - Remove categorical data"
   ]
  },
  {
   "cell_type": "code",
   "execution_count": 45,
   "id": "e85b47dd",
   "metadata": {},
   "outputs": [],
   "source": [
    "#### APPLY NORMALIZING FUNCTIONS ####\n",
    "# loan_status\n",
    "df_lnclb_data[\"loan_status_int\"] = df_lnclb_data[\"loan_status\"].apply(normalize_loan_status)\n",
    "# term\n",
    "df_lnclb_data[\"term_int\"] = df_lnclb_data[\"term\"].apply(normalize_term)\n",
    "# home_ownership\n",
    "df_lnclb_data[\"home_ownership_int\"] = df_lnclb_data[\"home_ownership\"].apply(normalize_home_ownership)\n",
    "# verification_status\n",
    "df_lnclb_data[\"verification_status_int\"] = df_lnclb_data[\"verification_status\"].apply(normalize_verification_status)\n",
    "# purpose\n",
    "df_lnclb_data[\"purpose_int\"] = df_lnclb_data[\"purpose\"].apply(normalize_purpose)\n",
    "# initial_list_status\n",
    "df_lnclb_data[\"initial_list_status_int\"] = df_lnclb_data[\"initial_list_status\"].apply(normalize_initial_list_status)\n",
    "# application_type\n",
    "df_lnclb_data[\"application_type_int\"] = df_lnclb_data[\"application_type\"].apply(normalize_application_type)\n",
    "# emp_length\n",
    "df_lnclb_data[\"emp_length_int\"] = df_lnclb_data[\"emp_length\"].apply(normalize_emp_length)\n",
    "\n",
    "#### IMPUTE emp_length ####\n",
    "# Get average\n",
    "emp_len_avg = np.round_(df_lnclb_data[df_lnclb_data[\"emp_length_int\"].isnull()==False][\"emp_length_int\"].mean())\n",
    "# Fill NaN entries\n",
    "df_lnclb_data[\"emp_length_int\"] = df_lnclb_data[\"emp_length_int\"].fillna(value = emp_len_avg)\n",
    "\n",
    "#### DROP CATEGORICAL FEATURES ####\n",
    "df_lnclb_data = df_lnclb_data.drop( labels = [\"loan_status\", \"term\", \"home_ownership\", \"verification_status\", \\\n",
    "                                            \"purpose\", \"initial_list_status\", \"application_type\", \"emp_length\"], axis = 1)"
   ]
  },
  {
   "cell_type": "markdown",
   "id": "9698e74c",
   "metadata": {},
   "source": [
    "### c) Missing values\n",
    "\n",
    "\n"
   ]
  },
  {
   "cell_type": "code",
   "execution_count": 55,
   "id": "719aefad",
   "metadata": {
    "scrolled": false
   },
   "outputs": [
    {
     "data": {
      "text/plain": [
       "<AxesSubplot:>"
      ]
     },
     "execution_count": 55,
     "metadata": {},
     "output_type": "execute_result"
    },
    {
     "data": {
      "image/png": "[encoded data removed]",
      "text/plain": [
       "<Figure size 720x864 with 2 Axes>"
      ]
     },
     "metadata": {
      "needs_background": "light"
     },
     "output_type": "display_data"
    }
   ],
   "source": [
    "plt.figure(figsize= (10,12))\n",
    "sns.heatmap(df_lnclb_data.isnull(), cmap = \"viridis\")"
   ]
  },
  {
   "cell_type": "markdown",
   "id": "d5a0b75e",
   "metadata": {},
   "source": [
    "* We now have the following list of features with missing values:"
   ]
  },
  {
   "cell_type": "code",
   "execution_count": 63,
   "id": "8a80ac9f",
   "metadata": {},
   "outputs": [
    {
     "name": "stdout",
     "output_type": "stream",
     "text": [
      "There are 276 values missing from column revol_util\n",
      "There are 37795 values missing from column mort_acc\n",
      "There are 535 values missing from column pub_rec_bankruptcies\n"
     ]
    }
   ],
   "source": [
    "for i in df_lnclb_data.columns:\n",
    "    no_nan = len(df_lnclb_data[df_lnclb_data[i].isnull()])\n",
    "    if (no_nan >0):\n",
    "        print(f\"There are {no_nan} values missing from column {i}\")"
   ]
  },
  {
   "cell_type": "markdown",
   "id": "c902acbb",
   "metadata": {},
   "source": [
    "#### revol_util\n",
    "\n",
    "* I think it's OK to impute this one to the average too."
   ]
  },
  {
   "cell_type": "markdown",
   "id": "f58fdcdb",
   "metadata": {},
   "source": [
    "* Average of revol_util"
   ]
  },
  {
   "cell_type": "code",
   "execution_count": 74,
   "id": "a3d5468a",
   "metadata": {},
   "outputs": [],
   "source": [
    "avg_revol_util = df_lnclb_data[\"revol_util\"].mean()"
   ]
  },
  {
   "cell_type": "markdown",
   "id": "54ee8c8d",
   "metadata": {},
   "source": [
    "* Impute:"
   ]
  },
  {
   "cell_type": "code",
   "execution_count": 75,
   "id": "073c3424",
   "metadata": {},
   "outputs": [],
   "source": [
    "df_lnclb_data[\"revol_util\"] = df_lnclb_data[\"revol_util\"].fillna(value = avg_revol_util)"
   ]
  },
  {
   "cell_type": "code",
   "execution_count": 76,
   "id": "c24dde86",
   "metadata": {},
   "outputs": [
    {
     "data": {
      "text/plain": [
       "0"
      ]
     },
     "execution_count": 76,
     "metadata": {},
     "output_type": "execute_result"
    }
   ],
   "source": [
    "len(df_lnclb_data[df_lnclb_data[\"revol_util\"].isnull()])"
   ]
  },
  {
   "cell_type": "code",
   "execution_count": 77,
   "id": "ed48d78f",
   "metadata": {},
   "outputs": [
    {
     "data": {
      "text/plain": [
       "0         41.8\n",
       "1         53.3\n",
       "2         92.2\n",
       "3         21.5\n",
       "4         69.8\n",
       "          ... \n",
       "396025    34.3\n",
       "396026    95.7\n",
       "396027    66.9\n",
       "396028    53.8\n",
       "396029    91.3\n",
       "Name: revol_util, Length: 396030, dtype: float64"
      ]
     },
     "execution_count": 77,
     "metadata": {},
     "output_type": "execute_result"
    }
   ],
   "source": [
    "df_lnclb_data[\"revol_util\"]"
   ]
  },
  {
   "cell_type": "markdown",
   "id": "97a117b4",
   "metadata": {},
   "source": [
    "#### mort_acc\n",
    "\n",
    "* It doesn't seem sensible to discard these entries. They represent 9.5% of the data set.\n",
    "* I think the best way of treating the values here is to look at other features to which mort_acc is correlated. In fact mort_acc is most correlated to total_acc.\n",
    "* To fill the missing mort_acc values, we'll first group by the total_acc feature and the averages for each group. This will give us a dataframe with total_acc values as indices and the corresponding average number of mortgages in mort_acc. We'll have to write another function to pass in .apply(), and we'll have to round the averages."
   ]
  },
  {
   "cell_type": "code",
   "execution_count": 64,
   "id": "9a8d371d",
   "metadata": {},
   "outputs": [
    {
     "data": {
      "text/plain": [
       "Index(['loan_amnt', 'int_rate', 'installment', 'annual_inc', 'dti', 'open_acc',\n",
       "       'pub_rec', 'revol_bal', 'revol_util', 'total_acc', 'mort_acc',\n",
       "       'pub_rec_bankruptcies', 'loan_status_int', 'term_int',\n",
       "       'home_ownership_int', 'verification_status_int', 'purpose_int',\n",
       "       'initial_list_status_int', 'application_type_int', 'emp_length_int'],\n",
       "      dtype='object')"
      ]
     },
     "execution_count": 64,
     "metadata": {},
     "output_type": "execute_result"
    }
   ],
   "source": [
    "df_lnclb_data.columns"
   ]
  },
  {
   "cell_type": "code",
   "execution_count": 164,
   "id": "9d13bf58",
   "metadata": {},
   "outputs": [
    {
     "data": {
      "text/html": [
       "<div>\n",
       "<style scoped>\n",
       "    .dataframe tbody tr th:only-of-type {\n",
       "        vertical-align: middle;\n",
       "    }\n",
       "\n",
       "    .dataframe tbody tr th {\n",
       "        vertical-align: top;\n",
       "    }\n",
       "\n",
       "    .dataframe thead th {\n",
       "        text-align: right;\n",
       "    }\n",
       "</style>\n",
       "<table border=\"1\" class=\"dataframe\">\n",
       "  <thead>\n",
       "    <tr style=\"text-align: right;\">\n",
       "      <th></th>\n",
       "      <th>pub_rec_bankruptcies</th>\n",
       "      <th>application_type_int</th>\n",
       "      <th>total_acc</th>\n",
       "      <th>home_ownership_int</th>\n",
       "      <th>mort_acc</th>\n",
       "    </tr>\n",
       "  </thead>\n",
       "  <tbody>\n",
       "    <tr>\n",
       "      <th>0</th>\n",
       "      <td>0.0</td>\n",
       "      <td>0</td>\n",
       "      <td>25.0</td>\n",
       "      <td>1</td>\n",
       "      <td>0.0</td>\n",
       "    </tr>\n",
       "    <tr>\n",
       "      <th>1</th>\n",
       "      <td>0.0</td>\n",
       "      <td>0</td>\n",
       "      <td>27.0</td>\n",
       "      <td>2</td>\n",
       "      <td>3.0</td>\n",
       "    </tr>\n",
       "    <tr>\n",
       "      <th>2</th>\n",
       "      <td>0.0</td>\n",
       "      <td>0</td>\n",
       "      <td>26.0</td>\n",
       "      <td>1</td>\n",
       "      <td>0.0</td>\n",
       "    </tr>\n",
       "    <tr>\n",
       "      <th>3</th>\n",
       "      <td>0.0</td>\n",
       "      <td>0</td>\n",
       "      <td>13.0</td>\n",
       "      <td>1</td>\n",
       "      <td>0.0</td>\n",
       "    </tr>\n",
       "    <tr>\n",
       "      <th>4</th>\n",
       "      <td>0.0</td>\n",
       "      <td>0</td>\n",
       "      <td>43.0</td>\n",
       "      <td>2</td>\n",
       "      <td>1.0</td>\n",
       "    </tr>\n",
       "    <tr>\n",
       "      <th>...</th>\n",
       "      <td>...</td>\n",
       "      <td>...</td>\n",
       "      <td>...</td>\n",
       "      <td>...</td>\n",
       "      <td>...</td>\n",
       "    </tr>\n",
       "    <tr>\n",
       "      <th>396025</th>\n",
       "      <td>0.0</td>\n",
       "      <td>0</td>\n",
       "      <td>23.0</td>\n",
       "      <td>1</td>\n",
       "      <td>0.0</td>\n",
       "    </tr>\n",
       "    <tr>\n",
       "      <th>396026</th>\n",
       "      <td>0.0</td>\n",
       "      <td>0</td>\n",
       "      <td>8.0</td>\n",
       "      <td>2</td>\n",
       "      <td>1.0</td>\n",
       "    </tr>\n",
       "    <tr>\n",
       "      <th>396027</th>\n",
       "      <td>0.0</td>\n",
       "      <td>0</td>\n",
       "      <td>23.0</td>\n",
       "      <td>1</td>\n",
       "      <td>0.0</td>\n",
       "    </tr>\n",
       "    <tr>\n",
       "      <th>396028</th>\n",
       "      <td>0.0</td>\n",
       "      <td>0</td>\n",
       "      <td>20.0</td>\n",
       "      <td>2</td>\n",
       "      <td>5.0</td>\n",
       "    </tr>\n",
       "    <tr>\n",
       "      <th>396029</th>\n",
       "      <td>0.0</td>\n",
       "      <td>0</td>\n",
       "      <td>19.0</td>\n",
       "      <td>1</td>\n",
       "      <td>NaN</td>\n",
       "    </tr>\n",
       "  </tbody>\n",
       "</table>\n",
       "<p>396030 rows × 5 columns</p>\n",
       "</div>"
      ],
      "text/plain": [
       "        pub_rec_bankruptcies  application_type_int  total_acc  \\\n",
       "0                        0.0                     0       25.0   \n",
       "1                        0.0                     0       27.0   \n",
       "2                        0.0                     0       26.0   \n",
       "3                        0.0                     0       13.0   \n",
       "4                        0.0                     0       43.0   \n",
       "...                      ...                   ...        ...   \n",
       "396025                   0.0                     0       23.0   \n",
       "396026                   0.0                     0        8.0   \n",
       "396027                   0.0                     0       23.0   \n",
       "396028                   0.0                     0       20.0   \n",
       "396029                   0.0                     0       19.0   \n",
       "\n",
       "        home_ownership_int  mort_acc  \n",
       "0                        1       0.0  \n",
       "1                        2       3.0  \n",
       "2                        1       0.0  \n",
       "3                        1       0.0  \n",
       "4                        2       1.0  \n",
       "...                    ...       ...  \n",
       "396025                   1       0.0  \n",
       "396026                   2       1.0  \n",
       "396027                   1       0.0  \n",
       "396028                   2       5.0  \n",
       "396029                   1       NaN  \n",
       "\n",
       "[396030 rows x 5 columns]"
      ]
     },
     "execution_count": 164,
     "metadata": {},
     "output_type": "execute_result"
    }
   ],
   "source": [
    "df_temp_miss = df_lnclb_data[[\"pub_rec_bankruptcies\", \"application_type_int\",\"total_acc\", \"home_ownership_int\", \"mort_acc\"]]\n",
    "df_temp_miss"
   ]
  },
  {
   "cell_type": "code",
   "execution_count": 165,
   "id": "1f829d49",
   "metadata": {},
   "outputs": [
    {
     "data": {
      "text/html": [
       "<div>\n",
       "<style scoped>\n",
       "    .dataframe tbody tr th:only-of-type {\n",
       "        vertical-align: middle;\n",
       "    }\n",
       "\n",
       "    .dataframe tbody tr th {\n",
       "        vertical-align: top;\n",
       "    }\n",
       "\n",
       "    .dataframe thead th {\n",
       "        text-align: right;\n",
       "    }\n",
       "</style>\n",
       "<table border=\"1\" class=\"dataframe\">\n",
       "  <thead>\n",
       "    <tr style=\"text-align: right;\">\n",
       "      <th></th>\n",
       "      <th>pub_rec_bankruptcies</th>\n",
       "      <th>application_type_int</th>\n",
       "      <th>total_acc</th>\n",
       "      <th>home_ownership_int</th>\n",
       "      <th>mort_acc</th>\n",
       "    </tr>\n",
       "  </thead>\n",
       "  <tbody>\n",
       "    <tr>\n",
       "      <th>pub_rec_bankruptcies</th>\n",
       "      <td>1.000000</td>\n",
       "      <td>0.002581</td>\n",
       "      <td>0.042229</td>\n",
       "      <td>-0.005287</td>\n",
       "      <td>0.027667</td>\n",
       "    </tr>\n",
       "    <tr>\n",
       "      <th>application_type_int</th>\n",
       "      <td>0.002581</td>\n",
       "      <td>1.000000</td>\n",
       "      <td>0.010729</td>\n",
       "      <td>0.004794</td>\n",
       "      <td>-0.005065</td>\n",
       "    </tr>\n",
       "    <tr>\n",
       "      <th>total_acc</th>\n",
       "      <td>0.042229</td>\n",
       "      <td>0.010729</td>\n",
       "      <td>1.000000</td>\n",
       "      <td>0.161062</td>\n",
       "      <td>0.381191</td>\n",
       "    </tr>\n",
       "    <tr>\n",
       "      <th>home_ownership_int</th>\n",
       "      <td>-0.005287</td>\n",
       "      <td>0.004794</td>\n",
       "      <td>0.161062</td>\n",
       "      <td>1.000000</td>\n",
       "      <td>0.314011</td>\n",
       "    </tr>\n",
       "    <tr>\n",
       "      <th>mort_acc</th>\n",
       "      <td>0.027667</td>\n",
       "      <td>-0.005065</td>\n",
       "      <td>0.381191</td>\n",
       "      <td>0.314011</td>\n",
       "      <td>1.000000</td>\n",
       "    </tr>\n",
       "  </tbody>\n",
       "</table>\n",
       "</div>"
      ],
      "text/plain": [
       "                      pub_rec_bankruptcies  application_type_int  total_acc  \\\n",
       "pub_rec_bankruptcies              1.000000              0.002581   0.042229   \n",
       "application_type_int              0.002581              1.000000   0.010729   \n",
       "total_acc                         0.042229              0.010729   1.000000   \n",
       "home_ownership_int               -0.005287              0.004794   0.161062   \n",
       "mort_acc                          0.027667             -0.005065   0.381191   \n",
       "\n",
       "                      home_ownership_int  mort_acc  \n",
       "pub_rec_bankruptcies           -0.005287  0.027667  \n",
       "application_type_int            0.004794 -0.005065  \n",
       "total_acc                       0.161062  0.381191  \n",
       "home_ownership_int              1.000000  0.314011  \n",
       "mort_acc                        0.314011  1.000000  "
      ]
     },
     "execution_count": 165,
     "metadata": {},
     "output_type": "execute_result"
    }
   ],
   "source": [
    "df_temp_miss.corr()"
   ]
  },
  {
   "cell_type": "markdown",
   "id": "1194d922",
   "metadata": {},
   "source": [
    "* It looks like the mort_acc is heavily correlated with the number of total accounts (total_acc) and the home ownership."
   ]
  },
  {
   "cell_type": "code",
   "execution_count": 70,
   "id": "9838a40f",
   "metadata": {
    "collapsed": true
   },
   "outputs": [
    {
     "data": {
      "text/plain": [
       "21.0     14280\n",
       "22.0     14260\n",
       "20.0     14228\n",
       "23.0     13923\n",
       "24.0     13878\n",
       "         ...  \n",
       "103.0        1\n",
       "100.0        1\n",
       "117.0        1\n",
       "151.0        1\n",
       "129.0        1\n",
       "Name: total_acc, Length: 118, dtype: int64"
      ]
     },
     "execution_count": 70,
     "metadata": {},
     "output_type": "execute_result"
    }
   ],
   "source": [
    "df_temp_miss[\"total_acc\"].value_counts()"
   ]
  },
  {
   "cell_type": "code",
   "execution_count": 71,
   "id": "c339cfca",
   "metadata": {
    "collapsed": true
   },
   "outputs": [
    {
     "data": {
      "text/plain": [
       "0.0     139777\n",
       "1.0      60416\n",
       "2.0      49948\n",
       "3.0      38049\n",
       "4.0      27887\n",
       "5.0      18194\n",
       "6.0      11069\n",
       "7.0       6052\n",
       "8.0       3121\n",
       "9.0       1656\n",
       "10.0       865\n",
       "11.0       479\n",
       "12.0       264\n",
       "13.0       146\n",
       "14.0       107\n",
       "15.0        61\n",
       "16.0        37\n",
       "17.0        22\n",
       "18.0        18\n",
       "19.0        15\n",
       "20.0        13\n",
       "24.0        10\n",
       "22.0         7\n",
       "21.0         4\n",
       "25.0         4\n",
       "27.0         3\n",
       "23.0         2\n",
       "31.0         2\n",
       "26.0         2\n",
       "32.0         2\n",
       "28.0         1\n",
       "34.0         1\n",
       "30.0         1\n",
       "Name: mort_acc, dtype: int64"
      ]
     },
     "execution_count": 71,
     "metadata": {},
     "output_type": "execute_result"
    }
   ],
   "source": [
    "df_temp_miss[\"mort_acc\"].value_counts()"
   ]
  },
  {
   "cell_type": "code",
   "execution_count": 72,
   "id": "5a8cd671",
   "metadata": {
    "collapsed": true
   },
   "outputs": [
    {
     "data": {
      "text/plain": [
       "17.0    1437\n",
       "16.0    1427\n",
       "15.0    1424\n",
       "21.0    1386\n",
       "13.0    1367\n",
       "        ... \n",
       "90.0       1\n",
       "68.0       1\n",
       "71.0       1\n",
       "80.0       1\n",
       "87.0       1\n",
       "Name: total_acc, Length: 79, dtype: int64"
      ]
     },
     "execution_count": 72,
     "metadata": {},
     "output_type": "execute_result"
    }
   ],
   "source": [
    "df_temp_miss[df_temp_miss[\"mort_acc\"].isnull()][\"total_acc\"].value_counts()"
   ]
  },
  {
   "cell_type": "code",
   "execution_count": 97,
   "id": "363bd35a",
   "metadata": {
    "collapsed": true
   },
   "outputs": [
    {
     "name": "stdout",
     "output_type": "stream",
     "text": [
      "Help on function groupby in module pandas.core.frame:\n",
      "\n",
      "groupby(self, by=None, axis=0, level=None, as_index: 'bool' = True, sort: 'bool' = True, group_keys: 'bool' = True, squeeze: 'bool' = <object object at 0x00000145202BC590>, observed: 'bool' = False, dropna: 'bool' = True) -> 'DataFrameGroupBy'\n",
      "    Group DataFrame using a mapper or by a Series of columns.\n",
      "    \n",
      "    A groupby operation involves some combination of splitting the\n",
      "    object, applying a function, and combining the results. This can be\n",
      "    used to group large amounts of data and compute operations on these\n",
      "    groups.\n",
      "    \n",
      "    Parameters\n",
      "    ----------\n",
      "    by : mapping, function, label, or list of labels\n",
      "        Used to determine the groups for the groupby.\n",
      "        If ``by`` is a function, it's called on each value of the object's\n",
      "        index. If a dict or Series is passed, the Series or dict VALUES\n",
      "        will be used to determine the groups (the Series' values are first\n",
      "        aligned; see ``.align()`` method). If an ndarray is passed, the\n",
      "        values are used as-is to determine the groups. A label or list of\n",
      "        labels may be passed to group by the columns in ``self``. Notice\n",
      "        that a tuple is interpreted as a (single) key.\n",
      "    axis : {0 or 'index', 1 or 'columns'}, default 0\n",
      "        Split along rows (0) or columns (1).\n",
      "    level : int, level name, or sequence of such, default None\n",
      "        If the axis is a MultiIndex (hierarchical), group by a particular\n",
      "        level or levels.\n",
      "    as_index : bool, default True\n",
      "        For aggregated output, return object with group labels as the\n",
      "        index. Only relevant for DataFrame input. as_index=False is\n",
      "        effectively \"SQL-style\" grouped output.\n",
      "    sort : bool, default True\n",
      "        Sort group keys. Get better performance by turning this off.\n",
      "        Note this does not influence the order of observations within each\n",
      "        group. Groupby preserves the order of rows within each group.\n",
      "    group_keys : bool, default True\n",
      "        When calling apply, add group keys to index to identify pieces.\n",
      "    squeeze : bool, default False\n",
      "        Reduce the dimensionality of the return type if possible,\n",
      "        otherwise return a consistent type.\n",
      "    \n",
      "        .. deprecated:: 1.1.0\n",
      "    \n",
      "    observed : bool, default False\n",
      "        This only applies if any of the groupers are Categoricals.\n",
      "        If True: only show observed values for categorical groupers.\n",
      "        If False: show all values for categorical groupers.\n",
      "    dropna : bool, default True\n",
      "        If True, and if group keys contain NA values, NA values together\n",
      "        with row/column will be dropped.\n",
      "        If False, NA values will also be treated as the key in groups\n",
      "    \n",
      "        .. versionadded:: 1.1.0\n",
      "    \n",
      "    Returns\n",
      "    -------\n",
      "    DataFrameGroupBy\n",
      "        Returns a groupby object that contains information about the groups.\n",
      "    \n",
      "    See Also\n",
      "    --------\n",
      "    resample : Convenience method for frequency conversion and resampling\n",
      "        of time series.\n",
      "    \n",
      "    Notes\n",
      "    -----\n",
      "    See the `user guide\n",
      "    <https://pandas.pydata.org/pandas-docs/stable/groupby.html>`_ for more.\n",
      "    \n",
      "    Examples\n",
      "    --------\n",
      "    >>> df = pd.DataFrame({'Animal': ['Falcon', 'Falcon',\n",
      "    ...                               'Parrot', 'Parrot'],\n",
      "    ...                    'Max Speed': [380., 370., 24., 26.]})\n",
      "    >>> df\n",
      "       Animal  Max Speed\n",
      "    0  Falcon      380.0\n",
      "    1  Falcon      370.0\n",
      "    2  Parrot       24.0\n",
      "    3  Parrot       26.0\n",
      "    >>> df.groupby(['Animal']).mean()\n",
      "            Max Speed\n",
      "    Animal\n",
      "    Falcon      375.0\n",
      "    Parrot       25.0\n",
      "    \n",
      "    **Hierarchical Indexes**\n",
      "    \n",
      "    We can groupby different levels of a hierarchical index\n",
      "    using the `level` parameter:\n",
      "    \n",
      "    >>> arrays = [['Falcon', 'Falcon', 'Parrot', 'Parrot'],\n",
      "    ...           ['Captive', 'Wild', 'Captive', 'Wild']]\n",
      "    >>> index = pd.MultiIndex.from_arrays(arrays, names=('Animal', 'Type'))\n",
      "    >>> df = pd.DataFrame({'Max Speed': [390., 350., 30., 20.]},\n",
      "    ...                   index=index)\n",
      "    >>> df\n",
      "                    Max Speed\n",
      "    Animal Type\n",
      "    Falcon Captive      390.0\n",
      "           Wild         350.0\n",
      "    Parrot Captive       30.0\n",
      "           Wild          20.0\n",
      "    >>> df.groupby(level=0).mean()\n",
      "            Max Speed\n",
      "    Animal\n",
      "    Falcon      370.0\n",
      "    Parrot       25.0\n",
      "    >>> df.groupby(level=\"Type\").mean()\n",
      "             Max Speed\n",
      "    Type\n",
      "    Captive      210.0\n",
      "    Wild         185.0\n",
      "    \n",
      "    We can also choose to include NA in group keys or not by setting\n",
      "    `dropna` parameter, the default setting is `True`:\n",
      "    \n",
      "    >>> l = [[1, 2, 3], [1, None, 4], [2, 1, 3], [1, 2, 2]]\n",
      "    >>> df = pd.DataFrame(l, columns=[\"a\", \"b\", \"c\"])\n",
      "    \n",
      "    >>> df.groupby(by=[\"b\"]).sum()\n",
      "        a   c\n",
      "    b\n",
      "    1.0 2   3\n",
      "    2.0 2   5\n",
      "    \n",
      "    >>> df.groupby(by=[\"b\"], dropna=False).sum()\n",
      "        a   c\n",
      "    b\n",
      "    1.0 2   3\n",
      "    2.0 2   5\n",
      "    NaN 1   4\n",
      "    \n",
      "    >>> l = [[\"a\", 12, 12], [None, 12.3, 33.], [\"b\", 12.3, 123], [\"a\", 1, 1]]\n",
      "    >>> df = pd.DataFrame(l, columns=[\"a\", \"b\", \"c\"])\n",
      "    \n",
      "    >>> df.groupby(by=\"a\").sum()\n",
      "        b     c\n",
      "    a\n",
      "    a   13.0   13.0\n",
      "    b   12.3  123.0\n",
      "    \n",
      "    >>> df.groupby(by=\"a\", dropna=False).sum()\n",
      "        b     c\n",
      "    a\n",
      "    a   13.0   13.0\n",
      "    b   12.3  123.0\n",
      "    NaN 12.3   33.0\n",
      "\n"
     ]
    }
   ],
   "source": [
    "help(pd.DataFrame.groupby)"
   ]
  },
  {
   "cell_type": "markdown",
   "id": "53809f06",
   "metadata": {},
   "source": [
    "* Apply groupby and take .mean():"
   ]
  },
  {
   "cell_type": "code",
   "execution_count": 166,
   "id": "c6ab622a",
   "metadata": {},
   "outputs": [],
   "source": [
    "df_mort_acc_avg = df_temp_miss[[\"total_acc\", \"mort_acc\"]].groupby(\"total_acc\").mean()"
   ]
  },
  {
   "cell_type": "code",
   "execution_count": 167,
   "id": "d41d790c",
   "metadata": {
    "collapsed": true
   },
   "outputs": [
    {
     "data": {
      "text/html": [
       "<div>\n",
       "<style scoped>\n",
       "    .dataframe tbody tr th:only-of-type {\n",
       "        vertical-align: middle;\n",
       "    }\n",
       "\n",
       "    .dataframe tbody tr th {\n",
       "        vertical-align: top;\n",
       "    }\n",
       "\n",
       "    .dataframe thead th {\n",
       "        text-align: right;\n",
       "    }\n",
       "</style>\n",
       "<table border=\"1\" class=\"dataframe\">\n",
       "  <thead>\n",
       "    <tr style=\"text-align: right;\">\n",
       "      <th></th>\n",
       "      <th>mort_acc</th>\n",
       "    </tr>\n",
       "    <tr>\n",
       "      <th>total_acc</th>\n",
       "      <th></th>\n",
       "    </tr>\n",
       "  </thead>\n",
       "  <tbody>\n",
       "    <tr>\n",
       "      <th>2.0</th>\n",
       "      <td>0.000000</td>\n",
       "    </tr>\n",
       "    <tr>\n",
       "      <th>3.0</th>\n",
       "      <td>0.050847</td>\n",
       "    </tr>\n",
       "    <tr>\n",
       "      <th>4.0</th>\n",
       "      <td>0.065389</td>\n",
       "    </tr>\n",
       "    <tr>\n",
       "      <th>5.0</th>\n",
       "      <td>0.102480</td>\n",
       "    </tr>\n",
       "    <tr>\n",
       "      <th>6.0</th>\n",
       "      <td>0.150128</td>\n",
       "    </tr>\n",
       "    <tr>\n",
       "      <th>...</th>\n",
       "      <td>...</td>\n",
       "    </tr>\n",
       "    <tr>\n",
       "      <th>124.0</th>\n",
       "      <td>1.000000</td>\n",
       "    </tr>\n",
       "    <tr>\n",
       "      <th>129.0</th>\n",
       "      <td>1.000000</td>\n",
       "    </tr>\n",
       "    <tr>\n",
       "      <th>135.0</th>\n",
       "      <td>3.000000</td>\n",
       "    </tr>\n",
       "    <tr>\n",
       "      <th>150.0</th>\n",
       "      <td>2.000000</td>\n",
       "    </tr>\n",
       "    <tr>\n",
       "      <th>151.0</th>\n",
       "      <td>0.000000</td>\n",
       "    </tr>\n",
       "  </tbody>\n",
       "</table>\n",
       "<p>118 rows × 1 columns</p>\n",
       "</div>"
      ],
      "text/plain": [
       "           mort_acc\n",
       "total_acc          \n",
       "2.0        0.000000\n",
       "3.0        0.050847\n",
       "4.0        0.065389\n",
       "5.0        0.102480\n",
       "6.0        0.150128\n",
       "...             ...\n",
       "124.0      1.000000\n",
       "129.0      1.000000\n",
       "135.0      3.000000\n",
       "150.0      2.000000\n",
       "151.0      0.000000\n",
       "\n",
       "[118 rows x 1 columns]"
      ]
     },
     "execution_count": 167,
     "metadata": {},
     "output_type": "execute_result"
    }
   ],
   "source": [
    "df_mort_acc_avg"
   ]
  },
  {
   "cell_type": "code",
   "execution_count": 168,
   "id": "68382a88",
   "metadata": {},
   "outputs": [],
   "source": [
    "df_mort_acc_avg[\"mort_acc\"] = df_mort_acc_avg[\"mort_acc\"].apply(np.round_)"
   ]
  },
  {
   "cell_type": "code",
   "execution_count": 169,
   "id": "c6c49a8d",
   "metadata": {},
   "outputs": [
    {
     "data": {
      "text/html": [
       "<div>\n",
       "<style scoped>\n",
       "    .dataframe tbody tr th:only-of-type {\n",
       "        vertical-align: middle;\n",
       "    }\n",
       "\n",
       "    .dataframe tbody tr th {\n",
       "        vertical-align: top;\n",
       "    }\n",
       "\n",
       "    .dataframe thead th {\n",
       "        text-align: right;\n",
       "    }\n",
       "</style>\n",
       "<table border=\"1\" class=\"dataframe\">\n",
       "  <thead>\n",
       "    <tr style=\"text-align: right;\">\n",
       "      <th></th>\n",
       "      <th>mort_acc</th>\n",
       "    </tr>\n",
       "    <tr>\n",
       "      <th>total_acc</th>\n",
       "      <th></th>\n",
       "    </tr>\n",
       "  </thead>\n",
       "  <tbody>\n",
       "    <tr>\n",
       "      <th>2.0</th>\n",
       "      <td>0.0</td>\n",
       "    </tr>\n",
       "    <tr>\n",
       "      <th>3.0</th>\n",
       "      <td>0.0</td>\n",
       "    </tr>\n",
       "    <tr>\n",
       "      <th>4.0</th>\n",
       "      <td>0.0</td>\n",
       "    </tr>\n",
       "    <tr>\n",
       "      <th>5.0</th>\n",
       "      <td>0.0</td>\n",
       "    </tr>\n",
       "    <tr>\n",
       "      <th>6.0</th>\n",
       "      <td>0.0</td>\n",
       "    </tr>\n",
       "    <tr>\n",
       "      <th>...</th>\n",
       "      <td>...</td>\n",
       "    </tr>\n",
       "    <tr>\n",
       "      <th>124.0</th>\n",
       "      <td>1.0</td>\n",
       "    </tr>\n",
       "    <tr>\n",
       "      <th>129.0</th>\n",
       "      <td>1.0</td>\n",
       "    </tr>\n",
       "    <tr>\n",
       "      <th>135.0</th>\n",
       "      <td>3.0</td>\n",
       "    </tr>\n",
       "    <tr>\n",
       "      <th>150.0</th>\n",
       "      <td>2.0</td>\n",
       "    </tr>\n",
       "    <tr>\n",
       "      <th>151.0</th>\n",
       "      <td>0.0</td>\n",
       "    </tr>\n",
       "  </tbody>\n",
       "</table>\n",
       "<p>118 rows × 1 columns</p>\n",
       "</div>"
      ],
      "text/plain": [
       "           mort_acc\n",
       "total_acc          \n",
       "2.0             0.0\n",
       "3.0             0.0\n",
       "4.0             0.0\n",
       "5.0             0.0\n",
       "6.0             0.0\n",
       "...             ...\n",
       "124.0           1.0\n",
       "129.0           1.0\n",
       "135.0           3.0\n",
       "150.0           2.0\n",
       "151.0           0.0\n",
       "\n",
       "[118 rows x 1 columns]"
      ]
     },
     "execution_count": 169,
     "metadata": {},
     "output_type": "execute_result"
    }
   ],
   "source": [
    "df_mort_acc_avg"
   ]
  },
  {
   "cell_type": "code",
   "execution_count": 175,
   "id": "e0a2904a",
   "metadata": {},
   "outputs": [
    {
     "data": {
      "text/plain": [
       "0.0"
      ]
     },
     "execution_count": 175,
     "metadata": {},
     "output_type": "execute_result"
    }
   ],
   "source": [
    "df_mort_acc_avg.loc[7.0][\"mort_acc\"]"
   ]
  },
  {
   "cell_type": "code",
   "execution_count": 113,
   "id": "dacba431",
   "metadata": {},
   "outputs": [
    {
     "data": {
      "text/plain": [
       "396030"
      ]
     },
     "execution_count": 113,
     "metadata": {},
     "output_type": "execute_result"
    }
   ],
   "source": [
    "len(df_temp_miss)"
   ]
  },
  {
   "cell_type": "code",
   "execution_count": 170,
   "id": "fd931dd2",
   "metadata": {},
   "outputs": [
    {
     "data": {
      "text/plain": [
       "37260"
      ]
     },
     "execution_count": 170,
     "metadata": {},
     "output_type": "execute_result"
    }
   ],
   "source": [
    "len(df_temp_miss[df_temp_miss[\"mort_acc\"].isnull()])"
   ]
  },
  {
   "cell_type": "markdown",
   "id": "f717564e",
   "metadata": {},
   "source": [
    "* Here's our imputation function. Note how we have 2 arguments this time, and note we're using np.isnan as a condition. We'll apply this row-by-row with axis =1."
   ]
  },
  {
   "cell_type": "code",
   "execution_count": 176,
   "id": "3ce1a88b",
   "metadata": {},
   "outputs": [],
   "source": [
    "def imp_mort_acc(total_acc_col, mort_acc_col):\n",
    "    if (np.isnan(mort_acc_col) == True):\n",
    "        return df_mort_acc_avg.loc[total_acc_col]['mort_acc']\n",
    "    else:\n",
    "        return mort_acc_col"
   ]
  },
  {
   "cell_type": "code",
   "execution_count": 177,
   "id": "02e69f15",
   "metadata": {},
   "outputs": [
    {
     "name": "stderr",
     "output_type": "stream",
     "text": [
      "<ipython-input-177-c03ade82e8e7>:1: SettingWithCopyWarning: \n",
      "A value is trying to be set on a copy of a slice from a DataFrame.\n",
      "Try using .loc[row_indexer,col_indexer] = value instead\n",
      "\n",
      "See the caveats in the documentation: https://pandas.pydata.org/pandas-docs/stable/user_guide/indexing.html#returning-a-view-versus-a-copy\n",
      "  df_temp_miss[\"mort_acc_1\"] = df_temp_miss.apply(lambda x: imp_mort_acc(x['total_acc'], x['mort_acc']), axis = 1)\n"
     ]
    }
   ],
   "source": [
    "df_temp_miss[\"mort_acc_1\"] = df_temp_miss.apply(lambda x: imp_mort_acc(x['total_acc'], x['mort_acc']), axis = 1)"
   ]
  },
  {
   "cell_type": "code",
   "execution_count": 181,
   "id": "1b106624",
   "metadata": {},
   "outputs": [
    {
     "data": {
      "text/plain": [
       "37260"
      ]
     },
     "execution_count": 181,
     "metadata": {},
     "output_type": "execute_result"
    }
   ],
   "source": [
    "len(df_temp_miss[df_temp_miss[\"mort_acc\"].isnull()])"
   ]
  },
  {
   "cell_type": "code",
   "execution_count": 182,
   "id": "9f867ecd",
   "metadata": {},
   "outputs": [
    {
     "data": {
      "text/html": [
       "<div>\n",
       "<style scoped>\n",
       "    .dataframe tbody tr th:only-of-type {\n",
       "        vertical-align: middle;\n",
       "    }\n",
       "\n",
       "    .dataframe tbody tr th {\n",
       "        vertical-align: top;\n",
       "    }\n",
       "\n",
       "    .dataframe thead th {\n",
       "        text-align: right;\n",
       "    }\n",
       "</style>\n",
       "<table border=\"1\" class=\"dataframe\">\n",
       "  <thead>\n",
       "    <tr style=\"text-align: right;\">\n",
       "      <th></th>\n",
       "      <th>pub_rec_bankruptcies</th>\n",
       "      <th>application_type_int</th>\n",
       "      <th>total_acc</th>\n",
       "      <th>home_ownership_int</th>\n",
       "      <th>mort_acc</th>\n",
       "      <th>mort_acc_1</th>\n",
       "    </tr>\n",
       "  </thead>\n",
       "  <tbody>\n",
       "    <tr>\n",
       "      <th>0</th>\n",
       "      <td>0.0</td>\n",
       "      <td>0</td>\n",
       "      <td>25.0</td>\n",
       "      <td>1</td>\n",
       "      <td>0.0</td>\n",
       "      <td>0.0</td>\n",
       "    </tr>\n",
       "    <tr>\n",
       "      <th>1</th>\n",
       "      <td>0.0</td>\n",
       "      <td>0</td>\n",
       "      <td>27.0</td>\n",
       "      <td>2</td>\n",
       "      <td>3.0</td>\n",
       "      <td>3.0</td>\n",
       "    </tr>\n",
       "    <tr>\n",
       "      <th>2</th>\n",
       "      <td>0.0</td>\n",
       "      <td>0</td>\n",
       "      <td>26.0</td>\n",
       "      <td>1</td>\n",
       "      <td>0.0</td>\n",
       "      <td>0.0</td>\n",
       "    </tr>\n",
       "    <tr>\n",
       "      <th>3</th>\n",
       "      <td>0.0</td>\n",
       "      <td>0</td>\n",
       "      <td>13.0</td>\n",
       "      <td>1</td>\n",
       "      <td>0.0</td>\n",
       "      <td>0.0</td>\n",
       "    </tr>\n",
       "    <tr>\n",
       "      <th>4</th>\n",
       "      <td>0.0</td>\n",
       "      <td>0</td>\n",
       "      <td>43.0</td>\n",
       "      <td>2</td>\n",
       "      <td>1.0</td>\n",
       "      <td>1.0</td>\n",
       "    </tr>\n",
       "    <tr>\n",
       "      <th>...</th>\n",
       "      <td>...</td>\n",
       "      <td>...</td>\n",
       "      <td>...</td>\n",
       "      <td>...</td>\n",
       "      <td>...</td>\n",
       "      <td>...</td>\n",
       "    </tr>\n",
       "    <tr>\n",
       "      <th>396025</th>\n",
       "      <td>0.0</td>\n",
       "      <td>0</td>\n",
       "      <td>23.0</td>\n",
       "      <td>1</td>\n",
       "      <td>0.0</td>\n",
       "      <td>0.0</td>\n",
       "    </tr>\n",
       "    <tr>\n",
       "      <th>396026</th>\n",
       "      <td>0.0</td>\n",
       "      <td>0</td>\n",
       "      <td>8.0</td>\n",
       "      <td>2</td>\n",
       "      <td>1.0</td>\n",
       "      <td>1.0</td>\n",
       "    </tr>\n",
       "    <tr>\n",
       "      <th>396027</th>\n",
       "      <td>0.0</td>\n",
       "      <td>0</td>\n",
       "      <td>23.0</td>\n",
       "      <td>1</td>\n",
       "      <td>0.0</td>\n",
       "      <td>0.0</td>\n",
       "    </tr>\n",
       "    <tr>\n",
       "      <th>396028</th>\n",
       "      <td>0.0</td>\n",
       "      <td>0</td>\n",
       "      <td>20.0</td>\n",
       "      <td>2</td>\n",
       "      <td>5.0</td>\n",
       "      <td>5.0</td>\n",
       "    </tr>\n",
       "    <tr>\n",
       "      <th>396029</th>\n",
       "      <td>0.0</td>\n",
       "      <td>0</td>\n",
       "      <td>19.0</td>\n",
       "      <td>1</td>\n",
       "      <td>NaN</td>\n",
       "      <td>1.0</td>\n",
       "    </tr>\n",
       "  </tbody>\n",
       "</table>\n",
       "<p>396030 rows × 6 columns</p>\n",
       "</div>"
      ],
      "text/plain": [
       "        pub_rec_bankruptcies  application_type_int  total_acc  \\\n",
       "0                        0.0                     0       25.0   \n",
       "1                        0.0                     0       27.0   \n",
       "2                        0.0                     0       26.0   \n",
       "3                        0.0                     0       13.0   \n",
       "4                        0.0                     0       43.0   \n",
       "...                      ...                   ...        ...   \n",
       "396025                   0.0                     0       23.0   \n",
       "396026                   0.0                     0        8.0   \n",
       "396027                   0.0                     0       23.0   \n",
       "396028                   0.0                     0       20.0   \n",
       "396029                   0.0                     0       19.0   \n",
       "\n",
       "        home_ownership_int  mort_acc  mort_acc_1  \n",
       "0                        1       0.0         0.0  \n",
       "1                        2       3.0         3.0  \n",
       "2                        1       0.0         0.0  \n",
       "3                        1       0.0         0.0  \n",
       "4                        2       1.0         1.0  \n",
       "...                    ...       ...         ...  \n",
       "396025                   1       0.0         0.0  \n",
       "396026                   2       1.0         1.0  \n",
       "396027                   1       0.0         0.0  \n",
       "396028                   2       5.0         5.0  \n",
       "396029                   1       NaN         1.0  \n",
       "\n",
       "[396030 rows x 6 columns]"
      ]
     },
     "execution_count": 182,
     "metadata": {},
     "output_type": "execute_result"
    }
   ],
   "source": [
    "df_temp_miss"
   ]
  },
  {
   "cell_type": "code",
   "execution_count": 183,
   "id": "de21bc21",
   "metadata": {},
   "outputs": [
    {
     "data": {
      "text/html": [
       "<div>\n",
       "<style scoped>\n",
       "    .dataframe tbody tr th:only-of-type {\n",
       "        vertical-align: middle;\n",
       "    }\n",
       "\n",
       "    .dataframe tbody tr th {\n",
       "        vertical-align: top;\n",
       "    }\n",
       "\n",
       "    .dataframe thead th {\n",
       "        text-align: right;\n",
       "    }\n",
       "</style>\n",
       "<table border=\"1\" class=\"dataframe\">\n",
       "  <thead>\n",
       "    <tr style=\"text-align: right;\">\n",
       "      <th></th>\n",
       "      <th>pub_rec_bankruptcies</th>\n",
       "      <th>application_type_int</th>\n",
       "      <th>total_acc</th>\n",
       "      <th>home_ownership_int</th>\n",
       "      <th>mort_acc_1</th>\n",
       "    </tr>\n",
       "  </thead>\n",
       "  <tbody>\n",
       "    <tr>\n",
       "      <th>0</th>\n",
       "      <td>0.0</td>\n",
       "      <td>0</td>\n",
       "      <td>25.0</td>\n",
       "      <td>1</td>\n",
       "      <td>0.0</td>\n",
       "    </tr>\n",
       "    <tr>\n",
       "      <th>1</th>\n",
       "      <td>0.0</td>\n",
       "      <td>0</td>\n",
       "      <td>27.0</td>\n",
       "      <td>2</td>\n",
       "      <td>3.0</td>\n",
       "    </tr>\n",
       "    <tr>\n",
       "      <th>2</th>\n",
       "      <td>0.0</td>\n",
       "      <td>0</td>\n",
       "      <td>26.0</td>\n",
       "      <td>1</td>\n",
       "      <td>0.0</td>\n",
       "    </tr>\n",
       "    <tr>\n",
       "      <th>3</th>\n",
       "      <td>0.0</td>\n",
       "      <td>0</td>\n",
       "      <td>13.0</td>\n",
       "      <td>1</td>\n",
       "      <td>0.0</td>\n",
       "    </tr>\n",
       "    <tr>\n",
       "      <th>4</th>\n",
       "      <td>0.0</td>\n",
       "      <td>0</td>\n",
       "      <td>43.0</td>\n",
       "      <td>2</td>\n",
       "      <td>1.0</td>\n",
       "    </tr>\n",
       "    <tr>\n",
       "      <th>...</th>\n",
       "      <td>...</td>\n",
       "      <td>...</td>\n",
       "      <td>...</td>\n",
       "      <td>...</td>\n",
       "      <td>...</td>\n",
       "    </tr>\n",
       "    <tr>\n",
       "      <th>396025</th>\n",
       "      <td>0.0</td>\n",
       "      <td>0</td>\n",
       "      <td>23.0</td>\n",
       "      <td>1</td>\n",
       "      <td>0.0</td>\n",
       "    </tr>\n",
       "    <tr>\n",
       "      <th>396026</th>\n",
       "      <td>0.0</td>\n",
       "      <td>0</td>\n",
       "      <td>8.0</td>\n",
       "      <td>2</td>\n",
       "      <td>1.0</td>\n",
       "    </tr>\n",
       "    <tr>\n",
       "      <th>396027</th>\n",
       "      <td>0.0</td>\n",
       "      <td>0</td>\n",
       "      <td>23.0</td>\n",
       "      <td>1</td>\n",
       "      <td>0.0</td>\n",
       "    </tr>\n",
       "    <tr>\n",
       "      <th>396028</th>\n",
       "      <td>0.0</td>\n",
       "      <td>0</td>\n",
       "      <td>20.0</td>\n",
       "      <td>2</td>\n",
       "      <td>5.0</td>\n",
       "    </tr>\n",
       "    <tr>\n",
       "      <th>396029</th>\n",
       "      <td>0.0</td>\n",
       "      <td>0</td>\n",
       "      <td>19.0</td>\n",
       "      <td>1</td>\n",
       "      <td>1.0</td>\n",
       "    </tr>\n",
       "  </tbody>\n",
       "</table>\n",
       "<p>396030 rows × 5 columns</p>\n",
       "</div>"
      ],
      "text/plain": [
       "        pub_rec_bankruptcies  application_type_int  total_acc  \\\n",
       "0                        0.0                     0       25.0   \n",
       "1                        0.0                     0       27.0   \n",
       "2                        0.0                     0       26.0   \n",
       "3                        0.0                     0       13.0   \n",
       "4                        0.0                     0       43.0   \n",
       "...                      ...                   ...        ...   \n",
       "396025                   0.0                     0       23.0   \n",
       "396026                   0.0                     0        8.0   \n",
       "396027                   0.0                     0       23.0   \n",
       "396028                   0.0                     0       20.0   \n",
       "396029                   0.0                     0       19.0   \n",
       "\n",
       "        home_ownership_int  mort_acc_1  \n",
       "0                        1         0.0  \n",
       "1                        2         3.0  \n",
       "2                        1         0.0  \n",
       "3                        1         0.0  \n",
       "4                        2         1.0  \n",
       "...                    ...         ...  \n",
       "396025                   1         0.0  \n",
       "396026                   2         1.0  \n",
       "396027                   1         0.0  \n",
       "396028                   2         5.0  \n",
       "396029                   1         1.0  \n",
       "\n",
       "[396030 rows x 5 columns]"
      ]
     },
     "execution_count": 183,
     "metadata": {},
     "output_type": "execute_result"
    }
   ],
   "source": [
    "df_temp_miss = df_temp_miss.drop(labels = [\"mort_acc\"], axis =1 )\n",
    "df_temp_miss"
   ]
  },
  {
   "cell_type": "code",
   "execution_count": 184,
   "id": "f599e290",
   "metadata": {},
   "outputs": [
    {
     "data": {
      "text/html": [
       "<div>\n",
       "<style scoped>\n",
       "    .dataframe tbody tr th:only-of-type {\n",
       "        vertical-align: middle;\n",
       "    }\n",
       "\n",
       "    .dataframe tbody tr th {\n",
       "        vertical-align: top;\n",
       "    }\n",
       "\n",
       "    .dataframe thead th {\n",
       "        text-align: right;\n",
       "    }\n",
       "</style>\n",
       "<table border=\"1\" class=\"dataframe\">\n",
       "  <thead>\n",
       "    <tr style=\"text-align: right;\">\n",
       "      <th></th>\n",
       "      <th>pub_rec_bankruptcies</th>\n",
       "      <th>application_type_int</th>\n",
       "      <th>total_acc</th>\n",
       "      <th>home_ownership_int</th>\n",
       "      <th>mort_acc</th>\n",
       "    </tr>\n",
       "  </thead>\n",
       "  <tbody>\n",
       "    <tr>\n",
       "      <th>0</th>\n",
       "      <td>0.0</td>\n",
       "      <td>0</td>\n",
       "      <td>25.0</td>\n",
       "      <td>1</td>\n",
       "      <td>0.0</td>\n",
       "    </tr>\n",
       "    <tr>\n",
       "      <th>1</th>\n",
       "      <td>0.0</td>\n",
       "      <td>0</td>\n",
       "      <td>27.0</td>\n",
       "      <td>2</td>\n",
       "      <td>3.0</td>\n",
       "    </tr>\n",
       "    <tr>\n",
       "      <th>2</th>\n",
       "      <td>0.0</td>\n",
       "      <td>0</td>\n",
       "      <td>26.0</td>\n",
       "      <td>1</td>\n",
       "      <td>0.0</td>\n",
       "    </tr>\n",
       "    <tr>\n",
       "      <th>3</th>\n",
       "      <td>0.0</td>\n",
       "      <td>0</td>\n",
       "      <td>13.0</td>\n",
       "      <td>1</td>\n",
       "      <td>0.0</td>\n",
       "    </tr>\n",
       "    <tr>\n",
       "      <th>4</th>\n",
       "      <td>0.0</td>\n",
       "      <td>0</td>\n",
       "      <td>43.0</td>\n",
       "      <td>2</td>\n",
       "      <td>1.0</td>\n",
       "    </tr>\n",
       "    <tr>\n",
       "      <th>...</th>\n",
       "      <td>...</td>\n",
       "      <td>...</td>\n",
       "      <td>...</td>\n",
       "      <td>...</td>\n",
       "      <td>...</td>\n",
       "    </tr>\n",
       "    <tr>\n",
       "      <th>396025</th>\n",
       "      <td>0.0</td>\n",
       "      <td>0</td>\n",
       "      <td>23.0</td>\n",
       "      <td>1</td>\n",
       "      <td>0.0</td>\n",
       "    </tr>\n",
       "    <tr>\n",
       "      <th>396026</th>\n",
       "      <td>0.0</td>\n",
       "      <td>0</td>\n",
       "      <td>8.0</td>\n",
       "      <td>2</td>\n",
       "      <td>1.0</td>\n",
       "    </tr>\n",
       "    <tr>\n",
       "      <th>396027</th>\n",
       "      <td>0.0</td>\n",
       "      <td>0</td>\n",
       "      <td>23.0</td>\n",
       "      <td>1</td>\n",
       "      <td>0.0</td>\n",
       "    </tr>\n",
       "    <tr>\n",
       "      <th>396028</th>\n",
       "      <td>0.0</td>\n",
       "      <td>0</td>\n",
       "      <td>20.0</td>\n",
       "      <td>2</td>\n",
       "      <td>5.0</td>\n",
       "    </tr>\n",
       "    <tr>\n",
       "      <th>396029</th>\n",
       "      <td>0.0</td>\n",
       "      <td>0</td>\n",
       "      <td>19.0</td>\n",
       "      <td>1</td>\n",
       "      <td>1.0</td>\n",
       "    </tr>\n",
       "  </tbody>\n",
       "</table>\n",
       "<p>396030 rows × 5 columns</p>\n",
       "</div>"
      ],
      "text/plain": [
       "        pub_rec_bankruptcies  application_type_int  total_acc  \\\n",
       "0                        0.0                     0       25.0   \n",
       "1                        0.0                     0       27.0   \n",
       "2                        0.0                     0       26.0   \n",
       "3                        0.0                     0       13.0   \n",
       "4                        0.0                     0       43.0   \n",
       "...                      ...                   ...        ...   \n",
       "396025                   0.0                     0       23.0   \n",
       "396026                   0.0                     0        8.0   \n",
       "396027                   0.0                     0       23.0   \n",
       "396028                   0.0                     0       20.0   \n",
       "396029                   0.0                     0       19.0   \n",
       "\n",
       "        home_ownership_int  mort_acc  \n",
       "0                        1       0.0  \n",
       "1                        2       3.0  \n",
       "2                        1       0.0  \n",
       "3                        1       0.0  \n",
       "4                        2       1.0  \n",
       "...                    ...       ...  \n",
       "396025                   1       0.0  \n",
       "396026                   2       1.0  \n",
       "396027                   1       0.0  \n",
       "396028                   2       5.0  \n",
       "396029                   1       1.0  \n",
       "\n",
       "[396030 rows x 5 columns]"
      ]
     },
     "execution_count": 184,
     "metadata": {},
     "output_type": "execute_result"
    }
   ],
   "source": [
    "df_temp_miss = df_temp_miss.rename(columns = {\"mort_acc_1\":\"mort_acc\"})\n",
    "df_temp_miss"
   ]
  },
  {
   "cell_type": "code",
   "execution_count": 185,
   "id": "d635ebf2",
   "metadata": {},
   "outputs": [],
   "source": [
    "df_lnclb_data[\"mort_acc\"] = df_temp_miss[\"mort_acc\"]"
   ]
  },
  {
   "cell_type": "markdown",
   "id": "306cc558",
   "metadata": {},
   "source": [
    "#### pub_rec_bankruptcies\n",
    "\n",
    "This one has a 0.7 correlation with the number of derogatory public records."
   ]
  },
  {
   "cell_type": "code",
   "execution_count": 80,
   "id": "693e4d98",
   "metadata": {},
   "outputs": [
    {
     "data": {
      "text/html": [
       "<div>\n",
       "<style scoped>\n",
       "    .dataframe tbody tr th:only-of-type {\n",
       "        vertical-align: middle;\n",
       "    }\n",
       "\n",
       "    .dataframe tbody tr th {\n",
       "        vertical-align: top;\n",
       "    }\n",
       "\n",
       "    .dataframe thead th {\n",
       "        text-align: right;\n",
       "    }\n",
       "</style>\n",
       "<table border=\"1\" class=\"dataframe\">\n",
       "  <thead>\n",
       "    <tr style=\"text-align: right;\">\n",
       "      <th></th>\n",
       "      <th>int_rate</th>\n",
       "      <th>pub_rec</th>\n",
       "      <th>pub_rec_bankruptcies</th>\n",
       "    </tr>\n",
       "  </thead>\n",
       "  <tbody>\n",
       "    <tr>\n",
       "      <th>int_rate</th>\n",
       "      <td>1.000000</td>\n",
       "      <td>0.060986</td>\n",
       "      <td>0.057450</td>\n",
       "    </tr>\n",
       "    <tr>\n",
       "      <th>pub_rec</th>\n",
       "      <td>0.060986</td>\n",
       "      <td>1.000000</td>\n",
       "      <td>0.699408</td>\n",
       "    </tr>\n",
       "    <tr>\n",
       "      <th>pub_rec_bankruptcies</th>\n",
       "      <td>0.057450</td>\n",
       "      <td>0.699408</td>\n",
       "      <td>1.000000</td>\n",
       "    </tr>\n",
       "  </tbody>\n",
       "</table>\n",
       "</div>"
      ],
      "text/plain": [
       "                      int_rate   pub_rec  pub_rec_bankruptcies\n",
       "int_rate              1.000000  0.060986              0.057450\n",
       "pub_rec               0.060986  1.000000              0.699408\n",
       "pub_rec_bankruptcies  0.057450  0.699408              1.000000"
      ]
     },
     "execution_count": 80,
     "metadata": {},
     "output_type": "execute_result"
    }
   ],
   "source": [
    "df_lnclb_data[[\"int_rate\", \"pub_rec\", \"pub_rec_bankruptcies\"]].corr()"
   ]
  },
  {
   "cell_type": "code",
   "execution_count": 81,
   "id": "3463eba5",
   "metadata": {},
   "outputs": [
    {
     "data": {
      "text/plain": [
       "0.0    350380\n",
       "1.0     42790\n",
       "2.0      1847\n",
       "3.0       351\n",
       "4.0        82\n",
       "5.0        32\n",
       "6.0         7\n",
       "7.0         4\n",
       "8.0         2\n",
       "Name: pub_rec_bankruptcies, dtype: int64"
      ]
     },
     "execution_count": 81,
     "metadata": {},
     "output_type": "execute_result"
    }
   ],
   "source": [
    "df_lnclb_data[\"pub_rec_bankruptcies\"].value_counts()"
   ]
  },
  {
   "cell_type": "code",
   "execution_count": 82,
   "id": "623e087e",
   "metadata": {},
   "outputs": [
    {
     "data": {
      "text/plain": [
       "0.0     338272\n",
       "1.0      49739\n",
       "2.0       5476\n",
       "3.0       1521\n",
       "4.0        527\n",
       "5.0        237\n",
       "6.0        122\n",
       "7.0         56\n",
       "8.0         34\n",
       "9.0         12\n",
       "10.0        11\n",
       "11.0         8\n",
       "13.0         4\n",
       "12.0         4\n",
       "19.0         2\n",
       "15.0         1\n",
       "40.0         1\n",
       "86.0         1\n",
       "17.0         1\n",
       "24.0         1\n",
       "Name: pub_rec, dtype: int64"
      ]
     },
     "execution_count": 82,
     "metadata": {},
     "output_type": "execute_result"
    }
   ],
   "source": [
    "df_lnclb_data[\"pub_rec\"].value_counts()"
   ]
  },
  {
   "cell_type": "markdown",
   "id": "64ad37aa",
   "metadata": {},
   "source": [
    "* It looks like most missing pub_rec_bankruptcies are 0:"
   ]
  },
  {
   "cell_type": "code",
   "execution_count": 84,
   "id": "0ae2146b",
   "metadata": {},
   "outputs": [
    {
     "data": {
      "text/plain": [
       "0.0    517\n",
       "1.0     17\n",
       "2.0      1\n",
       "Name: pub_rec, dtype: int64"
      ]
     },
     "execution_count": 84,
     "metadata": {},
     "output_type": "execute_result"
    }
   ],
   "source": [
    "df_lnclb_data[df_lnclb_data[\"pub_rec_bankruptcies\"].isnull()][\"pub_rec\"].value_counts()"
   ]
  },
  {
   "cell_type": "markdown",
   "id": "a127f28f",
   "metadata": {},
   "source": [
    "* Setting all these to 0 wouldn't have any statistical impact (at worst, adding 0.004\\% mistakes)."
   ]
  },
  {
   "cell_type": "code",
   "execution_count": 92,
   "id": "f9e4ea74",
   "metadata": {},
   "outputs": [],
   "source": [
    "df_lnclb_data[df_lnclb_data[\"pub_rec_bankruptcies\"].isnull()] = df_lnclb_data[df_lnclb_data[\"pub_rec_bankruptcies\"].isnull()].fillna(0)"
   ]
  },
  {
   "cell_type": "code",
   "execution_count": null,
   "id": "8eb36a3c",
   "metadata": {},
   "outputs": [],
   "source": []
  },
  {
   "cell_type": "code",
   "execution_count": null,
   "id": "ce406004",
   "metadata": {},
   "outputs": [],
   "source": []
  },
  {
   "cell_type": "code",
   "execution_count": 186,
   "id": "79c0c08d",
   "metadata": {},
   "outputs": [],
   "source": [
    "for i in df_lnclb_data.columns:\n",
    "    no_nan = len(df_lnclb_data[df_lnclb_data[i].isnull()])\n",
    "    if (no_nan >0):\n",
    "        print(f\"There are {no_nan} values missing from column {i}\")"
   ]
  },
  {
   "cell_type": "markdown",
   "id": "ba073d8f",
   "metadata": {},
   "source": [
    "### SAVE ###\n",
    "\n",
    "Converting everything to int's reduces the disk space of the data by 63%. Resulting file is 35mb."
   ]
  },
  {
   "cell_type": "code",
   "execution_count": 187,
   "id": "ba8e1075",
   "metadata": {},
   "outputs": [],
   "source": [
    "df_lnclb_data.to_csv(\"lenders_club_data_clean_AJZer.csv\")"
   ]
  },
  {
   "cell_type": "code",
   "execution_count": 188,
   "id": "33f0b948",
   "metadata": {},
   "outputs": [
    {
     "data": {
      "text/plain": [
       "<AxesSubplot:>"
      ]
     },
     "execution_count": 188,
     "metadata": {},
     "output_type": "execute_result"
    },
    {
     "data": {
      "image/png": "[encoded data removed]",
      "text/plain": [
       "<Figure size 432x288 with 2 Axes>"
      ]
     },
     "metadata": {
      "needs_background": "light"
     },
     "output_type": "display_data"
    }
   ],
   "source": [
    "sns.heatmap(df_lnclb_data.isnull(), cmap=\"viridis\")"
   ]
  },
  {
   "cell_type": "markdown",
   "id": "c5acc550",
   "metadata": {},
   "source": [
    "## 2) Exploratory data analysis (Attempt 2)\n",
    "\n",
    "**REMARK:** Everything in this section should be executed **after** making the imports and loading *df_lnclb_data* and *df_lnclb_info*.\n",
    "\n",
    "Here we'll do most of what we did above:\n",
    "\n",
    "- We'll drop irrelevant features.\n",
    "    \n",
    "- We'll treat the missing data as before.\n",
    "    \n",
    "- Instead of converting non-binary categorical to integer codes, we'll use dummy labels (.getdummies())."
   ]
  },
  {
   "cell_type": "markdown",
   "id": "08ad7d0f",
   "metadata": {},
   "source": [
    "### a) Irrelevant features and missing data"
   ]
  },
  {
   "cell_type": "markdown",
   "id": "b52741f7",
   "metadata": {},
   "source": [
    "* Drop the features:"
   ]
  },
  {
   "cell_type": "code",
   "execution_count": 6,
   "id": "1cefe66f",
   "metadata": {},
   "outputs": [
    {
     "data": {
      "text/html": [
       "<div>\n",
       "<style scoped>\n",
       "    .dataframe tbody tr th:only-of-type {\n",
       "        vertical-align: middle;\n",
       "    }\n",
       "\n",
       "    .dataframe tbody tr th {\n",
       "        vertical-align: top;\n",
       "    }\n",
       "\n",
       "    .dataframe thead th {\n",
       "        text-align: right;\n",
       "    }\n",
       "</style>\n",
       "<table border=\"1\" class=\"dataframe\">\n",
       "  <thead>\n",
       "    <tr style=\"text-align: right;\">\n",
       "      <th></th>\n",
       "      <th>loan_amnt</th>\n",
       "      <th>term</th>\n",
       "      <th>int_rate</th>\n",
       "      <th>installment</th>\n",
       "      <th>emp_length</th>\n",
       "      <th>home_ownership</th>\n",
       "      <th>annual_inc</th>\n",
       "      <th>verification_status</th>\n",
       "      <th>loan_status</th>\n",
       "      <th>purpose</th>\n",
       "      <th>dti</th>\n",
       "      <th>open_acc</th>\n",
       "      <th>pub_rec</th>\n",
       "      <th>revol_bal</th>\n",
       "      <th>revol_util</th>\n",
       "      <th>total_acc</th>\n",
       "      <th>initial_list_status</th>\n",
       "      <th>application_type</th>\n",
       "      <th>mort_acc</th>\n",
       "      <th>pub_rec_bankruptcies</th>\n",
       "    </tr>\n",
       "  </thead>\n",
       "  <tbody>\n",
       "    <tr>\n",
       "      <th>396025</th>\n",
       "      <td>10000.0</td>\n",
       "      <td>60 months</td>\n",
       "      <td>10.99</td>\n",
       "      <td>217.38</td>\n",
       "      <td>2 years</td>\n",
       "      <td>RENT</td>\n",
       "      <td>40000.0</td>\n",
       "      <td>Source Verified</td>\n",
       "      <td>Fully Paid</td>\n",
       "      <td>debt_consolidation</td>\n",
       "      <td>15.63</td>\n",
       "      <td>6.0</td>\n",
       "      <td>0.0</td>\n",
       "      <td>1990.0</td>\n",
       "      <td>34.3</td>\n",
       "      <td>23.0</td>\n",
       "      <td>w</td>\n",
       "      <td>INDIVIDUAL</td>\n",
       "      <td>0.0</td>\n",
       "      <td>0.0</td>\n",
       "    </tr>\n",
       "    <tr>\n",
       "      <th>396026</th>\n",
       "      <td>21000.0</td>\n",
       "      <td>36 months</td>\n",
       "      <td>12.29</td>\n",
       "      <td>700.42</td>\n",
       "      <td>5 years</td>\n",
       "      <td>MORTGAGE</td>\n",
       "      <td>110000.0</td>\n",
       "      <td>Source Verified</td>\n",
       "      <td>Fully Paid</td>\n",
       "      <td>debt_consolidation</td>\n",
       "      <td>21.45</td>\n",
       "      <td>6.0</td>\n",
       "      <td>0.0</td>\n",
       "      <td>43263.0</td>\n",
       "      <td>95.7</td>\n",
       "      <td>8.0</td>\n",
       "      <td>f</td>\n",
       "      <td>INDIVIDUAL</td>\n",
       "      <td>1.0</td>\n",
       "      <td>0.0</td>\n",
       "    </tr>\n",
       "    <tr>\n",
       "      <th>396027</th>\n",
       "      <td>5000.0</td>\n",
       "      <td>36 months</td>\n",
       "      <td>9.99</td>\n",
       "      <td>161.32</td>\n",
       "      <td>10+ years</td>\n",
       "      <td>RENT</td>\n",
       "      <td>56500.0</td>\n",
       "      <td>Verified</td>\n",
       "      <td>Fully Paid</td>\n",
       "      <td>debt_consolidation</td>\n",
       "      <td>17.56</td>\n",
       "      <td>15.0</td>\n",
       "      <td>0.0</td>\n",
       "      <td>32704.0</td>\n",
       "      <td>66.9</td>\n",
       "      <td>23.0</td>\n",
       "      <td>f</td>\n",
       "      <td>INDIVIDUAL</td>\n",
       "      <td>0.0</td>\n",
       "      <td>0.0</td>\n",
       "    </tr>\n",
       "    <tr>\n",
       "      <th>396028</th>\n",
       "      <td>21000.0</td>\n",
       "      <td>60 months</td>\n",
       "      <td>15.31</td>\n",
       "      <td>503.02</td>\n",
       "      <td>10+ years</td>\n",
       "      <td>MORTGAGE</td>\n",
       "      <td>64000.0</td>\n",
       "      <td>Verified</td>\n",
       "      <td>Fully Paid</td>\n",
       "      <td>debt_consolidation</td>\n",
       "      <td>15.88</td>\n",
       "      <td>9.0</td>\n",
       "      <td>0.0</td>\n",
       "      <td>15704.0</td>\n",
       "      <td>53.8</td>\n",
       "      <td>20.0</td>\n",
       "      <td>f</td>\n",
       "      <td>INDIVIDUAL</td>\n",
       "      <td>5.0</td>\n",
       "      <td>0.0</td>\n",
       "    </tr>\n",
       "    <tr>\n",
       "      <th>396029</th>\n",
       "      <td>2000.0</td>\n",
       "      <td>36 months</td>\n",
       "      <td>13.61</td>\n",
       "      <td>67.98</td>\n",
       "      <td>10+ years</td>\n",
       "      <td>RENT</td>\n",
       "      <td>42996.0</td>\n",
       "      <td>Verified</td>\n",
       "      <td>Fully Paid</td>\n",
       "      <td>debt_consolidation</td>\n",
       "      <td>8.32</td>\n",
       "      <td>3.0</td>\n",
       "      <td>0.0</td>\n",
       "      <td>4292.0</td>\n",
       "      <td>91.3</td>\n",
       "      <td>19.0</td>\n",
       "      <td>f</td>\n",
       "      <td>INDIVIDUAL</td>\n",
       "      <td>NaN</td>\n",
       "      <td>0.0</td>\n",
       "    </tr>\n",
       "  </tbody>\n",
       "</table>\n",
       "</div>"
      ],
      "text/plain": [
       "        loan_amnt        term  int_rate  installment emp_length  \\\n",
       "396025    10000.0   60 months     10.99       217.38    2 years   \n",
       "396026    21000.0   36 months     12.29       700.42    5 years   \n",
       "396027     5000.0   36 months      9.99       161.32  10+ years   \n",
       "396028    21000.0   60 months     15.31       503.02  10+ years   \n",
       "396029     2000.0   36 months     13.61        67.98  10+ years   \n",
       "\n",
       "       home_ownership  annual_inc verification_status loan_status  \\\n",
       "396025           RENT     40000.0     Source Verified  Fully Paid   \n",
       "396026       MORTGAGE    110000.0     Source Verified  Fully Paid   \n",
       "396027           RENT     56500.0            Verified  Fully Paid   \n",
       "396028       MORTGAGE     64000.0            Verified  Fully Paid   \n",
       "396029           RENT     42996.0            Verified  Fully Paid   \n",
       "\n",
       "                   purpose    dti  open_acc  pub_rec  revol_bal  revol_util  \\\n",
       "396025  debt_consolidation  15.63       6.0      0.0     1990.0        34.3   \n",
       "396026  debt_consolidation  21.45       6.0      0.0    43263.0        95.7   \n",
       "396027  debt_consolidation  17.56      15.0      0.0    32704.0        66.9   \n",
       "396028  debt_consolidation  15.88       9.0      0.0    15704.0        53.8   \n",
       "396029  debt_consolidation   8.32       3.0      0.0     4292.0        91.3   \n",
       "\n",
       "        total_acc initial_list_status application_type  mort_acc  \\\n",
       "396025       23.0                   w       INDIVIDUAL       0.0   \n",
       "396026        8.0                   f       INDIVIDUAL       1.0   \n",
       "396027       23.0                   f       INDIVIDUAL       0.0   \n",
       "396028       20.0                   f       INDIVIDUAL       5.0   \n",
       "396029       19.0                   f       INDIVIDUAL       NaN   \n",
       "\n",
       "        pub_rec_bankruptcies  \n",
       "396025                   0.0  \n",
       "396026                   0.0  \n",
       "396027                   0.0  \n",
       "396028                   0.0  \n",
       "396029                   0.0  "
      ]
     },
     "execution_count": 6,
     "metadata": {},
     "output_type": "execute_result"
    }
   ],
   "source": [
    "df_lnclb_data = df_lnclb_data.drop(labels = [\"grade\", \"sub_grade\", \"emp_title\", \"title\", \"address\", \\\n",
    "                       \"issue_d\", \"earliest_cr_line\"], axis = 1)\n",
    "\n",
    "df_lnclb_data.tail()"
   ]
  },
  {
   "cell_type": "code",
   "execution_count": 7,
   "id": "898700e2",
   "metadata": {},
   "outputs": [
    {
     "name": "stdout",
     "output_type": "stream",
     "text": [
      "<class 'pandas.core.frame.DataFrame'>\n",
      "RangeIndex: 396030 entries, 0 to 396029\n",
      "Data columns (total 20 columns):\n",
      " #   Column                Non-Null Count   Dtype  \n",
      "---  ------                --------------   -----  \n",
      " 0   loan_amnt             396030 non-null  float64\n",
      " 1   term                  396030 non-null  object \n",
      " 2   int_rate              396030 non-null  float64\n",
      " 3   installment           396030 non-null  float64\n",
      " 4   emp_length            377729 non-null  object \n",
      " 5   home_ownership        396030 non-null  object \n",
      " 6   annual_inc            396030 non-null  float64\n",
      " 7   verification_status   396030 non-null  object \n",
      " 8   loan_status           396030 non-null  object \n",
      " 9   purpose               396030 non-null  object \n",
      " 10  dti                   396030 non-null  float64\n",
      " 11  open_acc              396030 non-null  float64\n",
      " 12  pub_rec               396030 non-null  float64\n",
      " 13  revol_bal             396030 non-null  float64\n",
      " 14  revol_util            395754 non-null  float64\n",
      " 15  total_acc             396030 non-null  float64\n",
      " 16  initial_list_status   396030 non-null  object \n",
      " 17  application_type      396030 non-null  object \n",
      " 18  mort_acc              358235 non-null  float64\n",
      " 19  pub_rec_bankruptcies  395495 non-null  float64\n",
      "dtypes: float64(12), object(8)\n",
      "memory usage: 60.4+ MB\n"
     ]
    }
   ],
   "source": [
    "df_lnclb_data.info()"
   ]
  },
  {
   "cell_type": "markdown",
   "id": "2bf3fd70",
   "metadata": {},
   "source": [
    "* Next, we fill the missing **mort_acc** info:"
   ]
  },
  {
   "cell_type": "markdown",
   "id": "5f47f2b8",
   "metadata": {},
   "source": [
    "* Apply groupby and take .mean():"
   ]
  },
  {
   "cell_type": "code",
   "execution_count": 8,
   "id": "ed02cd9f",
   "metadata": {},
   "outputs": [],
   "source": [
    "df_mort_acc_avg = df_lnclb_data[[\"total_acc\", \"mort_acc\"]].groupby(\"total_acc\").mean().apply(np.round_)"
   ]
  },
  {
   "cell_type": "code",
   "execution_count": 9,
   "id": "3e7f7010",
   "metadata": {},
   "outputs": [
    {
     "data": {
      "text/html": [
       "<div>\n",
       "<style scoped>\n",
       "    .dataframe tbody tr th:only-of-type {\n",
       "        vertical-align: middle;\n",
       "    }\n",
       "\n",
       "    .dataframe tbody tr th {\n",
       "        vertical-align: top;\n",
       "    }\n",
       "\n",
       "    .dataframe thead th {\n",
       "        text-align: right;\n",
       "    }\n",
       "</style>\n",
       "<table border=\"1\" class=\"dataframe\">\n",
       "  <thead>\n",
       "    <tr style=\"text-align: right;\">\n",
       "      <th></th>\n",
       "      <th>mort_acc</th>\n",
       "    </tr>\n",
       "    <tr>\n",
       "      <th>total_acc</th>\n",
       "      <th></th>\n",
       "    </tr>\n",
       "  </thead>\n",
       "  <tbody>\n",
       "    <tr>\n",
       "      <th>2.0</th>\n",
       "      <td>0.0</td>\n",
       "    </tr>\n",
       "    <tr>\n",
       "      <th>3.0</th>\n",
       "      <td>0.0</td>\n",
       "    </tr>\n",
       "    <tr>\n",
       "      <th>4.0</th>\n",
       "      <td>0.0</td>\n",
       "    </tr>\n",
       "    <tr>\n",
       "      <th>5.0</th>\n",
       "      <td>0.0</td>\n",
       "    </tr>\n",
       "    <tr>\n",
       "      <th>6.0</th>\n",
       "      <td>0.0</td>\n",
       "    </tr>\n",
       "    <tr>\n",
       "      <th>...</th>\n",
       "      <td>...</td>\n",
       "    </tr>\n",
       "    <tr>\n",
       "      <th>124.0</th>\n",
       "      <td>1.0</td>\n",
       "    </tr>\n",
       "    <tr>\n",
       "      <th>129.0</th>\n",
       "      <td>1.0</td>\n",
       "    </tr>\n",
       "    <tr>\n",
       "      <th>135.0</th>\n",
       "      <td>3.0</td>\n",
       "    </tr>\n",
       "    <tr>\n",
       "      <th>150.0</th>\n",
       "      <td>2.0</td>\n",
       "    </tr>\n",
       "    <tr>\n",
       "      <th>151.0</th>\n",
       "      <td>0.0</td>\n",
       "    </tr>\n",
       "  </tbody>\n",
       "</table>\n",
       "<p>118 rows × 1 columns</p>\n",
       "</div>"
      ],
      "text/plain": [
       "           mort_acc\n",
       "total_acc          \n",
       "2.0             0.0\n",
       "3.0             0.0\n",
       "4.0             0.0\n",
       "5.0             0.0\n",
       "6.0             0.0\n",
       "...             ...\n",
       "124.0           1.0\n",
       "129.0           1.0\n",
       "135.0           3.0\n",
       "150.0           2.0\n",
       "151.0           0.0\n",
       "\n",
       "[118 rows x 1 columns]"
      ]
     },
     "execution_count": 9,
     "metadata": {},
     "output_type": "execute_result"
    }
   ],
   "source": [
    "df_mort_acc_avg"
   ]
  },
  {
   "cell_type": "markdown",
   "id": "6700fb8e",
   "metadata": {},
   "source": [
    "* Here's our imputation function. Note how we have 2 arguments this time, and note we're using np.isnan as a condition. We'll apply this row-by-row with axis =1."
   ]
  },
  {
   "cell_type": "code",
   "execution_count": 10,
   "id": "df1d6eec",
   "metadata": {},
   "outputs": [],
   "source": [
    "def imp_mort_acc(total_acc_col, mort_acc_col):\n",
    "    if (np.isnan(mort_acc_col) == True):\n",
    "        return df_mort_acc_avg.loc[total_acc_col]['mort_acc']\n",
    "    else:\n",
    "        return mort_acc_col"
   ]
  },
  {
   "cell_type": "code",
   "execution_count": 11,
   "id": "244cebce",
   "metadata": {},
   "outputs": [
    {
     "data": {
      "text/plain": [
       "3.0"
      ]
     },
     "execution_count": 11,
     "metadata": {},
     "output_type": "execute_result"
    }
   ],
   "source": [
    "df_mort_acc_avg.loc[135.0][\"mort_acc\"]"
   ]
  },
  {
   "cell_type": "code",
   "execution_count": 12,
   "id": "6e1fa3df",
   "metadata": {},
   "outputs": [],
   "source": [
    "df_lnclb_data[\"mort_acc_1\"] = df_lnclb_data.apply(lambda x: imp_mort_acc(x['total_acc'], x['mort_acc']), axis = 1)"
   ]
  },
  {
   "cell_type": "code",
   "execution_count": 13,
   "id": "f8700b3c",
   "metadata": {},
   "outputs": [
    {
     "data": {
      "text/plain": [
       "37795"
      ]
     },
     "execution_count": 13,
     "metadata": {},
     "output_type": "execute_result"
    }
   ],
   "source": [
    "len(df_lnclb_data[df_lnclb_data[\"mort_acc\"].isnull()])"
   ]
  },
  {
   "cell_type": "code",
   "execution_count": 14,
   "id": "23fcce65",
   "metadata": {},
   "outputs": [
    {
     "data": {
      "text/plain": [
       "0"
      ]
     },
     "execution_count": 14,
     "metadata": {},
     "output_type": "execute_result"
    }
   ],
   "source": [
    "len(df_lnclb_data[df_lnclb_data[\"mort_acc_1\"].isnull()])"
   ]
  },
  {
   "cell_type": "code",
   "execution_count": 15,
   "id": "551b7f28",
   "metadata": {},
   "outputs": [],
   "source": [
    "df_lnclb_data = df_lnclb_data.drop(labels = [\"mort_acc\"], axis =1 )\n",
    "df_lnclb_data = df_lnclb_data.rename(columns = {\"mort_acc_1\":\"mort_acc\"})"
   ]
  },
  {
   "cell_type": "code",
   "execution_count": 16,
   "id": "875741ad",
   "metadata": {},
   "outputs": [
    {
     "data": {
      "text/html": [
       "<div>\n",
       "<style scoped>\n",
       "    .dataframe tbody tr th:only-of-type {\n",
       "        vertical-align: middle;\n",
       "    }\n",
       "\n",
       "    .dataframe tbody tr th {\n",
       "        vertical-align: top;\n",
       "    }\n",
       "\n",
       "    .dataframe thead th {\n",
       "        text-align: right;\n",
       "    }\n",
       "</style>\n",
       "<table border=\"1\" class=\"dataframe\">\n",
       "  <thead>\n",
       "    <tr style=\"text-align: right;\">\n",
       "      <th></th>\n",
       "      <th>loan_amnt</th>\n",
       "      <th>term</th>\n",
       "      <th>int_rate</th>\n",
       "      <th>installment</th>\n",
       "      <th>emp_length</th>\n",
       "      <th>home_ownership</th>\n",
       "      <th>annual_inc</th>\n",
       "      <th>verification_status</th>\n",
       "      <th>loan_status</th>\n",
       "      <th>purpose</th>\n",
       "      <th>dti</th>\n",
       "      <th>open_acc</th>\n",
       "      <th>pub_rec</th>\n",
       "      <th>revol_bal</th>\n",
       "      <th>revol_util</th>\n",
       "      <th>total_acc</th>\n",
       "      <th>initial_list_status</th>\n",
       "      <th>application_type</th>\n",
       "      <th>pub_rec_bankruptcies</th>\n",
       "      <th>mort_acc</th>\n",
       "    </tr>\n",
       "  </thead>\n",
       "  <tbody>\n",
       "    <tr>\n",
       "      <th>0</th>\n",
       "      <td>10000.0</td>\n",
       "      <td>36 months</td>\n",
       "      <td>11.44</td>\n",
       "      <td>329.48</td>\n",
       "      <td>10+ years</td>\n",
       "      <td>RENT</td>\n",
       "      <td>117000.0</td>\n",
       "      <td>Not Verified</td>\n",
       "      <td>Fully Paid</td>\n",
       "      <td>vacation</td>\n",
       "      <td>26.24</td>\n",
       "      <td>16.0</td>\n",
       "      <td>0.0</td>\n",
       "      <td>36369.0</td>\n",
       "      <td>41.8</td>\n",
       "      <td>25.0</td>\n",
       "      <td>w</td>\n",
       "      <td>INDIVIDUAL</td>\n",
       "      <td>0.0</td>\n",
       "      <td>0.0</td>\n",
       "    </tr>\n",
       "    <tr>\n",
       "      <th>1</th>\n",
       "      <td>8000.0</td>\n",
       "      <td>36 months</td>\n",
       "      <td>11.99</td>\n",
       "      <td>265.68</td>\n",
       "      <td>4 years</td>\n",
       "      <td>MORTGAGE</td>\n",
       "      <td>65000.0</td>\n",
       "      <td>Not Verified</td>\n",
       "      <td>Fully Paid</td>\n",
       "      <td>debt_consolidation</td>\n",
       "      <td>22.05</td>\n",
       "      <td>17.0</td>\n",
       "      <td>0.0</td>\n",
       "      <td>20131.0</td>\n",
       "      <td>53.3</td>\n",
       "      <td>27.0</td>\n",
       "      <td>f</td>\n",
       "      <td>INDIVIDUAL</td>\n",
       "      <td>0.0</td>\n",
       "      <td>3.0</td>\n",
       "    </tr>\n",
       "    <tr>\n",
       "      <th>2</th>\n",
       "      <td>15600.0</td>\n",
       "      <td>36 months</td>\n",
       "      <td>10.49</td>\n",
       "      <td>506.97</td>\n",
       "      <td>&lt; 1 year</td>\n",
       "      <td>RENT</td>\n",
       "      <td>43057.0</td>\n",
       "      <td>Source Verified</td>\n",
       "      <td>Fully Paid</td>\n",
       "      <td>credit_card</td>\n",
       "      <td>12.79</td>\n",
       "      <td>13.0</td>\n",
       "      <td>0.0</td>\n",
       "      <td>11987.0</td>\n",
       "      <td>92.2</td>\n",
       "      <td>26.0</td>\n",
       "      <td>f</td>\n",
       "      <td>INDIVIDUAL</td>\n",
       "      <td>0.0</td>\n",
       "      <td>0.0</td>\n",
       "    </tr>\n",
       "    <tr>\n",
       "      <th>3</th>\n",
       "      <td>7200.0</td>\n",
       "      <td>36 months</td>\n",
       "      <td>6.49</td>\n",
       "      <td>220.65</td>\n",
       "      <td>6 years</td>\n",
       "      <td>RENT</td>\n",
       "      <td>54000.0</td>\n",
       "      <td>Not Verified</td>\n",
       "      <td>Fully Paid</td>\n",
       "      <td>credit_card</td>\n",
       "      <td>2.60</td>\n",
       "      <td>6.0</td>\n",
       "      <td>0.0</td>\n",
       "      <td>5472.0</td>\n",
       "      <td>21.5</td>\n",
       "      <td>13.0</td>\n",
       "      <td>f</td>\n",
       "      <td>INDIVIDUAL</td>\n",
       "      <td>0.0</td>\n",
       "      <td>0.0</td>\n",
       "    </tr>\n",
       "    <tr>\n",
       "      <th>4</th>\n",
       "      <td>24375.0</td>\n",
       "      <td>60 months</td>\n",
       "      <td>17.27</td>\n",
       "      <td>609.33</td>\n",
       "      <td>9 years</td>\n",
       "      <td>MORTGAGE</td>\n",
       "      <td>55000.0</td>\n",
       "      <td>Verified</td>\n",
       "      <td>Charged Off</td>\n",
       "      <td>credit_card</td>\n",
       "      <td>33.95</td>\n",
       "      <td>13.0</td>\n",
       "      <td>0.0</td>\n",
       "      <td>24584.0</td>\n",
       "      <td>69.8</td>\n",
       "      <td>43.0</td>\n",
       "      <td>f</td>\n",
       "      <td>INDIVIDUAL</td>\n",
       "      <td>0.0</td>\n",
       "      <td>1.0</td>\n",
       "    </tr>\n",
       "  </tbody>\n",
       "</table>\n",
       "</div>"
      ],
      "text/plain": [
       "   loan_amnt        term  int_rate  installment emp_length home_ownership  \\\n",
       "0    10000.0   36 months     11.44       329.48  10+ years           RENT   \n",
       "1     8000.0   36 months     11.99       265.68    4 years       MORTGAGE   \n",
       "2    15600.0   36 months     10.49       506.97   < 1 year           RENT   \n",
       "3     7200.0   36 months      6.49       220.65    6 years           RENT   \n",
       "4    24375.0   60 months     17.27       609.33    9 years       MORTGAGE   \n",
       "\n",
       "   annual_inc verification_status  loan_status             purpose    dti  \\\n",
       "0    117000.0        Not Verified   Fully Paid            vacation  26.24   \n",
       "1     65000.0        Not Verified   Fully Paid  debt_consolidation  22.05   \n",
       "2     43057.0     Source Verified   Fully Paid         credit_card  12.79   \n",
       "3     54000.0        Not Verified   Fully Paid         credit_card   2.60   \n",
       "4     55000.0            Verified  Charged Off         credit_card  33.95   \n",
       "\n",
       "   open_acc  pub_rec  revol_bal  revol_util  total_acc initial_list_status  \\\n",
       "0      16.0      0.0    36369.0        41.8       25.0                   w   \n",
       "1      17.0      0.0    20131.0        53.3       27.0                   f   \n",
       "2      13.0      0.0    11987.0        92.2       26.0                   f   \n",
       "3       6.0      0.0     5472.0        21.5       13.0                   f   \n",
       "4      13.0      0.0    24584.0        69.8       43.0                   f   \n",
       "\n",
       "  application_type  pub_rec_bankruptcies  mort_acc  \n",
       "0       INDIVIDUAL                   0.0       0.0  \n",
       "1       INDIVIDUAL                   0.0       3.0  \n",
       "2       INDIVIDUAL                   0.0       0.0  \n",
       "3       INDIVIDUAL                   0.0       0.0  \n",
       "4       INDIVIDUAL                   0.0       1.0  "
      ]
     },
     "execution_count": 16,
     "metadata": {},
     "output_type": "execute_result"
    }
   ],
   "source": [
    "df_lnclb_data.head()"
   ]
  },
  {
   "cell_type": "code",
   "execution_count": 17,
   "id": "64077426",
   "metadata": {},
   "outputs": [
    {
     "name": "stdout",
     "output_type": "stream",
     "text": [
      "There are 18301 values missing from column emp_length\n",
      "There are 276 values missing from column revol_util\n",
      "There are 535 values missing from column pub_rec_bankruptcies\n"
     ]
    }
   ],
   "source": [
    "for i in df_lnclb_data.columns:\n",
    "    no_nan = len(df_lnclb_data[df_lnclb_data[i].isnull()])\n",
    "    if (no_nan >0):\n",
    "        print(f\"There are {no_nan} values missing from column {i}\")\n",
    "        "
   ]
  },
  {
   "cell_type": "markdown",
   "id": "1dce70e6",
   "metadata": {},
   "source": [
    "* Portilla makes the case in his solutions that one can drop the *emp_length* column. Let's look at the correlation between employment length and whether or not a loan has been repaid.\n",
    "* Start by converting to ints with normalize_emp_length and normalize_loan_status"
   ]
  },
  {
   "cell_type": "code",
   "execution_count": 18,
   "id": "6969c094",
   "metadata": {},
   "outputs": [],
   "source": [
    "def normalize_emp_length(in_str):\n",
    "    if (in_str==\"< 1 year\"):\n",
    "        return 0\n",
    "    elif (in_str==\"1 year\"):\n",
    "        return 1\n",
    "    elif (in_str==\"2 years\"):\n",
    "        return 2\n",
    "    elif (in_str==\"3 years\"):\n",
    "        return 3\n",
    "    elif (in_str==\"4 years\"):\n",
    "        return 4\n",
    "    elif (in_str==\"5 years\"):\n",
    "        return 5\n",
    "    elif (in_str==\"6 years\"):\n",
    "        return 6\n",
    "    elif (in_str==\"7 years\"):\n",
    "        return 7\n",
    "    elif (in_str==\"8 years\"):\n",
    "        return 8\n",
    "    elif (in_str==\"9 years\"):\n",
    "        return 9\n",
    "    elif (in_str==\"10+ years\"):\n",
    "        return 10"
   ]
  },
  {
   "cell_type": "code",
   "execution_count": 19,
   "id": "4db1fc2b",
   "metadata": {},
   "outputs": [],
   "source": [
    "def normalize_loan_status(in_str):\n",
    "    if (in_str == \"Charged Off\"):\n",
    "        return 0\n",
    "    elif (in_str == \"Fully Paid\"):\n",
    "        return 1"
   ]
  },
  {
   "cell_type": "code",
   "execution_count": 20,
   "id": "8ad244ac",
   "metadata": {},
   "outputs": [],
   "source": [
    "df_lnclb_data[\"loan_status_int\"]=df_lnclb_data[\"loan_status\"].apply(normalize_loan_status)"
   ]
  },
  {
   "cell_type": "code",
   "execution_count": 21,
   "id": "6c74b346",
   "metadata": {},
   "outputs": [],
   "source": [
    "temp_emp_length_int = df_lnclb_data[\"emp_length\"].apply(normalize_emp_length)"
   ]
  },
  {
   "cell_type": "markdown",
   "id": "1a24d416",
   "metadata": {},
   "source": [
    "* Now we have the following correlation:"
   ]
  },
  {
   "cell_type": "code",
   "execution_count": 22,
   "id": "319a4d84",
   "metadata": {},
   "outputs": [
    {
     "data": {
      "text/plain": [
       "0.01373423478049632"
      ]
     },
     "execution_count": 22,
     "metadata": {},
     "output_type": "execute_result"
    }
   ],
   "source": [
    "df_lnclb_data[\"loan_status_int\"].corr(other = temp_emp_length_int)"
   ]
  },
  {
   "cell_type": "markdown",
   "id": "74df625d",
   "metadata": {},
   "source": [
    "* Indeed the correlation is very low, so we drop the *emp_length* column."
   ]
  },
  {
   "cell_type": "code",
   "execution_count": 23,
   "id": "f50b61ca",
   "metadata": {},
   "outputs": [],
   "source": [
    "df_lnclb_data = df_lnclb_data.drop(labels = \"emp_length\", axis =1)"
   ]
  },
  {
   "cell_type": "markdown",
   "id": "a38e8959",
   "metadata": {},
   "source": [
    "* This time, we'll drop the rows that are missing *revol_util* and *pub_rec_bankruptcies*:"
   ]
  },
  {
   "cell_type": "code",
   "execution_count": 24,
   "id": "51a8dfea",
   "metadata": {},
   "outputs": [],
   "source": [
    "df_lnclb_data = df_lnclb_data.dropna()"
   ]
  },
  {
   "cell_type": "code",
   "execution_count": 25,
   "id": "2eab8ba9",
   "metadata": {},
   "outputs": [
    {
     "name": "stdout",
     "output_type": "stream",
     "text": [
      "<class 'pandas.core.frame.DataFrame'>\n",
      "Int64Index: 395219 entries, 0 to 396029\n",
      "Data columns (total 20 columns):\n",
      " #   Column                Non-Null Count   Dtype  \n",
      "---  ------                --------------   -----  \n",
      " 0   loan_amnt             395219 non-null  float64\n",
      " 1   term                  395219 non-null  object \n",
      " 2   int_rate              395219 non-null  float64\n",
      " 3   installment           395219 non-null  float64\n",
      " 4   home_ownership        395219 non-null  object \n",
      " 5   annual_inc            395219 non-null  float64\n",
      " 6   verification_status   395219 non-null  object \n",
      " 7   loan_status           395219 non-null  object \n",
      " 8   purpose               395219 non-null  object \n",
      " 9   dti                   395219 non-null  float64\n",
      " 10  open_acc              395219 non-null  float64\n",
      " 11  pub_rec               395219 non-null  float64\n",
      " 12  revol_bal             395219 non-null  float64\n",
      " 13  revol_util            395219 non-null  float64\n",
      " 14  total_acc             395219 non-null  float64\n",
      " 15  initial_list_status   395219 non-null  object \n",
      " 16  application_type      395219 non-null  object \n",
      " 17  pub_rec_bankruptcies  395219 non-null  float64\n",
      " 18  mort_acc              395219 non-null  float64\n",
      " 19  loan_status_int       395219 non-null  int64  \n",
      "dtypes: float64(12), int64(1), object(7)\n",
      "memory usage: 63.3+ MB\n"
     ]
    }
   ],
   "source": [
    "df_lnclb_data.info()"
   ]
  },
  {
   "cell_type": "markdown",
   "id": "a033a3f1",
   "metadata": {},
   "source": [
    "### b) Categorical features\n",
    "\n",
    "* We'll start by converting the *term* feature into integers\n"
   ]
  },
  {
   "cell_type": "code",
   "execution_count": 26,
   "id": "656d7ffe",
   "metadata": {},
   "outputs": [
    {
     "data": {
      "text/plain": [
       " 36 months    301247\n",
       " 60 months     93972\n",
       "Name: term, dtype: int64"
      ]
     },
     "execution_count": 26,
     "metadata": {},
     "output_type": "execute_result"
    }
   ],
   "source": [
    "df_lnclb_data['term'].value_counts()"
   ]
  },
  {
   "cell_type": "code",
   "execution_count": 27,
   "id": "e4e908f4",
   "metadata": {},
   "outputs": [],
   "source": [
    "df_lnclb_data['term']=df_lnclb_data['term'].replace(\" 36 months\", 36)\n",
    "df_lnclb_data['term']=df_lnclb_data['term'].replace(\" 60 months\", 60)"
   ]
  },
  {
   "cell_type": "code",
   "execution_count": 28,
   "id": "04f19bb9",
   "metadata": {},
   "outputs": [
    {
     "data": {
      "text/plain": [
       "36    301247\n",
       "60     93972\n",
       "Name: term, dtype: int64"
      ]
     },
     "execution_count": 28,
     "metadata": {},
     "output_type": "execute_result"
    }
   ],
   "source": [
    "df_lnclb_data['term'].value_counts()"
   ]
  },
  {
   "cell_type": "markdown",
   "id": "06e8fa22",
   "metadata": {},
   "source": [
    "* We have the following categorical features: **verification_status**, **purpose**, **initial_list_status** and **application_type** which we can simply convert to dummies"
   ]
  },
  {
   "cell_type": "code",
   "execution_count": 29,
   "id": "049f9b40",
   "metadata": {},
   "outputs": [],
   "source": [
    "df_dummies_A = pd.get_dummies(df_lnclb_data[['verification_status', 'application_type',\\\n",
    "                                             'initial_list_status','purpose']], drop_first = True)\n",
    "df_lnclb_data = df_lnclb_data.drop(labels = ['verification_status', 'application_type',\\\n",
    "                                             'initial_list_status','purpose'], axis =1 )\n",
    "df_lnclb_data = pd.concat([df_lnclb_data, df_dummies_A], axis =1)"
   ]
  },
  {
   "cell_type": "code",
   "execution_count": 30,
   "id": "caedbbad",
   "metadata": {},
   "outputs": [
    {
     "name": "stdout",
     "output_type": "stream",
     "text": [
      "<class 'pandas.core.frame.DataFrame'>\n",
      "Int64Index: 395219 entries, 0 to 396029\n",
      "Data columns (total 34 columns):\n",
      " #   Column                               Non-Null Count   Dtype  \n",
      "---  ------                               --------------   -----  \n",
      " 0   loan_amnt                            395219 non-null  float64\n",
      " 1   term                                 395219 non-null  int64  \n",
      " 2   int_rate                             395219 non-null  float64\n",
      " 3   installment                          395219 non-null  float64\n",
      " 4   home_ownership                       395219 non-null  object \n",
      " 5   annual_inc                           395219 non-null  float64\n",
      " 6   loan_status                          395219 non-null  object \n",
      " 7   dti                                  395219 non-null  float64\n",
      " 8   open_acc                             395219 non-null  float64\n",
      " 9   pub_rec                              395219 non-null  float64\n",
      " 10  revol_bal                            395219 non-null  float64\n",
      " 11  revol_util                           395219 non-null  float64\n",
      " 12  total_acc                            395219 non-null  float64\n",
      " 13  pub_rec_bankruptcies                 395219 non-null  float64\n",
      " 14  mort_acc                             395219 non-null  float64\n",
      " 15  loan_status_int                      395219 non-null  int64  \n",
      " 16  verification_status_Source Verified  395219 non-null  uint8  \n",
      " 17  verification_status_Verified         395219 non-null  uint8  \n",
      " 18  application_type_INDIVIDUAL          395219 non-null  uint8  \n",
      " 19  application_type_JOINT               395219 non-null  uint8  \n",
      " 20  initial_list_status_w                395219 non-null  uint8  \n",
      " 21  purpose_credit_card                  395219 non-null  uint8  \n",
      " 22  purpose_debt_consolidation           395219 non-null  uint8  \n",
      " 23  purpose_educational                  395219 non-null  uint8  \n",
      " 24  purpose_home_improvement             395219 non-null  uint8  \n",
      " 25  purpose_house                        395219 non-null  uint8  \n",
      " 26  purpose_major_purchase               395219 non-null  uint8  \n",
      " 27  purpose_medical                      395219 non-null  uint8  \n",
      " 28  purpose_moving                       395219 non-null  uint8  \n",
      " 29  purpose_other                        395219 non-null  uint8  \n",
      " 30  purpose_renewable_energy             395219 non-null  uint8  \n",
      " 31  purpose_small_business               395219 non-null  uint8  \n",
      " 32  purpose_vacation                     395219 non-null  uint8  \n",
      " 33  purpose_wedding                      395219 non-null  uint8  \n",
      "dtypes: float64(12), int64(2), object(2), uint8(18)\n",
      "memory usage: 58.0+ MB\n"
     ]
    }
   ],
   "source": [
    "df_lnclb_data.info()"
   ]
  },
  {
   "cell_type": "markdown",
   "id": "3cb6b980",
   "metadata": {},
   "source": [
    "* It now remains to fix the home ownership. Again, we'll merge the \"NONE\", \"ANY\" and \"OTHER\" values (I didn't know I could do that more easily):"
   ]
  },
  {
   "cell_type": "code",
   "execution_count": 31,
   "id": "e5ae7c14",
   "metadata": {},
   "outputs": [],
   "source": [
    "df_lnclb_data['home_ownership']=df_lnclb_data['home_ownership'].replace(['NONE', 'ANY'], 'OTHER')"
   ]
  },
  {
   "cell_type": "markdown",
   "id": "475a1f19",
   "metadata": {},
   "source": [
    "* Now get the dummies for *home_ownership* one and do the same as for the other categorical features"
   ]
  },
  {
   "cell_type": "code",
   "execution_count": 32,
   "id": "cef31e10",
   "metadata": {},
   "outputs": [],
   "source": [
    "df_dummies_B = pd.get_dummies(df_lnclb_data[\"home_ownership\"], drop_first = True)\n",
    "df_lnclb_data = pd.concat([df_lnclb_data, df_dummies_B], axis =1)\n",
    "df_lnclb_data = df_lnclb_data.drop(labels = \"home_ownership\", axis =1 )"
   ]
  },
  {
   "cell_type": "code",
   "execution_count": 33,
   "id": "bd026520",
   "metadata": {},
   "outputs": [],
   "source": [
    "df_lnclb_data[\"loan_repaid\"] = pd.get_dummies(df_lnclb_data[\"loan_status\"], drop_first= True)"
   ]
  },
  {
   "cell_type": "code",
   "execution_count": 34,
   "id": "71d85397",
   "metadata": {},
   "outputs": [],
   "source": [
    "df_lnclb_data = df_lnclb_data.drop(labels = [\"loan_status\", \"loan_status_int\"], axis = 1)"
   ]
  },
  {
   "cell_type": "code",
   "execution_count": 35,
   "id": "39a29887",
   "metadata": {},
   "outputs": [],
   "source": [
    "df_lnclb_data = df_lnclb_data.rename(columns = {\"loan_repaid\":\"loan_status_int\"})"
   ]
  },
  {
   "cell_type": "code",
   "execution_count": 47,
   "id": "440b821f",
   "metadata": {},
   "outputs": [
    {
     "name": "stdout",
     "output_type": "stream",
     "text": [
      "<class 'pandas.core.frame.DataFrame'>\n",
      "Int64Index: 395219 entries, 0 to 396029\n",
      "Data columns (total 35 columns):\n",
      " #   Column                               Non-Null Count   Dtype  \n",
      "---  ------                               --------------   -----  \n",
      " 0   loan_amnt                            395219 non-null  float64\n",
      " 1   term                                 395219 non-null  int64  \n",
      " 2   int_rate                             395219 non-null  float64\n",
      " 3   installment                          395219 non-null  float64\n",
      " 4   annual_inc                           395219 non-null  float64\n",
      " 5   dti                                  395219 non-null  float64\n",
      " 6   open_acc                             395219 non-null  float64\n",
      " 7   pub_rec                              395219 non-null  float64\n",
      " 8   revol_bal                            395219 non-null  float64\n",
      " 9   revol_util                           395219 non-null  float64\n",
      " 10  total_acc                            395219 non-null  float64\n",
      " 11  pub_rec_bankruptcies                 395219 non-null  float64\n",
      " 12  mort_acc                             395219 non-null  float64\n",
      " 13  verification_status_Source Verified  395219 non-null  uint8  \n",
      " 14  verification_status_Verified         395219 non-null  uint8  \n",
      " 15  application_type_INDIVIDUAL          395219 non-null  uint8  \n",
      " 16  application_type_JOINT               395219 non-null  uint8  \n",
      " 17  initial_list_status_w                395219 non-null  uint8  \n",
      " 18  purpose_credit_card                  395219 non-null  uint8  \n",
      " 19  purpose_debt_consolidation           395219 non-null  uint8  \n",
      " 20  purpose_educational                  395219 non-null  uint8  \n",
      " 21  purpose_home_improvement             395219 non-null  uint8  \n",
      " 22  purpose_house                        395219 non-null  uint8  \n",
      " 23  purpose_major_purchase               395219 non-null  uint8  \n",
      " 24  purpose_medical                      395219 non-null  uint8  \n",
      " 25  purpose_moving                       395219 non-null  uint8  \n",
      " 26  purpose_other                        395219 non-null  uint8  \n",
      " 27  purpose_renewable_energy             395219 non-null  uint8  \n",
      " 28  purpose_small_business               395219 non-null  uint8  \n",
      " 29  purpose_vacation                     395219 non-null  uint8  \n",
      " 30  purpose_wedding                      395219 non-null  uint8  \n",
      " 31  OTHER                                395219 non-null  uint8  \n",
      " 32  OWN                                  395219 non-null  uint8  \n",
      " 33  RENT                                 395219 non-null  uint8  \n",
      " 34  loan_status_int                      395219 non-null  uint8  \n",
      "dtypes: float64(12), int64(1), uint8(22)\n",
      "memory usage: 50.5 MB\n"
     ]
    }
   ],
   "source": [
    "df_lnclb_data.info()"
   ]
  },
  {
   "cell_type": "markdown",
   "id": "81880328",
   "metadata": {},
   "source": [
    "* Now we save the file"
   ]
  },
  {
   "cell_type": "code",
   "execution_count": 48,
   "id": "20495283",
   "metadata": {},
   "outputs": [],
   "source": [
    "df_lnclb_data.to_csv(\"lenders_club_data_clean_35feat_210909_AJZer.csv\")"
   ]
  },
  {
   "cell_type": "code",
   "execution_count": null,
   "id": "a4f77729",
   "metadata": {},
   "outputs": [],
   "source": []
  },
  {
   "cell_type": "code",
   "execution_count": null,
   "id": "73f3f480",
   "metadata": {},
   "outputs": [],
   "source": []
  },
  {
   "cell_type": "markdown",
   "id": "7807950a",
   "metadata": {},
   "source": [
    "## Appendix"
   ]
  },
  {
   "cell_type": "markdown",
   "id": "5fc24a21",
   "metadata": {},
   "source": [
    "### More on data"
   ]
  },
  {
   "cell_type": "code",
   "execution_count": 38,
   "id": "f70554d9",
   "metadata": {},
   "outputs": [
    {
     "data": {
      "text/plain": [
       "\"\\n### 'verification_status', 'application_type','initial_list_status','purpose' ###\\n\\ndummies = pd.get_dummies(df[['verification_status', 'application_type','initial_list_status','purpose' ]],drop_first=True)\\ndf = df.drop(['verification_status', 'application_type','initial_list_status','purpose'],axis=1)\\ndf = pd.concat([df,dummies],axis=1)\\n\\n### home_ownership ###\\n\\ndf['home_ownership']=df['home_ownership'].replace(['NONE', 'ANY'], 'OTHER')\\n\\ndummies = pd.get_dummies(df['home_ownership'],drop_first=True)\\ndf = df.drop('home_ownership',axis=1)\\ndf = pd.concat([df,dummies],axis=1)\\n\\n\""
      ]
     },
     "execution_count": 38,
     "metadata": {},
     "output_type": "execute_result"
    }
   ],
   "source": [
    "'''\n",
    "### 'verification_status', 'application_type','initial_list_status','purpose' ###\n",
    "\n",
    "dummies = pd.get_dummies(df[['verification_status', 'application_type','initial_list_status','purpose' ]],drop_first=True)\n",
    "df = df.drop(['verification_status', 'application_type','initial_list_status','purpose'],axis=1)\n",
    "df = pd.concat([df,dummies],axis=1)\n",
    "\n",
    "### home_ownership ###\n",
    "\n",
    "df['home_ownership']=df['home_ownership'].replace(['NONE', 'ANY'], 'OTHER')\n",
    "\n",
    "dummies = pd.get_dummies(df['home_ownership'],drop_first=True)\n",
    "df = df.drop('home_ownership',axis=1)\n",
    "df = pd.concat([df,dummies],axis=1)\n",
    "\n",
    "'''"
   ]
  },
  {
   "cell_type": "markdown",
   "id": "8956ea33",
   "metadata": {},
   "source": [
    "#### grade and sub_grade\n",
    "\n",
    "*grade* has 7 possible values A to G; *sub_grade* has 5 values for each letter:"
   ]
  },
  {
   "cell_type": "code",
   "execution_count": 39,
   "id": "0f3f0a40",
   "metadata": {},
   "outputs": [],
   "source": [
    "#print(f\"len(df_lnclb_data[\\\"grade\\\"].value_counts())={len(df_lnclb_data['grade'].value_counts())}\")\n",
    "#df_lnclb_data[\"grade\"].value_counts()\n"
   ]
  },
  {
   "cell_type": "code",
   "execution_count": 40,
   "id": "a3538f9b",
   "metadata": {},
   "outputs": [],
   "source": [
    "#print(f\"len(df_lnclb_data[\\\"sub_grade\\\"].value_counts())={len(df_lnclb_data['sub_grade'].value_counts())}\")\n",
    "#df_lnclb_data[\"sub_grade\"].value_counts()"
   ]
  },
  {
   "cell_type": "markdown",
   "id": "d59880f3",
   "metadata": {},
   "source": [
    "* Looking here https://www.lendingclub.com/foliofn/rateDetail.action, it seems like the grade and subgrade determine the interest rate of the loan:"
   ]
  },
  {
   "cell_type": "code",
   "execution_count": 41,
   "id": "10e19cc8",
   "metadata": {},
   "outputs": [],
   "source": [
    "#df_lnclb_data[df_lnclb_data[\"sub_grade\"]==\"A1\"]"
   ]
  },
  {
   "cell_type": "code",
   "execution_count": 42,
   "id": "e8e822fe",
   "metadata": {},
   "outputs": [],
   "source": [
    "#df_lnclb_data[df_lnclb_data[\"sub_grade\"]==\"G5\"]"
   ]
  },
  {
   "cell_type": "markdown",
   "id": "641fc62b",
   "metadata": {},
   "source": [
    "* We'll therefore drop these 2 features, since the interest rate is a finer feature than those 2 combined."
   ]
  },
  {
   "cell_type": "markdown",
   "id": "2f00b66d",
   "metadata": {},
   "source": [
    "### Testing normalizing maps"
   ]
  },
  {
   "cell_type": "markdown",
   "id": "753d006a",
   "metadata": {},
   "source": [
    "* Features we'll remove (7): **emp_title**, **address**, **title**, **grade**, **sub_grade**, **issue_d**, **earliest_cr_line**.\n",
    "\n",
    "I'll start by manipulating a backup (eats up another 100mb of RAM):"
   ]
  },
  {
   "cell_type": "code",
   "execution_count": 43,
   "id": "28b346b5",
   "metadata": {},
   "outputs": [],
   "source": [
    "#df_temp = pd.read_csv(\"lending_club_loan_two.csv\")"
   ]
  },
  {
   "cell_type": "code",
   "execution_count": 44,
   "id": "96261a6d",
   "metadata": {},
   "outputs": [],
   "source": [
    "#df_temp.columns"
   ]
  },
  {
   "cell_type": "code",
   "execution_count": 45,
   "id": "255c3e8b",
   "metadata": {},
   "outputs": [],
   "source": [
    "#len(df_temp.columns)"
   ]
  },
  {
   "cell_type": "code",
   "execution_count": 46,
   "id": "a5d80f2c",
   "metadata": {},
   "outputs": [
    {
     "ename": "IndentationError",
     "evalue": "unexpected indent (<ipython-input-46-5616540e2933>, line 2)",
     "output_type": "error",
     "traceback": [
      "\u001b[1;36m  File \u001b[1;32m\"<ipython-input-46-5616540e2933>\"\u001b[1;36m, line \u001b[1;32m2\u001b[0m\n\u001b[1;33m    \"issue_d\", \"earliest_cr_line\"], axis = 1)\u001b[0m\n\u001b[1;37m    ^\u001b[0m\n\u001b[1;31mIndentationError\u001b[0m\u001b[1;31m:\u001b[0m unexpected indent\n"
     ]
    }
   ],
   "source": [
    "#df_temp = df_temp.drop(labels = [\"grade\", \"sub_grade\", \"emp_title\", \"title\", \"address\", \\\n",
    "                       \"issue_d\", \"earliest_cr_line\"], axis = 1)"
   ]
  },
  {
   "cell_type": "code",
   "execution_count": null,
   "id": "06735c00",
   "metadata": {},
   "outputs": [],
   "source": [
    "#help(pd.DataFrame.apply)"
   ]
  },
  {
   "cell_type": "code",
   "execution_count": null,
   "id": "31261d5c",
   "metadata": {},
   "outputs": [],
   "source": [
    "#help(pd.DataFrame.applymap)"
   ]
  },
  {
   "cell_type": "markdown",
   "id": "1786fd72",
   "metadata": {},
   "source": [
    "#### normalize_loan_status"
   ]
  },
  {
   "cell_type": "code",
   "execution_count": null,
   "id": "d7eff8ab",
   "metadata": {},
   "outputs": [],
   "source": [
    "#df_temp[\"loan_status_int\"] = df_temp[\"loan_status\"].apply(normalize_loan_status)"
   ]
  },
  {
   "cell_type": "code",
   "execution_count": null,
   "id": "15963fe6",
   "metadata": {},
   "outputs": [],
   "source": [
    "#df_temp.head()"
   ]
  },
  {
   "cell_type": "code",
   "execution_count": null,
   "id": "7e81d3a8",
   "metadata": {},
   "outputs": [],
   "source": [
    "#df_temp = df_temp.drop(labels = [\"loan_status\"], axis = 1)"
   ]
  },
  {
   "cell_type": "code",
   "execution_count": null,
   "id": "47b57fb4",
   "metadata": {},
   "outputs": [],
   "source": [
    "#df_temp.tail()"
   ]
  },
  {
   "cell_type": "markdown",
   "id": "04ec574f",
   "metadata": {},
   "source": [
    "#### normalize_term"
   ]
  },
  {
   "cell_type": "code",
   "execution_count": null,
   "id": "0c286bd6",
   "metadata": {},
   "outputs": [],
   "source": [
    "#df_temp[\"term_int\"] = df_temp[\"term\"].apply(normalize_term)"
   ]
  },
  {
   "cell_type": "code",
   "execution_count": null,
   "id": "4472e8bd",
   "metadata": {},
   "outputs": [],
   "source": [
    "#df_temp = df_temp.drop(labels = [\"term\"], axis =1 )"
   ]
  },
  {
   "cell_type": "code",
   "execution_count": null,
   "id": "16137ce5",
   "metadata": {},
   "outputs": [],
   "source": [
    "#df_temp.head()"
   ]
  },
  {
   "cell_type": "markdown",
   "id": "26d345e2",
   "metadata": {},
   "source": [
    "#### normalize_emp_length"
   ]
  },
  {
   "cell_type": "code",
   "execution_count": null,
   "id": "83cd370f",
   "metadata": {},
   "outputs": [],
   "source": [
    "#df_temp[\"emp_length_int\"] = df_temp[\"emp_length\"].apply(normalize_emp_length)"
   ]
  },
  {
   "cell_type": "code",
   "execution_count": null,
   "id": "7a3bf027",
   "metadata": {},
   "outputs": [],
   "source": [
    "#df_temp[[\"emp_length\", \"emp_length_int\"]].head()"
   ]
  },
  {
   "cell_type": "code",
   "execution_count": null,
   "id": "fb519a62",
   "metadata": {},
   "outputs": [],
   "source": [
    "#df_temp = df_temp.drop(labels = [\"emp_length\"], axis =1 )"
   ]
  },
  {
   "cell_type": "code",
   "execution_count": null,
   "id": "5b447689",
   "metadata": {},
   "outputs": [],
   "source": [
    "#df_temp"
   ]
  },
  {
   "cell_type": "code",
   "execution_count": null,
   "id": "63e9620f",
   "metadata": {},
   "outputs": [],
   "source": [
    "#df_temp[df_temp[\"emp_length_int\"].isnull()][\"emp_length_int\"]"
   ]
  },
  {
   "cell_type": "code",
   "execution_count": null,
   "id": "d4463cc8",
   "metadata": {},
   "outputs": [],
   "source": [
    "#np.round_(df_temp[df_temp[\"emp_length_int\"].isnull()== False][\"emp_length_int\"].mean())"
   ]
  },
  {
   "cell_type": "markdown",
   "id": "7a5300fb",
   "metadata": {},
   "source": [
    "* Impute to average:"
   ]
  },
  {
   "cell_type": "code",
   "execution_count": null,
   "id": "7e0db81a",
   "metadata": {},
   "outputs": [],
   "source": [
    "#emp_len_avg = np.round_(df_temp[df_temp[\"emp_length_int\"].isnull()== False][\"emp_length_int\"].mean())"
   ]
  },
  {
   "cell_type": "code",
   "execution_count": null,
   "id": "f419e0df",
   "metadata": {},
   "outputs": [],
   "source": [
    "#emp_len_avg"
   ]
  },
  {
   "cell_type": "code",
   "execution_count": null,
   "id": "1d79c6aa",
   "metadata": {},
   "outputs": [],
   "source": [
    "#help(pd.DataFrame.fillna)"
   ]
  },
  {
   "cell_type": "code",
   "execution_count": null,
   "id": "0bd69ff4",
   "metadata": {},
   "outputs": [],
   "source": [
    "#df_temp[\"emp_length_int\"] = df_temp[\"emp_length_int\"].fillna(value = emp_len_avg)"
   ]
  },
  {
   "cell_type": "code",
   "execution_count": null,
   "id": "82b857ea",
   "metadata": {},
   "outputs": [],
   "source": [
    "#df_temp[df_temp[\"emp_length_int\"].isnull()]"
   ]
  },
  {
   "cell_type": "code",
   "execution_count": null,
   "id": "254791ed",
   "metadata": {},
   "outputs": [],
   "source": [
    "#df_temp[\"emp_length_int\"].iloc[35]"
   ]
  },
  {
   "cell_type": "markdown",
   "id": "5166a580",
   "metadata": {},
   "source": [
    "#### normalize_home_ownership"
   ]
  },
  {
   "cell_type": "code",
   "execution_count": null,
   "id": "1c2f1d23",
   "metadata": {},
   "outputs": [],
   "source": [
    "#df_temp[\"home_ownership_int\"] = df_temp[\"home_ownership\"].apply(normalize_home_ownership)"
   ]
  },
  {
   "cell_type": "code",
   "execution_count": null,
   "id": "3b041a01",
   "metadata": {},
   "outputs": [],
   "source": [
    "#df_temp[[\"home_ownership\", \"home_ownership_int\"]]"
   ]
  },
  {
   "cell_type": "code",
   "execution_count": null,
   "id": "c7e6dac6",
   "metadata": {},
   "outputs": [],
   "source": [
    "#df_temp[df_temp[\"home_ownership\"]== \"OWN\"][\"home_ownership_int\"]"
   ]
  },
  {
   "cell_type": "code",
   "execution_count": null,
   "id": "88198769",
   "metadata": {},
   "outputs": [],
   "source": [
    "#df_temp = df_temp.drop(labels = [\"home_ownership\"], axis =1 )"
   ]
  },
  {
   "cell_type": "markdown",
   "id": "1ac5c6b7",
   "metadata": {},
   "source": [
    "#### normalize_verification_status"
   ]
  },
  {
   "cell_type": "code",
   "execution_count": null,
   "id": "e0e87242",
   "metadata": {},
   "outputs": [],
   "source": [
    "#df_temp[\"verification_status_int\"] = df_temp[\"verification_status\"].apply(normalize_verification_status)"
   ]
  },
  {
   "cell_type": "code",
   "execution_count": null,
   "id": "bcb0ddc6",
   "metadata": {},
   "outputs": [],
   "source": [
    "#df_temp[[\"verification_status\", \"verification_status_int\"]].head()"
   ]
  },
  {
   "cell_type": "code",
   "execution_count": null,
   "id": "024616d2",
   "metadata": {},
   "outputs": [],
   "source": [
    "#df_temp = df_temp.drop(labels = \"verification_status\", axis = 1)"
   ]
  },
  {
   "cell_type": "code",
   "execution_count": null,
   "id": "ec307eb1",
   "metadata": {},
   "outputs": [],
   "source": [
    "#df_temp"
   ]
  },
  {
   "cell_type": "markdown",
   "id": "801660d9",
   "metadata": {},
   "source": [
    "#### normalize_purpose"
   ]
  },
  {
   "cell_type": "code",
   "execution_count": null,
   "id": "9f92a2fe",
   "metadata": {},
   "outputs": [],
   "source": [
    "#df_temp[\"purpose_int\"] = df_temp[\"purpose\"].apply(normalize_purpose)"
   ]
  },
  {
   "cell_type": "code",
   "execution_count": null,
   "id": "0c5e973c",
   "metadata": {},
   "outputs": [],
   "source": [
    "#df_temp[df_temp[\"purpose\"]==\"medical\"][[\"purpose\", \"purpose_int\"]]"
   ]
  },
  {
   "cell_type": "code",
   "execution_count": null,
   "id": "09ddfc07",
   "metadata": {},
   "outputs": [],
   "source": [
    "#df_temp = df_temp.drop(labels = \"purpose\", axis =1)"
   ]
  },
  {
   "cell_type": "code",
   "execution_count": null,
   "id": "ed010f0d",
   "metadata": {},
   "outputs": [],
   "source": []
  },
  {
   "cell_type": "markdown",
   "id": "7d0f0002",
   "metadata": {},
   "source": [
    "#### normalize_initial_list_status"
   ]
  },
  {
   "cell_type": "code",
   "execution_count": null,
   "id": "958f5569",
   "metadata": {},
   "outputs": [],
   "source": [
    "#df_temp[\"initial_list_status_int\"] = df_temp[\"initial_list_status\"].apply(normalize_initial_list_status)"
   ]
  },
  {
   "cell_type": "code",
   "execution_count": null,
   "id": "02fedb2b",
   "metadata": {},
   "outputs": [],
   "source": [
    "#df_temp[[\"initial_list_status\", \"initial_list_status_int\"]].head()"
   ]
  },
  {
   "cell_type": "code",
   "execution_count": null,
   "id": "9843be21",
   "metadata": {},
   "outputs": [],
   "source": [
    "#df_temp = df_temp.drop(labels = \"initial_list_status\", axis =1)"
   ]
  },
  {
   "cell_type": "markdown",
   "id": "cae73c40",
   "metadata": {},
   "source": [
    "#### normalize_application_type"
   ]
  },
  {
   "cell_type": "code",
   "execution_count": null,
   "id": "8ae01308",
   "metadata": {},
   "outputs": [],
   "source": [
    "#df_temp[\"application_type_int\"] = df_temp[\"application_type\"].apply(normalize_application_type)"
   ]
  },
  {
   "cell_type": "code",
   "execution_count": null,
   "id": "0d37afae",
   "metadata": {},
   "outputs": [],
   "source": [
    "#df_temp[[\"application_type\", \"application_type_int\"]]"
   ]
  },
  {
   "cell_type": "code",
   "execution_count": null,
   "id": "c263b34c",
   "metadata": {},
   "outputs": [],
   "source": [
    "#df_temp[df_temp[\"application_type\"]!=\"INDIVIDUAL\"][[\"application_type\", \"application_type_int\"]]"
   ]
  },
  {
   "cell_type": "code",
   "execution_count": null,
   "id": "b21e10b3",
   "metadata": {},
   "outputs": [],
   "source": [
    "#df_temp = df_temp.drop(labels = \"application_type\", axis =1)"
   ]
  },
  {
   "cell_type": "markdown",
   "id": "7a18c1b2",
   "metadata": {},
   "source": [
    "### Scrap"
   ]
  },
  {
   "cell_type": "markdown",
   "id": "46cf1e8b",
   "metadata": {},
   "source": [
    "#### Applying normalize_term"
   ]
  },
  {
   "cell_type": "code",
   "execution_count": null,
   "id": "5393b63f",
   "metadata": {},
   "outputs": [],
   "source": [
    "#df_temp_1 = df_temp[[\"emp_length\",\"int_rate\",\"term\"]]"
   ]
  },
  {
   "cell_type": "code",
   "execution_count": null,
   "id": "929ccd70",
   "metadata": {},
   "outputs": [],
   "source": [
    "#df_temp_1.head()"
   ]
  },
  {
   "cell_type": "code",
   "execution_count": null,
   "id": "5f70b1d8",
   "metadata": {},
   "outputs": [],
   "source": [
    "#df_temp_1[\"term\"].iloc[4]"
   ]
  },
  {
   "cell_type": "code",
   "execution_count": null,
   "id": "2888e8a6",
   "metadata": {},
   "outputs": [],
   "source": [
    "#series_term_new  = df_temp_1[\"term\"].apply(normalize_term)"
   ]
  },
  {
   "cell_type": "code",
   "execution_count": null,
   "id": "86ea59e5",
   "metadata": {},
   "outputs": [],
   "source": [
    "#series_term_new"
   ]
  },
  {
   "cell_type": "code",
   "execution_count": null,
   "id": "04bcbf29",
   "metadata": {},
   "outputs": [],
   "source": []
  },
  {
   "cell_type": "code",
   "execution_count": null,
   "id": "b1c8c2ec",
   "metadata": {},
   "outputs": [],
   "source": []
  },
  {
   "cell_type": "code",
   "execution_count": null,
   "id": "aa7c59f8",
   "metadata": {},
   "outputs": [],
   "source": []
  },
  {
   "cell_type": "code",
   "execution_count": null,
   "id": "d8ff9923",
   "metadata": {},
   "outputs": [],
   "source": []
  },
  {
   "cell_type": "code",
   "execution_count": null,
   "id": "3cfd5443",
   "metadata": {},
   "outputs": [],
   "source": []
  }
 ],
 "metadata": {
  "kernelspec": {
   "display_name": "Python 3",
   "language": "python",
   "name": "python3"
  },
  "language_info": {
   "codemirror_mode": {
    "name": "ipython",
    "version": 3
   },
   "file_extension": ".py",
   "mimetype": "text/x-python",
   "name": "python",
   "nbconvert_exporter": "python",
   "pygments_lexer": "ipython3",
   "version": "3.8.8"
  }
 },
 "nbformat": 4,
 "nbformat_minor": 5
}
