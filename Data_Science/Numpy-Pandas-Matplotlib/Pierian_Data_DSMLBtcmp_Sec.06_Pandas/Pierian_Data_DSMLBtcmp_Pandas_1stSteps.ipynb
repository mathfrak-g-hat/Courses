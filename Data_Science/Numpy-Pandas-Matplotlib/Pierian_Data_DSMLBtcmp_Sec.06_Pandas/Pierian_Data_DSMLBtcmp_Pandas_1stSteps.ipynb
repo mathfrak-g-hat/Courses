{
 "cells": [
  {
   "cell_type": "markdown",
   "id": "9668f8f3",
   "metadata": {},
   "source": [
    "# **Pandas First Steps**\n",
    "\n",
    "### A.J. Zerouali (21/07/07)\n",
    "\n",
    "My first steps in Pandas. Will follow:\n",
    "\n",
    "- Pierian Data's lectures in Sections 6-7 of DSML course.\n",
    "\n",
    "- Lazy Programmer's Section 4 of \"Numpy stack - Deep Learning Prerequisites\"\n",
    "\n",
    "\n",
    "The Pandas package is Python's version of Excel."
   ]
  },
  {
   "cell_type": "markdown",
   "id": "d7108eec",
   "metadata": {},
   "source": [
    "___________________________________________\n",
    "\n",
    "## **Contents**\n",
    "\n",
    "I - Series\n",
    "\n",
    "II - Data Frames\n",
    "\n",
    "III - Missing data\n",
    "\n",
    "IV - Groupby\n",
    "\n",
    "V - Merging, joining and concatenating\n",
    "\n",
    "VI - More operations on data frames\n",
    "\n",
    "VII - Data input and output"
   ]
  },
  {
   "cell_type": "code",
   "execution_count": 1,
   "id": "29f217ac",
   "metadata": {},
   "outputs": [],
   "source": [
    "# Import Numpy and Pandas\n",
    "import numpy as np\n",
    "import pandas as pd"
   ]
  },
  {
   "cell_type": "code",
   "execution_count": null,
   "id": "89248871",
   "metadata": {},
   "outputs": [],
   "source": []
  },
  {
   "cell_type": "markdown",
   "id": "b087a528",
   "metadata": {},
   "source": [
    "__________________________________________"
   ]
  },
  {
   "cell_type": "markdown",
   "id": "df84454d",
   "metadata": {},
   "source": [
    "# **I - Series**\n",
    "\n",
    "This is Lecture 26, Sec. 6 of Pierian Data's DSML Bootcamp."
   ]
  },
  {
   "cell_type": "markdown",
   "id": "9071957e",
   "metadata": {},
   "source": [
    "## **(1) Series basics**\n",
    "\n",
    "Series are the Pandas version of Numpy's arrays, the main advantage here is that the indices of containers are viewed as modifiable labels, and that we can form the series from several Python containers (lists, arrays, dictionaries etc.). Creating a series is done using **pd.Series(data = [...], index = [labels])** (as a convention, \"pd\" is the shorthand name of  Pandas). To access an element of a series, one simply uses the labels (The difference with dictionaries??)"
   ]
  },
  {
   "cell_type": "code",
   "execution_count": 10,
   "id": "01c386f8",
   "metadata": {},
   "outputs": [
    {
     "name": "stdout",
     "output_type": "stream",
     "text": [
      "ex_dictionary_series =\n",
      "Label 1     [5, 10, 15]\n",
      "Label 2    [20, 25, 30]\n",
      "Label 3    [35, 40, 45]\n",
      "dtype: object\n",
      "\n",
      "ex_dictionary_series[\"Label 2\"] =\n",
      "[20, 25, 30]\n"
     ]
    }
   ],
   "source": [
    "# Series from a dictionary\n",
    "ex_dictionary_series = pd.Series({\"Label 1\":[5, 10, 15], \"Label 2\":[20, 25, 30],\"Label 3\":[35, 40, 45]})\n",
    "print(f\"ex_dictionary_series =\\n{ex_dictionary_series}\\n\")\n",
    "print(f\"ex_dictionary_series[\\\"Label 2\\\"] =\\n{ex_dictionary_series['Label 2']}\" )"
   ]
  },
  {
   "cell_type": "code",
   "execution_count": 11,
   "id": "61174dd0",
   "metadata": {},
   "outputs": [
    {
     "name": "stdout",
     "output_type": "stream",
     "text": [
      "ex_list_series = \n",
      "Label A    20\n",
      "Label B    25\n",
      "Label C    30\n",
      "dtype: int64\n",
      "\n",
      "ex_list_series['Label A'] = 20\n"
     ]
    }
   ],
   "source": [
    "## Series from two lists\n",
    "data_lst = [20, 25, 30]\n",
    "label_lst = [\"Label A\", \"Label B\", \"Label C\"]\n",
    "ex_list_series = pd.Series(data_lst, label_lst)\n",
    "print(f\"ex_list_series = \\n{ex_list_series}\\n\")\n",
    "print(f\"ex_list_series[\\'Label A\\'] = {ex_list_series['Label A']}\")"
   ]
  },
  {
   "cell_type": "code",
   "execution_count": 14,
   "id": "74f6b39a",
   "metadata": {},
   "outputs": [
    {
     "name": "stdout",
     "output_type": "stream",
     "text": [
      "Label A    35\n",
      "Label B    40\n",
      "Label C    45\n",
      "dtype: int32\n",
      "type(ex_array_series) = <class 'pandas.core.series.Series'>\n"
     ]
    }
   ],
   "source": [
    "# Will also work if a list is replaced by an array, which is very useful for ML applications\n",
    "#ex_array = np.array([[5, 10, 15], [20, 25, 30],[35, 40, 45]]) gives an error. Must be 1-dimensional...\n",
    "ex_array = np.array([35, 40, 45])\n",
    "ex_array_series = pd.Series(ex_array, label_lst)\n",
    "print(ex_array_series)\n",
    "print(f\"type(ex_array_series) = {type(ex_array_series)}\")"
   ]
  },
  {
   "cell_type": "code",
   "execution_count": null,
   "id": "fe7bae7d",
   "metadata": {},
   "outputs": [],
   "source": []
  },
  {
   "cell_type": "code",
   "execution_count": 13,
   "id": "c0865519",
   "metadata": {},
   "outputs": [
    {
     "data": {
      "text/plain": [
       "0    20\n",
       "1    30\n",
       "2    40\n",
       "dtype: int64"
      ]
     },
     "execution_count": 13,
     "metadata": {},
     "output_type": "execute_result"
    }
   ],
   "source": [
    "# By default, the indices are integers starting at 0.\n",
    "pd.Series([20,30,40])"
   ]
  },
  {
   "cell_type": "markdown",
   "id": "55674309",
   "metadata": {},
   "source": [
    "____________________________"
   ]
  },
  {
   "cell_type": "markdown",
   "id": "476b2959",
   "metadata": {},
   "source": [
    "# **II - Data Frames Fundamentals**\n",
    "\n",
    "Here we follow Lectures 27-29 of Pierian Data DSML.\n",
    "\n",
    "## Notes:\n",
    "\n",
    "- Might need a comment on why operations are not done in-place by default (lect. 27).\n",
    "\n"
   ]
  },
  {
   "cell_type": "markdown",
   "id": "8c5a370b",
   "metadata": {},
   "source": [
    "## **(1) Data Frames Basics**\n",
    "\n",
    "From Lecture 27. Data frames are the main data structure of Pandas. They're constructted using **pd.DataFrame(data, [Y-Labels], [X-Labels])** (note capitalization, **DataFrame**). Each column of a data frame is a series."
   ]
  },
  {
   "cell_type": "code",
   "execution_count": 2,
   "id": "5cb8ca97",
   "metadata": {},
   "outputs": [
    {
     "name": "stdout",
     "output_type": "stream",
     "text": [
      "[[ 0.35114824  0.14925078 -0.57078416  0.3482539   0.9031383 ]\n",
      " [ 0.26854669  0.67957216  0.64652167  0.018135   -0.3384719 ]\n",
      " [-0.17249605  0.84840654 -0.1285054  -0.99343118  0.21455205]\n",
      " [ 0.11788317 -1.47094311  0.06955596 -0.53493506  0.12526593]]\n"
     ]
    }
   ],
   "source": [
    "ex_matrix = np.random.randn(4,5)\n",
    "print(ex_matrix)"
   ]
  },
  {
   "cell_type": "code",
   "execution_count": 4,
   "id": "bf6ff308",
   "metadata": {
    "scrolled": true
   },
   "outputs": [
    {
     "name": "stdout",
     "output_type": "stream",
     "text": [
      "          A         B         C         D         E\n",
      "1  0.351148  0.149251 -0.570784  0.348254  0.903138\n",
      "2  0.268547  0.679572  0.646522  0.018135 -0.338472\n",
      "3 -0.172496  0.848407 -0.128505 -0.993431  0.214552\n",
      "4  0.117883 -1.470943  0.069556 -0.534935  0.125266\n"
     ]
    }
   ],
   "source": [
    "# Pandas gives a nice display\n",
    "ex_dataframe = pd.DataFrame(ex_matrix, [\"1\", \"2\", \"3\", \"4\"], [\"A\", \"B\", \"C\", \"D\", \"E\"])\n",
    "print(ex_dataframe)"
   ]
  },
  {
   "cell_type": "markdown",
   "id": "142287d2",
   "metadata": {},
   "source": [
    "* The output of a data frame is particularly nice:"
   ]
  },
  {
   "cell_type": "code",
   "execution_count": 5,
   "id": "9077fca2",
   "metadata": {
    "scrolled": true
   },
   "outputs": [
    {
     "data": {
      "text/html": [
       "<div>\n",
       "<style scoped>\n",
       "    .dataframe tbody tr th:only-of-type {\n",
       "        vertical-align: middle;\n",
       "    }\n",
       "\n",
       "    .dataframe tbody tr th {\n",
       "        vertical-align: top;\n",
       "    }\n",
       "\n",
       "    .dataframe thead th {\n",
       "        text-align: right;\n",
       "    }\n",
       "</style>\n",
       "<table border=\"1\" class=\"dataframe\">\n",
       "  <thead>\n",
       "    <tr style=\"text-align: right;\">\n",
       "      <th></th>\n",
       "      <th>A</th>\n",
       "      <th>B</th>\n",
       "      <th>C</th>\n",
       "      <th>D</th>\n",
       "      <th>E</th>\n",
       "    </tr>\n",
       "  </thead>\n",
       "  <tbody>\n",
       "    <tr>\n",
       "      <th>1</th>\n",
       "      <td>0.351148</td>\n",
       "      <td>0.149251</td>\n",
       "      <td>-0.570784</td>\n",
       "      <td>0.348254</td>\n",
       "      <td>0.903138</td>\n",
       "    </tr>\n",
       "    <tr>\n",
       "      <th>2</th>\n",
       "      <td>0.268547</td>\n",
       "      <td>0.679572</td>\n",
       "      <td>0.646522</td>\n",
       "      <td>0.018135</td>\n",
       "      <td>-0.338472</td>\n",
       "    </tr>\n",
       "    <tr>\n",
       "      <th>3</th>\n",
       "      <td>-0.172496</td>\n",
       "      <td>0.848407</td>\n",
       "      <td>-0.128505</td>\n",
       "      <td>-0.993431</td>\n",
       "      <td>0.214552</td>\n",
       "    </tr>\n",
       "    <tr>\n",
       "      <th>4</th>\n",
       "      <td>0.117883</td>\n",
       "      <td>-1.470943</td>\n",
       "      <td>0.069556</td>\n",
       "      <td>-0.534935</td>\n",
       "      <td>0.125266</td>\n",
       "    </tr>\n",
       "  </tbody>\n",
       "</table>\n",
       "</div>"
      ],
      "text/plain": [
       "          A         B         C         D         E\n",
       "1  0.351148  0.149251 -0.570784  0.348254  0.903138\n",
       "2  0.268547  0.679572  0.646522  0.018135 -0.338472\n",
       "3 -0.172496  0.848407 -0.128505 -0.993431  0.214552\n",
       "4  0.117883 -1.470943  0.069556 -0.534935  0.125266"
      ]
     },
     "execution_count": 5,
     "metadata": {},
     "output_type": "execute_result"
    }
   ],
   "source": [
    "ex_dataframe"
   ]
  },
  {
   "cell_type": "markdown",
   "id": "247a8b42",
   "metadata": {},
   "source": [
    "* Data frames also have a shape attribute (since built over Numpy):"
   ]
  },
  {
   "cell_type": "code",
   "execution_count": 25,
   "id": "964db8ba",
   "metadata": {},
   "outputs": [
    {
     "data": {
      "text/plain": [
       "(4, 5)"
      ]
     },
     "execution_count": 25,
     "metadata": {},
     "output_type": "execute_result"
    }
   ],
   "source": [
    "ex_dataframe.shape"
   ]
  },
  {
   "cell_type": "markdown",
   "id": "013602dc",
   "metadata": {},
   "source": [
    "* Each column of a data frame is a Pandas series, one accesses a column using **data_frame['Column label']**:"
   ]
  },
  {
   "cell_type": "code",
   "execution_count": 18,
   "id": "99de09c5",
   "metadata": {},
   "outputs": [
    {
     "name": "stdout",
     "output_type": "stream",
     "text": [
      "ex_dataframe[\"C\"] = \n",
      "1   -0.570784\n",
      "2    0.646522\n",
      "3   -0.128505\n",
      "4    0.069556\n",
      "Name: C, dtype: float64\n",
      "\n",
      "type(ex_dataframe[\"C\"]) = <class 'pandas.core.series.Series'>\n"
     ]
    }
   ],
   "source": [
    "print(f\"ex_dataframe[\\\"C\\\"] = \\n{ex_dataframe['C']}\\n\")\n",
    "print(f\"type(ex_dataframe[\\\"C\\\"]) = {type(ex_dataframe['C'])}\")"
   ]
  },
  {
   "cell_type": "markdown",
   "id": "d2ac26e0",
   "metadata": {},
   "source": [
    "* Can also display subsets of initial data frame, by passing a **list** inside the brackets:"
   ]
  },
  {
   "cell_type": "code",
   "execution_count": 24,
   "id": "081bc2d0",
   "metadata": {
    "scrolled": true
   },
   "outputs": [
    {
     "name": "stdout",
     "output_type": "stream",
     "text": [
      "ex_dataframe[\"C\",\"E\",\"B\"] = \n",
      "          C         E         B\n",
      "1 -0.570784  0.903138  0.149251\n",
      "2  0.646522 -0.338472  0.679572\n",
      "3 -0.128505  0.214552  0.848407\n",
      "4  0.069556  0.125266 -1.470943\n",
      "\n"
     ]
    }
   ],
   "source": [
    "print(f\"ex_dataframe[\\\"C\\\",\\\"E\\\",\\\"B\\\"] = \\n{ex_dataframe[['C','E','B']]}\\n\")"
   ]
  },
  {
   "cell_type": "markdown",
   "id": "5cab2ce1",
   "metadata": {},
   "source": [
    "* Like wise, every row of a data frame can be extracted as a series. This is done using the **.loc['Row label']** method, with **brackets, not parentheses** (Pandas calls rows \"Properties\"):"
   ]
  },
  {
   "cell_type": "code",
   "execution_count": 26,
   "id": "8215411e",
   "metadata": {},
   "outputs": [
    {
     "name": "stdout",
     "output_type": "stream",
     "text": [
      "ex_dataframe.loc['2'] =\n",
      "A    0.268547\n",
      "B    0.679572\n",
      "C    0.646522\n",
      "D    0.018135\n",
      "E   -0.338472\n",
      "Name: 2, dtype: float64\n"
     ]
    }
   ],
   "source": [
    "print(f\"ex_dataframe.loc['2'] =\\n{ex_dataframe.loc['2']}\")"
   ]
  },
  {
   "cell_type": "code",
   "execution_count": null,
   "id": "ec5579a0",
   "metadata": {},
   "outputs": [],
   "source": [
    "print(f\"ex_dataframe.loc['2'] =\\n{ex_dataframe.loc['2']}\")"
   ]
  },
  {
   "cell_type": "code",
   "execution_count": 27,
   "id": "5ac61073",
   "metadata": {},
   "outputs": [
    {
     "data": {
      "text/html": [
       "<div>\n",
       "<style scoped>\n",
       "    .dataframe tbody tr th:only-of-type {\n",
       "        vertical-align: middle;\n",
       "    }\n",
       "\n",
       "    .dataframe tbody tr th {\n",
       "        vertical-align: top;\n",
       "    }\n",
       "\n",
       "    .dataframe thead th {\n",
       "        text-align: right;\n",
       "    }\n",
       "</style>\n",
       "<table border=\"1\" class=\"dataframe\">\n",
       "  <thead>\n",
       "    <tr style=\"text-align: right;\">\n",
       "      <th></th>\n",
       "      <th>A</th>\n",
       "      <th>B</th>\n",
       "      <th>C</th>\n",
       "      <th>D</th>\n",
       "      <th>E</th>\n",
       "    </tr>\n",
       "  </thead>\n",
       "  <tbody>\n",
       "    <tr>\n",
       "      <th>2</th>\n",
       "      <td>0.268547</td>\n",
       "      <td>0.679572</td>\n",
       "      <td>0.646522</td>\n",
       "      <td>0.018135</td>\n",
       "      <td>-0.338472</td>\n",
       "    </tr>\n",
       "    <tr>\n",
       "      <th>4</th>\n",
       "      <td>0.117883</td>\n",
       "      <td>-1.470943</td>\n",
       "      <td>0.069556</td>\n",
       "      <td>-0.534935</td>\n",
       "      <td>0.125266</td>\n",
       "    </tr>\n",
       "  </tbody>\n",
       "</table>\n",
       "</div>"
      ],
      "text/plain": [
       "          A         B         C         D         E\n",
       "2  0.268547  0.679572  0.646522  0.018135 -0.338472\n",
       "4  0.117883 -1.470943  0.069556 -0.534935  0.125266"
      ]
     },
     "execution_count": 27,
     "metadata": {},
     "output_type": "execute_result"
    }
   ],
   "source": [
    "ex_dataframe.loc[['2','4']]"
   ]
  },
  {
   "cell_type": "markdown",
   "id": "4500cf4e",
   "metadata": {},
   "source": [
    "* Alternatively, can access the rows with the usual array indices instead of labels, using the **.iloc[[indices list]]** method:"
   ]
  },
  {
   "cell_type": "code",
   "execution_count": 28,
   "id": "856ab47f",
   "metadata": {
    "scrolled": true
   },
   "outputs": [
    {
     "data": {
      "text/html": [
       "<div>\n",
       "<style scoped>\n",
       "    .dataframe tbody tr th:only-of-type {\n",
       "        vertical-align: middle;\n",
       "    }\n",
       "\n",
       "    .dataframe tbody tr th {\n",
       "        vertical-align: top;\n",
       "    }\n",
       "\n",
       "    .dataframe thead th {\n",
       "        text-align: right;\n",
       "    }\n",
       "</style>\n",
       "<table border=\"1\" class=\"dataframe\">\n",
       "  <thead>\n",
       "    <tr style=\"text-align: right;\">\n",
       "      <th></th>\n",
       "      <th>A</th>\n",
       "      <th>B</th>\n",
       "      <th>C</th>\n",
       "      <th>D</th>\n",
       "      <th>E</th>\n",
       "    </tr>\n",
       "  </thead>\n",
       "  <tbody>\n",
       "    <tr>\n",
       "      <th>2</th>\n",
       "      <td>0.268547</td>\n",
       "      <td>0.679572</td>\n",
       "      <td>0.646522</td>\n",
       "      <td>0.018135</td>\n",
       "      <td>-0.338472</td>\n",
       "    </tr>\n",
       "    <tr>\n",
       "      <th>4</th>\n",
       "      <td>0.117883</td>\n",
       "      <td>-1.470943</td>\n",
       "      <td>0.069556</td>\n",
       "      <td>-0.534935</td>\n",
       "      <td>0.125266</td>\n",
       "    </tr>\n",
       "  </tbody>\n",
       "</table>\n",
       "</div>"
      ],
      "text/plain": [
       "          A         B         C         D         E\n",
       "2  0.268547  0.679572  0.646522  0.018135 -0.338472\n",
       "4  0.117883 -1.470943  0.069556 -0.534935  0.125266"
      ]
     },
     "execution_count": 28,
     "metadata": {},
     "output_type": "execute_result"
    }
   ],
   "source": [
    "ex_dataframe.iloc[[1,3]]"
   ]
  },
  {
   "cell_type": "markdown",
   "id": "90351a85",
   "metadata": {},
   "source": [
    "* Now to access the contents of a specific entry **.loc['Row label', 'Col. label']** of the data frame :"
   ]
  },
  {
   "cell_type": "code",
   "execution_count": 29,
   "id": "9b217790",
   "metadata": {},
   "outputs": [
    {
     "data": {
      "text/plain": [
       "0.6465216689760965"
      ]
     },
     "execution_count": 29,
     "metadata": {},
     "output_type": "execute_result"
    }
   ],
   "source": [
    "ex_dataframe.loc['2','C']"
   ]
  },
  {
   "cell_type": "markdown",
   "id": "52134781",
   "metadata": {},
   "source": [
    "* Also works to extract subset of data frame:"
   ]
  },
  {
   "cell_type": "code",
   "execution_count": 30,
   "id": "5b46069c",
   "metadata": {},
   "outputs": [
    {
     "data": {
      "text/html": [
       "<div>\n",
       "<style scoped>\n",
       "    .dataframe tbody tr th:only-of-type {\n",
       "        vertical-align: middle;\n",
       "    }\n",
       "\n",
       "    .dataframe tbody tr th {\n",
       "        vertical-align: top;\n",
       "    }\n",
       "\n",
       "    .dataframe thead th {\n",
       "        text-align: right;\n",
       "    }\n",
       "</style>\n",
       "<table border=\"1\" class=\"dataframe\">\n",
       "  <thead>\n",
       "    <tr style=\"text-align: right;\">\n",
       "      <th></th>\n",
       "      <th>E</th>\n",
       "      <th>C</th>\n",
       "    </tr>\n",
       "  </thead>\n",
       "  <tbody>\n",
       "    <tr>\n",
       "      <th>2</th>\n",
       "      <td>-0.338472</td>\n",
       "      <td>0.646522</td>\n",
       "    </tr>\n",
       "    <tr>\n",
       "      <th>4</th>\n",
       "      <td>0.125266</td>\n",
       "      <td>0.069556</td>\n",
       "    </tr>\n",
       "  </tbody>\n",
       "</table>\n",
       "</div>"
      ],
      "text/plain": [
       "          E         C\n",
       "2 -0.338472  0.646522\n",
       "4  0.125266  0.069556"
      ]
     },
     "execution_count": 30,
     "metadata": {},
     "output_type": "execute_result"
    }
   ],
   "source": [
    "ex_dataframe.loc[['2','4'],['E','C']]"
   ]
  },
  {
   "cell_type": "code",
   "execution_count": null,
   "id": "da7accec",
   "metadata": {},
   "outputs": [],
   "source": []
  },
  {
   "cell_type": "markdown",
   "id": "673d859e",
   "metadata": {},
   "source": [
    "## **(2) Operations on Data Frames**"
   ]
  },
  {
   "cell_type": "code",
   "execution_count": 52,
   "id": "38409272",
   "metadata": {},
   "outputs": [],
   "source": [
    "ex_dataframe_1 = pd.DataFrame(np.random.randn(4,5), ['R1','R2','R3','R4'], ['C1','C2','C3','C4','C5'])\n",
    "ex_series_r = pd.Series(np.arange(5), ['C1','C2','C3','C4','C5'])\n",
    "ex_series_s = pd.Series(['x','y','z','w','t'], ['C1','C2','C3','C4','C5'])\n",
    "ex_dataframe_2 = pd.DataFrame(np.random.randn(4,5), ['R1','R2','R3','R4'], ['C1','C2','C3','C4','C5'])\n"
   ]
  },
  {
   "cell_type": "code",
   "execution_count": 53,
   "id": "ac868a18",
   "metadata": {
    "scrolled": true
   },
   "outputs": [
    {
     "data": {
      "text/html": [
       "<div>\n",
       "<style scoped>\n",
       "    .dataframe tbody tr th:only-of-type {\n",
       "        vertical-align: middle;\n",
       "    }\n",
       "\n",
       "    .dataframe tbody tr th {\n",
       "        vertical-align: top;\n",
       "    }\n",
       "\n",
       "    .dataframe thead th {\n",
       "        text-align: right;\n",
       "    }\n",
       "</style>\n",
       "<table border=\"1\" class=\"dataframe\">\n",
       "  <thead>\n",
       "    <tr style=\"text-align: right;\">\n",
       "      <th></th>\n",
       "      <th>C1</th>\n",
       "      <th>C2</th>\n",
       "      <th>C3</th>\n",
       "      <th>C4</th>\n",
       "      <th>C5</th>\n",
       "    </tr>\n",
       "  </thead>\n",
       "  <tbody>\n",
       "    <tr>\n",
       "      <th>R1</th>\n",
       "      <td>0.321277</td>\n",
       "      <td>-1.297490</td>\n",
       "      <td>0.164878</td>\n",
       "      <td>0.489730</td>\n",
       "      <td>-0.420024</td>\n",
       "    </tr>\n",
       "    <tr>\n",
       "      <th>R2</th>\n",
       "      <td>0.963872</td>\n",
       "      <td>0.070821</td>\n",
       "      <td>-0.727547</td>\n",
       "      <td>-1.016918</td>\n",
       "      <td>-0.504934</td>\n",
       "    </tr>\n",
       "    <tr>\n",
       "      <th>R3</th>\n",
       "      <td>-0.509867</td>\n",
       "      <td>-0.010599</td>\n",
       "      <td>-0.599602</td>\n",
       "      <td>-1.185855</td>\n",
       "      <td>-1.389545</td>\n",
       "    </tr>\n",
       "    <tr>\n",
       "      <th>R4</th>\n",
       "      <td>-0.341243</td>\n",
       "      <td>0.557779</td>\n",
       "      <td>-1.329904</td>\n",
       "      <td>-2.000770</td>\n",
       "      <td>0.270937</td>\n",
       "    </tr>\n",
       "  </tbody>\n",
       "</table>\n",
       "</div>"
      ],
      "text/plain": [
       "          C1        C2        C3        C4        C5\n",
       "R1  0.321277 -1.297490  0.164878  0.489730 -0.420024\n",
       "R2  0.963872  0.070821 -0.727547 -1.016918 -0.504934\n",
       "R3 -0.509867 -0.010599 -0.599602 -1.185855 -1.389545\n",
       "R4 -0.341243  0.557779 -1.329904 -2.000770  0.270937"
      ]
     },
     "execution_count": 53,
     "metadata": {},
     "output_type": "execute_result"
    }
   ],
   "source": [
    "ex_dataframe_1"
   ]
  },
  {
   "cell_type": "markdown",
   "id": "d6bc6295",
   "metadata": {},
   "source": [
    "* One way to addd a new column is to directly assign it to a new label:"
   ]
  },
  {
   "cell_type": "code",
   "execution_count": 54,
   "id": "6f249788",
   "metadata": {},
   "outputs": [
    {
     "data": {
      "text/html": [
       "<div>\n",
       "<style scoped>\n",
       "    .dataframe tbody tr th:only-of-type {\n",
       "        vertical-align: middle;\n",
       "    }\n",
       "\n",
       "    .dataframe tbody tr th {\n",
       "        vertical-align: top;\n",
       "    }\n",
       "\n",
       "    .dataframe thead th {\n",
       "        text-align: right;\n",
       "    }\n",
       "</style>\n",
       "<table border=\"1\" class=\"dataframe\">\n",
       "  <thead>\n",
       "    <tr style=\"text-align: right;\">\n",
       "      <th></th>\n",
       "      <th>C1</th>\n",
       "      <th>C2</th>\n",
       "      <th>C3</th>\n",
       "      <th>C4</th>\n",
       "      <th>C5</th>\n",
       "      <th>New col.</th>\n",
       "    </tr>\n",
       "  </thead>\n",
       "  <tbody>\n",
       "    <tr>\n",
       "      <th>R1</th>\n",
       "      <td>0.321277</td>\n",
       "      <td>-1.297490</td>\n",
       "      <td>0.164878</td>\n",
       "      <td>0.489730</td>\n",
       "      <td>-0.420024</td>\n",
       "      <td>10</td>\n",
       "    </tr>\n",
       "    <tr>\n",
       "      <th>R2</th>\n",
       "      <td>0.963872</td>\n",
       "      <td>0.070821</td>\n",
       "      <td>-0.727547</td>\n",
       "      <td>-1.016918</td>\n",
       "      <td>-0.504934</td>\n",
       "      <td>15</td>\n",
       "    </tr>\n",
       "    <tr>\n",
       "      <th>R3</th>\n",
       "      <td>-0.509867</td>\n",
       "      <td>-0.010599</td>\n",
       "      <td>-0.599602</td>\n",
       "      <td>-1.185855</td>\n",
       "      <td>-1.389545</td>\n",
       "      <td>20</td>\n",
       "    </tr>\n",
       "    <tr>\n",
       "      <th>R4</th>\n",
       "      <td>-0.341243</td>\n",
       "      <td>0.557779</td>\n",
       "      <td>-1.329904</td>\n",
       "      <td>-2.000770</td>\n",
       "      <td>0.270937</td>\n",
       "      <td>25</td>\n",
       "    </tr>\n",
       "  </tbody>\n",
       "</table>\n",
       "</div>"
      ],
      "text/plain": [
       "          C1        C2        C3        C4        C5  New col.\n",
       "R1  0.321277 -1.297490  0.164878  0.489730 -0.420024        10\n",
       "R2  0.963872  0.070821 -0.727547 -1.016918 -0.504934        15\n",
       "R3 -0.509867 -0.010599 -0.599602 -1.185855 -1.389545        20\n",
       "R4 -0.341243  0.557779 -1.329904 -2.000770  0.270937        25"
      ]
     },
     "execution_count": 54,
     "metadata": {},
     "output_type": "execute_result"
    }
   ],
   "source": [
    "# Add new column\n",
    "ex_dataframe_tmp = ex_dataframe_1\n",
    "ex_dataframe_tmp['New col.'] = [10,15,20,25]\n",
    "ex_dataframe_tmp "
   ]
  },
  {
   "cell_type": "markdown",
   "id": "6e60c32d",
   "metadata": {},
   "source": [
    "* The other operation is to drop a row or a column from a data frame, which uses the method **.drop('Row label', axis =0, inplace = False)**. Note that:\n",
    "\n",
    "- **.drop()** will remove a row, but **not in-place**.\n",
    "\n",
    "- To drop a column, need to specify **axis = 1** in the second argument.\n",
    "\n",
    "- **.drop()** creates a **new instance** of the data frame from which the indicated rows/columns have been removed. If we want to permanently remove elements, one specifies **inplace = True**."
   ]
  },
  {
   "cell_type": "code",
   "execution_count": 55,
   "id": "14ccafab",
   "metadata": {},
   "outputs": [
    {
     "data": {
      "text/html": [
       "<div>\n",
       "<style scoped>\n",
       "    .dataframe tbody tr th:only-of-type {\n",
       "        vertical-align: middle;\n",
       "    }\n",
       "\n",
       "    .dataframe tbody tr th {\n",
       "        vertical-align: top;\n",
       "    }\n",
       "\n",
       "    .dataframe thead th {\n",
       "        text-align: right;\n",
       "    }\n",
       "</style>\n",
       "<table border=\"1\" class=\"dataframe\">\n",
       "  <thead>\n",
       "    <tr style=\"text-align: right;\">\n",
       "      <th></th>\n",
       "      <th>C1</th>\n",
       "      <th>C2</th>\n",
       "      <th>C3</th>\n",
       "      <th>C4</th>\n",
       "      <th>C5</th>\n",
       "    </tr>\n",
       "  </thead>\n",
       "  <tbody>\n",
       "    <tr>\n",
       "      <th>R1</th>\n",
       "      <td>0.139724</td>\n",
       "      <td>-1.251075</td>\n",
       "      <td>0.351703</td>\n",
       "      <td>-0.023025</td>\n",
       "      <td>0.850264</td>\n",
       "    </tr>\n",
       "    <tr>\n",
       "      <th>R2</th>\n",
       "      <td>-0.788773</td>\n",
       "      <td>0.657919</td>\n",
       "      <td>1.352167</td>\n",
       "      <td>-0.635367</td>\n",
       "      <td>0.559823</td>\n",
       "    </tr>\n",
       "    <tr>\n",
       "      <th>R3</th>\n",
       "      <td>-1.952329</td>\n",
       "      <td>-0.614121</td>\n",
       "      <td>-0.443811</td>\n",
       "      <td>-0.699137</td>\n",
       "      <td>-0.443617</td>\n",
       "    </tr>\n",
       "    <tr>\n",
       "      <th>R4</th>\n",
       "      <td>1.706844</td>\n",
       "      <td>-0.324072</td>\n",
       "      <td>1.333450</td>\n",
       "      <td>0.475820</td>\n",
       "      <td>-0.047583</td>\n",
       "    </tr>\n",
       "  </tbody>\n",
       "</table>\n",
       "</div>"
      ],
      "text/plain": [
       "          C1        C2        C3        C4        C5\n",
       "R1  0.139724 -1.251075  0.351703 -0.023025  0.850264\n",
       "R2 -0.788773  0.657919  1.352167 -0.635367  0.559823\n",
       "R3 -1.952329 -0.614121 -0.443811 -0.699137 -0.443617\n",
       "R4  1.706844 -0.324072  1.333450  0.475820 -0.047583"
      ]
     },
     "execution_count": 55,
     "metadata": {},
     "output_type": "execute_result"
    }
   ],
   "source": [
    "ex_dataframe_2"
   ]
  },
  {
   "cell_type": "code",
   "execution_count": 56,
   "id": "565fd9e2",
   "metadata": {},
   "outputs": [
    {
     "data": {
      "text/html": [
       "<div>\n",
       "<style scoped>\n",
       "    .dataframe tbody tr th:only-of-type {\n",
       "        vertical-align: middle;\n",
       "    }\n",
       "\n",
       "    .dataframe tbody tr th {\n",
       "        vertical-align: top;\n",
       "    }\n",
       "\n",
       "    .dataframe thead th {\n",
       "        text-align: right;\n",
       "    }\n",
       "</style>\n",
       "<table border=\"1\" class=\"dataframe\">\n",
       "  <thead>\n",
       "    <tr style=\"text-align: right;\">\n",
       "      <th></th>\n",
       "      <th>C1</th>\n",
       "      <th>C2</th>\n",
       "      <th>C3</th>\n",
       "      <th>C4</th>\n",
       "      <th>C5</th>\n",
       "    </tr>\n",
       "  </thead>\n",
       "  <tbody>\n",
       "    <tr>\n",
       "      <th>R1</th>\n",
       "      <td>0.139724</td>\n",
       "      <td>-1.251075</td>\n",
       "      <td>0.351703</td>\n",
       "      <td>-0.023025</td>\n",
       "      <td>0.850264</td>\n",
       "    </tr>\n",
       "    <tr>\n",
       "      <th>R2</th>\n",
       "      <td>-0.788773</td>\n",
       "      <td>0.657919</td>\n",
       "      <td>1.352167</td>\n",
       "      <td>-0.635367</td>\n",
       "      <td>0.559823</td>\n",
       "    </tr>\n",
       "    <tr>\n",
       "      <th>R3</th>\n",
       "      <td>-1.952329</td>\n",
       "      <td>-0.614121</td>\n",
       "      <td>-0.443811</td>\n",
       "      <td>-0.699137</td>\n",
       "      <td>-0.443617</td>\n",
       "    </tr>\n",
       "  </tbody>\n",
       "</table>\n",
       "</div>"
      ],
      "text/plain": [
       "          C1        C2        C3        C4        C5\n",
       "R1  0.139724 -1.251075  0.351703 -0.023025  0.850264\n",
       "R2 -0.788773  0.657919  1.352167 -0.635367  0.559823\n",
       "R3 -1.952329 -0.614121 -0.443811 -0.699137 -0.443617"
      ]
     },
     "execution_count": 56,
     "metadata": {},
     "output_type": "execute_result"
    }
   ],
   "source": [
    "ex_dataframe_2.drop('R4')"
   ]
  },
  {
   "cell_type": "code",
   "execution_count": 57,
   "id": "0c0d3495",
   "metadata": {},
   "outputs": [
    {
     "data": {
      "text/html": [
       "<div>\n",
       "<style scoped>\n",
       "    .dataframe tbody tr th:only-of-type {\n",
       "        vertical-align: middle;\n",
       "    }\n",
       "\n",
       "    .dataframe tbody tr th {\n",
       "        vertical-align: top;\n",
       "    }\n",
       "\n",
       "    .dataframe thead th {\n",
       "        text-align: right;\n",
       "    }\n",
       "</style>\n",
       "<table border=\"1\" class=\"dataframe\">\n",
       "  <thead>\n",
       "    <tr style=\"text-align: right;\">\n",
       "      <th></th>\n",
       "      <th>C1</th>\n",
       "      <th>C3</th>\n",
       "      <th>C4</th>\n",
       "      <th>C5</th>\n",
       "    </tr>\n",
       "  </thead>\n",
       "  <tbody>\n",
       "    <tr>\n",
       "      <th>R1</th>\n",
       "      <td>0.139724</td>\n",
       "      <td>0.351703</td>\n",
       "      <td>-0.023025</td>\n",
       "      <td>0.850264</td>\n",
       "    </tr>\n",
       "    <tr>\n",
       "      <th>R2</th>\n",
       "      <td>-0.788773</td>\n",
       "      <td>1.352167</td>\n",
       "      <td>-0.635367</td>\n",
       "      <td>0.559823</td>\n",
       "    </tr>\n",
       "    <tr>\n",
       "      <th>R3</th>\n",
       "      <td>-1.952329</td>\n",
       "      <td>-0.443811</td>\n",
       "      <td>-0.699137</td>\n",
       "      <td>-0.443617</td>\n",
       "    </tr>\n",
       "    <tr>\n",
       "      <th>R4</th>\n",
       "      <td>1.706844</td>\n",
       "      <td>1.333450</td>\n",
       "      <td>0.475820</td>\n",
       "      <td>-0.047583</td>\n",
       "    </tr>\n",
       "  </tbody>\n",
       "</table>\n",
       "</div>"
      ],
      "text/plain": [
       "          C1        C3        C4        C5\n",
       "R1  0.139724  0.351703 -0.023025  0.850264\n",
       "R2 -0.788773  1.352167 -0.635367  0.559823\n",
       "R3 -1.952329 -0.443811 -0.699137 -0.443617\n",
       "R4  1.706844  1.333450  0.475820 -0.047583"
      ]
     },
     "execution_count": 57,
     "metadata": {},
     "output_type": "execute_result"
    }
   ],
   "source": [
    "ex_dataframe_2.drop('C2', axis = 1)"
   ]
  },
  {
   "cell_type": "code",
   "execution_count": 58,
   "id": "86e9f645",
   "metadata": {},
   "outputs": [
    {
     "data": {
      "text/html": [
       "<div>\n",
       "<style scoped>\n",
       "    .dataframe tbody tr th:only-of-type {\n",
       "        vertical-align: middle;\n",
       "    }\n",
       "\n",
       "    .dataframe tbody tr th {\n",
       "        vertical-align: top;\n",
       "    }\n",
       "\n",
       "    .dataframe thead th {\n",
       "        text-align: right;\n",
       "    }\n",
       "</style>\n",
       "<table border=\"1\" class=\"dataframe\">\n",
       "  <thead>\n",
       "    <tr style=\"text-align: right;\">\n",
       "      <th></th>\n",
       "      <th>C1</th>\n",
       "      <th>C2</th>\n",
       "      <th>C3</th>\n",
       "      <th>C4</th>\n",
       "      <th>C5</th>\n",
       "    </tr>\n",
       "  </thead>\n",
       "  <tbody>\n",
       "    <tr>\n",
       "      <th>R1</th>\n",
       "      <td>0.139724</td>\n",
       "      <td>-1.251075</td>\n",
       "      <td>0.351703</td>\n",
       "      <td>-0.023025</td>\n",
       "      <td>0.850264</td>\n",
       "    </tr>\n",
       "    <tr>\n",
       "      <th>R2</th>\n",
       "      <td>-0.788773</td>\n",
       "      <td>0.657919</td>\n",
       "      <td>1.352167</td>\n",
       "      <td>-0.635367</td>\n",
       "      <td>0.559823</td>\n",
       "    </tr>\n",
       "    <tr>\n",
       "      <th>R3</th>\n",
       "      <td>-1.952329</td>\n",
       "      <td>-0.614121</td>\n",
       "      <td>-0.443811</td>\n",
       "      <td>-0.699137</td>\n",
       "      <td>-0.443617</td>\n",
       "    </tr>\n",
       "    <tr>\n",
       "      <th>R4</th>\n",
       "      <td>1.706844</td>\n",
       "      <td>-0.324072</td>\n",
       "      <td>1.333450</td>\n",
       "      <td>0.475820</td>\n",
       "      <td>-0.047583</td>\n",
       "    </tr>\n",
       "  </tbody>\n",
       "</table>\n",
       "</div>"
      ],
      "text/plain": [
       "          C1        C2        C3        C4        C5\n",
       "R1  0.139724 -1.251075  0.351703 -0.023025  0.850264\n",
       "R2 -0.788773  0.657919  1.352167 -0.635367  0.559823\n",
       "R3 -1.952329 -0.614121 -0.443811 -0.699137 -0.443617\n",
       "R4  1.706844 -0.324072  1.333450  0.475820 -0.047583"
      ]
     },
     "execution_count": 58,
     "metadata": {},
     "output_type": "execute_result"
    }
   ],
   "source": [
    "ex_dataframe_2"
   ]
  },
  {
   "cell_type": "code",
   "execution_count": 60,
   "id": "47aba57a",
   "metadata": {},
   "outputs": [],
   "source": [
    "ex_dataframe_temp = ex_dataframe_2\n",
    "ex_dataframe_temp.drop('C2', axis = 1, inplace = True)"
   ]
  },
  {
   "cell_type": "code",
   "execution_count": 61,
   "id": "6dd95bcb",
   "metadata": {},
   "outputs": [
    {
     "data": {
      "text/html": [
       "<div>\n",
       "<style scoped>\n",
       "    .dataframe tbody tr th:only-of-type {\n",
       "        vertical-align: middle;\n",
       "    }\n",
       "\n",
       "    .dataframe tbody tr th {\n",
       "        vertical-align: top;\n",
       "    }\n",
       "\n",
       "    .dataframe thead th {\n",
       "        text-align: right;\n",
       "    }\n",
       "</style>\n",
       "<table border=\"1\" class=\"dataframe\">\n",
       "  <thead>\n",
       "    <tr style=\"text-align: right;\">\n",
       "      <th></th>\n",
       "      <th>C1</th>\n",
       "      <th>C3</th>\n",
       "      <th>C4</th>\n",
       "      <th>C5</th>\n",
       "    </tr>\n",
       "  </thead>\n",
       "  <tbody>\n",
       "    <tr>\n",
       "      <th>R1</th>\n",
       "      <td>0.139724</td>\n",
       "      <td>0.351703</td>\n",
       "      <td>-0.023025</td>\n",
       "      <td>0.850264</td>\n",
       "    </tr>\n",
       "    <tr>\n",
       "      <th>R2</th>\n",
       "      <td>-0.788773</td>\n",
       "      <td>1.352167</td>\n",
       "      <td>-0.635367</td>\n",
       "      <td>0.559823</td>\n",
       "    </tr>\n",
       "    <tr>\n",
       "      <th>R3</th>\n",
       "      <td>-1.952329</td>\n",
       "      <td>-0.443811</td>\n",
       "      <td>-0.699137</td>\n",
       "      <td>-0.443617</td>\n",
       "    </tr>\n",
       "    <tr>\n",
       "      <th>R4</th>\n",
       "      <td>1.706844</td>\n",
       "      <td>1.333450</td>\n",
       "      <td>0.475820</td>\n",
       "      <td>-0.047583</td>\n",
       "    </tr>\n",
       "  </tbody>\n",
       "</table>\n",
       "</div>"
      ],
      "text/plain": [
       "          C1        C3        C4        C5\n",
       "R1  0.139724  0.351703 -0.023025  0.850264\n",
       "R2 -0.788773  1.352167 -0.635367  0.559823\n",
       "R3 -1.952329 -0.443811 -0.699137 -0.443617\n",
       "R4  1.706844  1.333450  0.475820 -0.047583"
      ]
     },
     "execution_count": 61,
     "metadata": {},
     "output_type": "execute_result"
    }
   ],
   "source": [
    "ex_dataframe_temp"
   ]
  },
  {
   "cell_type": "code",
   "execution_count": 63,
   "id": "e5611da6",
   "metadata": {
    "scrolled": true
   },
   "outputs": [
    {
     "data": {
      "text/html": [
       "<div>\n",
       "<style scoped>\n",
       "    .dataframe tbody tr th:only-of-type {\n",
       "        vertical-align: middle;\n",
       "    }\n",
       "\n",
       "    .dataframe tbody tr th {\n",
       "        vertical-align: top;\n",
       "    }\n",
       "\n",
       "    .dataframe thead th {\n",
       "        text-align: right;\n",
       "    }\n",
       "</style>\n",
       "<table border=\"1\" class=\"dataframe\">\n",
       "  <thead>\n",
       "    <tr style=\"text-align: right;\">\n",
       "      <th></th>\n",
       "      <th>C1</th>\n",
       "      <th>C3</th>\n",
       "      <th>C4</th>\n",
       "      <th>C5</th>\n",
       "    </tr>\n",
       "  </thead>\n",
       "  <tbody>\n",
       "    <tr>\n",
       "      <th>R1</th>\n",
       "      <td>0.139724</td>\n",
       "      <td>0.351703</td>\n",
       "      <td>-0.023025</td>\n",
       "      <td>0.850264</td>\n",
       "    </tr>\n",
       "    <tr>\n",
       "      <th>R2</th>\n",
       "      <td>-0.788773</td>\n",
       "      <td>1.352167</td>\n",
       "      <td>-0.635367</td>\n",
       "      <td>0.559823</td>\n",
       "    </tr>\n",
       "    <tr>\n",
       "      <th>R3</th>\n",
       "      <td>-1.952329</td>\n",
       "      <td>-0.443811</td>\n",
       "      <td>-0.699137</td>\n",
       "      <td>-0.443617</td>\n",
       "    </tr>\n",
       "    <tr>\n",
       "      <th>R4</th>\n",
       "      <td>1.706844</td>\n",
       "      <td>1.333450</td>\n",
       "      <td>0.475820</td>\n",
       "      <td>-0.047583</td>\n",
       "    </tr>\n",
       "  </tbody>\n",
       "</table>\n",
       "</div>"
      ],
      "text/plain": [
       "          C1        C3        C4        C5\n",
       "R1  0.139724  0.351703 -0.023025  0.850264\n",
       "R2 -0.788773  1.352167 -0.635367  0.559823\n",
       "R3 -1.952329 -0.443811 -0.699137 -0.443617\n",
       "R4  1.706844  1.333450  0.475820 -0.047583"
      ]
     },
     "execution_count": 63,
     "metadata": {},
     "output_type": "execute_result"
    }
   ],
   "source": [
    "# Python didn't make a copy, it used pointers\n",
    "ex_dataframe_2"
   ]
  },
  {
   "cell_type": "markdown",
   "id": "04380e0e",
   "metadata": {},
   "source": [
    "## **(2) Conditional selection in data frames**\n",
    "\n",
    "From Lecture 28. This part is about extracting elements of a data frame that satisfy Boolean conditions. For example, suppose we have a data frame where the X-axis labels are features, and that we only want the parts of the dataset with some feature being positive for instance. "
   ]
  },
  {
   "cell_type": "code",
   "execution_count": 64,
   "id": "0e14849b",
   "metadata": {
    "scrolled": true
   },
   "outputs": [
    {
     "data": {
      "text/html": [
       "<div>\n",
       "<style scoped>\n",
       "    .dataframe tbody tr th:only-of-type {\n",
       "        vertical-align: middle;\n",
       "    }\n",
       "\n",
       "    .dataframe tbody tr th {\n",
       "        vertical-align: top;\n",
       "    }\n",
       "\n",
       "    .dataframe thead th {\n",
       "        text-align: right;\n",
       "    }\n",
       "</style>\n",
       "<table border=\"1\" class=\"dataframe\">\n",
       "  <thead>\n",
       "    <tr style=\"text-align: right;\">\n",
       "      <th></th>\n",
       "      <th>C1</th>\n",
       "      <th>C2</th>\n",
       "      <th>C3</th>\n",
       "      <th>C4</th>\n",
       "      <th>C5</th>\n",
       "    </tr>\n",
       "  </thead>\n",
       "  <tbody>\n",
       "    <tr>\n",
       "      <th>R1</th>\n",
       "      <td>-1.770777</td>\n",
       "      <td>1.959427</td>\n",
       "      <td>-0.698027</td>\n",
       "      <td>0.003315</td>\n",
       "      <td>-0.271843</td>\n",
       "    </tr>\n",
       "    <tr>\n",
       "      <th>R2</th>\n",
       "      <td>-1.638769</td>\n",
       "      <td>0.263598</td>\n",
       "      <td>0.184388</td>\n",
       "      <td>0.280230</td>\n",
       "      <td>0.391731</td>\n",
       "    </tr>\n",
       "    <tr>\n",
       "      <th>R3</th>\n",
       "      <td>0.003833</td>\n",
       "      <td>-0.278987</td>\n",
       "      <td>0.069071</td>\n",
       "      <td>0.082046</td>\n",
       "      <td>0.920773</td>\n",
       "    </tr>\n",
       "    <tr>\n",
       "      <th>R4</th>\n",
       "      <td>0.789961</td>\n",
       "      <td>-0.306840</td>\n",
       "      <td>-1.619309</td>\n",
       "      <td>-0.537575</td>\n",
       "      <td>0.133525</td>\n",
       "    </tr>\n",
       "  </tbody>\n",
       "</table>\n",
       "</div>"
      ],
      "text/plain": [
       "          C1        C2        C3        C4        C5\n",
       "R1 -1.770777  1.959427 -0.698027  0.003315 -0.271843\n",
       "R2 -1.638769  0.263598  0.184388  0.280230  0.391731\n",
       "R3  0.003833 -0.278987  0.069071  0.082046  0.920773\n",
       "R4  0.789961 -0.306840 -1.619309 -0.537575  0.133525"
      ]
     },
     "execution_count": 64,
     "metadata": {},
     "output_type": "execute_result"
    }
   ],
   "source": [
    "ex_dataframe_1 = pd.DataFrame(np.random.randn(4,5),  ['R1','R2','R3','R4'], ['C1','C2','C3','C4','C5'])\n",
    "ex_dataframe_1"
   ]
  },
  {
   "cell_type": "markdown",
   "id": "9fcd8b54",
   "metadata": {},
   "source": [
    "* Below, we extract all the rows that have positive entries for the 'C1' label. This passing a series of Booleans as follows:"
   ]
  },
  {
   "cell_type": "code",
   "execution_count": 65,
   "id": "b5a4856d",
   "metadata": {},
   "outputs": [
    {
     "data": {
      "text/html": [
       "<div>\n",
       "<style scoped>\n",
       "    .dataframe tbody tr th:only-of-type {\n",
       "        vertical-align: middle;\n",
       "    }\n",
       "\n",
       "    .dataframe tbody tr th {\n",
       "        vertical-align: top;\n",
       "    }\n",
       "\n",
       "    .dataframe thead th {\n",
       "        text-align: right;\n",
       "    }\n",
       "</style>\n",
       "<table border=\"1\" class=\"dataframe\">\n",
       "  <thead>\n",
       "    <tr style=\"text-align: right;\">\n",
       "      <th></th>\n",
       "      <th>C1</th>\n",
       "      <th>C2</th>\n",
       "      <th>C3</th>\n",
       "      <th>C4</th>\n",
       "      <th>C5</th>\n",
       "    </tr>\n",
       "  </thead>\n",
       "  <tbody>\n",
       "    <tr>\n",
       "      <th>R3</th>\n",
       "      <td>0.003833</td>\n",
       "      <td>-0.278987</td>\n",
       "      <td>0.069071</td>\n",
       "      <td>0.082046</td>\n",
       "      <td>0.920773</td>\n",
       "    </tr>\n",
       "    <tr>\n",
       "      <th>R4</th>\n",
       "      <td>0.789961</td>\n",
       "      <td>-0.306840</td>\n",
       "      <td>-1.619309</td>\n",
       "      <td>-0.537575</td>\n",
       "      <td>0.133525</td>\n",
       "    </tr>\n",
       "  </tbody>\n",
       "</table>\n",
       "</div>"
      ],
      "text/plain": [
       "          C1        C2        C3        C4        C5\n",
       "R3  0.003833 -0.278987  0.069071  0.082046  0.920773\n",
       "R4  0.789961 -0.306840 -1.619309 -0.537575  0.133525"
      ]
     },
     "execution_count": 65,
     "metadata": {},
     "output_type": "execute_result"
    }
   ],
   "source": [
    "ex_dataframe_1[ex_dataframe_1['C1']>0]"
   ]
  },
  {
   "cell_type": "markdown",
   "id": "24b8bf4e",
   "metadata": {},
   "source": [
    "* We could also look at all the positive entries of the data frame. Pandas makes a data frame of Booleans as follows:"
   ]
  },
  {
   "cell_type": "code",
   "execution_count": 67,
   "id": "857642b1",
   "metadata": {
    "scrolled": true
   },
   "outputs": [
    {
     "data": {
      "text/html": [
       "<div>\n",
       "<style scoped>\n",
       "    .dataframe tbody tr th:only-of-type {\n",
       "        vertical-align: middle;\n",
       "    }\n",
       "\n",
       "    .dataframe tbody tr th {\n",
       "        vertical-align: top;\n",
       "    }\n",
       "\n",
       "    .dataframe thead th {\n",
       "        text-align: right;\n",
       "    }\n",
       "</style>\n",
       "<table border=\"1\" class=\"dataframe\">\n",
       "  <thead>\n",
       "    <tr style=\"text-align: right;\">\n",
       "      <th></th>\n",
       "      <th>C1</th>\n",
       "      <th>C2</th>\n",
       "      <th>C3</th>\n",
       "      <th>C4</th>\n",
       "      <th>C5</th>\n",
       "    </tr>\n",
       "  </thead>\n",
       "  <tbody>\n",
       "    <tr>\n",
       "      <th>R1</th>\n",
       "      <td>False</td>\n",
       "      <td>True</td>\n",
       "      <td>False</td>\n",
       "      <td>True</td>\n",
       "      <td>False</td>\n",
       "    </tr>\n",
       "    <tr>\n",
       "      <th>R2</th>\n",
       "      <td>False</td>\n",
       "      <td>True</td>\n",
       "      <td>True</td>\n",
       "      <td>True</td>\n",
       "      <td>True</td>\n",
       "    </tr>\n",
       "    <tr>\n",
       "      <th>R3</th>\n",
       "      <td>True</td>\n",
       "      <td>False</td>\n",
       "      <td>True</td>\n",
       "      <td>True</td>\n",
       "      <td>True</td>\n",
       "    </tr>\n",
       "    <tr>\n",
       "      <th>R4</th>\n",
       "      <td>True</td>\n",
       "      <td>False</td>\n",
       "      <td>False</td>\n",
       "      <td>False</td>\n",
       "      <td>True</td>\n",
       "    </tr>\n",
       "  </tbody>\n",
       "</table>\n",
       "</div>"
      ],
      "text/plain": [
       "       C1     C2     C3     C4     C5\n",
       "R1  False   True  False   True  False\n",
       "R2  False   True   True   True   True\n",
       "R3   True  False   True   True   True\n",
       "R4   True  False  False  False   True"
      ]
     },
     "execution_count": 67,
     "metadata": {},
     "output_type": "execute_result"
    }
   ],
   "source": [
    "ex_dataframe_1>0"
   ]
  },
  {
   "cell_type": "markdown",
   "id": "96b72c10",
   "metadata": {},
   "source": [
    "* An alternative is to pass the condition as an \"index\"/\"label\". The entries that don't satisfy the condition are indicated with a **NaN**"
   ]
  },
  {
   "cell_type": "code",
   "execution_count": 66,
   "id": "83f78a61",
   "metadata": {
    "scrolled": true
   },
   "outputs": [
    {
     "data": {
      "text/html": [
       "<div>\n",
       "<style scoped>\n",
       "    .dataframe tbody tr th:only-of-type {\n",
       "        vertical-align: middle;\n",
       "    }\n",
       "\n",
       "    .dataframe tbody tr th {\n",
       "        vertical-align: top;\n",
       "    }\n",
       "\n",
       "    .dataframe thead th {\n",
       "        text-align: right;\n",
       "    }\n",
       "</style>\n",
       "<table border=\"1\" class=\"dataframe\">\n",
       "  <thead>\n",
       "    <tr style=\"text-align: right;\">\n",
       "      <th></th>\n",
       "      <th>C1</th>\n",
       "      <th>C2</th>\n",
       "      <th>C3</th>\n",
       "      <th>C4</th>\n",
       "      <th>C5</th>\n",
       "    </tr>\n",
       "  </thead>\n",
       "  <tbody>\n",
       "    <tr>\n",
       "      <th>R1</th>\n",
       "      <td>NaN</td>\n",
       "      <td>1.959427</td>\n",
       "      <td>NaN</td>\n",
       "      <td>0.003315</td>\n",
       "      <td>NaN</td>\n",
       "    </tr>\n",
       "    <tr>\n",
       "      <th>R2</th>\n",
       "      <td>NaN</td>\n",
       "      <td>0.263598</td>\n",
       "      <td>0.184388</td>\n",
       "      <td>0.280230</td>\n",
       "      <td>0.391731</td>\n",
       "    </tr>\n",
       "    <tr>\n",
       "      <th>R3</th>\n",
       "      <td>0.003833</td>\n",
       "      <td>NaN</td>\n",
       "      <td>0.069071</td>\n",
       "      <td>0.082046</td>\n",
       "      <td>0.920773</td>\n",
       "    </tr>\n",
       "    <tr>\n",
       "      <th>R4</th>\n",
       "      <td>0.789961</td>\n",
       "      <td>NaN</td>\n",
       "      <td>NaN</td>\n",
       "      <td>NaN</td>\n",
       "      <td>0.133525</td>\n",
       "    </tr>\n",
       "  </tbody>\n",
       "</table>\n",
       "</div>"
      ],
      "text/plain": [
       "          C1        C2        C3        C4        C5\n",
       "R1       NaN  1.959427       NaN  0.003315       NaN\n",
       "R2       NaN  0.263598  0.184388  0.280230  0.391731\n",
       "R3  0.003833       NaN  0.069071  0.082046  0.920773\n",
       "R4  0.789961       NaN       NaN       NaN  0.133525"
      ]
     },
     "execution_count": 66,
     "metadata": {},
     "output_type": "execute_result"
    }
   ],
   "source": [
    "ex_dataframe_1[ex_dataframe_1>0]"
   ]
  },
  {
   "cell_type": "markdown",
   "id": "d6265d13",
   "metadata": {},
   "source": [
    "* Now suppose we want to use several Boolean conditions. The usual \"and/or\" operators are not overloaded for series or data frames of Booleans. One uses **&** instead of \"and\", while \"or\" is replaced by the pipe character \"**|**\"."
   ]
  },
  {
   "cell_type": "code",
   "execution_count": 77,
   "id": "f6575d51",
   "metadata": {},
   "outputs": [
    {
     "data": {
      "text/html": [
       "<div>\n",
       "<style scoped>\n",
       "    .dataframe tbody tr th:only-of-type {\n",
       "        vertical-align: middle;\n",
       "    }\n",
       "\n",
       "    .dataframe tbody tr th {\n",
       "        vertical-align: top;\n",
       "    }\n",
       "\n",
       "    .dataframe thead th {\n",
       "        text-align: right;\n",
       "    }\n",
       "</style>\n",
       "<table border=\"1\" class=\"dataframe\">\n",
       "  <thead>\n",
       "    <tr style=\"text-align: right;\">\n",
       "      <th></th>\n",
       "      <th>C1</th>\n",
       "      <th>C2</th>\n",
       "      <th>C3</th>\n",
       "      <th>C4</th>\n",
       "      <th>C5</th>\n",
       "    </tr>\n",
       "  </thead>\n",
       "  <tbody>\n",
       "    <tr>\n",
       "      <th>R4</th>\n",
       "      <td>0.789961</td>\n",
       "      <td>-0.30684</td>\n",
       "      <td>-1.619309</td>\n",
       "      <td>-0.537575</td>\n",
       "      <td>0.133525</td>\n",
       "    </tr>\n",
       "  </tbody>\n",
       "</table>\n",
       "</div>"
      ],
      "text/plain": [
       "          C1       C2        C3        C4        C5\n",
       "R4  0.789961 -0.30684 -1.619309 -0.537575  0.133525"
      ]
     },
     "execution_count": 77,
     "metadata": {},
     "output_type": "execute_result"
    }
   ],
   "source": [
    "ex_dataframe_1[(ex_dataframe_1['C1']>0) & (ex_dataframe_1['C4']<0)]"
   ]
  },
  {
   "cell_type": "code",
   "execution_count": 78,
   "id": "9e00f522",
   "metadata": {},
   "outputs": [
    {
     "data": {
      "text/html": [
       "<div>\n",
       "<style scoped>\n",
       "    .dataframe tbody tr th:only-of-type {\n",
       "        vertical-align: middle;\n",
       "    }\n",
       "\n",
       "    .dataframe tbody tr th {\n",
       "        vertical-align: top;\n",
       "    }\n",
       "\n",
       "    .dataframe thead th {\n",
       "        text-align: right;\n",
       "    }\n",
       "</style>\n",
       "<table border=\"1\" class=\"dataframe\">\n",
       "  <thead>\n",
       "    <tr style=\"text-align: right;\">\n",
       "      <th></th>\n",
       "      <th>C1</th>\n",
       "      <th>C2</th>\n",
       "      <th>C3</th>\n",
       "      <th>C4</th>\n",
       "      <th>C5</th>\n",
       "    </tr>\n",
       "  </thead>\n",
       "  <tbody>\n",
       "    <tr>\n",
       "      <th>R1</th>\n",
       "      <td>True</td>\n",
       "      <td>True</td>\n",
       "      <td>False</td>\n",
       "      <td>False</td>\n",
       "      <td>False</td>\n",
       "    </tr>\n",
       "    <tr>\n",
       "      <th>R2</th>\n",
       "      <td>True</td>\n",
       "      <td>False</td>\n",
       "      <td>False</td>\n",
       "      <td>False</td>\n",
       "      <td>False</td>\n",
       "    </tr>\n",
       "    <tr>\n",
       "      <th>R3</th>\n",
       "      <td>False</td>\n",
       "      <td>False</td>\n",
       "      <td>False</td>\n",
       "      <td>False</td>\n",
       "      <td>False</td>\n",
       "    </tr>\n",
       "    <tr>\n",
       "      <th>R4</th>\n",
       "      <td>False</td>\n",
       "      <td>False</td>\n",
       "      <td>True</td>\n",
       "      <td>False</td>\n",
       "      <td>False</td>\n",
       "    </tr>\n",
       "  </tbody>\n",
       "</table>\n",
       "</div>"
      ],
      "text/plain": [
       "       C1     C2     C3     C4     C5\n",
       "R1   True   True  False  False  False\n",
       "R2   True  False  False  False  False\n",
       "R3  False  False  False  False  False\n",
       "R4  False  False   True  False  False"
      ]
     },
     "execution_count": 78,
     "metadata": {},
     "output_type": "execute_result"
    }
   ],
   "source": [
    "(ex_dataframe_1 < -1) | (ex_dataframe_1 > 1)"
   ]
  },
  {
   "cell_type": "code",
   "execution_count": null,
   "id": "7d19a657",
   "metadata": {},
   "outputs": [],
   "source": []
  },
  {
   "cell_type": "markdown",
   "id": "939cfcfe",
   "metadata": {},
   "source": [
    "## **(3) Modifying row indices**\n",
    "\n",
    "From Lecture 28 of Pierian Data's DSML Bootcamp."
   ]
  },
  {
   "cell_type": "code",
   "execution_count": 68,
   "id": "382fc39f",
   "metadata": {},
   "outputs": [
    {
     "data": {
      "text/html": [
       "<div>\n",
       "<style scoped>\n",
       "    .dataframe tbody tr th:only-of-type {\n",
       "        vertical-align: middle;\n",
       "    }\n",
       "\n",
       "    .dataframe tbody tr th {\n",
       "        vertical-align: top;\n",
       "    }\n",
       "\n",
       "    .dataframe thead th {\n",
       "        text-align: right;\n",
       "    }\n",
       "</style>\n",
       "<table border=\"1\" class=\"dataframe\">\n",
       "  <thead>\n",
       "    <tr style=\"text-align: right;\">\n",
       "      <th></th>\n",
       "      <th>C1</th>\n",
       "      <th>C2</th>\n",
       "      <th>C3</th>\n",
       "      <th>C4</th>\n",
       "      <th>C5</th>\n",
       "    </tr>\n",
       "  </thead>\n",
       "  <tbody>\n",
       "    <tr>\n",
       "      <th>R1</th>\n",
       "      <td>-1.558311</td>\n",
       "      <td>0.072063</td>\n",
       "      <td>0.241595</td>\n",
       "      <td>-1.375811</td>\n",
       "      <td>-1.901028</td>\n",
       "    </tr>\n",
       "    <tr>\n",
       "      <th>R2</th>\n",
       "      <td>-1.008041</td>\n",
       "      <td>-0.724948</td>\n",
       "      <td>0.504336</td>\n",
       "      <td>-0.578982</td>\n",
       "      <td>-0.865823</td>\n",
       "    </tr>\n",
       "    <tr>\n",
       "      <th>R3</th>\n",
       "      <td>-1.000313</td>\n",
       "      <td>0.388727</td>\n",
       "      <td>0.062914</td>\n",
       "      <td>-0.601084</td>\n",
       "      <td>0.807964</td>\n",
       "    </tr>\n",
       "    <tr>\n",
       "      <th>R4</th>\n",
       "      <td>-2.130442</td>\n",
       "      <td>0.776806</td>\n",
       "      <td>-0.190295</td>\n",
       "      <td>0.607961</td>\n",
       "      <td>0.439592</td>\n",
       "    </tr>\n",
       "  </tbody>\n",
       "</table>\n",
       "</div>"
      ],
      "text/plain": [
       "          C1        C2        C3        C4        C5\n",
       "R1 -1.558311  0.072063  0.241595 -1.375811 -1.901028\n",
       "R2 -1.008041 -0.724948  0.504336 -0.578982 -0.865823\n",
       "R3 -1.000313  0.388727  0.062914 -0.601084  0.807964\n",
       "R4 -2.130442  0.776806 -0.190295  0.607961  0.439592"
      ]
     },
     "execution_count": 68,
     "metadata": {},
     "output_type": "execute_result"
    }
   ],
   "source": [
    "ex_dataframe_2 = pd.DataFrame(np.random.randn(4,5),['R1','R2','R3','R4'], ['C1','C2','C3','C4','C5'])\n",
    "ex_dataframe_2"
   ]
  },
  {
   "cell_type": "markdown",
   "id": "2745a29f",
   "metadata": {},
   "source": [
    "* Say we want to reset the row labels to usual int values. This is done using **.reset_index()**. This adds a new column with the original indices labels on the left:"
   ]
  },
  {
   "cell_type": "code",
   "execution_count": 69,
   "id": "7bc3dd6f",
   "metadata": {
    "scrolled": false
   },
   "outputs": [
    {
     "data": {
      "text/html": [
       "<div>\n",
       "<style scoped>\n",
       "    .dataframe tbody tr th:only-of-type {\n",
       "        vertical-align: middle;\n",
       "    }\n",
       "\n",
       "    .dataframe tbody tr th {\n",
       "        vertical-align: top;\n",
       "    }\n",
       "\n",
       "    .dataframe thead th {\n",
       "        text-align: right;\n",
       "    }\n",
       "</style>\n",
       "<table border=\"1\" class=\"dataframe\">\n",
       "  <thead>\n",
       "    <tr style=\"text-align: right;\">\n",
       "      <th></th>\n",
       "      <th>index</th>\n",
       "      <th>C1</th>\n",
       "      <th>C2</th>\n",
       "      <th>C3</th>\n",
       "      <th>C4</th>\n",
       "      <th>C5</th>\n",
       "    </tr>\n",
       "  </thead>\n",
       "  <tbody>\n",
       "    <tr>\n",
       "      <th>0</th>\n",
       "      <td>R1</td>\n",
       "      <td>-1.558311</td>\n",
       "      <td>0.072063</td>\n",
       "      <td>0.241595</td>\n",
       "      <td>-1.375811</td>\n",
       "      <td>-1.901028</td>\n",
       "    </tr>\n",
       "    <tr>\n",
       "      <th>1</th>\n",
       "      <td>R2</td>\n",
       "      <td>-1.008041</td>\n",
       "      <td>-0.724948</td>\n",
       "      <td>0.504336</td>\n",
       "      <td>-0.578982</td>\n",
       "      <td>-0.865823</td>\n",
       "    </tr>\n",
       "    <tr>\n",
       "      <th>2</th>\n",
       "      <td>R3</td>\n",
       "      <td>-1.000313</td>\n",
       "      <td>0.388727</td>\n",
       "      <td>0.062914</td>\n",
       "      <td>-0.601084</td>\n",
       "      <td>0.807964</td>\n",
       "    </tr>\n",
       "    <tr>\n",
       "      <th>3</th>\n",
       "      <td>R4</td>\n",
       "      <td>-2.130442</td>\n",
       "      <td>0.776806</td>\n",
       "      <td>-0.190295</td>\n",
       "      <td>0.607961</td>\n",
       "      <td>0.439592</td>\n",
       "    </tr>\n",
       "  </tbody>\n",
       "</table>\n",
       "</div>"
      ],
      "text/plain": [
       "  index        C1        C2        C3        C4        C5\n",
       "0    R1 -1.558311  0.072063  0.241595 -1.375811 -1.901028\n",
       "1    R2 -1.008041 -0.724948  0.504336 -0.578982 -0.865823\n",
       "2    R3 -1.000313  0.388727  0.062914 -0.601084  0.807964\n",
       "3    R4 -2.130442  0.776806 -0.190295  0.607961  0.439592"
      ]
     },
     "execution_count": 69,
     "metadata": {},
     "output_type": "execute_result"
    }
   ],
   "source": [
    "ex_dataframe_tmp = ex_dataframe_2.reset_index()\n",
    "ex_dataframe_tmp"
   ]
  },
  {
   "cell_type": "markdown",
   "id": "7d746545",
   "metadata": {},
   "source": [
    "The reset is **not in-place** by default, and one adds **inplace=True** as an argument if needed"
   ]
  },
  {
   "cell_type": "code",
   "execution_count": 70,
   "id": "7453144e",
   "metadata": {
    "scrolled": true
   },
   "outputs": [
    {
     "data": {
      "text/html": [
       "<div>\n",
       "<style scoped>\n",
       "    .dataframe tbody tr th:only-of-type {\n",
       "        vertical-align: middle;\n",
       "    }\n",
       "\n",
       "    .dataframe tbody tr th {\n",
       "        vertical-align: top;\n",
       "    }\n",
       "\n",
       "    .dataframe thead th {\n",
       "        text-align: right;\n",
       "    }\n",
       "</style>\n",
       "<table border=\"1\" class=\"dataframe\">\n",
       "  <thead>\n",
       "    <tr style=\"text-align: right;\">\n",
       "      <th></th>\n",
       "      <th>C1</th>\n",
       "      <th>C2</th>\n",
       "      <th>C3</th>\n",
       "      <th>C4</th>\n",
       "      <th>C5</th>\n",
       "    </tr>\n",
       "  </thead>\n",
       "  <tbody>\n",
       "    <tr>\n",
       "      <th>R1</th>\n",
       "      <td>-1.558311</td>\n",
       "      <td>0.072063</td>\n",
       "      <td>0.241595</td>\n",
       "      <td>-1.375811</td>\n",
       "      <td>-1.901028</td>\n",
       "    </tr>\n",
       "    <tr>\n",
       "      <th>R2</th>\n",
       "      <td>-1.008041</td>\n",
       "      <td>-0.724948</td>\n",
       "      <td>0.504336</td>\n",
       "      <td>-0.578982</td>\n",
       "      <td>-0.865823</td>\n",
       "    </tr>\n",
       "    <tr>\n",
       "      <th>R3</th>\n",
       "      <td>-1.000313</td>\n",
       "      <td>0.388727</td>\n",
       "      <td>0.062914</td>\n",
       "      <td>-0.601084</td>\n",
       "      <td>0.807964</td>\n",
       "    </tr>\n",
       "    <tr>\n",
       "      <th>R4</th>\n",
       "      <td>-2.130442</td>\n",
       "      <td>0.776806</td>\n",
       "      <td>-0.190295</td>\n",
       "      <td>0.607961</td>\n",
       "      <td>0.439592</td>\n",
       "    </tr>\n",
       "  </tbody>\n",
       "</table>\n",
       "</div>"
      ],
      "text/plain": [
       "          C1        C2        C3        C4        C5\n",
       "R1 -1.558311  0.072063  0.241595 -1.375811 -1.901028\n",
       "R2 -1.008041 -0.724948  0.504336 -0.578982 -0.865823\n",
       "R3 -1.000313  0.388727  0.062914 -0.601084  0.807964\n",
       "R4 -2.130442  0.776806 -0.190295  0.607961  0.439592"
      ]
     },
     "execution_count": 70,
     "metadata": {},
     "output_type": "execute_result"
    }
   ],
   "source": [
    "ex_dataframe_2"
   ]
  },
  {
   "cell_type": "markdown",
   "id": "095162ec",
   "metadata": {},
   "source": [
    "* Another possibility is to add a new column of labels, and make the latter the new row indices. The method **.set_index('New index label')** is used for this task."
   ]
  },
  {
   "cell_type": "code",
   "execution_count": 74,
   "id": "d8af1901",
   "metadata": {},
   "outputs": [
    {
     "data": {
      "text/html": [
       "<div>\n",
       "<style scoped>\n",
       "    .dataframe tbody tr th:only-of-type {\n",
       "        vertical-align: middle;\n",
       "    }\n",
       "\n",
       "    .dataframe tbody tr th {\n",
       "        vertical-align: top;\n",
       "    }\n",
       "\n",
       "    .dataframe thead th {\n",
       "        text-align: right;\n",
       "    }\n",
       "</style>\n",
       "<table border=\"1\" class=\"dataframe\">\n",
       "  <thead>\n",
       "    <tr style=\"text-align: right;\">\n",
       "      <th></th>\n",
       "      <th>C1</th>\n",
       "      <th>C2</th>\n",
       "      <th>C3</th>\n",
       "      <th>C4</th>\n",
       "      <th>C5</th>\n",
       "      <th>New Lbl</th>\n",
       "    </tr>\n",
       "  </thead>\n",
       "  <tbody>\n",
       "    <tr>\n",
       "      <th>R1</th>\n",
       "      <td>-1.558311</td>\n",
       "      <td>0.072063</td>\n",
       "      <td>0.241595</td>\n",
       "      <td>-1.375811</td>\n",
       "      <td>-1.901028</td>\n",
       "      <td>x</td>\n",
       "    </tr>\n",
       "    <tr>\n",
       "      <th>R2</th>\n",
       "      <td>-1.008041</td>\n",
       "      <td>-0.724948</td>\n",
       "      <td>0.504336</td>\n",
       "      <td>-0.578982</td>\n",
       "      <td>-0.865823</td>\n",
       "      <td>y</td>\n",
       "    </tr>\n",
       "    <tr>\n",
       "      <th>R3</th>\n",
       "      <td>-1.000313</td>\n",
       "      <td>0.388727</td>\n",
       "      <td>0.062914</td>\n",
       "      <td>-0.601084</td>\n",
       "      <td>0.807964</td>\n",
       "      <td>z</td>\n",
       "    </tr>\n",
       "    <tr>\n",
       "      <th>R4</th>\n",
       "      <td>-2.130442</td>\n",
       "      <td>0.776806</td>\n",
       "      <td>-0.190295</td>\n",
       "      <td>0.607961</td>\n",
       "      <td>0.439592</td>\n",
       "      <td>t</td>\n",
       "    </tr>\n",
       "  </tbody>\n",
       "</table>\n",
       "</div>"
      ],
      "text/plain": [
       "          C1        C2        C3        C4        C5 New Lbl\n",
       "R1 -1.558311  0.072063  0.241595 -1.375811 -1.901028       x\n",
       "R2 -1.008041 -0.724948  0.504336 -0.578982 -0.865823       y\n",
       "R3 -1.000313  0.388727  0.062914 -0.601084  0.807964       z\n",
       "R4 -2.130442  0.776806 -0.190295  0.607961  0.439592       t"
      ]
     },
     "execution_count": 74,
     "metadata": {},
     "output_type": "execute_result"
    }
   ],
   "source": [
    "ex_dataframe_tmp = ex_dataframe_2\n",
    "ex_dataframe_tmp['New Lbl'] = ['x', 'y', 'z', 't']\n",
    "ex_dataframe_tmp"
   ]
  },
  {
   "cell_type": "code",
   "execution_count": 76,
   "id": "0d31859c",
   "metadata": {
    "scrolled": true
   },
   "outputs": [
    {
     "data": {
      "text/html": [
       "<div>\n",
       "<style scoped>\n",
       "    .dataframe tbody tr th:only-of-type {\n",
       "        vertical-align: middle;\n",
       "    }\n",
       "\n",
       "    .dataframe tbody tr th {\n",
       "        vertical-align: top;\n",
       "    }\n",
       "\n",
       "    .dataframe thead th {\n",
       "        text-align: right;\n",
       "    }\n",
       "</style>\n",
       "<table border=\"1\" class=\"dataframe\">\n",
       "  <thead>\n",
       "    <tr style=\"text-align: right;\">\n",
       "      <th></th>\n",
       "      <th>C1</th>\n",
       "      <th>C2</th>\n",
       "      <th>C3</th>\n",
       "      <th>C4</th>\n",
       "      <th>C5</th>\n",
       "    </tr>\n",
       "    <tr>\n",
       "      <th>New Lbl</th>\n",
       "      <th></th>\n",
       "      <th></th>\n",
       "      <th></th>\n",
       "      <th></th>\n",
       "      <th></th>\n",
       "    </tr>\n",
       "  </thead>\n",
       "  <tbody>\n",
       "    <tr>\n",
       "      <th>x</th>\n",
       "      <td>-1.558311</td>\n",
       "      <td>0.072063</td>\n",
       "      <td>0.241595</td>\n",
       "      <td>-1.375811</td>\n",
       "      <td>-1.901028</td>\n",
       "    </tr>\n",
       "    <tr>\n",
       "      <th>y</th>\n",
       "      <td>-1.008041</td>\n",
       "      <td>-0.724948</td>\n",
       "      <td>0.504336</td>\n",
       "      <td>-0.578982</td>\n",
       "      <td>-0.865823</td>\n",
       "    </tr>\n",
       "    <tr>\n",
       "      <th>z</th>\n",
       "      <td>-1.000313</td>\n",
       "      <td>0.388727</td>\n",
       "      <td>0.062914</td>\n",
       "      <td>-0.601084</td>\n",
       "      <td>0.807964</td>\n",
       "    </tr>\n",
       "    <tr>\n",
       "      <th>t</th>\n",
       "      <td>-2.130442</td>\n",
       "      <td>0.776806</td>\n",
       "      <td>-0.190295</td>\n",
       "      <td>0.607961</td>\n",
       "      <td>0.439592</td>\n",
       "    </tr>\n",
       "  </tbody>\n",
       "</table>\n",
       "</div>"
      ],
      "text/plain": [
       "               C1        C2        C3        C4        C5\n",
       "New Lbl                                                  \n",
       "x       -1.558311  0.072063  0.241595 -1.375811 -1.901028\n",
       "y       -1.008041 -0.724948  0.504336 -0.578982 -0.865823\n",
       "z       -1.000313  0.388727  0.062914 -0.601084  0.807964\n",
       "t       -2.130442  0.776806 -0.190295  0.607961  0.439592"
      ]
     },
     "execution_count": 76,
     "metadata": {},
     "output_type": "execute_result"
    }
   ],
   "source": [
    "ex_dataframe_tmp.set_index('New Lbl', inplace = True)\n",
    "ex_dataframe_tmp"
   ]
  },
  {
   "cell_type": "markdown",
   "id": "e0e7434f",
   "metadata": {},
   "source": [
    "## **(4) Multi-indexing**\n",
    "\n",
    "From Lecture 29 of Section 6. Pandas gives the possibility of creating data frames with several layers of indexing. Each index in this case gives rise to another data frame.\n",
    "\n",
    "**Remarks:** \n",
    "- I'll skip this part for now because it's not used frequently. Furthermore, the multi-index is itself one of Pandas objects which has to be constructed aside.\n",
    "\n",
    "- It comes-up later when dealing with financial data in the DSML course."
   ]
  },
  {
   "cell_type": "markdown",
   "id": "b358ec14",
   "metadata": {},
   "source": [
    "**Comments:** \n",
    "- It looks like most of the methods that manipulate data frames (and series) are not in-place by default. This is a safety measure to avoid losing initial data. \n",
    "- Also, I get the impression that Pandas does not create new variables from old by creating copies, but just creates pointers. This would make sense for memory management, but it's a point that isn't addressed explicitly in the course."
   ]
  },
  {
   "cell_type": "markdown",
   "id": "ad8bc70c",
   "metadata": {},
   "source": [
    "_________________________"
   ]
  },
  {
   "cell_type": "markdown",
   "id": "128de3ee",
   "metadata": {},
   "source": [
    "# **III - Missing Data**\n",
    "\n",
    "This is the content of Lecture 30 of Pierian Data's DSML. "
   ]
  },
  {
   "cell_type": "markdown",
   "id": "8df534d2",
   "metadata": {},
   "source": [
    "The starting point is that missing data is expected to be **NaN**. First we look at some methods to either suppress the rows/columns with missing data. For the purposes of our examples, we'll use Numpy's NaN."
   ]
  },
  {
   "cell_type": "code",
   "execution_count": 89,
   "id": "3b2f93ea",
   "metadata": {
    "scrolled": true
   },
   "outputs": [
    {
     "data": {
      "text/html": [
       "<div>\n",
       "<style scoped>\n",
       "    .dataframe tbody tr th:only-of-type {\n",
       "        vertical-align: middle;\n",
       "    }\n",
       "\n",
       "    .dataframe tbody tr th {\n",
       "        vertical-align: top;\n",
       "    }\n",
       "\n",
       "    .dataframe thead th {\n",
       "        text-align: right;\n",
       "    }\n",
       "</style>\n",
       "<table border=\"1\" class=\"dataframe\">\n",
       "  <thead>\n",
       "    <tr style=\"text-align: right;\">\n",
       "      <th></th>\n",
       "      <th>A</th>\n",
       "      <th>B</th>\n",
       "      <th>C</th>\n",
       "    </tr>\n",
       "  </thead>\n",
       "  <tbody>\n",
       "    <tr>\n",
       "      <th>0</th>\n",
       "      <td>3.141593</td>\n",
       "      <td>3.5</td>\n",
       "      <td>NaN</td>\n",
       "    </tr>\n",
       "    <tr>\n",
       "      <th>1</th>\n",
       "      <td>2.718282</td>\n",
       "      <td>NaN</td>\n",
       "      <td>NaN</td>\n",
       "    </tr>\n",
       "    <tr>\n",
       "      <th>2</th>\n",
       "      <td>0.000000</td>\n",
       "      <td>0.1</td>\n",
       "      <td>1.530459</td>\n",
       "    </tr>\n",
       "  </tbody>\n",
       "</table>\n",
       "</div>"
      ],
      "text/plain": [
       "          A    B         C\n",
       "0  3.141593  3.5       NaN\n",
       "1  2.718282  NaN       NaN\n",
       "2  0.000000  0.1  1.530459"
      ]
     },
     "execution_count": 89,
     "metadata": {},
     "output_type": "execute_result"
    }
   ],
   "source": [
    "df = pd.DataFrame({'A':[np.pi, np.e, 0.0], 'B':[3.5, np.nan, 0.1] , 'C':[np.nan, np.nan, np.random.randn()]})\n",
    "df"
   ]
  },
  {
   "cell_type": "markdown",
   "id": "c8c83ce2",
   "metadata": {},
   "source": [
    "* Removing a row containing missing data is done using the **pd_obj.dropna(axis =0)**, dropping a column is done by passing the **axis = 1** argument."
   ]
  },
  {
   "cell_type": "code",
   "execution_count": 90,
   "id": "347d57c1",
   "metadata": {},
   "outputs": [
    {
     "data": {
      "text/html": [
       "<div>\n",
       "<style scoped>\n",
       "    .dataframe tbody tr th:only-of-type {\n",
       "        vertical-align: middle;\n",
       "    }\n",
       "\n",
       "    .dataframe tbody tr th {\n",
       "        vertical-align: top;\n",
       "    }\n",
       "\n",
       "    .dataframe thead th {\n",
       "        text-align: right;\n",
       "    }\n",
       "</style>\n",
       "<table border=\"1\" class=\"dataframe\">\n",
       "  <thead>\n",
       "    <tr style=\"text-align: right;\">\n",
       "      <th></th>\n",
       "      <th>A</th>\n",
       "      <th>B</th>\n",
       "      <th>C</th>\n",
       "    </tr>\n",
       "  </thead>\n",
       "  <tbody>\n",
       "    <tr>\n",
       "      <th>2</th>\n",
       "      <td>0.0</td>\n",
       "      <td>0.1</td>\n",
       "      <td>1.530459</td>\n",
       "    </tr>\n",
       "  </tbody>\n",
       "</table>\n",
       "</div>"
      ],
      "text/plain": [
       "     A    B         C\n",
       "2  0.0  0.1  1.530459"
      ]
     },
     "execution_count": 90,
     "metadata": {},
     "output_type": "execute_result"
    }
   ],
   "source": [
    "df.dropna()"
   ]
  },
  {
   "cell_type": "code",
   "execution_count": 91,
   "id": "fd67a462",
   "metadata": {},
   "outputs": [
    {
     "data": {
      "text/html": [
       "<div>\n",
       "<style scoped>\n",
       "    .dataframe tbody tr th:only-of-type {\n",
       "        vertical-align: middle;\n",
       "    }\n",
       "\n",
       "    .dataframe tbody tr th {\n",
       "        vertical-align: top;\n",
       "    }\n",
       "\n",
       "    .dataframe thead th {\n",
       "        text-align: right;\n",
       "    }\n",
       "</style>\n",
       "<table border=\"1\" class=\"dataframe\">\n",
       "  <thead>\n",
       "    <tr style=\"text-align: right;\">\n",
       "      <th></th>\n",
       "      <th>A</th>\n",
       "    </tr>\n",
       "  </thead>\n",
       "  <tbody>\n",
       "    <tr>\n",
       "      <th>0</th>\n",
       "      <td>3.141593</td>\n",
       "    </tr>\n",
       "    <tr>\n",
       "      <th>1</th>\n",
       "      <td>2.718282</td>\n",
       "    </tr>\n",
       "    <tr>\n",
       "      <th>2</th>\n",
       "      <td>0.000000</td>\n",
       "    </tr>\n",
       "  </tbody>\n",
       "</table>\n",
       "</div>"
      ],
      "text/plain": [
       "          A\n",
       "0  3.141593\n",
       "1  2.718282\n",
       "2  0.000000"
      ]
     },
     "execution_count": 91,
     "metadata": {},
     "output_type": "execute_result"
    }
   ],
   "source": [
    "df.dropna(axis=1)"
   ]
  },
  {
   "cell_type": "markdown",
   "id": "8e5cf5be",
   "metadata": {},
   "source": [
    "* One can also remove starting from a threshold, by specifying the minimum of missing entries:"
   ]
  },
  {
   "cell_type": "code",
   "execution_count": 92,
   "id": "c757fc6a",
   "metadata": {},
   "outputs": [
    {
     "data": {
      "text/html": [
       "<div>\n",
       "<style scoped>\n",
       "    .dataframe tbody tr th:only-of-type {\n",
       "        vertical-align: middle;\n",
       "    }\n",
       "\n",
       "    .dataframe tbody tr th {\n",
       "        vertical-align: top;\n",
       "    }\n",
       "\n",
       "    .dataframe thead th {\n",
       "        text-align: right;\n",
       "    }\n",
       "</style>\n",
       "<table border=\"1\" class=\"dataframe\">\n",
       "  <thead>\n",
       "    <tr style=\"text-align: right;\">\n",
       "      <th></th>\n",
       "      <th>A</th>\n",
       "      <th>B</th>\n",
       "    </tr>\n",
       "  </thead>\n",
       "  <tbody>\n",
       "    <tr>\n",
       "      <th>0</th>\n",
       "      <td>3.141593</td>\n",
       "      <td>3.5</td>\n",
       "    </tr>\n",
       "    <tr>\n",
       "      <th>1</th>\n",
       "      <td>2.718282</td>\n",
       "      <td>NaN</td>\n",
       "    </tr>\n",
       "    <tr>\n",
       "      <th>2</th>\n",
       "      <td>0.000000</td>\n",
       "      <td>0.1</td>\n",
       "    </tr>\n",
       "  </tbody>\n",
       "</table>\n",
       "</div>"
      ],
      "text/plain": [
       "          A    B\n",
       "0  3.141593  3.5\n",
       "1  2.718282  NaN\n",
       "2  0.000000  0.1"
      ]
     },
     "execution_count": 92,
     "metadata": {},
     "output_type": "execute_result"
    }
   ],
   "source": [
    "df.dropna(axis=1, thresh =2)"
   ]
  },
  {
   "cell_type": "markdown",
   "id": "e7739796",
   "metadata": {},
   "source": [
    "* The next task we consider is replacing the missing values by something. The method **pd_dataframe.fillna(*New entry*)**. If we want to replace by the usual \"N/A\""
   ]
  },
  {
   "cell_type": "code",
   "execution_count": 99,
   "id": "bedd80a2",
   "metadata": {
    "scrolled": true
   },
   "outputs": [
    {
     "data": {
      "text/html": [
       "<div>\n",
       "<style scoped>\n",
       "    .dataframe tbody tr th:only-of-type {\n",
       "        vertical-align: middle;\n",
       "    }\n",
       "\n",
       "    .dataframe tbody tr th {\n",
       "        vertical-align: top;\n",
       "    }\n",
       "\n",
       "    .dataframe thead th {\n",
       "        text-align: right;\n",
       "    }\n",
       "</style>\n",
       "<table border=\"1\" class=\"dataframe\">\n",
       "  <thead>\n",
       "    <tr style=\"text-align: right;\">\n",
       "      <th></th>\n",
       "      <th>A</th>\n",
       "      <th>B</th>\n",
       "      <th>C</th>\n",
       "    </tr>\n",
       "  </thead>\n",
       "  <tbody>\n",
       "    <tr>\n",
       "      <th>0</th>\n",
       "      <td>3.141593</td>\n",
       "      <td>3.5</td>\n",
       "      <td>N/A</td>\n",
       "    </tr>\n",
       "    <tr>\n",
       "      <th>1</th>\n",
       "      <td>2.718282</td>\n",
       "      <td>N/A</td>\n",
       "      <td>N/A</td>\n",
       "    </tr>\n",
       "    <tr>\n",
       "      <th>2</th>\n",
       "      <td>0.000000</td>\n",
       "      <td>0.1</td>\n",
       "      <td>1.530459</td>\n",
       "    </tr>\n",
       "  </tbody>\n",
       "</table>\n",
       "</div>"
      ],
      "text/plain": [
       "          A    B         C\n",
       "0  3.141593  3.5       N/A\n",
       "1  2.718282  N/A       N/A\n",
       "2  0.000000  0.1  1.530459"
      ]
     },
     "execution_count": 99,
     "metadata": {},
     "output_type": "execute_result"
    }
   ],
   "source": [
    "df_2 = df.fillna(\"N/A\")\n",
    "df_2"
   ]
  },
  {
   "cell_type": "markdown",
   "id": "80e6130b",
   "metadata": {},
   "source": [
    "* In data science, it's often useful to replace missing entries by the average of the column:"
   ]
  },
  {
   "cell_type": "code",
   "execution_count": 110,
   "id": "62c04bf7",
   "metadata": {},
   "outputs": [
    {
     "data": {
      "text/html": [
       "<div>\n",
       "<style scoped>\n",
       "    .dataframe tbody tr th:only-of-type {\n",
       "        vertical-align: middle;\n",
       "    }\n",
       "\n",
       "    .dataframe tbody tr th {\n",
       "        vertical-align: top;\n",
       "    }\n",
       "\n",
       "    .dataframe thead th {\n",
       "        text-align: right;\n",
       "    }\n",
       "</style>\n",
       "<table border=\"1\" class=\"dataframe\">\n",
       "  <thead>\n",
       "    <tr style=\"text-align: right;\">\n",
       "      <th></th>\n",
       "      <th>A</th>\n",
       "      <th>B</th>\n",
       "      <th>C</th>\n",
       "    </tr>\n",
       "  </thead>\n",
       "  <tbody>\n",
       "    <tr>\n",
       "      <th>0</th>\n",
       "      <td>3.141593</td>\n",
       "      <td>3.5</td>\n",
       "      <td>1.530459</td>\n",
       "    </tr>\n",
       "    <tr>\n",
       "      <th>1</th>\n",
       "      <td>2.718282</td>\n",
       "      <td>1.8</td>\n",
       "      <td>1.530459</td>\n",
       "    </tr>\n",
       "    <tr>\n",
       "      <th>2</th>\n",
       "      <td>0.000000</td>\n",
       "      <td>0.1</td>\n",
       "      <td>1.530459</td>\n",
       "    </tr>\n",
       "  </tbody>\n",
       "</table>\n",
       "</div>"
      ],
      "text/plain": [
       "          A    B         C\n",
       "0  3.141593  3.5  1.530459\n",
       "1  2.718282  1.8  1.530459\n",
       "2  0.000000  0.1  1.530459"
      ]
     },
     "execution_count": 110,
     "metadata": {},
     "output_type": "execute_result"
    }
   ],
   "source": [
    "df_avg_col = df\n",
    "df_avg_col['C'] = df_avg_col['C'].fillna(df_avg_col['C'].mean())\n",
    "df_avg_col['B'] = df_avg_col['B'].fillna(df_avg_col['B'].mean())\n",
    "df_avg_col"
   ]
  },
  {
   "cell_type": "code",
   "execution_count": 109,
   "id": "c6de8d34",
   "metadata": {},
   "outputs": [
    {
     "data": {
      "text/plain": [
       "A    3.141593\n",
       "B    3.500000\n",
       "C         NaN\n",
       "Name: 0, dtype: float64"
      ]
     },
     "execution_count": 109,
     "metadata": {},
     "output_type": "execute_result"
    }
   ],
   "source": [
    "df_4"
   ]
  },
  {
   "cell_type": "markdown",
   "id": "4abfa311",
   "metadata": {},
   "source": [
    "________________________________________"
   ]
  },
  {
   "cell_type": "markdown",
   "id": "e245557d",
   "metadata": {},
   "source": [
    "# **IV - Groupby**\n",
    "\n",
    "Contents of Lecture 31. The idea of a groupby function is to group rows based off of a column and perform some aggregate function (e.g. taking average, std or variance). In the particular case of Pandas, the **pd_dataframe.Groupby(*Column lbl*)** creates a DataFrameGroupBy object, which is expected to be treated by another function to produce a new data frame."
   ]
  },
  {
   "cell_type": "code",
   "execution_count": 113,
   "id": "540886cb",
   "metadata": {},
   "outputs": [
    {
     "data": {
      "text/html": [
       "<div>\n",
       "<style scoped>\n",
       "    .dataframe tbody tr th:only-of-type {\n",
       "        vertical-align: middle;\n",
       "    }\n",
       "\n",
       "    .dataframe tbody tr th {\n",
       "        vertical-align: top;\n",
       "    }\n",
       "\n",
       "    .dataframe thead th {\n",
       "        text-align: right;\n",
       "    }\n",
       "</style>\n",
       "<table border=\"1\" class=\"dataframe\">\n",
       "  <thead>\n",
       "    <tr style=\"text-align: right;\">\n",
       "      <th></th>\n",
       "      <th>Company</th>\n",
       "      <th>Person</th>\n",
       "      <th>Sales</th>\n",
       "    </tr>\n",
       "  </thead>\n",
       "  <tbody>\n",
       "    <tr>\n",
       "      <th>0</th>\n",
       "      <td>GOOG</td>\n",
       "      <td>Sam</td>\n",
       "      <td>200</td>\n",
       "    </tr>\n",
       "    <tr>\n",
       "      <th>1</th>\n",
       "      <td>GOOG</td>\n",
       "      <td>Charlie</td>\n",
       "      <td>120</td>\n",
       "    </tr>\n",
       "    <tr>\n",
       "      <th>2</th>\n",
       "      <td>MSFT</td>\n",
       "      <td>Amy</td>\n",
       "      <td>340</td>\n",
       "    </tr>\n",
       "    <tr>\n",
       "      <th>3</th>\n",
       "      <td>MSFT</td>\n",
       "      <td>Vanessa</td>\n",
       "      <td>124</td>\n",
       "    </tr>\n",
       "    <tr>\n",
       "      <th>4</th>\n",
       "      <td>FB</td>\n",
       "      <td>Carl</td>\n",
       "      <td>243</td>\n",
       "    </tr>\n",
       "    <tr>\n",
       "      <th>5</th>\n",
       "      <td>FB</td>\n",
       "      <td>Sarah</td>\n",
       "      <td>350</td>\n",
       "    </tr>\n",
       "  </tbody>\n",
       "</table>\n",
       "</div>"
      ],
      "text/plain": [
       "  Company   Person  Sales\n",
       "0    GOOG      Sam    200\n",
       "1    GOOG  Charlie    120\n",
       "2    MSFT      Amy    340\n",
       "3    MSFT  Vanessa    124\n",
       "4      FB     Carl    243\n",
       "5      FB    Sarah    350"
      ]
     },
     "execution_count": 113,
     "metadata": {},
     "output_type": "execute_result"
    }
   ],
   "source": [
    "data = {'Company':['GOOG','GOOG','MSFT','MSFT','FB','FB'],\n",
    "       'Person':['Sam','Charlie','Amy','Vanessa','Carl','Sarah'],\n",
    "       'Sales':[200,120,340,124,243,350]}\n",
    "df = pd.DataFrame(data)\n",
    "df"
   ]
  },
  {
   "cell_type": "markdown",
   "id": "a6b3b78b",
   "metadata": {},
   "source": [
    "* First we apply **.Groupby('Company')** to the above data frame. Secondly, we create a new frame by applying a function:"
   ]
  },
  {
   "cell_type": "code",
   "execution_count": 115,
   "id": "a8595a42",
   "metadata": {},
   "outputs": [
    {
     "data": {
      "text/html": [
       "<div>\n",
       "<style scoped>\n",
       "    .dataframe tbody tr th:only-of-type {\n",
       "        vertical-align: middle;\n",
       "    }\n",
       "\n",
       "    .dataframe tbody tr th {\n",
       "        vertical-align: top;\n",
       "    }\n",
       "\n",
       "    .dataframe thead th {\n",
       "        text-align: right;\n",
       "    }\n",
       "</style>\n",
       "<table border=\"1\" class=\"dataframe\">\n",
       "  <thead>\n",
       "    <tr style=\"text-align: right;\">\n",
       "      <th></th>\n",
       "      <th>Sales</th>\n",
       "    </tr>\n",
       "    <tr>\n",
       "      <th>Company</th>\n",
       "      <th></th>\n",
       "    </tr>\n",
       "  </thead>\n",
       "  <tbody>\n",
       "    <tr>\n",
       "      <th>FB</th>\n",
       "      <td>593</td>\n",
       "    </tr>\n",
       "    <tr>\n",
       "      <th>GOOG</th>\n",
       "      <td>320</td>\n",
       "    </tr>\n",
       "    <tr>\n",
       "      <th>MSFT</th>\n",
       "      <td>464</td>\n",
       "    </tr>\n",
       "  </tbody>\n",
       "</table>\n",
       "</div>"
      ],
      "text/plain": [
       "         Sales\n",
       "Company       \n",
       "FB         593\n",
       "GOOG       320\n",
       "MSFT       464"
      ]
     },
     "execution_count": 115,
     "metadata": {},
     "output_type": "execute_result"
    }
   ],
   "source": [
    "df_sum_company = df.groupby('Company').sum()\n",
    "df_sum_company"
   ]
  },
  {
   "cell_type": "markdown",
   "id": "74edd902",
   "metadata": {},
   "source": [
    "* There's a very useful built-in function for the type of aggregate functions used with groupby, called **.describe()**"
   ]
  },
  {
   "cell_type": "code",
   "execution_count": 120,
   "id": "48344783",
   "metadata": {
    "scrolled": true
   },
   "outputs": [
    {
     "data": {
      "text/html": [
       "<div>\n",
       "<style scoped>\n",
       "    .dataframe tbody tr th:only-of-type {\n",
       "        vertical-align: middle;\n",
       "    }\n",
       "\n",
       "    .dataframe tbody tr th {\n",
       "        vertical-align: top;\n",
       "    }\n",
       "\n",
       "    .dataframe thead tr th {\n",
       "        text-align: left;\n",
       "    }\n",
       "\n",
       "    .dataframe thead tr:last-of-type th {\n",
       "        text-align: right;\n",
       "    }\n",
       "</style>\n",
       "<table border=\"1\" class=\"dataframe\">\n",
       "  <thead>\n",
       "    <tr>\n",
       "      <th></th>\n",
       "      <th colspan=\"8\" halign=\"left\">Sales</th>\n",
       "    </tr>\n",
       "    <tr>\n",
       "      <th></th>\n",
       "      <th>count</th>\n",
       "      <th>mean</th>\n",
       "      <th>std</th>\n",
       "      <th>min</th>\n",
       "      <th>25%</th>\n",
       "      <th>50%</th>\n",
       "      <th>75%</th>\n",
       "      <th>max</th>\n",
       "    </tr>\n",
       "    <tr>\n",
       "      <th>Company</th>\n",
       "      <th></th>\n",
       "      <th></th>\n",
       "      <th></th>\n",
       "      <th></th>\n",
       "      <th></th>\n",
       "      <th></th>\n",
       "      <th></th>\n",
       "      <th></th>\n",
       "    </tr>\n",
       "  </thead>\n",
       "  <tbody>\n",
       "    <tr>\n",
       "      <th>FB</th>\n",
       "      <td>2.0</td>\n",
       "      <td>296.5</td>\n",
       "      <td>75.660426</td>\n",
       "      <td>243.0</td>\n",
       "      <td>269.75</td>\n",
       "      <td>296.5</td>\n",
       "      <td>323.25</td>\n",
       "      <td>350.0</td>\n",
       "    </tr>\n",
       "    <tr>\n",
       "      <th>GOOG</th>\n",
       "      <td>2.0</td>\n",
       "      <td>160.0</td>\n",
       "      <td>56.568542</td>\n",
       "      <td>120.0</td>\n",
       "      <td>140.00</td>\n",
       "      <td>160.0</td>\n",
       "      <td>180.00</td>\n",
       "      <td>200.0</td>\n",
       "    </tr>\n",
       "    <tr>\n",
       "      <th>MSFT</th>\n",
       "      <td>2.0</td>\n",
       "      <td>232.0</td>\n",
       "      <td>152.735065</td>\n",
       "      <td>124.0</td>\n",
       "      <td>178.00</td>\n",
       "      <td>232.0</td>\n",
       "      <td>286.00</td>\n",
       "      <td>340.0</td>\n",
       "    </tr>\n",
       "  </tbody>\n",
       "</table>\n",
       "</div>"
      ],
      "text/plain": [
       "        Sales                                                        \n",
       "        count   mean         std    min     25%    50%     75%    max\n",
       "Company                                                              \n",
       "FB        2.0  296.5   75.660426  243.0  269.75  296.5  323.25  350.0\n",
       "GOOG      2.0  160.0   56.568542  120.0  140.00  160.0  180.00  200.0\n",
       "MSFT      2.0  232.0  152.735065  124.0  178.00  232.0  286.00  340.0"
      ]
     },
     "execution_count": 120,
     "metadata": {},
     "output_type": "execute_result"
    }
   ],
   "source": [
    "df.groupby('Company').describe()"
   ]
  },
  {
   "cell_type": "code",
   "execution_count": 119,
   "id": "c5dd2a56",
   "metadata": {},
   "outputs": [
    {
     "data": {
      "text/html": [
       "<div>\n",
       "<style scoped>\n",
       "    .dataframe tbody tr th:only-of-type {\n",
       "        vertical-align: middle;\n",
       "    }\n",
       "\n",
       "    .dataframe tbody tr th {\n",
       "        vertical-align: top;\n",
       "    }\n",
       "\n",
       "    .dataframe thead th {\n",
       "        text-align: right;\n",
       "    }\n",
       "</style>\n",
       "<table border=\"1\" class=\"dataframe\">\n",
       "  <thead>\n",
       "    <tr style=\"text-align: right;\">\n",
       "      <th></th>\n",
       "      <th>Company</th>\n",
       "      <th>FB</th>\n",
       "      <th>GOOG</th>\n",
       "      <th>MSFT</th>\n",
       "    </tr>\n",
       "  </thead>\n",
       "  <tbody>\n",
       "    <tr>\n",
       "      <th rowspan=\"8\" valign=\"top\">Sales</th>\n",
       "      <th>count</th>\n",
       "      <td>2.000000</td>\n",
       "      <td>2.000000</td>\n",
       "      <td>2.000000</td>\n",
       "    </tr>\n",
       "    <tr>\n",
       "      <th>mean</th>\n",
       "      <td>296.500000</td>\n",
       "      <td>160.000000</td>\n",
       "      <td>232.000000</td>\n",
       "    </tr>\n",
       "    <tr>\n",
       "      <th>std</th>\n",
       "      <td>75.660426</td>\n",
       "      <td>56.568542</td>\n",
       "      <td>152.735065</td>\n",
       "    </tr>\n",
       "    <tr>\n",
       "      <th>min</th>\n",
       "      <td>243.000000</td>\n",
       "      <td>120.000000</td>\n",
       "      <td>124.000000</td>\n",
       "    </tr>\n",
       "    <tr>\n",
       "      <th>25%</th>\n",
       "      <td>269.750000</td>\n",
       "      <td>140.000000</td>\n",
       "      <td>178.000000</td>\n",
       "    </tr>\n",
       "    <tr>\n",
       "      <th>50%</th>\n",
       "      <td>296.500000</td>\n",
       "      <td>160.000000</td>\n",
       "      <td>232.000000</td>\n",
       "    </tr>\n",
       "    <tr>\n",
       "      <th>75%</th>\n",
       "      <td>323.250000</td>\n",
       "      <td>180.000000</td>\n",
       "      <td>286.000000</td>\n",
       "    </tr>\n",
       "    <tr>\n",
       "      <th>max</th>\n",
       "      <td>350.000000</td>\n",
       "      <td>200.000000</td>\n",
       "      <td>340.000000</td>\n",
       "    </tr>\n",
       "  </tbody>\n",
       "</table>\n",
       "</div>"
      ],
      "text/plain": [
       "Company              FB        GOOG        MSFT\n",
       "Sales count    2.000000    2.000000    2.000000\n",
       "      mean   296.500000  160.000000  232.000000\n",
       "      std     75.660426   56.568542  152.735065\n",
       "      min    243.000000  120.000000  124.000000\n",
       "      25%    269.750000  140.000000  178.000000\n",
       "      50%    296.500000  160.000000  232.000000\n",
       "      75%    323.250000  180.000000  286.000000\n",
       "      max    350.000000  200.000000  340.000000"
      ]
     },
     "execution_count": 119,
     "metadata": {},
     "output_type": "execute_result"
    }
   ],
   "source": [
    "df.groupby('Company').describe().transpose()"
   ]
  },
  {
   "cell_type": "markdown",
   "id": "b2da2c44",
   "metadata": {},
   "source": [
    "________________________________________"
   ]
  },
  {
   "cell_type": "markdown",
   "id": "766da167",
   "metadata": {},
   "source": [
    "# **V - Merging, joining and concatenating**\n",
    "\n",
    "### **(2021/07/08)**\n",
    "\n",
    "Contents of Lecture 32. I'll use Pierian Data's examples on Github."
   ]
  },
  {
   "cell_type": "markdown",
   "id": "7d83b6c7",
   "metadata": {},
   "source": [
    "## **(1) Concatenation of data frames**"
   ]
  },
  {
   "cell_type": "code",
   "execution_count": 3,
   "id": "6f38cd8b",
   "metadata": {},
   "outputs": [],
   "source": [
    "# 3 example data frames\n",
    "df1 = pd.DataFrame({'A': ['A0', 'A1', 'A2', 'A3'],\n",
    "                        'B': ['B0', 'B1', 'B2', 'B3'],\n",
    "                        'C': ['C0', 'C1', 'C2', 'C3'],\n",
    "                        'D': ['D0', 'D1', 'D2', 'D3']},\n",
    "                        index=[0, 1, 2, 3])\n",
    "df2 = pd.DataFrame({'A': ['A4', 'A5', 'A6', 'A7'],\n",
    "                        'B': ['B4', 'B5', 'B6', 'B7'],\n",
    "                        'C': ['C4', 'C5', 'C6', 'C7'],\n",
    "                        'D': ['D4', 'D5', 'D6', 'D7']},\n",
    "                         index=[4, 5, 6, 7]) \n",
    "df3 = pd.DataFrame({'A': ['A8', 'A9', 'A10', 'A11'],\n",
    "                        'B': ['B8', 'B9', 'B10', 'B11'],\n",
    "                        'C': ['C8', 'C9', 'C10', 'C11'],\n",
    "                        'D': ['D8', 'D9', 'D10', 'D11']},\n",
    "                        index=[8, 9, 10, 11])"
   ]
  },
  {
   "cell_type": "markdown",
   "id": "37d45c63",
   "metadata": {},
   "source": [
    "* The example dataframes look like this:"
   ]
  },
  {
   "cell_type": "code",
   "execution_count": 5,
   "id": "b14ed65b",
   "metadata": {},
   "outputs": [
    {
     "data": {
      "text/html": [
       "<div>\n",
       "<style scoped>\n",
       "    .dataframe tbody tr th:only-of-type {\n",
       "        vertical-align: middle;\n",
       "    }\n",
       "\n",
       "    .dataframe tbody tr th {\n",
       "        vertical-align: top;\n",
       "    }\n",
       "\n",
       "    .dataframe thead th {\n",
       "        text-align: right;\n",
       "    }\n",
       "</style>\n",
       "<table border=\"1\" class=\"dataframe\">\n",
       "  <thead>\n",
       "    <tr style=\"text-align: right;\">\n",
       "      <th></th>\n",
       "      <th>A</th>\n",
       "      <th>B</th>\n",
       "      <th>C</th>\n",
       "      <th>D</th>\n",
       "    </tr>\n",
       "  </thead>\n",
       "  <tbody>\n",
       "    <tr>\n",
       "      <th>0</th>\n",
       "      <td>A0</td>\n",
       "      <td>B0</td>\n",
       "      <td>C0</td>\n",
       "      <td>D0</td>\n",
       "    </tr>\n",
       "    <tr>\n",
       "      <th>1</th>\n",
       "      <td>A1</td>\n",
       "      <td>B1</td>\n",
       "      <td>C1</td>\n",
       "      <td>D1</td>\n",
       "    </tr>\n",
       "    <tr>\n",
       "      <th>2</th>\n",
       "      <td>A2</td>\n",
       "      <td>B2</td>\n",
       "      <td>C2</td>\n",
       "      <td>D2</td>\n",
       "    </tr>\n",
       "    <tr>\n",
       "      <th>3</th>\n",
       "      <td>A3</td>\n",
       "      <td>B3</td>\n",
       "      <td>C3</td>\n",
       "      <td>D3</td>\n",
       "    </tr>\n",
       "  </tbody>\n",
       "</table>\n",
       "</div>"
      ],
      "text/plain": [
       "    A   B   C   D\n",
       "0  A0  B0  C0  D0\n",
       "1  A1  B1  C1  D1\n",
       "2  A2  B2  C2  D2\n",
       "3  A3  B3  C3  D3"
      ]
     },
     "execution_count": 5,
     "metadata": {},
     "output_type": "execute_result"
    }
   ],
   "source": [
    "df1"
   ]
  },
  {
   "cell_type": "code",
   "execution_count": 6,
   "id": "a2ef9e9f",
   "metadata": {},
   "outputs": [
    {
     "data": {
      "text/html": [
       "<div>\n",
       "<style scoped>\n",
       "    .dataframe tbody tr th:only-of-type {\n",
       "        vertical-align: middle;\n",
       "    }\n",
       "\n",
       "    .dataframe tbody tr th {\n",
       "        vertical-align: top;\n",
       "    }\n",
       "\n",
       "    .dataframe thead th {\n",
       "        text-align: right;\n",
       "    }\n",
       "</style>\n",
       "<table border=\"1\" class=\"dataframe\">\n",
       "  <thead>\n",
       "    <tr style=\"text-align: right;\">\n",
       "      <th></th>\n",
       "      <th>A</th>\n",
       "      <th>B</th>\n",
       "      <th>C</th>\n",
       "      <th>D</th>\n",
       "    </tr>\n",
       "  </thead>\n",
       "  <tbody>\n",
       "    <tr>\n",
       "      <th>4</th>\n",
       "      <td>A4</td>\n",
       "      <td>B4</td>\n",
       "      <td>C4</td>\n",
       "      <td>D4</td>\n",
       "    </tr>\n",
       "    <tr>\n",
       "      <th>5</th>\n",
       "      <td>A5</td>\n",
       "      <td>B5</td>\n",
       "      <td>C5</td>\n",
       "      <td>D5</td>\n",
       "    </tr>\n",
       "    <tr>\n",
       "      <th>6</th>\n",
       "      <td>A6</td>\n",
       "      <td>B6</td>\n",
       "      <td>C6</td>\n",
       "      <td>D6</td>\n",
       "    </tr>\n",
       "    <tr>\n",
       "      <th>7</th>\n",
       "      <td>A7</td>\n",
       "      <td>B7</td>\n",
       "      <td>C7</td>\n",
       "      <td>D7</td>\n",
       "    </tr>\n",
       "  </tbody>\n",
       "</table>\n",
       "</div>"
      ],
      "text/plain": [
       "    A   B   C   D\n",
       "4  A4  B4  C4  D4\n",
       "5  A5  B5  C5  D5\n",
       "6  A6  B6  C6  D6\n",
       "7  A7  B7  C7  D7"
      ]
     },
     "execution_count": 6,
     "metadata": {},
     "output_type": "execute_result"
    }
   ],
   "source": [
    "df2"
   ]
  },
  {
   "cell_type": "code",
   "execution_count": 7,
   "id": "b651001f",
   "metadata": {},
   "outputs": [
    {
     "data": {
      "text/html": [
       "<div>\n",
       "<style scoped>\n",
       "    .dataframe tbody tr th:only-of-type {\n",
       "        vertical-align: middle;\n",
       "    }\n",
       "\n",
       "    .dataframe tbody tr th {\n",
       "        vertical-align: top;\n",
       "    }\n",
       "\n",
       "    .dataframe thead th {\n",
       "        text-align: right;\n",
       "    }\n",
       "</style>\n",
       "<table border=\"1\" class=\"dataframe\">\n",
       "  <thead>\n",
       "    <tr style=\"text-align: right;\">\n",
       "      <th></th>\n",
       "      <th>A</th>\n",
       "      <th>B</th>\n",
       "      <th>C</th>\n",
       "      <th>D</th>\n",
       "    </tr>\n",
       "  </thead>\n",
       "  <tbody>\n",
       "    <tr>\n",
       "      <th>8</th>\n",
       "      <td>A8</td>\n",
       "      <td>B8</td>\n",
       "      <td>C8</td>\n",
       "      <td>D8</td>\n",
       "    </tr>\n",
       "    <tr>\n",
       "      <th>9</th>\n",
       "      <td>A9</td>\n",
       "      <td>B9</td>\n",
       "      <td>C9</td>\n",
       "      <td>D9</td>\n",
       "    </tr>\n",
       "    <tr>\n",
       "      <th>10</th>\n",
       "      <td>A10</td>\n",
       "      <td>B10</td>\n",
       "      <td>C10</td>\n",
       "      <td>D10</td>\n",
       "    </tr>\n",
       "    <tr>\n",
       "      <th>11</th>\n",
       "      <td>A11</td>\n",
       "      <td>B11</td>\n",
       "      <td>C11</td>\n",
       "      <td>D11</td>\n",
       "    </tr>\n",
       "  </tbody>\n",
       "</table>\n",
       "</div>"
      ],
      "text/plain": [
       "      A    B    C    D\n",
       "8    A8   B8   C8   D8\n",
       "9    A9   B9   C9   D9\n",
       "10  A10  B10  C10  D10\n",
       "11  A11  B11  C11  D11"
      ]
     },
     "execution_count": 7,
     "metadata": {},
     "output_type": "execute_result"
    }
   ],
   "source": [
    "df3"
   ]
  },
  {
   "cell_type": "markdown",
   "id": "cd81602d",
   "metadata": {},
   "source": [
    "* Concatenation is done with **pd.concat**. The main argument is a list of the data frames to be concatenated. First example is concatenation along rows (default axis 0), second one is along columns (axis 1)."
   ]
  },
  {
   "cell_type": "code",
   "execution_count": 8,
   "id": "03d683ae",
   "metadata": {},
   "outputs": [
    {
     "data": {
      "text/html": [
       "<div>\n",
       "<style scoped>\n",
       "    .dataframe tbody tr th:only-of-type {\n",
       "        vertical-align: middle;\n",
       "    }\n",
       "\n",
       "    .dataframe tbody tr th {\n",
       "        vertical-align: top;\n",
       "    }\n",
       "\n",
       "    .dataframe thead th {\n",
       "        text-align: right;\n",
       "    }\n",
       "</style>\n",
       "<table border=\"1\" class=\"dataframe\">\n",
       "  <thead>\n",
       "    <tr style=\"text-align: right;\">\n",
       "      <th></th>\n",
       "      <th>A</th>\n",
       "      <th>B</th>\n",
       "      <th>C</th>\n",
       "      <th>D</th>\n",
       "    </tr>\n",
       "  </thead>\n",
       "  <tbody>\n",
       "    <tr>\n",
       "      <th>0</th>\n",
       "      <td>A0</td>\n",
       "      <td>B0</td>\n",
       "      <td>C0</td>\n",
       "      <td>D0</td>\n",
       "    </tr>\n",
       "    <tr>\n",
       "      <th>1</th>\n",
       "      <td>A1</td>\n",
       "      <td>B1</td>\n",
       "      <td>C1</td>\n",
       "      <td>D1</td>\n",
       "    </tr>\n",
       "    <tr>\n",
       "      <th>2</th>\n",
       "      <td>A2</td>\n",
       "      <td>B2</td>\n",
       "      <td>C2</td>\n",
       "      <td>D2</td>\n",
       "    </tr>\n",
       "    <tr>\n",
       "      <th>3</th>\n",
       "      <td>A3</td>\n",
       "      <td>B3</td>\n",
       "      <td>C3</td>\n",
       "      <td>D3</td>\n",
       "    </tr>\n",
       "    <tr>\n",
       "      <th>4</th>\n",
       "      <td>A4</td>\n",
       "      <td>B4</td>\n",
       "      <td>C4</td>\n",
       "      <td>D4</td>\n",
       "    </tr>\n",
       "    <tr>\n",
       "      <th>5</th>\n",
       "      <td>A5</td>\n",
       "      <td>B5</td>\n",
       "      <td>C5</td>\n",
       "      <td>D5</td>\n",
       "    </tr>\n",
       "    <tr>\n",
       "      <th>6</th>\n",
       "      <td>A6</td>\n",
       "      <td>B6</td>\n",
       "      <td>C6</td>\n",
       "      <td>D6</td>\n",
       "    </tr>\n",
       "    <tr>\n",
       "      <th>7</th>\n",
       "      <td>A7</td>\n",
       "      <td>B7</td>\n",
       "      <td>C7</td>\n",
       "      <td>D7</td>\n",
       "    </tr>\n",
       "    <tr>\n",
       "      <th>8</th>\n",
       "      <td>A8</td>\n",
       "      <td>B8</td>\n",
       "      <td>C8</td>\n",
       "      <td>D8</td>\n",
       "    </tr>\n",
       "    <tr>\n",
       "      <th>9</th>\n",
       "      <td>A9</td>\n",
       "      <td>B9</td>\n",
       "      <td>C9</td>\n",
       "      <td>D9</td>\n",
       "    </tr>\n",
       "    <tr>\n",
       "      <th>10</th>\n",
       "      <td>A10</td>\n",
       "      <td>B10</td>\n",
       "      <td>C10</td>\n",
       "      <td>D10</td>\n",
       "    </tr>\n",
       "    <tr>\n",
       "      <th>11</th>\n",
       "      <td>A11</td>\n",
       "      <td>B11</td>\n",
       "      <td>C11</td>\n",
       "      <td>D11</td>\n",
       "    </tr>\n",
       "  </tbody>\n",
       "</table>\n",
       "</div>"
      ],
      "text/plain": [
       "      A    B    C    D\n",
       "0    A0   B0   C0   D0\n",
       "1    A1   B1   C1   D1\n",
       "2    A2   B2   C2   D2\n",
       "3    A3   B3   C3   D3\n",
       "4    A4   B4   C4   D4\n",
       "5    A5   B5   C5   D5\n",
       "6    A6   B6   C6   D6\n",
       "7    A7   B7   C7   D7\n",
       "8    A8   B8   C8   D8\n",
       "9    A9   B9   C9   D9\n",
       "10  A10  B10  C10  D10\n",
       "11  A11  B11  C11  D11"
      ]
     },
     "execution_count": 8,
     "metadata": {},
     "output_type": "execute_result"
    }
   ],
   "source": [
    "df_concat_rows = pd.concat([df1,df2,df3])\n",
    "df_concat_rows"
   ]
  },
  {
   "cell_type": "code",
   "execution_count": 10,
   "id": "df5f1b3c",
   "metadata": {},
   "outputs": [
    {
     "data": {
      "text/html": [
       "<div>\n",
       "<style scoped>\n",
       "    .dataframe tbody tr th:only-of-type {\n",
       "        vertical-align: middle;\n",
       "    }\n",
       "\n",
       "    .dataframe tbody tr th {\n",
       "        vertical-align: top;\n",
       "    }\n",
       "\n",
       "    .dataframe thead th {\n",
       "        text-align: right;\n",
       "    }\n",
       "</style>\n",
       "<table border=\"1\" class=\"dataframe\">\n",
       "  <thead>\n",
       "    <tr style=\"text-align: right;\">\n",
       "      <th></th>\n",
       "      <th>A</th>\n",
       "      <th>B</th>\n",
       "      <th>C</th>\n",
       "      <th>D</th>\n",
       "      <th>A</th>\n",
       "      <th>B</th>\n",
       "      <th>C</th>\n",
       "      <th>D</th>\n",
       "      <th>A</th>\n",
       "      <th>B</th>\n",
       "      <th>C</th>\n",
       "      <th>D</th>\n",
       "    </tr>\n",
       "  </thead>\n",
       "  <tbody>\n",
       "    <tr>\n",
       "      <th>0</th>\n",
       "      <td>A0</td>\n",
       "      <td>B0</td>\n",
       "      <td>C0</td>\n",
       "      <td>D0</td>\n",
       "      <td>NaN</td>\n",
       "      <td>NaN</td>\n",
       "      <td>NaN</td>\n",
       "      <td>NaN</td>\n",
       "      <td>NaN</td>\n",
       "      <td>NaN</td>\n",
       "      <td>NaN</td>\n",
       "      <td>NaN</td>\n",
       "    </tr>\n",
       "    <tr>\n",
       "      <th>1</th>\n",
       "      <td>A1</td>\n",
       "      <td>B1</td>\n",
       "      <td>C1</td>\n",
       "      <td>D1</td>\n",
       "      <td>NaN</td>\n",
       "      <td>NaN</td>\n",
       "      <td>NaN</td>\n",
       "      <td>NaN</td>\n",
       "      <td>NaN</td>\n",
       "      <td>NaN</td>\n",
       "      <td>NaN</td>\n",
       "      <td>NaN</td>\n",
       "    </tr>\n",
       "    <tr>\n",
       "      <th>2</th>\n",
       "      <td>A2</td>\n",
       "      <td>B2</td>\n",
       "      <td>C2</td>\n",
       "      <td>D2</td>\n",
       "      <td>NaN</td>\n",
       "      <td>NaN</td>\n",
       "      <td>NaN</td>\n",
       "      <td>NaN</td>\n",
       "      <td>NaN</td>\n",
       "      <td>NaN</td>\n",
       "      <td>NaN</td>\n",
       "      <td>NaN</td>\n",
       "    </tr>\n",
       "    <tr>\n",
       "      <th>3</th>\n",
       "      <td>A3</td>\n",
       "      <td>B3</td>\n",
       "      <td>C3</td>\n",
       "      <td>D3</td>\n",
       "      <td>NaN</td>\n",
       "      <td>NaN</td>\n",
       "      <td>NaN</td>\n",
       "      <td>NaN</td>\n",
       "      <td>NaN</td>\n",
       "      <td>NaN</td>\n",
       "      <td>NaN</td>\n",
       "      <td>NaN</td>\n",
       "    </tr>\n",
       "    <tr>\n",
       "      <th>4</th>\n",
       "      <td>NaN</td>\n",
       "      <td>NaN</td>\n",
       "      <td>NaN</td>\n",
       "      <td>NaN</td>\n",
       "      <td>A4</td>\n",
       "      <td>B4</td>\n",
       "      <td>C4</td>\n",
       "      <td>D4</td>\n",
       "      <td>NaN</td>\n",
       "      <td>NaN</td>\n",
       "      <td>NaN</td>\n",
       "      <td>NaN</td>\n",
       "    </tr>\n",
       "    <tr>\n",
       "      <th>5</th>\n",
       "      <td>NaN</td>\n",
       "      <td>NaN</td>\n",
       "      <td>NaN</td>\n",
       "      <td>NaN</td>\n",
       "      <td>A5</td>\n",
       "      <td>B5</td>\n",
       "      <td>C5</td>\n",
       "      <td>D5</td>\n",
       "      <td>NaN</td>\n",
       "      <td>NaN</td>\n",
       "      <td>NaN</td>\n",
       "      <td>NaN</td>\n",
       "    </tr>\n",
       "    <tr>\n",
       "      <th>6</th>\n",
       "      <td>NaN</td>\n",
       "      <td>NaN</td>\n",
       "      <td>NaN</td>\n",
       "      <td>NaN</td>\n",
       "      <td>A6</td>\n",
       "      <td>B6</td>\n",
       "      <td>C6</td>\n",
       "      <td>D6</td>\n",
       "      <td>NaN</td>\n",
       "      <td>NaN</td>\n",
       "      <td>NaN</td>\n",
       "      <td>NaN</td>\n",
       "    </tr>\n",
       "    <tr>\n",
       "      <th>7</th>\n",
       "      <td>NaN</td>\n",
       "      <td>NaN</td>\n",
       "      <td>NaN</td>\n",
       "      <td>NaN</td>\n",
       "      <td>A7</td>\n",
       "      <td>B7</td>\n",
       "      <td>C7</td>\n",
       "      <td>D7</td>\n",
       "      <td>NaN</td>\n",
       "      <td>NaN</td>\n",
       "      <td>NaN</td>\n",
       "      <td>NaN</td>\n",
       "    </tr>\n",
       "    <tr>\n",
       "      <th>8</th>\n",
       "      <td>NaN</td>\n",
       "      <td>NaN</td>\n",
       "      <td>NaN</td>\n",
       "      <td>NaN</td>\n",
       "      <td>NaN</td>\n",
       "      <td>NaN</td>\n",
       "      <td>NaN</td>\n",
       "      <td>NaN</td>\n",
       "      <td>A8</td>\n",
       "      <td>B8</td>\n",
       "      <td>C8</td>\n",
       "      <td>D8</td>\n",
       "    </tr>\n",
       "    <tr>\n",
       "      <th>9</th>\n",
       "      <td>NaN</td>\n",
       "      <td>NaN</td>\n",
       "      <td>NaN</td>\n",
       "      <td>NaN</td>\n",
       "      <td>NaN</td>\n",
       "      <td>NaN</td>\n",
       "      <td>NaN</td>\n",
       "      <td>NaN</td>\n",
       "      <td>A9</td>\n",
       "      <td>B9</td>\n",
       "      <td>C9</td>\n",
       "      <td>D9</td>\n",
       "    </tr>\n",
       "    <tr>\n",
       "      <th>10</th>\n",
       "      <td>NaN</td>\n",
       "      <td>NaN</td>\n",
       "      <td>NaN</td>\n",
       "      <td>NaN</td>\n",
       "      <td>NaN</td>\n",
       "      <td>NaN</td>\n",
       "      <td>NaN</td>\n",
       "      <td>NaN</td>\n",
       "      <td>A10</td>\n",
       "      <td>B10</td>\n",
       "      <td>C10</td>\n",
       "      <td>D10</td>\n",
       "    </tr>\n",
       "    <tr>\n",
       "      <th>11</th>\n",
       "      <td>NaN</td>\n",
       "      <td>NaN</td>\n",
       "      <td>NaN</td>\n",
       "      <td>NaN</td>\n",
       "      <td>NaN</td>\n",
       "      <td>NaN</td>\n",
       "      <td>NaN</td>\n",
       "      <td>NaN</td>\n",
       "      <td>A11</td>\n",
       "      <td>B11</td>\n",
       "      <td>C11</td>\n",
       "      <td>D11</td>\n",
       "    </tr>\n",
       "  </tbody>\n",
       "</table>\n",
       "</div>"
      ],
      "text/plain": [
       "      A    B    C    D    A    B    C    D    A    B    C    D\n",
       "0    A0   B0   C0   D0  NaN  NaN  NaN  NaN  NaN  NaN  NaN  NaN\n",
       "1    A1   B1   C1   D1  NaN  NaN  NaN  NaN  NaN  NaN  NaN  NaN\n",
       "2    A2   B2   C2   D2  NaN  NaN  NaN  NaN  NaN  NaN  NaN  NaN\n",
       "3    A3   B3   C3   D3  NaN  NaN  NaN  NaN  NaN  NaN  NaN  NaN\n",
       "4   NaN  NaN  NaN  NaN   A4   B4   C4   D4  NaN  NaN  NaN  NaN\n",
       "5   NaN  NaN  NaN  NaN   A5   B5   C5   D5  NaN  NaN  NaN  NaN\n",
       "6   NaN  NaN  NaN  NaN   A6   B6   C6   D6  NaN  NaN  NaN  NaN\n",
       "7   NaN  NaN  NaN  NaN   A7   B7   C7   D7  NaN  NaN  NaN  NaN\n",
       "8   NaN  NaN  NaN  NaN  NaN  NaN  NaN  NaN   A8   B8   C8   D8\n",
       "9   NaN  NaN  NaN  NaN  NaN  NaN  NaN  NaN   A9   B9   C9   D9\n",
       "10  NaN  NaN  NaN  NaN  NaN  NaN  NaN  NaN  A10  B10  C10  D10\n",
       "11  NaN  NaN  NaN  NaN  NaN  NaN  NaN  NaN  A11  B11  C11  D11"
      ]
     },
     "execution_count": 10,
     "metadata": {},
     "output_type": "execute_result"
    }
   ],
   "source": [
    "df_concat_cols = pd.concat([df1,df2,df3], axis =1)\n",
    "df_concat_cols"
   ]
  },
  {
   "cell_type": "markdown",
   "id": "abcc2f51",
   "metadata": {},
   "source": [
    "**Note:** This concatenation along columns is not very intuitive, it adds rows too (it behaves like a direct sum of matrices for some reason). To concatenate along columns one uses pd.merge() or pd.join()."
   ]
  },
  {
   "cell_type": "markdown",
   "id": "88195a89",
   "metadata": {},
   "source": [
    "## **(2) Merging data frames**\n",
    "\n",
    "Next we look at merging. The first example is two data frames that share **one** key."
   ]
  },
  {
   "cell_type": "code",
   "execution_count": 11,
   "id": "10eb7dd3",
   "metadata": {},
   "outputs": [],
   "source": [
    "dfk_AB = pd.DataFrame({'key': ['K0', 'K1', 'K2', 'K3'],\n",
    "                     'A': ['A0', 'A1', 'A2', 'A3'],\n",
    "                     'B': ['B0', 'B1', 'B2', 'B3']})\n",
    "   \n",
    "dfk_CD = pd.DataFrame({'key': ['K0', 'K1', 'K2', 'K3'],\n",
    "                          'C': ['C0', 'C1', 'C2', 'C3'],\n",
    "                          'D': ['D0', 'D1', 'D2', 'D3']})    "
   ]
  },
  {
   "cell_type": "code",
   "execution_count": 12,
   "id": "d9422f03",
   "metadata": {},
   "outputs": [
    {
     "data": {
      "text/html": [
       "<div>\n",
       "<style scoped>\n",
       "    .dataframe tbody tr th:only-of-type {\n",
       "        vertical-align: middle;\n",
       "    }\n",
       "\n",
       "    .dataframe tbody tr th {\n",
       "        vertical-align: top;\n",
       "    }\n",
       "\n",
       "    .dataframe thead th {\n",
       "        text-align: right;\n",
       "    }\n",
       "</style>\n",
       "<table border=\"1\" class=\"dataframe\">\n",
       "  <thead>\n",
       "    <tr style=\"text-align: right;\">\n",
       "      <th></th>\n",
       "      <th>key</th>\n",
       "      <th>A</th>\n",
       "      <th>B</th>\n",
       "    </tr>\n",
       "  </thead>\n",
       "  <tbody>\n",
       "    <tr>\n",
       "      <th>0</th>\n",
       "      <td>K0</td>\n",
       "      <td>A0</td>\n",
       "      <td>B0</td>\n",
       "    </tr>\n",
       "    <tr>\n",
       "      <th>1</th>\n",
       "      <td>K1</td>\n",
       "      <td>A1</td>\n",
       "      <td>B1</td>\n",
       "    </tr>\n",
       "    <tr>\n",
       "      <th>2</th>\n",
       "      <td>K2</td>\n",
       "      <td>A2</td>\n",
       "      <td>B2</td>\n",
       "    </tr>\n",
       "    <tr>\n",
       "      <th>3</th>\n",
       "      <td>K3</td>\n",
       "      <td>A3</td>\n",
       "      <td>B3</td>\n",
       "    </tr>\n",
       "  </tbody>\n",
       "</table>\n",
       "</div>"
      ],
      "text/plain": [
       "  key   A   B\n",
       "0  K0  A0  B0\n",
       "1  K1  A1  B1\n",
       "2  K2  A2  B2\n",
       "3  K3  A3  B3"
      ]
     },
     "execution_count": 12,
     "metadata": {},
     "output_type": "execute_result"
    }
   ],
   "source": [
    "dfk_AB"
   ]
  },
  {
   "cell_type": "code",
   "execution_count": 13,
   "id": "1c5da784",
   "metadata": {
    "scrolled": true
   },
   "outputs": [
    {
     "data": {
      "text/html": [
       "<div>\n",
       "<style scoped>\n",
       "    .dataframe tbody tr th:only-of-type {\n",
       "        vertical-align: middle;\n",
       "    }\n",
       "\n",
       "    .dataframe tbody tr th {\n",
       "        vertical-align: top;\n",
       "    }\n",
       "\n",
       "    .dataframe thead th {\n",
       "        text-align: right;\n",
       "    }\n",
       "</style>\n",
       "<table border=\"1\" class=\"dataframe\">\n",
       "  <thead>\n",
       "    <tr style=\"text-align: right;\">\n",
       "      <th></th>\n",
       "      <th>key</th>\n",
       "      <th>C</th>\n",
       "      <th>D</th>\n",
       "    </tr>\n",
       "  </thead>\n",
       "  <tbody>\n",
       "    <tr>\n",
       "      <th>0</th>\n",
       "      <td>K0</td>\n",
       "      <td>C0</td>\n",
       "      <td>D0</td>\n",
       "    </tr>\n",
       "    <tr>\n",
       "      <th>1</th>\n",
       "      <td>K1</td>\n",
       "      <td>C1</td>\n",
       "      <td>D1</td>\n",
       "    </tr>\n",
       "    <tr>\n",
       "      <th>2</th>\n",
       "      <td>K2</td>\n",
       "      <td>C2</td>\n",
       "      <td>D2</td>\n",
       "    </tr>\n",
       "    <tr>\n",
       "      <th>3</th>\n",
       "      <td>K3</td>\n",
       "      <td>C3</td>\n",
       "      <td>D3</td>\n",
       "    </tr>\n",
       "  </tbody>\n",
       "</table>\n",
       "</div>"
      ],
      "text/plain": [
       "  key   C   D\n",
       "0  K0  C0  D0\n",
       "1  K1  C1  D1\n",
       "2  K2  C2  D2\n",
       "3  K3  C3  D3"
      ]
     },
     "execution_count": 13,
     "metadata": {},
     "output_type": "execute_result"
    }
   ],
   "source": [
    "dfk_CD"
   ]
  },
  {
   "cell_type": "markdown",
   "id": "0c3d16ff",
   "metadata": {},
   "source": [
    "* Now merge along the **key** column, using **pd.merge(*Left df*, *Right df*, *how*, *on*)**. Using **on = 'key'**:"
   ]
  },
  {
   "cell_type": "code",
   "execution_count": 15,
   "id": "3d112dc6",
   "metadata": {
    "scrolled": true
   },
   "outputs": [
    {
     "data": {
      "text/html": [
       "<div>\n",
       "<style scoped>\n",
       "    .dataframe tbody tr th:only-of-type {\n",
       "        vertical-align: middle;\n",
       "    }\n",
       "\n",
       "    .dataframe tbody tr th {\n",
       "        vertical-align: top;\n",
       "    }\n",
       "\n",
       "    .dataframe thead th {\n",
       "        text-align: right;\n",
       "    }\n",
       "</style>\n",
       "<table border=\"1\" class=\"dataframe\">\n",
       "  <thead>\n",
       "    <tr style=\"text-align: right;\">\n",
       "      <th></th>\n",
       "      <th>key</th>\n",
       "      <th>A</th>\n",
       "      <th>B</th>\n",
       "      <th>C</th>\n",
       "      <th>D</th>\n",
       "    </tr>\n",
       "  </thead>\n",
       "  <tbody>\n",
       "    <tr>\n",
       "      <th>0</th>\n",
       "      <td>K0</td>\n",
       "      <td>A0</td>\n",
       "      <td>B0</td>\n",
       "      <td>C0</td>\n",
       "      <td>D0</td>\n",
       "    </tr>\n",
       "    <tr>\n",
       "      <th>1</th>\n",
       "      <td>K1</td>\n",
       "      <td>A1</td>\n",
       "      <td>B1</td>\n",
       "      <td>C1</td>\n",
       "      <td>D1</td>\n",
       "    </tr>\n",
       "    <tr>\n",
       "      <th>2</th>\n",
       "      <td>K2</td>\n",
       "      <td>A2</td>\n",
       "      <td>B2</td>\n",
       "      <td>C2</td>\n",
       "      <td>D2</td>\n",
       "    </tr>\n",
       "    <tr>\n",
       "      <th>3</th>\n",
       "      <td>K3</td>\n",
       "      <td>A3</td>\n",
       "      <td>B3</td>\n",
       "      <td>C3</td>\n",
       "      <td>D3</td>\n",
       "    </tr>\n",
       "  </tbody>\n",
       "</table>\n",
       "</div>"
      ],
      "text/plain": [
       "  key   A   B   C   D\n",
       "0  K0  A0  B0  C0  D0\n",
       "1  K1  A1  B1  C1  D1\n",
       "2  K2  A2  B2  C2  D2\n",
       "3  K3  A3  B3  C3  D3"
      ]
     },
     "execution_count": 15,
     "metadata": {},
     "output_type": "execute_result"
    }
   ],
   "source": [
    "dfk_ABCD = pd.merge(dfk_AB, dfk_CD, on = 'key')\n",
    "dfk_ABCD"
   ]
  },
  {
   "cell_type": "markdown",
   "id": "d62f0c2a",
   "metadata": {},
   "source": [
    "Going back to the signature **pd.merge(*Left df*, *Right df*, *how*, *on*)**, this function looks for intersections of labels by default. \n",
    "\n",
    "The **how** parameter takes the following values (from help):\n",
    "* left: use only keys from left frame, similar to a SQL left outer join; preserve key order.\n",
    "* right: use only keys from right frame, similar to a SQL right outer join; preserve key order.\n",
    "* outer: use union of keys from both frames, similar to a SQL full outer join; sort keys lexicographically.\n",
    "* inner: use intersection of keys from both frames, similar to a SQL inner join; preserve the order of the left keys.\n",
    "* cross: creates the cartesian product from both frames, preserves the order of the left keys.\n",
    "\n",
    "The **on** parameter takes lists of labels. In the next example, we merge along more than one label:"
   ]
  },
  {
   "cell_type": "code",
   "execution_count": 28,
   "id": "92525e9d",
   "metadata": {},
   "outputs": [],
   "source": [
    "dfl = pd.DataFrame({'key1': ['K0', 'K0', 'K1', 'K2'],\n",
    "                     'key2': ['K0', 'K1', 'K0', 'K1'],\n",
    "                        'A': ['A0', 'A1', 'A2', 'A3'],\n",
    "                        'B': ['B0', 'B1', 'B2', 'B3']})\n",
    "    \n",
    "dfr = pd.DataFrame({'key1': ['K0', 'K1', 'K1', 'K2'],\n",
    "                               'key2': ['K0', 'K0', 'K0', 'K0'],\n",
    "                                  'C': ['C0', 'C1', 'C2', 'C3'],\n",
    "                                  'D': ['D0', 'D1', 'D2', 'D3']})"
   ]
  },
  {
   "cell_type": "code",
   "execution_count": 29,
   "id": "2c8b0388",
   "metadata": {
    "scrolled": true
   },
   "outputs": [
    {
     "data": {
      "text/html": [
       "<div>\n",
       "<style scoped>\n",
       "    .dataframe tbody tr th:only-of-type {\n",
       "        vertical-align: middle;\n",
       "    }\n",
       "\n",
       "    .dataframe tbody tr th {\n",
       "        vertical-align: top;\n",
       "    }\n",
       "\n",
       "    .dataframe thead th {\n",
       "        text-align: right;\n",
       "    }\n",
       "</style>\n",
       "<table border=\"1\" class=\"dataframe\">\n",
       "  <thead>\n",
       "    <tr style=\"text-align: right;\">\n",
       "      <th></th>\n",
       "      <th>key1</th>\n",
       "      <th>key2</th>\n",
       "      <th>A</th>\n",
       "      <th>B</th>\n",
       "      <th>C</th>\n",
       "      <th>D</th>\n",
       "    </tr>\n",
       "  </thead>\n",
       "  <tbody>\n",
       "    <tr>\n",
       "      <th>0</th>\n",
       "      <td>K0</td>\n",
       "      <td>K0</td>\n",
       "      <td>A0</td>\n",
       "      <td>B0</td>\n",
       "      <td>C0</td>\n",
       "      <td>D0</td>\n",
       "    </tr>\n",
       "    <tr>\n",
       "      <th>1</th>\n",
       "      <td>K1</td>\n",
       "      <td>K0</td>\n",
       "      <td>A2</td>\n",
       "      <td>B2</td>\n",
       "      <td>C1</td>\n",
       "      <td>D1</td>\n",
       "    </tr>\n",
       "    <tr>\n",
       "      <th>2</th>\n",
       "      <td>K1</td>\n",
       "      <td>K0</td>\n",
       "      <td>A2</td>\n",
       "      <td>B2</td>\n",
       "      <td>C2</td>\n",
       "      <td>D2</td>\n",
       "    </tr>\n",
       "  </tbody>\n",
       "</table>\n",
       "</div>"
      ],
      "text/plain": [
       "  key1 key2   A   B   C   D\n",
       "0   K0   K0  A0  B0  C0  D0\n",
       "1   K1   K0  A2  B2  C1  D1\n",
       "2   K1   K0  A2  B2  C2  D2"
      ]
     },
     "execution_count": 29,
     "metadata": {},
     "output_type": "execute_result"
    }
   ],
   "source": [
    "pd.merge(dfl, dfr, on = ['key1', 'key2'])"
   ]
  },
  {
   "cell_type": "code",
   "execution_count": 30,
   "id": "e956bd95",
   "metadata": {},
   "outputs": [
    {
     "data": {
      "text/html": [
       "<div>\n",
       "<style scoped>\n",
       "    .dataframe tbody tr th:only-of-type {\n",
       "        vertical-align: middle;\n",
       "    }\n",
       "\n",
       "    .dataframe tbody tr th {\n",
       "        vertical-align: top;\n",
       "    }\n",
       "\n",
       "    .dataframe thead th {\n",
       "        text-align: right;\n",
       "    }\n",
       "</style>\n",
       "<table border=\"1\" class=\"dataframe\">\n",
       "  <thead>\n",
       "    <tr style=\"text-align: right;\">\n",
       "      <th></th>\n",
       "      <th>key1</th>\n",
       "      <th>key2</th>\n",
       "      <th>A</th>\n",
       "      <th>B</th>\n",
       "      <th>C</th>\n",
       "      <th>D</th>\n",
       "    </tr>\n",
       "  </thead>\n",
       "  <tbody>\n",
       "    <tr>\n",
       "      <th>0</th>\n",
       "      <td>K0</td>\n",
       "      <td>K0</td>\n",
       "      <td>A0</td>\n",
       "      <td>B0</td>\n",
       "      <td>C0</td>\n",
       "      <td>D0</td>\n",
       "    </tr>\n",
       "    <tr>\n",
       "      <th>1</th>\n",
       "      <td>K0</td>\n",
       "      <td>K1</td>\n",
       "      <td>A1</td>\n",
       "      <td>B1</td>\n",
       "      <td>NaN</td>\n",
       "      <td>NaN</td>\n",
       "    </tr>\n",
       "    <tr>\n",
       "      <th>2</th>\n",
       "      <td>K1</td>\n",
       "      <td>K0</td>\n",
       "      <td>A2</td>\n",
       "      <td>B2</td>\n",
       "      <td>C1</td>\n",
       "      <td>D1</td>\n",
       "    </tr>\n",
       "    <tr>\n",
       "      <th>3</th>\n",
       "      <td>K1</td>\n",
       "      <td>K0</td>\n",
       "      <td>A2</td>\n",
       "      <td>B2</td>\n",
       "      <td>C2</td>\n",
       "      <td>D2</td>\n",
       "    </tr>\n",
       "    <tr>\n",
       "      <th>4</th>\n",
       "      <td>K2</td>\n",
       "      <td>K1</td>\n",
       "      <td>A3</td>\n",
       "      <td>B3</td>\n",
       "      <td>NaN</td>\n",
       "      <td>NaN</td>\n",
       "    </tr>\n",
       "    <tr>\n",
       "      <th>5</th>\n",
       "      <td>K2</td>\n",
       "      <td>K0</td>\n",
       "      <td>NaN</td>\n",
       "      <td>NaN</td>\n",
       "      <td>C3</td>\n",
       "      <td>D3</td>\n",
       "    </tr>\n",
       "  </tbody>\n",
       "</table>\n",
       "</div>"
      ],
      "text/plain": [
       "  key1 key2    A    B    C    D\n",
       "0   K0   K0   A0   B0   C0   D0\n",
       "1   K0   K1   A1   B1  NaN  NaN\n",
       "2   K1   K0   A2   B2   C1   D1\n",
       "3   K1   K0   A2   B2   C2   D2\n",
       "4   K2   K1   A3   B3  NaN  NaN\n",
       "5   K2   K0  NaN  NaN   C3   D3"
      ]
     },
     "execution_count": 30,
     "metadata": {},
     "output_type": "execute_result"
    }
   ],
   "source": [
    "pd.merge(dfl, dfr, how = 'outer', on = ['key1', 'key2'])"
   ]
  },
  {
   "cell_type": "code",
   "execution_count": 31,
   "id": "9eff9d74",
   "metadata": {},
   "outputs": [
    {
     "data": {
      "text/html": [
       "<div>\n",
       "<style scoped>\n",
       "    .dataframe tbody tr th:only-of-type {\n",
       "        vertical-align: middle;\n",
       "    }\n",
       "\n",
       "    .dataframe tbody tr th {\n",
       "        vertical-align: top;\n",
       "    }\n",
       "\n",
       "    .dataframe thead th {\n",
       "        text-align: right;\n",
       "    }\n",
       "</style>\n",
       "<table border=\"1\" class=\"dataframe\">\n",
       "  <thead>\n",
       "    <tr style=\"text-align: right;\">\n",
       "      <th></th>\n",
       "      <th>key1</th>\n",
       "      <th>key2</th>\n",
       "      <th>A</th>\n",
       "      <th>B</th>\n",
       "      <th>C</th>\n",
       "      <th>D</th>\n",
       "    </tr>\n",
       "  </thead>\n",
       "  <tbody>\n",
       "    <tr>\n",
       "      <th>0</th>\n",
       "      <td>K0</td>\n",
       "      <td>K0</td>\n",
       "      <td>A0</td>\n",
       "      <td>B0</td>\n",
       "      <td>C0</td>\n",
       "      <td>D0</td>\n",
       "    </tr>\n",
       "    <tr>\n",
       "      <th>1</th>\n",
       "      <td>K0</td>\n",
       "      <td>K1</td>\n",
       "      <td>A1</td>\n",
       "      <td>B1</td>\n",
       "      <td>NaN</td>\n",
       "      <td>NaN</td>\n",
       "    </tr>\n",
       "    <tr>\n",
       "      <th>2</th>\n",
       "      <td>K1</td>\n",
       "      <td>K0</td>\n",
       "      <td>A2</td>\n",
       "      <td>B2</td>\n",
       "      <td>C1</td>\n",
       "      <td>D1</td>\n",
       "    </tr>\n",
       "    <tr>\n",
       "      <th>3</th>\n",
       "      <td>K1</td>\n",
       "      <td>K0</td>\n",
       "      <td>A2</td>\n",
       "      <td>B2</td>\n",
       "      <td>C2</td>\n",
       "      <td>D2</td>\n",
       "    </tr>\n",
       "    <tr>\n",
       "      <th>4</th>\n",
       "      <td>K2</td>\n",
       "      <td>K1</td>\n",
       "      <td>A3</td>\n",
       "      <td>B3</td>\n",
       "      <td>NaN</td>\n",
       "      <td>NaN</td>\n",
       "    </tr>\n",
       "  </tbody>\n",
       "</table>\n",
       "</div>"
      ],
      "text/plain": [
       "  key1 key2   A   B    C    D\n",
       "0   K0   K0  A0  B0   C0   D0\n",
       "1   K0   K1  A1  B1  NaN  NaN\n",
       "2   K1   K0  A2  B2   C1   D1\n",
       "3   K1   K0  A2  B2   C2   D2\n",
       "4   K2   K1  A3  B3  NaN  NaN"
      ]
     },
     "execution_count": 31,
     "metadata": {},
     "output_type": "execute_result"
    }
   ],
   "source": [
    "pd.merge(dfl, dfr, how = 'left', on = ['key1', 'key2'])"
   ]
  },
  {
   "cell_type": "code",
   "execution_count": 32,
   "id": "d430d978",
   "metadata": {},
   "outputs": [
    {
     "data": {
      "text/html": [
       "<div>\n",
       "<style scoped>\n",
       "    .dataframe tbody tr th:only-of-type {\n",
       "        vertical-align: middle;\n",
       "    }\n",
       "\n",
       "    .dataframe tbody tr th {\n",
       "        vertical-align: top;\n",
       "    }\n",
       "\n",
       "    .dataframe thead th {\n",
       "        text-align: right;\n",
       "    }\n",
       "</style>\n",
       "<table border=\"1\" class=\"dataframe\">\n",
       "  <thead>\n",
       "    <tr style=\"text-align: right;\">\n",
       "      <th></th>\n",
       "      <th>key1</th>\n",
       "      <th>key2</th>\n",
       "      <th>A</th>\n",
       "      <th>B</th>\n",
       "      <th>C</th>\n",
       "      <th>D</th>\n",
       "    </tr>\n",
       "  </thead>\n",
       "  <tbody>\n",
       "    <tr>\n",
       "      <th>0</th>\n",
       "      <td>K0</td>\n",
       "      <td>K0</td>\n",
       "      <td>A0</td>\n",
       "      <td>B0</td>\n",
       "      <td>C0</td>\n",
       "      <td>D0</td>\n",
       "    </tr>\n",
       "    <tr>\n",
       "      <th>1</th>\n",
       "      <td>K1</td>\n",
       "      <td>K0</td>\n",
       "      <td>A2</td>\n",
       "      <td>B2</td>\n",
       "      <td>C1</td>\n",
       "      <td>D1</td>\n",
       "    </tr>\n",
       "    <tr>\n",
       "      <th>2</th>\n",
       "      <td>K1</td>\n",
       "      <td>K0</td>\n",
       "      <td>A2</td>\n",
       "      <td>B2</td>\n",
       "      <td>C2</td>\n",
       "      <td>D2</td>\n",
       "    </tr>\n",
       "    <tr>\n",
       "      <th>3</th>\n",
       "      <td>K2</td>\n",
       "      <td>K0</td>\n",
       "      <td>NaN</td>\n",
       "      <td>NaN</td>\n",
       "      <td>C3</td>\n",
       "      <td>D3</td>\n",
       "    </tr>\n",
       "  </tbody>\n",
       "</table>\n",
       "</div>"
      ],
      "text/plain": [
       "  key1 key2    A    B   C   D\n",
       "0   K0   K0   A0   B0  C0  D0\n",
       "1   K1   K0   A2   B2  C1  D1\n",
       "2   K1   K0   A2   B2  C2  D2\n",
       "3   K2   K0  NaN  NaN  C3  D3"
      ]
     },
     "execution_count": 32,
     "metadata": {},
     "output_type": "execute_result"
    }
   ],
   "source": [
    "pd.merge(dfl, dfr, how = 'right', on = ['key1', 'key2'])"
   ]
  },
  {
   "cell_type": "markdown",
   "id": "5428a9f7",
   "metadata": {},
   "source": [
    "I have no idea how this works, but it doesn't seem crucial to understand right now. "
   ]
  },
  {
   "cell_type": "markdown",
   "id": "bf937dd7",
   "metadata": {},
   "source": [
    "## **(3) Joining data frames**\n",
    "\n",
    "The join functions do the usual concatenation along columns, even if the rows are indexed differently. This is done with the built-in data frame method ***pd_dframe*.join(*dframe_right*, *on*, *how*)**. If we have the same indices (i.e. labels for rows):"
   ]
  },
  {
   "cell_type": "code",
   "execution_count": 33,
   "id": "1e19149a",
   "metadata": {},
   "outputs": [],
   "source": [
    "dfl = pd.DataFrame({'A': ['A0', 'A1', 'A2'],\n",
    "                     'B': ['B0', 'B1', 'B2']},\n",
    "                      index=['K0', 'K1', 'K2']) \n",
    "\n",
    "dfr = pd.DataFrame({'C': ['C0', 'C2', 'C3'],\n",
    "                    'D': ['D0', 'D2', 'D3']},\n",
    "                      index=['K0', 'K2', 'K3'])"
   ]
  },
  {
   "cell_type": "code",
   "execution_count": 34,
   "id": "bc865456",
   "metadata": {},
   "outputs": [
    {
     "data": {
      "text/html": [
       "<div>\n",
       "<style scoped>\n",
       "    .dataframe tbody tr th:only-of-type {\n",
       "        vertical-align: middle;\n",
       "    }\n",
       "\n",
       "    .dataframe tbody tr th {\n",
       "        vertical-align: top;\n",
       "    }\n",
       "\n",
       "    .dataframe thead th {\n",
       "        text-align: right;\n",
       "    }\n",
       "</style>\n",
       "<table border=\"1\" class=\"dataframe\">\n",
       "  <thead>\n",
       "    <tr style=\"text-align: right;\">\n",
       "      <th></th>\n",
       "      <th>A</th>\n",
       "      <th>B</th>\n",
       "      <th>C</th>\n",
       "      <th>D</th>\n",
       "    </tr>\n",
       "  </thead>\n",
       "  <tbody>\n",
       "    <tr>\n",
       "      <th>K0</th>\n",
       "      <td>A0</td>\n",
       "      <td>B0</td>\n",
       "      <td>C0</td>\n",
       "      <td>D0</td>\n",
       "    </tr>\n",
       "    <tr>\n",
       "      <th>K1</th>\n",
       "      <td>A1</td>\n",
       "      <td>B1</td>\n",
       "      <td>NaN</td>\n",
       "      <td>NaN</td>\n",
       "    </tr>\n",
       "    <tr>\n",
       "      <th>K2</th>\n",
       "      <td>A2</td>\n",
       "      <td>B2</td>\n",
       "      <td>C2</td>\n",
       "      <td>D2</td>\n",
       "    </tr>\n",
       "  </tbody>\n",
       "</table>\n",
       "</div>"
      ],
      "text/plain": [
       "     A   B    C    D\n",
       "K0  A0  B0   C0   D0\n",
       "K1  A1  B1  NaN  NaN\n",
       "K2  A2  B2   C2   D2"
      ]
     },
     "execution_count": 34,
     "metadata": {},
     "output_type": "execute_result"
    }
   ],
   "source": [
    "dfl.join(dfr)"
   ]
  },
  {
   "cell_type": "code",
   "execution_count": 36,
   "id": "77f00230",
   "metadata": {
    "scrolled": true
   },
   "outputs": [
    {
     "data": {
      "text/html": [
       "<div>\n",
       "<style scoped>\n",
       "    .dataframe tbody tr th:only-of-type {\n",
       "        vertical-align: middle;\n",
       "    }\n",
       "\n",
       "    .dataframe tbody tr th {\n",
       "        vertical-align: top;\n",
       "    }\n",
       "\n",
       "    .dataframe thead th {\n",
       "        text-align: right;\n",
       "    }\n",
       "</style>\n",
       "<table border=\"1\" class=\"dataframe\">\n",
       "  <thead>\n",
       "    <tr style=\"text-align: right;\">\n",
       "      <th></th>\n",
       "      <th>A</th>\n",
       "      <th>B</th>\n",
       "      <th>C</th>\n",
       "      <th>D</th>\n",
       "    </tr>\n",
       "  </thead>\n",
       "  <tbody>\n",
       "    <tr>\n",
       "      <th>K0</th>\n",
       "      <td>A0</td>\n",
       "      <td>B0</td>\n",
       "      <td>C0</td>\n",
       "      <td>D0</td>\n",
       "    </tr>\n",
       "    <tr>\n",
       "      <th>K1</th>\n",
       "      <td>A1</td>\n",
       "      <td>B1</td>\n",
       "      <td>NaN</td>\n",
       "      <td>NaN</td>\n",
       "    </tr>\n",
       "    <tr>\n",
       "      <th>K2</th>\n",
       "      <td>A2</td>\n",
       "      <td>B2</td>\n",
       "      <td>C2</td>\n",
       "      <td>D2</td>\n",
       "    </tr>\n",
       "    <tr>\n",
       "      <th>K3</th>\n",
       "      <td>NaN</td>\n",
       "      <td>NaN</td>\n",
       "      <td>C3</td>\n",
       "      <td>D3</td>\n",
       "    </tr>\n",
       "  </tbody>\n",
       "</table>\n",
       "</div>"
      ],
      "text/plain": [
       "      A    B    C    D\n",
       "K0   A0   B0   C0   D0\n",
       "K1   A1   B1  NaN  NaN\n",
       "K2   A2   B2   C2   D2\n",
       "K3  NaN  NaN   C3   D3"
      ]
     },
     "execution_count": 36,
     "metadata": {},
     "output_type": "execute_result"
    }
   ],
   "source": [
    "dfl.join(dfr, how = 'outer')"
   ]
  },
  {
   "cell_type": "markdown",
   "id": "6ea557cf",
   "metadata": {},
   "source": [
    "**Roughly speaking:** .join() does the same thing as pd.merge(), the difference is that .join() concatenates columns following the indices of data frames, while pd.merge() concatenates according to a column of chosen label."
   ]
  },
  {
   "cell_type": "markdown",
   "id": "54d2ba3b",
   "metadata": {},
   "source": [
    "________________________________________"
   ]
  },
  {
   "cell_type": "markdown",
   "id": "3ef3bd37",
   "metadata": {},
   "source": [
    "# **VI - More operations on data frames**\n",
    "\n",
    "This is Lecture 33, in which Portilla does some reminders on previously discussed topics (conditional selection and the .drop method) and introduces new useful functionalities of Pandas. Here the example data frame that he works with:"
   ]
  },
  {
   "cell_type": "code",
   "execution_count": 37,
   "id": "bdb2596a",
   "metadata": {},
   "outputs": [
    {
     "data": {
      "text/html": [
       "<div>\n",
       "<style scoped>\n",
       "    .dataframe tbody tr th:only-of-type {\n",
       "        vertical-align: middle;\n",
       "    }\n",
       "\n",
       "    .dataframe tbody tr th {\n",
       "        vertical-align: top;\n",
       "    }\n",
       "\n",
       "    .dataframe thead th {\n",
       "        text-align: right;\n",
       "    }\n",
       "</style>\n",
       "<table border=\"1\" class=\"dataframe\">\n",
       "  <thead>\n",
       "    <tr style=\"text-align: right;\">\n",
       "      <th></th>\n",
       "      <th>col1</th>\n",
       "      <th>col2</th>\n",
       "      <th>col3</th>\n",
       "    </tr>\n",
       "  </thead>\n",
       "  <tbody>\n",
       "    <tr>\n",
       "      <th>0</th>\n",
       "      <td>1</td>\n",
       "      <td>444</td>\n",
       "      <td>abc</td>\n",
       "    </tr>\n",
       "    <tr>\n",
       "      <th>1</th>\n",
       "      <td>2</td>\n",
       "      <td>555</td>\n",
       "      <td>def</td>\n",
       "    </tr>\n",
       "    <tr>\n",
       "      <th>2</th>\n",
       "      <td>3</td>\n",
       "      <td>666</td>\n",
       "      <td>ghi</td>\n",
       "    </tr>\n",
       "    <tr>\n",
       "      <th>3</th>\n",
       "      <td>4</td>\n",
       "      <td>444</td>\n",
       "      <td>xyz</td>\n",
       "    </tr>\n",
       "  </tbody>\n",
       "</table>\n",
       "</div>"
      ],
      "text/plain": [
       "   col1  col2 col3\n",
       "0     1   444  abc\n",
       "1     2   555  def\n",
       "2     3   666  ghi\n",
       "3     4   444  xyz"
      ]
     },
     "execution_count": 37,
     "metadata": {},
     "output_type": "execute_result"
    }
   ],
   "source": [
    "df = pd.DataFrame({'col1':[1,2,3,4],'col2':[444,555,666,444],'col3':['abc','def','ghi','xyz']})\n",
    "df.head() # This one displays the table. See help. "
   ]
  },
  {
   "cell_type": "markdown",
   "id": "7f12d571",
   "metadata": {},
   "source": [
    "## **(1) The apply method**\n",
    "\n",
    "We have seen that Pandas has built-in series methods such as .sum(), .mean() etc. Now the ***pd_dataframe*.apply(*function*)** method allows one to use custom functions on the contents of a series. Here, *we pass a function as an argument*, and this method becomes particularly powerful when combined with lambda expressions.\n",
    "\n",
    "* Suppose we want to square the numbers in 'col2' of the main example:"
   ]
  },
  {
   "cell_type": "code",
   "execution_count": 38,
   "id": "49785bfe",
   "metadata": {
    "scrolled": true
   },
   "outputs": [
    {
     "data": {
      "text/plain": [
       "0    197136\n",
       "1    308025\n",
       "2    443556\n",
       "3    197136\n",
       "Name: col2, dtype: int64"
      ]
     },
     "execution_count": 38,
     "metadata": {},
     "output_type": "execute_result"
    }
   ],
   "source": [
    "df['col2'].apply(lambda x: x**2)"
   ]
  },
  {
   "cell_type": "markdown",
   "id": "dface50a",
   "metadata": {},
   "source": [
    "* Let's look at the lengths of strings in 'col3':"
   ]
  },
  {
   "cell_type": "code",
   "execution_count": 41,
   "id": "16392efd",
   "metadata": {},
   "outputs": [
    {
     "data": {
      "text/plain": [
       "0    3\n",
       "1    3\n",
       "2    3\n",
       "3    3\n",
       "Name: col3, dtype: int64"
      ]
     },
     "execution_count": 41,
     "metadata": {},
     "output_type": "execute_result"
    }
   ],
   "source": [
    "df['col3'].apply(len)"
   ]
  },
  {
   "cell_type": "markdown",
   "id": "83139fa6",
   "metadata": {},
   "source": [
    "## **(2) Index and column attributes**\n",
    "\n",
    "These attributes of data frames are useful for data analysis:\n",
    "\n",
    "- ***pd_dataframe*.index** is the index range for the rows.\n",
    "\n",
    "- ***pd_dataframe*.columns** is the list of column labels."
   ]
  },
  {
   "cell_type": "code",
   "execution_count": 43,
   "id": "5ca5db4a",
   "metadata": {},
   "outputs": [
    {
     "data": {
      "text/plain": [
       "RangeIndex(start=0, stop=4, step=1)"
      ]
     },
     "execution_count": 43,
     "metadata": {},
     "output_type": "execute_result"
    }
   ],
   "source": [
    "df.index"
   ]
  },
  {
   "cell_type": "code",
   "execution_count": 44,
   "id": "a00d4cd8",
   "metadata": {},
   "outputs": [
    {
     "data": {
      "text/plain": [
       "Index(['col1', 'col2', 'col3'], dtype='object')"
      ]
     },
     "execution_count": 44,
     "metadata": {},
     "output_type": "execute_result"
    }
   ],
   "source": [
    "df.columns"
   ]
  },
  {
   "cell_type": "markdown",
   "id": "45ec50f2",
   "metadata": {},
   "source": [
    "## **(3) Methods for sorting, unique values, and null entries**\n",
    "\n"
   ]
  },
  {
   "cell_type": "markdown",
   "id": "c44807d7",
   "metadata": {},
   "source": [
    "* **Null entries**: ***pd_dataframe*.isnull()** returns a Boolean data frame for whether or not an entry is null"
   ]
  },
  {
   "cell_type": "code",
   "execution_count": 45,
   "id": "136d7acf",
   "metadata": {},
   "outputs": [
    {
     "data": {
      "text/html": [
       "<div>\n",
       "<style scoped>\n",
       "    .dataframe tbody tr th:only-of-type {\n",
       "        vertical-align: middle;\n",
       "    }\n",
       "\n",
       "    .dataframe tbody tr th {\n",
       "        vertical-align: top;\n",
       "    }\n",
       "\n",
       "    .dataframe thead th {\n",
       "        text-align: right;\n",
       "    }\n",
       "</style>\n",
       "<table border=\"1\" class=\"dataframe\">\n",
       "  <thead>\n",
       "    <tr style=\"text-align: right;\">\n",
       "      <th></th>\n",
       "      <th>col1</th>\n",
       "      <th>col2</th>\n",
       "      <th>col3</th>\n",
       "    </tr>\n",
       "  </thead>\n",
       "  <tbody>\n",
       "    <tr>\n",
       "      <th>0</th>\n",
       "      <td>False</td>\n",
       "      <td>False</td>\n",
       "      <td>False</td>\n",
       "    </tr>\n",
       "    <tr>\n",
       "      <th>1</th>\n",
       "      <td>False</td>\n",
       "      <td>False</td>\n",
       "      <td>False</td>\n",
       "    </tr>\n",
       "    <tr>\n",
       "      <th>2</th>\n",
       "      <td>False</td>\n",
       "      <td>False</td>\n",
       "      <td>False</td>\n",
       "    </tr>\n",
       "    <tr>\n",
       "      <th>3</th>\n",
       "      <td>False</td>\n",
       "      <td>False</td>\n",
       "      <td>False</td>\n",
       "    </tr>\n",
       "  </tbody>\n",
       "</table>\n",
       "</div>"
      ],
      "text/plain": [
       "    col1   col2   col3\n",
       "0  False  False  False\n",
       "1  False  False  False\n",
       "2  False  False  False\n",
       "3  False  False  False"
      ]
     },
     "execution_count": 45,
     "metadata": {},
     "output_type": "execute_result"
    }
   ],
   "source": [
    "df.isnull()"
   ]
  },
  {
   "cell_type": "markdown",
   "id": "d7d8a9f1",
   "metadata": {},
   "source": [
    "Taking the examples in section V (on joining):"
   ]
  },
  {
   "cell_type": "code",
   "execution_count": 46,
   "id": "0c87d04a",
   "metadata": {},
   "outputs": [
    {
     "data": {
      "text/html": [
       "<div>\n",
       "<style scoped>\n",
       "    .dataframe tbody tr th:only-of-type {\n",
       "        vertical-align: middle;\n",
       "    }\n",
       "\n",
       "    .dataframe tbody tr th {\n",
       "        vertical-align: top;\n",
       "    }\n",
       "\n",
       "    .dataframe thead th {\n",
       "        text-align: right;\n",
       "    }\n",
       "</style>\n",
       "<table border=\"1\" class=\"dataframe\">\n",
       "  <thead>\n",
       "    <tr style=\"text-align: right;\">\n",
       "      <th></th>\n",
       "      <th>A</th>\n",
       "      <th>B</th>\n",
       "      <th>C</th>\n",
       "      <th>D</th>\n",
       "    </tr>\n",
       "  </thead>\n",
       "  <tbody>\n",
       "    <tr>\n",
       "      <th>K0</th>\n",
       "      <td>A0</td>\n",
       "      <td>B0</td>\n",
       "      <td>C0</td>\n",
       "      <td>D0</td>\n",
       "    </tr>\n",
       "    <tr>\n",
       "      <th>K1</th>\n",
       "      <td>A1</td>\n",
       "      <td>B1</td>\n",
       "      <td>NaN</td>\n",
       "      <td>NaN</td>\n",
       "    </tr>\n",
       "    <tr>\n",
       "      <th>K2</th>\n",
       "      <td>A2</td>\n",
       "      <td>B2</td>\n",
       "      <td>C2</td>\n",
       "      <td>D2</td>\n",
       "    </tr>\n",
       "    <tr>\n",
       "      <th>K3</th>\n",
       "      <td>NaN</td>\n",
       "      <td>NaN</td>\n",
       "      <td>C3</td>\n",
       "      <td>D3</td>\n",
       "    </tr>\n",
       "  </tbody>\n",
       "</table>\n",
       "</div>"
      ],
      "text/plain": [
       "      A    B    C    D\n",
       "K0   A0   B0   C0   D0\n",
       "K1   A1   B1  NaN  NaN\n",
       "K2   A2   B2   C2   D2\n",
       "K3  NaN  NaN   C3   D3"
      ]
     },
     "execution_count": 46,
     "metadata": {},
     "output_type": "execute_result"
    }
   ],
   "source": [
    "dfl.join(dfr, how = 'outer')"
   ]
  },
  {
   "cell_type": "code",
   "execution_count": 47,
   "id": "611ac316",
   "metadata": {
    "scrolled": true
   },
   "outputs": [
    {
     "data": {
      "text/html": [
       "<div>\n",
       "<style scoped>\n",
       "    .dataframe tbody tr th:only-of-type {\n",
       "        vertical-align: middle;\n",
       "    }\n",
       "\n",
       "    .dataframe tbody tr th {\n",
       "        vertical-align: top;\n",
       "    }\n",
       "\n",
       "    .dataframe thead th {\n",
       "        text-align: right;\n",
       "    }\n",
       "</style>\n",
       "<table border=\"1\" class=\"dataframe\">\n",
       "  <thead>\n",
       "    <tr style=\"text-align: right;\">\n",
       "      <th></th>\n",
       "      <th>A</th>\n",
       "      <th>B</th>\n",
       "      <th>C</th>\n",
       "      <th>D</th>\n",
       "    </tr>\n",
       "  </thead>\n",
       "  <tbody>\n",
       "    <tr>\n",
       "      <th>K0</th>\n",
       "      <td>False</td>\n",
       "      <td>False</td>\n",
       "      <td>False</td>\n",
       "      <td>False</td>\n",
       "    </tr>\n",
       "    <tr>\n",
       "      <th>K1</th>\n",
       "      <td>False</td>\n",
       "      <td>False</td>\n",
       "      <td>True</td>\n",
       "      <td>True</td>\n",
       "    </tr>\n",
       "    <tr>\n",
       "      <th>K2</th>\n",
       "      <td>False</td>\n",
       "      <td>False</td>\n",
       "      <td>False</td>\n",
       "      <td>False</td>\n",
       "    </tr>\n",
       "    <tr>\n",
       "      <th>K3</th>\n",
       "      <td>True</td>\n",
       "      <td>True</td>\n",
       "      <td>False</td>\n",
       "      <td>False</td>\n",
       "    </tr>\n",
       "  </tbody>\n",
       "</table>\n",
       "</div>"
      ],
      "text/plain": [
       "        A      B      C      D\n",
       "K0  False  False  False  False\n",
       "K1  False  False   True   True\n",
       "K2  False  False  False  False\n",
       "K3   True   True  False  False"
      ]
     },
     "execution_count": 47,
     "metadata": {},
     "output_type": "execute_result"
    }
   ],
   "source": [
    "dfl.join(dfr, how = 'outer').isnull()"
   ]
  },
  {
   "cell_type": "markdown",
   "id": "e441dfd2",
   "metadata": {},
   "source": [
    "* **Sorting by values in a column**: A very important/useful method in practice, done with ***pd_dataframe*.sort_values(by=*column*)**. If we sort the main example here by 'col2', we get:"
   ]
  },
  {
   "cell_type": "code",
   "execution_count": 48,
   "id": "9723b6be",
   "metadata": {},
   "outputs": [
    {
     "data": {
      "text/html": [
       "<div>\n",
       "<style scoped>\n",
       "    .dataframe tbody tr th:only-of-type {\n",
       "        vertical-align: middle;\n",
       "    }\n",
       "\n",
       "    .dataframe tbody tr th {\n",
       "        vertical-align: top;\n",
       "    }\n",
       "\n",
       "    .dataframe thead th {\n",
       "        text-align: right;\n",
       "    }\n",
       "</style>\n",
       "<table border=\"1\" class=\"dataframe\">\n",
       "  <thead>\n",
       "    <tr style=\"text-align: right;\">\n",
       "      <th></th>\n",
       "      <th>col1</th>\n",
       "      <th>col2</th>\n",
       "      <th>col3</th>\n",
       "    </tr>\n",
       "  </thead>\n",
       "  <tbody>\n",
       "    <tr>\n",
       "      <th>0</th>\n",
       "      <td>1</td>\n",
       "      <td>444</td>\n",
       "      <td>abc</td>\n",
       "    </tr>\n",
       "    <tr>\n",
       "      <th>3</th>\n",
       "      <td>4</td>\n",
       "      <td>444</td>\n",
       "      <td>xyz</td>\n",
       "    </tr>\n",
       "    <tr>\n",
       "      <th>1</th>\n",
       "      <td>2</td>\n",
       "      <td>555</td>\n",
       "      <td>def</td>\n",
       "    </tr>\n",
       "    <tr>\n",
       "      <th>2</th>\n",
       "      <td>3</td>\n",
       "      <td>666</td>\n",
       "      <td>ghi</td>\n",
       "    </tr>\n",
       "  </tbody>\n",
       "</table>\n",
       "</div>"
      ],
      "text/plain": [
       "   col1  col2 col3\n",
       "0     1   444  abc\n",
       "3     4   444  xyz\n",
       "1     2   555  def\n",
       "2     3   666  ghi"
      ]
     },
     "execution_count": 48,
     "metadata": {},
     "output_type": "execute_result"
    }
   ],
   "source": [
    "df.sort_values('col2')"
   ]
  },
  {
   "cell_type": "markdown",
   "id": "f5e91671",
   "metadata": {},
   "source": [
    "* **Extracting and counting unique values**: First, ***pd_series*.unique()** will return the **list** of unique values in a series:"
   ]
  },
  {
   "cell_type": "code",
   "execution_count": 49,
   "id": "7f0d8bf9",
   "metadata": {},
   "outputs": [
    {
     "data": {
      "text/plain": [
       "array(['abc', 'def', 'ghi', 'xyz'], dtype=object)"
      ]
     },
     "execution_count": 49,
     "metadata": {},
     "output_type": "execute_result"
    }
   ],
   "source": [
    "df['col3'].unique()"
   ]
  },
  {
   "cell_type": "markdown",
   "id": "2e76f5a5",
   "metadata": {},
   "source": [
    "* The method ***pd_series*.nunique()** counts the number of unique values:"
   ]
  },
  {
   "cell_type": "code",
   "execution_count": 50,
   "id": "baa31093",
   "metadata": {},
   "outputs": [
    {
     "data": {
      "text/plain": [
       "3"
      ]
     },
     "execution_count": 50,
     "metadata": {},
     "output_type": "execute_result"
    }
   ],
   "source": [
    "df['col2'].nunique()"
   ]
  },
  {
   "cell_type": "markdown",
   "id": "a9d4852c",
   "metadata": {},
   "source": [
    "* And the method ***pd_series*.value_counts()** combines .unique() and nunique():"
   ]
  },
  {
   "cell_type": "code",
   "execution_count": 51,
   "id": "341033df",
   "metadata": {},
   "outputs": [
    {
     "data": {
      "text/plain": [
       "444    2\n",
       "666    1\n",
       "555    1\n",
       "Name: col2, dtype: int64"
      ]
     },
     "execution_count": 51,
     "metadata": {},
     "output_type": "execute_result"
    }
   ],
   "source": [
    "df['col2'].value_counts()"
   ]
  },
  {
   "cell_type": "markdown",
   "id": "a520e651",
   "metadata": {},
   "source": [
    "## **(4) Pivot tables (sneak peek)**\n",
    "\n",
    "In this part we'll use:"
   ]
  },
  {
   "cell_type": "code",
   "execution_count": 52,
   "id": "4bd7138b",
   "metadata": {},
   "outputs": [
    {
     "data": {
      "text/html": [
       "<div>\n",
       "<style scoped>\n",
       "    .dataframe tbody tr th:only-of-type {\n",
       "        vertical-align: middle;\n",
       "    }\n",
       "\n",
       "    .dataframe tbody tr th {\n",
       "        vertical-align: top;\n",
       "    }\n",
       "\n",
       "    .dataframe thead th {\n",
       "        text-align: right;\n",
       "    }\n",
       "</style>\n",
       "<table border=\"1\" class=\"dataframe\">\n",
       "  <thead>\n",
       "    <tr style=\"text-align: right;\">\n",
       "      <th></th>\n",
       "      <th>A</th>\n",
       "      <th>B</th>\n",
       "      <th>C</th>\n",
       "      <th>D</th>\n",
       "    </tr>\n",
       "  </thead>\n",
       "  <tbody>\n",
       "    <tr>\n",
       "      <th>0</th>\n",
       "      <td>foo</td>\n",
       "      <td>one</td>\n",
       "      <td>x</td>\n",
       "      <td>1</td>\n",
       "    </tr>\n",
       "    <tr>\n",
       "      <th>1</th>\n",
       "      <td>foo</td>\n",
       "      <td>one</td>\n",
       "      <td>y</td>\n",
       "      <td>3</td>\n",
       "    </tr>\n",
       "    <tr>\n",
       "      <th>2</th>\n",
       "      <td>foo</td>\n",
       "      <td>two</td>\n",
       "      <td>x</td>\n",
       "      <td>2</td>\n",
       "    </tr>\n",
       "    <tr>\n",
       "      <th>3</th>\n",
       "      <td>bar</td>\n",
       "      <td>two</td>\n",
       "      <td>y</td>\n",
       "      <td>5</td>\n",
       "    </tr>\n",
       "    <tr>\n",
       "      <th>4</th>\n",
       "      <td>bar</td>\n",
       "      <td>one</td>\n",
       "      <td>x</td>\n",
       "      <td>4</td>\n",
       "    </tr>\n",
       "  </tbody>\n",
       "</table>\n",
       "</div>"
      ],
      "text/plain": [
       "     A    B  C  D\n",
       "0  foo  one  x  1\n",
       "1  foo  one  y  3\n",
       "2  foo  two  x  2\n",
       "3  bar  two  y  5\n",
       "4  bar  one  x  4"
      ]
     },
     "execution_count": 52,
     "metadata": {},
     "output_type": "execute_result"
    }
   ],
   "source": [
    "data_pivtb = {'A':['foo','foo','foo','bar','bar','bar'],\n",
    "     'B':['one','one','two','two','one','one'],\n",
    "       'C':['x','y','x','y','x','y'],\n",
    "       'D':[1,3,2,5,4,1]}\n",
    "\n",
    "df_pivtb = pd.DataFrame(data_pivtb)\n",
    "df_pivtb.head()"
   ]
  },
  {
   "cell_type": "markdown",
   "id": "af58d56d",
   "metadata": {},
   "source": [
    "No in-depth discussion, and related to data frames with multi-indices. The method ***pd_dataframe*.pivot_table()** re-arranges a data frame. For the table above, we aggregate the labels in the 'A' and 'B' columns, and we sum the values in 'D' according to the labels in col. 'C':"
   ]
  },
  {
   "cell_type": "code",
   "execution_count": 54,
   "id": "17742dc2",
   "metadata": {},
   "outputs": [
    {
     "data": {
      "text/html": [
       "<div>\n",
       "<style scoped>\n",
       "    .dataframe tbody tr th:only-of-type {\n",
       "        vertical-align: middle;\n",
       "    }\n",
       "\n",
       "    .dataframe tbody tr th {\n",
       "        vertical-align: top;\n",
       "    }\n",
       "\n",
       "    .dataframe thead th {\n",
       "        text-align: right;\n",
       "    }\n",
       "</style>\n",
       "<table border=\"1\" class=\"dataframe\">\n",
       "  <thead>\n",
       "    <tr style=\"text-align: right;\">\n",
       "      <th></th>\n",
       "      <th>C</th>\n",
       "      <th>x</th>\n",
       "      <th>y</th>\n",
       "    </tr>\n",
       "    <tr>\n",
       "      <th>A</th>\n",
       "      <th>B</th>\n",
       "      <th></th>\n",
       "      <th></th>\n",
       "    </tr>\n",
       "  </thead>\n",
       "  <tbody>\n",
       "    <tr>\n",
       "      <th rowspan=\"2\" valign=\"top\">bar</th>\n",
       "      <th>one</th>\n",
       "      <td>4.0</td>\n",
       "      <td>1.0</td>\n",
       "    </tr>\n",
       "    <tr>\n",
       "      <th>two</th>\n",
       "      <td>NaN</td>\n",
       "      <td>5.0</td>\n",
       "    </tr>\n",
       "    <tr>\n",
       "      <th rowspan=\"2\" valign=\"top\">foo</th>\n",
       "      <th>one</th>\n",
       "      <td>1.0</td>\n",
       "      <td>3.0</td>\n",
       "    </tr>\n",
       "    <tr>\n",
       "      <th>two</th>\n",
       "      <td>2.0</td>\n",
       "      <td>NaN</td>\n",
       "    </tr>\n",
       "  </tbody>\n",
       "</table>\n",
       "</div>"
      ],
      "text/plain": [
       "C          x    y\n",
       "A   B            \n",
       "bar one  4.0  1.0\n",
       "    two  NaN  5.0\n",
       "foo one  1.0  3.0\n",
       "    two  2.0  NaN"
      ]
     },
     "execution_count": 54,
     "metadata": {},
     "output_type": "execute_result"
    }
   ],
   "source": [
    "df_pivtb.pivot_table(values='D',index=['A', 'B'],columns=['C'])"
   ]
  },
  {
   "cell_type": "markdown",
   "id": "90c27540",
   "metadata": {},
   "source": [
    "**Remark:** Portilla said not worry too much about it if we haven't worked much with pivot tables before. The idea is to rearrange the data to get statistics (above, we had a sum)."
   ]
  },
  {
   "cell_type": "markdown",
   "id": "f6300f94",
   "metadata": {},
   "source": [
    "________________________________________"
   ]
  },
  {
   "cell_type": "markdown",
   "id": "b6c604b5",
   "metadata": {},
   "source": [
    "# **VII - Data input and output**\n",
    "\n"
   ]
  },
  {
   "cell_type": "markdown",
   "id": "5f068d7a",
   "metadata": {},
   "source": [
    "* Contents of Lecture 34. So Pandas allows to read files several file types, the ones of interest here being CSV, Excel, HTML and SQL (I'm not doing the latter). \n",
    "\n",
    "* Reading a specific file type is done using **pd.read_*file-type***, and a full list of supported types can be seen when pressing tab. Note that Pandas stores the contents in a variable (typically a data frame).\n",
    "\n",
    "* To export a data frame into one of the supported format, one uses **pd_dataframe.to_*file-type***. This creates a new file."
   ]
  },
  {
   "cell_type": "markdown",
   "id": "227cb96e",
   "metadata": {},
   "source": [
    "## **(1) CSV files**"
   ]
  },
  {
   "cell_type": "markdown",
   "id": "9b3873af",
   "metadata": {},
   "source": [
    "* Reading a file is a function from the Pandas library:"
   ]
  },
  {
   "cell_type": "code",
   "execution_count": 59,
   "id": "79bc28a7",
   "metadata": {},
   "outputs": [
    {
     "data": {
      "text/html": [
       "<div>\n",
       "<style scoped>\n",
       "    .dataframe tbody tr th:only-of-type {\n",
       "        vertical-align: middle;\n",
       "    }\n",
       "\n",
       "    .dataframe tbody tr th {\n",
       "        vertical-align: top;\n",
       "    }\n",
       "\n",
       "    .dataframe thead th {\n",
       "        text-align: right;\n",
       "    }\n",
       "</style>\n",
       "<table border=\"1\" class=\"dataframe\">\n",
       "  <thead>\n",
       "    <tr style=\"text-align: right;\">\n",
       "      <th></th>\n",
       "      <th>Label A</th>\n",
       "      <th>Label B</th>\n",
       "      <th>Label C</th>\n",
       "      <th>Label D</th>\n",
       "    </tr>\n",
       "  </thead>\n",
       "  <tbody>\n",
       "    <tr>\n",
       "      <th>0</th>\n",
       "      <td>'Alpha'</td>\n",
       "      <td>33</td>\n",
       "      <td>185.0</td>\n",
       "      <td>100.0</td>\n",
       "    </tr>\n",
       "    <tr>\n",
       "      <th>1</th>\n",
       "      <td>'Beta'</td>\n",
       "      <td>26</td>\n",
       "      <td>190.0</td>\n",
       "      <td>120.0</td>\n",
       "    </tr>\n",
       "    <tr>\n",
       "      <th>2</th>\n",
       "      <td>'Gamma'</td>\n",
       "      <td>67</td>\n",
       "      <td>178.0</td>\n",
       "      <td>75.0</td>\n",
       "    </tr>\n",
       "    <tr>\n",
       "      <th>3</th>\n",
       "      <td>'Delta'</td>\n",
       "      <td>40</td>\n",
       "      <td>180.0</td>\n",
       "      <td>95.0</td>\n",
       "    </tr>\n",
       "    <tr>\n",
       "      <th>4</th>\n",
       "      <td>'Epsilon'</td>\n",
       "      <td>2</td>\n",
       "      <td>0.9</td>\n",
       "      <td>9.0</td>\n",
       "    </tr>\n",
       "  </tbody>\n",
       "</table>\n",
       "</div>"
      ],
      "text/plain": [
       "     Label A   Label B   Label C   Label D\n",
       "0    'Alpha'        33     185.0     100.0\n",
       "1     'Beta'        26     190.0     120.0\n",
       "2    'Gamma'        67     178.0      75.0\n",
       "3    'Delta'        40     180.0      95.0\n",
       "4  'Epsilon'         2       0.9       9.0"
      ]
     },
     "execution_count": 59,
     "metadata": {},
     "output_type": "execute_result"
    }
   ],
   "source": [
    "ex_df_csvread = pd.read_csv(\"CSV_example.csv\")\n",
    "ex_df_csvread.head()"
   ]
  },
  {
   "cell_type": "code",
   "execution_count": 62,
   "id": "c37c5cee",
   "metadata": {},
   "outputs": [
    {
     "data": {
      "text/plain": [
       "0      'Alpha'\n",
       "1       'Beta'\n",
       "2      'Gamma'\n",
       "3      'Delta'\n",
       "4    'Epsilon'\n",
       "Name: Label A, dtype: object"
      ]
     },
     "execution_count": 62,
     "metadata": {},
     "output_type": "execute_result"
    }
   ],
   "source": [
    "ex_df_csvread['Label A']"
   ]
  },
  {
   "cell_type": "code",
   "execution_count": 63,
   "id": "f060ea2e",
   "metadata": {},
   "outputs": [
    {
     "data": {
      "text/plain": [
       "Label A     'Gamma'\n",
       " Label B         67\n",
       " Label C      178.0\n",
       " Label D       75.0\n",
       "Name: 2, dtype: object"
      ]
     },
     "execution_count": 63,
     "metadata": {},
     "output_type": "execute_result"
    }
   ],
   "source": [
    "ex_df_csvread.loc[2]"
   ]
  },
  {
   "cell_type": "markdown",
   "id": "6c076c68",
   "metadata": {},
   "source": [
    "* Let's create an example by hand."
   ]
  },
  {
   "cell_type": "code",
   "execution_count": 55,
   "id": "146855f6",
   "metadata": {
    "scrolled": true
   },
   "outputs": [
    {
     "data": {
      "text/html": [
       "<div>\n",
       "<style scoped>\n",
       "    .dataframe tbody tr th:only-of-type {\n",
       "        vertical-align: middle;\n",
       "    }\n",
       "\n",
       "    .dataframe tbody tr th {\n",
       "        vertical-align: top;\n",
       "    }\n",
       "\n",
       "    .dataframe thead th {\n",
       "        text-align: right;\n",
       "    }\n",
       "</style>\n",
       "<table border=\"1\" class=\"dataframe\">\n",
       "  <thead>\n",
       "    <tr style=\"text-align: right;\">\n",
       "      <th></th>\n",
       "      <th>A</th>\n",
       "      <th>B</th>\n",
       "      <th>C</th>\n",
       "      <th>D</th>\n",
       "      <th>E</th>\n",
       "    </tr>\n",
       "  </thead>\n",
       "  <tbody>\n",
       "    <tr>\n",
       "      <th>0</th>\n",
       "      <td>0.983721</td>\n",
       "      <td>-0.137858</td>\n",
       "      <td>-0.515961</td>\n",
       "      <td>-0.591255</td>\n",
       "      <td>1.834304</td>\n",
       "    </tr>\n",
       "    <tr>\n",
       "      <th>1</th>\n",
       "      <td>0.232334</td>\n",
       "      <td>-0.263151</td>\n",
       "      <td>-1.182703</td>\n",
       "      <td>0.889994</td>\n",
       "      <td>0.141316</td>\n",
       "    </tr>\n",
       "    <tr>\n",
       "      <th>2</th>\n",
       "      <td>1.817904</td>\n",
       "      <td>0.445601</td>\n",
       "      <td>-1.611546</td>\n",
       "      <td>0.792023</td>\n",
       "      <td>0.331313</td>\n",
       "    </tr>\n",
       "    <tr>\n",
       "      <th>3</th>\n",
       "      <td>-0.172285</td>\n",
       "      <td>0.082218</td>\n",
       "      <td>-0.286894</td>\n",
       "      <td>0.267736</td>\n",
       "      <td>0.443160</td>\n",
       "    </tr>\n",
       "  </tbody>\n",
       "</table>\n",
       "</div>"
      ],
      "text/plain": [
       "          A         B         C         D         E\n",
       "0  0.983721 -0.137858 -0.515961 -0.591255  1.834304\n",
       "1  0.232334 -0.263151 -1.182703  0.889994  0.141316\n",
       "2  1.817904  0.445601 -1.611546  0.792023  0.331313\n",
       "3 -0.172285  0.082218 -0.286894  0.267736  0.443160"
      ]
     },
     "execution_count": 55,
     "metadata": {},
     "output_type": "execute_result"
    }
   ],
   "source": [
    "ex_randf = pd.DataFrame(np.random.randn(4,5), columns=['A','B','C','D','E'])\n",
    "ex_randf.head()"
   ]
  },
  {
   "cell_type": "markdown",
   "id": "ae53eea3",
   "metadata": {},
   "source": [
    "* Saving into a file is a **method**:"
   ]
  },
  {
   "cell_type": "code",
   "execution_count": 56,
   "id": "481cb757",
   "metadata": {},
   "outputs": [],
   "source": [
    "ex_randf.to_csv('Randn_4x5_dataframe.csv')"
   ]
  },
  {
   "cell_type": "code",
   "execution_count": null,
   "id": "fc767d90",
   "metadata": {},
   "outputs": [],
   "source": []
  },
  {
   "cell_type": "code",
   "execution_count": null,
   "id": "9b8498e5",
   "metadata": {},
   "outputs": [],
   "source": []
  },
  {
   "cell_type": "markdown",
   "id": "156ab8e2",
   "metadata": {},
   "source": [
    "## **(2) Excel files**\n",
    "\n",
    "**Important note:** Obviously, Pandas will only import the data from an excel file, not the macros, images etc. In fact, **read_excel() will crash if the xlsx stores this type of content.** Here, we need to specify the sheet name with **sheet_name=*name***.\n",
    "\n",
    "**Remark:** In Lecture 34, portilla uses **sheetname** for reading, but the course was made a while back (2015) and it could have been updated to **sheet_name** since then."
   ]
  },
  {
   "cell_type": "code",
   "execution_count": 68,
   "id": "8df8ff7c",
   "metadata": {},
   "outputs": [
    {
     "data": {
      "text/html": [
       "<div>\n",
       "<style scoped>\n",
       "    .dataframe tbody tr th:only-of-type {\n",
       "        vertical-align: middle;\n",
       "    }\n",
       "\n",
       "    .dataframe tbody tr th {\n",
       "        vertical-align: top;\n",
       "    }\n",
       "\n",
       "    .dataframe thead th {\n",
       "        text-align: right;\n",
       "    }\n",
       "</style>\n",
       "<table border=\"1\" class=\"dataframe\">\n",
       "  <thead>\n",
       "    <tr style=\"text-align: right;\">\n",
       "      <th></th>\n",
       "      <th>Organization</th>\n",
       "      <th>Year founded</th>\n",
       "      <th>AUM (B$)</th>\n",
       "      <th>No. Employees</th>\n",
       "      <th>Avg. Quant Salary (k$/yr)</th>\n",
       "    </tr>\n",
       "  </thead>\n",
       "  <tbody>\n",
       "    <tr>\n",
       "      <th>0</th>\n",
       "      <td>Renaissance Technologies</td>\n",
       "      <td>1982</td>\n",
       "      <td>165.0</td>\n",
       "      <td>310</td>\n",
       "      <td>178.0</td>\n",
       "    </tr>\n",
       "    <tr>\n",
       "      <th>1</th>\n",
       "      <td>Radix Trading LLC</td>\n",
       "      <td>2014</td>\n",
       "      <td>NaN</td>\n",
       "      <td>43</td>\n",
       "      <td>130.0</td>\n",
       "    </tr>\n",
       "    <tr>\n",
       "      <th>2</th>\n",
       "      <td>Jane Street Capital</td>\n",
       "      <td>1999</td>\n",
       "      <td>4.0</td>\n",
       "      <td>1200</td>\n",
       "      <td>143.0</td>\n",
       "    </tr>\n",
       "    <tr>\n",
       "      <th>3</th>\n",
       "      <td>Citadel LLC</td>\n",
       "      <td>1990</td>\n",
       "      <td>35.0</td>\n",
       "      <td>1400</td>\n",
       "      <td>184.0</td>\n",
       "    </tr>\n",
       "    <tr>\n",
       "      <th>4</th>\n",
       "      <td>Winton Group</td>\n",
       "      <td>1997</td>\n",
       "      <td>22.0</td>\n",
       "      <td>412</td>\n",
       "      <td>NaN</td>\n",
       "    </tr>\n",
       "  </tbody>\n",
       "</table>\n",
       "</div>"
      ],
      "text/plain": [
       "               Organization  Year founded  AUM (B$)  No. Employees  \\\n",
       "0  Renaissance Technologies          1982     165.0            310   \n",
       "1         Radix Trading LLC          2014       NaN             43   \n",
       "2       Jane Street Capital          1999       4.0           1200   \n",
       "3               Citadel LLC          1990      35.0           1400   \n",
       "4              Winton Group          1997      22.0            412   \n",
       "\n",
       "   Avg. Quant Salary (k$/yr)  \n",
       "0                      178.0  \n",
       "1                      130.0  \n",
       "2                      143.0  \n",
       "3                      184.0  \n",
       "4                        NaN  "
      ]
     },
     "execution_count": 68,
     "metadata": {},
     "output_type": "execute_result"
    }
   ],
   "source": [
    "ex_df_quant_salaries = pd.read_excel(\"Hedge_funds_salaries.xlsx\", sheet_name='210708')\n",
    "ex_df_quant_salaries.head()"
   ]
  },
  {
   "cell_type": "code",
   "execution_count": 69,
   "id": "5b97c11f",
   "metadata": {},
   "outputs": [
    {
     "data": {
      "text/html": [
       "<div>\n",
       "<style scoped>\n",
       "    .dataframe tbody tr th:only-of-type {\n",
       "        vertical-align: middle;\n",
       "    }\n",
       "\n",
       "    .dataframe tbody tr th {\n",
       "        vertical-align: top;\n",
       "    }\n",
       "\n",
       "    .dataframe thead th {\n",
       "        text-align: right;\n",
       "    }\n",
       "</style>\n",
       "<table border=\"1\" class=\"dataframe\">\n",
       "  <thead>\n",
       "    <tr style=\"text-align: right;\">\n",
       "      <th></th>\n",
       "      <th>Organization</th>\n",
       "      <th>Year founded</th>\n",
       "      <th>AUM (B$)</th>\n",
       "      <th>No. Employees</th>\n",
       "      <th>Avg. Quant Salary (k$/yr)</th>\n",
       "    </tr>\n",
       "  </thead>\n",
       "  <tbody>\n",
       "    <tr>\n",
       "      <th>1</th>\n",
       "      <td>Radix Trading LLC</td>\n",
       "      <td>2014</td>\n",
       "      <td>NaN</td>\n",
       "      <td>43</td>\n",
       "      <td>130.0</td>\n",
       "    </tr>\n",
       "    <tr>\n",
       "      <th>2</th>\n",
       "      <td>Jane Street Capital</td>\n",
       "      <td>1999</td>\n",
       "      <td>4.0</td>\n",
       "      <td>1200</td>\n",
       "      <td>143.0</td>\n",
       "    </tr>\n",
       "    <tr>\n",
       "      <th>0</th>\n",
       "      <td>Renaissance Technologies</td>\n",
       "      <td>1982</td>\n",
       "      <td>165.0</td>\n",
       "      <td>310</td>\n",
       "      <td>178.0</td>\n",
       "    </tr>\n",
       "    <tr>\n",
       "      <th>3</th>\n",
       "      <td>Citadel LLC</td>\n",
       "      <td>1990</td>\n",
       "      <td>35.0</td>\n",
       "      <td>1400</td>\n",
       "      <td>184.0</td>\n",
       "    </tr>\n",
       "    <tr>\n",
       "      <th>4</th>\n",
       "      <td>Winton Group</td>\n",
       "      <td>1997</td>\n",
       "      <td>22.0</td>\n",
       "      <td>412</td>\n",
       "      <td>NaN</td>\n",
       "    </tr>\n",
       "  </tbody>\n",
       "</table>\n",
       "</div>"
      ],
      "text/plain": [
       "               Organization  Year founded  AUM (B$)  No. Employees  \\\n",
       "1         Radix Trading LLC          2014       NaN             43   \n",
       "2       Jane Street Capital          1999       4.0           1200   \n",
       "0  Renaissance Technologies          1982     165.0            310   \n",
       "3               Citadel LLC          1990      35.0           1400   \n",
       "4              Winton Group          1997      22.0            412   \n",
       "\n",
       "   Avg. Quant Salary (k$/yr)  \n",
       "1                      130.0  \n",
       "2                      143.0  \n",
       "0                      178.0  \n",
       "3                      184.0  \n",
       "4                        NaN  "
      ]
     },
     "execution_count": 69,
     "metadata": {},
     "output_type": "execute_result"
    }
   ],
   "source": [
    "ex_df_quant_salaries.sort_values('Avg. Quant Salary (k$/yr)')"
   ]
  },
  {
   "cell_type": "markdown",
   "id": "67951a1b",
   "metadata": {},
   "source": [
    "* Next, we output to an excel file. We'll use:"
   ]
  },
  {
   "cell_type": "code",
   "execution_count": 70,
   "id": "df8274ff",
   "metadata": {},
   "outputs": [
    {
     "data": {
      "text/html": [
       "<div>\n",
       "<style scoped>\n",
       "    .dataframe tbody tr th:only-of-type {\n",
       "        vertical-align: middle;\n",
       "    }\n",
       "\n",
       "    .dataframe tbody tr th {\n",
       "        vertical-align: top;\n",
       "    }\n",
       "\n",
       "    .dataframe thead th {\n",
       "        text-align: right;\n",
       "    }\n",
       "</style>\n",
       "<table border=\"1\" class=\"dataframe\">\n",
       "  <thead>\n",
       "    <tr style=\"text-align: right;\">\n",
       "      <th></th>\n",
       "      <th>A</th>\n",
       "      <th>B</th>\n",
       "      <th>C</th>\n",
       "      <th>D</th>\n",
       "      <th>E</th>\n",
       "    </tr>\n",
       "  </thead>\n",
       "  <tbody>\n",
       "    <tr>\n",
       "      <th>0</th>\n",
       "      <td>-0.280914</td>\n",
       "      <td>-0.139458</td>\n",
       "      <td>-0.873773</td>\n",
       "      <td>-0.839426</td>\n",
       "      <td>2.287882</td>\n",
       "    </tr>\n",
       "    <tr>\n",
       "      <th>1</th>\n",
       "      <td>1.657967</td>\n",
       "      <td>-0.965220</td>\n",
       "      <td>0.576219</td>\n",
       "      <td>0.392580</td>\n",
       "      <td>0.570431</td>\n",
       "    </tr>\n",
       "    <tr>\n",
       "      <th>2</th>\n",
       "      <td>0.780676</td>\n",
       "      <td>1.472632</td>\n",
       "      <td>-0.239467</td>\n",
       "      <td>-0.582996</td>\n",
       "      <td>0.104433</td>\n",
       "    </tr>\n",
       "    <tr>\n",
       "      <th>3</th>\n",
       "      <td>-0.590706</td>\n",
       "      <td>0.572160</td>\n",
       "      <td>0.998873</td>\n",
       "      <td>-0.644336</td>\n",
       "      <td>0.586896</td>\n",
       "    </tr>\n",
       "  </tbody>\n",
       "</table>\n",
       "</div>"
      ],
      "text/plain": [
       "          A         B         C         D         E\n",
       "0 -0.280914 -0.139458 -0.873773 -0.839426  2.287882\n",
       "1  1.657967 -0.965220  0.576219  0.392580  0.570431\n",
       "2  0.780676  1.472632 -0.239467 -0.582996  0.104433\n",
       "3 -0.590706  0.572160  0.998873 -0.644336  0.586896"
      ]
     },
     "execution_count": 70,
     "metadata": {},
     "output_type": "execute_result"
    }
   ],
   "source": [
    "ex_randf = pd.DataFrame(np.random.randn(4,5), columns=['A','B','C','D','E'])\n",
    "ex_randf.head()"
   ]
  },
  {
   "cell_type": "code",
   "execution_count": 71,
   "id": "7ba3e8f3",
   "metadata": {},
   "outputs": [],
   "source": [
    "ex_randf.to_excel(\"Ex_RandN_DataFrame.xlsx\", sheet_name = \"Sample 1\")"
   ]
  },
  {
   "cell_type": "markdown",
   "id": "69bf0e8c",
   "metadata": {},
   "source": [
    "The output is very clean."
   ]
  },
  {
   "cell_type": "markdown",
   "id": "908e2212",
   "metadata": {},
   "source": [
    "## **(3) HTML**\n",
    "\n",
    "The good news about this part is that there's no web scraping required. Pandas automatically reads the HTML code of a page and converts the table classes into data frame objects.\n",
    "\n",
    "For our example, we'll extract the tables from David Lynch's filmography on Wikipedia:"
   ]
  },
  {
   "cell_type": "code",
   "execution_count": 72,
   "id": "99d431c3",
   "metadata": {},
   "outputs": [],
   "source": [
    "df_david_lynch_filmography = pd.read_html(\"https://en.wikipedia.org/wiki/David_Lynch_filmography\")"
   ]
  },
  {
   "cell_type": "code",
   "execution_count": 73,
   "id": "e6a5e9fe",
   "metadata": {},
   "outputs": [
    {
     "data": {
      "text/plain": [
       "14"
      ]
     },
     "execution_count": 73,
     "metadata": {},
     "output_type": "execute_result"
    }
   ],
   "source": [
    "# Number of tables\n",
    "len(df_david_lynch_filmography)"
   ]
  },
  {
   "cell_type": "markdown",
   "id": "81289456",
   "metadata": {},
   "source": [
    "* The first table is the table of contents of the Wiki page, the second one is Lynch's works as a director:"
   ]
  },
  {
   "cell_type": "code",
   "execution_count": 75,
   "id": "ac995781",
   "metadata": {},
   "outputs": [
    {
     "data": {
      "text/html": [
       "<div>\n",
       "<style scoped>\n",
       "    .dataframe tbody tr th:only-of-type {\n",
       "        vertical-align: middle;\n",
       "    }\n",
       "\n",
       "    .dataframe tbody tr th {\n",
       "        vertical-align: top;\n",
       "    }\n",
       "\n",
       "    .dataframe thead th {\n",
       "        text-align: right;\n",
       "    }\n",
       "</style>\n",
       "<table border=\"1\" class=\"dataframe\">\n",
       "  <thead>\n",
       "    <tr style=\"text-align: right;\">\n",
       "      <th></th>\n",
       "      <th>Year</th>\n",
       "      <th>Title</th>\n",
       "      <th>Director</th>\n",
       "      <th>Writer</th>\n",
       "      <th>Producer</th>\n",
       "      <th>Notes</th>\n",
       "      <th>Ref(s)</th>\n",
       "    </tr>\n",
       "  </thead>\n",
       "  <tbody>\n",
       "    <tr>\n",
       "      <th>0</th>\n",
       "      <td>1977</td>\n",
       "      <td>Eraserhead</td>\n",
       "      <td>Yes</td>\n",
       "      <td>Yes</td>\n",
       "      <td>Yes</td>\n",
       "      <td>Also editor, composer, art director, and speci...</td>\n",
       "      <td>[17]</td>\n",
       "    </tr>\n",
       "    <tr>\n",
       "      <th>1</th>\n",
       "      <td>1980</td>\n",
       "      <td>The Elephant Man</td>\n",
       "      <td>Yes</td>\n",
       "      <td>Yes</td>\n",
       "      <td>No</td>\n",
       "      <td>Also musical director and sound designer;co-wr...</td>\n",
       "      <td>[17]</td>\n",
       "    </tr>\n",
       "    <tr>\n",
       "      <th>2</th>\n",
       "      <td>1984</td>\n",
       "      <td>Dune</td>\n",
       "      <td>Yes</td>\n",
       "      <td>Yes</td>\n",
       "      <td>No</td>\n",
       "      <td>NaN</td>\n",
       "      <td>[17]</td>\n",
       "    </tr>\n",
       "    <tr>\n",
       "      <th>3</th>\n",
       "      <td>1986</td>\n",
       "      <td>Blue Velvet</td>\n",
       "      <td>Yes</td>\n",
       "      <td>Yes</td>\n",
       "      <td>No</td>\n",
       "      <td>NaN</td>\n",
       "      <td>[17]</td>\n",
       "    </tr>\n",
       "    <tr>\n",
       "      <th>4</th>\n",
       "      <td>1990</td>\n",
       "      <td>Wild at Heart</td>\n",
       "      <td>Yes</td>\n",
       "      <td>Yes</td>\n",
       "      <td>No</td>\n",
       "      <td>NaN</td>\n",
       "      <td>[17]</td>\n",
       "    </tr>\n",
       "    <tr>\n",
       "      <th>5</th>\n",
       "      <td>1992</td>\n",
       "      <td>Twin Peaks: Fire Walk with Me</td>\n",
       "      <td>Yes</td>\n",
       "      <td>Yes</td>\n",
       "      <td>Executive</td>\n",
       "      <td>Also sound designer;co-written with Robert Engels</td>\n",
       "      <td>[17]</td>\n",
       "    </tr>\n",
       "    <tr>\n",
       "      <th>6</th>\n",
       "      <td>1997</td>\n",
       "      <td>Lost Highway</td>\n",
       "      <td>Yes</td>\n",
       "      <td>Yes</td>\n",
       "      <td>No</td>\n",
       "      <td>Also sound designer;co-written with Barry Gifford</td>\n",
       "      <td>[17]</td>\n",
       "    </tr>\n",
       "    <tr>\n",
       "      <th>7</th>\n",
       "      <td>1999</td>\n",
       "      <td>The Straight Story</td>\n",
       "      <td>Yes</td>\n",
       "      <td>No</td>\n",
       "      <td>No</td>\n",
       "      <td>Also sound designer</td>\n",
       "      <td>[17]</td>\n",
       "    </tr>\n",
       "    <tr>\n",
       "      <th>8</th>\n",
       "      <td>2001</td>\n",
       "      <td>Mulholland Drive</td>\n",
       "      <td>Yes</td>\n",
       "      <td>Yes</td>\n",
       "      <td>No</td>\n",
       "      <td>Also sound designer</td>\n",
       "      <td>[17]</td>\n",
       "    </tr>\n",
       "    <tr>\n",
       "      <th>9</th>\n",
       "      <td>2006</td>\n",
       "      <td>Inland Empire</td>\n",
       "      <td>Yes</td>\n",
       "      <td>Yes</td>\n",
       "      <td>Yes</td>\n",
       "      <td>Also editor, cinematographer and sound designer</td>\n",
       "      <td>[17]</td>\n",
       "    </tr>\n",
       "  </tbody>\n",
       "</table>\n",
       "</div>"
      ],
      "text/plain": [
       "   Year                          Title Director Writer   Producer  \\\n",
       "0  1977                     Eraserhead      Yes    Yes        Yes   \n",
       "1  1980               The Elephant Man      Yes    Yes         No   \n",
       "2  1984                           Dune      Yes    Yes         No   \n",
       "3  1986                    Blue Velvet      Yes    Yes         No   \n",
       "4  1990                  Wild at Heart      Yes    Yes         No   \n",
       "5  1992  Twin Peaks: Fire Walk with Me      Yes    Yes  Executive   \n",
       "6  1997                   Lost Highway      Yes    Yes         No   \n",
       "7  1999             The Straight Story      Yes     No         No   \n",
       "8  2001               Mulholland Drive      Yes    Yes         No   \n",
       "9  2006                  Inland Empire      Yes    Yes        Yes   \n",
       "\n",
       "                                               Notes Ref(s)  \n",
       "0  Also editor, composer, art director, and speci...   [17]  \n",
       "1  Also musical director and sound designer;co-wr...   [17]  \n",
       "2                                                NaN   [17]  \n",
       "3                                                NaN   [17]  \n",
       "4                                                NaN   [17]  \n",
       "5  Also sound designer;co-written with Robert Engels   [17]  \n",
       "6  Also sound designer;co-written with Barry Gifford   [17]  \n",
       "7                                Also sound designer   [17]  \n",
       "8                                Also sound designer   [17]  \n",
       "9    Also editor, cinematographer and sound designer   [17]  "
      ]
     },
     "execution_count": 75,
     "metadata": {},
     "output_type": "execute_result"
    }
   ],
   "source": [
    "df_david_lynch_filmography[1]"
   ]
  },
  {
   "cell_type": "markdown",
   "id": "2fdb88b9",
   "metadata": {},
   "source": [
    "**Remark:** Note that above, we did not import any library other than Pandas and Numpy for the html conversion etc. In the beginning of Lecture 34, it is specified that the packages **Beautiful Soup 4, html5lib and lxml** have to be installed though."
   ]
  },
  {
   "cell_type": "markdown",
   "id": "480e6e8d",
   "metadata": {},
   "source": [
    "______________"
   ]
  },
  {
   "cell_type": "code",
   "execution_count": null,
   "id": "7762e1ac",
   "metadata": {},
   "outputs": [],
   "source": []
  },
  {
   "cell_type": "code",
   "execution_count": null,
   "id": "0034971b",
   "metadata": {},
   "outputs": [],
   "source": []
  },
  {
   "cell_type": "code",
   "execution_count": null,
   "id": "8771f95c",
   "metadata": {},
   "outputs": [],
   "source": []
  },
  {
   "cell_type": "code",
   "execution_count": null,
   "id": "2e6e8bab",
   "metadata": {},
   "outputs": [],
   "source": []
  }
 ],
 "metadata": {
  "kernelspec": {
   "display_name": "Python 3",
   "language": "python",
   "name": "python3"
  },
  "language_info": {
   "codemirror_mode": {
    "name": "ipython",
    "version": 3
   },
   "file_extension": ".py",
   "mimetype": "text/x-python",
   "name": "python",
   "nbconvert_exporter": "python",
   "pygments_lexer": "ipython3",
   "version": "3.8.8"
  }
 },
 "nbformat": 4,
 "nbformat_minor": 5
}
