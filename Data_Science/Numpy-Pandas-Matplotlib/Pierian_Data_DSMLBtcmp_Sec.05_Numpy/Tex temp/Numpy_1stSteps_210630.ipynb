{
 "cells": [
  {
   "cell_type": "markdown",
   "id": "9668f8f3",
   "metadata": {},
   "source": [
    "# **Numpy (second) First Steps**\n",
    "\n",
    "### A.J. Zerouali (21/06/28)\n",
    "\n",
    "My first steps in Numpy. My objective is to get to do regular linear algebra in Python, including but not limited to: displaying a fixed number of decimals in Python,  matrix/tensor multiplications and inversion (in the mathematical sense), transposition, computing determinants and traces, finding eigenvalues and eigenvectors, diagonalization etc..\n",
    "\n",
    "I'll start with Pierian Data's lectures in Section 5 and branch-out from there, because I need to be able to do in Python what I can do in Matlab. I will also look at Lazy Programmer's \"Numpy Stack\" (the free course)."
   ]
  },
  {
   "cell_type": "markdown",
   "id": "d7108eec",
   "metadata": {},
   "source": [
    "___________________________________________\n",
    "\n",
    "## **Contents**\n",
    "\n",
    "I - Numpy arrays\n",
    "\n",
    "II - Basic Linear Algebra with Numpy"
   ]
  },
  {
   "cell_type": "code",
   "execution_count": 1,
   "id": "29f217ac",
   "metadata": {},
   "outputs": [],
   "source": [
    "# We all have to start somewhere...\n",
    "import numpy as np"
   ]
  },
  {
   "cell_type": "code",
   "execution_count": null,
   "id": "89248871",
   "metadata": {},
   "outputs": [],
   "source": []
  },
  {
   "cell_type": "markdown",
   "id": "b087a528",
   "metadata": {},
   "source": [
    "__________________________________________"
   ]
  },
  {
   "cell_type": "markdown",
   "id": "df84454d",
   "metadata": {},
   "source": [
    "# **I - Numpy arrays**\n",
    "\n",
    "### Notes:\n",
    "\n",
    "* It seems that Numpy works with row vectors instead of column vectors."
   ]
  },
  {
   "cell_type": "markdown",
   "id": "9071957e",
   "metadata": {},
   "source": [
    "## **(1) From lists to arrays**"
   ]
  },
  {
   "cell_type": "code",
   "execution_count": null,
   "id": "9b5e21e4",
   "metadata": {},
   "outputs": [],
   "source": [
    "# Here's how one creates arrays from lists in Python"
   ]
  },
  {
   "cell_type": "code",
   "execution_count": 2,
   "id": "5c130b17",
   "metadata": {},
   "outputs": [],
   "source": [
    "mat_1_lst = [[1, 0 ,0], [0, 1 ,0], [0, 0 ,1]]\n",
    "mat_1 = np.array(mat_1_lst)"
   ]
  },
  {
   "cell_type": "code",
   "execution_count": 3,
   "id": "6ae59753",
   "metadata": {
    "scrolled": true
   },
   "outputs": [
    {
     "data": {
      "text/plain": [
       "array([[1, 0, 0],\n",
       "       [0, 1, 0],\n",
       "       [0, 0, 1]])"
      ]
     },
     "execution_count": 3,
     "metadata": {},
     "output_type": "execute_result"
    }
   ],
   "source": [
    "mat_1"
   ]
  },
  {
   "cell_type": "code",
   "execution_count": 53,
   "id": "a575f194",
   "metadata": {},
   "outputs": [
    {
     "name": "stdout",
     "output_type": "stream",
     "text": [
      "mat_1.shape = (3, 3)\n"
     ]
    }
   ],
   "source": [
    "# The dimensions of a tensor are given the SHAPE ATTRIBUTE:\n",
    "print(f\"mat_1.shape = {mat_1.shape}\")"
   ]
  },
  {
   "cell_type": "code",
   "execution_count": 54,
   "id": "80f9ab6e",
   "metadata": {},
   "outputs": [
    {
     "name": "stdout",
     "output_type": "stream",
     "text": [
      "mat_1.dtype = int32\n"
     ]
    }
   ],
   "source": [
    "# There's also the \"dtype\" attribute:\n",
    "print(f\"mat_1.dtype = {mat_1.dtype}\")"
   ]
  },
  {
   "cell_type": "markdown",
   "id": "5395aedd",
   "metadata": {},
   "source": [
    "**Note:** The .append() method is undefined for arrays. To concatenate arrays, one has to specify the axis of concatenation: **axis=0** means concatenate as new rows, **axis=1** means concatenate as new column."
   ]
  },
  {
   "cell_type": "code",
   "execution_count": 55,
   "id": "62af9c65",
   "metadata": {},
   "outputs": [
    {
     "name": "stdout",
     "output_type": "stream",
     "text": [
      "vect_3x1 = [[0.87489546]\n",
      " [0.05154887]\n",
      " [0.58501145]]\n"
     ]
    }
   ],
   "source": [
    "vect_3x1 = np.random.rand(3).reshape(3,1)\n",
    "print(f\"vect_3x1 = {vect_3x1}\")"
   ]
  },
  {
   "cell_type": "code",
   "execution_count": 67,
   "id": "981bca83",
   "metadata": {},
   "outputs": [
    {
     "name": "stdout",
     "output_type": "stream",
     "text": [
      "np.concatenate((vect_3x1, e_1)) = \n",
      "[[0.87489546]\n",
      " [0.05154887]\n",
      " [0.58501145]\n",
      " [1.        ]\n",
      " [0.        ]\n",
      " [0.        ]]\n",
      "np.concatenate((vect_3x1, e_1),axis=0) = \n",
      "[[0.87489546]\n",
      " [0.05154887]\n",
      " [0.58501145]\n",
      " [1.        ]\n",
      " [0.        ]\n",
      " [0.        ]]\n",
      "np.concatenate((vect_3x1, e_1),axis=1) = \n",
      "[[0.87489546 1.        ]\n",
      " [0.05154887 0.        ]\n",
      " [0.58501145 0.        ]]\n"
     ]
    }
   ],
   "source": [
    "e_1 = np.array([1.0, 0.0, 0.0]).reshape(3,1)\n",
    "print(f\"np.concatenate((vect_3x1, e_1)) = \\n{np.concatenate((vect_3x1, e_1))}\")\n",
    "print(f\"np.concatenate((vect_3x1, e_1),axis=0) = \\n{np.concatenate((vect_3x1, e_1),axis=0)}\")\n",
    "print(f\"np.concatenate((vect_3x1, e_1),axis=1) = \\n{np.concatenate((vect_3x1, e_1),axis=1)}\")"
   ]
  },
  {
   "cell_type": "markdown",
   "id": "9b9b8ab8",
   "metadata": {},
   "source": [
    "## **(2) Some Numpy array generators**\n",
    "\n"
   ]
  },
  {
   "cell_type": "code",
   "execution_count": 23,
   "id": "2ffd5bc3",
   "metadata": {},
   "outputs": [
    {
     "name": "stdout",
     "output_type": "stream",
     "text": [
      "np.eye(3) = [[1. 0. 0.]\n",
      " [0. 1. 0.]\n",
      " [0. 0. 1.]]\n",
      "np.eye(5) = [[1. 0. 0. 0. 0.]\n",
      " [0. 1. 0. 0. 0.]\n",
      " [0. 0. 1. 0. 0.]\n",
      " [0. 0. 0. 1. 0.]\n",
      " [0. 0. 0. 0. 1.]]\n"
     ]
    }
   ],
   "source": [
    "# Identity matrix of size nxn\n",
    "print(f\"np.eye(3) = {np.eye(3)}\")\n",
    "print(f\"np.eye(5) = {np.eye(5)}\")"
   ]
  },
  {
   "cell_type": "code",
   "execution_count": 17,
   "id": "5c61889d",
   "metadata": {},
   "outputs": [
    {
     "name": "stdout",
     "output_type": "stream",
     "text": [
      "[0. 0. 0. 0. 0.]\n",
      "mat_zeroes=[0. 0. 0. 0. 0.]\n",
      "type(mat_zeroes)=<class 'numpy.ndarray'>\n",
      "mat_ones=[[1. 1. 1.]\n",
      " [1. 1. 1.]\n",
      " [1. 1. 1.]]\n",
      "type(mat_ones)=<class 'numpy.ndarray'>\n",
      "mat_ones_23=[[1. 1. 1.]\n",
      " [1. 1. 1.]]\n",
      "type(mat_ones_23)=<class 'numpy.ndarray'>\n"
     ]
    }
   ],
   "source": [
    "# Makes matrices containing only zeroes and ones.\n",
    "## Note that the \n",
    "mat_zeroes = np.zeros(5)\n",
    "print(mat_zeroes)\n",
    "print(f\"mat_zeroes={mat_zeroes}\")\n",
    "print(f\"type(mat_zeroes)={type(mat_zeroes)}\")\n",
    "mat_ones = np.ones((3,3))\n",
    "print(f\"mat_ones={mat_ones}\")\n",
    "print(f\"type(mat_ones)={type(mat_ones)}\")\n",
    "\n",
    "# Note that when we write (n,m), n= # of rows and m= # of columns\n",
    "mat_ones_23 = np.ones((2,3))\n",
    "print(f\"mat_ones_23={mat_ones_23}\")\n",
    "print(f\"type(mat_ones_23)={type(mat_ones_23)}\")"
   ]
  },
  {
   "cell_type": "code",
   "execution_count": 5,
   "id": "a6a3f2ae",
   "metadata": {
    "collapsed": true
   },
   "outputs": [
    {
     "name": "stdout",
     "output_type": "stream",
     "text": [
      "Help on built-in function arange in module numpy:\n",
      "\n",
      "arange(...)\n",
      "    arange([start,] stop[, step,], dtype=None)\n",
      "    \n",
      "    Return evenly spaced values within a given interval.\n",
      "    \n",
      "    Values are generated within the half-open interval ``[start, stop)``\n",
      "    (in other words, the interval including `start` but excluding `stop`).\n",
      "    For integer arguments the function is equivalent to the Python built-in\n",
      "    `range` function, but returns an ndarray rather than a list.\n",
      "    \n",
      "    When using a non-integer step, such as 0.1, the results will often not\n",
      "    be consistent.  It is better to use `numpy.linspace` for these cases.\n",
      "    \n",
      "    Parameters\n",
      "    ----------\n",
      "    start : number, optional\n",
      "        Start of interval.  The interval includes this value.  The default\n",
      "        start value is 0.\n",
      "    stop : number\n",
      "        End of interval.  The interval does not include this value, except\n",
      "        in some cases where `step` is not an integer and floating point\n",
      "        round-off affects the length of `out`.\n",
      "    step : number, optional\n",
      "        Spacing between values.  For any output `out`, this is the distance\n",
      "        between two adjacent values, ``out[i+1] - out[i]``.  The default\n",
      "        step size is 1.  If `step` is specified as a position argument,\n",
      "        `start` must also be given.\n",
      "    dtype : dtype\n",
      "        The type of the output array.  If `dtype` is not given, infer the data\n",
      "        type from the other input arguments.\n",
      "    \n",
      "    Returns\n",
      "    -------\n",
      "    arange : ndarray\n",
      "        Array of evenly spaced values.\n",
      "    \n",
      "        For floating point arguments, the length of the result is\n",
      "        ``ceil((stop - start)/step)``.  Because of floating point overflow,\n",
      "        this rule may result in the last element of `out` being greater\n",
      "        than `stop`.\n",
      "    \n",
      "    See Also\n",
      "    --------\n",
      "    numpy.linspace : Evenly spaced numbers with careful handling of endpoints.\n",
      "    numpy.ogrid: Arrays of evenly spaced numbers in N-dimensions.\n",
      "    numpy.mgrid: Grid-shaped arrays of evenly spaced numbers in N-dimensions.\n",
      "    \n",
      "    Examples\n",
      "    --------\n",
      "    >>> np.arange(3)\n",
      "    array([0, 1, 2])\n",
      "    >>> np.arange(3.0)\n",
      "    array([ 0.,  1.,  2.])\n",
      "    >>> np.arange(3,7)\n",
      "    array([3, 4, 5, 6])\n",
      "    >>> np.arange(3,7,2)\n",
      "    array([3, 5])\n",
      "\n"
     ]
    }
   ],
   "source": [
    "# The Numpy arange() function, analogue of range()\n",
    "## Why? Aren't they the same? Seems like the class of obj is different...\n",
    "help(np.arange)"
   ]
  },
  {
   "cell_type": "code",
   "execution_count": 15,
   "id": "c8480504",
   "metadata": {},
   "outputs": [
    {
     "name": "stdout",
     "output_type": "stream",
     "text": [
      "np.arange(0,11,2) = arange_tst= [ 0  2  4  6  8 10]\n",
      "type(arange_tst) = <class 'numpy.ndarray'>\n",
      "None\n"
     ]
    }
   ],
   "source": [
    "arange_tst = np.arange(0,11,2)\n",
    "print(f\"np.arange(0,11,2) = arange_tst= {arange_tst}\")\n",
    "print(print(f\"type(arange_tst) = {type(arange_tst)}\"))"
   ]
  },
  {
   "cell_type": "code",
   "execution_count": 22,
   "id": "59f9bd87",
   "metadata": {},
   "outputs": [
    {
     "name": "stdout",
     "output_type": "stream",
     "text": [
      "np.linspace(0,0.75,5) = [0.     0.1875 0.375  0.5625 0.75  ]\n",
      "np.linspace(0,2,10+1) = [0.  0.2 0.4 0.6 0.8 1.  1.2 1.4 1.6 1.8 2. ]\n"
     ]
    }
   ],
   "source": [
    "# np.linspace(a,b,N)\n",
    "# This function return an array of N equally-spaced values in [a,b], including endpoints\n",
    "print(f\"np.linspace(0,0.75,5) = {np.linspace(0,0.75,5)}\")\n",
    "print(f\"np.linspace(0,2,10+1) = {np.linspace(0,2,10+1)}\")"
   ]
  },
  {
   "cell_type": "markdown",
   "id": "fb519631",
   "metadata": {},
   "source": [
    "## **(3) Random Numpy array generators**\n",
    "\n"
   ]
  },
  {
   "cell_type": "code",
   "execution_count": 26,
   "id": "e7af931c",
   "metadata": {},
   "outputs": [
    {
     "name": "stdout",
     "output_type": "stream",
     "text": [
      "np.random.rand(4)) = [0.61132354 0.78788057 0.7107116  0.36090009]\n",
      "np.random.rand(3,2)) = [[7.52197668e-01 3.92801681e-01]\n",
      " [7.86605547e-01 5.72392202e-01]\n",
      " [2.88027670e-05 3.09086962e-01]]\n"
     ]
    }
   ],
   "source": [
    "# The function np.random.rand(n,m) outputs an (n,m) with entries uniformly distributed in [0,1]\n",
    "print(f\"np.random.rand(4)) = {np.random.rand(4)}\")\n",
    "print(f\"np.random.rand(3,2)) = {np.random.rand(3,2)}\")\n"
   ]
  },
  {
   "cell_type": "code",
   "execution_count": 28,
   "id": "fd63a406",
   "metadata": {},
   "outputs": [
    {
     "name": "stdout",
     "output_type": "stream",
     "text": [
      "np.random.randn(4)) = [ 0.26757865  0.67275968  0.51562024 -0.83308285]\n",
      "np.random.randn(3,2)) = [[ 0.11951656 -0.14578893]\n",
      " [ 0.11266493 -1.09624761]\n",
      " [ 0.04495483 -0.83181161]]\n",
      "np.random.randn(4,4)) = [[ 0.19975258 -0.62643152 -0.47108995 -1.60135334]\n",
      " [-0.3842183   0.6014606  -0.53570325  0.55610201]\n",
      " [-0.18844925 -1.49137671  0.89171474  0.29094652]\n",
      " [-2.09739588 -1.55795607 -1.87765275 -1.22482773]]\n"
     ]
    }
   ],
   "source": [
    "# The function np.random.randn(n,m) outputs an (n,m) with entries random entries following N(0,1)\n",
    "print(f\"np.random.randn(4)) = {np.random.randn(4)}\")\n",
    "print(f\"np.random.randn(3,2)) = {np.random.randn(3,2)}\")\n",
    "print(f\"np.random.randn(4,4)) = {np.random.randn(4,4)}\")"
   ]
  },
  {
   "cell_type": "code",
   "execution_count": 34,
   "id": "4c11de7f",
   "metadata": {
    "collapsed": true
   },
   "outputs": [
    {
     "name": "stdout",
     "output_type": "stream",
     "text": [
      "Help on built-in function randint:\n",
      "\n",
      "randint(...) method of numpy.random.mtrand.RandomState instance\n",
      "    randint(low, high=None, size=None, dtype=int)\n",
      "    \n",
      "    Return random integers from `low` (inclusive) to `high` (exclusive).\n",
      "    \n",
      "    Return random integers from the \"discrete uniform\" distribution of\n",
      "    the specified dtype in the \"half-open\" interval [`low`, `high`). If\n",
      "    `high` is None (the default), then results are from [0, `low`).\n",
      "    \n",
      "    .. note::\n",
      "        New code should use the ``integers`` method of a ``default_rng()``\n",
      "        instance instead; please see the :ref:`random-quick-start`.\n",
      "    \n",
      "    Parameters\n",
      "    ----------\n",
      "    low : int or array-like of ints\n",
      "        Lowest (signed) integers to be drawn from the distribution (unless\n",
      "        ``high=None``, in which case this parameter is one above the\n",
      "        *highest* such integer).\n",
      "    high : int or array-like of ints, optional\n",
      "        If provided, one above the largest (signed) integer to be drawn\n",
      "        from the distribution (see above for behavior if ``high=None``).\n",
      "        If array-like, must contain integer values\n",
      "    size : int or tuple of ints, optional\n",
      "        Output shape.  If the given shape is, e.g., ``(m, n, k)``, then\n",
      "        ``m * n * k`` samples are drawn.  Default is None, in which case a\n",
      "        single value is returned.\n",
      "    dtype : dtype, optional\n",
      "        Desired dtype of the result. Byteorder must be native.\n",
      "        The default value is int.\n",
      "    \n",
      "        .. versionadded:: 1.11.0\n",
      "    \n",
      "    Returns\n",
      "    -------\n",
      "    out : int or ndarray of ints\n",
      "        `size`-shaped array of random integers from the appropriate\n",
      "        distribution, or a single such random int if `size` not provided.\n",
      "    \n",
      "    See Also\n",
      "    --------\n",
      "    random_integers : similar to `randint`, only for the closed\n",
      "        interval [`low`, `high`], and 1 is the lowest value if `high` is\n",
      "        omitted.\n",
      "    Generator.integers: which should be used for new code.\n",
      "    \n",
      "    Examples\n",
      "    --------\n",
      "    >>> np.random.randint(2, size=10)\n",
      "    array([1, 0, 0, 0, 1, 1, 0, 0, 1, 0]) # random\n",
      "    >>> np.random.randint(1, size=10)\n",
      "    array([0, 0, 0, 0, 0, 0, 0, 0, 0, 0])\n",
      "    \n",
      "    Generate a 2 x 4 array of ints between 0 and 4, inclusive:\n",
      "    \n",
      "    >>> np.random.randint(5, size=(2, 4))\n",
      "    array([[4, 0, 2, 1], # random\n",
      "           [3, 2, 2, 0]])\n",
      "    \n",
      "    Generate a 1 x 3 array with 3 different upper bounds\n",
      "    \n",
      "    >>> np.random.randint(1, [3, 5, 10])\n",
      "    array([2, 2, 9]) # random\n",
      "    \n",
      "    Generate a 1 by 3 array with 3 different lower bounds\n",
      "    \n",
      "    >>> np.random.randint([1, 5, 7], 10)\n",
      "    array([9, 8, 7]) # random\n",
      "    \n",
      "    Generate a 2 by 4 array using broadcasting with dtype of uint8\n",
      "    \n",
      "    >>> np.random.randint([1, 3, 5, 7], [[10], [20]], dtype=np.uint8)\n",
      "    array([[ 8,  6,  9,  7], # random\n",
      "           [ 1, 16,  9, 12]], dtype=uint8)\n",
      "\n"
     ]
    }
   ],
   "source": [
    "# The function np.random.randint(a,b,(n,m)) returns an (n,m) array of integers randomly drawn in [a,b[ (uniformly)\n",
    "# If (n,m) isn't specified it returns ONE random integer. If replaced by an integer N, returns a (1,N) array\n",
    "help(np.random.randint)"
   ]
  },
  {
   "cell_type": "code",
   "execution_count": 33,
   "id": "782b69f5",
   "metadata": {
    "scrolled": true
   },
   "outputs": [
    {
     "name": "stdout",
     "output_type": "stream",
     "text": [
      "np.random.randint(0,10,(3,3)) = [[2 3 7]\n",
      " [3 6 1]\n",
      " [9 5 6]]\n",
      "np.random.randint(0,101) = 25\n",
      "np.random.randint(0,101,10) = [ 75  42 100  76  63  57  85   6  19  54]\n"
     ]
    }
   ],
   "source": [
    "print(f\"np.random.randint(0,10,(3,3)) = {np.random.randint(0,10,(3,3))}\")\n",
    "print(f\"np.random.randint(0,101) = {np.random.randint(0,101)}\")\n",
    "print(f\"np.random.randint(0,101,10) = {np.random.randint(0,101,10)}\")"
   ]
  },
  {
   "cell_type": "markdown",
   "id": "16c83f4f",
   "metadata": {},
   "source": [
    "## **(4) Basic attributes and methods of arrays**\n",
    "\n"
   ]
  },
  {
   "cell_type": "markdown",
   "id": "a27708f1",
   "metadata": {},
   "source": [
    "* **Reshape** (What use is this?)\n"
   ]
  },
  {
   "cell_type": "code",
   "execution_count": 42,
   "id": "50a1f587",
   "metadata": {
    "scrolled": false
   },
   "outputs": [
    {
     "name": "stdout",
     "output_type": "stream",
     "text": [
      "Using mat_5x5 = mat_1x25.reshape(5,5), the matrix:\n",
      "mat_1x25 = [ 1.74925262  0.47830289 -0.78028406 -1.57692129 -1.3587184  -0.58549998\n",
      "  0.66175843  0.59609693  0.56983428  0.371461   -1.57965455 -0.22493176\n",
      "  1.30791295  0.92605807 -1.88707958 -0.55266442  0.02120173 -0.43520047\n",
      "  0.79052935 -1.2875192  -0.95478357  0.58732485 -1.6012867   0.47517854\n",
      " -0.68023292]\n",
      "gets reshaped into:\n",
      " mat_5x5 = [[ 1.74925262  0.47830289 -0.78028406 -1.57692129 -1.3587184 ]\n",
      " [-0.58549998  0.66175843  0.59609693  0.56983428  0.371461  ]\n",
      " [-1.57965455 -0.22493176  1.30791295  0.92605807 -1.88707958]\n",
      " [-0.55266442  0.02120173 -0.43520047  0.79052935 -1.2875192 ]\n",
      " [-0.95478357  0.58732485 -1.6012867   0.47517854 -0.68023292]]\n"
     ]
    }
   ],
   "source": [
    "mat_1x25 = np.random.randn(25)\n",
    "mat_5x5 = mat_1x25.reshape(5,5)\n",
    "print(f\"Using mat_5x5 = mat_1x25.reshape(5,5), the matrix:\\n\"+\\\n",
    "      f\"mat_1x25 = {mat_1x25}\\ngets reshaped into:\\n mat_5x5 = {mat_5x5}\")"
   ]
  },
  {
   "cell_type": "markdown",
   "id": "896fce59",
   "metadata": {},
   "source": [
    "* **Min and max values in an array, argmin and argmax for their indices**\n",
    "\n",
    "**Note:** Argmin and argmax don't return an index (i,j), they return the index i of min/max for the *flattened* array... How do you look (i,j) index?\n"
   ]
  },
  {
   "cell_type": "code",
   "execution_count": 44,
   "id": "37bf0447",
   "metadata": {},
   "outputs": [
    {
     "name": "stdout",
     "output_type": "stream",
     "text": [
      "matrix_4x4 = [[-0.5650311  -0.26414763 -0.03989725 -0.53350167]\n",
      " [-0.43921842  0.77420045  0.3203596   0.4898972 ]\n",
      " [-1.15909817 -1.24049477  0.45167297 -0.62922376]\n",
      " [ 0.22344286  0.92638329 -0.33933331  0.43098806]]\n"
     ]
    }
   ],
   "source": [
    "matrix_4x4 = np.random.randn(4,4)\n",
    "print(f\"matrix_4x4 = {matrix_4x4}\")"
   ]
  },
  {
   "cell_type": "code",
   "execution_count": 45,
   "id": "1cc3d0e8",
   "metadata": {
    "scrolled": true
   },
   "outputs": [
    {
     "name": "stdout",
     "output_type": "stream",
     "text": [
      "matrix_4x4.min() = -1.2404947733249236\n",
      "matrix_4x4.max() = 0.9263832860947631\n",
      "matrix_4x4.argmin() = 9\n",
      "matrix_4x4.argmax() = 13\n"
     ]
    }
   ],
   "source": [
    "print(f\"matrix_4x4.min() = {matrix_4x4.min()}\")\n",
    "print(f\"matrix_4x4.max() = {matrix_4x4.max()}\")\n",
    "print(f\"matrix_4x4.argmin() = {matrix_4x4.argmin()}\")\n",
    "print(f\"matrix_4x4.argmax() = {matrix_4x4.argmax()}\")"
   ]
  },
  {
   "cell_type": "markdown",
   "id": "a8399688",
   "metadata": {},
   "source": [
    "## **(5) Statistical properties of arrays**\n",
    "\n",
    "This is from Lecture 6 in Section 2 of Lazy Programmer's \"Numpy stack\" course.\n",
    "\n",
    "Below, we start with a random array with a large number of entries sampled from $\\mathcal{N}(0,1)$. The mean, the variance, and the standard deviation can be obtained from Numpy arrays' methods **.mean()**, **.var()** and **.std()**.\n",
    "\n"
   ]
  },
  {
   "cell_type": "code",
   "execution_count": 2,
   "id": "1cf3992b",
   "metadata": {},
   "outputs": [],
   "source": [
    "N = 100000\n",
    "randn_array = np.random.randn(N)"
   ]
  },
  {
   "cell_type": "code",
   "execution_count": 6,
   "id": "fcbe9ebe",
   "metadata": {},
   "outputs": [
    {
     "name": "stdout",
     "output_type": "stream",
     "text": [
      "Mean: randn_array.mean() = -0.0018286991126917067\n",
      "         Variance: randn_array.var() = 0.9977995181854865\n",
      "         Std. dev.: randn_array.std() = 0.9988991531608616\n"
     ]
    }
   ],
   "source": [
    "print(f\"Mean: randn_array.mean() = {randn_array.mean()}\\n \\\n",
    "        Variance: randn_array.var() = {randn_array.var()}\\n \\\n",
    "        Std. dev.: randn_array.std() = {randn_array.std()}\")"
   ]
  },
  {
   "cell_type": "code",
   "execution_count": 7,
   "id": "eb7b4b98",
   "metadata": {},
   "outputs": [
    {
     "data": {
      "text/plain": [
       "0.9977995181854865"
      ]
     },
     "execution_count": 7,
     "metadata": {},
     "output_type": "execute_result"
    }
   ],
   "source": [
    "randn_array.std() **2"
   ]
  },
  {
   "cell_type": "markdown",
   "id": "67754c20",
   "metadata": {},
   "source": [
    "Next, we look at these statistical properties for matrices. In practice, matrices will be used as CSV tables, i.e. each column will correspond to a feature while each row will correspond to a sample.\n",
    "\n",
    "To compute the mean of each column, use **.mean(axis = 0)**, and **.mean(axis = 1)** to compute the mean of each column. This works similarly for variance and std. dev.\n",
    "\n",
    "The confusing point here is that normally, axis 0 would represent rows while axis 1 would represent columns. The command array_variable.mean(axis = 0) means **compute means along axis 0 and preserve the number along axis 1 (# of columns)**. This is the same idea as for the concatenation of arrays above."
   ]
  },
  {
   "cell_type": "code",
   "execution_count": 9,
   "id": "cce7f344",
   "metadata": {},
   "outputs": [],
   "source": [
    "randn_table = np.random.randn(N,10)"
   ]
  },
  {
   "cell_type": "code",
   "execution_count": 13,
   "id": "e8d073f2",
   "metadata": {},
   "outputs": [
    {
     "data": {
      "text/plain": [
       "(10,)"
      ]
     },
     "execution_count": 13,
     "metadata": {},
     "output_type": "execute_result"
    }
   ],
   "source": [
    "# Mean of each column:\n",
    "mean_col_table = randn_table.mean(axis = 0)\n",
    "mean_col_table.shape"
   ]
  },
  {
   "cell_type": "code",
   "execution_count": 14,
   "id": "0d6bb71a",
   "metadata": {},
   "outputs": [
    {
     "data": {
      "text/plain": [
       "(100000,)"
      ]
     },
     "execution_count": 14,
     "metadata": {},
     "output_type": "execute_result"
    }
   ],
   "source": [
    "# Mean of each row:\n",
    "mean_row_table = randn_table.mean(axis = 1)\n",
    "mean_row_table.shape"
   ]
  },
  {
   "cell_type": "code",
   "execution_count": null,
   "id": "2cc69b8a",
   "metadata": {},
   "outputs": [],
   "source": [
    "print(f\"randn_table.var(axis = 1) = {randn_table.var(axis = 1)}\")\n",
    "print(f\"randn_table.std(axis = 0) = {randn_table.std(axis = 0)}\")"
   ]
  },
  {
   "cell_type": "code",
   "execution_count": null,
   "id": "bf5dcbfa",
   "metadata": {},
   "outputs": [],
   "source": []
  },
  {
   "cell_type": "markdown",
   "id": "7aa289ad",
   "metadata": {},
   "source": [
    "Last but not least, covariance. This is given by the Numpy function **np.cov()** (not an attribute).\n",
    "\n",
    "**Important notes:** \n",
    "\n",
    "* There's something wrong with this covariance function, because it doesn't agree with the mathematical definition of the covariance matrix of a random vector. \n",
    "* This is not the same convention as the remainder of the Numpy stack. See last third of relevant lecture.\n",
    "* **I'll get back to this later...**"
   ]
  },
  {
   "cell_type": "code",
   "execution_count": 23,
   "id": "e456afce",
   "metadata": {
    "scrolled": true
   },
   "outputs": [
    {
     "name": "stdout",
     "output_type": "stream",
     "text": [
      "np.cov(vect_1x3) = 0.015652865711285973\n",
      "np.cov(vect_1x3,vect_1x3) = [[0.01565287 0.01565287]\n",
      " [0.01565287 0.01565287]]\n",
      "np.cov(vect_1x3,rowvar=False) = 0.015652865711285973\n"
     ]
    }
   ],
   "source": [
    "vect_1x3 = np.random.rand(3)\n",
    "print(f\"np.cov(vect_1x3) = {np.cov(vect_1x3)}\")\n",
    "print(f\"np.cov(vect_1x3,vect_1x3) = {np.cov(vect_1x3,vect_1x3)}\")\n",
    "print(f\"np.cov(vect_1x3,rowvar=False) = {np.cov(vect_1x3,rowvar=False)}\")"
   ]
  },
  {
   "cell_type": "markdown",
   "id": "dc200e1d",
   "metadata": {},
   "source": [
    "## **(6) Additional notes:**\n",
    "\n",
    "Here are various notes, comments and tricks.\n",
    "\n",
    "* **Slicing of arrays, broadcasting and modifications:** It looks like once an array is created, broadcasting Numpy treats every slicing of it as an array of pointers, see Lect. 20 in Sec. 5 of Portilla's course. If a slice is modified then so is the original array.\n",
    "* **Arrays and comparison statements:** See Lect. 20 in Sec. 5 of Portilla's DSML course. Using an array with a comparison statement returns an arrays of Booleans. This is useful for conditional selection. Relevant because apparently used a lot with Pandas.\n",
    "\n"
   ]
  },
  {
   "cell_type": "code",
   "execution_count": 39,
   "id": "96d7eef4",
   "metadata": {},
   "outputs": [
    {
     "name": "stdout",
     "output_type": "stream",
     "text": [
      "Have:\n",
      " array = [0 1 2 3 4 5 6 7 8 9],\n",
      "and then:\n",
      "bool_array= (array > 5) = [False False False False False False  True  True  True  True]\n",
      "Then: array[bool_array] = [6 7 8 9].\n",
      "More shortly: array[array <8] = [0 1 2 3 4 5 6 7].\n"
     ]
    }
   ],
   "source": [
    "array = np.arange(10)\n",
    "bool_array = array > 5\n",
    "\n",
    "print(f\"Have:\\n array = {array},\\nand then:\\nbool_array= (array > 5) = {bool_array}\\n\\\n",
    "Then: array[bool_array] = {array[bool_array]}.\\n\\\n",
    "More shortly: array[array <8] = {array[array <8]}.\")"
   ]
  },
  {
   "cell_type": "markdown",
   "id": "d8cc08fc",
   "metadata": {},
   "source": [
    "* **Functions of arrays:** When applying a function to an array, Numpy executes the function element-wise. For instance, "
   ]
  },
  {
   "cell_type": "code",
   "execution_count": 48,
   "id": "9b1fae20",
   "metadata": {},
   "outputs": [],
   "source": [
    "pi = np.pi\n",
    "from numpy import cos\n",
    "from numpy import sin\n",
    "from numpy import exp\n",
    "t = pi/3\n",
    "X = np.array([[0, -t], [t, 0]])"
   ]
  },
  {
   "cell_type": "code",
   "execution_count": 50,
   "id": "c95266c6",
   "metadata": {
    "scrolled": true
   },
   "outputs": [
    {
     "name": "stdout",
     "output_type": "stream",
     "text": [
      "X = [[ 0.         -1.04719755]\n",
      " [ 1.04719755  0.        ]]\n",
      "exp(X) = [[1.         0.35091981]\n",
      " [2.84965391 1.        ]]\n",
      "X**2 +1 = [[1.         2.09662271]\n",
      " [2.09662271 1.        ]]\n"
     ]
    }
   ],
   "source": [
    "print(f\"X = {X}\")\n",
    "print(f\"exp(X) = {exp(X)}\")\n",
    "print(f\"X**2 +1 = {X**2 +1}\")"
   ]
  },
  {
   "cell_type": "markdown",
   "id": "dd4eae57",
   "metadata": {},
   "source": [
    "* **Universal array functions:** (Lect 21 of Portilla's DSML, Sec 5) Here is a useful link, with a list of universal functions available in Numpy and that can be applied to arrays:\n",
    "https://numpy.org/doc/stable/reference/ufuncs.html"
   ]
  },
  {
   "cell_type": "markdown",
   "id": "55674309",
   "metadata": {},
   "source": [
    "____________________________"
   ]
  },
  {
   "cell_type": "markdown",
   "id": "476b2959",
   "metadata": {},
   "source": [
    "# **II - Basic Linear Algebra with Numpy**\n",
    "\n",
    "### Notes:\n",
    "\n",
    "* This is from Lazy Programmer's Numpy Stack course, Section 2.\n",
    "* Need to say something about broadcasting\n",
    "* Need to say something about functions of matrices"
   ]
  },
  {
   "cell_type": "markdown",
   "id": "8c5a370b",
   "metadata": {},
   "source": [
    "## **(1) Addition and broadcasting**"
   ]
  },
  {
   "cell_type": "code",
   "execution_count": 68,
   "id": "02a15081",
   "metadata": {},
   "outputs": [
    {
     "name": "stdout",
     "output_type": "stream",
     "text": [
      "vect_4x1 = [[2]\n",
      " [6]\n",
      " [4]\n",
      " [4]]\n",
      "e_1 = [[1.]\n",
      " [0.]\n",
      " [0.]\n",
      " [0.]]\n"
     ]
    }
   ],
   "source": [
    "vect_4x1 = np.random.randint(0,11,(4,1))\n",
    "print(f\"vect_4x1 = {vect_4x1}\")\n",
    "e_1= np.array([1.0, 0.0, 0.0, 0.0,]).reshape(4,1)\n",
    "print(f\"e_1 = {e_1}\")"
   ]
  },
  {
   "cell_type": "code",
   "execution_count": 69,
   "id": "cd682863",
   "metadata": {},
   "outputs": [
    {
     "data": {
      "text/plain": [
       "array([[3.],\n",
       "       [6.],\n",
       "       [4.],\n",
       "       [4.]])"
      ]
     },
     "execution_count": 69,
     "metadata": {},
     "output_type": "execute_result"
    }
   ],
   "source": [
    "# Usual matrix addition is done as one would expect\n",
    "vect_4x1+e_1"
   ]
  },
  {
   "cell_type": "code",
   "execution_count": 70,
   "id": "eb1f6723",
   "metadata": {},
   "outputs": [
    {
     "data": {
      "text/plain": [
       "array([[3],\n",
       "       [7],\n",
       "       [5],\n",
       "       [5]])"
      ]
     },
     "execution_count": 70,
     "metadata": {},
     "output_type": "execute_result"
    }
   ],
   "source": [
    "# If we just add a (1,1) array to the vector, Numpy broadcasts it as follows:\n",
    "vect_4x1+np.array([1])\n",
    "# Add a vector with size different from (1,1) or (4,1) is undefined however"
   ]
  },
  {
   "cell_type": "markdown",
   "id": "84679f60",
   "metadata": {},
   "source": [
    "## **(2) Scalar multiplication**\n",
    "\n",
    "Exactly as one would expect."
   ]
  },
  {
   "cell_type": "code",
   "execution_count": 71,
   "id": "ef02b3d7",
   "metadata": {},
   "outputs": [],
   "source": [
    "Iden_3 = np.eye(3)"
   ]
  },
  {
   "cell_type": "code",
   "execution_count": 72,
   "id": "b528f1b2",
   "metadata": {},
   "outputs": [
    {
     "name": "stdout",
     "output_type": "stream",
     "text": [
      "10*Iden_3 = [[10.  0.  0.]\n",
      " [ 0. 10.  0.]\n",
      " [ 0.  0. 10.]]\n",
      "Iden_3*10 = [[10.  0.  0.]\n",
      " [ 0. 10.  0.]\n",
      " [ 0.  0. 10.]]\n"
     ]
    }
   ],
   "source": [
    "print(f\"10*Iden_3 = {10*Iden_3}\")\n",
    "print(f\"Iden_3*10 = {Iden_3*10}\")"
   ]
  },
  {
   "cell_type": "code",
   "execution_count": 73,
   "id": "f2aa7ee4",
   "metadata": {},
   "outputs": [
    {
     "name": "stdout",
     "output_type": "stream",
     "text": [
      " 5*vect_4x1 = [[10]\n",
      " [30]\n",
      " [20]\n",
      " [20]] \n"
     ]
    }
   ],
   "source": [
    "print(f\" 5*vect_4x1 = {5*vect_4x1} \")"
   ]
  },
  {
   "cell_type": "markdown",
   "id": "8a4e0cd0",
   "metadata": {},
   "source": [
    "## **(3) The dot product of vectors**\n",
    "\n",
    "Because of the heavy broadcasting in Numpy, the usual \"\\*\" operator just multiplies component-wise:"
   ]
  },
  {
   "cell_type": "code",
   "execution_count": 88,
   "id": "508c9d56",
   "metadata": {},
   "outputs": [],
   "source": [
    "v = np.array([1,2,3,4]).reshape(4,1)\n",
    "w = np.array([5,6,7,8]).reshape(4,1)"
   ]
  },
  {
   "cell_type": "code",
   "execution_count": 89,
   "id": "18b24402",
   "metadata": {},
   "outputs": [
    {
     "data": {
      "text/plain": [
       "array([[1],\n",
       "       [2],\n",
       "       [3],\n",
       "       [4]])"
      ]
     },
     "execution_count": 89,
     "metadata": {},
     "output_type": "execute_result"
    }
   ],
   "source": [
    "v"
   ]
  },
  {
   "cell_type": "code",
   "execution_count": 102,
   "id": "4adfb744",
   "metadata": {},
   "outputs": [
    {
     "data": {
      "text/plain": [
       "array([[5],\n",
       "       [6],\n",
       "       [7],\n",
       "       [8]])"
      ]
     },
     "execution_count": 102,
     "metadata": {},
     "output_type": "execute_result"
    }
   ],
   "source": [
    "w"
   ]
  },
  {
   "cell_type": "code",
   "execution_count": 95,
   "id": "a9b61f5e",
   "metadata": {},
   "outputs": [
    {
     "data": {
      "text/plain": [
       "array([[ 6],\n",
       "       [ 8],\n",
       "       [10],\n",
       "       [12]])"
      ]
     },
     "execution_count": 95,
     "metadata": {},
     "output_type": "execute_result"
    }
   ],
   "source": [
    "v+w"
   ]
  },
  {
   "cell_type": "code",
   "execution_count": 90,
   "id": "cb152abf",
   "metadata": {},
   "outputs": [
    {
     "name": "stdout",
     "output_type": "stream",
     "text": [
      "v*w = [[ 5]\n",
      " [12]\n",
      " [21]\n",
      " [32]]\n"
     ]
    }
   ],
   "source": [
    "print(f\"v*w = {v*w}\")"
   ]
  },
  {
   "cell_type": "markdown",
   "id": "fd7a4558",
   "metadata": {},
   "source": [
    "One way of composing the dot product is then:"
   ]
  },
  {
   "cell_type": "code",
   "execution_count": 93,
   "id": "d3ffb190",
   "metadata": {},
   "outputs": [
    {
     "data": {
      "text/plain": [
       "70"
      ]
     },
     "execution_count": 93,
     "metadata": {},
     "output_type": "execute_result"
    }
   ],
   "source": [
    "v_dot_w_1 = (v*w).sum()\n",
    "v_dot_w_1"
   ]
  },
  {
   "cell_type": "markdown",
   "id": "b46cefc5",
   "metadata": {},
   "source": [
    "The Numpy function for the dot product is **np.dot(v,w)**, but beware **seems to only work on row vectors**:\n",
    "\n",
    "- If we compile np.dot(v,w), Numpy gives an error message.\n",
    "\n",
    "- v and w must be reshaped."
   ]
  },
  {
   "cell_type": "code",
   "execution_count": 104,
   "id": "f049a6b4",
   "metadata": {},
   "outputs": [
    {
     "data": {
      "text/plain": [
       "70"
      ]
     },
     "execution_count": 104,
     "metadata": {},
     "output_type": "execute_result"
    }
   ],
   "source": [
    "np.dot(v.reshape(4), w.reshape(4))"
   ]
  },
  {
   "cell_type": "code",
   "execution_count": 103,
   "id": "0b47553e",
   "metadata": {},
   "outputs": [
    {
     "data": {
      "text/plain": [
       "70"
      ]
     },
     "execution_count": 103,
     "metadata": {},
     "output_type": "execute_result"
    }
   ],
   "source": [
    "np.dot(np.array([1,2,3,4]),np.array([5,6,7,8]))"
   ]
  },
  {
   "cell_type": "markdown",
   "id": "12189fd8",
   "metadata": {},
   "source": [
    "The right way to get the dot product of column vectors is to do the following (see matrices below for the matrix product):"
   ]
  },
  {
   "cell_type": "code",
   "execution_count": 131,
   "id": "aa136ef8",
   "metadata": {},
   "outputs": [
    {
     "name": "stdout",
     "output_type": "stream",
     "text": [
      "np.dot(v.T,w) = [[70]]\n"
     ]
    }
   ],
   "source": [
    "print(f\"np.dot(v.T,w) = {np.dot(v.T,w)}\")"
   ]
  },
  {
   "cell_type": "markdown",
   "id": "3cb1080f",
   "metadata": {},
   "source": [
    "... nope, I don't like this. Other ways of computing the dot product:"
   ]
  },
  {
   "cell_type": "code",
   "execution_count": 107,
   "id": "2bdfd35c",
   "metadata": {},
   "outputs": [
    {
     "data": {
      "text/plain": [
       "70"
      ]
     },
     "execution_count": 107,
     "metadata": {},
     "output_type": "execute_result"
    }
   ],
   "source": [
    "a = v.reshape(4)\n",
    "b= w.reshape(4)\n",
    "# Here's another way to do the dot product\n",
    "a @ b"
   ]
  },
  {
   "cell_type": "code",
   "execution_count": 110,
   "id": "c594150f",
   "metadata": {},
   "outputs": [
    {
     "data": {
      "text/plain": [
       "70"
      ]
     },
     "execution_count": 110,
     "metadata": {},
     "output_type": "execute_result"
    }
   ],
   "source": [
    "# ... and another way:\n",
    "a.dot(b)"
   ]
  },
  {
   "cell_type": "markdown",
   "id": "3a51a88f",
   "metadata": {},
   "source": [
    "For the geometric interpretation of the dot product: \n",
    "\n",
    "$$ \\vec{u}\\bullet\\vec{v} = |\\!|\\vec{u}|\\!|\\cdot |\\!|\\vec{v}|\\!|\\cdot \\cos(\\theta_{v,w}), $$\n",
    "\n",
    "there's a dedicated function for the norm in a subpackage of Numpy, the \"linalg\" package:"
   ]
  },
  {
   "cell_type": "code",
   "execution_count": 111,
   "id": "f022edea",
   "metadata": {},
   "outputs": [],
   "source": [
    "norm_v = np.linalg.norm(v)"
   ]
  },
  {
   "cell_type": "code",
   "execution_count": 112,
   "id": "81745fcd",
   "metadata": {},
   "outputs": [
    {
     "data": {
      "text/plain": [
       "5.477225575051661"
      ]
     },
     "execution_count": 112,
     "metadata": {},
     "output_type": "execute_result"
    }
   ],
   "source": [
    "norm_v"
   ]
  },
  {
   "cell_type": "code",
   "execution_count": 117,
   "id": "b84d3607",
   "metadata": {},
   "outputs": [
    {
     "name": "stdout",
     "output_type": "stream",
     "text": [
      "theta_v_w = 0.25019592042251176\n"
     ]
    }
   ],
   "source": [
    "norm_w = np.linalg.norm(w)\n",
    "theta_v_w = np.arccos( (v*w).sum()/(norm_v*norm_w ) )\n",
    "print(f\"theta_v_w = {theta_v_w}\")"
   ]
  },
  {
   "cell_type": "markdown",
   "id": "7985c44d",
   "metadata": {},
   "source": [
    "## **(4) Matrices**"
   ]
  },
  {
   "cell_type": "markdown",
   "id": "683e86bb",
   "metadata": {},
   "source": [
    "\n",
    "\n",
    "### **4.a - Indices**: \n",
    "\n",
    "Aside from the list indices, arrays in numpy also allow the use of matrix notation **M[i,j]** for indices."
   ]
  },
  {
   "cell_type": "code",
   "execution_count": 120,
   "id": "a9566848",
   "metadata": {},
   "outputs": [
    {
     "name": "stdout",
     "output_type": "stream",
     "text": [
      "mat_2x3 = [[1 2 3]\n",
      " [4 5 6]]\n",
      "List indexing: mat_2x3[0][1] = 2\n",
      "Matrix indexing: mat_2x3[1,1] = 5\n"
     ]
    }
   ],
   "source": [
    "mat_2x3 = np.array([[1, 2, 3], [4, 5, 6]])\n",
    "print(f\"mat_2x3 = {mat_2x3}\")\n",
    "print(f\"List indexing: mat_2x3[0][1] = {mat_2x3[0][1]}\")\n",
    "print(f\"Matrix indexing: mat_2x3[1,1] = {mat_2x3[1,1]}\")"
   ]
  },
  {
   "cell_type": "markdown",
   "id": "d9d793de",
   "metadata": {},
   "source": [
    "The index slicing used for lists is also valid here."
   ]
  },
  {
   "cell_type": "markdown",
   "id": "e2f68002",
   "metadata": {},
   "source": [
    "### **4.b - Transposes:** \n",
    "This is an important command, done using **array_var.T**."
   ]
  },
  {
   "cell_type": "code",
   "execution_count": 74,
   "id": "8c71a637",
   "metadata": {},
   "outputs": [
    {
     "name": "stdout",
     "output_type": "stream",
     "text": [
      "vect_4x1.T = [[2 6 4 4]]\n"
     ]
    }
   ],
   "source": [
    "print(f\"vect_4x1.T = {vect_4x1.T}\")"
   ]
  },
  {
   "cell_type": "code",
   "execution_count": 77,
   "id": "91d09fb3",
   "metadata": {
    "scrolled": true
   },
   "outputs": [
    {
     "name": "stdout",
     "output_type": "stream",
     "text": [
      "Mat_2x3 = [[6 2 6]\n",
      " [9 8 4]]\n",
      "Mat_2x3.T = [[6 9]\n",
      " [2 8]\n",
      " [6 4]]\n"
     ]
    }
   ],
   "source": [
    "Mat_2x3  = np.random.randint(0,10+1,(2,3))\n",
    "print(f\"Mat_2x3 = {Mat_2x3}\")\n",
    "print(f\"Mat_2x3.T = {Mat_2x3.T}\")"
   ]
  },
  {
   "cell_type": "markdown",
   "id": "22e2a3a3",
   "metadata": {},
   "source": [
    "### **4.c - Rows/Columns:** \n",
    "One can also extract rows and columns from a given matrix using **M[:,j]** and **M[i,:]**, a little like in Matlab."
   ]
  },
  {
   "cell_type": "code",
   "execution_count": 123,
   "id": "ed7ed5cf",
   "metadata": {},
   "outputs": [
    {
     "name": "stdout",
     "output_type": "stream",
     "text": [
      "Third column of mat_2x3: mat_2x3[:,2] = [3 6]\n",
      "Third column of mat_2x3: mat_2x3[:,2].T = [3 6]\n",
      "First row of mat_2x3: mat_2x3[0,:] = [1 2 3]\n"
     ]
    }
   ],
   "source": [
    "# Note the return to row vectors for the first case\n",
    "print(f\"Third column of mat_2x3: mat_2x3[:,2] = {mat_2x3[:,2]}\")\n",
    "print(f\"Third column of mat_2x3: mat_2x3[:,2].T = {(mat_2x3[:,2]).T}\")\n",
    "print(f\"First row of mat_2x3: mat_2x3[0,:] = {mat_2x3[0,:]}\")"
   ]
  },
  {
   "cell_type": "markdown",
   "id": "7f90dfe0",
   "metadata": {},
   "source": [
    "### **4.d - Matrix multiplication:** \n",
    "\n",
    "Next, **matrix multiplication** is done using the .dot() functions, or the \"@\" operator:"
   ]
  },
  {
   "cell_type": "code",
   "execution_count": 126,
   "id": "5a50023e",
   "metadata": {},
   "outputs": [
    {
     "name": "stdout",
     "output_type": "stream",
     "text": [
      "A = [[0.5 0. ]\n",
      " [0.  0.5]]\n",
      "B = [[4 6]\n",
      " [3 8]]\n"
     ]
    }
   ],
   "source": [
    "A = np.array([[0.5, 0], [0, 0.5]])\n",
    "print(f\"A = {A}\")\n",
    "B = np.array([[4, 6], [3, 8]])\n",
    "print(f\"B = {B}\")"
   ]
  },
  {
   "cell_type": "code",
   "execution_count": 132,
   "id": "ee1f0f9d",
   "metadata": {},
   "outputs": [
    {
     "name": "stdout",
     "output_type": "stream",
     "text": [
      "A.dot(B) = [[2.  3. ]\n",
      " [1.5 4. ]]\n",
      "np.dot(A,B) = [[2.  3. ]\n",
      " [1.5 4. ]]\n",
      "A @ B = [[2.  3. ]\n",
      " [1.5 4. ]]\n"
     ]
    }
   ],
   "source": [
    "print(f\"A.dot(B) = {A.dot(B)}\")\n",
    "print(f\"np.dot(A,B) = {np.dot(A,B)}\")\n",
    "print(f\"A @ B = {A @ B}\")"
   ]
  },
  {
   "cell_type": "markdown",
   "id": "3f020638",
   "metadata": {},
   "source": [
    "### **4.e - Matrix Inversion:** \n",
    "\n",
    "Inversion calls upon the linalg package too: we use **np.linalg.inv()**"
   ]
  },
  {
   "cell_type": "code",
   "execution_count": 137,
   "id": "bd46b3a8",
   "metadata": {},
   "outputs": [],
   "source": [
    "pi = np.pi\n",
    "from numpy import cos\n",
    "from numpy import sin"
   ]
  },
  {
   "cell_type": "code",
   "execution_count": 140,
   "id": "b3314d86",
   "metadata": {},
   "outputs": [
    {
     "name": "stdout",
     "output_type": "stream",
     "text": [
      "orth_mat = [[ 0.5       -0.8660254]\n",
      " [ 0.8660254  0.5      ]]\n",
      "orth_mat.T = [[ 0.5        0.8660254]\n",
      " [-0.8660254  0.5      ]]\n",
      "np.linalg.inv(orth_mat) = [[ 0.5        0.8660254]\n",
      " [-0.8660254  0.5      ]]\n"
     ]
    }
   ],
   "source": [
    "orth_mat = np.array([[cos(pi/3), -sin(pi/3)], [sin(pi/3), cos(pi/3)]])\n",
    "print(f\"orth_mat = {orth_mat}\")\n",
    "print(f\"orth_mat.T = {orth_mat.T}\")\n",
    "print(f\"np.linalg.inv(orth_mat) = {np.linalg.inv(orth_mat)}\")"
   ]
  },
  {
   "cell_type": "markdown",
   "id": "e732075a",
   "metadata": {},
   "source": [
    "### **4.e - Trace and Determinant:** \n",
    "\n",
    "The trace function is in Numpy, but the determinant function is in linalg. They're respectively called using **np.trace()** and **np.linalg.det()**"
   ]
  },
  {
   "cell_type": "code",
   "execution_count": 142,
   "id": "0017661e",
   "metadata": {},
   "outputs": [
    {
     "name": "stdout",
     "output_type": "stream",
     "text": [
      "A = 2*orth_mat = [[ 1.         -1.73205081]\n",
      " [ 1.73205081  1.        ]]\n",
      "tr(A) = np.trace(A) = 2.0000000000000004\n",
      "det(A) = np.linalg.det(A) = 4.000000000000001\n"
     ]
    }
   ],
   "source": [
    "A = 2*orth_mat\n",
    "print(f\"A = 2*orth_mat = {2*orth_mat}\")\n",
    "print(f\"tr(A) = np.trace(A) = {np.trace(A)}\")\n",
    "print(f\"det(A) = np.linalg.det(A) = {np.linalg.det(A)}\")"
   ]
  },
  {
   "cell_type": "markdown",
   "id": "0f25c449",
   "metadata": {},
   "source": [
    "**Note:** The round-off errors are pretty obvious in Python:"
   ]
  },
  {
   "cell_type": "code",
   "execution_count": 145,
   "id": "6da229c4",
   "metadata": {},
   "outputs": [
    {
     "name": "stdout",
     "output_type": "stream",
     "text": [
      "np.dot(orth_mat,np.linalg.inv(orth_mat))= [[1.00000000e+00 1.48741681e-17]\n",
      " [7.03853194e-17 1.00000000e+00]]\n"
     ]
    }
   ],
   "source": [
    "print(f\"np.dot(orth_mat,np.linalg.inv(orth_mat))\\\n",
    "= {np.dot(orth_mat,np.linalg.inv(orth_mat))}\")"
   ]
  },
  {
   "cell_type": "markdown",
   "id": "30be95df",
   "metadata": {},
   "source": [
    "### **4.g - Diagonal matrices and diagonal elements:** \n",
    "Getting the diagonal of a matrix is done using the **np.diag()** function"
   ]
  },
  {
   "cell_type": "code",
   "execution_count": 146,
   "id": "ba7f1999",
   "metadata": {},
   "outputs": [
    {
     "name": "stdout",
     "output_type": "stream",
     "text": [
      "A = [[1 2 3]\n",
      " [4 5 6]\n",
      " [7 8 9]]\n",
      "np.diag(A) = [1 5 9]\n"
     ]
    }
   ],
   "source": [
    "A = np.array([[1,2,3],[4,5,6],[7,8,9]])\n",
    "print(f\"A = {A}\")\n",
    "print(f\"np.diag(A) = {np.diag(A)}\")"
   ]
  },
  {
   "cell_type": "markdown",
   "id": "d9cba441",
   "metadata": {},
   "source": [
    "As in Matlab, one can create an nxn diagonal matrix using **np.diag()** also:"
   ]
  },
  {
   "cell_type": "code",
   "execution_count": 147,
   "id": "9b05fd31",
   "metadata": {},
   "outputs": [
    {
     "name": "stdout",
     "output_type": "stream",
     "text": [
      "B = np.diag([-1, 2, 1]) = [[-1  0  0]\n",
      " [ 0  2  0]\n",
      " [ 0  0  1]]\n"
     ]
    }
   ],
   "source": [
    "B = np.diag([-1, 2, 1])\n",
    "print(f\"B = np.diag([-1, 2, 1]) = {B}\")"
   ]
  },
  {
   "cell_type": "markdown",
   "id": "a5dd2783",
   "metadata": {},
   "source": [
    "## **(6) Eigenvalues and eigenvectors of matrices:**\n",
    "\n",
    "These call upon the linalg package."
   ]
  },
  {
   "cell_type": "code",
   "execution_count": 159,
   "id": "359af48d",
   "metadata": {},
   "outputs": [
    {
     "name": "stdout",
     "output_type": "stream",
     "text": [
      "E_A = np.linalg.eig(A) = (array([-0.37228132,  5.37228132]), array([[-0.82456484, -0.41597356],\n",
      "       [ 0.56576746, -0.90937671]]))\n"
     ]
    }
   ],
   "source": [
    "A = np.array([[1,2],[3,4]])\n",
    "E_A = np.linalg.eig(A)\n",
    "print(f\"E_A = np.linalg.eig(A) = {E_A}\")"
   ]
  },
  {
   "cell_type": "markdown",
   "id": "2fd47cb8",
   "metadata": {},
   "source": [
    "In the above example, $\\lambda_+ \\simeq 5.37$ and $\\lambda_- \\simeq -0.37$. The output of linalg.eig() is a tuple, whose first entry is a **vector containing eigenvalues**, with second entry a **matrix whose columns are normalized eigenvectors**. Note that the output is a tuple."
   ]
  },
  {
   "cell_type": "code",
   "execution_count": 161,
   "id": "2609ac58",
   "metadata": {},
   "outputs": [
    {
     "name": "stdout",
     "output_type": "stream",
     "text": [
      "A.eig_v_neg = [ 0.30697009 -0.21062466]\n",
      "A.eig_v_pos = [-2.23472698 -4.88542751]\n"
     ]
    }
   ],
   "source": [
    "eig_v_neg = E_A[1][:,0]\n",
    "eig_v_pos = E_A[1][:,1]\n",
    "\n",
    "print(f\"A.eig_v_neg = {A @eig_v_neg}\")\n",
    "print(f\"A.eig_v_pos = {A @eig_v_pos}\")"
   ]
  },
  {
   "cell_type": "code",
   "execution_count": 163,
   "id": "a227a571",
   "metadata": {},
   "outputs": [
    {
     "name": "stdout",
     "output_type": "stream",
     "text": [
      "D = (P^-1).A.P = [[-3.72281323e-01  6.87203782e-16]\n",
      " [-4.89517862e-17  5.37228132e+00]]\n"
     ]
    }
   ],
   "source": [
    "# The ultimate test:\n",
    "P = E_A[1]\n",
    "D = (np.linalg.inv(P)) @ (A @ P)\n",
    "print(f\"D = (P^-1).A.P = {D}\")"
   ]
  },
  {
   "cell_type": "code",
   "execution_count": null,
   "id": "e5e7ca50",
   "metadata": {},
   "outputs": [],
   "source": []
  },
  {
   "cell_type": "markdown",
   "id": "1b3137aa",
   "metadata": {},
   "source": [
    "For complex eigen-elements:"
   ]
  },
  {
   "cell_type": "code",
   "execution_count": 148,
   "id": "60f78f97",
   "metadata": {},
   "outputs": [
    {
     "name": "stdout",
     "output_type": "stream",
     "text": [
      "np.linalg.eig(orth_mat) = (array([0.5+0.8660254j, 0.5-0.8660254j]), array([[0.70710678+0.j        , 0.70710678-0.j        ],\n",
      "       [0.        -0.70710678j, 0.        +0.70710678j]]))\n"
     ]
    }
   ],
   "source": [
    "eig_orth_mat = np.linalg.eig(orth_mat)\n",
    "print(f\"np.linalg.eig(orth_mat) = {eig_orth_mat}\")"
   ]
  },
  {
   "cell_type": "markdown",
   "id": "1607849a",
   "metadata": {},
   "source": [
    "Notice that $j = \\sqrt{-1}$ for Numpy. To isolate it use **1j**:"
   ]
  },
  {
   "cell_type": "code",
   "execution_count": 168,
   "id": "c3afdd62",
   "metadata": {},
   "outputs": [
    {
     "data": {
      "text/plain": [
       "(-1+0j)"
      ]
     },
     "execution_count": 168,
     "metadata": {},
     "output_type": "execute_result"
    }
   ],
   "source": [
    "(1j)**2"
   ]
  },
  {
   "cell_type": "code",
   "execution_count": 169,
   "id": "a06235bc",
   "metadata": {
    "scrolled": true
   },
   "outputs": [
    {
     "data": {
      "text/plain": [
       "(-4+0j)"
      ]
     },
     "execution_count": 169,
     "metadata": {},
     "output_type": "execute_result"
    }
   ],
   "source": [
    "(2*1j)**2"
   ]
  },
  {
   "cell_type": "markdown",
   "id": "e16b2ec5",
   "metadata": {},
   "source": [
    "## **(7) On numerical precision:**\n",
    "\n",
    "Lazy Programmer makes a note on numerical precision in Python's linear algebra computations. Returning to the diagonalization of our last example of A:"
   ]
  },
  {
   "cell_type": "code",
   "execution_count": 170,
   "id": "b40054d9",
   "metadata": {},
   "outputs": [],
   "source": [
    "# The matrix\n",
    "A = np.array([[1,2],[3,4]])\n",
    "E_A = np.linalg.eig(A)\n",
    "\n",
    "# Eigenvalues\n",
    "lambda_A = E_A[0]\n",
    "\n",
    "# Eigenvectors\n",
    "eig_v_neg = E_A[1][:,0]\n",
    "eig_v_pos = E_A[1][:,1]\n",
    "P = E_A[1]\n",
    "\n",
    "# Diagonal computed numerically\n",
    "D = (np.linalg.inv(P)) @ (A @ P)\n",
    "\n",
    "D_1 = np.diag(lambda_A)"
   ]
  },
  {
   "cell_type": "markdown",
   "id": "ae5f96ba",
   "metadata": {},
   "source": [
    "The diagonalization of A doesn't return the eigenvalues that Numpy computed:"
   ]
  },
  {
   "cell_type": "code",
   "execution_count": 171,
   "id": "aa6478ef",
   "metadata": {},
   "outputs": [
    {
     "data": {
      "text/plain": [
       "array([[ True, False],\n",
       "       [False, False]])"
      ]
     },
     "execution_count": 171,
     "metadata": {},
     "output_type": "execute_result"
    }
   ],
   "source": [
    "D == D_1"
   ]
  },
  {
   "cell_type": "markdown",
   "id": "4b23c27e",
   "metadata": {},
   "source": [
    "The correct way of comparing such matrices is to use **np.allclose()**:"
   ]
  },
  {
   "cell_type": "code",
   "execution_count": 172,
   "id": "54edf294",
   "metadata": {},
   "outputs": [
    {
     "data": {
      "text/plain": [
       "True"
      ]
     },
     "execution_count": 172,
     "metadata": {},
     "output_type": "execute_result"
    }
   ],
   "source": [
    "np.allclose(D, D_1)"
   ]
  },
  {
   "cell_type": "markdown",
   "id": "aeea31c5",
   "metadata": {},
   "source": [
    "## **(8) Solving linear systems:**\n",
    "\n",
    "There's an optimized function to solve linear systems with Numpy, which is far better than using the standard $A^{-1}\\cdot\\vec{b}$."
   ]
  },
  {
   "cell_type": "code",
   "execution_count": 176,
   "id": "db49ad4e",
   "metadata": {},
   "outputs": [
    {
     "name": "stdout",
     "output_type": "stream",
     "text": [
      "A.x = [[10.]\n",
      " [11.]]\n"
     ]
    }
   ],
   "source": [
    "A = np.array([[1,2],[3,4]])\n",
    "b = np.array([[10.0],[11.0]])\n",
    "x_1 = np.array([[-9.0],[19/2]])\n",
    "print(f\"A.x_1 = {np.dot(A,x_1)}\")"
   ]
  },
  {
   "cell_type": "code",
   "execution_count": 178,
   "id": "e259595c",
   "metadata": {},
   "outputs": [
    {
     "name": "stdout",
     "output_type": "stream",
     "text": [
      "np.linalg.solve(A,b) = [[-9. ]\n",
      " [ 9.5]]\n"
     ]
    }
   ],
   "source": [
    "x = np.linalg.solve(A,b)\n",
    "print(f\"np.linalg.solve(A,b) = {x}\")"
   ]
  },
  {
   "cell_type": "markdown",
   "id": "0662b8d3",
   "metadata": {},
   "source": [
    "**Remarks:** Add examples of systems with $\\det A = 0$ and $\\vec{b}\\not\\in \\mathrm{Ran}(A)$"
   ]
  },
  {
   "cell_type": "code",
   "execution_count": null,
   "id": "8f632d36",
   "metadata": {},
   "outputs": [],
   "source": []
  },
  {
   "cell_type": "markdown",
   "id": "aec65120",
   "metadata": {},
   "source": [
    "## **(9) Comparing execution times (Exercise)**\n",
    "\n",
    "This is an exercise in Lazy Programmer's Numpy stack course (Lect. 10, Sec. 02). The question is to compare the execution times of ab-initio matrix multiplication (using lists and loops) with Numpy's function. The general approach to this experimant is explained in Lecture 6.\n",
    "\n",
    "Here the Colab Notebook: https://colab.research.google.com/drive/1VdLyfnop7Tt4wx4BmS6WHSSQg3n5wXrX"
   ]
  },
  {
   "cell_type": "code",
   "execution_count": 2,
   "id": "dba35cbe",
   "metadata": {},
   "outputs": [],
   "source": [
    "# Generate 2 random 3x3 matrices with real entries in [0,100]\n",
    "A = 100*np.random.rand(3,3)\n",
    "B = 100*np.random.rand(3,3)"
   ]
  },
  {
   "cell_type": "code",
   "execution_count": 3,
   "id": "948cd995",
   "metadata": {
    "scrolled": true
   },
   "outputs": [
    {
     "data": {
      "text/plain": [
       "(3, 3)"
      ]
     },
     "execution_count": 3,
     "metadata": {},
     "output_type": "execute_result"
    }
   ],
   "source": [
    "A.shape"
   ]
  },
  {
   "cell_type": "code",
   "execution_count": 4,
   "id": "9a5ad40c",
   "metadata": {},
   "outputs": [
    {
     "name": "stdout",
     "output_type": "stream",
     "text": [
      "A = [[83.32511657 51.59176918  2.85423485]\n",
      " [ 5.72925842 80.43847626 57.72360123]\n",
      " [25.1357724  77.72802812 29.74011825]]\n",
      "B = [[45.42243174 18.38255011 15.36310348]\n",
      " [42.62974536  8.59799226 15.77128572]\n",
      " [51.04616814 10.1725631  40.10964082]]\n"
     ]
    }
   ],
   "source": [
    "print(f\"A = {A}\")\n",
    "print(f\"B = {B}\")"
   ]
  },
  {
   "cell_type": "code",
   "execution_count": 10,
   "id": "e2cd362a",
   "metadata": {},
   "outputs": [
    {
     "name": "stdout",
     "output_type": "stream",
     "text": [
      "A[2,3] = 57.72360122528549\n",
      "A[3,2] = 77.72802812006657\n"
     ]
    }
   ],
   "source": [
    "n = 2-1; m= 3-1\n",
    "print(f\"A[{n+1},{m+1}] = {A[n,m]}\")\n",
    "print(f\"A[{m+1},{n+1}] = {A[m,n]}\")"
   ]
  },
  {
   "cell_type": "code",
   "execution_count": 12,
   "id": "635a0403",
   "metadata": {
    "scrolled": true
   },
   "outputs": [
    {
     "name": "stdout",
     "output_type": "stream",
     "text": [
      "C = A.B = [[6129.87115412 2004.34864631 2208.283255  ]\n",
      " [6635.87726267 1384.12475179 3671.91029324]\n",
      " [5973.37302829 1432.89780894 2804.89987263]]\n",
      "D = B.A = [[4276.31127147 5016.23167305 1647.65379352]\n",
      " [3997.81206864 4116.82431818 1087.02228332]\n",
      " [5319.89595577 6569.47088916 1925.76018888]]\n"
     ]
    }
   ],
   "source": [
    "C = np.dot(A,B)\n",
    "D = np.dot(B,A)\n",
    "print(f\"C = A.B = {C}\")\n",
    "print(f\"D = B.A = {D}\")"
   ]
  },
  {
   "cell_type": "markdown",
   "id": "ef00e8ed",
   "metadata": {},
   "source": [
    "A basic function to compute matrix products. If $C = A\\cdot B$ with $A = [a_{ij}]$ and $B = [b_{ij}]$, then:\n",
    "\n",
    "$c_{ij} = \\sum_{k=1}^{n}a_{i,k}\\cdot b_{k,j}$.\n"
   ]
  },
  {
   "cell_type": "code",
   "execution_count": 37,
   "id": "44a5e249",
   "metadata": {},
   "outputs": [],
   "source": [
    "# My multiplication function for square matrices of same size\n",
    "def Mult(A,B):\n",
    "    # Just for a test, don't add too much\n",
    "    n = A.shape[0]\n",
    "    A_dot_B = np.zeros((n,n))\n",
    "    for i in range(n):\n",
    "        for j in range(n):\n",
    "            for k in range(n):\n",
    "                A_dot_B[i,j] += A[i,k]*B[k,j]\n",
    "    return A_dot_B\n",
    "        "
   ]
  },
  {
   "cell_type": "code",
   "execution_count": 38,
   "id": "a55167e6",
   "metadata": {},
   "outputs": [],
   "source": [
    "C_1 = Mult(A,B)"
   ]
  },
  {
   "cell_type": "code",
   "execution_count": 42,
   "id": "31823e12",
   "metadata": {
    "scrolled": true
   },
   "outputs": [
    {
     "name": "stdout",
     "output_type": "stream",
     "text": [
      "Ab-initio multiplication: Mult(A,B) = \n",
      "[[6129.87115412 2004.34864631 2208.283255  ]\n",
      " [6635.87726267 1384.12475179 3671.91029324]\n",
      " [5973.37302829 1432.89780894 2804.89987263]]\n",
      "Numpy multiplication: np.dot(A,B) = \n",
      "[[6129.87115412 2004.34864631 2208.283255  ]\n",
      " [6635.87726267 1384.12475179 3671.91029324]\n",
      " [5973.37302829 1432.89780894 2804.89987263]]\n",
      "How close: np.allclose(C,C_1) = True\n"
     ]
    }
   ],
   "source": [
    "print(f\"Ab-initio multiplication: Mult(A,B) = \\n{C_1}\")\n",
    "print(f\"Numpy multiplication: np.dot(A,B) = \\n{C}\")\n",
    "print(f\"How close: np.allclose(C,C_1) = {np.allclose(C,C_1)}\")"
   ]
  },
  {
   "cell_type": "markdown",
   "id": "a96ecfbb",
   "metadata": {},
   "source": [
    "Next, import a module to time the execution time of Mult() and of np.dot().\n",
    "\n",
    "I'll use datetime.now(), whose output is a tuple (Yr, Mo, Day, Hr, min, sec, microseconds).\n",
    "\n",
    "(I will not use timeit for now)"
   ]
  },
  {
   "cell_type": "code",
   "execution_count": 46,
   "id": "86b86e16",
   "metadata": {},
   "outputs": [],
   "source": [
    "from datetime import datetime"
   ]
  },
  {
   "cell_type": "code",
   "execution_count": 60,
   "id": "790a20cd",
   "metadata": {},
   "outputs": [
    {
     "data": {
      "text/plain": [
       "datetime.datetime(2021, 6, 29, 13, 1, 20, 108385)"
      ]
     },
     "execution_count": 60,
     "metadata": {},
     "output_type": "execute_result"
    }
   ],
   "source": [
    "datetime.now()"
   ]
  },
  {
   "cell_type": "code",
   "execution_count": 70,
   "id": "537f6fc3",
   "metadata": {},
   "outputs": [
    {
     "name": "stdout",
     "output_type": "stream",
     "text": [
      "Execution time for Mult(A,B) took: 0:00:00 microsec.\n"
     ]
    }
   ],
   "source": [
    "t_0 = datetime.now()\n",
    "A = 100*np.random.rand(3,3)\n",
    "B = 100*np.random.rand(3,3)\n",
    "C_1 = Mult(A,B)\n",
    "t_1 = datetime.now()\n",
    "\n",
    "print(f\"Execution time for Mult(A,B) took: {1000000*(t_1-t_0)} microsec.\")"
   ]
  },
  {
   "cell_type": "code",
   "execution_count": 68,
   "id": "326d778a",
   "metadata": {},
   "outputs": [
    {
     "data": {
      "text/plain": [
       "datetime.datetime(2021, 6, 29, 13, 6, 48, 631165)"
      ]
     },
     "execution_count": 68,
     "metadata": {},
     "output_type": "execute_result"
    }
   ],
   "source": [
    "t_0"
   ]
  },
  {
   "cell_type": "code",
   "execution_count": 69,
   "id": "13155f29",
   "metadata": {},
   "outputs": [
    {
     "data": {
      "text/plain": [
       "datetime.datetime(2021, 6, 29, 13, 6, 48, 631165)"
      ]
     },
     "execution_count": 69,
     "metadata": {},
     "output_type": "execute_result"
    }
   ],
   "source": [
    "t_1"
   ]
  },
  {
   "cell_type": "code",
   "execution_count": 79,
   "id": "54cb9730",
   "metadata": {},
   "outputs": [
    {
     "name": "stdout",
     "output_type": "stream",
     "text": [
      "Execution of Mult(A,B) 1000000 times took: 0:00:42.959334 sec.\n",
      "Execution of np.dot(A,B) 1000000 times took: 0:00:07.651654 sec.\n",
      "np.dot() is 5.6143853342035595 faster than Mult()\n"
     ]
    }
   ],
   "source": [
    "T = 1000000\n",
    "t_0 = datetime.now()\n",
    "for i in range(T):\n",
    "    A = 100*np.random.rand(3,3)\n",
    "    B = 100*np.random.rand(3,3)\n",
    "    C_1 = Mult(A,B)\n",
    "t_1 = datetime.now()\n",
    "\n",
    "print(f\"Execution of Mult(A,B) {T} times took: {(t_1-t_0)} sec.\")\n",
    "\n",
    "s_0 = datetime.now()\n",
    "for i in range(T):\n",
    "    A = 100*np.random.rand(3,3)\n",
    "    B = 100*np.random.rand(3,3)\n",
    "    C = np.dot(A,B)\n",
    "s_1 = datetime.now()\n",
    "\n",
    "print(f\"Execution of np.dot(A,B) {T} times took: {(s_1-s_0)} sec.\")\n",
    "\n",
    "print(f\"np.dot() is {(t_1-t_0)/(s_1-s_0)} faster than Mult()\")\n"
   ]
  },
  {
   "cell_type": "code",
   "execution_count": null,
   "id": "505d35f3",
   "metadata": {},
   "outputs": [],
   "source": []
  }
 ],
 "metadata": {
  "kernelspec": {
   "display_name": "Python 3",
   "language": "python",
   "name": "python3"
  },
  "language_info": {
   "codemirror_mode": {
    "name": "ipython",
    "version": 3
   },
   "file_extension": ".py",
   "mimetype": "text/x-python",
   "name": "python",
   "nbconvert_exporter": "python",
   "pygments_lexer": "ipython3",
   "version": "3.8.8"
  }
 },
 "nbformat": 4,
 "nbformat_minor": 5
}
